{
 "cells": [
  {
   "cell_type": "code",
   "execution_count": 8,
   "metadata": {},
   "outputs": [],
   "source": [
    "import pandas as pd\n",
    "import numpy as np\n",
    "\n",
    "\n",
    "from core import constants\n",
    "from core.utils import *\n",
    "\n",
    "log = get_logger()"
   ]
  },
  {
   "cell_type": "markdown",
   "metadata": {},
   "source": [
    "## RPGF 3 Data Check and Cleanup"
   ]
  },
  {
   "cell_type": "code",
   "execution_count": 9,
   "metadata": {},
   "outputs": [],
   "source": [
    "df = pd.read_csv(\"data/dummy_data_rpgf3.csv\")"
   ]
  },
  {
   "cell_type": "code",
   "execution_count": 10,
   "metadata": {},
   "outputs": [
    {
     "data": {
      "text/html": [
       "<div>\n",
       "<style scoped>\n",
       "    .dataframe tbody tr th:only-of-type {\n",
       "        vertical-align: middle;\n",
       "    }\n",
       "\n",
       "    .dataframe tbody tr th {\n",
       "        vertical-align: top;\n",
       "    }\n",
       "\n",
       "    .dataframe thead th {\n",
       "        text-align: right;\n",
       "    }\n",
       "</style>\n",
       "<table border=\"1\" class=\"dataframe\">\n",
       "  <thead>\n",
       "    <tr style=\"text-align: right;\">\n",
       "      <th></th>\n",
       "      <th>Address</th>\n",
       "      <th>Has voted</th>\n",
       "      <th>Has published</th>\n",
       "      <th>Published at</th>\n",
       "      <th>Created at</th>\n",
       "      <th>Updated at</th>\n",
       "      <th>Projects in ballot</th>\n",
       "      <th>Votes</th>\n",
       "    </tr>\n",
       "  </thead>\n",
       "  <tbody>\n",
       "    <tr>\n",
       "      <th>0</th>\n",
       "      <td>5R3d7IeoAB</td>\n",
       "      <td>True</td>\n",
       "      <td>False</td>\n",
       "      <td>NaN</td>\n",
       "      <td>2023-11-06 10:51:07</td>\n",
       "      <td>2023-11-13 09:28:20</td>\n",
       "      <td>NaN</td>\n",
       "      <td>[]</td>\n",
       "    </tr>\n",
       "    <tr>\n",
       "      <th>1</th>\n",
       "      <td>K66AqbQbXq</td>\n",
       "      <td>False</td>\n",
       "      <td>False</td>\n",
       "      <td>NaN</td>\n",
       "      <td>2023-10-30 22:32:19</td>\n",
       "      <td>2023-11-14 00:08:19</td>\n",
       "      <td>NaN</td>\n",
       "      <td>[]</td>\n",
       "    </tr>\n",
       "    <tr>\n",
       "      <th>2</th>\n",
       "      <td>l6UWM6Bf4X</td>\n",
       "      <td>True</td>\n",
       "      <td>True</td>\n",
       "      <td>2023-11-02 18:36:08</td>\n",
       "      <td>2023-10-24 21:11:07</td>\n",
       "      <td>2023-11-08 13:11:34</td>\n",
       "      <td>240.0</td>\n",
       "      <td>[{'amount': '644777', 'projectId': 'proj274'},...</td>\n",
       "    </tr>\n",
       "    <tr>\n",
       "      <th>3</th>\n",
       "      <td>vWgy70oDLH</td>\n",
       "      <td>False</td>\n",
       "      <td>False</td>\n",
       "      <td>NaN</td>\n",
       "      <td>2023-09-05 00:10:01</td>\n",
       "      <td>2023-10-21 02:55:52</td>\n",
       "      <td>NaN</td>\n",
       "      <td>[]</td>\n",
       "    </tr>\n",
       "    <tr>\n",
       "      <th>4</th>\n",
       "      <td>JEkkCBV3nk</td>\n",
       "      <td>True</td>\n",
       "      <td>False</td>\n",
       "      <td>NaN</td>\n",
       "      <td>2023-09-19 13:30:58</td>\n",
       "      <td>2023-09-30 02:28:27</td>\n",
       "      <td>NaN</td>\n",
       "      <td>[]</td>\n",
       "    </tr>\n",
       "  </tbody>\n",
       "</table>\n",
       "</div>"
      ],
      "text/plain": [
       "      Address  Has voted  Has published         Published at  \\\n",
       "0  5R3d7IeoAB       True          False                  NaN   \n",
       "1  K66AqbQbXq      False          False                  NaN   \n",
       "2  l6UWM6Bf4X       True           True  2023-11-02 18:36:08   \n",
       "3  vWgy70oDLH      False          False                  NaN   \n",
       "4  JEkkCBV3nk       True          False                  NaN   \n",
       "\n",
       "            Created at           Updated at  Projects in ballot  \\\n",
       "0  2023-11-06 10:51:07  2023-11-13 09:28:20                 NaN   \n",
       "1  2023-10-30 22:32:19  2023-11-14 00:08:19                 NaN   \n",
       "2  2023-10-24 21:11:07  2023-11-08 13:11:34               240.0   \n",
       "3  2023-09-05 00:10:01  2023-10-21 02:55:52                 NaN   \n",
       "4  2023-09-19 13:30:58  2023-09-30 02:28:27                 NaN   \n",
       "\n",
       "                                               Votes  \n",
       "0                                                 []  \n",
       "1                                                 []  \n",
       "2  [{'amount': '644777', 'projectId': 'proj274'},...  \n",
       "3                                                 []  \n",
       "4                                                 []  "
      ]
     },
     "execution_count": 10,
     "metadata": {},
     "output_type": "execute_result"
    }
   ],
   "source": [
    "df.head()"
   ]
  },
  {
   "cell_type": "code",
   "execution_count": 11,
   "metadata": {},
   "outputs": [
    {
     "name": "stderr",
     "output_type": "stream",
     "text": [
      "2023-11-29 15:33:51 INFO | Address is unique.\n",
      "2023-11-29 15:33:51 INFO | 518 voters out of 1000 have not voted.\n"
     ]
    }
   ],
   "source": [
    "# Check if voter_address is unique\n",
    "if df[\"Address\"].nunique() == df.shape[0]:\n",
    "    log.info(\"Address is unique.\")\n",
    "else:\n",
    "    diff = df.shape[0] - df[\"Address\"].nunique()\n",
    "    log.info(f\"Address is not unique. There are {diff} duplicates.\")\n",
    "\n",
    "# Check if all voters have voted\n",
    "if df[df[\"Has voted\"] == False].shape[0] > 0:\n",
    "    not_voted = df[df[\"Has voted\"] == False].shape[0]\n",
    "    total = df[\"Address\"].nunique()\n",
    "    log.info(f\"{not_voted} voters out of {total} have not voted.\")\n",
    "else:\n",
    "    log.info(\"All voters have voted.\")"
   ]
  },
  {
   "cell_type": "code",
   "execution_count": 12,
   "metadata": {},
   "outputs": [
    {
     "ename": "TypeError",
     "evalue": "the JSON object must be str, bytes or bytearray, not list",
     "output_type": "error",
     "traceback": [
      "\u001b[0;31m---------------------------------------------------------------------------\u001b[0m",
      "\u001b[0;31mTypeError\u001b[0m                                 Traceback (most recent call last)",
      "\u001b[1;32m/Users/chuxinhuang/work/op-analytics/rpgf_calculator/rpgf3_allocator.ipynb Cell 6\u001b[0m line \u001b[0;36m<cell line: 2>\u001b[0;34m()\u001b[0m\n\u001b[1;32m      <a href='vscode-notebook-cell:/Users/chuxinhuang/work/op-analytics/rpgf_calculator/rpgf3_allocator.ipynb#W4sZmlsZQ%3D%3D?line=0'>1</a>\u001b[0m \u001b[39m# Apply the function and concatenate results\u001b[39;00m\n\u001b[0;32m----> <a href='vscode-notebook-cell:/Users/chuxinhuang/work/op-analytics/rpgf_calculator/rpgf3_allocator.ipynb#W4sZmlsZQ%3D%3D?line=1'>2</a>\u001b[0m expanded_list \u001b[39m=\u001b[39m [expand_json(safe_json_loads(row), idx) \u001b[39mfor\u001b[39;00m idx, row \u001b[39min\u001b[39;00m df[\u001b[39m\"\u001b[39m\u001b[39mVotes\u001b[39m\u001b[39m\"\u001b[39m]\u001b[39m.\u001b[39mitems()]\n\u001b[1;32m      <a href='vscode-notebook-cell:/Users/chuxinhuang/work/op-analytics/rpgf_calculator/rpgf3_allocator.ipynb#W4sZmlsZQ%3D%3D?line=2'>3</a>\u001b[0m expanded_df \u001b[39m=\u001b[39m pd\u001b[39m.\u001b[39mconcat(expanded_list, ignore_index\u001b[39m=\u001b[39m\u001b[39mTrue\u001b[39;00m)\n\u001b[1;32m      <a href='vscode-notebook-cell:/Users/chuxinhuang/work/op-analytics/rpgf_calculator/rpgf3_allocator.ipynb#W4sZmlsZQ%3D%3D?line=4'>5</a>\u001b[0m result_df \u001b[39m=\u001b[39m expanded_df\u001b[39m.\u001b[39mset_index(\u001b[39m\"\u001b[39m\u001b[39moriginal_index\u001b[39m\u001b[39m\"\u001b[39m)\u001b[39m.\u001b[39mjoin(df\u001b[39m.\u001b[39mset_index(df\u001b[39m.\u001b[39mindex))\n",
      "\u001b[1;32m/Users/chuxinhuang/work/op-analytics/rpgf_calculator/rpgf3_allocator.ipynb Cell 6\u001b[0m line \u001b[0;36m<listcomp>\u001b[0;34m(.0)\u001b[0m\n\u001b[1;32m      <a href='vscode-notebook-cell:/Users/chuxinhuang/work/op-analytics/rpgf_calculator/rpgf3_allocator.ipynb#W4sZmlsZQ%3D%3D?line=0'>1</a>\u001b[0m \u001b[39m# Apply the function and concatenate results\u001b[39;00m\n\u001b[0;32m----> <a href='vscode-notebook-cell:/Users/chuxinhuang/work/op-analytics/rpgf_calculator/rpgf3_allocator.ipynb#W4sZmlsZQ%3D%3D?line=1'>2</a>\u001b[0m expanded_list \u001b[39m=\u001b[39m [expand_json(safe_json_loads(row), idx) \u001b[39mfor\u001b[39;00m idx, row \u001b[39min\u001b[39;00m df[\u001b[39m\"\u001b[39m\u001b[39mVotes\u001b[39m\u001b[39m\"\u001b[39m]\u001b[39m.\u001b[39mitems()]\n\u001b[1;32m      <a href='vscode-notebook-cell:/Users/chuxinhuang/work/op-analytics/rpgf_calculator/rpgf3_allocator.ipynb#W4sZmlsZQ%3D%3D?line=2'>3</a>\u001b[0m expanded_df \u001b[39m=\u001b[39m pd\u001b[39m.\u001b[39mconcat(expanded_list, ignore_index\u001b[39m=\u001b[39m\u001b[39mTrue\u001b[39;00m)\n\u001b[1;32m      <a href='vscode-notebook-cell:/Users/chuxinhuang/work/op-analytics/rpgf_calculator/rpgf3_allocator.ipynb#W4sZmlsZQ%3D%3D?line=4'>5</a>\u001b[0m result_df \u001b[39m=\u001b[39m expanded_df\u001b[39m.\u001b[39mset_index(\u001b[39m\"\u001b[39m\u001b[39moriginal_index\u001b[39m\u001b[39m\"\u001b[39m)\u001b[39m.\u001b[39mjoin(df\u001b[39m.\u001b[39mset_index(df\u001b[39m.\u001b[39mindex))\n",
      "File \u001b[0;32m~/work/op-analytics/rpgf_calculator/core/utils.py:33\u001b[0m, in \u001b[0;36mexpand_json\u001b[0;34m(row, idx)\u001b[0m\n\u001b[1;32m     29\u001b[0m \u001b[39mdef\u001b[39;00m \u001b[39mexpand_json\u001b[39m(row, idx) \u001b[39m-\u001b[39m\u001b[39m>\u001b[39m List:\n\u001b[1;32m     30\u001b[0m     \u001b[39m\"\"\"\u001b[39;00m\n\u001b[1;32m     31\u001b[0m \u001b[39m    Normalize and Expand the JSON-like strings.\u001b[39;00m\n\u001b[1;32m     32\u001b[0m \u001b[39m    \"\"\"\u001b[39;00m\n\u001b[0;32m---> 33\u001b[0m     expanded \u001b[39m=\u001b[39m pd\u001b[39m.\u001b[39mjson_normalize(json\u001b[39m.\u001b[39;49mloads(row))\n\u001b[1;32m     34\u001b[0m     expanded[\u001b[39m\"\u001b[39m\u001b[39moriginal_index\u001b[39m\u001b[39m\"\u001b[39m] \u001b[39m=\u001b[39m idx\n\u001b[1;32m     36\u001b[0m     \u001b[39mreturn\u001b[39;00m expanded\n",
      "File \u001b[0;32m~/.pyenv/versions/3.10.4/lib/python3.10/json/__init__.py:339\u001b[0m, in \u001b[0;36mloads\u001b[0;34m(s, cls, object_hook, parse_float, parse_int, parse_constant, object_pairs_hook, **kw)\u001b[0m\n\u001b[1;32m    337\u001b[0m \u001b[39melse\u001b[39;00m:\n\u001b[1;32m    338\u001b[0m     \u001b[39mif\u001b[39;00m \u001b[39mnot\u001b[39;00m \u001b[39misinstance\u001b[39m(s, (\u001b[39mbytes\u001b[39m, \u001b[39mbytearray\u001b[39m)):\n\u001b[0;32m--> 339\u001b[0m         \u001b[39mraise\u001b[39;00m \u001b[39mTypeError\u001b[39;00m(\u001b[39mf\u001b[39m\u001b[39m'\u001b[39m\u001b[39mthe JSON object must be str, bytes or bytearray, \u001b[39m\u001b[39m'\u001b[39m\n\u001b[1;32m    340\u001b[0m                         \u001b[39mf\u001b[39m\u001b[39m'\u001b[39m\u001b[39mnot \u001b[39m\u001b[39m{\u001b[39;00ms\u001b[39m.\u001b[39m\u001b[39m__class__\u001b[39m\u001b[39m.\u001b[39m\u001b[39m__name__\u001b[39m\u001b[39m}\u001b[39;00m\u001b[39m'\u001b[39m)\n\u001b[1;32m    341\u001b[0m     s \u001b[39m=\u001b[39m s\u001b[39m.\u001b[39mdecode(detect_encoding(s), \u001b[39m'\u001b[39m\u001b[39msurrogatepass\u001b[39m\u001b[39m'\u001b[39m)\n\u001b[1;32m    343\u001b[0m \u001b[39mif\u001b[39;00m (\u001b[39mcls\u001b[39m \u001b[39mis\u001b[39;00m \u001b[39mNone\u001b[39;00m \u001b[39mand\u001b[39;00m object_hook \u001b[39mis\u001b[39;00m \u001b[39mNone\u001b[39;00m \u001b[39mand\u001b[39;00m\n\u001b[1;32m    344\u001b[0m         parse_int \u001b[39mis\u001b[39;00m \u001b[39mNone\u001b[39;00m \u001b[39mand\u001b[39;00m parse_float \u001b[39mis\u001b[39;00m \u001b[39mNone\u001b[39;00m \u001b[39mand\u001b[39;00m\n\u001b[1;32m    345\u001b[0m         parse_constant \u001b[39mis\u001b[39;00m \u001b[39mNone\u001b[39;00m \u001b[39mand\u001b[39;00m object_pairs_hook \u001b[39mis\u001b[39;00m \u001b[39mNone\u001b[39;00m \u001b[39mand\u001b[39;00m \u001b[39mnot\u001b[39;00m kw):\n",
      "\u001b[0;31mTypeError\u001b[0m: the JSON object must be str, bytes or bytearray, not list"
     ]
    }
   ],
   "source": [
    "# Apply the function and concatenate results\n",
    "expanded_list = [\n",
    "    expand_json(safe_json_loads(row), idx) for idx, row in df[\"Votes\"].items()\n",
    "]\n",
    "expanded_df = pd.concat(expanded_list, ignore_index=True)\n",
    "\n",
    "result_df = expanded_df.set_index(\"original_index\").join(df.set_index(df.index))"
   ]
  },
  {
   "cell_type": "code",
   "execution_count": null,
   "metadata": {},
   "outputs": [],
   "source": [
    "columns = [col for col in result_df.columns if col not in [\"amount\", \"projectId\"]]\n",
    "columns += [\"amount\", \"projectId\"]  # Add the columns to the end of the list\n",
    "result_df = result_df[columns]\n",
    "\n",
    "# Update df columns names\n",
    "result_df.columns = [\n",
    "    \"voter_address\",\n",
    "    \"has_voted\",\n",
    "    \"has_published\",\n",
    "    \"published_at\",\n",
    "    \"created_at\",\n",
    "    \"updated_at\",\n",
    "    \"projects_in_ballot\",\n",
    "    \"votes\",\n",
    "    \"amount\",\n",
    "    \"project_id\",\n",
    "]\n",
    "\n",
    "result_df.drop(columns=\"votes\", inplace=True)"
   ]
  },
  {
   "cell_type": "code",
   "execution_count": null,
   "metadata": {},
   "outputs": [],
   "source": [
    "result_df.head()"
   ]
  },
  {
   "cell_type": "markdown",
   "metadata": {},
   "source": [
    "## Calculate Voting Results"
   ]
  },
  {
   "cell_type": "code",
   "execution_count": null,
   "metadata": {},
   "outputs": [],
   "source": [
    "allocator = ProjectAllocator(\n",
    "    total_amount=constants.TOTAL_AMOUNT,\n",
    "    min_amount=constants.MIN_AMOUNT,\n",
    "    quorum=constants.QUORUM,\n",
    ")"
   ]
  },
  {
   "cell_type": "code",
   "execution_count": null,
   "metadata": {},
   "outputs": [],
   "source": [
    "# Calculate if a project meets the quorum and calculate the initial allocation based on median\n",
    "initial_allocation = allocator.calculate_initial_allocation(result_df)"
   ]
  },
  {
   "cell_type": "code",
   "execution_count": null,
   "metadata": {},
   "outputs": [],
   "source": [
    "# Scaling the total to 30M OP by project and filter out those with < 1500 OP\n",
    "allocation_iter = initial_allocation.copy()\n",
    "allocation_iter[\"scaled_amount\"] = allocation_iter[\"median_amount\"]\n",
    "\n",
    "# Set a maximum number of iterations to prevent infinite loop\n",
    "max_iterations = 10\n",
    "current_iteration = 0\n",
    "\n",
    "while (\n",
    "    allocation_iter[\"scaled_amount\"].sum() != constants.TOTAL_AMOUNT\n",
    "    and current_iteration < max_iterations\n",
    "):\n",
    "    allocation_iter = allocator.scale_allocations(allocation_iter)\n",
    "    current_iteration += 1"
   ]
  },
  {
   "cell_type": "code",
   "execution_count": null,
   "metadata": {},
   "outputs": [],
   "source": [
    "allocation_iter"
   ]
  },
  {
   "cell_type": "code",
   "execution_count": null,
   "metadata": {},
   "outputs": [],
   "source": [
    "# Check if the loop exited due to reaching max iterations\n",
    "if (\n",
    "    current_iteration == max_iterations\n",
    "    and allocation_iter[\"scaled_amount\"].sum() != constants.TOTAL_AMOUNT\n",
    "):\n",
    "    log.info(\"Maximum iterations reached without meeting the total amount condition.\")\n",
    "else:\n",
    "    final_total = allocation_iter[\"scaled_amount\"].sum()\n",
    "    log.info(\n",
    "        f\"Condition met with {final_total} OP allocated through {current_iteration} iteration(s).\"\n",
    "    )"
   ]
  },
  {
   "cell_type": "code",
   "execution_count": null,
   "metadata": {},
   "outputs": [],
   "source": [
    "# export csv\n",
    "# allocation_iter.drop(columns=\"median_amount\", inplace=True)\n",
    "allocation_iter.to_csv(\"data/rpgf3_allocation_final.csv\")\n",
    "\n",
    "log.info(f\"Results saved in data/rpgf3_allocation_final.csv.\")"
   ]
  }
 ],
 "metadata": {
  "kernelspec": {
   "display_name": "analytics-internal-nXLXwD2Z",
   "language": "python",
   "name": "python3"
  },
  "language_info": {
   "codemirror_mode": {
    "name": "ipython",
    "version": 3
   },
   "file_extension": ".py",
   "mimetype": "text/x-python",
   "name": "python",
   "nbconvert_exporter": "python",
   "pygments_lexer": "ipython3",
   "version": "3.10.4"
  }
 },
 "nbformat": 4,
 "nbformat_minor": 2
}
