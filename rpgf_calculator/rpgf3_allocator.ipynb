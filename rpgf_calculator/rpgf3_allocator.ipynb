{
 "cells": [
  {
   "cell_type": "code",
   "execution_count": null,
   "metadata": {},
   "outputs": [],
   "source": [
    "import pandas as pd\n",
    "import numpy as np\n",
    "\n",
    "\n",
    "from core import constants\n",
    "from core.utils import *\n",
    "\n",
    "log = get_logger()\n",
    "\n",
    "pd.set_option(\"display.float_format\", \"{:.2f}\".format)"
   ]
  },
  {
   "cell_type": "markdown",
   "metadata": {},
   "source": [
    "## RPGF 3 Data Check and Cleanup"
   ]
  },
  {
   "cell_type": "code",
   "execution_count": null,
   "metadata": {},
   "outputs": [],
   "source": [
    "df = pd.read_csv(\"data/dummy_data_rpgf3.csv\")"
   ]
  },
  {
   "cell_type": "code",
   "execution_count": null,
   "metadata": {},
   "outputs": [],
   "source": [
    "display(df.sample(10))"
   ]
  },
  {
   "cell_type": "code",
   "execution_count": null,
   "metadata": {},
   "outputs": [],
   "source": [
    "log.info(\"Check - Num Ballots: \" + str(df[\"Has published\"].count()))\n",
    "log.info(\"Check - Num Submissions (Published): \" + str(df[\"Has published\"].sum()))\n",
    "\n",
    "# Check if voter_address is unique\n",
    "if df[\"Address\"].nunique() == df.shape[0]:\n",
    "    log.info(\"Check - Address is unique.\")\n",
    "else:\n",
    "    diff = df.shape[0] - df[\"Address\"].nunique()\n",
    "    log.info(f\"Check - Address is not unique. There are {diff} duplicates.\")\n",
    "\n",
    "# Check if all voters have voted\n",
    "if df[df[\"Has voted\"] == False].shape[0] > 0:\n",
    "    not_voted = df[df[\"Has voted\"] == False].shape[0]\n",
    "    total = df[\"Address\"].nunique()\n",
    "    log.info(f\"Check - {not_voted} voters out of {total} have not voted.\")\n",
    "else:\n",
    "    log.info(\"Check - All voters have voted.\")\n",
    "\n",
    "# Check if all voters have published\n",
    "if df[df[\"Has published\"] == False].shape[0] > 0:\n",
    "    not_voted = df[df[\"Has published\"] == False].shape[0]\n",
    "    total = df[\"Address\"].nunique()\n",
    "    log.info(f\"Check - {not_voted} voters out of {total} have not published.\")\n",
    "else:\n",
    "    log.info(\"Check - All voters have published.\")"
   ]
  },
  {
   "cell_type": "code",
   "execution_count": null,
   "metadata": {},
   "outputs": [],
   "source": [
    "# Apply the function and concatenate results\n",
    "expanded_list = [\n",
    "    expand_json(safe_json_loads(row), idx) for idx, row in df[\"Votes\"].items()\n",
    "]\n",
    "expanded_df = pd.concat(expanded_list, ignore_index=True)\n",
    "\n",
    "result_df = expanded_df.set_index(\"original_index\").join(df.set_index(df.index))"
   ]
  },
  {
   "cell_type": "code",
   "execution_count": null,
   "metadata": {},
   "outputs": [],
   "source": [
    "testing_address = \"zgdSu8Yr87\"\n",
    "print_df = result_df[result_df[\"Address\"] == testing_address]\n",
    "print(\"Num Projects Voted : \" + str(print_df[\"projectId\"].count()))\n",
    "display(print_df.head(10))"
   ]
  },
  {
   "cell_type": "code",
   "execution_count": null,
   "metadata": {},
   "outputs": [],
   "source": [
    "columns = [col for col in result_df.columns if col not in [\"amount\", \"projectId\"]]\n",
    "columns += [\"amount\", \"projectId\"]  # Add the columns to the end of the list\n",
    "result_df = result_df[columns]\n",
    "\n",
    "# Update df columns names\n",
    "result_df.columns = [\n",
    "    \"voter_address\",\n",
    "    \"has_voted\",\n",
    "    \"has_published\",\n",
    "    \"published_at\",\n",
    "    \"created_at\",\n",
    "    \"updated_at\",\n",
    "    \"projects_in_ballot\",\n",
    "    \"votes\",\n",
    "    \"amount\",\n",
    "    \"project_id\",\n",
    "]\n",
    "\n",
    "result_df.drop(columns=\"votes\", inplace=True)"
   ]
  },
  {
   "cell_type": "code",
   "execution_count": null,
   "metadata": {},
   "outputs": [],
   "source": [
    "# result_df.head()\n",
    "result_df[result_df[\"voter_address\"] == testing_address].head(70)"
   ]
  },
  {
   "cell_type": "markdown",
   "metadata": {},
   "source": [
    "## Calculate Voting Results"
   ]
  },
  {
   "cell_type": "code",
   "execution_count": null,
   "metadata": {},
   "outputs": [],
   "source": [
    "allocator = ProjectAllocator(\n",
    "    total_amount=constants.TOTAL_AMOUNT,\n",
    "    min_amount=constants.MIN_AMOUNT,\n",
    "    quorum=constants.QUORUM,\n",
    ")"
   ]
  },
  {
   "cell_type": "code",
   "execution_count": null,
   "metadata": {},
   "outputs": [],
   "source": [
    "initial_allocation = allocator.calculate_initial_allocation(result_df)"
   ]
  },
  {
   "cell_type": "code",
   "execution_count": null,
   "metadata": {},
   "outputs": [],
   "source": [
    "display(initial_allocation.sample(10))"
   ]
  },
  {
   "cell_type": "code",
   "execution_count": null,
   "metadata": {},
   "outputs": [],
   "source": [
    "# Scaling the total to 30M OP by project and filter out those with < 1500 OP\n",
    "allocation_iter = initial_allocation[initial_allocation[\"is_eligible\"] == True].copy()\n",
    "allocation_iter[\"scaled_amount\"] = allocation_iter[\"median_amount\"]\n",
    "# display(allocation_iter)\n",
    "# Set a maximum number of iterations to prevent infinite loop\n",
    "max_iterations = 10\n",
    "current_iteration = 0\n",
    "\n",
    "while (\n",
    "    allocation_iter[\"scaled_amount\"].sum() != constants.TOTAL_AMOUNT\n",
    "    and current_iteration < max_iterations\n",
    "):\n",
    "    allocation_iter = allocator.scale_allocations_oneby(allocation_iter)\n",
    "    current_iteration += 1\n",
    "    log.info(\"Check - Current iteration: \" + str(current_iteration))"
   ]
  },
  {
   "cell_type": "code",
   "execution_count": null,
   "metadata": {},
   "outputs": [],
   "source": [
    "# Check if the loop exited due to reaching max iterations\n",
    "if (\n",
    "    current_iteration == max_iterations\n",
    "    and allocation_iter[\"scaled_amount\"].sum() != constants.TOTAL_AMOUNT\n",
    "):\n",
    "    log.info(\"Maximum iterations reached without meeting the total amount condition.\")\n",
    "else:\n",
    "    final_total = allocation_iter[\"scaled_amount\"].sum()\n",
    "    log.info(\n",
    "        f\"Condition met with {final_total} OP allocated through {current_iteration} iteration(s).\"\n",
    "    )"
   ]
  },
  {
   "cell_type": "code",
   "execution_count": null,
   "metadata": {},
   "outputs": [],
   "source": [
    "# join the initial allocation with the final allocation, if scaled_amount is null then make it 0\n",
    "final_allocation = initial_allocation.merge(\n",
    "    allocation_iter[\"scaled_amount\"],\n",
    "    how=\"left\",\n",
    "    on=\"project_id\",\n",
    ").fillna({\"scaled_amount\": 0})\n",
    "\n",
    "# check if the final allocation table still contains all projects.\n",
    "if final_allocation.index.nunique() == result_df[\"project_id\"].nunique():\n",
    "    log.info(\"Check - Final allocation table has included all the projects.\")\n",
    "else:\n",
    "    log.info(\n",
    "        \"Check - Final allocation table has missing projects. Printing out the missing projects below.\"\n",
    "    )\n",
    "    log.info(\n",
    "        result_df[~result_df[\"project_id\"].isin(final_allocation.index)][\"project_id\"]\n",
    "    )\n",
    "\n",
    "# check if the final allocation table still sums to the total amount.\n",
    "if final_allocation[\"scaled_amount\"].sum() == final_total:\n",
    "    log.info(\n",
    "        \"Check - Final allocation table sums to the right amount of OP: \"\n",
    "        + str(final_total)\n",
    "    )\n",
    "else:\n",
    "    log.info(\n",
    "        \"Check - Final allocation table does not sum to the total OP. Printing out the missing amount below.\"\n",
    "    )\n",
    "    log.info(str(final_total - final_allocation[\"scaled_amount\"].sum()) + \" OP\")"
   ]
  },
  {
   "cell_type": "code",
   "execution_count": null,
   "metadata": {},
   "outputs": [],
   "source": [
    "# export csv\n",
    "# allocation_iter.drop(columns=\"median_amount\", inplace=True)\n",
    "final_allocation.to_csv(\"data/rpgf3_allocation_final.csv\")\n",
    "\n",
    "log.info(f\"Results saved in data/rpgf3_allocation_final.csv.\")"
   ]
  }
 ],
 "metadata": {
  "kernelspec": {
   "display_name": "analytics-internal-nXLXwD2Z",
   "language": "python",
   "name": "python3"
  },
  "language_info": {
   "codemirror_mode": {
    "name": "ipython",
    "version": 3
   },
   "file_extension": ".py",
   "mimetype": "text/x-python",
   "name": "python",
   "nbconvert_exporter": "python",
   "pygments_lexer": "ipython3",
   "version": "3.10.4"
  }
 },
 "nbformat": 4,
 "nbformat_minor": 2
}
