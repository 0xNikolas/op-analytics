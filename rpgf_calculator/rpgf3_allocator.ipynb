{
 "cells": [
  {
   "cell_type": "code",
   "execution_count": null,
   "metadata": {},
   "outputs": [],
   "source": [
    "import pandas as pd\n",
    "import numpy as np\n",
    "\n",
    "\n",
    "from core import constants\n",
    "from core.utils import *\n",
    "\n",
    "log = get_logger()\n",
    "\n",
    "pd.set_option(\"display.float_format\", \"{:.2f}\".format)"
   ]
  },
  {
   "cell_type": "markdown",
   "metadata": {},
   "source": [
    "## RPGF 3 Data Check and Cleanup"
   ]
  },
  {
   "cell_type": "code",
   "execution_count": null,
   "metadata": {},
   "outputs": [],
   "source": [
    "df = pd.read_csv(\"data/dummy_data_rpgf3.csv\")"
   ]
  },
  {
   "cell_type": "code",
   "execution_count": null,
   "metadata": {},
   "outputs": [],
   "source": [
    "display(df.sample(10))"
   ]
  },
  {
   "cell_type": "code",
   "execution_count": null,
   "metadata": {},
   "outputs": [],
   "source": [
    "log.info(\"Check - Num Ballots: \" + str(df[\"Has published\"].count()))\n",
    "log.info(\"Check - Num Submissions (Published): \" + str(df[\"Has published\"].sum()))\n",
    "\n",
    "# Check if voter_address is unique\n",
    "if df[\"Address\"].nunique() == df.shape[0]:\n",
    "    log.info(\"Check - Address is unique.\")\n",
    "else:\n",
    "    diff = df.shape[0] - df[\"Address\"].nunique()\n",
    "    log.info(f\"Check - Address is not unique. There are {diff} duplicates.\")\n",
    "\n",
    "# Check if all voters have voted\n",
    "if df[df[\"Has voted\"] == False].shape[0] > 0:\n",
    "    not_voted = df[df[\"Has voted\"] == False].shape[0]\n",
    "    total = df[\"Address\"].nunique()\n",
    "    log.info(f\"Check - {not_voted} voters out of {total} have not voted.\")\n",
    "else:\n",
    "    log.info(\"Check - All voters have voted.\")\n",
    "\n",
    "# Check if all voters have published\n",
    "if df[df[\"Has published\"] == False].shape[0] > 0:\n",
    "    not_voted = df[df[\"Has published\"] == False].shape[0]\n",
    "    total = df[\"Address\"].nunique()\n",
    "    log.info(f\"Check - {not_voted} voters out of {total} have not published.\")\n",
    "else:\n",
    "    log.info(\"Check - All voters have published.\")"
   ]
  },
  {
   "cell_type": "code",
   "execution_count": null,
   "metadata": {},
   "outputs": [],
   "source": [
    "# Apply the function and concatenate results\n",
    "expanded_list = [\n",
    "    expand_json(safe_json_loads(row), idx) for idx, row in df[\"Votes\"].items()\n",
    "]\n",
    "expanded_df = pd.concat(expanded_list, ignore_index=True)\n",
    "\n",
    "result_df = expanded_df.set_index(\"original_index\").join(df.set_index(df.index))"
   ]
  },
  {
   "cell_type": "code",
   "execution_count": null,
   "metadata": {},
   "outputs": [],
   "source": [
    "testing_address = \"zgdSu8Yr87\"\n",
    "print_df = result_df[result_df[\"Address\"] == testing_address]\n",
    "print(\"Num Projects Voted : \" + str(print_df[\"projectId\"].count()))\n",
    "display(print_df.head(10))"
   ]
  },
  {
   "cell_type": "code",
   "execution_count": null,
   "metadata": {},
   "outputs": [],
   "source": [
    "columns = [col for col in result_df.columns if col not in [\"amount\", \"projectId\"]]\n",
    "columns += [\"amount\", \"projectId\"]  # Add the columns to the end of the list\n",
    "result_df = result_df[columns]\n",
    "\n",
    "# Update df columns names\n",
    "result_df.columns = [\n",
    "    \"voter_address\",\n",
    "    \"has_voted\",\n",
    "    \"has_published\",\n",
    "    \"published_at\",\n",
    "    \"created_at\",\n",
    "    \"updated_at\",\n",
    "    \"projects_in_ballot\",\n",
    "    \"votes\",\n",
    "    \"amount\",\n",
    "    \"project_id\",\n",
    "]\n",
    "\n",
    "result_df.drop(columns=\"votes\", inplace=True)"
   ]
  },
  {
   "cell_type": "code",
   "execution_count": null,
   "metadata": {},
   "outputs": [],
   "source": [
    "# result_df.head()\n",
    "result_df[result_df[\"voter_address\"] == testing_address].head(70)"
   ]
  },
  {
   "cell_type": "markdown",
   "metadata": {},
   "source": [
    "## Calculate Voting Results"
   ]
  },
  {
   "cell_type": "code",
   "execution_count": null,
   "metadata": {},
   "outputs": [],
   "source": [
    "allocator = ProjectAllocator(\n",
    "    total_amount=constants.TOTAL_AMOUNT,\n",
    "    min_amount=constants.MIN_AMOUNT,\n",
    "    quorum=constants.QUORUM,\n",
    ")"
   ]
  },
  {
   "cell_type": "code",
   "execution_count": null,
   "metadata": {},
   "outputs": [],
   "source": [
    "initial_allocation = allocator.calculate_initial_allocation(result_df)"
   ]
  },
  {
   "cell_type": "code",
   "execution_count": null,
   "metadata": {},
   "outputs": [],
   "source": [
    "display(initial_allocation.sample(10))"
   ]
  },
  {
   "cell_type": "code",
   "execution_count": null,
   "metadata": {},
   "outputs": [],
   "source": [
    "# Scaling the total to 30M OP by project and filter out those with < 1500 OP\n",
    "allocation_iter = initial_allocation[initial_allocation[\"is_eligible\"] == True].copy()\n",
    "allocation_iter[\"scaled_amount\"] = allocation_iter[\"median_amount\"]\n",
    "# display(allocation_iter)\n",
    "# Set a maximum number of iterations to prevent infinite loop\n",
    "max_iterations = 10\n",
    "current_iteration = 0\n",
    "\n",
    "while (\n",
    "    allocation_iter[\"scaled_amount\"].sum() != constants.TOTAL_AMOUNT\n",
    "    and current_iteration <= max_iterations\n",
    "):\n",
    "    allocation_iter = allocator.scale_allocations_oneby(allocation_iter)\n",
    "    current_iteration += 1\n",
    "\n",
    "    log.info(\"Check - Current iteration: \" + str(current_iteration))"
   ]
  },
  {
   "cell_type": "code",
   "execution_count": null,
   "metadata": {},
   "outputs": [],
   "source": [
    "# Check if the loop exited due to reaching max iterations\n",
    "if (\n",
    "    current_iteration == max_iterations\n",
    "    and allocation_iter[\"scaled_amount\"].sum() != constants.TOTAL_AMOUNT\n",
    "):\n",
    "    log.info(\"Maximum iterations reached without meeting the total amount condition.\")\n",
    "else:\n",
    "    final_total = allocation_iter[\"scaled_amount\"].sum()\n",
    "    log.info(\n",
    "        f\"Condition met with {final_total} OP allocated through {current_iteration} iteration(s).\"\n",
    "    )"
   ]
  },
  {
   "cell_type": "code",
   "execution_count": null,
   "metadata": {},
   "outputs": [],
   "source": [
    "# join the initial allocation with the final allocation, if scaled_amount is null then make it 0\n",
    "final_allocation = initial_allocation.merge(\n",
    "    allocation_iter[\"scaled_amount\"],\n",
    "    how=\"left\",\n",
    "    on=\"project_id\",\n",
    ").fillna({\"scaled_amount\": 0})\n",
    "\n",
    "# check if the final allocation table still contains all projects.\n",
    "if final_allocation.index.nunique() == result_df[\"project_id\"].nunique():\n",
    "    log.info(\"Check - Final allocation table has included all the projects.\")\n",
    "else:\n",
    "    log.info(\n",
    "        \"Check - Final allocation table has missing projects. Printing out the missing projects below.\"\n",
    "    )\n",
    "    log.info(\n",
    "        result_df[~result_df[\"project_id\"].isin(final_allocation.index)][\"project_id\"]\n",
    "    )\n",
    "\n",
    "# check if the final allocation table still sums to the total amount.\n",
    "if final_allocation[\"scaled_amount\"].sum() == final_total:\n",
    "    log.info(\n",
    "        \"Check - Final allocation table sums to the right amount of OP: \"\n",
    "        + str(final_total)\n",
    "    )\n",
    "else:\n",
    "    log.info(\n",
    "        \"Check - Final allocation table does not sum to the total OP. Printing out the missing amount below.\"\n",
    "    )\n",
    "    log.info(str(final_total - final_allocation[\"scaled_amount\"].sum()) + \" OP\")"
   ]
  },
  {
   "cell_type": "code",
   "execution_count": null,
   "metadata": {},
   "outputs": [],
   "source": [
    "# export csv\n",
    "# allocation_iter.drop(columns=\"median_amount\", inplace=True)\n",
    "final_allocation.to_csv(\"data/rpgf3_allocation_final.csv\")\n",
    "\n",
    "log.info(f\"Results saved in data/rpgf3_allocation_final.csv.\")"
   ]
  },
  {
   "cell_type": "code",
   "execution_count": 17,
   "metadata": {},
   "outputs": [
    {
     "data": {
      "text/html": [
       "<div>\n",
       "<style scoped>\n",
       "    .dataframe tbody tr th:only-of-type {\n",
       "        vertical-align: middle;\n",
       "    }\n",
       "\n",
       "    .dataframe tbody tr th {\n",
       "        vertical-align: top;\n",
       "    }\n",
       "\n",
       "    .dataframe thead th {\n",
       "        text-align: right;\n",
       "    }\n",
       "</style>\n",
       "<table border=\"1\" class=\"dataframe\">\n",
       "  <thead>\n",
       "    <tr style=\"text-align: right;\">\n",
       "      <th></th>\n",
       "      <th>votes_count</th>\n",
       "      <th>median_amount</th>\n",
       "      <th>is_eligible</th>\n",
       "      <th>scaled_amount</th>\n",
       "    </tr>\n",
       "    <tr>\n",
       "      <th>project_id</th>\n",
       "      <th></th>\n",
       "      <th></th>\n",
       "      <th></th>\n",
       "      <th></th>\n",
       "    </tr>\n",
       "  </thead>\n",
       "  <tbody>\n",
       "    <tr>\n",
       "      <th>proj209</th>\n",
       "      <td>17</td>\n",
       "      <td>740031.00</td>\n",
       "      <td>True</td>\n",
       "      <td>1801615.98</td>\n",
       "    </tr>\n",
       "    <tr>\n",
       "      <th>proj470</th>\n",
       "      <td>19</td>\n",
       "      <td>700254.00</td>\n",
       "      <td>True</td>\n",
       "      <td>1704778.31</td>\n",
       "    </tr>\n",
       "    <tr>\n",
       "      <th>proj174</th>\n",
       "      <td>18</td>\n",
       "      <td>676475.00</td>\n",
       "      <td>True</td>\n",
       "      <td>1646888.00</td>\n",
       "    </tr>\n",
       "    <tr>\n",
       "      <th>proj489</th>\n",
       "      <td>18</td>\n",
       "      <td>643856.00</td>\n",
       "      <td>True</td>\n",
       "      <td>1567476.58</td>\n",
       "    </tr>\n",
       "    <tr>\n",
       "      <th>proj71</th>\n",
       "      <td>19</td>\n",
       "      <td>611754.00</td>\n",
       "      <td>True</td>\n",
       "      <td>1489323.80</td>\n",
       "    </tr>\n",
       "    <tr>\n",
       "      <th>proj167</th>\n",
       "      <td>19</td>\n",
       "      <td>596673.00</td>\n",
       "      <td>True</td>\n",
       "      <td>1452608.89</td>\n",
       "    </tr>\n",
       "    <tr>\n",
       "      <th>proj499</th>\n",
       "      <td>19</td>\n",
       "      <td>574170.00</td>\n",
       "      <td>True</td>\n",
       "      <td>1397825.02</td>\n",
       "    </tr>\n",
       "    <tr>\n",
       "      <th>proj275</th>\n",
       "      <td>18</td>\n",
       "      <td>556839.00</td>\n",
       "      <td>True</td>\n",
       "      <td>1355632.46</td>\n",
       "    </tr>\n",
       "    <tr>\n",
       "      <th>proj484</th>\n",
       "      <td>20</td>\n",
       "      <td>549777.00</td>\n",
       "      <td>True</td>\n",
       "      <td>1338439.92</td>\n",
       "    </tr>\n",
       "    <tr>\n",
       "      <th>proj109</th>\n",
       "      <td>17</td>\n",
       "      <td>539214.00</td>\n",
       "      <td>True</td>\n",
       "      <td>1312724.14</td>\n",
       "    </tr>\n",
       "  </tbody>\n",
       "</table>\n",
       "</div>"
      ],
      "text/plain": [
       "            votes_count  median_amount  is_eligible  scaled_amount\n",
       "project_id                                                        \n",
       "proj209              17      740031.00         True     1801615.98\n",
       "proj470              19      700254.00         True     1704778.31\n",
       "proj174              18      676475.00         True     1646888.00\n",
       "proj489              18      643856.00         True     1567476.58\n",
       "proj71               19      611754.00         True     1489323.80\n",
       "proj167              19      596673.00         True     1452608.89\n",
       "proj499              19      574170.00         True     1397825.02\n",
       "proj275              18      556839.00         True     1355632.46\n",
       "proj484              20      549777.00         True     1338439.92\n",
       "proj109              17      539214.00         True     1312724.14"
      ]
     },
     "execution_count": 17,
     "metadata": {},
     "output_type": "execute_result"
    }
   ],
   "source": [
    ".head(10)"
   ]
  },
  {
   "cell_type": "code",
   "execution_count": 18,
   "metadata": {},
   "outputs": [],
   "source": [
    "to_cut = (\n",
    "    allocation_iter[allocation_iter[\"scaled_amount\"] < 1500]\n",
    "    .sort_values(by=\"scaled_amount\")\n",
    "    .head(1)\n",
    ")"
   ]
  },
  {
   "cell_type": "code",
   "execution_count": 21,
   "metadata": {},
   "outputs": [
    {
     "data": {
      "text/plain": [
       "True"
      ]
     },
     "execution_count": 21,
     "metadata": {},
     "output_type": "execute_result"
    }
   ],
   "source": [
    "# check if to_cut is empty\n",
    "to_cut.empty"
   ]
  },
  {
   "cell_type": "code",
   "execution_count": null,
   "metadata": {},
   "outputs": [],
   "source": []
  }
 ],
 "metadata": {
  "kernelspec": {
   "display_name": "analytics-internal-nXLXwD2Z",
   "language": "python",
   "name": "python3"
  },
  "language_info": {
   "codemirror_mode": {
    "name": "ipython",
    "version": 3
   },
   "file_extension": ".py",
   "mimetype": "text/x-python",
   "name": "python",
   "nbconvert_exporter": "python",
   "pygments_lexer": "ipython3",
   "version": "3.10.4"
  }
 },
 "nbformat": 4,
 "nbformat_minor": 2
}
