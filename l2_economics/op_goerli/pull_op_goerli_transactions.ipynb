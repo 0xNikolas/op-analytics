{
 "cells": [
  {
   "cell_type": "code",
   "execution_count": 2,
   "metadata": {},
   "outputs": [],
   "source": [
    "import sys\n",
    "sys.path.append(\"../../helper_functions\")\n",
    "import ethereumetl_utils as eetl\n",
    "import web3py_utils as wpy\n",
    "import pandas_utils as pu\n",
    "sys.path.pop()\n",
    "\n",
    "import pandas as pd\n",
    "from dotenv import load_dotenv\n",
    "import requests\n",
    "import datetime\n",
    "load_dotenv()\n",
    "import os"
   ]
  },
  {
   "cell_type": "code",
   "execution_count": 3,
   "metadata": {},
   "outputs": [],
   "source": [
    "configs = [\n",
    "        # ['base_goerli',os.environ.get('BASE_GOERLI_NODE')]\n",
    "        ['op_goerli',os.environ.get('OP_GOERLI_TEAM_NODE')]\n",
    "]\n",
    "\n",
    "max_workers = 8\n",
    "start_timestamp = pu.convert_text_timestamp_to_int('2023-05-19 00:00:00')\n",
    "end_timestamp = pu.convert_text_timestamp_to_int('2023-05-20 00:00:00')"
   ]
  },
  {
   "cell_type": "code",
   "execution_count": 3,
   "metadata": {},
   "outputs": [
    {
     "name": "stdout",
     "output_type": "stream",
     "text": [
      "9520366\n",
      "9541803\n",
      "ethereumetl export_blocks_and_transactions --start-block 9520366 --end-block 9541803 --blocks-output downloads/op_goerli/blocks.csv --transactions-output downloads/op_goerli/transactions.csv --provider-uri https://goerli-replica-0.optimism.io/ --max-workers 8\n"
     ]
    },
    {
     "name": "stderr",
     "output_type": "stream",
     "text": [
      "2023-05-19 11:54:35,223 - ProgressLogger [INFO] - Started work. Items to process: 21438.\n",
      "2023-05-19 11:54:37,339 - ProgressLogger [INFO] - 2200 items processed. Progress is 10%.\n",
      "2023-05-19 11:54:38,145 - ProgressLogger [INFO] - 4300 items processed. Progress is 20%.\n",
      "2023-05-19 11:54:39,269 - ProgressLogger [INFO] - 6500 items processed. Progress is 30%.\n",
      "2023-05-19 11:54:40,110 - ProgressLogger [INFO] - 8600 items processed. Progress is 40%.\n",
      "2023-05-19 11:54:41,032 - ProgressLogger [INFO] - 10800 items processed. Progress is 50%.\n",
      "2023-05-19 11:54:41,809 - ProgressLogger [INFO] - 12900 items processed. Progress is 60%.\n",
      "2023-05-19 11:54:42,509 - ProgressLogger [INFO] - 15100 items processed. Progress is 70%.\n",
      "2023-05-19 11:54:43,376 - ProgressLogger [INFO] - 17200 items processed. Progress is 80%.\n",
      "2023-05-19 11:54:44,095 - ProgressLogger [INFO] - 19300 items processed. Progress is 90%.\n",
      "2023-05-19 11:54:44,959 - ProgressLogger [INFO] - 21438 items processed. Progress is 100%.\n",
      "2023-05-19 11:54:44,960 - ProgressLogger [INFO] - Finished work. Total items processed: 21438. Took 0:00:09.736564.\n",
      "2023-05-19 11:54:44,960 - CompositeItemExporter [INFO] - block items exported: 21438\n",
      "2023-05-19 11:54:44,960 - CompositeItemExporter [INFO] - transaction items exported: 35904\n"
     ]
    }
   ],
   "source": [
    "# Get Transactions\n",
    "for i in configs:\n",
    "\n",
    "    folder = i[0]\n",
    "    uri = i[1]\n",
    "#     block_arr = wpy.get_blockrange_by_timedelta(i[1],trailing_hours,'hours')\n",
    "    st_bl = wpy.getBlockByTimestamp(i[1],start_timestamp)# block_arr[0]\n",
    "    en_bl = wpy.getBlockByTimestamp(i[1],end_timestamp) # block_arr[1]\n",
    "    print(st_bl)\n",
    "    print(en_bl)\n",
    "    eetl.get_ethereum_etl(st_bl,en_bl,folder,uri, max_workers)"
   ]
  },
  {
   "cell_type": "code",
   "execution_count": 4,
   "metadata": {},
   "outputs": [
    {
     "name": "stdout",
     "output_type": "stream",
     "text": [
      "ethereumetl extract_csv_column --input downloads/op_goerli/transactions.csv --column hash --output downloads/op_goerli/transaction_hashes.txt\n",
      "ethereumetl export_receipts_and_logs --transaction-hashes downloads/op_goerli/transaction_hashes.txt --provider-uri https://goerli-replica-0.optimism.io/ --receipts-output downloads/op_goerli/receipts.csv\n"
     ]
    },
    {
     "name": "stderr",
     "output_type": "stream",
     "text": [
      "2023-05-19 11:56:46,972 - ProgressLogger [INFO] - Started work.\n",
      "2023-05-19 11:56:50,515 - ProgressLogger [INFO] - 5000 items processed.\n",
      "2023-05-19 11:56:53,085 - ProgressLogger [INFO] - 10000 items processed.\n",
      "2023-05-19 11:56:55,556 - ProgressLogger [INFO] - 15000 items processed.\n",
      "2023-05-19 11:56:58,109 - ProgressLogger [INFO] - 20000 items processed.\n",
      "2023-05-19 11:57:00,778 - ProgressLogger [INFO] - 25000 items processed.\n",
      "2023-05-19 11:57:03,311 - ProgressLogger [INFO] - 30000 items processed.\n",
      "2023-05-19 11:57:05,862 - ProgressLogger [INFO] - 35000 items processed.\n",
      "2023-05-19 11:57:06,331 - ProgressLogger [INFO] - Finished work. Total items processed: 35904. Took 0:00:19.358697.\n",
      "2023-05-19 11:57:06,331 - CompositeItemExporter [INFO] - receipt items exported: 35904\n",
      "2023-05-19 11:57:06,332 - CompositeItemExporter [INFO] - log items exported: 0\n"
     ]
    }
   ],
   "source": [
    "# Get Receipts\n",
    "for i in configs:\n",
    "    folder = i[0]\n",
    "    uri = i[1]\n",
    "    eetl.get_eth_etl_receipts(folder, uri)"
   ]
  },
  {
   "attachments": {},
   "cell_type": "markdown",
   "metadata": {},
   "source": [
    "### Process Results"
   ]
  },
  {
   "cell_type": "code",
   "execution_count": 5,
   "metadata": {},
   "outputs": [
    {
     "ename": "KeyError",
     "evalue": "'l1_fee'",
     "output_type": "error",
     "traceback": [
      "\u001b[0;31m---------------------------------------------------------------------------\u001b[0m",
      "\u001b[0;31mKeyError\u001b[0m                                  Traceback (most recent call last)",
      "\u001b[0;32m~/opt/anaconda3/envs/ethereum-etl/lib/python3.9/site-packages/pandas/core/indexes/base.py\u001b[0m in \u001b[0;36mget_loc\u001b[0;34m(self, key, method, tolerance)\u001b[0m\n\u001b[1;32m   3620\u001b[0m             \u001b[0;32mtry\u001b[0m\u001b[0;34m:\u001b[0m\u001b[0;34m\u001b[0m\u001b[0;34m\u001b[0m\u001b[0m\n\u001b[0;32m-> 3621\u001b[0;31m                 \u001b[0;32mreturn\u001b[0m \u001b[0mself\u001b[0m\u001b[0;34m.\u001b[0m\u001b[0m_engine\u001b[0m\u001b[0;34m.\u001b[0m\u001b[0mget_loc\u001b[0m\u001b[0;34m(\u001b[0m\u001b[0mcasted_key\u001b[0m\u001b[0;34m)\u001b[0m\u001b[0;34m\u001b[0m\u001b[0;34m\u001b[0m\u001b[0m\n\u001b[0m\u001b[1;32m   3622\u001b[0m             \u001b[0;32mexcept\u001b[0m \u001b[0mKeyError\u001b[0m \u001b[0;32mas\u001b[0m \u001b[0merr\u001b[0m\u001b[0;34m:\u001b[0m\u001b[0;34m\u001b[0m\u001b[0;34m\u001b[0m\u001b[0m\n",
      "\u001b[0;32m~/opt/anaconda3/envs/ethereum-etl/lib/python3.9/site-packages/pandas/_libs/index.pyx\u001b[0m in \u001b[0;36mpandas._libs.index.IndexEngine.get_loc\u001b[0;34m()\u001b[0m\n",
      "\u001b[0;32m~/opt/anaconda3/envs/ethereum-etl/lib/python3.9/site-packages/pandas/_libs/index.pyx\u001b[0m in \u001b[0;36mpandas._libs.index.IndexEngine.get_loc\u001b[0;34m()\u001b[0m\n",
      "\u001b[0;32mpandas/_libs/hashtable_class_helper.pxi\u001b[0m in \u001b[0;36mpandas._libs.hashtable.PyObjectHashTable.get_item\u001b[0;34m()\u001b[0m\n",
      "\u001b[0;32mpandas/_libs/hashtable_class_helper.pxi\u001b[0m in \u001b[0;36mpandas._libs.hashtable.PyObjectHashTable.get_item\u001b[0;34m()\u001b[0m\n",
      "\u001b[0;31mKeyError\u001b[0m: 'l1_fee'",
      "\nThe above exception was the direct cause of the following exception:\n",
      "\u001b[0;31mKeyError\u001b[0m                                  Traceback (most recent call last)",
      "\u001b[0;32m/var/folders/by/kltjc8yd0yz_7_wrtrzhrm9m0000gn/T/ipykernel_33836/1760481599.py\u001b[0m in \u001b[0;36m<module>\u001b[0;34m\u001b[0m\n\u001b[1;32m      8\u001b[0m \u001b[0mdf\u001b[0m \u001b[0;34m=\u001b[0m \u001b[0mdf\u001b[0m\u001b[0;34m[\u001b[0m\u001b[0mdf\u001b[0m\u001b[0;34m[\u001b[0m\u001b[0;34m'transaction_type'\u001b[0m\u001b[0;34m]\u001b[0m \u001b[0;34m!=\u001b[0m \u001b[0;36m126\u001b[0m\u001b[0;34m]\u001b[0m\u001b[0;34m\u001b[0m\u001b[0;34m\u001b[0m\u001b[0m\n\u001b[1;32m      9\u001b[0m \u001b[0mdf\u001b[0m\u001b[0;34m[\u001b[0m\u001b[0;34m'all_calldata_gas'\u001b[0m\u001b[0;34m]\u001b[0m \u001b[0;34m=\u001b[0m \u001b[0mdf\u001b[0m\u001b[0;34m[\u001b[0m\u001b[0;34m'l1_gas_used'\u001b[0m\u001b[0;34m]\u001b[0m\u001b[0;34m\u001b[0m\u001b[0;34m\u001b[0m\u001b[0m\n\u001b[0;32m---> 10\u001b[0;31m \u001b[0mdf\u001b[0m\u001b[0;34m[\u001b[0m\u001b[0;34m'effective_l1_gas_used'\u001b[0m\u001b[0;34m]\u001b[0m \u001b[0;34m=\u001b[0m \u001b[0mdf\u001b[0m\u001b[0;34m[\u001b[0m\u001b[0;34m'l1_fee'\u001b[0m\u001b[0;34m]\u001b[0m \u001b[0;34m/\u001b[0m \u001b[0mdf\u001b[0m\u001b[0;34m[\u001b[0m\u001b[0;34m'l1_gas_price'\u001b[0m\u001b[0;34m]\u001b[0m\u001b[0;34m\u001b[0m\u001b[0;34m\u001b[0m\u001b[0m\n\u001b[0m\u001b[1;32m     11\u001b[0m \u001b[0mdisplay\u001b[0m\u001b[0;34m(\u001b[0m\u001b[0mdf\u001b[0m\u001b[0;34m)\u001b[0m\u001b[0;34m\u001b[0m\u001b[0;34m\u001b[0m\u001b[0m\n",
      "\u001b[0;32m~/opt/anaconda3/envs/ethereum-etl/lib/python3.9/site-packages/pandas/core/frame.py\u001b[0m in \u001b[0;36m__getitem__\u001b[0;34m(self, key)\u001b[0m\n\u001b[1;32m   3504\u001b[0m             \u001b[0;32mif\u001b[0m \u001b[0mself\u001b[0m\u001b[0;34m.\u001b[0m\u001b[0mcolumns\u001b[0m\u001b[0;34m.\u001b[0m\u001b[0mnlevels\u001b[0m \u001b[0;34m>\u001b[0m \u001b[0;36m1\u001b[0m\u001b[0;34m:\u001b[0m\u001b[0;34m\u001b[0m\u001b[0;34m\u001b[0m\u001b[0m\n\u001b[1;32m   3505\u001b[0m                 \u001b[0;32mreturn\u001b[0m \u001b[0mself\u001b[0m\u001b[0;34m.\u001b[0m\u001b[0m_getitem_multilevel\u001b[0m\u001b[0;34m(\u001b[0m\u001b[0mkey\u001b[0m\u001b[0;34m)\u001b[0m\u001b[0;34m\u001b[0m\u001b[0;34m\u001b[0m\u001b[0m\n\u001b[0;32m-> 3506\u001b[0;31m             \u001b[0mindexer\u001b[0m \u001b[0;34m=\u001b[0m \u001b[0mself\u001b[0m\u001b[0;34m.\u001b[0m\u001b[0mcolumns\u001b[0m\u001b[0;34m.\u001b[0m\u001b[0mget_loc\u001b[0m\u001b[0;34m(\u001b[0m\u001b[0mkey\u001b[0m\u001b[0;34m)\u001b[0m\u001b[0;34m\u001b[0m\u001b[0;34m\u001b[0m\u001b[0m\n\u001b[0m\u001b[1;32m   3507\u001b[0m             \u001b[0;32mif\u001b[0m \u001b[0mis_integer\u001b[0m\u001b[0;34m(\u001b[0m\u001b[0mindexer\u001b[0m\u001b[0;34m)\u001b[0m\u001b[0;34m:\u001b[0m\u001b[0;34m\u001b[0m\u001b[0;34m\u001b[0m\u001b[0m\n\u001b[1;32m   3508\u001b[0m                 \u001b[0mindexer\u001b[0m \u001b[0;34m=\u001b[0m \u001b[0;34m[\u001b[0m\u001b[0mindexer\u001b[0m\u001b[0;34m]\u001b[0m\u001b[0;34m\u001b[0m\u001b[0;34m\u001b[0m\u001b[0m\n",
      "\u001b[0;32m~/opt/anaconda3/envs/ethereum-etl/lib/python3.9/site-packages/pandas/core/indexes/base.py\u001b[0m in \u001b[0;36mget_loc\u001b[0;34m(self, key, method, tolerance)\u001b[0m\n\u001b[1;32m   3621\u001b[0m                 \u001b[0;32mreturn\u001b[0m \u001b[0mself\u001b[0m\u001b[0;34m.\u001b[0m\u001b[0m_engine\u001b[0m\u001b[0;34m.\u001b[0m\u001b[0mget_loc\u001b[0m\u001b[0;34m(\u001b[0m\u001b[0mcasted_key\u001b[0m\u001b[0;34m)\u001b[0m\u001b[0;34m\u001b[0m\u001b[0;34m\u001b[0m\u001b[0m\n\u001b[1;32m   3622\u001b[0m             \u001b[0;32mexcept\u001b[0m \u001b[0mKeyError\u001b[0m \u001b[0;32mas\u001b[0m \u001b[0merr\u001b[0m\u001b[0;34m:\u001b[0m\u001b[0;34m\u001b[0m\u001b[0;34m\u001b[0m\u001b[0m\n\u001b[0;32m-> 3623\u001b[0;31m                 \u001b[0;32mraise\u001b[0m \u001b[0mKeyError\u001b[0m\u001b[0;34m(\u001b[0m\u001b[0mkey\u001b[0m\u001b[0;34m)\u001b[0m \u001b[0;32mfrom\u001b[0m \u001b[0merr\u001b[0m\u001b[0;34m\u001b[0m\u001b[0;34m\u001b[0m\u001b[0m\n\u001b[0m\u001b[1;32m   3624\u001b[0m             \u001b[0;32mexcept\u001b[0m \u001b[0mTypeError\u001b[0m\u001b[0;34m:\u001b[0m\u001b[0;34m\u001b[0m\u001b[0;34m\u001b[0m\u001b[0m\n\u001b[1;32m   3625\u001b[0m                 \u001b[0;31m# If we have a listlike key, _check_indexing_error will raise\u001b[0m\u001b[0;34m\u001b[0m\u001b[0;34m\u001b[0m\u001b[0m\n",
      "\u001b[0;31mKeyError\u001b[0m: 'l1_fee'"
     ]
    }
   ],
   "source": [
    "opg_df = pd.read_csv(os.getcwd() + '/downloads/op_goerli/transactions.csv')\n",
    "rec_df = pd.read_csv(os.getcwd() + '/downloads/op_goerli/receipts.csv')\n",
    "rec_df = rec_df.rename(columns={'transaction_hash':'hash'})\n",
    "rec_df = rec_df[['hash','l1_gas_used','l1_fee','l1_gas_price','l1_fee_scalar']]\n",
    "\n",
    "df = opg_df.merge(rec_df,on='hash',how='left')\n",
    "#REMOVE DSEPOSITS\n",
    "df = df[df['transaction_type'] != 126]\n",
    "df['all_calldata_gas'] = df['l1_gas_used']\n",
    "df['effective_l1_gas_used'] = df['l1_fee'] / df['l1_gas_price']\n",
    "display(df)"
   ]
  }
 ],
 "metadata": {
  "kernelspec": {
   "display_name": "new-env",
   "language": "python",
   "name": "python3"
  },
  "language_info": {
   "codemirror_mode": {
    "name": "ipython",
    "version": 3
   },
   "file_extension": ".py",
   "mimetype": "text/x-python",
   "name": "python",
   "nbconvert_exporter": "python",
   "pygments_lexer": "ipython3",
   "version": "3.9.7"
  },
  "orig_nbformat": 4
 },
 "nbformat": 4,
 "nbformat_minor": 2
}
