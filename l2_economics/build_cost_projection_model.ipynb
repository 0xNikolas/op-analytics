{
 "cells": [
  {
   "cell_type": "code",
   "execution_count": 19,
   "metadata": {},
   "outputs": [],
   "source": [
    "import pandas as pd\n",
    "import plotly.express as px\n",
    "\n",
    "columns = [\n",
    "        'join_id','dt','chain', 'active_secs_per_day'\n",
    "        ,'num_l1_txs_inbox','num_l1_txs_output','calldata_bytes_l1_inbox'\n",
    "        ,'avg_l1_gas_price_on_l1_inbox','avg_l1_gas_price_on_l1_output','avg_l1_gas_price_on_l2'\n",
    "        ,'l1_gas_used_inbox','l1_gas_used_output','l1_gas_used_combined'\n",
    "        ,'l1_eth_fees_inbox','l1_eth_fees_output','l1_eth_fees_combined'\n",
    "        ,'l1_contrib_l2_eth_fees_per_day','l2_contrib_l2_eth_fees_per_day'\n",
    "        ,'l2_num_txs_per_day', 'l2_num_attr_deposit_txs_per_day', 'l2_num_user_deposit_txs_per_day'\n",
    "        ,'l1_gas_used_on_l2','calldata_bytes_l2_per_day','l2_gas_used','l2_eth_fees_per_day'\n",
    "        ]"
   ]
  },
  {
   "cell_type": "code",
   "execution_count": 20,
   "metadata": {},
   "outputs": [],
   "source": [
    "#Unify datasets\n",
    "dunedf = pd.read_csv('csv_inputs/op_chain_gas_economics_dune_query_2453515_dt2023_09_08.csv') #https://dune.com/queries/2453515 --last 90 days\n",
    "goldskydf = pd.read_csv('csv_inputs/op_chain_gas_economics_goldsky_zora_pgn_dt2023_09_08.csv') #requires auth - https://dash.goldsky.com/question/9-op-chains-activity-by-period"
   ]
  },
  {
   "cell_type": "code",
   "execution_count": 21,
   "metadata": {},
   "outputs": [],
   "source": [
    "# Map Chain Names\n",
    "chain_mappings = {\n",
    "    'zora': 'Zora Network',\n",
    "    'pgn': 'Public Goods Network',\n",
    "    # Add more mappings as needed\n",
    "}\n",
    "goldskydf['chain'] = goldskydf['chain'].replace(chain_mappings)"
   ]
  },
  {
   "cell_type": "code",
   "execution_count": 22,
   "metadata": {},
   "outputs": [],
   "source": [
    "#Configure\n",
    "#rename cols\n",
    "dunedf = dunedf.rename(columns={\n",
    "                        'name':'chain'\n",
    "                        })\n",
    "#Generate Join ID Column\n",
    "dunedf['join_id'] = dunedf['dt'].astype(str).str[:10].str.cat(dunedf['chain'].astype(str).str.lower())\n",
    "goldskydf['join_id'] = goldskydf['dt'].astype(str).str[:10].str.cat(goldskydf['chain'].astype(str).str.lower())\n",
    "\n",
    "# display(dunedf.head(10))\n",
    "# print(dunedf.columns)\n",
    "# print('---')\n",
    "# display(goldskydf.head(10))\n",
    "# print(goldskydf.columns)\n",
    "\n",
    "combo_df = dunedf.merge(goldskydf, on='join_id', how='left')\n",
    "\n",
    "# display(combo_df)\n",
    "\n",
    "for c in columns:\n",
    "        try:\n",
    "                combo_df[c] = combo_df[c+'_x'].combine_first(combo_df[c+'_y']) #pick first non-null\n",
    "        except:\n",
    "                combo_df[c] = combo_df[c] #nada\n",
    "\n",
    "combo_df['dt'] = pd.to_datetime(combo_df['dt'])\n",
    "combo_df = combo_df[columns]\n",
    "\n",
    "combo_df['gas_compression_ratio'] = combo_df['l1_gas_used_inbox'] / combo_df['l1_gas_used_on_l2']\n",
    "combo_df['bytes_compression_ratio'] = combo_df['calldata_bytes_l1_inbox'] / combo_df['calldata_bytes_l2_per_day']\n",
    "combo_df['dt_rank'] = combo_df['dt'].rank(method='dense', ascending=False).astype('int')"
   ]
  },
  {
   "cell_type": "code",
   "execution_count": 23,
   "metadata": {},
   "outputs": [
    {
     "data": {
      "text/html": [
       "<div>\n",
       "<style scoped>\n",
       "    .dataframe tbody tr th:only-of-type {\n",
       "        vertical-align: middle;\n",
       "    }\n",
       "\n",
       "    .dataframe tbody tr th {\n",
       "        vertical-align: top;\n",
       "    }\n",
       "\n",
       "    .dataframe thead th {\n",
       "        text-align: right;\n",
       "    }\n",
       "</style>\n",
       "<table border=\"1\" class=\"dataframe\">\n",
       "  <thead>\n",
       "    <tr style=\"text-align: right;\">\n",
       "      <th></th>\n",
       "      <th>join_id</th>\n",
       "      <th>dt</th>\n",
       "      <th>chain</th>\n",
       "      <th>active_secs_per_day</th>\n",
       "      <th>num_l1_txs_inbox</th>\n",
       "      <th>num_l1_txs_output</th>\n",
       "      <th>calldata_bytes_l1_inbox</th>\n",
       "      <th>avg_l1_gas_price_on_l1_inbox</th>\n",
       "      <th>avg_l1_gas_price_on_l1_output</th>\n",
       "      <th>avg_l1_gas_price_on_l2</th>\n",
       "      <th>...</th>\n",
       "      <th>l2_num_txs_per_day</th>\n",
       "      <th>l2_num_attr_deposit_txs_per_day</th>\n",
       "      <th>l2_num_user_deposit_txs_per_day</th>\n",
       "      <th>l1_gas_used_on_l2</th>\n",
       "      <th>calldata_bytes_l2_per_day</th>\n",
       "      <th>l2_gas_used</th>\n",
       "      <th>l2_eth_fees_per_day</th>\n",
       "      <th>gas_compression_ratio</th>\n",
       "      <th>bytes_compression_ratio</th>\n",
       "      <th>dt_rank</th>\n",
       "    </tr>\n",
       "  </thead>\n",
       "  <tbody>\n",
       "    <tr>\n",
       "      <th>24</th>\n",
       "      <td>2023-09-01op mainnet</td>\n",
       "      <td>2023-09-01 00:00:00+00:00</td>\n",
       "      <td>OP Mainnet</td>\n",
       "      <td>86400.0</td>\n",
       "      <td>662</td>\n",
       "      <td>24</td>\n",
       "      <td>76582705.0</td>\n",
       "      <td>17.907715</td>\n",
       "      <td>17.845443</td>\n",
       "      <td>1.776221e+01</td>\n",
       "      <td>...</td>\n",
       "      <td>342105.0</td>\n",
       "      <td>43200.0</td>\n",
       "      <td>326.0</td>\n",
       "      <td>1.865555e+09</td>\n",
       "      <td>157754989.0</td>\n",
       "      <td>1.259217e+11</td>\n",
       "      <td>32.035408</td>\n",
       "      <td>0.662352</td>\n",
       "      <td>0.485453</td>\n",
       "      <td>7</td>\n",
       "    </tr>\n",
       "    <tr>\n",
       "      <th>92</th>\n",
       "      <td>2023-08-15op mainnet</td>\n",
       "      <td>2023-08-15 00:00:00+00:00</td>\n",
       "      <td>OP Mainnet</td>\n",
       "      <td>86400.0</td>\n",
       "      <td>2213</td>\n",
       "      <td>24</td>\n",
       "      <td>260678325.0</td>\n",
       "      <td>26.866634</td>\n",
       "      <td>24.612099</td>\n",
       "      <td>2.705905e+01</td>\n",
       "      <td>...</td>\n",
       "      <td>894051.0</td>\n",
       "      <td>43200.0</td>\n",
       "      <td>469.0</td>\n",
       "      <td>6.483200e+09</td>\n",
       "      <td>547778795.0</td>\n",
       "      <td>2.134743e+11</td>\n",
       "      <td>168.087479</td>\n",
       "      <td>0.648497</td>\n",
       "      <td>0.475882</td>\n",
       "      <td>24</td>\n",
       "    </tr>\n",
       "    <tr>\n",
       "      <th>26</th>\n",
       "      <td>2023-09-01zora network</td>\n",
       "      <td>2023-09-01 00:00:00+00:00</td>\n",
       "      <td>Zora Network</td>\n",
       "      <td>86400.0</td>\n",
       "      <td>146</td>\n",
       "      <td>24</td>\n",
       "      <td>11317117.0</td>\n",
       "      <td>17.202076</td>\n",
       "      <td>17.269936</td>\n",
       "      <td>1.006200e+10</td>\n",
       "      <td>...</td>\n",
       "      <td>74141.0</td>\n",
       "      <td>43200.0</td>\n",
       "      <td>8.0</td>\n",
       "      <td>2.719527e+08</td>\n",
       "      <td>27745964.0</td>\n",
       "      <td>6.195040e+10</td>\n",
       "      <td>8.870322</td>\n",
       "      <td>0.675113</td>\n",
       "      <td>0.407883</td>\n",
       "      <td>7</td>\n",
       "    </tr>\n",
       "    <tr>\n",
       "      <th>277</th>\n",
       "      <td>2023-06-27zora network</td>\n",
       "      <td>2023-06-27 00:00:00+00:00</td>\n",
       "      <td>Zora Network</td>\n",
       "      <td>86400.0</td>\n",
       "      <td>144</td>\n",
       "      <td>24</td>\n",
       "      <td>2653638.0</td>\n",
       "      <td>17.544401</td>\n",
       "      <td>16.380960</td>\n",
       "      <td>2.083924e+09</td>\n",
       "      <td>...</td>\n",
       "      <td>7014.0</td>\n",
       "      <td>43200.0</td>\n",
       "      <td>0.0</td>\n",
       "      <td>2.566269e+07</td>\n",
       "      <td>12782373.0</td>\n",
       "      <td>4.491470e+10</td>\n",
       "      <td>2.171213</td>\n",
       "      <td>1.768169</td>\n",
       "      <td>0.207601</td>\n",
       "      <td>73</td>\n",
       "    </tr>\n",
       "    <tr>\n",
       "      <th>25</th>\n",
       "      <td>2023-09-01base</td>\n",
       "      <td>2023-09-01 00:00:00+00:00</td>\n",
       "      <td>Base</td>\n",
       "      <td>86400.0</td>\n",
       "      <td>1429</td>\n",
       "      <td>24</td>\n",
       "      <td>57447825.0</td>\n",
       "      <td>18.212658</td>\n",
       "      <td>18.280392</td>\n",
       "      <td>1.813989e+01</td>\n",
       "      <td>...</td>\n",
       "      <td>346144.0</td>\n",
       "      <td>43200.0</td>\n",
       "      <td>1068.0</td>\n",
       "      <td>1.426713e+09</td>\n",
       "      <td>107816020.0</td>\n",
       "      <td>2.215220e+11</td>\n",
       "      <td>53.524267</td>\n",
       "      <td>0.663383</td>\n",
       "      <td>0.532832</td>\n",
       "      <td>7</td>\n",
       "    </tr>\n",
       "  </tbody>\n",
       "</table>\n",
       "<p>5 rows × 28 columns</p>\n",
       "</div>"
      ],
      "text/plain": [
       "                    join_id                        dt         chain  \\\n",
       "24     2023-09-01op mainnet 2023-09-01 00:00:00+00:00    OP Mainnet   \n",
       "92     2023-08-15op mainnet 2023-08-15 00:00:00+00:00    OP Mainnet   \n",
       "26   2023-09-01zora network 2023-09-01 00:00:00+00:00  Zora Network   \n",
       "277  2023-06-27zora network 2023-06-27 00:00:00+00:00  Zora Network   \n",
       "25           2023-09-01base 2023-09-01 00:00:00+00:00          Base   \n",
       "\n",
       "     active_secs_per_day  num_l1_txs_inbox  num_l1_txs_output  \\\n",
       "24               86400.0               662                 24   \n",
       "92               86400.0              2213                 24   \n",
       "26               86400.0               146                 24   \n",
       "277              86400.0               144                 24   \n",
       "25               86400.0              1429                 24   \n",
       "\n",
       "     calldata_bytes_l1_inbox  avg_l1_gas_price_on_l1_inbox  \\\n",
       "24                76582705.0                     17.907715   \n",
       "92               260678325.0                     26.866634   \n",
       "26                11317117.0                     17.202076   \n",
       "277                2653638.0                     17.544401   \n",
       "25                57447825.0                     18.212658   \n",
       "\n",
       "     avg_l1_gas_price_on_l1_output  avg_l1_gas_price_on_l2  ...  \\\n",
       "24                       17.845443            1.776221e+01  ...   \n",
       "92                       24.612099            2.705905e+01  ...   \n",
       "26                       17.269936            1.006200e+10  ...   \n",
       "277                      16.380960            2.083924e+09  ...   \n",
       "25                       18.280392            1.813989e+01  ...   \n",
       "\n",
       "     l2_num_txs_per_day  l2_num_attr_deposit_txs_per_day  \\\n",
       "24             342105.0                          43200.0   \n",
       "92             894051.0                          43200.0   \n",
       "26              74141.0                          43200.0   \n",
       "277              7014.0                          43200.0   \n",
       "25             346144.0                          43200.0   \n",
       "\n",
       "     l2_num_user_deposit_txs_per_day  l1_gas_used_on_l2  \\\n",
       "24                             326.0       1.865555e+09   \n",
       "92                             469.0       6.483200e+09   \n",
       "26                               8.0       2.719527e+08   \n",
       "277                              0.0       2.566269e+07   \n",
       "25                            1068.0       1.426713e+09   \n",
       "\n",
       "     calldata_bytes_l2_per_day   l2_gas_used  l2_eth_fees_per_day  \\\n",
       "24                 157754989.0  1.259217e+11            32.035408   \n",
       "92                 547778795.0  2.134743e+11           168.087479   \n",
       "26                  27745964.0  6.195040e+10             8.870322   \n",
       "277                 12782373.0  4.491470e+10             2.171213   \n",
       "25                 107816020.0  2.215220e+11            53.524267   \n",
       "\n",
       "     gas_compression_ratio  bytes_compression_ratio  dt_rank  \n",
       "24                0.662352                 0.485453        7  \n",
       "92                0.648497                 0.475882       24  \n",
       "26                0.675113                 0.407883        7  \n",
       "277               1.768169                 0.207601       73  \n",
       "25                0.663383                 0.532832        7  \n",
       "\n",
       "[5 rows x 28 columns]"
      ]
     },
     "metadata": {},
     "output_type": "display_data"
    }
   ],
   "source": [
    "display( combo_df.sample(5) )\n",
    "\n",
    "combo_df.to_csv('outputs/op_chain_gas_economics_sample.csv')"
   ]
  },
  {
   "cell_type": "code",
   "execution_count": 24,
   "metadata": {},
   "outputs": [
    {
     "name": "stdout",
     "output_type": "stream",
     "text": [
      "Blended gas compression ratio: 63.0%\n",
      "Blended bytes compression ratio: 44.0%\n"
     ]
    }
   ],
   "source": [
    "bl_gas_ratio = combo_df['l1_gas_used_inbox'].sum() / combo_df['l1_gas_used_on_l2'].sum()\n",
    "bl_bytes_ratio = combo_df['calldata_bytes_l1_inbox'].sum() / combo_df['calldata_bytes_l2_per_day'].sum()\n",
    "print('Blended gas compression ratio: ' + str(round(bl_gas_ratio*100,1)) + '%')\n",
    "print('Blended bytes compression ratio: ' + str(round(bl_bytes_ratio*100,1)) + '%')"
   ]
  },
  {
   "cell_type": "code",
   "execution_count": 25,
   "metadata": {},
   "outputs": [
    {
     "data": {
      "text/html": [
       "<div>\n",
       "<style scoped>\n",
       "    .dataframe tbody tr th:only-of-type {\n",
       "        vertical-align: middle;\n",
       "    }\n",
       "\n",
       "    .dataframe tbody tr th {\n",
       "        vertical-align: top;\n",
       "    }\n",
       "\n",
       "    .dataframe thead th {\n",
       "        text-align: right;\n",
       "    }\n",
       "</style>\n",
       "<table border=\"1\" class=\"dataframe\">\n",
       "  <thead>\n",
       "    <tr style=\"text-align: right;\">\n",
       "      <th></th>\n",
       "      <th>join_id</th>\n",
       "      <th>dt</th>\n",
       "      <th>chain</th>\n",
       "      <th>active_secs_per_day</th>\n",
       "      <th>num_l1_txs_inbox</th>\n",
       "      <th>num_l1_txs_output</th>\n",
       "      <th>calldata_bytes_l1_inbox</th>\n",
       "      <th>avg_l1_gas_price_on_l1_inbox</th>\n",
       "      <th>avg_l1_gas_price_on_l1_output</th>\n",
       "      <th>avg_l1_gas_price_on_l2</th>\n",
       "      <th>...</th>\n",
       "      <th>l2_num_txs_per_day</th>\n",
       "      <th>l2_num_attr_deposit_txs_per_day</th>\n",
       "      <th>l2_num_user_deposit_txs_per_day</th>\n",
       "      <th>l1_gas_used_on_l2</th>\n",
       "      <th>calldata_bytes_l2_per_day</th>\n",
       "      <th>l2_gas_used</th>\n",
       "      <th>l2_eth_fees_per_day</th>\n",
       "      <th>gas_compression_ratio</th>\n",
       "      <th>bytes_compression_ratio</th>\n",
       "      <th>dt_rank</th>\n",
       "    </tr>\n",
       "  </thead>\n",
       "  <tbody>\n",
       "    <tr>\n",
       "      <th>0</th>\n",
       "      <td>2023-09-07op mainnet</td>\n",
       "      <td>2023-09-07 00:00:00+00:00</td>\n",
       "      <td>OP Mainnet</td>\n",
       "      <td>86400.0</td>\n",
       "      <td>614</td>\n",
       "      <td>24</td>\n",
       "      <td>70967575.0</td>\n",
       "      <td>17.876005</td>\n",
       "      <td>17.564603</td>\n",
       "      <td>1.763472e+01</td>\n",
       "      <td>...</td>\n",
       "      <td>354349.0</td>\n",
       "      <td>43200.0</td>\n",
       "      <td>449.0</td>\n",
       "      <td>1.797814e+09</td>\n",
       "      <td>149355858.0</td>\n",
       "      <td>1.373005e+11</td>\n",
       "      <td>31.358216</td>\n",
       "      <td>0.636979</td>\n",
       "      <td>0.475158</td>\n",
       "      <td>1</td>\n",
       "    </tr>\n",
       "    <tr>\n",
       "      <th>1</th>\n",
       "      <td>2023-09-07base</td>\n",
       "      <td>2023-09-07 00:00:00+00:00</td>\n",
       "      <td>Base</td>\n",
       "      <td>86400.0</td>\n",
       "      <td>1431</td>\n",
       "      <td>24</td>\n",
       "      <td>56170604.0</td>\n",
       "      <td>18.223106</td>\n",
       "      <td>17.189830</td>\n",
       "      <td>1.809397e+01</td>\n",
       "      <td>...</td>\n",
       "      <td>325736.0</td>\n",
       "      <td>43200.0</td>\n",
       "      <td>760.0</td>\n",
       "      <td>1.417440e+09</td>\n",
       "      <td>110999142.0</td>\n",
       "      <td>2.211692e+11</td>\n",
       "      <td>32.802708</td>\n",
       "      <td>0.653330</td>\n",
       "      <td>0.506045</td>\n",
       "      <td>1</td>\n",
       "    </tr>\n",
       "    <tr>\n",
       "      <th>2</th>\n",
       "      <td>2023-09-07zora network</td>\n",
       "      <td>2023-09-07 00:00:00+00:00</td>\n",
       "      <td>Zora Network</td>\n",
       "      <td>86400.0</td>\n",
       "      <td>183</td>\n",
       "      <td>24</td>\n",
       "      <td>13738192.0</td>\n",
       "      <td>17.591169</td>\n",
       "      <td>18.234762</td>\n",
       "      <td>1.133676e+10</td>\n",
       "      <td>...</td>\n",
       "      <td>96359.0</td>\n",
       "      <td>43200.0</td>\n",
       "      <td>26.0</td>\n",
       "      <td>3.326724e+08</td>\n",
       "      <td>29555694.0</td>\n",
       "      <td>6.944849e+10</td>\n",
       "      <td>11.796937</td>\n",
       "      <td>0.670250</td>\n",
       "      <td>0.464824</td>\n",
       "      <td>1</td>\n",
       "    </tr>\n",
       "    <tr>\n",
       "      <th>4</th>\n",
       "      <td>2023-09-06op mainnet</td>\n",
       "      <td>2023-09-06 00:00:00+00:00</td>\n",
       "      <td>OP Mainnet</td>\n",
       "      <td>86400.0</td>\n",
       "      <td>616</td>\n",
       "      <td>24</td>\n",
       "      <td>71236352.0</td>\n",
       "      <td>19.110582</td>\n",
       "      <td>18.172530</td>\n",
       "      <td>1.885265e+01</td>\n",
       "      <td>...</td>\n",
       "      <td>352441.0</td>\n",
       "      <td>43200.0</td>\n",
       "      <td>361.0</td>\n",
       "      <td>1.827877e+09</td>\n",
       "      <td>152566694.0</td>\n",
       "      <td>1.455955e+11</td>\n",
       "      <td>33.899695</td>\n",
       "      <td>0.628893</td>\n",
       "      <td>0.466919</td>\n",
       "      <td>2</td>\n",
       "    </tr>\n",
       "    <tr>\n",
       "      <th>5</th>\n",
       "      <td>2023-09-06base</td>\n",
       "      <td>2023-09-06 00:00:00+00:00</td>\n",
       "      <td>Base</td>\n",
       "      <td>86400.0</td>\n",
       "      <td>1424</td>\n",
       "      <td>24</td>\n",
       "      <td>57450098.0</td>\n",
       "      <td>19.107476</td>\n",
       "      <td>17.935865</td>\n",
       "      <td>1.899765e+01</td>\n",
       "      <td>...</td>\n",
       "      <td>332740.0</td>\n",
       "      <td>43200.0</td>\n",
       "      <td>577.0</td>\n",
       "      <td>1.453732e+09</td>\n",
       "      <td>113272698.0</td>\n",
       "      <td>2.212035e+11</td>\n",
       "      <td>32.901866</td>\n",
       "      <td>0.650960</td>\n",
       "      <td>0.507184</td>\n",
       "      <td>2</td>\n",
       "    </tr>\n",
       "    <tr>\n",
       "      <th>...</th>\n",
       "      <td>...</td>\n",
       "      <td>...</td>\n",
       "      <td>...</td>\n",
       "      <td>...</td>\n",
       "      <td>...</td>\n",
       "      <td>...</td>\n",
       "      <td>...</td>\n",
       "      <td>...</td>\n",
       "      <td>...</td>\n",
       "      <td>...</td>\n",
       "      <td>...</td>\n",
       "      <td>...</td>\n",
       "      <td>...</td>\n",
       "      <td>...</td>\n",
       "      <td>...</td>\n",
       "      <td>...</td>\n",
       "      <td>...</td>\n",
       "      <td>...</td>\n",
       "      <td>...</td>\n",
       "      <td>...</td>\n",
       "      <td>...</td>\n",
       "    </tr>\n",
       "    <tr>\n",
       "      <th>314</th>\n",
       "      <td>2023-06-14op mainnet</td>\n",
       "      <td>2023-06-14 00:00:00+00:00</td>\n",
       "      <td>OP Mainnet</td>\n",
       "      <td>86400.0</td>\n",
       "      <td>846</td>\n",
       "      <td>24</td>\n",
       "      <td>93347122.0</td>\n",
       "      <td>22.388467</td>\n",
       "      <td>20.089097</td>\n",
       "      <td>2.182302e+01</td>\n",
       "      <td>...</td>\n",
       "      <td>535146.0</td>\n",
       "      <td>43200.0</td>\n",
       "      <td>481.0</td>\n",
       "      <td>2.523803e+09</td>\n",
       "      <td>201883259.0</td>\n",
       "      <td>1.965987e+11</td>\n",
       "      <td>55.608184</td>\n",
       "      <td>0.597109</td>\n",
       "      <td>0.462382</td>\n",
       "      <td>86</td>\n",
       "    </tr>\n",
       "    <tr>\n",
       "      <th>316</th>\n",
       "      <td>2023-06-13op mainnet</td>\n",
       "      <td>2023-06-13 00:00:00+00:00</td>\n",
       "      <td>OP Mainnet</td>\n",
       "      <td>86400.0</td>\n",
       "      <td>783</td>\n",
       "      <td>24</td>\n",
       "      <td>85583465.0</td>\n",
       "      <td>17.184042</td>\n",
       "      <td>16.949245</td>\n",
       "      <td>1.703237e+01</td>\n",
       "      <td>...</td>\n",
       "      <td>456496.0</td>\n",
       "      <td>43200.0</td>\n",
       "      <td>430.0</td>\n",
       "      <td>2.251531e+09</td>\n",
       "      <td>187008884.0</td>\n",
       "      <td>1.736718e+11</td>\n",
       "      <td>33.476594</td>\n",
       "      <td>0.613762</td>\n",
       "      <td>0.457644</td>\n",
       "      <td>87</td>\n",
       "    </tr>\n",
       "    <tr>\n",
       "      <th>318</th>\n",
       "      <td>2023-06-12op mainnet</td>\n",
       "      <td>2023-06-12 00:00:00+00:00</td>\n",
       "      <td>OP Mainnet</td>\n",
       "      <td>86400.0</td>\n",
       "      <td>753</td>\n",
       "      <td>24</td>\n",
       "      <td>81822522.0</td>\n",
       "      <td>17.964138</td>\n",
       "      <td>17.094217</td>\n",
       "      <td>1.779595e+01</td>\n",
       "      <td>...</td>\n",
       "      <td>418992.0</td>\n",
       "      <td>43200.0</td>\n",
       "      <td>470.0</td>\n",
       "      <td>2.173674e+09</td>\n",
       "      <td>186071777.0</td>\n",
       "      <td>1.592237e+11</td>\n",
       "      <td>31.749409</td>\n",
       "      <td>0.607850</td>\n",
       "      <td>0.439736</td>\n",
       "      <td>88</td>\n",
       "    </tr>\n",
       "    <tr>\n",
       "      <th>319</th>\n",
       "      <td>2023-06-11op mainnet</td>\n",
       "      <td>2023-06-11 00:00:00+00:00</td>\n",
       "      <td>OP Mainnet</td>\n",
       "      <td>86400.0</td>\n",
       "      <td>698</td>\n",
       "      <td>24</td>\n",
       "      <td>75076007.0</td>\n",
       "      <td>17.448444</td>\n",
       "      <td>16.546322</td>\n",
       "      <td>1.713917e+01</td>\n",
       "      <td>...</td>\n",
       "      <td>386861.0</td>\n",
       "      <td>43200.0</td>\n",
       "      <td>446.0</td>\n",
       "      <td>2.022271e+09</td>\n",
       "      <td>176495625.0</td>\n",
       "      <td>1.470628e+11</td>\n",
       "      <td>29.800585</td>\n",
       "      <td>0.599574</td>\n",
       "      <td>0.425370</td>\n",
       "      <td>89</td>\n",
       "    </tr>\n",
       "    <tr>\n",
       "      <th>320</th>\n",
       "      <td>2023-06-10op mainnet</td>\n",
       "      <td>2023-06-10 00:00:00+00:00</td>\n",
       "      <td>OP Mainnet</td>\n",
       "      <td>86400.0</td>\n",
       "      <td>761</td>\n",
       "      <td>24</td>\n",
       "      <td>82801904.0</td>\n",
       "      <td>25.358090</td>\n",
       "      <td>22.331480</td>\n",
       "      <td>2.469387e+01</td>\n",
       "      <td>...</td>\n",
       "      <td>428146.0</td>\n",
       "      <td>43200.0</td>\n",
       "      <td>486.0</td>\n",
       "      <td>2.185464e+09</td>\n",
       "      <td>185772721.0</td>\n",
       "      <td>1.885652e+11</td>\n",
       "      <td>60.743970</td>\n",
       "      <td>0.611782</td>\n",
       "      <td>0.445716</td>\n",
       "      <td>90</td>\n",
       "    </tr>\n",
       "  </tbody>\n",
       "</table>\n",
       "<p>183 rows × 28 columns</p>\n",
       "</div>"
      ],
      "text/plain": [
       "                    join_id                        dt         chain  \\\n",
       "0      2023-09-07op mainnet 2023-09-07 00:00:00+00:00    OP Mainnet   \n",
       "1            2023-09-07base 2023-09-07 00:00:00+00:00          Base   \n",
       "2    2023-09-07zora network 2023-09-07 00:00:00+00:00  Zora Network   \n",
       "4      2023-09-06op mainnet 2023-09-06 00:00:00+00:00    OP Mainnet   \n",
       "5            2023-09-06base 2023-09-06 00:00:00+00:00          Base   \n",
       "..                      ...                       ...           ...   \n",
       "314    2023-06-14op mainnet 2023-06-14 00:00:00+00:00    OP Mainnet   \n",
       "316    2023-06-13op mainnet 2023-06-13 00:00:00+00:00    OP Mainnet   \n",
       "318    2023-06-12op mainnet 2023-06-12 00:00:00+00:00    OP Mainnet   \n",
       "319    2023-06-11op mainnet 2023-06-11 00:00:00+00:00    OP Mainnet   \n",
       "320    2023-06-10op mainnet 2023-06-10 00:00:00+00:00    OP Mainnet   \n",
       "\n",
       "     active_secs_per_day  num_l1_txs_inbox  num_l1_txs_output  \\\n",
       "0                86400.0               614                 24   \n",
       "1                86400.0              1431                 24   \n",
       "2                86400.0               183                 24   \n",
       "4                86400.0               616                 24   \n",
       "5                86400.0              1424                 24   \n",
       "..                   ...               ...                ...   \n",
       "314              86400.0               846                 24   \n",
       "316              86400.0               783                 24   \n",
       "318              86400.0               753                 24   \n",
       "319              86400.0               698                 24   \n",
       "320              86400.0               761                 24   \n",
       "\n",
       "     calldata_bytes_l1_inbox  avg_l1_gas_price_on_l1_inbox  \\\n",
       "0                 70967575.0                     17.876005   \n",
       "1                 56170604.0                     18.223106   \n",
       "2                 13738192.0                     17.591169   \n",
       "4                 71236352.0                     19.110582   \n",
       "5                 57450098.0                     19.107476   \n",
       "..                       ...                           ...   \n",
       "314               93347122.0                     22.388467   \n",
       "316               85583465.0                     17.184042   \n",
       "318               81822522.0                     17.964138   \n",
       "319               75076007.0                     17.448444   \n",
       "320               82801904.0                     25.358090   \n",
       "\n",
       "     avg_l1_gas_price_on_l1_output  avg_l1_gas_price_on_l2  ...  \\\n",
       "0                        17.564603            1.763472e+01  ...   \n",
       "1                        17.189830            1.809397e+01  ...   \n",
       "2                        18.234762            1.133676e+10  ...   \n",
       "4                        18.172530            1.885265e+01  ...   \n",
       "5                        17.935865            1.899765e+01  ...   \n",
       "..                             ...                     ...  ...   \n",
       "314                      20.089097            2.182302e+01  ...   \n",
       "316                      16.949245            1.703237e+01  ...   \n",
       "318                      17.094217            1.779595e+01  ...   \n",
       "319                      16.546322            1.713917e+01  ...   \n",
       "320                      22.331480            2.469387e+01  ...   \n",
       "\n",
       "     l2_num_txs_per_day  l2_num_attr_deposit_txs_per_day  \\\n",
       "0              354349.0                          43200.0   \n",
       "1              325736.0                          43200.0   \n",
       "2               96359.0                          43200.0   \n",
       "4              352441.0                          43200.0   \n",
       "5              332740.0                          43200.0   \n",
       "..                  ...                              ...   \n",
       "314            535146.0                          43200.0   \n",
       "316            456496.0                          43200.0   \n",
       "318            418992.0                          43200.0   \n",
       "319            386861.0                          43200.0   \n",
       "320            428146.0                          43200.0   \n",
       "\n",
       "     l2_num_user_deposit_txs_per_day  l1_gas_used_on_l2  \\\n",
       "0                              449.0       1.797814e+09   \n",
       "1                              760.0       1.417440e+09   \n",
       "2                               26.0       3.326724e+08   \n",
       "4                              361.0       1.827877e+09   \n",
       "5                              577.0       1.453732e+09   \n",
       "..                               ...                ...   \n",
       "314                            481.0       2.523803e+09   \n",
       "316                            430.0       2.251531e+09   \n",
       "318                            470.0       2.173674e+09   \n",
       "319                            446.0       2.022271e+09   \n",
       "320                            486.0       2.185464e+09   \n",
       "\n",
       "     calldata_bytes_l2_per_day   l2_gas_used  l2_eth_fees_per_day  \\\n",
       "0                  149355858.0  1.373005e+11            31.358216   \n",
       "1                  110999142.0  2.211692e+11            32.802708   \n",
       "2                   29555694.0  6.944849e+10            11.796937   \n",
       "4                  152566694.0  1.455955e+11            33.899695   \n",
       "5                  113272698.0  2.212035e+11            32.901866   \n",
       "..                         ...           ...                  ...   \n",
       "314                201883259.0  1.965987e+11            55.608184   \n",
       "316                187008884.0  1.736718e+11            33.476594   \n",
       "318                186071777.0  1.592237e+11            31.749409   \n",
       "319                176495625.0  1.470628e+11            29.800585   \n",
       "320                185772721.0  1.885652e+11            60.743970   \n",
       "\n",
       "     gas_compression_ratio  bytes_compression_ratio  dt_rank  \n",
       "0                 0.636979                 0.475158        1  \n",
       "1                 0.653330                 0.506045        1  \n",
       "2                 0.670250                 0.464824        1  \n",
       "4                 0.628893                 0.466919        2  \n",
       "5                 0.650960                 0.507184        2  \n",
       "..                     ...                      ...      ...  \n",
       "314               0.597109                 0.462382       86  \n",
       "316               0.613762                 0.457644       87  \n",
       "318               0.607850                 0.439736       88  \n",
       "319               0.599574                 0.425370       89  \n",
       "320               0.611782                 0.445716       90  \n",
       "\n",
       "[183 rows x 28 columns]"
      ]
     },
     "metadata": {},
     "output_type": "display_data"
    },
    {
     "data": {
      "application/vnd.plotly.v1+json": {
       "config": {
        "plotlyServerURL": "https://plot.ly"
       },
       "data": [
        {
         "hovertemplate": "chain=OP Mainnet<br>l1_gas_used_on_l2=%{x}<br>l1_gas_used_inbox=%{y}<br>gas_compression_ratio=%{marker.size}<extra></extra>",
         "legendgroup": "OP Mainnet",
         "marker": {
          "color": "#636efa",
          "size": [
           0.6369792591968394,
           0.6288927383571395,
           0.6316803086677656,
           0.636583051376595,
           0.6420754782042577,
           0.6458976627119016,
           0.6623522790654056,
           0.6457912328710721,
           0.6522497089769667,
           0.6823568553463106,
           0.7638916369883476,
           0.6352814720846844,
           0.625925660944065,
           0.644454336480187,
           0.6323232851317713,
           0.6316546554358953,
           0.626798845675281,
           0.6256524493462025,
           0.6327592926861472,
           0.6381055440653646,
           0.6483059624801706,
           0.6473863666228297,
           0.639615222044991,
           0.6484974513478903,
           0.6818113278129606,
           0.6286616015843254,
           0.619583677509803,
           0.6429552569435163,
           0.6293944581917041,
           0.6322175020621632,
           0.6476322584231179,
           0.6689378743857274,
           0.6130742010602457,
           0.6061064789493976,
           0.6026113817027114,
           0.602893699164668,
           0.5983587145681064,
           0.6065454681553281,
           0.5989646857908922,
           0.5823775862178309,
           0.5755718612469104,
           0.574547264404579,
           0.5269758495487037,
           0.5591007404480739,
           0.5366475101060633,
           0.5540318023231858,
           0.5478036782774166,
           0.536597329281706,
           0.5751877670710164,
           0.6099208739642692,
           0.6098580331497064,
           0.6090132104800619,
           0.5823810261701383,
           0.5941475024596766,
           0.5966670249158078,
           0.6261354205972813,
           0.6176579569837813,
           0.6052885550223321,
           0.5985302902558145,
           0.5977972598878272,
           0.5779152138089039,
           0.5890673585390295,
           0.6138686494608272,
           0.6248904813507903,
           0.6250415895255692,
           0.6041355828893786,
           0.601137687758418,
           0.5960249722634353,
           0.5533917513569558,
           0.6189098816729458,
           0.592497625355763,
           0.5743195859058343,
           0.5672540372363877,
           0.5970032954182212,
           0.6092569789688866,
           0.6203939964863054,
           0.616361902616871,
           0.6104580676154677,
           0.6055606584188247,
           0.5988775127045141,
           0.6044237482510575,
           0.5935688568631194,
           0.6004433890228263,
           0.5983712399374007,
           0.6091032765645183,
           0.5971085021885331,
           0.6137623316773991,
           0.6078501693524124,
           0.599573743021245,
           0.6117816607954804
          ],
          "sizemode": "area",
          "sizeref": 0.002484795612402624,
          "symbol": "circle"
         },
         "mode": "markers",
         "name": "OP Mainnet",
         "orientation": "v",
         "showlegend": true,
         "type": "scatter",
         "x": [
          1797814468,
          1827877280,
          1733534044,
          1588360692,
          1427851988,
          1601747428,
          1865555148,
          2219690592,
          2078588052,
          2535535772,
          2943488808,
          1584265596,
          1624038488,
          1658240852,
          1939386388,
          2175503396,
          2073245388,
          2074992500,
          1908640916,
          2017593384,
          2288132792,
          2883310592,
          3887868472,
          6483200252,
          3828842880,
          2042855108,
          1985401076,
          2393027576,
          2683537648,
          2992013416,
          4659603188,
          4570945484,
          2543750876,
          3012765188,
          3532204576,
          3556359184,
          3201669556,
          3723713724,
          3719761176,
          3406542324,
          3549332484,
          3643590468,
          5585550280,
          4851365716,
          5340692872,
          4059129116,
          2925933088,
          3034940532,
          2470240908,
          2687169628,
          2562964236,
          2451479420,
          2708720568,
          2277462008,
          2598898996,
          2864925128,
          2593799908,
          2333434208,
          2350755320,
          2344435992,
          2357913776,
          2318607236,
          1832748320,
          1981680760,
          1585940188,
          2145848708,
          2339230936,
          2224651848,
          2567022368,
          2534681540,
          2647579752,
          2892121308,
          3114544652,
          2771684620,
          2544883820,
          2227030216,
          2649823912,
          2651978876,
          2773218644,
          2369805708,
          1994122156,
          1854492700,
          1925738248,
          2115516508,
          2294596660,
          2523802844,
          2251530680,
          2173674380,
          2022271172,
          2185464040
         ],
         "xaxis": "x",
         "y": [
          1145170528,
          1149538748,
          1095039320,
          1011123496,
          916788748,
          1034564920,
          1235654704,
          1433456724,
          1355758452,
          1730140216,
          2248506484,
          1006454580,
          1016527364,
          1068660508,
          1226319172,
          1374166848,
          1299507816,
          1298224140,
          1207710276,
          1287437524,
          1483410132,
          1866615968,
          2486739856,
          4204338840,
          2610548448,
          1284264564,
          1230122100,
          1538609660,
          1689003724,
          1891603248,
          3017709336,
          3057678556,
          1559508036,
          1826056500,
          2128546680,
          2144106544,
          1915746880,
          2258601684,
          2228005584,
          1983893896,
          2042895904,
          2093414936,
          2943450104,
          2712402164,
          2866069532,
          2248886620,
          1602836908,
          1628540984,
          1420852352,
          1638960848,
          1563044328,
          1492983352,
          1577507464,
          1353148364,
          1550677332,
          1793831100,
          1602081152,
          1412401020,
          1406998264,
          1401497412,
          1362674244,
          1365815840,
          1125066736,
          1238333444,
          991278576,
          1296383560,
          1406199876,
          1325948056,
          1420569004,
          1568739452,
          1568684716,
          1661001912,
          1766738028,
          1654704852,
          1550488228,
          1381636176,
          1633250508,
          1618921900,
          1679352108,
          1419223348,
          1205294788,
          1100769112,
          1156296800,
          1265864236,
          1397646344,
          1506984136,
          1381904720,
          1321268340,
          1212500696,
          1337026820
         ],
         "yaxis": "y"
        },
        {
         "hovertemplate": "chain=Base<br>l1_gas_used_on_l2=%{x}<br>l1_gas_used_inbox=%{y}<br>gas_compression_ratio=%{marker.size}<extra></extra>",
         "legendgroup": "Base",
         "marker": {
          "color": "#EF553B",
          "size": [
           0.6533297321359564,
           0.6509596342007086,
           0.6415378930769602,
           0.6526231846899266,
           0.6643164290139473,
           0.6624897265196352,
           0.6633831320036564,
           0.6440568797163835,
           0.6357925264025441,
           0.6232466035381871,
           0.6239799655208106,
           0.6248732264703654,
           0.6437734935525392,
           0.596991826237899,
           0.6057759589406139,
           0.594588339959612,
           0.5772606456291945,
           0.560114053065751,
           0.5909062116534498,
           0.6228596450729081,
           0.6585677747663877,
           0.6509662743660976,
           0.6460576087019868,
           0.6182048763348468,
           0.603142374850007,
           0.6099253779116961,
           0.6160460809774924,
           0.6114015713220653,
           0.5963085873079382,
           0.5931782637263202,
           0.6110737508003095,
           0.607920045227735,
           0.6308603103760037,
           0.6196854541618404,
           0.60950158744066,
           0.5378773146727404,
           0.6487023061864757,
           0.6381872428101217,
           0.5785490270417297,
           0.5525170855059184,
           0.9939182449610495,
           0.9751917427831716,
           0.7969344250160368,
           0.8227490399105394,
           0.7232981975866489,
           0.6859022196741208,
           0.7695104927131055,
           0.7968966815101508,
           0.7442598950538177,
           0.9777913407574317,
           0.9219686274372277
          ],
          "sizemode": "area",
          "sizeref": 0.002484795612402624,
          "symbol": "circle"
         },
         "mode": "markers",
         "name": "Base",
         "orientation": "v",
         "showlegend": true,
         "type": "scatter",
         "x": [
          1417439664,
          1453731848,
          1481678040,
          1359355372,
          1259588364,
          1275833460,
          1426713328,
          2048394180,
          1624778652,
          1565542112,
          1533664824,
          1673744516,
          1567113996,
          2419652512,
          2698458656,
          2859008416,
          3255631712,
          4395649312,
          2819605012,
          2205816400,
          1658064852,
          1486342648,
          1765986396,
          2090139812,
          2141643668,
          2157686064,
          1965204840,
          2354520236,
          2580161904,
          2051333244,
          1472299196,
          1530628936,
          1278989340,
          1222326648,
          1146643176,
          1804413396,
          728572480,
          777033884,
          2357978004,
          2536891808,
          68405912,
          72533108,
          113912464,
          108339904,
          137868708,
          159240132,
          122976392,
          107954888,
          129850936,
          75932184,
          98091572
         ],
         "xaxis": "x",
         "y": [
          926055476,
          946320752,
          950552608,
          887146832,
          836765244,
          845226560,
          946457556,
          1319282364,
          1033022124,
          975718804,
          956976124,
          1045878136,
          1008866452,
          1444512772,
          1634661380,
          1699933068,
          1879348064,
          2462064952,
          1666122116,
          1373914020,
          1091948080,
          967558936,
          1140928948,
          1292134624,
          1291716048,
          1316027488,
          1210656740,
          1439557372,
          1538572700,
          1216806292,
          899683392,
          930500012,
          806863612,
          757458044,
          698880836,
          970553032,
          472626648,
          495893112,
          1364205880,
          1401676068,
          67989884,
          70733688,
          90780764,
          89136552,
          99720188,
          109223160,
          94631624,
          86028892,
          96642844,
          74245832,
          90437352
         ],
         "yaxis": "y"
        },
        {
         "hovertemplate": "chain=Zora Network<br>l1_gas_used_on_l2=%{x}<br>l1_gas_used_inbox=%{y}<br>gas_compression_ratio=%{marker.size}<extra></extra>",
         "legendgroup": "Zora Network",
         "marker": {
          "color": "#00cc96",
          "size": [
           0.6702499872877956,
           0.6570275892675111,
           0.6794633465635096,
           0.6872388034029516,
           0.6722565095085852,
           0.6793360250451858,
           0.6751134134522516,
           0.678006137242025,
           0.7120501272206365,
           0.7196785220904297,
           0.7161923154538071,
           0.6776823390749205,
           0.7132596149534152,
           0.7218728667072098,
           0.6813320716914013,
           0.7015500381641802,
           0.7552838617207296,
           0.7164850347373173,
           0.7279903473939301,
           0.7150289076437932,
           0.6420158993001036,
           0.670536811733899,
           0.6604633480000703,
           0.6569503754772517,
           0.7018004574274452,
           0.7333866475546056,
           0.7585970530450564,
           0.785873913282781,
           0.7087171527756118,
           0.7563784852075496,
           0.872823838056046,
           0.8077381629993535,
           0.799716173360711,
           0.7943129031014127,
           0.8318278925546165,
           0.9072467474743624,
           0.963271726615512,
           0.8640256956141963,
           0.8005721842078599,
           0.837837238338577,
           0.9886400411488181,
           0.9808546065846737
          ],
          "sizemode": "area",
          "sizeref": 0.002484795612402624,
          "symbol": "circle"
         },
         "mode": "markers",
         "name": "Zora Network",
         "orientation": "v",
         "showlegend": true,
         "type": "scatter",
         "x": [
          332672436,
          379702868,
          306869180,
          275112696,
          310097448,
          303877004,
          271952748,
          285544548,
          232504732,
          225919100,
          215759260,
          222732840,
          244041536,
          188546552,
          244692776,
          278591076,
          190602452,
          225331160,
          209753924,
          225748596,
          375139532,
          308612032,
          337587472,
          298542720,
          212700836,
          158436776,
          144813344,
          126745024,
          164665968,
          136624288,
          101340344,
          123753816,
          117282860,
          118043496,
          102422716,
          87708148,
          76604200,
          94485852,
          116654740,
          106936092,
          71762936,
          73199436
         ],
         "xaxis": "x",
         "y": [
          222973696,
          249475260,
          208506360,
          189068120,
          208465028,
          206434596,
          183598948,
          193600956,
          165555024,
          162589124,
          154525124,
          150942112,
          174064972,
          136106640,
          166717036,
          195445580,
          143958956,
          161446404,
          152698832,
          161416772,
          240845544,
          206935728,
          222964152,
          196127752,
          149273544,
          116195416,
          109854976,
          99605608,
          116701596,
          103339672,
          88452268,
          99960680,
          93793000,
          93763472,
          85198072,
          79572932,
          73790660,
          81638204,
          93390540,
          89595040,
          70947712,
          71798004
         ],
         "yaxis": "y"
        }
       ],
       "layout": {
        "legend": {
         "itemsizing": "constant",
         "title": {
          "text": "chain"
         },
         "tracegroupgap": 0
        },
        "template": {
         "data": {
          "bar": [
           {
            "error_x": {
             "color": "#2a3f5f"
            },
            "error_y": {
             "color": "#2a3f5f"
            },
            "marker": {
             "line": {
              "color": "#E5ECF6",
              "width": 0.5
             },
             "pattern": {
              "fillmode": "overlay",
              "size": 10,
              "solidity": 0.2
             }
            },
            "type": "bar"
           }
          ],
          "barpolar": [
           {
            "marker": {
             "line": {
              "color": "#E5ECF6",
              "width": 0.5
             },
             "pattern": {
              "fillmode": "overlay",
              "size": 10,
              "solidity": 0.2
             }
            },
            "type": "barpolar"
           }
          ],
          "carpet": [
           {
            "aaxis": {
             "endlinecolor": "#2a3f5f",
             "gridcolor": "white",
             "linecolor": "white",
             "minorgridcolor": "white",
             "startlinecolor": "#2a3f5f"
            },
            "baxis": {
             "endlinecolor": "#2a3f5f",
             "gridcolor": "white",
             "linecolor": "white",
             "minorgridcolor": "white",
             "startlinecolor": "#2a3f5f"
            },
            "type": "carpet"
           }
          ],
          "choropleth": [
           {
            "colorbar": {
             "outlinewidth": 0,
             "ticks": ""
            },
            "type": "choropleth"
           }
          ],
          "contour": [
           {
            "colorbar": {
             "outlinewidth": 0,
             "ticks": ""
            },
            "colorscale": [
             [
              0,
              "#0d0887"
             ],
             [
              0.1111111111111111,
              "#46039f"
             ],
             [
              0.2222222222222222,
              "#7201a8"
             ],
             [
              0.3333333333333333,
              "#9c179e"
             ],
             [
              0.4444444444444444,
              "#bd3786"
             ],
             [
              0.5555555555555556,
              "#d8576b"
             ],
             [
              0.6666666666666666,
              "#ed7953"
             ],
             [
              0.7777777777777778,
              "#fb9f3a"
             ],
             [
              0.8888888888888888,
              "#fdca26"
             ],
             [
              1,
              "#f0f921"
             ]
            ],
            "type": "contour"
           }
          ],
          "contourcarpet": [
           {
            "colorbar": {
             "outlinewidth": 0,
             "ticks": ""
            },
            "type": "contourcarpet"
           }
          ],
          "heatmap": [
           {
            "colorbar": {
             "outlinewidth": 0,
             "ticks": ""
            },
            "colorscale": [
             [
              0,
              "#0d0887"
             ],
             [
              0.1111111111111111,
              "#46039f"
             ],
             [
              0.2222222222222222,
              "#7201a8"
             ],
             [
              0.3333333333333333,
              "#9c179e"
             ],
             [
              0.4444444444444444,
              "#bd3786"
             ],
             [
              0.5555555555555556,
              "#d8576b"
             ],
             [
              0.6666666666666666,
              "#ed7953"
             ],
             [
              0.7777777777777778,
              "#fb9f3a"
             ],
             [
              0.8888888888888888,
              "#fdca26"
             ],
             [
              1,
              "#f0f921"
             ]
            ],
            "type": "heatmap"
           }
          ],
          "heatmapgl": [
           {
            "colorbar": {
             "outlinewidth": 0,
             "ticks": ""
            },
            "colorscale": [
             [
              0,
              "#0d0887"
             ],
             [
              0.1111111111111111,
              "#46039f"
             ],
             [
              0.2222222222222222,
              "#7201a8"
             ],
             [
              0.3333333333333333,
              "#9c179e"
             ],
             [
              0.4444444444444444,
              "#bd3786"
             ],
             [
              0.5555555555555556,
              "#d8576b"
             ],
             [
              0.6666666666666666,
              "#ed7953"
             ],
             [
              0.7777777777777778,
              "#fb9f3a"
             ],
             [
              0.8888888888888888,
              "#fdca26"
             ],
             [
              1,
              "#f0f921"
             ]
            ],
            "type": "heatmapgl"
           }
          ],
          "histogram": [
           {
            "marker": {
             "pattern": {
              "fillmode": "overlay",
              "size": 10,
              "solidity": 0.2
             }
            },
            "type": "histogram"
           }
          ],
          "histogram2d": [
           {
            "colorbar": {
             "outlinewidth": 0,
             "ticks": ""
            },
            "colorscale": [
             [
              0,
              "#0d0887"
             ],
             [
              0.1111111111111111,
              "#46039f"
             ],
             [
              0.2222222222222222,
              "#7201a8"
             ],
             [
              0.3333333333333333,
              "#9c179e"
             ],
             [
              0.4444444444444444,
              "#bd3786"
             ],
             [
              0.5555555555555556,
              "#d8576b"
             ],
             [
              0.6666666666666666,
              "#ed7953"
             ],
             [
              0.7777777777777778,
              "#fb9f3a"
             ],
             [
              0.8888888888888888,
              "#fdca26"
             ],
             [
              1,
              "#f0f921"
             ]
            ],
            "type": "histogram2d"
           }
          ],
          "histogram2dcontour": [
           {
            "colorbar": {
             "outlinewidth": 0,
             "ticks": ""
            },
            "colorscale": [
             [
              0,
              "#0d0887"
             ],
             [
              0.1111111111111111,
              "#46039f"
             ],
             [
              0.2222222222222222,
              "#7201a8"
             ],
             [
              0.3333333333333333,
              "#9c179e"
             ],
             [
              0.4444444444444444,
              "#bd3786"
             ],
             [
              0.5555555555555556,
              "#d8576b"
             ],
             [
              0.6666666666666666,
              "#ed7953"
             ],
             [
              0.7777777777777778,
              "#fb9f3a"
             ],
             [
              0.8888888888888888,
              "#fdca26"
             ],
             [
              1,
              "#f0f921"
             ]
            ],
            "type": "histogram2dcontour"
           }
          ],
          "mesh3d": [
           {
            "colorbar": {
             "outlinewidth": 0,
             "ticks": ""
            },
            "type": "mesh3d"
           }
          ],
          "parcoords": [
           {
            "line": {
             "colorbar": {
              "outlinewidth": 0,
              "ticks": ""
             }
            },
            "type": "parcoords"
           }
          ],
          "pie": [
           {
            "automargin": true,
            "type": "pie"
           }
          ],
          "scatter": [
           {
            "fillpattern": {
             "fillmode": "overlay",
             "size": 10,
             "solidity": 0.2
            },
            "type": "scatter"
           }
          ],
          "scatter3d": [
           {
            "line": {
             "colorbar": {
              "outlinewidth": 0,
              "ticks": ""
             }
            },
            "marker": {
             "colorbar": {
              "outlinewidth": 0,
              "ticks": ""
             }
            },
            "type": "scatter3d"
           }
          ],
          "scattercarpet": [
           {
            "marker": {
             "colorbar": {
              "outlinewidth": 0,
              "ticks": ""
             }
            },
            "type": "scattercarpet"
           }
          ],
          "scattergeo": [
           {
            "marker": {
             "colorbar": {
              "outlinewidth": 0,
              "ticks": ""
             }
            },
            "type": "scattergeo"
           }
          ],
          "scattergl": [
           {
            "marker": {
             "colorbar": {
              "outlinewidth": 0,
              "ticks": ""
             }
            },
            "type": "scattergl"
           }
          ],
          "scattermapbox": [
           {
            "marker": {
             "colorbar": {
              "outlinewidth": 0,
              "ticks": ""
             }
            },
            "type": "scattermapbox"
           }
          ],
          "scatterpolar": [
           {
            "marker": {
             "colorbar": {
              "outlinewidth": 0,
              "ticks": ""
             }
            },
            "type": "scatterpolar"
           }
          ],
          "scatterpolargl": [
           {
            "marker": {
             "colorbar": {
              "outlinewidth": 0,
              "ticks": ""
             }
            },
            "type": "scatterpolargl"
           }
          ],
          "scatterternary": [
           {
            "marker": {
             "colorbar": {
              "outlinewidth": 0,
              "ticks": ""
             }
            },
            "type": "scatterternary"
           }
          ],
          "surface": [
           {
            "colorbar": {
             "outlinewidth": 0,
             "ticks": ""
            },
            "colorscale": [
             [
              0,
              "#0d0887"
             ],
             [
              0.1111111111111111,
              "#46039f"
             ],
             [
              0.2222222222222222,
              "#7201a8"
             ],
             [
              0.3333333333333333,
              "#9c179e"
             ],
             [
              0.4444444444444444,
              "#bd3786"
             ],
             [
              0.5555555555555556,
              "#d8576b"
             ],
             [
              0.6666666666666666,
              "#ed7953"
             ],
             [
              0.7777777777777778,
              "#fb9f3a"
             ],
             [
              0.8888888888888888,
              "#fdca26"
             ],
             [
              1,
              "#f0f921"
             ]
            ],
            "type": "surface"
           }
          ],
          "table": [
           {
            "cells": {
             "fill": {
              "color": "#EBF0F8"
             },
             "line": {
              "color": "white"
             }
            },
            "header": {
             "fill": {
              "color": "#C8D4E3"
             },
             "line": {
              "color": "white"
             }
            },
            "type": "table"
           }
          ]
         },
         "layout": {
          "annotationdefaults": {
           "arrowcolor": "#2a3f5f",
           "arrowhead": 0,
           "arrowwidth": 1
          },
          "autotypenumbers": "strict",
          "coloraxis": {
           "colorbar": {
            "outlinewidth": 0,
            "ticks": ""
           }
          },
          "colorscale": {
           "diverging": [
            [
             0,
             "#8e0152"
            ],
            [
             0.1,
             "#c51b7d"
            ],
            [
             0.2,
             "#de77ae"
            ],
            [
             0.3,
             "#f1b6da"
            ],
            [
             0.4,
             "#fde0ef"
            ],
            [
             0.5,
             "#f7f7f7"
            ],
            [
             0.6,
             "#e6f5d0"
            ],
            [
             0.7,
             "#b8e186"
            ],
            [
             0.8,
             "#7fbc41"
            ],
            [
             0.9,
             "#4d9221"
            ],
            [
             1,
             "#276419"
            ]
           ],
           "sequential": [
            [
             0,
             "#0d0887"
            ],
            [
             0.1111111111111111,
             "#46039f"
            ],
            [
             0.2222222222222222,
             "#7201a8"
            ],
            [
             0.3333333333333333,
             "#9c179e"
            ],
            [
             0.4444444444444444,
             "#bd3786"
            ],
            [
             0.5555555555555556,
             "#d8576b"
            ],
            [
             0.6666666666666666,
             "#ed7953"
            ],
            [
             0.7777777777777778,
             "#fb9f3a"
            ],
            [
             0.8888888888888888,
             "#fdca26"
            ],
            [
             1,
             "#f0f921"
            ]
           ],
           "sequentialminus": [
            [
             0,
             "#0d0887"
            ],
            [
             0.1111111111111111,
             "#46039f"
            ],
            [
             0.2222222222222222,
             "#7201a8"
            ],
            [
             0.3333333333333333,
             "#9c179e"
            ],
            [
             0.4444444444444444,
             "#bd3786"
            ],
            [
             0.5555555555555556,
             "#d8576b"
            ],
            [
             0.6666666666666666,
             "#ed7953"
            ],
            [
             0.7777777777777778,
             "#fb9f3a"
            ],
            [
             0.8888888888888888,
             "#fdca26"
            ],
            [
             1,
             "#f0f921"
            ]
           ]
          },
          "colorway": [
           "#636efa",
           "#EF553B",
           "#00cc96",
           "#ab63fa",
           "#FFA15A",
           "#19d3f3",
           "#FF6692",
           "#B6E880",
           "#FF97FF",
           "#FECB52"
          ],
          "font": {
           "color": "#2a3f5f"
          },
          "geo": {
           "bgcolor": "white",
           "lakecolor": "white",
           "landcolor": "#E5ECF6",
           "showlakes": true,
           "showland": true,
           "subunitcolor": "white"
          },
          "hoverlabel": {
           "align": "left"
          },
          "hovermode": "closest",
          "mapbox": {
           "style": "light"
          },
          "paper_bgcolor": "white",
          "plot_bgcolor": "#E5ECF6",
          "polar": {
           "angularaxis": {
            "gridcolor": "white",
            "linecolor": "white",
            "ticks": ""
           },
           "bgcolor": "#E5ECF6",
           "radialaxis": {
            "gridcolor": "white",
            "linecolor": "white",
            "ticks": ""
           }
          },
          "scene": {
           "xaxis": {
            "backgroundcolor": "#E5ECF6",
            "gridcolor": "white",
            "gridwidth": 2,
            "linecolor": "white",
            "showbackground": true,
            "ticks": "",
            "zerolinecolor": "white"
           },
           "yaxis": {
            "backgroundcolor": "#E5ECF6",
            "gridcolor": "white",
            "gridwidth": 2,
            "linecolor": "white",
            "showbackground": true,
            "ticks": "",
            "zerolinecolor": "white"
           },
           "zaxis": {
            "backgroundcolor": "#E5ECF6",
            "gridcolor": "white",
            "gridwidth": 2,
            "linecolor": "white",
            "showbackground": true,
            "ticks": "",
            "zerolinecolor": "white"
           }
          },
          "shapedefaults": {
           "line": {
            "color": "#2a3f5f"
           }
          },
          "ternary": {
           "aaxis": {
            "gridcolor": "white",
            "linecolor": "white",
            "ticks": ""
           },
           "baxis": {
            "gridcolor": "white",
            "linecolor": "white",
            "ticks": ""
           },
           "bgcolor": "#E5ECF6",
           "caxis": {
            "gridcolor": "white",
            "linecolor": "white",
            "ticks": ""
           }
          },
          "title": {
           "x": 0.05
          },
          "xaxis": {
           "automargin": true,
           "gridcolor": "white",
           "linecolor": "white",
           "ticks": "",
           "title": {
            "standoff": 15
           },
           "zerolinecolor": "white",
           "zerolinewidth": 2
          },
          "yaxis": {
           "automargin": true,
           "gridcolor": "white",
           "linecolor": "white",
           "ticks": "",
           "title": {
            "standoff": 15
           },
           "zerolinecolor": "white",
           "zerolinewidth": 2
          }
         }
        },
        "title": {
         "text": "L1 Gas Used on each Layer by chain"
        },
        "xaxis": {
         "anchor": "y",
         "domain": [
          0,
          1
         ],
         "title": {
          "text": "l1_gas_used_on_l2"
         }
        },
        "yaxis": {
         "anchor": "x",
         "domain": [
          0,
          1
         ],
         "title": {
          "text": "l1_gas_used_inbox"
         }
        }
       }
      }
     },
     "metadata": {},
     "output_type": "display_data"
    },
    {
     "data": {
      "application/vnd.plotly.v1+json": {
       "config": {
        "plotlyServerURL": "https://plot.ly"
       },
       "data": [
        {
         "hovertemplate": "chain=OP Mainnet<br>calldata_bytes_l2_per_day=%{x}<br>calldata_bytes_l1_inbox=%{y}<br>bytes_compression_ratio=%{marker.size}<extra></extra>",
         "legendgroup": "OP Mainnet",
         "marker": {
          "color": "#636efa",
          "size": [
           0.47515762655924754,
           0.4669194182053915,
           0.4603606094603416,
           0.4566638550595467,
           0.4579830843101027,
           0.4566430655715691,
           0.48545345846399823,
           0.4793349710029783,
           0.4718406804434302,
           0.4909542220405837,
           0.5894900434143031,
           0.44888891268871217,
           0.4437604557945328,
           0.4681952777660927,
           0.4608500900279608,
           0.46591209475993034,
           0.4594858718719244,
           0.45113545764722857,
           0.44479462701298994,
           0.4554254787213971,
           0.47385992129714033,
           0.4937542682904131,
           0.4572977828147345,
           0.4758824682141995,
           0.5540702869896651,
           0.45767598450187386,
           0.44226168479930106,
           0.48079973138769666,
           0.4707958781311436,
           0.4695094499551788,
           0.49641236947767,
           0.5371654779463789,
           0.4343204592471301,
           0.4272840493995592,
           0.42442996849278186,
           0.4265030569519402,
           0.406599068483486,
           0.4325429208145336,
           0.423910222061866,
           0.4015227082513731,
           0.38826573987942054,
           0.39487870582201423,
           0.3540322878101899,
           0.3843060281443984,
           0.3682007306112302,
           0.3811281562109398,
           0.36174978811181335,
           0.3553094357382699,
           0.4052815241476065,
           0.4741977549173778,
           0.4543490203360879,
           0.4534669014716731,
           0.4157766529454715,
           0.4210989139113452,
           0.4291277403257951,
           0.4788030115694556,
           0.45092596088171893,
           0.43625410355301636,
           0.428678855708936,
           0.41867337561401763,
           0.3957744258886554,
           0.4090429438704737,
           0.43436111571088537,
           0.455303173209116,
           0.4497679988416286,
           0.43154072471758753,
           0.4374430290448548,
           0.4271851929825211,
           0.37384831428710774,
           0.4697269799515577,
           0.42648366763257406,
           0.4008399715355309,
           0.38672715538490493,
           0.42681013579789595,
           0.4422068688826833,
           0.45858403617594024,
           0.45390457197214074,
           0.4484838055228785,
           0.4375829474158213,
           0.4258897102872048,
           0.4332762509582015,
           0.4188971981809109,
           0.4247145873507721,
           0.4289644529672095,
           0.4784486951088184,
           0.46238168762670906,
           0.4576438464816463,
           0.43973633895053305,
           0.42537035691394615,
           0.44571616087810867
          ],
          "sizemode": "area",
          "sizeref": 0.0016952642988071664,
          "symbol": "circle"
         },
         "mode": "markers",
         "name": "OP Mainnet",
         "orientation": "v",
         "showlegend": true,
         "type": "scatter",
         "x": [
          149355858,
          152566694,
          147402733,
          137209782,
          124044719,
          140395039,
          157754989,
          185334896,
          178092336,
          218463189,
          236412870,
          138936606,
          141949399,
          141443650,
          164898770,
          182776749,
          175273857,
          178328448,
          168253822,
          175173390,
          194003624,
          234250696,
          337053611,
          547778795,
          292066371,
          173749263,
          172218127,
          198200899,
          222228031,
          249591660,
          376881201,
          352893363,
          222403306,
          264739852,
          310739271,
          311480363,
          291930627,
          323566611,
          325680547,
          306098558,
          325946652,
          328494662,
          515336528,
          437472417,
          482549659,
          365674466,
          274436017,
          283884856,
          217103277,
          214081119,
          213088231,
          203918991,
          234983175,
          198982375,
          223809246,
          232087757,
          220066316,
          200515260,
          203266011,
          207302069,
          213235640,
          206809887,
          160382266,
          168414271,
          136439836,
          186002137,
          199059766,
          192221398,
          235346542,
          206861109,
          227792022,
          256658221,
          282985442,
          240148198,
          217137993,
          186589428,
          222876030,
          223576530,
          237733446,
          206380046,
          172234132,
          162701654,
          168555774,
          182728388,
          180917653,
          201883259,
          187008884,
          186071777,
          176495625,
          185772721
         ],
         "xaxis": "x",
         "y": [
          70967575,
          71236352,
          67858412,
          62658748,
          56810383,
          64110421,
          76582705,
          88837497,
          84031209,
          107255425,
          139363033,
          62367102,
          62991530,
          66223249,
          75993613,
          85157898,
          80535861,
          80450286,
          74838396,
          79778425,
          91930542,
          115662281,
          154133869,
          260678325,
          161825298,
          79520865,
          76165479,
          95294939,
          104624041,
          117185643,
          187088490,
          189562132,
          96594306,
          113119116,
          131887059,
          132847327,
          118698721,
          139956447,
          138059313,
          122905522,
          126553918,
          129715547,
          182445770,
          168123287,
          177675137,
          139368835,
          99277171,
          100866968,
          87987947,
          101516786,
          96816429,
          92470513,
          97700518,
          83791262,
          96042756,
          111124317,
          99233615,
          87475605,
          87135841,
          86791857,
          84393213,
          84594125,
          69663820,
          76679552,
          61366272,
          80267497,
          87077307,
          82114135,
          87983908,
          97168244,
          97149577,
          102878874,
          109438155,
          102497685,
          96019912,
          85566933,
          101164449,
          100270453,
          104028102,
          87895138,
          74624959,
          68155267,
          71588096,
          78383983,
          86559815,
          93347122,
          85583465,
          81822522,
          75076007,
          82801904
         ],
         "yaxis": "y"
        },
        {
         "hovertemplate": "chain=Base<br>calldata_bytes_l2_per_day=%{x}<br>calldata_bytes_l1_inbox=%{y}<br>bytes_compression_ratio=%{marker.size}<extra></extra>",
         "legendgroup": "Base",
         "marker": {
          "color": "#EF553B",
          "size": [
           0.5060453890715659,
           0.5071839817923292,
           0.4965119477876061,
           0.49164265439293975,
           0.5118983047049296,
           0.5060397752153758,
           0.5328319947258302,
           0.5300268706638869,
           0.4891253323235429,
           0.4798726765941054,
           0.48313143144697746,
           0.49198257741688217,
           0.5382930019563291,
           0.5718281427619232,
           0.5555513584213806,
           0.5579903418022529,
           0.6007978148408271,
           0.6781057195228666,
           0.6352953552342722,
           0.653764745613515,
           0.6063982959564738,
           0.5609454071678451,
           0.5458997259715863,
           0.553468473602433,
           0.5224876501837036,
           0.5532927453201117,
           0.5430796161820111,
           0.5743793711804164,
           0.580334220219555,
           0.47688175546121786,
           0.46947866599268345,
           0.508701489710754,
           0.5307634474410227,
           0.48378285591963804,
           0.4312157452407981,
           0.5623905803182915,
           0.48089986812519503,
           0.4822856483409914,
           0.5560463261009234,
           0.5457641013450486,
           0.26019656553281,
           0.2644315425371068,
           0.2831758551523204,
           0.2860367682788661,
           0.2941876326255025,
           0.301929128051273,
           0.2881891677036779,
           0.2785121842460116,
           0.2943552910049993,
           0.2787373140284966,
           0.33369066735139796
          ],
          "sizemode": "area",
          "sizeref": 0.0016952642988071664,
          "symbol": "circle"
         },
         "mode": "markers",
         "name": "Base",
         "orientation": "v",
         "showlegend": true,
         "type": "scatter",
         "x": [
          110999142,
          113272698,
          116326097,
          109275366,
          98798907,
          101005663,
          107816020,
          152454365,
          128544158,
          123546805,
          120273187,
          129437982,
          113989000,
          155049018,
          181022990,
          187521321,
          192869062,
          224622618,
          161462180,
          128857219,
          109754004,
          104756811,
          127524367,
          142892222,
          151317433,
          145700488,
          136245933,
          153823867,
          162810437,
          156005725,
          116133456,
          110972952,
          91762440,
          94261819,
          97238678,
          104678951,
          57702455,
          60570210,
          150418789,
          157566494,
          15654830,
          16055335,
          19433380,
          18879426,
          20613494,
          22061366,
          19935496,
          18691965,
          19951994,
          16021339,
          16434670
         ],
         "xaxis": "x",
         "y": [
          56170604,
          57450098,
          57757297,
          53724431,
          50574993,
          51112883,
          57447825,
          80804910,
          62874204,
          59286736,
          58107757,
          63681232,
          61359481,
          88661392,
          100567568,
          104635086,
          115875311,
          152317882,
          102576173,
          84242307,
          66554641,
          58762852,
          69615517,
          79086340,
          79061490,
          80615023,
          73992389,
          88353256,
          94484468,
          74396284,
          54522180,
          56452106,
          48704149,
          45602252,
          41930849,
          58870456,
          27749103,
          29212143,
          83639815,
          85994136,
          4073333,
          4245537,
          5503064,
          5400210,
          6064235,
          6660969,
          5745194,
          5205940,
          5872975,
          4465745,
          5484096
         ],
         "yaxis": "y"
        },
        {
         "hovertemplate": "chain=Zora Network<br>calldata_bytes_l2_per_day=%{x}<br>calldata_bytes_l1_inbox=%{y}<br>bytes_compression_ratio=%{marker.size}<extra></extra>",
         "legendgroup": "Zora Network",
         "marker": {
          "color": "#00cc96",
          "size": [
           0.4648238677799276,
           0.4627540972386096,
           0.4339938356360047,
           0.43748474866875553,
           0.44838386161523236,
           0.4456219541363609,
           0.4078833591797351,
           0.40364410358626174,
           0.267786945016767,
           0.38795833570608296,
           0.39326181367331053,
           0.3737905184727669,
           0.45065791840350145,
           0.37008669359580293,
           0.421781869048763,
           0.5491180080619336,
           0.4365476544389028,
           0.41669491447534385,
           0.4096400530718835,
           0.4620906812501036,
           0.5617000943830718,
           0.5403554016366745,
           0.5549580967689417,
           0.48780076328129957,
           0.36333333320118244,
           0.30185883442876343,
           0.21675630271424678,
           0.2850877691067051,
           0.29989920380227975,
           0.29142742077907013,
           0.28073829488633384,
           0.30146518361032265,
           0.2809543423188272,
           0.2847441265746773,
           0.27623545123696314,
           0.27182875290943154,
           0.26119543383053884,
           0.2696418511987533,
           0.27755102521155756,
           0.28398266820343493,
           0.22424420934718106,
           0.24424477371419318
          ],
          "sizemode": "area",
          "sizeref": 0.0016952642988071664,
          "symbol": "circle"
         },
         "mode": "markers",
         "name": "Zora Network",
         "orientation": "v",
         "showlegend": true,
         "type": "scatter",
         "x": [
          29555694,
          33253067,
          29614734,
          26649313,
          28696800,
          28601699,
          27745964,
          29532256,
          38034595,
          25778812,
          24142639,
          24803810,
          23767613,
          22535690,
          24319419,
          21936425,
          20236352,
          23827807,
          22901015,
          21477516,
          26419992,
          23579520,
          24765632,
          24788764,
          25223689,
          23483318,
          30875785,
          21221647,
          23741967,
          21567943,
          19058401,
          20146144,
          20236135,
          19960201,
          18635519,
          17636177,
          16966694,
          18261097,
          20393742,
          19094616,
          18968414,
          17633364
         ],
         "xaxis": "x",
         "y": [
          13738192,
          15387993,
          12852612,
          11658668,
          12867182,
          12745545,
          11317117,
          11920521,
          10185168,
          10001105,
          9494378,
          9271429,
          10711063,
          8340159,
          10257490,
          12045686,
          8834132,
          9928926,
          9381173,
          9924560,
          14840112,
          12741321,
          13743888,
          12091978,
          9164607,
          7088647,
          6692521,
          6050032,
          7120197,
          6285490,
          5350423,
          6073361,
          5685430,
          5683550,
          5147791,
          4794020,
          4431623,
          4923956,
          5660304,
          5422540,
          4253557,
          4306857
         ],
         "yaxis": "y"
        }
       ],
       "layout": {
        "legend": {
         "itemsizing": "constant",
         "title": {
          "text": "chain"
         },
         "tracegroupgap": 0
        },
        "template": {
         "data": {
          "bar": [
           {
            "error_x": {
             "color": "#2a3f5f"
            },
            "error_y": {
             "color": "#2a3f5f"
            },
            "marker": {
             "line": {
              "color": "#E5ECF6",
              "width": 0.5
             },
             "pattern": {
              "fillmode": "overlay",
              "size": 10,
              "solidity": 0.2
             }
            },
            "type": "bar"
           }
          ],
          "barpolar": [
           {
            "marker": {
             "line": {
              "color": "#E5ECF6",
              "width": 0.5
             },
             "pattern": {
              "fillmode": "overlay",
              "size": 10,
              "solidity": 0.2
             }
            },
            "type": "barpolar"
           }
          ],
          "carpet": [
           {
            "aaxis": {
             "endlinecolor": "#2a3f5f",
             "gridcolor": "white",
             "linecolor": "white",
             "minorgridcolor": "white",
             "startlinecolor": "#2a3f5f"
            },
            "baxis": {
             "endlinecolor": "#2a3f5f",
             "gridcolor": "white",
             "linecolor": "white",
             "minorgridcolor": "white",
             "startlinecolor": "#2a3f5f"
            },
            "type": "carpet"
           }
          ],
          "choropleth": [
           {
            "colorbar": {
             "outlinewidth": 0,
             "ticks": ""
            },
            "type": "choropleth"
           }
          ],
          "contour": [
           {
            "colorbar": {
             "outlinewidth": 0,
             "ticks": ""
            },
            "colorscale": [
             [
              0,
              "#0d0887"
             ],
             [
              0.1111111111111111,
              "#46039f"
             ],
             [
              0.2222222222222222,
              "#7201a8"
             ],
             [
              0.3333333333333333,
              "#9c179e"
             ],
             [
              0.4444444444444444,
              "#bd3786"
             ],
             [
              0.5555555555555556,
              "#d8576b"
             ],
             [
              0.6666666666666666,
              "#ed7953"
             ],
             [
              0.7777777777777778,
              "#fb9f3a"
             ],
             [
              0.8888888888888888,
              "#fdca26"
             ],
             [
              1,
              "#f0f921"
             ]
            ],
            "type": "contour"
           }
          ],
          "contourcarpet": [
           {
            "colorbar": {
             "outlinewidth": 0,
             "ticks": ""
            },
            "type": "contourcarpet"
           }
          ],
          "heatmap": [
           {
            "colorbar": {
             "outlinewidth": 0,
             "ticks": ""
            },
            "colorscale": [
             [
              0,
              "#0d0887"
             ],
             [
              0.1111111111111111,
              "#46039f"
             ],
             [
              0.2222222222222222,
              "#7201a8"
             ],
             [
              0.3333333333333333,
              "#9c179e"
             ],
             [
              0.4444444444444444,
              "#bd3786"
             ],
             [
              0.5555555555555556,
              "#d8576b"
             ],
             [
              0.6666666666666666,
              "#ed7953"
             ],
             [
              0.7777777777777778,
              "#fb9f3a"
             ],
             [
              0.8888888888888888,
              "#fdca26"
             ],
             [
              1,
              "#f0f921"
             ]
            ],
            "type": "heatmap"
           }
          ],
          "heatmapgl": [
           {
            "colorbar": {
             "outlinewidth": 0,
             "ticks": ""
            },
            "colorscale": [
             [
              0,
              "#0d0887"
             ],
             [
              0.1111111111111111,
              "#46039f"
             ],
             [
              0.2222222222222222,
              "#7201a8"
             ],
             [
              0.3333333333333333,
              "#9c179e"
             ],
             [
              0.4444444444444444,
              "#bd3786"
             ],
             [
              0.5555555555555556,
              "#d8576b"
             ],
             [
              0.6666666666666666,
              "#ed7953"
             ],
             [
              0.7777777777777778,
              "#fb9f3a"
             ],
             [
              0.8888888888888888,
              "#fdca26"
             ],
             [
              1,
              "#f0f921"
             ]
            ],
            "type": "heatmapgl"
           }
          ],
          "histogram": [
           {
            "marker": {
             "pattern": {
              "fillmode": "overlay",
              "size": 10,
              "solidity": 0.2
             }
            },
            "type": "histogram"
           }
          ],
          "histogram2d": [
           {
            "colorbar": {
             "outlinewidth": 0,
             "ticks": ""
            },
            "colorscale": [
             [
              0,
              "#0d0887"
             ],
             [
              0.1111111111111111,
              "#46039f"
             ],
             [
              0.2222222222222222,
              "#7201a8"
             ],
             [
              0.3333333333333333,
              "#9c179e"
             ],
             [
              0.4444444444444444,
              "#bd3786"
             ],
             [
              0.5555555555555556,
              "#d8576b"
             ],
             [
              0.6666666666666666,
              "#ed7953"
             ],
             [
              0.7777777777777778,
              "#fb9f3a"
             ],
             [
              0.8888888888888888,
              "#fdca26"
             ],
             [
              1,
              "#f0f921"
             ]
            ],
            "type": "histogram2d"
           }
          ],
          "histogram2dcontour": [
           {
            "colorbar": {
             "outlinewidth": 0,
             "ticks": ""
            },
            "colorscale": [
             [
              0,
              "#0d0887"
             ],
             [
              0.1111111111111111,
              "#46039f"
             ],
             [
              0.2222222222222222,
              "#7201a8"
             ],
             [
              0.3333333333333333,
              "#9c179e"
             ],
             [
              0.4444444444444444,
              "#bd3786"
             ],
             [
              0.5555555555555556,
              "#d8576b"
             ],
             [
              0.6666666666666666,
              "#ed7953"
             ],
             [
              0.7777777777777778,
              "#fb9f3a"
             ],
             [
              0.8888888888888888,
              "#fdca26"
             ],
             [
              1,
              "#f0f921"
             ]
            ],
            "type": "histogram2dcontour"
           }
          ],
          "mesh3d": [
           {
            "colorbar": {
             "outlinewidth": 0,
             "ticks": ""
            },
            "type": "mesh3d"
           }
          ],
          "parcoords": [
           {
            "line": {
             "colorbar": {
              "outlinewidth": 0,
              "ticks": ""
             }
            },
            "type": "parcoords"
           }
          ],
          "pie": [
           {
            "automargin": true,
            "type": "pie"
           }
          ],
          "scatter": [
           {
            "fillpattern": {
             "fillmode": "overlay",
             "size": 10,
             "solidity": 0.2
            },
            "type": "scatter"
           }
          ],
          "scatter3d": [
           {
            "line": {
             "colorbar": {
              "outlinewidth": 0,
              "ticks": ""
             }
            },
            "marker": {
             "colorbar": {
              "outlinewidth": 0,
              "ticks": ""
             }
            },
            "type": "scatter3d"
           }
          ],
          "scattercarpet": [
           {
            "marker": {
             "colorbar": {
              "outlinewidth": 0,
              "ticks": ""
             }
            },
            "type": "scattercarpet"
           }
          ],
          "scattergeo": [
           {
            "marker": {
             "colorbar": {
              "outlinewidth": 0,
              "ticks": ""
             }
            },
            "type": "scattergeo"
           }
          ],
          "scattergl": [
           {
            "marker": {
             "colorbar": {
              "outlinewidth": 0,
              "ticks": ""
             }
            },
            "type": "scattergl"
           }
          ],
          "scattermapbox": [
           {
            "marker": {
             "colorbar": {
              "outlinewidth": 0,
              "ticks": ""
             }
            },
            "type": "scattermapbox"
           }
          ],
          "scatterpolar": [
           {
            "marker": {
             "colorbar": {
              "outlinewidth": 0,
              "ticks": ""
             }
            },
            "type": "scatterpolar"
           }
          ],
          "scatterpolargl": [
           {
            "marker": {
             "colorbar": {
              "outlinewidth": 0,
              "ticks": ""
             }
            },
            "type": "scatterpolargl"
           }
          ],
          "scatterternary": [
           {
            "marker": {
             "colorbar": {
              "outlinewidth": 0,
              "ticks": ""
             }
            },
            "type": "scatterternary"
           }
          ],
          "surface": [
           {
            "colorbar": {
             "outlinewidth": 0,
             "ticks": ""
            },
            "colorscale": [
             [
              0,
              "#0d0887"
             ],
             [
              0.1111111111111111,
              "#46039f"
             ],
             [
              0.2222222222222222,
              "#7201a8"
             ],
             [
              0.3333333333333333,
              "#9c179e"
             ],
             [
              0.4444444444444444,
              "#bd3786"
             ],
             [
              0.5555555555555556,
              "#d8576b"
             ],
             [
              0.6666666666666666,
              "#ed7953"
             ],
             [
              0.7777777777777778,
              "#fb9f3a"
             ],
             [
              0.8888888888888888,
              "#fdca26"
             ],
             [
              1,
              "#f0f921"
             ]
            ],
            "type": "surface"
           }
          ],
          "table": [
           {
            "cells": {
             "fill": {
              "color": "#EBF0F8"
             },
             "line": {
              "color": "white"
             }
            },
            "header": {
             "fill": {
              "color": "#C8D4E3"
             },
             "line": {
              "color": "white"
             }
            },
            "type": "table"
           }
          ]
         },
         "layout": {
          "annotationdefaults": {
           "arrowcolor": "#2a3f5f",
           "arrowhead": 0,
           "arrowwidth": 1
          },
          "autotypenumbers": "strict",
          "coloraxis": {
           "colorbar": {
            "outlinewidth": 0,
            "ticks": ""
           }
          },
          "colorscale": {
           "diverging": [
            [
             0,
             "#8e0152"
            ],
            [
             0.1,
             "#c51b7d"
            ],
            [
             0.2,
             "#de77ae"
            ],
            [
             0.3,
             "#f1b6da"
            ],
            [
             0.4,
             "#fde0ef"
            ],
            [
             0.5,
             "#f7f7f7"
            ],
            [
             0.6,
             "#e6f5d0"
            ],
            [
             0.7,
             "#b8e186"
            ],
            [
             0.8,
             "#7fbc41"
            ],
            [
             0.9,
             "#4d9221"
            ],
            [
             1,
             "#276419"
            ]
           ],
           "sequential": [
            [
             0,
             "#0d0887"
            ],
            [
             0.1111111111111111,
             "#46039f"
            ],
            [
             0.2222222222222222,
             "#7201a8"
            ],
            [
             0.3333333333333333,
             "#9c179e"
            ],
            [
             0.4444444444444444,
             "#bd3786"
            ],
            [
             0.5555555555555556,
             "#d8576b"
            ],
            [
             0.6666666666666666,
             "#ed7953"
            ],
            [
             0.7777777777777778,
             "#fb9f3a"
            ],
            [
             0.8888888888888888,
             "#fdca26"
            ],
            [
             1,
             "#f0f921"
            ]
           ],
           "sequentialminus": [
            [
             0,
             "#0d0887"
            ],
            [
             0.1111111111111111,
             "#46039f"
            ],
            [
             0.2222222222222222,
             "#7201a8"
            ],
            [
             0.3333333333333333,
             "#9c179e"
            ],
            [
             0.4444444444444444,
             "#bd3786"
            ],
            [
             0.5555555555555556,
             "#d8576b"
            ],
            [
             0.6666666666666666,
             "#ed7953"
            ],
            [
             0.7777777777777778,
             "#fb9f3a"
            ],
            [
             0.8888888888888888,
             "#fdca26"
            ],
            [
             1,
             "#f0f921"
            ]
           ]
          },
          "colorway": [
           "#636efa",
           "#EF553B",
           "#00cc96",
           "#ab63fa",
           "#FFA15A",
           "#19d3f3",
           "#FF6692",
           "#B6E880",
           "#FF97FF",
           "#FECB52"
          ],
          "font": {
           "color": "#2a3f5f"
          },
          "geo": {
           "bgcolor": "white",
           "lakecolor": "white",
           "landcolor": "#E5ECF6",
           "showlakes": true,
           "showland": true,
           "subunitcolor": "white"
          },
          "hoverlabel": {
           "align": "left"
          },
          "hovermode": "closest",
          "mapbox": {
           "style": "light"
          },
          "paper_bgcolor": "white",
          "plot_bgcolor": "#E5ECF6",
          "polar": {
           "angularaxis": {
            "gridcolor": "white",
            "linecolor": "white",
            "ticks": ""
           },
           "bgcolor": "#E5ECF6",
           "radialaxis": {
            "gridcolor": "white",
            "linecolor": "white",
            "ticks": ""
           }
          },
          "scene": {
           "xaxis": {
            "backgroundcolor": "#E5ECF6",
            "gridcolor": "white",
            "gridwidth": 2,
            "linecolor": "white",
            "showbackground": true,
            "ticks": "",
            "zerolinecolor": "white"
           },
           "yaxis": {
            "backgroundcolor": "#E5ECF6",
            "gridcolor": "white",
            "gridwidth": 2,
            "linecolor": "white",
            "showbackground": true,
            "ticks": "",
            "zerolinecolor": "white"
           },
           "zaxis": {
            "backgroundcolor": "#E5ECF6",
            "gridcolor": "white",
            "gridwidth": 2,
            "linecolor": "white",
            "showbackground": true,
            "ticks": "",
            "zerolinecolor": "white"
           }
          },
          "shapedefaults": {
           "line": {
            "color": "#2a3f5f"
           }
          },
          "ternary": {
           "aaxis": {
            "gridcolor": "white",
            "linecolor": "white",
            "ticks": ""
           },
           "baxis": {
            "gridcolor": "white",
            "linecolor": "white",
            "ticks": ""
           },
           "bgcolor": "#E5ECF6",
           "caxis": {
            "gridcolor": "white",
            "linecolor": "white",
            "ticks": ""
           }
          },
          "title": {
           "x": 0.05
          },
          "xaxis": {
           "automargin": true,
           "gridcolor": "white",
           "linecolor": "white",
           "ticks": "",
           "title": {
            "standoff": 15
           },
           "zerolinecolor": "white",
           "zerolinewidth": 2
          },
          "yaxis": {
           "automargin": true,
           "gridcolor": "white",
           "linecolor": "white",
           "ticks": "",
           "title": {
            "standoff": 15
           },
           "zerolinecolor": "white",
           "zerolinewidth": 2
          }
         }
        },
        "title": {
         "text": "Calldata Bytese on each Layer by chain"
        },
        "xaxis": {
         "anchor": "y",
         "domain": [
          0,
          1
         ],
         "title": {
          "text": "calldata_bytes_l2_per_day"
         }
        },
        "yaxis": {
         "anchor": "x",
         "domain": [
          0,
          1
         ],
         "title": {
          "text": "calldata_bytes_l1_inbox"
         }
        }
       }
      }
     },
     "metadata": {},
     "output_type": "display_data"
    }
   ],
   "source": [
    "# Create the scatter plot\n",
    "combo_df_plot = combo_df[\n",
    "                        (~combo_df['gas_compression_ratio'].isna()) \n",
    "                         & (combo_df['gas_compression_ratio']<1) \n",
    "                         & (combo_df['active_secs_per_day'] == 86400)\n",
    "                         ]\n",
    "\n",
    "# combo_df_plot = combo_df[(~combo_df['bytes_compression_ratio'].isna())\n",
    "#                          & (combo_df['active_secs_per_day'] == 86400)]\n",
    "\n",
    "display(combo_df_plot)\n",
    "\n",
    "fig = px.scatter(combo_df_plot,\n",
    "                 x='l1_gas_used_on_l2',\n",
    "                 y='l1_gas_used_inbox',\n",
    "                 size = 'gas_compression_ratio',\n",
    "                 color='chain',\n",
    "                 title='L1 Gas Used on each Layer by chain')\n",
    "\n",
    "# Display the plot\n",
    "fig.show()\n",
    "\n",
    "##############\n",
    "\n",
    "fig_bytes = px.scatter(combo_df_plot,\n",
    "                 x='calldata_bytes_l2_per_day',\n",
    "                 y='calldata_bytes_l1_inbox',\n",
    "                 size = 'bytes_compression_ratio',\n",
    "                 color='chain',\n",
    "                 title='Calldata Bytese on each Layer by chain')\n",
    "\n",
    "fig_bytes.show()"
   ]
  },
  {
   "cell_type": "code",
   "execution_count": 26,
   "metadata": {},
   "outputs": [
    {
     "data": {
      "text/html": [
       "<div>\n",
       "<style scoped>\n",
       "    .dataframe tbody tr th:only-of-type {\n",
       "        vertical-align: middle;\n",
       "    }\n",
       "\n",
       "    .dataframe tbody tr th {\n",
       "        vertical-align: top;\n",
       "    }\n",
       "\n",
       "    .dataframe thead th {\n",
       "        text-align: right;\n",
       "    }\n",
       "</style>\n",
       "<table border=\"1\" class=\"dataframe\">\n",
       "  <thead>\n",
       "    <tr style=\"text-align: right;\">\n",
       "      <th></th>\n",
       "      <th>join_id</th>\n",
       "      <th>dt</th>\n",
       "      <th>chain</th>\n",
       "      <th>active_secs_per_day</th>\n",
       "      <th>num_l1_txs_inbox</th>\n",
       "      <th>num_l1_txs_output</th>\n",
       "      <th>calldata_bytes_l1_inbox</th>\n",
       "      <th>avg_l1_gas_price_on_l1_inbox</th>\n",
       "      <th>avg_l1_gas_price_on_l1_output</th>\n",
       "      <th>avg_l1_gas_price_on_l2</th>\n",
       "      <th>...</th>\n",
       "      <th>l2_num_txs_per_day</th>\n",
       "      <th>l2_num_attr_deposit_txs_per_day</th>\n",
       "      <th>l2_num_user_deposit_txs_per_day</th>\n",
       "      <th>l1_gas_used_on_l2</th>\n",
       "      <th>calldata_bytes_l2_per_day</th>\n",
       "      <th>l2_gas_used</th>\n",
       "      <th>l2_eth_fees_per_day</th>\n",
       "      <th>gas_compression_ratio</th>\n",
       "      <th>bytes_compression_ratio</th>\n",
       "      <th>dt_rank</th>\n",
       "    </tr>\n",
       "  </thead>\n",
       "  <tbody>\n",
       "    <tr>\n",
       "      <th>24</th>\n",
       "      <td>2023-09-01op mainnet</td>\n",
       "      <td>2023-09-01 00:00:00+00:00</td>\n",
       "      <td>OP Mainnet</td>\n",
       "      <td>86400.0</td>\n",
       "      <td>662</td>\n",
       "      <td>24</td>\n",
       "      <td>76582705.0</td>\n",
       "      <td>17.907715</td>\n",
       "      <td>17.845443</td>\n",
       "      <td>1.776221e+01</td>\n",
       "      <td>...</td>\n",
       "      <td>342105.0</td>\n",
       "      <td>43200.0</td>\n",
       "      <td>326.0</td>\n",
       "      <td>1.865555e+09</td>\n",
       "      <td>157754989.0</td>\n",
       "      <td>1.259217e+11</td>\n",
       "      <td>32.035408</td>\n",
       "      <td>0.662352</td>\n",
       "      <td>0.485453</td>\n",
       "      <td>7</td>\n",
       "    </tr>\n",
       "    <tr>\n",
       "      <th>207</th>\n",
       "      <td>2023-07-18public goods network</td>\n",
       "      <td>2023-07-18 00:00:00+00:00</td>\n",
       "      <td>Public Goods Network</td>\n",
       "      <td>86400.0</td>\n",
       "      <td>146</td>\n",
       "      <td>24</td>\n",
       "      <td>1863638.0</td>\n",
       "      <td>29.720391</td>\n",
       "      <td>28.346003</td>\n",
       "      <td>3.075120e+06</td>\n",
       "      <td>...</td>\n",
       "      <td>4.0</td>\n",
       "      <td>43200.0</td>\n",
       "      <td>2.0</td>\n",
       "      <td>1.207200e+04</td>\n",
       "      <td>11233356.0</td>\n",
       "      <td>4.320159e+10</td>\n",
       "      <td>0.001220</td>\n",
       "      <td>2719.672631</td>\n",
       "      <td>0.165902</td>\n",
       "      <td>52</td>\n",
       "    </tr>\n",
       "    <tr>\n",
       "      <th>98</th>\n",
       "      <td>2023-08-14zora network</td>\n",
       "      <td>2023-08-14 00:00:00+00:00</td>\n",
       "      <td>Zora Network</td>\n",
       "      <td>86400.0</td>\n",
       "      <td>156</td>\n",
       "      <td>24</td>\n",
       "      <td>12091978.0</td>\n",
       "      <td>21.221870</td>\n",
       "      <td>21.396446</td>\n",
       "      <td>1.480522e+10</td>\n",
       "      <td>...</td>\n",
       "      <td>102392.0</td>\n",
       "      <td>43200.0</td>\n",
       "      <td>13.0</td>\n",
       "      <td>2.985427e+08</td>\n",
       "      <td>24788764.0</td>\n",
       "      <td>5.826737e+10</td>\n",
       "      <td>8.786903</td>\n",
       "      <td>0.656950</td>\n",
       "      <td>0.487801</td>\n",
       "      <td>25</td>\n",
       "    </tr>\n",
       "    <tr>\n",
       "      <th>303</th>\n",
       "      <td>2023-06-18base</td>\n",
       "      <td>2023-06-18 00:00:00+00:00</td>\n",
       "      <td>Base</td>\n",
       "      <td>86400.0</td>\n",
       "      <td>1432</td>\n",
       "      <td>24</td>\n",
       "      <td>2046297.0</td>\n",
       "      <td>15.291874</td>\n",
       "      <td>15.056151</td>\n",
       "      <td>NaN</td>\n",
       "      <td>...</td>\n",
       "      <td>0.0</td>\n",
       "      <td>43200.0</td>\n",
       "      <td>0.0</td>\n",
       "      <td>NaN</td>\n",
       "      <td>11232000.0</td>\n",
       "      <td>2.168383e+09</td>\n",
       "      <td>0.000000</td>\n",
       "      <td>NaN</td>\n",
       "      <td>0.182185</td>\n",
       "      <td>82</td>\n",
       "    </tr>\n",
       "    <tr>\n",
       "      <th>114</th>\n",
       "      <td>2023-08-10zora network</td>\n",
       "      <td>2023-08-10 00:00:00+00:00</td>\n",
       "      <td>Zora Network</td>\n",
       "      <td>86400.0</td>\n",
       "      <td>146</td>\n",
       "      <td>24</td>\n",
       "      <td>6050032.0</td>\n",
       "      <td>21.960891</td>\n",
       "      <td>21.158316</td>\n",
       "      <td>8.349240e+09</td>\n",
       "      <td>...</td>\n",
       "      <td>29667.0</td>\n",
       "      <td>43200.0</td>\n",
       "      <td>7.0</td>\n",
       "      <td>1.267450e+08</td>\n",
       "      <td>21221647.0</td>\n",
       "      <td>5.180086e+10</td>\n",
       "      <td>5.606701</td>\n",
       "      <td>0.785874</td>\n",
       "      <td>0.285088</td>\n",
       "      <td>29</td>\n",
       "    </tr>\n",
       "  </tbody>\n",
       "</table>\n",
       "<p>5 rows × 28 columns</p>\n",
       "</div>"
      ],
      "text/plain": [
       "                            join_id                        dt  \\\n",
       "24             2023-09-01op mainnet 2023-09-01 00:00:00+00:00   \n",
       "207  2023-07-18public goods network 2023-07-18 00:00:00+00:00   \n",
       "98           2023-08-14zora network 2023-08-14 00:00:00+00:00   \n",
       "303                  2023-06-18base 2023-06-18 00:00:00+00:00   \n",
       "114          2023-08-10zora network 2023-08-10 00:00:00+00:00   \n",
       "\n",
       "                    chain  active_secs_per_day  num_l1_txs_inbox  \\\n",
       "24             OP Mainnet              86400.0               662   \n",
       "207  Public Goods Network              86400.0               146   \n",
       "98           Zora Network              86400.0               156   \n",
       "303                  Base              86400.0              1432   \n",
       "114          Zora Network              86400.0               146   \n",
       "\n",
       "     num_l1_txs_output  calldata_bytes_l1_inbox  avg_l1_gas_price_on_l1_inbox  \\\n",
       "24                  24               76582705.0                     17.907715   \n",
       "207                 24                1863638.0                     29.720391   \n",
       "98                  24               12091978.0                     21.221870   \n",
       "303                 24                2046297.0                     15.291874   \n",
       "114                 24                6050032.0                     21.960891   \n",
       "\n",
       "     avg_l1_gas_price_on_l1_output  avg_l1_gas_price_on_l2  ...  \\\n",
       "24                       17.845443            1.776221e+01  ...   \n",
       "207                      28.346003            3.075120e+06  ...   \n",
       "98                       21.396446            1.480522e+10  ...   \n",
       "303                      15.056151                     NaN  ...   \n",
       "114                      21.158316            8.349240e+09  ...   \n",
       "\n",
       "     l2_num_txs_per_day  l2_num_attr_deposit_txs_per_day  \\\n",
       "24             342105.0                          43200.0   \n",
       "207                 4.0                          43200.0   \n",
       "98             102392.0                          43200.0   \n",
       "303                 0.0                          43200.0   \n",
       "114             29667.0                          43200.0   \n",
       "\n",
       "     l2_num_user_deposit_txs_per_day  l1_gas_used_on_l2  \\\n",
       "24                             326.0       1.865555e+09   \n",
       "207                              2.0       1.207200e+04   \n",
       "98                              13.0       2.985427e+08   \n",
       "303                              0.0                NaN   \n",
       "114                              7.0       1.267450e+08   \n",
       "\n",
       "     calldata_bytes_l2_per_day   l2_gas_used  l2_eth_fees_per_day  \\\n",
       "24                 157754989.0  1.259217e+11            32.035408   \n",
       "207                 11233356.0  4.320159e+10             0.001220   \n",
       "98                  24788764.0  5.826737e+10             8.786903   \n",
       "303                 11232000.0  2.168383e+09             0.000000   \n",
       "114                 21221647.0  5.180086e+10             5.606701   \n",
       "\n",
       "     gas_compression_ratio  bytes_compression_ratio  dt_rank  \n",
       "24                0.662352                 0.485453        7  \n",
       "207            2719.672631                 0.165902       52  \n",
       "98                0.656950                 0.487801       25  \n",
       "303                    NaN                 0.182185       82  \n",
       "114               0.785874                 0.285088       29  \n",
       "\n",
       "[5 rows x 28 columns]"
      ]
     },
     "metadata": {},
     "output_type": "display_data"
    }
   ],
   "source": [
    "df = combo_df[combo_df['active_secs_per_day']==86400].copy()\n",
    "display(df.sample(5))"
   ]
  },
  {
   "cell_type": "code",
   "execution_count": 27,
   "metadata": {},
   "outputs": [
    {
     "data": {
      "text/plain": [
       "((246, 4), (62, 4))"
      ]
     },
     "execution_count": 27,
     "metadata": {},
     "output_type": "execute_result"
    }
   ],
   "source": [
    "# GPT Built model\n",
    "from sklearn.model_selection import train_test_split\n",
    "\n",
    "# Selecting the features and target variable\n",
    "features = ['l1_gas_used_on_l2', 'calldata_bytes_l2_per_day', 'l2_num_txs_per_day','l2_num_user_deposit_txs_per_day','l2_num_attr_deposit_txs_per_day']\n",
    "target = 'l1_gas_used_inbox'\n",
    "\n",
    "# Drop rows with missing values for now\n",
    "df_cleaned = df.dropna(subset=features + [target])\n",
    "\n",
    "# Splitting the data into training and testing sets (80% train, 20% test)\n",
    "X = df_cleaned[features]\n",
    "y = df_cleaned[target]\n",
    "\n",
    "X_train, X_test, y_train, y_test = train_test_split(X, y, test_size=0.2, random_state=42)\n",
    "\n",
    "X_train.shape, X_test.shape\n"
   ]
  },
  {
   "cell_type": "code",
   "execution_count": 28,
   "metadata": {},
   "outputs": [
    {
     "data": {
      "text/plain": [
       "(27372464.30356123, 1754736428310717.8, 0.9966963467175538)"
      ]
     },
     "execution_count": 28,
     "metadata": {},
     "output_type": "execute_result"
    }
   ],
   "source": [
    "from sklearn.linear_model import LinearRegression\n",
    "from sklearn.metrics import mean_absolute_error, mean_squared_error, r2_score\n",
    "\n",
    "# Initialize and train the linear regression model\n",
    "model = LinearRegression()\n",
    "model.fit(X_train, y_train)\n",
    "\n",
    "# Predict on the test set\n",
    "y_pred = model.predict(X_test)\n",
    "\n",
    "# Evaluate the model's performance\n",
    "mae = mean_absolute_error(y_test, y_pred)\n",
    "mse = mean_squared_error(y_test, y_pred)\n",
    "r2 = r2_score(y_test, y_pred)\n",
    "\n",
    "mae, mse, r2"
   ]
  },
  {
   "cell_type": "code",
   "execution_count": 29,
   "metadata": {},
   "outputs": [
    {
     "data": {
      "text/plain": [
       "(array([ 1.20171084e+00, -4.73524537e+00, -1.21058188e+03, -1.19818444e+04]),\n",
       " 96127538.9795456)"
      ]
     },
     "execution_count": 29,
     "metadata": {},
     "output_type": "execute_result"
    }
   ],
   "source": [
    "# Retrieve the coefficients and intercept of the model\n",
    "coefficients = model.coef_\n",
    "intercept = model.intercept_\n",
    "\n",
    "coefficients, intercept\n"
   ]
  },
  {
   "cell_type": "markdown",
   "metadata": {},
   "source": [
    "```\n",
    "r^2 = .9962\n",
    "\n",
    "l1_gas_used_inbox =\n",
    "          0.6543×l1_gas_used_on_l2\n",
    "        − 0.4929×calldata_bytes_l2_per_day\n",
    "        − 159.8580×l2_num_txs_per_day\n",
    "        + 40,193,003.72\n",
    "```\n",
    "        "
   ]
  },
  {
   "cell_type": "code",
   "execution_count": 30,
   "metadata": {},
   "outputs": [
    {
     "data": {
      "text/plain": [
       "['active_secs_per_day',\n",
       " 'l2_contrib_l2_eth_fees_per_day',\n",
       " 'l2_num_txs_per_day',\n",
       " 'l2_num_attr_deposit_txs_per_day',\n",
       " 'l2_num_user_deposit_txs_per_day',\n",
       " 'calldata_bytes_l2_per_day',\n",
       " 'l2_gas_used',\n",
       " 'l2_eth_fees_per_day',\n",
       " 'dt_rank',\n",
       " 'l1_gas_used_on_l2']"
      ]
     },
     "execution_count": 30,
     "metadata": {},
     "output_type": "execute_result"
    }
   ],
   "source": [
    "# test other features\n",
    "\n",
    "# Identify columns that do not include 'l1' and 'compression_ratio', except for the one already identified\n",
    "potential_features = [col for col in df.columns if 'l1' not in col and 'compression_ratio' not in col]\n",
    "potential_features.append('l1_gas_used_on_l2')  # add the already identified feature\n",
    "\n",
    "# Remove the non-feature columns (like identifiers and target)\n",
    "non_feature_columns = ['Unnamed: 0', 'join_id', 'dt', 'chain']\n",
    "potential_features = [col for col in potential_features if col not in non_feature_columns]\n",
    "\n",
    "potential_features\n",
    "\n"
   ]
  },
  {
   "cell_type": "code",
   "execution_count": 31,
   "metadata": {},
   "outputs": [
    {
     "name": "stdout",
     "output_type": "stream",
     "text": [
      "0.9966963467175538 0.9969069811109506 {'active_secs_per_day': 0.9969069810573787, 'l2_contrib_l2_eth_fees_per_day': 0.9968483448812926, 'l2_num_txs_per_day': 0.9955852403671834, 'l2_num_attr_deposit_txs_per_day': 0.9969069811130433, 'l2_num_user_deposit_txs_per_day': 0.996907503702946, 'calldata_bytes_l2_per_day': 0.9952678252635068, 'l2_gas_used': 0.9975234499113806, 'l2_eth_fees_per_day': 0.9963300793603539, 'dt_rank': 0.9969304529178015, 'l1_gas_used_on_l2': 0.9902825182110927}\n",
      "this shows that our original model was \"best\"\n"
     ]
    }
   ],
   "source": [
    "# Re-preprocess the data considering all potential features\n",
    "df_cleaned_all = df.dropna(subset=potential_features + [target])\n",
    "\n",
    "# Splitting the data again\n",
    "X_all = df_cleaned_all[potential_features]\n",
    "y_all = df_cleaned_all[target]\n",
    "\n",
    "X_train_all, X_test_all, y_train_all, y_test_all = train_test_split(X_all, y_all, test_size=0.2, random_state=42)\n",
    "\n",
    "# Updated function to evaluate features using the new datasets\n",
    "def evaluate_features_updated(features_list):\n",
    "    X_train_subset = X_train_all[features_list]\n",
    "    X_test_subset = X_test_all[features_list]\n",
    "\n",
    "    # Train the model\n",
    "    model = LinearRegression()\n",
    "    model.fit(X_train_subset, y_train_all)\n",
    "\n",
    "    # Predict and evaluate\n",
    "    y_pred = model.predict(X_test_subset)\n",
    "    r2 = r2_score(y_test_all, y_pred)\n",
    "    return r2\n",
    "\n",
    "# Re-evaluate models\n",
    "original_r2_updated = evaluate_features_updated(['l1_gas_used_on_l2', 'calldata_bytes_l2_per_day', 'l2_num_txs_per_day','l2_num_user_deposit_txs_per_day'])\n",
    "all_features_r2_updated = evaluate_features_updated(potential_features)\n",
    "\n",
    "# Removing one feature at a time from the full set\n",
    "drop_one_r2_updated = {}\n",
    "for feature in potential_features:\n",
    "    subset = [f for f in potential_features if f != feature]\n",
    "    r2 = evaluate_features_updated(subset)\n",
    "    drop_one_r2_updated[feature] = r2\n",
    "\n",
    "print(original_r2_updated, all_features_r2_updated, drop_one_r2_updated)\n",
    "print('this shows that our original model was \"best\"')"
   ]
  },
  {
   "cell_type": "code",
   "execution_count": 32,
   "metadata": {},
   "outputs": [
    {
     "data": {
      "image/png": "[encoded data removed]",
      "text/plain": [
       "<Figure size 1000x700 with 1 Axes>"
      ]
     },
     "metadata": {},
     "output_type": "display_data"
    }
   ],
   "source": [
    "# Train the best model on the original set of features\n",
    "best_features = ['l1_gas_used_on_l2', 'calldata_bytes_l2_per_day', 'l2_num_txs_per_day']\n",
    "X_train_best = X_train_all[best_features]\n",
    "X_test_best = X_test_all[best_features]\n",
    "\n",
    "best_model = LinearRegression()\n",
    "best_model.fit(X_train_best, y_train_all)\n",
    "\n",
    "# Retrieve the coefficients and intercept of the best model\n",
    "best_coefficients = best_model.coef_\n",
    "best_intercept = best_model.intercept_\n",
    "\n",
    "best_coefficients, best_intercept\n",
    "\n",
    "import matplotlib.pyplot as plt\n",
    "\n",
    "# Predict with the best model\n",
    "y_pred_best = best_model.predict(X_test_best)\n",
    "\n",
    "# Plotting actual vs predicted values\n",
    "plt.figure(figsize=(10, 7))\n",
    "plt.scatter(y_test_all, y_pred_best, alpha=0.7)\n",
    "plt.plot([y_test_all.min(), y_test_all.max()], [y_test_all.min(), y_test_all.max()], 'k--', lw=2)\n",
    "plt.xlabel('Actual l1_gas_used_inbox')\n",
    "plt.ylabel('Predicted l1_gas_used_inbox')\n",
    "plt.title('Actual vs Predicted l1_gas_used_inbox')\n",
    "plt.grid(True)\n",
    "plt.show()\n"
   ]
  },
  {
   "cell_type": "code",
   "execution_count": 33,
   "metadata": {},
   "outputs": [
    {
     "data": {
      "image/png": "[encoded data removed]",
      "text/plain": [
       "<Figure size 1000x700 with 1 Axes>"
      ]
     },
     "metadata": {},
     "output_type": "display_data"
    }
   ],
   "source": [
    "# Test Polynomial Model\n",
    "\n",
    "# Calculate residuals\n",
    "residuals = y_test_all - y_pred_best\n",
    "\n",
    "# Plotting residuals against predicted values\n",
    "plt.figure(figsize=(10, 7))\n",
    "plt.scatter(y_pred_best, residuals, alpha=0.7)\n",
    "plt.axhline(0, color='k', linestyle='--', lw=2)\n",
    "plt.xlabel('Predicted l1_gas_used_inbox')\n",
    "plt.ylabel('Residuals')\n",
    "plt.title('Residuals vs Predicted l1_gas_used_inbox')\n",
    "plt.grid(True)\n",
    "plt.show()\n"
   ]
  },
  {
   "cell_type": "code",
   "execution_count": 34,
   "metadata": {},
   "outputs": [
    {
     "data": {
      "text/plain": [
       "(0.9978157924990029, 23609317.47659536, 1160142466933241.0)"
      ]
     },
     "execution_count": 34,
     "metadata": {},
     "output_type": "execute_result"
    }
   ],
   "source": [
    "from sklearn.preprocessing import PolynomialFeatures\n",
    "\n",
    "# Generate polynomial features\n",
    "poly_transformer = PolynomialFeatures(degree=2, include_bias=False)\n",
    "X_train_poly = poly_transformer.fit_transform(X_train_best)\n",
    "X_test_poly = poly_transformer.transform(X_test_best)\n",
    "\n",
    "# Train the polynomial regression model\n",
    "poly_model = LinearRegression()\n",
    "poly_model.fit(X_train_poly, y_train_all)\n",
    "\n",
    "# Predict and evaluate\n",
    "y_pred_poly = poly_model.predict(X_test_poly)\n",
    "r2_poly = r2_score(y_test_all, y_pred_poly)\n",
    "mae_poly = mean_absolute_error(y_test_all, y_pred_poly)\n",
    "mse_poly = mean_squared_error(y_test_all, y_pred_poly)\n",
    "\n",
    "r2_poly, mae_poly, mse_poly\n"
   ]
  },
  {
   "cell_type": "code",
   "execution_count": 35,
   "metadata": {},
   "outputs": [
    {
     "data": {
      "image/png": "[encoded data removed]",
      "text/plain": [
       "<Figure size 1000x700 with 1 Axes>"
      ]
     },
     "metadata": {},
     "output_type": "display_data"
    }
   ],
   "source": [
    "# Plotting actual vs predicted values for the polynomial regression model\n",
    "plt.figure(figsize=(10, 7))\n",
    "plt.scatter(y_test_all, y_pred_poly, alpha=0.7, label='Polynomial Regression')\n",
    "plt.scatter(y_test_all, y_pred_best, alpha=0.7, color='red', marker='x', label='Linear Regression')\n",
    "plt.plot([y_test_all.min(), y_test_all.max()], [y_test_all.min(), y_test_all.max()], 'k--', lw=2)\n",
    "plt.xlabel('Actual l1_gas_used_inbox')\n",
    "plt.ylabel('Predicted l1_gas_used_inbox')\n",
    "plt.title('Actual vs Predicted l1_gas_used_inbox (Polynomial vs Linear)')\n",
    "plt.legend()\n",
    "plt.grid(True)\n",
    "plt.show()\n"
   ]
  },
  {
   "cell_type": "code",
   "execution_count": 36,
   "metadata": {},
   "outputs": [
    {
     "data": {
      "image/png": "[encoded data removed]",
      "text/plain": [
       "<Figure size 1000x700 with 1 Axes>"
      ]
     },
     "metadata": {},
     "output_type": "display_data"
    },
    {
     "ename": "AttributeError",
     "evalue": "'PolynomialFeatures' object has no attribute 'get_feature_names'",
     "output_type": "error",
     "traceback": [
      "\u001b[0;31m---------------------------------------------------------------------------\u001b[0m",
      "\u001b[0;31mAttributeError\u001b[0m                            Traceback (most recent call last)",
      "Cell \u001b[0;32mIn[36], line 21\u001b[0m\n\u001b[1;32m     18\u001b[0m poly_intercept \u001b[39m=\u001b[39m poly_model\u001b[39m.\u001b[39mintercept_\n\u001b[1;32m     20\u001b[0m \u001b[39m# Mapping feature names to their polynomial terms\u001b[39;00m\n\u001b[0;32m---> 21\u001b[0m feature_names \u001b[39m=\u001b[39m poly_transformer\u001b[39m.\u001b[39;49mget_feature_names(input_features\u001b[39m=\u001b[39mbest_features)\n\u001b[1;32m     23\u001b[0m poly_equation \u001b[39m=\u001b[39m \u001b[39mf\u001b[39m\u001b[39m\"\u001b[39m\u001b[39ml1_gas_used_inbox = \u001b[39m\u001b[39m{\u001b[39;00mpoly_intercept\u001b[39m:\u001b[39;00m\u001b[39m.2f\u001b[39m\u001b[39m}\u001b[39;00m\u001b[39m\"\u001b[39m\n\u001b[1;32m     24\u001b[0m \u001b[39mfor\u001b[39;00m coef, feature \u001b[39min\u001b[39;00m \u001b[39mzip\u001b[39m(poly_coefficients, feature_names):\n",
      "\u001b[0;31mAttributeError\u001b[0m: 'PolynomialFeatures' object has no attribute 'get_feature_names'"
     ]
    }
   ],
   "source": [
    "# Calculate residuals for the polynomial model\n",
    "residuals_poly = y_test_all - y_pred_poly\n",
    "\n",
    "# Plotting residuals comparison\n",
    "plt.figure(figsize=(10, 7))\n",
    "plt.scatter(y_pred_best, residuals, alpha=0.7, color='red', marker='x', label='Linear Regression Residuals')\n",
    "plt.scatter(y_pred_poly, residuals_poly, alpha=0.7, color='blue', label='Polynomial Regression Residuals')\n",
    "plt.axhline(0, color='k', linestyle='--', lw=2)\n",
    "plt.xlabel('Predicted l1_gas_used_inbox')\n",
    "plt.ylabel('Residuals')\n",
    "plt.title('Residuals Comparison (Linear vs Polynomial)')\n",
    "plt.legend()\n",
    "plt.grid(True)\n",
    "plt.show()\n",
    "\n",
    "# Retrieve the coefficients from the polynomial model\n",
    "poly_coefficients = poly_model.coef_\n",
    "poly_intercept = poly_model.intercept_\n",
    "\n",
    "# Mapping feature names to their polynomial terms\n",
    "feature_names = poly_transformer.get_feature_names(input_features=best_features)\n",
    "\n",
    "poly_equation = f\"l1_gas_used_inbox = {poly_intercept:.2f}\"\n",
    "for coef, feature in zip(poly_coefficients, feature_names):\n",
    "    poly_equation += f\" + {coef:.2f}*{feature}\"\n",
    "\n",
    "poly_equation\n"
   ]
  },
  {
   "cell_type": "markdown",
   "metadata": {},
   "source": [
    "#### Linear Model\n",
    "$$\n",
    "\\begin{align*}\n",
    "\\text{l1\\_gas\\_used\\_inbox} &= 40,193,003.72 \\\\\n",
    "&+ 0.6543 \\times \\text{l1\\_gas\\_used\\_on\\_l2} \\\\\n",
    "&- 0.4929 \\times \\text{calldata\\_bytes\\_l2\\_per\\_day} \\\\\n",
    "&- 159.8580 \\times \\text{l2\\_num\\_txs\\_per\\_day} \\\\\n",
    "R^2 &= 0.9962 \\\\\n",
    "\\end{align*}\n"
   ]
  },
  {
   "cell_type": "markdown",
   "metadata": {},
   "source": [
    "#### Polynomial Model\n",
    "$$\n",
    "\\begin{align*}\n",
    "\\text{l1\\_gas\\_used\\_inbox} &= -88,399,846.41 \\\\\n",
    "&- 1.03 \\times \\text{l1\\_gas\\_used\\_on\\_l2} \\\\\n",
    "&+ 13.77 \\times \\text{calldata\\_bytes\\_l2\\_per\\_day} \\\\\n",
    "&+ 2824.17 \\times \\text{l2\\_num\\_txs\\_per\\_day} \\\\\n",
    "&- 0.00 \\times \\text{l1\\_gas\\_used\\_on\\_l2}^2 \\\\\n",
    "&+ 0.00 \\times \\text{l1\\_gas\\_used\\_on\\_l2} \\times \\text{calldata\\_bytes\\_l2\\_per\\_day} \\\\\n",
    "&+ 0.00 \\times \\text{l1\\_gas\\_used\\_on\\_l2} \\times \\text{l2\\_num\\_txs\\_per\\_day} \\\\\n",
    "&- 0.00 \\times \\text{calldata\\_bytes\\_l2\\_per\\_day}^2 \\\\\n",
    "&- 0.00 \\times \\text{calldata\\_bytes\\_l2\\_per\\_day} \\times \\text{l2\\_num\\_txs\\_per\\_day} \\\\\n",
    "&- 0.01 \\times \\text{l2\\_num\\_txs\\_per\\_day}^2 \\\\\n",
    "R^2 &= 0.9974 \\\\\n",
    "\\end{align*}\n"
   ]
  },
  {
   "cell_type": "markdown",
   "metadata": {},
   "source": [
    "Linear model is much simpler, so let's just use that. It breaks down a bit at larger gas used environments, so we'll refine as we have more days like that.\n",
    "\n",
    "Note: This only applies to the standard OP Chain config. We have a more detailed projection model for changed configs, but note that the config change model is way more involved and potentially inaccurate"
   ]
  }
 ],
 "metadata": {
  "kernelspec": {
   "display_name": "new-env",
   "language": "python",
   "name": "python3"
  },
  "language_info": {
   "codemirror_mode": {
    "name": "ipython",
    "version": 3
   },
   "file_extension": ".py",
   "mimetype": "text/x-python",
   "name": "python",
   "nbconvert_exporter": "python",
   "pygments_lexer": "ipython3",
   "version": "3.10.11"
  },
  "orig_nbformat": 4
 },
 "nbformat": 4,
 "nbformat_minor": 2
}
