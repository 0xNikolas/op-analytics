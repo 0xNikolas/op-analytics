{
 "cells": [
  {
   "cell_type": "code",
   "execution_count": 158,
   "metadata": {},
   "outputs": [],
   "source": [
    "import pandas as pd\n",
    "import numpy as np\n",
    "import plotly.express as px\n",
    "\n",
    "columns = [\n",
    "        # 'join_id',\n",
    "        'dt','chain', 'active_secs_per_day'\n",
    "        ,'num_l1_txs_inbox','num_l1_txs_output','calldata_bytes_l1_inbox'\n",
    "        ,'avg_l1_gas_price_on_l1_inbox','avg_l1_gas_price_on_l1_output','avg_l1_gas_price_on_l2'\n",
    "        ,'l1_gas_used_inbox','l1_gas_used_output','l1_gas_used_combined'\n",
    "        ,'l1_eth_fees_inbox','l1_eth_fees_output','l1_eth_fees_combined'\n",
    "        ,'l1_contrib_l2_eth_fees_per_day','l2_contrib_l2_eth_fees_per_day'\n",
    "        # ,'l2_num_raw_txs_per_day'\n",
    "        ,'l2_num_txs_per_day', 'l2_num_attr_deposit_txs_per_day', 'l2_num_user_deposit_txs_per_day'\n",
    "        ,'l1_gas_used_on_l2','calldata_bytes_l2_per_day','calldata_gas_l2_per_day'\n",
    "        ,'l1_gas_used_user_txs_l2_per_day','calldata_bytes_user_txs_l2_per_day', 'calldata_gas_user_txs_l2_per_day'\n",
    "        ,'l2_gas_used','l2_gas_used_user_txs_per_day','l2_eth_fees_per_day'\n",
    "        ,'avg_l2_base_fee_gwei', 'avg_l2_gas_price_gwei'\n",
    "        ]"
   ]
  },
  {
   "cell_type": "code",
   "execution_count": 159,
   "metadata": {},
   "outputs": [],
   "source": [
    "#Unify datasets\n",
    "dunedf = pd.read_csv('csv_inputs/op_chain_gas_economics_dune_query_2453515_dt2023_09_20_180day.csv') #https://dune.com/queries/2453515 --last 90 days\n",
    "# goldskydf = pd.read_csv('csv_inputs/op_chain_gas_economics_goldsky_zora_pgn_dt2023_09_12.csv') #requires auth - https://dash.goldsky.com/question/9-op-chains-activity-by-period"
   ]
  },
  {
   "cell_type": "code",
   "execution_count": 160,
   "metadata": {},
   "outputs": [],
   "source": [
    "# Map Chain Names\n",
    "chain_mappings = {\n",
    "    'zora': 'Zora Network',\n",
    "    'pgn': 'Public Goods Network',\n",
    "    # Add more mappings as needed\n",
    "}\n",
    "# goldskydf['chain'] = goldskydf['chain'].replace(chain_mappings)\n",
    "dunedf['name'] = dunedf['name'].replace(chain_mappings)\n",
    "dunedf['avg_l2_priority_fee_gwei'] = dunedf['avg_l2_gas_price_gwei'] - dunedf['avg_l2_base_fee_gwei']\n",
    "dunedf['eth_fees_margin_per_day'] = dunedf['l2_eth_fees_per_day'] - dunedf['l1_eth_fees_combined']\n",
    "# print(dunedf.columns)\n",
    "\n",
    "added_cols = ['avg_l2_priority_fee_gwei','eth_fees_margin_per_day']"
   ]
  },
  {
   "cell_type": "code",
   "execution_count": 161,
   "metadata": {},
   "outputs": [
    {
     "name": "stdout",
     "output_type": "stream",
     "text": [
      "[]\n"
     ]
    }
   ],
   "source": [
    "#Configure\n",
    "#rename cols\n",
    "dunedf = dunedf.rename(columns={\n",
    "                        'name':'chain'\n",
    "                        })\n",
    "difference = set(columns) - set(dunedf.columns)\n",
    "result = list(difference)\n",
    "\n",
    "print(result)\n"
   ]
  },
  {
   "cell_type": "code",
   "execution_count": 162,
   "metadata": {},
   "outputs": [],
   "source": [
    "#Generate Join ID Column\n",
    "# dunedf['join_id'] = dunedf['dt'].astype(str).str[:10].str.cat(dunedf['chain'].astype(str).str.lower())\n",
    "# goldskydf['join_id'] = goldskydf['dt'].astype(str).str[:10].str.cat(goldskydf['chain'].astype(str).str.lower())\n",
    "\n",
    "# display(dunedf.head(10))\n",
    "# print(dunedf.columns)\n",
    "# print('---')\n",
    "# display(goldskydf.head(10))\n",
    "# print(goldskydf.columns)\n",
    "\n",
    "combo_df = dunedf.copy()#merge(goldskydf, on='join_id', how='left')\n",
    "\n",
    "# display(combo_df)\n",
    "\n",
    "# for c in columns:\n",
    "#         try:\n",
    "#                 combo_df[c] = combo_df[c+'_x'].combine_first(combo_df[c+'_y']) #pick first non-null\n",
    "#         except:\n",
    "#                 combo_df[c] = combo_df[c] #nada\n",
    "\n",
    "combo_df['dt'] = pd.to_datetime(combo_df['dt'])\n",
    "combo_df = combo_df[columns + added_cols]\n",
    "\n",
    "combo_df['gas_compression_ratio'] = combo_df['l1_gas_used_inbox'] / combo_df['l1_gas_used_on_l2']\n",
    "combo_df['bytes_compression_ratio'] = combo_df['calldata_bytes_l1_inbox'] / combo_df['calldata_bytes_l2_per_day']\n",
    "combo_df['dt_rank'] = combo_df['dt'].rank(method='dense', ascending=False).astype('int')"
   ]
  },
  {
   "cell_type": "code",
   "execution_count": 163,
   "metadata": {},
   "outputs": [
    {
     "data": {
      "text/html": [
       "<div>\n",
       "<style scoped>\n",
       "    .dataframe tbody tr th:only-of-type {\n",
       "        vertical-align: middle;\n",
       "    }\n",
       "\n",
       "    .dataframe tbody tr th {\n",
       "        vertical-align: top;\n",
       "    }\n",
       "\n",
       "    .dataframe thead th {\n",
       "        text-align: right;\n",
       "    }\n",
       "</style>\n",
       "<table border=\"1\" class=\"dataframe\">\n",
       "  <thead>\n",
       "    <tr style=\"text-align: right;\">\n",
       "      <th></th>\n",
       "      <th>dt</th>\n",
       "      <th>chain</th>\n",
       "      <th>active_secs_per_day</th>\n",
       "      <th>num_l1_txs_inbox</th>\n",
       "      <th>num_l1_txs_output</th>\n",
       "      <th>calldata_bytes_l1_inbox</th>\n",
       "      <th>avg_l1_gas_price_on_l1_inbox</th>\n",
       "      <th>avg_l1_gas_price_on_l1_output</th>\n",
       "      <th>avg_l1_gas_price_on_l2</th>\n",
       "      <th>l1_gas_used_inbox</th>\n",
       "      <th>...</th>\n",
       "      <th>l2_gas_used</th>\n",
       "      <th>l2_gas_used_user_txs_per_day</th>\n",
       "      <th>l2_eth_fees_per_day</th>\n",
       "      <th>avg_l2_base_fee_gwei</th>\n",
       "      <th>avg_l2_gas_price_gwei</th>\n",
       "      <th>avg_l2_priority_fee_gwei</th>\n",
       "      <th>eth_fees_margin_per_day</th>\n",
       "      <th>gas_compression_ratio</th>\n",
       "      <th>bytes_compression_ratio</th>\n",
       "      <th>dt_rank</th>\n",
       "    </tr>\n",
       "  </thead>\n",
       "  <tbody>\n",
       "    <tr>\n",
       "      <th>36</th>\n",
       "      <td>2023-09-10 00:00:00+00:00</td>\n",
       "      <td>Base</td>\n",
       "      <td>86400.000</td>\n",
       "      <td>1462</td>\n",
       "      <td>24</td>\n",
       "      <td>90063416.000</td>\n",
       "      <td>9.732</td>\n",
       "      <td>9.664</td>\n",
       "      <td>9.672</td>\n",
       "      <td>1466979200.000</td>\n",
       "      <td>...</td>\n",
       "      <td>220709055222.000</td>\n",
       "      <td>218265945132.000</td>\n",
       "      <td>34.550</td>\n",
       "      <td>0.011</td>\n",
       "      <td>0.082</td>\n",
       "      <td>0.071</td>\n",
       "      <td>20.253</td>\n",
       "      <td>0.580</td>\n",
       "      <td>0.659</td>\n",
       "      <td>10</td>\n",
       "    </tr>\n",
       "    <tr>\n",
       "      <th>148</th>\n",
       "      <td>2023-08-13 00:00:00+00:00</td>\n",
       "      <td>Base</td>\n",
       "      <td>86400.000</td>\n",
       "      <td>1432</td>\n",
       "      <td>24</td>\n",
       "      <td>80615023.000</td>\n",
       "      <td>14.513</td>\n",
       "      <td>13.942</td>\n",
       "      <td>14.470</td>\n",
       "      <td>1316027488.000</td>\n",
       "      <td>...</td>\n",
       "      <td>107551203123.000</td>\n",
       "      <td>104836733266.000</td>\n",
       "      <td>71.622</td>\n",
       "      <td>0.000</td>\n",
       "      <td>0.479</td>\n",
       "      <td>0.479</td>\n",
       "      <td>52.493</td>\n",
       "      <td>0.610</td>\n",
       "      <td>0.553</td>\n",
       "      <td>38</td>\n",
       "    </tr>\n",
       "    <tr>\n",
       "      <th>297</th>\n",
       "      <td>2023-07-06 00:00:00+00:00</td>\n",
       "      <td>Base</td>\n",
       "      <td>NaN</td>\n",
       "      <td>1423</td>\n",
       "      <td>24</td>\n",
       "      <td>2040698.000</td>\n",
       "      <td>39.744</td>\n",
       "      <td>40.030</td>\n",
       "      <td>NaN</td>\n",
       "      <td>62318612.000</td>\n",
       "      <td>...</td>\n",
       "      <td>NaN</td>\n",
       "      <td>NaN</td>\n",
       "      <td>NaN</td>\n",
       "      <td>NaN</td>\n",
       "      <td>NaN</td>\n",
       "      <td>NaN</td>\n",
       "      <td>NaN</td>\n",
       "      <td>NaN</td>\n",
       "      <td>NaN</td>\n",
       "      <td>76</td>\n",
       "    </tr>\n",
       "    <tr>\n",
       "      <th>264</th>\n",
       "      <td>2023-07-15 00:00:00+00:00</td>\n",
       "      <td>OP Mainnet</td>\n",
       "      <td>86400.000</td>\n",
       "      <td>873</td>\n",
       "      <td>24</td>\n",
       "      <td>96042756.000</td>\n",
       "      <td>14.022</td>\n",
       "      <td>13.871</td>\n",
       "      <td>13.921</td>\n",
       "      <td>1550677332.000</td>\n",
       "      <td>...</td>\n",
       "      <td>142759957378.000</td>\n",
       "      <td>140485818521.000</td>\n",
       "      <td>31.281</td>\n",
       "      <td>0.000</td>\n",
       "      <td>0.047</td>\n",
       "      <td>0.047</td>\n",
       "      <td>9.508</td>\n",
       "      <td>0.597</td>\n",
       "      <td>0.429</td>\n",
       "      <td>67</td>\n",
       "    </tr>\n",
       "    <tr>\n",
       "      <th>58</th>\n",
       "      <td>2023-09-05 00:00:00+00:00</td>\n",
       "      <td>Zora Network</td>\n",
       "      <td>86400.000</td>\n",
       "      <td>166</td>\n",
       "      <td>24</td>\n",
       "      <td>12852612.000</td>\n",
       "      <td>17.508</td>\n",
       "      <td>17.238</td>\n",
       "      <td>17.329</td>\n",
       "      <td>208506360.000</td>\n",
       "      <td>...</td>\n",
       "      <td>14143539621.000</td>\n",
       "      <td>11858114438.000</td>\n",
       "      <td>7.961</td>\n",
       "      <td>0.000</td>\n",
       "      <td>0.365</td>\n",
       "      <td>0.365</td>\n",
       "      <td>4.275</td>\n",
       "      <td>0.679</td>\n",
       "      <td>0.434</td>\n",
       "      <td>15</td>\n",
       "    </tr>\n",
       "  </tbody>\n",
       "</table>\n",
       "<p>5 rows × 36 columns</p>\n",
       "</div>"
      ],
      "text/plain": [
       "                           dt         chain  active_secs_per_day  \\\n",
       "36  2023-09-10 00:00:00+00:00          Base            86400.000   \n",
       "148 2023-08-13 00:00:00+00:00          Base            86400.000   \n",
       "297 2023-07-06 00:00:00+00:00          Base                  NaN   \n",
       "264 2023-07-15 00:00:00+00:00    OP Mainnet            86400.000   \n",
       "58  2023-09-05 00:00:00+00:00  Zora Network            86400.000   \n",
       "\n",
       "     num_l1_txs_inbox  num_l1_txs_output  calldata_bytes_l1_inbox  \\\n",
       "36               1462                 24             90063416.000   \n",
       "148              1432                 24             80615023.000   \n",
       "297              1423                 24              2040698.000   \n",
       "264               873                 24             96042756.000   \n",
       "58                166                 24             12852612.000   \n",
       "\n",
       "     avg_l1_gas_price_on_l1_inbox  avg_l1_gas_price_on_l1_output  \\\n",
       "36                          9.732                          9.664   \n",
       "148                        14.513                         13.942   \n",
       "297                        39.744                         40.030   \n",
       "264                        14.022                         13.871   \n",
       "58                         17.508                         17.238   \n",
       "\n",
       "     avg_l1_gas_price_on_l2  l1_gas_used_inbox  ...      l2_gas_used  \\\n",
       "36                    9.672     1466979200.000  ... 220709055222.000   \n",
       "148                  14.470     1316027488.000  ... 107551203123.000   \n",
       "297                     NaN       62318612.000  ...              NaN   \n",
       "264                  13.921     1550677332.000  ... 142759957378.000   \n",
       "58                   17.329      208506360.000  ...  14143539621.000   \n",
       "\n",
       "     l2_gas_used_user_txs_per_day  l2_eth_fees_per_day  avg_l2_base_fee_gwei  \\\n",
       "36               218265945132.000               34.550                 0.011   \n",
       "148              104836733266.000               71.622                 0.000   \n",
       "297                           NaN                  NaN                   NaN   \n",
       "264              140485818521.000               31.281                 0.000   \n",
       "58                11858114438.000                7.961                 0.000   \n",
       "\n",
       "     avg_l2_gas_price_gwei  avg_l2_priority_fee_gwei  eth_fees_margin_per_day  \\\n",
       "36                   0.082                     0.071                   20.253   \n",
       "148                  0.479                     0.479                   52.493   \n",
       "297                    NaN                       NaN                      NaN   \n",
       "264                  0.047                     0.047                    9.508   \n",
       "58                   0.365                     0.365                    4.275   \n",
       "\n",
       "     gas_compression_ratio  bytes_compression_ratio  dt_rank  \n",
       "36                   0.580                    0.659       10  \n",
       "148                  0.610                    0.553       38  \n",
       "297                    NaN                      NaN       76  \n",
       "264                  0.597                    0.429       67  \n",
       "58                   0.679                    0.434       15  \n",
       "\n",
       "[5 rows x 36 columns]"
      ]
     },
     "metadata": {},
     "output_type": "display_data"
    }
   ],
   "source": [
    "display( combo_df.sample(5) )\n",
    "\n",
    "combo_df.to_csv('outputs/op_chain_gas_economics_sample.csv')"
   ]
  },
  {
   "cell_type": "code",
   "execution_count": 164,
   "metadata": {},
   "outputs": [
    {
     "name": "stdout",
     "output_type": "stream",
     "text": [
      "Blended gas compression ratio: 62.4%\n",
      "Blended bytes compression ratio: 52.3%\n"
     ]
    }
   ],
   "source": [
    "bl_gas_ratio = combo_df['l1_gas_used_inbox'].sum() / combo_df['l1_gas_used_user_txs_l2_per_day'].sum()\n",
    "bl_bytes_ratio = combo_df['calldata_bytes_l1_inbox'].sum() / combo_df['calldata_bytes_user_txs_l2_per_day'].sum()\n",
    "print('Blended gas compression ratio: ' + str(round(bl_gas_ratio*100,1)) + '%')\n",
    "print('Blended bytes compression ratio: ' + str(round(bl_bytes_ratio*100,1)) + '%')"
   ]
  },
  {
   "cell_type": "code",
   "execution_count": 165,
   "metadata": {},
   "outputs": [
    {
     "data": {
      "text/html": [
       "<div>\n",
       "<style scoped>\n",
       "    .dataframe tbody tr th:only-of-type {\n",
       "        vertical-align: middle;\n",
       "    }\n",
       "\n",
       "    .dataframe tbody tr th {\n",
       "        vertical-align: top;\n",
       "    }\n",
       "\n",
       "    .dataframe thead th {\n",
       "        text-align: right;\n",
       "    }\n",
       "</style>\n",
       "<table border=\"1\" class=\"dataframe\">\n",
       "  <thead>\n",
       "    <tr style=\"text-align: right;\">\n",
       "      <th></th>\n",
       "      <th>dt</th>\n",
       "      <th>chain</th>\n",
       "      <th>active_secs_per_day</th>\n",
       "      <th>num_l1_txs_inbox</th>\n",
       "      <th>num_l1_txs_output</th>\n",
       "      <th>calldata_bytes_l1_inbox</th>\n",
       "      <th>avg_l1_gas_price_on_l1_inbox</th>\n",
       "      <th>avg_l1_gas_price_on_l1_output</th>\n",
       "      <th>avg_l1_gas_price_on_l2</th>\n",
       "      <th>l1_gas_used_inbox</th>\n",
       "      <th>...</th>\n",
       "      <th>l2_gas_used</th>\n",
       "      <th>l2_gas_used_user_txs_per_day</th>\n",
       "      <th>l2_eth_fees_per_day</th>\n",
       "      <th>avg_l2_base_fee_gwei</th>\n",
       "      <th>avg_l2_gas_price_gwei</th>\n",
       "      <th>avg_l2_priority_fee_gwei</th>\n",
       "      <th>eth_fees_margin_per_day</th>\n",
       "      <th>gas_compression_ratio</th>\n",
       "      <th>bytes_compression_ratio</th>\n",
       "      <th>dt_rank</th>\n",
       "    </tr>\n",
       "  </thead>\n",
       "  <tbody>\n",
       "    <tr>\n",
       "      <th>0</th>\n",
       "      <td>2023-09-19 00:00:00+00:00</td>\n",
       "      <td>Base</td>\n",
       "      <td>86400.000</td>\n",
       "      <td>1667</td>\n",
       "      <td>24</td>\n",
       "      <td>115969659.000</td>\n",
       "      <td>13.058</td>\n",
       "      <td>11.729</td>\n",
       "      <td>13.205</td>\n",
       "      <td>1884225924.000</td>\n",
       "      <td>...</td>\n",
       "      <td>220526908466.000</td>\n",
       "      <td>218118691922.000</td>\n",
       "      <td>49.795</td>\n",
       "      <td>0.010</td>\n",
       "      <td>0.082</td>\n",
       "      <td>0.072</td>\n",
       "      <td>25.166</td>\n",
       "      <td>0.533</td>\n",
       "      <td>0.645</td>\n",
       "      <td>1</td>\n",
       "    </tr>\n",
       "    <tr>\n",
       "      <th>1</th>\n",
       "      <td>2023-09-19 00:00:00+00:00</td>\n",
       "      <td>OP Mainnet</td>\n",
       "      <td>86400.000</td>\n",
       "      <td>561</td>\n",
       "      <td>24</td>\n",
       "      <td>64802808.000</td>\n",
       "      <td>12.478</td>\n",
       "      <td>11.373</td>\n",
       "      <td>12.321</td>\n",
       "      <td>1045714116.000</td>\n",
       "      <td>...</td>\n",
       "      <td>221022281924.000</td>\n",
       "      <td>218760297432.000</td>\n",
       "      <td>37.426</td>\n",
       "      <td>0.075</td>\n",
       "      <td>0.109</td>\n",
       "      <td>0.034</td>\n",
       "      <td>24.354</td>\n",
       "      <td>0.648</td>\n",
       "      <td>0.462</td>\n",
       "      <td>1</td>\n",
       "    </tr>\n",
       "    <tr>\n",
       "      <th>2</th>\n",
       "      <td>2023-09-19 00:00:00+00:00</td>\n",
       "      <td>Zora Network</td>\n",
       "      <td>86400.000</td>\n",
       "      <td>148</td>\n",
       "      <td>24</td>\n",
       "      <td>10626024.000</td>\n",
       "      <td>12.396</td>\n",
       "      <td>12.031</td>\n",
       "      <td>12.069</td>\n",
       "      <td>172625664.000</td>\n",
       "      <td>...</td>\n",
       "      <td>12063546566.000</td>\n",
       "      <td>9814224699.000</td>\n",
       "      <td>3.243</td>\n",
       "      <td>0.000</td>\n",
       "      <td>0.146</td>\n",
       "      <td>0.146</td>\n",
       "      <td>1.078</td>\n",
       "      <td>0.786</td>\n",
       "      <td>0.432</td>\n",
       "      <td>1</td>\n",
       "    </tr>\n",
       "    <tr>\n",
       "      <th>4</th>\n",
       "      <td>2023-09-18 00:00:00+00:00</td>\n",
       "      <td>Base</td>\n",
       "      <td>86400.000</td>\n",
       "      <td>1765</td>\n",
       "      <td>24</td>\n",
       "      <td>126965466.000</td>\n",
       "      <td>19.492</td>\n",
       "      <td>14.246</td>\n",
       "      <td>20.031</td>\n",
       "      <td>2061454812.000</td>\n",
       "      <td>...</td>\n",
       "      <td>220609018037.000</td>\n",
       "      <td>218193812029.000</td>\n",
       "      <td>93.364</td>\n",
       "      <td>0.093</td>\n",
       "      <td>0.175</td>\n",
       "      <td>0.081</td>\n",
       "      <td>53.153</td>\n",
       "      <td>0.511</td>\n",
       "      <td>0.653</td>\n",
       "      <td>2</td>\n",
       "    </tr>\n",
       "    <tr>\n",
       "      <th>5</th>\n",
       "      <td>2023-09-18 00:00:00+00:00</td>\n",
       "      <td>OP Mainnet</td>\n",
       "      <td>86400.000</td>\n",
       "      <td>546</td>\n",
       "      <td>24</td>\n",
       "      <td>62864270.000</td>\n",
       "      <td>15.981</td>\n",
       "      <td>15.227</td>\n",
       "      <td>15.549</td>\n",
       "      <td>1014412664.000</td>\n",
       "      <td>...</td>\n",
       "      <td>221129920290.000</td>\n",
       "      <td>218875988214.000</td>\n",
       "      <td>56.277</td>\n",
       "      <td>0.129</td>\n",
       "      <td>0.183</td>\n",
       "      <td>0.055</td>\n",
       "      <td>40.033</td>\n",
       "      <td>0.669</td>\n",
       "      <td>0.479</td>\n",
       "      <td>2</td>\n",
       "    </tr>\n",
       "    <tr>\n",
       "      <th>...</th>\n",
       "      <td>...</td>\n",
       "      <td>...</td>\n",
       "      <td>...</td>\n",
       "      <td>...</td>\n",
       "      <td>...</td>\n",
       "      <td>...</td>\n",
       "      <td>...</td>\n",
       "      <td>...</td>\n",
       "      <td>...</td>\n",
       "      <td>...</td>\n",
       "      <td>...</td>\n",
       "      <td>...</td>\n",
       "      <td>...</td>\n",
       "      <td>...</td>\n",
       "      <td>...</td>\n",
       "      <td>...</td>\n",
       "      <td>...</td>\n",
       "      <td>...</td>\n",
       "      <td>...</td>\n",
       "      <td>...</td>\n",
       "      <td>...</td>\n",
       "    </tr>\n",
       "    <tr>\n",
       "      <th>367</th>\n",
       "      <td>2023-06-11 00:00:00+00:00</td>\n",
       "      <td>OP Mainnet</td>\n",
       "      <td>86400.000</td>\n",
       "      <td>698</td>\n",
       "      <td>24</td>\n",
       "      <td>75076007.000</td>\n",
       "      <td>17.448</td>\n",
       "      <td>16.546</td>\n",
       "      <td>17.139</td>\n",
       "      <td>1212500696.000</td>\n",
       "      <td>...</td>\n",
       "      <td>147062759593.000</td>\n",
       "      <td>144831652119.000</td>\n",
       "      <td>29.801</td>\n",
       "      <td>0.000</td>\n",
       "      <td>0.042</td>\n",
       "      <td>0.042</td>\n",
       "      <td>8.610</td>\n",
       "      <td>0.600</td>\n",
       "      <td>0.425</td>\n",
       "      <td>101</td>\n",
       "    </tr>\n",
       "    <tr>\n",
       "      <th>368</th>\n",
       "      <td>2023-06-10 00:00:00+00:00</td>\n",
       "      <td>OP Mainnet</td>\n",
       "      <td>86400.000</td>\n",
       "      <td>761</td>\n",
       "      <td>24</td>\n",
       "      <td>82801904.000</td>\n",
       "      <td>25.358</td>\n",
       "      <td>22.331</td>\n",
       "      <td>24.694</td>\n",
       "      <td>1337026820.000</td>\n",
       "      <td>...</td>\n",
       "      <td>188565203605.000</td>\n",
       "      <td>186326674062.000</td>\n",
       "      <td>60.744</td>\n",
       "      <td>0.089</td>\n",
       "      <td>0.128</td>\n",
       "      <td>0.039</td>\n",
       "      <td>26.793</td>\n",
       "      <td>0.612</td>\n",
       "      <td>0.446</td>\n",
       "      <td>102</td>\n",
       "    </tr>\n",
       "    <tr>\n",
       "      <th>369</th>\n",
       "      <td>2023-06-09 00:00:00+00:00</td>\n",
       "      <td>OP Mainnet</td>\n",
       "      <td>86400.000</td>\n",
       "      <td>725</td>\n",
       "      <td>24</td>\n",
       "      <td>78404424.000</td>\n",
       "      <td>21.023</td>\n",
       "      <td>20.588</td>\n",
       "      <td>20.835</td>\n",
       "      <td>1266182916.000</td>\n",
       "      <td>...</td>\n",
       "      <td>132605852900.000</td>\n",
       "      <td>130380684935.000</td>\n",
       "      <td>32.679</td>\n",
       "      <td>0.000</td>\n",
       "      <td>0.023</td>\n",
       "      <td>0.023</td>\n",
       "      <td>6.017</td>\n",
       "      <td>0.609</td>\n",
       "      <td>0.443</td>\n",
       "      <td>103</td>\n",
       "    </tr>\n",
       "    <tr>\n",
       "      <th>370</th>\n",
       "      <td>2023-06-08 00:00:00+00:00</td>\n",
       "      <td>OP Mainnet</td>\n",
       "      <td>86400.000</td>\n",
       "      <td>680</td>\n",
       "      <td>24</td>\n",
       "      <td>72779082.000</td>\n",
       "      <td>24.181</td>\n",
       "      <td>23.096</td>\n",
       "      <td>23.896</td>\n",
       "      <td>1175500704.000</td>\n",
       "      <td>...</td>\n",
       "      <td>115494446053.000</td>\n",
       "      <td>113273351404.000</td>\n",
       "      <td>36.827</td>\n",
       "      <td>0.000</td>\n",
       "      <td>0.046</td>\n",
       "      <td>0.046</td>\n",
       "      <td>8.354</td>\n",
       "      <td>0.607</td>\n",
       "      <td>0.438</td>\n",
       "      <td>104</td>\n",
       "    </tr>\n",
       "    <tr>\n",
       "      <th>371</th>\n",
       "      <td>2023-06-07 00:00:00+00:00</td>\n",
       "      <td>OP Mainnet</td>\n",
       "      <td>86400.000</td>\n",
       "      <td>665</td>\n",
       "      <td>24</td>\n",
       "      <td>70508146.000</td>\n",
       "      <td>24.459</td>\n",
       "      <td>22.437</td>\n",
       "      <td>24.241</td>\n",
       "      <td>1138900744.000</td>\n",
       "      <td>...</td>\n",
       "      <td>164874128612.000</td>\n",
       "      <td>162641553230.000</td>\n",
       "      <td>41.043</td>\n",
       "      <td>0.002</td>\n",
       "      <td>0.064</td>\n",
       "      <td>0.063</td>\n",
       "      <td>13.140</td>\n",
       "      <td>0.617</td>\n",
       "      <td>0.463</td>\n",
       "      <td>105</td>\n",
       "    </tr>\n",
       "  </tbody>\n",
       "</table>\n",
       "<p>222 rows × 36 columns</p>\n",
       "</div>"
      ],
      "text/plain": [
       "                           dt         chain  active_secs_per_day  \\\n",
       "0   2023-09-19 00:00:00+00:00          Base            86400.000   \n",
       "1   2023-09-19 00:00:00+00:00    OP Mainnet            86400.000   \n",
       "2   2023-09-19 00:00:00+00:00  Zora Network            86400.000   \n",
       "4   2023-09-18 00:00:00+00:00          Base            86400.000   \n",
       "5   2023-09-18 00:00:00+00:00    OP Mainnet            86400.000   \n",
       "..                        ...           ...                  ...   \n",
       "367 2023-06-11 00:00:00+00:00    OP Mainnet            86400.000   \n",
       "368 2023-06-10 00:00:00+00:00    OP Mainnet            86400.000   \n",
       "369 2023-06-09 00:00:00+00:00    OP Mainnet            86400.000   \n",
       "370 2023-06-08 00:00:00+00:00    OP Mainnet            86400.000   \n",
       "371 2023-06-07 00:00:00+00:00    OP Mainnet            86400.000   \n",
       "\n",
       "     num_l1_txs_inbox  num_l1_txs_output  calldata_bytes_l1_inbox  \\\n",
       "0                1667                 24            115969659.000   \n",
       "1                 561                 24             64802808.000   \n",
       "2                 148                 24             10626024.000   \n",
       "4                1765                 24            126965466.000   \n",
       "5                 546                 24             62864270.000   \n",
       "..                ...                ...                      ...   \n",
       "367               698                 24             75076007.000   \n",
       "368               761                 24             82801904.000   \n",
       "369               725                 24             78404424.000   \n",
       "370               680                 24             72779082.000   \n",
       "371               665                 24             70508146.000   \n",
       "\n",
       "     avg_l1_gas_price_on_l1_inbox  avg_l1_gas_price_on_l1_output  \\\n",
       "0                          13.058                         11.729   \n",
       "1                          12.478                         11.373   \n",
       "2                          12.396                         12.031   \n",
       "4                          19.492                         14.246   \n",
       "5                          15.981                         15.227   \n",
       "..                            ...                            ...   \n",
       "367                        17.448                         16.546   \n",
       "368                        25.358                         22.331   \n",
       "369                        21.023                         20.588   \n",
       "370                        24.181                         23.096   \n",
       "371                        24.459                         22.437   \n",
       "\n",
       "     avg_l1_gas_price_on_l2  l1_gas_used_inbox  ...      l2_gas_used  \\\n",
       "0                    13.205     1884225924.000  ... 220526908466.000   \n",
       "1                    12.321     1045714116.000  ... 221022281924.000   \n",
       "2                    12.069      172625664.000  ...  12063546566.000   \n",
       "4                    20.031     2061454812.000  ... 220609018037.000   \n",
       "5                    15.549     1014412664.000  ... 221129920290.000   \n",
       "..                      ...                ...  ...              ...   \n",
       "367                  17.139     1212500696.000  ... 147062759593.000   \n",
       "368                  24.694     1337026820.000  ... 188565203605.000   \n",
       "369                  20.835     1266182916.000  ... 132605852900.000   \n",
       "370                  23.896     1175500704.000  ... 115494446053.000   \n",
       "371                  24.241     1138900744.000  ... 164874128612.000   \n",
       "\n",
       "     l2_gas_used_user_txs_per_day  l2_eth_fees_per_day  avg_l2_base_fee_gwei  \\\n",
       "0                218118691922.000               49.795                 0.010   \n",
       "1                218760297432.000               37.426                 0.075   \n",
       "2                  9814224699.000                3.243                 0.000   \n",
       "4                218193812029.000               93.364                 0.093   \n",
       "5                218875988214.000               56.277                 0.129   \n",
       "..                            ...                  ...                   ...   \n",
       "367              144831652119.000               29.801                 0.000   \n",
       "368              186326674062.000               60.744                 0.089   \n",
       "369              130380684935.000               32.679                 0.000   \n",
       "370              113273351404.000               36.827                 0.000   \n",
       "371              162641553230.000               41.043                 0.002   \n",
       "\n",
       "     avg_l2_gas_price_gwei  avg_l2_priority_fee_gwei  eth_fees_margin_per_day  \\\n",
       "0                    0.082                     0.072                   25.166   \n",
       "1                    0.109                     0.034                   24.354   \n",
       "2                    0.146                     0.146                    1.078   \n",
       "4                    0.175                     0.081                   53.153   \n",
       "5                    0.183                     0.055                   40.033   \n",
       "..                     ...                       ...                      ...   \n",
       "367                  0.042                     0.042                    8.610   \n",
       "368                  0.128                     0.039                   26.793   \n",
       "369                  0.023                     0.023                    6.017   \n",
       "370                  0.046                     0.046                    8.354   \n",
       "371                  0.064                     0.063                   13.140   \n",
       "\n",
       "     gas_compression_ratio  bytes_compression_ratio  dt_rank  \n",
       "0                    0.533                    0.645        1  \n",
       "1                    0.648                    0.462        1  \n",
       "2                    0.786                    0.432        1  \n",
       "4                    0.511                    0.653        2  \n",
       "5                    0.669                    0.479        2  \n",
       "..                     ...                      ...      ...  \n",
       "367                  0.600                    0.425      101  \n",
       "368                  0.612                    0.446      102  \n",
       "369                  0.609                    0.443      103  \n",
       "370                  0.607                    0.438      104  \n",
       "371                  0.617                    0.463      105  \n",
       "\n",
       "[222 rows x 36 columns]"
      ]
     },
     "metadata": {},
     "output_type": "display_data"
    },
    {
     "data": {
      "application/vnd.plotly.v1+json": {
       "config": {
        "plotlyServerURL": "https://plot.ly"
       },
       "data": [
        {
         "hovertemplate": "chain=Base<br>calldata_gas_user_txs_l2_per_day=%{x}<br>l1_gas_used_inbox=%{y}<br>l2_num_txs_per_day=%{marker.size}<extra></extra>",
         "legendgroup": "Base",
         "marker": {
          "color": "#636efa",
          "size": [
           1115378,
           1305126,
           1112420,
           1686306,
           1686753,
           1833845,
           1354606,
           728807,
           566435,
           741088,
           511810,
           354645,
           325736,
           332740,
           339306,
           308383,
           298633,
           302048,
           346144,
           478984,
           362835,
           353574,
           353847,
           391499,
           393225,
           661591,
           677920,
           736010,
           925234,
           1356944,
           842575,
           650016,
           434297,
           372773,
           423244,
           531194,
           526134,
           562998,
           503122,
           610243,
           694769,
           444801,
           303337,
           354775,
           313187,
           264869,
           253225,
           458089,
           145005,
           158837,
           542793,
           565070,
           9482,
           9944,
           15421,
           16810,
           19488,
           21653,
           14898,
           15163,
           18757,
           13637,
           22240
          ],
          "sizemode": "area",
          "sizeref": 4584.6125,
          "symbol": "circle"
         },
         "mode": "markers",
         "name": "Base",
         "orientation": "v",
         "showlegend": true,
         "type": "scatter",
         "x": [
          1281509168,
          1388386896,
          1352061688,
          1479147288,
          1618204500,
          1795390660,
          1369050172,
          971985788,
          856914880,
          1010082864,
          877223024,
          902711764,
          769680628,
          792786760,
          806283704,
          746360828,
          665796648,
          676292896,
          738752196,
          1096643160,
          902840392,
          846448884,
          826075364,
          891212532,
          779050272,
          1099669360,
          1350560964,
          1406042316,
          1399177276,
          1660651636,
          1139734124,
          914750792,
          806711884,
          756355220,
          938515856,
          1049685856,
          1095379372,
          1030717716,
          962112044,
          1128831376,
          1193704276,
          1168321056,
          867203400,
          831597816,
          659478736,
          695154908,
          645057716,
          905465636,
          441173144,
          461276468,
          1275557452,
          1398366804,
          49662336,
          52939512,
          83778120,
          75429968,
          99786524,
          116860664,
          93705216,
          78095304,
          92891860,
          49195556,
          54163292
         ],
         "xaxis": "x",
         "y": [
          1884225924,
          2061454812,
          1864775696,
          2480891248,
          2537018852,
          2781215240,
          2193687672,
          1414247172,
          1212978492,
          1466979200,
          1170598852,
          1058814580,
          926055476,
          946320752,
          950552608,
          887146832,
          836765244,
          845226560,
          946457556,
          1319282364,
          1033022124,
          975718804,
          956976124,
          1045878136,
          1008866452,
          1444512772,
          1634661380,
          1699933068,
          1879348064,
          2462064952,
          1666122116,
          1373914020,
          1091948080,
          967558936,
          1140928948,
          1292134624,
          1291716048,
          1316027488,
          1210656740,
          1439557372,
          1538572700,
          1216806292,
          899683392,
          930500012,
          806863612,
          757458044,
          698880836,
          970553032,
          472626648,
          495893112,
          1364205880,
          1401676068,
          67989884,
          70733688,
          90780764,
          89136552,
          99720188,
          109223160,
          94631624,
          86028892,
          96642844,
          74245832,
          90437352
         ],
         "yaxis": "y"
        },
        {
         "hovertemplate": "chain=OP Mainnet<br>calldata_gas_user_txs_l2_per_day=%{x}<br>l1_gas_used_inbox=%{y}<br>l2_num_txs_per_day=%{marker.size}<extra></extra>",
         "legendgroup": "OP Mainnet",
         "marker": {
          "color": "#EF553B",
          "size": [
           307084,
           277050,
           257140,
           277459,
           353269,
           334824,
           311577,
           441382,
           350430,
           294016,
           320019,
           347196,
           354349,
           352441,
           331085,
           302299,
           278496,
           298565,
           342105,
           422753,
           379635,
           383659,
           374491,
           311962,
           319108,
           328085,
           385821,
           431832,
           408387,
           405521,
           359393,
           381864,
           432042,
           560502,
           611121,
           894051,
           650374,
           394903,
           388472,
           448094,
           528229,
           567350,
           824269,
           782923,
           474943,
           559862,
           645983,
           660791,
           547768,
           675865,
           679221,
           613084,
           631843,
           660967,
           900586,
           808336,
           843553,
           650109,
           489801,
           524951,
           484860,
           585415,
           534494,
           510209,
           526167,
           449218,
           523797,
           569236,
           494740,
           442771,
           440557,
           430965,
           442521,
           443758,
           354177,
           385527,
           316298,
           425435,
           475202,
           446463,
           520968,
           518553,
           549664,
           590862,
           614205,
           552346,
           509891,
           450329,
           531712,
           523909,
           529548,
           431914,
           382831,
           360670,
           377673,
           415210,
           501182,
           535146,
           456496,
           418992,
           386861,
           428146,
           421558,
           394661,
           381654
          ],
          "sizemode": "area",
          "sizeref": 4584.6125,
          "symbol": "circle"
         },
         "mode": "markers",
         "name": "OP Mainnet",
         "orientation": "v",
         "showlegend": true,
         "type": "scatter",
         "x": [
          1010374532,
          971729924,
          827377636,
          883726620,
          1198280876,
          1045137648,
          964721888,
          1633127340,
          2043430520,
          949234528,
          915359192,
          1040825872,
          1110756184,
          1142125196,
          1088414420,
          1001206940,
          889620616,
          1024549824,
          1205333176,
          1397676560,
          1344000672,
          1788381676,
          2217371504,
          982628040,
          1009120144,
          1023479668,
          1195390004,
          1340091060,
          1285482376,
          1293100540,
          1216379240,
          1280917988,
          1447936344,
          1799247640,
          2695469560,
          4745613564,
          2573375596,
          1284698556,
          1237301888,
          1525179132,
          1663102500,
          1893622232,
          3063840456,
          3057593068,
          1625287620,
          1932012184,
          2280620720,
          2278026176,
          2141949932,
          2417994788,
          2410305784,
          2223924644,
          2334820656,
          2371993304,
          3850792080,
          3297595752,
          3717795684,
          2809225644,
          1996655580,
          2035208660,
          1548957484,
          1567066612,
          1550258556,
          1482104256,
          1697834748,
          1429578672,
          1609213032,
          1763874112,
          1647079996,
          1494840432,
          1517078776,
          1522254444,
          1516070656,
          1474634136,
          1161701620,
          1246718508,
          985277528,
          1343855468,
          1447257164,
          1383536040,
          1580515452,
          1535104000,
          1603561732,
          1769460700,
          1952851656,
          1725778112,
          1583118448,
          1380825800,
          1646910456,
          1654713428,
          1767583548,
          1552293140,
          1267131000,
          1176450432,
          1212806080,
          1331477712,
          1332824416,
          1499889384,
          1386817104,
          1379526256,
          1291872440,
          1368458612,
          1291400960,
          1200488364,
          1124822156
         ],
         "xaxis": "x",
         "y": [
          1045714116,
          1014412664,
          870282324,
          922512892,
          1227309604,
          1107517096,
          1058041492,
          1751479200,
          2100423392,
          970962484,
          968695372,
          1085803816,
          1145170528,
          1149538748,
          1095039320,
          1011123496,
          916788748,
          1034564920,
          1235654704,
          1433456724,
          1355758452,
          1730140216,
          2248506484,
          1006454580,
          1016527364,
          1068660508,
          1226319172,
          1374166848,
          1299507816,
          1298224140,
          1207710276,
          1287437524,
          1483410132,
          1866615968,
          2486739856,
          4204338840,
          2610548448,
          1284264564,
          1230122100,
          1538609660,
          1689003724,
          1891603248,
          3017709336,
          3057678556,
          1559508036,
          1826056500,
          2128546680,
          2144106544,
          1915746880,
          2258601684,
          2228005584,
          1983893896,
          2042895904,
          2093414936,
          2943450104,
          2712402164,
          2866069532,
          2248886620,
          1602836908,
          1628540984,
          1420852352,
          1638960848,
          1563044328,
          1492983352,
          1577507464,
          1353148364,
          1550677332,
          1793831100,
          1602081152,
          1412401020,
          1406998264,
          1401497412,
          1362674244,
          1365815840,
          1125066736,
          1238333444,
          991278576,
          1296383560,
          1406199876,
          1325948056,
          1420569004,
          1568739452,
          1568684716,
          1661001912,
          1766738028,
          1654704852,
          1550488228,
          1381636176,
          1633250508,
          1618921900,
          1679352108,
          1419223348,
          1205294788,
          1100769112,
          1156296800,
          1265864236,
          1397646344,
          1506984136,
          1381904720,
          1321268340,
          1212500696,
          1337026820,
          1266182916,
          1175500704,
          1138900744
         ],
         "yaxis": "y"
        },
        {
         "hovertemplate": "chain=Zora Network<br>calldata_gas_user_txs_l2_per_day=%{x}<br>l1_gas_used_inbox=%{y}<br>l2_num_txs_per_day=%{marker.size}<extra></extra>",
         "legendgroup": "Zora Network",
         "marker": {
          "color": "#00cc96",
          "size": [
           56156,
           52295,
           96259,
           81971,
           71591,
           76595,
           84452,
           89712,
           80053,
           92993,
           79031,
           77584,
           96359,
           107701,
           84083,
           79239,
           91790,
           88482,
           74141,
           75302,
           63060,
           63048,
           60462,
           62659,
           79925,
           56677,
           79039,
           103323,
           64326,
           70010,
           64740,
           78978,
           136672,
           112164,
           123919,
           102392,
           57127,
           35560,
           32201,
           29667,
           37800,
           31468,
           22261,
           29453,
           26727,
           27708,
           24146,
           20934,
           18078,
           21210,
           26882,
           25849,
           15981,
           17253
          ],
          "sizemode": "area",
          "sizeref": 4584.6125,
          "symbol": "circle"
         },
         "mode": "markers",
         "name": "Zora Network",
         "orientation": "v",
         "showlegend": true,
         "type": "scatter",
         "x": [
          107252572,
          90174608,
          147352496,
          107513292,
          103484568,
          112562600,
          96772368,
          123832920,
          123202356,
          159487280,
          141125904,
          128772860,
          137066980,
          159830680,
          137265508,
          117359856,
          127935920,
          128017624,
          123277856,
          134700672,
          106593472,
          99755316,
          94877116,
          97743076,
          85738264,
          75887140,
          87634276,
          74730348,
          62847268,
          85832744,
          80757948,
          69388756,
          104884472,
          86430820,
          92473268,
          95331064,
          97757564,
          85814800,
          79130780,
          66310236,
          87732708,
          72255580,
          55829380,
          64012668,
          62937396,
          61799428,
          53335844,
          44887240,
          39633404,
          51084624,
          61784224,
          54331016,
          38920820,
          38032636
         ],
         "xaxis": "x",
         "y": [
          172625664,
          154666660,
          242237220,
          199297416,
          177903688,
          185741028,
          187696640,
          209208572,
          196237936,
          232161464,
          203637276,
          193217132,
          222973696,
          249475260,
          208506360,
          189068120,
          208465028,
          206434596,
          183598948,
          193600956,
          165555024,
          162589124,
          154525124,
          150942112,
          174064972,
          136106640,
          166717036,
          195445580,
          143958956,
          161446404,
          152698832,
          161416772,
          240845544,
          206935728,
          222964152,
          196127752,
          149273544,
          116195416,
          109854976,
          99605608,
          116701596,
          103339672,
          88452268,
          99960680,
          93793000,
          93763472,
          85198072,
          79572932,
          73790660,
          81638204,
          93390540,
          89595040,
          70947712,
          71798004
         ],
         "yaxis": "y"
        }
       ],
       "layout": {
        "legend": {
         "itemsizing": "constant",
         "title": {
          "text": "chain"
         },
         "tracegroupgap": 0
        },
        "template": {
         "data": {
          "bar": [
           {
            "error_x": {
             "color": "#2a3f5f"
            },
            "error_y": {
             "color": "#2a3f5f"
            },
            "marker": {
             "line": {
              "color": "#E5ECF6",
              "width": 0.5
             },
             "pattern": {
              "fillmode": "overlay",
              "size": 10,
              "solidity": 0.2
             }
            },
            "type": "bar"
           }
          ],
          "barpolar": [
           {
            "marker": {
             "line": {
              "color": "#E5ECF6",
              "width": 0.5
             },
             "pattern": {
              "fillmode": "overlay",
              "size": 10,
              "solidity": 0.2
             }
            },
            "type": "barpolar"
           }
          ],
          "carpet": [
           {
            "aaxis": {
             "endlinecolor": "#2a3f5f",
             "gridcolor": "white",
             "linecolor": "white",
             "minorgridcolor": "white",
             "startlinecolor": "#2a3f5f"
            },
            "baxis": {
             "endlinecolor": "#2a3f5f",
             "gridcolor": "white",
             "linecolor": "white",
             "minorgridcolor": "white",
             "startlinecolor": "#2a3f5f"
            },
            "type": "carpet"
           }
          ],
          "choropleth": [
           {
            "colorbar": {
             "outlinewidth": 0,
             "ticks": ""
            },
            "type": "choropleth"
           }
          ],
          "contour": [
           {
            "colorbar": {
             "outlinewidth": 0,
             "ticks": ""
            },
            "colorscale": [
             [
              0,
              "#0d0887"
             ],
             [
              0.1111111111111111,
              "#46039f"
             ],
             [
              0.2222222222222222,
              "#7201a8"
             ],
             [
              0.3333333333333333,
              "#9c179e"
             ],
             [
              0.4444444444444444,
              "#bd3786"
             ],
             [
              0.5555555555555556,
              "#d8576b"
             ],
             [
              0.6666666666666666,
              "#ed7953"
             ],
             [
              0.7777777777777778,
              "#fb9f3a"
             ],
             [
              0.8888888888888888,
              "#fdca26"
             ],
             [
              1,
              "#f0f921"
             ]
            ],
            "type": "contour"
           }
          ],
          "contourcarpet": [
           {
            "colorbar": {
             "outlinewidth": 0,
             "ticks": ""
            },
            "type": "contourcarpet"
           }
          ],
          "heatmap": [
           {
            "colorbar": {
             "outlinewidth": 0,
             "ticks": ""
            },
            "colorscale": [
             [
              0,
              "#0d0887"
             ],
             [
              0.1111111111111111,
              "#46039f"
             ],
             [
              0.2222222222222222,
              "#7201a8"
             ],
             [
              0.3333333333333333,
              "#9c179e"
             ],
             [
              0.4444444444444444,
              "#bd3786"
             ],
             [
              0.5555555555555556,
              "#d8576b"
             ],
             [
              0.6666666666666666,
              "#ed7953"
             ],
             [
              0.7777777777777778,
              "#fb9f3a"
             ],
             [
              0.8888888888888888,
              "#fdca26"
             ],
             [
              1,
              "#f0f921"
             ]
            ],
            "type": "heatmap"
           }
          ],
          "heatmapgl": [
           {
            "colorbar": {
             "outlinewidth": 0,
             "ticks": ""
            },
            "colorscale": [
             [
              0,
              "#0d0887"
             ],
             [
              0.1111111111111111,
              "#46039f"
             ],
             [
              0.2222222222222222,
              "#7201a8"
             ],
             [
              0.3333333333333333,
              "#9c179e"
             ],
             [
              0.4444444444444444,
              "#bd3786"
             ],
             [
              0.5555555555555556,
              "#d8576b"
             ],
             [
              0.6666666666666666,
              "#ed7953"
             ],
             [
              0.7777777777777778,
              "#fb9f3a"
             ],
             [
              0.8888888888888888,
              "#fdca26"
             ],
             [
              1,
              "#f0f921"
             ]
            ],
            "type": "heatmapgl"
           }
          ],
          "histogram": [
           {
            "marker": {
             "pattern": {
              "fillmode": "overlay",
              "size": 10,
              "solidity": 0.2
             }
            },
            "type": "histogram"
           }
          ],
          "histogram2d": [
           {
            "colorbar": {
             "outlinewidth": 0,
             "ticks": ""
            },
            "colorscale": [
             [
              0,
              "#0d0887"
             ],
             [
              0.1111111111111111,
              "#46039f"
             ],
             [
              0.2222222222222222,
              "#7201a8"
             ],
             [
              0.3333333333333333,
              "#9c179e"
             ],
             [
              0.4444444444444444,
              "#bd3786"
             ],
             [
              0.5555555555555556,
              "#d8576b"
             ],
             [
              0.6666666666666666,
              "#ed7953"
             ],
             [
              0.7777777777777778,
              "#fb9f3a"
             ],
             [
              0.8888888888888888,
              "#fdca26"
             ],
             [
              1,
              "#f0f921"
             ]
            ],
            "type": "histogram2d"
           }
          ],
          "histogram2dcontour": [
           {
            "colorbar": {
             "outlinewidth": 0,
             "ticks": ""
            },
            "colorscale": [
             [
              0,
              "#0d0887"
             ],
             [
              0.1111111111111111,
              "#46039f"
             ],
             [
              0.2222222222222222,
              "#7201a8"
             ],
             [
              0.3333333333333333,
              "#9c179e"
             ],
             [
              0.4444444444444444,
              "#bd3786"
             ],
             [
              0.5555555555555556,
              "#d8576b"
             ],
             [
              0.6666666666666666,
              "#ed7953"
             ],
             [
              0.7777777777777778,
              "#fb9f3a"
             ],
             [
              0.8888888888888888,
              "#fdca26"
             ],
             [
              1,
              "#f0f921"
             ]
            ],
            "type": "histogram2dcontour"
           }
          ],
          "mesh3d": [
           {
            "colorbar": {
             "outlinewidth": 0,
             "ticks": ""
            },
            "type": "mesh3d"
           }
          ],
          "parcoords": [
           {
            "line": {
             "colorbar": {
              "outlinewidth": 0,
              "ticks": ""
             }
            },
            "type": "parcoords"
           }
          ],
          "pie": [
           {
            "automargin": true,
            "type": "pie"
           }
          ],
          "scatter": [
           {
            "fillpattern": {
             "fillmode": "overlay",
             "size": 10,
             "solidity": 0.2
            },
            "type": "scatter"
           }
          ],
          "scatter3d": [
           {
            "line": {
             "colorbar": {
              "outlinewidth": 0,
              "ticks": ""
             }
            },
            "marker": {
             "colorbar": {
              "outlinewidth": 0,
              "ticks": ""
             }
            },
            "type": "scatter3d"
           }
          ],
          "scattercarpet": [
           {
            "marker": {
             "colorbar": {
              "outlinewidth": 0,
              "ticks": ""
             }
            },
            "type": "scattercarpet"
           }
          ],
          "scattergeo": [
           {
            "marker": {
             "colorbar": {
              "outlinewidth": 0,
              "ticks": ""
             }
            },
            "type": "scattergeo"
           }
          ],
          "scattergl": [
           {
            "marker": {
             "colorbar": {
              "outlinewidth": 0,
              "ticks": ""
             }
            },
            "type": "scattergl"
           }
          ],
          "scattermapbox": [
           {
            "marker": {
             "colorbar": {
              "outlinewidth": 0,
              "ticks": ""
             }
            },
            "type": "scattermapbox"
           }
          ],
          "scatterpolar": [
           {
            "marker": {
             "colorbar": {
              "outlinewidth": 0,
              "ticks": ""
             }
            },
            "type": "scatterpolar"
           }
          ],
          "scatterpolargl": [
           {
            "marker": {
             "colorbar": {
              "outlinewidth": 0,
              "ticks": ""
             }
            },
            "type": "scatterpolargl"
           }
          ],
          "scatterternary": [
           {
            "marker": {
             "colorbar": {
              "outlinewidth": 0,
              "ticks": ""
             }
            },
            "type": "scatterternary"
           }
          ],
          "surface": [
           {
            "colorbar": {
             "outlinewidth": 0,
             "ticks": ""
            },
            "colorscale": [
             [
              0,
              "#0d0887"
             ],
             [
              0.1111111111111111,
              "#46039f"
             ],
             [
              0.2222222222222222,
              "#7201a8"
             ],
             [
              0.3333333333333333,
              "#9c179e"
             ],
             [
              0.4444444444444444,
              "#bd3786"
             ],
             [
              0.5555555555555556,
              "#d8576b"
             ],
             [
              0.6666666666666666,
              "#ed7953"
             ],
             [
              0.7777777777777778,
              "#fb9f3a"
             ],
             [
              0.8888888888888888,
              "#fdca26"
             ],
             [
              1,
              "#f0f921"
             ]
            ],
            "type": "surface"
           }
          ],
          "table": [
           {
            "cells": {
             "fill": {
              "color": "#EBF0F8"
             },
             "line": {
              "color": "white"
             }
            },
            "header": {
             "fill": {
              "color": "#C8D4E3"
             },
             "line": {
              "color": "white"
             }
            },
            "type": "table"
           }
          ]
         },
         "layout": {
          "annotationdefaults": {
           "arrowcolor": "#2a3f5f",
           "arrowhead": 0,
           "arrowwidth": 1
          },
          "autotypenumbers": "strict",
          "coloraxis": {
           "colorbar": {
            "outlinewidth": 0,
            "ticks": ""
           }
          },
          "colorscale": {
           "diverging": [
            [
             0,
             "#8e0152"
            ],
            [
             0.1,
             "#c51b7d"
            ],
            [
             0.2,
             "#de77ae"
            ],
            [
             0.3,
             "#f1b6da"
            ],
            [
             0.4,
             "#fde0ef"
            ],
            [
             0.5,
             "#f7f7f7"
            ],
            [
             0.6,
             "#e6f5d0"
            ],
            [
             0.7,
             "#b8e186"
            ],
            [
             0.8,
             "#7fbc41"
            ],
            [
             0.9,
             "#4d9221"
            ],
            [
             1,
             "#276419"
            ]
           ],
           "sequential": [
            [
             0,
             "#0d0887"
            ],
            [
             0.1111111111111111,
             "#46039f"
            ],
            [
             0.2222222222222222,
             "#7201a8"
            ],
            [
             0.3333333333333333,
             "#9c179e"
            ],
            [
             0.4444444444444444,
             "#bd3786"
            ],
            [
             0.5555555555555556,
             "#d8576b"
            ],
            [
             0.6666666666666666,
             "#ed7953"
            ],
            [
             0.7777777777777778,
             "#fb9f3a"
            ],
            [
             0.8888888888888888,
             "#fdca26"
            ],
            [
             1,
             "#f0f921"
            ]
           ],
           "sequentialminus": [
            [
             0,
             "#0d0887"
            ],
            [
             0.1111111111111111,
             "#46039f"
            ],
            [
             0.2222222222222222,
             "#7201a8"
            ],
            [
             0.3333333333333333,
             "#9c179e"
            ],
            [
             0.4444444444444444,
             "#bd3786"
            ],
            [
             0.5555555555555556,
             "#d8576b"
            ],
            [
             0.6666666666666666,
             "#ed7953"
            ],
            [
             0.7777777777777778,
             "#fb9f3a"
            ],
            [
             0.8888888888888888,
             "#fdca26"
            ],
            [
             1,
             "#f0f921"
            ]
           ]
          },
          "colorway": [
           "#636efa",
           "#EF553B",
           "#00cc96",
           "#ab63fa",
           "#FFA15A",
           "#19d3f3",
           "#FF6692",
           "#B6E880",
           "#FF97FF",
           "#FECB52"
          ],
          "font": {
           "color": "#2a3f5f"
          },
          "geo": {
           "bgcolor": "white",
           "lakecolor": "white",
           "landcolor": "#E5ECF6",
           "showlakes": true,
           "showland": true,
           "subunitcolor": "white"
          },
          "hoverlabel": {
           "align": "left"
          },
          "hovermode": "closest",
          "mapbox": {
           "style": "light"
          },
          "paper_bgcolor": "white",
          "plot_bgcolor": "#E5ECF6",
          "polar": {
           "angularaxis": {
            "gridcolor": "white",
            "linecolor": "white",
            "ticks": ""
           },
           "bgcolor": "#E5ECF6",
           "radialaxis": {
            "gridcolor": "white",
            "linecolor": "white",
            "ticks": ""
           }
          },
          "scene": {
           "xaxis": {
            "backgroundcolor": "#E5ECF6",
            "gridcolor": "white",
            "gridwidth": 2,
            "linecolor": "white",
            "showbackground": true,
            "ticks": "",
            "zerolinecolor": "white"
           },
           "yaxis": {
            "backgroundcolor": "#E5ECF6",
            "gridcolor": "white",
            "gridwidth": 2,
            "linecolor": "white",
            "showbackground": true,
            "ticks": "",
            "zerolinecolor": "white"
           },
           "zaxis": {
            "backgroundcolor": "#E5ECF6",
            "gridcolor": "white",
            "gridwidth": 2,
            "linecolor": "white",
            "showbackground": true,
            "ticks": "",
            "zerolinecolor": "white"
           }
          },
          "shapedefaults": {
           "line": {
            "color": "#2a3f5f"
           }
          },
          "ternary": {
           "aaxis": {
            "gridcolor": "white",
            "linecolor": "white",
            "ticks": ""
           },
           "baxis": {
            "gridcolor": "white",
            "linecolor": "white",
            "ticks": ""
           },
           "bgcolor": "#E5ECF6",
           "caxis": {
            "gridcolor": "white",
            "linecolor": "white",
            "ticks": ""
           }
          },
          "title": {
           "x": 0.05
          },
          "xaxis": {
           "automargin": true,
           "gridcolor": "white",
           "linecolor": "white",
           "ticks": "",
           "title": {
            "standoff": 15
           },
           "zerolinecolor": "white",
           "zerolinewidth": 2
          },
          "yaxis": {
           "automargin": true,
           "gridcolor": "white",
           "linecolor": "white",
           "ticks": "",
           "title": {
            "standoff": 15
           },
           "zerolinecolor": "white",
           "zerolinewidth": 2
          }
         }
        },
        "title": {
         "text": "L1 Gas Used on each Layer by chain"
        },
        "xaxis": {
         "anchor": "y",
         "domain": [
          0,
          1
         ],
         "title": {
          "text": "calldata_gas_user_txs_l2_per_day"
         }
        },
        "yaxis": {
         "anchor": "x",
         "domain": [
          0,
          1
         ],
         "title": {
          "text": "l1_gas_used_inbox"
         }
        }
       }
      }
     },
     "metadata": {},
     "output_type": "display_data"
    },
    {
     "data": {
      "application/vnd.plotly.v1+json": {
       "config": {
        "plotlyServerURL": "https://plot.ly"
       },
       "data": [
        {
         "hovertemplate": "chain=Base<br>calldata_gas_user_txs_l2_per_day=%{x}<br>calldata_bytes_l1_inbox=%{y}<br>l2_num_txs_per_day=%{marker.size}<extra></extra>",
         "legendgroup": "Base",
         "marker": {
          "color": "#636efa",
          "size": [
           1115378,
           1305126,
           1112420,
           1686306,
           1686753,
           1833845,
           1354606,
           728807,
           566435,
           741088,
           511810,
           354645,
           325736,
           332740,
           339306,
           308383,
           298633,
           302048,
           346144,
           478984,
           362835,
           353574,
           353847,
           391499,
           393225,
           661591,
           677920,
           736010,
           925234,
           1356944,
           842575,
           650016,
           434297,
           372773,
           423244,
           531194,
           526134,
           562998,
           503122,
           610243,
           694769,
           444801,
           303337,
           354775,
           313187,
           264869,
           253225,
           458089,
           145005,
           158837,
           542793,
           565070,
           9482,
           9944,
           15421,
           16810,
           19488,
           21653,
           14898,
           15163,
           18757,
           13637,
           22240
          ],
          "sizemode": "area",
          "sizeref": 4584.6125,
          "symbol": "circle"
         },
         "mode": "markers",
         "name": "Base",
         "orientation": "v",
         "showlegend": true,
         "type": "scatter",
         "x": [
          1281509168,
          1388386896,
          1352061688,
          1479147288,
          1618204500,
          1795390660,
          1369050172,
          971985788,
          856914880,
          1010082864,
          877223024,
          902711764,
          769680628,
          792786760,
          806283704,
          746360828,
          665796648,
          676292896,
          738752196,
          1096643160,
          902840392,
          846448884,
          826075364,
          891212532,
          779050272,
          1099669360,
          1350560964,
          1406042316,
          1399177276,
          1660651636,
          1139734124,
          914750792,
          806711884,
          756355220,
          938515856,
          1049685856,
          1095379372,
          1030717716,
          962112044,
          1128831376,
          1193704276,
          1168321056,
          867203400,
          831597816,
          659478736,
          695154908,
          645057716,
          905465636,
          441173144,
          461276468,
          1275557452,
          1398366804,
          49662336,
          52939512,
          83778120,
          75429968,
          99786524,
          116860664,
          93705216,
          78095304,
          92891860,
          49195556,
          54163292
         ],
         "xaxis": "x",
         "y": [
          115969659,
          126965466,
          114930716,
          153218173,
          156632648,
          171917120,
          135265473,
          86724354,
          74136720,
          90063416,
          71513512,
          64497364,
          56170604,
          57450098,
          57757297,
          53724431,
          50574993,
          51112883,
          57447825,
          80804910,
          62874204,
          59286736,
          58107757,
          63681232,
          61359481,
          88661392,
          100567568,
          104635086,
          115875311,
          152317882,
          102576173,
          84242307,
          66554641,
          58762852,
          69615517,
          79086340,
          79061490,
          80615023,
          73992389,
          88353256,
          94484468,
          74396284,
          54522180,
          56452106,
          48704149,
          45602252,
          41930849,
          58870456,
          27749103,
          29212143,
          83639815,
          85994136,
          4073333,
          4245537,
          5503064,
          5400210,
          6064235,
          6660969,
          5745194,
          5205940,
          5872975,
          4465745,
          5484096
         ],
         "yaxis": "y"
        },
        {
         "hovertemplate": "chain=OP Mainnet<br>calldata_gas_user_txs_l2_per_day=%{x}<br>calldata_bytes_l1_inbox=%{y}<br>l2_num_txs_per_day=%{marker.size}<extra></extra>",
         "legendgroup": "OP Mainnet",
         "marker": {
          "color": "#EF553B",
          "size": [
           307084,
           277050,
           257140,
           277459,
           353269,
           334824,
           311577,
           441382,
           350430,
           294016,
           320019,
           347196,
           354349,
           352441,
           331085,
           302299,
           278496,
           298565,
           342105,
           422753,
           379635,
           383659,
           374491,
           311962,
           319108,
           328085,
           385821,
           431832,
           408387,
           405521,
           359393,
           381864,
           432042,
           560502,
           611121,
           894051,
           650374,
           394903,
           388472,
           448094,
           528229,
           567350,
           824269,
           782923,
           474943,
           559862,
           645983,
           660791,
           547768,
           675865,
           679221,
           613084,
           631843,
           660967,
           900586,
           808336,
           843553,
           650109,
           489801,
           524951,
           484860,
           585415,
           534494,
           510209,
           526167,
           449218,
           523797,
           569236,
           494740,
           442771,
           440557,
           430965,
           442521,
           443758,
           354177,
           385527,
           316298,
           425435,
           475202,
           446463,
           520968,
           518553,
           549664,
           590862,
           614205,
           552346,
           509891,
           450329,
           531712,
           523909,
           529548,
           431914,
           382831,
           360670,
           377673,
           415210,
           501182,
           535146,
           456496,
           418992,
           386861,
           428146,
           421558,
           394661,
           381654
          ],
          "sizemode": "area",
          "sizeref": 4584.6125,
          "symbol": "circle"
         },
         "mode": "markers",
         "name": "OP Mainnet",
         "orientation": "v",
         "showlegend": true,
         "type": "scatter",
         "x": [
          1010374532,
          971729924,
          827377636,
          883726620,
          1198280876,
          1045137648,
          964721888,
          1633127340,
          2043430520,
          949234528,
          915359192,
          1040825872,
          1110756184,
          1142125196,
          1088414420,
          1001206940,
          889620616,
          1024549824,
          1205333176,
          1397676560,
          1344000672,
          1788381676,
          2217371504,
          982628040,
          1009120144,
          1023479668,
          1195390004,
          1340091060,
          1285482376,
          1293100540,
          1216379240,
          1280917988,
          1447936344,
          1799247640,
          2695469560,
          4745613564,
          2573375596,
          1284698556,
          1237301888,
          1525179132,
          1663102500,
          1893622232,
          3063840456,
          3057593068,
          1625287620,
          1932012184,
          2280620720,
          2278026176,
          2141949932,
          2417994788,
          2410305784,
          2223924644,
          2334820656,
          2371993304,
          3850792080,
          3297595752,
          3717795684,
          2809225644,
          1996655580,
          2035208660,
          1548957484,
          1567066612,
          1550258556,
          1482104256,
          1697834748,
          1429578672,
          1609213032,
          1763874112,
          1647079996,
          1494840432,
          1517078776,
          1522254444,
          1516070656,
          1474634136,
          1161701620,
          1246718508,
          985277528,
          1343855468,
          1447257164,
          1383536040,
          1580515452,
          1535104000,
          1603561732,
          1769460700,
          1952851656,
          1725778112,
          1583118448,
          1380825800,
          1646910456,
          1654713428,
          1767583548,
          1552293140,
          1267131000,
          1176450432,
          1212806080,
          1331477712,
          1332824416,
          1499889384,
          1386817104,
          1379526256,
          1291872440,
          1368458612,
          1291400960,
          1200488364,
          1124822156
         ],
         "xaxis": "x",
         "y": [
          64802808,
          62864270,
          53929488,
          57164305,
          76049305,
          68632180,
          65571037,
          108578898,
          130186031,
          60169081,
          60029032,
          67286875,
          70967575,
          71236352,
          67858412,
          62658748,
          56810383,
          64110421,
          76582705,
          88837497,
          84031209,
          107255425,
          139363033,
          62367102,
          62991530,
          66223249,
          75993613,
          85157898,
          80535861,
          80450286,
          74838396,
          79778425,
          91930542,
          115662281,
          154133869,
          260678325,
          161825298,
          79520865,
          76165479,
          95294939,
          104624041,
          117185643,
          187088490,
          189562132,
          96594306,
          113119116,
          131887059,
          132847327,
          118698721,
          139956447,
          138059313,
          122905522,
          126553918,
          129715547,
          182445770,
          168123287,
          177675137,
          139368835,
          99277171,
          100866968,
          87987947,
          101516786,
          96816429,
          92470513,
          97700518,
          83791262,
          96042756,
          111124317,
          99233615,
          87475605,
          87135841,
          86791857,
          84393213,
          84594125,
          69663820,
          76679552,
          61366272,
          80267497,
          87077307,
          82114135,
          87983908,
          97168244,
          97149577,
          102878874,
          109438155,
          102497685,
          96019912,
          85566933,
          101164449,
          100270453,
          104028102,
          87895138,
          74624959,
          68155267,
          71588096,
          78383983,
          86559815,
          93347122,
          85583465,
          81822522,
          75076007,
          82801904,
          78404424,
          72779082,
          70508146
         ],
         "yaxis": "y"
        },
        {
         "hovertemplate": "chain=Zora Network<br>calldata_gas_user_txs_l2_per_day=%{x}<br>calldata_bytes_l1_inbox=%{y}<br>l2_num_txs_per_day=%{marker.size}<extra></extra>",
         "legendgroup": "Zora Network",
         "marker": {
          "color": "#00cc96",
          "size": [
           56156,
           52295,
           96259,
           81971,
           71591,
           76595,
           84452,
           89712,
           80053,
           92993,
           79031,
           77584,
           96359,
           107701,
           84083,
           79239,
           91790,
           88482,
           74141,
           75302,
           63060,
           63048,
           60462,
           62659,
           79925,
           56677,
           79039,
           103323,
           64326,
           70010,
           64740,
           78978,
           136672,
           112164,
           123919,
           102392,
           57127,
           35560,
           32201,
           29667,
           37800,
           31468,
           22261,
           29453,
           26727,
           27708,
           24146,
           20934,
           18078,
           21210,
           26882,
           25849,
           15981,
           17253
          ],
          "sizemode": "area",
          "sizeref": 4584.6125,
          "symbol": "circle"
         },
         "mode": "markers",
         "name": "Zora Network",
         "orientation": "v",
         "showlegend": true,
         "type": "scatter",
         "x": [
          107252572,
          90174608,
          147352496,
          107513292,
          103484568,
          112562600,
          96772368,
          123832920,
          123202356,
          159487280,
          141125904,
          128772860,
          137066980,
          159830680,
          137265508,
          117359856,
          127935920,
          128017624,
          123277856,
          134700672,
          106593472,
          99755316,
          94877116,
          97743076,
          85738264,
          75887140,
          87634276,
          74730348,
          62847268,
          85832744,
          80757948,
          69388756,
          104884472,
          86430820,
          92473268,
          95331064,
          97757564,
          85814800,
          79130780,
          66310236,
          87732708,
          72255580,
          55829380,
          64012668,
          62937396,
          61799428,
          53335844,
          44887240,
          39633404,
          51084624,
          61784224,
          54331016,
          38920820,
          38032636
         ],
         "xaxis": "x",
         "y": [
          10626024,
          9501709,
          14928717,
          12291660,
          10950247,
          11441763,
          11576615,
          12908057,
          12084796,
          14309930,
          12557841,
          11890346,
          13738192,
          15387993,
          12852612,
          11658668,
          12867182,
          12745545,
          11317117,
          11920521,
          10185168,
          10001105,
          9494378,
          9271429,
          10711063,
          8340159,
          10257490,
          12045686,
          8834132,
          9928926,
          9381173,
          9924560,
          14840112,
          12741321,
          13743888,
          12091978,
          9164607,
          7088647,
          6692521,
          6050032,
          7120197,
          6285490,
          5350423,
          6073361,
          5685430,
          5683550,
          5147791,
          4794020,
          4431623,
          4923956,
          5660304,
          5422540,
          4253557,
          4306857
         ],
         "yaxis": "y"
        }
       ],
       "layout": {
        "legend": {
         "itemsizing": "constant",
         "title": {
          "text": "chain"
         },
         "tracegroupgap": 0
        },
        "template": {
         "data": {
          "bar": [
           {
            "error_x": {
             "color": "#2a3f5f"
            },
            "error_y": {
             "color": "#2a3f5f"
            },
            "marker": {
             "line": {
              "color": "#E5ECF6",
              "width": 0.5
             },
             "pattern": {
              "fillmode": "overlay",
              "size": 10,
              "solidity": 0.2
             }
            },
            "type": "bar"
           }
          ],
          "barpolar": [
           {
            "marker": {
             "line": {
              "color": "#E5ECF6",
              "width": 0.5
             },
             "pattern": {
              "fillmode": "overlay",
              "size": 10,
              "solidity": 0.2
             }
            },
            "type": "barpolar"
           }
          ],
          "carpet": [
           {
            "aaxis": {
             "endlinecolor": "#2a3f5f",
             "gridcolor": "white",
             "linecolor": "white",
             "minorgridcolor": "white",
             "startlinecolor": "#2a3f5f"
            },
            "baxis": {
             "endlinecolor": "#2a3f5f",
             "gridcolor": "white",
             "linecolor": "white",
             "minorgridcolor": "white",
             "startlinecolor": "#2a3f5f"
            },
            "type": "carpet"
           }
          ],
          "choropleth": [
           {
            "colorbar": {
             "outlinewidth": 0,
             "ticks": ""
            },
            "type": "choropleth"
           }
          ],
          "contour": [
           {
            "colorbar": {
             "outlinewidth": 0,
             "ticks": ""
            },
            "colorscale": [
             [
              0,
              "#0d0887"
             ],
             [
              0.1111111111111111,
              "#46039f"
             ],
             [
              0.2222222222222222,
              "#7201a8"
             ],
             [
              0.3333333333333333,
              "#9c179e"
             ],
             [
              0.4444444444444444,
              "#bd3786"
             ],
             [
              0.5555555555555556,
              "#d8576b"
             ],
             [
              0.6666666666666666,
              "#ed7953"
             ],
             [
              0.7777777777777778,
              "#fb9f3a"
             ],
             [
              0.8888888888888888,
              "#fdca26"
             ],
             [
              1,
              "#f0f921"
             ]
            ],
            "type": "contour"
           }
          ],
          "contourcarpet": [
           {
            "colorbar": {
             "outlinewidth": 0,
             "ticks": ""
            },
            "type": "contourcarpet"
           }
          ],
          "heatmap": [
           {
            "colorbar": {
             "outlinewidth": 0,
             "ticks": ""
            },
            "colorscale": [
             [
              0,
              "#0d0887"
             ],
             [
              0.1111111111111111,
              "#46039f"
             ],
             [
              0.2222222222222222,
              "#7201a8"
             ],
             [
              0.3333333333333333,
              "#9c179e"
             ],
             [
              0.4444444444444444,
              "#bd3786"
             ],
             [
              0.5555555555555556,
              "#d8576b"
             ],
             [
              0.6666666666666666,
              "#ed7953"
             ],
             [
              0.7777777777777778,
              "#fb9f3a"
             ],
             [
              0.8888888888888888,
              "#fdca26"
             ],
             [
              1,
              "#f0f921"
             ]
            ],
            "type": "heatmap"
           }
          ],
          "heatmapgl": [
           {
            "colorbar": {
             "outlinewidth": 0,
             "ticks": ""
            },
            "colorscale": [
             [
              0,
              "#0d0887"
             ],
             [
              0.1111111111111111,
              "#46039f"
             ],
             [
              0.2222222222222222,
              "#7201a8"
             ],
             [
              0.3333333333333333,
              "#9c179e"
             ],
             [
              0.4444444444444444,
              "#bd3786"
             ],
             [
              0.5555555555555556,
              "#d8576b"
             ],
             [
              0.6666666666666666,
              "#ed7953"
             ],
             [
              0.7777777777777778,
              "#fb9f3a"
             ],
             [
              0.8888888888888888,
              "#fdca26"
             ],
             [
              1,
              "#f0f921"
             ]
            ],
            "type": "heatmapgl"
           }
          ],
          "histogram": [
           {
            "marker": {
             "pattern": {
              "fillmode": "overlay",
              "size": 10,
              "solidity": 0.2
             }
            },
            "type": "histogram"
           }
          ],
          "histogram2d": [
           {
            "colorbar": {
             "outlinewidth": 0,
             "ticks": ""
            },
            "colorscale": [
             [
              0,
              "#0d0887"
             ],
             [
              0.1111111111111111,
              "#46039f"
             ],
             [
              0.2222222222222222,
              "#7201a8"
             ],
             [
              0.3333333333333333,
              "#9c179e"
             ],
             [
              0.4444444444444444,
              "#bd3786"
             ],
             [
              0.5555555555555556,
              "#d8576b"
             ],
             [
              0.6666666666666666,
              "#ed7953"
             ],
             [
              0.7777777777777778,
              "#fb9f3a"
             ],
             [
              0.8888888888888888,
              "#fdca26"
             ],
             [
              1,
              "#f0f921"
             ]
            ],
            "type": "histogram2d"
           }
          ],
          "histogram2dcontour": [
           {
            "colorbar": {
             "outlinewidth": 0,
             "ticks": ""
            },
            "colorscale": [
             [
              0,
              "#0d0887"
             ],
             [
              0.1111111111111111,
              "#46039f"
             ],
             [
              0.2222222222222222,
              "#7201a8"
             ],
             [
              0.3333333333333333,
              "#9c179e"
             ],
             [
              0.4444444444444444,
              "#bd3786"
             ],
             [
              0.5555555555555556,
              "#d8576b"
             ],
             [
              0.6666666666666666,
              "#ed7953"
             ],
             [
              0.7777777777777778,
              "#fb9f3a"
             ],
             [
              0.8888888888888888,
              "#fdca26"
             ],
             [
              1,
              "#f0f921"
             ]
            ],
            "type": "histogram2dcontour"
           }
          ],
          "mesh3d": [
           {
            "colorbar": {
             "outlinewidth": 0,
             "ticks": ""
            },
            "type": "mesh3d"
           }
          ],
          "parcoords": [
           {
            "line": {
             "colorbar": {
              "outlinewidth": 0,
              "ticks": ""
             }
            },
            "type": "parcoords"
           }
          ],
          "pie": [
           {
            "automargin": true,
            "type": "pie"
           }
          ],
          "scatter": [
           {
            "fillpattern": {
             "fillmode": "overlay",
             "size": 10,
             "solidity": 0.2
            },
            "type": "scatter"
           }
          ],
          "scatter3d": [
           {
            "line": {
             "colorbar": {
              "outlinewidth": 0,
              "ticks": ""
             }
            },
            "marker": {
             "colorbar": {
              "outlinewidth": 0,
              "ticks": ""
             }
            },
            "type": "scatter3d"
           }
          ],
          "scattercarpet": [
           {
            "marker": {
             "colorbar": {
              "outlinewidth": 0,
              "ticks": ""
             }
            },
            "type": "scattercarpet"
           }
          ],
          "scattergeo": [
           {
            "marker": {
             "colorbar": {
              "outlinewidth": 0,
              "ticks": ""
             }
            },
            "type": "scattergeo"
           }
          ],
          "scattergl": [
           {
            "marker": {
             "colorbar": {
              "outlinewidth": 0,
              "ticks": ""
             }
            },
            "type": "scattergl"
           }
          ],
          "scattermapbox": [
           {
            "marker": {
             "colorbar": {
              "outlinewidth": 0,
              "ticks": ""
             }
            },
            "type": "scattermapbox"
           }
          ],
          "scatterpolar": [
           {
            "marker": {
             "colorbar": {
              "outlinewidth": 0,
              "ticks": ""
             }
            },
            "type": "scatterpolar"
           }
          ],
          "scatterpolargl": [
           {
            "marker": {
             "colorbar": {
              "outlinewidth": 0,
              "ticks": ""
             }
            },
            "type": "scatterpolargl"
           }
          ],
          "scatterternary": [
           {
            "marker": {
             "colorbar": {
              "outlinewidth": 0,
              "ticks": ""
             }
            },
            "type": "scatterternary"
           }
          ],
          "surface": [
           {
            "colorbar": {
             "outlinewidth": 0,
             "ticks": ""
            },
            "colorscale": [
             [
              0,
              "#0d0887"
             ],
             [
              0.1111111111111111,
              "#46039f"
             ],
             [
              0.2222222222222222,
              "#7201a8"
             ],
             [
              0.3333333333333333,
              "#9c179e"
             ],
             [
              0.4444444444444444,
              "#bd3786"
             ],
             [
              0.5555555555555556,
              "#d8576b"
             ],
             [
              0.6666666666666666,
              "#ed7953"
             ],
             [
              0.7777777777777778,
              "#fb9f3a"
             ],
             [
              0.8888888888888888,
              "#fdca26"
             ],
             [
              1,
              "#f0f921"
             ]
            ],
            "type": "surface"
           }
          ],
          "table": [
           {
            "cells": {
             "fill": {
              "color": "#EBF0F8"
             },
             "line": {
              "color": "white"
             }
            },
            "header": {
             "fill": {
              "color": "#C8D4E3"
             },
             "line": {
              "color": "white"
             }
            },
            "type": "table"
           }
          ]
         },
         "layout": {
          "annotationdefaults": {
           "arrowcolor": "#2a3f5f",
           "arrowhead": 0,
           "arrowwidth": 1
          },
          "autotypenumbers": "strict",
          "coloraxis": {
           "colorbar": {
            "outlinewidth": 0,
            "ticks": ""
           }
          },
          "colorscale": {
           "diverging": [
            [
             0,
             "#8e0152"
            ],
            [
             0.1,
             "#c51b7d"
            ],
            [
             0.2,
             "#de77ae"
            ],
            [
             0.3,
             "#f1b6da"
            ],
            [
             0.4,
             "#fde0ef"
            ],
            [
             0.5,
             "#f7f7f7"
            ],
            [
             0.6,
             "#e6f5d0"
            ],
            [
             0.7,
             "#b8e186"
            ],
            [
             0.8,
             "#7fbc41"
            ],
            [
             0.9,
             "#4d9221"
            ],
            [
             1,
             "#276419"
            ]
           ],
           "sequential": [
            [
             0,
             "#0d0887"
            ],
            [
             0.1111111111111111,
             "#46039f"
            ],
            [
             0.2222222222222222,
             "#7201a8"
            ],
            [
             0.3333333333333333,
             "#9c179e"
            ],
            [
             0.4444444444444444,
             "#bd3786"
            ],
            [
             0.5555555555555556,
             "#d8576b"
            ],
            [
             0.6666666666666666,
             "#ed7953"
            ],
            [
             0.7777777777777778,
             "#fb9f3a"
            ],
            [
             0.8888888888888888,
             "#fdca26"
            ],
            [
             1,
             "#f0f921"
            ]
           ],
           "sequentialminus": [
            [
             0,
             "#0d0887"
            ],
            [
             0.1111111111111111,
             "#46039f"
            ],
            [
             0.2222222222222222,
             "#7201a8"
            ],
            [
             0.3333333333333333,
             "#9c179e"
            ],
            [
             0.4444444444444444,
             "#bd3786"
            ],
            [
             0.5555555555555556,
             "#d8576b"
            ],
            [
             0.6666666666666666,
             "#ed7953"
            ],
            [
             0.7777777777777778,
             "#fb9f3a"
            ],
            [
             0.8888888888888888,
             "#fdca26"
            ],
            [
             1,
             "#f0f921"
            ]
           ]
          },
          "colorway": [
           "#636efa",
           "#EF553B",
           "#00cc96",
           "#ab63fa",
           "#FFA15A",
           "#19d3f3",
           "#FF6692",
           "#B6E880",
           "#FF97FF",
           "#FECB52"
          ],
          "font": {
           "color": "#2a3f5f"
          },
          "geo": {
           "bgcolor": "white",
           "lakecolor": "white",
           "landcolor": "#E5ECF6",
           "showlakes": true,
           "showland": true,
           "subunitcolor": "white"
          },
          "hoverlabel": {
           "align": "left"
          },
          "hovermode": "closest",
          "mapbox": {
           "style": "light"
          },
          "paper_bgcolor": "white",
          "plot_bgcolor": "#E5ECF6",
          "polar": {
           "angularaxis": {
            "gridcolor": "white",
            "linecolor": "white",
            "ticks": ""
           },
           "bgcolor": "#E5ECF6",
           "radialaxis": {
            "gridcolor": "white",
            "linecolor": "white",
            "ticks": ""
           }
          },
          "scene": {
           "xaxis": {
            "backgroundcolor": "#E5ECF6",
            "gridcolor": "white",
            "gridwidth": 2,
            "linecolor": "white",
            "showbackground": true,
            "ticks": "",
            "zerolinecolor": "white"
           },
           "yaxis": {
            "backgroundcolor": "#E5ECF6",
            "gridcolor": "white",
            "gridwidth": 2,
            "linecolor": "white",
            "showbackground": true,
            "ticks": "",
            "zerolinecolor": "white"
           },
           "zaxis": {
            "backgroundcolor": "#E5ECF6",
            "gridcolor": "white",
            "gridwidth": 2,
            "linecolor": "white",
            "showbackground": true,
            "ticks": "",
            "zerolinecolor": "white"
           }
          },
          "shapedefaults": {
           "line": {
            "color": "#2a3f5f"
           }
          },
          "ternary": {
           "aaxis": {
            "gridcolor": "white",
            "linecolor": "white",
            "ticks": ""
           },
           "baxis": {
            "gridcolor": "white",
            "linecolor": "white",
            "ticks": ""
           },
           "bgcolor": "#E5ECF6",
           "caxis": {
            "gridcolor": "white",
            "linecolor": "white",
            "ticks": ""
           }
          },
          "title": {
           "x": 0.05
          },
          "xaxis": {
           "automargin": true,
           "gridcolor": "white",
           "linecolor": "white",
           "ticks": "",
           "title": {
            "standoff": 15
           },
           "zerolinecolor": "white",
           "zerolinewidth": 2
          },
          "yaxis": {
           "automargin": true,
           "gridcolor": "white",
           "linecolor": "white",
           "ticks": "",
           "title": {
            "standoff": 15
           },
           "zerolinecolor": "white",
           "zerolinewidth": 2
          }
         }
        },
        "title": {
         "text": "Calldata Bytes on each Layer by chain"
        },
        "xaxis": {
         "anchor": "y",
         "domain": [
          0,
          1
         ],
         "title": {
          "text": "calldata_gas_user_txs_l2_per_day"
         }
        },
        "yaxis": {
         "anchor": "x",
         "domain": [
          0,
          1
         ],
         "title": {
          "text": "calldata_bytes_l1_inbox"
         }
        }
       }
      }
     },
     "metadata": {},
     "output_type": "display_data"
    }
   ],
   "source": [
    "# Create the scatter plot\n",
    "combo_df_plot = combo_df[\n",
    "                        (~combo_df['gas_compression_ratio'].isna()) \n",
    "                         & (combo_df['gas_compression_ratio']<1) \n",
    "                         & (combo_df['active_secs_per_day'] == 86400)\n",
    "                         ]\n",
    "\n",
    "# combo_df_plot = combo_df[(~combo_df['bytes_compression_ratio'].isna())\n",
    "#                          & (combo_df['active_secs_per_day'] == 86400)]\n",
    "\n",
    "display(combo_df_plot)\n",
    "\n",
    "fig = px.scatter(combo_df_plot,\n",
    "                 x='calldata_gas_user_txs_l2_per_day',#'l1_gas_used_on_l2',\n",
    "                 y='l1_gas_used_inbox',\n",
    "                 size = 'l2_num_txs_per_day',\n",
    "                 color='chain',\n",
    "                 title='L1 Gas Used on each Layer by chain')\n",
    "\n",
    "# Display the plot\n",
    "fig.show()\n",
    "\n",
    "##############\n",
    "\n",
    "fig_bytes = px.scatter(combo_df_plot,\n",
    "                 x='calldata_gas_user_txs_l2_per_day',#'calldata_bytes_l2_per_day',\n",
    "                 y='calldata_bytes_l1_inbox',\n",
    "                 size = 'l2_num_txs_per_day',\n",
    "                 color='chain',\n",
    "                 title='Calldata Bytes on each Layer by chain')\n",
    "\n",
    "fig_bytes.show()"
   ]
  },
  {
   "cell_type": "code",
   "execution_count": 166,
   "metadata": {},
   "outputs": [
    {
     "data": {
      "text/html": [
       "<div>\n",
       "<style scoped>\n",
       "    .dataframe tbody tr th:only-of-type {\n",
       "        vertical-align: middle;\n",
       "    }\n",
       "\n",
       "    .dataframe tbody tr th {\n",
       "        vertical-align: top;\n",
       "    }\n",
       "\n",
       "    .dataframe thead th {\n",
       "        text-align: right;\n",
       "    }\n",
       "</style>\n",
       "<table border=\"1\" class=\"dataframe\">\n",
       "  <thead>\n",
       "    <tr style=\"text-align: right;\">\n",
       "      <th></th>\n",
       "      <th>dt</th>\n",
       "      <th>chain</th>\n",
       "      <th>active_secs_per_day</th>\n",
       "      <th>num_l1_txs_inbox</th>\n",
       "      <th>num_l1_txs_output</th>\n",
       "      <th>calldata_bytes_l1_inbox</th>\n",
       "      <th>avg_l1_gas_price_on_l1_inbox</th>\n",
       "      <th>avg_l1_gas_price_on_l1_output</th>\n",
       "      <th>avg_l1_gas_price_on_l2</th>\n",
       "      <th>l1_gas_used_inbox</th>\n",
       "      <th>...</th>\n",
       "      <th>l2_gas_used</th>\n",
       "      <th>l2_gas_used_user_txs_per_day</th>\n",
       "      <th>l2_eth_fees_per_day</th>\n",
       "      <th>avg_l2_base_fee_gwei</th>\n",
       "      <th>avg_l2_gas_price_gwei</th>\n",
       "      <th>avg_l2_priority_fee_gwei</th>\n",
       "      <th>eth_fees_margin_per_day</th>\n",
       "      <th>gas_compression_ratio</th>\n",
       "      <th>bytes_compression_ratio</th>\n",
       "      <th>dt_rank</th>\n",
       "    </tr>\n",
       "  </thead>\n",
       "  <tbody>\n",
       "    <tr>\n",
       "      <th>199</th>\n",
       "      <td>2023-08-01 00:00:00+00:00</td>\n",
       "      <td>Public Goods Network</td>\n",
       "      <td>86400.000</td>\n",
       "      <td>146</td>\n",
       "      <td>24</td>\n",
       "      <td>1921307.000</td>\n",
       "      <td>22.606</td>\n",
       "      <td>21.983</td>\n",
       "      <td>25.790</td>\n",
       "      <td>33752732.000</td>\n",
       "      <td>...</td>\n",
       "      <td>2239388216.000</td>\n",
       "      <td>41733588.000</td>\n",
       "      <td>0.085</td>\n",
       "      <td>0.000</td>\n",
       "      <td>1.378</td>\n",
       "      <td>1.378</td>\n",
       "      <td>-0.724</td>\n",
       "      <td>21.738</td>\n",
       "      <td>0.168</td>\n",
       "      <td>50</td>\n",
       "    </tr>\n",
       "    <tr>\n",
       "      <th>101</th>\n",
       "      <td>2023-08-25 00:00:00+00:00</td>\n",
       "      <td>OP Mainnet</td>\n",
       "      <td>86400.000</td>\n",
       "      <td>573</td>\n",
       "      <td>24</td>\n",
       "      <td>66223249.000</td>\n",
       "      <td>22.568</td>\n",
       "      <td>22.448</td>\n",
       "      <td>22.410</td>\n",
       "      <td>1068660508.000</td>\n",
       "      <td>...</td>\n",
       "      <td>109221635064.000</td>\n",
       "      <td>106992873658.000</td>\n",
       "      <td>34.223</td>\n",
       "      <td>0.000</td>\n",
       "      <td>0.082</td>\n",
       "      <td>0.082</td>\n",
       "      <td>10.058</td>\n",
       "      <td>0.644</td>\n",
       "      <td>0.468</td>\n",
       "      <td>26</td>\n",
       "    </tr>\n",
       "    <tr>\n",
       "      <th>47</th>\n",
       "      <td>2023-09-08 00:00:00+00:00</td>\n",
       "      <td>Public Goods Network</td>\n",
       "      <td>86400.000</td>\n",
       "      <td>146</td>\n",
       "      <td>24</td>\n",
       "      <td>1883868.000</td>\n",
       "      <td>15.847</td>\n",
       "      <td>17.399</td>\n",
       "      <td>13.448</td>\n",
       "      <td>33155520.000</td>\n",
       "      <td>...</td>\n",
       "      <td>2200822554.000</td>\n",
       "      <td>24565107.000</td>\n",
       "      <td>0.016</td>\n",
       "      <td>0.000</td>\n",
       "      <td>0.509</td>\n",
       "      <td>0.509</td>\n",
       "      <td>-0.546</td>\n",
       "      <td>97.788</td>\n",
       "      <td>0.167</td>\n",
       "      <td>12</td>\n",
       "    </tr>\n",
       "    <tr>\n",
       "      <th>16</th>\n",
       "      <td>2023-09-15 00:00:00+00:00</td>\n",
       "      <td>Base</td>\n",
       "      <td>86400.000</td>\n",
       "      <td>1892</td>\n",
       "      <td>24</td>\n",
       "      <td>156632648.000</td>\n",
       "      <td>16.022</td>\n",
       "      <td>14.390</td>\n",
       "      <td>15.470</td>\n",
       "      <td>2537018852.000</td>\n",
       "      <td>...</td>\n",
       "      <td>220265629852.000</td>\n",
       "      <td>217765302332.000</td>\n",
       "      <td>93.474</td>\n",
       "      <td>0.063</td>\n",
       "      <td>0.185</td>\n",
       "      <td>0.122</td>\n",
       "      <td>52.796</td>\n",
       "      <td>0.504</td>\n",
       "      <td>0.717</td>\n",
       "      <td>5</td>\n",
       "    </tr>\n",
       "    <tr>\n",
       "      <th>308</th>\n",
       "      <td>2023-07-02 00:00:00+00:00</td>\n",
       "      <td>OP Mainnet</td>\n",
       "      <td>86400.000</td>\n",
       "      <td>750</td>\n",
       "      <td>24</td>\n",
       "      <td>82114135.000</td>\n",
       "      <td>14.863</td>\n",
       "      <td>14.339</td>\n",
       "      <td>14.728</td>\n",
       "      <td>1325948056.000</td>\n",
       "      <td>...</td>\n",
       "      <td>133767511927.000</td>\n",
       "      <td>131553246815.000</td>\n",
       "      <td>27.403</td>\n",
       "      <td>0.000</td>\n",
       "      <td>0.038</td>\n",
       "      <td>0.038</td>\n",
       "      <td>7.666</td>\n",
       "      <td>0.596</td>\n",
       "      <td>0.427</td>\n",
       "      <td>80</td>\n",
       "    </tr>\n",
       "  </tbody>\n",
       "</table>\n",
       "<p>5 rows × 36 columns</p>\n",
       "</div>"
      ],
      "text/plain": [
       "                           dt                 chain  active_secs_per_day  \\\n",
       "199 2023-08-01 00:00:00+00:00  Public Goods Network            86400.000   \n",
       "101 2023-08-25 00:00:00+00:00            OP Mainnet            86400.000   \n",
       "47  2023-09-08 00:00:00+00:00  Public Goods Network            86400.000   \n",
       "16  2023-09-15 00:00:00+00:00                  Base            86400.000   \n",
       "308 2023-07-02 00:00:00+00:00            OP Mainnet            86400.000   \n",
       "\n",
       "     num_l1_txs_inbox  num_l1_txs_output  calldata_bytes_l1_inbox  \\\n",
       "199               146                 24              1921307.000   \n",
       "101               573                 24             66223249.000   \n",
       "47                146                 24              1883868.000   \n",
       "16               1892                 24            156632648.000   \n",
       "308               750                 24             82114135.000   \n",
       "\n",
       "     avg_l1_gas_price_on_l1_inbox  avg_l1_gas_price_on_l1_output  \\\n",
       "199                        22.606                         21.983   \n",
       "101                        22.568                         22.448   \n",
       "47                         15.847                         17.399   \n",
       "16                         16.022                         14.390   \n",
       "308                        14.863                         14.339   \n",
       "\n",
       "     avg_l1_gas_price_on_l2  l1_gas_used_inbox  ...      l2_gas_used  \\\n",
       "199                  25.790       33752732.000  ...   2239388216.000   \n",
       "101                  22.410     1068660508.000  ... 109221635064.000   \n",
       "47                   13.448       33155520.000  ...   2200822554.000   \n",
       "16                   15.470     2537018852.000  ... 220265629852.000   \n",
       "308                  14.728     1325948056.000  ... 133767511927.000   \n",
       "\n",
       "     l2_gas_used_user_txs_per_day  l2_eth_fees_per_day  avg_l2_base_fee_gwei  \\\n",
       "199                  41733588.000                0.085                 0.000   \n",
       "101              106992873658.000               34.223                 0.000   \n",
       "47                   24565107.000                0.016                 0.000   \n",
       "16               217765302332.000               93.474                 0.063   \n",
       "308              131553246815.000               27.403                 0.000   \n",
       "\n",
       "     avg_l2_gas_price_gwei  avg_l2_priority_fee_gwei  eth_fees_margin_per_day  \\\n",
       "199                  1.378                     1.378                   -0.724   \n",
       "101                  0.082                     0.082                   10.058   \n",
       "47                   0.509                     0.509                   -0.546   \n",
       "16                   0.185                     0.122                   52.796   \n",
       "308                  0.038                     0.038                    7.666   \n",
       "\n",
       "     gas_compression_ratio  bytes_compression_ratio  dt_rank  \n",
       "199                 21.738                    0.168       50  \n",
       "101                  0.644                    0.468       26  \n",
       "47                  97.788                    0.167       12  \n",
       "16                   0.504                    0.717        5  \n",
       "308                  0.596                    0.427       80  \n",
       "\n",
       "[5 rows x 36 columns]"
      ]
     },
     "metadata": {},
     "output_type": "display_data"
    }
   ],
   "source": [
    "new_data = combo_df[combo_df['active_secs_per_day'] == 86400].copy()\n",
    "display(new_data.sample(5))"
   ]
  },
  {
   "cell_type": "code",
   "execution_count": 167,
   "metadata": {},
   "outputs": [
    {
     "data": {
      "text/plain": [
       "l2_num_txs_per_day                    0\n",
       "calldata_gas_l2_per_day               0\n",
       "calldata_bytes_l2_per_day             0\n",
       "l1_gas_used_user_txs_l2_per_day       0\n",
       "calldata_bytes_user_txs_l2_per_day    0\n",
       "calldata_gas_user_txs_l2_per_day      0\n",
       "l1_gas_used_inbox                     0\n",
       "avg_l2_priority_fee_gwei              3\n",
       "avg_l2_base_fee_gwei                  3\n",
       "dtype: int64"
      ]
     },
     "execution_count": 167,
     "metadata": {},
     "output_type": "execute_result"
    }
   ],
   "source": [
    "selected_columns = [\n",
    "    'l2_num_txs_per_day' #, 'l2_num_attr_deposit_txs_per_day', 'l2_num_user_deposit_txs_per_day'\n",
    "    # , 'l1_gas_used_on_l2'\n",
    "    , 'calldata_gas_l2_per_day'\n",
    "    , 'calldata_bytes_l2_per_day'\n",
    "    , 'l1_gas_used_user_txs_l2_per_day', 'calldata_bytes_user_txs_l2_per_day', 'calldata_gas_user_txs_l2_per_day'\n",
    "    , 'l1_gas_used_inbox'\n",
    "    , 'avg_l2_priority_fee_gwei', 'avg_l2_base_fee_gwei'\n",
    "]\n",
    "\n",
    "missing_values_in_selected_columns = new_data[selected_columns].isnull().sum()\n",
    "missing_values_in_selected_columns"
   ]
  },
  {
   "cell_type": "code",
   "execution_count": 168,
   "metadata": {},
   "outputs": [
    {
     "data": {
      "text/plain": [
       "l2_num_txs_per_day                    0.914\n",
       "calldata_gas_l2_per_day               0.975\n",
       "calldata_bytes_l2_per_day             0.971\n",
       "l1_gas_used_user_txs_l2_per_day       0.994\n",
       "calldata_bytes_user_txs_l2_per_day    0.970\n",
       "calldata_gas_user_txs_l2_per_day      0.975\n",
       "l1_gas_used_inbox                     1.000\n",
       "avg_l2_priority_fee_gwei             -0.364\n",
       "avg_l2_base_fee_gwei                  0.301\n",
       "Name: l1_gas_used_inbox, dtype: float64"
      ]
     },
     "execution_count": 168,
     "metadata": {},
     "output_type": "execute_result"
    }
   ],
   "source": [
    "# Step 2: Feature Selection - Examining the correlation between the potential features and the target variable\n",
    "correlation_matrix = new_data[selected_columns].corr()\n",
    "\n",
    "# Getting the correlation of all features with the target variable 'l1_gas_used_inbox'\n",
    "target_correlation = correlation_matrix['l1_gas_used_inbox']\n",
    "\n",
    "# Displaying the correlation values\n",
    "target_correlation"
   ]
  },
  {
   "cell_type": "code",
   "execution_count": 169,
   "metadata": {},
   "outputs": [
    {
     "data": {
      "text/plain": [
       "l2_num_txs_per_day                    0\n",
       "calldata_gas_l2_per_day               0\n",
       "calldata_bytes_l2_per_day             0\n",
       "l1_gas_used_user_txs_l2_per_day       0\n",
       "calldata_bytes_user_txs_l2_per_day    0\n",
       "calldata_gas_user_txs_l2_per_day      0\n",
       "l1_gas_used_inbox                     0\n",
       "avg_l2_priority_fee_gwei              3\n",
       "avg_l2_base_fee_gwei                  3\n",
       "dtype: int64"
      ]
     },
     "execution_count": 169,
     "metadata": {},
     "output_type": "execute_result"
    }
   ],
   "source": [
    "# Filling the missing values in 'l1_gas_used_on_l2' with 0\n",
    "# new_data['l1_gas_used_on_l2'].fillna(0, inplace=True)\n",
    "new_data['calldata_gas_l2_per_day'].fillna(0, inplace=True)\n",
    "new_data['calldata_bytes_l2_per_day'].fillna(0, inplace=True)\n",
    "new_data['l1_gas_used_user_txs_l2_per_day'].fillna(0, inplace=True)\n",
    "new_data['calldata_bytes_user_txs_l2_per_day'].fillna(0, inplace=True)\n",
    "new_data['calldata_gas_user_txs_l2_per_day'].fillna(0, inplace=True)\n",
    "\n",
    "\n",
    "# Verifying that there are no more missing values in the selected columns\n",
    "missing_values_in_selected_columns = new_data[selected_columns].isnull().sum()\n",
    "missing_values_in_selected_columns"
   ]
  },
  {
   "cell_type": "code",
   "execution_count": 170,
   "metadata": {},
   "outputs": [
    {
     "data": {
      "text/plain": [
       "l2_num_txs_per_day                    0.914\n",
       "calldata_gas_l2_per_day               0.975\n",
       "calldata_bytes_l2_per_day             0.971\n",
       "l1_gas_used_user_txs_l2_per_day       0.994\n",
       "calldata_bytes_user_txs_l2_per_day    0.970\n",
       "calldata_gas_user_txs_l2_per_day      0.975\n",
       "l1_gas_used_inbox                     1.000\n",
       "avg_l2_priority_fee_gwei             -0.364\n",
       "avg_l2_base_fee_gwei                  0.301\n",
       "Name: l1_gas_used_inbox, dtype: float64"
      ]
     },
     "execution_count": 170,
     "metadata": {},
     "output_type": "execute_result"
    }
   ],
   "source": [
    "# Step 2: Feature Selection - Examining the correlation between the potential features and the target variable\n",
    "correlation_matrix = new_data[selected_columns].corr()\n",
    "\n",
    "# Getting the correlation of all features with the target variable 'l1_gas_used_inbox'\n",
    "target_correlation = correlation_matrix['l1_gas_used_inbox']\n",
    "\n",
    "# Displaying the correlation values\n",
    "target_correlation"
   ]
  },
  {
   "cell_type": "code",
   "execution_count": 171,
   "metadata": {},
   "outputs": [],
   "source": [
    "# Build new values\n",
    "new_data['l1_gas_used_per_user_tx'] = new_data['l1_gas_used_user_txs_l2_per_day'] / new_data['l2_num_txs_per_day']\n",
    "new_data['calldata_gas_per_user_tx'] = new_data['calldata_gas_user_txs_l2_per_day'] / new_data['l2_num_txs_per_day']\n",
    "new_data['calldata_bytes_per_user_tx'] = new_data['calldata_bytes_user_txs_l2_per_day'] / new_data['l2_num_txs_per_day']\n",
    "new_data['l2_gas_used_per_user_tx'] = new_data['l2_gas_used_user_txs_per_day'] / new_data['l2_num_txs_per_day']\n",
    "\n",
    "# display(new_data[new_data['l1_gas_used_user_txs_l2_per_day'] == 0].head(5))\n",
    "\n",
    "new_data['l1_gas_used_per_user_tx'].fillna(0, inplace=True)\n",
    "new_data['calldata_bytes_per_user_tx'].fillna(0, inplace=True)\n",
    "new_data['calldata_gas_per_user_tx'].fillna(0, inplace=True)\n",
    "new_data['l2_gas_used_per_user_tx'].fillna(0, inplace=True)\n",
    "\n",
    "# new_data['l2_num_txs_per_day_sq'] = new_data['l2_num_txs_per_day'] ** 2\n",
    "\n",
    "# display(new_data.head(5))"
   ]
  },
  {
   "cell_type": "code",
   "execution_count": 172,
   "metadata": {},
   "outputs": [
    {
     "data": {
      "text/plain": [
       "((272, 3), (69, 3))"
      ]
     },
     "execution_count": 172,
     "metadata": {},
     "output_type": "execute_result"
    }
   ],
   "source": [
    "# GPT Built model\n",
    "from sklearn.model_selection import train_test_split\n",
    "\n",
    "# Step 3: Data Splitting - Splitting the data into training and testing sets\n",
    "\n",
    "# Selected features\n",
    "features = [\n",
    "    # 'l1_gas_used_user_txs_l2_per_day', \n",
    "    # 'calldata_bytes_user_txs_l2_per_day', \n",
    "    # 'calldata_gas_user_txs_l2_per_day',\n",
    "    # 'l1_gas_used_per_user_tx',\n",
    "    'calldata_bytes_per_user_tx',\n",
    "    'calldata_gas_per_user_tx',\n",
    "    'l2_num_txs_per_day', \n",
    "    # 'l2_gas_used_user_txs_per_day',\n",
    "    # 'l2_num_txs_per_day_sq', \n",
    "    # 'l2_num_user_deposit_txs_per_day', \n",
    "    # 'l2_num_attr_deposit_txs_per_day'\n",
    "]\n",
    "\n",
    "# Target variable\n",
    "target = 'l1_gas_used_inbox'\n",
    "\n",
    "# Splitting the data into training and testing sets (80% training, 20% testing)\n",
    "X = new_data[features]\n",
    "y = new_data[target]\n",
    "\n",
    "X_train, X_test, y_train, y_test = train_test_split(X, y, test_size=0.2, random_state=42)\n",
    "\n",
    "X_train.shape, X_test.shape\n"
   ]
  },
  {
   "cell_type": "code",
   "execution_count": 173,
   "metadata": {},
   "outputs": [
    {
     "data": {
      "text/plain": [
       "(1.3661722582144632e+17, 0.8271749389723755)"
      ]
     },
     "execution_count": 173,
     "metadata": {},
     "output_type": "execute_result"
    }
   ],
   "source": [
    "from sklearn.linear_model import LinearRegression\n",
    "from sklearn.metrics import mean_squared_error, r2_score\n",
    "\n",
    "# print(X_train.isnull().sum())\n",
    "\n",
    "# Step 4: Model Training - Training a linear regression model\n",
    "linear_regressor = LinearRegression()\n",
    "linear_regressor.fit(X_train, y_train)\n",
    "\n",
    "\n",
    "# Step 5: Model Evaluation - Evaluating the model on the testing set\n",
    "y_pred_linear = linear_regressor.predict(X_test)\n",
    "\n",
    "# Calculate the model performance\n",
    "mse_linear = mean_squared_error(y_test, y_pred_linear)\n",
    "r2_linear = r2_score(y_test, y_pred_linear)\n",
    "\n",
    "mse_linear, r2_linear"
   ]
  },
  {
   "cell_type": "code",
   "execution_count": 174,
   "metadata": {},
   "outputs": [
    {
     "data": {
      "text/plain": [
       "(20855799.62597847,\n",
       " {'calldata_bytes_per_user_tx': 649327.182051211,\n",
       "  'calldata_gas_per_user_tx': -43334.3935170693,\n",
       "  'l2_num_txs_per_day': 2364.17843144964})"
      ]
     },
     "execution_count": 174,
     "metadata": {},
     "output_type": "execute_result"
    }
   ],
   "source": [
    "# Extracting the coefficients and intercept from the trained model\n",
    "intercept = linear_regressor.intercept_\n",
    "coefficients = linear_regressor.coef_\n",
    "\n",
    "\n",
    "# Creating a dictionary to hold the feature names and their respective coefficients\n",
    "feature_coeff_dict = dict(zip(features, coefficients))\n",
    "\n",
    "# Displaying the intercept and coefficients\n",
    "intercept, feature_coeff_dict"
   ]
  },
  {
   "cell_type": "code",
   "execution_count": 175,
   "metadata": {},
   "outputs": [
    {
     "data": {
      "text/plain": [
       "['outputs/linear_regression_l1_gas_used_inbox_model.joblib']"
      ]
     },
     "execution_count": 175,
     "metadata": {},
     "output_type": "execute_result"
    }
   ],
   "source": [
    "from joblib import dump\n",
    "\n",
    "# Save the model to a file\n",
    "model_filepath = 'outputs/linear_regression_l1_gas_used_inbox_model.joblib'\n",
    "dump(linear_regressor, model_filepath)\n"
   ]
  },
  {
   "cell_type": "code",
   "execution_count": 176,
   "metadata": {},
   "outputs": [
    {
     "name": "stdout",
     "output_type": "stream",
     "text": [
      "l1_gas_used_inbox = 20855799.63 + (649327.18) * calldata_bytes_per_user_tx + (-43334.39) * calldata_gas_per_user_tx + (2364.18) * l2_num_txs_per_day\n"
     ]
    }
   ],
   "source": [
    "# Create a string to represent the regression equation\n",
    "equation_str = f\"l1_gas_used_inbox = {intercept:.2f}\"\n",
    "for feature, coef in feature_coeff_dict.items():\n",
    "    equation_str += f\" + ({coef:.2f}) * {feature}\"\n",
    "\n",
    "# Print out the regression equation\n",
    "print(equation_str)"
   ]
  },
  {
   "cell_type": "code",
   "execution_count": 177,
   "metadata": {},
   "outputs": [],
   "source": [
    "# Group the data by 'chain' and calculate the weighted average values for each of the input features over the most recent 30 days\n",
    "def weighted_average(group, col_name, wt_col):\n",
    "    \"\"\"Calculates the weighted average.\"\"\"\n",
    "    if col_name == wt_col:\n",
    "        return group[col_name].mean()  # Simple average for 'l2_num_txs_per_day'\n",
    "    else:\n",
    "        return np.average(group[col_name], weights=group[wt_col])\n"
   ]
  },
  {
   "cell_type": "code",
   "execution_count": 178,
   "metadata": {},
   "outputs": [
    {
     "name": "stdout",
     "output_type": "stream",
     "text": [
      "['calldata_bytes_per_user_tx', 'calldata_gas_per_user_tx', 'l2_num_txs_per_day']\n"
     ]
    },
    {
     "data": {
      "text/html": [
       "<div>\n",
       "<style scoped>\n",
       "    .dataframe tbody tr th:only-of-type {\n",
       "        vertical-align: middle;\n",
       "    }\n",
       "\n",
       "    .dataframe tbody tr th {\n",
       "        vertical-align: top;\n",
       "    }\n",
       "\n",
       "    .dataframe thead th {\n",
       "        text-align: right;\n",
       "    }\n",
       "</style>\n",
       "<table border=\"1\" class=\"dataframe\">\n",
       "  <thead>\n",
       "    <tr style=\"text-align: right;\">\n",
       "      <th></th>\n",
       "      <th>chain</th>\n",
       "      <th>eth_fees_margin_per_day</th>\n",
       "      <th>l1_eth_fees_combined</th>\n",
       "      <th>l2_eth_fees_per_day</th>\n",
       "      <th>avg_l1_gas_price_on_l2</th>\n",
       "      <th>l2_num_txs_per_day</th>\n",
       "      <th>avg_l2_base_fee_gwei</th>\n",
       "      <th>avg_l2_priority_fee_gwei</th>\n",
       "      <th>calldata_gas_per_user_tx</th>\n",
       "      <th>calldata_bytes_per_user_tx</th>\n",
       "      <th>l2_gas_used_per_user_tx</th>\n",
       "    </tr>\n",
       "  </thead>\n",
       "  <tbody>\n",
       "    <tr>\n",
       "      <th>0</th>\n",
       "      <td>Base</td>\n",
       "      <td>43.479</td>\n",
       "      <td>32.061</td>\n",
       "      <td>75.541</td>\n",
       "      <td>17.396</td>\n",
       "      <td>731395.733</td>\n",
       "      <td>0.055</td>\n",
       "      <td>0.137</td>\n",
       "      <td>1474.669</td>\n",
       "      <td>188.981</td>\n",
       "      <td>279379.436</td>\n",
       "    </tr>\n",
       "    <tr>\n",
       "      <th>1</th>\n",
       "      <td>OP Mainnet</td>\n",
       "      <td>15.243</td>\n",
       "      <td>23.983</td>\n",
       "      <td>39.225</td>\n",
       "      <td>17.871</td>\n",
       "      <td>342734.667</td>\n",
       "      <td>0.024</td>\n",
       "      <td>0.074</td>\n",
       "      <td>3483.944</td>\n",
       "      <td>423.802</td>\n",
       "      <td>404840.859</td>\n",
       "    </tr>\n",
       "    <tr>\n",
       "      <th>2</th>\n",
       "      <td>Public Goods Network</td>\n",
       "      <td>-0.319</td>\n",
       "      <td>0.906</td>\n",
       "      <td>0.587</td>\n",
       "      <td>17.997</td>\n",
       "      <td>527.100</td>\n",
       "      <td>0.000</td>\n",
       "      <td>1.329</td>\n",
       "      <td>7428.254</td>\n",
       "      <td>1050.968</td>\n",
       "      <td>146813.359</td>\n",
       "    </tr>\n",
       "    <tr>\n",
       "      <th>3</th>\n",
       "      <td>Zora Network</td>\n",
       "      <td>3.143</td>\n",
       "      <td>3.175</td>\n",
       "      <td>6.318</td>\n",
       "      <td>16.346</td>\n",
       "      <td>78217.517</td>\n",
       "      <td>0.000</td>\n",
       "      <td>0.290</td>\n",
       "      <td>1451.653</td>\n",
       "      <td>195.426</td>\n",
       "      <td>141065.308</td>\n",
       "    </tr>\n",
       "  </tbody>\n",
       "</table>\n",
       "</div>"
      ],
      "text/plain": [
       "                  chain  eth_fees_margin_per_day  l1_eth_fees_combined  \\\n",
       "0                  Base                   43.479                32.061   \n",
       "1            OP Mainnet                   15.243                23.983   \n",
       "2  Public Goods Network                   -0.319                 0.906   \n",
       "3          Zora Network                    3.143                 3.175   \n",
       "\n",
       "   l2_eth_fees_per_day  avg_l1_gas_price_on_l2  l2_num_txs_per_day  \\\n",
       "0               75.541                  17.396          731395.733   \n",
       "1               39.225                  17.871          342734.667   \n",
       "2                0.587                  17.997             527.100   \n",
       "3                6.318                  16.346           78217.517   \n",
       "\n",
       "   avg_l2_base_fee_gwei  avg_l2_priority_fee_gwei  calldata_gas_per_user_tx  \\\n",
       "0                 0.055                     0.137                  1474.669   \n",
       "1                 0.024                     0.074                  3483.944   \n",
       "2                 0.000                     1.329                  7428.254   \n",
       "3                 0.000                     0.290                  1451.653   \n",
       "\n",
       "   calldata_bytes_per_user_tx  l2_gas_used_per_user_tx  \n",
       "0                     188.981               279379.436  \n",
       "1                     423.802               404840.859  \n",
       "2                    1050.968               146813.359  \n",
       "3                     195.426               141065.308  "
      ]
     },
     "metadata": {},
     "output_type": "display_data"
    }
   ],
   "source": [
    "# Find inputs\n",
    "# Convert the 'dt' column to datetime data type\n",
    "new_data['dt'] = pd.to_datetime(new_data['dt'])\n",
    "\n",
    "# Identify the most recent date in the dataset\n",
    "most_recent_date = new_data['dt'].max()\n",
    "\n",
    "# Identify the date that is 30 days before the most recent date\n",
    "date_30_days_ago = most_recent_date - pd.Timedelta(days=30)\n",
    "\n",
    "# Filter the data to include only the most recent 30 days\n",
    "recent_30_days_data = new_data[new_data['dt'] > date_30_days_ago]\n",
    "\n",
    "print(features)\n",
    "cols_to_avg = features + ['l2_gas_used_per_user_tx','avg_l2_base_fee_gwei', 'avg_l2_priority_fee_gwei'] + ['l1_eth_fees_combined','l2_eth_fees_per_day', 'eth_fees_margin_per_day'] + ['avg_l1_gas_price_on_l2']\n",
    "# Group the data by 'chain' and calculate the average values for each of the input features over the most recent 30 days\n",
    "# average_values_per_chain = recent_30_days_data.groupby('chain')[cols_to_avg].mean()\n",
    "\n",
    "average_values_per_chain = recent_30_days_data.groupby('chain').apply(lambda g: pd.Series({\n",
    "    col: weighted_average(g, col, wt_col = 'l2_num_txs_per_day') for col in cols_to_avg\n",
    "}))\n",
    "\n",
    "\n",
    "# Resetting the index to have 'chain' as a column\n",
    "average_values_per_chain = average_values_per_chain.reset_index()\n",
    "\n",
    "# Calculate the per transaction values for 'l1_gas_used_on_l2' and 'calldata_bytes_l2_per_day'\n",
    "# average_values_per_chain['l1_gas_used_user_txs_on_l2_per_tx'] = average_values_per_chain['l1_gas_used_user_txs_l2_per_day'] / average_values_per_chain['l2_num_txs_per_day']\n",
    "# average_values_per_chain['calldata_bytes_user_txs_l2_per_tx'] = average_values_per_chain['calldata_bytes_user_txs_l2_per_day'] / average_values_per_chain['l2_num_txs_per_day']\n",
    "\n",
    "# Create a new DataFrame to hold the 'per_tx' values\n",
    "average_values_per_chain = average_values_per_chain[['chain'\n",
    "        ,'eth_fees_margin_per_day','l1_eth_fees_combined','l2_eth_fees_per_day','avg_l1_gas_price_on_l2'\n",
    "        ,'l2_num_txs_per_day','avg_l2_base_fee_gwei', 'avg_l2_priority_fee_gwei', 'calldata_gas_per_user_tx', 'calldata_bytes_per_user_tx','l2_gas_used_per_user_tx']]\n",
    "\n",
    "\n",
    "pd.set_option('display.float_format', lambda x: '%.3f' % x)\n",
    "# Display the average values per chain\n",
    "display(average_values_per_chain)"
   ]
  },
  {
   "cell_type": "code",
   "execution_count": 179,
   "metadata": {},
   "outputs": [
    {
     "name": "stderr",
     "output_type": "stream",
     "text": [
      "/var/folders/by/kltjc8yd0yz_7_wrtrzhrm9m0000gn/T/ipykernel_12334/3940818164.py:15: SettingWithCopyWarning:\n",
      "\n",
      "\n",
      "A value is trying to be set on a copy of a slice from a DataFrame.\n",
      "Try using .loc[row_indexer,col_indexer] = value instead\n",
      "\n",
      "See the caveats in the documentation: https://pandas.pydata.org/pandas-docs/stable/user_guide/indexing.html#returning-a-view-versus-a-copy\n",
      "\n",
      "/var/folders/by/kltjc8yd0yz_7_wrtrzhrm9m0000gn/T/ipykernel_12334/3940818164.py:15: SettingWithCopyWarning:\n",
      "\n",
      "\n",
      "A value is trying to be set on a copy of a slice from a DataFrame.\n",
      "Try using .loc[row_indexer,col_indexer] = value instead\n",
      "\n",
      "See the caveats in the documentation: https://pandas.pydata.org/pandas-docs/stable/user_guide/indexing.html#returning-a-view-versus-a-copy\n",
      "\n",
      "/var/folders/by/kltjc8yd0yz_7_wrtrzhrm9m0000gn/T/ipykernel_12334/3940818164.py:15: SettingWithCopyWarning:\n",
      "\n",
      "\n",
      "A value is trying to be set on a copy of a slice from a DataFrame.\n",
      "Try using .loc[row_indexer,col_indexer] = value instead\n",
      "\n",
      "See the caveats in the documentation: https://pandas.pydata.org/pandas-docs/stable/user_guide/indexing.html#returning-a-view-versus-a-copy\n",
      "\n",
      "/var/folders/by/kltjc8yd0yz_7_wrtrzhrm9m0000gn/T/ipykernel_12334/3940818164.py:15: SettingWithCopyWarning:\n",
      "\n",
      "\n",
      "A value is trying to be set on a copy of a slice from a DataFrame.\n",
      "Try using .loc[row_indexer,col_indexer] = value instead\n",
      "\n",
      "See the caveats in the documentation: https://pandas.pydata.org/pandas-docs/stable/user_guide/indexing.html#returning-a-view-versus-a-copy\n",
      "\n"
     ]
    },
    {
     "data": {
      "image/png": "[encoded data removed]",
      "text/plain": [
       "<Figure size 1200x800 with 4 Axes>"
      ]
     },
     "metadata": {},
     "output_type": "display_data"
    }
   ],
   "source": [
    "import matplotlib.pyplot as plt\n",
    "# Setting up the plot\n",
    "plt.figure(figsize=(12, 8))\n",
    "\n",
    "# List of unique chains\n",
    "chains = new_data['chain'].unique()\n",
    "\n",
    "# Looping over each chain to plot the actual vs. predicted values and residuals\n",
    "for i, chain in enumerate(chains):\n",
    "    \n",
    "    # Filtering the data for the current chain\n",
    "    chain_data = recent_30_days_data[recent_30_days_data['chain'] == chain]\n",
    "    \n",
    "    # Making predictions using the new model\n",
    "    chain_data['predicted_l1_gas_used_inbox_new'] = linear_regressor.predict(chain_data[features])\n",
    "    \n",
    "    # Plotting the actual and predicted values\n",
    "    plt.subplot(2, 2, i+1)\n",
    "    plt.plot(chain_data['dt'], chain_data['l1_gas_used_inbox'], label='Actual', marker='o', linestyle='-')\n",
    "    plt.plot(chain_data['dt'], chain_data['predicted_l1_gas_used_inbox_new'], label='Predicted', marker='o', linestyle='-')\n",
    "    \n",
    "    # Plotting the residuals\n",
    "    for j in range(len(chain_data)):\n",
    "        plt.plot([chain_data['dt'].iloc[j], chain_data['dt'].iloc[j]], \n",
    "                 [chain_data['l1_gas_used_inbox'].iloc[j], chain_data['predicted_l1_gas_used_inbox_new'].iloc[j]], \n",
    "                 color='gray', linestyle='--', linewidth=0.5)\n",
    "    \n",
    "    # Adding labels and title\n",
    "    plt.xlabel('Date')\n",
    "    plt.ylabel('L1 Gas Used Inbox')\n",
    "    plt.title(f'Actual vs Predicted (Chain: {chain})')\n",
    "    plt.legend()\n",
    "    plt.grid(True)\n",
    "\n",
    "# Adjusting the layout to prevent overlapping\n",
    "plt.tight_layout()\n",
    "\n",
    "# Displaying the plot\n",
    "plt.show()\n"
   ]
  },
  {
   "cell_type": "code",
   "execution_count": 180,
   "metadata": {},
   "outputs": [
    {
     "data": {
      "image/png": "[encoded data removed]",
      "text/plain": [
       "<Figure size 1200x800 with 4 Axes>"
      ]
     },
     "metadata": {},
     "output_type": "display_data"
    }
   ],
   "source": [
    "#Stratify sampling\n",
    "\n",
    "from sklearn.model_selection import StratifiedShuffleSplit\n",
    "\n",
    "# Resetting the index of new_data before performing stratified sampling\n",
    "new_data.reset_index(drop=True, inplace=True)\n",
    "\n",
    "# Defining the stratified shuffle split object to split the data into training and testing sets with stratification on the 'chain' column\n",
    "stratified_split = StratifiedShuffleSplit(n_splits=1, test_size=0.2, random_state=42)\n",
    "\n",
    "\n",
    "# Splitting the data into training and testing sets using stratified sampling\n",
    "for train_index, test_index in stratified_split.split(new_data, new_data['chain']):\n",
    "    stratified_train_data = new_data.loc[train_index]\n",
    "    stratified_test_data = new_data.loc[test_index]\n",
    "\n",
    "# Training the linear regression model using the stratified training set\n",
    "X_train_stratified = stratified_train_data[features]\n",
    "y_train_stratified = stratified_train_data['l1_gas_used_inbox']\n",
    "X_test_stratified = stratified_test_data[features]\n",
    "y_test_stratified = stratified_test_data['l1_gas_used_inbox']\n",
    "\n",
    "linear_regressor_stratified = LinearRegression()\n",
    "linear_regressor_stratified.fit(X_train_stratified, y_train_stratified)\n",
    "\n",
    "# Predicting the target variable on the stratified testing set\n",
    "stratified_test_data['predicted_l1_gas_used_inbox'] = linear_regressor_stratified.predict(X_test_stratified)\n",
    "\n",
    "# Setting up the plot for visualization of residuals for each chain\n",
    "plt.figure(figsize=(12, 8))\n",
    "\n",
    "# Looping over each chain to plot the actual vs. predicted values and residuals\n",
    "for i, chain in enumerate(chains):\n",
    "    \n",
    "    # Filtering the data for the current chain and sorting it by date for a connected line plot\n",
    "    chain_data = stratified_test_data[stratified_test_data['chain'] == chain].sort_values(by='dt')\n",
    "    \n",
    "    # Plotting the actual and predicted values\n",
    "    plt.subplot(2, 2, i+1)\n",
    "    plt.plot(chain_data['dt'], chain_data['l1_gas_used_inbox'], label='Actual', marker='o', linestyle='-')\n",
    "    plt.plot(chain_data['dt'], chain_data['predicted_l1_gas_used_inbox'], label='Predicted', marker='o', linestyle='-')\n",
    "    \n",
    "    # Plotting the residuals\n",
    "    for j in range(len(chain_data)):\n",
    "        plt.plot([chain_data['dt'].iloc[j], chain_data['dt'].iloc[j]], \n",
    "                 [chain_data['l1_gas_used_inbox'].iloc[j], chain_data['predicted_l1_gas_used_inbox'].iloc[j]], \n",
    "                 color='gray', linestyle='--', linewidth=0.5)\n",
    "    \n",
    "    # Adding labels and title\n",
    "    plt.xlabel('Date')\n",
    "    plt.ylabel('L1 Gas Used Inbox')\n",
    "    plt.title(f'Actual vs Predicted (Chain: {chain}) - Stratified')\n",
    "    plt.legend()\n",
    "    plt.grid(True)\n",
    "\n",
    "# Adjusting the layout to prevent overlapping\n",
    "plt.tight_layout()\n",
    "\n",
    "# Displaying the plot\n",
    "plt.show()\n"
   ]
  },
  {
   "cell_type": "code",
   "execution_count": 181,
   "metadata": {},
   "outputs": [
    {
     "data": {
      "text/plain": [
       "(6.2024460160388504e+16, 0.8839108560643281)"
      ]
     },
     "execution_count": 181,
     "metadata": {},
     "output_type": "execute_result"
    }
   ],
   "source": [
    "\n",
    "# Step 5: Model Evaluation - Evaluating the model on the testing set\n",
    "y_pred_stratified = linear_regressor_stratified.predict(X_test_stratified)\n",
    "\n",
    "# Calculate the model performance\n",
    "mse_linear = mean_squared_error(y_test_stratified, y_pred_stratified)\n",
    "r2_linear = r2_score(y_test_stratified, y_pred_stratified)\n",
    "\n",
    "mse_linear, r2_linear\n"
   ]
  },
  {
   "cell_type": "code",
   "execution_count": 182,
   "metadata": {},
   "outputs": [
    {
     "data": {
      "text/plain": [
       "(146196.76840376854,\n",
       " {'calldata_bytes_per_user_tx': 771760.9228775532,\n",
       "  'calldata_gas_per_user_tx': -51467.971999424815,\n",
       "  'l2_num_txs_per_day': 2403.4675676618062})"
      ]
     },
     "execution_count": 182,
     "metadata": {},
     "output_type": "execute_result"
    }
   ],
   "source": [
    "# Extracting the coefficients and intercept from the trained model\n",
    "intercept = linear_regressor_stratified.intercept_\n",
    "coefficients = linear_regressor_stratified.coef_\n",
    "\n",
    "# Creating a dictionary to hold the feature names and their respective coefficients\n",
    "feature_coeff_dict = dict(zip(features, coefficients))\n",
    "\n",
    "# Displaying the intercept and coefficients\n",
    "intercept, feature_coeff_dict"
   ]
  },
  {
   "cell_type": "code",
   "execution_count": 183,
   "metadata": {},
   "outputs": [
    {
     "data": {
      "text/plain": [
       "(2067274076974169.2, 25184350.263833586, 0.9966886075057775)"
      ]
     },
     "execution_count": 183,
     "metadata": {},
     "output_type": "execute_result"
    }
   ],
   "source": [
    "from sklearn.preprocessing import PolynomialFeatures\n",
    "from sklearn.metrics import mean_absolute_error\n",
    "\n",
    "# Step 1: Create second-degree polynomial features\n",
    "poly = PolynomialFeatures(degree=2, include_bias=False)\n",
    "X_poly = poly.fit_transform(new_data[features])\n",
    "\n",
    "# Step 2: Train a linear regression model using the polynomial features\n",
    "poly_lr = LinearRegression()\n",
    "poly_lr.fit(X_poly, new_data['l1_gas_used_inbox'])\n",
    "\n",
    "# Step 3: Make predictions using the polynomial features\n",
    "new_data['predicted_l1_gas_used_inbox_poly'] = poly_lr.predict(X_poly)\n",
    "\n",
    "# Step 4: Evaluate the model using suitable metrics\n",
    "mse_poly = mean_squared_error(new_data['l1_gas_used_inbox'], new_data['predicted_l1_gas_used_inbox_poly'])\n",
    "mae_poly = mean_absolute_error(new_data['l1_gas_used_inbox'], new_data['predicted_l1_gas_used_inbox_poly'])\n",
    "r2_poly = r2_score(new_data['l1_gas_used_inbox'], new_data['predicted_l1_gas_used_inbox_poly'])\n",
    "\n",
    "mse_poly, mae_poly, r2_poly\n"
   ]
  },
  {
   "cell_type": "code",
   "execution_count": 184,
   "metadata": {},
   "outputs": [
    {
     "name": "stdout",
     "output_type": "stream",
     "text": [
      "Polynomial regression model:\n",
      "\n",
      "Intercept: 4145309.2682870626\n",
      "calldata_bytes_per_user_tx: 257727.5984045912\n",
      "calldata_gas_per_user_tx: -16541.276815960242\n",
      "l2_num_txs_per_day: 1374.218370443091\n",
      "calldata_bytes_per_user_tx^2: -334.3839832741598\n",
      "calldata_bytes_per_user_tx calldata_gas_per_user_tx: 41.15368155043923\n",
      "calldata_bytes_per_user_tx l2_num_txs_per_day: -6.585431652839822\n",
      "calldata_gas_per_user_tx^2: -1.2584537085652414\n",
      "calldata_gas_per_user_tx l2_num_txs_per_day: 1.3961904217608776\n",
      "l2_num_txs_per_day^2: -0.00024236720855697058\n",
      "\n",
      "^ Input this output in to GPT to generate a python / google sheets apps script function\n"
     ]
    }
   ],
   "source": [
    "# Get feature names\n",
    "feature_names = poly.get_feature_names_out(input_features=features)\n",
    "\n",
    "# Get the coefficients and intercept of the model\n",
    "coef = poly_lr.coef_\n",
    "intercept = poly_lr.intercept_\n",
    "\n",
    "# Print out the model\n",
    "print(\"Polynomial regression model:\")\n",
    "print(\"\")\n",
    "print(f\"Intercept: {intercept}\")\n",
    "for i in range(len(coef)):\n",
    "    print(f\"{feature_names[i]}: {coef[i]}\")\n",
    "\n",
    "print(\"\")\n",
    "print(\"^ Input this output in to GPT to generate a python / google sheets apps script function\")\n",
    "print(\"Note: This seems like the best, lets yolo use it\")"
   ]
  },
  {
   "cell_type": "code",
   "execution_count": 185,
   "metadata": {},
   "outputs": [],
   "source": [
    "# # Get averages\n",
    "# print(features)\n",
    "# columns_to_average = features + ['l2_gas_used_per_user_tx']\n",
    "# display(new_data.groupby('chain')[columns_to_average].mean())"
   ]
  },
  {
   "cell_type": "code",
   "execution_count": 186,
   "metadata": {},
   "outputs": [
    {
     "data": {
      "image/png": "[encoded data removed]",
      "text/plain": [
       "<Figure size 1000x600 with 1 Axes>"
      ]
     },
     "metadata": {},
     "output_type": "display_data"
    }
   ],
   "source": [
    "# Visualizing the actual vs predicted values for the model with polynomial features\n",
    "plt.figure(figsize=(10, 6))\n",
    "\n",
    "# Plotting the actual values\n",
    "plt.scatter(new_data['dt'], new_data['l1_gas_used_inbox'], label='Actual', alpha=0.5, color='blue')\n",
    "\n",
    "# Plotting the predicted values from the polynomial regression model\n",
    "plt.scatter(new_data['dt'], new_data['predicted_l1_gas_used_inbox_poly'], label='Predicted (Poly Reg)', alpha=0.5, color='red')\n",
    "\n",
    "# Labeling the axes and setting the title\n",
    "plt.xlabel('Date')\n",
    "plt.ylabel('L1 Gas Used Inbox')\n",
    "plt.title('Actual vs Predicted L1 Gas Used Inbox (Polynomial Regression)')\n",
    "\n",
    "# Displaying the legend\n",
    "plt.legend()\n",
    "\n",
    "# Displaying the plot\n",
    "plt.show()\n"
   ]
  },
  {
   "cell_type": "code",
   "execution_count": 187,
   "metadata": {},
   "outputs": [
    {
     "data": {
      "image/png": "[encoded data removed]",
      "text/plain": [
       "<Figure size 1400x800 with 4 Axes>"
      ]
     },
     "metadata": {},
     "output_type": "display_data"
    }
   ],
   "source": [
    "# Setting up the plot\n",
    "plt.figure(figsize=(14, 8))\n",
    "\n",
    "# List of unique chains\n",
    "chains = new_data['chain'].unique()\n",
    "\n",
    "# Plotting the actual and predicted values for each chain in separate subplots\n",
    "for i, chain in enumerate(chains, 1):\n",
    "    plt.subplot(2, 2, i)\n",
    "    \n",
    "    # Filtering the data for the current chain\n",
    "    chain_data = new_data[new_data['chain'] == chain]\n",
    "    \n",
    "    # Plotting the actual values\n",
    "    plt.scatter(chain_data['dt'], chain_data['l1_gas_used_inbox'], label='Actual', alpha=0.5, color='blue')\n",
    "    \n",
    "    # Plotting the predicted values from the polynomial regression model\n",
    "    plt.scatter(chain_data['dt'], chain_data['predicted_l1_gas_used_inbox_poly'], label='Predicted (Poly Reg)', alpha=0.5, color='red')\n",
    "    \n",
    "    # Setting the title to the current chain\n",
    "    plt.title(chain)\n",
    "    \n",
    "    # Labeling the axes\n",
    "    plt.xlabel('Date')\n",
    "    plt.ylabel('L1 Gas Used Inbox')\n",
    "    \n",
    "    # Displaying the legend\n",
    "    plt.legend()\n",
    "\n",
    "# Adjusting the layout to prevent overlapping\n",
    "plt.tight_layout()\n",
    "\n",
    "# Displaying the plot\n",
    "plt.show()\n"
   ]
  },
  {
   "cell_type": "code",
   "execution_count": 189,
   "metadata": {},
   "outputs": [
    {
     "name": "stdout",
     "output_type": "stream",
     "text": [
      "Intercept: 53825334.80018985\n",
      "Coefficient for calldata_bytes_per_user_tx: -11168.20540076391\n",
      "Coefficient for calldata_gas_per_user_tx: -512.9750166166924\n",
      "Coefficient for l2_num_txs_per_day: 954.3709457888435\n",
      "Coefficient for calldata_bytes_per_user_tx calldata_gas_per_user_tx: 0.19354195726904777\n",
      "Coefficient for calldata_bytes_per_user_tx l2_num_txs_per_day: -5.680657924300654\n",
      "Coefficient for calldata_gas_per_user_tx l2_num_txs_per_day: 1.3607435285318843\n",
      "R-squared: 0.9951152088048112\n"
     ]
    }
   ],
   "source": [
    "#Linear Interactions\n",
    "from sklearn.preprocessing import PolynomialFeatures\n",
    "from sklearn.linear_model import LinearRegression\n",
    "from sklearn.metrics import mean_squared_error, r2_score\n",
    "\n",
    "# Assuming new_data and features are defined\n",
    "# features should be a list of column names that you want to use as features\n",
    "\n",
    "X = new_data[features]\n",
    "y = new_data['l1_gas_used_inbox']\n",
    "\n",
    "# Create interaction features without polynomial terms\n",
    "poly = PolynomialFeatures(degree=2, interaction_only=True, include_bias=False)\n",
    "X_poly = poly.fit_transform(X)\n",
    "\n",
    "# Train a linear regression model using the interaction features\n",
    "poly_lr = LinearRegression()\n",
    "poly_lr.fit(X_poly, y)\n",
    "\n",
    "# Print the coefficients (intercept and slopes)\n",
    "print('Intercept:', poly_lr.intercept_)\n",
    "for i, coef in enumerate(poly_lr.coef_):\n",
    "    print(f'Coefficient for {poly.get_feature_names_out(X.columns)[i]}: {coef}')\n",
    "\n",
    "# Predict the target variable using the trained model\n",
    "y_pred = poly_lr.predict(X_poly)\n",
    "\n",
    "# Evaluate the model using R-squared\n",
    "print('R-squared:', r2_score(y, y_pred))\n"
   ]
  }
 ],
 "metadata": {
  "kernelspec": {
   "display_name": "new-env",
   "language": "python",
   "name": "python3"
  },
  "language_info": {
   "codemirror_mode": {
    "name": "ipython",
    "version": 3
   },
   "file_extension": ".py",
   "mimetype": "text/x-python",
   "name": "python",
   "nbconvert_exporter": "python",
   "pygments_lexer": "ipython3",
   "version": "3.10.11"
  },
  "orig_nbformat": 4
 },
 "nbformat": 4,
 "nbformat_minor": 2
}
