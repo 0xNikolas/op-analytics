{
 "cells": [
  {
   "cell_type": "code",
   "execution_count": 31,
   "metadata": {},
   "outputs": [],
   "source": [
    "import pandas as pd\n",
    "import plotly.express as px\n",
    "\n",
    "columns = [\n",
    "        'join_id','dt','chain', 'active_secs_per_day'\n",
    "        ,'num_l1_txs_inbox','num_l1_txs_output','calldata_bytes_l1_inbox'\n",
    "        ,'avg_l1_gas_price_on_l1_inbox','avg_l1_gas_price_on_l1_output','avg_l1_gas_price_on_l2'\n",
    "        ,'l1_gas_used_inbox','l1_gas_used_output','l1_gas_used_combined'\n",
    "        ,'l1_eth_fees_inbox','l1_eth_fees_output','l1_eth_fees_combined'\n",
    "        ,'l1_contrib_l2_eth_fees_per_day','l2_contrib_l2_eth_fees_per_day'\n",
    "        ,'l2_num_txs_per_day','l1_gas_used_on_l2','calldata_bytes_l2_per_day','l2_gas_used','l2_eth_fees_per_day'\n",
    "        ]"
   ]
  },
  {
   "cell_type": "code",
   "execution_count": 32,
   "metadata": {},
   "outputs": [],
   "source": [
    "#Unify datasets\n",
    "dunedf = pd.read_csv('csv_inputs/op_chain_gas_economics_dune_query_2453515.csv')\n",
    "goldskydf = pd.read_csv('csv_inputs/op_chain_gas_economics_goldsky_zora_pgn.csv')"
   ]
  },
  {
   "cell_type": "code",
   "execution_count": 33,
   "metadata": {},
   "outputs": [],
   "source": [
    "#Configure\n",
    "#rename cols\n",
    "dunedf = dunedf.rename(columns={\n",
    "                        'name':'chain'\n",
    "                        })\n",
    "#Generate Join ID Column\n",
    "dunedf['join_id'] = dunedf['dt'].astype(str).str[:10].str.cat(dunedf['chain'].astype(str).str.lower())\n",
    "goldskydf['join_id'] = goldskydf['dt'].astype(str).str[:10].str.cat(goldskydf['chain'].astype(str).str.lower())\n",
    "\n",
    "# display(dunedf.head(10))\n",
    "# print(dunedf.columns)\n",
    "# print('---')\n",
    "# display(goldskydf.head(10))\n",
    "# print(goldskydf.columns)\n",
    "\n",
    "combo_df = dunedf.merge(goldskydf, on='join_id', how='left')\n",
    "\n",
    "# display(combo_df)\n",
    "\n",
    "for c in columns:\n",
    "        try:\n",
    "                combo_df[c] = combo_df[c+'_x'].combine_first(combo_df[c+'_y']) #pick first non-null\n",
    "        except:\n",
    "                combo_df[c] = combo_df[c] #nada\n",
    "\n",
    "combo_df['dt'] = pd.to_datetime(combo_df['dt'])\n",
    "combo_df = combo_df[columns]\n",
    "\n",
    "combo_df['gas_compression_ratio'] = combo_df['l1_gas_used_inbox'] / combo_df['l1_gas_used_on_l2']\n",
    "combo_df['bytes_compression_ratio'] = combo_df['calldata_bytes_l1_inbox'] / combo_df['calldata_bytes_l2_per_day']"
   ]
  },
  {
   "cell_type": "code",
   "execution_count": 34,
   "metadata": {},
   "outputs": [
    {
     "data": {
      "text/html": [
       "<div>\n",
       "<style scoped>\n",
       "    .dataframe tbody tr th:only-of-type {\n",
       "        vertical-align: middle;\n",
       "    }\n",
       "\n",
       "    .dataframe tbody tr th {\n",
       "        vertical-align: top;\n",
       "    }\n",
       "\n",
       "    .dataframe thead th {\n",
       "        text-align: right;\n",
       "    }\n",
       "</style>\n",
       "<table border=\"1\" class=\"dataframe\">\n",
       "  <thead>\n",
       "    <tr style=\"text-align: right;\">\n",
       "      <th></th>\n",
       "      <th>join_id</th>\n",
       "      <th>dt</th>\n",
       "      <th>chain</th>\n",
       "      <th>active_secs_per_day</th>\n",
       "      <th>num_l1_txs_inbox</th>\n",
       "      <th>num_l1_txs_output</th>\n",
       "      <th>calldata_bytes_l1_inbox</th>\n",
       "      <th>avg_l1_gas_price_on_l1_inbox</th>\n",
       "      <th>avg_l1_gas_price_on_l1_output</th>\n",
       "      <th>avg_l1_gas_price_on_l2</th>\n",
       "      <th>...</th>\n",
       "      <th>l1_eth_fees_combined</th>\n",
       "      <th>l1_contrib_l2_eth_fees_per_day</th>\n",
       "      <th>l2_contrib_l2_eth_fees_per_day</th>\n",
       "      <th>l2_num_txs_per_day</th>\n",
       "      <th>l1_gas_used_on_l2</th>\n",
       "      <th>calldata_bytes_l2_per_day</th>\n",
       "      <th>l2_gas_used</th>\n",
       "      <th>l2_eth_fees_per_day</th>\n",
       "      <th>gas_compression_ratio</th>\n",
       "      <th>bytes_compression_ratio</th>\n",
       "    </tr>\n",
       "  </thead>\n",
       "  <tbody>\n",
       "    <tr>\n",
       "      <th>61</th>\n",
       "      <td>2023-08-10base</td>\n",
       "      <td>2023-08-10 00:00:00+00:00</td>\n",
       "      <td>Base</td>\n",
       "      <td>86400.0</td>\n",
       "      <td>1502</td>\n",
       "      <td>29</td>\n",
       "      <td>94484468.0</td>\n",
       "      <td>22.254103</td>\n",
       "      <td>20.043758</td>\n",
       "      <td>22.078360</td>\n",
       "      <td>...</td>\n",
       "      <td>34.286328</td>\n",
       "      <td>38.964568</td>\n",
       "      <td>92.163636</td>\n",
       "      <td>694769.0</td>\n",
       "      <td>2.580162e+09</td>\n",
       "      <td>162810437.0</td>\n",
       "      <td>1.077029e+11</td>\n",
       "      <td>131.128204</td>\n",
       "      <td>5.963086e-01</td>\n",
       "      <td>0.580334</td>\n",
       "    </tr>\n",
       "    <tr>\n",
       "      <th>158</th>\n",
       "      <td>2023-07-17base</td>\n",
       "      <td>2023-07-17 00:00:00+00:00</td>\n",
       "      <td>Base</td>\n",
       "      <td>86400.0</td>\n",
       "      <td>143</td>\n",
       "      <td>24</td>\n",
       "      <td>3808412.0</td>\n",
       "      <td>20.938717</td>\n",
       "      <td>23.688899</td>\n",
       "      <td>20.185095</td>\n",
       "      <td>...</td>\n",
       "      <td>1.384598</td>\n",
       "      <td>0.776185</td>\n",
       "      <td>1.241446</td>\n",
       "      <td>11105.0</td>\n",
       "      <td>5.621841e+07</td>\n",
       "      <td>14216005.0</td>\n",
       "      <td>3.351119e+09</td>\n",
       "      <td>2.017632</td>\n",
       "      <td>1.134293e+00</td>\n",
       "      <td>0.267896</td>\n",
       "    </tr>\n",
       "    <tr>\n",
       "      <th>239</th>\n",
       "      <td>2023-06-22base</td>\n",
       "      <td>2023-06-22 00:00:00+00:00</td>\n",
       "      <td>Base</td>\n",
       "      <td>86400.0</td>\n",
       "      <td>1429</td>\n",
       "      <td>24</td>\n",
       "      <td>2044423.0</td>\n",
       "      <td>16.751815</td>\n",
       "      <td>15.473995</td>\n",
       "      <td>16.842574</td>\n",
       "      <td>...</td>\n",
       "      <td>1.079298</td>\n",
       "      <td>0.000045</td>\n",
       "      <td>0.000093</td>\n",
       "      <td>2.0</td>\n",
       "      <td>3.548000e+03</td>\n",
       "      <td>11232000.0</td>\n",
       "      <td>2.169176e+09</td>\n",
       "      <td>0.000138</td>\n",
       "      <td>1.761649e+04</td>\n",
       "      <td>0.182018</td>\n",
       "    </tr>\n",
       "    <tr>\n",
       "      <th>224</th>\n",
       "      <td>2023-06-27base</td>\n",
       "      <td>2023-06-27 00:00:00+00:00</td>\n",
       "      <td>Base</td>\n",
       "      <td>86400.0</td>\n",
       "      <td>1419</td>\n",
       "      <td>24</td>\n",
       "      <td>2035154.0</td>\n",
       "      <td>17.900429</td>\n",
       "      <td>17.513913</td>\n",
       "      <td>17.473365</td>\n",
       "      <td>...</td>\n",
       "      <td>1.148926</td>\n",
       "      <td>0.000024</td>\n",
       "      <td>0.000032</td>\n",
       "      <td>1.0</td>\n",
       "      <td>1.856000e+03</td>\n",
       "      <td>11232420.0</td>\n",
       "      <td>2.169804e+09</td>\n",
       "      <td>0.000056</td>\n",
       "      <td>3.348329e+04</td>\n",
       "      <td>0.181186</td>\n",
       "    </tr>\n",
       "    <tr>\n",
       "      <th>163</th>\n",
       "      <td>2023-07-16public goods network</td>\n",
       "      <td>2023-07-16 00:00:00+00:00</td>\n",
       "      <td>Public Goods Network</td>\n",
       "      <td>86400.0</td>\n",
       "      <td>145</td>\n",
       "      <td>24</td>\n",
       "      <td>1862017.0</td>\n",
       "      <td>15.665246</td>\n",
       "      <td>16.134319</td>\n",
       "      <td>0.000000</td>\n",
       "      <td>...</td>\n",
       "      <td>0.547217</td>\n",
       "      <td>0.000000</td>\n",
       "      <td>0.000000</td>\n",
       "      <td>0.0</td>\n",
       "      <td>0.000000e+00</td>\n",
       "      <td>11232000.0</td>\n",
       "      <td>4.320000e+10</td>\n",
       "      <td>0.000000</td>\n",
       "      <td>inf</td>\n",
       "      <td>0.165778</td>\n",
       "    </tr>\n",
       "  </tbody>\n",
       "</table>\n",
       "<p>5 rows × 25 columns</p>\n",
       "</div>"
      ],
      "text/plain": [
       "                            join_id                        dt  \\\n",
       "61                   2023-08-10base 2023-08-10 00:00:00+00:00   \n",
       "158                  2023-07-17base 2023-07-17 00:00:00+00:00   \n",
       "239                  2023-06-22base 2023-06-22 00:00:00+00:00   \n",
       "224                  2023-06-27base 2023-06-27 00:00:00+00:00   \n",
       "163  2023-07-16public goods network 2023-07-16 00:00:00+00:00   \n",
       "\n",
       "                    chain  active_secs_per_day  num_l1_txs_inbox  \\\n",
       "61                   Base              86400.0              1502   \n",
       "158                  Base              86400.0               143   \n",
       "239                  Base              86400.0              1429   \n",
       "224                  Base              86400.0              1419   \n",
       "163  Public Goods Network              86400.0               145   \n",
       "\n",
       "     num_l1_txs_output  calldata_bytes_l1_inbox  avg_l1_gas_price_on_l1_inbox  \\\n",
       "61                  29               94484468.0                     22.254103   \n",
       "158                 24                3808412.0                     20.938717   \n",
       "239                 24                2044423.0                     16.751815   \n",
       "224                 24                2035154.0                     17.900429   \n",
       "163                 24                1862017.0                     15.665246   \n",
       "\n",
       "     avg_l1_gas_price_on_l1_output  avg_l1_gas_price_on_l2  ...  \\\n",
       "61                       20.043758               22.078360  ...   \n",
       "158                      23.688899               20.185095  ...   \n",
       "239                      15.473995               16.842574  ...   \n",
       "224                      17.513913               17.473365  ...   \n",
       "163                      16.134319                0.000000  ...   \n",
       "\n",
       "     l1_eth_fees_combined  l1_contrib_l2_eth_fees_per_day  \\\n",
       "61              34.286328                       38.964568   \n",
       "158              1.384598                        0.776185   \n",
       "239              1.079298                        0.000045   \n",
       "224              1.148926                        0.000024   \n",
       "163              0.547217                        0.000000   \n",
       "\n",
       "     l2_contrib_l2_eth_fees_per_day  l2_num_txs_per_day  l1_gas_used_on_l2  \\\n",
       "61                        92.163636            694769.0       2.580162e+09   \n",
       "158                        1.241446             11105.0       5.621841e+07   \n",
       "239                        0.000093                 2.0       3.548000e+03   \n",
       "224                        0.000032                 1.0       1.856000e+03   \n",
       "163                        0.000000                 0.0       0.000000e+00   \n",
       "\n",
       "     calldata_bytes_l2_per_day   l2_gas_used  l2_eth_fees_per_day  \\\n",
       "61                 162810437.0  1.077029e+11           131.128204   \n",
       "158                 14216005.0  3.351119e+09             2.017632   \n",
       "239                 11232000.0  2.169176e+09             0.000138   \n",
       "224                 11232420.0  2.169804e+09             0.000056   \n",
       "163                 11232000.0  4.320000e+10             0.000000   \n",
       "\n",
       "     gas_compression_ratio  bytes_compression_ratio  \n",
       "61            5.963086e-01                 0.580334  \n",
       "158           1.134293e+00                 0.267896  \n",
       "239           1.761649e+04                 0.182018  \n",
       "224           3.348329e+04                 0.181186  \n",
       "163                    inf                 0.165778  \n",
       "\n",
       "[5 rows x 25 columns]"
      ]
     },
     "metadata": {},
     "output_type": "display_data"
    }
   ],
   "source": [
    "display( combo_df.sample(5) )\n",
    "\n",
    "combo_df.to_csv('outputs/op_chain_gas_economics_sample.csv')"
   ]
  },
  {
   "cell_type": "code",
   "execution_count": 43,
   "metadata": {},
   "outputs": [
    {
     "name": "stdout",
     "output_type": "stream",
     "text": [
      "Blended gas compression ratio: 62.0%\n",
      "Blended bytes compression ratio: 43.3%\n"
     ]
    }
   ],
   "source": [
    "bl_gas_ratio = combo_df['l1_gas_used_inbox'].sum() / combo_df['l1_gas_used_on_l2'].sum()\n",
    "bl_bytes_ratio = combo_df['calldata_bytes_l1_inbox'].sum() / combo_df['calldata_bytes_l2_per_day'].sum()\n",
    "print('Blended gas compression ratio: ' + str(round(bl_gas_ratio*100,1)) + '%')\n",
    "print('Blended bytes compression ratio: ' + str(round(bl_bytes_ratio*100,1)) + '%')"
   ]
  },
  {
   "cell_type": "code",
   "execution_count": 35,
   "metadata": {},
   "outputs": [
    {
     "data": {
      "text/html": [
       "<div>\n",
       "<style scoped>\n",
       "    .dataframe tbody tr th:only-of-type {\n",
       "        vertical-align: middle;\n",
       "    }\n",
       "\n",
       "    .dataframe tbody tr th {\n",
       "        vertical-align: top;\n",
       "    }\n",
       "\n",
       "    .dataframe thead th {\n",
       "        text-align: right;\n",
       "    }\n",
       "</style>\n",
       "<table border=\"1\" class=\"dataframe\">\n",
       "  <thead>\n",
       "    <tr style=\"text-align: right;\">\n",
       "      <th></th>\n",
       "      <th>join_id</th>\n",
       "      <th>dt</th>\n",
       "      <th>chain</th>\n",
       "      <th>active_secs_per_day</th>\n",
       "      <th>num_l1_txs_inbox</th>\n",
       "      <th>num_l1_txs_output</th>\n",
       "      <th>calldata_bytes_l1_inbox</th>\n",
       "      <th>avg_l1_gas_price_on_l1_inbox</th>\n",
       "      <th>avg_l1_gas_price_on_l1_output</th>\n",
       "      <th>avg_l1_gas_price_on_l2</th>\n",
       "      <th>...</th>\n",
       "      <th>l1_eth_fees_combined</th>\n",
       "      <th>l1_contrib_l2_eth_fees_per_day</th>\n",
       "      <th>l2_contrib_l2_eth_fees_per_day</th>\n",
       "      <th>l2_num_txs_per_day</th>\n",
       "      <th>l1_gas_used_on_l2</th>\n",
       "      <th>calldata_bytes_l2_per_day</th>\n",
       "      <th>l2_gas_used</th>\n",
       "      <th>l2_eth_fees_per_day</th>\n",
       "      <th>gas_compression_ratio</th>\n",
       "      <th>bytes_compression_ratio</th>\n",
       "    </tr>\n",
       "  </thead>\n",
       "  <tbody>\n",
       "    <tr>\n",
       "      <th>0</th>\n",
       "      <td>2023-08-25base</td>\n",
       "      <td>2023-08-25 00:00:00+00:00</td>\n",
       "      <td>Base</td>\n",
       "      <td>86400.0</td>\n",
       "      <td>1440</td>\n",
       "      <td>24</td>\n",
       "      <td>88661392.0</td>\n",
       "      <td>22.787053</td>\n",
       "      <td>22.723888</td>\n",
       "      <td>22.758732</td>\n",
       "      <td>...</td>\n",
       "      <td>32.963552</td>\n",
       "      <td>37.666664</td>\n",
       "      <td>72.411145</td>\n",
       "      <td>661591.0</td>\n",
       "      <td>2.419653e+09</td>\n",
       "      <td>155049018.0</td>\n",
       "      <td>1.491678e+11</td>\n",
       "      <td>110.077808</td>\n",
       "      <td>0.596992</td>\n",
       "      <td>0.571828</td>\n",
       "    </tr>\n",
       "    <tr>\n",
       "      <th>1</th>\n",
       "      <td>2023-08-25op mainnet</td>\n",
       "      <td>2023-08-25 00:00:00+00:00</td>\n",
       "      <td>OP Mainnet</td>\n",
       "      <td>86400.0</td>\n",
       "      <td>573</td>\n",
       "      <td>24</td>\n",
       "      <td>66223249.0</td>\n",
       "      <td>22.568046</td>\n",
       "      <td>22.448241</td>\n",
       "      <td>22.410028</td>\n",
       "      <td>...</td>\n",
       "      <td>24.164376</td>\n",
       "      <td>25.418278</td>\n",
       "      <td>8.804248</td>\n",
       "      <td>328085.0</td>\n",
       "      <td>1.658241e+09</td>\n",
       "      <td>141443650.0</td>\n",
       "      <td>1.092216e+11</td>\n",
       "      <td>34.222525</td>\n",
       "      <td>0.644454</td>\n",
       "      <td>0.468195</td>\n",
       "    </tr>\n",
       "    <tr>\n",
       "      <th>2</th>\n",
       "      <td>2023-08-25zora network</td>\n",
       "      <td>2023-08-25 00:00:00+00:00</td>\n",
       "      <td>Zora Network</td>\n",
       "      <td>86400.0</td>\n",
       "      <td>146</td>\n",
       "      <td>24</td>\n",
       "      <td>8340159.0</td>\n",
       "      <td>21.828754</td>\n",
       "      <td>22.316142</td>\n",
       "      <td>21.301424</td>\n",
       "      <td>...</td>\n",
       "      <td>3.017552</td>\n",
       "      <td>2.735441</td>\n",
       "      <td>3.727446</td>\n",
       "      <td>56677.0</td>\n",
       "      <td>1.885466e+08</td>\n",
       "      <td>22535690.0</td>\n",
       "      <td>5.579137e+10</td>\n",
       "      <td>6.462887</td>\n",
       "      <td>0.721873</td>\n",
       "      <td>0.370087</td>\n",
       "    </tr>\n",
       "    <tr>\n",
       "      <th>4</th>\n",
       "      <td>2023-08-24base</td>\n",
       "      <td>2023-08-24 00:00:00+00:00</td>\n",
       "      <td>Base</td>\n",
       "      <td>86400.0</td>\n",
       "      <td>1448</td>\n",
       "      <td>24</td>\n",
       "      <td>100567568.0</td>\n",
       "      <td>19.969681</td>\n",
       "      <td>19.444368</td>\n",
       "      <td>19.980131</td>\n",
       "      <td>...</td>\n",
       "      <td>32.684194</td>\n",
       "      <td>36.878242</td>\n",
       "      <td>25.905074</td>\n",
       "      <td>677920.0</td>\n",
       "      <td>2.698459e+09</td>\n",
       "      <td>181022990.0</td>\n",
       "      <td>1.234228e+11</td>\n",
       "      <td>62.783316</td>\n",
       "      <td>0.605776</td>\n",
       "      <td>0.555551</td>\n",
       "    </tr>\n",
       "    <tr>\n",
       "      <th>5</th>\n",
       "      <td>2023-08-24op mainnet</td>\n",
       "      <td>2023-08-24 00:00:00+00:00</td>\n",
       "      <td>OP Mainnet</td>\n",
       "      <td>86400.0</td>\n",
       "      <td>657</td>\n",
       "      <td>24</td>\n",
       "      <td>75993613.0</td>\n",
       "      <td>19.924479</td>\n",
       "      <td>19.271690</td>\n",
       "      <td>19.742130</td>\n",
       "      <td>...</td>\n",
       "      <td>24.473945</td>\n",
       "      <td>26.188730</td>\n",
       "      <td>9.693352</td>\n",
       "      <td>385821.0</td>\n",
       "      <td>1.939386e+09</td>\n",
       "      <td>164898770.0</td>\n",
       "      <td>1.181605e+11</td>\n",
       "      <td>35.882083</td>\n",
       "      <td>0.632323</td>\n",
       "      <td>0.460850</td>\n",
       "    </tr>\n",
       "    <tr>\n",
       "      <th>...</th>\n",
       "      <td>...</td>\n",
       "      <td>...</td>\n",
       "      <td>...</td>\n",
       "      <td>...</td>\n",
       "      <td>...</td>\n",
       "      <td>...</td>\n",
       "      <td>...</td>\n",
       "      <td>...</td>\n",
       "      <td>...</td>\n",
       "      <td>...</td>\n",
       "      <td>...</td>\n",
       "      <td>...</td>\n",
       "      <td>...</td>\n",
       "      <td>...</td>\n",
       "      <td>...</td>\n",
       "      <td>...</td>\n",
       "      <td>...</td>\n",
       "      <td>...</td>\n",
       "      <td>...</td>\n",
       "      <td>...</td>\n",
       "      <td>...</td>\n",
       "    </tr>\n",
       "    <tr>\n",
       "      <th>267</th>\n",
       "      <td>2023-06-11op mainnet</td>\n",
       "      <td>2023-06-11 00:00:00+00:00</td>\n",
       "      <td>OP Mainnet</td>\n",
       "      <td>86400.0</td>\n",
       "      <td>698</td>\n",
       "      <td>24</td>\n",
       "      <td>75076007.0</td>\n",
       "      <td>17.448444</td>\n",
       "      <td>16.546322</td>\n",
       "      <td>17.139167</td>\n",
       "      <td>...</td>\n",
       "      <td>21.190742</td>\n",
       "      <td>23.707469</td>\n",
       "      <td>6.093116</td>\n",
       "      <td>386861.0</td>\n",
       "      <td>2.022271e+09</td>\n",
       "      <td>176495625.0</td>\n",
       "      <td>1.470628e+11</td>\n",
       "      <td>29.800585</td>\n",
       "      <td>0.599574</td>\n",
       "      <td>0.425370</td>\n",
       "    </tr>\n",
       "    <tr>\n",
       "      <th>268</th>\n",
       "      <td>2023-06-10op mainnet</td>\n",
       "      <td>2023-06-10 00:00:00+00:00</td>\n",
       "      <td>OP Mainnet</td>\n",
       "      <td>86400.0</td>\n",
       "      <td>761</td>\n",
       "      <td>24</td>\n",
       "      <td>82801904.0</td>\n",
       "      <td>25.358090</td>\n",
       "      <td>22.331480</td>\n",
       "      <td>24.693872</td>\n",
       "      <td>...</td>\n",
       "      <td>33.950999</td>\n",
       "      <td>36.913817</td>\n",
       "      <td>23.830153</td>\n",
       "      <td>428146.0</td>\n",
       "      <td>2.185464e+09</td>\n",
       "      <td>185772721.0</td>\n",
       "      <td>1.885652e+11</td>\n",
       "      <td>60.743970</td>\n",
       "      <td>0.611782</td>\n",
       "      <td>0.445716</td>\n",
       "    </tr>\n",
       "    <tr>\n",
       "      <th>269</th>\n",
       "      <td>2023-06-09op mainnet</td>\n",
       "      <td>2023-06-09 00:00:00+00:00</td>\n",
       "      <td>OP Mainnet</td>\n",
       "      <td>86400.0</td>\n",
       "      <td>725</td>\n",
       "      <td>24</td>\n",
       "      <td>78404424.0</td>\n",
       "      <td>21.023144</td>\n",
       "      <td>20.588342</td>\n",
       "      <td>20.835285</td>\n",
       "      <td>...</td>\n",
       "      <td>26.662064</td>\n",
       "      <td>29.647822</td>\n",
       "      <td>3.031154</td>\n",
       "      <td>421558.0</td>\n",
       "      <td>2.080354e+09</td>\n",
       "      <td>177070170.0</td>\n",
       "      <td>1.326059e+11</td>\n",
       "      <td>32.678976</td>\n",
       "      <td>0.608638</td>\n",
       "      <td>0.442787</td>\n",
       "    </tr>\n",
       "    <tr>\n",
       "      <th>270</th>\n",
       "      <td>2023-06-08op mainnet</td>\n",
       "      <td>2023-06-08 00:00:00+00:00</td>\n",
       "      <td>OP Mainnet</td>\n",
       "      <td>86400.0</td>\n",
       "      <td>680</td>\n",
       "      <td>24</td>\n",
       "      <td>72779082.0</td>\n",
       "      <td>24.181462</td>\n",
       "      <td>23.095756</td>\n",
       "      <td>23.896230</td>\n",
       "      <td>...</td>\n",
       "      <td>28.473471</td>\n",
       "      <td>31.640666</td>\n",
       "      <td>5.186460</td>\n",
       "      <td>394661.0</td>\n",
       "      <td>1.935798e+09</td>\n",
       "      <td>166145549.0</td>\n",
       "      <td>1.154944e+11</td>\n",
       "      <td>36.827127</td>\n",
       "      <td>0.607243</td>\n",
       "      <td>0.438044</td>\n",
       "    </tr>\n",
       "    <tr>\n",
       "      <th>271</th>\n",
       "      <td>2023-06-07op mainnet</td>\n",
       "      <td>2023-06-07 00:00:00+00:00</td>\n",
       "      <td>OP Mainnet</td>\n",
       "      <td>86400.0</td>\n",
       "      <td>665</td>\n",
       "      <td>24</td>\n",
       "      <td>70508146.0</td>\n",
       "      <td>24.458841</td>\n",
       "      <td>22.437129</td>\n",
       "      <td>24.240728</td>\n",
       "      <td>...</td>\n",
       "      <td>27.902963</td>\n",
       "      <td>30.598488</td>\n",
       "      <td>10.444883</td>\n",
       "      <td>381654.0</td>\n",
       "      <td>1.845433e+09</td>\n",
       "      <td>152405238.0</td>\n",
       "      <td>1.648741e+11</td>\n",
       "      <td>41.043371</td>\n",
       "      <td>0.617146</td>\n",
       "      <td>0.462636</td>\n",
       "    </tr>\n",
       "  </tbody>\n",
       "</table>\n",
       "<p>148 rows × 25 columns</p>\n",
       "</div>"
      ],
      "text/plain": [
       "                    join_id                        dt         chain  \\\n",
       "0            2023-08-25base 2023-08-25 00:00:00+00:00          Base   \n",
       "1      2023-08-25op mainnet 2023-08-25 00:00:00+00:00    OP Mainnet   \n",
       "2    2023-08-25zora network 2023-08-25 00:00:00+00:00  Zora Network   \n",
       "4            2023-08-24base 2023-08-24 00:00:00+00:00          Base   \n",
       "5      2023-08-24op mainnet 2023-08-24 00:00:00+00:00    OP Mainnet   \n",
       "..                      ...                       ...           ...   \n",
       "267    2023-06-11op mainnet 2023-06-11 00:00:00+00:00    OP Mainnet   \n",
       "268    2023-06-10op mainnet 2023-06-10 00:00:00+00:00    OP Mainnet   \n",
       "269    2023-06-09op mainnet 2023-06-09 00:00:00+00:00    OP Mainnet   \n",
       "270    2023-06-08op mainnet 2023-06-08 00:00:00+00:00    OP Mainnet   \n",
       "271    2023-06-07op mainnet 2023-06-07 00:00:00+00:00    OP Mainnet   \n",
       "\n",
       "     active_secs_per_day  num_l1_txs_inbox  num_l1_txs_output  \\\n",
       "0                86400.0              1440                 24   \n",
       "1                86400.0               573                 24   \n",
       "2                86400.0               146                 24   \n",
       "4                86400.0              1448                 24   \n",
       "5                86400.0               657                 24   \n",
       "..                   ...               ...                ...   \n",
       "267              86400.0               698                 24   \n",
       "268              86400.0               761                 24   \n",
       "269              86400.0               725                 24   \n",
       "270              86400.0               680                 24   \n",
       "271              86400.0               665                 24   \n",
       "\n",
       "     calldata_bytes_l1_inbox  avg_l1_gas_price_on_l1_inbox  \\\n",
       "0                 88661392.0                     22.787053   \n",
       "1                 66223249.0                     22.568046   \n",
       "2                  8340159.0                     21.828754   \n",
       "4                100567568.0                     19.969681   \n",
       "5                 75993613.0                     19.924479   \n",
       "..                       ...                           ...   \n",
       "267               75076007.0                     17.448444   \n",
       "268               82801904.0                     25.358090   \n",
       "269               78404424.0                     21.023144   \n",
       "270               72779082.0                     24.181462   \n",
       "271               70508146.0                     24.458841   \n",
       "\n",
       "     avg_l1_gas_price_on_l1_output  avg_l1_gas_price_on_l2  ...  \\\n",
       "0                        22.723888               22.758732  ...   \n",
       "1                        22.448241               22.410028  ...   \n",
       "2                        22.316142               21.301424  ...   \n",
       "4                        19.444368               19.980131  ...   \n",
       "5                        19.271690               19.742130  ...   \n",
       "..                             ...                     ...  ...   \n",
       "267                      16.546322               17.139167  ...   \n",
       "268                      22.331480               24.693872  ...   \n",
       "269                      20.588342               20.835285  ...   \n",
       "270                      23.095756               23.896230  ...   \n",
       "271                      22.437129               24.240728  ...   \n",
       "\n",
       "     l1_eth_fees_combined  l1_contrib_l2_eth_fees_per_day  \\\n",
       "0               32.963552                       37.666664   \n",
       "1               24.164376                       25.418278   \n",
       "2                3.017552                        2.735441   \n",
       "4               32.684194                       36.878242   \n",
       "5               24.473945                       26.188730   \n",
       "..                    ...                             ...   \n",
       "267             21.190742                       23.707469   \n",
       "268             33.950999                       36.913817   \n",
       "269             26.662064                       29.647822   \n",
       "270             28.473471                       31.640666   \n",
       "271             27.902963                       30.598488   \n",
       "\n",
       "     l2_contrib_l2_eth_fees_per_day  l2_num_txs_per_day  l1_gas_used_on_l2  \\\n",
       "0                         72.411145            661591.0       2.419653e+09   \n",
       "1                          8.804248            328085.0       1.658241e+09   \n",
       "2                          3.727446             56677.0       1.885466e+08   \n",
       "4                         25.905074            677920.0       2.698459e+09   \n",
       "5                          9.693352            385821.0       1.939386e+09   \n",
       "..                              ...                 ...                ...   \n",
       "267                        6.093116            386861.0       2.022271e+09   \n",
       "268                       23.830153            428146.0       2.185464e+09   \n",
       "269                        3.031154            421558.0       2.080354e+09   \n",
       "270                        5.186460            394661.0       1.935798e+09   \n",
       "271                       10.444883            381654.0       1.845433e+09   \n",
       "\n",
       "     calldata_bytes_l2_per_day   l2_gas_used  l2_eth_fees_per_day  \\\n",
       "0                  155049018.0  1.491678e+11           110.077808   \n",
       "1                  141443650.0  1.092216e+11            34.222525   \n",
       "2                   22535690.0  5.579137e+10             6.462887   \n",
       "4                  181022990.0  1.234228e+11            62.783316   \n",
       "5                  164898770.0  1.181605e+11            35.882083   \n",
       "..                         ...           ...                  ...   \n",
       "267                176495625.0  1.470628e+11            29.800585   \n",
       "268                185772721.0  1.885652e+11            60.743970   \n",
       "269                177070170.0  1.326059e+11            32.678976   \n",
       "270                166145549.0  1.154944e+11            36.827127   \n",
       "271                152405238.0  1.648741e+11            41.043371   \n",
       "\n",
       "     gas_compression_ratio  bytes_compression_ratio  \n",
       "0                 0.596992                 0.571828  \n",
       "1                 0.644454                 0.468195  \n",
       "2                 0.721873                 0.370087  \n",
       "4                 0.605776                 0.555551  \n",
       "5                 0.632323                 0.460850  \n",
       "..                     ...                      ...  \n",
       "267               0.599574                 0.425370  \n",
       "268               0.611782                 0.445716  \n",
       "269               0.608638                 0.442787  \n",
       "270               0.607243                 0.438044  \n",
       "271               0.617146                 0.462636  \n",
       "\n",
       "[148 rows x 25 columns]"
      ]
     },
     "metadata": {},
     "output_type": "display_data"
    },
    {
     "data": {
      "application/vnd.plotly.v1+json": {
       "config": {
        "plotlyServerURL": "https://plot.ly"
       },
       "data": [
        {
         "hovertemplate": "chain=Base<br>l1_gas_used_on_l2=%{x}<br>l1_gas_used_inbox=%{y}<br>gas_compression_ratio=%{marker.size}<extra></extra>",
         "legendgroup": "Base",
         "marker": {
          "color": "#636efa",
          "size": [
           0.596991826237899,
           0.6057759589406139,
           0.594588339959612,
           0.5772606456291945,
           0.560114053065751,
           0.5909062116534498,
           0.6228596450729081,
           0.6585677747663877,
           0.6509662743660976,
           0.6460576087019868,
           0.6182048763348468,
           0.603142374850007,
           0.6099253779116961,
           0.6160460809774924,
           0.6114015713220653,
           0.5963085873079382,
           0.5931782637263202,
           0.6110737508003095,
           0.607920045227735,
           0.6308603103760037,
           0.6196854541618404,
           0.60950158744066,
           0.5378773146727404,
           0.6487023061864757,
           0.6381872428101217,
           0.5785490270417297,
           0.5525170855059184,
           0.9939182449610495,
           0.9751917427831716,
           0.7969344250160368,
           0.8227490399105394,
           0.7232981975866489,
           0.6859022196741208,
           0.7695104927131055,
           0.7968966815101508,
           0.7442598950538177,
           0.9777913407574317,
           0.9219686274372277
          ],
          "sizemode": "area",
          "sizeref": 0.002484795612402624,
          "symbol": "circle"
         },
         "mode": "markers",
         "name": "Base",
         "orientation": "v",
         "showlegend": true,
         "type": "scatter",
         "x": [
          2419652512,
          2698458656,
          2859008416,
          3255631712,
          4395649312,
          2819605012,
          2205816400,
          1658064852,
          1486342648,
          1765986396,
          2090139812,
          2141643668,
          2157686064,
          1965204840,
          2354520236,
          2580161904,
          2051333244,
          1472299196,
          1530628936,
          1278989340,
          1222326648,
          1146643176,
          1804413396,
          728572480,
          777033884,
          2357978004,
          2536891808,
          68405912,
          72533108,
          113912464,
          108339904,
          137868708,
          159240132,
          122976392,
          107954888,
          129850936,
          75932184,
          98091572
         ],
         "xaxis": "x",
         "y": [
          1444512772,
          1634661380,
          1699933068,
          1879348064,
          2462064952,
          1666122116,
          1373914020,
          1091948080,
          967558936,
          1140928948,
          1292134624,
          1291716048,
          1316027488,
          1210656740,
          1439557372,
          1538572700,
          1216806292,
          899683392,
          930500012,
          806863612,
          757458044,
          698880836,
          970553032,
          472626648,
          495893112,
          1364205880,
          1401676068,
          67989884,
          70733688,
          90780764,
          89136552,
          99720188,
          109223160,
          94631624,
          86028892,
          96642844,
          74245832,
          90437352
         ],
         "yaxis": "y"
        },
        {
         "hovertemplate": "chain=OP Mainnet<br>l1_gas_used_on_l2=%{x}<br>l1_gas_used_inbox=%{y}<br>gas_compression_ratio=%{marker.size}<extra></extra>",
         "legendgroup": "OP Mainnet",
         "marker": {
          "color": "#EF553B",
          "size": [
           0.644454336480187,
           0.6323232851317713,
           0.6316546554358953,
           0.626798845675281,
           0.6256524493462025,
           0.6327592926861472,
           0.6381055440653646,
           0.6483059624801706,
           0.6473863666228297,
           0.639615222044991,
           0.6484974513478903,
           0.6818113278129606,
           0.6286616015843254,
           0.619583677509803,
           0.6429552569435163,
           0.6293944581917041,
           0.6322175020621632,
           0.6476322584231179,
           0.6689378743857274,
           0.6130742010602457,
           0.6061064789493976,
           0.6026113817027114,
           0.602893699164668,
           0.5983587145681064,
           0.6065454681553281,
           0.5989646857908922,
           0.5823775862178309,
           0.5755718612469104,
           0.574547264404579,
           0.5269758495487037,
           0.5591007404480739,
           0.5366475101060633,
           0.5540318023231858,
           0.5478036782774166,
           0.536597329281706,
           0.5751877670710164,
           0.6099208739642692,
           0.6098580331497064,
           0.6090132104800619,
           0.5823810261701383,
           0.5941475024596766,
           0.5966670249158078,
           0.6261354205972813,
           0.6176579569837813,
           0.6052885550223321,
           0.5985302902558145,
           0.5977972598878272,
           0.5779152138089039,
           0.5890673585390295,
           0.6138686494608272,
           0.6248904813507903,
           0.6250415895255692,
           0.6041355828893786,
           0.601137687758418,
           0.5960249722634353,
           0.5533917513569558,
           0.6189098816729458,
           0.592497625355763,
           0.5743195859058343,
           0.5672540372363877,
           0.5970032954182212,
           0.6092569789688866,
           0.6203939964863054,
           0.616361902616871,
           0.6104580676154677,
           0.6055606584188247,
           0.5988775127045141,
           0.6044237482510575,
           0.5935688568631194,
           0.6004433890228263,
           0.5983712399374007,
           0.6091032765645183,
           0.5971085021885331,
           0.6137623316773991,
           0.6078501693524124,
           0.599573743021245,
           0.6117816607954804,
           0.6086382021687429,
           0.6072433505622142,
           0.6171456623511142
          ],
          "sizemode": "area",
          "sizeref": 0.002484795612402624,
          "symbol": "circle"
         },
         "mode": "markers",
         "name": "OP Mainnet",
         "orientation": "v",
         "showlegend": true,
         "type": "scatter",
         "x": [
          1658240852,
          1939386388,
          2175503396,
          2073245388,
          2074992500,
          1908640916,
          2017593384,
          2288132792,
          2883310592,
          3887868472,
          6483200252,
          3828842880,
          2042855108,
          1985401076,
          2393027576,
          2683537648,
          2992013416,
          4659603188,
          4570945484,
          2543750876,
          3012765188,
          3532204576,
          3556359184,
          3201669556,
          3723713724,
          3719761176,
          3406542324,
          3549332484,
          3643590468,
          5585550280,
          4851365716,
          5340692872,
          4059129116,
          2925933088,
          3034940532,
          2470240908,
          2687169628,
          2562964236,
          2451479420,
          2708720568,
          2277462008,
          2598898996,
          2864925128,
          2593799908,
          2333434208,
          2350755320,
          2344435992,
          2357913776,
          2318607236,
          1832748320,
          1981680760,
          1585940188,
          2145848708,
          2339230936,
          2224651848,
          2567022368,
          2534681540,
          2647579752,
          2892121308,
          3114544652,
          2771684620,
          2544883820,
          2227030216,
          2649823912,
          2651978876,
          2773218644,
          2369805708,
          1994122156,
          1854492700,
          1925738248,
          2115516508,
          2294596660,
          2523802844,
          2251530680,
          2173674380,
          2022271172,
          2185464040,
          2080353996,
          1935798396,
          1845432632
         ],
         "xaxis": "x",
         "y": [
          1068660508,
          1226319172,
          1374166848,
          1299507816,
          1298224140,
          1207710276,
          1287437524,
          1483410132,
          1866615968,
          2486739856,
          4204338840,
          2610548448,
          1284264564,
          1230122100,
          1538609660,
          1689003724,
          1891603248,
          3017709336,
          3057678556,
          1559508036,
          1826056500,
          2128546680,
          2144106544,
          1915746880,
          2258601684,
          2228005584,
          1983893896,
          2042895904,
          2093414936,
          2943450104,
          2712402164,
          2866069532,
          2248886620,
          1602836908,
          1628540984,
          1420852352,
          1638960848,
          1563044328,
          1492983352,
          1577507464,
          1353148364,
          1550677332,
          1793831100,
          1602081152,
          1412401020,
          1406998264,
          1401497412,
          1362674244,
          1365815840,
          1125066736,
          1238333444,
          991278576,
          1296383560,
          1406199876,
          1325948056,
          1420569004,
          1568739452,
          1568684716,
          1661001912,
          1766738028,
          1654704852,
          1550488228,
          1381636176,
          1633250508,
          1618921900,
          1679352108,
          1419223348,
          1205294788,
          1100769112,
          1156296800,
          1265864236,
          1397646344,
          1506984136,
          1381904720,
          1321268340,
          1212500696,
          1337026820,
          1266182916,
          1175500704,
          1138900744
         ],
         "yaxis": "y"
        },
        {
         "hovertemplate": "chain=Zora Network<br>l1_gas_used_on_l2=%{x}<br>l1_gas_used_inbox=%{y}<br>gas_compression_ratio=%{marker.size}<extra></extra>",
         "legendgroup": "Zora Network",
         "marker": {
          "color": "#00cc96",
          "size": [
           0.7218728667072098,
           0.6813320716914013,
           0.7015500381641802,
           0.7552838617207296,
           0.7172891596849007,
           0.7164850347373173,
           0.7279903473939301,
           0.7150289076437932,
           0.6420158993001036,
           0.670536811733899,
           0.6604633480000703,
           0.6569503754772517,
           0.7018004574274452,
           0.7333866475546056,
           0.7585970530450564,
           0.785873913282781,
           0.7087171527756118,
           0.7563784852075496,
           0.872823838056046,
           0.8077381629993535,
           0.799716173360711,
           0.7943129031014127,
           0.8318278925546165,
           0.9072467474743624,
           0.963271726615512,
           0.8640256956141963,
           0.8005721842078599,
           0.837837238338577,
           0.9886400411488181,
           0.9808546065846737
          ],
          "sizemode": "area",
          "sizeref": 0.002484795612402624,
          "symbol": "circle"
         },
         "mode": "markers",
         "name": "Zora Network",
         "orientation": "v",
         "showlegend": true,
         "type": "scatter",
         "x": [
          188546552,
          244692776,
          278591076,
          190602452,
          204060120,
          225331160,
          209753924,
          225748596,
          375139532,
          308612032,
          337587472,
          298542720,
          212700836,
          158436776,
          144813344,
          126745024,
          164665968,
          136624288,
          101340344,
          123753816,
          117282860,
          118043496,
          102422716,
          87708148,
          76604200,
          94485852,
          116654740,
          106936092,
          71762936,
          73199436
         ],
         "xaxis": "x",
         "y": [
          136106640,
          166717036,
          195445580,
          143958956,
          146370112,
          161446404,
          152698832,
          161416772,
          240845544,
          206935728,
          222964152,
          196127752,
          149273544,
          116195416,
          109854976,
          99605608,
          116701596,
          103339672,
          88452268,
          99960680,
          93793000,
          93763472,
          85198072,
          79572932,
          73790660,
          81638204,
          93390540,
          89595040,
          70947712,
          71798004
         ],
         "yaxis": "y"
        }
       ],
       "layout": {
        "legend": {
         "itemsizing": "constant",
         "title": {
          "text": "chain"
         },
         "tracegroupgap": 0
        },
        "template": {
         "data": {
          "bar": [
           {
            "error_x": {
             "color": "#2a3f5f"
            },
            "error_y": {
             "color": "#2a3f5f"
            },
            "marker": {
             "line": {
              "color": "#E5ECF6",
              "width": 0.5
             },
             "pattern": {
              "fillmode": "overlay",
              "size": 10,
              "solidity": 0.2
             }
            },
            "type": "bar"
           }
          ],
          "barpolar": [
           {
            "marker": {
             "line": {
              "color": "#E5ECF6",
              "width": 0.5
             },
             "pattern": {
              "fillmode": "overlay",
              "size": 10,
              "solidity": 0.2
             }
            },
            "type": "barpolar"
           }
          ],
          "carpet": [
           {
            "aaxis": {
             "endlinecolor": "#2a3f5f",
             "gridcolor": "white",
             "linecolor": "white",
             "minorgridcolor": "white",
             "startlinecolor": "#2a3f5f"
            },
            "baxis": {
             "endlinecolor": "#2a3f5f",
             "gridcolor": "white",
             "linecolor": "white",
             "minorgridcolor": "white",
             "startlinecolor": "#2a3f5f"
            },
            "type": "carpet"
           }
          ],
          "choropleth": [
           {
            "colorbar": {
             "outlinewidth": 0,
             "ticks": ""
            },
            "type": "choropleth"
           }
          ],
          "contour": [
           {
            "colorbar": {
             "outlinewidth": 0,
             "ticks": ""
            },
            "colorscale": [
             [
              0,
              "#0d0887"
             ],
             [
              0.1111111111111111,
              "#46039f"
             ],
             [
              0.2222222222222222,
              "#7201a8"
             ],
             [
              0.3333333333333333,
              "#9c179e"
             ],
             [
              0.4444444444444444,
              "#bd3786"
             ],
             [
              0.5555555555555556,
              "#d8576b"
             ],
             [
              0.6666666666666666,
              "#ed7953"
             ],
             [
              0.7777777777777778,
              "#fb9f3a"
             ],
             [
              0.8888888888888888,
              "#fdca26"
             ],
             [
              1,
              "#f0f921"
             ]
            ],
            "type": "contour"
           }
          ],
          "contourcarpet": [
           {
            "colorbar": {
             "outlinewidth": 0,
             "ticks": ""
            },
            "type": "contourcarpet"
           }
          ],
          "heatmap": [
           {
            "colorbar": {
             "outlinewidth": 0,
             "ticks": ""
            },
            "colorscale": [
             [
              0,
              "#0d0887"
             ],
             [
              0.1111111111111111,
              "#46039f"
             ],
             [
              0.2222222222222222,
              "#7201a8"
             ],
             [
              0.3333333333333333,
              "#9c179e"
             ],
             [
              0.4444444444444444,
              "#bd3786"
             ],
             [
              0.5555555555555556,
              "#d8576b"
             ],
             [
              0.6666666666666666,
              "#ed7953"
             ],
             [
              0.7777777777777778,
              "#fb9f3a"
             ],
             [
              0.8888888888888888,
              "#fdca26"
             ],
             [
              1,
              "#f0f921"
             ]
            ],
            "type": "heatmap"
           }
          ],
          "heatmapgl": [
           {
            "colorbar": {
             "outlinewidth": 0,
             "ticks": ""
            },
            "colorscale": [
             [
              0,
              "#0d0887"
             ],
             [
              0.1111111111111111,
              "#46039f"
             ],
             [
              0.2222222222222222,
              "#7201a8"
             ],
             [
              0.3333333333333333,
              "#9c179e"
             ],
             [
              0.4444444444444444,
              "#bd3786"
             ],
             [
              0.5555555555555556,
              "#d8576b"
             ],
             [
              0.6666666666666666,
              "#ed7953"
             ],
             [
              0.7777777777777778,
              "#fb9f3a"
             ],
             [
              0.8888888888888888,
              "#fdca26"
             ],
             [
              1,
              "#f0f921"
             ]
            ],
            "type": "heatmapgl"
           }
          ],
          "histogram": [
           {
            "marker": {
             "pattern": {
              "fillmode": "overlay",
              "size": 10,
              "solidity": 0.2
             }
            },
            "type": "histogram"
           }
          ],
          "histogram2d": [
           {
            "colorbar": {
             "outlinewidth": 0,
             "ticks": ""
            },
            "colorscale": [
             [
              0,
              "#0d0887"
             ],
             [
              0.1111111111111111,
              "#46039f"
             ],
             [
              0.2222222222222222,
              "#7201a8"
             ],
             [
              0.3333333333333333,
              "#9c179e"
             ],
             [
              0.4444444444444444,
              "#bd3786"
             ],
             [
              0.5555555555555556,
              "#d8576b"
             ],
             [
              0.6666666666666666,
              "#ed7953"
             ],
             [
              0.7777777777777778,
              "#fb9f3a"
             ],
             [
              0.8888888888888888,
              "#fdca26"
             ],
             [
              1,
              "#f0f921"
             ]
            ],
            "type": "histogram2d"
           }
          ],
          "histogram2dcontour": [
           {
            "colorbar": {
             "outlinewidth": 0,
             "ticks": ""
            },
            "colorscale": [
             [
              0,
              "#0d0887"
             ],
             [
              0.1111111111111111,
              "#46039f"
             ],
             [
              0.2222222222222222,
              "#7201a8"
             ],
             [
              0.3333333333333333,
              "#9c179e"
             ],
             [
              0.4444444444444444,
              "#bd3786"
             ],
             [
              0.5555555555555556,
              "#d8576b"
             ],
             [
              0.6666666666666666,
              "#ed7953"
             ],
             [
              0.7777777777777778,
              "#fb9f3a"
             ],
             [
              0.8888888888888888,
              "#fdca26"
             ],
             [
              1,
              "#f0f921"
             ]
            ],
            "type": "histogram2dcontour"
           }
          ],
          "mesh3d": [
           {
            "colorbar": {
             "outlinewidth": 0,
             "ticks": ""
            },
            "type": "mesh3d"
           }
          ],
          "parcoords": [
           {
            "line": {
             "colorbar": {
              "outlinewidth": 0,
              "ticks": ""
             }
            },
            "type": "parcoords"
           }
          ],
          "pie": [
           {
            "automargin": true,
            "type": "pie"
           }
          ],
          "scatter": [
           {
            "fillpattern": {
             "fillmode": "overlay",
             "size": 10,
             "solidity": 0.2
            },
            "type": "scatter"
           }
          ],
          "scatter3d": [
           {
            "line": {
             "colorbar": {
              "outlinewidth": 0,
              "ticks": ""
             }
            },
            "marker": {
             "colorbar": {
              "outlinewidth": 0,
              "ticks": ""
             }
            },
            "type": "scatter3d"
           }
          ],
          "scattercarpet": [
           {
            "marker": {
             "colorbar": {
              "outlinewidth": 0,
              "ticks": ""
             }
            },
            "type": "scattercarpet"
           }
          ],
          "scattergeo": [
           {
            "marker": {
             "colorbar": {
              "outlinewidth": 0,
              "ticks": ""
             }
            },
            "type": "scattergeo"
           }
          ],
          "scattergl": [
           {
            "marker": {
             "colorbar": {
              "outlinewidth": 0,
              "ticks": ""
             }
            },
            "type": "scattergl"
           }
          ],
          "scattermapbox": [
           {
            "marker": {
             "colorbar": {
              "outlinewidth": 0,
              "ticks": ""
             }
            },
            "type": "scattermapbox"
           }
          ],
          "scatterpolar": [
           {
            "marker": {
             "colorbar": {
              "outlinewidth": 0,
              "ticks": ""
             }
            },
            "type": "scatterpolar"
           }
          ],
          "scatterpolargl": [
           {
            "marker": {
             "colorbar": {
              "outlinewidth": 0,
              "ticks": ""
             }
            },
            "type": "scatterpolargl"
           }
          ],
          "scatterternary": [
           {
            "marker": {
             "colorbar": {
              "outlinewidth": 0,
              "ticks": ""
             }
            },
            "type": "scatterternary"
           }
          ],
          "surface": [
           {
            "colorbar": {
             "outlinewidth": 0,
             "ticks": ""
            },
            "colorscale": [
             [
              0,
              "#0d0887"
             ],
             [
              0.1111111111111111,
              "#46039f"
             ],
             [
              0.2222222222222222,
              "#7201a8"
             ],
             [
              0.3333333333333333,
              "#9c179e"
             ],
             [
              0.4444444444444444,
              "#bd3786"
             ],
             [
              0.5555555555555556,
              "#d8576b"
             ],
             [
              0.6666666666666666,
              "#ed7953"
             ],
             [
              0.7777777777777778,
              "#fb9f3a"
             ],
             [
              0.8888888888888888,
              "#fdca26"
             ],
             [
              1,
              "#f0f921"
             ]
            ],
            "type": "surface"
           }
          ],
          "table": [
           {
            "cells": {
             "fill": {
              "color": "#EBF0F8"
             },
             "line": {
              "color": "white"
             }
            },
            "header": {
             "fill": {
              "color": "#C8D4E3"
             },
             "line": {
              "color": "white"
             }
            },
            "type": "table"
           }
          ]
         },
         "layout": {
          "annotationdefaults": {
           "arrowcolor": "#2a3f5f",
           "arrowhead": 0,
           "arrowwidth": 1
          },
          "autotypenumbers": "strict",
          "coloraxis": {
           "colorbar": {
            "outlinewidth": 0,
            "ticks": ""
           }
          },
          "colorscale": {
           "diverging": [
            [
             0,
             "#8e0152"
            ],
            [
             0.1,
             "#c51b7d"
            ],
            [
             0.2,
             "#de77ae"
            ],
            [
             0.3,
             "#f1b6da"
            ],
            [
             0.4,
             "#fde0ef"
            ],
            [
             0.5,
             "#f7f7f7"
            ],
            [
             0.6,
             "#e6f5d0"
            ],
            [
             0.7,
             "#b8e186"
            ],
            [
             0.8,
             "#7fbc41"
            ],
            [
             0.9,
             "#4d9221"
            ],
            [
             1,
             "#276419"
            ]
           ],
           "sequential": [
            [
             0,
             "#0d0887"
            ],
            [
             0.1111111111111111,
             "#46039f"
            ],
            [
             0.2222222222222222,
             "#7201a8"
            ],
            [
             0.3333333333333333,
             "#9c179e"
            ],
            [
             0.4444444444444444,
             "#bd3786"
            ],
            [
             0.5555555555555556,
             "#d8576b"
            ],
            [
             0.6666666666666666,
             "#ed7953"
            ],
            [
             0.7777777777777778,
             "#fb9f3a"
            ],
            [
             0.8888888888888888,
             "#fdca26"
            ],
            [
             1,
             "#f0f921"
            ]
           ],
           "sequentialminus": [
            [
             0,
             "#0d0887"
            ],
            [
             0.1111111111111111,
             "#46039f"
            ],
            [
             0.2222222222222222,
             "#7201a8"
            ],
            [
             0.3333333333333333,
             "#9c179e"
            ],
            [
             0.4444444444444444,
             "#bd3786"
            ],
            [
             0.5555555555555556,
             "#d8576b"
            ],
            [
             0.6666666666666666,
             "#ed7953"
            ],
            [
             0.7777777777777778,
             "#fb9f3a"
            ],
            [
             0.8888888888888888,
             "#fdca26"
            ],
            [
             1,
             "#f0f921"
            ]
           ]
          },
          "colorway": [
           "#636efa",
           "#EF553B",
           "#00cc96",
           "#ab63fa",
           "#FFA15A",
           "#19d3f3",
           "#FF6692",
           "#B6E880",
           "#FF97FF",
           "#FECB52"
          ],
          "font": {
           "color": "#2a3f5f"
          },
          "geo": {
           "bgcolor": "white",
           "lakecolor": "white",
           "landcolor": "#E5ECF6",
           "showlakes": true,
           "showland": true,
           "subunitcolor": "white"
          },
          "hoverlabel": {
           "align": "left"
          },
          "hovermode": "closest",
          "mapbox": {
           "style": "light"
          },
          "paper_bgcolor": "white",
          "plot_bgcolor": "#E5ECF6",
          "polar": {
           "angularaxis": {
            "gridcolor": "white",
            "linecolor": "white",
            "ticks": ""
           },
           "bgcolor": "#E5ECF6",
           "radialaxis": {
            "gridcolor": "white",
            "linecolor": "white",
            "ticks": ""
           }
          },
          "scene": {
           "xaxis": {
            "backgroundcolor": "#E5ECF6",
            "gridcolor": "white",
            "gridwidth": 2,
            "linecolor": "white",
            "showbackground": true,
            "ticks": "",
            "zerolinecolor": "white"
           },
           "yaxis": {
            "backgroundcolor": "#E5ECF6",
            "gridcolor": "white",
            "gridwidth": 2,
            "linecolor": "white",
            "showbackground": true,
            "ticks": "",
            "zerolinecolor": "white"
           },
           "zaxis": {
            "backgroundcolor": "#E5ECF6",
            "gridcolor": "white",
            "gridwidth": 2,
            "linecolor": "white",
            "showbackground": true,
            "ticks": "",
            "zerolinecolor": "white"
           }
          },
          "shapedefaults": {
           "line": {
            "color": "#2a3f5f"
           }
          },
          "ternary": {
           "aaxis": {
            "gridcolor": "white",
            "linecolor": "white",
            "ticks": ""
           },
           "baxis": {
            "gridcolor": "white",
            "linecolor": "white",
            "ticks": ""
           },
           "bgcolor": "#E5ECF6",
           "caxis": {
            "gridcolor": "white",
            "linecolor": "white",
            "ticks": ""
           }
          },
          "title": {
           "x": 0.05
          },
          "xaxis": {
           "automargin": true,
           "gridcolor": "white",
           "linecolor": "white",
           "ticks": "",
           "title": {
            "standoff": 15
           },
           "zerolinecolor": "white",
           "zerolinewidth": 2
          },
          "yaxis": {
           "automargin": true,
           "gridcolor": "white",
           "linecolor": "white",
           "ticks": "",
           "title": {
            "standoff": 15
           },
           "zerolinecolor": "white",
           "zerolinewidth": 2
          }
         }
        },
        "title": {
         "text": "L1 Gas Used on each Layer by chain"
        },
        "xaxis": {
         "anchor": "y",
         "domain": [
          0,
          1
         ],
         "title": {
          "text": "l1_gas_used_on_l2"
         }
        },
        "yaxis": {
         "anchor": "x",
         "domain": [
          0,
          1
         ],
         "title": {
          "text": "l1_gas_used_inbox"
         }
        }
       }
      }
     },
     "metadata": {},
     "output_type": "display_data"
    },
    {
     "data": {
      "application/vnd.plotly.v1+json": {
       "config": {
        "plotlyServerURL": "https://plot.ly"
       },
       "data": [
        {
         "hovertemplate": "chain=Base<br>calldata_bytes_l2_per_day=%{x}<br>calldata_bytes_l1_inbox=%{y}<br>bytes_compression_ratio=%{marker.size}<extra></extra>",
         "legendgroup": "Base",
         "marker": {
          "color": "#636efa",
          "size": [
           0.5718281427619232,
           0.5555513584213806,
           0.5579903418022529,
           0.6007978148408271,
           0.6781057195228666,
           0.6352953552342722,
           0.653764745613515,
           0.6063982959564738,
           0.5609454071678451,
           0.5458997259715863,
           0.553468473602433,
           0.5224876501837036,
           0.5532927453201117,
           0.5430796161820111,
           0.5743793711804164,
           0.580334220219555,
           0.47688175546121786,
           0.46947866599268345,
           0.508701489710754,
           0.5307634474410227,
           0.48378285591963804,
           0.4312157452407981,
           0.5623905803182915,
           0.48089986812519503,
           0.4822856483409914,
           0.5560463261009234,
           0.5457641013450486,
           0.26019656553281,
           0.2644315425371068,
           0.2831758551523204,
           0.2860367682788661,
           0.2941876326255025,
           0.301929128051273,
           0.2881891677036779,
           0.2785121842460116,
           0.2943552910049993,
           0.2787373140284966,
           0.33369066735139796
          ],
          "sizemode": "area",
          "sizeref": 0.0016952642988071664,
          "symbol": "circle"
         },
         "mode": "markers",
         "name": "Base",
         "orientation": "v",
         "showlegend": true,
         "type": "scatter",
         "x": [
          155049018,
          181022990,
          187521321,
          192869062,
          224622618,
          161462180,
          128857219,
          109754004,
          104756811,
          127524367,
          142892222,
          151317433,
          145700488,
          136245933,
          153823867,
          162810437,
          156005725,
          116133456,
          110972952,
          91762440,
          94261819,
          97238678,
          104678951,
          57702455,
          60570210,
          150418789,
          157566494,
          15654830,
          16055335,
          19433380,
          18879426,
          20613494,
          22061366,
          19935496,
          18691965,
          19951994,
          16021339,
          16434670
         ],
         "xaxis": "x",
         "y": [
          88661392,
          100567568,
          104635086,
          115875311,
          152317882,
          102576173,
          84242307,
          66554641,
          58762852,
          69615517,
          79086340,
          79061490,
          80615023,
          73992389,
          88353256,
          94484468,
          74396284,
          54522180,
          56452106,
          48704149,
          45602252,
          41930849,
          58870456,
          27749103,
          29212143,
          83639815,
          85994136,
          4073333,
          4245537,
          5503064,
          5400210,
          6064235,
          6660969,
          5745194,
          5205940,
          5872975,
          4465745,
          5484096
         ],
         "yaxis": "y"
        },
        {
         "hovertemplate": "chain=OP Mainnet<br>calldata_bytes_l2_per_day=%{x}<br>calldata_bytes_l1_inbox=%{y}<br>bytes_compression_ratio=%{marker.size}<extra></extra>",
         "legendgroup": "OP Mainnet",
         "marker": {
          "color": "#EF553B",
          "size": [
           0.4681952777660927,
           0.4608500900279608,
           0.46591209475993034,
           0.4594858718719244,
           0.45113545764722857,
           0.44479462701298994,
           0.4554254787213971,
           0.47385992129714033,
           0.4937542682904131,
           0.4572977828147345,
           0.4758824682141995,
           0.5540702869896651,
           0.45767598450187386,
           0.44226168479930106,
           0.48079973138769666,
           0.4707958781311436,
           0.4695094499551788,
           0.49641236947767,
           0.5371654779463789,
           0.4343204592471301,
           0.4272840493995592,
           0.42442996849278186,
           0.4265030569519402,
           0.406599068483486,
           0.4325429208145336,
           0.423910222061866,
           0.4015227082513731,
           0.38826573987942054,
           0.39487870582201423,
           0.3540322878101899,
           0.3843060281443984,
           0.3682007306112302,
           0.3811281562109398,
           0.36174978811181335,
           0.3553094357382699,
           0.4052815241476065,
           0.4741977549173778,
           0.4543490203360879,
           0.4534669014716731,
           0.4157766529454715,
           0.4210989139113452,
           0.4291277403257951,
           0.4788030115694556,
           0.45092596088171893,
           0.43625410355301636,
           0.428678855708936,
           0.41867337561401763,
           0.3957744258886554,
           0.4090429438704737,
           0.43436111571088537,
           0.455303173209116,
           0.4497679988416286,
           0.43154072471758753,
           0.4374430290448548,
           0.4271851929825211,
           0.37384831428710774,
           0.4697269799515577,
           0.42648366763257406,
           0.4008399715355309,
           0.38672715538490493,
           0.42681013579789595,
           0.4422068688826833,
           0.45858403617594024,
           0.45390457197214074,
           0.4484838055228785,
           0.4375829474158213,
           0.4258897102872048,
           0.4332762509582015,
           0.4188971981809109,
           0.4247145873507721,
           0.4289644529672095,
           0.4784486951088184,
           0.46238168762670906,
           0.4576438464816463,
           0.43973633895053305,
           0.42537035691394615,
           0.44571616087810867,
           0.4427873085568281,
           0.43804412720078345,
           0.4626359758055035
          ],
          "sizemode": "area",
          "sizeref": 0.0016952642988071664,
          "symbol": "circle"
         },
         "mode": "markers",
         "name": "OP Mainnet",
         "orientation": "v",
         "showlegend": true,
         "type": "scatter",
         "x": [
          141443650,
          164898770,
          182776749,
          175273857,
          178328448,
          168253822,
          175173390,
          194003624,
          234250696,
          337053611,
          547778795,
          292066371,
          173749263,
          172218127,
          198200899,
          222228031,
          249591660,
          376881201,
          352893363,
          222403306,
          264739852,
          310739271,
          311480363,
          291930627,
          323566611,
          325680547,
          306098558,
          325946652,
          328494662,
          515336528,
          437472417,
          482549659,
          365674466,
          274436017,
          283884856,
          217103277,
          214081119,
          213088231,
          203918991,
          234983175,
          198982375,
          223809246,
          232087757,
          220066316,
          200515260,
          203266011,
          207302069,
          213235640,
          206809887,
          160382266,
          168414271,
          136439836,
          186002137,
          199059766,
          192221398,
          235346542,
          206861109,
          227792022,
          256658221,
          282985442,
          240148198,
          217137993,
          186589428,
          222876030,
          223576530,
          237733446,
          206380046,
          172234132,
          162701654,
          168555774,
          182728388,
          180917653,
          201883259,
          187008884,
          186071777,
          176495625,
          185772721,
          177070170,
          166145549,
          152405238
         ],
         "xaxis": "x",
         "y": [
          66223249,
          75993613,
          85157898,
          80535861,
          80450286,
          74838396,
          79778425,
          91930542,
          115662281,
          154133869,
          260678325,
          161825298,
          79520865,
          76165479,
          95294939,
          104624041,
          117185643,
          187088490,
          189562132,
          96594306,
          113119116,
          131887059,
          132847327,
          118698721,
          139956447,
          138059313,
          122905522,
          126553918,
          129715547,
          182445770,
          168123287,
          177675137,
          139368835,
          99277171,
          100866968,
          87987947,
          101516786,
          96816429,
          92470513,
          97700518,
          83791262,
          96042756,
          111124317,
          99233615,
          87475605,
          87135841,
          86791857,
          84393213,
          84594125,
          69663820,
          76679552,
          61366272,
          80267497,
          87077307,
          82114135,
          87983908,
          97168244,
          97149577,
          102878874,
          109438155,
          102497685,
          96019912,
          85566933,
          101164449,
          100270453,
          104028102,
          87895138,
          74624959,
          68155267,
          71588096,
          78383983,
          86559815,
          93347122,
          85583465,
          81822522,
          75076007,
          82801904,
          78404424,
          72779082,
          70508146
         ],
         "yaxis": "y"
        },
        {
         "hovertemplate": "chain=Zora Network<br>calldata_bytes_l2_per_day=%{x}<br>calldata_bytes_l1_inbox=%{y}<br>bytes_compression_ratio=%{marker.size}<extra></extra>",
         "legendgroup": "Zora Network",
         "marker": {
          "color": "#00cc96",
          "size": [
           0.37008669359580293,
           0.421781869048763,
           0.5491180080619336,
           0.4365476544389028,
           0.40047567123043165,
           0.41669491447534385,
           0.4096400530718835,
           0.4620906812501036,
           0.5617000943830718,
           0.5403554016366745,
           0.5549580967689417,
           0.48780076328129957,
           0.36333333320118244,
           0.30185883442876343,
           0.21675630271424678,
           0.2850877691067051,
           0.29989920380227975,
           0.29142742077907013,
           0.28073829488633384,
           0.30146518361032265,
           0.2809543423188272,
           0.2847441265746773,
           0.27623545123696314,
           0.27182875290943154,
           0.26119543383053884,
           0.2696418511987533,
           0.27755102521155756,
           0.28398266820343493,
           0.22424420934718106,
           0.24424477371419318
          ],
          "sizemode": "area",
          "sizeref": 0.0016952642988071664,
          "symbol": "circle"
         },
         "mode": "markers",
         "name": "Zora Network",
         "orientation": "v",
         "showlegend": true,
         "type": "scatter",
         "x": [
          22535690,
          24319419,
          21936425,
          20236352,
          22432721,
          23827807,
          22901015,
          21477516,
          26419992,
          23579520,
          24765632,
          24788764,
          25223689,
          23483318,
          30875785,
          21221647,
          23741967,
          21567943,
          19058401,
          20146144,
          20236135,
          19960201,
          18635519,
          17636177,
          16966694,
          18261097,
          20393742,
          19094616,
          18968414,
          17633364
         ],
         "xaxis": "x",
         "y": [
          8340159,
          10257490,
          12045686,
          8834132,
          8983759,
          9928926,
          9381173,
          9924560,
          14840112,
          12741321,
          13743888,
          12091978,
          9164607,
          7088647,
          6692521,
          6050032,
          7120197,
          6285490,
          5350423,
          6073361,
          5685430,
          5683550,
          5147791,
          4794020,
          4431623,
          4923956,
          5660304,
          5422540,
          4253557,
          4306857
         ],
         "yaxis": "y"
        }
       ],
       "layout": {
        "legend": {
         "itemsizing": "constant",
         "title": {
          "text": "chain"
         },
         "tracegroupgap": 0
        },
        "template": {
         "data": {
          "bar": [
           {
            "error_x": {
             "color": "#2a3f5f"
            },
            "error_y": {
             "color": "#2a3f5f"
            },
            "marker": {
             "line": {
              "color": "#E5ECF6",
              "width": 0.5
             },
             "pattern": {
              "fillmode": "overlay",
              "size": 10,
              "solidity": 0.2
             }
            },
            "type": "bar"
           }
          ],
          "barpolar": [
           {
            "marker": {
             "line": {
              "color": "#E5ECF6",
              "width": 0.5
             },
             "pattern": {
              "fillmode": "overlay",
              "size": 10,
              "solidity": 0.2
             }
            },
            "type": "barpolar"
           }
          ],
          "carpet": [
           {
            "aaxis": {
             "endlinecolor": "#2a3f5f",
             "gridcolor": "white",
             "linecolor": "white",
             "minorgridcolor": "white",
             "startlinecolor": "#2a3f5f"
            },
            "baxis": {
             "endlinecolor": "#2a3f5f",
             "gridcolor": "white",
             "linecolor": "white",
             "minorgridcolor": "white",
             "startlinecolor": "#2a3f5f"
            },
            "type": "carpet"
           }
          ],
          "choropleth": [
           {
            "colorbar": {
             "outlinewidth": 0,
             "ticks": ""
            },
            "type": "choropleth"
           }
          ],
          "contour": [
           {
            "colorbar": {
             "outlinewidth": 0,
             "ticks": ""
            },
            "colorscale": [
             [
              0,
              "#0d0887"
             ],
             [
              0.1111111111111111,
              "#46039f"
             ],
             [
              0.2222222222222222,
              "#7201a8"
             ],
             [
              0.3333333333333333,
              "#9c179e"
             ],
             [
              0.4444444444444444,
              "#bd3786"
             ],
             [
              0.5555555555555556,
              "#d8576b"
             ],
             [
              0.6666666666666666,
              "#ed7953"
             ],
             [
              0.7777777777777778,
              "#fb9f3a"
             ],
             [
              0.8888888888888888,
              "#fdca26"
             ],
             [
              1,
              "#f0f921"
             ]
            ],
            "type": "contour"
           }
          ],
          "contourcarpet": [
           {
            "colorbar": {
             "outlinewidth": 0,
             "ticks": ""
            },
            "type": "contourcarpet"
           }
          ],
          "heatmap": [
           {
            "colorbar": {
             "outlinewidth": 0,
             "ticks": ""
            },
            "colorscale": [
             [
              0,
              "#0d0887"
             ],
             [
              0.1111111111111111,
              "#46039f"
             ],
             [
              0.2222222222222222,
              "#7201a8"
             ],
             [
              0.3333333333333333,
              "#9c179e"
             ],
             [
              0.4444444444444444,
              "#bd3786"
             ],
             [
              0.5555555555555556,
              "#d8576b"
             ],
             [
              0.6666666666666666,
              "#ed7953"
             ],
             [
              0.7777777777777778,
              "#fb9f3a"
             ],
             [
              0.8888888888888888,
              "#fdca26"
             ],
             [
              1,
              "#f0f921"
             ]
            ],
            "type": "heatmap"
           }
          ],
          "heatmapgl": [
           {
            "colorbar": {
             "outlinewidth": 0,
             "ticks": ""
            },
            "colorscale": [
             [
              0,
              "#0d0887"
             ],
             [
              0.1111111111111111,
              "#46039f"
             ],
             [
              0.2222222222222222,
              "#7201a8"
             ],
             [
              0.3333333333333333,
              "#9c179e"
             ],
             [
              0.4444444444444444,
              "#bd3786"
             ],
             [
              0.5555555555555556,
              "#d8576b"
             ],
             [
              0.6666666666666666,
              "#ed7953"
             ],
             [
              0.7777777777777778,
              "#fb9f3a"
             ],
             [
              0.8888888888888888,
              "#fdca26"
             ],
             [
              1,
              "#f0f921"
             ]
            ],
            "type": "heatmapgl"
           }
          ],
          "histogram": [
           {
            "marker": {
             "pattern": {
              "fillmode": "overlay",
              "size": 10,
              "solidity": 0.2
             }
            },
            "type": "histogram"
           }
          ],
          "histogram2d": [
           {
            "colorbar": {
             "outlinewidth": 0,
             "ticks": ""
            },
            "colorscale": [
             [
              0,
              "#0d0887"
             ],
             [
              0.1111111111111111,
              "#46039f"
             ],
             [
              0.2222222222222222,
              "#7201a8"
             ],
             [
              0.3333333333333333,
              "#9c179e"
             ],
             [
              0.4444444444444444,
              "#bd3786"
             ],
             [
              0.5555555555555556,
              "#d8576b"
             ],
             [
              0.6666666666666666,
              "#ed7953"
             ],
             [
              0.7777777777777778,
              "#fb9f3a"
             ],
             [
              0.8888888888888888,
              "#fdca26"
             ],
             [
              1,
              "#f0f921"
             ]
            ],
            "type": "histogram2d"
           }
          ],
          "histogram2dcontour": [
           {
            "colorbar": {
             "outlinewidth": 0,
             "ticks": ""
            },
            "colorscale": [
             [
              0,
              "#0d0887"
             ],
             [
              0.1111111111111111,
              "#46039f"
             ],
             [
              0.2222222222222222,
              "#7201a8"
             ],
             [
              0.3333333333333333,
              "#9c179e"
             ],
             [
              0.4444444444444444,
              "#bd3786"
             ],
             [
              0.5555555555555556,
              "#d8576b"
             ],
             [
              0.6666666666666666,
              "#ed7953"
             ],
             [
              0.7777777777777778,
              "#fb9f3a"
             ],
             [
              0.8888888888888888,
              "#fdca26"
             ],
             [
              1,
              "#f0f921"
             ]
            ],
            "type": "histogram2dcontour"
           }
          ],
          "mesh3d": [
           {
            "colorbar": {
             "outlinewidth": 0,
             "ticks": ""
            },
            "type": "mesh3d"
           }
          ],
          "parcoords": [
           {
            "line": {
             "colorbar": {
              "outlinewidth": 0,
              "ticks": ""
             }
            },
            "type": "parcoords"
           }
          ],
          "pie": [
           {
            "automargin": true,
            "type": "pie"
           }
          ],
          "scatter": [
           {
            "fillpattern": {
             "fillmode": "overlay",
             "size": 10,
             "solidity": 0.2
            },
            "type": "scatter"
           }
          ],
          "scatter3d": [
           {
            "line": {
             "colorbar": {
              "outlinewidth": 0,
              "ticks": ""
             }
            },
            "marker": {
             "colorbar": {
              "outlinewidth": 0,
              "ticks": ""
             }
            },
            "type": "scatter3d"
           }
          ],
          "scattercarpet": [
           {
            "marker": {
             "colorbar": {
              "outlinewidth": 0,
              "ticks": ""
             }
            },
            "type": "scattercarpet"
           }
          ],
          "scattergeo": [
           {
            "marker": {
             "colorbar": {
              "outlinewidth": 0,
              "ticks": ""
             }
            },
            "type": "scattergeo"
           }
          ],
          "scattergl": [
           {
            "marker": {
             "colorbar": {
              "outlinewidth": 0,
              "ticks": ""
             }
            },
            "type": "scattergl"
           }
          ],
          "scattermapbox": [
           {
            "marker": {
             "colorbar": {
              "outlinewidth": 0,
              "ticks": ""
             }
            },
            "type": "scattermapbox"
           }
          ],
          "scatterpolar": [
           {
            "marker": {
             "colorbar": {
              "outlinewidth": 0,
              "ticks": ""
             }
            },
            "type": "scatterpolar"
           }
          ],
          "scatterpolargl": [
           {
            "marker": {
             "colorbar": {
              "outlinewidth": 0,
              "ticks": ""
             }
            },
            "type": "scatterpolargl"
           }
          ],
          "scatterternary": [
           {
            "marker": {
             "colorbar": {
              "outlinewidth": 0,
              "ticks": ""
             }
            },
            "type": "scatterternary"
           }
          ],
          "surface": [
           {
            "colorbar": {
             "outlinewidth": 0,
             "ticks": ""
            },
            "colorscale": [
             [
              0,
              "#0d0887"
             ],
             [
              0.1111111111111111,
              "#46039f"
             ],
             [
              0.2222222222222222,
              "#7201a8"
             ],
             [
              0.3333333333333333,
              "#9c179e"
             ],
             [
              0.4444444444444444,
              "#bd3786"
             ],
             [
              0.5555555555555556,
              "#d8576b"
             ],
             [
              0.6666666666666666,
              "#ed7953"
             ],
             [
              0.7777777777777778,
              "#fb9f3a"
             ],
             [
              0.8888888888888888,
              "#fdca26"
             ],
             [
              1,
              "#f0f921"
             ]
            ],
            "type": "surface"
           }
          ],
          "table": [
           {
            "cells": {
             "fill": {
              "color": "#EBF0F8"
             },
             "line": {
              "color": "white"
             }
            },
            "header": {
             "fill": {
              "color": "#C8D4E3"
             },
             "line": {
              "color": "white"
             }
            },
            "type": "table"
           }
          ]
         },
         "layout": {
          "annotationdefaults": {
           "arrowcolor": "#2a3f5f",
           "arrowhead": 0,
           "arrowwidth": 1
          },
          "autotypenumbers": "strict",
          "coloraxis": {
           "colorbar": {
            "outlinewidth": 0,
            "ticks": ""
           }
          },
          "colorscale": {
           "diverging": [
            [
             0,
             "#8e0152"
            ],
            [
             0.1,
             "#c51b7d"
            ],
            [
             0.2,
             "#de77ae"
            ],
            [
             0.3,
             "#f1b6da"
            ],
            [
             0.4,
             "#fde0ef"
            ],
            [
             0.5,
             "#f7f7f7"
            ],
            [
             0.6,
             "#e6f5d0"
            ],
            [
             0.7,
             "#b8e186"
            ],
            [
             0.8,
             "#7fbc41"
            ],
            [
             0.9,
             "#4d9221"
            ],
            [
             1,
             "#276419"
            ]
           ],
           "sequential": [
            [
             0,
             "#0d0887"
            ],
            [
             0.1111111111111111,
             "#46039f"
            ],
            [
             0.2222222222222222,
             "#7201a8"
            ],
            [
             0.3333333333333333,
             "#9c179e"
            ],
            [
             0.4444444444444444,
             "#bd3786"
            ],
            [
             0.5555555555555556,
             "#d8576b"
            ],
            [
             0.6666666666666666,
             "#ed7953"
            ],
            [
             0.7777777777777778,
             "#fb9f3a"
            ],
            [
             0.8888888888888888,
             "#fdca26"
            ],
            [
             1,
             "#f0f921"
            ]
           ],
           "sequentialminus": [
            [
             0,
             "#0d0887"
            ],
            [
             0.1111111111111111,
             "#46039f"
            ],
            [
             0.2222222222222222,
             "#7201a8"
            ],
            [
             0.3333333333333333,
             "#9c179e"
            ],
            [
             0.4444444444444444,
             "#bd3786"
            ],
            [
             0.5555555555555556,
             "#d8576b"
            ],
            [
             0.6666666666666666,
             "#ed7953"
            ],
            [
             0.7777777777777778,
             "#fb9f3a"
            ],
            [
             0.8888888888888888,
             "#fdca26"
            ],
            [
             1,
             "#f0f921"
            ]
           ]
          },
          "colorway": [
           "#636efa",
           "#EF553B",
           "#00cc96",
           "#ab63fa",
           "#FFA15A",
           "#19d3f3",
           "#FF6692",
           "#B6E880",
           "#FF97FF",
           "#FECB52"
          ],
          "font": {
           "color": "#2a3f5f"
          },
          "geo": {
           "bgcolor": "white",
           "lakecolor": "white",
           "landcolor": "#E5ECF6",
           "showlakes": true,
           "showland": true,
           "subunitcolor": "white"
          },
          "hoverlabel": {
           "align": "left"
          },
          "hovermode": "closest",
          "mapbox": {
           "style": "light"
          },
          "paper_bgcolor": "white",
          "plot_bgcolor": "#E5ECF6",
          "polar": {
           "angularaxis": {
            "gridcolor": "white",
            "linecolor": "white",
            "ticks": ""
           },
           "bgcolor": "#E5ECF6",
           "radialaxis": {
            "gridcolor": "white",
            "linecolor": "white",
            "ticks": ""
           }
          },
          "scene": {
           "xaxis": {
            "backgroundcolor": "#E5ECF6",
            "gridcolor": "white",
            "gridwidth": 2,
            "linecolor": "white",
            "showbackground": true,
            "ticks": "",
            "zerolinecolor": "white"
           },
           "yaxis": {
            "backgroundcolor": "#E5ECF6",
            "gridcolor": "white",
            "gridwidth": 2,
            "linecolor": "white",
            "showbackground": true,
            "ticks": "",
            "zerolinecolor": "white"
           },
           "zaxis": {
            "backgroundcolor": "#E5ECF6",
            "gridcolor": "white",
            "gridwidth": 2,
            "linecolor": "white",
            "showbackground": true,
            "ticks": "",
            "zerolinecolor": "white"
           }
          },
          "shapedefaults": {
           "line": {
            "color": "#2a3f5f"
           }
          },
          "ternary": {
           "aaxis": {
            "gridcolor": "white",
            "linecolor": "white",
            "ticks": ""
           },
           "baxis": {
            "gridcolor": "white",
            "linecolor": "white",
            "ticks": ""
           },
           "bgcolor": "#E5ECF6",
           "caxis": {
            "gridcolor": "white",
            "linecolor": "white",
            "ticks": ""
           }
          },
          "title": {
           "x": 0.05
          },
          "xaxis": {
           "automargin": true,
           "gridcolor": "white",
           "linecolor": "white",
           "ticks": "",
           "title": {
            "standoff": 15
           },
           "zerolinecolor": "white",
           "zerolinewidth": 2
          },
          "yaxis": {
           "automargin": true,
           "gridcolor": "white",
           "linecolor": "white",
           "ticks": "",
           "title": {
            "standoff": 15
           },
           "zerolinecolor": "white",
           "zerolinewidth": 2
          }
         }
        },
        "title": {
         "text": "Calldata Bytese on each Layer by chain"
        },
        "xaxis": {
         "anchor": "y",
         "domain": [
          0,
          1
         ],
         "title": {
          "text": "calldata_bytes_l2_per_day"
         }
        },
        "yaxis": {
         "anchor": "x",
         "domain": [
          0,
          1
         ],
         "title": {
          "text": "calldata_bytes_l1_inbox"
         }
        }
       }
      }
     },
     "metadata": {},
     "output_type": "display_data"
    }
   ],
   "source": [
    "# Create the scatter plot\n",
    "combo_df_plot = combo_df[\n",
    "                        (~combo_df['gas_compression_ratio'].isna()) \n",
    "                         & (combo_df['gas_compression_ratio']<1) \n",
    "                         & (combo_df['active_secs_per_day'] == 86400)\n",
    "                         ]\n",
    "\n",
    "# combo_df_plot = combo_df[(~combo_df['bytes_compression_ratio'].isna())\n",
    "#                          & (combo_df['active_secs_per_day'] == 86400)]\n",
    "\n",
    "display(combo_df_plot)\n",
    "\n",
    "fig = px.scatter(combo_df_plot,\n",
    "                 x='l1_gas_used_on_l2',\n",
    "                 y='l1_gas_used_inbox',\n",
    "                 size = 'gas_compression_ratio',\n",
    "                 color='chain',\n",
    "                 title='L1 Gas Used on each Layer by chain')\n",
    "\n",
    "# Display the plot\n",
    "fig.show()\n",
    "\n",
    "##############\n",
    "\n",
    "fig_bytes = px.scatter(combo_df_plot,\n",
    "                 x='calldata_bytes_l2_per_day',\n",
    "                 y='calldata_bytes_l1_inbox',\n",
    "                 size = 'bytes_compression_ratio',\n",
    "                 color='chain',\n",
    "                 title='Calldata Bytese on each Layer by chain')\n",
    "\n",
    "fig_bytes.show()"
   ]
  },
  {
   "cell_type": "code",
   "execution_count": 36,
   "metadata": {},
   "outputs": [],
   "source": [
    "df = combo_df.copy()"
   ]
  },
  {
   "cell_type": "code",
   "execution_count": 37,
   "metadata": {},
   "outputs": [
    {
     "data": {
      "text/plain": [
       "((211, 3), (53, 3))"
      ]
     },
     "execution_count": 37,
     "metadata": {},
     "output_type": "execute_result"
    }
   ],
   "source": [
    "# GPT Built model\n",
    "from sklearn.model_selection import train_test_split\n",
    "\n",
    "# Selecting the features and target variable\n",
    "features = ['l1_gas_used_on_l2', 'calldata_bytes_l2_per_day', 'l2_num_txs_per_day']\n",
    "target = 'l1_gas_used_inbox'\n",
    "\n",
    "# Drop rows with missing values for now\n",
    "df_cleaned = df.dropna(subset=features + [target])\n",
    "\n",
    "# Splitting the data into training and testing sets (80% train, 20% test)\n",
    "X = df_cleaned[features]\n",
    "y = df_cleaned[target]\n",
    "\n",
    "X_train, X_test, y_train, y_test = train_test_split(X, y, test_size=0.2, random_state=42)\n",
    "\n",
    "X_train.shape, X_test.shape\n"
   ]
  },
  {
   "cell_type": "code",
   "execution_count": 38,
   "metadata": {},
   "outputs": [
    {
     "data": {
      "text/plain": [
       "(21667300.97534015, 1885579767800016.2, 0.9961688245226951)"
      ]
     },
     "execution_count": 38,
     "metadata": {},
     "output_type": "execute_result"
    }
   ],
   "source": [
    "from sklearn.linear_model import LinearRegression\n",
    "from sklearn.metrics import mean_absolute_error, mean_squared_error, r2_score\n",
    "\n",
    "# Initialize and train the linear regression model\n",
    "model = LinearRegression()\n",
    "model.fit(X_train, y_train)\n",
    "\n",
    "# Predict on the test set\n",
    "y_pred = model.predict(X_test)\n",
    "\n",
    "# Evaluate the model's performance\n",
    "mae = mean_absolute_error(y_test, y_pred)\n",
    "mse = mean_squared_error(y_test, y_pred)\n",
    "r2 = r2_score(y_test, y_pred)\n",
    "\n",
    "mae, mse, r2"
   ]
  },
  {
   "cell_type": "code",
   "execution_count": 39,
   "metadata": {},
   "outputs": [
    {
     "data": {
      "text/plain": [
       "(array([   0.65433478,   -0.49291367, -159.85795107]), 40193003.723002076)"
      ]
     },
     "execution_count": 39,
     "metadata": {},
     "output_type": "execute_result"
    }
   ],
   "source": [
    "# Retrieve the coefficients and intercept of the model\n",
    "coefficients = model.coef_\n",
    "intercept = model.intercept_\n",
    "\n",
    "coefficients, intercept\n"
   ]
  },
  {
   "cell_type": "markdown",
   "metadata": {},
   "source": [
    "```\n",
    "r^2 = .9962\n",
    "\n",
    "l1_gas_used_inbox =\n",
    "          0.6543×l1_gas_used_on_l2\n",
    "        − 0.4929×calldata_bytes_l2_per_day\n",
    "        − 159.8580×l2_num_txs_per_day\n",
    "        + 40,193,003.72\n",
    "```\n",
    "        "
   ]
  },
  {
   "cell_type": "code",
   "execution_count": 40,
   "metadata": {},
   "outputs": [
    {
     "data": {
      "text/plain": [
       "['active_secs_per_day',\n",
       " 'l2_contrib_l2_eth_fees_per_day',\n",
       " 'l2_num_txs_per_day',\n",
       " 'calldata_bytes_l2_per_day',\n",
       " 'l2_gas_used',\n",
       " 'l2_eth_fees_per_day',\n",
       " 'l1_gas_used_on_l2']"
      ]
     },
     "execution_count": 40,
     "metadata": {},
     "output_type": "execute_result"
    }
   ],
   "source": [
    "# test other features\n",
    "\n",
    "# Identify columns that do not include 'l1' and 'compression_ratio', except for the one already identified\n",
    "potential_features = [col for col in df.columns if 'l1' not in col and 'compression_ratio' not in col]\n",
    "potential_features.append('l1_gas_used_on_l2')  # add the already identified feature\n",
    "\n",
    "# Remove the non-feature columns (like identifiers and target)\n",
    "non_feature_columns = ['Unnamed: 0', 'join_id', 'dt', 'chain']\n",
    "potential_features = [col for col in potential_features if col not in non_feature_columns]\n",
    "\n",
    "potential_features\n",
    "\n"
   ]
  },
  {
   "cell_type": "code",
   "execution_count": 42,
   "metadata": {},
   "outputs": [
    {
     "name": "stdout",
     "output_type": "stream",
     "text": [
      "this shows that our original model was \"best\"\n"
     ]
    }
   ],
   "source": [
    "# Re-preprocess the data considering all potential features\n",
    "df_cleaned_all = df.dropna(subset=potential_features + [target])\n",
    "\n",
    "# Splitting the data again\n",
    "X_all = df_cleaned_all[potential_features]\n",
    "y_all = df_cleaned_all[target]\n",
    "\n",
    "X_train_all, X_test_all, y_train_all, y_test_all = train_test_split(X_all, y_all, test_size=0.2, random_state=42)\n",
    "\n",
    "# Updated function to evaluate features using the new datasets\n",
    "def evaluate_features_updated(features_list):\n",
    "    X_train_subset = X_train_all[features_list]\n",
    "    X_test_subset = X_test_all[features_list]\n",
    "\n",
    "    # Train the model\n",
    "    model = LinearRegression()\n",
    "    model.fit(X_train_subset, y_train_all)\n",
    "\n",
    "    # Predict and evaluate\n",
    "    y_pred = model.predict(X_test_subset)\n",
    "    r2 = r2_score(y_test_all, y_pred)\n",
    "    return r2\n",
    "\n",
    "# Re-evaluate models\n",
    "original_r2_updated = evaluate_features_updated(['l1_gas_used_on_l2', 'calldata_bytes_l2_per_day', 'l2_num_txs_per_day'])\n",
    "all_features_r2_updated = evaluate_features_updated(potential_features)\n",
    "\n",
    "# Removing one feature at a time from the full set\n",
    "drop_one_r2_updated = {}\n",
    "for feature in potential_features:\n",
    "    subset = [f for f in potential_features if f != feature]\n",
    "    r2 = evaluate_features_updated(subset)\n",
    "    drop_one_r2_updated[feature] = r2\n",
    "\n",
    "original_r2_updated, all_features_r2_updated, drop_one_r2_updated\n",
    "print('this shows that our original model was \"best\"')"
   ]
  }
 ],
 "metadata": {
  "kernelspec": {
   "display_name": "new-env",
   "language": "python",
   "name": "python3"
  },
  "language_info": {
   "codemirror_mode": {
    "name": "ipython",
    "version": 3
   },
   "file_extension": ".py",
   "mimetype": "text/x-python",
   "name": "python",
   "nbconvert_exporter": "python",
   "pygments_lexer": "ipython3",
   "version": "3.10.11"
  },
  "orig_nbformat": 4
 },
 "nbformat": 4,
 "nbformat_minor": 2
}
