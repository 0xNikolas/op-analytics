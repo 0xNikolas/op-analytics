{
 "cells": [
  {
   "cell_type": "code",
   "execution_count": 75,
   "metadata": {},
   "outputs": [],
   "source": [
    "import pandas as pd\n",
    "import plotly.express as px\n",
    "\n",
    "columns = [\n",
    "        'join_id','dt','chain', 'active_secs_per_day'\n",
    "        ,'num_l1_txs_inbox','num_l1_txs_output','calldata_bytes_l1_inbox'\n",
    "        ,'avg_l1_gas_price_on_l1_inbox','avg_l1_gas_price_on_l1_output','avg_l1_gas_price_on_l2'\n",
    "        ,'l1_gas_used_inbox','l1_gas_used_output','l1_gas_used_combined'\n",
    "        ,'l1_eth_fees_inbox','l1_eth_fees_output','l1_eth_fees_combined'\n",
    "        ,'l1_contrib_l2_eth_fees_per_day','l2_contrib_l2_eth_fees_per_day'\n",
    "        ,'l2_num_txs_per_day', 'l2_num_attr_deposit_txs_per_day', 'l2_num_user_deposit_txs_per_day'\n",
    "        ,'l1_gas_used_on_l2','calldata_bytes_l2_per_day'\n",
    "        ,'l1_gas_used_user_txs_l2_per_day','calldata_bytes_user_txs_l2_per_day'\n",
    "        ,'l2_gas_used','l2_eth_fees_per_day'\n",
    "        ]"
   ]
  },
  {
   "cell_type": "code",
   "execution_count": 76,
   "metadata": {},
   "outputs": [],
   "source": [
    "#Unify datasets\n",
    "dunedf = pd.read_csv('csv_inputs/op_chain_gas_economics_dune_query_2453515_dt2023_09_08.csv') #https://dune.com/queries/2453515 --last 90 days\n",
    "goldskydf = pd.read_csv('csv_inputs/op_chain_gas_economics_goldsky_zora_pgn_dt2023_09_08.csv') #requires auth - https://dash.goldsky.com/question/9-op-chains-activity-by-period"
   ]
  },
  {
   "cell_type": "code",
   "execution_count": 77,
   "metadata": {},
   "outputs": [],
   "source": [
    "# Map Chain Names\n",
    "chain_mappings = {\n",
    "    'zora': 'Zora Network',\n",
    "    'pgn': 'Public Goods Network',\n",
    "    # Add more mappings as needed\n",
    "}\n",
    "goldskydf['chain'] = goldskydf['chain'].replace(chain_mappings)"
   ]
  },
  {
   "cell_type": "code",
   "execution_count": 78,
   "metadata": {},
   "outputs": [],
   "source": [
    "#Configure\n",
    "#rename cols\n",
    "dunedf = dunedf.rename(columns={\n",
    "                        'name':'chain'\n",
    "                        })\n",
    "#Generate Join ID Column\n",
    "dunedf['join_id'] = dunedf['dt'].astype(str).str[:10].str.cat(dunedf['chain'].astype(str).str.lower())\n",
    "goldskydf['join_id'] = goldskydf['dt'].astype(str).str[:10].str.cat(goldskydf['chain'].astype(str).str.lower())\n",
    "\n",
    "# display(dunedf.head(10))\n",
    "# print(dunedf.columns)\n",
    "# print('---')\n",
    "# display(goldskydf.head(10))\n",
    "# print(goldskydf.columns)\n",
    "\n",
    "combo_df = dunedf.merge(goldskydf, on='join_id', how='left')\n",
    "\n",
    "# display(combo_df)\n",
    "\n",
    "for c in columns:\n",
    "        try:\n",
    "                combo_df[c] = combo_df[c+'_x'].combine_first(combo_df[c+'_y']) #pick first non-null\n",
    "        except:\n",
    "                combo_df[c] = combo_df[c] #nada\n",
    "\n",
    "combo_df['dt'] = pd.to_datetime(combo_df['dt'])\n",
    "combo_df = combo_df[columns]\n",
    "\n",
    "combo_df['gas_compression_ratio'] = combo_df['l1_gas_used_inbox'] / combo_df['l1_gas_used_on_l2']\n",
    "combo_df['bytes_compression_ratio'] = combo_df['calldata_bytes_l1_inbox'] / combo_df['calldata_bytes_l2_per_day']\n",
    "combo_df['dt_rank'] = combo_df['dt'].rank(method='dense', ascending=False).astype('int')"
   ]
  },
  {
   "cell_type": "code",
   "execution_count": 79,
   "metadata": {},
   "outputs": [
    {
     "data": {
      "text/html": [
       "<div>\n",
       "<style scoped>\n",
       "    .dataframe tbody tr th:only-of-type {\n",
       "        vertical-align: middle;\n",
       "    }\n",
       "\n",
       "    .dataframe tbody tr th {\n",
       "        vertical-align: top;\n",
       "    }\n",
       "\n",
       "    .dataframe thead th {\n",
       "        text-align: right;\n",
       "    }\n",
       "</style>\n",
       "<table border=\"1\" class=\"dataframe\">\n",
       "  <thead>\n",
       "    <tr style=\"text-align: right;\">\n",
       "      <th></th>\n",
       "      <th>join_id</th>\n",
       "      <th>dt</th>\n",
       "      <th>chain</th>\n",
       "      <th>active_secs_per_day</th>\n",
       "      <th>num_l1_txs_inbox</th>\n",
       "      <th>num_l1_txs_output</th>\n",
       "      <th>calldata_bytes_l1_inbox</th>\n",
       "      <th>avg_l1_gas_price_on_l1_inbox</th>\n",
       "      <th>avg_l1_gas_price_on_l1_output</th>\n",
       "      <th>avg_l1_gas_price_on_l2</th>\n",
       "      <th>...</th>\n",
       "      <th>l2_num_user_deposit_txs_per_day</th>\n",
       "      <th>l1_gas_used_on_l2</th>\n",
       "      <th>calldata_bytes_l2_per_day</th>\n",
       "      <th>l1_gas_used_user_txs_l2_per_day</th>\n",
       "      <th>calldata_bytes_user_txs_l2_per_day</th>\n",
       "      <th>l2_gas_used</th>\n",
       "      <th>l2_eth_fees_per_day</th>\n",
       "      <th>gas_compression_ratio</th>\n",
       "      <th>bytes_compression_ratio</th>\n",
       "      <th>dt_rank</th>\n",
       "    </tr>\n",
       "  </thead>\n",
       "  <tbody>\n",
       "    <tr>\n",
       "      <th>152</th>\n",
       "      <td>2023-07-31op mainnet</td>\n",
       "      <td>2023-07-31 00:00:00+00:00</td>\n",
       "      <td>OP Mainnet</td>\n",
       "      <td>86400.0</td>\n",
       "      <td>1214</td>\n",
       "      <td>24</td>\n",
       "      <td>138059313.0</td>\n",
       "      <td>24.227825</td>\n",
       "      <td>23.986172</td>\n",
       "      <td>2.399308e+01</td>\n",
       "      <td>...</td>\n",
       "      <td>982.0</td>\n",
       "      <td>3.719761e+09</td>\n",
       "      <td>325680547.0</td>\n",
       "      <td>3.719761e+09</td>\n",
       "      <td>314075371.0</td>\n",
       "      <td>1.729702e+11</td>\n",
       "      <td>75.747456</td>\n",
       "      <td>0.598965</td>\n",
       "      <td>0.423910</td>\n",
       "      <td>39</td>\n",
       "    </tr>\n",
       "    <tr>\n",
       "      <th>5</th>\n",
       "      <td>2023-09-06base</td>\n",
       "      <td>2023-09-06 00:00:00+00:00</td>\n",
       "      <td>Base</td>\n",
       "      <td>86400.0</td>\n",
       "      <td>1424</td>\n",
       "      <td>24</td>\n",
       "      <td>57450098.0</td>\n",
       "      <td>19.107476</td>\n",
       "      <td>17.935865</td>\n",
       "      <td>1.899765e+01</td>\n",
       "      <td>...</td>\n",
       "      <td>577.0</td>\n",
       "      <td>1.453732e+09</td>\n",
       "      <td>113272698.0</td>\n",
       "      <td>1.453732e+09</td>\n",
       "      <td>101784370.0</td>\n",
       "      <td>2.212035e+11</td>\n",
       "      <td>32.901866</td>\n",
       "      <td>0.650960</td>\n",
       "      <td>0.507184</td>\n",
       "      <td>2</td>\n",
       "    </tr>\n",
       "    <tr>\n",
       "      <th>182</th>\n",
       "      <td>2023-07-24zora network</td>\n",
       "      <td>2023-07-24 00:00:00+00:00</td>\n",
       "      <td>Zora Network</td>\n",
       "      <td>86400.0</td>\n",
       "      <td>146</td>\n",
       "      <td>24</td>\n",
       "      <td>3936175.0</td>\n",
       "      <td>29.897816</td>\n",
       "      <td>31.260980</td>\n",
       "      <td>4.644531e+09</td>\n",
       "      <td>...</td>\n",
       "      <td>1.0</td>\n",
       "      <td>5.462253e+07</td>\n",
       "      <td>17573964.0</td>\n",
       "      <td>5.462253e+07</td>\n",
       "      <td>4358055.0</td>\n",
       "      <td>4.804534e+10</td>\n",
       "      <td>2.506763</td>\n",
       "      <td>1.206196</td>\n",
       "      <td>0.223978</td>\n",
       "      <td>46</td>\n",
       "    </tr>\n",
       "    <tr>\n",
       "      <th>205</th>\n",
       "      <td>2023-07-18zora network</td>\n",
       "      <td>2023-07-18 00:00:00+00:00</td>\n",
       "      <td>Zora Network</td>\n",
       "      <td>86400.0</td>\n",
       "      <td>163</td>\n",
       "      <td>24</td>\n",
       "      <td>6454904.0</td>\n",
       "      <td>28.801545</td>\n",
       "      <td>29.207270</td>\n",
       "      <td>4.676844e+09</td>\n",
       "      <td>...</td>\n",
       "      <td>4.0</td>\n",
       "      <td>9.364356e+07</td>\n",
       "      <td>18423326.0</td>\n",
       "      <td>9.364356e+07</td>\n",
       "      <td>7189646.0</td>\n",
       "      <td>5.146252e+10</td>\n",
       "      <td>4.240936</td>\n",
       "      <td>1.135517</td>\n",
       "      <td>0.350366</td>\n",
       "      <td>52</td>\n",
       "    </tr>\n",
       "    <tr>\n",
       "      <th>134</th>\n",
       "      <td>2023-08-05zora network</td>\n",
       "      <td>2023-08-05 00:00:00+00:00</td>\n",
       "      <td>Zora Network</td>\n",
       "      <td>86400.0</td>\n",
       "      <td>146</td>\n",
       "      <td>24</td>\n",
       "      <td>5685430.0</td>\n",
       "      <td>15.814547</td>\n",
       "      <td>15.885622</td>\n",
       "      <td>5.562570e+09</td>\n",
       "      <td>...</td>\n",
       "      <td>1.0</td>\n",
       "      <td>1.172829e+08</td>\n",
       "      <td>20236135.0</td>\n",
       "      <td>1.172829e+08</td>\n",
       "      <td>8992179.0</td>\n",
       "      <td>5.152439e+10</td>\n",
       "      <td>3.904547</td>\n",
       "      <td>0.799716</td>\n",
       "      <td>0.280954</td>\n",
       "      <td>34</td>\n",
       "    </tr>\n",
       "  </tbody>\n",
       "</table>\n",
       "<p>5 rows × 30 columns</p>\n",
       "</div>"
      ],
      "text/plain": [
       "                    join_id                        dt         chain  \\\n",
       "152    2023-07-31op mainnet 2023-07-31 00:00:00+00:00    OP Mainnet   \n",
       "5            2023-09-06base 2023-09-06 00:00:00+00:00          Base   \n",
       "182  2023-07-24zora network 2023-07-24 00:00:00+00:00  Zora Network   \n",
       "205  2023-07-18zora network 2023-07-18 00:00:00+00:00  Zora Network   \n",
       "134  2023-08-05zora network 2023-08-05 00:00:00+00:00  Zora Network   \n",
       "\n",
       "     active_secs_per_day  num_l1_txs_inbox  num_l1_txs_output  \\\n",
       "152              86400.0              1214                 24   \n",
       "5                86400.0              1424                 24   \n",
       "182              86400.0               146                 24   \n",
       "205              86400.0               163                 24   \n",
       "134              86400.0               146                 24   \n",
       "\n",
       "     calldata_bytes_l1_inbox  avg_l1_gas_price_on_l1_inbox  \\\n",
       "152              138059313.0                     24.227825   \n",
       "5                 57450098.0                     19.107476   \n",
       "182                3936175.0                     29.897816   \n",
       "205                6454904.0                     28.801545   \n",
       "134                5685430.0                     15.814547   \n",
       "\n",
       "     avg_l1_gas_price_on_l1_output  avg_l1_gas_price_on_l2  ...  \\\n",
       "152                      23.986172            2.399308e+01  ...   \n",
       "5                        17.935865            1.899765e+01  ...   \n",
       "182                      31.260980            4.644531e+09  ...   \n",
       "205                      29.207270            4.676844e+09  ...   \n",
       "134                      15.885622            5.562570e+09  ...   \n",
       "\n",
       "     l2_num_user_deposit_txs_per_day  l1_gas_used_on_l2  \\\n",
       "152                            982.0       3.719761e+09   \n",
       "5                              577.0       1.453732e+09   \n",
       "182                              1.0       5.462253e+07   \n",
       "205                              4.0       9.364356e+07   \n",
       "134                              1.0       1.172829e+08   \n",
       "\n",
       "     calldata_bytes_l2_per_day  l1_gas_used_user_txs_l2_per_day  \\\n",
       "152                325680547.0                     3.719761e+09   \n",
       "5                  113272698.0                     1.453732e+09   \n",
       "182                 17573964.0                     5.462253e+07   \n",
       "205                 18423326.0                     9.364356e+07   \n",
       "134                 20236135.0                     1.172829e+08   \n",
       "\n",
       "     calldata_bytes_user_txs_l2_per_day   l2_gas_used  l2_eth_fees_per_day  \\\n",
       "152                         314075371.0  1.729702e+11            75.747456   \n",
       "5                           101784370.0  2.212035e+11            32.901866   \n",
       "182                           4358055.0  4.804534e+10             2.506763   \n",
       "205                           7189646.0  5.146252e+10             4.240936   \n",
       "134                           8992179.0  5.152439e+10             3.904547   \n",
       "\n",
       "     gas_compression_ratio  bytes_compression_ratio  dt_rank  \n",
       "152               0.598965                 0.423910       39  \n",
       "5                 0.650960                 0.507184        2  \n",
       "182               1.206196                 0.223978       46  \n",
       "205               1.135517                 0.350366       52  \n",
       "134               0.799716                 0.280954       34  \n",
       "\n",
       "[5 rows x 30 columns]"
      ]
     },
     "metadata": {},
     "output_type": "display_data"
    }
   ],
   "source": [
    "display( combo_df.sample(5) )\n",
    "\n",
    "combo_df.to_csv('outputs/op_chain_gas_economics_sample.csv')"
   ]
  },
  {
   "cell_type": "code",
   "execution_count": 80,
   "metadata": {},
   "outputs": [
    {
     "name": "stdout",
     "output_type": "stream",
     "text": [
      "Blended gas compression ratio: 63.0%\n",
      "Blended bytes compression ratio: 44.0%\n"
     ]
    }
   ],
   "source": [
    "bl_gas_ratio = combo_df['l1_gas_used_inbox'].sum() / combo_df['l1_gas_used_on_l2'].sum()\n",
    "bl_bytes_ratio = combo_df['calldata_bytes_l1_inbox'].sum() / combo_df['calldata_bytes_l2_per_day'].sum()\n",
    "print('Blended gas compression ratio: ' + str(round(bl_gas_ratio*100,1)) + '%')\n",
    "print('Blended bytes compression ratio: ' + str(round(bl_bytes_ratio*100,1)) + '%')"
   ]
  },
  {
   "cell_type": "code",
   "execution_count": 81,
   "metadata": {},
   "outputs": [
    {
     "data": {
      "text/html": [
       "<div>\n",
       "<style scoped>\n",
       "    .dataframe tbody tr th:only-of-type {\n",
       "        vertical-align: middle;\n",
       "    }\n",
       "\n",
       "    .dataframe tbody tr th {\n",
       "        vertical-align: top;\n",
       "    }\n",
       "\n",
       "    .dataframe thead th {\n",
       "        text-align: right;\n",
       "    }\n",
       "</style>\n",
       "<table border=\"1\" class=\"dataframe\">\n",
       "  <thead>\n",
       "    <tr style=\"text-align: right;\">\n",
       "      <th></th>\n",
       "      <th>join_id</th>\n",
       "      <th>dt</th>\n",
       "      <th>chain</th>\n",
       "      <th>active_secs_per_day</th>\n",
       "      <th>num_l1_txs_inbox</th>\n",
       "      <th>num_l1_txs_output</th>\n",
       "      <th>calldata_bytes_l1_inbox</th>\n",
       "      <th>avg_l1_gas_price_on_l1_inbox</th>\n",
       "      <th>avg_l1_gas_price_on_l1_output</th>\n",
       "      <th>avg_l1_gas_price_on_l2</th>\n",
       "      <th>...</th>\n",
       "      <th>l2_num_user_deposit_txs_per_day</th>\n",
       "      <th>l1_gas_used_on_l2</th>\n",
       "      <th>calldata_bytes_l2_per_day</th>\n",
       "      <th>l1_gas_used_user_txs_l2_per_day</th>\n",
       "      <th>calldata_bytes_user_txs_l2_per_day</th>\n",
       "      <th>l2_gas_used</th>\n",
       "      <th>l2_eth_fees_per_day</th>\n",
       "      <th>gas_compression_ratio</th>\n",
       "      <th>bytes_compression_ratio</th>\n",
       "      <th>dt_rank</th>\n",
       "    </tr>\n",
       "  </thead>\n",
       "  <tbody>\n",
       "    <tr>\n",
       "      <th>0</th>\n",
       "      <td>2023-09-07op mainnet</td>\n",
       "      <td>2023-09-07 00:00:00+00:00</td>\n",
       "      <td>OP Mainnet</td>\n",
       "      <td>86400.0</td>\n",
       "      <td>614</td>\n",
       "      <td>24</td>\n",
       "      <td>70967575.0</td>\n",
       "      <td>17.876005</td>\n",
       "      <td>17.564603</td>\n",
       "      <td>1.763472e+01</td>\n",
       "      <td>...</td>\n",
       "      <td>449.0</td>\n",
       "      <td>1.797814e+09</td>\n",
       "      <td>149355858.0</td>\n",
       "      <td>1.797814e+09</td>\n",
       "      <td>137925070.0</td>\n",
       "      <td>1.373005e+11</td>\n",
       "      <td>31.358216</td>\n",
       "      <td>0.636979</td>\n",
       "      <td>0.475158</td>\n",
       "      <td>1</td>\n",
       "    </tr>\n",
       "    <tr>\n",
       "      <th>1</th>\n",
       "      <td>2023-09-07base</td>\n",
       "      <td>2023-09-07 00:00:00+00:00</td>\n",
       "      <td>Base</td>\n",
       "      <td>86400.0</td>\n",
       "      <td>1431</td>\n",
       "      <td>24</td>\n",
       "      <td>56170604.0</td>\n",
       "      <td>18.223106</td>\n",
       "      <td>17.189830</td>\n",
       "      <td>1.809397e+01</td>\n",
       "      <td>...</td>\n",
       "      <td>760.0</td>\n",
       "      <td>1.417440e+09</td>\n",
       "      <td>110999142.0</td>\n",
       "      <td>1.417440e+09</td>\n",
       "      <td>99428281.0</td>\n",
       "      <td>2.211692e+11</td>\n",
       "      <td>32.802708</td>\n",
       "      <td>0.653330</td>\n",
       "      <td>0.506045</td>\n",
       "      <td>1</td>\n",
       "    </tr>\n",
       "    <tr>\n",
       "      <th>2</th>\n",
       "      <td>2023-09-07zora network</td>\n",
       "      <td>2023-09-07 00:00:00+00:00</td>\n",
       "      <td>Zora Network</td>\n",
       "      <td>86400.0</td>\n",
       "      <td>183</td>\n",
       "      <td>24</td>\n",
       "      <td>13738192.0</td>\n",
       "      <td>17.591169</td>\n",
       "      <td>18.234762</td>\n",
       "      <td>1.133676e+10</td>\n",
       "      <td>...</td>\n",
       "      <td>26.0</td>\n",
       "      <td>3.326724e+08</td>\n",
       "      <td>29555694.0</td>\n",
       "      <td>3.326724e+08</td>\n",
       "      <td>18305698.0</td>\n",
       "      <td>6.944849e+10</td>\n",
       "      <td>11.796937</td>\n",
       "      <td>0.670250</td>\n",
       "      <td>0.464824</td>\n",
       "      <td>1</td>\n",
       "    </tr>\n",
       "    <tr>\n",
       "      <th>4</th>\n",
       "      <td>2023-09-06op mainnet</td>\n",
       "      <td>2023-09-06 00:00:00+00:00</td>\n",
       "      <td>OP Mainnet</td>\n",
       "      <td>86400.0</td>\n",
       "      <td>616</td>\n",
       "      <td>24</td>\n",
       "      <td>71236352.0</td>\n",
       "      <td>19.110582</td>\n",
       "      <td>18.172530</td>\n",
       "      <td>1.885265e+01</td>\n",
       "      <td>...</td>\n",
       "      <td>361.0</td>\n",
       "      <td>1.827877e+09</td>\n",
       "      <td>152566694.0</td>\n",
       "      <td>1.827877e+09</td>\n",
       "      <td>141179234.0</td>\n",
       "      <td>1.455955e+11</td>\n",
       "      <td>33.899695</td>\n",
       "      <td>0.628893</td>\n",
       "      <td>0.466919</td>\n",
       "      <td>2</td>\n",
       "    </tr>\n",
       "    <tr>\n",
       "      <th>5</th>\n",
       "      <td>2023-09-06base</td>\n",
       "      <td>2023-09-06 00:00:00+00:00</td>\n",
       "      <td>Base</td>\n",
       "      <td>86400.0</td>\n",
       "      <td>1424</td>\n",
       "      <td>24</td>\n",
       "      <td>57450098.0</td>\n",
       "      <td>19.107476</td>\n",
       "      <td>17.935865</td>\n",
       "      <td>1.899765e+01</td>\n",
       "      <td>...</td>\n",
       "      <td>577.0</td>\n",
       "      <td>1.453732e+09</td>\n",
       "      <td>113272698.0</td>\n",
       "      <td>1.453732e+09</td>\n",
       "      <td>101784370.0</td>\n",
       "      <td>2.212035e+11</td>\n",
       "      <td>32.901866</td>\n",
       "      <td>0.650960</td>\n",
       "      <td>0.507184</td>\n",
       "      <td>2</td>\n",
       "    </tr>\n",
       "    <tr>\n",
       "      <th>...</th>\n",
       "      <td>...</td>\n",
       "      <td>...</td>\n",
       "      <td>...</td>\n",
       "      <td>...</td>\n",
       "      <td>...</td>\n",
       "      <td>...</td>\n",
       "      <td>...</td>\n",
       "      <td>...</td>\n",
       "      <td>...</td>\n",
       "      <td>...</td>\n",
       "      <td>...</td>\n",
       "      <td>...</td>\n",
       "      <td>...</td>\n",
       "      <td>...</td>\n",
       "      <td>...</td>\n",
       "      <td>...</td>\n",
       "      <td>...</td>\n",
       "      <td>...</td>\n",
       "      <td>...</td>\n",
       "      <td>...</td>\n",
       "      <td>...</td>\n",
       "    </tr>\n",
       "    <tr>\n",
       "      <th>314</th>\n",
       "      <td>2023-06-14op mainnet</td>\n",
       "      <td>2023-06-14 00:00:00+00:00</td>\n",
       "      <td>OP Mainnet</td>\n",
       "      <td>86400.0</td>\n",
       "      <td>846</td>\n",
       "      <td>24</td>\n",
       "      <td>93347122.0</td>\n",
       "      <td>22.388467</td>\n",
       "      <td>20.089097</td>\n",
       "      <td>2.182302e+01</td>\n",
       "      <td>...</td>\n",
       "      <td>481.0</td>\n",
       "      <td>2.523803e+09</td>\n",
       "      <td>201883259.0</td>\n",
       "      <td>2.523803e+09</td>\n",
       "      <td>190445463.0</td>\n",
       "      <td>1.965987e+11</td>\n",
       "      <td>55.608184</td>\n",
       "      <td>0.597109</td>\n",
       "      <td>0.462382</td>\n",
       "      <td>86</td>\n",
       "    </tr>\n",
       "    <tr>\n",
       "      <th>316</th>\n",
       "      <td>2023-06-13op mainnet</td>\n",
       "      <td>2023-06-13 00:00:00+00:00</td>\n",
       "      <td>OP Mainnet</td>\n",
       "      <td>86400.0</td>\n",
       "      <td>783</td>\n",
       "      <td>24</td>\n",
       "      <td>85583465.0</td>\n",
       "      <td>17.184042</td>\n",
       "      <td>16.949245</td>\n",
       "      <td>1.703237e+01</td>\n",
       "      <td>...</td>\n",
       "      <td>430.0</td>\n",
       "      <td>2.251531e+09</td>\n",
       "      <td>187008884.0</td>\n",
       "      <td>2.251531e+09</td>\n",
       "      <td>175594140.0</td>\n",
       "      <td>1.736718e+11</td>\n",
       "      <td>33.476594</td>\n",
       "      <td>0.613762</td>\n",
       "      <td>0.457644</td>\n",
       "      <td>87</td>\n",
       "    </tr>\n",
       "    <tr>\n",
       "      <th>318</th>\n",
       "      <td>2023-06-12op mainnet</td>\n",
       "      <td>2023-06-12 00:00:00+00:00</td>\n",
       "      <td>OP Mainnet</td>\n",
       "      <td>86400.0</td>\n",
       "      <td>753</td>\n",
       "      <td>24</td>\n",
       "      <td>81822522.0</td>\n",
       "      <td>17.964138</td>\n",
       "      <td>17.094217</td>\n",
       "      <td>1.779595e+01</td>\n",
       "      <td>...</td>\n",
       "      <td>470.0</td>\n",
       "      <td>2.173674e+09</td>\n",
       "      <td>186071777.0</td>\n",
       "      <td>2.173674e+09</td>\n",
       "      <td>174641833.0</td>\n",
       "      <td>1.592237e+11</td>\n",
       "      <td>31.749409</td>\n",
       "      <td>0.607850</td>\n",
       "      <td>0.439736</td>\n",
       "      <td>88</td>\n",
       "    </tr>\n",
       "    <tr>\n",
       "      <th>319</th>\n",
       "      <td>2023-06-11op mainnet</td>\n",
       "      <td>2023-06-11 00:00:00+00:00</td>\n",
       "      <td>OP Mainnet</td>\n",
       "      <td>86400.0</td>\n",
       "      <td>698</td>\n",
       "      <td>24</td>\n",
       "      <td>75076007.0</td>\n",
       "      <td>17.448444</td>\n",
       "      <td>16.546322</td>\n",
       "      <td>1.713917e+01</td>\n",
       "      <td>...</td>\n",
       "      <td>446.0</td>\n",
       "      <td>2.022271e+09</td>\n",
       "      <td>176495625.0</td>\n",
       "      <td>2.022271e+09</td>\n",
       "      <td>165072977.0</td>\n",
       "      <td>1.470628e+11</td>\n",
       "      <td>29.800585</td>\n",
       "      <td>0.599574</td>\n",
       "      <td>0.425370</td>\n",
       "      <td>89</td>\n",
       "    </tr>\n",
       "    <tr>\n",
       "      <th>320</th>\n",
       "      <td>2023-06-10op mainnet</td>\n",
       "      <td>2023-06-10 00:00:00+00:00</td>\n",
       "      <td>OP Mainnet</td>\n",
       "      <td>86400.0</td>\n",
       "      <td>761</td>\n",
       "      <td>24</td>\n",
       "      <td>82801904.0</td>\n",
       "      <td>25.358090</td>\n",
       "      <td>22.331480</td>\n",
       "      <td>2.469387e+01</td>\n",
       "      <td>...</td>\n",
       "      <td>486.0</td>\n",
       "      <td>2.185464e+09</td>\n",
       "      <td>185772721.0</td>\n",
       "      <td>2.185464e+09</td>\n",
       "      <td>174329561.0</td>\n",
       "      <td>1.885652e+11</td>\n",
       "      <td>60.743970</td>\n",
       "      <td>0.611782</td>\n",
       "      <td>0.445716</td>\n",
       "      <td>90</td>\n",
       "    </tr>\n",
       "  </tbody>\n",
       "</table>\n",
       "<p>183 rows × 30 columns</p>\n",
       "</div>"
      ],
      "text/plain": [
       "                    join_id                        dt         chain  \\\n",
       "0      2023-09-07op mainnet 2023-09-07 00:00:00+00:00    OP Mainnet   \n",
       "1            2023-09-07base 2023-09-07 00:00:00+00:00          Base   \n",
       "2    2023-09-07zora network 2023-09-07 00:00:00+00:00  Zora Network   \n",
       "4      2023-09-06op mainnet 2023-09-06 00:00:00+00:00    OP Mainnet   \n",
       "5            2023-09-06base 2023-09-06 00:00:00+00:00          Base   \n",
       "..                      ...                       ...           ...   \n",
       "314    2023-06-14op mainnet 2023-06-14 00:00:00+00:00    OP Mainnet   \n",
       "316    2023-06-13op mainnet 2023-06-13 00:00:00+00:00    OP Mainnet   \n",
       "318    2023-06-12op mainnet 2023-06-12 00:00:00+00:00    OP Mainnet   \n",
       "319    2023-06-11op mainnet 2023-06-11 00:00:00+00:00    OP Mainnet   \n",
       "320    2023-06-10op mainnet 2023-06-10 00:00:00+00:00    OP Mainnet   \n",
       "\n",
       "     active_secs_per_day  num_l1_txs_inbox  num_l1_txs_output  \\\n",
       "0                86400.0               614                 24   \n",
       "1                86400.0              1431                 24   \n",
       "2                86400.0               183                 24   \n",
       "4                86400.0               616                 24   \n",
       "5                86400.0              1424                 24   \n",
       "..                   ...               ...                ...   \n",
       "314              86400.0               846                 24   \n",
       "316              86400.0               783                 24   \n",
       "318              86400.0               753                 24   \n",
       "319              86400.0               698                 24   \n",
       "320              86400.0               761                 24   \n",
       "\n",
       "     calldata_bytes_l1_inbox  avg_l1_gas_price_on_l1_inbox  \\\n",
       "0                 70967575.0                     17.876005   \n",
       "1                 56170604.0                     18.223106   \n",
       "2                 13738192.0                     17.591169   \n",
       "4                 71236352.0                     19.110582   \n",
       "5                 57450098.0                     19.107476   \n",
       "..                       ...                           ...   \n",
       "314               93347122.0                     22.388467   \n",
       "316               85583465.0                     17.184042   \n",
       "318               81822522.0                     17.964138   \n",
       "319               75076007.0                     17.448444   \n",
       "320               82801904.0                     25.358090   \n",
       "\n",
       "     avg_l1_gas_price_on_l1_output  avg_l1_gas_price_on_l2  ...  \\\n",
       "0                        17.564603            1.763472e+01  ...   \n",
       "1                        17.189830            1.809397e+01  ...   \n",
       "2                        18.234762            1.133676e+10  ...   \n",
       "4                        18.172530            1.885265e+01  ...   \n",
       "5                        17.935865            1.899765e+01  ...   \n",
       "..                             ...                     ...  ...   \n",
       "314                      20.089097            2.182302e+01  ...   \n",
       "316                      16.949245            1.703237e+01  ...   \n",
       "318                      17.094217            1.779595e+01  ...   \n",
       "319                      16.546322            1.713917e+01  ...   \n",
       "320                      22.331480            2.469387e+01  ...   \n",
       "\n",
       "     l2_num_user_deposit_txs_per_day  l1_gas_used_on_l2  \\\n",
       "0                              449.0       1.797814e+09   \n",
       "1                              760.0       1.417440e+09   \n",
       "2                               26.0       3.326724e+08   \n",
       "4                              361.0       1.827877e+09   \n",
       "5                              577.0       1.453732e+09   \n",
       "..                               ...                ...   \n",
       "314                            481.0       2.523803e+09   \n",
       "316                            430.0       2.251531e+09   \n",
       "318                            470.0       2.173674e+09   \n",
       "319                            446.0       2.022271e+09   \n",
       "320                            486.0       2.185464e+09   \n",
       "\n",
       "     calldata_bytes_l2_per_day  l1_gas_used_user_txs_l2_per_day  \\\n",
       "0                  149355858.0                     1.797814e+09   \n",
       "1                  110999142.0                     1.417440e+09   \n",
       "2                   29555694.0                     3.326724e+08   \n",
       "4                  152566694.0                     1.827877e+09   \n",
       "5                  113272698.0                     1.453732e+09   \n",
       "..                         ...                              ...   \n",
       "314                201883259.0                     2.523803e+09   \n",
       "316                187008884.0                     2.251531e+09   \n",
       "318                186071777.0                     2.173674e+09   \n",
       "319                176495625.0                     2.022271e+09   \n",
       "320                185772721.0                     2.185464e+09   \n",
       "\n",
       "     calldata_bytes_user_txs_l2_per_day   l2_gas_used  l2_eth_fees_per_day  \\\n",
       "0                           137925070.0  1.373005e+11            31.358216   \n",
       "1                            99428281.0  2.211692e+11            32.802708   \n",
       "2                            18305698.0  6.944849e+10            11.796937   \n",
       "4                           141179234.0  1.455955e+11            33.899695   \n",
       "5                           101784370.0  2.212035e+11            32.901866   \n",
       "..                                  ...           ...                  ...   \n",
       "314                         190445463.0  1.965987e+11            55.608184   \n",
       "316                         175594140.0  1.736718e+11            33.476594   \n",
       "318                         174641833.0  1.592237e+11            31.749409   \n",
       "319                         165072977.0  1.470628e+11            29.800585   \n",
       "320                         174329561.0  1.885652e+11            60.743970   \n",
       "\n",
       "     gas_compression_ratio  bytes_compression_ratio  dt_rank  \n",
       "0                 0.636979                 0.475158        1  \n",
       "1                 0.653330                 0.506045        1  \n",
       "2                 0.670250                 0.464824        1  \n",
       "4                 0.628893                 0.466919        2  \n",
       "5                 0.650960                 0.507184        2  \n",
       "..                     ...                      ...      ...  \n",
       "314               0.597109                 0.462382       86  \n",
       "316               0.613762                 0.457644       87  \n",
       "318               0.607850                 0.439736       88  \n",
       "319               0.599574                 0.425370       89  \n",
       "320               0.611782                 0.445716       90  \n",
       "\n",
       "[183 rows x 30 columns]"
      ]
     },
     "metadata": {},
     "output_type": "display_data"
    },
    {
     "data": {
      "application/vnd.plotly.v1+json": {
       "config": {
        "plotlyServerURL": "https://plot.ly"
       },
       "data": [
        {
         "hovertemplate": "chain=OP Mainnet<br>l1_gas_used_user_txs_l2_per_day=%{x}<br>l1_gas_used_inbox=%{y}<br>gas_compression_ratio=%{marker.size}<extra></extra>",
         "legendgroup": "OP Mainnet",
         "marker": {
          "color": "#636efa",
          "size": [
           0.6369792591968394,
           0.6288927383571395,
           0.6316803086677656,
           0.636583051376595,
           0.6420754782042577,
           0.6458976627119016,
           0.6623522790654056,
           0.6457912328710721,
           0.6522497089769667,
           0.6823568553463106,
           0.7638916369883476,
           0.6352814720846844,
           0.625925660944065,
           0.644454336480187,
           0.6323232851317713,
           0.6316546554358953,
           0.626798845675281,
           0.6256524493462025,
           0.6327592926861472,
           0.6381055440653646,
           0.6483059624801706,
           0.6473863666228297,
           0.639615222044991,
           0.6484974513478903,
           0.6818113278129606,
           0.6286616015843254,
           0.619583677509803,
           0.6429552569435163,
           0.6293944581917041,
           0.6322175020621632,
           0.6476322584231179,
           0.6689378743857274,
           0.6130742010602457,
           0.6061064789493976,
           0.6026113817027114,
           0.602893699164668,
           0.5983587145681064,
           0.6065454681553281,
           0.5989646857908922,
           0.5823775862178309,
           0.5755718612469104,
           0.574547264404579,
           0.5269758495487037,
           0.5591007404480739,
           0.5366475101060633,
           0.5540318023231858,
           0.5478036782774166,
           0.536597329281706,
           0.5751877670710164,
           0.6099208739642692,
           0.6098580331497064,
           0.6090132104800619,
           0.5823810261701383,
           0.5941475024596766,
           0.5966670249158078,
           0.6261354205972813,
           0.6176579569837813,
           0.6052885550223321,
           0.5985302902558145,
           0.5977972598878272,
           0.5779152138089039,
           0.5890673585390295,
           0.6138686494608272,
           0.6248904813507903,
           0.6250415895255692,
           0.6041355828893786,
           0.601137687758418,
           0.5960249722634353,
           0.5533917513569558,
           0.6189098816729458,
           0.592497625355763,
           0.5743195859058343,
           0.5672540372363877,
           0.5970032954182212,
           0.6092569789688866,
           0.6203939964863054,
           0.616361902616871,
           0.6104580676154677,
           0.6055606584188247,
           0.5988775127045141,
           0.6044237482510575,
           0.5935688568631194,
           0.6004433890228263,
           0.5983712399374007,
           0.6091032765645183,
           0.5971085021885331,
           0.6137623316773991,
           0.6078501693524124,
           0.599573743021245,
           0.6117816607954804
          ],
          "sizemode": "area",
          "sizeref": 0.002484795612402624,
          "symbol": "circle"
         },
         "mode": "markers",
         "name": "OP Mainnet",
         "orientation": "v",
         "showlegend": true,
         "type": "scatter",
         "x": [
          1797814468,
          1827877280,
          1733534044,
          1588360692,
          1427851988,
          1601747428,
          1865555148,
          2219690592,
          2078588052,
          2535535772,
          2943488808,
          1584265596,
          1624038488,
          1658240852,
          1939386388,
          2175503396,
          2073245388,
          2074992500,
          1908640916,
          2017593384,
          2288132792,
          2883310592,
          3887868472,
          6483200252,
          3828842880,
          2042855108,
          1985401076,
          2393027576,
          2683537648,
          2992013416,
          4659603188,
          4570945484,
          2543750876,
          3012765188,
          3532204576,
          3556359184,
          3201669556,
          3723713724,
          3719761176,
          3406542324,
          3549332484,
          3643590468,
          5585550280,
          4851365716,
          5340692872,
          4059129116,
          2925933088,
          3034940532,
          2470240908,
          2687169628,
          2562964236,
          2451479420,
          2708720568,
          2277462008,
          2598898996,
          2864925128,
          2593799908,
          2333434208,
          2350755320,
          2344435992,
          2357913776,
          2318607236,
          1832748320,
          1981680760,
          1585940188,
          2145848708,
          2339230936,
          2224651848,
          2567022368,
          2534681540,
          2647579752,
          2892121308,
          3114544652,
          2771684620,
          2544883820,
          2227030216,
          2649823912,
          2651978876,
          2773218644,
          2369805708,
          1994122156,
          1854492700,
          1925738248,
          2115516508,
          2294596660,
          2523802844,
          2251530680,
          2173674380,
          2022271172,
          2185464040
         ],
         "xaxis": "x",
         "y": [
          1145170528,
          1149538748,
          1095039320,
          1011123496,
          916788748,
          1034564920,
          1235654704,
          1433456724,
          1355758452,
          1730140216,
          2248506484,
          1006454580,
          1016527364,
          1068660508,
          1226319172,
          1374166848,
          1299507816,
          1298224140,
          1207710276,
          1287437524,
          1483410132,
          1866615968,
          2486739856,
          4204338840,
          2610548448,
          1284264564,
          1230122100,
          1538609660,
          1689003724,
          1891603248,
          3017709336,
          3057678556,
          1559508036,
          1826056500,
          2128546680,
          2144106544,
          1915746880,
          2258601684,
          2228005584,
          1983893896,
          2042895904,
          2093414936,
          2943450104,
          2712402164,
          2866069532,
          2248886620,
          1602836908,
          1628540984,
          1420852352,
          1638960848,
          1563044328,
          1492983352,
          1577507464,
          1353148364,
          1550677332,
          1793831100,
          1602081152,
          1412401020,
          1406998264,
          1401497412,
          1362674244,
          1365815840,
          1125066736,
          1238333444,
          991278576,
          1296383560,
          1406199876,
          1325948056,
          1420569004,
          1568739452,
          1568684716,
          1661001912,
          1766738028,
          1654704852,
          1550488228,
          1381636176,
          1633250508,
          1618921900,
          1679352108,
          1419223348,
          1205294788,
          1100769112,
          1156296800,
          1265864236,
          1397646344,
          1506984136,
          1381904720,
          1321268340,
          1212500696,
          1337026820
         ],
         "yaxis": "y"
        },
        {
         "hovertemplate": "chain=Base<br>l1_gas_used_user_txs_l2_per_day=%{x}<br>l1_gas_used_inbox=%{y}<br>gas_compression_ratio=%{marker.size}<extra></extra>",
         "legendgroup": "Base",
         "marker": {
          "color": "#EF553B",
          "size": [
           0.6533297321359564,
           0.6509596342007086,
           0.6415378930769602,
           0.6526231846899266,
           0.6643164290139473,
           0.6624897265196352,
           0.6633831320036564,
           0.6440568797163835,
           0.6357925264025441,
           0.6232466035381871,
           0.6239799655208106,
           0.6248732264703654,
           0.6437734935525392,
           0.596991826237899,
           0.6057759589406139,
           0.594588339959612,
           0.5772606456291945,
           0.560114053065751,
           0.5909062116534498,
           0.6228596450729081,
           0.6585677747663877,
           0.6509662743660976,
           0.6460576087019868,
           0.6182048763348468,
           0.603142374850007,
           0.6099253779116961,
           0.6160460809774924,
           0.6114015713220653,
           0.5963085873079382,
           0.5931782637263202,
           0.6110737508003095,
           0.607920045227735,
           0.6308603103760037,
           0.6196854541618404,
           0.60950158744066,
           0.5378773146727404,
           0.6487023061864757,
           0.6381872428101217,
           0.5785490270417297,
           0.5525170855059184,
           0.9939182449610495,
           0.9751917427831716,
           0.7969344250160368,
           0.8227490399105394,
           0.7232981975866489,
           0.6859022196741208,
           0.7695104927131055,
           0.7968966815101508,
           0.7442598950538177,
           0.9777913407574317,
           0.9219686274372277
          ],
          "sizemode": "area",
          "sizeref": 0.002484795612402624,
          "symbol": "circle"
         },
         "mode": "markers",
         "name": "Base",
         "orientation": "v",
         "showlegend": true,
         "type": "scatter",
         "x": [
          1417439664,
          1453731848,
          1481678040,
          1359355372,
          1259588364,
          1275833460,
          1426713328,
          2048394180,
          1624778652,
          1565542112,
          1533664824,
          1673744516,
          1567113996,
          2419652512,
          2698458656,
          2859008416,
          3255631712,
          4395649312,
          2819605012,
          2205816400,
          1658064852,
          1486342648,
          1765986396,
          2090139812,
          2141643668,
          2157686064,
          1965204840,
          2354520236,
          2580161904,
          2051333244,
          1472299196,
          1530628936,
          1278989340,
          1222326648,
          1146643176,
          1804413396,
          728572480,
          777033884,
          2357978004,
          2536891808,
          68405912,
          72533108,
          113912464,
          108339904,
          137868708,
          159240132,
          122976392,
          107954888,
          129850936,
          75932184,
          98091572
         ],
         "xaxis": "x",
         "y": [
          926055476,
          946320752,
          950552608,
          887146832,
          836765244,
          845226560,
          946457556,
          1319282364,
          1033022124,
          975718804,
          956976124,
          1045878136,
          1008866452,
          1444512772,
          1634661380,
          1699933068,
          1879348064,
          2462064952,
          1666122116,
          1373914020,
          1091948080,
          967558936,
          1140928948,
          1292134624,
          1291716048,
          1316027488,
          1210656740,
          1439557372,
          1538572700,
          1216806292,
          899683392,
          930500012,
          806863612,
          757458044,
          698880836,
          970553032,
          472626648,
          495893112,
          1364205880,
          1401676068,
          67989884,
          70733688,
          90780764,
          89136552,
          99720188,
          109223160,
          94631624,
          86028892,
          96642844,
          74245832,
          90437352
         ],
         "yaxis": "y"
        },
        {
         "hovertemplate": "chain=Zora Network<br>l1_gas_used_user_txs_l2_per_day=%{x}<br>l1_gas_used_inbox=%{y}<br>gas_compression_ratio=%{marker.size}<extra></extra>",
         "legendgroup": "Zora Network",
         "marker": {
          "color": "#00cc96",
          "size": [
           0.6702499872877956,
           0.6570275892675111,
           0.6794633465635096,
           0.6872388034029516,
           0.6722565095085852,
           0.6793360250451858,
           0.6751134134522516,
           0.678006137242025,
           0.7120501272206365,
           0.7196785220904297,
           0.7161923154538071,
           0.6776823390749205,
           0.7132596149534152,
           0.7218728667072098,
           0.6813320716914013,
           0.7015500381641802,
           0.7552838617207296,
           0.7164850347373173,
           0.7279903473939301,
           0.7150289076437932,
           0.6420158993001036,
           0.670536811733899,
           0.6604633480000703,
           0.6569503754772517,
           0.7018004574274452,
           0.7333866475546056,
           0.7585970530450564,
           0.785873913282781,
           0.7087171527756118,
           0.7563784852075496,
           0.872823838056046,
           0.8077381629993535,
           0.799716173360711,
           0.7943129031014127,
           0.8318278925546165,
           0.9072467474743624,
           0.963271726615512,
           0.8640256956141963,
           0.8005721842078599,
           0.837837238338577,
           0.9886400411488181,
           0.9808546065846737
          ],
          "sizemode": "area",
          "sizeref": 0.002484795612402624,
          "symbol": "circle"
         },
         "mode": "markers",
         "name": "Zora Network",
         "orientation": "v",
         "showlegend": true,
         "type": "scatter",
         "x": [
          332672436,
          379702868,
          306869180,
          275112696,
          310097448,
          303877004,
          271952748,
          285544548,
          232504732,
          225919100,
          215759260,
          222732840,
          244041536,
          188546552,
          244692776,
          278591076,
          190602452,
          225331160,
          209753924,
          225748596,
          375139532,
          308612032,
          337587472,
          298542720,
          212700836,
          158436776,
          144813344,
          126745024,
          164665968,
          136624288,
          101340344,
          123753816,
          117282860,
          118043496,
          102422716,
          87708148,
          76604200,
          94485852,
          116654740,
          106936092,
          71762936,
          73199436
         ],
         "xaxis": "x",
         "y": [
          222973696,
          249475260,
          208506360,
          189068120,
          208465028,
          206434596,
          183598948,
          193600956,
          165555024,
          162589124,
          154525124,
          150942112,
          174064972,
          136106640,
          166717036,
          195445580,
          143958956,
          161446404,
          152698832,
          161416772,
          240845544,
          206935728,
          222964152,
          196127752,
          149273544,
          116195416,
          109854976,
          99605608,
          116701596,
          103339672,
          88452268,
          99960680,
          93793000,
          93763472,
          85198072,
          79572932,
          73790660,
          81638204,
          93390540,
          89595040,
          70947712,
          71798004
         ],
         "yaxis": "y"
        }
       ],
       "layout": {
        "legend": {
         "itemsizing": "constant",
         "title": {
          "text": "chain"
         },
         "tracegroupgap": 0
        },
        "template": {
         "data": {
          "bar": [
           {
            "error_x": {
             "color": "#2a3f5f"
            },
            "error_y": {
             "color": "#2a3f5f"
            },
            "marker": {
             "line": {
              "color": "#E5ECF6",
              "width": 0.5
             },
             "pattern": {
              "fillmode": "overlay",
              "size": 10,
              "solidity": 0.2
             }
            },
            "type": "bar"
           }
          ],
          "barpolar": [
           {
            "marker": {
             "line": {
              "color": "#E5ECF6",
              "width": 0.5
             },
             "pattern": {
              "fillmode": "overlay",
              "size": 10,
              "solidity": 0.2
             }
            },
            "type": "barpolar"
           }
          ],
          "carpet": [
           {
            "aaxis": {
             "endlinecolor": "#2a3f5f",
             "gridcolor": "white",
             "linecolor": "white",
             "minorgridcolor": "white",
             "startlinecolor": "#2a3f5f"
            },
            "baxis": {
             "endlinecolor": "#2a3f5f",
             "gridcolor": "white",
             "linecolor": "white",
             "minorgridcolor": "white",
             "startlinecolor": "#2a3f5f"
            },
            "type": "carpet"
           }
          ],
          "choropleth": [
           {
            "colorbar": {
             "outlinewidth": 0,
             "ticks": ""
            },
            "type": "choropleth"
           }
          ],
          "contour": [
           {
            "colorbar": {
             "outlinewidth": 0,
             "ticks": ""
            },
            "colorscale": [
             [
              0,
              "#0d0887"
             ],
             [
              0.1111111111111111,
              "#46039f"
             ],
             [
              0.2222222222222222,
              "#7201a8"
             ],
             [
              0.3333333333333333,
              "#9c179e"
             ],
             [
              0.4444444444444444,
              "#bd3786"
             ],
             [
              0.5555555555555556,
              "#d8576b"
             ],
             [
              0.6666666666666666,
              "#ed7953"
             ],
             [
              0.7777777777777778,
              "#fb9f3a"
             ],
             [
              0.8888888888888888,
              "#fdca26"
             ],
             [
              1,
              "#f0f921"
             ]
            ],
            "type": "contour"
           }
          ],
          "contourcarpet": [
           {
            "colorbar": {
             "outlinewidth": 0,
             "ticks": ""
            },
            "type": "contourcarpet"
           }
          ],
          "heatmap": [
           {
            "colorbar": {
             "outlinewidth": 0,
             "ticks": ""
            },
            "colorscale": [
             [
              0,
              "#0d0887"
             ],
             [
              0.1111111111111111,
              "#46039f"
             ],
             [
              0.2222222222222222,
              "#7201a8"
             ],
             [
              0.3333333333333333,
              "#9c179e"
             ],
             [
              0.4444444444444444,
              "#bd3786"
             ],
             [
              0.5555555555555556,
              "#d8576b"
             ],
             [
              0.6666666666666666,
              "#ed7953"
             ],
             [
              0.7777777777777778,
              "#fb9f3a"
             ],
             [
              0.8888888888888888,
              "#fdca26"
             ],
             [
              1,
              "#f0f921"
             ]
            ],
            "type": "heatmap"
           }
          ],
          "heatmapgl": [
           {
            "colorbar": {
             "outlinewidth": 0,
             "ticks": ""
            },
            "colorscale": [
             [
              0,
              "#0d0887"
             ],
             [
              0.1111111111111111,
              "#46039f"
             ],
             [
              0.2222222222222222,
              "#7201a8"
             ],
             [
              0.3333333333333333,
              "#9c179e"
             ],
             [
              0.4444444444444444,
              "#bd3786"
             ],
             [
              0.5555555555555556,
              "#d8576b"
             ],
             [
              0.6666666666666666,
              "#ed7953"
             ],
             [
              0.7777777777777778,
              "#fb9f3a"
             ],
             [
              0.8888888888888888,
              "#fdca26"
             ],
             [
              1,
              "#f0f921"
             ]
            ],
            "type": "heatmapgl"
           }
          ],
          "histogram": [
           {
            "marker": {
             "pattern": {
              "fillmode": "overlay",
              "size": 10,
              "solidity": 0.2
             }
            },
            "type": "histogram"
           }
          ],
          "histogram2d": [
           {
            "colorbar": {
             "outlinewidth": 0,
             "ticks": ""
            },
            "colorscale": [
             [
              0,
              "#0d0887"
             ],
             [
              0.1111111111111111,
              "#46039f"
             ],
             [
              0.2222222222222222,
              "#7201a8"
             ],
             [
              0.3333333333333333,
              "#9c179e"
             ],
             [
              0.4444444444444444,
              "#bd3786"
             ],
             [
              0.5555555555555556,
              "#d8576b"
             ],
             [
              0.6666666666666666,
              "#ed7953"
             ],
             [
              0.7777777777777778,
              "#fb9f3a"
             ],
             [
              0.8888888888888888,
              "#fdca26"
             ],
             [
              1,
              "#f0f921"
             ]
            ],
            "type": "histogram2d"
           }
          ],
          "histogram2dcontour": [
           {
            "colorbar": {
             "outlinewidth": 0,
             "ticks": ""
            },
            "colorscale": [
             [
              0,
              "#0d0887"
             ],
             [
              0.1111111111111111,
              "#46039f"
             ],
             [
              0.2222222222222222,
              "#7201a8"
             ],
             [
              0.3333333333333333,
              "#9c179e"
             ],
             [
              0.4444444444444444,
              "#bd3786"
             ],
             [
              0.5555555555555556,
              "#d8576b"
             ],
             [
              0.6666666666666666,
              "#ed7953"
             ],
             [
              0.7777777777777778,
              "#fb9f3a"
             ],
             [
              0.8888888888888888,
              "#fdca26"
             ],
             [
              1,
              "#f0f921"
             ]
            ],
            "type": "histogram2dcontour"
           }
          ],
          "mesh3d": [
           {
            "colorbar": {
             "outlinewidth": 0,
             "ticks": ""
            },
            "type": "mesh3d"
           }
          ],
          "parcoords": [
           {
            "line": {
             "colorbar": {
              "outlinewidth": 0,
              "ticks": ""
             }
            },
            "type": "parcoords"
           }
          ],
          "pie": [
           {
            "automargin": true,
            "type": "pie"
           }
          ],
          "scatter": [
           {
            "fillpattern": {
             "fillmode": "overlay",
             "size": 10,
             "solidity": 0.2
            },
            "type": "scatter"
           }
          ],
          "scatter3d": [
           {
            "line": {
             "colorbar": {
              "outlinewidth": 0,
              "ticks": ""
             }
            },
            "marker": {
             "colorbar": {
              "outlinewidth": 0,
              "ticks": ""
             }
            },
            "type": "scatter3d"
           }
          ],
          "scattercarpet": [
           {
            "marker": {
             "colorbar": {
              "outlinewidth": 0,
              "ticks": ""
             }
            },
            "type": "scattercarpet"
           }
          ],
          "scattergeo": [
           {
            "marker": {
             "colorbar": {
              "outlinewidth": 0,
              "ticks": ""
             }
            },
            "type": "scattergeo"
           }
          ],
          "scattergl": [
           {
            "marker": {
             "colorbar": {
              "outlinewidth": 0,
              "ticks": ""
             }
            },
            "type": "scattergl"
           }
          ],
          "scattermapbox": [
           {
            "marker": {
             "colorbar": {
              "outlinewidth": 0,
              "ticks": ""
             }
            },
            "type": "scattermapbox"
           }
          ],
          "scatterpolar": [
           {
            "marker": {
             "colorbar": {
              "outlinewidth": 0,
              "ticks": ""
             }
            },
            "type": "scatterpolar"
           }
          ],
          "scatterpolargl": [
           {
            "marker": {
             "colorbar": {
              "outlinewidth": 0,
              "ticks": ""
             }
            },
            "type": "scatterpolargl"
           }
          ],
          "scatterternary": [
           {
            "marker": {
             "colorbar": {
              "outlinewidth": 0,
              "ticks": ""
             }
            },
            "type": "scatterternary"
           }
          ],
          "surface": [
           {
            "colorbar": {
             "outlinewidth": 0,
             "ticks": ""
            },
            "colorscale": [
             [
              0,
              "#0d0887"
             ],
             [
              0.1111111111111111,
              "#46039f"
             ],
             [
              0.2222222222222222,
              "#7201a8"
             ],
             [
              0.3333333333333333,
              "#9c179e"
             ],
             [
              0.4444444444444444,
              "#bd3786"
             ],
             [
              0.5555555555555556,
              "#d8576b"
             ],
             [
              0.6666666666666666,
              "#ed7953"
             ],
             [
              0.7777777777777778,
              "#fb9f3a"
             ],
             [
              0.8888888888888888,
              "#fdca26"
             ],
             [
              1,
              "#f0f921"
             ]
            ],
            "type": "surface"
           }
          ],
          "table": [
           {
            "cells": {
             "fill": {
              "color": "#EBF0F8"
             },
             "line": {
              "color": "white"
             }
            },
            "header": {
             "fill": {
              "color": "#C8D4E3"
             },
             "line": {
              "color": "white"
             }
            },
            "type": "table"
           }
          ]
         },
         "layout": {
          "annotationdefaults": {
           "arrowcolor": "#2a3f5f",
           "arrowhead": 0,
           "arrowwidth": 1
          },
          "autotypenumbers": "strict",
          "coloraxis": {
           "colorbar": {
            "outlinewidth": 0,
            "ticks": ""
           }
          },
          "colorscale": {
           "diverging": [
            [
             0,
             "#8e0152"
            ],
            [
             0.1,
             "#c51b7d"
            ],
            [
             0.2,
             "#de77ae"
            ],
            [
             0.3,
             "#f1b6da"
            ],
            [
             0.4,
             "#fde0ef"
            ],
            [
             0.5,
             "#f7f7f7"
            ],
            [
             0.6,
             "#e6f5d0"
            ],
            [
             0.7,
             "#b8e186"
            ],
            [
             0.8,
             "#7fbc41"
            ],
            [
             0.9,
             "#4d9221"
            ],
            [
             1,
             "#276419"
            ]
           ],
           "sequential": [
            [
             0,
             "#0d0887"
            ],
            [
             0.1111111111111111,
             "#46039f"
            ],
            [
             0.2222222222222222,
             "#7201a8"
            ],
            [
             0.3333333333333333,
             "#9c179e"
            ],
            [
             0.4444444444444444,
             "#bd3786"
            ],
            [
             0.5555555555555556,
             "#d8576b"
            ],
            [
             0.6666666666666666,
             "#ed7953"
            ],
            [
             0.7777777777777778,
             "#fb9f3a"
            ],
            [
             0.8888888888888888,
             "#fdca26"
            ],
            [
             1,
             "#f0f921"
            ]
           ],
           "sequentialminus": [
            [
             0,
             "#0d0887"
            ],
            [
             0.1111111111111111,
             "#46039f"
            ],
            [
             0.2222222222222222,
             "#7201a8"
            ],
            [
             0.3333333333333333,
             "#9c179e"
            ],
            [
             0.4444444444444444,
             "#bd3786"
            ],
            [
             0.5555555555555556,
             "#d8576b"
            ],
            [
             0.6666666666666666,
             "#ed7953"
            ],
            [
             0.7777777777777778,
             "#fb9f3a"
            ],
            [
             0.8888888888888888,
             "#fdca26"
            ],
            [
             1,
             "#f0f921"
            ]
           ]
          },
          "colorway": [
           "#636efa",
           "#EF553B",
           "#00cc96",
           "#ab63fa",
           "#FFA15A",
           "#19d3f3",
           "#FF6692",
           "#B6E880",
           "#FF97FF",
           "#FECB52"
          ],
          "font": {
           "color": "#2a3f5f"
          },
          "geo": {
           "bgcolor": "white",
           "lakecolor": "white",
           "landcolor": "#E5ECF6",
           "showlakes": true,
           "showland": true,
           "subunitcolor": "white"
          },
          "hoverlabel": {
           "align": "left"
          },
          "hovermode": "closest",
          "mapbox": {
           "style": "light"
          },
          "paper_bgcolor": "white",
          "plot_bgcolor": "#E5ECF6",
          "polar": {
           "angularaxis": {
            "gridcolor": "white",
            "linecolor": "white",
            "ticks": ""
           },
           "bgcolor": "#E5ECF6",
           "radialaxis": {
            "gridcolor": "white",
            "linecolor": "white",
            "ticks": ""
           }
          },
          "scene": {
           "xaxis": {
            "backgroundcolor": "#E5ECF6",
            "gridcolor": "white",
            "gridwidth": 2,
            "linecolor": "white",
            "showbackground": true,
            "ticks": "",
            "zerolinecolor": "white"
           },
           "yaxis": {
            "backgroundcolor": "#E5ECF6",
            "gridcolor": "white",
            "gridwidth": 2,
            "linecolor": "white",
            "showbackground": true,
            "ticks": "",
            "zerolinecolor": "white"
           },
           "zaxis": {
            "backgroundcolor": "#E5ECF6",
            "gridcolor": "white",
            "gridwidth": 2,
            "linecolor": "white",
            "showbackground": true,
            "ticks": "",
            "zerolinecolor": "white"
           }
          },
          "shapedefaults": {
           "line": {
            "color": "#2a3f5f"
           }
          },
          "ternary": {
           "aaxis": {
            "gridcolor": "white",
            "linecolor": "white",
            "ticks": ""
           },
           "baxis": {
            "gridcolor": "white",
            "linecolor": "white",
            "ticks": ""
           },
           "bgcolor": "#E5ECF6",
           "caxis": {
            "gridcolor": "white",
            "linecolor": "white",
            "ticks": ""
           }
          },
          "title": {
           "x": 0.05
          },
          "xaxis": {
           "automargin": true,
           "gridcolor": "white",
           "linecolor": "white",
           "ticks": "",
           "title": {
            "standoff": 15
           },
           "zerolinecolor": "white",
           "zerolinewidth": 2
          },
          "yaxis": {
           "automargin": true,
           "gridcolor": "white",
           "linecolor": "white",
           "ticks": "",
           "title": {
            "standoff": 15
           },
           "zerolinecolor": "white",
           "zerolinewidth": 2
          }
         }
        },
        "title": {
         "text": "L1 Gas Used on each Layer by chain"
        },
        "xaxis": {
         "anchor": "y",
         "domain": [
          0,
          1
         ],
         "title": {
          "text": "l1_gas_used_user_txs_l2_per_day"
         }
        },
        "yaxis": {
         "anchor": "x",
         "domain": [
          0,
          1
         ],
         "title": {
          "text": "l1_gas_used_inbox"
         }
        }
       }
      }
     },
     "metadata": {},
     "output_type": "display_data"
    },
    {
     "data": {
      "application/vnd.plotly.v1+json": {
       "config": {
        "plotlyServerURL": "https://plot.ly"
       },
       "data": [
        {
         "hovertemplate": "chain=OP Mainnet<br>calldata_bytes_user_txs_l2_per_day=%{x}<br>calldata_bytes_l1_inbox=%{y}<br>bytes_compression_ratio=%{marker.size}<extra></extra>",
         "legendgroup": "OP Mainnet",
         "marker": {
          "color": "#636efa",
          "size": [
           0.47515762655924754,
           0.4669194182053915,
           0.4603606094603416,
           0.4566638550595467,
           0.4579830843101027,
           0.4566430655715691,
           0.48545345846399823,
           0.4793349710029783,
           0.4718406804434302,
           0.4909542220405837,
           0.5894900434143031,
           0.44888891268871217,
           0.4437604557945328,
           0.4681952777660927,
           0.4608500900279608,
           0.46591209475993034,
           0.4594858718719244,
           0.45113545764722857,
           0.44479462701298994,
           0.4554254787213971,
           0.47385992129714033,
           0.4937542682904131,
           0.4572977828147345,
           0.4758824682141995,
           0.5540702869896651,
           0.45767598450187386,
           0.44226168479930106,
           0.48079973138769666,
           0.4707958781311436,
           0.4695094499551788,
           0.49641236947767,
           0.5371654779463789,
           0.4343204592471301,
           0.4272840493995592,
           0.42442996849278186,
           0.4265030569519402,
           0.406599068483486,
           0.4325429208145336,
           0.423910222061866,
           0.4015227082513731,
           0.38826573987942054,
           0.39487870582201423,
           0.3540322878101899,
           0.3843060281443984,
           0.3682007306112302,
           0.3811281562109398,
           0.36174978811181335,
           0.3553094357382699,
           0.4052815241476065,
           0.4741977549173778,
           0.4543490203360879,
           0.4534669014716731,
           0.4157766529454715,
           0.4210989139113452,
           0.4291277403257951,
           0.4788030115694556,
           0.45092596088171893,
           0.43625410355301636,
           0.428678855708936,
           0.41867337561401763,
           0.3957744258886554,
           0.4090429438704737,
           0.43436111571088537,
           0.455303173209116,
           0.4497679988416286,
           0.43154072471758753,
           0.4374430290448548,
           0.4271851929825211,
           0.37384831428710774,
           0.4697269799515577,
           0.42648366763257406,
           0.4008399715355309,
           0.38672715538490493,
           0.42681013579789595,
           0.4422068688826833,
           0.45858403617594024,
           0.45390457197214074,
           0.4484838055228785,
           0.4375829474158213,
           0.4258897102872048,
           0.4332762509582015,
           0.4188971981809109,
           0.4247145873507721,
           0.4289644529672095,
           0.4784486951088184,
           0.46238168762670906,
           0.4576438464816463,
           0.43973633895053305,
           0.42537035691394615,
           0.44571616087810867
          ],
          "sizemode": "area",
          "sizeref": 0.0016952642988071664,
          "symbol": "circle"
         },
         "mode": "markers",
         "name": "OP Mainnet",
         "orientation": "v",
         "showlegend": true,
         "type": "scatter",
         "x": [
          137925070,
          141179234,
          136054013,
          125861546,
          112690603,
          129022539,
          146384245,
          173946284,
          166712256,
          207061609,
          225014750,
          127536486,
          130538587,
          130048966,
          153485162,
          171347109,
          163872757,
          166913584,
          156858566,
          163734002,
          182551464,
          222825652,
          325658899,
          536347095,
          280650115,
          162323343,
          160790327,
          186730899,
          210786711,
          238158428,
          365475993,
          341495155,
          210997602,
          253283896,
          299281475,
          300056951,
          280525139,
          312012203,
          314075371,
          294465098,
          314375280,
          316958414,
          503772168,
          425958201,
          471000939,
          354051894,
          262938393,
          272346608,
          205579669,
          202519735,
          201531027,
          192389991,
          223435803,
          187446756,
          212238714,
          220524901,
          208487260,
          189007152,
          191813359,
          195963777,
          201887788,
          195443559,
          149044594,
          157049271,
          125132348,
          174643241,
          187700810,
          180841398,
          223968558,
          195472837,
          216388306,
          245211157,
          271560354,
          228711674,
          205688377,
          175148720,
          211437942,
          212120234,
          226332498,
          194995142,
          160877196,
          151321614,
          157181302,
          171322200,
          169465021,
          190445463,
          175594140,
          174641833,
          165072977,
          174329561
         ],
         "xaxis": "x",
         "y": [
          70967575,
          71236352,
          67858412,
          62658748,
          56810383,
          64110421,
          76582705,
          88837497,
          84031209,
          107255425,
          139363033,
          62367102,
          62991530,
          66223249,
          75993613,
          85157898,
          80535861,
          80450286,
          74838396,
          79778425,
          91930542,
          115662281,
          154133869,
          260678325,
          161825298,
          79520865,
          76165479,
          95294939,
          104624041,
          117185643,
          187088490,
          189562132,
          96594306,
          113119116,
          131887059,
          132847327,
          118698721,
          139956447,
          138059313,
          122905522,
          126553918,
          129715547,
          182445770,
          168123287,
          177675137,
          139368835,
          99277171,
          100866968,
          87987947,
          101516786,
          96816429,
          92470513,
          97700518,
          83791262,
          96042756,
          111124317,
          99233615,
          87475605,
          87135841,
          86791857,
          84393213,
          84594125,
          69663820,
          76679552,
          61366272,
          80267497,
          87077307,
          82114135,
          87983908,
          97168244,
          97149577,
          102878874,
          109438155,
          102497685,
          96019912,
          85566933,
          101164449,
          100270453,
          104028102,
          87895138,
          74624959,
          68155267,
          71588096,
          78383983,
          86559815,
          93347122,
          85583465,
          81822522,
          75076007,
          82801904
         ],
         "yaxis": "y"
        },
        {
         "hovertemplate": "chain=Base<br>calldata_bytes_user_txs_l2_per_day=%{x}<br>calldata_bytes_l1_inbox=%{y}<br>bytes_compression_ratio=%{marker.size}<extra></extra>",
         "legendgroup": "Base",
         "marker": {
          "color": "#EF553B",
          "size": [
           0.5060453890715659,
           0.5071839817923292,
           0.4965119477876061,
           0.49164265439293975,
           0.5118983047049296,
           0.5060397752153758,
           0.5328319947258302,
           0.5300268706638869,
           0.4891253323235429,
           0.4798726765941054,
           0.48313143144697746,
           0.49198257741688217,
           0.5382930019563291,
           0.5718281427619232,
           0.5555513584213806,
           0.5579903418022529,
           0.6007978148408271,
           0.6781057195228666,
           0.6352953552342722,
           0.653764745613515,
           0.6063982959564738,
           0.5609454071678451,
           0.5458997259715863,
           0.553468473602433,
           0.5224876501837036,
           0.5532927453201117,
           0.5430796161820111,
           0.5743793711804164,
           0.580334220219555,
           0.47688175546121786,
           0.46947866599268345,
           0.508701489710754,
           0.5307634474410227,
           0.48378285591963804,
           0.4312157452407981,
           0.5623905803182915,
           0.48089986812519503,
           0.4822856483409914,
           0.5560463261009234,
           0.5457641013450486,
           0.26019656553281,
           0.2644315425371068,
           0.2831758551523204,
           0.2860367682788661,
           0.2941876326255025,
           0.301929128051273,
           0.2881891677036779,
           0.2785121842460116,
           0.2943552910049993,
           0.2787373140284966,
           0.33369066735139796
          ],
          "sizemode": "area",
          "sizeref": 0.0016952642988071664,
          "symbol": "circle"
         },
         "mode": "markers",
         "name": "Base",
         "orientation": "v",
         "showlegend": true,
         "type": "scatter",
         "x": [
          99428281,
          101784370,
          104823020,
          97779671,
          87256113,
          89440078,
          96102375,
          140544237,
          116902810,
          111890817,
          108474278,
          117490656,
          101882853,
          142771705,
          169014885,
          175260528,
          179882536,
          209813437,
          146799311,
          114644156,
          97769326,
          93013901,
          115835327,
          131219497,
          139277635,
          133687977,
          124535513,
          140437621,
          148988848,
          143579019,
          104206557,
          99146499,
          79974463,
          82399277,
          74187611,
          89928977,
          46433990,
          49332239,
          139171756,
          146330019,
          4420494,
          4822038,
          8198439,
          7645133,
          9381494,
          10828391,
          8703495,
          7459965,
          8719993,
          4789337,
          5202662
         ],
         "xaxis": "x",
         "y": [
          56170604,
          57450098,
          57757297,
          53724431,
          50574993,
          51112883,
          57447825,
          80804910,
          62874204,
          59286736,
          58107757,
          63681232,
          61359481,
          88661392,
          100567568,
          104635086,
          115875311,
          152317882,
          102576173,
          84242307,
          66554641,
          58762852,
          69615517,
          79086340,
          79061490,
          80615023,
          73992389,
          88353256,
          94484468,
          74396284,
          54522180,
          56452106,
          48704149,
          45602252,
          41930849,
          58870456,
          27749103,
          29212143,
          83639815,
          85994136,
          4073333,
          4245537,
          5503064,
          5400210,
          6064235,
          6660969,
          5745194,
          5205940,
          5872975,
          4465745,
          5484096
         ],
         "yaxis": "y"
        },
        {
         "hovertemplate": "chain=Zora Network<br>calldata_bytes_user_txs_l2_per_day=%{x}<br>calldata_bytes_l1_inbox=%{y}<br>bytes_compression_ratio=%{marker.size}<extra></extra>",
         "legendgroup": "Zora Network",
         "marker": {
          "color": "#00cc96",
          "size": [
           0.4648238677799276,
           0.4627540972386096,
           0.4339938356360047,
           0.43748474866875553,
           0.44838386161523236,
           0.4456219541363609,
           0.4078833591797351,
           0.40364410358626174,
           0.267786945016767,
           0.38795833570608296,
           0.39326181367331053,
           0.3737905184727669,
           0.45065791840350145,
           0.37008669359580293,
           0.421781869048763,
           0.5491180080619336,
           0.4365476544389028,
           0.41669491447534385,
           0.4096400530718835,
           0.4620906812501036,
           0.5617000943830718,
           0.5403554016366745,
           0.5549580967689417,
           0.48780076328129957,
           0.36333333320118244,
           0.30185883442876343,
           0.21675630271424678,
           0.2850877691067051,
           0.29989920380227975,
           0.29142742077907013,
           0.28073829488633384,
           0.30146518361032265,
           0.2809543423188272,
           0.2847441265746773,
           0.27623545123696314,
           0.27182875290943154,
           0.26119543383053884,
           0.2696418511987533,
           0.27755102521155756,
           0.28398266820343493,
           0.22424420934718106,
           0.24424477371419318
          ],
          "sizemode": "area",
          "sizeref": 0.0016952642988071664,
          "symbol": "circle"
         },
         "mode": "markers",
         "name": "Zora Network",
         "orientation": "v",
         "showlegend": true,
         "type": "scatter",
         "x": [
          18305698,
          22004278,
          18371362,
          15407565,
          17450168,
          17339659,
          16476524,
          18250488,
          14188099,
          13260384,
          12910639,
          13561498,
          12522457,
          11302009,
          13076938,
          10697796,
          9000115,
          12587567,
          11658147,
          10242088,
          15182600,
          12344836,
          13526840,
          13546672,
          13977284,
          12208870,
          11107793,
          9191859,
          12504927,
          10331935,
          7825561,
          8897724,
          8992179,
          8723509,
          7400543,
          6401617,
          5731490,
          7006677,
          9152290,
          7810292,
          5738378,
          5493748
         ],
         "xaxis": "x",
         "y": [
          13738192,
          15387993,
          12852612,
          11658668,
          12867182,
          12745545,
          11317117,
          11920521,
          10185168,
          10001105,
          9494378,
          9271429,
          10711063,
          8340159,
          10257490,
          12045686,
          8834132,
          9928926,
          9381173,
          9924560,
          14840112,
          12741321,
          13743888,
          12091978,
          9164607,
          7088647,
          6692521,
          6050032,
          7120197,
          6285490,
          5350423,
          6073361,
          5685430,
          5683550,
          5147791,
          4794020,
          4431623,
          4923956,
          5660304,
          5422540,
          4253557,
          4306857
         ],
         "yaxis": "y"
        }
       ],
       "layout": {
        "legend": {
         "itemsizing": "constant",
         "title": {
          "text": "chain"
         },
         "tracegroupgap": 0
        },
        "template": {
         "data": {
          "bar": [
           {
            "error_x": {
             "color": "#2a3f5f"
            },
            "error_y": {
             "color": "#2a3f5f"
            },
            "marker": {
             "line": {
              "color": "#E5ECF6",
              "width": 0.5
             },
             "pattern": {
              "fillmode": "overlay",
              "size": 10,
              "solidity": 0.2
             }
            },
            "type": "bar"
           }
          ],
          "barpolar": [
           {
            "marker": {
             "line": {
              "color": "#E5ECF6",
              "width": 0.5
             },
             "pattern": {
              "fillmode": "overlay",
              "size": 10,
              "solidity": 0.2
             }
            },
            "type": "barpolar"
           }
          ],
          "carpet": [
           {
            "aaxis": {
             "endlinecolor": "#2a3f5f",
             "gridcolor": "white",
             "linecolor": "white",
             "minorgridcolor": "white",
             "startlinecolor": "#2a3f5f"
            },
            "baxis": {
             "endlinecolor": "#2a3f5f",
             "gridcolor": "white",
             "linecolor": "white",
             "minorgridcolor": "white",
             "startlinecolor": "#2a3f5f"
            },
            "type": "carpet"
           }
          ],
          "choropleth": [
           {
            "colorbar": {
             "outlinewidth": 0,
             "ticks": ""
            },
            "type": "choropleth"
           }
          ],
          "contour": [
           {
            "colorbar": {
             "outlinewidth": 0,
             "ticks": ""
            },
            "colorscale": [
             [
              0,
              "#0d0887"
             ],
             [
              0.1111111111111111,
              "#46039f"
             ],
             [
              0.2222222222222222,
              "#7201a8"
             ],
             [
              0.3333333333333333,
              "#9c179e"
             ],
             [
              0.4444444444444444,
              "#bd3786"
             ],
             [
              0.5555555555555556,
              "#d8576b"
             ],
             [
              0.6666666666666666,
              "#ed7953"
             ],
             [
              0.7777777777777778,
              "#fb9f3a"
             ],
             [
              0.8888888888888888,
              "#fdca26"
             ],
             [
              1,
              "#f0f921"
             ]
            ],
            "type": "contour"
           }
          ],
          "contourcarpet": [
           {
            "colorbar": {
             "outlinewidth": 0,
             "ticks": ""
            },
            "type": "contourcarpet"
           }
          ],
          "heatmap": [
           {
            "colorbar": {
             "outlinewidth": 0,
             "ticks": ""
            },
            "colorscale": [
             [
              0,
              "#0d0887"
             ],
             [
              0.1111111111111111,
              "#46039f"
             ],
             [
              0.2222222222222222,
              "#7201a8"
             ],
             [
              0.3333333333333333,
              "#9c179e"
             ],
             [
              0.4444444444444444,
              "#bd3786"
             ],
             [
              0.5555555555555556,
              "#d8576b"
             ],
             [
              0.6666666666666666,
              "#ed7953"
             ],
             [
              0.7777777777777778,
              "#fb9f3a"
             ],
             [
              0.8888888888888888,
              "#fdca26"
             ],
             [
              1,
              "#f0f921"
             ]
            ],
            "type": "heatmap"
           }
          ],
          "heatmapgl": [
           {
            "colorbar": {
             "outlinewidth": 0,
             "ticks": ""
            },
            "colorscale": [
             [
              0,
              "#0d0887"
             ],
             [
              0.1111111111111111,
              "#46039f"
             ],
             [
              0.2222222222222222,
              "#7201a8"
             ],
             [
              0.3333333333333333,
              "#9c179e"
             ],
             [
              0.4444444444444444,
              "#bd3786"
             ],
             [
              0.5555555555555556,
              "#d8576b"
             ],
             [
              0.6666666666666666,
              "#ed7953"
             ],
             [
              0.7777777777777778,
              "#fb9f3a"
             ],
             [
              0.8888888888888888,
              "#fdca26"
             ],
             [
              1,
              "#f0f921"
             ]
            ],
            "type": "heatmapgl"
           }
          ],
          "histogram": [
           {
            "marker": {
             "pattern": {
              "fillmode": "overlay",
              "size": 10,
              "solidity": 0.2
             }
            },
            "type": "histogram"
           }
          ],
          "histogram2d": [
           {
            "colorbar": {
             "outlinewidth": 0,
             "ticks": ""
            },
            "colorscale": [
             [
              0,
              "#0d0887"
             ],
             [
              0.1111111111111111,
              "#46039f"
             ],
             [
              0.2222222222222222,
              "#7201a8"
             ],
             [
              0.3333333333333333,
              "#9c179e"
             ],
             [
              0.4444444444444444,
              "#bd3786"
             ],
             [
              0.5555555555555556,
              "#d8576b"
             ],
             [
              0.6666666666666666,
              "#ed7953"
             ],
             [
              0.7777777777777778,
              "#fb9f3a"
             ],
             [
              0.8888888888888888,
              "#fdca26"
             ],
             [
              1,
              "#f0f921"
             ]
            ],
            "type": "histogram2d"
           }
          ],
          "histogram2dcontour": [
           {
            "colorbar": {
             "outlinewidth": 0,
             "ticks": ""
            },
            "colorscale": [
             [
              0,
              "#0d0887"
             ],
             [
              0.1111111111111111,
              "#46039f"
             ],
             [
              0.2222222222222222,
              "#7201a8"
             ],
             [
              0.3333333333333333,
              "#9c179e"
             ],
             [
              0.4444444444444444,
              "#bd3786"
             ],
             [
              0.5555555555555556,
              "#d8576b"
             ],
             [
              0.6666666666666666,
              "#ed7953"
             ],
             [
              0.7777777777777778,
              "#fb9f3a"
             ],
             [
              0.8888888888888888,
              "#fdca26"
             ],
             [
              1,
              "#f0f921"
             ]
            ],
            "type": "histogram2dcontour"
           }
          ],
          "mesh3d": [
           {
            "colorbar": {
             "outlinewidth": 0,
             "ticks": ""
            },
            "type": "mesh3d"
           }
          ],
          "parcoords": [
           {
            "line": {
             "colorbar": {
              "outlinewidth": 0,
              "ticks": ""
             }
            },
            "type": "parcoords"
           }
          ],
          "pie": [
           {
            "automargin": true,
            "type": "pie"
           }
          ],
          "scatter": [
           {
            "fillpattern": {
             "fillmode": "overlay",
             "size": 10,
             "solidity": 0.2
            },
            "type": "scatter"
           }
          ],
          "scatter3d": [
           {
            "line": {
             "colorbar": {
              "outlinewidth": 0,
              "ticks": ""
             }
            },
            "marker": {
             "colorbar": {
              "outlinewidth": 0,
              "ticks": ""
             }
            },
            "type": "scatter3d"
           }
          ],
          "scattercarpet": [
           {
            "marker": {
             "colorbar": {
              "outlinewidth": 0,
              "ticks": ""
             }
            },
            "type": "scattercarpet"
           }
          ],
          "scattergeo": [
           {
            "marker": {
             "colorbar": {
              "outlinewidth": 0,
              "ticks": ""
             }
            },
            "type": "scattergeo"
           }
          ],
          "scattergl": [
           {
            "marker": {
             "colorbar": {
              "outlinewidth": 0,
              "ticks": ""
             }
            },
            "type": "scattergl"
           }
          ],
          "scattermapbox": [
           {
            "marker": {
             "colorbar": {
              "outlinewidth": 0,
              "ticks": ""
             }
            },
            "type": "scattermapbox"
           }
          ],
          "scatterpolar": [
           {
            "marker": {
             "colorbar": {
              "outlinewidth": 0,
              "ticks": ""
             }
            },
            "type": "scatterpolar"
           }
          ],
          "scatterpolargl": [
           {
            "marker": {
             "colorbar": {
              "outlinewidth": 0,
              "ticks": ""
             }
            },
            "type": "scatterpolargl"
           }
          ],
          "scatterternary": [
           {
            "marker": {
             "colorbar": {
              "outlinewidth": 0,
              "ticks": ""
             }
            },
            "type": "scatterternary"
           }
          ],
          "surface": [
           {
            "colorbar": {
             "outlinewidth": 0,
             "ticks": ""
            },
            "colorscale": [
             [
              0,
              "#0d0887"
             ],
             [
              0.1111111111111111,
              "#46039f"
             ],
             [
              0.2222222222222222,
              "#7201a8"
             ],
             [
              0.3333333333333333,
              "#9c179e"
             ],
             [
              0.4444444444444444,
              "#bd3786"
             ],
             [
              0.5555555555555556,
              "#d8576b"
             ],
             [
              0.6666666666666666,
              "#ed7953"
             ],
             [
              0.7777777777777778,
              "#fb9f3a"
             ],
             [
              0.8888888888888888,
              "#fdca26"
             ],
             [
              1,
              "#f0f921"
             ]
            ],
            "type": "surface"
           }
          ],
          "table": [
           {
            "cells": {
             "fill": {
              "color": "#EBF0F8"
             },
             "line": {
              "color": "white"
             }
            },
            "header": {
             "fill": {
              "color": "#C8D4E3"
             },
             "line": {
              "color": "white"
             }
            },
            "type": "table"
           }
          ]
         },
         "layout": {
          "annotationdefaults": {
           "arrowcolor": "#2a3f5f",
           "arrowhead": 0,
           "arrowwidth": 1
          },
          "autotypenumbers": "strict",
          "coloraxis": {
           "colorbar": {
            "outlinewidth": 0,
            "ticks": ""
           }
          },
          "colorscale": {
           "diverging": [
            [
             0,
             "#8e0152"
            ],
            [
             0.1,
             "#c51b7d"
            ],
            [
             0.2,
             "#de77ae"
            ],
            [
             0.3,
             "#f1b6da"
            ],
            [
             0.4,
             "#fde0ef"
            ],
            [
             0.5,
             "#f7f7f7"
            ],
            [
             0.6,
             "#e6f5d0"
            ],
            [
             0.7,
             "#b8e186"
            ],
            [
             0.8,
             "#7fbc41"
            ],
            [
             0.9,
             "#4d9221"
            ],
            [
             1,
             "#276419"
            ]
           ],
           "sequential": [
            [
             0,
             "#0d0887"
            ],
            [
             0.1111111111111111,
             "#46039f"
            ],
            [
             0.2222222222222222,
             "#7201a8"
            ],
            [
             0.3333333333333333,
             "#9c179e"
            ],
            [
             0.4444444444444444,
             "#bd3786"
            ],
            [
             0.5555555555555556,
             "#d8576b"
            ],
            [
             0.6666666666666666,
             "#ed7953"
            ],
            [
             0.7777777777777778,
             "#fb9f3a"
            ],
            [
             0.8888888888888888,
             "#fdca26"
            ],
            [
             1,
             "#f0f921"
            ]
           ],
           "sequentialminus": [
            [
             0,
             "#0d0887"
            ],
            [
             0.1111111111111111,
             "#46039f"
            ],
            [
             0.2222222222222222,
             "#7201a8"
            ],
            [
             0.3333333333333333,
             "#9c179e"
            ],
            [
             0.4444444444444444,
             "#bd3786"
            ],
            [
             0.5555555555555556,
             "#d8576b"
            ],
            [
             0.6666666666666666,
             "#ed7953"
            ],
            [
             0.7777777777777778,
             "#fb9f3a"
            ],
            [
             0.8888888888888888,
             "#fdca26"
            ],
            [
             1,
             "#f0f921"
            ]
           ]
          },
          "colorway": [
           "#636efa",
           "#EF553B",
           "#00cc96",
           "#ab63fa",
           "#FFA15A",
           "#19d3f3",
           "#FF6692",
           "#B6E880",
           "#FF97FF",
           "#FECB52"
          ],
          "font": {
           "color": "#2a3f5f"
          },
          "geo": {
           "bgcolor": "white",
           "lakecolor": "white",
           "landcolor": "#E5ECF6",
           "showlakes": true,
           "showland": true,
           "subunitcolor": "white"
          },
          "hoverlabel": {
           "align": "left"
          },
          "hovermode": "closest",
          "mapbox": {
           "style": "light"
          },
          "paper_bgcolor": "white",
          "plot_bgcolor": "#E5ECF6",
          "polar": {
           "angularaxis": {
            "gridcolor": "white",
            "linecolor": "white",
            "ticks": ""
           },
           "bgcolor": "#E5ECF6",
           "radialaxis": {
            "gridcolor": "white",
            "linecolor": "white",
            "ticks": ""
           }
          },
          "scene": {
           "xaxis": {
            "backgroundcolor": "#E5ECF6",
            "gridcolor": "white",
            "gridwidth": 2,
            "linecolor": "white",
            "showbackground": true,
            "ticks": "",
            "zerolinecolor": "white"
           },
           "yaxis": {
            "backgroundcolor": "#E5ECF6",
            "gridcolor": "white",
            "gridwidth": 2,
            "linecolor": "white",
            "showbackground": true,
            "ticks": "",
            "zerolinecolor": "white"
           },
           "zaxis": {
            "backgroundcolor": "#E5ECF6",
            "gridcolor": "white",
            "gridwidth": 2,
            "linecolor": "white",
            "showbackground": true,
            "ticks": "",
            "zerolinecolor": "white"
           }
          },
          "shapedefaults": {
           "line": {
            "color": "#2a3f5f"
           }
          },
          "ternary": {
           "aaxis": {
            "gridcolor": "white",
            "linecolor": "white",
            "ticks": ""
           },
           "baxis": {
            "gridcolor": "white",
            "linecolor": "white",
            "ticks": ""
           },
           "bgcolor": "#E5ECF6",
           "caxis": {
            "gridcolor": "white",
            "linecolor": "white",
            "ticks": ""
           }
          },
          "title": {
           "x": 0.05
          },
          "xaxis": {
           "automargin": true,
           "gridcolor": "white",
           "linecolor": "white",
           "ticks": "",
           "title": {
            "standoff": 15
           },
           "zerolinecolor": "white",
           "zerolinewidth": 2
          },
          "yaxis": {
           "automargin": true,
           "gridcolor": "white",
           "linecolor": "white",
           "ticks": "",
           "title": {
            "standoff": 15
           },
           "zerolinecolor": "white",
           "zerolinewidth": 2
          }
         }
        },
        "title": {
         "text": "Calldata Bytes on each Layer by chain"
        },
        "xaxis": {
         "anchor": "y",
         "domain": [
          0,
          1
         ],
         "title": {
          "text": "calldata_bytes_user_txs_l2_per_day"
         }
        },
        "yaxis": {
         "anchor": "x",
         "domain": [
          0,
          1
         ],
         "title": {
          "text": "calldata_bytes_l1_inbox"
         }
        }
       }
      }
     },
     "metadata": {},
     "output_type": "display_data"
    }
   ],
   "source": [
    "# Create the scatter plot\n",
    "combo_df_plot = combo_df[\n",
    "                        (~combo_df['gas_compression_ratio'].isna()) \n",
    "                         & (combo_df['gas_compression_ratio']<1) \n",
    "                         & (combo_df['active_secs_per_day'] == 86400)\n",
    "                         ]\n",
    "\n",
    "# combo_df_plot = combo_df[(~combo_df['bytes_compression_ratio'].isna())\n",
    "#                          & (combo_df['active_secs_per_day'] == 86400)]\n",
    "\n",
    "display(combo_df_plot)\n",
    "\n",
    "fig = px.scatter(combo_df_plot,\n",
    "                 x='l1_gas_used_user_txs_l2_per_day',#'l1_gas_used_on_l2',\n",
    "                 y='l1_gas_used_inbox',\n",
    "                 size = 'gas_compression_ratio',\n",
    "                 color='chain',\n",
    "                 title='L1 Gas Used on each Layer by chain')\n",
    "\n",
    "# Display the plot\n",
    "fig.show()\n",
    "\n",
    "##############\n",
    "\n",
    "fig_bytes = px.scatter(combo_df_plot,\n",
    "                 x='calldata_bytes_user_txs_l2_per_day',#'calldata_bytes_l2_per_day',\n",
    "                 y='calldata_bytes_l1_inbox',\n",
    "                 size = 'bytes_compression_ratio',\n",
    "                 color='chain',\n",
    "                 title='Calldata Bytes on each Layer by chain')\n",
    "\n",
    "fig_bytes.show()"
   ]
  },
  {
   "cell_type": "code",
   "execution_count": 82,
   "metadata": {},
   "outputs": [
    {
     "data": {
      "text/html": [
       "<div>\n",
       "<style scoped>\n",
       "    .dataframe tbody tr th:only-of-type {\n",
       "        vertical-align: middle;\n",
       "    }\n",
       "\n",
       "    .dataframe tbody tr th {\n",
       "        vertical-align: top;\n",
       "    }\n",
       "\n",
       "    .dataframe thead th {\n",
       "        text-align: right;\n",
       "    }\n",
       "</style>\n",
       "<table border=\"1\" class=\"dataframe\">\n",
       "  <thead>\n",
       "    <tr style=\"text-align: right;\">\n",
       "      <th></th>\n",
       "      <th>join_id</th>\n",
       "      <th>dt</th>\n",
       "      <th>chain</th>\n",
       "      <th>active_secs_per_day</th>\n",
       "      <th>num_l1_txs_inbox</th>\n",
       "      <th>num_l1_txs_output</th>\n",
       "      <th>calldata_bytes_l1_inbox</th>\n",
       "      <th>avg_l1_gas_price_on_l1_inbox</th>\n",
       "      <th>avg_l1_gas_price_on_l1_output</th>\n",
       "      <th>avg_l1_gas_price_on_l2</th>\n",
       "      <th>...</th>\n",
       "      <th>l2_num_user_deposit_txs_per_day</th>\n",
       "      <th>l1_gas_used_on_l2</th>\n",
       "      <th>calldata_bytes_l2_per_day</th>\n",
       "      <th>l1_gas_used_user_txs_l2_per_day</th>\n",
       "      <th>calldata_bytes_user_txs_l2_per_day</th>\n",
       "      <th>l2_gas_used</th>\n",
       "      <th>l2_eth_fees_per_day</th>\n",
       "      <th>gas_compression_ratio</th>\n",
       "      <th>bytes_compression_ratio</th>\n",
       "      <th>dt_rank</th>\n",
       "    </tr>\n",
       "  </thead>\n",
       "  <tbody>\n",
       "    <tr>\n",
       "      <th>99</th>\n",
       "      <td>2023-08-14public goods network</td>\n",
       "      <td>2023-08-14 00:00:00+00:00</td>\n",
       "      <td>Public Goods Network</td>\n",
       "      <td>86400.0</td>\n",
       "      <td>145</td>\n",
       "      <td>24</td>\n",
       "      <td>1883177.0</td>\n",
       "      <td>20.969477</td>\n",
       "      <td>20.444432</td>\n",
       "      <td>4.462198e+07</td>\n",
       "      <td>...</td>\n",
       "      <td>52.0</td>\n",
       "      <td>6.966840e+05</td>\n",
       "      <td>11300801.0</td>\n",
       "      <td>6.966840e+05</td>\n",
       "      <td>46961.0</td>\n",
       "      <td>4.324323e+10</td>\n",
       "      <td>0.033370</td>\n",
       "      <td>47.543994</td>\n",
       "      <td>0.166641</td>\n",
       "      <td>25</td>\n",
       "    </tr>\n",
       "    <tr>\n",
       "      <th>180</th>\n",
       "      <td>2023-07-24op mainnet</td>\n",
       "      <td>2023-07-24 00:00:00+00:00</td>\n",
       "      <td>OP Mainnet</td>\n",
       "      <td>86400.0</td>\n",
       "      <td>1222</td>\n",
       "      <td>24</td>\n",
       "      <td>139368835.0</td>\n",
       "      <td>34.602483</td>\n",
       "      <td>30.747022</td>\n",
       "      <td>3.455188e+01</td>\n",
       "      <td>...</td>\n",
       "      <td>955.0</td>\n",
       "      <td>4.059129e+09</td>\n",
       "      <td>365674466.0</td>\n",
       "      <td>4.059129e+09</td>\n",
       "      <td>354051894.0</td>\n",
       "      <td>1.868562e+11</td>\n",
       "      <td>116.038609</td>\n",
       "      <td>0.554032</td>\n",
       "      <td>0.381128</td>\n",
       "      <td>46</td>\n",
       "    </tr>\n",
       "    <tr>\n",
       "      <th>120</th>\n",
       "      <td>2023-08-08op mainnet</td>\n",
       "      <td>2023-08-08 00:00:00+00:00</td>\n",
       "      <td>OP Mainnet</td>\n",
       "      <td>86400.0</td>\n",
       "      <td>1594</td>\n",
       "      <td>24</td>\n",
       "      <td>187088490.0</td>\n",
       "      <td>23.122305</td>\n",
       "      <td>24.298956</td>\n",
       "      <td>2.310464e+01</td>\n",
       "      <td>...</td>\n",
       "      <td>406.0</td>\n",
       "      <td>4.659603e+09</td>\n",
       "      <td>376881201.0</td>\n",
       "      <td>4.659603e+09</td>\n",
       "      <td>365475993.0</td>\n",
       "      <td>1.995162e+11</td>\n",
       "      <td>94.102721</td>\n",
       "      <td>0.647632</td>\n",
       "      <td>0.496412</td>\n",
       "      <td>31</td>\n",
       "    </tr>\n",
       "    <tr>\n",
       "      <th>264</th>\n",
       "      <td>2023-07-01base</td>\n",
       "      <td>2023-07-01 00:00:00+00:00</td>\n",
       "      <td>Base</td>\n",
       "      <td>86400.0</td>\n",
       "      <td>1428</td>\n",
       "      <td>24</td>\n",
       "      <td>2034658.0</td>\n",
       "      <td>17.041905</td>\n",
       "      <td>15.960229</td>\n",
       "      <td>NaN</td>\n",
       "      <td>...</td>\n",
       "      <td>0.0</td>\n",
       "      <td>NaN</td>\n",
       "      <td>11232000.0</td>\n",
       "      <td>0.000000e+00</td>\n",
       "      <td>0.0</td>\n",
       "      <td>2.169690e+09</td>\n",
       "      <td>0.000000</td>\n",
       "      <td>NaN</td>\n",
       "      <td>0.181148</td>\n",
       "      <td>69</td>\n",
       "    </tr>\n",
       "    <tr>\n",
       "      <th>165</th>\n",
       "      <td>2023-07-28base</td>\n",
       "      <td>2023-07-28 00:00:00+00:00</td>\n",
       "      <td>Base</td>\n",
       "      <td>86400.0</td>\n",
       "      <td>398</td>\n",
       "      <td>25</td>\n",
       "      <td>4142318.0</td>\n",
       "      <td>34.784639</td>\n",
       "      <td>39.341341</td>\n",
       "      <td>3.038785e+01</td>\n",
       "      <td>...</td>\n",
       "      <td>14.0</td>\n",
       "      <td>6.728456e+07</td>\n",
       "      <td>15577663.0</td>\n",
       "      <td>6.728456e+07</td>\n",
       "      <td>4339332.0</td>\n",
       "      <td>3.876736e+09</td>\n",
       "      <td>3.764855</td>\n",
       "      <td>1.106144</td>\n",
       "      <td>0.265914</td>\n",
       "      <td>42</td>\n",
       "    </tr>\n",
       "  </tbody>\n",
       "</table>\n",
       "<p>5 rows × 30 columns</p>\n",
       "</div>"
      ],
      "text/plain": [
       "                            join_id                        dt  \\\n",
       "99   2023-08-14public goods network 2023-08-14 00:00:00+00:00   \n",
       "180            2023-07-24op mainnet 2023-07-24 00:00:00+00:00   \n",
       "120            2023-08-08op mainnet 2023-08-08 00:00:00+00:00   \n",
       "264                  2023-07-01base 2023-07-01 00:00:00+00:00   \n",
       "165                  2023-07-28base 2023-07-28 00:00:00+00:00   \n",
       "\n",
       "                    chain  active_secs_per_day  num_l1_txs_inbox  \\\n",
       "99   Public Goods Network              86400.0               145   \n",
       "180            OP Mainnet              86400.0              1222   \n",
       "120            OP Mainnet              86400.0              1594   \n",
       "264                  Base              86400.0              1428   \n",
       "165                  Base              86400.0               398   \n",
       "\n",
       "     num_l1_txs_output  calldata_bytes_l1_inbox  avg_l1_gas_price_on_l1_inbox  \\\n",
       "99                  24                1883177.0                     20.969477   \n",
       "180                 24              139368835.0                     34.602483   \n",
       "120                 24              187088490.0                     23.122305   \n",
       "264                 24                2034658.0                     17.041905   \n",
       "165                 25                4142318.0                     34.784639   \n",
       "\n",
       "     avg_l1_gas_price_on_l1_output  avg_l1_gas_price_on_l2  ...  \\\n",
       "99                       20.444432            4.462198e+07  ...   \n",
       "180                      30.747022            3.455188e+01  ...   \n",
       "120                      24.298956            2.310464e+01  ...   \n",
       "264                      15.960229                     NaN  ...   \n",
       "165                      39.341341            3.038785e+01  ...   \n",
       "\n",
       "     l2_num_user_deposit_txs_per_day  l1_gas_used_on_l2  \\\n",
       "99                              52.0       6.966840e+05   \n",
       "180                            955.0       4.059129e+09   \n",
       "120                            406.0       4.659603e+09   \n",
       "264                              0.0                NaN   \n",
       "165                             14.0       6.728456e+07   \n",
       "\n",
       "     calldata_bytes_l2_per_day  l1_gas_used_user_txs_l2_per_day  \\\n",
       "99                  11300801.0                     6.966840e+05   \n",
       "180                365674466.0                     4.059129e+09   \n",
       "120                376881201.0                     4.659603e+09   \n",
       "264                 11232000.0                     0.000000e+00   \n",
       "165                 15577663.0                     6.728456e+07   \n",
       "\n",
       "     calldata_bytes_user_txs_l2_per_day   l2_gas_used  l2_eth_fees_per_day  \\\n",
       "99                              46961.0  4.324323e+10             0.033370   \n",
       "180                         354051894.0  1.868562e+11           116.038609   \n",
       "120                         365475993.0  1.995162e+11            94.102721   \n",
       "264                                 0.0  2.169690e+09             0.000000   \n",
       "165                           4339332.0  3.876736e+09             3.764855   \n",
       "\n",
       "     gas_compression_ratio  bytes_compression_ratio  dt_rank  \n",
       "99               47.543994                 0.166641       25  \n",
       "180               0.554032                 0.381128       46  \n",
       "120               0.647632                 0.496412       31  \n",
       "264                    NaN                 0.181148       69  \n",
       "165               1.106144                 0.265914       42  \n",
       "\n",
       "[5 rows x 30 columns]"
      ]
     },
     "metadata": {},
     "output_type": "display_data"
    }
   ],
   "source": [
    "new_data = combo_df[combo_df['active_secs_per_day'] == 86400].copy()\n",
    "display(new_data.sample(5))"
   ]
  },
  {
   "cell_type": "code",
   "execution_count": 83,
   "metadata": {},
   "outputs": [
    {
     "data": {
      "text/plain": [
       "l2_num_txs_per_day                    0\n",
       "l2_num_attr_deposit_txs_per_day       0\n",
       "l2_num_user_deposit_txs_per_day       0\n",
       "l1_gas_used_on_l2                     9\n",
       "calldata_bytes_l2_per_day             0\n",
       "l1_gas_used_user_txs_l2_per_day       0\n",
       "calldata_bytes_user_txs_l2_per_day    0\n",
       "l1_gas_used_inbox                     0\n",
       "dtype: int64"
      ]
     },
     "execution_count": 83,
     "metadata": {},
     "output_type": "execute_result"
    }
   ],
   "source": [
    "selected_columns = [\n",
    "    'l2_num_txs_per_day', 'l2_num_attr_deposit_txs_per_day', \n",
    "    'l2_num_user_deposit_txs_per_day', 'l1_gas_used_on_l2', \n",
    "    'calldata_bytes_l2_per_day', 'l1_gas_used_user_txs_l2_per_day', \n",
    "    'calldata_bytes_user_txs_l2_per_day', 'l1_gas_used_inbox'\n",
    "]\n",
    "\n",
    "missing_values_in_selected_columns = new_data[selected_columns].isnull().sum()\n",
    "missing_values_in_selected_columns"
   ]
  },
  {
   "cell_type": "code",
   "execution_count": 84,
   "metadata": {},
   "outputs": [
    {
     "data": {
      "text/plain": [
       "l2_num_txs_per_day                    0\n",
       "l2_num_attr_deposit_txs_per_day       0\n",
       "l2_num_user_deposit_txs_per_day       0\n",
       "l1_gas_used_on_l2                     0\n",
       "calldata_bytes_l2_per_day             0\n",
       "l1_gas_used_user_txs_l2_per_day       0\n",
       "calldata_bytes_user_txs_l2_per_day    0\n",
       "l1_gas_used_inbox                     0\n",
       "dtype: int64"
      ]
     },
     "execution_count": 84,
     "metadata": {},
     "output_type": "execute_result"
    }
   ],
   "source": [
    "# Filling the missing values in 'l1_gas_used_on_l2' with 0\n",
    "new_data['l1_gas_used_on_l2'].fillna(0, inplace=True)\n",
    "new_data['calldata_bytes_l2_per_day'].fillna(0, inplace=True)\n",
    "new_data['l1_gas_used_user_txs_l2_per_day'].fillna(0, inplace=True)\n",
    "new_data['calldata_bytes_user_txs_l2_per_day'].fillna(0, inplace=True)\n",
    "\n",
    "# Verifying that there are no more missing values in the selected columns\n",
    "missing_values_in_selected_columns = new_data[selected_columns].isnull().sum()\n",
    "missing_values_in_selected_columns"
   ]
  },
  {
   "cell_type": "code",
   "execution_count": 85,
   "metadata": {},
   "outputs": [
    {
     "data": {
      "text/plain": [
       "l2_num_txs_per_day                    0.963618\n",
       "l2_num_attr_deposit_txs_per_day            NaN\n",
       "l2_num_user_deposit_txs_per_day       0.430622\n",
       "l1_gas_used_on_l2                     0.996341\n",
       "calldata_bytes_l2_per_day             0.982320\n",
       "l1_gas_used_user_txs_l2_per_day       0.996341\n",
       "calldata_bytes_user_txs_l2_per_day    0.981972\n",
       "l1_gas_used_inbox                     1.000000\n",
       "Name: l1_gas_used_inbox, dtype: float64"
      ]
     },
     "execution_count": 85,
     "metadata": {},
     "output_type": "execute_result"
    }
   ],
   "source": [
    "# Step 2: Feature Selection - Examining the correlation between the potential features and the target variable\n",
    "correlation_matrix = new_data[selected_columns].corr()\n",
    "\n",
    "# Getting the correlation of all features with the target variable 'l1_gas_used_inbox'\n",
    "target_correlation = correlation_matrix['l1_gas_used_inbox']\n",
    "\n",
    "# Displaying the correlation values\n",
    "target_correlation"
   ]
  },
  {
   "cell_type": "code",
   "execution_count": 86,
   "metadata": {},
   "outputs": [
    {
     "data": {
      "text/plain": [
       "((253, 3), (64, 3))"
      ]
     },
     "execution_count": 86,
     "metadata": {},
     "output_type": "execute_result"
    }
   ],
   "source": [
    "# GPT Built model\n",
    "from sklearn.model_selection import train_test_split\n",
    "\n",
    "# Step 3: Data Splitting - Splitting the data into training and testing sets\n",
    "\n",
    "# Selected features\n",
    "features = [\n",
    "    'l1_gas_used_user_txs_l2_per_day', \n",
    "    'calldata_bytes_user_txs_l2_per_day', \n",
    "    'l2_num_txs_per_day', \n",
    "    # 'l2_num_user_deposit_txs_per_day'\n",
    "]\n",
    "\n",
    "# Target variable\n",
    "target = 'l1_gas_used_inbox'\n",
    "\n",
    "# Splitting the data into training and testing sets (80% training, 20% testing)\n",
    "X = new_data[features]\n",
    "y = new_data[target]\n",
    "\n",
    "X_train, X_test, y_train, y_test = train_test_split(X, y, test_size=0.2, random_state=42)\n",
    "\n",
    "X_train.shape, X_test.shape\n"
   ]
  },
  {
   "cell_type": "code",
   "execution_count": 87,
   "metadata": {},
   "outputs": [
    {
     "data": {
      "text/plain": [
       "(6405319238870022.0, 0.9880430263573804)"
      ]
     },
     "execution_count": 87,
     "metadata": {},
     "output_type": "execute_result"
    }
   ],
   "source": [
    "from sklearn.linear_model import LinearRegression\n",
    "from sklearn.metrics import mean_squared_error, r2_score\n",
    "\n",
    "# Step 4: Model Training - Training a linear regression model\n",
    "linear_regressor = LinearRegression()\n",
    "linear_regressor.fit(X_train, y_train)\n",
    "\n",
    "# Step 5: Model Evaluation - Evaluating the model on the testing set\n",
    "y_pred_linear = linear_regressor.predict(X_test)\n",
    "\n",
    "# Calculate the model performance\n",
    "mse_linear = mean_squared_error(y_test, y_pred_linear)\n",
    "r2_linear = r2_score(y_test, y_pred_linear)\n",
    "\n",
    "mse_linear, r2_linear"
   ]
  },
  {
   "cell_type": "code",
   "execution_count": 88,
   "metadata": {},
   "outputs": [
    {
     "data": {
      "text/plain": [
       "(41006791.757902145,\n",
       " {'l1_gas_used_user_txs_l2_per_day': 1.2154891627327191,\n",
       "  'calldata_bytes_user_txs_l2_per_day': -4.488535297054213,\n",
       "  'l2_num_txs_per_day': -1373.5237197280999})"
      ]
     },
     "execution_count": 88,
     "metadata": {},
     "output_type": "execute_result"
    }
   ],
   "source": [
    "# Extracting the coefficients and intercept from the trained model\n",
    "intercept = linear_regressor.intercept_\n",
    "coefficients = linear_regressor.coef_\n",
    "\n",
    "# Creating a dictionary to hold the feature names and their respective coefficients\n",
    "feature_coeff_dict = dict(zip(features, coefficients))\n",
    "\n",
    "# Displaying the intercept and coefficients\n",
    "intercept, feature_coeff_dict"
   ]
  },
  {
   "cell_type": "code",
   "execution_count": 89,
   "metadata": {},
   "outputs": [
    {
     "data": {
      "text/plain": [
       "['outputs/linear_regression_l1_gas_used_inbox_model.joblib']"
      ]
     },
     "execution_count": 89,
     "metadata": {},
     "output_type": "execute_result"
    }
   ],
   "source": [
    "from joblib import dump\n",
    "\n",
    "# Save the model to a file\n",
    "model_filepath = 'outputs/linear_regression_l1_gas_used_inbox_model.joblib'\n",
    "dump(linear_regressor, model_filepath)\n"
   ]
  },
  {
   "cell_type": "code",
   "execution_count": 90,
   "metadata": {},
   "outputs": [
    {
     "name": "stdout",
     "output_type": "stream",
     "text": [
      "l1_gas_used_inbox = 41006791.76 + (1.22) * l1_gas_used_user_txs_l2_per_day + (-4.49) * calldata_bytes_user_txs_l2_per_day + (-1373.52) * l2_num_txs_per_day\n"
     ]
    }
   ],
   "source": [
    "# Create a string to represent the regression equation\n",
    "equation_str = f\"l1_gas_used_inbox = {intercept:.2f}\"\n",
    "for feature, coef in feature_coeff_dict.items():\n",
    "    equation_str += f\" + ({coef:.2f}) * {feature}\"\n",
    "\n",
    "# Print out the regression equation\n",
    "print(equation_str)"
   ]
  },
  {
   "cell_type": "code",
   "execution_count": 91,
   "metadata": {},
   "outputs": [
    {
     "data": {
      "text/html": [
       "<div>\n",
       "<style scoped>\n",
       "    .dataframe tbody tr th:only-of-type {\n",
       "        vertical-align: middle;\n",
       "    }\n",
       "\n",
       "    .dataframe tbody tr th {\n",
       "        vertical-align: top;\n",
       "    }\n",
       "\n",
       "    .dataframe thead th {\n",
       "        text-align: right;\n",
       "    }\n",
       "</style>\n",
       "<table border=\"1\" class=\"dataframe\">\n",
       "  <thead>\n",
       "    <tr style=\"text-align: right;\">\n",
       "      <th></th>\n",
       "      <th>chain</th>\n",
       "      <th>l1_gas_used_user_txs_on_l2_per_tx</th>\n",
       "      <th>calldata_bytes_user_txs_l2_per_tx</th>\n",
       "      <th>l2_num_txs_per_day</th>\n",
       "    </tr>\n",
       "  </thead>\n",
       "  <tbody>\n",
       "    <tr>\n",
       "      <th>0</th>\n",
       "      <td>Base</td>\n",
       "      <td>3898.924763</td>\n",
       "      <td>243.251709</td>\n",
       "      <td>518027.300000</td>\n",
       "    </tr>\n",
       "    <tr>\n",
       "      <th>1</th>\n",
       "      <td>OP Mainnet</td>\n",
       "      <td>5555.096389</td>\n",
       "      <td>441.357025</td>\n",
       "      <td>420899.633333</td>\n",
       "    </tr>\n",
       "    <tr>\n",
       "      <th>2</th>\n",
       "      <td>Public Goods Network</td>\n",
       "      <td>9513.624478</td>\n",
       "      <td>1044.872894</td>\n",
       "      <td>678.700000</td>\n",
       "    </tr>\n",
       "    <tr>\n",
       "      <th>3</th>\n",
       "      <td>Zora Network</td>\n",
       "      <td>3300.680661</td>\n",
       "      <td>181.923644</td>\n",
       "      <td>76236.068966</td>\n",
       "    </tr>\n",
       "  </tbody>\n",
       "</table>\n",
       "</div>"
      ],
      "text/plain": [
       "                  chain  l1_gas_used_user_txs_on_l2_per_tx  \\\n",
       "0                  Base                        3898.924763   \n",
       "1            OP Mainnet                        5555.096389   \n",
       "2  Public Goods Network                        9513.624478   \n",
       "3          Zora Network                        3300.680661   \n",
       "\n",
       "   calldata_bytes_user_txs_l2_per_tx  l2_num_txs_per_day  \n",
       "0                         243.251709       518027.300000  \n",
       "1                         441.357025       420899.633333  \n",
       "2                        1044.872894          678.700000  \n",
       "3                         181.923644        76236.068966  "
      ]
     },
     "metadata": {},
     "output_type": "display_data"
    }
   ],
   "source": [
    "# Find inputs\n",
    "# Convert the 'dt' column to datetime data type\n",
    "new_data['dt'] = pd.to_datetime(new_data['dt'])\n",
    "\n",
    "# Identify the most recent date in the dataset\n",
    "most_recent_date = new_data['dt'].max()\n",
    "\n",
    "# Identify the date that is 30 days before the most recent date\n",
    "date_30_days_ago = most_recent_date - pd.Timedelta(days=30)\n",
    "\n",
    "# Filter the data to include only the most recent 30 days\n",
    "recent_30_days_data = new_data[new_data['dt'] > date_30_days_ago]\n",
    "\n",
    "# Group the data by 'chain' and calculate the average values for each of the input features over the most recent 30 days\n",
    "average_values_per_chain = recent_30_days_data.groupby('chain')[features].mean()\n",
    "\n",
    "# Resetting the index to have 'chain' as a column\n",
    "average_values_per_chain = average_values_per_chain.reset_index()\n",
    "\n",
    "# Calculate the per transaction values for 'l1_gas_used_on_l2' and 'calldata_bytes_l2_per_day'\n",
    "average_values_per_chain['l1_gas_used_user_txs_on_l2_per_tx'] = average_values_per_chain['l1_gas_used_user_txs_l2_per_day'] / average_values_per_chain['l2_num_txs_per_day']\n",
    "average_values_per_chain['calldata_bytes_user_txs_l2_per_tx'] = average_values_per_chain['calldata_bytes_user_txs_l2_per_day'] / average_values_per_chain['l2_num_txs_per_day']\n",
    "\n",
    "# Create a new DataFrame to hold the 'per_tx' values\n",
    "average_values_per_tx_chain = average_values_per_chain[['chain', 'l1_gas_used_user_txs_on_l2_per_tx', 'calldata_bytes_user_txs_l2_per_tx', 'l2_num_txs_per_day']]\n",
    "\n",
    "\n",
    "\n",
    "# Display the average values per chain\n",
    "display(average_values_per_tx_chain)"
   ]
  },
  {
   "cell_type": "code",
   "execution_count": 92,
   "metadata": {},
   "outputs": [
    {
     "name": "stderr",
     "output_type": "stream",
     "text": [
      "/var/folders/by/kltjc8yd0yz_7_wrtrzhrm9m0000gn/T/ipykernel_39914/3940818164.py:15: SettingWithCopyWarning:\n",
      "\n",
      "\n",
      "A value is trying to be set on a copy of a slice from a DataFrame.\n",
      "Try using .loc[row_indexer,col_indexer] = value instead\n",
      "\n",
      "See the caveats in the documentation: https://pandas.pydata.org/pandas-docs/stable/user_guide/indexing.html#returning-a-view-versus-a-copy\n",
      "\n",
      "/var/folders/by/kltjc8yd0yz_7_wrtrzhrm9m0000gn/T/ipykernel_39914/3940818164.py:15: SettingWithCopyWarning:\n",
      "\n",
      "\n",
      "A value is trying to be set on a copy of a slice from a DataFrame.\n",
      "Try using .loc[row_indexer,col_indexer] = value instead\n",
      "\n",
      "See the caveats in the documentation: https://pandas.pydata.org/pandas-docs/stable/user_guide/indexing.html#returning-a-view-versus-a-copy\n",
      "\n",
      "/var/folders/by/kltjc8yd0yz_7_wrtrzhrm9m0000gn/T/ipykernel_39914/3940818164.py:15: SettingWithCopyWarning:\n",
      "\n",
      "\n",
      "A value is trying to be set on a copy of a slice from a DataFrame.\n",
      "Try using .loc[row_indexer,col_indexer] = value instead\n",
      "\n",
      "See the caveats in the documentation: https://pandas.pydata.org/pandas-docs/stable/user_guide/indexing.html#returning-a-view-versus-a-copy\n",
      "\n",
      "/var/folders/by/kltjc8yd0yz_7_wrtrzhrm9m0000gn/T/ipykernel_39914/3940818164.py:15: SettingWithCopyWarning:\n",
      "\n",
      "\n",
      "A value is trying to be set on a copy of a slice from a DataFrame.\n",
      "Try using .loc[row_indexer,col_indexer] = value instead\n",
      "\n",
      "See the caveats in the documentation: https://pandas.pydata.org/pandas-docs/stable/user_guide/indexing.html#returning-a-view-versus-a-copy\n",
      "\n"
     ]
    },
    {
     "data": {
      "image/png": "[encoded data removed]",
      "text/plain": [
       "<Figure size 1200x800 with 4 Axes>"
      ]
     },
     "metadata": {},
     "output_type": "display_data"
    }
   ],
   "source": [
    "import matplotlib.pyplot as plt\n",
    "# Setting up the plot\n",
    "plt.figure(figsize=(12, 8))\n",
    "\n",
    "# List of unique chains\n",
    "chains = new_data['chain'].unique()\n",
    "\n",
    "# Looping over each chain to plot the actual vs. predicted values and residuals\n",
    "for i, chain in enumerate(chains):\n",
    "    \n",
    "    # Filtering the data for the current chain\n",
    "    chain_data = recent_30_days_data[recent_30_days_data['chain'] == chain]\n",
    "    \n",
    "    # Making predictions using the new model\n",
    "    chain_data['predicted_l1_gas_used_inbox_new'] = linear_regressor.predict(chain_data[features])\n",
    "    \n",
    "    # Plotting the actual and predicted values\n",
    "    plt.subplot(2, 2, i+1)\n",
    "    plt.plot(chain_data['dt'], chain_data['l1_gas_used_inbox'], label='Actual', marker='o', linestyle='-')\n",
    "    plt.plot(chain_data['dt'], chain_data['predicted_l1_gas_used_inbox_new'], label='Predicted', marker='o', linestyle='-')\n",
    "    \n",
    "    # Plotting the residuals\n",
    "    for j in range(len(chain_data)):\n",
    "        plt.plot([chain_data['dt'].iloc[j], chain_data['dt'].iloc[j]], \n",
    "                 [chain_data['l1_gas_used_inbox'].iloc[j], chain_data['predicted_l1_gas_used_inbox_new'].iloc[j]], \n",
    "                 color='gray', linestyle='--', linewidth=0.5)\n",
    "    \n",
    "    # Adding labels and title\n",
    "    plt.xlabel('Date')\n",
    "    plt.ylabel('L1 Gas Used Inbox')\n",
    "    plt.title(f'Actual vs Predicted (Chain: {chain})')\n",
    "    plt.legend()\n",
    "    plt.grid(True)\n",
    "\n",
    "# Adjusting the layout to prevent overlapping\n",
    "plt.tight_layout()\n",
    "\n",
    "# Displaying the plot\n",
    "plt.show()\n"
   ]
  },
  {
   "cell_type": "code",
   "execution_count": 93,
   "metadata": {},
   "outputs": [
    {
     "ename": "KeyError",
     "evalue": "'[312, 70] not in index'",
     "output_type": "error",
     "traceback": [
      "\u001b[0;31m---------------------------------------------------------------------------\u001b[0m",
      "\u001b[0;31mKeyError\u001b[0m                                  Traceback (most recent call last)",
      "Cell \u001b[0;32mIn[93], line 10\u001b[0m\n\u001b[1;32m      8\u001b[0m \u001b[39m# Splitting the data into training and testing sets using stratified sampling\u001b[39;00m\n\u001b[1;32m      9\u001b[0m \u001b[39mfor\u001b[39;00m train_index, test_index \u001b[39min\u001b[39;00m stratified_split\u001b[39m.\u001b[39msplit(new_data, new_data[\u001b[39m'\u001b[39m\u001b[39mchain\u001b[39m\u001b[39m'\u001b[39m]):\n\u001b[0;32m---> 10\u001b[0m     stratified_train_data \u001b[39m=\u001b[39m new_data\u001b[39m.\u001b[39;49mloc[train_index]\n\u001b[1;32m     11\u001b[0m     stratified_test_data \u001b[39m=\u001b[39m new_data\u001b[39m.\u001b[39mloc[test_index]\n\u001b[1;32m     13\u001b[0m \u001b[39m# Training the linear regression model using the stratified training set\u001b[39;00m\n",
      "File \u001b[0;32m~/opt/anaconda3/envs/new-env/lib/python3.10/site-packages/pandas/core/indexing.py:1073\u001b[0m, in \u001b[0;36m_LocationIndexer.__getitem__\u001b[0;34m(self, key)\u001b[0m\n\u001b[1;32m   1070\u001b[0m axis \u001b[39m=\u001b[39m \u001b[39mself\u001b[39m\u001b[39m.\u001b[39maxis \u001b[39mor\u001b[39;00m \u001b[39m0\u001b[39m\n\u001b[1;32m   1072\u001b[0m maybe_callable \u001b[39m=\u001b[39m com\u001b[39m.\u001b[39mapply_if_callable(key, \u001b[39mself\u001b[39m\u001b[39m.\u001b[39mobj)\n\u001b[0;32m-> 1073\u001b[0m \u001b[39mreturn\u001b[39;00m \u001b[39mself\u001b[39;49m\u001b[39m.\u001b[39;49m_getitem_axis(maybe_callable, axis\u001b[39m=\u001b[39;49maxis)\n",
      "File \u001b[0;32m~/opt/anaconda3/envs/new-env/lib/python3.10/site-packages/pandas/core/indexing.py:1301\u001b[0m, in \u001b[0;36m_LocIndexer._getitem_axis\u001b[0;34m(self, key, axis)\u001b[0m\n\u001b[1;32m   1298\u001b[0m     \u001b[39mif\u001b[39;00m \u001b[39mhasattr\u001b[39m(key, \u001b[39m\"\u001b[39m\u001b[39mndim\u001b[39m\u001b[39m\"\u001b[39m) \u001b[39mand\u001b[39;00m key\u001b[39m.\u001b[39mndim \u001b[39m>\u001b[39m \u001b[39m1\u001b[39m:\n\u001b[1;32m   1299\u001b[0m         \u001b[39mraise\u001b[39;00m \u001b[39mValueError\u001b[39;00m(\u001b[39m\"\u001b[39m\u001b[39mCannot index with multidimensional key\u001b[39m\u001b[39m\"\u001b[39m)\n\u001b[0;32m-> 1301\u001b[0m     \u001b[39mreturn\u001b[39;00m \u001b[39mself\u001b[39;49m\u001b[39m.\u001b[39;49m_getitem_iterable(key, axis\u001b[39m=\u001b[39;49maxis)\n\u001b[1;32m   1303\u001b[0m \u001b[39m# nested tuple slicing\u001b[39;00m\n\u001b[1;32m   1304\u001b[0m \u001b[39mif\u001b[39;00m is_nested_tuple(key, labels):\n",
      "File \u001b[0;32m~/opt/anaconda3/envs/new-env/lib/python3.10/site-packages/pandas/core/indexing.py:1239\u001b[0m, in \u001b[0;36m_LocIndexer._getitem_iterable\u001b[0;34m(self, key, axis)\u001b[0m\n\u001b[1;32m   1236\u001b[0m \u001b[39mself\u001b[39m\u001b[39m.\u001b[39m_validate_key(key, axis)\n\u001b[1;32m   1238\u001b[0m \u001b[39m# A collection of keys\u001b[39;00m\n\u001b[0;32m-> 1239\u001b[0m keyarr, indexer \u001b[39m=\u001b[39m \u001b[39mself\u001b[39;49m\u001b[39m.\u001b[39;49m_get_listlike_indexer(key, axis)\n\u001b[1;32m   1240\u001b[0m \u001b[39mreturn\u001b[39;00m \u001b[39mself\u001b[39m\u001b[39m.\u001b[39mobj\u001b[39m.\u001b[39m_reindex_with_indexers(\n\u001b[1;32m   1241\u001b[0m     {axis: [keyarr, indexer]}, copy\u001b[39m=\u001b[39m\u001b[39mTrue\u001b[39;00m, allow_dups\u001b[39m=\u001b[39m\u001b[39mTrue\u001b[39;00m\n\u001b[1;32m   1242\u001b[0m )\n",
      "File \u001b[0;32m~/opt/anaconda3/envs/new-env/lib/python3.10/site-packages/pandas/core/indexing.py:1432\u001b[0m, in \u001b[0;36m_LocIndexer._get_listlike_indexer\u001b[0;34m(self, key, axis)\u001b[0m\n\u001b[1;32m   1429\u001b[0m ax \u001b[39m=\u001b[39m \u001b[39mself\u001b[39m\u001b[39m.\u001b[39mobj\u001b[39m.\u001b[39m_get_axis(axis)\n\u001b[1;32m   1430\u001b[0m axis_name \u001b[39m=\u001b[39m \u001b[39mself\u001b[39m\u001b[39m.\u001b[39mobj\u001b[39m.\u001b[39m_get_axis_name(axis)\n\u001b[0;32m-> 1432\u001b[0m keyarr, indexer \u001b[39m=\u001b[39m ax\u001b[39m.\u001b[39;49m_get_indexer_strict(key, axis_name)\n\u001b[1;32m   1434\u001b[0m \u001b[39mreturn\u001b[39;00m keyarr, indexer\n",
      "File \u001b[0;32m~/opt/anaconda3/envs/new-env/lib/python3.10/site-packages/pandas/core/indexes/base.py:6070\u001b[0m, in \u001b[0;36mIndex._get_indexer_strict\u001b[0;34m(self, key, axis_name)\u001b[0m\n\u001b[1;32m   6067\u001b[0m \u001b[39melse\u001b[39;00m:\n\u001b[1;32m   6068\u001b[0m     keyarr, indexer, new_indexer \u001b[39m=\u001b[39m \u001b[39mself\u001b[39m\u001b[39m.\u001b[39m_reindex_non_unique(keyarr)\n\u001b[0;32m-> 6070\u001b[0m \u001b[39mself\u001b[39;49m\u001b[39m.\u001b[39;49m_raise_if_missing(keyarr, indexer, axis_name)\n\u001b[1;32m   6072\u001b[0m keyarr \u001b[39m=\u001b[39m \u001b[39mself\u001b[39m\u001b[39m.\u001b[39mtake(indexer)\n\u001b[1;32m   6073\u001b[0m \u001b[39mif\u001b[39;00m \u001b[39misinstance\u001b[39m(key, Index):\n\u001b[1;32m   6074\u001b[0m     \u001b[39m# GH 42790 - Preserve name from an Index\u001b[39;00m\n",
      "File \u001b[0;32m~/opt/anaconda3/envs/new-env/lib/python3.10/site-packages/pandas/core/indexes/base.py:6133\u001b[0m, in \u001b[0;36mIndex._raise_if_missing\u001b[0;34m(self, key, indexer, axis_name)\u001b[0m\n\u001b[1;32m   6130\u001b[0m     \u001b[39mraise\u001b[39;00m \u001b[39mKeyError\u001b[39;00m(\u001b[39mf\u001b[39m\u001b[39m\"\u001b[39m\u001b[39mNone of [\u001b[39m\u001b[39m{\u001b[39;00mkey\u001b[39m}\u001b[39;00m\u001b[39m] are in the [\u001b[39m\u001b[39m{\u001b[39;00maxis_name\u001b[39m}\u001b[39;00m\u001b[39m]\u001b[39m\u001b[39m\"\u001b[39m)\n\u001b[1;32m   6132\u001b[0m not_found \u001b[39m=\u001b[39m \u001b[39mlist\u001b[39m(ensure_index(key)[missing_mask\u001b[39m.\u001b[39mnonzero()[\u001b[39m0\u001b[39m]]\u001b[39m.\u001b[39munique())\n\u001b[0;32m-> 6133\u001b[0m \u001b[39mraise\u001b[39;00m \u001b[39mKeyError\u001b[39;00m(\u001b[39mf\u001b[39m\u001b[39m\"\u001b[39m\u001b[39m{\u001b[39;00mnot_found\u001b[39m}\u001b[39;00m\u001b[39m not in index\u001b[39m\u001b[39m\"\u001b[39m)\n",
      "\u001b[0;31mKeyError\u001b[0m: '[312, 70] not in index'"
     ]
    }
   ],
   "source": [
    "#Stratify sampling\n",
    "\n",
    "from sklearn.model_selection import StratifiedShuffleSplit\n",
    "\n",
    "# Resetting the index of new_data before performing stratified sampling\n",
    "new_data.reset_index(drop=True, inplace=True)\n",
    "\n",
    "# Defining the stratified shuffle split object to split the data into training and testing sets with stratification on the 'chain' column\n",
    "stratified_split = StratifiedShuffleSplit(n_splits=1, test_size=0.2, random_state=42)\n",
    "\n",
    "\n",
    "# Splitting the data into training and testing sets using stratified sampling\n",
    "for train_index, test_index in stratified_split.split(new_data, new_data['chain']):\n",
    "    stratified_train_data = new_data.loc[train_index]\n",
    "    stratified_test_data = new_data.loc[test_index]\n",
    "\n",
    "# Training the linear regression model using the stratified training set\n",
    "X_train_stratified = stratified_train_data[features]\n",
    "y_train_stratified = stratified_train_data['l1_gas_used_inbox']\n",
    "X_test_stratified = stratified_test_data[features]\n",
    "y_test_stratified = stratified_test_data['l1_gas_used_inbox']\n",
    "\n",
    "linear_regressor_stratified = LinearRegression()\n",
    "linear_regressor_stratified.fit(X_train_stratified, y_train_stratified)\n",
    "\n",
    "# Predicting the target variable on the stratified testing set\n",
    "stratified_test_data['predicted_l1_gas_used_inbox'] = linear_regressor_stratified.predict(X_test_stratified)\n",
    "\n",
    "# Setting up the plot for visualization of residuals for each chain\n",
    "plt.figure(figsize=(12, 8))\n",
    "\n",
    "# Looping over each chain to plot the actual vs. predicted values and residuals\n",
    "for i, chain in enumerate(chains):\n",
    "    \n",
    "    # Filtering the data for the current chain and sorting it by date for a connected line plot\n",
    "    chain_data = stratified_test_data[stratified_test_data['chain'] == chain].sort_values(by='dt')\n",
    "    \n",
    "    # Plotting the actual and predicted values\n",
    "    plt.subplot(2, 2, i+1)\n",
    "    plt.plot(chain_data['dt'], chain_data['l1_gas_used_inbox'], label='Actual', marker='o', linestyle='-')\n",
    "    plt.plot(chain_data['dt'], chain_data['predicted_l1_gas_used_inbox'], label='Predicted', marker='o', linestyle='-')\n",
    "    \n",
    "    # Plotting the residuals\n",
    "    for j in range(len(chain_data)):\n",
    "        plt.plot([chain_data['dt'].iloc[j], chain_data['dt'].iloc[j]], \n",
    "                 [chain_data['l1_gas_used_inbox'].iloc[j], chain_data['predicted_l1_gas_used_inbox'].iloc[j]], \n",
    "                 color='gray', linestyle='--', linewidth=0.5)\n",
    "    \n",
    "    # Adding labels and title\n",
    "    plt.xlabel('Date')\n",
    "    plt.ylabel('L1 Gas Used Inbox')\n",
    "    plt.title(f'Actual vs Predicted (Chain: {chain}) - Stratified')\n",
    "    plt.legend()\n",
    "    plt.grid(True)\n",
    "\n",
    "# Adjusting the layout to prevent overlapping\n",
    "plt.tight_layout()\n",
    "\n",
    "# Displaying the plot\n",
    "plt.show()\n"
   ]
  },
  {
   "cell_type": "code",
   "execution_count": null,
   "metadata": {},
   "outputs": [
    {
     "data": {
      "text/plain": [
       "(790907707627280.4, 19629043.75560998, 0.9986763211086033)"
      ]
     },
     "execution_count": 72,
     "metadata": {},
     "output_type": "execute_result"
    }
   ],
   "source": [
    "from sklearn.preprocessing import PolynomialFeatures\n",
    "from sklearn.metrics import mean_absolute_error\n",
    "\n",
    "# Step 1: Create second-degree polynomial features\n",
    "poly = PolynomialFeatures(degree=2, include_bias=False)\n",
    "X_poly = poly.fit_transform(new_data[features])\n",
    "\n",
    "# Step 2: Train a linear regression model using the polynomial features\n",
    "poly_lr = LinearRegression()\n",
    "poly_lr.fit(X_poly, new_data['l1_gas_used_inbox'])\n",
    "\n",
    "# Step 3: Make predictions using the polynomial features\n",
    "new_data['predicted_l1_gas_used_inbox_poly'] = poly_lr.predict(X_poly)\n",
    "\n",
    "# Step 4: Evaluate the model using suitable metrics\n",
    "mse_poly = mean_squared_error(new_data['l1_gas_used_inbox'], new_data['predicted_l1_gas_used_inbox_poly'])\n",
    "mae_poly = mean_absolute_error(new_data['l1_gas_used_inbox'], new_data['predicted_l1_gas_used_inbox_poly'])\n",
    "r2_poly = r2_score(new_data['l1_gas_used_inbox'], new_data['predicted_l1_gas_used_inbox_poly'])\n",
    "\n",
    "mse_poly, mae_poly, r2_poly\n"
   ]
  },
  {
   "cell_type": "code",
   "execution_count": null,
   "metadata": {},
   "outputs": [
    {
     "data": {
      "image/png": "[encoded data removed]",
      "text/plain": [
       "<Figure size 1000x600 with 1 Axes>"
      ]
     },
     "metadata": {},
     "output_type": "display_data"
    }
   ],
   "source": [
    "# Visualizing the actual vs predicted values for the model with polynomial features\n",
    "plt.figure(figsize=(10, 6))\n",
    "\n",
    "# Plotting the actual values\n",
    "plt.scatter(new_data['dt'], new_data['l1_gas_used_inbox'], label='Actual', alpha=0.5, color='blue')\n",
    "\n",
    "# Plotting the predicted values from the polynomial regression model\n",
    "plt.scatter(new_data['dt'], new_data['predicted_l1_gas_used_inbox_poly'], label='Predicted (Poly Reg)', alpha=0.5, color='red')\n",
    "\n",
    "# Labeling the axes and setting the title\n",
    "plt.xlabel('Date')\n",
    "plt.ylabel('L1 Gas Used Inbox')\n",
    "plt.title('Actual vs Predicted L1 Gas Used Inbox (Polynomial Regression)')\n",
    "\n",
    "# Displaying the legend\n",
    "plt.legend()\n",
    "\n",
    "# Displaying the plot\n",
    "plt.show()\n"
   ]
  },
  {
   "cell_type": "code",
   "execution_count": null,
   "metadata": {},
   "outputs": [
    {
     "data": {
      "image/png": "[encoded data removed]",
      "text/plain": [
       "<Figure size 1400x800 with 4 Axes>"
      ]
     },
     "metadata": {},
     "output_type": "display_data"
    }
   ],
   "source": [
    "# Setting up the plot\n",
    "plt.figure(figsize=(14, 8))\n",
    "\n",
    "# List of unique chains\n",
    "chains = new_data['chain'].unique()\n",
    "\n",
    "# Plotting the actual and predicted values for each chain in separate subplots\n",
    "for i, chain in enumerate(chains, 1):\n",
    "    plt.subplot(2, 2, i)\n",
    "    \n",
    "    # Filtering the data for the current chain\n",
    "    chain_data = new_data[new_data['chain'] == chain]\n",
    "    \n",
    "    # Plotting the actual values\n",
    "    plt.scatter(chain_data['dt'], chain_data['l1_gas_used_inbox'], label='Actual', alpha=0.5, color='blue')\n",
    "    \n",
    "    # Plotting the predicted values from the polynomial regression model\n",
    "    plt.scatter(chain_data['dt'], chain_data['predicted_l1_gas_used_inbox_poly'], label='Predicted (Poly Reg)', alpha=0.5, color='red')\n",
    "    \n",
    "    # Setting the title to the current chain\n",
    "    plt.title(chain)\n",
    "    \n",
    "    # Labeling the axes\n",
    "    plt.xlabel('Date')\n",
    "    plt.ylabel('L1 Gas Used Inbox')\n",
    "    \n",
    "    # Displaying the legend\n",
    "    plt.legend()\n",
    "\n",
    "# Adjusting the layout to prevent overlapping\n",
    "plt.tight_layout()\n",
    "\n",
    "# Displaying the plot\n",
    "plt.show()\n"
   ]
  }
 ],
 "metadata": {
  "kernelspec": {
   "display_name": "new-env",
   "language": "python",
   "name": "python3"
  },
  "language_info": {
   "codemirror_mode": {
    "name": "ipython",
    "version": 3
   },
   "file_extension": ".py",
   "mimetype": "text/x-python",
   "name": "python",
   "nbconvert_exporter": "python",
   "pygments_lexer": "ipython3",
   "version": "3.10.11"
  },
  "orig_nbformat": 4
 },
 "nbformat": 4,
 "nbformat_minor": 2
}
