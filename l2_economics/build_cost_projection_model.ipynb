{
 "cells": [
  {
   "cell_type": "code",
   "execution_count": 1,
   "metadata": {},
   "outputs": [],
   "source": [
    "import pandas as pd\n",
    "import plotly.express as px\n",
    "\n",
    "columns = [\n",
    "        # 'join_id',\n",
    "        'dt','chain', 'active_secs_per_day'\n",
    "        ,'num_l1_txs_inbox','num_l1_txs_output','calldata_bytes_l1_inbox'\n",
    "        ,'avg_l1_gas_price_on_l1_inbox','avg_l1_gas_price_on_l1_output','avg_l1_gas_price_on_l2'\n",
    "        ,'l1_gas_used_inbox','l1_gas_used_output','l1_gas_used_combined'\n",
    "        ,'l1_eth_fees_inbox','l1_eth_fees_output','l1_eth_fees_combined'\n",
    "        ,'l1_contrib_l2_eth_fees_per_day','l2_contrib_l2_eth_fees_per_day'\n",
    "        # ,'l2_num_raw_txs_per_day'\n",
    "        ,'l2_num_txs_per_day', 'l2_num_attr_deposit_txs_per_day', 'l2_num_user_deposit_txs_per_day'\n",
    "        ,'l1_gas_used_on_l2','calldata_bytes_l2_per_day','calldata_gas_l2_per_day'\n",
    "        ,'l1_gas_used_user_txs_l2_per_day','calldata_bytes_user_txs_l2_per_day'\n",
    "        ,'l2_gas_used','l2_eth_fees_per_day'\n",
    "        ]"
   ]
  },
  {
   "cell_type": "code",
   "execution_count": 2,
   "metadata": {},
   "outputs": [],
   "source": [
    "#Unify datasets\n",
    "dunedf = pd.read_csv('csv_inputs/op_chain_gas_economics_dune_query_2453515_dt2023_09_19.csv') #https://dune.com/queries/2453515 --last 90 days\n",
    "# goldskydf = pd.read_csv('csv_inputs/op_chain_gas_economics_goldsky_zora_pgn_dt2023_09_12.csv') #requires auth - https://dash.goldsky.com/question/9-op-chains-activity-by-period"
   ]
  },
  {
   "cell_type": "code",
   "execution_count": 3,
   "metadata": {},
   "outputs": [],
   "source": [
    "# Map Chain Names\n",
    "chain_mappings = {\n",
    "    'zora': 'Zora Network',\n",
    "    'pgn': 'Public Goods Network',\n",
    "    # Add more mappings as needed\n",
    "}\n",
    "# goldskydf['chain'] = goldskydf['chain'].replace(chain_mappings)\n",
    "dunedf['name'] = dunedf['name'].replace(chain_mappings)\n",
    "# print(dunedf.columns)"
   ]
  },
  {
   "cell_type": "code",
   "execution_count": 4,
   "metadata": {},
   "outputs": [
    {
     "name": "stdout",
     "output_type": "stream",
     "text": [
      "[]\n"
     ]
    }
   ],
   "source": [
    "#Configure\n",
    "#rename cols\n",
    "dunedf = dunedf.rename(columns={\n",
    "                        'name':'chain'\n",
    "                        })\n",
    "difference = set(columns) - set(dunedf.columns)\n",
    "result = list(difference)\n",
    "\n",
    "print(result)\n"
   ]
  },
  {
   "cell_type": "code",
   "execution_count": 5,
   "metadata": {},
   "outputs": [],
   "source": [
    "#Generate Join ID Column\n",
    "# dunedf['join_id'] = dunedf['dt'].astype(str).str[:10].str.cat(dunedf['chain'].astype(str).str.lower())\n",
    "# goldskydf['join_id'] = goldskydf['dt'].astype(str).str[:10].str.cat(goldskydf['chain'].astype(str).str.lower())\n",
    "\n",
    "# display(dunedf.head(10))\n",
    "# print(dunedf.columns)\n",
    "# print('---')\n",
    "# display(goldskydf.head(10))\n",
    "# print(goldskydf.columns)\n",
    "\n",
    "combo_df = dunedf.copy()#merge(goldskydf, on='join_id', how='left')\n",
    "\n",
    "# display(combo_df)\n",
    "\n",
    "# for c in columns:\n",
    "#         try:\n",
    "#                 combo_df[c] = combo_df[c+'_x'].combine_first(combo_df[c+'_y']) #pick first non-null\n",
    "#         except:\n",
    "#                 combo_df[c] = combo_df[c] #nada\n",
    "\n",
    "combo_df['dt'] = pd.to_datetime(combo_df['dt'])\n",
    "combo_df = combo_df[columns]\n",
    "\n",
    "combo_df['gas_compression_ratio'] = combo_df['l1_gas_used_inbox'] / combo_df['l1_gas_used_on_l2']\n",
    "combo_df['bytes_compression_ratio'] = combo_df['calldata_bytes_l1_inbox'] / combo_df['calldata_bytes_l2_per_day']\n",
    "combo_df['dt_rank'] = combo_df['dt'].rank(method='dense', ascending=False).astype('int')"
   ]
  },
  {
   "cell_type": "code",
   "execution_count": 6,
   "metadata": {},
   "outputs": [
    {
     "data": {
      "text/html": [
       "<div>\n",
       "<style scoped>\n",
       "    .dataframe tbody tr th:only-of-type {\n",
       "        vertical-align: middle;\n",
       "    }\n",
       "\n",
       "    .dataframe tbody tr th {\n",
       "        vertical-align: top;\n",
       "    }\n",
       "\n",
       "    .dataframe thead th {\n",
       "        text-align: right;\n",
       "    }\n",
       "</style>\n",
       "<table border=\"1\" class=\"dataframe\">\n",
       "  <thead>\n",
       "    <tr style=\"text-align: right;\">\n",
       "      <th></th>\n",
       "      <th>dt</th>\n",
       "      <th>chain</th>\n",
       "      <th>active_secs_per_day</th>\n",
       "      <th>num_l1_txs_inbox</th>\n",
       "      <th>num_l1_txs_output</th>\n",
       "      <th>calldata_bytes_l1_inbox</th>\n",
       "      <th>avg_l1_gas_price_on_l1_inbox</th>\n",
       "      <th>avg_l1_gas_price_on_l1_output</th>\n",
       "      <th>avg_l1_gas_price_on_l2</th>\n",
       "      <th>l1_gas_used_inbox</th>\n",
       "      <th>...</th>\n",
       "      <th>l1_gas_used_on_l2</th>\n",
       "      <th>calldata_bytes_l2_per_day</th>\n",
       "      <th>calldata_gas_l2_per_day</th>\n",
       "      <th>l1_gas_used_user_txs_l2_per_day</th>\n",
       "      <th>calldata_bytes_user_txs_l2_per_day</th>\n",
       "      <th>l2_gas_used</th>\n",
       "      <th>l2_eth_fees_per_day</th>\n",
       "      <th>gas_compression_ratio</th>\n",
       "      <th>bytes_compression_ratio</th>\n",
       "      <th>dt_rank</th>\n",
       "    </tr>\n",
       "  </thead>\n",
       "  <tbody>\n",
       "    <tr>\n",
       "      <th>161</th>\n",
       "      <td>2023-08-09 00:00:00+00:00</td>\n",
       "      <td>Base</td>\n",
       "      <td>86400.0</td>\n",
       "      <td>1431</td>\n",
       "      <td>24</td>\n",
       "      <td>74396284.0</td>\n",
       "      <td>23.617619</td>\n",
       "      <td>20.593268</td>\n",
       "      <td>23.712454</td>\n",
       "      <td>1.216806e+09</td>\n",
       "      <td>...</td>\n",
       "      <td>2.051333e+09</td>\n",
       "      <td>156005725.0</td>\n",
       "      <td>1.259559e+09</td>\n",
       "      <td>2.051333e+09</td>\n",
       "      <td>143579019.0</td>\n",
       "      <td>9.987607e+10</td>\n",
       "      <td>115.077455</td>\n",
       "      <td>0.593178</td>\n",
       "      <td>0.476882</td>\n",
       "      <td>41</td>\n",
       "    </tr>\n",
       "    <tr>\n",
       "      <th>175</th>\n",
       "      <td>2023-08-06 00:00:00+00:00</td>\n",
       "      <td>Public Goods Network</td>\n",
       "      <td>86400.0</td>\n",
       "      <td>145</td>\n",
       "      <td>24</td>\n",
       "      <td>1887171.0</td>\n",
       "      <td>14.472291</td>\n",
       "      <td>14.774123</td>\n",
       "      <td>12.696032</td>\n",
       "      <td>3.318583e+07</td>\n",
       "      <td>...</td>\n",
       "      <td>8.042440e+05</td>\n",
       "      <td>11322505.0</td>\n",
       "      <td>8.397921e+07</td>\n",
       "      <td>8.042440e+05</td>\n",
       "      <td>49345.0</td>\n",
       "      <td>2.202757e+09</td>\n",
       "      <td>0.036471</td>\n",
       "      <td>41.263388</td>\n",
       "      <td>0.166674</td>\n",
       "      <td>44</td>\n",
       "    </tr>\n",
       "    <tr>\n",
       "      <th>40</th>\n",
       "      <td>2023-09-08 00:00:00+00:00</td>\n",
       "      <td>Base</td>\n",
       "      <td>86400.0</td>\n",
       "      <td>1428</td>\n",
       "      <td>24</td>\n",
       "      <td>64497364.0</td>\n",
       "      <td>15.453782</td>\n",
       "      <td>15.158924</td>\n",
       "      <td>15.295237</td>\n",
       "      <td>1.058815e+09</td>\n",
       "      <td>...</td>\n",
       "      <td>1.611126e+09</td>\n",
       "      <td>119829129.0</td>\n",
       "      <td>9.883465e+08</td>\n",
       "      <td>1.611126e+09</td>\n",
       "      <td>108218332.0</td>\n",
       "      <td>2.211997e+11</td>\n",
       "      <td>33.423184</td>\n",
       "      <td>0.657189</td>\n",
       "      <td>0.538244</td>\n",
       "      <td>11</td>\n",
       "    </tr>\n",
       "    <tr>\n",
       "      <th>329</th>\n",
       "      <td>2023-06-24 00:00:00+00:00</td>\n",
       "      <td>Base</td>\n",
       "      <td>NaN</td>\n",
       "      <td>1424</td>\n",
       "      <td>24</td>\n",
       "      <td>2038403.0</td>\n",
       "      <td>14.842148</td>\n",
       "      <td>14.638570</td>\n",
       "      <td>NaN</td>\n",
       "      <td>6.230355e+07</td>\n",
       "      <td>...</td>\n",
       "      <td>NaN</td>\n",
       "      <td>NaN</td>\n",
       "      <td>NaN</td>\n",
       "      <td>NaN</td>\n",
       "      <td>NaN</td>\n",
       "      <td>NaN</td>\n",
       "      <td>NaN</td>\n",
       "      <td>NaN</td>\n",
       "      <td>NaN</td>\n",
       "      <td>87</td>\n",
       "    </tr>\n",
       "    <tr>\n",
       "      <th>255</th>\n",
       "      <td>2023-07-17 00:00:00+00:00</td>\n",
       "      <td>Public Goods Network</td>\n",
       "      <td>86400.0</td>\n",
       "      <td>145</td>\n",
       "      <td>24</td>\n",
       "      <td>1861642.0</td>\n",
       "      <td>21.050896</td>\n",
       "      <td>19.874771</td>\n",
       "      <td>25.238927</td>\n",
       "      <td>3.277944e+07</td>\n",
       "      <td>...</td>\n",
       "      <td>1.717600e+05</td>\n",
       "      <td>11243646.0</td>\n",
       "      <td>8.329290e+07</td>\n",
       "      <td>1.717600e+05</td>\n",
       "      <td>10386.0</td>\n",
       "      <td>2.177028e+09</td>\n",
       "      <td>0.006875</td>\n",
       "      <td>190.844457</td>\n",
       "      <td>0.165573</td>\n",
       "      <td>64</td>\n",
       "    </tr>\n",
       "  </tbody>\n",
       "</table>\n",
       "<p>5 rows × 30 columns</p>\n",
       "</div>"
      ],
      "text/plain": [
       "                           dt                 chain  active_secs_per_day  \\\n",
       "161 2023-08-09 00:00:00+00:00                  Base              86400.0   \n",
       "175 2023-08-06 00:00:00+00:00  Public Goods Network              86400.0   \n",
       "40  2023-09-08 00:00:00+00:00                  Base              86400.0   \n",
       "329 2023-06-24 00:00:00+00:00                  Base                  NaN   \n",
       "255 2023-07-17 00:00:00+00:00  Public Goods Network              86400.0   \n",
       "\n",
       "     num_l1_txs_inbox  num_l1_txs_output  calldata_bytes_l1_inbox  \\\n",
       "161              1431                 24               74396284.0   \n",
       "175               145                 24                1887171.0   \n",
       "40               1428                 24               64497364.0   \n",
       "329              1424                 24                2038403.0   \n",
       "255               145                 24                1861642.0   \n",
       "\n",
       "     avg_l1_gas_price_on_l1_inbox  avg_l1_gas_price_on_l1_output  \\\n",
       "161                     23.617619                      20.593268   \n",
       "175                     14.472291                      14.774123   \n",
       "40                      15.453782                      15.158924   \n",
       "329                     14.842148                      14.638570   \n",
       "255                     21.050896                      19.874771   \n",
       "\n",
       "     avg_l1_gas_price_on_l2  l1_gas_used_inbox  ...  l1_gas_used_on_l2  \\\n",
       "161               23.712454       1.216806e+09  ...       2.051333e+09   \n",
       "175               12.696032       3.318583e+07  ...       8.042440e+05   \n",
       "40                15.295237       1.058815e+09  ...       1.611126e+09   \n",
       "329                     NaN       6.230355e+07  ...                NaN   \n",
       "255               25.238927       3.277944e+07  ...       1.717600e+05   \n",
       "\n",
       "     calldata_bytes_l2_per_day  calldata_gas_l2_per_day  \\\n",
       "161                156005725.0             1.259559e+09   \n",
       "175                 11322505.0             8.397921e+07   \n",
       "40                 119829129.0             9.883465e+08   \n",
       "329                        NaN                      NaN   \n",
       "255                 11243646.0             8.329290e+07   \n",
       "\n",
       "     l1_gas_used_user_txs_l2_per_day  calldata_bytes_user_txs_l2_per_day  \\\n",
       "161                     2.051333e+09                         143579019.0   \n",
       "175                     8.042440e+05                             49345.0   \n",
       "40                      1.611126e+09                         108218332.0   \n",
       "329                              NaN                                 NaN   \n",
       "255                     1.717600e+05                             10386.0   \n",
       "\n",
       "      l2_gas_used  l2_eth_fees_per_day  gas_compression_ratio  \\\n",
       "161  9.987607e+10           115.077455               0.593178   \n",
       "175  2.202757e+09             0.036471              41.263388   \n",
       "40   2.211997e+11            33.423184               0.657189   \n",
       "329           NaN                  NaN                    NaN   \n",
       "255  2.177028e+09             0.006875             190.844457   \n",
       "\n",
       "     bytes_compression_ratio  dt_rank  \n",
       "161                 0.476882       41  \n",
       "175                 0.166674       44  \n",
       "40                  0.538244       11  \n",
       "329                      NaN       87  \n",
       "255                 0.165573       64  \n",
       "\n",
       "[5 rows x 30 columns]"
      ]
     },
     "metadata": {},
     "output_type": "display_data"
    }
   ],
   "source": [
    "display( combo_df.sample(5) )\n",
    "\n",
    "combo_df.to_csv('outputs/op_chain_gas_economics_sample.csv')"
   ]
  },
  {
   "cell_type": "code",
   "execution_count": 7,
   "metadata": {},
   "outputs": [
    {
     "name": "stdout",
     "output_type": "stream",
     "text": [
      "Blended gas compression ratio: 62.4%\n",
      "Blended bytes compression ratio: 46.1%\n"
     ]
    }
   ],
   "source": [
    "bl_gas_ratio = combo_df['l1_gas_used_inbox'].sum() / combo_df['l1_gas_used_on_l2'].sum()\n",
    "bl_bytes_ratio = combo_df['calldata_bytes_l1_inbox'].sum() / combo_df['calldata_bytes_l2_per_day'].sum()\n",
    "print('Blended gas compression ratio: ' + str(round(bl_gas_ratio*100,1)) + '%')\n",
    "print('Blended bytes compression ratio: ' + str(round(bl_bytes_ratio*100,1)) + '%')"
   ]
  },
  {
   "cell_type": "code",
   "execution_count": 8,
   "metadata": {},
   "outputs": [
    {
     "data": {
      "text/html": [
       "<div>\n",
       "<style scoped>\n",
       "    .dataframe tbody tr th:only-of-type {\n",
       "        vertical-align: middle;\n",
       "    }\n",
       "\n",
       "    .dataframe tbody tr th {\n",
       "        vertical-align: top;\n",
       "    }\n",
       "\n",
       "    .dataframe thead th {\n",
       "        text-align: right;\n",
       "    }\n",
       "</style>\n",
       "<table border=\"1\" class=\"dataframe\">\n",
       "  <thead>\n",
       "    <tr style=\"text-align: right;\">\n",
       "      <th></th>\n",
       "      <th>dt</th>\n",
       "      <th>chain</th>\n",
       "      <th>active_secs_per_day</th>\n",
       "      <th>num_l1_txs_inbox</th>\n",
       "      <th>num_l1_txs_output</th>\n",
       "      <th>calldata_bytes_l1_inbox</th>\n",
       "      <th>avg_l1_gas_price_on_l1_inbox</th>\n",
       "      <th>avg_l1_gas_price_on_l1_output</th>\n",
       "      <th>avg_l1_gas_price_on_l2</th>\n",
       "      <th>l1_gas_used_inbox</th>\n",
       "      <th>...</th>\n",
       "      <th>l1_gas_used_on_l2</th>\n",
       "      <th>calldata_bytes_l2_per_day</th>\n",
       "      <th>calldata_gas_l2_per_day</th>\n",
       "      <th>l1_gas_used_user_txs_l2_per_day</th>\n",
       "      <th>calldata_bytes_user_txs_l2_per_day</th>\n",
       "      <th>l2_gas_used</th>\n",
       "      <th>l2_eth_fees_per_day</th>\n",
       "      <th>gas_compression_ratio</th>\n",
       "      <th>bytes_compression_ratio</th>\n",
       "      <th>dt_rank</th>\n",
       "    </tr>\n",
       "  </thead>\n",
       "  <tbody>\n",
       "    <tr>\n",
       "      <th>0</th>\n",
       "      <td>2023-09-18 00:00:00+00:00</td>\n",
       "      <td>Base</td>\n",
       "      <td>86400.0</td>\n",
       "      <td>1765</td>\n",
       "      <td>24</td>\n",
       "      <td>126965466.0</td>\n",
       "      <td>19.491563</td>\n",
       "      <td>14.246336</td>\n",
       "      <td>20.030596</td>\n",
       "      <td>2.061455e+09</td>\n",
       "      <td>...</td>\n",
       "      <td>4.034988e+09</td>\n",
       "      <td>194285446.0</td>\n",
       "      <td>1.477366e+09</td>\n",
       "      <td>4.034988e+09</td>\n",
       "      <td>182163366.0</td>\n",
       "      <td>2.206090e+11</td>\n",
       "      <td>93.363777</td>\n",
       "      <td>0.510895</td>\n",
       "      <td>0.653500</td>\n",
       "      <td>1</td>\n",
       "    </tr>\n",
       "    <tr>\n",
       "      <th>1</th>\n",
       "      <td>2023-09-18 00:00:00+00:00</td>\n",
       "      <td>OP Mainnet</td>\n",
       "      <td>86400.0</td>\n",
       "      <td>546</td>\n",
       "      <td>24</td>\n",
       "      <td>62864270.0</td>\n",
       "      <td>15.981227</td>\n",
       "      <td>15.227230</td>\n",
       "      <td>15.548883</td>\n",
       "      <td>1.014413e+09</td>\n",
       "      <td>...</td>\n",
       "      <td>1.515646e+09</td>\n",
       "      <td>131183212.0</td>\n",
       "      <td>1.056304e+09</td>\n",
       "      <td>1.515646e+09</td>\n",
       "      <td>119737172.0</td>\n",
       "      <td>2.211299e+11</td>\n",
       "      <td>56.276676</td>\n",
       "      <td>0.669294</td>\n",
       "      <td>0.479210</td>\n",
       "      <td>1</td>\n",
       "    </tr>\n",
       "    <tr>\n",
       "      <th>2</th>\n",
       "      <td>2023-09-18 00:00:00+00:00</td>\n",
       "      <td>Zora Network</td>\n",
       "      <td>86400.0</td>\n",
       "      <td>147</td>\n",
       "      <td>24</td>\n",
       "      <td>9501709.0</td>\n",
       "      <td>14.265629</td>\n",
       "      <td>16.688630</td>\n",
       "      <td>13.736038</td>\n",
       "      <td>1.546667e+08</td>\n",
       "      <td>...</td>\n",
       "      <td>1.945070e+08</td>\n",
       "      <td>22572491.0</td>\n",
       "      <td>1.733268e+08</td>\n",
       "      <td>1.945070e+08</td>\n",
       "      <td>11337899.0</td>\n",
       "      <td>1.062391e+10</td>\n",
       "      <td>3.380593</td>\n",
       "      <td>0.795173</td>\n",
       "      <td>0.420942</td>\n",
       "      <td>1</td>\n",
       "    </tr>\n",
       "    <tr>\n",
       "      <th>4</th>\n",
       "      <td>2023-09-17 00:00:00+00:00</td>\n",
       "      <td>Base</td>\n",
       "      <td>86400.0</td>\n",
       "      <td>1534</td>\n",
       "      <td>24</td>\n",
       "      <td>114930716.0</td>\n",
       "      <td>9.161427</td>\n",
       "      <td>8.775919</td>\n",
       "      <td>9.087644</td>\n",
       "      <td>1.864776e+09</td>\n",
       "      <td>...</td>\n",
       "      <td>3.609370e+09</td>\n",
       "      <td>194144328.0</td>\n",
       "      <td>1.440871e+09</td>\n",
       "      <td>3.609370e+09</td>\n",
       "      <td>182047165.0</td>\n",
       "      <td>2.202859e+11</td>\n",
       "      <td>39.379208</td>\n",
       "      <td>0.516649</td>\n",
       "      <td>0.591986</td>\n",
       "      <td>2</td>\n",
       "    </tr>\n",
       "    <tr>\n",
       "      <th>5</th>\n",
       "      <td>2023-09-17 00:00:00+00:00</td>\n",
       "      <td>OP Mainnet</td>\n",
       "      <td>86400.0</td>\n",
       "      <td>467</td>\n",
       "      <td>24</td>\n",
       "      <td>53929488.0</td>\n",
       "      <td>9.179985</td>\n",
       "      <td>8.717410</td>\n",
       "      <td>9.114567</td>\n",
       "      <td>8.702823e+08</td>\n",
       "      <td>...</td>\n",
       "      <td>1.332877e+09</td>\n",
       "      <td>117005933.0</td>\n",
       "      <td>9.119203e+08</td>\n",
       "      <td>1.332877e+09</td>\n",
       "      <td>105560593.0</td>\n",
       "      <td>2.215978e+11</td>\n",
       "      <td>53.443908</td>\n",
       "      <td>0.652935</td>\n",
       "      <td>0.460912</td>\n",
       "      <td>2</td>\n",
       "    </tr>\n",
       "    <tr>\n",
       "      <th>...</th>\n",
       "      <td>...</td>\n",
       "      <td>...</td>\n",
       "      <td>...</td>\n",
       "      <td>...</td>\n",
       "      <td>...</td>\n",
       "      <td>...</td>\n",
       "      <td>...</td>\n",
       "      <td>...</td>\n",
       "      <td>...</td>\n",
       "      <td>...</td>\n",
       "      <td>...</td>\n",
       "      <td>...</td>\n",
       "      <td>...</td>\n",
       "      <td>...</td>\n",
       "      <td>...</td>\n",
       "      <td>...</td>\n",
       "      <td>...</td>\n",
       "      <td>...</td>\n",
       "      <td>...</td>\n",
       "      <td>...</td>\n",
       "      <td>...</td>\n",
       "    </tr>\n",
       "    <tr>\n",
       "      <th>325</th>\n",
       "      <td>2023-06-25 00:00:00+00:00</td>\n",
       "      <td>OP Mainnet</td>\n",
       "      <td>86400.0</td>\n",
       "      <td>878</td>\n",
       "      <td>24</td>\n",
       "      <td>96019912.0</td>\n",
       "      <td>13.110790</td>\n",
       "      <td>12.860897</td>\n",
       "      <td>12.998240</td>\n",
       "      <td>1.550488e+09</td>\n",
       "      <td>...</td>\n",
       "      <td>2.544884e+09</td>\n",
       "      <td>217137993.0</td>\n",
       "      <td>1.667716e+09</td>\n",
       "      <td>2.544884e+09</td>\n",
       "      <td>205688377.0</td>\n",
       "      <td>1.623467e+11</td>\n",
       "      <td>27.251725</td>\n",
       "      <td>0.609257</td>\n",
       "      <td>0.442207</td>\n",
       "      <td>86</td>\n",
       "    </tr>\n",
       "    <tr>\n",
       "      <th>328</th>\n",
       "      <td>2023-06-24 00:00:00+00:00</td>\n",
       "      <td>OP Mainnet</td>\n",
       "      <td>86400.0</td>\n",
       "      <td>781</td>\n",
       "      <td>24</td>\n",
       "      <td>85566933.0</td>\n",
       "      <td>15.243767</td>\n",
       "      <td>17.169366</td>\n",
       "      <td>14.978029</td>\n",
       "      <td>1.381636e+09</td>\n",
       "      <td>...</td>\n",
       "      <td>2.227030e+09</td>\n",
       "      <td>186589428.0</td>\n",
       "      <td>1.465352e+09</td>\n",
       "      <td>2.227030e+09</td>\n",
       "      <td>175148720.0</td>\n",
       "      <td>1.313212e+11</td>\n",
       "      <td>26.593378</td>\n",
       "      <td>0.620394</td>\n",
       "      <td>0.458584</td>\n",
       "      <td>87</td>\n",
       "    </tr>\n",
       "    <tr>\n",
       "      <th>331</th>\n",
       "      <td>2023-06-23 00:00:00+00:00</td>\n",
       "      <td>OP Mainnet</td>\n",
       "      <td>86400.0</td>\n",
       "      <td>914</td>\n",
       "      <td>24</td>\n",
       "      <td>101164449.0</td>\n",
       "      <td>19.046680</td>\n",
       "      <td>17.070065</td>\n",
       "      <td>18.736747</td>\n",
       "      <td>1.633251e+09</td>\n",
       "      <td>...</td>\n",
       "      <td>2.649824e+09</td>\n",
       "      <td>222876030.0</td>\n",
       "      <td>1.731425e+09</td>\n",
       "      <td>2.649824e+09</td>\n",
       "      <td>211437942.0</td>\n",
       "      <td>1.583357e+11</td>\n",
       "      <td>40.881082</td>\n",
       "      <td>0.616362</td>\n",
       "      <td>0.453905</td>\n",
       "      <td>88</td>\n",
       "    </tr>\n",
       "    <tr>\n",
       "      <th>334</th>\n",
       "      <td>2023-06-22 00:00:00+00:00</td>\n",
       "      <td>OP Mainnet</td>\n",
       "      <td>86400.0</td>\n",
       "      <td>912</td>\n",
       "      <td>24</td>\n",
       "      <td>100270453.0</td>\n",
       "      <td>16.844497</td>\n",
       "      <td>15.514757</td>\n",
       "      <td>16.707737</td>\n",
       "      <td>1.618922e+09</td>\n",
       "      <td>...</td>\n",
       "      <td>2.651979e+09</td>\n",
       "      <td>223576530.0</td>\n",
       "      <td>1.739353e+09</td>\n",
       "      <td>2.651979e+09</td>\n",
       "      <td>212120234.0</td>\n",
       "      <td>1.919369e+11</td>\n",
       "      <td>35.849179</td>\n",
       "      <td>0.610458</td>\n",
       "      <td>0.448484</td>\n",
       "      <td>89</td>\n",
       "    </tr>\n",
       "    <tr>\n",
       "      <th>337</th>\n",
       "      <td>2023-06-21 00:00:00+00:00</td>\n",
       "      <td>OP Mainnet</td>\n",
       "      <td>86400.0</td>\n",
       "      <td>939</td>\n",
       "      <td>24</td>\n",
       "      <td>104028102.0</td>\n",
       "      <td>21.680594</td>\n",
       "      <td>19.445291</td>\n",
       "      <td>21.654870</td>\n",
       "      <td>1.679352e+09</td>\n",
       "      <td>...</td>\n",
       "      <td>2.773219e+09</td>\n",
       "      <td>237733446.0</td>\n",
       "      <td>1.851856e+09</td>\n",
       "      <td>2.773219e+09</td>\n",
       "      <td>226332498.0</td>\n",
       "      <td>1.778304e+11</td>\n",
       "      <td>48.054439</td>\n",
       "      <td>0.605561</td>\n",
       "      <td>0.437583</td>\n",
       "      <td>90</td>\n",
       "    </tr>\n",
       "  </tbody>\n",
       "</table>\n",
       "<p>205 rows × 30 columns</p>\n",
       "</div>"
      ],
      "text/plain": [
       "                           dt         chain  active_secs_per_day  \\\n",
       "0   2023-09-18 00:00:00+00:00          Base              86400.0   \n",
       "1   2023-09-18 00:00:00+00:00    OP Mainnet              86400.0   \n",
       "2   2023-09-18 00:00:00+00:00  Zora Network              86400.0   \n",
       "4   2023-09-17 00:00:00+00:00          Base              86400.0   \n",
       "5   2023-09-17 00:00:00+00:00    OP Mainnet              86400.0   \n",
       "..                        ...           ...                  ...   \n",
       "325 2023-06-25 00:00:00+00:00    OP Mainnet              86400.0   \n",
       "328 2023-06-24 00:00:00+00:00    OP Mainnet              86400.0   \n",
       "331 2023-06-23 00:00:00+00:00    OP Mainnet              86400.0   \n",
       "334 2023-06-22 00:00:00+00:00    OP Mainnet              86400.0   \n",
       "337 2023-06-21 00:00:00+00:00    OP Mainnet              86400.0   \n",
       "\n",
       "     num_l1_txs_inbox  num_l1_txs_output  calldata_bytes_l1_inbox  \\\n",
       "0                1765                 24              126965466.0   \n",
       "1                 546                 24               62864270.0   \n",
       "2                 147                 24                9501709.0   \n",
       "4                1534                 24              114930716.0   \n",
       "5                 467                 24               53929488.0   \n",
       "..                ...                ...                      ...   \n",
       "325               878                 24               96019912.0   \n",
       "328               781                 24               85566933.0   \n",
       "331               914                 24              101164449.0   \n",
       "334               912                 24              100270453.0   \n",
       "337               939                 24              104028102.0   \n",
       "\n",
       "     avg_l1_gas_price_on_l1_inbox  avg_l1_gas_price_on_l1_output  \\\n",
       "0                       19.491563                      14.246336   \n",
       "1                       15.981227                      15.227230   \n",
       "2                       14.265629                      16.688630   \n",
       "4                        9.161427                       8.775919   \n",
       "5                        9.179985                       8.717410   \n",
       "..                            ...                            ...   \n",
       "325                     13.110790                      12.860897   \n",
       "328                     15.243767                      17.169366   \n",
       "331                     19.046680                      17.070065   \n",
       "334                     16.844497                      15.514757   \n",
       "337                     21.680594                      19.445291   \n",
       "\n",
       "     avg_l1_gas_price_on_l2  l1_gas_used_inbox  ...  l1_gas_used_on_l2  \\\n",
       "0                 20.030596       2.061455e+09  ...       4.034988e+09   \n",
       "1                 15.548883       1.014413e+09  ...       1.515646e+09   \n",
       "2                 13.736038       1.546667e+08  ...       1.945070e+08   \n",
       "4                  9.087644       1.864776e+09  ...       3.609370e+09   \n",
       "5                  9.114567       8.702823e+08  ...       1.332877e+09   \n",
       "..                      ...                ...  ...                ...   \n",
       "325               12.998240       1.550488e+09  ...       2.544884e+09   \n",
       "328               14.978029       1.381636e+09  ...       2.227030e+09   \n",
       "331               18.736747       1.633251e+09  ...       2.649824e+09   \n",
       "334               16.707737       1.618922e+09  ...       2.651979e+09   \n",
       "337               21.654870       1.679352e+09  ...       2.773219e+09   \n",
       "\n",
       "     calldata_bytes_l2_per_day  calldata_gas_l2_per_day  \\\n",
       "0                  194285446.0             1.477366e+09   \n",
       "1                  131183212.0             1.056304e+09   \n",
       "2                   22572491.0             1.733268e+08   \n",
       "4                  194144328.0             1.440871e+09   \n",
       "5                  117005933.0             9.119203e+08   \n",
       "..                         ...                      ...   \n",
       "325                217137993.0             1.667716e+09   \n",
       "328                186589428.0             1.465352e+09   \n",
       "331                222876030.0             1.731425e+09   \n",
       "334                223576530.0             1.739353e+09   \n",
       "337                237733446.0             1.851856e+09   \n",
       "\n",
       "     l1_gas_used_user_txs_l2_per_day  calldata_bytes_user_txs_l2_per_day  \\\n",
       "0                       4.034988e+09                         182163366.0   \n",
       "1                       1.515646e+09                         119737172.0   \n",
       "2                       1.945070e+08                          11337899.0   \n",
       "4                       3.609370e+09                         182047165.0   \n",
       "5                       1.332877e+09                         105560593.0   \n",
       "..                               ...                                 ...   \n",
       "325                     2.544884e+09                         205688377.0   \n",
       "328                     2.227030e+09                         175148720.0   \n",
       "331                     2.649824e+09                         211437942.0   \n",
       "334                     2.651979e+09                         212120234.0   \n",
       "337                     2.773219e+09                         226332498.0   \n",
       "\n",
       "      l2_gas_used  l2_eth_fees_per_day  gas_compression_ratio  \\\n",
       "0    2.206090e+11            93.363777               0.510895   \n",
       "1    2.211299e+11            56.276676               0.669294   \n",
       "2    1.062391e+10             3.380593               0.795173   \n",
       "4    2.202859e+11            39.379208               0.516649   \n",
       "5    2.215978e+11            53.443908               0.652935   \n",
       "..            ...                  ...                    ...   \n",
       "325  1.623467e+11            27.251725               0.609257   \n",
       "328  1.313212e+11            26.593378               0.620394   \n",
       "331  1.583357e+11            40.881082               0.616362   \n",
       "334  1.919369e+11            35.849179               0.610458   \n",
       "337  1.778304e+11            48.054439               0.605561   \n",
       "\n",
       "     bytes_compression_ratio  dt_rank  \n",
       "0                   0.653500        1  \n",
       "1                   0.479210        1  \n",
       "2                   0.420942        1  \n",
       "4                   0.591986        2  \n",
       "5                   0.460912        2  \n",
       "..                       ...      ...  \n",
       "325                 0.442207       86  \n",
       "328                 0.458584       87  \n",
       "331                 0.453905       88  \n",
       "334                 0.448484       89  \n",
       "337                 0.437583       90  \n",
       "\n",
       "[205 rows x 30 columns]"
      ]
     },
     "metadata": {},
     "output_type": "display_data"
    },
    {
     "data": {
      "application/vnd.plotly.v1+json": {
       "config": {
        "plotlyServerURL": "https://plot.ly"
       },
       "data": [
        {
         "hovertemplate": "chain=Base<br>l1_gas_used_user_txs_l2_per_day=%{x}<br>l1_gas_used_inbox=%{y}<br>gas_compression_ratio=%{marker.size}<extra></extra>",
         "legendgroup": "Base",
         "marker": {
          "color": "#636efa",
          "size": [
           0.5108949012119399,
           0.5166485533477421,
           0.5062145334550593,
           0.5037181985318704,
           0.5030714434323221,
           0.5302551460358241,
           0.5740148888374973,
           0.6049074348345752,
           0.5796071846454435,
           0.6103886633863426,
           0.6571891163205019,
           0.6533297321359564,
           0.6509596342007086,
           0.6415378930769602,
           0.6526231846899266,
           0.6643164290139473,
           0.6624897265196352,
           0.6633831320036564,
           0.6440568797163835,
           0.6357925264025441,
           0.6232466035381871,
           0.6239799655208106,
           0.6248732264703654,
           0.6437734935525392,
           0.596991826237899,
           0.6057759589406139,
           0.594588339959612,
           0.5772606456291945,
           0.560114053065751,
           0.5909062116534498,
           0.6228596450729081,
           0.6585677747663877,
           0.6509662743660976,
           0.6460576087019868,
           0.6182048763348468,
           0.603142374850007,
           0.6099253779116961,
           0.6160460809774924,
           0.6114015713220653,
           0.5963085873079382,
           0.5931782637263202,
           0.6110737508003095,
           0.607920045227735,
           0.6308603103760037,
           0.6196854541618404,
           0.60950158744066,
           0.5378773146727404,
           0.6487023061864757,
           0.6381872428101217,
           0.5785490270417297,
           0.5525170855059184,
           0.9939182449610495,
           0.9751917427831716,
           0.7969344250160368,
           0.8227490399105394,
           0.7232981975866489,
           0.6859022196741208,
           0.7695104927131055,
           0.7968966815101508,
           0.7442598950538177,
           0.9777913407574317,
           0.9219686274372277
          ],
          "sizemode": "area",
          "sizeref": 0.002484795612402624,
          "symbol": "circle"
         },
         "mode": "markers",
         "name": "Base",
         "orientation": "v",
         "showlegend": true,
         "type": "scatter",
         "x": [
          4034988032,
          3609369820,
          4900869264,
          5036583668,
          5528469716,
          4137041740,
          2463781340,
          2005229928,
          2530988640,
          1917792584,
          1611126164,
          1417439664,
          1453731848,
          1481678040,
          1359355372,
          1259588364,
          1275833460,
          1426713328,
          2048394180,
          1624778652,
          1565542112,
          1533664824,
          1673744516,
          1567113996,
          2419652512,
          2698458656,
          2859008416,
          3255631712,
          4395649312,
          2819605012,
          2205816400,
          1658064852,
          1486342648,
          1765986396,
          2090139812,
          2141643668,
          2157686064,
          1965204840,
          2354520236,
          2580161904,
          2051333244,
          1472299196,
          1530628936,
          1278989340,
          1222326648,
          1146643176,
          1804413396,
          728572480,
          777033884,
          2357978004,
          2536891808,
          68405912,
          72533108,
          113912464,
          108339904,
          137868708,
          159240132,
          122976392,
          107954888,
          129850936,
          75932184,
          98091572
         ],
         "xaxis": "x",
         "y": [
          2061454812,
          1864775696,
          2480891248,
          2537018852,
          2781215240,
          2193687672,
          1414247172,
          1212978492,
          1466979200,
          1170598852,
          1058814580,
          926055476,
          946320752,
          950552608,
          887146832,
          836765244,
          845226560,
          946457556,
          1319282364,
          1033022124,
          975718804,
          956976124,
          1045878136,
          1008866452,
          1444512772,
          1634661380,
          1699933068,
          1879348064,
          2462064952,
          1666122116,
          1373914020,
          1091948080,
          967558936,
          1140928948,
          1292134624,
          1291716048,
          1316027488,
          1210656740,
          1439557372,
          1538572700,
          1216806292,
          899683392,
          930500012,
          806863612,
          757458044,
          698880836,
          970553032,
          472626648,
          495893112,
          1364205880,
          1401676068,
          67989884,
          70733688,
          90780764,
          89136552,
          99720188,
          109223160,
          94631624,
          86028892,
          96642844,
          74245832,
          90437352
         ],
         "yaxis": "y"
        },
        {
         "hovertemplate": "chain=OP Mainnet<br>l1_gas_used_user_txs_l2_per_day=%{x}<br>l1_gas_used_inbox=%{y}<br>gas_compression_ratio=%{marker.size}<extra></extra>",
         "legendgroup": "OP Mainnet",
         "marker": {
          "color": "#EF553B",
          "size": [
           0.6692938585858162,
           0.652935231629888,
           0.6461421621487521,
           0.651443054023178,
           0.6530418957829527,
           0.6726360747586478,
           0.7064563140926439,
           0.7710639517504301,
           0.6377198191526429,
           0.630790193915274,
           0.6328789825326271,
           0.6369792591968394,
           0.6288927383571395,
           0.6316803086677656,
           0.636583051376595,
           0.6420754782042577,
           0.6458976627119016,
           0.6623522790654056,
           0.6457912328710721,
           0.6522497089769667,
           0.6823568553463106,
           0.7638916369883476,
           0.6352814720846844,
           0.625925660944065,
           0.644454336480187,
           0.6323232851317713,
           0.6316546554358953,
           0.626798845675281,
           0.6256524493462025,
           0.6327592926861472,
           0.6381055440653646,
           0.6483059624801706,
           0.6473863666228297,
           0.639615222044991,
           0.6484974513478903,
           0.6818113278129606,
           0.6286616015843254,
           0.619583677509803,
           0.6429552569435163,
           0.6293944581917041,
           0.6322175020621632,
           0.6476322584231179,
           0.6689378743857274,
           0.6130742010602457,
           0.6061064789493976,
           0.6026113817027114,
           0.602893699164668,
           0.5983587145681064,
           0.6065454681553281,
           0.5989646857908922,
           0.5823775862178309,
           0.5755718612469104,
           0.574547264404579,
           0.5269758495487037,
           0.5591007404480739,
           0.5366475101060633,
           0.5540318023231858,
           0.5478036782774166,
           0.536597329281706,
           0.5751877670710164,
           0.6099208739642692,
           0.6098580331497064,
           0.6090132104800619,
           0.5823810261701383,
           0.5941475024596766,
           0.5966670249158078,
           0.6261354205972813,
           0.6176579569837813,
           0.6052885550223321,
           0.5985302902558145,
           0.5977972598878272,
           0.5779152138089039,
           0.5890673585390295,
           0.6138686494608272,
           0.6248904813507903,
           0.6250415895255692,
           0.6041355828893786,
           0.601137687758418,
           0.5960249722634353,
           0.5533917513569558,
           0.6189098816729458,
           0.592497625355763,
           0.5743195859058343,
           0.5672540372363877,
           0.5970032954182212,
           0.6092569789688866,
           0.6203939964863054,
           0.616361902616871,
           0.6104580676154677,
           0.6055606584188247
          ],
          "sizemode": "area",
          "sizeref": 0.002484795612402624,
          "symbol": "circle"
         },
         "mode": "markers",
         "name": "OP Mainnet",
         "orientation": "v",
         "showlegend": true,
         "type": "scatter",
         "x": [
          1515646156,
          1332876956,
          1427724340,
          1883986016,
          1695935748,
          1572977620,
          2479246296,
          2724058604,
          1522553408,
          1535685528,
          1715657884,
          1797814468,
          1827877280,
          1733534044,
          1588360692,
          1427851988,
          1601747428,
          1865555148,
          2219690592,
          2078588052,
          2535535772,
          2943488808,
          1584265596,
          1624038488,
          1658240852,
          1939386388,
          2175503396,
          2073245388,
          2074992500,
          1908640916,
          2017593384,
          2288132792,
          2883310592,
          3887868472,
          6483200252,
          3828842880,
          2042855108,
          1985401076,
          2393027576,
          2683537648,
          2992013416,
          4659603188,
          4570945484,
          2543750876,
          3012765188,
          3532204576,
          3556359184,
          3201669556,
          3723713724,
          3719761176,
          3406542324,
          3549332484,
          3643590468,
          5585550280,
          4851365716,
          5340692872,
          4059129116,
          2925933088,
          3034940532,
          2470240908,
          2687169628,
          2562964236,
          2451479420,
          2708720568,
          2277462008,
          2598898996,
          2864925128,
          2593799908,
          2333434208,
          2350755320,
          2344435992,
          2357913776,
          2318607236,
          1832748320,
          1981680760,
          1585940188,
          2145848708,
          2339230936,
          2224651848,
          2567022368,
          2534681540,
          2647579752,
          2892121308,
          3114544652,
          2771684620,
          2544883820,
          2227030216,
          2649823912,
          2651978876,
          2773218644
         ],
         "xaxis": "x",
         "y": [
          1014412664,
          870282324,
          922512892,
          1227309604,
          1107517096,
          1058041492,
          1751479200,
          2100423392,
          970962484,
          968695372,
          1085803816,
          1145170528,
          1149538748,
          1095039320,
          1011123496,
          916788748,
          1034564920,
          1235654704,
          1433456724,
          1355758452,
          1730140216,
          2248506484,
          1006454580,
          1016527364,
          1068660508,
          1226319172,
          1374166848,
          1299507816,
          1298224140,
          1207710276,
          1287437524,
          1483410132,
          1866615968,
          2486739856,
          4204338840,
          2610548448,
          1284264564,
          1230122100,
          1538609660,
          1689003724,
          1891603248,
          3017709336,
          3057678556,
          1559508036,
          1826056500,
          2128546680,
          2144106544,
          1915746880,
          2258601684,
          2228005584,
          1983893896,
          2042895904,
          2093414936,
          2943450104,
          2712402164,
          2866069532,
          2248886620,
          1602836908,
          1628540984,
          1420852352,
          1638960848,
          1563044328,
          1492983352,
          1577507464,
          1353148364,
          1550677332,
          1793831100,
          1602081152,
          1412401020,
          1406998264,
          1401497412,
          1362674244,
          1365815840,
          1125066736,
          1238333444,
          991278576,
          1296383560,
          1406199876,
          1325948056,
          1420569004,
          1568739452,
          1568684716,
          1661001912,
          1766738028,
          1654704852,
          1550488228,
          1381636176,
          1633250508,
          1618921900,
          1679352108
         ],
         "yaxis": "y"
        },
        {
         "hovertemplate": "chain=Zora Network<br>l1_gas_used_user_txs_l2_per_day=%{x}<br>l1_gas_used_inbox=%{y}<br>gas_compression_ratio=%{marker.size}<extra></extra>",
         "legendgroup": "Zora Network",
         "marker": {
          "color": "#00cc96",
          "size": [
           0.7951726369567536,
           0.7185321486908766,
           0.7412710795419845,
           0.723269905137902,
           0.6989964733200085,
           0.7087657334837861,
           0.6928150538436314,
           0.6965514420363789,
           0.6746426264792353,
           0.6826196974767633,
           0.6781291259287703,
           0.6702499872877956,
           0.6570275892675111,
           0.6794633465635096,
           0.6872388034029516,
           0.6722565095085852,
           0.6793360250451858,
           0.6751134134522516,
           0.678006137242025,
           0.7120501272206365,
           0.7196785220904297,
           0.7161923154538071,
           0.6776823390749205,
           0.7132596149534152,
           0.7218728667072098,
           0.6813320716914013,
           0.7015500381641802,
           0.7552838617207296,
           0.7164850347373173,
           0.7279903473939301,
           0.7150289076437932,
           0.6420158993001036,
           0.670536811733899,
           0.6604633480000703,
           0.6569503754772517,
           0.7018004574274452,
           0.7333866475546056,
           0.7585970530450564,
           0.785873913282781,
           0.7087171527756118,
           0.7563784852075496,
           0.872823838056046,
           0.8077381629993535,
           0.799716173360711,
           0.7943129031014127,
           0.8318278925546165,
           0.9072467474743624,
           0.963271726615512,
           0.8640256956141963,
           0.8005721842078599,
           0.837837238338577,
           0.9886400411488181,
           0.9808546065846737
          ],
          "sizemode": "area",
          "sizeref": 0.002484795612402624,
          "symbol": "circle"
         },
         "mode": "markers",
         "name": "Zora Network",
         "orientation": "v",
         "showlegend": true,
         "type": "scatter",
         "x": [
          194507020,
          337127880,
          268859020,
          245971368,
          265725272,
          264821832,
          301968860,
          281727844,
          344125104,
          298317316,
          284926756,
          332672436,
          379702868,
          306869180,
          275112696,
          310097448,
          303877004,
          271952748,
          285544548,
          232504732,
          225919100,
          215759260,
          222732840,
          244041536,
          188546552,
          244692776,
          278591076,
          190602452,
          225331160,
          209753924,
          225748596,
          375139532,
          308612032,
          337587472,
          298542720,
          212700836,
          158436776,
          144813344,
          126745024,
          164665968,
          136624288,
          101340344,
          123753816,
          117282860,
          118043496,
          102422716,
          87708148,
          76604200,
          94485852,
          116654740,
          106936092,
          71762936,
          73199436
         ],
         "xaxis": "x",
         "y": [
          154666660,
          242237220,
          199297416,
          177903688,
          185741028,
          187696640,
          209208572,
          196237936,
          232161464,
          203637276,
          193217132,
          222973696,
          249475260,
          208506360,
          189068120,
          208465028,
          206434596,
          183598948,
          193600956,
          165555024,
          162589124,
          154525124,
          150942112,
          174064972,
          136106640,
          166717036,
          195445580,
          143958956,
          161446404,
          152698832,
          161416772,
          240845544,
          206935728,
          222964152,
          196127752,
          149273544,
          116195416,
          109854976,
          99605608,
          116701596,
          103339672,
          88452268,
          99960680,
          93793000,
          93763472,
          85198072,
          79572932,
          73790660,
          81638204,
          93390540,
          89595040,
          70947712,
          71798004
         ],
         "yaxis": "y"
        }
       ],
       "layout": {
        "legend": {
         "itemsizing": "constant",
         "title": {
          "text": "chain"
         },
         "tracegroupgap": 0
        },
        "template": {
         "data": {
          "bar": [
           {
            "error_x": {
             "color": "#2a3f5f"
            },
            "error_y": {
             "color": "#2a3f5f"
            },
            "marker": {
             "line": {
              "color": "#E5ECF6",
              "width": 0.5
             },
             "pattern": {
              "fillmode": "overlay",
              "size": 10,
              "solidity": 0.2
             }
            },
            "type": "bar"
           }
          ],
          "barpolar": [
           {
            "marker": {
             "line": {
              "color": "#E5ECF6",
              "width": 0.5
             },
             "pattern": {
              "fillmode": "overlay",
              "size": 10,
              "solidity": 0.2
             }
            },
            "type": "barpolar"
           }
          ],
          "carpet": [
           {
            "aaxis": {
             "endlinecolor": "#2a3f5f",
             "gridcolor": "white",
             "linecolor": "white",
             "minorgridcolor": "white",
             "startlinecolor": "#2a3f5f"
            },
            "baxis": {
             "endlinecolor": "#2a3f5f",
             "gridcolor": "white",
             "linecolor": "white",
             "minorgridcolor": "white",
             "startlinecolor": "#2a3f5f"
            },
            "type": "carpet"
           }
          ],
          "choropleth": [
           {
            "colorbar": {
             "outlinewidth": 0,
             "ticks": ""
            },
            "type": "choropleth"
           }
          ],
          "contour": [
           {
            "colorbar": {
             "outlinewidth": 0,
             "ticks": ""
            },
            "colorscale": [
             [
              0,
              "#0d0887"
             ],
             [
              0.1111111111111111,
              "#46039f"
             ],
             [
              0.2222222222222222,
              "#7201a8"
             ],
             [
              0.3333333333333333,
              "#9c179e"
             ],
             [
              0.4444444444444444,
              "#bd3786"
             ],
             [
              0.5555555555555556,
              "#d8576b"
             ],
             [
              0.6666666666666666,
              "#ed7953"
             ],
             [
              0.7777777777777778,
              "#fb9f3a"
             ],
             [
              0.8888888888888888,
              "#fdca26"
             ],
             [
              1,
              "#f0f921"
             ]
            ],
            "type": "contour"
           }
          ],
          "contourcarpet": [
           {
            "colorbar": {
             "outlinewidth": 0,
             "ticks": ""
            },
            "type": "contourcarpet"
           }
          ],
          "heatmap": [
           {
            "colorbar": {
             "outlinewidth": 0,
             "ticks": ""
            },
            "colorscale": [
             [
              0,
              "#0d0887"
             ],
             [
              0.1111111111111111,
              "#46039f"
             ],
             [
              0.2222222222222222,
              "#7201a8"
             ],
             [
              0.3333333333333333,
              "#9c179e"
             ],
             [
              0.4444444444444444,
              "#bd3786"
             ],
             [
              0.5555555555555556,
              "#d8576b"
             ],
             [
              0.6666666666666666,
              "#ed7953"
             ],
             [
              0.7777777777777778,
              "#fb9f3a"
             ],
             [
              0.8888888888888888,
              "#fdca26"
             ],
             [
              1,
              "#f0f921"
             ]
            ],
            "type": "heatmap"
           }
          ],
          "heatmapgl": [
           {
            "colorbar": {
             "outlinewidth": 0,
             "ticks": ""
            },
            "colorscale": [
             [
              0,
              "#0d0887"
             ],
             [
              0.1111111111111111,
              "#46039f"
             ],
             [
              0.2222222222222222,
              "#7201a8"
             ],
             [
              0.3333333333333333,
              "#9c179e"
             ],
             [
              0.4444444444444444,
              "#bd3786"
             ],
             [
              0.5555555555555556,
              "#d8576b"
             ],
             [
              0.6666666666666666,
              "#ed7953"
             ],
             [
              0.7777777777777778,
              "#fb9f3a"
             ],
             [
              0.8888888888888888,
              "#fdca26"
             ],
             [
              1,
              "#f0f921"
             ]
            ],
            "type": "heatmapgl"
           }
          ],
          "histogram": [
           {
            "marker": {
             "pattern": {
              "fillmode": "overlay",
              "size": 10,
              "solidity": 0.2
             }
            },
            "type": "histogram"
           }
          ],
          "histogram2d": [
           {
            "colorbar": {
             "outlinewidth": 0,
             "ticks": ""
            },
            "colorscale": [
             [
              0,
              "#0d0887"
             ],
             [
              0.1111111111111111,
              "#46039f"
             ],
             [
              0.2222222222222222,
              "#7201a8"
             ],
             [
              0.3333333333333333,
              "#9c179e"
             ],
             [
              0.4444444444444444,
              "#bd3786"
             ],
             [
              0.5555555555555556,
              "#d8576b"
             ],
             [
              0.6666666666666666,
              "#ed7953"
             ],
             [
              0.7777777777777778,
              "#fb9f3a"
             ],
             [
              0.8888888888888888,
              "#fdca26"
             ],
             [
              1,
              "#f0f921"
             ]
            ],
            "type": "histogram2d"
           }
          ],
          "histogram2dcontour": [
           {
            "colorbar": {
             "outlinewidth": 0,
             "ticks": ""
            },
            "colorscale": [
             [
              0,
              "#0d0887"
             ],
             [
              0.1111111111111111,
              "#46039f"
             ],
             [
              0.2222222222222222,
              "#7201a8"
             ],
             [
              0.3333333333333333,
              "#9c179e"
             ],
             [
              0.4444444444444444,
              "#bd3786"
             ],
             [
              0.5555555555555556,
              "#d8576b"
             ],
             [
              0.6666666666666666,
              "#ed7953"
             ],
             [
              0.7777777777777778,
              "#fb9f3a"
             ],
             [
              0.8888888888888888,
              "#fdca26"
             ],
             [
              1,
              "#f0f921"
             ]
            ],
            "type": "histogram2dcontour"
           }
          ],
          "mesh3d": [
           {
            "colorbar": {
             "outlinewidth": 0,
             "ticks": ""
            },
            "type": "mesh3d"
           }
          ],
          "parcoords": [
           {
            "line": {
             "colorbar": {
              "outlinewidth": 0,
              "ticks": ""
             }
            },
            "type": "parcoords"
           }
          ],
          "pie": [
           {
            "automargin": true,
            "type": "pie"
           }
          ],
          "scatter": [
           {
            "fillpattern": {
             "fillmode": "overlay",
             "size": 10,
             "solidity": 0.2
            },
            "type": "scatter"
           }
          ],
          "scatter3d": [
           {
            "line": {
             "colorbar": {
              "outlinewidth": 0,
              "ticks": ""
             }
            },
            "marker": {
             "colorbar": {
              "outlinewidth": 0,
              "ticks": ""
             }
            },
            "type": "scatter3d"
           }
          ],
          "scattercarpet": [
           {
            "marker": {
             "colorbar": {
              "outlinewidth": 0,
              "ticks": ""
             }
            },
            "type": "scattercarpet"
           }
          ],
          "scattergeo": [
           {
            "marker": {
             "colorbar": {
              "outlinewidth": 0,
              "ticks": ""
             }
            },
            "type": "scattergeo"
           }
          ],
          "scattergl": [
           {
            "marker": {
             "colorbar": {
              "outlinewidth": 0,
              "ticks": ""
             }
            },
            "type": "scattergl"
           }
          ],
          "scattermapbox": [
           {
            "marker": {
             "colorbar": {
              "outlinewidth": 0,
              "ticks": ""
             }
            },
            "type": "scattermapbox"
           }
          ],
          "scatterpolar": [
           {
            "marker": {
             "colorbar": {
              "outlinewidth": 0,
              "ticks": ""
             }
            },
            "type": "scatterpolar"
           }
          ],
          "scatterpolargl": [
           {
            "marker": {
             "colorbar": {
              "outlinewidth": 0,
              "ticks": ""
             }
            },
            "type": "scatterpolargl"
           }
          ],
          "scatterternary": [
           {
            "marker": {
             "colorbar": {
              "outlinewidth": 0,
              "ticks": ""
             }
            },
            "type": "scatterternary"
           }
          ],
          "surface": [
           {
            "colorbar": {
             "outlinewidth": 0,
             "ticks": ""
            },
            "colorscale": [
             [
              0,
              "#0d0887"
             ],
             [
              0.1111111111111111,
              "#46039f"
             ],
             [
              0.2222222222222222,
              "#7201a8"
             ],
             [
              0.3333333333333333,
              "#9c179e"
             ],
             [
              0.4444444444444444,
              "#bd3786"
             ],
             [
              0.5555555555555556,
              "#d8576b"
             ],
             [
              0.6666666666666666,
              "#ed7953"
             ],
             [
              0.7777777777777778,
              "#fb9f3a"
             ],
             [
              0.8888888888888888,
              "#fdca26"
             ],
             [
              1,
              "#f0f921"
             ]
            ],
            "type": "surface"
           }
          ],
          "table": [
           {
            "cells": {
             "fill": {
              "color": "#EBF0F8"
             },
             "line": {
              "color": "white"
             }
            },
            "header": {
             "fill": {
              "color": "#C8D4E3"
             },
             "line": {
              "color": "white"
             }
            },
            "type": "table"
           }
          ]
         },
         "layout": {
          "annotationdefaults": {
           "arrowcolor": "#2a3f5f",
           "arrowhead": 0,
           "arrowwidth": 1
          },
          "autotypenumbers": "strict",
          "coloraxis": {
           "colorbar": {
            "outlinewidth": 0,
            "ticks": ""
           }
          },
          "colorscale": {
           "diverging": [
            [
             0,
             "#8e0152"
            ],
            [
             0.1,
             "#c51b7d"
            ],
            [
             0.2,
             "#de77ae"
            ],
            [
             0.3,
             "#f1b6da"
            ],
            [
             0.4,
             "#fde0ef"
            ],
            [
             0.5,
             "#f7f7f7"
            ],
            [
             0.6,
             "#e6f5d0"
            ],
            [
             0.7,
             "#b8e186"
            ],
            [
             0.8,
             "#7fbc41"
            ],
            [
             0.9,
             "#4d9221"
            ],
            [
             1,
             "#276419"
            ]
           ],
           "sequential": [
            [
             0,
             "#0d0887"
            ],
            [
             0.1111111111111111,
             "#46039f"
            ],
            [
             0.2222222222222222,
             "#7201a8"
            ],
            [
             0.3333333333333333,
             "#9c179e"
            ],
            [
             0.4444444444444444,
             "#bd3786"
            ],
            [
             0.5555555555555556,
             "#d8576b"
            ],
            [
             0.6666666666666666,
             "#ed7953"
            ],
            [
             0.7777777777777778,
             "#fb9f3a"
            ],
            [
             0.8888888888888888,
             "#fdca26"
            ],
            [
             1,
             "#f0f921"
            ]
           ],
           "sequentialminus": [
            [
             0,
             "#0d0887"
            ],
            [
             0.1111111111111111,
             "#46039f"
            ],
            [
             0.2222222222222222,
             "#7201a8"
            ],
            [
             0.3333333333333333,
             "#9c179e"
            ],
            [
             0.4444444444444444,
             "#bd3786"
            ],
            [
             0.5555555555555556,
             "#d8576b"
            ],
            [
             0.6666666666666666,
             "#ed7953"
            ],
            [
             0.7777777777777778,
             "#fb9f3a"
            ],
            [
             0.8888888888888888,
             "#fdca26"
            ],
            [
             1,
             "#f0f921"
            ]
           ]
          },
          "colorway": [
           "#636efa",
           "#EF553B",
           "#00cc96",
           "#ab63fa",
           "#FFA15A",
           "#19d3f3",
           "#FF6692",
           "#B6E880",
           "#FF97FF",
           "#FECB52"
          ],
          "font": {
           "color": "#2a3f5f"
          },
          "geo": {
           "bgcolor": "white",
           "lakecolor": "white",
           "landcolor": "#E5ECF6",
           "showlakes": true,
           "showland": true,
           "subunitcolor": "white"
          },
          "hoverlabel": {
           "align": "left"
          },
          "hovermode": "closest",
          "mapbox": {
           "style": "light"
          },
          "paper_bgcolor": "white",
          "plot_bgcolor": "#E5ECF6",
          "polar": {
           "angularaxis": {
            "gridcolor": "white",
            "linecolor": "white",
            "ticks": ""
           },
           "bgcolor": "#E5ECF6",
           "radialaxis": {
            "gridcolor": "white",
            "linecolor": "white",
            "ticks": ""
           }
          },
          "scene": {
           "xaxis": {
            "backgroundcolor": "#E5ECF6",
            "gridcolor": "white",
            "gridwidth": 2,
            "linecolor": "white",
            "showbackground": true,
            "ticks": "",
            "zerolinecolor": "white"
           },
           "yaxis": {
            "backgroundcolor": "#E5ECF6",
            "gridcolor": "white",
            "gridwidth": 2,
            "linecolor": "white",
            "showbackground": true,
            "ticks": "",
            "zerolinecolor": "white"
           },
           "zaxis": {
            "backgroundcolor": "#E5ECF6",
            "gridcolor": "white",
            "gridwidth": 2,
            "linecolor": "white",
            "showbackground": true,
            "ticks": "",
            "zerolinecolor": "white"
           }
          },
          "shapedefaults": {
           "line": {
            "color": "#2a3f5f"
           }
          },
          "ternary": {
           "aaxis": {
            "gridcolor": "white",
            "linecolor": "white",
            "ticks": ""
           },
           "baxis": {
            "gridcolor": "white",
            "linecolor": "white",
            "ticks": ""
           },
           "bgcolor": "#E5ECF6",
           "caxis": {
            "gridcolor": "white",
            "linecolor": "white",
            "ticks": ""
           }
          },
          "title": {
           "x": 0.05
          },
          "xaxis": {
           "automargin": true,
           "gridcolor": "white",
           "linecolor": "white",
           "ticks": "",
           "title": {
            "standoff": 15
           },
           "zerolinecolor": "white",
           "zerolinewidth": 2
          },
          "yaxis": {
           "automargin": true,
           "gridcolor": "white",
           "linecolor": "white",
           "ticks": "",
           "title": {
            "standoff": 15
           },
           "zerolinecolor": "white",
           "zerolinewidth": 2
          }
         }
        },
        "title": {
         "text": "L1 Gas Used on each Layer by chain"
        },
        "xaxis": {
         "anchor": "y",
         "domain": [
          0,
          1
         ],
         "title": {
          "text": "l1_gas_used_user_txs_l2_per_day"
         }
        },
        "yaxis": {
         "anchor": "x",
         "domain": [
          0,
          1
         ],
         "title": {
          "text": "l1_gas_used_inbox"
         }
        }
       }
      }
     },
     "metadata": {},
     "output_type": "display_data"
    },
    {
     "data": {
      "application/vnd.plotly.v1+json": {
       "config": {
        "plotlyServerURL": "https://plot.ly"
       },
       "data": [
        {
         "hovertemplate": "chain=Base<br>calldata_bytes_user_txs_l2_per_day=%{x}<br>calldata_bytes_l1_inbox=%{y}<br>bytes_compression_ratio=%{marker.size}<extra></extra>",
         "legendgroup": "Base",
         "marker": {
          "color": "#636efa",
          "size": [
           0.6534996244649226,
           0.5919859579930659,
           0.7517742380421858,
           0.7171817678983997,
           0.7096437277836349,
           0.7301034247946174,
           0.6560670854225226,
           0.6310604465357922,
           0.6589000278064873,
           0.6038618475853239,
           0.5382444530661655,
           0.5060453890715659,
           0.5071839817923292,
           0.4965119477876061,
           0.49164265439293975,
           0.5118983047049296,
           0.5060397752153758,
           0.5328319947258302,
           0.5300268706638869,
           0.4891253323235429,
           0.4798726765941054,
           0.48313143144697746,
           0.49198257741688217,
           0.5382930019563291,
           0.5718281427619232,
           0.5555513584213806,
           0.5579903418022529,
           0.6007978148408271,
           0.6781057195228666,
           0.6352953552342722,
           0.653764745613515,
           0.6063982959564738,
           0.5609454071678451,
           0.5458997259715863,
           0.553468473602433,
           0.5224876501837036,
           0.5532927453201117,
           0.5430796161820111,
           0.5743793711804164,
           0.580334220219555,
           0.47688175546121786,
           0.46947866599268345,
           0.508701489710754,
           0.5307634474410227,
           0.48378285591963804,
           0.4312157452407981,
           0.5623905803182915,
           0.48089986812519503,
           0.4822856483409914,
           0.5560463261009234,
           0.5457641013450486,
           0.26019656553281,
           0.2644315425371068,
           0.2831758551523204,
           0.2860367682788661,
           0.2941876326255025,
           0.301929128051273,
           0.2881891677036779,
           0.2785121842460116,
           0.2943552910049993,
           0.2787373140284966,
           0.33369066735139796
          ],
          "sizemode": "area",
          "sizeref": 0.0018794355951054645,
          "symbol": "circle"
         },
         "mode": "markers",
         "name": "Base",
         "orientation": "v",
         "showlegend": true,
         "type": "scatter",
         "x": [
          182163366,
          182047165,
          191696202,
          205959516,
          229443295,
          172425940,
          119999666,
          105634840,
          124537095,
          106047803,
          108218332,
          99428281,
          101784370,
          104823020,
          97779671,
          87256113,
          89440078,
          96102375,
          140544237,
          116902810,
          111890817,
          108474278,
          117490656,
          101882853,
          142771705,
          169014885,
          175260528,
          179882536,
          209813437,
          146799311,
          114644156,
          97769326,
          93013901,
          115835327,
          131219497,
          139277635,
          133687977,
          124535513,
          140437621,
          148988848,
          143579019,
          104206557,
          99146499,
          79974463,
          82399277,
          74187611,
          89928977,
          46433990,
          49332239,
          139171756,
          146330019,
          4420494,
          4822038,
          8198439,
          7645133,
          9381494,
          10828391,
          8703495,
          7459965,
          8719993,
          4789337,
          5202662
         ],
         "xaxis": "x",
         "y": [
          126965466,
          114930716,
          153218173,
          156632648,
          171917120,
          135265473,
          86724354,
          74136720,
          90063416,
          71513512,
          64497364,
          56170604,
          57450098,
          57757297,
          53724431,
          50574993,
          51112883,
          57447825,
          80804910,
          62874204,
          59286736,
          58107757,
          63681232,
          61359481,
          88661392,
          100567568,
          104635086,
          115875311,
          152317882,
          102576173,
          84242307,
          66554641,
          58762852,
          69615517,
          79086340,
          79061490,
          80615023,
          73992389,
          88353256,
          94484468,
          74396284,
          54522180,
          56452106,
          48704149,
          45602252,
          41930849,
          58870456,
          27749103,
          29212143,
          83639815,
          85994136,
          4073333,
          4245537,
          5503064,
          5400210,
          6064235,
          6660969,
          5745194,
          5205940,
          5872975,
          4465745,
          5484096
         ],
         "yaxis": "y"
        },
        {
         "hovertemplate": "chain=OP Mainnet<br>calldata_bytes_user_txs_l2_per_day=%{x}<br>calldata_bytes_l1_inbox=%{y}<br>bytes_compression_ratio=%{marker.size}<extra></extra>",
         "legendgroup": "OP Mainnet",
         "marker": {
          "color": "#EF553B",
          "size": [
           0.47920971778004645,
           0.46091242227862067,
           0.4625081849126402,
           0.473844772554331,
           0.48239951377810286,
           0.5093798679014082,
           0.5691870587985582,
           0.6160530916061445,
           0.4593185773148182,
           0.46567560177808875,
           0.46899464095939025,
           0.47515762655924754,
           0.4669194182053915,
           0.4603606094603416,
           0.4566638550595467,
           0.4579830843101027,
           0.4566430655715691,
           0.48545345846399823,
           0.4793349710029783,
           0.4718406804434302,
           0.4909542220405837,
           0.5894900434143031,
           0.44888891268871217,
           0.4437604557945328,
           0.4681952777660927,
           0.4608500900279608,
           0.46591209475993034,
           0.4594858718719244,
           0.45113545764722857,
           0.44479462701298994,
           0.4554254787213971,
           0.47385992129714033,
           0.4937542682904131,
           0.4572977828147345,
           0.4758824682141995,
           0.5540702869896651,
           0.45767598450187386,
           0.44226168479930106,
           0.48079973138769666,
           0.4707958781311436,
           0.4695094499551788,
           0.49641236947767,
           0.5371654779463789,
           0.4343204592471301,
           0.4272840493995592,
           0.42442996849278186,
           0.4265030569519402,
           0.406599068483486,
           0.4325429208145336,
           0.423910222061866,
           0.4015227082513731,
           0.38826573987942054,
           0.39487870582201423,
           0.3540322878101899,
           0.3843060281443984,
           0.3682007306112302,
           0.3811281562109398,
           0.36174978811181335,
           0.3553094357382699,
           0.4052815241476065,
           0.4741977549173778,
           0.4543490203360879,
           0.4534669014716731,
           0.4157766529454715,
           0.4210989139113452,
           0.4291277403257951,
           0.4788030115694556,
           0.45092596088171893,
           0.43625410355301636,
           0.428678855708936,
           0.41867337561401763,
           0.3957744258886554,
           0.4090429438704737,
           0.43436111571088537,
           0.455303173209116,
           0.4497679988416286,
           0.43154072471758753,
           0.4374430290448548,
           0.4271851929825211,
           0.37384831428710774,
           0.4697269799515577,
           0.42648366763257406,
           0.4008399715355309,
           0.38672715538490493,
           0.42681013579789595,
           0.4422068688826833,
           0.45858403617594024,
           0.45390457197214074,
           0.4484838055228785,
           0.4375829474158213
          ],
          "sizemode": "area",
          "sizeref": 0.0018794355951054645,
          "symbol": "circle"
         },
         "mode": "markers",
         "name": "OP Mainnet",
         "orientation": "v",
         "showlegend": true,
         "type": "scatter",
         "x": [
          119737172,
          105560593,
          112065258,
          149041499,
          130862106,
          117375902,
          179396001,
          199977062,
          119643802,
          117522350,
          132053692,
          137925070,
          141179234,
          136054013,
          125861546,
          112690603,
          129022539,
          146384245,
          173946284,
          166712256,
          207061609,
          225014750,
          127536486,
          130538587,
          130048966,
          153485162,
          171347109,
          163872757,
          166913584,
          156858566,
          163734002,
          182551464,
          222825652,
          325658899,
          536347095,
          280650115,
          162323343,
          160790327,
          186730899,
          210786711,
          238158428,
          365475993,
          341495155,
          210997602,
          253283896,
          299281475,
          300056951,
          280525139,
          312012203,
          314075371,
          294465098,
          314375280,
          316958414,
          503772168,
          425958201,
          471000939,
          354051894,
          262938393,
          272346608,
          205579669,
          202519735,
          201531027,
          192389991,
          223435803,
          187446756,
          212238714,
          220524901,
          208487260,
          189007152,
          191813359,
          195963777,
          201887788,
          195443559,
          149044594,
          157049271,
          125132348,
          174643241,
          187700810,
          180841398,
          223968558,
          195472837,
          216388306,
          245211157,
          271560354,
          228711674,
          205688377,
          175148720,
          211437942,
          212120234,
          226332498
         ],
         "xaxis": "x",
         "y": [
          62864270,
          53929488,
          57164305,
          76049305,
          68632180,
          65571037,
          108578898,
          130186031,
          60169081,
          60029032,
          67286875,
          70967575,
          71236352,
          67858412,
          62658748,
          56810383,
          64110421,
          76582705,
          88837497,
          84031209,
          107255425,
          139363033,
          62367102,
          62991530,
          66223249,
          75993613,
          85157898,
          80535861,
          80450286,
          74838396,
          79778425,
          91930542,
          115662281,
          154133869,
          260678325,
          161825298,
          79520865,
          76165479,
          95294939,
          104624041,
          117185643,
          187088490,
          189562132,
          96594306,
          113119116,
          131887059,
          132847327,
          118698721,
          139956447,
          138059313,
          122905522,
          126553918,
          129715547,
          182445770,
          168123287,
          177675137,
          139368835,
          99277171,
          100866968,
          87987947,
          101516786,
          96816429,
          92470513,
          97700518,
          83791262,
          96042756,
          111124317,
          99233615,
          87475605,
          87135841,
          86791857,
          84393213,
          84594125,
          69663820,
          76679552,
          61366272,
          80267497,
          87077307,
          82114135,
          87983908,
          97168244,
          97149577,
          102878874,
          109438155,
          102497685,
          96019912,
          85566933,
          101164449,
          100270453,
          104028102
         ],
         "yaxis": "y"
        },
        {
         "hovertemplate": "chain=Zora Network<br>calldata_bytes_user_txs_l2_per_day=%{x}<br>calldata_bytes_l1_inbox=%{y}<br>bytes_compression_ratio=%{marker.size}<extra></extra>",
         "legendgroup": "Zora Network",
         "marker": {
          "color": "#00cc96",
          "size": [
           0.4209419775602081,
           0.5010466330581926,
           0.491907060610333,
           0.43919554987426257,
           0.43474500719669495,
           0.4815283420070521,
           0.4651402724330545,
           0.43201818961339244,
           0.438294897704809,
           0.41817507525115466,
           0.4192973873454935,
           0.4648238677799276,
           0.4627540972386096,
           0.4339938356360047,
           0.43748474866875553,
           0.44838386161523236,
           0.4456219541363609,
           0.4078833591797351,
           0.40364410358626174,
           0.267786945016767,
           0.38795833570608296,
           0.39326181367331053,
           0.3737905184727669,
           0.45065791840350145,
           0.37008669359580293,
           0.421781869048763,
           0.5491180080619336,
           0.4365476544389028,
           0.41669491447534385,
           0.4096400530718835,
           0.4620906812501036,
           0.5617000943830718,
           0.5403554016366745,
           0.5549580967689417,
           0.48780076328129957,
           0.36333333320118244,
           0.30185883442876343,
           0.21675630271424678,
           0.2850877691067051,
           0.29989920380227975,
           0.29142742077907013,
           0.28073829488633384,
           0.30146518361032265,
           0.2809543423188272,
           0.2847441265746773,
           0.27623545123696314,
           0.27182875290943154,
           0.26119543383053884,
           0.2696418511987533,
           0.27755102521155756,
           0.28398266820343493,
           0.22424420934718106,
           0.24424477371419318
          ],
          "sizemode": "area",
          "sizeref": 0.0018794355951054645,
          "symbol": "circle"
         },
         "mode": "markers",
         "name": "Zora Network",
         "orientation": "v",
         "showlegend": true,
         "type": "scatter",
         "x": [
          11337899,
          18552773,
          13751061,
          13688193,
          15079463,
          12805815,
          16512687,
          16736019,
          21407411,
          18791436,
          17118323,
          18305698,
          22004278,
          18371362,
          15407565,
          17450168,
          17339659,
          16476524,
          18250488,
          14188099,
          13260384,
          12910639,
          13561498,
          12522457,
          11302009,
          13076938,
          10697796,
          9000115,
          12587567,
          11658147,
          10242088,
          15182600,
          12344836,
          13526840,
          13546672,
          13977284,
          12208870,
          11107793,
          9191859,
          12504927,
          10331935,
          7825561,
          8897724,
          8992179,
          8723509,
          7400543,
          6401617,
          5731490,
          7006677,
          9152290,
          7810292,
          5738378,
          5493748
         ],
         "xaxis": "x",
         "y": [
          9501709,
          14928717,
          12291660,
          10950247,
          11441763,
          11576615,
          12908057,
          12084796,
          14309930,
          12557841,
          11890346,
          13738192,
          15387993,
          12852612,
          11658668,
          12867182,
          12745545,
          11317117,
          11920521,
          10185168,
          10001105,
          9494378,
          9271429,
          10711063,
          8340159,
          10257490,
          12045686,
          8834132,
          9928926,
          9381173,
          9924560,
          14840112,
          12741321,
          13743888,
          12091978,
          9164607,
          7088647,
          6692521,
          6050032,
          7120197,
          6285490,
          5350423,
          6073361,
          5685430,
          5683550,
          5147791,
          4794020,
          4431623,
          4923956,
          5660304,
          5422540,
          4253557,
          4306857
         ],
         "yaxis": "y"
        }
       ],
       "layout": {
        "legend": {
         "itemsizing": "constant",
         "title": {
          "text": "chain"
         },
         "tracegroupgap": 0
        },
        "template": {
         "data": {
          "bar": [
           {
            "error_x": {
             "color": "#2a3f5f"
            },
            "error_y": {
             "color": "#2a3f5f"
            },
            "marker": {
             "line": {
              "color": "#E5ECF6",
              "width": 0.5
             },
             "pattern": {
              "fillmode": "overlay",
              "size": 10,
              "solidity": 0.2
             }
            },
            "type": "bar"
           }
          ],
          "barpolar": [
           {
            "marker": {
             "line": {
              "color": "#E5ECF6",
              "width": 0.5
             },
             "pattern": {
              "fillmode": "overlay",
              "size": 10,
              "solidity": 0.2
             }
            },
            "type": "barpolar"
           }
          ],
          "carpet": [
           {
            "aaxis": {
             "endlinecolor": "#2a3f5f",
             "gridcolor": "white",
             "linecolor": "white",
             "minorgridcolor": "white",
             "startlinecolor": "#2a3f5f"
            },
            "baxis": {
             "endlinecolor": "#2a3f5f",
             "gridcolor": "white",
             "linecolor": "white",
             "minorgridcolor": "white",
             "startlinecolor": "#2a3f5f"
            },
            "type": "carpet"
           }
          ],
          "choropleth": [
           {
            "colorbar": {
             "outlinewidth": 0,
             "ticks": ""
            },
            "type": "choropleth"
           }
          ],
          "contour": [
           {
            "colorbar": {
             "outlinewidth": 0,
             "ticks": ""
            },
            "colorscale": [
             [
              0,
              "#0d0887"
             ],
             [
              0.1111111111111111,
              "#46039f"
             ],
             [
              0.2222222222222222,
              "#7201a8"
             ],
             [
              0.3333333333333333,
              "#9c179e"
             ],
             [
              0.4444444444444444,
              "#bd3786"
             ],
             [
              0.5555555555555556,
              "#d8576b"
             ],
             [
              0.6666666666666666,
              "#ed7953"
             ],
             [
              0.7777777777777778,
              "#fb9f3a"
             ],
             [
              0.8888888888888888,
              "#fdca26"
             ],
             [
              1,
              "#f0f921"
             ]
            ],
            "type": "contour"
           }
          ],
          "contourcarpet": [
           {
            "colorbar": {
             "outlinewidth": 0,
             "ticks": ""
            },
            "type": "contourcarpet"
           }
          ],
          "heatmap": [
           {
            "colorbar": {
             "outlinewidth": 0,
             "ticks": ""
            },
            "colorscale": [
             [
              0,
              "#0d0887"
             ],
             [
              0.1111111111111111,
              "#46039f"
             ],
             [
              0.2222222222222222,
              "#7201a8"
             ],
             [
              0.3333333333333333,
              "#9c179e"
             ],
             [
              0.4444444444444444,
              "#bd3786"
             ],
             [
              0.5555555555555556,
              "#d8576b"
             ],
             [
              0.6666666666666666,
              "#ed7953"
             ],
             [
              0.7777777777777778,
              "#fb9f3a"
             ],
             [
              0.8888888888888888,
              "#fdca26"
             ],
             [
              1,
              "#f0f921"
             ]
            ],
            "type": "heatmap"
           }
          ],
          "heatmapgl": [
           {
            "colorbar": {
             "outlinewidth": 0,
             "ticks": ""
            },
            "colorscale": [
             [
              0,
              "#0d0887"
             ],
             [
              0.1111111111111111,
              "#46039f"
             ],
             [
              0.2222222222222222,
              "#7201a8"
             ],
             [
              0.3333333333333333,
              "#9c179e"
             ],
             [
              0.4444444444444444,
              "#bd3786"
             ],
             [
              0.5555555555555556,
              "#d8576b"
             ],
             [
              0.6666666666666666,
              "#ed7953"
             ],
             [
              0.7777777777777778,
              "#fb9f3a"
             ],
             [
              0.8888888888888888,
              "#fdca26"
             ],
             [
              1,
              "#f0f921"
             ]
            ],
            "type": "heatmapgl"
           }
          ],
          "histogram": [
           {
            "marker": {
             "pattern": {
              "fillmode": "overlay",
              "size": 10,
              "solidity": 0.2
             }
            },
            "type": "histogram"
           }
          ],
          "histogram2d": [
           {
            "colorbar": {
             "outlinewidth": 0,
             "ticks": ""
            },
            "colorscale": [
             [
              0,
              "#0d0887"
             ],
             [
              0.1111111111111111,
              "#46039f"
             ],
             [
              0.2222222222222222,
              "#7201a8"
             ],
             [
              0.3333333333333333,
              "#9c179e"
             ],
             [
              0.4444444444444444,
              "#bd3786"
             ],
             [
              0.5555555555555556,
              "#d8576b"
             ],
             [
              0.6666666666666666,
              "#ed7953"
             ],
             [
              0.7777777777777778,
              "#fb9f3a"
             ],
             [
              0.8888888888888888,
              "#fdca26"
             ],
             [
              1,
              "#f0f921"
             ]
            ],
            "type": "histogram2d"
           }
          ],
          "histogram2dcontour": [
           {
            "colorbar": {
             "outlinewidth": 0,
             "ticks": ""
            },
            "colorscale": [
             [
              0,
              "#0d0887"
             ],
             [
              0.1111111111111111,
              "#46039f"
             ],
             [
              0.2222222222222222,
              "#7201a8"
             ],
             [
              0.3333333333333333,
              "#9c179e"
             ],
             [
              0.4444444444444444,
              "#bd3786"
             ],
             [
              0.5555555555555556,
              "#d8576b"
             ],
             [
              0.6666666666666666,
              "#ed7953"
             ],
             [
              0.7777777777777778,
              "#fb9f3a"
             ],
             [
              0.8888888888888888,
              "#fdca26"
             ],
             [
              1,
              "#f0f921"
             ]
            ],
            "type": "histogram2dcontour"
           }
          ],
          "mesh3d": [
           {
            "colorbar": {
             "outlinewidth": 0,
             "ticks": ""
            },
            "type": "mesh3d"
           }
          ],
          "parcoords": [
           {
            "line": {
             "colorbar": {
              "outlinewidth": 0,
              "ticks": ""
             }
            },
            "type": "parcoords"
           }
          ],
          "pie": [
           {
            "automargin": true,
            "type": "pie"
           }
          ],
          "scatter": [
           {
            "fillpattern": {
             "fillmode": "overlay",
             "size": 10,
             "solidity": 0.2
            },
            "type": "scatter"
           }
          ],
          "scatter3d": [
           {
            "line": {
             "colorbar": {
              "outlinewidth": 0,
              "ticks": ""
             }
            },
            "marker": {
             "colorbar": {
              "outlinewidth": 0,
              "ticks": ""
             }
            },
            "type": "scatter3d"
           }
          ],
          "scattercarpet": [
           {
            "marker": {
             "colorbar": {
              "outlinewidth": 0,
              "ticks": ""
             }
            },
            "type": "scattercarpet"
           }
          ],
          "scattergeo": [
           {
            "marker": {
             "colorbar": {
              "outlinewidth": 0,
              "ticks": ""
             }
            },
            "type": "scattergeo"
           }
          ],
          "scattergl": [
           {
            "marker": {
             "colorbar": {
              "outlinewidth": 0,
              "ticks": ""
             }
            },
            "type": "scattergl"
           }
          ],
          "scattermapbox": [
           {
            "marker": {
             "colorbar": {
              "outlinewidth": 0,
              "ticks": ""
             }
            },
            "type": "scattermapbox"
           }
          ],
          "scatterpolar": [
           {
            "marker": {
             "colorbar": {
              "outlinewidth": 0,
              "ticks": ""
             }
            },
            "type": "scatterpolar"
           }
          ],
          "scatterpolargl": [
           {
            "marker": {
             "colorbar": {
              "outlinewidth": 0,
              "ticks": ""
             }
            },
            "type": "scatterpolargl"
           }
          ],
          "scatterternary": [
           {
            "marker": {
             "colorbar": {
              "outlinewidth": 0,
              "ticks": ""
             }
            },
            "type": "scatterternary"
           }
          ],
          "surface": [
           {
            "colorbar": {
             "outlinewidth": 0,
             "ticks": ""
            },
            "colorscale": [
             [
              0,
              "#0d0887"
             ],
             [
              0.1111111111111111,
              "#46039f"
             ],
             [
              0.2222222222222222,
              "#7201a8"
             ],
             [
              0.3333333333333333,
              "#9c179e"
             ],
             [
              0.4444444444444444,
              "#bd3786"
             ],
             [
              0.5555555555555556,
              "#d8576b"
             ],
             [
              0.6666666666666666,
              "#ed7953"
             ],
             [
              0.7777777777777778,
              "#fb9f3a"
             ],
             [
              0.8888888888888888,
              "#fdca26"
             ],
             [
              1,
              "#f0f921"
             ]
            ],
            "type": "surface"
           }
          ],
          "table": [
           {
            "cells": {
             "fill": {
              "color": "#EBF0F8"
             },
             "line": {
              "color": "white"
             }
            },
            "header": {
             "fill": {
              "color": "#C8D4E3"
             },
             "line": {
              "color": "white"
             }
            },
            "type": "table"
           }
          ]
         },
         "layout": {
          "annotationdefaults": {
           "arrowcolor": "#2a3f5f",
           "arrowhead": 0,
           "arrowwidth": 1
          },
          "autotypenumbers": "strict",
          "coloraxis": {
           "colorbar": {
            "outlinewidth": 0,
            "ticks": ""
           }
          },
          "colorscale": {
           "diverging": [
            [
             0,
             "#8e0152"
            ],
            [
             0.1,
             "#c51b7d"
            ],
            [
             0.2,
             "#de77ae"
            ],
            [
             0.3,
             "#f1b6da"
            ],
            [
             0.4,
             "#fde0ef"
            ],
            [
             0.5,
             "#f7f7f7"
            ],
            [
             0.6,
             "#e6f5d0"
            ],
            [
             0.7,
             "#b8e186"
            ],
            [
             0.8,
             "#7fbc41"
            ],
            [
             0.9,
             "#4d9221"
            ],
            [
             1,
             "#276419"
            ]
           ],
           "sequential": [
            [
             0,
             "#0d0887"
            ],
            [
             0.1111111111111111,
             "#46039f"
            ],
            [
             0.2222222222222222,
             "#7201a8"
            ],
            [
             0.3333333333333333,
             "#9c179e"
            ],
            [
             0.4444444444444444,
             "#bd3786"
            ],
            [
             0.5555555555555556,
             "#d8576b"
            ],
            [
             0.6666666666666666,
             "#ed7953"
            ],
            [
             0.7777777777777778,
             "#fb9f3a"
            ],
            [
             0.8888888888888888,
             "#fdca26"
            ],
            [
             1,
             "#f0f921"
            ]
           ],
           "sequentialminus": [
            [
             0,
             "#0d0887"
            ],
            [
             0.1111111111111111,
             "#46039f"
            ],
            [
             0.2222222222222222,
             "#7201a8"
            ],
            [
             0.3333333333333333,
             "#9c179e"
            ],
            [
             0.4444444444444444,
             "#bd3786"
            ],
            [
             0.5555555555555556,
             "#d8576b"
            ],
            [
             0.6666666666666666,
             "#ed7953"
            ],
            [
             0.7777777777777778,
             "#fb9f3a"
            ],
            [
             0.8888888888888888,
             "#fdca26"
            ],
            [
             1,
             "#f0f921"
            ]
           ]
          },
          "colorway": [
           "#636efa",
           "#EF553B",
           "#00cc96",
           "#ab63fa",
           "#FFA15A",
           "#19d3f3",
           "#FF6692",
           "#B6E880",
           "#FF97FF",
           "#FECB52"
          ],
          "font": {
           "color": "#2a3f5f"
          },
          "geo": {
           "bgcolor": "white",
           "lakecolor": "white",
           "landcolor": "#E5ECF6",
           "showlakes": true,
           "showland": true,
           "subunitcolor": "white"
          },
          "hoverlabel": {
           "align": "left"
          },
          "hovermode": "closest",
          "mapbox": {
           "style": "light"
          },
          "paper_bgcolor": "white",
          "plot_bgcolor": "#E5ECF6",
          "polar": {
           "angularaxis": {
            "gridcolor": "white",
            "linecolor": "white",
            "ticks": ""
           },
           "bgcolor": "#E5ECF6",
           "radialaxis": {
            "gridcolor": "white",
            "linecolor": "white",
            "ticks": ""
           }
          },
          "scene": {
           "xaxis": {
            "backgroundcolor": "#E5ECF6",
            "gridcolor": "white",
            "gridwidth": 2,
            "linecolor": "white",
            "showbackground": true,
            "ticks": "",
            "zerolinecolor": "white"
           },
           "yaxis": {
            "backgroundcolor": "#E5ECF6",
            "gridcolor": "white",
            "gridwidth": 2,
            "linecolor": "white",
            "showbackground": true,
            "ticks": "",
            "zerolinecolor": "white"
           },
           "zaxis": {
            "backgroundcolor": "#E5ECF6",
            "gridcolor": "white",
            "gridwidth": 2,
            "linecolor": "white",
            "showbackground": true,
            "ticks": "",
            "zerolinecolor": "white"
           }
          },
          "shapedefaults": {
           "line": {
            "color": "#2a3f5f"
           }
          },
          "ternary": {
           "aaxis": {
            "gridcolor": "white",
            "linecolor": "white",
            "ticks": ""
           },
           "baxis": {
            "gridcolor": "white",
            "linecolor": "white",
            "ticks": ""
           },
           "bgcolor": "#E5ECF6",
           "caxis": {
            "gridcolor": "white",
            "linecolor": "white",
            "ticks": ""
           }
          },
          "title": {
           "x": 0.05
          },
          "xaxis": {
           "automargin": true,
           "gridcolor": "white",
           "linecolor": "white",
           "ticks": "",
           "title": {
            "standoff": 15
           },
           "zerolinecolor": "white",
           "zerolinewidth": 2
          },
          "yaxis": {
           "automargin": true,
           "gridcolor": "white",
           "linecolor": "white",
           "ticks": "",
           "title": {
            "standoff": 15
           },
           "zerolinecolor": "white",
           "zerolinewidth": 2
          }
         }
        },
        "title": {
         "text": "Calldata Bytes on each Layer by chain"
        },
        "xaxis": {
         "anchor": "y",
         "domain": [
          0,
          1
         ],
         "title": {
          "text": "calldata_bytes_user_txs_l2_per_day"
         }
        },
        "yaxis": {
         "anchor": "x",
         "domain": [
          0,
          1
         ],
         "title": {
          "text": "calldata_bytes_l1_inbox"
         }
        }
       }
      }
     },
     "metadata": {},
     "output_type": "display_data"
    }
   ],
   "source": [
    "# Create the scatter plot\n",
    "combo_df_plot = combo_df[\n",
    "                        (~combo_df['gas_compression_ratio'].isna()) \n",
    "                         & (combo_df['gas_compression_ratio']<1) \n",
    "                         & (combo_df['active_secs_per_day'] == 86400)\n",
    "                         ]\n",
    "\n",
    "# combo_df_plot = combo_df[(~combo_df['bytes_compression_ratio'].isna())\n",
    "#                          & (combo_df['active_secs_per_day'] == 86400)]\n",
    "\n",
    "display(combo_df_plot)\n",
    "\n",
    "fig = px.scatter(combo_df_plot,\n",
    "                 x='calldata_gas_l2_per_day',#'l1_gas_used_on_l2',\n",
    "                 y='l1_gas_used_inbox',\n",
    "                 size = 'gas_compression_ratio',\n",
    "                 color='chain',\n",
    "                 title='L1 Gas Used on each Layer by chain')\n",
    "\n",
    "# Display the plot\n",
    "fig.show()\n",
    "\n",
    "##############\n",
    "\n",
    "fig_bytes = px.scatter(combo_df_plot,\n",
    "                 x='calldata_gas_l2_per_day',#'calldata_bytes_l2_per_day',\n",
    "                 y='calldata_bytes_l1_inbox',\n",
    "                 size = 'bytes_compression_ratio',\n",
    "                 color='chain',\n",
    "                 title='Calldata Bytes on each Layer by chain')\n",
    "\n",
    "fig_bytes.show()"
   ]
  },
  {
   "cell_type": "code",
   "execution_count": 9,
   "metadata": {},
   "outputs": [
    {
     "data": {
      "text/html": [
       "<div>\n",
       "<style scoped>\n",
       "    .dataframe tbody tr th:only-of-type {\n",
       "        vertical-align: middle;\n",
       "    }\n",
       "\n",
       "    .dataframe tbody tr th {\n",
       "        vertical-align: top;\n",
       "    }\n",
       "\n",
       "    .dataframe thead th {\n",
       "        text-align: right;\n",
       "    }\n",
       "</style>\n",
       "<table border=\"1\" class=\"dataframe\">\n",
       "  <thead>\n",
       "    <tr style=\"text-align: right;\">\n",
       "      <th></th>\n",
       "      <th>dt</th>\n",
       "      <th>chain</th>\n",
       "      <th>active_secs_per_day</th>\n",
       "      <th>num_l1_txs_inbox</th>\n",
       "      <th>num_l1_txs_output</th>\n",
       "      <th>calldata_bytes_l1_inbox</th>\n",
       "      <th>avg_l1_gas_price_on_l1_inbox</th>\n",
       "      <th>avg_l1_gas_price_on_l1_output</th>\n",
       "      <th>avg_l1_gas_price_on_l2</th>\n",
       "      <th>l1_gas_used_inbox</th>\n",
       "      <th>...</th>\n",
       "      <th>l1_gas_used_on_l2</th>\n",
       "      <th>calldata_bytes_l2_per_day</th>\n",
       "      <th>calldata_gas_l2_per_day</th>\n",
       "      <th>l1_gas_used_user_txs_l2_per_day</th>\n",
       "      <th>calldata_bytes_user_txs_l2_per_day</th>\n",
       "      <th>l2_gas_used</th>\n",
       "      <th>l2_eth_fees_per_day</th>\n",
       "      <th>gas_compression_ratio</th>\n",
       "      <th>bytes_compression_ratio</th>\n",
       "      <th>dt_rank</th>\n",
       "    </tr>\n",
       "  </thead>\n",
       "  <tbody>\n",
       "    <tr>\n",
       "      <th>257</th>\n",
       "      <td>2023-07-16 00:00:00+00:00</td>\n",
       "      <td>Zora Network</td>\n",
       "      <td>86400.0</td>\n",
       "      <td>163</td>\n",
       "      <td>24</td>\n",
       "      <td>5561592.0</td>\n",
       "      <td>16.914880</td>\n",
       "      <td>16.197011</td>\n",
       "      <td>17.339785</td>\n",
       "      <td>9.210061e+07</td>\n",
       "      <td>...</td>\n",
       "      <td>7.471650e+07</td>\n",
       "      <td>16675783.0</td>\n",
       "      <td>1.399609e+08</td>\n",
       "      <td>7.471650e+07</td>\n",
       "      <td>5443783.0</td>\n",
       "      <td>5.386712e+09</td>\n",
       "      <td>2.128575</td>\n",
       "      <td>1.232668</td>\n",
       "      <td>0.333513</td>\n",
       "      <td>65</td>\n",
       "    </tr>\n",
       "    <tr>\n",
       "      <th>8</th>\n",
       "      <td>2023-09-16 00:00:00+00:00</td>\n",
       "      <td>Base</td>\n",
       "      <td>86400.0</td>\n",
       "      <td>1821</td>\n",
       "      <td>24</td>\n",
       "      <td>153218173.0</td>\n",
       "      <td>10.723150</td>\n",
       "      <td>10.975514</td>\n",
       "      <td>10.646060</td>\n",
       "      <td>2.480891e+09</td>\n",
       "      <td>...</td>\n",
       "      <td>4.900869e+09</td>\n",
       "      <td>203808757.0</td>\n",
       "      <td>1.568070e+09</td>\n",
       "      <td>4.900869e+09</td>\n",
       "      <td>191696202.0</td>\n",
       "      <td>2.202168e+11</td>\n",
       "      <td>63.970008</td>\n",
       "      <td>0.506215</td>\n",
       "      <td>0.751774</td>\n",
       "      <td>3</td>\n",
       "    </tr>\n",
       "    <tr>\n",
       "      <th>34</th>\n",
       "      <td>2023-09-10 00:00:00+00:00</td>\n",
       "      <td>Zora Network</td>\n",
       "      <td>86400.0</td>\n",
       "      <td>184</td>\n",
       "      <td>24</td>\n",
       "      <td>14309930.0</td>\n",
       "      <td>9.740409</td>\n",
       "      <td>9.415879</td>\n",
       "      <td>9.618155</td>\n",
       "      <td>2.321615e+08</td>\n",
       "      <td>...</td>\n",
       "      <td>3.441251e+08</td>\n",
       "      <td>32649091.0</td>\n",
       "      <td>2.427135e+08</td>\n",
       "      <td>3.441251e+08</td>\n",
       "      <td>21407411.0</td>\n",
       "      <td>1.705784e+10</td>\n",
       "      <td>5.417414</td>\n",
       "      <td>0.674643</td>\n",
       "      <td>0.438295</td>\n",
       "      <td>9</td>\n",
       "    </tr>\n",
       "    <tr>\n",
       "      <th>35</th>\n",
       "      <td>2023-09-10 00:00:00+00:00</td>\n",
       "      <td>Public Goods Network</td>\n",
       "      <td>86400.0</td>\n",
       "      <td>145</td>\n",
       "      <td>24</td>\n",
       "      <td>1865405.0</td>\n",
       "      <td>9.737466</td>\n",
       "      <td>9.618426</td>\n",
       "      <td>9.473016</td>\n",
       "      <td>3.284035e+07</td>\n",
       "      <td>...</td>\n",
       "      <td>2.142080e+05</td>\n",
       "      <td>11257144.0</td>\n",
       "      <td>8.328854e+07</td>\n",
       "      <td>2.142080e+05</td>\n",
       "      <td>15064.0</td>\n",
       "      <td>2.186807e+09</td>\n",
       "      <td>0.015078</td>\n",
       "      <td>153.310558</td>\n",
       "      <td>0.165709</td>\n",
       "      <td>9</td>\n",
       "    </tr>\n",
       "    <tr>\n",
       "      <th>164</th>\n",
       "      <td>2023-08-08 00:00:00+00:00</td>\n",
       "      <td>OP Mainnet</td>\n",
       "      <td>86400.0</td>\n",
       "      <td>1594</td>\n",
       "      <td>24</td>\n",
       "      <td>187088490.0</td>\n",
       "      <td>23.122305</td>\n",
       "      <td>24.298956</td>\n",
       "      <td>23.104643</td>\n",
       "      <td>3.017709e+09</td>\n",
       "      <td>...</td>\n",
       "      <td>4.659603e+09</td>\n",
       "      <td>376881201.0</td>\n",
       "      <td>3.148146e+09</td>\n",
       "      <td>4.659603e+09</td>\n",
       "      <td>365475993.0</td>\n",
       "      <td>1.995162e+11</td>\n",
       "      <td>94.102721</td>\n",
       "      <td>0.647632</td>\n",
       "      <td>0.496412</td>\n",
       "      <td>42</td>\n",
       "    </tr>\n",
       "  </tbody>\n",
       "</table>\n",
       "<p>5 rows × 30 columns</p>\n",
       "</div>"
      ],
      "text/plain": [
       "                           dt                 chain  active_secs_per_day  \\\n",
       "257 2023-07-16 00:00:00+00:00          Zora Network              86400.0   \n",
       "8   2023-09-16 00:00:00+00:00                  Base              86400.0   \n",
       "34  2023-09-10 00:00:00+00:00          Zora Network              86400.0   \n",
       "35  2023-09-10 00:00:00+00:00  Public Goods Network              86400.0   \n",
       "164 2023-08-08 00:00:00+00:00            OP Mainnet              86400.0   \n",
       "\n",
       "     num_l1_txs_inbox  num_l1_txs_output  calldata_bytes_l1_inbox  \\\n",
       "257               163                 24                5561592.0   \n",
       "8                1821                 24              153218173.0   \n",
       "34                184                 24               14309930.0   \n",
       "35                145                 24                1865405.0   \n",
       "164              1594                 24              187088490.0   \n",
       "\n",
       "     avg_l1_gas_price_on_l1_inbox  avg_l1_gas_price_on_l1_output  \\\n",
       "257                     16.914880                      16.197011   \n",
       "8                       10.723150                      10.975514   \n",
       "34                       9.740409                       9.415879   \n",
       "35                       9.737466                       9.618426   \n",
       "164                     23.122305                      24.298956   \n",
       "\n",
       "     avg_l1_gas_price_on_l2  l1_gas_used_inbox  ...  l1_gas_used_on_l2  \\\n",
       "257               17.339785       9.210061e+07  ...       7.471650e+07   \n",
       "8                 10.646060       2.480891e+09  ...       4.900869e+09   \n",
       "34                 9.618155       2.321615e+08  ...       3.441251e+08   \n",
       "35                 9.473016       3.284035e+07  ...       2.142080e+05   \n",
       "164               23.104643       3.017709e+09  ...       4.659603e+09   \n",
       "\n",
       "     calldata_bytes_l2_per_day  calldata_gas_l2_per_day  \\\n",
       "257                 16675783.0             1.399609e+08   \n",
       "8                  203808757.0             1.568070e+09   \n",
       "34                  32649091.0             2.427135e+08   \n",
       "35                  11257144.0             8.328854e+07   \n",
       "164                376881201.0             3.148146e+09   \n",
       "\n",
       "     l1_gas_used_user_txs_l2_per_day  calldata_bytes_user_txs_l2_per_day  \\\n",
       "257                     7.471650e+07                           5443783.0   \n",
       "8                       4.900869e+09                         191696202.0   \n",
       "34                      3.441251e+08                          21407411.0   \n",
       "35                      2.142080e+05                             15064.0   \n",
       "164                     4.659603e+09                         365475993.0   \n",
       "\n",
       "      l2_gas_used  l2_eth_fees_per_day  gas_compression_ratio  \\\n",
       "257  5.386712e+09             2.128575               1.232668   \n",
       "8    2.202168e+11            63.970008               0.506215   \n",
       "34   1.705784e+10             5.417414               0.674643   \n",
       "35   2.186807e+09             0.015078             153.310558   \n",
       "164  1.995162e+11            94.102721               0.647632   \n",
       "\n",
       "     bytes_compression_ratio  dt_rank  \n",
       "257                 0.333513       65  \n",
       "8                   0.751774        3  \n",
       "34                  0.438295        9  \n",
       "35                  0.165709        9  \n",
       "164                 0.496412       42  \n",
       "\n",
       "[5 rows x 30 columns]"
      ]
     },
     "metadata": {},
     "output_type": "display_data"
    }
   ],
   "source": [
    "new_data = combo_df[combo_df['active_secs_per_day'] == 86400].copy()\n",
    "display(new_data.sample(5))"
   ]
  },
  {
   "cell_type": "code",
   "execution_count": 10,
   "metadata": {},
   "outputs": [
    {
     "data": {
      "text/plain": [
       "l2_num_txs_per_day           0\n",
       "calldata_gas_l2_per_day      0\n",
       "calldata_bytes_l2_per_day    0\n",
       "l1_gas_used_inbox            0\n",
       "dtype: int64"
      ]
     },
     "execution_count": 10,
     "metadata": {},
     "output_type": "execute_result"
    }
   ],
   "source": [
    "selected_columns = [\n",
    "    'l2_num_txs_per_day' #, 'l2_num_attr_deposit_txs_per_day', 'l2_num_user_deposit_txs_per_day'\n",
    "    # , 'l1_gas_used_on_l2'\n",
    "    , 'calldata_gas_l2_per_day'\n",
    "    , 'calldata_bytes_l2_per_day'\n",
    "    # , 'l1_gas_used_user_txs_l2_per_day', 'calldata_bytes_user_txs_l2_per_day'\n",
    "    , 'l1_gas_used_inbox'\n",
    "]\n",
    "\n",
    "missing_values_in_selected_columns = new_data[selected_columns].isnull().sum()\n",
    "missing_values_in_selected_columns"
   ]
  },
  {
   "cell_type": "code",
   "execution_count": 11,
   "metadata": {},
   "outputs": [
    {
     "data": {
      "text/plain": [
       "l2_num_txs_per_day           0\n",
       "calldata_gas_l2_per_day      0\n",
       "calldata_bytes_l2_per_day    0\n",
       "l1_gas_used_inbox            0\n",
       "dtype: int64"
      ]
     },
     "execution_count": 11,
     "metadata": {},
     "output_type": "execute_result"
    }
   ],
   "source": [
    "# Filling the missing values in 'l1_gas_used_on_l2' with 0\n",
    "# new_data['l1_gas_used_on_l2'].fillna(0, inplace=True)\n",
    "new_data['calldata_gas_l2_per_day'].fillna(0, inplace=True)\n",
    "new_data['calldata_bytes_l2_per_day'].fillna(0, inplace=True)\n",
    "# new_data['l1_gas_used_user_txs_l2_per_day'].fillna(0, inplace=True)\n",
    "# new_data['calldata_bytes_user_txs_l2_per_day'].fillna(0, inplace=True)\n",
    "\n",
    "# Verifying that there are no more missing values in the selected columns\n",
    "missing_values_in_selected_columns = new_data[selected_columns].isnull().sum()\n",
    "missing_values_in_selected_columns"
   ]
  },
  {
   "cell_type": "code",
   "execution_count": 12,
   "metadata": {},
   "outputs": [
    {
     "data": {
      "text/plain": [
       "l2_num_txs_per_day           0.913363\n",
       "calldata_gas_l2_per_day      0.975071\n",
       "calldata_bytes_l2_per_day    0.970324\n",
       "l1_gas_used_inbox            1.000000\n",
       "Name: l1_gas_used_inbox, dtype: float64"
      ]
     },
     "execution_count": 12,
     "metadata": {},
     "output_type": "execute_result"
    }
   ],
   "source": [
    "# Step 2: Feature Selection - Examining the correlation between the potential features and the target variable\n",
    "correlation_matrix = new_data[selected_columns].corr()\n",
    "\n",
    "# Getting the correlation of all features with the target variable 'l1_gas_used_inbox'\n",
    "target_correlation = correlation_matrix['l1_gas_used_inbox']\n",
    "\n",
    "# Displaying the correlation values\n",
    "target_correlation"
   ]
  },
  {
   "cell_type": "code",
   "execution_count": 13,
   "metadata": {},
   "outputs": [],
   "source": [
    "# Build new values\n",
    "new_data['l1_gas_used_per_user_tx'] = new_data['l1_gas_used_user_txs_l2_per_day'] / new_data['l2_num_txs_per_day']\n",
    "new_data['calldata_bytes_per_user_tx'] = new_data['calldata_bytes_user_txs_l2_per_day'] / new_data['l2_num_txs_per_day']\n",
    "\n",
    "# display(new_data[new_data['l1_gas_used_user_txs_l2_per_day'] == 0].head(5))\n",
    "\n",
    "new_data['l1_gas_used_per_user_tx'].fillna(0, inplace=True)\n",
    "new_data['calldata_bytes_per_user_tx'].fillna(0, inplace=True)\n",
    "\n",
    "# new_data['l2_num_txs_per_day_sq'] = new_data['l2_num_txs_per_day'] ** 2\n",
    "\n",
    "# display(new_data.head(5))"
   ]
  },
  {
   "cell_type": "code",
   "execution_count": null,
   "metadata": {},
   "outputs": [],
   "source": [
    "# GPT Built model\n",
    "from sklearn.model_selection import train_test_split\n",
    "\n",
    "# Step 3: Data Splitting - Splitting the data into training and testing sets\n",
    "\n",
    "# Selected features\n",
    "features = [\n",
    "    # 'l1_gas_used_user_txs_l2_per_day', \n",
    "    # 'calldata_bytes_user_txs_l2_per_day', \n",
    "    'l1_gas_used_per_user_tx',\n",
    "    'calldata_bytes_per_user_tx',\n",
    "    'l2_num_txs_per_day', \n",
    "    # 'l2_num_txs_per_day_sq', \n",
    "    'l2_num_user_deposit_txs_per_day', \n",
    "    # 'l2_num_attr_deposit_txs_per_day'\n",
    "]\n",
    "\n",
    "# Target variable\n",
    "target = 'l1_gas_used_inbox'\n",
    "\n",
    "# Splitting the data into training and testing sets (80% training, 20% testing)\n",
    "X = new_data[features]\n",
    "y = new_data[target]\n",
    "\n",
    "X_train, X_test, y_train, y_test = train_test_split(X, y, test_size=0.2, random_state=42)\n",
    "\n",
    "X_train.shape, X_test.shape\n"
   ]
  },
  {
   "cell_type": "code",
   "execution_count": null,
   "metadata": {},
   "outputs": [],
   "source": [
    "from sklearn.linear_model import LinearRegression\n",
    "from sklearn.metrics import mean_squared_error, r2_score\n",
    "\n",
    "# Step 4: Model Training - Training a linear regression model\n",
    "linear_regressor = LinearRegression()\n",
    "linear_regressor.fit(X_train, y_train)\n",
    "\n",
    "# Step 5: Model Evaluation - Evaluating the model on the testing set\n",
    "y_pred_linear = linear_regressor.predict(X_test)\n",
    "\n",
    "# Calculate the model performance\n",
    "mse_linear = mean_squared_error(y_test, y_pred_linear)\n",
    "r2_linear = r2_score(y_test, y_pred_linear)\n",
    "\n",
    "mse_linear, r2_linear"
   ]
  },
  {
   "cell_type": "code",
   "execution_count": null,
   "metadata": {},
   "outputs": [],
   "source": [
    "# Extracting the coefficients and intercept from the trained model\n",
    "intercept = linear_regressor.intercept_\n",
    "coefficients = linear_regressor.coef_\n",
    "\n",
    "# Creating a dictionary to hold the feature names and their respective coefficients\n",
    "feature_coeff_dict = dict(zip(features, coefficients))\n",
    "\n",
    "# Displaying the intercept and coefficients\n",
    "intercept, feature_coeff_dict"
   ]
  },
  {
   "cell_type": "code",
   "execution_count": null,
   "metadata": {},
   "outputs": [],
   "source": [
    "from joblib import dump\n",
    "\n",
    "# Save the model to a file\n",
    "model_filepath = 'outputs/linear_regression_l1_gas_used_inbox_model.joblib'\n",
    "dump(linear_regressor, model_filepath)\n"
   ]
  },
  {
   "cell_type": "code",
   "execution_count": null,
   "metadata": {},
   "outputs": [],
   "source": [
    "# Create a string to represent the regression equation\n",
    "equation_str = f\"l1_gas_used_inbox = {intercept:.2f}\"\n",
    "for feature, coef in feature_coeff_dict.items():\n",
    "    equation_str += f\" + ({coef:.2f}) * {feature}\"\n",
    "\n",
    "# Print out the regression equation\n",
    "print(equation_str)"
   ]
  },
  {
   "cell_type": "code",
   "execution_count": null,
   "metadata": {},
   "outputs": [],
   "source": [
    "# Find inputs\n",
    "# Convert the 'dt' column to datetime data type\n",
    "new_data['dt'] = pd.to_datetime(new_data['dt'])\n",
    "\n",
    "# Identify the most recent date in the dataset\n",
    "most_recent_date = new_data['dt'].max()\n",
    "\n",
    "# Identify the date that is 30 days before the most recent date\n",
    "date_30_days_ago = most_recent_date - pd.Timedelta(days=30)\n",
    "\n",
    "# Filter the data to include only the most recent 30 days\n",
    "recent_30_days_data = new_data[new_data['dt'] > date_30_days_ago]\n",
    "\n",
    "# Group the data by 'chain' and calculate the average values for each of the input features over the most recent 30 days\n",
    "average_values_per_chain = recent_30_days_data.groupby('chain')[features].mean()\n",
    "\n",
    "# Resetting the index to have 'chain' as a column\n",
    "average_values_per_chain = average_values_per_chain.reset_index()\n",
    "\n",
    "# Calculate the per transaction values for 'l1_gas_used_on_l2' and 'calldata_bytes_l2_per_day'\n",
    "# average_values_per_chain['l1_gas_used_user_txs_on_l2_per_tx'] = average_values_per_chain['l1_gas_used_user_txs_l2_per_day'] / average_values_per_chain['l2_num_txs_per_day']\n",
    "# average_values_per_chain['calldata_bytes_user_txs_l2_per_tx'] = average_values_per_chain['calldata_bytes_user_txs_l2_per_day'] / average_values_per_chain['l2_num_txs_per_day']\n",
    "\n",
    "# Create a new DataFrame to hold the 'per_tx' values\n",
    "# average_values_per_tx_chain = average_values_per_chain[['chain', 'l1_gas_used_per_user_tx', 'calldata_bytes_per_user_tx', 'l2_num_txs_per_day']]\n",
    "\n",
    "\n",
    "\n",
    "# Display the average values per chain\n",
    "# display(average_values_per_tx_chain)"
   ]
  },
  {
   "cell_type": "code",
   "execution_count": null,
   "metadata": {},
   "outputs": [],
   "source": [
    "import matplotlib.pyplot as plt\n",
    "# Setting up the plot\n",
    "plt.figure(figsize=(12, 8))\n",
    "\n",
    "# List of unique chains\n",
    "chains = new_data['chain'].unique()\n",
    "\n",
    "# Looping over each chain to plot the actual vs. predicted values and residuals\n",
    "for i, chain in enumerate(chains):\n",
    "    \n",
    "    # Filtering the data for the current chain\n",
    "    chain_data = recent_30_days_data[recent_30_days_data['chain'] == chain]\n",
    "    \n",
    "    # Making predictions using the new model\n",
    "    chain_data['predicted_l1_gas_used_inbox_new'] = linear_regressor.predict(chain_data[features])\n",
    "    \n",
    "    # Plotting the actual and predicted values\n",
    "    plt.subplot(2, 2, i+1)\n",
    "    plt.plot(chain_data['dt'], chain_data['l1_gas_used_inbox'], label='Actual', marker='o', linestyle='-')\n",
    "    plt.plot(chain_data['dt'], chain_data['predicted_l1_gas_used_inbox_new'], label='Predicted', marker='o', linestyle='-')\n",
    "    \n",
    "    # Plotting the residuals\n",
    "    for j in range(len(chain_data)):\n",
    "        plt.plot([chain_data['dt'].iloc[j], chain_data['dt'].iloc[j]], \n",
    "                 [chain_data['l1_gas_used_inbox'].iloc[j], chain_data['predicted_l1_gas_used_inbox_new'].iloc[j]], \n",
    "                 color='gray', linestyle='--', linewidth=0.5)\n",
    "    \n",
    "    # Adding labels and title\n",
    "    plt.xlabel('Date')\n",
    "    plt.ylabel('L1 Gas Used Inbox')\n",
    "    plt.title(f'Actual vs Predicted (Chain: {chain})')\n",
    "    plt.legend()\n",
    "    plt.grid(True)\n",
    "\n",
    "# Adjusting the layout to prevent overlapping\n",
    "plt.tight_layout()\n",
    "\n",
    "# Displaying the plot\n",
    "plt.show()\n"
   ]
  },
  {
   "cell_type": "code",
   "execution_count": null,
   "metadata": {},
   "outputs": [],
   "source": [
    "#Stratify sampling\n",
    "\n",
    "from sklearn.model_selection import StratifiedShuffleSplit\n",
    "\n",
    "# Resetting the index of new_data before performing stratified sampling\n",
    "new_data.reset_index(drop=True, inplace=True)\n",
    "\n",
    "# Defining the stratified shuffle split object to split the data into training and testing sets with stratification on the 'chain' column\n",
    "stratified_split = StratifiedShuffleSplit(n_splits=1, test_size=0.2, random_state=42)\n",
    "\n",
    "\n",
    "# Splitting the data into training and testing sets using stratified sampling\n",
    "for train_index, test_index in stratified_split.split(new_data, new_data['chain']):\n",
    "    stratified_train_data = new_data.loc[train_index]\n",
    "    stratified_test_data = new_data.loc[test_index]\n",
    "\n",
    "# Training the linear regression model using the stratified training set\n",
    "X_train_stratified = stratified_train_data[features]\n",
    "y_train_stratified = stratified_train_data['l1_gas_used_inbox']\n",
    "X_test_stratified = stratified_test_data[features]\n",
    "y_test_stratified = stratified_test_data['l1_gas_used_inbox']\n",
    "\n",
    "linear_regressor_stratified = LinearRegression()\n",
    "linear_regressor_stratified.fit(X_train_stratified, y_train_stratified)\n",
    "\n",
    "# Predicting the target variable on the stratified testing set\n",
    "stratified_test_data['predicted_l1_gas_used_inbox'] = linear_regressor_stratified.predict(X_test_stratified)\n",
    "\n",
    "# Setting up the plot for visualization of residuals for each chain\n",
    "plt.figure(figsize=(12, 8))\n",
    "\n",
    "# Looping over each chain to plot the actual vs. predicted values and residuals\n",
    "for i, chain in enumerate(chains):\n",
    "    \n",
    "    # Filtering the data for the current chain and sorting it by date for a connected line plot\n",
    "    chain_data = stratified_test_data[stratified_test_data['chain'] == chain].sort_values(by='dt')\n",
    "    \n",
    "    # Plotting the actual and predicted values\n",
    "    plt.subplot(2, 2, i+1)\n",
    "    plt.plot(chain_data['dt'], chain_data['l1_gas_used_inbox'], label='Actual', marker='o', linestyle='-')\n",
    "    plt.plot(chain_data['dt'], chain_data['predicted_l1_gas_used_inbox'], label='Predicted', marker='o', linestyle='-')\n",
    "    \n",
    "    # Plotting the residuals\n",
    "    for j in range(len(chain_data)):\n",
    "        plt.plot([chain_data['dt'].iloc[j], chain_data['dt'].iloc[j]], \n",
    "                 [chain_data['l1_gas_used_inbox'].iloc[j], chain_data['predicted_l1_gas_used_inbox'].iloc[j]], \n",
    "                 color='gray', linestyle='--', linewidth=0.5)\n",
    "    \n",
    "    # Adding labels and title\n",
    "    plt.xlabel('Date')\n",
    "    plt.ylabel('L1 Gas Used Inbox')\n",
    "    plt.title(f'Actual vs Predicted (Chain: {chain}) - Stratified')\n",
    "    plt.legend()\n",
    "    plt.grid(True)\n",
    "\n",
    "# Adjusting the layout to prevent overlapping\n",
    "plt.tight_layout()\n",
    "\n",
    "# Displaying the plot\n",
    "plt.show()\n"
   ]
  },
  {
   "cell_type": "code",
   "execution_count": null,
   "metadata": {},
   "outputs": [],
   "source": [
    "# Extracting the coefficients and intercept from the trained model\n",
    "intercept = linear_regressor_stratified.intercept_\n",
    "coefficients = linear_regressor_stratified.coef_\n",
    "\n",
    "# Creating a dictionary to hold the feature names and their respective coefficients\n",
    "feature_coeff_dict = dict(zip(features, coefficients))\n",
    "\n",
    "# Displaying the intercept and coefficients\n",
    "intercept, feature_coeff_dict"
   ]
  },
  {
   "cell_type": "code",
   "execution_count": null,
   "metadata": {},
   "outputs": [],
   "source": [
    "from sklearn.preprocessing import PolynomialFeatures\n",
    "from sklearn.metrics import mean_absolute_error\n",
    "\n",
    "# Step 1: Create second-degree polynomial features\n",
    "poly = PolynomialFeatures(degree=2, include_bias=False)\n",
    "X_poly = poly.fit_transform(new_data[features])\n",
    "\n",
    "# Step 2: Train a linear regression model using the polynomial features\n",
    "poly_lr = LinearRegression()\n",
    "poly_lr.fit(X_poly, new_data['l1_gas_used_inbox'])\n",
    "\n",
    "# Step 3: Make predictions using the polynomial features\n",
    "new_data['predicted_l1_gas_used_inbox_poly'] = poly_lr.predict(X_poly)\n",
    "\n",
    "# Step 4: Evaluate the model using suitable metrics\n",
    "mse_poly = mean_squared_error(new_data['l1_gas_used_inbox'], new_data['predicted_l1_gas_used_inbox_poly'])\n",
    "mae_poly = mean_absolute_error(new_data['l1_gas_used_inbox'], new_data['predicted_l1_gas_used_inbox_poly'])\n",
    "r2_poly = r2_score(new_data['l1_gas_used_inbox'], new_data['predicted_l1_gas_used_inbox_poly'])\n",
    "\n",
    "mse_poly, mae_poly, r2_poly\n"
   ]
  },
  {
   "cell_type": "code",
   "execution_count": null,
   "metadata": {},
   "outputs": [],
   "source": [
    "# Visualizing the actual vs predicted values for the model with polynomial features\n",
    "plt.figure(figsize=(10, 6))\n",
    "\n",
    "# Plotting the actual values\n",
    "plt.scatter(new_data['dt'], new_data['l1_gas_used_inbox'], label='Actual', alpha=0.5, color='blue')\n",
    "\n",
    "# Plotting the predicted values from the polynomial regression model\n",
    "plt.scatter(new_data['dt'], new_data['predicted_l1_gas_used_inbox_poly'], label='Predicted (Poly Reg)', alpha=0.5, color='red')\n",
    "\n",
    "# Labeling the axes and setting the title\n",
    "plt.xlabel('Date')\n",
    "plt.ylabel('L1 Gas Used Inbox')\n",
    "plt.title('Actual vs Predicted L1 Gas Used Inbox (Polynomial Regression)')\n",
    "\n",
    "# Displaying the legend\n",
    "plt.legend()\n",
    "\n",
    "# Displaying the plot\n",
    "plt.show()\n"
   ]
  },
  {
   "cell_type": "code",
   "execution_count": null,
   "metadata": {},
   "outputs": [],
   "source": [
    "# Setting up the plot\n",
    "plt.figure(figsize=(14, 8))\n",
    "\n",
    "# List of unique chains\n",
    "chains = new_data['chain'].unique()\n",
    "\n",
    "# Plotting the actual and predicted values for each chain in separate subplots\n",
    "for i, chain in enumerate(chains, 1):\n",
    "    plt.subplot(2, 2, i)\n",
    "    \n",
    "    # Filtering the data for the current chain\n",
    "    chain_data = new_data[new_data['chain'] == chain]\n",
    "    \n",
    "    # Plotting the actual values\n",
    "    plt.scatter(chain_data['dt'], chain_data['l1_gas_used_inbox'], label='Actual', alpha=0.5, color='blue')\n",
    "    \n",
    "    # Plotting the predicted values from the polynomial regression model\n",
    "    plt.scatter(chain_data['dt'], chain_data['predicted_l1_gas_used_inbox_poly'], label='Predicted (Poly Reg)', alpha=0.5, color='red')\n",
    "    \n",
    "    # Setting the title to the current chain\n",
    "    plt.title(chain)\n",
    "    \n",
    "    # Labeling the axes\n",
    "    plt.xlabel('Date')\n",
    "    plt.ylabel('L1 Gas Used Inbox')\n",
    "    \n",
    "    # Displaying the legend\n",
    "    plt.legend()\n",
    "\n",
    "# Adjusting the layout to prevent overlapping\n",
    "plt.tight_layout()\n",
    "\n",
    "# Displaying the plot\n",
    "plt.show()\n"
   ]
  },
  {
   "cell_type": "code",
   "execution_count": null,
   "metadata": {},
   "outputs": [],
   "source": [
    "import pandas as pd\n",
    "from sklearn.model_selection import train_test_split\n",
    "from sklearn.linear_model import LinearRegression\n",
    "from sklearn.metrics import mean_squared_error, r2_score\n",
    "import numpy as np\n",
    "import matplotlib.pyplot as plt\n",
    "\n",
    "# Load the dataset\n",
    "file_path = 'outputs/op_chain_gas_economics_sample.csv'\n",
    "data = pd.read_csv(file_path)\n",
    "\n",
    "# Create the 'full_days_data' dataframe by filtering rows where 'active_secs_per_day' is equal to the maximum value\n",
    "max_active_secs = data['active_secs_per_day'].max()\n",
    "full_days_data = data[data['active_secs_per_day'] == max_active_secs]\n",
    "\n",
    "# Create new features representing gas used and calldata bytes per user transaction\n",
    "full_days_data['l1_gas_used_per_user_tx'] = full_days_data['l1_gas_used_user_txs_l2_per_day'] / full_days_data['l2_num_txs_per_day']\n",
    "full_days_data['calldata_bytes_per_user_tx'] = full_days_data['calldata_bytes_user_txs_l2_per_day'] / full_days_data['l2_num_txs_per_day']\n",
    "\n",
    "# Fill NaN values with 0\n",
    "full_days_data['l1_gas_used_per_user_tx'].fillna(0, inplace=True)\n",
    "full_days_data['calldata_bytes_per_user_tx'].fillna(0, inplace=True)\n",
    "\n",
    "# Find the minimum 'l1_gas_used_inbox' value for days with zero transactions and set it as a new feature\n",
    "min_gas_used_inbox = full_days_data.loc[full_days_data['l2_num_txs_per_day'] == 0, 'l1_gas_used_inbox'].min()\n",
    "full_days_data['min_gas_used_inbox'] = min_gas_used_inbox\n",
    "\n",
    "# Define features and target variable\n",
    "features = [\n",
    "    'l1_gas_used_per_user_tx',\n",
    "    'calldata_bytes_per_user_tx',\n",
    "    'l2_num_txs_per_day', \n",
    "    'l2_num_user_deposit_txs_per_day',\n",
    "    'min_gas_used_inbox'\n",
    "]\n",
    "target = 'l1_gas_used_inbox'\n",
    "\n",
    "# Split the data into training and testing sets\n",
    "X = full_days_data[features]\n",
    "y = full_days_data[target]\n",
    "\n",
    "X_train, X_test, y_train, y_test = train_test_split(X, y, test_size=0.2, random_state=42)\n",
    "\n",
    "# Train a linear regression model\n",
    "linear_regressor = LinearRegression()\n",
    "linear_regressor.fit(X_train, y_train)\n",
    "\n",
    "# Make predictions on the testing set\n",
    "y_pred = linear_regressor.predict(X_test)\n",
    "\n",
    "# Evaluate the model\n",
    "mse = mean_squared_error(y_test, y_pred)\n",
    "r2 = r2_score(y_test, y_pred)\n",
    "\n",
    "# Print the model performance metrics\n",
    "print(f\"MSE: {mse}\")\n",
    "print(f\"R²: {r2}\")\n",
    "\n"
   ]
  },
  {
   "cell_type": "code",
   "execution_count": null,
   "metadata": {},
   "outputs": [],
   "source": [
    "# Extracting the coefficients and intercept from the trained model\n",
    "intercept = linear_regressor.intercept_\n",
    "coefficients = linear_regressor.coef_\n",
    "\n",
    "# Creating a dictionary to hold the feature names and their respective coefficients\n",
    "feature_coeff_dict = dict(zip(features, coefficients))\n",
    "\n",
    "# Displaying the intercept and coefficients\n",
    "intercept, feature_coeff_dict"
   ]
  },
  {
   "cell_type": "code",
   "execution_count": null,
   "metadata": {},
   "outputs": [],
   "source": [
    "# Setting up the plot\n",
    "plt.figure(figsize=(12, 8))\n",
    "\n",
    "# Adding a column to the testing set to store the predictions\n",
    "X_test['predicted_l1_gas_used_inbox'] = y_pred\n",
    "\n",
    "# Merging with the full dataset to get the 'chain' and 'dt' columns for plotting\n",
    "test_data_with_predictions = full_days_data.merge(X_test[['predicted_l1_gas_used_inbox']], left_index=True, right_index=True)\n",
    "\n",
    "# List of unique chains\n",
    "chains = test_data_with_predictions['chain'].unique()\n",
    "\n",
    "# Looping over each chain to plot the actual vs. predicted values and residuals\n",
    "for i, chain in enumerate(chains):\n",
    "    \n",
    "    # Filtering the data for the current chain\n",
    "    chain_data = test_data_with_predictions[test_data_with_predictions['chain'] == chain]\n",
    "    \n",
    "    # Plotting the actual and predicted values\n",
    "    plt.subplot(2, 2, i+1)\n",
    "    plt.plot(chain_data['dt'], chain_data['l1_gas_used_inbox'], label='Actual', marker='o', linestyle='-')\n",
    "    plt.plot(chain_data['dt'], chain_data['predicted_l1_gas_used_inbox'], label='Predicted', marker='o', linestyle='-')\n",
    "    \n",
    "    # Plotting the residuals\n",
    "    for j in range(len(chain_data)):\n",
    "        plt.plot([chain_data['dt'].iloc[j], chain_data['dt'].iloc[j]], \n",
    "                 [chain_data['l1_gas_used_inbox'].iloc[j], chain_data['predicted_l1_gas_used_inbox'].iloc[j]], \n",
    "                 color='gray', linestyle='--', linewidth=0.5)\n",
    "    \n",
    "    # Adding labels and title\n",
    "    plt.xlabel('Date')\n",
    "    plt.ylabel('L1 Gas Used Inbox')\n",
    "    plt.title(f'Actual vs Predicted (Chain: {chain})')\n",
    "    plt.legend()\n",
    "    plt.grid(True)\n",
    "\n",
    "# Adjusting the layout to prevent overlapping\n",
    "plt.tight_layout()\n",
    "\n",
    "# Displaying the plot\n",
    "plt.show()\n"
   ]
  },
  {
   "cell_type": "code",
   "execution_count": null,
   "metadata": {},
   "outputs": [],
   "source": [
    "import pandas as pd\n",
    "from sklearn.model_selection import train_test_split\n",
    "from sklearn.linear_model import LinearRegression\n",
    "from sklearn.metrics import mean_squared_error, r2_score\n",
    "\n",
    "# Load the dataset\n",
    "file_path = 'outputs/op_chain_gas_economics_sample.csv'\n",
    "data = pd.read_csv(file_path)\n",
    "\n",
    "# Create interaction terms\n",
    "features = [\n",
    "    'l2_num_txs_per_day', \n",
    "    'l2_num_attr_deposit_txs_per_day', \n",
    "    'l2_num_user_deposit_txs_per_day',\n",
    "    'l1_gas_used_user_txs_l2_per_day',\n",
    "    'calldata_bytes_user_txs_l2_per_day',\n",
    "    'l2_gas_used'\n",
    "]\n",
    "\n",
    "interaction_terms = []\n",
    "for i, feature1 in enumerate(features):\n",
    "    for feature2 in features[i+1:]:\n",
    "        interaction_term = f\"{feature1}_x_{feature2}\"\n",
    "        data[interaction_term] = data[feature1] * data[feature2]\n",
    "        interaction_terms.append(interaction_term)\n",
    "\n",
    "# Display the interaction terms\n",
    "interaction_terms\n"
   ]
  }
 ],
 "metadata": {
  "kernelspec": {
   "display_name": "new-env",
   "language": "python",
   "name": "python3"
  },
  "language_info": {
   "codemirror_mode": {
    "name": "ipython",
    "version": 3
   },
   "file_extension": ".py",
   "mimetype": "text/x-python",
   "name": "python",
   "nbconvert_exporter": "python",
   "pygments_lexer": "ipython3",
   "version": "3.10.11"
  },
  "orig_nbformat": 4
 },
 "nbformat": 4,
 "nbformat_minor": 2
}
