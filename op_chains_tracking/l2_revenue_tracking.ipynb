{
 "cells": [
  {
   "cell_type": "code",
   "execution_count": 1,
   "metadata": {},
   "outputs": [],
   "source": [
    "# Get L2 Revenue and post it to a database (csv in github for now)\n",
    "import pandas as pd\n",
    "import sys\n",
    "import time\n",
    "import json\n",
    "sys.path.append(\"../helper_functions\")\n",
    "import web3py_utils as w3py\n",
    "import duneapi_utils as du\n",
    "from web3 import Web3\n",
    "from datetime import datetime\n",
    "sys.path.pop()\n",
    "\n",
    "import os"
   ]
  },
  {
   "cell_type": "code",
   "execution_count": 2,
   "metadata": {},
   "outputs": [
    {
     "name": "stdout",
     "output_type": "stream",
     "text": [
      "             chain_name op_based_version has_mods is_law_of_chains  \\\n",
      "0            op mainnet          bedrock       no              yes   \n",
      "1                  base          bedrock       no              yes   \n",
      "2          zora network          bedrock       no               no   \n",
      "3  public goods network          bedrock       no               no   \n",
      "5                 opbnb          bedrock      yes               no   \n",
      "6         manta pacific          bedrock      yes               no   \n",
      "7            loot chain          bedrock      yes               no   \n",
      "8         kroma network          bedrock      yes               no   \n",
      "9                vienna          bedrock      yes               no   \n",
      "\n",
      "  raas_deployer                                  rpc_url  \\\n",
      "0                            https://mainnet.optimism.io   \n",
      "1                              https://mainnet.base.org/   \n",
      "2       conduit                 https://rpc.zora.energy/   \n",
      "3       conduit         https://rpc.publicgoods.network/   \n",
      "5                 https://opbnb-mainnet-rpc.bnbchain.org   \n",
      "6       caldera   https://pacific-rpc.manta.network/http   \n",
      "7       caldera           https://rpc.lootchain.com/http   \n",
      "8                             https://api.kroma.network/   \n",
      "9       caldera     https://vienna.calderachain.xyz/http   \n",
      "\n",
      "                   product_website gas_token   da_layer superchain_registry  \n",
      "0              https://optimism.io       ETH   ethereum                 yes  \n",
      "1                 https://base.org       ETH   ethereum                 yes  \n",
      "2              https://zora.energy       ETH   ethereum                 yes  \n",
      "3     https://publicgoods.network/       ETH   ethereum                 yes  \n",
      "5    https://opbnb.bnbchain.org/en       BNB        bnb                  no  \n",
      "6   https://pacific.manta.network/       ETH   celestia                  no  \n",
      "7       https://adventuregold.org/       ETH    polygon                  no  \n",
      "8           https://kroma.network/       ETH   ethereum                  no  \n",
      "9      https://vienna.caldera.dev/       ETH    unknown                  no  \n"
     ]
    }
   ],
   "source": [
    "# https://github.com/ethereum-optimism/optimism/blob/b86522036ad11a91de1d1dadb6805167add83326/specs/predeploys.md?plain=1#L50\n",
    "\n",
    "# Name, contract\n",
    "fee_vaults = [\n",
    "    ['SequencerFeeVault','0x4200000000000000000000000000000000000011'],\n",
    "    ['BaseFeeVault','0x4200000000000000000000000000000000000019'],\n",
    "    ['L1FeeVault','0x420000000000000000000000000000000000001A'],\n",
    "]\n",
    "\n",
    "# Aiming to eventually read from superchain-resitry + some non-superchain static adds\n",
    "chains_rpcs = pd.read_csv('inputs/chain_metadata.csv')\n",
    "# print(chains_rpcs.columns)\n",
    "chains_rpcs = chains_rpcs[~(chains_rpcs['rpc_url'] == ' ') & ~(chains_rpcs['op_based_version'].str.contains('legacy'))]\n",
    "# chains_rpcs = chains_rpcs.values.tolist()\n",
    "print(chains_rpcs)"
   ]
  },
  {
   "cell_type": "code",
   "execution_count": 3,
   "metadata": {},
   "outputs": [
    {
     "name": "stdout",
     "output_type": "stream",
     "text": [
      "Method ID: 0x84411d65\n"
     ]
    }
   ],
   "source": [
    "# Calculate the method signature hash\n",
    "method_signature = \"totalProcessed()\"\n",
    "method_id = Web3.keccak(text=method_signature)[:4].hex()\n",
    "# Verify the method ID\n",
    "print(f\"Method ID: {method_id}\")"
   ]
  },
  {
   "cell_type": "code",
   "execution_count": 4,
   "metadata": {},
   "outputs": [
    {
     "name": "stdout",
     "output_type": "stream",
     "text": [
      "op mainnet\n",
      "op mainnet | SequencerFeeVault: 1489676782078703420819 | bal: 21845098692594353432 | total eth: 1511.521880771298\n",
      "op mainnet | BaseFeeVault: 613440458297089430527 | bal: 10507441120774022626 | total eth: 623.9478994178634\n",
      "op mainnet | L1FeeVault: 4210547361710568971100 | bal: 21664050314605048886 | total eth: 4232.2114120251745\n",
      "base\n",
      "base | SequencerFeeVault: 1905192317840911911061 | bal: 309118822228053774227 | total eth: 2214.311140068966\n",
      "base | BaseFeeVault: 442281139106418194815 | bal: 47036342537942891415 | total eth: 489.31748164436107\n",
      "base | L1FeeVault: 1567676667751681489641 | bal: 418418903701453887861 | total eth: 1986.0955714531353\n",
      "zora network\n",
      "zora network | SequencerFeeVault: 256842974805031609748 | bal: 2506375345649946340 | total eth: 259.3493501506816\n",
      "zora network | BaseFeeVault: 0 | bal: 43977897166264 | total eth: 4.3977897166264e-05\n",
      "zora network | L1FeeVault: 208754535130387528966 | bal: 808748117930467790 | total eth: 209.563283248318\n",
      "public goods network\n",
      "public goods network | SequencerFeeVault: 0 | bal: 5712358232327455111 | total eth: 5.712358232327455\n",
      "public goods network | BaseFeeVault: 0 | bal: 208578335050 | total eth: 2.0857833505e-07\n",
      "public goods network | L1FeeVault: 0 | bal: 2983775228463669790 | total eth: 2.98377522846367\n",
      "opbnb\n",
      "opbnb | SequencerFeeVault: 0 | bal: 297228244299096950764 | total eth: 297.22824429909696\n",
      "opbnb | BaseFeeVault: 0 | bal: 6905669201201 | total eth: 6.905669201201e-06\n",
      "opbnb | L1FeeVault: 0 | bal: 180833549695176573536 | total eth: 180.83354969517657\n",
      "manta pacific\n",
      "manta pacific | SequencerFeeVault: 1000038904000000000 | bal: 22467526019652087937 | total eth: 23.467564923652088\n",
      "manta pacific | BaseFeeVault: 0 | bal: 39486148447853 | total eth: 3.9486148447853e-05\n",
      "manta pacific | L1FeeVault: 0 | bal: 17369517977447013007 | total eth: 17.369517977447014\n",
      "loot chain\n",
      "kroma network\n",
      "vienna\n",
      "vienna | SequencerFeeVault: 0 | bal: 121444737164235500 | total eth: 0.1214447371642355\n",
      "vienna | BaseFeeVault: 0 | bal: 32545323516 | total eth: 3.2545323516e-08\n",
      "vienna | L1FeeVault: 0 | bal: 695255280336864 | total eth: 0.000695255280336864\n"
     ]
    }
   ],
   "source": [
    "data_arr = []\n",
    "\n",
    "for index, chain in chains_rpcs.iterrows():\n",
    "    chain_name = chain['chain_name']\n",
    "    print(chain_name)\n",
    "    rpc = chain['rpc_url']\n",
    "    # gas_token = chain['gas_token']\n",
    "    # da_layer = chain['da_layer']\n",
    "    # is_superchain_registry = chain['superchain_registry']\n",
    "\n",
    "    try:\n",
    "        w3_conn = Web3(Web3.HTTPProvider(rpc))\n",
    "        # Get the timestamp of the latest block\n",
    "        block_timestamp = w3_conn.eth.get_block('latest').timestamp\n",
    "        block_number = w3_conn.eth.get_block('latest').number\n",
    "        # Convert the UNIX timestamp to a human-readable format\n",
    "        block_time = datetime.utcfromtimestamp(block_timestamp).strftime('%Y-%m-%d %H:%M:%S')\n",
    "\n",
    "        for vault in fee_vaults:\n",
    "            vault_name = vault[0]\n",
    "            vault_address = vault[1]\n",
    "            # Call the function directly using eth_call\n",
    "            response = w3_conn.eth.call({\n",
    "                'to': vault_address,\n",
    "                'data': method_id\n",
    "            })\n",
    "            wei_balance = w3_conn.eth.get_balance(vault_address)\n",
    "            # Decode the result (assuming the function returns a uint256)\n",
    "            proxy_processed_wei = Web3.to_int(hexstr=response.hex())\n",
    "            \n",
    "            alltime_revenue_wei = proxy_processed_wei+wei_balance\n",
    "            alltime_revenue_native = alltime_revenue_wei/1e18\n",
    "\n",
    "            print(chain_name + ' | ' + vault_name + ': ' \\\n",
    "                + str(proxy_processed_wei) + ' | bal: ' + str(wei_balance)\\\n",
    "                + ' | total eth: ' + str( (alltime_revenue_native) )\n",
    "                )\n",
    "            \n",
    "            tmp = pd.DataFrame(\n",
    "                    [[block_time, block_number, chain_name, vault_name, vault_address, alltime_revenue_native]]#, gas_token, da_layer, is_superchain_registry]]\n",
    "                    ,columns =['block_time','block_number','chain_name','vault_name','vault_address','alltime_revenue_native']#,'gas_token','da_layer','is_superchain_registry']\n",
    "                    )\n",
    "            data_arr.append(tmp)\n",
    "            time.sleep(1)\n",
    "    except:\n",
    "        continue\n",
    "\n",
    "data_df = pd.concat(data_arr)"
   ]
  },
  {
   "cell_type": "code",
   "execution_count": 5,
   "metadata": {},
   "outputs": [],
   "source": [
    "\n",
    "file_path = 'outputs/all_time_revenue_data.csv'\n",
    "\n",
    "# Check if the file exists\n",
    "if os.path.exists(file_path):\n",
    "    # If file exists, append without writing the header\n",
    "    data_df.to_csv(file_path, mode='a', header=False, index=False)\n",
    "else:\n",
    "    # If file doesn't exist, create it and write the header\n",
    "    data_df.to_csv(file_path, mode='w', header=True, index=False)"
   ]
  },
  {
   "cell_type": "code",
   "execution_count": 6,
   "metadata": {},
   "outputs": [
    {
     "name": "stdout",
     "output_type": "stream",
     "text": [
      "                block_time  block_number            chain_name  \\\n",
      "3132   2023-09-15 14:00:31       3998542                  base   \n",
      "14477  2023-10-13 18:00:27       4056650  public goods network   \n",
      "14337  2023-10-13 09:59:59        296724         manta pacific   \n",
      "13592  2023-10-11 15:00:07       5171284          zora network   \n",
      "9455   2023-10-02 00:00:29       3549051  public goods network   \n",
      "\n",
      "              vault_name                               vault_address  \\\n",
      "3132   SequencerFeeVault  0x4200000000000000000000000000000000000011   \n",
      "14477         L1FeeVault  0x420000000000000000000000000000000000001A   \n",
      "14337  SequencerFeeVault  0x4200000000000000000000000000000000000011   \n",
      "13592         L1FeeVault  0x420000000000000000000000000000000000001A   \n",
      "9455          L1FeeVault  0x420000000000000000000000000000000000001A   \n",
      "\n",
      "       alltime_revenue_native gas_token   da_layer is_superchain_registry  \n",
      "3132              1805.672797       ETH   ethereum                    yes  \n",
      "14477                2.979086       ETH   ethereum                    yes  \n",
      "14337               22.265137       ETH   celestia                     no  \n",
      "13592              205.201166       ETH   ethereum                    yes  \n",
      "9455                 2.935987       ETH   ethereum                    yes  \n",
      "table at: dune.oplabspbc.dataset_op_stack_chains_cumulative_revenue_snapshots\n",
      "Response status code: 200\n",
      "Response content: b'{\"success\":true}'\n",
      "table at: dune.oplabspbc.dataset_op_stack_chains_chain_rpc_metdata\n",
      "Response status code: 200\n",
      "Response content: b'{\"success\":true}'\n"
     ]
    }
   ],
   "source": [
    "# Write to Dune Table\n",
    "\n",
    "dune_df = pd.read_csv(file_path)\n",
    "\n",
    "print(dune_df.sample(5))\n",
    "\n",
    "du.write_dune_api_from_pandas(dune_df, 'op_stack_chains_cumulative_revenue_snapshots',\\\n",
    "                             'Snapshots of All-Time (cumulative) revenue for fee vaults on OP Stack Chains. Pulled from RPCs - metadata in op_stack_chains_chain_rpc_metdata')\n",
    "du.write_dune_api_from_pandas(chains_rpcs, 'op_stack_chains_chain_rpc_metdata',\\\n",
    "                             'Chain metadata - used to join with op_stack_chains_cumulative_revenue_snapshots')"
   ]
  }
 ],
 "metadata": {
  "kernelspec": {
   "display_name": "new-env",
   "language": "python",
   "name": "python3"
  },
  "language_info": {
   "codemirror_mode": {
    "name": "ipython",
    "version": 3
   },
   "file_extension": ".py",
   "mimetype": "text/x-python",
   "name": "python",
   "nbconvert_exporter": "python",
   "pygments_lexer": "ipython3",
   "version": "3.10.8"
  },
  "orig_nbformat": 4
 },
 "nbformat": 4,
 "nbformat_minor": 2
}
