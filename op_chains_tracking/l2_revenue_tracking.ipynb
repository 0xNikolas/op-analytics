{
 "cells": [
  {
   "cell_type": "code",
   "execution_count": 1,
   "metadata": {},
   "outputs": [],
   "source": [
    "# Get L2 Revenue and post it to a database (csv in github for now)\n",
    "import pandas as pd\n",
    "import sys\n",
    "import time\n",
    "import json\n",
    "sys.path.append(\"../helper_functions\")\n",
    "import web3py_utils as w3py\n",
    "from web3 import Web3\n",
    "from datetime import datetime\n",
    "sys.path.pop()\n",
    "\n",
    "import dotenv\n",
    "import os\n",
    "dotenv.load_dotenv()\n",
    "op_node = os.environ[\"OP_NODE\"]"
   ]
  },
  {
   "cell_type": "code",
   "execution_count": 2,
   "metadata": {},
   "outputs": [
    {
     "name": "stdout",
     "output_type": "stream",
     "text": [
      "[['op mainnet', ' https://mainnet.optimism.io', ' ETH', ' ethereum', ' yes'], ['base', ' https://mainnet.base.org/', ' ETH', ' ethereum', ' yes'], ['zora network', ' https://rpc.zora.energy/', ' ETH', ' ethereum', ' yes'], ['public goods network', ' https://rpc.publicgoods.network/', ' ETH', ' ethereum', ' yes'], ['aevo network', ' https://api.aevo.xyz', ' ETH', ' ethereum', ' no'], ['opbnb', ' https://opbnb-mainnet-rpc.bnbchain.org', ' BNB', ' bnb', ' no']]\n"
     ]
    }
   ],
   "source": [
    "# https://github.com/ethereum-optimism/optimism/blob/b86522036ad11a91de1d1dadb6805167add83326/specs/predeploys.md?plain=1#L50\n",
    "\n",
    "# Name, contract, Proxy ABI, Implementation ABI\n",
    "fee_vaults = [\n",
    "    ['SequencerFeeVault','0x4200000000000000000000000000000000000011'\n",
    "        # ,'[{\"inputs\":[{\"internalType\":\"address\",\"name\":\"_admin\",\"type\":\"address\"}],\"stateMutability\":\"nonpayable\",\"type\":\"constructor\"},{\"anonymous\":false,\"inputs\":[{\"indexed\":false,\"internalType\":\"address\",\"name\":\"previousAdmin\",\"type\":\"address\"},{\"indexed\":false,\"internalType\":\"address\",\"name\":\"newAdmin\",\"type\":\"address\"}],\"name\":\"AdminChanged\",\"type\":\"event\"},{\"anonymous\":false,\"inputs\":[{\"indexed\":true,\"internalType\":\"address\",\"name\":\"implementation\",\"type\":\"address\"}],\"name\":\"Upgraded\",\"type\":\"event\"},{\"stateMutability\":\"payable\",\"type\":\"fallback\"},{\"inputs\":[],\"name\":\"admin\",\"outputs\":[{\"internalType\":\"address\",\"name\":\"\",\"type\":\"address\"}],\"stateMutability\":\"nonpayable\",\"type\":\"function\"},{\"inputs\":[{\"internalType\":\"address\",\"name\":\"_admin\",\"type\":\"address\"}],\"name\":\"changeAdmin\",\"outputs\":[],\"stateMutability\":\"nonpayable\",\"type\":\"function\"},{\"inputs\":[],\"name\":\"implementation\",\"outputs\":[{\"internalType\":\"address\",\"name\":\"\",\"type\":\"address\"}],\"stateMutability\":\"nonpayable\",\"type\":\"function\"},{\"inputs\":[{\"internalType\":\"address\",\"name\":\"_implementation\",\"type\":\"address\"}],\"name\":\"upgradeTo\",\"outputs\":[],\"stateMutability\":\"nonpayable\",\"type\":\"function\"},{\"inputs\":[{\"internalType\":\"address\",\"name\":\"_implementation\",\"type\":\"address\"},{\"internalType\":\"bytes\",\"name\":\"_data\",\"type\":\"bytes\"}],\"name\":\"upgradeToAndCall\",\"outputs\":[{\"internalType\":\"bytes\",\"name\":\"\",\"type\":\"bytes\"}],\"stateMutability\":\"payable\",\"type\":\"function\"},{\"stateMutability\":\"payable\",\"type\":\"receive\"}]'\n",
    "        # ,'[{\"inputs\":[{\"internalType\":\"address\",\"name\":\"_recipient\",\"type\":\"address\"}],\"stateMutability\":\"nonpayable\",\"type\":\"constructor\"},{\"anonymous\":false,\"inputs\":[{\"indexed\":false,\"internalType\":\"uint256\",\"name\":\"value\",\"type\":\"uint256\"},{\"indexed\":false,\"internalType\":\"address\",\"name\":\"to\",\"type\":\"address\"},{\"indexed\":false,\"internalType\":\"address\",\"name\":\"from\",\"type\":\"address\"}],\"name\":\"Withdrawal\",\"type\":\"event\"},{\"inputs\":[],\"name\":\"MIN_WITHDRAWAL_AMOUNT\",\"outputs\":[{\"internalType\":\"uint256\",\"name\":\"\",\"type\":\"uint256\"}],\"stateMutability\":\"view\",\"type\":\"function\"},{\"inputs\":[],\"name\":\"RECIPIENT\",\"outputs\":[{\"internalType\":\"address\",\"name\":\"\",\"type\":\"address\"}],\"stateMutability\":\"view\",\"type\":\"function\"},{\"inputs\":[],\"name\":\"l1FeeWallet\",\"outputs\":[{\"internalType\":\"address\",\"name\":\"\",\"type\":\"address\"}],\"stateMutability\":\"view\",\"type\":\"function\"},{\"inputs\":[],\"name\":\"totalProcessed\",\"outputs\":[{\"internalType\":\"uint256\",\"name\":\"\",\"type\":\"uint256\"}],\"stateMutability\":\"view\",\"type\":\"function\"},{\"inputs\":[],\"name\":\"version\",\"outputs\":[{\"internalType\":\"string\",\"name\":\"\",\"type\":\"string\"}],\"stateMutability\":\"view\",\"type\":\"function\"},{\"inputs\":[],\"name\":\"withdraw\",\"outputs\":[],\"stateMutability\":\"nonpayable\",\"type\":\"function\"},{\"stateMutability\":\"payable\",\"type\":\"receive\"}]'\n",
    "        ],\n",
    "    ['BaseFeeVault','0x4200000000000000000000000000000000000019'\n",
    "        # ,'[{\"inputs\":[{\"internalType\":\"address\",\"name\":\"_admin\",\"type\":\"address\"}],\"stateMutability\":\"nonpayable\",\"type\":\"constructor\"},{\"anonymous\":false,\"inputs\":[{\"indexed\":false,\"internalType\":\"address\",\"name\":\"previousAdmin\",\"type\":\"address\"},{\"indexed\":false,\"internalType\":\"address\",\"name\":\"newAdmin\",\"type\":\"address\"}],\"name\":\"AdminChanged\",\"type\":\"event\"},{\"anonymous\":false,\"inputs\":[{\"indexed\":true,\"internalType\":\"address\",\"name\":\"implementation\",\"type\":\"address\"}],\"name\":\"Upgraded\",\"type\":\"event\"},{\"stateMutability\":\"payable\",\"type\":\"fallback\"},{\"inputs\":[],\"name\":\"admin\",\"outputs\":[{\"internalType\":\"address\",\"name\":\"\",\"type\":\"address\"}],\"stateMutability\":\"nonpayable\",\"type\":\"function\"},{\"inputs\":[{\"internalType\":\"address\",\"name\":\"_admin\",\"type\":\"address\"}],\"name\":\"changeAdmin\",\"outputs\":[],\"stateMutability\":\"nonpayable\",\"type\":\"function\"},{\"inputs\":[],\"name\":\"implementation\",\"outputs\":[{\"internalType\":\"address\",\"name\":\"\",\"type\":\"address\"}],\"stateMutability\":\"nonpayable\",\"type\":\"function\"},{\"inputs\":[{\"internalType\":\"address\",\"name\":\"_implementation\",\"type\":\"address\"}],\"name\":\"upgradeTo\",\"outputs\":[],\"stateMutability\":\"nonpayable\",\"type\":\"function\"},{\"inputs\":[{\"internalType\":\"address\",\"name\":\"_implementation\",\"type\":\"address\"},{\"internalType\":\"bytes\",\"name\":\"_data\",\"type\":\"bytes\"}],\"name\":\"upgradeToAndCall\",\"outputs\":[{\"internalType\":\"bytes\",\"name\":\"\",\"type\":\"bytes\"}],\"stateMutability\":\"payable\",\"type\":\"function\"},{\"stateMutability\":\"payable\",\"type\":\"receive\"}]'\n",
    "        # ,'[{\"inputs\":[{\"internalType\":\"address\",\"name\":\"_recipient\",\"type\":\"address\"}],\"stateMutability\":\"nonpayable\",\"type\":\"constructor\"},{\"anonymous\":false,\"inputs\":[{\"indexed\":false,\"internalType\":\"uint256\",\"name\":\"value\",\"type\":\"uint256\"},{\"indexed\":false,\"internalType\":\"address\",\"name\":\"to\",\"type\":\"address\"},{\"indexed\":false,\"internalType\":\"address\",\"name\":\"from\",\"type\":\"address\"}],\"name\":\"Withdrawal\",\"type\":\"event\"},{\"inputs\":[],\"name\":\"MIN_WITHDRAWAL_AMOUNT\",\"outputs\":[{\"internalType\":\"uint256\",\"name\":\"\",\"type\":\"uint256\"}],\"stateMutability\":\"view\",\"type\":\"function\"},{\"inputs\":[],\"name\":\"RECIPIENT\",\"outputs\":[{\"internalType\":\"address\",\"name\":\"\",\"type\":\"address\"}],\"stateMutability\":\"view\",\"type\":\"function\"},{\"inputs\":[],\"name\":\"totalProcessed\",\"outputs\":[{\"internalType\":\"uint256\",\"name\":\"\",\"type\":\"uint256\"}],\"stateMutability\":\"view\",\"type\":\"function\"},{\"inputs\":[],\"name\":\"version\",\"outputs\":[{\"internalType\":\"string\",\"name\":\"\",\"type\":\"string\"}],\"stateMutability\":\"view\",\"type\":\"function\"},{\"inputs\":[],\"name\":\"withdraw\",\"outputs\":[],\"stateMutability\":\"nonpayable\",\"type\":\"function\"},{\"stateMutability\":\"payable\",\"type\":\"receive\"}]'\n",
    "        ],\n",
    "    ['L1FeeVault','0x420000000000000000000000000000000000001A'\n",
    "        # ,'[{\"inputs\":[{\"internalType\":\"address\",\"name\":\"_admin\",\"type\":\"address\"}],\"stateMutability\":\"nonpayable\",\"type\":\"constructor\"},{\"anonymous\":false,\"inputs\":[{\"indexed\":false,\"internalType\":\"address\",\"name\":\"previousAdmin\",\"type\":\"address\"},{\"indexed\":false,\"internalType\":\"address\",\"name\":\"newAdmin\",\"type\":\"address\"}],\"name\":\"AdminChanged\",\"type\":\"event\"},{\"anonymous\":false,\"inputs\":[{\"indexed\":true,\"internalType\":\"address\",\"name\":\"implementation\",\"type\":\"address\"}],\"name\":\"Upgraded\",\"type\":\"event\"},{\"stateMutability\":\"payable\",\"type\":\"fallback\"},{\"inputs\":[],\"name\":\"admin\",\"outputs\":[{\"internalType\":\"address\",\"name\":\"\",\"type\":\"address\"}],\"stateMutability\":\"nonpayable\",\"type\":\"function\"},{\"inputs\":[{\"internalType\":\"address\",\"name\":\"_admin\",\"type\":\"address\"}],\"name\":\"changeAdmin\",\"outputs\":[],\"stateMutability\":\"nonpayable\",\"type\":\"function\"},{\"inputs\":[],\"name\":\"implementation\",\"outputs\":[{\"internalType\":\"address\",\"name\":\"\",\"type\":\"address\"}],\"stateMutability\":\"nonpayable\",\"type\":\"function\"},{\"inputs\":[{\"internalType\":\"address\",\"name\":\"_implementation\",\"type\":\"address\"}],\"name\":\"upgradeTo\",\"outputs\":[],\"stateMutability\":\"nonpayable\",\"type\":\"function\"},{\"inputs\":[{\"internalType\":\"address\",\"name\":\"_implementation\",\"type\":\"address\"},{\"internalType\":\"bytes\",\"name\":\"_data\",\"type\":\"bytes\"}],\"name\":\"upgradeToAndCall\",\"outputs\":[{\"internalType\":\"bytes\",\"name\":\"\",\"type\":\"bytes\"}],\"stateMutability\":\"payable\",\"type\":\"function\"},{\"stateMutability\":\"payable\",\"type\":\"receive\"}]'\n",
    "        # ,'[{\"inputs\":[{\"internalType\":\"address\",\"name\":\"_recipient\",\"type\":\"address\"}],\"stateMutability\":\"nonpayable\",\"type\":\"constructor\"},{\"anonymous\":false,\"inputs\":[{\"indexed\":false,\"internalType\":\"uint256\",\"name\":\"value\",\"type\":\"uint256\"},{\"indexed\":false,\"internalType\":\"address\",\"name\":\"to\",\"type\":\"address\"},{\"indexed\":false,\"internalType\":\"address\",\"name\":\"from\",\"type\":\"address\"}],\"name\":\"Withdrawal\",\"type\":\"event\"},{\"inputs\":[],\"name\":\"MIN_WITHDRAWAL_AMOUNT\",\"outputs\":[{\"internalType\":\"uint256\",\"name\":\"\",\"type\":\"uint256\"}],\"stateMutability\":\"view\",\"type\":\"function\"},{\"inputs\":[],\"name\":\"RECIPIENT\",\"outputs\":[{\"internalType\":\"address\",\"name\":\"\",\"type\":\"address\"}],\"stateMutability\":\"view\",\"type\":\"function\"},{\"inputs\":[],\"name\":\"totalProcessed\",\"outputs\":[{\"internalType\":\"uint256\",\"name\":\"\",\"type\":\"uint256\"}],\"stateMutability\":\"view\",\"type\":\"function\"},{\"inputs\":[],\"name\":\"version\",\"outputs\":[{\"internalType\":\"string\",\"name\":\"\",\"type\":\"string\"}],\"stateMutability\":\"view\",\"type\":\"function\"},{\"inputs\":[],\"name\":\"withdraw\",\"outputs\":[],\"stateMutability\":\"nonpayable\",\"type\":\"function\"},{\"stateMutability\":\"payable\",\"type\":\"receive\"}]'\n",
    "        ],\n",
    "]\n",
    "\n",
    "# Aiming to eventually read from superchain-resitry + some non-superchain static adds\n",
    "chains_rpcs = pd.read_csv('inputs/chain_metadata.csv').values.tolist()\n",
    "print(chains_rpcs)"
   ]
  },
  {
   "cell_type": "code",
   "execution_count": 3,
   "metadata": {},
   "outputs": [
    {
     "name": "stdout",
     "output_type": "stream",
     "text": [
      "Method ID: 0x84411d65\n"
     ]
    }
   ],
   "source": [
    "# Calculate the method signature hash (this step is optional if you already know the hash)\n",
    "method_signature = \"totalProcessed()\"\n",
    "method_id = Web3.keccak(text=method_signature)[:4].hex()\n",
    "# Verify the method ID (this step is also optional, but useful for debugging)\n",
    "print(f\"Method ID: {method_id}\")\n",
    "\n",
    "block_number = 1 # replace with your desired block number"
   ]
  },
  {
   "cell_type": "code",
   "execution_count": 4,
   "metadata": {},
   "outputs": [
    {
     "name": "stdout",
     "output_type": "stream",
     "text": [
      "op mainnet | SequencerFeeVault: 1063857200132073207047 | bal: 109110679371370698570 | total eth: 1172.967879503444\n",
      "op mainnet | BaseFeeVault: 222912724643847907088 | bal: 20392493319739182871 | total eth: 243.30521796358707\n",
      "op mainnet | L1FeeVault: 3399092561901994272487 | bal: 309173479252134319133 | total eth: 3708.2660411541287\n",
      "base | SequencerFeeVault: 1592801383437017825498 | bal: 40842029010425898935 | total eth: 1633.6434124474438\n",
      "base | BaseFeeVault: 314161722455325783336 | bal: 34414517310880726050 | total eth: 348.57623976620647\n",
      "base | L1FeeVault: 1025424229958661395932 | bal: 45243241630810914819 | total eth: 1070.6674715894724\n",
      "zora network | SequencerFeeVault: 156833819511677884835 | bal: 214022328504530145 | total eth: 157.04784184018243\n",
      "zora network | BaseFeeVault: 0 | bal: 19683483805737 | total eth: 1.9683483805737e-05\n",
      "zora network | L1FeeVault: 118743562764297720407 | bal: 8708156130976987470 | total eth: 127.45171889527471\n",
      "public goods network | SequencerFeeVault: 0 | bal: 4973242667817971339 | total eth: 4.9732426678179715\n",
      "public goods network | BaseFeeVault: 0 | bal: 175967209750 | total eth: 1.7596720975e-07\n",
      "public goods network | L1FeeVault: 0 | bal: 2831496129889678588 | total eth: 2.831496129889678\n"
     ]
    },
    {
     "ename": "HTTPError",
     "evalue": "405 Client Error: Method Not Allowed for url: https://api.aevo.xyz/",
     "output_type": "error",
     "traceback": [
      "\u001b[0;31m---------------------------------------------------------------------------\u001b[0m",
      "\u001b[0;31mHTTPError\u001b[0m                                 Traceback (most recent call last)",
      "Cell \u001b[0;32mIn[4], line 12\u001b[0m\n\u001b[1;32m     10\u001b[0m w3_conn \u001b[39m=\u001b[39m Web3(Web3\u001b[39m.\u001b[39mHTTPProvider(rpc))\n\u001b[1;32m     11\u001b[0m \u001b[39m# Get the timestamp of the latest block\u001b[39;00m\n\u001b[0;32m---> 12\u001b[0m block_timestamp \u001b[39m=\u001b[39m w3_conn\u001b[39m.\u001b[39;49meth\u001b[39m.\u001b[39;49mget_block(\u001b[39m'\u001b[39;49m\u001b[39mlatest\u001b[39;49m\u001b[39m'\u001b[39;49m)\u001b[39m.\u001b[39mtimestamp\n\u001b[1;32m     13\u001b[0m block_number \u001b[39m=\u001b[39m w3_conn\u001b[39m.\u001b[39meth\u001b[39m.\u001b[39mget_block(\u001b[39m'\u001b[39m\u001b[39mlatest\u001b[39m\u001b[39m'\u001b[39m)\u001b[39m.\u001b[39mnumber\n\u001b[1;32m     14\u001b[0m \u001b[39m# Convert the UNIX timestamp to a human-readable format\u001b[39;00m\n",
      "File \u001b[0;32m~/opt/anaconda3/envs/new-env/lib/python3.10/site-packages/web3/eth/eth.py:389\u001b[0m, in \u001b[0;36mEth.get_block\u001b[0;34m(self, block_identifier, full_transactions)\u001b[0m\n\u001b[1;32m    386\u001b[0m \u001b[39mdef\u001b[39;00m \u001b[39mget_block\u001b[39m(\n\u001b[1;32m    387\u001b[0m     \u001b[39mself\u001b[39m, block_identifier: BlockIdentifier, full_transactions: \u001b[39mbool\u001b[39m \u001b[39m=\u001b[39m \u001b[39mFalse\u001b[39;00m\n\u001b[1;32m    388\u001b[0m ) \u001b[39m-\u001b[39m\u001b[39m>\u001b[39m BlockData:\n\u001b[0;32m--> 389\u001b[0m     \u001b[39mreturn\u001b[39;00m \u001b[39mself\u001b[39;49m\u001b[39m.\u001b[39;49m_get_block(block_identifier, full_transactions)\n",
      "File \u001b[0;32m~/opt/anaconda3/envs/new-env/lib/python3.10/site-packages/web3/module.py:68\u001b[0m, in \u001b[0;36mretrieve_blocking_method_call_fn.<locals>.caller\u001b[0;34m(*args, **kwargs)\u001b[0m\n\u001b[1;32m     62\u001b[0m     \u001b[39mreturn\u001b[39;00m LogFilter(eth_module\u001b[39m=\u001b[39mmodule, filter_id\u001b[39m=\u001b[39merr\u001b[39m.\u001b[39mfilter_id)\n\u001b[1;32m     63\u001b[0m (\n\u001b[1;32m     64\u001b[0m     result_formatters,\n\u001b[1;32m     65\u001b[0m     error_formatters,\n\u001b[1;32m     66\u001b[0m     null_result_formatters,\n\u001b[1;32m     67\u001b[0m ) \u001b[39m=\u001b[39m response_formatters\n\u001b[0;32m---> 68\u001b[0m result \u001b[39m=\u001b[39m w3\u001b[39m.\u001b[39;49mmanager\u001b[39m.\u001b[39;49mrequest_blocking(\n\u001b[1;32m     69\u001b[0m     method_str, params, error_formatters, null_result_formatters\n\u001b[1;32m     70\u001b[0m )\n\u001b[1;32m     71\u001b[0m \u001b[39mreturn\u001b[39;00m apply_result_formatters(result_formatters, result)\n",
      "File \u001b[0;32m~/opt/anaconda3/envs/new-env/lib/python3.10/site-packages/web3/manager.py:231\u001b[0m, in \u001b[0;36mRequestManager.request_blocking\u001b[0;34m(self, method, params, error_formatters, null_result_formatters)\u001b[0m\n\u001b[1;32m    221\u001b[0m \u001b[39mdef\u001b[39;00m \u001b[39mrequest_blocking\u001b[39m(\n\u001b[1;32m    222\u001b[0m     \u001b[39mself\u001b[39m,\n\u001b[1;32m    223\u001b[0m     method: Union[RPCEndpoint, Callable[\u001b[39m.\u001b[39m\u001b[39m.\u001b[39m\u001b[39m.\u001b[39m, RPCEndpoint]],\n\u001b[0;32m   (...)\u001b[0m\n\u001b[1;32m    226\u001b[0m     null_result_formatters: Optional[Callable[\u001b[39m.\u001b[39m\u001b[39m.\u001b[39m\u001b[39m.\u001b[39m, Any]] \u001b[39m=\u001b[39m \u001b[39mNone\u001b[39;00m,\n\u001b[1;32m    227\u001b[0m ) \u001b[39m-\u001b[39m\u001b[39m>\u001b[39m Any:\n\u001b[1;32m    228\u001b[0m \u001b[39m    \u001b[39m\u001b[39m\"\"\"\u001b[39;00m\n\u001b[1;32m    229\u001b[0m \u001b[39m    Make a synchronous request using the provider\u001b[39;00m\n\u001b[1;32m    230\u001b[0m \u001b[39m    \"\"\"\u001b[39;00m\n\u001b[0;32m--> 231\u001b[0m     response \u001b[39m=\u001b[39m \u001b[39mself\u001b[39;49m\u001b[39m.\u001b[39;49m_make_request(method, params)\n\u001b[1;32m    232\u001b[0m     \u001b[39mreturn\u001b[39;00m \u001b[39mself\u001b[39m\u001b[39m.\u001b[39mformatted_response(\n\u001b[1;32m    233\u001b[0m         response, params, error_formatters, null_result_formatters\n\u001b[1;32m    234\u001b[0m     )\n",
      "File \u001b[0;32m~/opt/anaconda3/envs/new-env/lib/python3.10/site-packages/web3/manager.py:175\u001b[0m, in \u001b[0;36mRequestManager._make_request\u001b[0;34m(self, method, params)\u001b[0m\n\u001b[1;32m    171\u001b[0m request_func \u001b[39m=\u001b[39m provider\u001b[39m.\u001b[39mrequest_func(\n\u001b[1;32m    172\u001b[0m     cast(\u001b[39m\"\u001b[39m\u001b[39mWeb3\u001b[39m\u001b[39m\"\u001b[39m, \u001b[39mself\u001b[39m\u001b[39m.\u001b[39mw3), cast(MiddlewareOnion, \u001b[39mself\u001b[39m\u001b[39m.\u001b[39mmiddleware_onion)\n\u001b[1;32m    173\u001b[0m )\n\u001b[1;32m    174\u001b[0m \u001b[39mself\u001b[39m\u001b[39m.\u001b[39mlogger\u001b[39m.\u001b[39mdebug(\u001b[39mf\u001b[39m\u001b[39m\"\u001b[39m\u001b[39mMaking request. Method: \u001b[39m\u001b[39m{\u001b[39;00mmethod\u001b[39m}\u001b[39;00m\u001b[39m\"\u001b[39m)\n\u001b[0;32m--> 175\u001b[0m \u001b[39mreturn\u001b[39;00m request_func(method, params)\n",
      "File \u001b[0;32m~/opt/anaconda3/envs/new-env/lib/python3.10/site-packages/web3/middleware/formatting.py:99\u001b[0m, in \u001b[0;36mconstruct_web3_formatting_middleware.<locals>.formatter_middleware.<locals>.middleware\u001b[0;34m(method, params)\u001b[0m\n\u001b[1;32m     97\u001b[0m     formatter \u001b[39m=\u001b[39m request_formatters[method]\n\u001b[1;32m     98\u001b[0m     params \u001b[39m=\u001b[39m formatter(params)\n\u001b[0;32m---> 99\u001b[0m response \u001b[39m=\u001b[39m make_request(method, params)\n\u001b[1;32m    101\u001b[0m \u001b[39mreturn\u001b[39;00m _apply_response_formatters(\n\u001b[1;32m    102\u001b[0m     method\u001b[39m=\u001b[39mmethod, response\u001b[39m=\u001b[39mresponse, \u001b[39m*\u001b[39m\u001b[39m*\u001b[39mformatters\n\u001b[1;32m    103\u001b[0m )\n",
      "File \u001b[0;32m~/opt/anaconda3/envs/new-env/lib/python3.10/site-packages/web3/middleware/gas_price_strategy.py:96\u001b[0m, in \u001b[0;36mgas_price_strategy_middleware.<locals>.middleware\u001b[0;34m(method, params)\u001b[0m\n\u001b[1;32m     92\u001b[0m     transaction \u001b[39m=\u001b[39m validate_transaction_params(\n\u001b[1;32m     93\u001b[0m         transaction, latest_block, generated_gas_price\n\u001b[1;32m     94\u001b[0m     )\n\u001b[1;32m     95\u001b[0m     \u001b[39mreturn\u001b[39;00m make_request(method, (transaction,))\n\u001b[0;32m---> 96\u001b[0m \u001b[39mreturn\u001b[39;00m make_request(method, params)\n",
      "File \u001b[0;32m~/opt/anaconda3/envs/new-env/lib/python3.10/site-packages/web3/middleware/formatting.py:99\u001b[0m, in \u001b[0;36mconstruct_web3_formatting_middleware.<locals>.formatter_middleware.<locals>.middleware\u001b[0;34m(method, params)\u001b[0m\n\u001b[1;32m     97\u001b[0m     formatter \u001b[39m=\u001b[39m request_formatters[method]\n\u001b[1;32m     98\u001b[0m     params \u001b[39m=\u001b[39m formatter(params)\n\u001b[0;32m---> 99\u001b[0m response \u001b[39m=\u001b[39m make_request(method, params)\n\u001b[1;32m    101\u001b[0m \u001b[39mreturn\u001b[39;00m _apply_response_formatters(\n\u001b[1;32m    102\u001b[0m     method\u001b[39m=\u001b[39mmethod, response\u001b[39m=\u001b[39mresponse, \u001b[39m*\u001b[39m\u001b[39m*\u001b[39mformatters\n\u001b[1;32m    103\u001b[0m )\n",
      "File \u001b[0;32m~/opt/anaconda3/envs/new-env/lib/python3.10/site-packages/web3/middleware/attrdict.py:38\u001b[0m, in \u001b[0;36mattrdict_middleware.<locals>.middleware\u001b[0;34m(method, params)\u001b[0m\n\u001b[1;32m     37\u001b[0m \u001b[39mdef\u001b[39;00m \u001b[39mmiddleware\u001b[39m(method: RPCEndpoint, params: Any) \u001b[39m-\u001b[39m\u001b[39m>\u001b[39m RPCResponse:\n\u001b[0;32m---> 38\u001b[0m     response \u001b[39m=\u001b[39m make_request(method, params)\n\u001b[1;32m     40\u001b[0m     \u001b[39mif\u001b[39;00m \u001b[39m\"\u001b[39m\u001b[39mresult\u001b[39m\u001b[39m\"\u001b[39m \u001b[39min\u001b[39;00m response:\n\u001b[1;32m     41\u001b[0m         \u001b[39mreturn\u001b[39;00m assoc(\n\u001b[1;32m     42\u001b[0m             response, \u001b[39m\"\u001b[39m\u001b[39mresult\u001b[39m\u001b[39m\"\u001b[39m, AttributeDict\u001b[39m.\u001b[39mrecursive(response[\u001b[39m\"\u001b[39m\u001b[39mresult\u001b[39m\u001b[39m\"\u001b[39m])\n\u001b[1;32m     43\u001b[0m         )\n",
      "File \u001b[0;32m~/opt/anaconda3/envs/new-env/lib/python3.10/site-packages/web3/middleware/formatting.py:99\u001b[0m, in \u001b[0;36mconstruct_web3_formatting_middleware.<locals>.formatter_middleware.<locals>.middleware\u001b[0;34m(method, params)\u001b[0m\n\u001b[1;32m     97\u001b[0m     formatter \u001b[39m=\u001b[39m request_formatters[method]\n\u001b[1;32m     98\u001b[0m     params \u001b[39m=\u001b[39m formatter(params)\n\u001b[0;32m---> 99\u001b[0m response \u001b[39m=\u001b[39m make_request(method, params)\n\u001b[1;32m    101\u001b[0m \u001b[39mreturn\u001b[39;00m _apply_response_formatters(\n\u001b[1;32m    102\u001b[0m     method\u001b[39m=\u001b[39mmethod, response\u001b[39m=\u001b[39mresponse, \u001b[39m*\u001b[39m\u001b[39m*\u001b[39mformatters\n\u001b[1;32m    103\u001b[0m )\n",
      "File \u001b[0;32m~/opt/anaconda3/envs/new-env/lib/python3.10/site-packages/web3/middleware/formatting.py:99\u001b[0m, in \u001b[0;36mconstruct_web3_formatting_middleware.<locals>.formatter_middleware.<locals>.middleware\u001b[0;34m(method, params)\u001b[0m\n\u001b[1;32m     97\u001b[0m     formatter \u001b[39m=\u001b[39m request_formatters[method]\n\u001b[1;32m     98\u001b[0m     params \u001b[39m=\u001b[39m formatter(params)\n\u001b[0;32m---> 99\u001b[0m response \u001b[39m=\u001b[39m make_request(method, params)\n\u001b[1;32m    101\u001b[0m \u001b[39mreturn\u001b[39;00m _apply_response_formatters(\n\u001b[1;32m    102\u001b[0m     method\u001b[39m=\u001b[39mmethod, response\u001b[39m=\u001b[39mresponse, \u001b[39m*\u001b[39m\u001b[39m*\u001b[39mformatters\n\u001b[1;32m    103\u001b[0m )\n",
      "File \u001b[0;32m~/opt/anaconda3/envs/new-env/lib/python3.10/site-packages/web3/middleware/formatting.py:99\u001b[0m, in \u001b[0;36mconstruct_web3_formatting_middleware.<locals>.formatter_middleware.<locals>.middleware\u001b[0;34m(method, params)\u001b[0m\n\u001b[1;32m     97\u001b[0m     formatter \u001b[39m=\u001b[39m request_formatters[method]\n\u001b[1;32m     98\u001b[0m     params \u001b[39m=\u001b[39m formatter(params)\n\u001b[0;32m---> 99\u001b[0m response \u001b[39m=\u001b[39m make_request(method, params)\n\u001b[1;32m    101\u001b[0m \u001b[39mreturn\u001b[39;00m _apply_response_formatters(\n\u001b[1;32m    102\u001b[0m     method\u001b[39m=\u001b[39mmethod, response\u001b[39m=\u001b[39mresponse, \u001b[39m*\u001b[39m\u001b[39m*\u001b[39mformatters\n\u001b[1;32m    103\u001b[0m )\n",
      "File \u001b[0;32m~/opt/anaconda3/envs/new-env/lib/python3.10/site-packages/web3/middleware/buffered_gas_estimate.py:43\u001b[0m, in \u001b[0;36mbuffered_gas_estimate_middleware.<locals>.middleware\u001b[0;34m(method, params)\u001b[0m\n\u001b[1;32m     37\u001b[0m         transaction \u001b[39m=\u001b[39m assoc(\n\u001b[1;32m     38\u001b[0m             transaction,\n\u001b[1;32m     39\u001b[0m             \u001b[39m\"\u001b[39m\u001b[39mgas\u001b[39m\u001b[39m\"\u001b[39m,\n\u001b[1;32m     40\u001b[0m             \u001b[39mhex\u001b[39m(get_buffered_gas_estimate(w3, transaction)),\n\u001b[1;32m     41\u001b[0m         )\n\u001b[1;32m     42\u001b[0m         \u001b[39mreturn\u001b[39;00m make_request(method, [transaction])\n\u001b[0;32m---> 43\u001b[0m \u001b[39mreturn\u001b[39;00m make_request(method, params)\n",
      "File \u001b[0;32m~/opt/anaconda3/envs/new-env/lib/python3.10/site-packages/web3/middleware/exception_retry_request.py:107\u001b[0m, in \u001b[0;36mexception_retry_middleware.<locals>.middleware\u001b[0;34m(method, params)\u001b[0m\n\u001b[1;32m    105\u001b[0m \u001b[39mfor\u001b[39;00m i \u001b[39min\u001b[39;00m \u001b[39mrange\u001b[39m(retries):\n\u001b[1;32m    106\u001b[0m     \u001b[39mtry\u001b[39;00m:\n\u001b[0;32m--> 107\u001b[0m         \u001b[39mreturn\u001b[39;00m make_request(method, params)\n\u001b[1;32m    108\u001b[0m     \u001b[39m# https://github.com/python/mypy/issues/5349\u001b[39;00m\n\u001b[1;32m    109\u001b[0m     \u001b[39mexcept\u001b[39;00m errors:  \u001b[39m# type: ignore\u001b[39;00m\n",
      "File \u001b[0;32m~/opt/anaconda3/envs/new-env/lib/python3.10/site-packages/web3/providers/rpc.py:90\u001b[0m, in \u001b[0;36mHTTPProvider.make_request\u001b[0;34m(self, method, params)\u001b[0m\n\u001b[1;32m     86\u001b[0m \u001b[39mself\u001b[39m\u001b[39m.\u001b[39mlogger\u001b[39m.\u001b[39mdebug(\n\u001b[1;32m     87\u001b[0m     \u001b[39mf\u001b[39m\u001b[39m\"\u001b[39m\u001b[39mMaking request HTTP. URI: \u001b[39m\u001b[39m{\u001b[39;00m\u001b[39mself\u001b[39m\u001b[39m.\u001b[39mendpoint_uri\u001b[39m}\u001b[39;00m\u001b[39m, Method: \u001b[39m\u001b[39m{\u001b[39;00mmethod\u001b[39m}\u001b[39;00m\u001b[39m\"\u001b[39m\n\u001b[1;32m     88\u001b[0m )\n\u001b[1;32m     89\u001b[0m request_data \u001b[39m=\u001b[39m \u001b[39mself\u001b[39m\u001b[39m.\u001b[39mencode_rpc_request(method, params)\n\u001b[0;32m---> 90\u001b[0m raw_response \u001b[39m=\u001b[39m make_post_request(\n\u001b[1;32m     91\u001b[0m     \u001b[39mself\u001b[39;49m\u001b[39m.\u001b[39;49mendpoint_uri, request_data, \u001b[39m*\u001b[39;49m\u001b[39m*\u001b[39;49m\u001b[39mself\u001b[39;49m\u001b[39m.\u001b[39;49mget_request_kwargs()\n\u001b[1;32m     92\u001b[0m )\n\u001b[1;32m     93\u001b[0m response \u001b[39m=\u001b[39m \u001b[39mself\u001b[39m\u001b[39m.\u001b[39mdecode_rpc_response(raw_response)\n\u001b[1;32m     94\u001b[0m \u001b[39mself\u001b[39m\u001b[39m.\u001b[39mlogger\u001b[39m.\u001b[39mdebug(\n\u001b[1;32m     95\u001b[0m     \u001b[39mf\u001b[39m\u001b[39m\"\u001b[39m\u001b[39mGetting response HTTP. URI: \u001b[39m\u001b[39m{\u001b[39;00m\u001b[39mself\u001b[39m\u001b[39m.\u001b[39mendpoint_uri\u001b[39m}\u001b[39;00m\u001b[39m, \u001b[39m\u001b[39m\"\u001b[39m\n\u001b[1;32m     96\u001b[0m     \u001b[39mf\u001b[39m\u001b[39m\"\u001b[39m\u001b[39mMethod: \u001b[39m\u001b[39m{\u001b[39;00mmethod\u001b[39m}\u001b[39;00m\u001b[39m, Response: \u001b[39m\u001b[39m{\u001b[39;00mresponse\u001b[39m}\u001b[39;00m\u001b[39m\"\u001b[39m\n\u001b[1;32m     97\u001b[0m )\n",
      "File \u001b[0;32m~/opt/anaconda3/envs/new-env/lib/python3.10/site-packages/web3/_utils/request.py:115\u001b[0m, in \u001b[0;36mmake_post_request\u001b[0;34m(endpoint_uri, data, *args, **kwargs)\u001b[0m\n\u001b[1;32m    111\u001b[0m \u001b[39mdef\u001b[39;00m \u001b[39mmake_post_request\u001b[39m(\n\u001b[1;32m    112\u001b[0m     endpoint_uri: URI, data: Union[\u001b[39mbytes\u001b[39m, Dict[\u001b[39mstr\u001b[39m, Any]], \u001b[39m*\u001b[39margs: Any, \u001b[39m*\u001b[39m\u001b[39m*\u001b[39mkwargs: Any\n\u001b[1;32m    113\u001b[0m ) \u001b[39m-\u001b[39m\u001b[39m>\u001b[39m \u001b[39mbytes\u001b[39m:\n\u001b[1;32m    114\u001b[0m     response \u001b[39m=\u001b[39m get_response_from_post_request(endpoint_uri, data\u001b[39m=\u001b[39mdata, \u001b[39m*\u001b[39margs, \u001b[39m*\u001b[39m\u001b[39m*\u001b[39mkwargs)\n\u001b[0;32m--> 115\u001b[0m     response\u001b[39m.\u001b[39;49mraise_for_status()\n\u001b[1;32m    116\u001b[0m     \u001b[39mreturn\u001b[39;00m response\u001b[39m.\u001b[39mcontent\n",
      "File \u001b[0;32m~/opt/anaconda3/envs/new-env/lib/python3.10/site-packages/requests/models.py:1021\u001b[0m, in \u001b[0;36mResponse.raise_for_status\u001b[0;34m(self)\u001b[0m\n\u001b[1;32m   1016\u001b[0m     http_error_msg \u001b[39m=\u001b[39m (\n\u001b[1;32m   1017\u001b[0m         \u001b[39mf\u001b[39m\u001b[39m\"\u001b[39m\u001b[39m{\u001b[39;00m\u001b[39mself\u001b[39m\u001b[39m.\u001b[39mstatus_code\u001b[39m}\u001b[39;00m\u001b[39m Server Error: \u001b[39m\u001b[39m{\u001b[39;00mreason\u001b[39m}\u001b[39;00m\u001b[39m for url: \u001b[39m\u001b[39m{\u001b[39;00m\u001b[39mself\u001b[39m\u001b[39m.\u001b[39murl\u001b[39m}\u001b[39;00m\u001b[39m\"\u001b[39m\n\u001b[1;32m   1018\u001b[0m     )\n\u001b[1;32m   1020\u001b[0m \u001b[39mif\u001b[39;00m http_error_msg:\n\u001b[0;32m-> 1021\u001b[0m     \u001b[39mraise\u001b[39;00m HTTPError(http_error_msg, response\u001b[39m=\u001b[39m\u001b[39mself\u001b[39m)\n",
      "\u001b[0;31mHTTPError\u001b[0m: 405 Client Error: Method Not Allowed for url: https://api.aevo.xyz/"
     ]
    }
   ],
   "source": [
    "data_arr = []\n",
    "\n",
    "for chain in chains_rpcs:\n",
    "    chain_name = chain[0]\n",
    "    rpc = chain[1]\n",
    "    gas_token = chain[2]\n",
    "    da_layer = chain[3]\n",
    "    is_superchain_registry = chain[4]\n",
    "\n",
    "    try:\n",
    "        w3_conn = Web3(Web3.HTTPProvider(rpc))\n",
    "        # Get the timestamp of the latest block\n",
    "        block_timestamp = w3_conn.eth.get_block('latest').timestamp\n",
    "        block_number = w3_conn.eth.get_block('latest').number\n",
    "        # Convert the UNIX timestamp to a human-readable format\n",
    "        block_time = datetime.utcfromtimestamp(block_timestamp).strftime('%Y-%m-%d %H:%M:%S')\n",
    "\n",
    "        for vault in fee_vaults:\n",
    "            vault_name = vault[0]\n",
    "            vault_address = vault[1]\n",
    "            # vault_abi = json.loads(vault[2])\n",
    "            # implementation_abi = json.loads(vault[3])\n",
    "            # Call the function directly using eth_call\n",
    "            response = w3_conn.eth.call({\n",
    "                'to': vault_address,\n",
    "                'data': method_id\n",
    "            })\n",
    "            wei_balance = w3_conn.eth.get_balance(vault_address)\n",
    "            # Decode the result (assuming the function returns a uint256)\n",
    "            proxy_processed_wei = Web3.to_int(hexstr=response.hex())\n",
    "            \n",
    "            alltime_revenue_wei = proxy_processed_wei+wei_balance\n",
    "            alltime_revenue_eth = alltime_revenue_wei/1e18\n",
    "\n",
    "            print(chain_name + ' | ' + vault_name + ': ' \\\n",
    "                + str(proxy_processed_wei) + ' | bal: ' + str(wei_balance)\\\n",
    "                + ' | total eth: ' + str( (alltime_revenue_eth) )\n",
    "                )\n",
    "            \n",
    "            tmp = pd.DataFrame(\n",
    "                    [[block_time, block_number, chain_name, vault_name, vault_address, alltime_revenue_eth, gas_token, da_layer, is_superchain_registry]]\n",
    "                    ,columns =['block_time','block_number','chain_name','vault_name','vault_address','alltime_revenue_eth','gas_token','da_layer','is_superchain_registry']\n",
    "                    )\n",
    "            data_arr.append(tmp)\n",
    "            time.sleep(1)\n",
    "    except:\n",
    "        continue\n",
    "\n",
    "data_df = pd.concat(data_arr)"
   ]
  },
  {
   "cell_type": "code",
   "execution_count": null,
   "metadata": {},
   "outputs": [],
   "source": [
    "display(data_df)\n",
    "\n",
    "# Assuming data_df is your dataframe\n",
    "file_path = 'outputs/all_time_revenue_data.csv'\n",
    "\n",
    "# Check if the file exists\n",
    "if os.path.exists(file_path):\n",
    "    # If file exists, append without writing the header\n",
    "    data_df.to_csv(file_path, mode='a', header=False, index=False)\n",
    "else:\n",
    "    # If file doesn't exist, create it and write the header\n",
    "    data_df.to_csv(file_path, mode='w', header=True, index=False)"
   ]
  }
 ],
 "metadata": {
  "kernelspec": {
   "display_name": "new-env",
   "language": "python",
   "name": "python3"
  },
  "language_info": {
   "codemirror_mode": {
    "name": "ipython",
    "version": 3
   },
   "file_extension": ".py",
   "mimetype": "text/x-python",
   "name": "python",
   "nbconvert_exporter": "python",
   "pygments_lexer": "ipython3",
   "version": "3.10.11"
  },
  "orig_nbformat": 4
 },
 "nbformat": 4,
 "nbformat_minor": 2
}
