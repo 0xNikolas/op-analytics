{
 "cells": [
  {
   "cell_type": "code",
   "execution_count": 1,
   "metadata": {},
   "outputs": [],
   "source": [
    "import pandas as pd\n",
    "\n",
    "import sys\n",
    "sys.path.append(\"../helper_functions\")\n",
    "import duneapi_utils as d\n",
    "import airtable_utils as a\n",
    "import pandas_utils as p\n",
    "sys.path.pop()\n",
    "\n",
    "import dotenv\n",
    "import os\n",
    "dotenv.load_dotenv()\n",
    "\n",
    "at_base_id = os.environ[\"AIRTABLE_DEVREL_BASE_ID\"]\n",
    "\n",
    "columns = ['Name','Status','Alignment','Dune Database Name','Initial Chain Deployer','Block Explorer','Announcement Date', 'Mainnet Launch Date','Shutdown Date'\n",
    "           ,'L1 Standard Bridge Contract', 'L1 NFT Bridge Contract', 'BatchInbox \"to address\"', 'BatchInbox \"from address\"'\n",
    "           ,'L2 Output Oracle Proxy','L2 Output Oracle Underlying Contract','L2 Output Oracle \"from address\"'\n",
    "           ,'Data Availability Layer']"
   ]
  },
  {
   "cell_type": "code",
   "execution_count": 2,
   "metadata": {},
   "outputs": [
    {
     "ename": "KeyError",
     "evalue": "\"['L2 Output Oracle'] not in index\"",
     "output_type": "error",
     "traceback": [
      "\u001b[0;31m---------------------------------------------------------------------------\u001b[0m",
      "\u001b[0;31mKeyError\u001b[0m                                  Traceback (most recent call last)",
      "\u001b[1;32m/Users/michaelsilberling/Documents/GitHub/op-analytics/op_chains_tracking/read_op_chain_metadata_airtable.ipynb Cell 2\u001b[0m line \u001b[0;36m1\n\u001b[1;32m     <a href='vscode-notebook-cell:/Users/michaelsilberling/Documents/GitHub/op-analytics/op_chains_tracking/read_op_chain_metadata_airtable.ipynb#W1sZmlsZQ%3D%3D?line=9'>10</a>\u001b[0m filtered_df \u001b[39m=\u001b[39m df[\n\u001b[1;32m     <a href='vscode-notebook-cell:/Users/michaelsilberling/Documents/GitHub/op-analytics/op_chains_tracking/read_op_chain_metadata_airtable.ipynb#W1sZmlsZQ%3D%3D?line=10'>11</a>\u001b[0m         (df[\u001b[39m'\u001b[39m\u001b[39mBatchInbox \u001b[39m\u001b[39m\"\u001b[39m\u001b[39mto address\u001b[39m\u001b[39m\"\u001b[39m\u001b[39m'\u001b[39m]\u001b[39m.\u001b[39mnotnull()) \u001b[39m&\u001b[39m (df[\u001b[39m'\u001b[39m\u001b[39mBatchInbox \u001b[39m\u001b[39m\"\u001b[39m\u001b[39mto address\u001b[39m\u001b[39m\"\u001b[39m\u001b[39m'\u001b[39m]\u001b[39m.\u001b[39mstr\u001b[39m.\u001b[39mstartswith(\u001b[39m'\u001b[39m\u001b[39m0x\u001b[39m\u001b[39m'\u001b[39m))\n\u001b[1;32m     <a href='vscode-notebook-cell:/Users/michaelsilberling/Documents/GitHub/op-analytics/op_chains_tracking/read_op_chain_metadata_airtable.ipynb#W1sZmlsZQ%3D%3D?line=11'>12</a>\u001b[0m         \u001b[39m&\u001b[39m (df[\u001b[39m'\u001b[39m\u001b[39mStatus\u001b[39m\u001b[39m'\u001b[39m]\u001b[39m.\u001b[39mnotnull()) \n\u001b[1;32m     <a href='vscode-notebook-cell:/Users/michaelsilberling/Documents/GitHub/op-analytics/op_chains_tracking/read_op_chain_metadata_airtable.ipynb#W1sZmlsZQ%3D%3D?line=12'>13</a>\u001b[0m         \u001b[39m&\u001b[39m ( (df[\u001b[39m'\u001b[39m\u001b[39mStatus\u001b[39m\u001b[39m'\u001b[39m]\u001b[39m.\u001b[39mastype(\u001b[39mstr\u001b[39m)\u001b[39m.\u001b[39mstr\u001b[39m.\u001b[39mcontains(\u001b[39m'\u001b[39m\u001b[39mLaunched\u001b[39m\u001b[39m'\u001b[39m)) \u001b[39m|\u001b[39m (df[\u001b[39m'\u001b[39m\u001b[39mStatus\u001b[39m\u001b[39m'\u001b[39m]\u001b[39m.\u001b[39mastype(\u001b[39mstr\u001b[39m)\u001b[39m.\u001b[39mstr\u001b[39m.\u001b[39mcontains(\u001b[39m'\u001b[39m\u001b[39mShut Down\u001b[39m\u001b[39m'\u001b[39m)) )\n\u001b[1;32m     <a href='vscode-notebook-cell:/Users/michaelsilberling/Documents/GitHub/op-analytics/op_chains_tracking/read_op_chain_metadata_airtable.ipynb#W1sZmlsZQ%3D%3D?line=13'>14</a>\u001b[0m         ]\n\u001b[1;32m     <a href='vscode-notebook-cell:/Users/michaelsilberling/Documents/GitHub/op-analytics/op_chains_tracking/read_op_chain_metadata_airtable.ipynb#W1sZmlsZQ%3D%3D?line=14'>15</a>\u001b[0m \u001b[39m# filtered_df.reset_index(inplace=True, drop=True)\u001b[39;00m\n\u001b[0;32m---> <a href='vscode-notebook-cell:/Users/michaelsilberling/Documents/GitHub/op-analytics/op_chains_tracking/read_op_chain_metadata_airtable.ipynb#W1sZmlsZQ%3D%3D?line=15'>16</a>\u001b[0m filtered_df \u001b[39m=\u001b[39m filtered_df[columns]\n",
      "File \u001b[0;32m~/opt/anaconda3/envs/new-env/lib/python3.10/site-packages/pandas/core/frame.py:3813\u001b[0m, in \u001b[0;36mDataFrame.__getitem__\u001b[0;34m(self, key)\u001b[0m\n\u001b[1;32m   3811\u001b[0m     \u001b[39mif\u001b[39;00m is_iterator(key):\n\u001b[1;32m   3812\u001b[0m         key \u001b[39m=\u001b[39m \u001b[39mlist\u001b[39m(key)\n\u001b[0;32m-> 3813\u001b[0m     indexer \u001b[39m=\u001b[39m \u001b[39mself\u001b[39;49m\u001b[39m.\u001b[39;49mcolumns\u001b[39m.\u001b[39;49m_get_indexer_strict(key, \u001b[39m\"\u001b[39;49m\u001b[39mcolumns\u001b[39;49m\u001b[39m\"\u001b[39;49m)[\u001b[39m1\u001b[39m]\n\u001b[1;32m   3815\u001b[0m \u001b[39m# take() does not accept boolean indexers\u001b[39;00m\n\u001b[1;32m   3816\u001b[0m \u001b[39mif\u001b[39;00m \u001b[39mgetattr\u001b[39m(indexer, \u001b[39m\"\u001b[39m\u001b[39mdtype\u001b[39m\u001b[39m\"\u001b[39m, \u001b[39mNone\u001b[39;00m) \u001b[39m==\u001b[39m \u001b[39mbool\u001b[39m:\n",
      "File \u001b[0;32m~/opt/anaconda3/envs/new-env/lib/python3.10/site-packages/pandas/core/indexes/base.py:6070\u001b[0m, in \u001b[0;36mIndex._get_indexer_strict\u001b[0;34m(self, key, axis_name)\u001b[0m\n\u001b[1;32m   6067\u001b[0m \u001b[39melse\u001b[39;00m:\n\u001b[1;32m   6068\u001b[0m     keyarr, indexer, new_indexer \u001b[39m=\u001b[39m \u001b[39mself\u001b[39m\u001b[39m.\u001b[39m_reindex_non_unique(keyarr)\n\u001b[0;32m-> 6070\u001b[0m \u001b[39mself\u001b[39;49m\u001b[39m.\u001b[39;49m_raise_if_missing(keyarr, indexer, axis_name)\n\u001b[1;32m   6072\u001b[0m keyarr \u001b[39m=\u001b[39m \u001b[39mself\u001b[39m\u001b[39m.\u001b[39mtake(indexer)\n\u001b[1;32m   6073\u001b[0m \u001b[39mif\u001b[39;00m \u001b[39misinstance\u001b[39m(key, Index):\n\u001b[1;32m   6074\u001b[0m     \u001b[39m# GH 42790 - Preserve name from an Index\u001b[39;00m\n",
      "File \u001b[0;32m~/opt/anaconda3/envs/new-env/lib/python3.10/site-packages/pandas/core/indexes/base.py:6133\u001b[0m, in \u001b[0;36mIndex._raise_if_missing\u001b[0;34m(self, key, indexer, axis_name)\u001b[0m\n\u001b[1;32m   6130\u001b[0m     \u001b[39mraise\u001b[39;00m \u001b[39mKeyError\u001b[39;00m(\u001b[39mf\u001b[39m\u001b[39m\"\u001b[39m\u001b[39mNone of [\u001b[39m\u001b[39m{\u001b[39;00mkey\u001b[39m}\u001b[39;00m\u001b[39m] are in the [\u001b[39m\u001b[39m{\u001b[39;00maxis_name\u001b[39m}\u001b[39;00m\u001b[39m]\u001b[39m\u001b[39m\"\u001b[39m)\n\u001b[1;32m   6132\u001b[0m not_found \u001b[39m=\u001b[39m \u001b[39mlist\u001b[39m(ensure_index(key)[missing_mask\u001b[39m.\u001b[39mnonzero()[\u001b[39m0\u001b[39m]]\u001b[39m.\u001b[39munique())\n\u001b[0;32m-> 6133\u001b[0m \u001b[39mraise\u001b[39;00m \u001b[39mKeyError\u001b[39;00m(\u001b[39mf\u001b[39m\u001b[39m\"\u001b[39m\u001b[39m{\u001b[39;00mnot_found\u001b[39m}\u001b[39;00m\u001b[39m not in index\u001b[39m\u001b[39m\"\u001b[39m)\n",
      "\u001b[0;31mKeyError\u001b[0m: \"['L2 Output Oracle'] not in index\""
     ]
    }
   ],
   "source": [
    "# at = airtable.Airtable(at_base, at_api)\n",
    "# data = at.get('OP Products')\n",
    "# df = pd.json_normalize(data, record_path='records')\n",
    "# # Rename all columns that start with 'fields.'\n",
    "# df.rename(columns=lambda x: x.replace('fields.', ''), inplace=True)\n",
    "df = a.get_dataframe_from_airtable_database(at_base_id,'OP Products')\n",
    "\n",
    "# display(df[columns])\n",
    "# Filter the DataFrame\n",
    "filtered_df = df[\n",
    "        (df['BatchInbox \"to address\"'].notnull()) & (df['BatchInbox \"to address\"'].str.startswith('0x'))\n",
    "        & (df['Status'].notnull()) \n",
    "        & ( (df['Status'].astype(str).str.contains('Launched')) | (df['Status'].astype(str).str.contains('Shut Down')) )\n",
    "        ]\n",
    "# filtered_df.reset_index(inplace=True, drop=True)\n",
    "filtered_df = filtered_df[columns]"
   ]
  },
  {
   "cell_type": "code",
   "execution_count": null,
   "metadata": {},
   "outputs": [],
   "source": [
    "\n",
    "# Format timeseries columns\n",
    "# filtered_df = p.format_datetime_columns(filtered_df, format='%Y-%m-%dT%H:%M:%S.%fZ')\n",
    "#Format bracket cols\n",
    "# bracket_cols = ['Status','Alignment','Data Availability Layer']\n",
    "# for b in bracket_cols:\n",
    "#         df[b] = df[b].str.replace('[', '').str.replace(']', '')\n",
    "\n",
    "display(filtered_df)\n",
    "\n",
    "print(type(filtered_df['Status']))"
   ]
  },
  {
   "cell_type": "code",
   "execution_count": null,
   "metadata": {},
   "outputs": [],
   "source": [
    "filtered_df.to_csv('outputs/op_stack_chain_metadata.csv')\n",
    "\n",
    "# Post to Dune API\n",
    "d.write_dune_api_from_pandas(filtered_df, 'op_stack_chain_metadata',\\\n",
    "                             'Metadata about OP Stack Chains (i.e. bridge contracts, submitter contracts, name)')"
   ]
  }
 ],
 "metadata": {
  "kernelspec": {
   "display_name": "new-env",
   "language": "python",
   "name": "python3"
  },
  "language_info": {
   "codemirror_mode": {
    "name": "ipython",
    "version": 3
   },
   "file_extension": ".py",
   "mimetype": "text/x-python",
   "name": "python",
   "nbconvert_exporter": "python",
   "pygments_lexer": "ipython3",
   "version": "3.10.11"
  },
  "orig_nbformat": 4
 },
 "nbformat": 4,
 "nbformat_minor": 2
}
