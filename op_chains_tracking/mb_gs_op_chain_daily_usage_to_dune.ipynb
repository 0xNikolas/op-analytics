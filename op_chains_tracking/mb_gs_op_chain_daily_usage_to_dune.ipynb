{
 "cells": [
  {
   "cell_type": "code",
   "execution_count": 1,
   "metadata": {},
   "outputs": [],
   "source": [
    "import requests as r\n",
    "import pandas as pd\n",
    "\n",
    "import sys\n",
    "sys.path.append(\"../helper_functions\")\n",
    "import duneapi_utils as d\n",
    "import metabaseapi_utils as mb\n",
    "sys.path.pop()\n",
    "\n",
    "import os\n",
    "import dotenv\n",
    "\n",
    "dotenv.load_dotenv()\n",
    "mb_name = os.environ[\"MS_METABASE_NAME\"]\n",
    "mb_pw = os.environ[\"MS_METABASE_PW\"]\n",
    "\n",
    "mb_url_base = \"https://dash.goldsky.com\"\n",
    "\n",
    "# https://goldsky.notion.site/SHARED-Lightweight-API-Documentation-for-Goldsky-Dashboarding-5cde15ba222844f485c31a4426f6ed53"
   ]
  },
  {
   "cell_type": "code",
   "execution_count": 2,
   "metadata": {},
   "outputs": [],
   "source": [
    "# Map Chain Names\n",
    "chain_mappings = {\n",
    "    'zora': 'Zora',\n",
    "    'pgn': 'Public Goods Network',\n",
    "    # Add more mappings as needed\n",
    "}"
   ]
  },
  {
   "cell_type": "code",
   "execution_count": 3,
   "metadata": {},
   "outputs": [
    {
     "name": "stdout",
     "output_type": "stream",
     "text": [
      "<Response [401]>\n",
      "An error occurred: 401 Client Error: Unauthorized for url: https://dash.goldsky.com/api/card/42/query/json\n",
      "Maximum number of retries (1) reached due to exception. Giving up.\n",
      "creating new session\n"
     ]
    }
   ],
   "source": [
    "session_id = mb.get_session_id(mb_url_base, mb_name, mb_pw)\n",
    "\n",
    "# try: #do you already have a session\n",
    "#         session_id = os.environ[\"MS_METABASE_SESSION_ID\"]\n",
    "# except: #if not, make one\n",
    "#         print('creating new session')\n",
    "#         session_id = mb.get_mb_session_key(mb_url_base,mb_name,mb_pw)\n"
   ]
  },
  {
   "cell_type": "code",
   "execution_count": 1,
   "metadata": {},
   "outputs": [
    {
     "ename": "NameError",
     "evalue": "name 'os' is not defined",
     "output_type": "error",
     "traceback": [
      "\u001b[0;31m---------------------------------------------------------------------------\u001b[0m",
      "\u001b[0;31mNameError\u001b[0m                                 Traceback (most recent call last)",
      "\u001b[1;32m/Users/michaelsilberling/Documents/GitHub/op-analytics/op_chains_tracking/mb_gs_op_chain_daily_usage_to_dune.ipynb Cell 4\u001b[0m line \u001b[0;36m2\n\u001b[1;32m      <a href='vscode-notebook-cell:/Users/michaelsilberling/Documents/GitHub/op-analytics/op_chains_tracking/mb_gs_op_chain_daily_usage_to_dune.ipynb#W3sZmlsZQ%3D%3D?line=0'>1</a>\u001b[0m \u001b[39m# print(session_id)\u001b[39;00m\n\u001b[0;32m----> <a href='vscode-notebook-cell:/Users/michaelsilberling/Documents/GitHub/op-analytics/op_chains_tracking/mb_gs_op_chain_daily_usage_to_dune.ipynb#W3sZmlsZQ%3D%3D?line=1'>2</a>\u001b[0m \u001b[39mif\u001b[39;00m (os\u001b[39m.\u001b[39menviron[\u001b[39m\"\u001b[39m\u001b[39mIS_RUNNING_LOCAL\u001b[39m\u001b[39m\"\u001b[39m]):\n\u001b[1;32m      <a href='vscode-notebook-cell:/Users/michaelsilberling/Documents/GitHub/op-analytics/op_chains_tracking/mb_gs_op_chain_daily_usage_to_dune.ipynb#W3sZmlsZQ%3D%3D?line=2'>3</a>\u001b[0m         \u001b[39mprint\u001b[39m(session_id)\n",
      "\u001b[0;31mNameError\u001b[0m: name 'os' is not defined"
     ]
    }
   ],
   "source": [
    "# print(session_id)\n",
    "if (os.environ[\"IS_RUNNING_LOCAL\"]):\n",
    "        print(session_id)"
   ]
  },
  {
   "cell_type": "code",
   "execution_count": 5,
   "metadata": {},
   "outputs": [
    {
     "name": "stdout",
     "output_type": "stream",
     "text": [
      "21\n",
      "<Response [200]>\n",
      "[{\"num_raw_txs\": 78872, \"num_blocks\": 43200, \"l2_num_txs_per_day\": 35017, \"l2_gas_used\": 9410861821, \"l1_gas_paid\": 84642569.58422089, \"l2_gas_fees_priority_fee\": 1.956766179243754, \"dt\": \"2023-11-09\", \"base_fee_gwei\": 5.0000265465978486e-08, \"l2_eth\n",
      "{'num_raw_txs': 78872, 'num_blocks': 43200, 'l2_num_txs_per_day': 35017, 'l2_gas_used': 9410861821, 'l1_gas_paid': 84642569.58422089, 'l2_gas_fees_priority_fee': 1.956766179243754, 'dt': '2023-11-09', 'base_fee_gwei': 5.0000265465978486e-08, 'l2_eth_fees_per_day': 5.684810068558113, 'avg_l1_gas_price_on_l2': 44.0445454367355, 'num_users_per_day': 20126, 'l2_gas_used_user_txs_per_day': 7227713287, 'num_user_txs_per_second': 0.40528935185185183, 'active_secs_per_day': 86400, 'l2_num_attr_deposit_txs_per_day': 43200, 'l1_gas_used_user_txs_l2_per_day': 123746444, 'l2_gas_used_per_block': 217844.02363425927, 'chain_type': 'mainnet', 'l2_num_user_deposit_txs_per_day': 1, 'l1_gas_paid_user_txs': 84642569.58422089, 'calldata_gas_user_txs_l2_per_day': 52816640, 'avg_l2_gas_price': 0.2707310835516067, 'calldata_bytes_user_txs_l2_per_day': 7026761, 'is_initial_day': 0, 'l1_contrib_l2_eth_fees_per_day': 3.728043418768421, 'calldata_bytes_l2_per_day': 18259181, 'l2_gas_used_per_second': 108922.01181712963, 'equivalent_l1_tx_fee': 331915750606.73456, 'l2_contrib_l2_eth_fees_per_day': 1.956766649789826, 'calldata_gas_l2_per_day': 135941324, 'l1_gas_used_on_l2': 123746444, 'l2_gas_fees_base_fee': 4.70545315792e-07, 'l2_eth_fees_per_second': 6.57964128305337e-05, 'l2_eth_fees_per_block': 0.0001315928256610674, 'chain': 'zora', 'l2_num_txs_per_day_per_block': 0.8105787037037037}\n"
     ]
    }
   ],
   "source": [
    "# Run Query\n",
    "\n",
    "#21-op-chains-activity-by-day\n",
    "query_num = 21\n",
    "print(query_num)\n",
    "resp = mb.get_mb_query_response(mb_url_base, session_id, query_num, num_retries = 3)\n",
    "# print(resp)"
   ]
  },
  {
   "cell_type": "code",
   "execution_count": 6,
   "metadata": {},
   "outputs": [
    {
     "name": "stdout",
     "output_type": "stream",
     "text": [
      "Index(['num_raw_txs', 'num_blocks', 'l2_num_txs_per_day', 'l2_gas_used',\n",
      "       'l1_gas_paid', 'l2_gas_fees_priority_fee', 'dt', 'base_fee_gwei',\n",
      "       'l2_eth_fees_per_day', 'avg_l1_gas_price_on_l2', 'num_users_per_day',\n",
      "       'l2_gas_used_user_txs_per_day', 'num_user_txs_per_second',\n",
      "       'active_secs_per_day', 'l2_num_attr_deposit_txs_per_day',\n",
      "       'l1_gas_used_user_txs_l2_per_day', 'l2_gas_used_per_block',\n",
      "       'chain_type', 'l2_num_user_deposit_txs_per_day', 'l1_gas_paid_user_txs',\n",
      "       'calldata_gas_user_txs_l2_per_day', 'avg_l2_gas_price',\n",
      "       'calldata_bytes_user_txs_l2_per_day', 'is_initial_day',\n",
      "       'l1_contrib_l2_eth_fees_per_day', 'calldata_bytes_l2_per_day',\n",
      "       'l2_gas_used_per_second', 'equivalent_l1_tx_fee',\n",
      "       'l2_contrib_l2_eth_fees_per_day', 'calldata_gas_l2_per_day',\n",
      "       'l1_gas_used_on_l2', 'l2_gas_fees_base_fee', 'l2_eth_fees_per_second',\n",
      "       'l2_eth_fees_per_block', 'chain', 'l2_num_txs_per_day_per_block'],\n",
      "      dtype='object')\n",
      "   num_raw_txs  num_blocks  l2_num_txs_per_day  l2_gas_used   l1_gas_paid  \\\n",
      "0        78872       43200               35017   9410861821  8.464257e+07   \n",
      "1        44445       43200                1213   2528088197  5.342423e+06   \n",
      "2        80254       43200               36357   7336214498  9.364550e+07   \n",
      "3        44359       43200                1077   2379440446  4.698216e+06   \n",
      "4        78793       43200               34903   6685862318  9.476660e+07   \n",
      "\n",
      "   l2_gas_fees_priority_fee          dt  base_fee_gwei  l2_eth_fees_per_day  \\\n",
      "0                  1.956766  2023-11-09   5.000027e-08             5.684810   \n",
      "1                  0.146590  2023-11-09   5.000000e-08             0.348426   \n",
      "2                  1.664749  2023-11-08   5.000029e-08             4.453730   \n",
      "3                  0.143788  2023-11-08   5.000000e-08             0.283531   \n",
      "4                  1.667386  2023-11-07   5.000119e-08             4.213871   \n",
      "\n",
      "  avg_l1_gas_price_on_l2  ...  l2_gas_used_per_second  equivalent_l1_tx_fee  \\\n",
      "0              44.044545  ...           108922.011817          3.319158e+11   \n",
      "1              37.779967  ...            29260.280058          1.286975e+10   \n",
      "2              29.782321  ...            84909.890023          1.633398e+11   \n",
      "3              29.743857  ...            27539.819977          6.110576e+09   \n",
      "4              26.871117  ...            77382.665718          1.210484e+11   \n",
      "\n",
      "   l2_contrib_l2_eth_fees_per_day  calldata_gas_l2_per_day  l1_gas_used_on_l2  \\\n",
      "0                        1.956767                135941324          123746444   \n",
      "1                        0.146590                 88624584            7810560   \n",
      "2                        1.664749                146842248          136908628   \n",
      "3                        0.143788                 88095784            6868736   \n",
      "4                        1.667387                151728164          138547652   \n",
      "\n",
      "   l2_gas_fees_base_fee  l2_eth_fees_per_second l2_eth_fees_per_block  \\\n",
      "0          4.705453e-07                0.000066              0.000132   \n",
      "1          1.264045e-07                0.000004              0.000008   \n",
      "2          3.668127e-07                0.000052              0.000103   \n",
      "3          1.189722e-07                0.000003              0.000007   \n",
      "4          3.343002e-07                0.000049              0.000098   \n",
      "\n",
      "                  chain  l2_num_txs_per_day_per_block  \n",
      "0                  Zora                      0.810579  \n",
      "1  Public Goods Network                      0.028079  \n",
      "2                  Zora                      0.841597  \n",
      "3  Public Goods Network                      0.024931  \n",
      "4                  Zora                      0.807940  \n",
      "\n",
      "[5 rows x 36 columns]\n"
     ]
    }
   ],
   "source": [
    "data_df = pd.DataFrame(resp)\n",
    "\n",
    "data_df['chain'] = data_df['chain'].replace(chain_mappings)\n",
    "# data_df['dt'] = pd.to_datetime(data_df['dt'])\n",
    "\n",
    "print(data_df.columns)\n",
    "# print(data_df.dtypes)\n",
    "\n",
    "data_df = data_df.sort_values(by='dt',ascending=False)\n",
    "\n",
    "print(data_df.head(5))"
   ]
  },
  {
   "cell_type": "code",
   "execution_count": 7,
   "metadata": {},
   "outputs": [
    {
     "name": "stdout",
     "output_type": "stream",
     "text": [
      "table at: dune.oplabspbc.dataset_opchain_activity_by_day_gs\n",
      "Response status code: 200\n",
      "Response content: b'{\"success\":true,\"table_name\":\"opchain_activity_by_day_gs\"}'\n"
     ]
    }
   ],
   "source": [
    "# Post to Dune API\n",
    "d.write_dune_api_from_pandas(data_df, 'opchain_activity_by_day_gs',\\\n",
    "                             'Basic Daily Activity for OP Chains - Zora & PGN (from Goldsky)')"
   ]
  }
 ],
 "metadata": {
  "kernelspec": {
   "display_name": "new-env",
   "language": "python",
   "name": "python3"
  },
  "language_info": {
   "codemirror_mode": {
    "name": "ipython",
    "version": 3
   },
   "file_extension": ".py",
   "mimetype": "text/x-python",
   "name": "python",
   "nbconvert_exporter": "python",
   "pygments_lexer": "ipython3",
   "version": "3.10.11"
  },
  "orig_nbformat": 4
 },
 "nbformat": 4,
 "nbformat_minor": 2
}
