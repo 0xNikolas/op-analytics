{
 "cells": [
  {
   "cell_type": "code",
   "execution_count": 1,
   "metadata": {},
   "outputs": [],
   "source": [
    "import requests as r\n",
    "import pandas as pd\n",
    "\n",
    "import sys\n",
    "sys.path.append(\"../helper_functions\")\n",
    "import duneapi_utils as d\n",
    "import metabaseapi_utils as mb\n",
    "sys.path.pop()\n",
    "\n",
    "import os\n",
    "import dotenv\n",
    "\n",
    "dotenv.load_dotenv()\n",
    "mb_name = os.environ[\"MS_METABASE_NAME\"]\n",
    "mb_pw = os.environ[\"MS_METABASE_PW\"]\n",
    "\n",
    "mb_url_base = \"https://dash.goldsky.com\"\n",
    "\n",
    "# https://goldsky.notion.site/SHARED-Lightweight-API-Documentation-for-Goldsky-Dashboarding-5cde15ba222844f485c31a4426f6ed53"
   ]
  },
  {
   "cell_type": "code",
   "execution_count": 2,
   "metadata": {},
   "outputs": [],
   "source": [
    "# Map Chain Names\n",
    "chain_mappings = {\n",
    "    'zora': 'Zora Network',\n",
    "    'pgn': 'Public Goods Network',\n",
    "    # Add more mappings as needed\n",
    "}"
   ]
  },
  {
   "cell_type": "code",
   "execution_count": 3,
   "metadata": {},
   "outputs": [],
   "source": [
    "try: #do you already have a session\n",
    "        session_id = os.environ[\"MS_METABASE_SESSION_ID\"]\n",
    "except: #if not, make one\n",
    "        print('creating new session')\n",
    "        session_id = mb.get_mb_session_key(mb_url_base,mb_name,mb_pw)\n",
    "# print(session_id)\n",
    "\n"
   ]
  },
  {
   "cell_type": "code",
   "execution_count": 4,
   "metadata": {},
   "outputs": [
    {
     "name": "stdout",
     "output_type": "stream",
     "text": [
      "<Response [200]>\n",
      "{'num_raw_txs': 43300, 'num_blocks': 43200, 'l2_num_txs_per_day': 87, 'l2_gas_used': 2191147491, 'l1_gas_paid': 390755.528717041, 'l2_gas_fees_priority_fee': 0.021507299522421194, 'dt': '2023-09-18', 'base_fee_gwei': 5.000000000000002e-08, 'l2_eth_fees_per_day': 0.02716266805999349, 'avg_l1_gas_price_on_l2': 14.472627233049314, 'num_users_per_day': 68, 'num_user_txs_per_second': 0.0010069444444444444, 'active_secs_per_day': 86400, 'l2_num_attr_deposit_txs_per_day': 43200, 'l1_gas_used_user_txs_l2_per_day': 571280, 'l2_gas_used_per_block': 50721.006736111114, 'chain_type': 'mainnet', 'l2_num_user_deposit_txs_per_day': 13, 'l1_gas_paid_user_txs': 390755.528717041, 'avg_l2_gas_price': 1.3373270867335396, 'calldata_bytes_user_txs_l2_per_day': 39826, 'l1_contrib_l2_eth_fees_per_day': 0.005655258980216305, 'calldata_bytes_l2_per_day': 11277350, 'l2_gas_used_per_second': 25360.503368055557, 'equivalent_l1_tx_fee': 237584235.23456168, 'l2_contrib_l2_eth_fees_per_day': 0.021507409079777197, 'calldata_gas_l2_per_day': 83564024, 'l1_gas_used_on_l2': 571280, 'l2_gas_fees_base_fee': 1.0955737455e-07, 'l2_eth_fees_per_second': 3.143827321758506e-07, 'l2_eth_fees_per_block': 6.287654643517012e-07, 'chain': 'pgn', 'l2_num_txs_per_day_per_block': 0.002013888888888889}\n"
     ]
    }
   ],
   "source": [
    "# Run Query\n",
    "\n",
    "#21-op-chains-activity-by-day\n",
    "resp = mb.get_mb_query_response(mb_url_base, session_id, 21, num_retries = 3)\n",
    "# print(resp)"
   ]
  },
  {
   "cell_type": "code",
   "execution_count": 5,
   "metadata": {},
   "outputs": [
    {
     "name": "stdout",
     "output_type": "stream",
     "text": [
      "Index(['num_raw_txs', 'num_blocks', 'l2_num_txs_per_day', 'l2_gas_used',\n",
      "       'l1_gas_paid', 'l2_gas_fees_priority_fee', 'dt', 'base_fee_gwei',\n",
      "       'l2_eth_fees_per_day', 'avg_l1_gas_price_on_l2', 'num_users_per_day',\n",
      "       'num_user_txs_per_second', 'active_secs_per_day',\n",
      "       'l2_num_attr_deposit_txs_per_day', 'l1_gas_used_user_txs_l2_per_day',\n",
      "       'l2_gas_used_per_block', 'chain_type',\n",
      "       'l2_num_user_deposit_txs_per_day', 'l1_gas_paid_user_txs',\n",
      "       'avg_l2_gas_price', 'calldata_bytes_user_txs_l2_per_day',\n",
      "       'l1_contrib_l2_eth_fees_per_day', 'calldata_bytes_l2_per_day',\n",
      "       'l2_gas_used_per_second', 'equivalent_l1_tx_fee',\n",
      "       'l2_contrib_l2_eth_fees_per_day', 'calldata_gas_l2_per_day',\n",
      "       'l1_gas_used_on_l2', 'l2_gas_fees_base_fee', 'l2_eth_fees_per_second',\n",
      "       'l2_eth_fees_per_block', 'chain', 'l2_num_txs_per_day_per_block'],\n",
      "      dtype='object')\n",
      "    num_raw_txs  num_blocks  l2_num_txs_per_day  l2_gas_used   l1_gas_paid  \\\n",
      "71        43338       43200                  86   2195317373  4.765319e+05   \n",
      "44        46794       43200                2177   2668268841  1.583979e+07   \n",
      "95        43728       43200                 337   2233956299  1.139246e+06   \n",
      "11       129537       43200               84452  13023021811  1.811381e+08   \n",
      "90        43774       43200                 314   2246443997  1.321970e+06   \n",
      "\n",
      "    l2_gas_fees_priority_fee          dt  base_fee_gwei  l2_eth_fees_per_day  \\\n",
      "71                  0.018446  2023-08-14   5.000000e-08             0.030136   \n",
      "44                  0.460188  2023-08-27   5.000000e-08             0.660241   \n",
      "95                  0.107106  2023-08-02   5.000000e-08             0.131359   \n",
      "11                  2.619963  2023-09-13   5.000884e-08             5.887781   \n",
      "90                  0.067624  2023-08-04   5.000000e-08             0.088276   \n",
      "\n",
      "   avg_l1_gas_price_on_l2  ...  l2_gas_used_per_second  equivalent_l1_tx_fee  \\\n",
      "71              24.531312  ...            25408.765891          3.416169e+08   \n",
      "44              12.629766  ...            30882.741215          4.187566e+09   \n",
      "95              21.288179  ...            25855.975683          8.439595e+08   \n",
      "11              18.040471  ...           150729.419109          2.015487e+11   \n",
      "90              15.622133  ...            26000.509225          6.996203e+08   \n",
      "\n",
      "    l2_contrib_l2_eth_fees_per_day  calldata_gas_l2_per_day  \\\n",
      "71                        0.018446                 83793860   \n",
      "44                        0.460188                105639116   \n",
      "95                        0.107107                 84627424   \n",
      "11                        2.619963                179921924   \n",
      "90                        0.067624                 85147136   \n",
      "\n",
      "    l1_gas_used_on_l2  l2_gas_fees_base_fee l2_eth_fees_per_second  \\\n",
      "71             696684          1.097659e-07           3.487942e-07   \n",
      "44           23157588          1.334134e-07           7.641677e-06   \n",
      "95            1665564          1.116978e-07           1.520359e-06   \n",
      "11          264821832          6.512622e-07           6.814561e-05   \n",
      "90            1932704          1.123222e-07           1.021716e-06   \n",
      "\n",
      "    l2_eth_fees_per_block                 chain  l2_num_txs_per_day_per_block  \n",
      "71           6.975883e-07  Public Goods Network                      0.001991  \n",
      "44           1.528335e-05  Public Goods Network                      0.050394  \n",
      "95           3.040718e-06  Public Goods Network                      0.007801  \n",
      "11           1.362912e-04          Zora Network                      1.954907  \n",
      "90           2.043432e-06  Public Goods Network                      0.007269  \n",
      "\n",
      "[5 rows x 33 columns]\n"
     ]
    }
   ],
   "source": [
    "data_df = pd.DataFrame(resp)\n",
    "\n",
    "data_df['chain'] = data_df['chain'].replace(chain_mappings)\n",
    "\n",
    "print(data_df.columns)\n",
    "# print(data_df.dtypes)\n",
    "\n",
    "print(data_df.sample(5))"
   ]
  },
  {
   "cell_type": "code",
   "execution_count": 6,
   "metadata": {},
   "outputs": [
    {
     "name": "stdout",
     "output_type": "stream",
     "text": [
      "table at: dune_upload.opchain_activity_by_day_gs\n",
      "Response status code: 200\n",
      "Response content: b'{\"success\":true}'\n"
     ]
    }
   ],
   "source": [
    "# Post to Dune API\n",
    "d.write_dune_api_from_pandas(data_df, 'opchain_activity_by_day_gs',\\\n",
    "                             'Basic Daily Activity for OP Chains - Zora & PGN (from Goldsky)')"
   ]
  }
 ],
 "metadata": {
  "kernelspec": {
   "display_name": "new-env",
   "language": "python",
   "name": "python3"
  },
  "language_info": {
   "codemirror_mode": {
    "name": "ipython",
    "version": 3
   },
   "file_extension": ".py",
   "mimetype": "text/x-python",
   "name": "python",
   "nbconvert_exporter": "python",
   "pygments_lexer": "ipython3",
   "version": "3.10.11"
  },
  "orig_nbformat": 4
 },
 "nbformat": 4,
 "nbformat_minor": 2
}
