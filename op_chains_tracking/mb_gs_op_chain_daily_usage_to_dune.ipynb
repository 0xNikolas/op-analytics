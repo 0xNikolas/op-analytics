{
 "cells": [
  {
   "cell_type": "code",
   "execution_count": 1,
   "metadata": {},
   "outputs": [],
   "source": [
    "import requests as r\n",
    "import pandas as pd\n",
    "\n",
    "import sys\n",
    "sys.path.append(\"../helper_functions\")\n",
    "import duneapi_utils as d\n",
    "import metabaseapi_utils as mb\n",
    "sys.path.pop()\n",
    "\n",
    "import os\n",
    "import dotenv\n",
    "\n",
    "dotenv.load_dotenv()\n",
    "mb_name = os.environ[\"MS_METABASE_NAME\"]\n",
    "mb_pw = os.environ[\"MS_METABASE_PW\"]\n",
    "\n",
    "mb_url_base = \"https://dash.goldsky.com\"\n",
    "\n",
    "# https://goldsky.notion.site/SHARED-Lightweight-API-Documentation-for-Goldsky-Dashboarding-5cde15ba222844f485c31a4426f6ed53"
   ]
  },
  {
   "cell_type": "code",
   "execution_count": 2,
   "metadata": {},
   "outputs": [],
   "source": [
    "# Map Chain Names\n",
    "chain_mappings = {\n",
    "    'zora': 'Zora Network',\n",
    "    'pgn': 'Public Goods Network',\n",
    "    # Add more mappings as needed\n",
    "}"
   ]
  },
  {
   "cell_type": "code",
   "execution_count": 3,
   "metadata": {},
   "outputs": [
    {
     "name": "stdout",
     "output_type": "stream",
     "text": [
      "<Response [401]>\n",
      "An error occurred: 401 Client Error: Unauthorized for url: https://dash.goldsky.com/api/card/42/query/json\n",
      "Maximum number of retries (1) reached due to exception. Giving up.\n",
      "creating new session\n"
     ]
    }
   ],
   "source": [
    "session_id = mb.get_session_id(mb_url_base, mb_name, mb_pw)\n",
    "\n",
    "# try: #do you already have a session\n",
    "#         session_id = os.environ[\"MS_METABASE_SESSION_ID\"]\n",
    "# except: #if not, make one\n",
    "#         print('creating new session')\n",
    "#         session_id = mb.get_mb_session_key(mb_url_base,mb_name,mb_pw)\n"
   ]
  },
  {
   "cell_type": "code",
   "execution_count": 4,
   "metadata": {},
   "outputs": [],
   "source": [
    "if (os.environ[\"IS_RUNNING_LOCAL\"]):\n",
    "        print(session_id)"
   ]
  },
  {
   "cell_type": "code",
   "execution_count": 5,
   "metadata": {},
   "outputs": [
    {
     "name": "stdout",
     "output_type": "stream",
     "text": [
      "21\n",
      "<Response [200]>\n",
      "[{\"num_raw_txs\": 43351, \"num_blocks\": 43200, \"l2_num_txs_per_day\": 115, \"l2_gas_used\": 2199535021, \"l1_gas_paid\": 795360.689743042, \"l2_gas_fees_priority_fee\": 0.0377089381770277, \"dt\": \"2023-10-11\", \"base_fee_gwei\": 4.9999999999999985e-08, \"l2_eth_f\n",
      "{'num_raw_txs': 43351, 'num_blocks': 43200, 'l2_num_txs_per_day': 115, 'l2_gas_used': 2199535021, 'l1_gas_paid': 795360.689743042, 'l2_gas_fees_priority_fee': 0.0377089381770277, 'dt': '2023-10-11', 'base_fee_gwei': 4.9999999999999985e-08, 'l2_eth_fees_per_day': 0.04411930272638235, 'avg_l1_gas_price_on_l2': 8.059556875655387, 'num_users_per_day': 93, 'l2_gas_used_user_txs_per_day': 22304237, 'num_user_txs_per_second': 0.0013310185185185185, 'active_secs_per_day': 86400, 'l2_num_attr_deposit_txs_per_day': 43200, 'l1_gas_used_user_txs_l2_per_day': 1162808, 'l2_gas_used_per_block': 50915.162523148145, 'chain_type': 'mainnet', 'l2_num_user_deposit_txs_per_day': 36, 'l1_gas_paid_user_txs': 795360.689743042, 'calldata_gas_user_txs_l2_per_day': 927492, 'avg_l2_gas_price': 1.690667479624562, 'calldata_bytes_user_txs_l2_per_day': 108636, 'l1_contrib_l2_eth_fees_per_day': 0.006410254572643434, 'calldata_bytes_l2_per_day': 11355756, 'l2_gas_used_per_second': 25457.581261574072, 'equivalent_l1_tx_fee': 189547819.68824768, 'l2_contrib_l2_eth_fees_per_day': 0.03770904815373888, 'calldata_gas_l2_per_day': 84152676, 'l1_gas_used_on_l2': 1162808, 'l2_gas_fees_base_fee': 1.0997675105e-07, 'l2_eth_fees_per_second': 5.106400778516475e-07, 'l2_eth_fees_per_block': 1.021280155703295e-06, 'chain': 'pgn', 'l2_num_txs_per_day_per_block': 0.002662037037037037}\n"
     ]
    }
   ],
   "source": [
    "# Run Query\n",
    "\n",
    "#21-op-chains-activity-by-day\n",
    "query_num = 21\n",
    "print(query_num)\n",
    "resp = mb.get_mb_query_response(mb_url_base, session_id, query_num, num_retries = 3)\n",
    "# print(resp)"
   ]
  },
  {
   "cell_type": "code",
   "execution_count": 6,
   "metadata": {},
   "outputs": [
    {
     "name": "stdout",
     "output_type": "stream",
     "text": [
      "Index(['num_raw_txs', 'num_blocks', 'l2_num_txs_per_day', 'l2_gas_used',\n",
      "       'l1_gas_paid', 'l2_gas_fees_priority_fee', 'dt', 'base_fee_gwei',\n",
      "       'l2_eth_fees_per_day', 'avg_l1_gas_price_on_l2', 'num_users_per_day',\n",
      "       'l2_gas_used_user_txs_per_day', 'num_user_txs_per_second',\n",
      "       'active_secs_per_day', 'l2_num_attr_deposit_txs_per_day',\n",
      "       'l1_gas_used_user_txs_l2_per_day', 'l2_gas_used_per_block',\n",
      "       'chain_type', 'l2_num_user_deposit_txs_per_day', 'l1_gas_paid_user_txs',\n",
      "       'calldata_gas_user_txs_l2_per_day', 'avg_l2_gas_price',\n",
      "       'calldata_bytes_user_txs_l2_per_day', 'l1_contrib_l2_eth_fees_per_day',\n",
      "       'calldata_bytes_l2_per_day', 'l2_gas_used_per_second',\n",
      "       'equivalent_l1_tx_fee', 'l2_contrib_l2_eth_fees_per_day',\n",
      "       'calldata_gas_l2_per_day', 'l1_gas_used_on_l2', 'l2_gas_fees_base_fee',\n",
      "       'l2_eth_fees_per_second', 'l2_eth_fees_per_block', 'chain',\n",
      "       'l2_num_txs_per_day_per_block'],\n",
      "      dtype='object')\n",
      "   num_raw_txs  num_blocks  l2_num_txs_per_day  l2_gas_used   l1_gas_paid  \\\n",
      "0        43351       43200                 115   2199535021  7.953607e+05   \n",
      "1       152467       43200              107372  16631107710  2.140326e+08   \n",
      "2       161356       43200              116255  16465845197  2.286942e+08   \n",
      "3        43345       43200                 115   2196644502  7.397706e+05   \n",
      "4        43289       43200                  80   2186213804  2.794633e+05   \n",
      "\n",
      "   l2_gas_fees_priority_fee          dt  base_fee_gwei  l2_eth_fees_per_day  \\\n",
      "0                  0.037709  2023-10-11   5.000000e-08             0.044119   \n",
      "1                  2.013028  2023-10-11   5.001141e-08             3.706467   \n",
      "2                  2.221372  2023-10-10   5.009645e-08             3.991734   \n",
      "3                  0.025345  2023-10-10   5.000000e-08             0.031130   \n",
      "4                  0.015003  2023-10-09   5.000000e-08             0.017343   \n",
      "\n",
      "  avg_l1_gas_price_on_l2  ...  l2_gas_used_per_second  equivalent_l1_tx_fee  \\\n",
      "0               8.059557  ...            25457.581262          1.895478e+08   \n",
      "1               7.912056  ...           192489.672569          1.154866e+11   \n",
      "2               7.741176  ...           190576.912002          1.122258e+11   \n",
      "3               7.820022  ...            25424.126181          1.551363e+08   \n",
      "4               8.375446  ...            25303.400509          8.608586e+07   \n",
      "\n",
      "   l2_contrib_l2_eth_fees_per_day  calldata_gas_l2_per_day  l1_gas_used_on_l2  \\\n",
      "0                        0.037709                 84152676            1162808   \n",
      "1                        2.013029                187742044          312913192   \n",
      "2                        2.221372                192397344          334348180   \n",
      "3                        0.025345                 84056052            1081536   \n",
      "4                        0.015003                 83401896             408572   \n",
      "\n",
      "   l2_gas_fees_base_fee  l2_eth_fees_per_second l2_eth_fees_per_block  \\\n",
      "0          1.099768e-07            5.106401e-07          1.021280e-06   \n",
      "1          8.317434e-07            4.289893e-05          8.579786e-05   \n",
      "2          8.248708e-07            4.620063e-05          9.240125e-05   \n",
      "3          1.098322e-07            3.603025e-07          7.206049e-07   \n",
      "4          1.093107e-07            2.007342e-07          4.014685e-07   \n",
      "\n",
      "                  chain  l2_num_txs_per_day_per_block  \n",
      "0  Public Goods Network                      0.002662  \n",
      "1          Zora Network                      2.485463  \n",
      "2          Zora Network                      2.691088  \n",
      "3  Public Goods Network                      0.002662  \n",
      "4  Public Goods Network                      0.001852  \n",
      "\n",
      "[5 rows x 35 columns]\n"
     ]
    }
   ],
   "source": [
    "data_df = pd.DataFrame(resp)\n",
    "\n",
    "data_df['chain'] = data_df['chain'].replace(chain_mappings)\n",
    "# data_df['dt'] = pd.to_datetime(data_df['dt'])\n",
    "\n",
    "print(data_df.columns)\n",
    "# print(data_df.dtypes)\n",
    "\n",
    "data_df = data_df.sort_values(by='dt',ascending=False)\n",
    "\n",
    "print(data_df.head(5))"
   ]
  },
  {
   "cell_type": "code",
   "execution_count": 7,
   "metadata": {},
   "outputs": [
    {
     "name": "stdout",
     "output_type": "stream",
     "text": [
      "table at: dune.oplabspbc.dataset_opchain_activity_by_day_gs\n",
      "Response status code: 200\n",
      "Response content: b'{\"success\":true}'\n"
     ]
    }
   ],
   "source": [
    "# Post to Dune API\n",
    "d.write_dune_api_from_pandas(data_df, 'opchain_activity_by_day_gs',\\\n",
    "                             'Basic Daily Activity for OP Chains - Zora & PGN (from Goldsky)')"
   ]
  }
 ],
 "metadata": {
  "kernelspec": {
   "display_name": "new-env",
   "language": "python",
   "name": "python3"
  },
  "language_info": {
   "codemirror_mode": {
    "name": "ipython",
    "version": 3
   },
   "file_extension": ".py",
   "mimetype": "text/x-python",
   "name": "python",
   "nbconvert_exporter": "python",
   "pygments_lexer": "ipython3",
   "version": "3.10.11"
  },
  "orig_nbformat": 4
 },
 "nbformat": 4,
 "nbformat_minor": 2
}
