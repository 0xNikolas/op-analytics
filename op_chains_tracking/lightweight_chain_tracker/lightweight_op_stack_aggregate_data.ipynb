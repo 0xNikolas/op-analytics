{
 "cells": [
  {
   "cell_type": "markdown",
   "metadata": {},
   "source": [
    "See readme.md for ideal fields and descriptions"
   ]
  },
  {
   "cell_type": "code",
   "execution_count": 1,
   "metadata": {},
   "outputs": [],
   "source": [
    "# ! pip install pandas pyarrow\n",
    "# ! pip install polars"
   ]
  },
  {
   "cell_type": "code",
   "execution_count": 2,
   "metadata": {},
   "outputs": [],
   "source": [
    "import subprocess\n",
    "import os\n",
    "from datetime import datetime, timedelta, timezone\n",
    "import time\n",
    "import pyarrow.parquet as pq\n",
    "import pandas as pd\n",
    "# test adding cryo_cli python"
   ]
  },
  {
   "cell_type": "code",
   "execution_count": 3,
   "metadata": {},
   "outputs": [],
   "source": [
    "import polars as pl"
   ]
  },
  {
   "cell_type": "code",
   "execution_count": 4,
   "metadata": {},
   "outputs": [
    {
     "name": "stdout",
     "output_type": "stream",
     "text": [
      "end: 2023-12-17\n",
      "start: 2023-12-16\n"
     ]
    }
   ],
   "source": [
    "# Init timestamps\n",
    "trailing_days = 3\n",
    "\n",
    "current_date_utc = datetime.utcnow().date()\n",
    "# Convert the current date to a Unix timestamp (remaining in UTC)\n",
    "current_timestamp_utc = datetime(current_date_utc.year, current_date_utc.month, current_date_utc.day, tzinfo=timezone.utc).timestamp()\n",
    "previous_date_utc = current_date_utc - timedelta(days=trailing_days)\n",
    "previous_timestamp_utc = datetime(previous_date_utc.year, previous_date_utc.month, previous_date_utc.day, tzinfo=timezone.utc).timestamp()\n",
    "\n",
    "print('end: ' + str(current_date_utc))\n",
    "print('start: ' + str(previous_date_utc))"
   ]
  },
  {
   "cell_type": "code",
   "execution_count": 5,
   "metadata": {},
   "outputs": [],
   "source": [
    "# Test doing Lyra\n",
    "\n",
    "fields = 'blocks txs'# traces'\n",
    "rpc_url = 'https://rpc.lyra.finance/'\n",
    "chain_name = 'lyra'\n",
    "start_timestamp = int(previous_timestamp_utc)\n",
    "end_timestamp = int(current_timestamp_utc)\n",
    "\n",
    "dry_run = 0\n",
    "requests_per_second_max = 500 # -1 means ignore"
   ]
  },
  {
   "cell_type": "code",
   "execution_count": 6,
   "metadata": {},
   "outputs": [
    {
     "name": "stdout",
     "output_type": "stream",
     "text": [
      "cryo blocks txs --rpc https://rpc.lyra.finance/ --timestamps 1702684800:1702771200 --subdirs datatype --label lyra --requests-per-second 500 \n"
     ]
    }
   ],
   "source": [
    "# Generate Command\n",
    "if dry_run == 1:\n",
    "    dry_txt = '--dry'\n",
    "else:\n",
    "    dry_txt = ''\n",
    "if requests_per_second_max > -1:\n",
    "    rps_txt = '--requests-per-second ' + str(requests_per_second_max)\n",
    "else:\n",
    "    rps_txt = ''\n",
    "\n",
    "command = f\"cryo {fields} --rpc {rpc_url} --timestamps {start_timestamp}:{end_timestamp} --subdirs datatype --label {chain_name} {rps_txt} {dry_txt}\"\n",
    "print(command)"
   ]
  },
  {
   "cell_type": "code",
   "execution_count": 7,
   "metadata": {},
   "outputs": [
    {
     "name": "stdout",
     "output_type": "stream",
     "text": [
      "Command succeeded. Output:\n",
      "\u001b[1;37mcryo parameters\u001b[0m\n",
      "\u001b[38;2;0;225;0m───────────────\u001b[0m\n",
      "\u001b[38;2;0;225;0m- \u001b[0m\u001b[1;37mversion\u001b[0m\u001b[38;2;0;225;0m: \u001b[0m\u001b[38;2;170;170;170m0.3.0-3-g041f38b\u001b[0m\n",
      "\u001b[38;2;0;225;0m- \u001b[0m\u001b[1;37mdata\u001b[0m\u001b[38;2;0;225;0m: \u001b[0m\u001b[38;2;170;170;170m\u001b[0m\n",
      "    \u001b[38;2;0;225;0m- \u001b[0m\u001b[1;37mdatatypes\u001b[0m\u001b[38;2;0;225;0m: \u001b[0m\u001b[38;2;170;170;170mblocks, transactions\u001b[0m\n",
      "    \u001b[38;2;0;225;0m- \u001b[0m\u001b[1;37mblocks\u001b[0m\u001b[38;2;0;225;0m: \u001b[0m\u001b[38;2;170;170;170mn=43,201 min=1,331,592 max=1,374,792 align=no reorg_buffer=0\u001b[0m\n",
      "\u001b[38;2;0;225;0m- \u001b[0m\u001b[1;37msource\u001b[0m\u001b[38;2;0;225;0m: \u001b[0m\u001b[38;2;170;170;170m\u001b[0m\n",
      "    \u001b[38;2;0;225;0m- \u001b[0m\u001b[1;37mnetwork\u001b[0m\u001b[38;2;0;225;0m: \u001b[0m\u001b[38;2;170;170;170mnetwork_957\u001b[0m\n",
      "    \u001b[38;2;0;225;0m- \u001b[0m\u001b[1;37mrpc url\u001b[0m\u001b[38;2;0;225;0m: \u001b[0m\u001b[38;2;170;170;170mhttps://rpc.lyra.finance/\u001b[0m\n",
      "    \u001b[38;2;0;225;0m- \u001b[0m\u001b[1;37mmax requests per second\u001b[0m\u001b[38;2;0;225;0m: \u001b[0m\u001b[38;2;170;170;170m500\u001b[0m\n",
      "    \u001b[38;2;0;225;0m- \u001b[0m\u001b[1;37mmax concurrent requests\u001b[0m\u001b[38;2;0;225;0m: \u001b[0m\u001b[38;2;170;170;170m500\u001b[0m\n",
      "    \u001b[38;2;0;225;0m- \u001b[0m\u001b[1;37mmax concurrent chunks\u001b[0m\u001b[38;2;0;225;0m: \u001b[0m\u001b[38;2;170;170;170m4\u001b[0m\n",
      "\u001b[38;2;0;225;0m- \u001b[0m\u001b[1;37moutput\u001b[0m\u001b[38;2;0;225;0m: \u001b[0m\u001b[38;2;170;170;170m\u001b[0m\n",
      "    \u001b[38;2;0;225;0m- \u001b[0m\u001b[1;37mchunk size\u001b[0m\u001b[38;2;0;225;0m: \u001b[0m\u001b[38;2;170;170;170m1,000\u001b[0m\n",
      "    \u001b[38;2;0;225;0m- \u001b[0m\u001b[1;37mchunks to collect\u001b[0m\u001b[38;2;0;225;0m: \u001b[0m\u001b[38;2;170;170;170m44 / 44\u001b[0m\n",
      "    \u001b[38;2;0;225;0m- \u001b[0m\u001b[1;37moutput format\u001b[0m\u001b[38;2;0;225;0m: \u001b[0m\u001b[38;2;170;170;170mparquet\u001b[0m\n",
      "    \u001b[38;2;0;225;0m- \u001b[0m\u001b[1;37moutput dir\u001b[0m\u001b[38;2;0;225;0m: \u001b[0m\u001b[38;2;170;170;170m/Users/michaelsilberling/Documents Local/GitHub/op-analytics/op_chains_tracking/lightweight_chain_tracker\u001b[0m\n",
      "    \u001b[38;2;0;225;0m- \u001b[0m\u001b[1;37mreport file\u001b[0m\u001b[38;2;0;225;0m: \u001b[0m\u001b[38;2;170;170;170m$OUTPUT_DIR/.cryo/reports/2023-12-17_10-58-50.996400.json\u001b[0m\n",
      "\n",
      "\n",
      "\u001b[1;37mschema for blocks\u001b[0m\n",
      "\u001b[38;2;0;225;0m─────────────────\u001b[0m\n",
      "\u001b[38;2;0;225;0m- \u001b[0m\u001b[1;37mblock_number\u001b[0m\u001b[38;2;0;225;0m: \u001b[0m\u001b[38;2;170;170;170muint32\u001b[0m\n",
      "\u001b[38;2;0;225;0m- \u001b[0m\u001b[1;37mblock_hash\u001b[0m\u001b[38;2;0;225;0m: \u001b[0m\u001b[38;2;170;170;170mbinary\u001b[0m\n",
      "\u001b[38;2;0;225;0m- \u001b[0m\u001b[1;37mtimestamp\u001b[0m\u001b[38;2;0;225;0m: \u001b[0m\u001b[38;2;170;170;170muint32\u001b[0m\n",
      "\u001b[38;2;0;225;0m- \u001b[0m\u001b[1;37mauthor\u001b[0m\u001b[38;2;0;225;0m: \u001b[0m\u001b[38;2;170;170;170mbinary\u001b[0m\n",
      "\u001b[38;2;0;225;0m- \u001b[0m\u001b[1;37mgas_used\u001b[0m\u001b[38;2;0;225;0m: \u001b[0m\u001b[38;2;170;170;170muint64\u001b[0m\n",
      "\u001b[38;2;0;225;0m- \u001b[0m\u001b[1;37mextra_data\u001b[0m\u001b[38;2;0;225;0m: \u001b[0m\u001b[38;2;170;170;170mbinary\u001b[0m\n",
      "\u001b[38;2;0;225;0m- \u001b[0m\u001b[1;37mbase_fee_per_gas\u001b[0m\u001b[38;2;0;225;0m: \u001b[0m\u001b[38;2;170;170;170muint64\u001b[0m\n",
      "\u001b[38;2;0;225;0m- \u001b[0m\u001b[1;37mchain_id\u001b[0m\u001b[38;2;0;225;0m: \u001b[0m\u001b[38;2;170;170;170muint64\u001b[0m\n",
      "\n",
      "sorting blocks by: block_number\n",
      "\n",
      "other available columns: parent_hash, state_root, transactions_root, receipts_root, logs_bloom, total_difficulty, size\n",
      "\n",
      "\n",
      "\u001b[1;37mschema for transactions\u001b[0m\n",
      "\u001b[38;2;0;225;0m───────────────────────\u001b[0m\n",
      "\u001b[38;2;0;225;0m- \u001b[0m\u001b[1;37mblock_number\u001b[0m\u001b[38;2;0;225;0m: \u001b[0m\u001b[38;2;170;170;170muint32\u001b[0m\n",
      "\u001b[38;2;0;225;0m- \u001b[0m\u001b[1;37mtransaction_index\u001b[0m\u001b[38;2;0;225;0m: \u001b[0m\u001b[38;2;170;170;170muint64\u001b[0m\n",
      "\u001b[38;2;0;225;0m- \u001b[0m\u001b[1;37mtransaction_hash\u001b[0m\u001b[38;2;0;225;0m: \u001b[0m\u001b[38;2;170;170;170mbinary\u001b[0m\n",
      "\u001b[38;2;0;225;0m- \u001b[0m\u001b[1;37mnonce\u001b[0m\u001b[38;2;0;225;0m: \u001b[0m\u001b[38;2;170;170;170muint64\u001b[0m\n",
      "\u001b[38;2;0;225;0m- \u001b[0m\u001b[1;37mfrom_address\u001b[0m\u001b[38;2;0;225;0m: \u001b[0m\u001b[38;2;170;170;170mbinary\u001b[0m\n",
      "\u001b[38;2;0;225;0m- \u001b[0m\u001b[1;37mto_address\u001b[0m\u001b[38;2;0;225;0m: \u001b[0m\u001b[38;2;170;170;170mbinary\u001b[0m\n",
      "\u001b[38;2;0;225;0m- \u001b[0m\u001b[1;37mvalue_binary\u001b[0m\u001b[38;2;0;225;0m: \u001b[0m\u001b[38;2;170;170;170mbinary\u001b[0m\n",
      "\u001b[38;2;0;225;0m- \u001b[0m\u001b[1;37mvalue_string\u001b[0m\u001b[38;2;0;225;0m: \u001b[0m\u001b[38;2;170;170;170mstring\u001b[0m\n",
      "\u001b[38;2;0;225;0m- \u001b[0m\u001b[1;37mvalue_f64\u001b[0m\u001b[38;2;0;225;0m: \u001b[0m\u001b[38;2;170;170;170mfloat64\u001b[0m\n",
      "\u001b[38;2;0;225;0m- \u001b[0m\u001b[1;37minput\u001b[0m\u001b[38;2;0;225;0m: \u001b[0m\u001b[38;2;170;170;170mbinary\u001b[0m\n",
      "\u001b[38;2;0;225;0m- \u001b[0m\u001b[1;37mgas_limit\u001b[0m\u001b[38;2;0;225;0m: \u001b[0m\u001b[38;2;170;170;170muint64\u001b[0m\n",
      "\u001b[38;2;0;225;0m- \u001b[0m\u001b[1;37mgas_used\u001b[0m\u001b[38;2;0;225;0m: \u001b[0m\u001b[38;2;170;170;170muint64\u001b[0m\n",
      "\u001b[38;2;0;225;0m- \u001b[0m\u001b[1;37mgas_price\u001b[0m\u001b[38;2;0;225;0m: \u001b[0m\u001b[38;2;170;170;170muint64\u001b[0m\n",
      "\u001b[38;2;0;225;0m- \u001b[0m\u001b[1;37mtransaction_type\u001b[0m\u001b[38;2;0;225;0m: \u001b[0m\u001b[38;2;170;170;170muint32\u001b[0m\n",
      "\u001b[38;2;0;225;0m- \u001b[0m\u001b[1;37mmax_priority_fee_per_gas\u001b[0m\u001b[38;2;0;225;0m: \u001b[0m\u001b[38;2;170;170;170muint64\u001b[0m\n",
      "\u001b[38;2;0;225;0m- \u001b[0m\u001b[1;37mmax_fee_per_gas\u001b[0m\u001b[38;2;0;225;0m: \u001b[0m\u001b[38;2;170;170;170muint64\u001b[0m\n",
      "\u001b[38;2;0;225;0m- \u001b[0m\u001b[1;37msuccess\u001b[0m\u001b[38;2;0;225;0m: \u001b[0m\u001b[38;2;170;170;170mbool\u001b[0m\n",
      "\u001b[38;2;0;225;0m- \u001b[0m\u001b[1;37mchain_id\u001b[0m\u001b[38;2;0;225;0m: \u001b[0m\u001b[38;2;170;170;170muint64\u001b[0m\n",
      "\n",
      "sorting transactions by: block_number, transaction_index\n",
      "\n",
      "other available columns: timestamp, block_hash\n",
      "\n",
      "\n",
      "\u001b[1;37mcollecting data\u001b[0m\n",
      "\u001b[38;2;0;225;0m───────────────\u001b[0m\n",
      "started at 2023-12-17 10:58:50.996\n",
      "   done at 2023-12-17 11:01:46.870\n",
      "\n",
      "\n",
      "\u001b[1;37mcollection summary\u001b[0m\n",
      "\u001b[38;2;0;225;0m──────────────────\u001b[0m\n",
      "\u001b[38;2;0;225;0m- \u001b[0m\u001b[1;37mtotal duration\u001b[0m\u001b[38;2;0;225;0m: \u001b[0m\u001b[38;2;170;170;170m175.874 seconds\u001b[0m\n",
      "\u001b[38;2;0;225;0m- \u001b[0m\u001b[1;37mtotal chunks\u001b[0m\u001b[38;2;0;225;0m: \u001b[0m\u001b[38;2;170;170;170m44\u001b[0m\n",
      "    \u001b[38;2;0;225;0m- \u001b[0m\u001b[1;37mchunks errored\u001b[0m\u001b[38;2;0;225;0m: \u001b[0m\u001b[38;2;170;170;170m   0 / 44 (0.0%)\u001b[0m\n",
      "    \u001b[38;2;0;225;0m- \u001b[0m\u001b[1;37mchunks skipped\u001b[0m\u001b[38;2;0;225;0m: \u001b[0m\u001b[38;2;170;170;170m   0 / 44 (0.0%)\u001b[0m\n",
      "    \u001b[38;2;0;225;0m- \u001b[0m\u001b[1;37mchunks collected\u001b[0m\u001b[38;2;0;225;0m: \u001b[0m\u001b[38;2;170;170;170m44 / 44 (100.0%)\u001b[0m\n",
      "\u001b[38;2;0;225;0m- \u001b[0m\u001b[1;37mblocks collected\u001b[0m\u001b[38;2;0;225;0m: \u001b[0m\u001b[38;2;170;170;170m43,201\u001b[0m\n",
      "    \u001b[38;2;0;225;0m- \u001b[0m\u001b[1;37mblocks per second\u001b[0m\u001b[38;2;0;225;0m: \u001b[0m\u001b[38;2;170;170;170m    245.6\u001b[0m\n",
      "    \u001b[38;2;0;225;0m- \u001b[0m\u001b[1;37mblocks per minute\u001b[0m\u001b[38;2;0;225;0m: \u001b[0m\u001b[38;2;170;170;170m 14,738.1\u001b[0m\n",
      "    \u001b[38;2;0;225;0m- \u001b[0m\u001b[1;37mblocks per hour\u001b[0m\u001b[38;2;0;225;0m: \u001b[0m\u001b[38;2;170;170;170m  884,286.1\u001b[0m\n",
      "    \u001b[38;2;0;225;0m- \u001b[0m\u001b[1;37mblocks per day\u001b[0m\u001b[38;2;0;225;0m: \u001b[0m\u001b[38;2;170;170;170m21,222,887.6\u001b[0m\n",
      "\n"
     ]
    }
   ],
   "source": [
    "start_time = time.time()\n",
    "# Run the command using subprocess.run and capture the output\n",
    "result = subprocess.run(\n",
    "    command, \n",
    "    shell=True, \n",
    "    stdout=subprocess.PIPE,  # Capture standard output\n",
    "    stderr=subprocess.PIPE,  # Capture standard error\n",
    "    text=True  # Capture output as text (Python 3.7+)\n",
    ")\n",
    "\n",
    "# Display the captured output\n",
    "if result.returncode == 0:\n",
    "    print(\"Command succeeded. Output:\")\n",
    "    print(result.stdout)\n",
    "else:\n",
    "    print(\"Command failed. Error output:\")\n",
    "    print(result.stderr)\n",
    "\n",
    "end_time = time.time()"
   ]
  },
  {
   "cell_type": "code",
   "execution_count": 8,
   "metadata": {},
   "outputs": [
    {
     "name": "stdout",
     "output_type": "stream",
     "text": [
      "Elapsed time: 179.9410 seconds\n"
     ]
    }
   ],
   "source": [
    "# Calculate the elapsed time\n",
    "elapsed_time = end_time - start_time\n",
    "# Print the elapsed time in seconds\n",
    "print(f\"Elapsed time: {elapsed_time:.4f} seconds\")"
   ]
  },
  {
   "cell_type": "code",
   "execution_count": 9,
   "metadata": {},
   "outputs": [],
   "source": [
    "# # Read parquet files\n",
    "txs = pl.scan_parquet('transactions__' + chain_name + '/*.parquet')\n",
    "blocks = pl.scan_parquet('blocks__' + chain_name + '/*.parquet')\n",
    "\n",
    "# Rename the 'gas_used' column to 'block_gas_used' in the 'blocks' DataFrame\n",
    "blocks = blocks.rename({\"gas_used\": \"block_gas_used\"})\n",
    "\n",
    "# Perform the join on 'block_number' and 'chain_id'\n",
    "joined_df = blocks.join(\n",
    "    txs,\n",
    "    on=[\"block_number\", \"chain_id\"],\n",
    "    how=\"inner\"  # You can specify the type of join you want (inner, outer, left, right)\n",
    ")\n",
    "\n",
    "# Convert Unix timestamp to datetime and create a new column 'timestamp_dt'\n",
    "joined_df = joined_df.with_columns(\n",
    "    pl.from_epoch(\"timestamp\", time_unit=\"s\").alias(\"timestamp_dt\")\n",
    ")\n",
    "\n",
    "# Truncate the 'timestamp_dt' column to the day and create a new column 'timestamp_date'\n",
    "joined_df = joined_df.with_columns(\n",
    "    pl.col(\"timestamp_dt\").dt.truncate(\"1d\").alias(\"timestamp_date\")\n",
    ")"
   ]
  },
  {
   "cell_type": "code",
   "execution_count": 10,
   "metadata": {},
   "outputs": [
    {
     "name": "stdout",
     "output_type": "stream",
     "text": [
      "OrderedDict([('block_hash', Binary), ('author', Binary), ('block_number', UInt32), ('block_gas_used', UInt64), ('extra_data', Binary), ('timestamp', UInt32), ('base_fee_per_gas', UInt64), ('chain_id', UInt64), ('transaction_index', UInt64), ('transaction_hash', Binary), ('nonce', UInt64), ('from_address', Binary), ('to_address', Binary), ('value_binary', Binary), ('value_string', Utf8), ('value_f64', Float64), ('input', Binary), ('gas_limit', UInt64), ('gas_used', UInt64), ('gas_price', UInt64), ('transaction_type', UInt32), ('max_priority_fee_per_gas', UInt64), ('max_fee_per_gas', UInt64), ('success', Boolean), ('timestamp_dt', Datetime(time_unit='us', time_zone=None)), ('timestamp_date', Datetime(time_unit='us', time_zone=None))])\n",
      "num blocks: 43201\n"
     ]
    }
   ],
   "source": [
    "# print(blocks.schema)\n",
    "# print(txs.schema)\n",
    "print(joined_df.schema)\n",
    "\n",
    "#test output\n",
    "joined_pd = joined_df.collect().to_pandas()\n",
    "joined_pd.tail(5)\n",
    "\n",
    "print('num blocks: ' + str(joined_pd['block_number'].nunique()))"
   ]
  },
  {
   "cell_type": "code",
   "execution_count": 16,
   "metadata": {},
   "outputs": [
    {
     "name": "stdout",
     "output_type": "stream",
     "text": [
      "Missing block numbers: set()\n",
      "The missing block numbers are consecutive.\n"
     ]
    }
   ],
   "source": [
    "# Create a reference list of consecutive block numbers\n",
    "reference_block_numbers = list(range(joined_pd['block_number'].min(), joined_pd['block_number'].max() + 1))\n",
    "\n",
    "# Find the missing block numbers\n",
    "missing_block_numbers = set(reference_block_numbers) - set(joined_pd['block_number'])\n",
    "\n",
    "print(\"Missing block numbers:\", missing_block_numbers)\n",
    "\n",
    "# Convert the missing_block_numbers set to a list and sort it\n",
    "missing_block_numbers_list = sorted(list(missing_block_numbers))\n",
    "is_consecutive = all(missing_block_numbers_list[i] == missing_block_numbers_list[i - 1] + 1 for i in range(1, len(missing_block_numbers_list)))\n",
    "\n",
    "if is_consecutive:\n",
    "    print(\"The missing block numbers are consecutive.\")\n",
    "else:\n",
    "    print(\"The missing block numbers are not consecutive.\")"
   ]
  },
  {
   "cell_type": "code",
   "execution_count": 17,
   "metadata": {},
   "outputs": [
    {
     "data": {
      "text/html": [
       "<i>naive plan: (run <b>LazyFrame.explain(optimized=True)</b> to see the optimized plan)</i>\n",
       "    <p></p>\n",
       "    <div>AGGREGATE<p></p>\t[col(\"block_number\").n_unique().alias(\"num_blocks\"), col(\"block_number\").min().alias(\"min_block_number\"), col(\"block_number\").max().alias(\"max_block_number\"), col(\"timestamp\").min().alias(\"min_block_time\"), col(\"timestamp\").max().alias(\"max_block_time\"), .when([(col(\"gas_price\")) > (0)]).then(col(\"transaction_hash\")).otherwise(null).count().alias(\"num_user_transactions\"), .when([([(col(\"gas_price\")) > (0)]) & (col(\"success\"))]).then(col(\"transaction_hash\")).otherwise(null).count().alias(\"num_success_user_transactions\"), col(\"from_address\").filter([(col(\"gas_price\")) > (0)]).n_unique().alias(\"num_senders\"), col(\"gas_used\").sum().alias(\"total_gas_used\"), col(\"gas_used\").filter([(col(\"gas_price\")) > (0)]).sum().alias(\"user_gas_used\"), [(col(\"gas_used\").sum()) / (col(\"block_number\").n_unique())].alias(\"total_gas_used_per_block\"), [(col(\"gas_used\").filter([(col(\"gas_price\")) > (0)]).sum()) / (col(\"block_number\").n_unique())].alias(\"user_gas_used_per_block\"), [([(col(\"base_fee_per_gas\")) * (col(\"gas_used\"))].sum()) / (1.0000e18)].alias(\"l2_fees_base_fees_eth\"), [(.when([(col(\"gas_price\")) > (0)]).then([([(col(\"gas_price\")) - (col(\"base_fee_per_gas\"))]) * (col(\"gas_used\"))]).otherwise(null).sum()) / (1.0000e18)].alias(\"l2_fees_priority_fees_eth\"), [([(col(\"gas_price\")) * (col(\"gas_used\"))].sum()) / (1.0000e18)].alias(\"l2_fees_total_fees_eth\")] BY [col(\"timestamp_date\"), col(\"chain_id\")] FROM<p></p>   WITH_COLUMNS:<p></p>   [col(\"timestamp_dt\").dt.truncate([Utf8(1d)]).alias(\"timestamp_date\")]<p></p>     WITH_COLUMNS:<p></p>     [[(col(\"timestamp\").strict_cast(Int64)) * (1000000)].strict_cast(Datetime(Microseconds, None)).alias(\"timestamp_dt\")]<p></p>      INNER JOIN:<p></p>      LEFT PLAN ON: [col(\"block_number\"), col(\"chain_id\")]<p></p>        RENAME<p></p><p></p>            Parquet SCAN 44 files: first file: blocks__lyra/network_957__blocks__lyra__01331592_to_01332591.parquet<p></p>            PROJECT */8 COLUMNS<p></p>      RIGHT PLAN ON: [col(\"block_number\"), col(\"chain_id\")]<p></p><p></p>          Parquet SCAN 44 files: first file: transactions__lyra/network_957__transactions__lyra__01331592_to_01332591.parquet<p></p>          PROJECT */18 COLUMNS<p></p>      END INNER JOIN</div>"
      ],
      "text/plain": [
       "<LazyFrame [17 cols, {\"timestamp_date\": Datetime(time_unit='us', time_zone=None) … \"l2_fees_total_fees_eth\": Float64}] at 0x174323820>"
      ]
     },
     "execution_count": 17,
     "metadata": {},
     "output_type": "execute_result"
    }
   ],
   "source": [
    "# Assuming you have a DataFrame named 'joined_df' with the required columns\n",
    "\n",
    "result_df = joined_df.group_by([pl.col(\"timestamp_date\"), pl.col(\"chain_id\")]).agg(\n",
    "    num_blocks=pl.col(\"block_number\").n_unique(),\n",
    "    min_block_number=pl.col(\"block_number\").min(),\n",
    "    max_block_number=pl.col(\"block_number\").max(),\n",
    "    min_block_time=pl.col(\"timestamp\").min(),\n",
    "    max_block_time=pl.col(\"timestamp\").max(),\n",
    "\n",
    "    num_user_transactions=\n",
    "        pl.when(pl.col(\"gas_price\") > 0).then(pl.col(\"transaction_hash\")).count(),\n",
    "    num_success_user_transactions=\n",
    "        pl.when((pl.col(\"gas_price\") > 0) & pl.col(\"success\")).then(pl.col(\"transaction_hash\")).count(),\n",
    "    num_senders=pl.col(\"from_address\").filter(pl.col(\"gas_price\") > 0).n_unique(),\n",
    "\n",
    "    total_gas_used=pl.col(\"gas_used\").sum(),\n",
    "    user_gas_used=pl.col(\"gas_used\").filter(pl.col(\"gas_price\") > 0).sum(),\n",
    "    total_gas_used_per_block = pl.col(\"gas_used\").sum() / pl.col(\"block_number\").n_unique(),\n",
    "    user_gas_used_per_block = pl.col(\"gas_used\").filter(pl.col(\"gas_price\") > 0).sum() / pl.col(\"block_number\").n_unique(),\n",
    "    \n",
    "    l2_fees_base_fees_eth=(pl.col(\"base_fee_per_gas\") * pl.col(\"gas_used\")).sum() / 1e18,\n",
    "    l2_fees_priority_fees_eth=pl.when(pl.col(\"gas_price\") > 0).then((pl.col(\"gas_price\") - pl.col(\"base_fee_per_gas\")) * pl.col(\"gas_used\")).sum() / 1e18,\n",
    "    l2_fees_total_fees_eth=(pl.col(\"gas_price\") * pl.col(\"gas_used\")).sum() / 1e18,\n",
    ")\n",
    "result_df"
   ]
  },
  {
   "cell_type": "code",
   "execution_count": 18,
   "metadata": {},
   "outputs": [],
   "source": [
    "#Execute and turn to pandas\n",
    "result_df = result_df.collect().to_pandas()\n"
   ]
  },
  {
   "cell_type": "code",
   "execution_count": 19,
   "metadata": {},
   "outputs": [],
   "source": [
    "# Filter\n",
    "result_df = result_df[result_df['min_block_time']>= start_timestamp] #seems like 1 block before gets pulled. yolo."
   ]
  },
  {
   "cell_type": "code",
   "execution_count": 20,
   "metadata": {},
   "outputs": [
    {
     "data": {
      "text/html": [
       "<div>\n",
       "<style scoped>\n",
       "    .dataframe tbody tr th:only-of-type {\n",
       "        vertical-align: middle;\n",
       "    }\n",
       "\n",
       "    .dataframe tbody tr th {\n",
       "        vertical-align: top;\n",
       "    }\n",
       "\n",
       "    .dataframe thead th {\n",
       "        text-align: right;\n",
       "    }\n",
       "</style>\n",
       "<table border=\"1\" class=\"dataframe\">\n",
       "  <thead>\n",
       "    <tr style=\"text-align: right;\">\n",
       "      <th></th>\n",
       "      <th>timestamp_date</th>\n",
       "      <th>chain_id</th>\n",
       "      <th>num_blocks</th>\n",
       "      <th>min_block_number</th>\n",
       "      <th>max_block_number</th>\n",
       "      <th>min_block_time</th>\n",
       "      <th>max_block_time</th>\n",
       "      <th>num_user_transactions</th>\n",
       "      <th>num_success_user_transactions</th>\n",
       "      <th>num_senders</th>\n",
       "      <th>total_gas_used</th>\n",
       "      <th>user_gas_used</th>\n",
       "      <th>total_gas_used_per_block</th>\n",
       "      <th>user_gas_used_per_block</th>\n",
       "      <th>l2_fees_base_fees_eth</th>\n",
       "      <th>l2_fees_priority_fees_eth</th>\n",
       "      <th>l2_fees_total_fees_eth</th>\n",
       "      <th>min_block_time_dt</th>\n",
       "      <th>max_block_time_dt</th>\n",
       "    </tr>\n",
       "  </thead>\n",
       "  <tbody>\n",
       "    <tr>\n",
       "      <th>1</th>\n",
       "      <td>2023-12-16</td>\n",
       "      <td>957</td>\n",
       "      <td>43200</td>\n",
       "      <td>1331593</td>\n",
       "      <td>1374792</td>\n",
       "      <td>1702684801</td>\n",
       "      <td>1702771199</td>\n",
       "      <td>124</td>\n",
       "      <td>124</td>\n",
       "      <td>12.0</td>\n",
       "      <td>2344311236</td>\n",
       "      <td>177474416</td>\n",
       "      <td>54266.463796</td>\n",
       "      <td>4108.204074</td>\n",
       "      <td>1.172156e-07</td>\n",
       "      <td>0.001446</td>\n",
       "      <td>0.001446</td>\n",
       "      <td>2023-12-16 00:00:01</td>\n",
       "      <td>2023-12-16 23:59:59</td>\n",
       "    </tr>\n",
       "  </tbody>\n",
       "</table>\n",
       "</div>"
      ],
      "text/plain": [
       "  timestamp_date  chain_id  num_blocks  min_block_number  max_block_number  \\\n",
       "1     2023-12-16       957       43200           1331593           1374792   \n",
       "\n",
       "   min_block_time  max_block_time  num_user_transactions  \\\n",
       "1      1702684801      1702771199                    124   \n",
       "\n",
       "   num_success_user_transactions  num_senders  total_gas_used  user_gas_used  \\\n",
       "1                            124         12.0      2344311236      177474416   \n",
       "\n",
       "   total_gas_used_per_block  user_gas_used_per_block  l2_fees_base_fees_eth  \\\n",
       "1              54266.463796              4108.204074           1.172156e-07   \n",
       "\n",
       "   l2_fees_priority_fees_eth  l2_fees_total_fees_eth   min_block_time_dt  \\\n",
       "1                   0.001446                0.001446 2023-12-16 00:00:01   \n",
       "\n",
       "    max_block_time_dt  \n",
       "1 2023-12-16 23:59:59  "
      ]
     },
     "metadata": {},
     "output_type": "display_data"
    }
   ],
   "source": [
    "\n",
    "result_df['min_block_time_dt'] = pd.to_datetime(result_df['min_block_time'], unit='s')\n",
    "result_df['max_block_time_dt'] = pd.to_datetime(result_df['max_block_time'], unit='s')\n",
    "display(result_df.sort_values(by='timestamp_date',ascending=False))"
   ]
  }
 ],
 "metadata": {
  "kernelspec": {
   "display_name": "py10",
   "language": "python",
   "name": "python3"
  },
  "language_info": {
   "codemirror_mode": {
    "name": "ipython",
    "version": 3
   },
   "file_extension": ".py",
   "mimetype": "text/x-python",
   "name": "python",
   "nbconvert_exporter": "python",
   "pygments_lexer": "ipython3",
   "version": "3.10.13"
  }
 },
 "nbformat": 4,
 "nbformat_minor": 2
}
