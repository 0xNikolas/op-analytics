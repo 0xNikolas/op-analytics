{
 "cells": [
  {
   "cell_type": "markdown",
   "metadata": {},
   "source": [
    "See readme.md for ideal fields and descriptions"
   ]
  },
  {
   "cell_type": "code",
   "execution_count": 1,
   "metadata": {},
   "outputs": [],
   "source": [
    "# ! pip install pandas pyarrow\n",
    "# ! pip install polars"
   ]
  },
  {
   "cell_type": "code",
   "execution_count": 2,
   "metadata": {},
   "outputs": [],
   "source": [
    "import subprocess\n",
    "import os\n",
    "from datetime import datetime, timedelta, timezone\n",
    "import time\n",
    "import pyarrow.parquet as pq\n",
    "import pandas as pd\n"
   ]
  },
  {
   "cell_type": "code",
   "execution_count": 3,
   "metadata": {},
   "outputs": [],
   "source": [
    "import polars as pl"
   ]
  },
  {
   "cell_type": "code",
   "execution_count": 4,
   "metadata": {},
   "outputs": [
    {
     "name": "stdout",
     "output_type": "stream",
     "text": [
      "end: 2023-12-17\n",
      "start: 2023-12-16\n"
     ]
    }
   ],
   "source": [
    "# Init timestamps\n",
    "trailing_days = 1\n",
    "\n",
    "current_date_utc = datetime.utcnow().date()\n",
    "# Convert the current date to a Unix timestamp (remaining in UTC)\n",
    "current_timestamp_utc = datetime(current_date_utc.year, current_date_utc.month, current_date_utc.day, tzinfo=timezone.utc).timestamp()\n",
    "previous_date_utc = current_date_utc - timedelta(days=trailing_days)\n",
    "previous_timestamp_utc = datetime(previous_date_utc.year, previous_date_utc.month, previous_date_utc.day, tzinfo=timezone.utc).timestamp()\n",
    "\n",
    "print('end: ' + str(current_date_utc))\n",
    "print('start: ' + str(previous_date_utc))"
   ]
  },
  {
   "cell_type": "code",
   "execution_count": 5,
   "metadata": {},
   "outputs": [],
   "source": [
    "# Test doing t24h for Lyra\n",
    "\n",
    "fields = 'blocks txs'# traces'\n",
    "rpc_url = 'https://rpc.lyra.finance/'\n",
    "chain_name = 'lyra'\n",
    "start_timestamp = int(previous_timestamp_utc)\n",
    "end_timestamp = int(current_timestamp_utc)\n",
    "\n",
    "dry_run = 0"
   ]
  },
  {
   "cell_type": "code",
   "execution_count": 6,
   "metadata": {},
   "outputs": [
    {
     "name": "stdout",
     "output_type": "stream",
     "text": [
      "cryo blocks txs --rpc https://rpc.lyra.finance/ --timestamps 1702684800:1702771200 --subdirs datatype --label lyra \n"
     ]
    }
   ],
   "source": [
    "# Generate Command\n",
    "if dry_run == 1:\n",
    "    dry_txt = '--dry'\n",
    "else:\n",
    "    dry_txt = ''\n",
    "\n",
    "command = f\"cryo {fields} --rpc {rpc_url} --timestamps {start_timestamp}:{end_timestamp} --subdirs datatype --label {chain_name} {dry_txt}\"\n",
    "print(command)"
   ]
  },
  {
   "cell_type": "code",
   "execution_count": 7,
   "metadata": {},
   "outputs": [],
   "source": [
    "start_time = time.time()\n",
    "# Run the command using subprocess.run and capture the output\n",
    "result = subprocess.run(\n",
    "    command, \n",
    "    shell=True, \n",
    "    stdout=subprocess.PIPE,  # Capture standard output\n",
    "    stderr=subprocess.PIPE,  # Capture standard error\n",
    "    text=True  # Capture output as text (Python 3.7+)\n",
    ")\n",
    "\n",
    "# Display the captured output\n",
    "if result.returncode == 0:\n",
    "    print(\"Command succeeded. Output:\")\n",
    "    print(result.stdout)\n",
    "# else:\n",
    "#     print(\"Command failed. Error output:\")\n",
    "#     print(result.stderr)\n",
    "\n",
    "end_time = time.time()"
   ]
  },
  {
   "cell_type": "code",
   "execution_count": 8,
   "metadata": {},
   "outputs": [
    {
     "name": "stdout",
     "output_type": "stream",
     "text": [
      "Elapsed time: 93.5411 seconds\n"
     ]
    }
   ],
   "source": [
    "# Calculate the elapsed time\n",
    "elapsed_time = end_time - start_time\n",
    "# Print the elapsed time in seconds\n",
    "print(f\"Elapsed time: {elapsed_time:.4f} seconds\")"
   ]
  },
  {
   "cell_type": "code",
   "execution_count": 9,
   "metadata": {},
   "outputs": [],
   "source": [
    "# # Read parquet files\n",
    "txs = pl.scan_parquet('transactions__' + chain_name + '/*.parquet')\n",
    "blocks = pl.scan_parquet('blocks__' + chain_name + '/*.parquet')\n",
    "\n",
    "# Rename the 'gas_used' column to 'block_gas_used' in the 'blocks' DataFrame\n",
    "blocks = blocks.rename({\"gas_used\": \"block_gas_used\"})\n",
    "\n",
    "# Perform the join on 'block_number' and 'chain_id'\n",
    "joined_df = blocks.join(\n",
    "    txs,\n",
    "    on=[\"block_number\", \"chain_id\"],\n",
    "    how=\"inner\"  # You can specify the type of join you want (inner, outer, left, right)\n",
    ")\n",
    "\n",
    "# Convert Unix timestamp to datetime and create a new column 'timestamp_dt'\n",
    "joined_df = joined_df.with_columns(\n",
    "    pl.from_epoch(\"timestamp\", time_unit=\"s\").alias(\"timestamp_dt\")\n",
    ")\n",
    "\n",
    "# Truncate the 'timestamp_dt' column to the day and create a new column 'timestamp_date'\n",
    "joined_df = joined_df.with_columns(\n",
    "    pl.col(\"timestamp_dt\").dt.truncate(\"1d\").alias(\"timestamp_date\")\n",
    ")"
   ]
  },
  {
   "cell_type": "code",
   "execution_count": 10,
   "metadata": {},
   "outputs": [
    {
     "name": "stdout",
     "output_type": "stream",
     "text": [
      "OrderedDict([('block_hash', Binary), ('author', Binary), ('block_number', UInt32), ('block_gas_used', UInt64), ('extra_data', Binary), ('timestamp', UInt32), ('base_fee_per_gas', UInt64), ('chain_id', UInt64), ('transaction_index', UInt64), ('transaction_hash', Binary), ('nonce', UInt64), ('from_address', Binary), ('to_address', Binary), ('value_binary', Binary), ('value_string', Utf8), ('value_f64', Float64), ('input', Binary), ('gas_limit', UInt64), ('gas_used', UInt64), ('gas_price', UInt64), ('transaction_type', UInt32), ('max_priority_fee_per_gas', UInt64), ('max_fee_per_gas', UInt64), ('success', Boolean), ('timestamp_dt', Datetime(time_unit='us', time_zone=None)), ('timestamp_date', Datetime(time_unit='us', time_zone=None))])\n"
     ]
    },
    {
     "data": {
      "text/html": [
       "<div>\n",
       "<style scoped>\n",
       "    .dataframe tbody tr th:only-of-type {\n",
       "        vertical-align: middle;\n",
       "    }\n",
       "\n",
       "    .dataframe tbody tr th {\n",
       "        vertical-align: top;\n",
       "    }\n",
       "\n",
       "    .dataframe thead th {\n",
       "        text-align: right;\n",
       "    }\n",
       "</style>\n",
       "<table border=\"1\" class=\"dataframe\">\n",
       "  <thead>\n",
       "    <tr style=\"text-align: right;\">\n",
       "      <th></th>\n",
       "      <th>block_hash</th>\n",
       "      <th>author</th>\n",
       "      <th>block_number</th>\n",
       "      <th>block_gas_used</th>\n",
       "      <th>extra_data</th>\n",
       "      <th>timestamp</th>\n",
       "      <th>base_fee_per_gas</th>\n",
       "      <th>chain_id</th>\n",
       "      <th>transaction_index</th>\n",
       "      <th>transaction_hash</th>\n",
       "      <th>...</th>\n",
       "      <th>input</th>\n",
       "      <th>gas_limit</th>\n",
       "      <th>gas_used</th>\n",
       "      <th>gas_price</th>\n",
       "      <th>transaction_type</th>\n",
       "      <th>max_priority_fee_per_gas</th>\n",
       "      <th>max_fee_per_gas</th>\n",
       "      <th>success</th>\n",
       "      <th>timestamp_dt</th>\n",
       "      <th>timestamp_date</th>\n",
       "    </tr>\n",
       "  </thead>\n",
       "  <tbody>\n",
       "    <tr>\n",
       "      <th>32299</th>\n",
       "      <td>b'\\xd4R\\x93w@H\\xd3|\\x04j\\xd6\\xd9\\xb5j\\x101\\xee...</td>\n",
       "      <td>b'B\\x00\\x00\\x00\\x00\\x00\\x00\\x00\\x00\\x00\\x00\\x0...</td>\n",
       "      <td>1374788</td>\n",
       "      <td>46913</td>\n",
       "      <td>b''</td>\n",
       "      <td>1702771191</td>\n",
       "      <td>50</td>\n",
       "      <td>957</td>\n",
       "      <td>0</td>\n",
       "      <td>b'N\\xf2X\\xdf\\x03Bj?c\\xc06\\x087\\x19\\xa069 \\x8f\\...</td>\n",
       "      <td>...</td>\n",
       "      <td>b\"\\x01]\\x8e\\xb9\\x00\\x00\\x00\\x00\\x00\\x00\\x00\\x0...</td>\n",
       "      <td>1000000</td>\n",
       "      <td>46913</td>\n",
       "      <td>0</td>\n",
       "      <td>126</td>\n",
       "      <td>NaN</td>\n",
       "      <td>NaN</td>\n",
       "      <td>True</td>\n",
       "      <td>2023-12-16 23:59:51</td>\n",
       "      <td>2023-12-16</td>\n",
       "    </tr>\n",
       "    <tr>\n",
       "      <th>32300</th>\n",
       "      <td>b'\\xf1\\x1f\\n\\xa8\\xb7\\xe4q\\x0e=\\x82{6|\\xf8\\x94\\...</td>\n",
       "      <td>b'B\\x00\\x00\\x00\\x00\\x00\\x00\\x00\\x00\\x00\\x00\\x0...</td>\n",
       "      <td>1374789</td>\n",
       "      <td>46913</td>\n",
       "      <td>b''</td>\n",
       "      <td>1702771193</td>\n",
       "      <td>50</td>\n",
       "      <td>957</td>\n",
       "      <td>0</td>\n",
       "      <td>b'UU\\xf0\\x82wX\\x80\\x85\\x946\\x0f\\xe2\\x9f=V\\x1e&amp;...</td>\n",
       "      <td>...</td>\n",
       "      <td>b\"\\x01]\\x8e\\xb9\\x00\\x00\\x00\\x00\\x00\\x00\\x00\\x0...</td>\n",
       "      <td>1000000</td>\n",
       "      <td>46913</td>\n",
       "      <td>0</td>\n",
       "      <td>126</td>\n",
       "      <td>NaN</td>\n",
       "      <td>NaN</td>\n",
       "      <td>True</td>\n",
       "      <td>2023-12-16 23:59:53</td>\n",
       "      <td>2023-12-16</td>\n",
       "    </tr>\n",
       "    <tr>\n",
       "      <th>32301</th>\n",
       "      <td>b'1AU\\x88\\x18\\xc8\\xd7Q9\\n\\xce\\x17$\\x07\\xfdx3\\x...</td>\n",
       "      <td>b'B\\x00\\x00\\x00\\x00\\x00\\x00\\x00\\x00\\x00\\x00\\x0...</td>\n",
       "      <td>1374790</td>\n",
       "      <td>46913</td>\n",
       "      <td>b''</td>\n",
       "      <td>1702771195</td>\n",
       "      <td>50</td>\n",
       "      <td>957</td>\n",
       "      <td>0</td>\n",
       "      <td>b'S\\xdd6\\x03\\xb7Jq\\xb0\\x12\\xc0u\\x8c\\x1c\\x82\\x9...</td>\n",
       "      <td>...</td>\n",
       "      <td>b\"\\x01]\\x8e\\xb9\\x00\\x00\\x00\\x00\\x00\\x00\\x00\\x0...</td>\n",
       "      <td>1000000</td>\n",
       "      <td>46913</td>\n",
       "      <td>0</td>\n",
       "      <td>126</td>\n",
       "      <td>NaN</td>\n",
       "      <td>NaN</td>\n",
       "      <td>True</td>\n",
       "      <td>2023-12-16 23:59:55</td>\n",
       "      <td>2023-12-16</td>\n",
       "    </tr>\n",
       "    <tr>\n",
       "      <th>32302</th>\n",
       "      <td>b\"\\xa6['u\\x9d\\xefW%}V\\x10\\xd0\\x12\\xbd\\xe0\\x1a\\...</td>\n",
       "      <td>b'B\\x00\\x00\\x00\\x00\\x00\\x00\\x00\\x00\\x00\\x00\\x0...</td>\n",
       "      <td>1374791</td>\n",
       "      <td>50501</td>\n",
       "      <td>b''</td>\n",
       "      <td>1702771197</td>\n",
       "      <td>50</td>\n",
       "      <td>957</td>\n",
       "      <td>0</td>\n",
       "      <td>b'\\xe3\\xad\\x7f\\x9d\\xb3|J7\\x81\\x8f\\xd7g\\xc3\\x06...</td>\n",
       "      <td>...</td>\n",
       "      <td>b\"\\x01]\\x8e\\xb9\\x00\\x00\\x00\\x00\\x00\\x00\\x00\\x0...</td>\n",
       "      <td>1000000</td>\n",
       "      <td>50501</td>\n",
       "      <td>0</td>\n",
       "      <td>126</td>\n",
       "      <td>NaN</td>\n",
       "      <td>NaN</td>\n",
       "      <td>True</td>\n",
       "      <td>2023-12-16 23:59:57</td>\n",
       "      <td>2023-12-16</td>\n",
       "    </tr>\n",
       "    <tr>\n",
       "      <th>32303</th>\n",
       "      <td>b'\\xf5\\xd7L\\xf2f\\xfb\\xdb\\xc8\\xe3\\x1f\\xda\\xca\\x...</td>\n",
       "      <td>b'B\\x00\\x00\\x00\\x00\\x00\\x00\\x00\\x00\\x00\\x00\\x0...</td>\n",
       "      <td>1374792</td>\n",
       "      <td>64013</td>\n",
       "      <td>b''</td>\n",
       "      <td>1702771199</td>\n",
       "      <td>50</td>\n",
       "      <td>957</td>\n",
       "      <td>0</td>\n",
       "      <td>b'\\xdd\\xb31\\xe9\\xa4z\\x8e\\t\\x9b\\xcbO\\x0f\\x82\\x8...</td>\n",
       "      <td>...</td>\n",
       "      <td>b\"\\x01]\\x8e\\xb9\\x00\\x00\\x00\\x00\\x00\\x00\\x00\\x0...</td>\n",
       "      <td>1000000</td>\n",
       "      <td>64013</td>\n",
       "      <td>0</td>\n",
       "      <td>126</td>\n",
       "      <td>NaN</td>\n",
       "      <td>NaN</td>\n",
       "      <td>True</td>\n",
       "      <td>2023-12-16 23:59:59</td>\n",
       "      <td>2023-12-16</td>\n",
       "    </tr>\n",
       "  </tbody>\n",
       "</table>\n",
       "<p>5 rows × 26 columns</p>\n",
       "</div>"
      ],
      "text/plain": [
       "                                              block_hash  \\\n",
       "32299  b'\\xd4R\\x93w@H\\xd3|\\x04j\\xd6\\xd9\\xb5j\\x101\\xee...   \n",
       "32300  b'\\xf1\\x1f\\n\\xa8\\xb7\\xe4q\\x0e=\\x82{6|\\xf8\\x94\\...   \n",
       "32301  b'1AU\\x88\\x18\\xc8\\xd7Q9\\n\\xce\\x17$\\x07\\xfdx3\\x...   \n",
       "32302  b\"\\xa6['u\\x9d\\xefW%}V\\x10\\xd0\\x12\\xbd\\xe0\\x1a\\...   \n",
       "32303  b'\\xf5\\xd7L\\xf2f\\xfb\\xdb\\xc8\\xe3\\x1f\\xda\\xca\\x...   \n",
       "\n",
       "                                                  author  block_number  \\\n",
       "32299  b'B\\x00\\x00\\x00\\x00\\x00\\x00\\x00\\x00\\x00\\x00\\x0...       1374788   \n",
       "32300  b'B\\x00\\x00\\x00\\x00\\x00\\x00\\x00\\x00\\x00\\x00\\x0...       1374789   \n",
       "32301  b'B\\x00\\x00\\x00\\x00\\x00\\x00\\x00\\x00\\x00\\x00\\x0...       1374790   \n",
       "32302  b'B\\x00\\x00\\x00\\x00\\x00\\x00\\x00\\x00\\x00\\x00\\x0...       1374791   \n",
       "32303  b'B\\x00\\x00\\x00\\x00\\x00\\x00\\x00\\x00\\x00\\x00\\x0...       1374792   \n",
       "\n",
       "       block_gas_used extra_data   timestamp  base_fee_per_gas  chain_id  \\\n",
       "32299           46913        b''  1702771191                50       957   \n",
       "32300           46913        b''  1702771193                50       957   \n",
       "32301           46913        b''  1702771195                50       957   \n",
       "32302           50501        b''  1702771197                50       957   \n",
       "32303           64013        b''  1702771199                50       957   \n",
       "\n",
       "       transaction_index                                   transaction_hash  \\\n",
       "32299                  0  b'N\\xf2X\\xdf\\x03Bj?c\\xc06\\x087\\x19\\xa069 \\x8f\\...   \n",
       "32300                  0  b'UU\\xf0\\x82wX\\x80\\x85\\x946\\x0f\\xe2\\x9f=V\\x1e&...   \n",
       "32301                  0  b'S\\xdd6\\x03\\xb7Jq\\xb0\\x12\\xc0u\\x8c\\x1c\\x82\\x9...   \n",
       "32302                  0  b'\\xe3\\xad\\x7f\\x9d\\xb3|J7\\x81\\x8f\\xd7g\\xc3\\x06...   \n",
       "32303                  0  b'\\xdd\\xb31\\xe9\\xa4z\\x8e\\t\\x9b\\xcbO\\x0f\\x82\\x8...   \n",
       "\n",
       "       ...                                              input gas_limit  \\\n",
       "32299  ...  b\"\\x01]\\x8e\\xb9\\x00\\x00\\x00\\x00\\x00\\x00\\x00\\x0...   1000000   \n",
       "32300  ...  b\"\\x01]\\x8e\\xb9\\x00\\x00\\x00\\x00\\x00\\x00\\x00\\x0...   1000000   \n",
       "32301  ...  b\"\\x01]\\x8e\\xb9\\x00\\x00\\x00\\x00\\x00\\x00\\x00\\x0...   1000000   \n",
       "32302  ...  b\"\\x01]\\x8e\\xb9\\x00\\x00\\x00\\x00\\x00\\x00\\x00\\x0...   1000000   \n",
       "32303  ...  b\"\\x01]\\x8e\\xb9\\x00\\x00\\x00\\x00\\x00\\x00\\x00\\x0...   1000000   \n",
       "\n",
       "      gas_used gas_price transaction_type  max_priority_fee_per_gas  \\\n",
       "32299    46913         0              126                       NaN   \n",
       "32300    46913         0              126                       NaN   \n",
       "32301    46913         0              126                       NaN   \n",
       "32302    50501         0              126                       NaN   \n",
       "32303    64013         0              126                       NaN   \n",
       "\n",
       "      max_fee_per_gas  success        timestamp_dt  timestamp_date  \n",
       "32299             NaN     True 2023-12-16 23:59:51      2023-12-16  \n",
       "32300             NaN     True 2023-12-16 23:59:53      2023-12-16  \n",
       "32301             NaN     True 2023-12-16 23:59:55      2023-12-16  \n",
       "32302             NaN     True 2023-12-16 23:59:57      2023-12-16  \n",
       "32303             NaN     True 2023-12-16 23:59:59      2023-12-16  \n",
       "\n",
       "[5 rows x 26 columns]"
      ]
     },
     "execution_count": 10,
     "metadata": {},
     "output_type": "execute_result"
    }
   ],
   "source": [
    "# print(blocks.schema)\n",
    "# print(txs.schema)\n",
    "print(joined_df.schema)\n",
    "\n",
    "#test output\n",
    "joined_pd = joined_df.collect().to_pandas()\n",
    "joined_pd.tail(5)"
   ]
  },
  {
   "cell_type": "code",
   "execution_count": 16,
   "metadata": {},
   "outputs": [
    {
     "data": {
      "text/html": [
       "<i>naive plan: (run <b>LazyFrame.explain(optimized=True)</b> to see the optimized plan)</i>\n",
       "    <p></p>\n",
       "    <div>AGGREGATE<p></p>\t[col(\"block_number\").n_unique().alias(\"num_blocks\"), col(\"block_number\").min().alias(\"min_block_number\"), col(\"block_number\").max().alias(\"max_block_number\"), col(\"timestamp\").min().alias(\"min_block_time\"), col(\"timestamp\").max().alias(\"max_block_time\"), .when([(col(\"gas_price\")) > (0)]).then(col(\"transaction_hash\")).otherwise(null).n_unique().alias(\"num_user_transactions\"), .when([([(col(\"gas_price\")) > (0)]) & (col(\"success\"))]).then(col(\"transaction_hash\")).otherwise(null).n_unique().alias(\"num_success_user_transactions\"), col(\"from_address\").filter([(col(\"gas_price\")) > (0)]).n_unique().alias(\"num_senders\"), col(\"gas_used\").sum().alias(\"total_gas_used\"), col(\"gas_used\").filter([(col(\"gas_price\")) > (0)]).sum().alias(\"user_gas_used\"), [([(col(\"base_fee_per_gas\")) * (col(\"gas_used\"))].sum()) / (1.0000e18)].alias(\"l2_fees_base_fees_eth\"), [(.when([(col(\"gas_price\")) > (0)]).then([([(col(\"gas_price\")) - (col(\"base_fee_per_gas\"))]) * (col(\"gas_used\"))]).otherwise(null).sum()) / (1.0000e18)].alias(\"l2_fees_priority_fees_eth\"), [([(col(\"gas_price\")) * (col(\"gas_used\"))].sum()) / (1.0000e18)].alias(\"l2_fees_total_fees_eth\")] BY [col(\"timestamp_date\"), col(\"chain_id\")] FROM<p></p>   WITH_COLUMNS:<p></p>   [col(\"timestamp_dt\").dt.truncate([Utf8(1d)]).alias(\"timestamp_date\")]<p></p>     WITH_COLUMNS:<p></p>     [[(col(\"timestamp\").strict_cast(Int64)) * (1000000)].strict_cast(Datetime(Microseconds, None)).alias(\"timestamp_dt\")]<p></p>      INNER JOIN:<p></p>      LEFT PLAN ON: [col(\"block_number\"), col(\"chain_id\")]<p></p>        RENAME<p></p><p></p>            Parquet SCAN 33 files: first file: blocks__lyra/network_957__blocks__lyra__01331592_to_01332591.parquet<p></p>            PROJECT */8 COLUMNS<p></p>      RIGHT PLAN ON: [col(\"block_number\"), col(\"chain_id\")]<p></p><p></p>          Parquet SCAN 33 files: first file: transactions__lyra/network_957__transactions__lyra__01331592_to_01332591.parquet<p></p>          PROJECT */18 COLUMNS<p></p>      END INNER JOIN</div>"
      ],
      "text/plain": [
       "<LazyFrame [15 cols, {\"timestamp_date\": Datetime(time_unit='us', time_zone=None) … \"l2_fees_total_fees_eth\": Float64}] at 0x1830D10F0>"
      ]
     },
     "execution_count": 16,
     "metadata": {},
     "output_type": "execute_result"
    }
   ],
   "source": [
    "# Assuming you have a DataFrame named 'joined_df' with the required columns\n",
    "\n",
    "result_df = joined_df.group_by([pl.col(\"timestamp_date\"), pl.col(\"chain_id\")]).agg(\n",
    "    num_blocks=pl.col(\"block_number\").n_unique(),\n",
    "    min_block_number=pl.col(\"block_number\").min(),\n",
    "    max_block_number=pl.col(\"block_number\").max(),\n",
    "    min_block_time=pl.col(\"timestamp\").min(),\n",
    "    max_block_time=pl.col(\"timestamp\").max(),\n",
    "\n",
    "    num_user_transactions=\n",
    "        pl.when(pl.col(\"gas_price\") > 0).then(pl.col(\"transaction_hash\")).n_unique(),\n",
    "    num_success_user_transactions=\n",
    "        pl.when((pl.col(\"gas_price\") > 0) & pl.col(\"success\")).then(pl.col(\"transaction_hash\")).n_unique(),\n",
    "    num_senders=pl.col(\"from_address\").filter(pl.col(\"gas_price\") > 0).n_unique(),\n",
    "\n",
    "    total_gas_used=pl.col(\"gas_used\").sum(),\n",
    "    user_gas_used=pl.col(\"gas_used\").filter(pl.col(\"gas_price\") > 0).sum(),\n",
    "    \n",
    "    l2_fees_base_fees_eth=(pl.col(\"base_fee_per_gas\") * pl.col(\"gas_used\")).sum() / 1e18,\n",
    "    l2_fees_priority_fees_eth=pl.when(pl.col(\"gas_price\") > 0).then((pl.col(\"gas_price\") - pl.col(\"base_fee_per_gas\")) * pl.col(\"gas_used\")).sum() / 1e18,\n",
    "    l2_fees_total_fees_eth=(pl.col(\"gas_price\") * pl.col(\"gas_used\")).sum() / 1e18,\n",
    ")\n",
    "result_df"
   ]
  },
  {
   "cell_type": "code",
   "execution_count": 17,
   "metadata": {},
   "outputs": [],
   "source": [
    "#Execute and turn to pandas\n",
    "result_df = result_df.collect().to_pandas()\n"
   ]
  },
  {
   "cell_type": "code",
   "execution_count": 18,
   "metadata": {},
   "outputs": [],
   "source": [
    "# Filter\n",
    "result_df = result_df[result_df['min_block_time']>= start_timestamp] #seems like 1 block before gets pulled. yolo."
   ]
  },
  {
   "cell_type": "code",
   "execution_count": 19,
   "metadata": {},
   "outputs": [
    {
     "data": {
      "text/html": [
       "<div>\n",
       "<style scoped>\n",
       "    .dataframe tbody tr th:only-of-type {\n",
       "        vertical-align: middle;\n",
       "    }\n",
       "\n",
       "    .dataframe tbody tr th {\n",
       "        vertical-align: top;\n",
       "    }\n",
       "\n",
       "    .dataframe thead th {\n",
       "        text-align: right;\n",
       "    }\n",
       "</style>\n",
       "<table border=\"1\" class=\"dataframe\">\n",
       "  <thead>\n",
       "    <tr style=\"text-align: right;\">\n",
       "      <th></th>\n",
       "      <th>timestamp_date</th>\n",
       "      <th>chain_id</th>\n",
       "      <th>num_blocks</th>\n",
       "      <th>min_block_number</th>\n",
       "      <th>max_block_number</th>\n",
       "      <th>min_block_time</th>\n",
       "      <th>max_block_time</th>\n",
       "      <th>num_user_transactions</th>\n",
       "      <th>num_success_user_transactions</th>\n",
       "      <th>num_senders</th>\n",
       "      <th>total_gas_used</th>\n",
       "      <th>user_gas_used</th>\n",
       "      <th>l2_fees_base_fees_eth</th>\n",
       "      <th>l2_fees_priority_fees_eth</th>\n",
       "      <th>l2_fees_total_fees_eth</th>\n",
       "      <th>min_block_time_dt</th>\n",
       "      <th>max_block_time_dt</th>\n",
       "    </tr>\n",
       "  </thead>\n",
       "  <tbody>\n",
       "    <tr>\n",
       "      <th>1</th>\n",
       "      <td>2023-12-16</td>\n",
       "      <td>957</td>\n",
       "      <td>32200</td>\n",
       "      <td>1331593</td>\n",
       "      <td>1374792</td>\n",
       "      <td>1702684801</td>\n",
       "      <td>1702771199</td>\n",
       "      <td>104</td>\n",
       "      <td>104</td>\n",
       "      <td>12.0</td>\n",
       "      <td>1756986046</td>\n",
       "      <td>142090722</td>\n",
       "      <td>8.784930e-08</td>\n",
       "      <td>0.001439</td>\n",
       "      <td>0.001439</td>\n",
       "      <td>2023-12-16 00:00:01</td>\n",
       "      <td>2023-12-16 00:00:01</td>\n",
       "    </tr>\n",
       "  </tbody>\n",
       "</table>\n",
       "</div>"
      ],
      "text/plain": [
       "  timestamp_date  chain_id  num_blocks  min_block_number  max_block_number  \\\n",
       "1     2023-12-16       957       32200           1331593           1374792   \n",
       "\n",
       "   min_block_time  max_block_time  num_user_transactions  \\\n",
       "1      1702684801      1702771199                    104   \n",
       "\n",
       "   num_success_user_transactions  num_senders  total_gas_used  user_gas_used  \\\n",
       "1                            104         12.0      1756986046      142090722   \n",
       "\n",
       "   l2_fees_base_fees_eth  l2_fees_priority_fees_eth  l2_fees_total_fees_eth  \\\n",
       "1           8.784930e-08                   0.001439                0.001439   \n",
       "\n",
       "    min_block_time_dt   max_block_time_dt  \n",
       "1 2023-12-16 00:00:01 2023-12-16 00:00:01  "
      ]
     },
     "metadata": {},
     "output_type": "display_data"
    }
   ],
   "source": [
    "result_df['min_block_time_dt'] = pd.to_datetime(result_df['min_block_time'], unit='s')\n",
    "result_df['max_block_time_dt'] = pd.to_datetime(result_df['min_block_time'], unit='s')\n",
    "display(result_df.sort_values(by='timestamp_date',ascending=False))"
   ]
  }
 ],
 "metadata": {
  "kernelspec": {
   "display_name": "py10",
   "language": "python",
   "name": "python3"
  },
  "language_info": {
   "codemirror_mode": {
    "name": "ipython",
    "version": 3
   },
   "file_extension": ".py",
   "mimetype": "text/x-python",
   "name": "python",
   "nbconvert_exporter": "python",
   "pygments_lexer": "ipython3",
   "version": "3.10.13"
  }
 },
 "nbformat": 4,
 "nbformat_minor": 2
}
