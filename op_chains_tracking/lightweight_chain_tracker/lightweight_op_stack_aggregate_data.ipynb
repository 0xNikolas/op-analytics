{
 "cells": [
  {
   "cell_type": "markdown",
   "metadata": {},
   "source": [
    "See readme.md for ideal fields and descriptions"
   ]
  },
  {
   "cell_type": "code",
   "execution_count": null,
   "metadata": {},
   "outputs": [],
   "source": [
    "# ! pip install pandas pyarrow\n",
    "# ! pip install polars"
   ]
  },
  {
   "cell_type": "code",
   "execution_count": null,
   "metadata": {},
   "outputs": [],
   "source": [
    "import subprocess\n",
    "import os\n",
    "import datetime\n",
    "import time\n",
    "import pyarrow.parquet as pq\n",
    "import pandas as pd\n"
   ]
  },
  {
   "cell_type": "code",
   "execution_count": null,
   "metadata": {},
   "outputs": [],
   "source": [
    "import polars as pl"
   ]
  },
  {
   "cell_type": "code",
   "execution_count": null,
   "metadata": {},
   "outputs": [],
   "source": [
    "# Init timestamps\n",
    "current_time = datetime.datetime.utcnow()\n",
    "time_24_hours_ago = current_time - datetime.timedelta(hours=24)\n",
    "print('current time: ' + str(current_time))\n",
    "print('24 hrs ago time: ' + str(time_24_hours_ago))"
   ]
  },
  {
   "cell_type": "code",
   "execution_count": null,
   "metadata": {},
   "outputs": [],
   "source": [
    "# Test doing t24h for Lyra\n",
    "\n",
    "fields = 'blocks txs'# traces'\n",
    "rpc_url = 'https://rpc.lyra.finance/'\n",
    "chain_name = 'lyra'\n",
    "start_timestamp = int(time_24_hours_ago.timestamp())\n",
    "end_timestamp = int(current_time.timestamp())\n",
    "\n",
    "dry_run = 0"
   ]
  },
  {
   "cell_type": "code",
   "execution_count": null,
   "metadata": {},
   "outputs": [],
   "source": [
    "# Generate Command\n",
    "if dry_run == 1:\n",
    "    dry_txt = '--dry'\n",
    "else:\n",
    "    dry_txt = ''\n",
    "\n",
    "command = f\"cryo {fields} --rpc {rpc_url} --timestamps {start_timestamp}:{end_timestamp} --subdirs datatype --label {chain_name} {dry_txt}\"\n",
    "print(command)"
   ]
  },
  {
   "cell_type": "code",
   "execution_count": null,
   "metadata": {},
   "outputs": [],
   "source": [
    "start_time = time.time()\n",
    "# Run the command using subprocess.run and capture the output\n",
    "result = subprocess.run(\n",
    "    command, \n",
    "    shell=True, \n",
    "    stdout=subprocess.PIPE,  # Capture standard output\n",
    "    stderr=subprocess.PIPE,  # Capture standard error\n",
    "    text=True  # Capture output as text (Python 3.7+)\n",
    ")\n",
    "\n",
    "# Display the captured output\n",
    "if result.returncode == 0:\n",
    "    print(\"Command succeeded. Output:\")\n",
    "    print(result.stdout)\n",
    "# else:\n",
    "#     print(\"Command failed. Error output:\")\n",
    "#     print(result.stderr)\n",
    "\n",
    "end_time = time.time()"
   ]
  },
  {
   "cell_type": "code",
   "execution_count": null,
   "metadata": {},
   "outputs": [],
   "source": [
    "# Calculate the elapsed time\n",
    "elapsed_time = end_time - start_time\n",
    "# Print the elapsed time in seconds\n",
    "print(f\"Elapsed time: {elapsed_time:.4f} seconds\")"
   ]
  },
  {
   "cell_type": "code",
   "execution_count": null,
   "metadata": {},
   "outputs": [],
   "source": [
    "# # Read parquet files\n",
    "txs = pl.scan_parquet('transactions__' + chain_name + '/*.parquet')\n",
    "blocks = pl.scan_parquet('blocks__' + chain_name + '/*.parquet')\n",
    "\n",
    "# Rename the 'gas_used' column to 'block_gas_used' in the 'blocks' DataFrame\n",
    "blocks = blocks.rename({\"gas_used\": \"block_gas_used\"})\n",
    "\n",
    "# Perform the join on 'block_number' and 'chain_id'\n",
    "joined_df = blocks.join(\n",
    "    txs,\n",
    "    on=[\"block_number\", \"chain_id\"],\n",
    "    how=\"inner\"  # You can specify the type of join you want (inner, outer, left, right)\n",
    ")\n",
    "\n",
    "# Convert Unix timestamp to datetime and create a new column 'timestamp_dt'\n",
    "joined_df = joined_df.with_columns(\n",
    "    pl.from_epoch(\"timestamp\", time_unit=\"s\").alias(\"timestamp_dt\")\n",
    ")\n",
    "\n",
    "# Truncate the 'timestamp_dt' column to the day and create a new column 'timestamp_date'\n",
    "joined_df = joined_df.with_columns(\n",
    "    pl.col(\"timestamp_dt\").dt.truncate(\"1d\").alias(\"timestamp_date\")\n",
    ")"
   ]
  },
  {
   "cell_type": "code",
   "execution_count": null,
   "metadata": {},
   "outputs": [],
   "source": [
    "# print(blocks.schema)\n",
    "# print(txs.schema)\n",
    "print(joined_df.schema)\n",
    "\n",
    "#test output\n",
    "joined_pd = joined_df.collect().to_pandas()\n",
    "joined_pd.head(5)"
   ]
  },
  {
   "cell_type": "code",
   "execution_count": 97,
   "metadata": {},
   "outputs": [
    {
     "data": {
      "text/html": [
       "<i>naive plan: (run <b>LazyFrame.explain(optimized=True)</b> to see the optimized plan)</i>\n",
       "    <p></p>\n",
       "    <div>AGGREGATE<p></p>\t[col(\"block_number\").n_unique().alias(\"num_blocks\"), .when([(col(\"gas_price\")) > (0)]).then(col(\"transaction_hash\")).otherwise(null).n_unique().alias(\"num_user_transactions\"), .when([([(col(\"gas_price\")) > (0)]) & (col(\"success\"))]).then(col(\"transaction_hash\")).otherwise(null).n_unique().alias(\"num_success_user_transactions\"), col(\"gas_used\").sum().alias(\"total_gas_used\"), col(\"gas_used\").filter([(col(\"gas_price\")) > (0)]).sum().alias(\"user_gas_used\"), col(\"from_address\").filter([(col(\"gas_price\")) > (0)]).n_unique().alias(\"num_senders\"), [(col(\"base_fee_per_gas\")) * (col(\"gas_used\"))].sum().alias(\"l2_fees_base_fee\"), .when([(col(\"gas_price\")) > (0)]).then([([(col(\"gas_price\")) - (col(\"base_fee_per_gas\"))]) * (col(\"gas_used\"))]).otherwise(null).sum().alias(\"l2_fees_priority_fee\"), [(col(\"gas_price\")) * (col(\"gas_used\"))].sum().alias(\"l2_fees_total_fee\")] BY [col(\"timestamp_date\")] FROM<p></p>   WITH_COLUMNS:<p></p>   [col(\"timestamp_dt\").dt.truncate([Utf8(1d)]).alias(\"timestamp_date\")]<p></p>     WITH_COLUMNS:<p></p>     [[(col(\"timestamp\").strict_cast(Int64)) * (1000000)].strict_cast(Datetime(Microseconds, None)).alias(\"timestamp_dt\")]<p></p>      INNER JOIN:<p></p>      LEFT PLAN ON: [col(\"block_number\"), col(\"chain_id\")]<p></p>        RENAME<p></p><p></p>            Parquet SCAN 31 files: first file: blocks__lyra/network_957__blocks__lyra__01347088_to_01348087.parquet<p></p>            PROJECT */8 COLUMNS<p></p>      RIGHT PLAN ON: [col(\"block_number\"), col(\"chain_id\")]<p></p><p></p>          Parquet SCAN 31 files: first file: transactions__lyra/network_957__transactions__lyra__01347088_to_01348087.parquet<p></p>          PROJECT */18 COLUMNS<p></p>      END INNER JOIN</div>"
      ],
      "text/plain": [
       "<LazyFrame [10 cols, {\"timestamp_date\": Datetime(time_unit='us', time_zone=None) … \"l2_fees_total_fee\": UInt64}] at 0x170B856F0>"
      ]
     },
     "execution_count": 97,
     "metadata": {},
     "output_type": "execute_result"
    }
   ],
   "source": [
    "# Assuming you have a DataFrame named 'joined_df' with the required columns\n",
    "\n",
    "result_df = joined_df.group_by(pl.col(\"timestamp_date\")).agg(\n",
    "    num_blocks=pl.col(\"block_number\").n_unique(),\n",
    "    num_user_transactions=\n",
    "        pl.when(pl.col(\"gas_price\") > 0).then(pl.col(\"transaction_hash\")).n_unique(),\n",
    "    num_success_user_transactions=\n",
    "        pl.when((pl.col(\"gas_price\") > 0) & pl.col(\"success\")).then(pl.col(\"transaction_hash\")).n_unique(),\n",
    "    total_gas_used=pl.col(\"gas_used\").sum(),\n",
    "    user_gas_used=pl.col(\"gas_used\").filter(pl.col(\"gas_price\") > 0).sum(),\n",
    "    num_senders=pl.col(\"from_address\").filter(pl.col(\"gas_price\") > 0).n_unique(),\n",
    "    l2_fees_base_fees=(pl.col(\"base_fee_per_gas\") * pl.col(\"gas_used\")).sum(),\n",
    "    l2_fees_priority_fees=pl.when(pl.col(\"gas_price\") > 0).then((pl.col(\"gas_price\") - pl.col(\"base_fee_per_gas\")) * pl.col(\"gas_used\")).sum(),\n",
    "    l2_fees_total_fees=(pl.col(\"gas_price\") * pl.col(\"gas_used\")).sum(),\n",
    ")\n",
    "result_df"
   ]
  },
  {
   "cell_type": "code",
   "execution_count": 98,
   "metadata": {},
   "outputs": [
    {
     "data": {
      "text/html": [
       "<div><style>\n",
       ".dataframe > thead > tr,\n",
       ".dataframe > tbody > tr {\n",
       "  text-align: right;\n",
       "  white-space: pre-wrap;\n",
       "}\n",
       "</style>\n",
       "<small>shape: (2, 10)</small><table border=\"1\" class=\"dataframe\"><thead><tr><th>timestamp_date</th><th>num_blocks</th><th>num_user_transactions</th><th>num_success_user_transactions</th><th>total_gas_used</th><th>user_gas_used</th><th>num_senders</th><th>l2_fees_base_fee</th><th>l2_fees_priority_fee</th><th>l2_fees_total_fee</th></tr><tr><td>datetime[μs]</td><td>u32</td><td>u32</td><td>u32</td><td>u64</td><td>u64</td><td>u32</td><td>u64</td><td>u64</td><td>u64</td></tr></thead><tbody><tr><td>2023-12-17 00:00:00</td><td>4497</td><td>15</td><td>15</td><td>245841890</td><td>20026765</td><td>7</td><td>12292094500</td><td>4342699000000</td><td>4343700338250</td></tr><tr><td>2023-12-16 00:00:00</td><td>25705</td><td>75</td><td>75</td><td>1406723392</td><td>117023699</td><td>10</td><td>70336169600</td><td>20655953300000</td><td>20661804484950</td></tr></tbody></table></div>"
      ],
      "text/plain": [
       "shape: (2, 10)\n",
       "┌───────────┬───────────┬───────────┬───────────┬───┬───────────┬───────────┬───────────┬──────────┐\n",
       "│ timestamp ┆ num_block ┆ num_user_ ┆ num_succe ┆ … ┆ num_sende ┆ l2_fees_b ┆ l2_fees_p ┆ l2_fees_ │\n",
       "│ _date     ┆ s         ┆ transacti ┆ ss_user_t ┆   ┆ rs        ┆ ase_fee   ┆ riority_f ┆ total_fe │\n",
       "│ ---       ┆ ---       ┆ ons       ┆ ransactio ┆   ┆ ---       ┆ ---       ┆ ee        ┆ e        │\n",
       "│ datetime[ ┆ u32       ┆ ---       ┆ ns        ┆   ┆ u32       ┆ u64       ┆ ---       ┆ ---      │\n",
       "│ μs]       ┆           ┆ u32       ┆ ---       ┆   ┆           ┆           ┆ u64       ┆ u64      │\n",
       "│           ┆           ┆           ┆ u32       ┆   ┆           ┆           ┆           ┆          │\n",
       "╞═══════════╪═══════════╪═══════════╪═══════════╪═══╪═══════════╪═══════════╪═══════════╪══════════╡\n",
       "│ 2023-12-1 ┆ 4497      ┆ 15        ┆ 15        ┆ … ┆ 7         ┆ 122920945 ┆ 434269900 ┆ 43437003 │\n",
       "│ 7         ┆           ┆           ┆           ┆   ┆           ┆ 00        ┆ 0000      ┆ 38250    │\n",
       "│ 00:00:00  ┆           ┆           ┆           ┆   ┆           ┆           ┆           ┆          │\n",
       "│ 2023-12-1 ┆ 25705     ┆ 75        ┆ 75        ┆ … ┆ 10        ┆ 703361696 ┆ 206559533 ┆ 20661804 │\n",
       "│ 6         ┆           ┆           ┆           ┆   ┆           ┆ 00        ┆ 00000     ┆ 484950   │\n",
       "│ 00:00:00  ┆           ┆           ┆           ┆   ┆           ┆           ┆           ┆          │\n",
       "└───────────┴───────────┴───────────┴───────────┴───┴───────────┴───────────┴───────────┴──────────┘"
      ]
     },
     "execution_count": 98,
     "metadata": {},
     "output_type": "execute_result"
    }
   ],
   "source": [
    "result_df.collect()"
   ]
  }
 ],
 "metadata": {
  "kernelspec": {
   "display_name": "py10",
   "language": "python",
   "name": "python3"
  },
  "language_info": {
   "codemirror_mode": {
    "name": "ipython",
    "version": 3
   },
   "file_extension": ".py",
   "mimetype": "text/x-python",
   "name": "python",
   "nbconvert_exporter": "python",
   "pygments_lexer": "ipython3",
   "version": "3.10.13"
  }
 },
 "nbformat": 4,
 "nbformat_minor": 2
}
