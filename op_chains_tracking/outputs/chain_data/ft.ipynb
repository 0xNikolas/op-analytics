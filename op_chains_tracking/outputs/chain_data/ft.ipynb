{
 "cells": [
  {
   "cell_type": "code",
   "execution_count": 4,
   "metadata": {},
   "outputs": [
    {
     "ename": "ModuleNotFoundError",
     "evalue": "No module named 'Decimal'",
     "output_type": "error",
     "traceback": [
      "\u001b[0;31m---------------------------------------------------------------------------\u001b[0m",
      "\u001b[0;31mModuleNotFoundError\u001b[0m                       Traceback (most recent call last)",
      "Cell \u001b[0;32mIn[4], line 2\u001b[0m\n\u001b[1;32m      1\u001b[0m \u001b[38;5;28;01mimport\u001b[39;00m \u001b[38;5;21;01mpandas\u001b[39;00m \u001b[38;5;28;01mas\u001b[39;00m \u001b[38;5;21;01mpd\u001b[39;00m\n\u001b[0;32m----> 2\u001b[0m \u001b[38;5;28;01mimport\u001b[39;00m \u001b[38;5;21;01mdatetime\u001b[39;00m\u001b[38;5;241m,\u001b[39m \u001b[38;5;21;01mDecimal\u001b[39;00m\n",
      "\u001b[0;31mModuleNotFoundError\u001b[0m: No module named 'Decimal'"
     ]
    }
   ],
   "source": [
    "import pandas as pd\n",
    "import datetime, decimal"
   ]
  },
  {
   "cell_type": "code",
   "execution_count": 3,
   "metadata": {},
   "outputs": [
    {
     "ename": "NameError",
     "evalue": "name 'datetime' is not defined",
     "output_type": "error",
     "traceback": [
      "\u001b[0;31m---------------------------------------------------------------------------\u001b[0m",
      "\u001b[0;31mNameError\u001b[0m                                 Traceback (most recent call last)",
      "Cell \u001b[0;32mIn[3], line 2\u001b[0m\n\u001b[1;32m      1\u001b[0m \u001b[38;5;66;03m# Your row of data\u001b[39;00m\n\u001b[0;32m----> 2\u001b[0m row \u001b[38;5;241m=\u001b[39m (\u001b[43mdatetime\u001b[49m(\u001b[38;5;241m2024\u001b[39m, \u001b[38;5;241m5\u001b[39m, \u001b[38;5;241m7\u001b[39m, \u001b[38;5;241m0\u001b[39m, \u001b[38;5;241m0\u001b[39m), \u001b[38;5;124m'\u001b[39m\u001b[38;5;124mfrax\u001b[39m\u001b[38;5;124m'\u001b[39m, \u001b[38;5;124m'\u001b[39m\u001b[38;5;124mmainnet\u001b[39m\u001b[38;5;124m'\u001b[39m, \u001b[38;5;241m45840\u001b[39m, \u001b[38;5;241m43200\u001b[39m, \u001b[38;5;241m40\u001b[39m, \u001b[38;5;241m2593\u001b[39m, \u001b[38;5;241m2554\u001b[39m, \u001b[38;5;241m170\u001b[39m, \n\u001b[1;32m      3\u001b[0m        Decimal(\u001b[38;5;124m'\u001b[39m\u001b[38;5;124m2900480407\u001b[39m\u001b[38;5;124m'\u001b[39m), Decimal(\u001b[38;5;124m'\u001b[39m\u001b[38;5;124m14233512\u001b[39m\u001b[38;5;124m'\u001b[39m), \u001b[38;5;241m711675.5999999999\u001b[39m, \u001b[38;5;28;01mNone\u001b[39;00m, \u001b[38;5;241m12428073.0\u001b[39m, \u001b[38;5;241m711675.5999999999\u001b[39m, \n\u001b[1;32m      4\u001b[0m        Decimal(\u001b[38;5;124m'\u001b[39m\u001b[38;5;124m0\u001b[39m\u001b[38;5;124m'\u001b[39m), Decimal(\u001b[38;5;124m'\u001b[39m\u001b[38;5;124m14233512\u001b[39m\u001b[38;5;124m'\u001b[39m), \u001b[38;5;241m1177417.0\u001b[39m, Decimal(\u001b[38;5;124m'\u001b[39m\u001b[38;5;124m413086845\u001b[39m\u001b[38;5;124m'\u001b[39m), Decimal(\u001b[38;5;124m'\u001b[39m\u001b[38;5;124m0.016166397\u001b[39m\u001b[38;5;124m'\u001b[39m), \n\u001b[1;32m      5\u001b[0m        Decimal(\u001b[38;5;124m'\u001b[39m\u001b[38;5;124m0.004713323\u001b[39m\u001b[38;5;124m'\u001b[39m), \u001b[38;5;241m0.004713322364124504\u001b[39m, \u001b[38;5;28;01mNone\u001b[39;00m, Decimal(\u001b[38;5;124m'\u001b[39m\u001b[38;5;124m0.011453584\u001b[39m\u001b[38;5;124m'\u001b[39m), Decimal(\u001b[38;5;124m'\u001b[39m\u001b[38;5;124m0\u001b[39m\u001b[38;5;124m'\u001b[39m), \n\u001b[1;32m      6\u001b[0m        Decimal(\u001b[38;5;124m'\u001b[39m\u001b[38;5;124m0.009985857\u001b[39m\u001b[38;5;124m'\u001b[39m), Decimal(\u001b[38;5;124m'\u001b[39m\u001b[38;5;124m889594.5\u001b[39m\u001b[38;5;124m'\u001b[39m), Decimal(\u001b[38;5;124m'\u001b[39m\u001b[38;5;124m889594.5\u001b[39m\u001b[38;5;124m'\u001b[39m), \u001b[38;5;241m43200\u001b[39m, \u001b[38;5;241m0.05\u001b[39m, \u001b[38;5;28;01mNone\u001b[39;00m, \n\u001b[1;32m      7\u001b[0m        Decimal(\u001b[38;5;124m'\u001b[39m\u001b[38;5;124m6.622852272\u001b[39m\u001b[38;5;124m'\u001b[39m), Decimal(\u001b[38;5;124m'\u001b[39m\u001b[38;5;124m0.027725516\u001b[39m\u001b[38;5;124m'\u001b[39m), Decimal(\u001b[38;5;124m'\u001b[39m\u001b[38;5;124m7.9E-8\u001b[39m\u001b[38;5;124m'\u001b[39m), Decimal(\u001b[38;5;124m'\u001b[39m\u001b[38;5;124m2.620860114\u001b[39m\u001b[38;5;124m'\u001b[39m), \n\u001b[1;32m      8\u001b[0m        \u001b[38;5;241m86400\u001b[39m, \u001b[38;5;241m0.060023148148148145\u001b[39m, \u001b[38;5;241m0.030011574074074072\u001b[39m, Decimal(\u001b[38;5;124m'\u001b[39m\u001b[38;5;124m67140.750162037\u001b[39m\u001b[38;5;124m'\u001b[39m), \n\u001b[1;32m      9\u001b[0m        Decimal(\u001b[38;5;124m'\u001b[39m\u001b[38;5;124m33570.375081019\u001b[39m\u001b[38;5;124m'\u001b[39m), Decimal(\u001b[38;5;124m'\u001b[39m\u001b[38;5;124m3.74E-7\u001b[39m\u001b[38;5;124m'\u001b[39m), Decimal(\u001b[38;5;124m'\u001b[39m\u001b[38;5;124m1.87E-7\u001b[39m\u001b[38;5;124m'\u001b[39m), \u001b[38;5;241m0\u001b[39m, \u001b[38;5;124m'\u001b[39m\u001b[38;5;124mfrax\u001b[39m\u001b[38;5;124m'\u001b[39m)\n\u001b[1;32m     11\u001b[0m \u001b[38;5;66;03m# Column names\u001b[39;00m\n\u001b[1;32m     12\u001b[0m columns \u001b[38;5;241m=\u001b[39m [\u001b[38;5;124m'\u001b[39m\u001b[38;5;124mdatetime\u001b[39m\u001b[38;5;124m'\u001b[39m, \u001b[38;5;124m'\u001b[39m\u001b[38;5;124mchain\u001b[39m\u001b[38;5;124m'\u001b[39m, \u001b[38;5;124m'\u001b[39m\u001b[38;5;124mnetwork\u001b[39m\u001b[38;5;124m'\u001b[39m, \u001b[38;5;124m'\u001b[39m\u001b[38;5;124mnum_raw_txs\u001b[39m\u001b[38;5;124m'\u001b[39m, \u001b[38;5;124m'\u001b[39m\u001b[38;5;124ml2_num_attr_deposit_txs_per_day\u001b[39m\u001b[38;5;124m'\u001b[39m, \n\u001b[1;32m     13\u001b[0m            \u001b[38;5;124m'\u001b[39m\u001b[38;5;124ml2_num_user_deposit_txs_per_day\u001b[39m\u001b[38;5;124m'\u001b[39m, \u001b[38;5;124m'\u001b[39m\u001b[38;5;124ml2_num_txs_per_day\u001b[39m\u001b[38;5;124m'\u001b[39m, \u001b[38;5;124m'\u001b[39m\u001b[38;5;124ml2_num_success_txs_per_day\u001b[39m\u001b[38;5;124m'\u001b[39m, \n\u001b[1;32m     14\u001b[0m            \u001b[38;5;124m'\u001b[39m\u001b[38;5;124mnum_users_per_day\u001b[39m\u001b[38;5;124m'\u001b[39m, \u001b[38;5;124m'\u001b[39m\u001b[38;5;124ml2_gas_used\u001b[39m\u001b[38;5;124m'\u001b[39m, \u001b[38;5;124m'\u001b[39m\u001b[38;5;124ml1_gas_used_on_l2\u001b[39m\u001b[38;5;124m'\u001b[39m, \u001b[38;5;124m'\u001b[39m\u001b[38;5;124ml1_gas_paid\u001b[39m\u001b[38;5;124m'\u001b[39m, \u001b[38;5;124m'\u001b[39m\u001b[38;5;124mblob_gas_paid\u001b[39m\u001b[38;5;124m'\u001b[39m, \n\u001b[0;32m   (...)\u001b[0m\n\u001b[1;32m     24\u001b[0m            \u001b[38;5;124m'\u001b[39m\u001b[38;5;124mnum_user_txs_per_second\u001b[39m\u001b[38;5;124m'\u001b[39m, \u001b[38;5;124m'\u001b[39m\u001b[38;5;124ml2_gas_used_per_block\u001b[39m\u001b[38;5;124m'\u001b[39m, \u001b[38;5;124m'\u001b[39m\u001b[38;5;124ml2_gas_used_per_second\u001b[39m\u001b[38;5;124m'\u001b[39m, \n\u001b[1;32m     25\u001b[0m            \u001b[38;5;124m'\u001b[39m\u001b[38;5;124ml2_eth_fees_per_block\u001b[39m\u001b[38;5;124m'\u001b[39m, \u001b[38;5;124m'\u001b[39m\u001b[38;5;124ml2_eth_fees_per_second\u001b[39m\u001b[38;5;124m'\u001b[39m, \u001b[38;5;124m'\u001b[39m\u001b[38;5;124mis_initial_day\u001b[39m\u001b[38;5;124m'\u001b[39m, \u001b[38;5;124m'\u001b[39m\u001b[38;5;124mchain_name\u001b[39m\u001b[38;5;124m'\u001b[39m]\n",
      "\u001b[0;31mNameError\u001b[0m: name 'datetime' is not defined"
     ]
    }
   ],
   "source": [
    "# Your row of data\n",
    "row = (datetime(2024, 5, 7, 0, 0), 'frax', 'mainnet', 45840, 43200, 40, 2593, 2554, 170, \n",
    "       Decimal('2900480407'), Decimal('14233512'), 711675.5999999999, None, 12428073.0, 711675.5999999999, \n",
    "       Decimal('0'), Decimal('14233512'), 1177417.0, Decimal('413086845'), Decimal('0.016166397'), \n",
    "       Decimal('0.004713323'), 0.004713322364124504, None, Decimal('0.011453584'), Decimal('0'), \n",
    "       Decimal('0.009985857'), Decimal('889594.5'), Decimal('889594.5'), 43200, 0.05, None, \n",
    "       Decimal('6.622852272'), Decimal('0.027725516'), Decimal('7.9E-8'), Decimal('2.620860114'), \n",
    "       86400, 0.060023148148148145, 0.030011574074074072, Decimal('67140.750162037'), \n",
    "       Decimal('33570.375081019'), Decimal('3.74E-7'), Decimal('1.87E-7'), 0, 'frax')\n",
    "\n",
    "# Column names\n",
    "columns = ['datetime', 'chain', 'network', 'num_raw_txs', 'l2_num_attr_deposit_txs_per_day', \n",
    "           'l2_num_user_deposit_txs_per_day', 'l2_num_txs_per_day', 'l2_num_success_txs_per_day', \n",
    "           'num_users_per_day', 'l2_gas_used', 'l1_gas_used_on_l2', 'l1_gas_paid', 'blob_gas_paid', \n",
    "           'calldata_bytes_l2_per_day', 'l1_gas_paid_user_txs', 'blob_gas_paid_user_txs', \n",
    "           'l1_gas_used_user_txs_l2_per_day', 'calldata_bytes_user_txs_l2_per_day', \n",
    "           'l2_gas_used_user_txs_per_day', 'l2_eth_fees_per_day', 'l1_contrib_l2_eth_fees_per_day', \n",
    "           'l1_l1gas_contrib_l2_eth_fees_per_day', 'l1_blobgas_contrib_l2_eth_fees_per_day', \n",
    "           'l2_contrib_l2_eth_fees_per_day', 'l2_contrib_l2_eth_fees_base_fee_per_day', \n",
    "           'l2_contrib_l2_eth_fees_priority_fee_per_day', 'compressedtxsize_approx_l2_per_day', \n",
    "           'compressedtxsize_approx_user_txs_l2_per_day', 'num_blocks', 'avg_l1_fee_scalar', \n",
    "           'avg_l1_blob_fee_scalar', 'avg_l1_gas_price_on_l2', 'avg_l2_gas_price', 'base_fee_gwei', \n",
    "           'equivalent_l1_tx_fee', 'active_secs_per_day', 'l2_num_txs_per_day_per_block', \n",
    "           'num_user_txs_per_second', 'l2_gas_used_per_block', 'l2_gas_used_per_second', \n",
    "           'l2_eth_fees_per_block', 'l2_eth_fees_per_second', 'is_initial_day', 'chain_name']\n",
    "\n",
    "# Create DataFrame\n",
    "df = pd.DataFrame([row], columns=columns)"
   ]
  },
  {
   "cell_type": "code",
   "execution_count": null,
   "metadata": {},
   "outputs": [],
   "source": []
  }
 ],
 "metadata": {
  "kernelspec": {
   "display_name": "gcp-env",
   "language": "python",
   "name": "python3"
  },
  "language_info": {
   "codemirror_mode": {
    "name": "ipython",
    "version": 3
   },
   "file_extension": ".py",
   "mimetype": "text/x-python",
   "name": "python",
   "nbconvert_exporter": "python",
   "pygments_lexer": "ipython3",
   "version": "3.12.3"
  }
 },
 "nbformat": 4,
 "nbformat_minor": 2
}
