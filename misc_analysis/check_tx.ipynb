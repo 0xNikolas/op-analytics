{
 "cells": [
  {
   "cell_type": "code",
   "execution_count": 1,
   "metadata": {},
   "outputs": [],
   "source": [
    "# NOTE: This uses a modified ethereum-etl here: https://github.com/MSilb7/optimism-etl\n",
    "\n",
    "import sys\n",
    "import json\n",
    "from web3 import Web3\n",
    "from web3.middleware import geth_poa_middleware\n",
    "sys.path.append(\"../helper_functions\")\n",
    "import ethereumetl_utils as eetl\n",
    "import web3py_utils as wpy\n",
    "import pandas_utils as pu\n",
    "import evm_utils as evm\n",
    "sys.path.pop()\n",
    "\n",
    "import pandas as pd\n",
    "from dotenv import load_dotenv\n",
    "import requests\n",
    "import datetime\n",
    "load_dotenv()\n",
    "import os\n",
    "\n",
    "configs = [\n",
    "        #  ['ethereum',os.environ.get('ETHEREUM_NODE'),'0x2bd9c2576fd499909a96965318a176c5d2d0edd2c7be2f481305c55dc5327bad']\n",
    "          ['optimism-goerli-ecotone',os.environ.get('OP_GOERLI'),'0x6f6dfc6d1e6948eb804c0ee932caa33fa330ab905993a05bba5c28f4f958d3e3']\n",
    "          # ,['optimism-legacy',os.environ.get('OP_NODE'),'0xf659ca817904644883c4180c68ca470ffda9d1bb6f3003e5be7feb8580d1f0c0']\n",
    "]"
   ]
  },
  {
   "cell_type": "code",
   "execution_count": 2,
   "metadata": {},
   "outputs": [
    {
     "name": "stdout",
     "output_type": "stream",
     "text": [
      "-------optimism-goerli-ecotone-------\n",
      "Transaction Receipt:\n",
      "AttributeDict({'blockHash': HexBytes('0x5050c1402f9f3fa4960bf64b80d0e7f119069d1127b655e74a357020ff66435a'), 'blockNumber': 21157590, 'contractAddress': None, 'cumulativeGasUsed': 165376, 'effectiveGasPrice': 1000252, 'from': '0x4e92B2A0376E14940417DE5c0Ca55AE613ca0351', 'gasUsed': 121537, 'l1Fee': '0x53ada8fe144', 'l1GasPrice': '0x7', 'l1GasUsed': '0x1794', 'logs': [], 'logsBloom': HexBytes('0x00000000000000000000000000000000000000000000000000000000000000000000000000000000000000000000000000000000000000000000000000000000000000000000000000000000000000000000000000000000000000000000000000000000000000000000000000000000000000000000000000000000000000000000000000000000000000000000000000000000000000000000000000000000000000000000000000000000000000000000000000000000000000000000000000000000000000000000000000000000000000000000000000000000000000000000000000000000000000000000000000000000000000000000000000000000'), 'status': 1, 'to': '0x7d05d5745499D8cc68FA4Eb5dbd45df53E9c3f1f', 'transactionHash': HexBytes('0x6f6dfc6d1e6948eb804c0ee932caa33fa330ab905993a05bba5c28f4f958d3e3'), 'transactionIndex': 1, 'type': '0x0'})\n",
      "\n",
      "Transaction Result:\n",
      "AttributeDict({'blockHash': HexBytes('0x5050c1402f9f3fa4960bf64b80d0e7f119069d1127b655e74a357020ff66435a'), 'blockNumber': 21157590, 'chainId': '0x1a4', 'from': '0x4e92B2A0376E14940417DE5c0Ca55AE613ca0351', 'gas': 157480, 'gasPrice': 1000252, 'hash': HexBytes('0x6f6dfc6d1e6948eb804c0ee932caa33fa330ab905993a05bba5c28f4f958d3e3'), 'input': '0x7096052c000000000000000000000000000000000000000000000000000000000000004000000000000000000000000000000000000000000000000000000000000001a0000000000000000000000000000000000000000000000000000000000000000100000000000000000000000000000000000000000000000000000000000000200000000000000000000000000000000000000000000000000000000065ca182c0000000000000000000000000000000000000000000000033217e30f9f26198e00000000000000000000000000000000000000000000000000000000000000000000000000000000000000007d05d5745499d8cc68fa4eb5dbd45df53e9c3f1f0000000000000000000000008c5ca79217dff95db4904ea2dd0620e4ebed3f4c00000000000000000000000000000000000000000000000000000000000000c00000000000000000000000000000000000000000000000000000000000000024ce834437000000000000000000000000733d42df64f742aa86b098d7c6e6646528e8eb05000000000000000000000000000000000000000000000000000000000000000000000000000000000000000000000000000000000000000000000001000000000000000000000000000000000000000000000000000000000000002000000000000000000000000000000000000000000000000000000000000000417dc0691c4b01792f48d6f90d2a8f364882ec2910a7710d0a6f46de2fcb0ee29f5cc64bd3636e4f05df8ea869c9131564948d3e759045d911c083fa4001edcb481c00000000000000000000000000000000000000000000000000000000000000', 'nonce': 63943, 'r': HexBytes('0x4551a1e956da90e15162e8fadc0048720c921c448d8bf86d5e2b80aae1edf9b7'), 's': HexBytes('0x0b096562c8eb454595d61a7e9f702ca4a4b9d41860fe21424080461215778293'), 'to': '0x7d05d5745499D8cc68FA4Eb5dbd45df53E9c3f1f', 'transactionIndex': 1, 'type': '0x0', 'v': 876, 'value': 0})\n",
      "\n",
      "Block Data:\n",
      "AttributeDict({'baseFeePerGas': 252, 'blobGasUsed': '0x0', 'difficulty': 0, 'excessBlobGas': '0x0', 'extraData': HexBytes('0x'), 'gasLimit': 50000000, 'gasUsed': 165376, 'hash': HexBytes('0x5050c1402f9f3fa4960bf64b80d0e7f119069d1127b655e74a357020ff66435a'), 'logsBloom': HexBytes('0x00000000000000000000000000000000000000000000000000000000000000000000000000000000000000000000000000000000000000000000000000000000000000000000000000000000000000000000000000000000000000000000000000000000000000000000000000000000000000000000000000000000000000000000000000000000000000000000000000000000000000000000000000000000000000000000000000000000000000000000000000000000000000000000000000000000000000000000000000000000000000000000000000000000000000000000000000000000000000000000000000000000000000000000000000000000'), 'miner': '0x4200000000000000000000000000000000000011', 'mixHash': HexBytes('0x6d55ecfe3662e4e0515062971330922bc5b063994592e51c89797e28c0df618f'), 'nonce': HexBytes('0x0000000000000000'), 'number': 21157590, 'parentBeaconBlockRoot': '0x0efb6c4de544e02a223706ae92a0185c3ec372f5e13281291b0eb702d701926c', 'parentHash': HexBytes('0x45e9f8466053f3365235f2942df2397ebe283e7b221157def09ea8a90e1b1699'), 'receiptsRoot': HexBytes('0xe8431fee40185fb8deafd118d0c83d44397809f2ca6c496642c10dd87abb4179'), 'sha3Uncles': HexBytes('0x1dcc4de8dec75d7aab85b567b6ccd41ad312451b948a7413f0a142fd40d49347'), 'size': 1562, 'stateRoot': HexBytes('0x125f874f63f01267277cb529abca7a8f2662048f680da7145d89a2787ad65d70'), 'timestamp': 1707743248, 'totalDifficulty': 0, 'transactions': [HexBytes('0xc7ca2792688883b59a4f0322ecdf8296094a41aada97ae229997c2689f91d13f'), HexBytes('0x6f6dfc6d1e6948eb804c0ee932caa33fa330ab905993a05bba5c28f4f958d3e3')], 'transactionsRoot': HexBytes('0x04eb76ebdf784e99254e9c9a802b5746ddbe9dc0a6c9faa4e02cca6d4faa6b2b'), 'uncles': [], 'withdrawals': [], 'withdrawalsRoot': '0x56e81f171bcc55a6ff8345e692c0f86e5b48e01b996cadc001622fb5e363b421'})\n",
      "\n",
      "\n"
     ]
    }
   ],
   "source": [
    "for c in configs:\n",
    "        chain = c[0]\n",
    "        print('-------' + chain + '-------')\n",
    "        uri = c[1]\n",
    "        api = os.environ.get('ALCHEMY_OP_API_KEY')\n",
    "        # Connect to a local Ethereum node\n",
    "        web3 = Web3(Web3.HTTPProvider(uri))\n",
    "\n",
    "        # Specify the transaction hash\n",
    "        transaction_hash = c[2]\n",
    "\n",
    "        # Get the transaction receipt\n",
    "        receipt = web3.eth.getTransactionReceipt(transaction_hash)\n",
    "        print(\"Transaction Receipt:\")\n",
    "        print(receipt)\n",
    "\n",
    "        # Get the transaction result\n",
    "        transaction = web3.eth.getTransaction(transaction_hash)\n",
    "        print(\"\\nTransaction Result:\")\n",
    "        print(transaction)\n",
    "\n",
    "        # Get the block number from the transaction receipt\n",
    "        block_number = receipt['blockNumber']\n",
    "        # print(\"\\nBlock Number:\")\n",
    "        # print(block_number)\n",
    "        \n",
    "        if chain == 'optimism-legacy': # Legacy Optimism returned null for block data\n",
    "                web3.middleware_onion.inject(geth_poa_middleware, layer=0)\n",
    "                block = web3.eth.getBlock(block_number, full_transactions=False)\n",
    "        else:\n",
    "                block = web3.eth.getBlock(block_number, full_transactions=False)\n",
    "\n",
    "        print(\"\\nBlock Data:\")\n",
    "        print(block)\n",
    "\n",
    "        gas_price = transaction['gasPrice']\n",
    "        try:\n",
    "                base_fee = block['baseFeePerGas']\n",
    "        except:\n",
    "                base_fee = 0.001\n",
    "\n",
    "        tip = gas_price - base_fee\n",
    "\n",
    "        print('\\n')\n",
    "        # Print\n",
    "\n",
    "        # print('gas price: ' + str(gas_price/1e9))\n",
    "        # print('base fee: ' + str(base_fee/1e9))\n",
    "        # print('tip: ' + str(tip/1e9))\n"
   ]
  }
 ],
 "metadata": {
  "kernelspec": {
   "display_name": "new-env",
   "language": "python",
   "name": "python3"
  },
  "language_info": {
   "codemirror_mode": {
    "name": "ipython",
    "version": 3
   },
   "file_extension": ".py",
   "mimetype": "text/x-python",
   "name": "python",
   "nbconvert_exporter": "python",
   "pygments_lexer": "ipython3",
   "version": "3.10.8"
  },
  "orig_nbformat": 4
 },
 "nbformat": 4,
 "nbformat_minor": 2
}
