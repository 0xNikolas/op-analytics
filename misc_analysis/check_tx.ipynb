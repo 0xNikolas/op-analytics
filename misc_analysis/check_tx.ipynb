{
 "cells": [
  {
   "cell_type": "code",
   "execution_count": 1,
   "metadata": {},
   "outputs": [],
   "source": [
    "# NOTE: This uses a modified ethereum-etl here: https://github.com/MSilb7/optimism-etl\n",
    "\n",
    "import sys\n",
    "import json\n",
    "from web3 import Web3\n",
    "from web3.middleware import geth_poa_middleware\n",
    "sys.path.append(\"../helper_functions\")\n",
    "import ethereumetl_utils as eetl\n",
    "import web3py_utils as wpy\n",
    "import pandas_utils as pu\n",
    "import evm_utils as evm\n",
    "sys.path.pop()\n",
    "\n",
    "import pandas as pd\n",
    "from dotenv import load_dotenv\n",
    "import requests\n",
    "import datetime\n",
    "load_dotenv()\n",
    "import os\n",
    "\n",
    "configs = [\n",
    "        #  ['ethereum',os.environ.get('ETHEREUM_NODE'),'0x2bd9c2576fd499909a96965318a176c5d2d0edd2c7be2f481305c55dc5327bad']\n",
    "          ['optimism-goerli-ecotone-user-tx',os.environ.get('OP_GOERLI'),'0x6f6dfc6d1e6948eb804c0ee932caa33fa330ab905993a05bba5c28f4f958d3e3']\n",
    "          ,['optimism-goerli-ecotone-system-tx',os.environ.get('OP_GOERLI'),'0xc7ca2792688883b59a4f0322ecdf8296094a41aada97ae229997c2689f91d13f']\n",
    "          # ,['optimism-legacy',os.environ.get('OP_NODE'),'0xf659ca817904644883c4180c68ca470ffda9d1bb6f3003e5be7feb8580d1f0c0']\n",
    "]"
   ]
  },
  {
   "cell_type": "code",
   "execution_count": 2,
   "metadata": {},
   "outputs": [
    {
     "name": "stdout",
     "output_type": "stream",
     "text": [
      "-------optimism-goerli-ecotone-user-tx-------\n",
      "Transaction Receipt:\n",
      "AttributeDict({'blockHash': HexBytes('0x5050c1402f9f3fa4960bf64b80d0e7f119069d1127b655e74a357020ff66435a'), 'blockNumber': 21157590, 'contractAddress': None, 'cumulativeGasUsed': 165376, 'effectiveGasPrice': 1000252, 'from': '0x4e92B2A0376E14940417DE5c0Ca55AE613ca0351', 'gasUsed': 121537, 'l1Fee': '0x53ada8fe144', 'l1GasPrice': '0x7', 'l1GasUsed': '0x1794', 'logs': [], 'logsBloom': HexBytes('0x00000000000000000000000000000000000000000000000000000000000000000000000000000000000000000000000000000000000000000000000000000000000000000000000000000000000000000000000000000000000000000000000000000000000000000000000000000000000000000000000000000000000000000000000000000000000000000000000000000000000000000000000000000000000000000000000000000000000000000000000000000000000000000000000000000000000000000000000000000000000000000000000000000000000000000000000000000000000000000000000000000000000000000000000000000000'), 'status': 1, 'to': '0x7d05d5745499D8cc68FA4Eb5dbd45df53E9c3f1f', 'transactionHash': HexBytes('0x6f6dfc6d1e6948eb804c0ee932caa33fa330ab905993a05bba5c28f4f958d3e3'), 'transactionIndex': 1, 'type': '0x0'})\n",
      "\n",
      "Transaction Result:\n",
      "AttributeDict({'blockHash': HexBytes('0x5050c1402f9f3fa4960bf64b80d0e7f119069d1127b655e74a357020ff66435a'), 'blockNumber': 21157590, 'chainId': '0x1a4', 'from': '0x4e92B2A0376E14940417DE5c0Ca55AE613ca0351', 'gas': 157480, 'gasPrice': 1000252, 'hash': HexBytes('0x6f6dfc6d1e6948eb804c0ee932caa33fa330ab905993a05bba5c28f4f958d3e3'), 'input': '0x7096052c000000000000000000000000000000000000000000000000000000000000004000000000000000000000000000000000000000000000000000000000000001a0000000000000000000000000000000000000000000000000000000000000000100000000000000000000000000000000000000000000000000000000000000200000000000000000000000000000000000000000000000000000000065ca182c0000000000000000000000000000000000000000000000033217e30f9f26198e00000000000000000000000000000000000000000000000000000000000000000000000000000000000000007d05d5745499d8cc68fa4eb5dbd45df53e9c3f1f0000000000000000000000008c5ca79217dff95db4904ea2dd0620e4ebed3f4c00000000000000000000000000000000000000000000000000000000000000c00000000000000000000000000000000000000000000000000000000000000024ce834437000000000000000000000000733d42df64f742aa86b098d7c6e6646528e8eb05000000000000000000000000000000000000000000000000000000000000000000000000000000000000000000000000000000000000000000000001000000000000000000000000000000000000000000000000000000000000002000000000000000000000000000000000000000000000000000000000000000417dc0691c4b01792f48d6f90d2a8f364882ec2910a7710d0a6f46de2fcb0ee29f5cc64bd3636e4f05df8ea869c9131564948d3e759045d911c083fa4001edcb481c00000000000000000000000000000000000000000000000000000000000000', 'nonce': 63943, 'r': HexBytes('0x4551a1e956da90e15162e8fadc0048720c921c448d8bf86d5e2b80aae1edf9b7'), 's': HexBytes('0x0b096562c8eb454595d61a7e9f702ca4a4b9d41860fe21424080461215778293'), 'to': '0x7d05d5745499D8cc68FA4Eb5dbd45df53E9c3f1f', 'transactionIndex': 1, 'type': '0x0', 'v': 876, 'value': 0})\n",
      "\n",
      "Block Data:\n",
      "AttributeDict({'baseFeePerGas': 252, 'blobGasUsed': '0x0', 'difficulty': 0, 'excessBlobGas': '0x0', 'extraData': HexBytes('0x'), 'gasLimit': 50000000, 'gasUsed': 165376, 'hash': HexBytes('0x5050c1402f9f3fa4960bf64b80d0e7f119069d1127b655e74a357020ff66435a'), 'logsBloom': HexBytes('0x00000000000000000000000000000000000000000000000000000000000000000000000000000000000000000000000000000000000000000000000000000000000000000000000000000000000000000000000000000000000000000000000000000000000000000000000000000000000000000000000000000000000000000000000000000000000000000000000000000000000000000000000000000000000000000000000000000000000000000000000000000000000000000000000000000000000000000000000000000000000000000000000000000000000000000000000000000000000000000000000000000000000000000000000000000000'), 'miner': '0x4200000000000000000000000000000000000011', 'mixHash': HexBytes('0x6d55ecfe3662e4e0515062971330922bc5b063994592e51c89797e28c0df618f'), 'nonce': HexBytes('0x0000000000000000'), 'number': 21157590, 'parentBeaconBlockRoot': '0x0efb6c4de544e02a223706ae92a0185c3ec372f5e13281291b0eb702d701926c', 'parentHash': HexBytes('0x45e9f8466053f3365235f2942df2397ebe283e7b221157def09ea8a90e1b1699'), 'receiptsRoot': HexBytes('0xe8431fee40185fb8deafd118d0c83d44397809f2ca6c496642c10dd87abb4179'), 'sha3Uncles': HexBytes('0x1dcc4de8dec75d7aab85b567b6ccd41ad312451b948a7413f0a142fd40d49347'), 'size': 1562, 'stateRoot': HexBytes('0x125f874f63f01267277cb529abca7a8f2662048f680da7145d89a2787ad65d70'), 'timestamp': 1707743248, 'totalDifficulty': 0, 'transactions': [HexBytes('0xc7ca2792688883b59a4f0322ecdf8296094a41aada97ae229997c2689f91d13f'), HexBytes('0x6f6dfc6d1e6948eb804c0ee932caa33fa330ab905993a05bba5c28f4f958d3e3')], 'transactionsRoot': HexBytes('0x04eb76ebdf784e99254e9c9a802b5746ddbe9dc0a6c9faa4e02cca6d4faa6b2b'), 'uncles': [], 'withdrawals': [], 'withdrawalsRoot': '0x56e81f171bcc55a6ff8345e692c0f86e5b48e01b996cadc001622fb5e363b421'})\n",
      "\n",
      "\n",
      "-------optimism-goerli-ecotone-system-tx-------\n",
      "Transaction Receipt:\n",
      "AttributeDict({'blockHash': HexBytes('0x5050c1402f9f3fa4960bf64b80d0e7f119069d1127b655e74a357020ff66435a'), 'blockNumber': 21157590, 'contractAddress': None, 'cumulativeGasUsed': 43839, 'depositNonce': '0x104deae', 'depositReceiptVersion': '0x1', 'effectiveGasPrice': 0, 'from': '0xDeaDDEaDDeAdDeAdDEAdDEaddeAddEAdDEAd0001', 'gasUsed': 43839, 'logs': [], 'logsBloom': HexBytes('0x00000000000000000000000000000000000000000000000000000000000000000000000000000000000000000000000000000000000000000000000000000000000000000000000000000000000000000000000000000000000000000000000000000000000000000000000000000000000000000000000000000000000000000000000000000000000000000000000000000000000000000000000000000000000000000000000000000000000000000000000000000000000000000000000000000000000000000000000000000000000000000000000000000000000000000000000000000000000000000000000000000000000000000000000000000000'), 'status': 1, 'to': '0x4200000000000000000000000000000000000015', 'transactionHash': HexBytes('0xc7ca2792688883b59a4f0322ecdf8296094a41aada97ae229997c2689f91d13f'), 'transactionIndex': 0, 'type': '0x7e'})\n",
      "\n",
      "Transaction Result:\n",
      "AttributeDict({'blockHash': HexBytes('0x5050c1402f9f3fa4960bf64b80d0e7f119069d1127b655e74a357020ff66435a'), 'blockNumber': 21157590, 'depositReceiptVersion': '0x1', 'from': '0xDeaDDEaDDeAdDeAdDEAdDEaddeAddEAdDEAd0001', 'gas': 1000000, 'gasPrice': 0, 'hash': HexBytes('0xc7ca2792688883b59a4f0322ecdf8296094a41aada97ae229997c2689f91d13f'), 'input': '0x440a5e2000001db0000d273000000000000000020000000065ca17ac0000000000a09c0b0000000000000000000000000000000000000000000000000000000000000007000000000000000000000000000000000000000000000000000000041dfd80f247f1b772b03ecd0b9c9aa965d24b260d93c439cee6512d23edd9e1ddf1cac0a90000000000000000000000007431310e026b69bfc676c0013e12a1a11411eec9', 'mint': '0x0', 'nonce': 17096366, 'r': HexBytes('0x00'), 's': HexBytes('0x00'), 'sourceHash': '0x51b58bd891229ae7bdf868a68a90a4fbfc64ea68077a2b114decb0206374fd2b', 'to': '0x4200000000000000000000000000000000000015', 'transactionIndex': 0, 'type': '0x7e', 'v': 0, 'value': 0})\n",
      "\n",
      "Block Data:\n",
      "AttributeDict({'baseFeePerGas': 252, 'blobGasUsed': '0x0', 'difficulty': 0, 'excessBlobGas': '0x0', 'extraData': HexBytes('0x'), 'gasLimit': 50000000, 'gasUsed': 165376, 'hash': HexBytes('0x5050c1402f9f3fa4960bf64b80d0e7f119069d1127b655e74a357020ff66435a'), 'logsBloom': HexBytes('0x00000000000000000000000000000000000000000000000000000000000000000000000000000000000000000000000000000000000000000000000000000000000000000000000000000000000000000000000000000000000000000000000000000000000000000000000000000000000000000000000000000000000000000000000000000000000000000000000000000000000000000000000000000000000000000000000000000000000000000000000000000000000000000000000000000000000000000000000000000000000000000000000000000000000000000000000000000000000000000000000000000000000000000000000000000000'), 'miner': '0x4200000000000000000000000000000000000011', 'mixHash': HexBytes('0x6d55ecfe3662e4e0515062971330922bc5b063994592e51c89797e28c0df618f'), 'nonce': HexBytes('0x0000000000000000'), 'number': 21157590, 'parentBeaconBlockRoot': '0x0efb6c4de544e02a223706ae92a0185c3ec372f5e13281291b0eb702d701926c', 'parentHash': HexBytes('0x45e9f8466053f3365235f2942df2397ebe283e7b221157def09ea8a90e1b1699'), 'receiptsRoot': HexBytes('0xe8431fee40185fb8deafd118d0c83d44397809f2ca6c496642c10dd87abb4179'), 'sha3Uncles': HexBytes('0x1dcc4de8dec75d7aab85b567b6ccd41ad312451b948a7413f0a142fd40d49347'), 'size': 1562, 'stateRoot': HexBytes('0x125f874f63f01267277cb529abca7a8f2662048f680da7145d89a2787ad65d70'), 'timestamp': 1707743248, 'totalDifficulty': 0, 'transactions': [HexBytes('0xc7ca2792688883b59a4f0322ecdf8296094a41aada97ae229997c2689f91d13f'), HexBytes('0x6f6dfc6d1e6948eb804c0ee932caa33fa330ab905993a05bba5c28f4f958d3e3')], 'transactionsRoot': HexBytes('0x04eb76ebdf784e99254e9c9a802b5746ddbe9dc0a6c9faa4e02cca6d4faa6b2b'), 'uncles': [], 'withdrawals': [], 'withdrawalsRoot': '0x56e81f171bcc55a6ff8345e692c0f86e5b48e01b996cadc001622fb5e363b421'})\n",
      "\n",
      "\n"
     ]
    }
   ],
   "source": [
    "for c in configs:\n",
    "        chain = c[0]\n",
    "        print('-------' + chain + '-------')\n",
    "        uri = c[1]\n",
    "        # api = os.environ.get('ALCHEMY_OP_API_KEY')\n",
    "        # Connect to a local Ethereum node\n",
    "        web3 = Web3(Web3.HTTPProvider(uri))\n",
    "\n",
    "        # Specify the transaction hash\n",
    "        transaction_hash = c[2]\n",
    "\n",
    "        # Get the transaction receipt\n",
    "        receipt = web3.eth.get_transaction_receipt(transaction_hash)\n",
    "        print(\"Transaction Receipt:\")\n",
    "        print(receipt)\n",
    "\n",
    "        # Get the transaction result\n",
    "        transaction = web3.eth.get_transaction(transaction_hash)\n",
    "        print(\"\\nTransaction Result:\")\n",
    "        print(transaction)\n",
    "\n",
    "        # Get the block number from the transaction receipt\n",
    "        block_number = receipt['blockNumber']\n",
    "        # print(\"\\nBlock Number:\")\n",
    "        # print(block_number)\n",
    "        \n",
    "        if chain == 'optimism-legacy': # Legacy Optimism returned null for block data\n",
    "                web3.middleware_onion.inject(geth_poa_middleware, layer=0)\n",
    "                block = web3.eth.get_block(block_number, full_transactions=False)\n",
    "        else:\n",
    "                block = web3.eth.get_block(block_number, full_transactions=False)\n",
    "\n",
    "        print(\"\\nBlock Data:\")\n",
    "        print(block)\n",
    "\n",
    "        gas_price = transaction['gasPrice']\n",
    "        try:\n",
    "                base_fee = block['baseFeePerGas']\n",
    "        except:\n",
    "                base_fee = 0.001\n",
    "\n",
    "        tip = gas_price - base_fee\n",
    "\n",
    "        print('\\n')\n",
    "        # Print\n",
    "\n",
    "        # print('gas price: ' + str(gas_price/1e9))\n",
    "        # print('base fee: ' + str(base_fee/1e9))\n",
    "        # print('tip: ' + str(tip/1e9))\n"
   ]
  },
  {
   "cell_type": "code",
   "execution_count": 3,
   "metadata": {},
   "outputs": [
    {
     "name": "stdout",
     "output_type": "stream",
     "text": [
      "0x440a5e2000001db0000d273000000000000000020000000065ca17ac0000000000a09c0b0000000000000000000000000000000000000000000000000000000000000007000000000000000000000000000000000000000000000000000000041dfd80f247f1b772b03ecd0b9c9aa965d24b260d93c439cee6512d23edd9e1ddf1cac0a90000000000000000000000007431310e026b69bfc676c0013e12a1a11411eec9\n"
     ]
    },
    {
     "ename": "ValueError",
     "evalue": "Could not find any function with matching selector",
     "output_type": "error",
     "traceback": [
      "\u001b[0;31m---------------------------------------------------------------------------\u001b[0m",
      "\u001b[0;31mValueError\u001b[0m                                Traceback (most recent call last)",
      "Cell \u001b[0;32mIn[3], line 18\u001b[0m\n\u001b[1;32m     16\u001b[0m \u001b[38;5;28mprint\u001b[39m(transaction_input)\n\u001b[1;32m     17\u001b[0m \u001b[38;5;66;03m# Decode the transaction input\u001b[39;00m\n\u001b[0;32m---> 18\u001b[0m decoded_input \u001b[38;5;241m=\u001b[39m \u001b[43mcontract\u001b[49m\u001b[38;5;241;43m.\u001b[39;49m\u001b[43mdecode_function_input\u001b[49m\u001b[43m(\u001b[49m\u001b[43mtransaction_input\u001b[49m\u001b[43m)\u001b[49m\n\u001b[1;32m     20\u001b[0m \u001b[38;5;28mprint\u001b[39m(decoded_input)\n",
      "File \u001b[0;32m~/opt/anaconda3/envs/py10/lib/python3.10/site-packages/eth_utils/decorators.py:18\u001b[0m, in \u001b[0;36mcombomethod.__get__.<locals>._wrapper\u001b[0;34m(*args, **kwargs)\u001b[0m\n\u001b[1;32m     15\u001b[0m \u001b[38;5;129m@functools\u001b[39m\u001b[38;5;241m.\u001b[39mwraps(\u001b[38;5;28mself\u001b[39m\u001b[38;5;241m.\u001b[39mmethod)\n\u001b[1;32m     16\u001b[0m \u001b[38;5;28;01mdef\u001b[39;00m \u001b[38;5;21m_wrapper\u001b[39m(\u001b[38;5;241m*\u001b[39margs: Any, \u001b[38;5;241m*\u001b[39m\u001b[38;5;241m*\u001b[39mkwargs: Any) \u001b[38;5;241m-\u001b[39m\u001b[38;5;241m>\u001b[39m Any:\n\u001b[1;32m     17\u001b[0m     \u001b[38;5;28;01mif\u001b[39;00m obj \u001b[38;5;129;01mis\u001b[39;00m \u001b[38;5;129;01mnot\u001b[39;00m \u001b[38;5;28;01mNone\u001b[39;00m:\n\u001b[0;32m---> 18\u001b[0m         \u001b[38;5;28;01mreturn\u001b[39;00m \u001b[38;5;28;43mself\u001b[39;49m\u001b[38;5;241;43m.\u001b[39;49m\u001b[43mmethod\u001b[49m\u001b[43m(\u001b[49m\u001b[43mobj\u001b[49m\u001b[43m,\u001b[49m\u001b[43m \u001b[49m\u001b[38;5;241;43m*\u001b[39;49m\u001b[43margs\u001b[49m\u001b[43m,\u001b[49m\u001b[43m \u001b[49m\u001b[38;5;241;43m*\u001b[39;49m\u001b[38;5;241;43m*\u001b[39;49m\u001b[43mkwargs\u001b[49m\u001b[43m)\u001b[49m\n\u001b[1;32m     19\u001b[0m     \u001b[38;5;28;01melse\u001b[39;00m:\n\u001b[1;32m     20\u001b[0m         \u001b[38;5;28;01mreturn\u001b[39;00m \u001b[38;5;28mself\u001b[39m\u001b[38;5;241m.\u001b[39mmethod(objtype, \u001b[38;5;241m*\u001b[39margs, \u001b[38;5;241m*\u001b[39m\u001b[38;5;241m*\u001b[39mkwargs)\n",
      "File \u001b[0;32m~/opt/anaconda3/envs/py10/lib/python3.10/site-packages/web3/contract.py:466\u001b[0m, in \u001b[0;36mContract.decode_function_input\u001b[0;34m(self, data)\u001b[0m\n\u001b[1;32m    464\u001b[0m data \u001b[38;5;241m=\u001b[39m HexBytes(data)  \u001b[38;5;66;03m# type: ignore\u001b[39;00m\n\u001b[1;32m    465\u001b[0m selector, params \u001b[38;5;241m=\u001b[39m data[:\u001b[38;5;241m4\u001b[39m], data[\u001b[38;5;241m4\u001b[39m:]\n\u001b[0;32m--> 466\u001b[0m func \u001b[38;5;241m=\u001b[39m \u001b[38;5;28;43mself\u001b[39;49m\u001b[38;5;241;43m.\u001b[39;49m\u001b[43mget_function_by_selector\u001b[49m\u001b[43m(\u001b[49m\u001b[43mselector\u001b[49m\u001b[43m)\u001b[49m\n\u001b[1;32m    468\u001b[0m names \u001b[38;5;241m=\u001b[39m get_abi_input_names(func\u001b[38;5;241m.\u001b[39mabi)\n\u001b[1;32m    469\u001b[0m types \u001b[38;5;241m=\u001b[39m get_abi_input_types(func\u001b[38;5;241m.\u001b[39mabi)\n",
      "File \u001b[0;32m~/opt/anaconda3/envs/py10/lib/python3.10/site-packages/eth_utils/decorators.py:18\u001b[0m, in \u001b[0;36mcombomethod.__get__.<locals>._wrapper\u001b[0;34m(*args, **kwargs)\u001b[0m\n\u001b[1;32m     15\u001b[0m \u001b[38;5;129m@functools\u001b[39m\u001b[38;5;241m.\u001b[39mwraps(\u001b[38;5;28mself\u001b[39m\u001b[38;5;241m.\u001b[39mmethod)\n\u001b[1;32m     16\u001b[0m \u001b[38;5;28;01mdef\u001b[39;00m \u001b[38;5;21m_wrapper\u001b[39m(\u001b[38;5;241m*\u001b[39margs: Any, \u001b[38;5;241m*\u001b[39m\u001b[38;5;241m*\u001b[39mkwargs: Any) \u001b[38;5;241m-\u001b[39m\u001b[38;5;241m>\u001b[39m Any:\n\u001b[1;32m     17\u001b[0m     \u001b[38;5;28;01mif\u001b[39;00m obj \u001b[38;5;129;01mis\u001b[39;00m \u001b[38;5;129;01mnot\u001b[39;00m \u001b[38;5;28;01mNone\u001b[39;00m:\n\u001b[0;32m---> 18\u001b[0m         \u001b[38;5;28;01mreturn\u001b[39;00m \u001b[38;5;28;43mself\u001b[39;49m\u001b[38;5;241;43m.\u001b[39;49m\u001b[43mmethod\u001b[49m\u001b[43m(\u001b[49m\u001b[43mobj\u001b[49m\u001b[43m,\u001b[49m\u001b[43m \u001b[49m\u001b[38;5;241;43m*\u001b[39;49m\u001b[43margs\u001b[49m\u001b[43m,\u001b[49m\u001b[43m \u001b[49m\u001b[38;5;241;43m*\u001b[39;49m\u001b[38;5;241;43m*\u001b[39;49m\u001b[43mkwargs\u001b[49m\u001b[43m)\u001b[49m\n\u001b[1;32m     19\u001b[0m     \u001b[38;5;28;01melse\u001b[39;00m:\n\u001b[1;32m     20\u001b[0m         \u001b[38;5;28;01mreturn\u001b[39;00m \u001b[38;5;28mself\u001b[39m\u001b[38;5;241m.\u001b[39mmethod(objtype, \u001b[38;5;241m*\u001b[39margs, \u001b[38;5;241m*\u001b[39m\u001b[38;5;241m*\u001b[39mkwargs)\n",
      "File \u001b[0;32m~/opt/anaconda3/envs/py10/lib/python3.10/site-packages/web3/contract.py:459\u001b[0m, in \u001b[0;36mContract.get_function_by_selector\u001b[0;34m(self, selector)\u001b[0m\n\u001b[1;32m    456\u001b[0m     \u001b[38;5;28;01mreturn\u001b[39;00m encode_hex(function_abi_to_4byte_selector(fn_abi)) \u001b[38;5;241m==\u001b[39m to_4byte_hex(selector)  \u001b[38;5;66;03m# type: ignore # noqa: E501\u001b[39;00m\n\u001b[1;32m    458\u001b[0m fns \u001b[38;5;241m=\u001b[39m find_functions_by_identifier(\u001b[38;5;28mself\u001b[39m\u001b[38;5;241m.\u001b[39mabi, \u001b[38;5;28mself\u001b[39m\u001b[38;5;241m.\u001b[39mweb3, \u001b[38;5;28mself\u001b[39m\u001b[38;5;241m.\u001b[39maddress, callable_check)\n\u001b[0;32m--> 459\u001b[0m \u001b[38;5;28;01mreturn\u001b[39;00m \u001b[43mget_function_by_identifier\u001b[49m\u001b[43m(\u001b[49m\u001b[43mfns\u001b[49m\u001b[43m,\u001b[49m\u001b[43m \u001b[49m\u001b[38;5;124;43m'\u001b[39;49m\u001b[38;5;124;43mselector\u001b[39;49m\u001b[38;5;124;43m'\u001b[39;49m\u001b[43m)\u001b[49m\n",
      "File \u001b[0;32m~/opt/anaconda3/envs/py10/lib/python3.10/site-packages/web3/contract.py:1743\u001b[0m, in \u001b[0;36mget_function_by_identifier\u001b[0;34m(fns, identifier)\u001b[0m\n\u001b[1;32m   1738\u001b[0m     \u001b[38;5;28;01mraise\u001b[39;00m \u001b[38;5;167;01mValueError\u001b[39;00m(\n\u001b[1;32m   1739\u001b[0m         \u001b[38;5;124m'\u001b[39m\u001b[38;5;124mFound multiple functions with matching \u001b[39m\u001b[38;5;132;01m{0}\u001b[39;00m\u001b[38;5;124m. \u001b[39m\u001b[38;5;124m'\u001b[39m\n\u001b[1;32m   1740\u001b[0m         \u001b[38;5;124m'\u001b[39m\u001b[38;5;124mFound: \u001b[39m\u001b[38;5;132;01m{1!r}\u001b[39;00m\u001b[38;5;124m'\u001b[39m\u001b[38;5;241m.\u001b[39mformat(identifier, fns)\n\u001b[1;32m   1741\u001b[0m     )\n\u001b[1;32m   1742\u001b[0m \u001b[38;5;28;01melif\u001b[39;00m \u001b[38;5;28mlen\u001b[39m(fns) \u001b[38;5;241m==\u001b[39m \u001b[38;5;241m0\u001b[39m:\n\u001b[0;32m-> 1743\u001b[0m     \u001b[38;5;28;01mraise\u001b[39;00m \u001b[38;5;167;01mValueError\u001b[39;00m(\n\u001b[1;32m   1744\u001b[0m         \u001b[38;5;124m'\u001b[39m\u001b[38;5;124mCould not find any function with matching \u001b[39m\u001b[38;5;132;01m{0}\u001b[39;00m\u001b[38;5;124m'\u001b[39m\u001b[38;5;241m.\u001b[39mformat(identifier)\n\u001b[1;32m   1745\u001b[0m     )\n\u001b[1;32m   1746\u001b[0m \u001b[38;5;28;01mreturn\u001b[39;00m fns[\u001b[38;5;241m0\u001b[39m]\n",
      "\u001b[0;31mValueError\u001b[0m: Could not find any function with matching selector"
     ]
    }
   ],
   "source": [
    "# Decode Attributes Deposited ABI\n",
    "# The implementation contract address\n",
    "contract_address = \"0x6dF83A19647A398d48e77a6835F4A28EB7e2f7c0\"\n",
    "# Load the ABI from the local file\n",
    "with open(\"inputs/op_attributes_deposited_abi_implementation.txt\", \"r\") as abi_file:\n",
    "    contract_abi = json.load(abi_file)\n",
    "    \n",
    "# Initialize the contract using the proxy address and ABI\n",
    "contract = web3.eth.contract(address=contract_address, abi=contract_abi)\n",
    "# Example transaction input data (you'll replace this with the actual input data)\n",
    "transaction_system = ''\n",
    "for c in configs:\n",
    "    if c[0] == 'optimism-goerli-ecotone-system-tx':\n",
    "        transaction_system = web3.eth.get_transaction(transaction_hash)\n",
    "transaction_input = transaction_system['input']\n",
    "print(transaction_input)\n",
    "# Decode the transaction input\n",
    "decoded_input = contract.decode_function_input(transaction_input)\n",
    "\n",
    "print(decoded_input)"
   ]
  }
 ],
 "metadata": {
  "kernelspec": {
   "display_name": "new-env",
   "language": "python",
   "name": "python3"
  },
  "language_info": {
   "codemirror_mode": {
    "name": "ipython",
    "version": 3
   },
   "file_extension": ".py",
   "mimetype": "text/x-python",
   "name": "python",
   "nbconvert_exporter": "python",
   "pygments_lexer": "ipython3",
   "version": "3.10.8"
  },
  "orig_nbformat": 4
 },
 "nbformat": 4,
 "nbformat_minor": 2
}
