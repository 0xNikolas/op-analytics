{
 "cells": [
  {
   "cell_type": "code",
   "execution_count": 1,
   "metadata": {},
   "outputs": [],
   "source": [
    "# NOTE: This uses a modified ethereum-etl here: https://github.com/MSilb7/optimism-etl\n",
    "\n",
    "import sys\n",
    "import json\n",
    "from web3 import Web3\n",
    "from web3.middleware import geth_poa_middleware\n",
    "sys.path.append(\"../helper_functions\")\n",
    "import ethereumetl_utils as eetl\n",
    "import web3py_utils as wpy\n",
    "import pandas_utils as pu\n",
    "import evm_utils as evm\n",
    "sys.path.pop()\n",
    "\n",
    "import pandas as pd\n",
    "from dotenv import load_dotenv\n",
    "import requests\n",
    "import datetime\n",
    "load_dotenv()\n",
    "import os\n",
    "\n",
    "configs = [\n",
    "        #  ['ethereum',os.environ.get('ETHEREUM_NODE'),'0x2bd9c2576fd499909a96965318a176c5d2d0edd2c7be2f481305c55dc5327bad']\n",
    "          ['optimism-goerli-ecotone',os.environ.get('OP_GOERLI'),'0x6f6dfc6d1e6948eb804c0ee932caa33fa330ab905993a05bba5c28f4f958d3e3']\n",
    "          # ,['optimism-legacy',os.environ.get('OP_NODE'),'0xf659ca817904644883c4180c68ca470ffda9d1bb6f3003e5be7feb8580d1f0c0']\n",
    "]"
   ]
  },
  {
   "cell_type": "code",
   "execution_count": 2,
   "metadata": {},
   "outputs": [
    {
     "name": "stdout",
     "output_type": "stream",
     "text": [
      "-------optimism-goerli-ecotone-------\n",
      "Transaction Receipt:\n",
      "AttributeDict({'blockHash': HexBytes('0x5050c1402f9f3fa4960bf64b80d0e7f119069d1127b655e74a357020ff66435a'), 'blockNumber': 21157590, 'contractAddress': None, 'cumulativeGasUsed': 165376, 'effectiveGasPrice': 1000252, 'from': '0x4e92B2A0376E14940417DE5c0Ca55AE613ca0351', 'gasUsed': 121537, 'l1Fee': '0x53ada8fe144', 'l1GasPrice': '0x7', 'l1GasUsed': '0x1794', 'logs': [], 'logsBloom': HexBytes('0x00000000000000000000000000000000000000000000000000000000000000000000000000000000000000000000000000000000000000000000000000000000000000000000000000000000000000000000000000000000000000000000000000000000000000000000000000000000000000000000000000000000000000000000000000000000000000000000000000000000000000000000000000000000000000000000000000000000000000000000000000000000000000000000000000000000000000000000000000000000000000000000000000000000000000000000000000000000000000000000000000000000000000000000000000000000'), 'status': 1, 'to': '0x7d05d5745499D8cc68FA4Eb5dbd45df53E9c3f1f', 'transactionHash': HexBytes('0x6f6dfc6d1e6948eb804c0ee932caa33fa330ab905993a05bba5c28f4f958d3e3'), 'transactionIndex': 1, 'type': 0})\n",
      "\n",
      "Transaction Result:\n",
      "AttributeDict({'blockHash': HexBytes('0x5050c1402f9f3fa4960bf64b80d0e7f119069d1127b655e74a357020ff66435a'), 'blockNumber': 21157590, 'from': '0x4e92B2A0376E14940417DE5c0Ca55AE613ca0351', 'gas': 157480, 'gasPrice': 1000252, 'hash': HexBytes('0x6f6dfc6d1e6948eb804c0ee932caa33fa330ab905993a05bba5c28f4f958d3e3'), 'input': HexBytes('0x7096052c000000000000000000000000000000000000000000000000000000000000004000000000000000000000000000000000000000000000000000000000000001a0000000000000000000000000000000000000000000000000000000000000000100000000000000000000000000000000000000000000000000000000000000200000000000000000000000000000000000000000000000000000000065ca182c0000000000000000000000000000000000000000000000033217e30f9f26198e00000000000000000000000000000000000000000000000000000000000000000000000000000000000000007d05d5745499d8cc68fa4eb5dbd45df53e9c3f1f0000000000000000000000008c5ca79217dff95db4904ea2dd0620e4ebed3f4c00000000000000000000000000000000000000000000000000000000000000c00000000000000000000000000000000000000000000000000000000000000024ce834437000000000000000000000000733d42df64f742aa86b098d7c6e6646528e8eb05000000000000000000000000000000000000000000000000000000000000000000000000000000000000000000000000000000000000000000000001000000000000000000000000000000000000000000000000000000000000002000000000000000000000000000000000000000000000000000000000000000417dc0691c4b01792f48d6f90d2a8f364882ec2910a7710d0a6f46de2fcb0ee29f5cc64bd3636e4f05df8ea869c9131564948d3e759045d911c083fa4001edcb481c00000000000000000000000000000000000000000000000000000000000000'), 'nonce': 63943, 'to': '0x7d05d5745499D8cc68FA4Eb5dbd45df53E9c3f1f', 'transactionIndex': 1, 'value': 0, 'type': 0, 'chainId': 420, 'v': 876, 'r': HexBytes('0x4551a1e956da90e15162e8fadc0048720c921c448d8bf86d5e2b80aae1edf9b7'), 's': HexBytes('0x0b096562c8eb454595d61a7e9f702ca4a4b9d41860fe21424080461215778293')})\n"
     ]
    },
    {
     "ename": "AttributeError",
     "evalue": "'Eth' object has no attribute 'getBlock'",
     "output_type": "error",
     "traceback": [
      "\u001b[0;31m---------------------------------------------------------------------------\u001b[0m",
      "\u001b[0;31mAttributeError\u001b[0m                            Traceback (most recent call last)",
      "Cell \u001b[0;32mIn[2], line 31\u001b[0m\n\u001b[1;32m     29\u001b[0m         block \u001b[38;5;241m=\u001b[39m web3\u001b[38;5;241m.\u001b[39meth\u001b[38;5;241m.\u001b[39mgetBlock(block_number, full_transactions\u001b[38;5;241m=\u001b[39m\u001b[38;5;28;01mFalse\u001b[39;00m)\n\u001b[1;32m     30\u001b[0m \u001b[38;5;28;01melse\u001b[39;00m:\n\u001b[0;32m---> 31\u001b[0m         block \u001b[38;5;241m=\u001b[39m \u001b[43mweb3\u001b[49m\u001b[38;5;241;43m.\u001b[39;49m\u001b[43meth\u001b[49m\u001b[38;5;241;43m.\u001b[39;49m\u001b[43mgetBlock\u001b[49m(block_number, full_transactions\u001b[38;5;241m=\u001b[39m\u001b[38;5;28;01mFalse\u001b[39;00m)\n\u001b[1;32m     33\u001b[0m \u001b[38;5;28mprint\u001b[39m(\u001b[38;5;124m\"\u001b[39m\u001b[38;5;130;01m\\n\u001b[39;00m\u001b[38;5;124mBlock Data:\u001b[39m\u001b[38;5;124m\"\u001b[39m)\n\u001b[1;32m     34\u001b[0m \u001b[38;5;28mprint\u001b[39m(block)\n",
      "\u001b[0;31mAttributeError\u001b[0m: 'Eth' object has no attribute 'getBlock'"
     ]
    }
   ],
   "source": [
    "for c in configs:\n",
    "        chain = c[0]\n",
    "        print('-------' + chain + '-------')\n",
    "        uri = c[1]\n",
    "        # api = os.environ.get('ALCHEMY_OP_API_KEY')\n",
    "        # Connect to a local Ethereum node\n",
    "        web3 = Web3(Web3.HTTPProvider(uri))\n",
    "\n",
    "        # Specify the transaction hash\n",
    "        transaction_hash = c[2]\n",
    "\n",
    "        # Get the transaction receipt\n",
    "        receipt = web3.eth.get_transaction_receipt(transaction_hash)\n",
    "        print(\"Transaction Receipt:\")\n",
    "        print(receipt)\n",
    "\n",
    "        # Get the transaction result\n",
    "        transaction = web3.eth.get_transaction(transaction_hash)\n",
    "        print(\"\\nTransaction Result:\")\n",
    "        print(transaction)\n",
    "\n",
    "        # Get the block number from the transaction receipt\n",
    "        block_number = receipt['blockNumber']\n",
    "        # print(\"\\nBlock Number:\")\n",
    "        # print(block_number)\n",
    "        \n",
    "        if chain == 'optimism-legacy': # Legacy Optimism returned null for block data\n",
    "                web3.middleware_onion.inject(geth_poa_middleware, layer=0)\n",
    "                block = web3.eth.get_block(block_number, full_transactions=False)\n",
    "        else:\n",
    "                block = web3.eth.get_block(block_number, full_transactions=False)\n",
    "\n",
    "        print(\"\\nBlock Data:\")\n",
    "        print(block)\n",
    "\n",
    "        gas_price = transaction['gasPrice']\n",
    "        try:\n",
    "                base_fee = block['baseFeePerGas']\n",
    "        except:\n",
    "                base_fee = 0.001\n",
    "\n",
    "        tip = gas_price - base_fee\n",
    "\n",
    "        print('\\n')\n",
    "        # Print\n",
    "\n",
    "        # print('gas price: ' + str(gas_price/1e9))\n",
    "        # print('base fee: ' + str(base_fee/1e9))\n",
    "        # print('tip: ' + str(tip/1e9))\n"
   ]
  }
 ],
 "metadata": {
  "kernelspec": {
   "display_name": "new-env",
   "language": "python",
   "name": "python3"
  },
  "language_info": {
   "codemirror_mode": {
    "name": "ipython",
    "version": 3
   },
   "file_extension": ".py",
   "mimetype": "text/x-python",
   "name": "python",
   "nbconvert_exporter": "python",
   "pygments_lexer": "ipython3",
   "version": "3.10.11"
  },
  "orig_nbformat": 4
 },
 "nbformat": 4,
 "nbformat_minor": 2
}
