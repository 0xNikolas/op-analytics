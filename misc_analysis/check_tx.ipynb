{
 "cells": [
  {
   "cell_type": "code",
   "execution_count": 1,
   "metadata": {},
   "outputs": [],
   "source": [
    "# NOTE: This uses a modified ethereum-etl here: https://github.com/MSilb7/optimism-etl\n",
    "\n",
    "import sys\n",
    "import json\n",
    "from web3 import Web3\n",
    "from web3.middleware import geth_poa_middleware\n",
    "sys.path.append(\"../helper_functions\")\n",
    "import ethereumetl_utils as eetl\n",
    "import web3py_utils as wpy\n",
    "import pandas_utils as pu\n",
    "import evm_utils as evm\n",
    "sys.path.pop()\n",
    "\n",
    "import pandas as pd\n",
    "from dotenv import load_dotenv\n",
    "import requests\n",
    "import datetime\n",
    "load_dotenv()\n",
    "import os\n",
    "\n",
    "configs = [\n",
    "        #  ['ethereum',os.environ.get('ETHEREUM_NODE'),'0x2bd9c2576fd499909a96965318a176c5d2d0edd2c7be2f481305c55dc5327bad']\n",
    "          # ['optimism-goerli-ecotone-user-tx',os.environ.get('OP_GOERLI'),'0x6f6dfc6d1e6948eb804c0ee932caa33fa330ab905993a05bba5c28f4f958d3e3']\n",
    "          # ,['optimism-goerli-ecotone-system-tx',os.environ.get('OP_GOERLI'),'0xc7ca2792688883b59a4f0322ecdf8296094a41aada97ae229997c2689f91d13f']\n",
    "          ['optimism-sepolia-ecotone-user-tx',os.environ.get('OP_SEPOLIA'),'0x157027dfdbfddaab92dc7bf353f0ebc277af2d8a327fc67dc36314a86c9a1596']\n",
    "          ,['optimism-sepolia-ecotone-system-tx',os.environ.get('OP_SEPOLIA'),'0x7e5a49e2afb06047db1d79e2708776ad1854b0952e5f3518ad34be7321a85cd4']\n",
    "          # ,['optimism-legacy',os.environ.get('OP_NODE'),'0xf659ca817904644883c4180c68ca470ffda9d1bb6f3003e5be7feb8580d1f0c0']\n",
    "]"
   ]
  },
  {
   "cell_type": "code",
   "execution_count": 2,
   "metadata": {},
   "outputs": [
    {
     "name": "stdout",
     "output_type": "stream",
     "text": [
      "-------optimism-sepolia-ecotone-user-tx-------\n"
     ]
    },
    {
     "ename": "TransactionNotFound",
     "evalue": "Transaction with hash: '0x6f6dfc6d1e6948eb804c0ee932caa33fa330ab905993a05bba5c28f4f958d3e3' not found.",
     "output_type": "error",
     "traceback": [
      "\u001b[0;31m---------------------------------------------------------------------------\u001b[0m",
      "\u001b[0;31mTransactionNotFound\u001b[0m                       Traceback (most recent call last)",
      "Cell \u001b[0;32mIn[2], line 13\u001b[0m\n\u001b[1;32m     10\u001b[0m transaction_hash \u001b[38;5;241m=\u001b[39m c[\u001b[38;5;241m2\u001b[39m]\n\u001b[1;32m     12\u001b[0m \u001b[38;5;66;03m# Get the transaction receipt\u001b[39;00m\n\u001b[0;32m---> 13\u001b[0m receipt \u001b[38;5;241m=\u001b[39m \u001b[43mweb3\u001b[49m\u001b[38;5;241;43m.\u001b[39;49m\u001b[43meth\u001b[49m\u001b[38;5;241;43m.\u001b[39;49m\u001b[43mget_transaction_receipt\u001b[49m\u001b[43m(\u001b[49m\u001b[43mtransaction_hash\u001b[49m\u001b[43m)\u001b[49m\n\u001b[1;32m     14\u001b[0m \u001b[38;5;28mprint\u001b[39m(\u001b[38;5;124m\"\u001b[39m\u001b[38;5;124mTransaction Receipt:\u001b[39m\u001b[38;5;124m\"\u001b[39m)\n\u001b[1;32m     15\u001b[0m \u001b[38;5;28mprint\u001b[39m(receipt)\n",
      "File \u001b[0;32m~/opt/anaconda3/envs/py10/lib/python3.10/site-packages/web3/eth.py:795\u001b[0m, in \u001b[0;36mEth.get_transaction_receipt\u001b[0;34m(self, transaction_hash)\u001b[0m\n\u001b[1;32m    792\u001b[0m \u001b[38;5;28;01mdef\u001b[39;00m \u001b[38;5;21mget_transaction_receipt\u001b[39m(\n\u001b[1;32m    793\u001b[0m     \u001b[38;5;28mself\u001b[39m, transaction_hash: _Hash32\n\u001b[1;32m    794\u001b[0m ) \u001b[38;5;241m-\u001b[39m\u001b[38;5;241m>\u001b[39m TxReceipt:\n\u001b[0;32m--> 795\u001b[0m     \u001b[38;5;28;01mreturn\u001b[39;00m \u001b[38;5;28;43mself\u001b[39;49m\u001b[38;5;241;43m.\u001b[39;49m\u001b[43m_get_transaction_receipt\u001b[49m\u001b[43m(\u001b[49m\u001b[43mtransaction_hash\u001b[49m\u001b[43m)\u001b[49m\n",
      "File \u001b[0;32m~/opt/anaconda3/envs/py10/lib/python3.10/site-packages/web3/module.py:57\u001b[0m, in \u001b[0;36mretrieve_blocking_method_call_fn.<locals>.caller\u001b[0;34m(*args, **kwargs)\u001b[0m\n\u001b[1;32m     55\u001b[0m     \u001b[38;5;28;01mreturn\u001b[39;00m LogFilter(eth_module\u001b[38;5;241m=\u001b[39mmodule, filter_id\u001b[38;5;241m=\u001b[39merr\u001b[38;5;241m.\u001b[39mfilter_id)\n\u001b[1;32m     56\u001b[0m result_formatters, error_formatters, null_result_formatters \u001b[38;5;241m=\u001b[39m response_formatters\n\u001b[0;32m---> 57\u001b[0m result \u001b[38;5;241m=\u001b[39m \u001b[43mw3\u001b[49m\u001b[38;5;241;43m.\u001b[39;49m\u001b[43mmanager\u001b[49m\u001b[38;5;241;43m.\u001b[39;49m\u001b[43mrequest_blocking\u001b[49m\u001b[43m(\u001b[49m\u001b[43mmethod_str\u001b[49m\u001b[43m,\u001b[49m\n\u001b[1;32m     58\u001b[0m \u001b[43m                                     \u001b[49m\u001b[43mparams\u001b[49m\u001b[43m,\u001b[49m\n\u001b[1;32m     59\u001b[0m \u001b[43m                                     \u001b[49m\u001b[43merror_formatters\u001b[49m\u001b[43m,\u001b[49m\n\u001b[1;32m     60\u001b[0m \u001b[43m                                     \u001b[49m\u001b[43mnull_result_formatters\u001b[49m\u001b[43m)\u001b[49m\n\u001b[1;32m     61\u001b[0m \u001b[38;5;28;01mreturn\u001b[39;00m apply_result_formatters(result_formatters, result)\n",
      "File \u001b[0;32m~/opt/anaconda3/envs/py10/lib/python3.10/site-packages/web3/manager.py:198\u001b[0m, in \u001b[0;36mRequestManager.request_blocking\u001b[0;34m(self, method, params, error_formatters, null_result_formatters)\u001b[0m\n\u001b[1;32m    194\u001b[0m \u001b[38;5;124;03m\"\"\"\u001b[39;00m\n\u001b[1;32m    195\u001b[0m \u001b[38;5;124;03mMake a synchronous request using the provider\u001b[39;00m\n\u001b[1;32m    196\u001b[0m \u001b[38;5;124;03m\"\"\"\u001b[39;00m\n\u001b[1;32m    197\u001b[0m response \u001b[38;5;241m=\u001b[39m \u001b[38;5;28mself\u001b[39m\u001b[38;5;241m.\u001b[39m_make_request(method, params)\n\u001b[0;32m--> 198\u001b[0m \u001b[38;5;28;01mreturn\u001b[39;00m \u001b[38;5;28;43mself\u001b[39;49m\u001b[38;5;241;43m.\u001b[39;49m\u001b[43mformatted_response\u001b[49m\u001b[43m(\u001b[49m\u001b[43mresponse\u001b[49m\u001b[43m,\u001b[49m\n\u001b[1;32m    199\u001b[0m \u001b[43m                               \u001b[49m\u001b[43mparams\u001b[49m\u001b[43m,\u001b[49m\n\u001b[1;32m    200\u001b[0m \u001b[43m                               \u001b[49m\u001b[43merror_formatters\u001b[49m\u001b[43m,\u001b[49m\n\u001b[1;32m    201\u001b[0m \u001b[43m                               \u001b[49m\u001b[43mnull_result_formatters\u001b[49m\u001b[43m)\u001b[49m\n",
      "File \u001b[0;32m~/opt/anaconda3/envs/py10/lib/python3.10/site-packages/web3/manager.py:177\u001b[0m, in \u001b[0;36mRequestManager.formatted_response\u001b[0;34m(response, params, error_formatters, null_result_formatters)\u001b[0m\n\u001b[1;32m    172\u001b[0m \u001b[38;5;66;03m# NULL_RESPONSES includes None, so return False here as the default\u001b[39;00m\n\u001b[1;32m    173\u001b[0m \u001b[38;5;66;03m# so we don't apply the null_result_formatters if there is no 'result' key\u001b[39;00m\n\u001b[1;32m    174\u001b[0m \u001b[38;5;28;01melif\u001b[39;00m response\u001b[38;5;241m.\u001b[39mget(\u001b[38;5;124m'\u001b[39m\u001b[38;5;124mresult\u001b[39m\u001b[38;5;124m'\u001b[39m, \u001b[38;5;28;01mFalse\u001b[39;00m) \u001b[38;5;129;01min\u001b[39;00m NULL_RESPONSES:\n\u001b[1;32m    175\u001b[0m     \u001b[38;5;66;03m# null_result_formatters raise either a BlockNotFound\u001b[39;00m\n\u001b[1;32m    176\u001b[0m     \u001b[38;5;66;03m# or a TransactionNotFound error, depending on the method called\u001b[39;00m\n\u001b[0;32m--> 177\u001b[0m     \u001b[43mapply_null_result_formatters\u001b[49m\u001b[43m(\u001b[49m\u001b[43mnull_result_formatters\u001b[49m\u001b[43m,\u001b[49m\u001b[43m \u001b[49m\u001b[43mresponse\u001b[49m\u001b[43m,\u001b[49m\u001b[43m \u001b[49m\u001b[43mparams\u001b[49m\u001b[43m)\u001b[49m\n\u001b[1;32m    178\u001b[0m     \u001b[38;5;28;01mreturn\u001b[39;00m response[\u001b[38;5;124m'\u001b[39m\u001b[38;5;124mresult\u001b[39m\u001b[38;5;124m'\u001b[39m]\n\u001b[1;32m    179\u001b[0m \u001b[38;5;28;01melif\u001b[39;00m response\u001b[38;5;241m.\u001b[39mget(\u001b[38;5;124m'\u001b[39m\u001b[38;5;124mresult\u001b[39m\u001b[38;5;124m'\u001b[39m) \u001b[38;5;129;01mis\u001b[39;00m \u001b[38;5;129;01mnot\u001b[39;00m \u001b[38;5;28;01mNone\u001b[39;00m:\n",
      "File \u001b[0;32m~/opt/anaconda3/envs/py10/lib/python3.10/site-packages/web3/manager.py:82\u001b[0m, in \u001b[0;36mapply_null_result_formatters\u001b[0;34m(null_result_formatters, response, params)\u001b[0m\n\u001b[1;32m     76\u001b[0m \u001b[38;5;28;01mdef\u001b[39;00m \u001b[38;5;21mapply_null_result_formatters\u001b[39m(\n\u001b[1;32m     77\u001b[0m     null_result_formatters: Callable[\u001b[38;5;241m.\u001b[39m\u001b[38;5;241m.\u001b[39m\u001b[38;5;241m.\u001b[39m, Any],\n\u001b[1;32m     78\u001b[0m     response: RPCResponse,\n\u001b[1;32m     79\u001b[0m     params: Optional[Any] \u001b[38;5;241m=\u001b[39m \u001b[38;5;28;01mNone\u001b[39;00m,\n\u001b[1;32m     80\u001b[0m ) \u001b[38;5;241m-\u001b[39m\u001b[38;5;241m>\u001b[39m RPCResponse:\n\u001b[1;32m     81\u001b[0m     \u001b[38;5;28;01mif\u001b[39;00m null_result_formatters:\n\u001b[0;32m---> 82\u001b[0m         formatted_resp \u001b[38;5;241m=\u001b[39m \u001b[43mpipe\u001b[49m\u001b[43m(\u001b[49m\u001b[43mparams\u001b[49m\u001b[43m,\u001b[49m\u001b[43m \u001b[49m\u001b[43mnull_result_formatters\u001b[49m\u001b[43m)\u001b[49m\n\u001b[1;32m     83\u001b[0m         \u001b[38;5;28;01mreturn\u001b[39;00m formatted_resp\n\u001b[1;32m     84\u001b[0m     \u001b[38;5;28;01melse\u001b[39;00m:\n",
      "File \u001b[0;32m~/opt/anaconda3/envs/py10/lib/python3.10/site-packages/cytoolz/functoolz.pyx:666\u001b[0m, in \u001b[0;36mcytoolz.functoolz.pipe\u001b[0;34m()\u001b[0m\n",
      "File \u001b[0;32m~/opt/anaconda3/envs/py10/lib/python3.10/site-packages/cytoolz/functoolz.pyx:641\u001b[0m, in \u001b[0;36mcytoolz.functoolz.c_pipe\u001b[0;34m()\u001b[0m\n",
      "File \u001b[0;32m~/opt/anaconda3/envs/py10/lib/python3.10/site-packages/web3/_utils/method_formatters.py:656\u001b[0m, in \u001b[0;36mraise_transaction_not_found\u001b[0;34m(params)\u001b[0m\n\u001b[1;32m    653\u001b[0m \u001b[38;5;28;01mexcept\u001b[39;00m \u001b[38;5;167;01mIndexError\u001b[39;00m:\n\u001b[1;32m    654\u001b[0m     message \u001b[38;5;241m=\u001b[39m \u001b[38;5;124m\"\u001b[39m\u001b[38;5;124mUnknown transaction hash\u001b[39m\u001b[38;5;124m\"\u001b[39m\n\u001b[0;32m--> 656\u001b[0m \u001b[38;5;28;01mraise\u001b[39;00m TransactionNotFound(message)\n",
      "\u001b[0;31mTransactionNotFound\u001b[0m: Transaction with hash: '0x6f6dfc6d1e6948eb804c0ee932caa33fa330ab905993a05bba5c28f4f958d3e3' not found."
     ]
    }
   ],
   "source": [
    "for c in configs:\n",
    "        chain = c[0]\n",
    "        print('-------' + chain + '-------')\n",
    "        uri = c[1]\n",
    "        # api = os.environ.get('ALCHEMY_OP_API_KEY')\n",
    "        # Connect to a local Ethereum node\n",
    "        web3 = Web3(Web3.HTTPProvider(uri))\n",
    "\n",
    "        # Specify the transaction hash\n",
    "        transaction_hash = c[2]\n",
    "\n",
    "        # Get the transaction receipt\n",
    "        receipt = web3.eth.get_transaction_receipt(transaction_hash)\n",
    "        print(\"Transaction Receipt:\")\n",
    "        print(receipt)\n",
    "\n",
    "        # Get the transaction result\n",
    "        transaction = web3.eth.get_transaction(transaction_hash)\n",
    "        print(\"\\nTransaction Result:\")\n",
    "        print(transaction)\n",
    "\n",
    "        # Get the block number from the transaction receipt\n",
    "        block_number = receipt['blockNumber']\n",
    "        # print(\"\\nBlock Number:\")\n",
    "        # print(block_number)\n",
    "        \n",
    "        if chain == 'optimism-legacy': # Legacy Optimism returned null for block data\n",
    "                web3.middleware_onion.inject(geth_poa_middleware, layer=0)\n",
    "                block = web3.eth.get_block(block_number, full_transactions=False)\n",
    "        else:\n",
    "                block = web3.eth.get_block(block_number, full_transactions=False)\n",
    "\n",
    "        print(\"\\nBlock Data:\")\n",
    "        print(block)\n",
    "\n",
    "        gas_price = transaction['gasPrice']\n",
    "        try:\n",
    "                base_fee = block['baseFeePerGas']\n",
    "        except:\n",
    "                base_fee = 0.001\n",
    "\n",
    "        tip = gas_price - base_fee\n",
    "\n",
    "        print('\\n')\n",
    "        # Print\n",
    "\n",
    "        # print('gas price: ' + str(gas_price/1e9))\n",
    "        # print('base fee: ' + str(base_fee/1e9))\n",
    "        # print('tip: ' + str(tip/1e9))\n"
   ]
  },
  {
   "cell_type": "code",
   "execution_count": null,
   "metadata": {},
   "outputs": [],
   "source": [
    "# Decode Attributes Deposited ABI\n",
    "# The implementation contract address\n",
    "contract_address = \"0x6dF83A19647A398d48e77a6835F4A28EB7e2f7c0\"\n",
    "# Load the ABI from the local file\n",
    "with open(\"inputs/op_attributes_deposited_abi_implementation.txt\", \"r\") as abi_file:\n",
    "    contract_abi = json.load(abi_file)\n",
    "    \n",
    "# Initialize the contract using the proxy address and ABI\n",
    "contract = web3.eth.contract(address=contract_address, abi=contract_abi)\n",
    "# Example transaction input data (you'll replace this with the actual input data)\n",
    "transaction_system = ''\n",
    "for c in configs:\n",
    "    if c[0].str.contains('system-tx'):\n",
    "        transaction_system = web3.eth.get_transaction(transaction_hash)\n",
    "transaction_input = transaction_system['input']\n",
    "print(transaction_input)\n",
    "# Decode the transaction input\n",
    "decoded_input = contract.decode_function_input(transaction_input)\n",
    "\n",
    "print(decoded_input)"
   ]
  }
 ],
 "metadata": {
  "kernelspec": {
   "display_name": "new-env",
   "language": "python",
   "name": "python3"
  },
  "language_info": {
   "codemirror_mode": {
    "name": "ipython",
    "version": 3
   },
   "file_extension": ".py",
   "mimetype": "text/x-python",
   "name": "python",
   "nbconvert_exporter": "python",
   "pygments_lexer": "ipython3",
   "version": "3.10.8"
  },
  "orig_nbformat": 4
 },
 "nbformat": 4,
 "nbformat_minor": 2
}
