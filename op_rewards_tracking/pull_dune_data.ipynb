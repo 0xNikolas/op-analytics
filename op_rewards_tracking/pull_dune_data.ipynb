{
 "cells": [
  {
   "cell_type": "code",
   "execution_count": 1,
   "metadata": {},
   "outputs": [],
   "source": [
    "import sys\n",
    "import os\n",
    "sys.path.append('../helper_functions')\n",
    "import duneapi_utils as d"
   ]
  },
  {
   "cell_type": "code",
   "execution_count": 2,
   "metadata": {},
   "outputs": [],
   "source": [
    "# add any data to pull here\n",
    "data = {\n",
    "    1886707: \"dune_op_distribution_type\",\n",
    "    # 1900056: \"dune_op_distribution\",\n",
    "    2199844: \"dune_usage_by_app\"\n",
    "}"
   ]
  },
  {
   "cell_type": "code",
   "execution_count": 3,
   "metadata": {},
   "outputs": [
    {
     "name": "stderr",
     "output_type": "stream",
     "text": [
      "2023-03-13 16:34:31.976 | INFO     | duneapi_utils:get_dune_data:20 - Results available at https://dune.com/queries/1886707\n",
      "2023-03-13 16:34:32,914 INFO dune_client.base_client waiting for query execution 01GVEAX3C2GCAFKZE2DY861WFR to complete: ExecutionState.EXECUTING\n",
      "2023-03-13 16:34:38,442 INFO dune_client.base_client waiting for query execution 01GVEAX3C2GCAFKZE2DY861WFR to complete: ExecutionState.EXECUTING\n",
      "2023-03-13 16:34:43,908 INFO dune_client.base_client waiting for query execution 01GVEAX3C2GCAFKZE2DY861WFR to complete: ExecutionState.EXECUTING\n",
      "2023-03-13 16:34:49,319 INFO dune_client.base_client waiting for query execution 01GVEAX3C2GCAFKZE2DY861WFR to complete: ExecutionState.EXECUTING\n",
      "2023-03-13 16:34:54,762 INFO dune_client.base_client waiting for query execution 01GVEAX3C2GCAFKZE2DY861WFR to complete: ExecutionState.EXECUTING\n",
      "2023-03-13 16:35:00,193 INFO dune_client.base_client waiting for query execution 01GVEAX3C2GCAFKZE2DY861WFR to complete: ExecutionState.EXECUTING\n",
      "2023-03-13 16:35:05,614 INFO dune_client.base_client waiting for query execution 01GVEAX3C2GCAFKZE2DY861WFR to complete: ExecutionState.EXECUTING\n",
      "2023-03-13 16:35:11,049 INFO dune_client.base_client waiting for query execution 01GVEAX3C2GCAFKZE2DY861WFR to complete: ExecutionState.EXECUTING\n",
      "2023-03-13 16:35:16,524 INFO dune_client.base_client waiting for query execution 01GVEAX3C2GCAFKZE2DY861WFR to complete: ExecutionState.EXECUTING\n",
      "2023-03-13 16:35:22,054 INFO dune_client.base_client waiting for query execution 01GVEAX3C2GCAFKZE2DY861WFR to complete: ExecutionState.EXECUTING\n",
      "2023-03-13 16:35:27,495 INFO dune_client.base_client waiting for query execution 01GVEAX3C2GCAFKZE2DY861WFR to complete: ExecutionState.EXECUTING\n",
      "2023-03-13 16:35:33,053 INFO dune_client.base_client waiting for query execution 01GVEAX3C2GCAFKZE2DY861WFR to complete: ExecutionState.EXECUTING\n",
      "2023-03-13 16:35:38,521 INFO dune_client.base_client waiting for query execution 01GVEAX3C2GCAFKZE2DY861WFR to complete: ExecutionState.EXECUTING\n",
      "2023-03-13 16:35:43,979 INFO dune_client.base_client waiting for query execution 01GVEAX3C2GCAFKZE2DY861WFR to complete: ExecutionState.EXECUTING\n",
      "2023-03-13 16:35:49,420 INFO dune_client.base_client waiting for query execution 01GVEAX3C2GCAFKZE2DY861WFR to complete: ExecutionState.EXECUTING\n",
      "2023-03-13 16:35:54,840 INFO dune_client.base_client waiting for query execution 01GVEAX3C2GCAFKZE2DY861WFR to complete: ExecutionState.EXECUTING\n",
      "2023-03-13 16:36:00,308 INFO dune_client.base_client waiting for query execution 01GVEAX3C2GCAFKZE2DY861WFR to complete: ExecutionState.EXECUTING\n",
      "2023-03-13 16:36:05,738 INFO dune_client.base_client waiting for query execution 01GVEAX3C2GCAFKZE2DY861WFR to complete: ExecutionState.EXECUTING\n",
      "2023-03-13 16:36:11,206 INFO dune_client.base_client waiting for query execution 01GVEAX3C2GCAFKZE2DY861WFR to complete: ExecutionState.EXECUTING\n",
      "2023-03-13 16:36:16,650 INFO dune_client.base_client waiting for query execution 01GVEAX3C2GCAFKZE2DY861WFR to complete: ExecutionState.EXECUTING\n",
      "2023-03-13 16:36:22,268 INFO dune_client.base_client waiting for query execution 01GVEAX3C2GCAFKZE2DY861WFR to complete: ExecutionState.EXECUTING\n",
      "2023-03-13 16:36:27,845 INFO dune_client.base_client waiting for query execution 01GVEAX3C2GCAFKZE2DY861WFR to complete: ExecutionState.EXECUTING\n",
      "2023-03-13 16:36:33,319 INFO dune_client.base_client waiting for query execution 01GVEAX3C2GCAFKZE2DY861WFR to complete: ExecutionState.EXECUTING\n",
      "2023-03-13 16:36:38,902 INFO dune_client.base_client waiting for query execution 01GVEAX3C2GCAFKZE2DY861WFR to complete: ExecutionState.EXECUTING\n",
      "2023-03-13 16:36:44,363 INFO dune_client.base_client waiting for query execution 01GVEAX3C2GCAFKZE2DY861WFR to complete: ExecutionState.EXECUTING\n",
      "2023-03-13 16:36:49,914 INFO dune_client.base_client waiting for query execution 01GVEAX3C2GCAFKZE2DY861WFR to complete: ExecutionState.EXECUTING\n",
      "2023-03-13 16:36:55,366 INFO dune_client.base_client waiting for query execution 01GVEAX3C2GCAFKZE2DY861WFR to complete: ExecutionState.EXECUTING\n",
      "2023-03-13 16:37:00,820 INFO dune_client.base_client waiting for query execution 01GVEAX3C2GCAFKZE2DY861WFR to complete: ExecutionState.EXECUTING\n",
      "2023-03-13 16:37:06,273 INFO dune_client.base_client waiting for query execution 01GVEAX3C2GCAFKZE2DY861WFR to complete: ExecutionState.EXECUTING\n",
      "2023-03-13 16:37:11,741 INFO dune_client.base_client waiting for query execution 01GVEAX3C2GCAFKZE2DY861WFR to complete: ExecutionState.EXECUTING\n",
      "2023-03-13 16:37:17,171 INFO dune_client.base_client waiting for query execution 01GVEAX3C2GCAFKZE2DY861WFR to complete: ExecutionState.EXECUTING\n",
      "2023-03-13 16:37:22,641 INFO dune_client.base_client waiting for query execution 01GVEAX3C2GCAFKZE2DY861WFR to complete: ExecutionState.EXECUTING\n",
      "2023-03-13 16:37:28,153 INFO dune_client.base_client waiting for query execution 01GVEAX3C2GCAFKZE2DY861WFR to complete: ExecutionState.EXECUTING\n",
      "2023-03-13 16:37:33,617 INFO dune_client.base_client waiting for query execution 01GVEAX3C2GCAFKZE2DY861WFR to complete: ExecutionState.EXECUTING\n",
      "2023-03-13 16:37:39,053 INFO dune_client.base_client waiting for query execution 01GVEAX3C2GCAFKZE2DY861WFR to complete: ExecutionState.EXECUTING\n",
      "2023-03-13 16:37:44,491 INFO dune_client.base_client waiting for query execution 01GVEAX3C2GCAFKZE2DY861WFR to complete: ExecutionState.EXECUTING\n",
      "2023-03-13 16:37:50,022 INFO dune_client.base_client waiting for query execution 01GVEAX3C2GCAFKZE2DY861WFR to complete: ExecutionState.EXECUTING\n",
      "2023-03-13 16:37:55,448 INFO dune_client.base_client waiting for query execution 01GVEAX3C2GCAFKZE2DY861WFR to complete: ExecutionState.EXECUTING\n",
      "2023-03-13 16:38:00,904 INFO dune_client.base_client waiting for query execution 01GVEAX3C2GCAFKZE2DY861WFR to complete: ExecutionState.EXECUTING\n",
      "2023-03-13 16:38:06,354 INFO dune_client.base_client waiting for query execution 01GVEAX3C2GCAFKZE2DY861WFR to complete: ExecutionState.EXECUTING\n",
      "2023-03-13 16:38:12,099 INFO dune_client.base_client waiting for query execution 01GVEAX3C2GCAFKZE2DY861WFR to complete: ExecutionState.EXECUTING\n",
      "2023-03-13 16:38:17,563 INFO dune_client.base_client waiting for query execution 01GVEAX3C2GCAFKZE2DY861WFR to complete: ExecutionState.EXECUTING\n",
      "2023-03-13 16:38:23,201 INFO dune_client.base_client waiting for query execution 01GVEAX3C2GCAFKZE2DY861WFR to complete: ExecutionState.EXECUTING\n",
      "2023-03-13 16:38:28,673 INFO dune_client.base_client waiting for query execution 01GVEAX3C2GCAFKZE2DY861WFR to complete: ExecutionState.EXECUTING\n",
      "2023-03-13 16:38:34,144 INFO dune_client.base_client waiting for query execution 01GVEAX3C2GCAFKZE2DY861WFR to complete: ExecutionState.EXECUTING\n",
      "2023-03-13 16:38:39,613 INFO dune_client.base_client waiting for query execution 01GVEAX3C2GCAFKZE2DY861WFR to complete: ExecutionState.EXECUTING\n",
      "2023-03-13 16:38:45,082 INFO dune_client.base_client waiting for query execution 01GVEAX3C2GCAFKZE2DY861WFR to complete: ExecutionState.EXECUTING\n",
      "2023-03-13 16:38:50,558 INFO dune_client.base_client waiting for query execution 01GVEAX3C2GCAFKZE2DY861WFR to complete: ExecutionState.EXECUTING\n",
      "2023-03-13 16:38:55,995 INFO dune_client.base_client waiting for query execution 01GVEAX3C2GCAFKZE2DY861WFR to complete: ExecutionState.EXECUTING\n",
      "2023-03-13 16:39:01,702 INFO dune_client.base_client waiting for query execution 01GVEAX3C2GCAFKZE2DY861WFR to complete: ExecutionState.EXECUTING\n",
      "2023-03-13 16:39:07,129 INFO dune_client.base_client waiting for query execution 01GVEAX3C2GCAFKZE2DY861WFR to complete: ExecutionState.EXECUTING\n",
      "2023-03-13 16:39:12,574 INFO dune_client.base_client waiting for query execution 01GVEAX3C2GCAFKZE2DY861WFR to complete: ExecutionState.EXECUTING\n",
      "2023-03-13 16:39:17,989 INFO dune_client.base_client waiting for query execution 01GVEAX3C2GCAFKZE2DY861WFR to complete: ExecutionState.EXECUTING\n",
      "2023-03-13 16:39:23,438 INFO dune_client.base_client waiting for query execution 01GVEAX3C2GCAFKZE2DY861WFR to complete: ExecutionState.EXECUTING\n",
      "2023-03-13 16:39:28,879 INFO dune_client.base_client waiting for query execution 01GVEAX3C2GCAFKZE2DY861WFR to complete: ExecutionState.EXECUTING\n",
      "2023-03-13 16:39:34,306 INFO dune_client.base_client waiting for query execution 01GVEAX3C2GCAFKZE2DY861WFR to complete: ExecutionState.EXECUTING\n",
      "2023-03-13 16:39:40.441 | INFO     | duneapi_utils:get_dune_data:34 - ✨ Results saved as csv_outputs/dune_op_distribution_type.csv, with 250 rows and 11 columns.\n",
      "2023-03-13 16:39:40.442 | INFO     | duneapi_utils:get_dune_data:20 - Results available at https://dune.com/queries/2199844\n",
      "2023-03-13 16:39:41,361 INFO dune_client.base_client waiting for query execution 01GVEB6GKGZXQNPSS4ECHH2HGH to complete: ExecutionState.EXECUTING\n",
      "2023-03-13 16:39:46,792 INFO dune_client.base_client waiting for query execution 01GVEB6GKGZXQNPSS4ECHH2HGH to complete: ExecutionState.EXECUTING\n",
      "2023-03-13 16:39:52,240 INFO dune_client.base_client waiting for query execution 01GVEB6GKGZXQNPSS4ECHH2HGH to complete: ExecutionState.EXECUTING\n",
      "2023-03-13 16:39:57,760 INFO dune_client.base_client waiting for query execution 01GVEB6GKGZXQNPSS4ECHH2HGH to complete: ExecutionState.EXECUTING\n",
      "2023-03-13 16:40:03,245 INFO dune_client.base_client waiting for query execution 01GVEB6GKGZXQNPSS4ECHH2HGH to complete: ExecutionState.EXECUTING\n",
      "2023-03-13 16:40:08,777 INFO dune_client.base_client waiting for query execution 01GVEB6GKGZXQNPSS4ECHH2HGH to complete: ExecutionState.EXECUTING\n",
      "2023-03-13 16:40:14,219 INFO dune_client.base_client waiting for query execution 01GVEB6GKGZXQNPSS4ECHH2HGH to complete: ExecutionState.EXECUTING\n",
      "2023-03-13 16:40:19,654 INFO dune_client.base_client waiting for query execution 01GVEB6GKGZXQNPSS4ECHH2HGH to complete: ExecutionState.EXECUTING\n",
      "2023-03-13 16:40:25,072 INFO dune_client.base_client waiting for query execution 01GVEB6GKGZXQNPSS4ECHH2HGH to complete: ExecutionState.EXECUTING\n",
      "2023-03-13 16:40:30,511 INFO dune_client.base_client waiting for query execution 01GVEB6GKGZXQNPSS4ECHH2HGH to complete: ExecutionState.EXECUTING\n",
      "2023-03-13 16:40:35,934 INFO dune_client.base_client waiting for query execution 01GVEB6GKGZXQNPSS4ECHH2HGH to complete: ExecutionState.EXECUTING\n",
      "2023-03-13 16:40:41,362 INFO dune_client.base_client waiting for query execution 01GVEB6GKGZXQNPSS4ECHH2HGH to complete: ExecutionState.EXECUTING\n",
      "2023-03-13 16:40:46,869 INFO dune_client.base_client waiting for query execution 01GVEB6GKGZXQNPSS4ECHH2HGH to complete: ExecutionState.EXECUTING\n",
      "2023-03-13 16:40:52,294 INFO dune_client.base_client waiting for query execution 01GVEB6GKGZXQNPSS4ECHH2HGH to complete: ExecutionState.EXECUTING\n",
      "2023-03-13 16:40:57,753 INFO dune_client.base_client waiting for query execution 01GVEB6GKGZXQNPSS4ECHH2HGH to complete: ExecutionState.EXECUTING\n",
      "2023-03-13 16:41:03.834 | INFO     | duneapi_utils:get_dune_data:34 - ✨ Results saved as csv_outputs/dune_usage_by_app.csv, with 42 rows and 44 columns.\n"
     ]
    }
   ],
   "source": [
    "if not os.path.exists(\"csv_outputs\"):\n",
    "        os.mkdir(\"csv_outputs\")\n",
    "for query_id, csv_name in data.items():\n",
    "    d.get_dune_data(query_id, csv_name)"
   ]
  }
 ],
 "metadata": {
  "kernelspec": {
   "display_name": "Python 3",
   "language": "python",
   "name": "python3"
  },
  "language_info": {
   "codemirror_mode": {
    "name": "ipython",
    "version": 3
   },
   "file_extension": ".py",
   "mimetype": "text/x-python",
   "name": "python",
   "nbconvert_exporter": "python",
   "pygments_lexer": "ipython3",
   "version": "3.10.9"
  },
  "orig_nbformat": 4
 },
 "nbformat": 4,
 "nbformat_minor": 2
}
