{
 "cells": [
  {
   "cell_type": "code",
   "execution_count": null,
   "metadata": {},
   "outputs": [],
   "source": [
    "#STILL WIP\n",
    "\n",
    "# # Read from:\n",
    "# Dune - OP Deployed by deployer address type \n",
    "# Defillama/Subgraphs - TVL Flows by Program\n",
    "# Notion - OP Budget by Program\n",
    "\n",
    "# Join these datasets together on program & associate anything else to the generalized programs"
   ]
  },
  {
   "cell_type": "code",
   "execution_count": null,
   "metadata": {},
   "outputs": [],
   "source": [
    "import pandas as pd\n",
    "import numpy as np\n",
    "import datetime"
   ]
  },
  {
   "cell_type": "code",
   "execution_count": null,
   "metadata": {},
   "outputs": [],
   "source": [
    "tvl = pd.read_csv('csv_outputs/op_summer_latest_stats.csv')\n",
    "distrib_df = pd.read_csv('csv_outputs/dune_op_distribution_type.csv')\n",
    "program_df = pd.read_csv('inputs/OP Summer Programs [Public].csv')"
   ]
  },
  {
   "cell_type": "code",
   "execution_count": null,
   "metadata": {},
   "outputs": [],
   "source": [
    "#Filter TVL DF\n",
    "tvl = tvl[tvl['include_in_summary'] == 1]\n",
    "tvl['join_key'] = tvl['top_level_name'].str.replace('*','') #tvl['app_name'] + ' - ' + tvl['top_level_name'].str.replace('*','')\n",
    "# display(tvl)"
   ]
  },
  {
   "cell_type": "code",
   "execution_count": null,
   "metadata": {},
   "outputs": [],
   "source": [
    "#Set up Distributions for Mapping\n",
    "distrib_df['program_map'] = np.where(\n",
    "                                distrib_df['to_type'].isin(tvl['top_level_name'])\n",
    "                                ,distrib_df['to_type']\n",
    "                                ,''\n",
    "                                )\n",
    "\n",
    "sum_distrib_df = distrib_df[['from_name','op_deployed','to_label','to_type','program_map']].groupby(['from_name','program_map']).sum()\n",
    "sum_distrib_df.reset_index(inplace=True)\n",
    "#Joins should maybe just be the program map OR from name, since Velo operated bribes for a while\n",
    "sum_distrib_df['join_key'] = np.where(sum_distrib_df['program_map'] == '',sum_distrib_df['from_name'],sum_distrib_df['program_map'])\n",
    "                            # sum_distrib_df['from_name'] + ' - ' \\\n",
    "                            #     + np.where(sum_distrib_df['program_map'] == '',sum_distrib_df['from_name'],sum_distrib_df['program_map'])\n",
    "\n",
    "# display(sum_distrib_df[sum_distrib_df['join_key'].str.contains('elodr')])"
   ]
  },
  {
   "cell_type": "code",
   "execution_count": null,
   "metadata": {},
   "outputs": [],
   "source": [
    "#lowercase joinkeys\n",
    "tvl['join_key'] = tvl['join_key'].str.lower()\n",
    "sum_distrib_df['join_key'] = sum_distrib_df['join_key'].str.lower()\n",
    "#\n",
    "df = sum_distrib_df.merge(tvl, on='join_key',how='outer')\n",
    "display(df[df['join_key'].str.contains('velodr')])"
   ]
  },
  {
   "cell_type": "code",
   "execution_count": null,
   "metadata": {},
   "outputs": [],
   "source": [
    "# Overrides as needed\n",
    "def replace_program_names(df, overrides):\n",
    "    for program, program_override in overrides.items():\n",
    "        df.loc[df['join_key'] == program, 'from_name'] = program_override\n",
    "    return df\n",
    "\n",
    "#Overrides if needed\n",
    "overrides = {\n",
    "    'old name'  :   'new name',\n",
    "}\n",
    "\n",
    "# Replace program names with overrides\n",
    "df = replace_program_names(df, overrides)"
   ]
  },
  {
   "cell_type": "code",
   "execution_count": null,
   "metadata": {},
   "outputs": [],
   "source": [
    "#Create the aggregate app name field\n",
    "df['agg_app_name'] = df['app_name'].combine_first(df['from_name'])\n",
    "df = df.fillna(0) #Fill NA with 0\n",
    "# display(df)\n",
    "display(df[df['agg_app_name'].str.contains('elodr')])"
   ]
  },
  {
   "cell_type": "code",
   "execution_count": null,
   "metadata": {},
   "outputs": [],
   "source": [
    "# Now union back again\n",
    "\n",
    "select_cols = ['agg_app_name','top_level_name', 'program_name',\\\n",
    "               'num_op_override', 'period','op_source', 'start_date','end_date'\n",
    "               ,'op_deployed', \n",
    "               'cumul_net_dollar_flow_at_program_end',\n",
    "                'cumul_net_dollar_flow',\n",
    "                'cumul_last_price_net_dollar_flow_at_program_end',\n",
    "                'cumul_last_price_net_dollar_flow'\n",
    "                ]\n",
    "group_cols = select_cols[:8] #group by 1 to 8\n",
    "print(group_cols)\n",
    "\n",
    "# display(df[select_cols])\n",
    "\n",
    "sum_distrib_df = df[select_cols].groupby(group_cols).sum()\n",
    "sum_distrib_df.reset_index(inplace=True)"
   ]
  },
  {
   "cell_type": "code",
   "execution_count": null,
   "metadata": {},
   "outputs": [],
   "source": [
    "#Get the rank by start_date of each program\n",
    "\n",
    "# replace 0s with '9999-12-31'\n",
    "sum_distrib_df['start_date'] = np.where(sum_distrib_df['start_date'] == 0, '9999-12-31', sum_distrib_df['start_date'])\n",
    "display(sum_distrib_df)\n",
    "# create a new column 'program_rank' based on the 'start_date' column\n",
    "sum_distrib_df['program_rank'] = sum_distrib_df.groupby('agg_app_name')['start_date'].rank(ascending=True)\n",
    "# replace 'today' with 0s\n",
    "sum_distrib_df['start_date'] = np.where(sum_distrib_df['start_date'] == '9999-12-31', 0, sum_distrib_df['start_date'])\n",
    "\n",
    "sum_distrib_df = sum_distrib_df.sort_values(by=['agg_app_name','program_rank'],ascending=[True,True])\n",
    "# subtract all overridden values fromthe amount I have deployed\n",
    "\n",
    "# create a new column 'cumulative_num_op_override' that contains the cumulative sum of 'num_op_override' for each agg_app_name group\n",
    "sum_distrib_df['cumulative_num_op_override'] = sum_distrib_df.groupby('agg_app_name')['num_op_override'].cumsum()\n",
    "# create a new column 'op_deployed_net_override' that subtracts 'cumulative_num_op_override' from 'op_deployed'\n",
    "sum_distrib_df['op_deployed_net_override'] = sum_distrib_df['op_deployed'] - sum_distrib_df.groupby('agg_app_name')['cumulative_num_op_override'].shift(1).fillna(0)\n",
    "# drop the 'cumulative_num_op_override' column\n",
    "# sum_distrib_df.drop('cumulative_num_op_override', axis=1, inplace=True)"
   ]
  },
  {
   "cell_type": "code",
   "execution_count": null,
   "metadata": {},
   "outputs": [],
   "source": [
    "# Override # OP Deployed \n",
    "sum_distrib_df['op_deployed'] = sum_distrib_df.apply(lambda x: x['num_op_override'] if x['num_op_override'] > 0 else x['op_deployed'], axis=1)\n",
    "\n",
    "# replace 0s in 'num_op_override' with the corresponding value in 'op_deployed_net_override'\n",
    "sum_distrib_df['og_op_deployed'] = sum_distrib_df['op_deployed']\n",
    "sum_distrib_df['op_deployed'] = np.where(sum_distrib_df['num_op_override'] == 0, sum_distrib_df['op_deployed_net_override'], sum_distrib_df['num_op_override'])\n",
    "\n",
    "#Select all except the last 4 rows\n",
    "sum_distrib_df = sum_distrib_df.iloc[:, :-4]\n"
   ]
  },
  {
   "cell_type": "code",
   "execution_count": null,
   "metadata": {},
   "outputs": [],
   "source": [
    "# latest tvl metrics\n",
    "sum_distrib_df['net_flows_retention'] = np.where(sum_distrib_df['period']=='Post-Program'\\\n",
    "            ,sum_distrib_df['cumul_last_price_net_dollar_flow'] / sum_distrib_df['cumul_last_price_net_dollar_flow_at_program_end']\\\n",
    "            ,np.nan\\\n",
    ")"
   ]
  },
  {
   "cell_type": "code",
   "execution_count": null,
   "metadata": {},
   "outputs": [],
   "source": [
    "display(sum_distrib_df)\n",
    "sum_distrib_df['last_updated'] = pd.to_datetime(datetime.datetime.now())\n",
    "sum_distrib_df.to_csv('csv_outputs/incentives_stats_summary.csv')\n",
    "# display(sum_distrib_df[sum_distrib_df['agg_app_name'].str.contains('rrakis')])"
   ]
  }
 ],
 "metadata": {
  "kernelspec": {
   "display_name": "Python 3",
   "language": "python",
   "name": "python3"
  },
  "language_info": {
   "codemirror_mode": {
    "name": "ipython",
    "version": 3
   },
   "file_extension": ".py",
   "mimetype": "text/x-python",
   "name": "python",
   "nbconvert_exporter": "python",
   "pygments_lexer": "ipython3",
   "version": "3.11.1"
  },
  "orig_nbformat": 4,
  "vscode": {
   "interpreter": {
    "hash": "5c7b89af1651d0b8571dde13640ecdccf7d5a6204171d6ab33e7c296e100e08a"
   }
  }
 },
 "nbformat": 4,
 "nbformat_minor": 2
}
