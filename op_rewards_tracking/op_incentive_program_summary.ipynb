{
 "cells": [
  {
   "cell_type": "code",
   "execution_count": 1,
   "metadata": {},
   "outputs": [],
   "source": [
    "import pandas as pd\n",
    "import numpy as np\n",
    "import os\n",
    "\n",
    "from functools import reduce\n",
    "from pandas.api.types import CategoricalDtype\n",
    "from datetime import datetime, timedelta\n",
    "from utils import format_number\n",
    "from IPython.display import display  # So that display is recognized in .py files\n",
    "\n",
    "from config import LAST_N_DAYS, COL_NAMES_TO_INCLUDE\n",
    "\n",
    "import plotly.express as px\n",
    "import plotly.graph_objects as go\n",
    "\n",
    "pd.options.display.float_format = \"{:,.2f}\".format\n",
    "pd.set_option(\"display.max_columns\", None)"
   ]
  },
  {
   "cell_type": "code",
   "execution_count": 2,
   "metadata": {},
   "outputs": [],
   "source": [
    "pwd = os.getcwd()\n",
    "# Verify that our path is right\n",
    "if \"op_rewards_tracking\" in pwd:\n",
    "    prepend = \"\"\n",
    "else:\n",
    "    prepend = \"op_rewards_tracking/\""
   ]
  },
  {
   "cell_type": "code",
   "execution_count": 3,
   "metadata": {},
   "outputs": [],
   "source": [
    "def extract_source(source_string):\n",
    "    source_list = source_string.split(\"-\")\n",
    "    if len(source_list) > 1:\n",
    "        return source_list[\n",
    "            1\n",
    "        ].strip()  # strip() is used to remove any leading/trailing spaces\n",
    "    else:\n",
    "        return source_string.strip()\n",
    "\n",
    "\n",
    "def cleanup_string(source_string):\n",
    "    return source_string.replace(\" \", \"\").lower()\n",
    "\n",
    "\n",
    "def remove_brackets(x):\n",
    "    if isinstance(x, str):\n",
    "        return x.replace(\"['\", \"\").replace(\"']\", \"\")\n",
    "    else:\n",
    "        return x\n",
    "\n",
    "\n",
    "def merge_dfs(key=\"app_name_join\", cols=COL_NAMES_TO_INCLUDE, **dfs):\n",
    "    df_combined = reduce(\n",
    "        lambda left, right: pd.merge(left, right, on=key, how=\"left\"), dfs.values()\n",
    "    )\n",
    "    return df_combined[cols]\n",
    "\n",
    "\n",
    "def calculate_metrics(df, op=\"op_deployed\"):\n",
    "    inc_cols = df.filter(like=\"incremental_\").columns\n",
    "    inc_cols = [col for col in inc_cols if \"per_op\" not in col]\n",
    "    # df = df.assign(**{f'incremental_{col.split(\"_\")[1]}_annualized_per_op': df[col] * 365 / df[\"net_op_deployed\"] for col in inc_cols})\n",
    "    df = df.assign(\n",
    "        **{\n",
    "            f'{col.replace(\"_per_day\", \"\")}_annualized_per_op': df[col] * 365 / df[op]\n",
    "            for col in inc_cols\n",
    "        }\n",
    "    )\n",
    "    df[\"net_tvl_per_op\"] = df[\"cumul_last_price_net_dollar_flow\"] / df[op]\n",
    "    df[\"net_tvl_per_op_during\"] = (\n",
    "        df[\"cumul_last_price_net_dollar_flow_at_program_end\"] / df[op]\n",
    "    )\n",
    "\n",
    "    return df"
   ]
  },
  {
   "attachments": {},
   "cell_type": "markdown",
   "metadata": {},
   "source": [
    "# Incentive Program Summary\n",
    "Status of programs live, completed and to be announced by season."
   ]
  },
  {
   "cell_type": "code",
   "execution_count": 4,
   "metadata": {},
   "outputs": [],
   "source": [
    "df_info = pd.read_csv(\"inputs/\" + \"op_incentive_program_info\" + \".csv\")\n",
    "\n",
    "# convert to datetime\n",
    "df_info[\"start_date\"] = pd.to_datetime(\n",
    "    df_info[\"Announced On\"].fillna(df_info[\"Start Date\"])\n",
    ")\n",
    "df_info[\"end_date\"] = pd.to_datetime(df_info[\"End Date\"])\n",
    "\n",
    "# convert program status into ordered categorical type\n",
    "cat_size_order = CategoricalDtype(\n",
    "    [\"Live ‎🔥\", \"Coming soon ‎⏳\", \"Completed\"], ordered=True\n",
    ")\n",
    "df_info[\"Status\"] = df_info[\"Status\"].astype(cat_size_order)\n",
    "\n",
    "# create app_name_join, coalesce with app name override map, app name and remove any space\n",
    "df_info[\"app_name_join\"] = df_info[\"App Name Map Override\"].fillna(df_info[\"App Name\"])\n",
    "df_info[\"app_name_join\"] = df_info[\"app_name_join\"].apply(cleanup_string)"
   ]
  },
  {
   "cell_type": "code",
   "execution_count": 5,
   "metadata": {},
   "outputs": [
    {
     "name": "stdout",
     "output_type": "stream",
     "text": [
      "GovFund\n"
     ]
    },
    {
     "data": {
      "text/html": [
       "<div>\n",
       "<style scoped>\n",
       "    .dataframe tbody tr th:only-of-type {\n",
       "        vertical-align: middle;\n",
       "    }\n",
       "\n",
       "    .dataframe tbody tr th {\n",
       "        vertical-align: top;\n",
       "    }\n",
       "\n",
       "    .dataframe thead th {\n",
       "        text-align: right;\n",
       "    }\n",
       "</style>\n",
       "<table border=\"1\" class=\"dataframe\">\n",
       "  <thead>\n",
       "    <tr style=\"text-align: right;\">\n",
       "      <th></th>\n",
       "      <th></th>\n",
       "      <th># Programs</th>\n",
       "      <th># OP Allocated (M)</th>\n",
       "      <th>% OP Allocated</th>\n",
       "    </tr>\n",
       "    <tr>\n",
       "      <th>Status</th>\n",
       "      <th>Source</th>\n",
       "      <th></th>\n",
       "      <th></th>\n",
       "      <th></th>\n",
       "    </tr>\n",
       "  </thead>\n",
       "  <tbody>\n",
       "    <tr>\n",
       "      <th rowspan=\"5\" valign=\"top\">Live ‎🔥</th>\n",
       "      <th>Subtotal - GovFund Only</th>\n",
       "      <td>34</td>\n",
       "      <td>39.8M</td>\n",
       "      <td>68%</td>\n",
       "    </tr>\n",
       "    <tr>\n",
       "      <th>Governance - Season 3</th>\n",
       "      <td>1</td>\n",
       "      <td>20.0K</td>\n",
       "      <td>-</td>\n",
       "    </tr>\n",
       "    <tr>\n",
       "      <th>Governance - Season 2</th>\n",
       "      <td>11</td>\n",
       "      <td>6.7M</td>\n",
       "      <td>-</td>\n",
       "    </tr>\n",
       "    <tr>\n",
       "      <th>Governance - Season 1</th>\n",
       "      <td>8</td>\n",
       "      <td>3.6M</td>\n",
       "      <td>-</td>\n",
       "    </tr>\n",
       "    <tr>\n",
       "      <th>Governance - Phase 0</th>\n",
       "      <td>14</td>\n",
       "      <td>29.5M</td>\n",
       "      <td>-</td>\n",
       "    </tr>\n",
       "    <tr>\n",
       "      <th rowspan=\"5\" valign=\"top\">Coming soon ‎⏳</th>\n",
       "      <th>Subtotal - GovFund Only</th>\n",
       "      <td>54</td>\n",
       "      <td>14.4M</td>\n",
       "      <td>25%</td>\n",
       "    </tr>\n",
       "    <tr>\n",
       "      <th>Governance - Season 3</th>\n",
       "      <td>22</td>\n",
       "      <td>2.5M</td>\n",
       "      <td>-</td>\n",
       "    </tr>\n",
       "    <tr>\n",
       "      <th>Governance - Season 2</th>\n",
       "      <td>18</td>\n",
       "      <td>5.7M</td>\n",
       "      <td>-</td>\n",
       "    </tr>\n",
       "    <tr>\n",
       "      <th>Governance - Season 1</th>\n",
       "      <td>7</td>\n",
       "      <td>2.1M</td>\n",
       "      <td>-</td>\n",
       "    </tr>\n",
       "    <tr>\n",
       "      <th>Governance - Phase 0</th>\n",
       "      <td>7</td>\n",
       "      <td>4.1M</td>\n",
       "      <td>-</td>\n",
       "    </tr>\n",
       "    <tr>\n",
       "      <th rowspan=\"5\" valign=\"top\">Completed</th>\n",
       "      <th>Subtotal - GovFund Only</th>\n",
       "      <td>7</td>\n",
       "      <td>4.1M</td>\n",
       "      <td>7%</td>\n",
       "    </tr>\n",
       "    <tr>\n",
       "      <th>Governance - Season 3</th>\n",
       "      <td>-</td>\n",
       "      <td>-</td>\n",
       "      <td>-</td>\n",
       "    </tr>\n",
       "    <tr>\n",
       "      <th>Governance - Season 2</th>\n",
       "      <td>2</td>\n",
       "      <td>790.0K</td>\n",
       "      <td>-</td>\n",
       "    </tr>\n",
       "    <tr>\n",
       "      <th>Governance - Season 1</th>\n",
       "      <td>1</td>\n",
       "      <td>900.0K</td>\n",
       "      <td>-</td>\n",
       "    </tr>\n",
       "    <tr>\n",
       "      <th>Governance - Phase 0</th>\n",
       "      <td>4</td>\n",
       "      <td>2.4M</td>\n",
       "      <td>-</td>\n",
       "    </tr>\n",
       "    <tr>\n",
       "      <th>Grand Total</th>\n",
       "      <th></th>\n",
       "      <td>95</td>\n",
       "      <td>58.3M</td>\n",
       "      <td>-</td>\n",
       "    </tr>\n",
       "  </tbody>\n",
       "</table>\n",
       "</div>"
      ],
      "text/plain": [
       "                                       # Programs # OP Allocated (M)  \\\n",
       "Status         Source                                                  \n",
       "Live ‎🔥        Subtotal - GovFund Only         34              39.8M   \n",
       "               Governance - Season 3            1              20.0K   \n",
       "               Governance - Season 2           11               6.7M   \n",
       "               Governance - Season 1            8               3.6M   \n",
       "               Governance - Phase 0            14              29.5M   \n",
       "Coming soon ‎⏳ Subtotal - GovFund Only         54              14.4M   \n",
       "               Governance - Season 3           22               2.5M   \n",
       "               Governance - Season 2           18               5.7M   \n",
       "               Governance - Season 1            7               2.1M   \n",
       "               Governance - Phase 0             7               4.1M   \n",
       "Completed      Subtotal - GovFund Only          7               4.1M   \n",
       "               Governance - Season 3            -                  -   \n",
       "               Governance - Season 2            2             790.0K   \n",
       "               Governance - Season 1            1             900.0K   \n",
       "               Governance - Phase 0             4               2.4M   \n",
       "Grand Total                                    95              58.3M   \n",
       "\n",
       "                                       % OP Allocated  \n",
       "Status         Source                                  \n",
       "Live ‎🔥        Subtotal - GovFund Only            68%  \n",
       "               Governance - Season 3                -  \n",
       "               Governance - Season 2                -  \n",
       "               Governance - Season 1                -  \n",
       "               Governance - Phase 0                 -  \n",
       "Coming soon ‎⏳ Subtotal - GovFund Only            25%  \n",
       "               Governance - Season 3                -  \n",
       "               Governance - Season 2                -  \n",
       "               Governance - Season 1                -  \n",
       "               Governance - Phase 0                 -  \n",
       "Completed      Subtotal - GovFund Only             7%  \n",
       "               Governance - Season 3                -  \n",
       "               Governance - Season 2                -  \n",
       "               Governance - Season 1                -  \n",
       "               Governance - Phase 0                 -  \n",
       "Grand Total                                         -  "
      ]
     },
     "metadata": {},
     "output_type": "display_data"
    },
    {
     "name": "stdout",
     "output_type": "stream",
     "text": [
      "\n",
      "GovFund Growth Experiments\n"
     ]
    },
    {
     "data": {
      "text/html": [
       "<div>\n",
       "<style scoped>\n",
       "    .dataframe tbody tr th:only-of-type {\n",
       "        vertical-align: middle;\n",
       "    }\n",
       "\n",
       "    .dataframe tbody tr th {\n",
       "        vertical-align: top;\n",
       "    }\n",
       "\n",
       "    .dataframe thead th {\n",
       "        text-align: right;\n",
       "    }\n",
       "</style>\n",
       "<table border=\"1\" class=\"dataframe\">\n",
       "  <thead>\n",
       "    <tr style=\"text-align: right;\">\n",
       "      <th></th>\n",
       "      <th></th>\n",
       "      <th># Programs</th>\n",
       "      <th># OP Allocated (M)</th>\n",
       "      <th>% OP Allocated</th>\n",
       "    </tr>\n",
       "    <tr>\n",
       "      <th>Status</th>\n",
       "      <th>Source</th>\n",
       "      <th></th>\n",
       "      <th></th>\n",
       "      <th></th>\n",
       "    </tr>\n",
       "  </thead>\n",
       "  <tbody>\n",
       "    <tr>\n",
       "      <th rowspan=\"5\" valign=\"top\">Live ‎🔥</th>\n",
       "      <th>Subtotal - GovFund Growth Exp.</th>\n",
       "      <td>32</td>\n",
       "      <td>39.6M</td>\n",
       "      <td>73%</td>\n",
       "    </tr>\n",
       "    <tr>\n",
       "      <th>Governance - Season 3</th>\n",
       "      <td>1</td>\n",
       "      <td>20.0K</td>\n",
       "      <td>-</td>\n",
       "    </tr>\n",
       "    <tr>\n",
       "      <th>Governance - Season 2</th>\n",
       "      <td>9</td>\n",
       "      <td>6.5M</td>\n",
       "      <td>-</td>\n",
       "    </tr>\n",
       "    <tr>\n",
       "      <th>Governance - Season 1</th>\n",
       "      <td>8</td>\n",
       "      <td>3.6M</td>\n",
       "      <td>-</td>\n",
       "    </tr>\n",
       "    <tr>\n",
       "      <th>Governance - Phase 0</th>\n",
       "      <td>14</td>\n",
       "      <td>29.5M</td>\n",
       "      <td>-</td>\n",
       "    </tr>\n",
       "    <tr>\n",
       "      <th rowspan=\"5\" valign=\"top\">Coming soon ‎⏳</th>\n",
       "      <th>Subtotal - GovFund Growth Exp.</th>\n",
       "      <td>32</td>\n",
       "      <td>10.9M</td>\n",
       "      <td>20%</td>\n",
       "    </tr>\n",
       "    <tr>\n",
       "      <th>Governance - Season 3</th>\n",
       "      <td>12</td>\n",
       "      <td>2.1M</td>\n",
       "      <td>-</td>\n",
       "    </tr>\n",
       "    <tr>\n",
       "      <th>Governance - Season 2</th>\n",
       "      <td>13</td>\n",
       "      <td>5.2M</td>\n",
       "      <td>-</td>\n",
       "    </tr>\n",
       "    <tr>\n",
       "      <th>Governance - Season 1</th>\n",
       "      <td>4</td>\n",
       "      <td>1.3M</td>\n",
       "      <td>-</td>\n",
       "    </tr>\n",
       "    <tr>\n",
       "      <th>Governance - Phase 0</th>\n",
       "      <td>3</td>\n",
       "      <td>2.2M</td>\n",
       "      <td>-</td>\n",
       "    </tr>\n",
       "    <tr>\n",
       "      <th rowspan=\"5\" valign=\"top\">Completed</th>\n",
       "      <th>Subtotal - GovFund Growth Exp.</th>\n",
       "      <td>7</td>\n",
       "      <td>4.1M</td>\n",
       "      <td>7%</td>\n",
       "    </tr>\n",
       "    <tr>\n",
       "      <th>Governance - Season 3</th>\n",
       "      <td>-</td>\n",
       "      <td>-</td>\n",
       "      <td>-</td>\n",
       "    </tr>\n",
       "    <tr>\n",
       "      <th>Governance - Season 2</th>\n",
       "      <td>2</td>\n",
       "      <td>790.0K</td>\n",
       "      <td>-</td>\n",
       "    </tr>\n",
       "    <tr>\n",
       "      <th>Governance - Season 1</th>\n",
       "      <td>1</td>\n",
       "      <td>900.0K</td>\n",
       "      <td>-</td>\n",
       "    </tr>\n",
       "    <tr>\n",
       "      <th>Governance - Phase 0</th>\n",
       "      <td>4</td>\n",
       "      <td>2.4M</td>\n",
       "      <td>-</td>\n",
       "    </tr>\n",
       "    <tr>\n",
       "      <th>Grand Total</th>\n",
       "      <th></th>\n",
       "      <td>71</td>\n",
       "      <td>54.6M</td>\n",
       "      <td>-</td>\n",
       "    </tr>\n",
       "  </tbody>\n",
       "</table>\n",
       "</div>"
      ],
      "text/plain": [
       "                                              # Programs # OP Allocated (M)  \\\n",
       "Status         Source                                                         \n",
       "Live ‎🔥        Subtotal - GovFund Growth Exp.         32              39.6M   \n",
       "               Governance - Season 3                   1              20.0K   \n",
       "               Governance - Season 2                   9               6.5M   \n",
       "               Governance - Season 1                   8               3.6M   \n",
       "               Governance - Phase 0                   14              29.5M   \n",
       "Coming soon ‎⏳ Subtotal - GovFund Growth Exp.         32              10.9M   \n",
       "               Governance - Season 3                  12               2.1M   \n",
       "               Governance - Season 2                  13               5.2M   \n",
       "               Governance - Season 1                   4               1.3M   \n",
       "               Governance - Phase 0                    3               2.2M   \n",
       "Completed      Subtotal - GovFund Growth Exp.          7               4.1M   \n",
       "               Governance - Season 3                   -                  -   \n",
       "               Governance - Season 2                   2             790.0K   \n",
       "               Governance - Season 1                   1             900.0K   \n",
       "               Governance - Phase 0                    4               2.4M   \n",
       "Grand Total                                           71              54.6M   \n",
       "\n",
       "                                              % OP Allocated  \n",
       "Status         Source                                         \n",
       "Live ‎🔥        Subtotal - GovFund Growth Exp.            73%  \n",
       "               Governance - Season 3                       -  \n",
       "               Governance - Season 2                       -  \n",
       "               Governance - Season 1                       -  \n",
       "               Governance - Phase 0                        -  \n",
       "Coming soon ‎⏳ Subtotal - GovFund Growth Exp.            20%  \n",
       "               Governance - Season 3                       -  \n",
       "               Governance - Season 2                       -  \n",
       "               Governance - Season 1                       -  \n",
       "               Governance - Phase 0                        -  \n",
       "Completed      Subtotal - GovFund Growth Exp.             7%  \n",
       "               Governance - Season 3                       -  \n",
       "               Governance - Season 2                       -  \n",
       "               Governance - Season 1                       -  \n",
       "               Governance - Phase 0                        -  \n",
       "Grand Total                                                -  "
      ]
     },
     "metadata": {},
     "output_type": "display_data"
    },
    {
     "name": "stdout",
     "output_type": "stream",
     "text": [
      "\n",
      "All Programs\n"
     ]
    },
    {
     "data": {
      "text/html": [
       "<div>\n",
       "<style scoped>\n",
       "    .dataframe tbody tr th:only-of-type {\n",
       "        vertical-align: middle;\n",
       "    }\n",
       "\n",
       "    .dataframe tbody tr th {\n",
       "        vertical-align: top;\n",
       "    }\n",
       "\n",
       "    .dataframe thead th {\n",
       "        text-align: right;\n",
       "    }\n",
       "</style>\n",
       "<table border=\"1\" class=\"dataframe\">\n",
       "  <thead>\n",
       "    <tr style=\"text-align: right;\">\n",
       "      <th></th>\n",
       "      <th></th>\n",
       "      <th># Programs</th>\n",
       "      <th># OP Allocated (M)</th>\n",
       "      <th>% OP Allocated</th>\n",
       "    </tr>\n",
       "    <tr>\n",
       "      <th>Status</th>\n",
       "      <th>Source</th>\n",
       "      <th></th>\n",
       "      <th></th>\n",
       "      <th></th>\n",
       "    </tr>\n",
       "  </thead>\n",
       "  <tbody>\n",
       "    <tr>\n",
       "      <th rowspan=\"6\" valign=\"top\">Live ‎🔥</th>\n",
       "      <th>Subtotal</th>\n",
       "      <td>39</td>\n",
       "      <td>42.9M</td>\n",
       "      <td>61%</td>\n",
       "    </tr>\n",
       "    <tr>\n",
       "      <th>Partner Fund</th>\n",
       "      <td>5</td>\n",
       "      <td>3.1M</td>\n",
       "      <td>-</td>\n",
       "    </tr>\n",
       "    <tr>\n",
       "      <th>Governance - Season 3</th>\n",
       "      <td>1</td>\n",
       "      <td>20.0K</td>\n",
       "      <td>-</td>\n",
       "    </tr>\n",
       "    <tr>\n",
       "      <th>Governance - Season 2</th>\n",
       "      <td>11</td>\n",
       "      <td>6.7M</td>\n",
       "      <td>-</td>\n",
       "    </tr>\n",
       "    <tr>\n",
       "      <th>Governance - Season 1</th>\n",
       "      <td>8</td>\n",
       "      <td>3.6M</td>\n",
       "      <td>-</td>\n",
       "    </tr>\n",
       "    <tr>\n",
       "      <th>Governance - Phase 0</th>\n",
       "      <td>14</td>\n",
       "      <td>29.5M</td>\n",
       "      <td>-</td>\n",
       "    </tr>\n",
       "    <tr>\n",
       "      <th rowspan=\"6\" valign=\"top\">Coming soon ‎⏳</th>\n",
       "      <th>Subtotal</th>\n",
       "      <td>54</td>\n",
       "      <td>14.4M</td>\n",
       "      <td>21%</td>\n",
       "    </tr>\n",
       "    <tr>\n",
       "      <th>Partner Fund</th>\n",
       "      <td>-</td>\n",
       "      <td>-</td>\n",
       "      <td>-</td>\n",
       "    </tr>\n",
       "    <tr>\n",
       "      <th>Governance - Season 3</th>\n",
       "      <td>22</td>\n",
       "      <td>2.5M</td>\n",
       "      <td>-</td>\n",
       "    </tr>\n",
       "    <tr>\n",
       "      <th>Governance - Season 2</th>\n",
       "      <td>18</td>\n",
       "      <td>5.7M</td>\n",
       "      <td>-</td>\n",
       "    </tr>\n",
       "    <tr>\n",
       "      <th>Governance - Season 1</th>\n",
       "      <td>7</td>\n",
       "      <td>2.1M</td>\n",
       "      <td>-</td>\n",
       "    </tr>\n",
       "    <tr>\n",
       "      <th>Governance - Phase 0</th>\n",
       "      <td>7</td>\n",
       "      <td>4.1M</td>\n",
       "      <td>-</td>\n",
       "    </tr>\n",
       "    <tr>\n",
       "      <th rowspan=\"6\" valign=\"top\">Completed</th>\n",
       "      <th>Subtotal</th>\n",
       "      <td>10</td>\n",
       "      <td>12.5M</td>\n",
       "      <td>18%</td>\n",
       "    </tr>\n",
       "    <tr>\n",
       "      <th>Partner Fund</th>\n",
       "      <td>3</td>\n",
       "      <td>8.4M</td>\n",
       "      <td>-</td>\n",
       "    </tr>\n",
       "    <tr>\n",
       "      <th>Governance - Season 3</th>\n",
       "      <td>-</td>\n",
       "      <td>-</td>\n",
       "      <td>-</td>\n",
       "    </tr>\n",
       "    <tr>\n",
       "      <th>Governance - Season 2</th>\n",
       "      <td>2</td>\n",
       "      <td>790.0K</td>\n",
       "      <td>-</td>\n",
       "    </tr>\n",
       "    <tr>\n",
       "      <th>Governance - Season 1</th>\n",
       "      <td>1</td>\n",
       "      <td>900.0K</td>\n",
       "      <td>-</td>\n",
       "    </tr>\n",
       "    <tr>\n",
       "      <th>Governance - Phase 0</th>\n",
       "      <td>4</td>\n",
       "      <td>2.4M</td>\n",
       "      <td>-</td>\n",
       "    </tr>\n",
       "    <tr>\n",
       "      <th>Grand Total</th>\n",
       "      <th></th>\n",
       "      <td>103</td>\n",
       "      <td>69.8M</td>\n",
       "      <td>-</td>\n",
       "    </tr>\n",
       "  </tbody>\n",
       "</table>\n",
       "</div>"
      ],
      "text/plain": [
       "                                     # Programs # OP Allocated (M)  \\\n",
       "Status         Source                                                \n",
       "Live ‎🔥        Subtotal                      39              42.9M   \n",
       "               Partner Fund                   5               3.1M   \n",
       "               Governance - Season 3          1              20.0K   \n",
       "               Governance - Season 2         11               6.7M   \n",
       "               Governance - Season 1          8               3.6M   \n",
       "               Governance - Phase 0          14              29.5M   \n",
       "Coming soon ‎⏳ Subtotal                      54              14.4M   \n",
       "               Partner Fund                   -                  -   \n",
       "               Governance - Season 3         22               2.5M   \n",
       "               Governance - Season 2         18               5.7M   \n",
       "               Governance - Season 1          7               2.1M   \n",
       "               Governance - Phase 0           7               4.1M   \n",
       "Completed      Subtotal                      10              12.5M   \n",
       "               Partner Fund                   3               8.4M   \n",
       "               Governance - Season 3          -                  -   \n",
       "               Governance - Season 2          2             790.0K   \n",
       "               Governance - Season 1          1             900.0K   \n",
       "               Governance - Phase 0           4               2.4M   \n",
       "Grand Total                                 103              69.8M   \n",
       "\n",
       "                                     % OP Allocated  \n",
       "Status         Source                                \n",
       "Live ‎🔥        Subtotal                         61%  \n",
       "               Partner Fund                       -  \n",
       "               Governance - Season 3              -  \n",
       "               Governance - Season 2              -  \n",
       "               Governance - Season 1              -  \n",
       "               Governance - Phase 0               -  \n",
       "Coming soon ‎⏳ Subtotal                         21%  \n",
       "               Partner Fund                       -  \n",
       "               Governance - Season 3              -  \n",
       "               Governance - Season 2              -  \n",
       "               Governance - Season 1              -  \n",
       "               Governance - Phase 0               -  \n",
       "Completed      Subtotal                         18%  \n",
       "               Partner Fund                       -  \n",
       "               Governance - Season 3              -  \n",
       "               Governance - Season 2              -  \n",
       "               Governance - Season 1              -  \n",
       "               Governance - Phase 0               -  \n",
       "Grand Total                                       -  "
      ]
     },
     "metadata": {},
     "output_type": "display_data"
    },
    {
     "name": "stdout",
     "output_type": "stream",
     "text": [
      "\n"
     ]
    }
   ],
   "source": [
    "for i in [\"GovFund\", \"GovFund Growth Experiments\", \"All Programs\"]:\n",
    "    # Assign the filters\n",
    "    if i == \"GovFund\":\n",
    "        filter_name = \" - GovFund Only\"\n",
    "        df_choice = df_info[df_info[\"Source\"] != \"Partner Fund\"].copy()\n",
    "    elif i == \"GovFund Growth Experiments\":\n",
    "        filter_name = \" - GovFund Growth Exp.\"\n",
    "        df_choice = df_info[df_info[\"Source\"] != \"Partner Fund\"].copy()\n",
    "        df_choice = df_choice[\n",
    "            df_choice[\"Incentive / Growth Program Included?\"] == \"Yes\"\n",
    "        ]\n",
    "    else:\n",
    "        filter_name = \"\"\n",
    "        df_choice = df_info.copy()\n",
    "\n",
    "    # clean up for columns needed\n",
    "    df_choice = df_choice[\n",
    "        [\n",
    "            \"Source\",\n",
    "            \"Status\",\n",
    "            \"# OP Allocated\",\n",
    "            \"App Name\",\n",
    "            \"start_date\",\n",
    "            \"end_date\",\n",
    "            \"app_name_join\",\n",
    "            \"Incentive / Growth Program Included?\",\n",
    "        ]\n",
    "    ]\n",
    "    summary = pd.pivot_table(\n",
    "        df_choice,\n",
    "        values=[\"# OP Allocated\", \"App Name\"],\n",
    "        index=[\"Status\", \"Source\"],\n",
    "        aggfunc={\"# OP Allocated\": \"sum\", \"App Name\": \"count\"},\n",
    "    )\n",
    "\n",
    "    subtotal_name = \"Subtotal\" + filter_name\n",
    "    # calculate subtotals on program status\n",
    "    result = pd.concat(\n",
    "        [\n",
    "            summary,\n",
    "            summary.groupby(level=0)\n",
    "            .sum()\n",
    "            .assign(item_name=subtotal_name)\n",
    "            .set_index(\"item_name\", append=True),\n",
    "        ]\n",
    "    ).sort_index(level=[0, 1])\n",
    "    result = result.sort_index(level=[0, 1], ascending=[True, False])\n",
    "\n",
    "    # add grand total to summary\n",
    "    result.loc[(\"Grand Total\"), \"# OP Allocated\"] = summary[\"# OP Allocated\"].sum()\n",
    "    result.loc[(\"Grand Total\"), \"App Name\"] = summary[\"App Name\"].sum()\n",
    "\n",
    "    # cleanup display\n",
    "    result[\"# Programs\"] = result[\"App Name\"].astype(int)\n",
    "    result[\"# OP Allocated (M)\"] = result[\"# OP Allocated\"].apply(format_number)\n",
    "\n",
    "    # calculate percentage of total\n",
    "    result.loc[(slice(None), subtotal_name), \"# OP Allocated\"] / summary[\n",
    "        \"# OP Allocated\"\n",
    "    ].sum()\n",
    "    result[\"% OP Allocated\"] = (\n",
    "        round(\n",
    "            result.loc[(slice(None), subtotal_name), \"# OP Allocated\"]\n",
    "            / summary[\"# OP Allocated\"].sum()\n",
    "            * 100\n",
    "        )\n",
    "        .astype(str)\n",
    "        .replace(\"\\.0\", \"\", regex=True)\n",
    "        + \"%\"\n",
    "    )\n",
    "    result[\"% OP Allocated\"].fillna(\"-\", inplace=True)\n",
    "\n",
    "    result = result.replace((0, \"0.0M\", \"0.0\"), \"-\")\n",
    "    print(i)\n",
    "    display(result.drop(columns=[\"# OP Allocated\", \"App Name\"]))\n",
    "    print()"
   ]
  },
  {
   "cell_type": "code",
   "execution_count": 6,
   "metadata": {},
   "outputs": [
    {
     "data": {
      "text/html": [
       "<div>\n",
       "<style scoped>\n",
       "    .dataframe tbody tr th:only-of-type {\n",
       "        vertical-align: middle;\n",
       "    }\n",
       "\n",
       "    .dataframe tbody tr th {\n",
       "        vertical-align: top;\n",
       "    }\n",
       "\n",
       "    .dataframe thead th {\n",
       "        text-align: right;\n",
       "    }\n",
       "</style>\n",
       "<table border=\"1\" class=\"dataframe\">\n",
       "  <thead>\n",
       "    <tr style=\"text-align: right;\">\n",
       "      <th></th>\n",
       "      <th>Source</th>\n",
       "      <th>Status</th>\n",
       "      <th># OP Allocated</th>\n",
       "      <th>App Name</th>\n",
       "      <th>start_date</th>\n",
       "      <th>end_date</th>\n",
       "      <th>Incentive / Growth Program Included?</th>\n",
       "    </tr>\n",
       "  </thead>\n",
       "  <tbody>\n",
       "    <tr>\n",
       "      <th>46</th>\n",
       "      <td>Governance - Season 3</td>\n",
       "      <td>Live ‎🔥</td>\n",
       "      <td>20,000.00</td>\n",
       "      <td>Geo Web</td>\n",
       "      <td>2023-04-12</td>\n",
       "      <td>-</td>\n",
       "      <td>Yes</td>\n",
       "    </tr>\n",
       "    <tr>\n",
       "      <th>63</th>\n",
       "      <td>Partner Fund</td>\n",
       "      <td>Live ‎🔥</td>\n",
       "      <td>1,000,000.00</td>\n",
       "      <td>Lido</td>\n",
       "      <td>2023-04-07</td>\n",
       "      <td>-</td>\n",
       "      <td>Yes</td>\n",
       "    </tr>\n",
       "  </tbody>\n",
       "</table>\n",
       "</div>"
      ],
      "text/plain": [
       "                   Source   Status  # OP Allocated App Name start_date  \\\n",
       "46  Governance - Season 3  Live ‎🔥       20,000.00  Geo Web 2023-04-12   \n",
       "63           Partner Fund  Live ‎🔥    1,000,000.00     Lido 2023-04-07   \n",
       "\n",
       "   end_date Incentive / Growth Program Included?  \n",
       "46        -                                  Yes  \n",
       "63        -                                  Yes  "
      ]
     },
     "metadata": {},
     "output_type": "display_data"
    }
   ],
   "source": [
    "# display new programs in last 30 days\n",
    "df_new_programs = df_choice[\n",
    "    df_choice[\"start_date\"] > pd.Timestamp(\"today\") - timedelta(days=LAST_N_DAYS)\n",
    "].sort_values(by=\"start_date\", ascending=False)\n",
    "if not df_new_programs.empty:\n",
    "    df_new_programs[\"end_date\"].fillna(\"-\", inplace=True)\n",
    "    display(df_new_programs.drop(\"app_name_join\", axis=1))"
   ]
  },
  {
   "cell_type": "code",
   "execution_count": 7,
   "metadata": {},
   "outputs": [],
   "source": [
    "# display completed programs in last 30 days\n",
    "df_completed = df_choice[\n",
    "    (df_choice[\"Status\"] == \"Completed\")\n",
    "    & (df_choice[\"end_date\"] > pd.Timestamp(\"today\") - timedelta(days=LAST_N_DAYS))\n",
    "].sort_values(by=\"start_date\", ascending=False)\n",
    "if not df_completed.empty:\n",
    "    display(df_completed.drop(\"app_name_join\", axis=1))"
   ]
  },
  {
   "attachments": {},
   "cell_type": "markdown",
   "metadata": {},
   "source": [
    "# Usage and TVL Attribution\n",
    "To combine all sources of data together"
   ]
  },
  {
   "cell_type": "code",
   "execution_count": 8,
   "metadata": {},
   "outputs": [],
   "source": [
    "# read in input data\n",
    "df_usage = pd.read_csv(\"csv_outputs/\" + \"dune_op_program_performance_summary\" + \".csv\")\n",
    "# convert to datetime\n",
    "df_usage[\"start_date\"] = pd.to_datetime(df_usage[\"start_date\"])\n",
    "df_usage[\"end_date\"] = pd.to_datetime(df_usage[\"end_date\"])\n",
    "\n",
    "df_usage[\"app_name_join\"] = df_usage[\"app_name_a\"].apply(cleanup_string)\n",
    "df_usage[\"duration_days\"] = (\n",
    "    df_usage[\"end_date\"].fillna(datetime.now()) - df_usage[\"start_date\"]\n",
    ").dt.days + 1  # if start and end date is the same, add 1 to include that day\n",
    "\n",
    "# drop op_deployed from df_usage to avoid duplicates\n",
    "df_usage = df_usage.drop(columns=[\"op_deployed\"])\n",
    "\n",
    "df_tvl = pd.read_csv(\"csv_outputs/op_summer_latest_stats.csv\")\n",
    "df_tvl = df_tvl[df_tvl[\"include_in_summary\"] == 1]\n",
    "df_tvl[\"app_name_join\"] = df_tvl[\"parent_protocol\"].apply(cleanup_string)\n",
    "\n",
    "df_op_distribution = pd.read_csv(\"csv_outputs/dune_op_distribution_type.csv\")\n",
    "df_op_distribution[\"net_op_deployed\"] = (\n",
    "    df_op_distribution[\"op_deployed\"] - df_op_distribution[\"op_from_other_projects\"]\n",
    ").astype(float)\n",
    "df_op_distribution[\"app_name_join\"] = df_op_distribution[\"project_name\"].apply(\n",
    "    cleanup_string\n",
    ")\n",
    "\n",
    "# filter to incentive / growth programs only\n",
    "condition = (df_choice[\"Incentive / Growth Program Included?\"] == \"Yes\") & (\n",
    "    df_choice[\"start_date\"].notnull()\n",
    ")\n",
    "df_choice = df_choice[condition]"
   ]
  },
  {
   "cell_type": "code",
   "execution_count": 9,
   "metadata": {},
   "outputs": [],
   "source": [
    "df_to_summarize = {\n",
    "    # df | groupby | column to summarize\n",
    "    \"df_choice\": (\"app_name_join\", \"# OP Allocated\"),\n",
    "    \"df_tvl\": (\n",
    "        \"app_name_join\",\n",
    "        [\n",
    "            \"cumul_last_price_net_dollar_flow\",\n",
    "            \"cumul_last_price_net_dollar_flow_at_program_end\",\n",
    "        ],\n",
    "    ),\n",
    "    \"df_op_distribution\": (\"app_name_join\", [\"op_deployed\", \"net_op_deployed\"]),\n",
    "}\n",
    "\n",
    "summary_dfs = {}  # create an empty dictionary to store the resulting DataFrames\n",
    "\n",
    "for df_name, (groupby_col, sum_cols) in df_to_summarize.items():\n",
    "    df = globals()[df_name]  # assuming the dataframes are stored as global variables\n",
    "    if isinstance(sum_cols, str):  # if only one column to sum is specified\n",
    "        sum_cols = [sum_cols]\n",
    "    # groupby and sum the specified columns\n",
    "    grouped = df.groupby(groupby_col)[sum_cols].sum().reset_index()\n",
    "    # create a new variable with the summary DataFrame\n",
    "    first_word = groupby_col.split(\"_\")[0]\n",
    "    summary_df_name = f\"{df_name}_summary_{first_word}\"\n",
    "    summary_dfs[summary_df_name] = grouped\n",
    "\n",
    "# unpack summary_dfs into separate variables with the same names\n",
    "locals().update(summary_dfs)\n",
    "\n",
    "# access each summary DataFrame by its variable name\n",
    "# df_choice_summary_app\n",
    "# df_tvl_summary_app\n",
    "# df_op_distribution_summary_app"
   ]
  },
  {
   "attachments": {},
   "cell_type": "markdown",
   "metadata": {},
   "source": [
    "### By App"
   ]
  },
  {
   "cell_type": "code",
   "execution_count": 10,
   "metadata": {},
   "outputs": [],
   "source": [
    "# by app\n",
    "df_combined_app = merge_dfs(\n",
    "    df_usage=df_usage,\n",
    "    df_tvl_summary_app=df_tvl_summary_app,\n",
    "    df_choice_summary_app=df_choice_summary_app,\n",
    "    df_op_distribution_summary_app=df_op_distribution_summary_app,\n",
    ")\n",
    "\n",
    "# # if op_deployed higher than op allocated, set to op allocated value\n",
    "# mask = df_combined_app['op_deployed'] > df_combined_app['# OP Allocated']\n",
    "# df_combined_app.loc[mask, 'op_deployed'] = df_combined_app.loc[mask, '# OP Allocated']\n",
    "\n",
    "df_combined_app = df_combined_app.dropna(subset=[\"# OP Allocated\"])\n",
    "\n",
    "# calculate metrics\n",
    "result_app = calculate_metrics(\n",
    "    df_combined_app, op=\"op_deployed\"\n",
    ")  # by app use op_deployed\n",
    "# display(result_app)"
   ]
  },
  {
   "cell_type": "code",
   "execution_count": 11,
   "metadata": {},
   "outputs": [
    {
     "data": {
      "text/html": [
       "<div>\n",
       "<style scoped>\n",
       "    .dataframe tbody tr th:only-of-type {\n",
       "        vertical-align: middle;\n",
       "    }\n",
       "\n",
       "    .dataframe tbody tr th {\n",
       "        vertical-align: top;\n",
       "    }\n",
       "\n",
       "    .dataframe thead th {\n",
       "        text-align: right;\n",
       "    }\n",
       "</style>\n",
       "<table border=\"1\" class=\"dataframe\">\n",
       "  <thead>\n",
       "    <tr style=\"text-align: right;\">\n",
       "      <th></th>\n",
       "      <th>app_name_a</th>\n",
       "      <th># OP Allocated</th>\n",
       "      <th>op_deployed</th>\n",
       "      <th>cumul_last_price_net_dollar_flow</th>\n",
       "      <th>net_tvl_per_op</th>\n",
       "    </tr>\n",
       "  </thead>\n",
       "  <tbody>\n",
       "    <tr>\n",
       "      <th>0</th>\n",
       "      <td>Velodrome</td>\n",
       "      <td>7,000,000.00</td>\n",
       "      <td>6,176,064.87</td>\n",
       "      <td>286,687,198.01</td>\n",
       "      <td>46.42</td>\n",
       "    </tr>\n",
       "    <tr>\n",
       "      <th>1</th>\n",
       "      <td>Aave</td>\n",
       "      <td>5,000,000.00</td>\n",
       "      <td>4,825,866.31</td>\n",
       "      <td>77,329,625.73</td>\n",
       "      <td>16.02</td>\n",
       "    </tr>\n",
       "    <tr>\n",
       "      <th>2</th>\n",
       "      <td>Beefy Finance</td>\n",
       "      <td>650,000.00</td>\n",
       "      <td>320,961.67</td>\n",
       "      <td>74,238,743.77</td>\n",
       "      <td>231.30</td>\n",
       "    </tr>\n",
       "    <tr>\n",
       "      <th>3</th>\n",
       "      <td>Uniswap</td>\n",
       "      <td>1,000,000.00</td>\n",
       "      <td>799,999.98</td>\n",
       "      <td>46,778,915.78</td>\n",
       "      <td>58.47</td>\n",
       "    </tr>\n",
       "    <tr>\n",
       "      <th>4</th>\n",
       "      <td>Synthetix</td>\n",
       "      <td>9,000,000.00</td>\n",
       "      <td>5,409,432.50</td>\n",
       "      <td>42,692,842.41</td>\n",
       "      <td>7.89</td>\n",
       "    </tr>\n",
       "    <tr>\n",
       "      <th>5</th>\n",
       "      <td>Beethoven X</td>\n",
       "      <td>500,000.00</td>\n",
       "      <td>240,375.09</td>\n",
       "      <td>38,908,348.18</td>\n",
       "      <td>161.87</td>\n",
       "    </tr>\n",
       "    <tr>\n",
       "      <th>6</th>\n",
       "      <td>Lido</td>\n",
       "      <td>1,000,000.00</td>\n",
       "      <td>64,875.00</td>\n",
       "      <td>34,236,052.14</td>\n",
       "      <td>527.72</td>\n",
       "    </tr>\n",
       "    <tr>\n",
       "      <th>7</th>\n",
       "      <td>Stargate Finance</td>\n",
       "      <td>1,000,000.00</td>\n",
       "      <td>544,725.73</td>\n",
       "      <td>23,880,251.55</td>\n",
       "      <td>43.84</td>\n",
       "    </tr>\n",
       "    <tr>\n",
       "      <th>8</th>\n",
       "      <td>dHedge</td>\n",
       "      <td>350,000.00</td>\n",
       "      <td>305,704.66</td>\n",
       "      <td>21,872,380.48</td>\n",
       "      <td>71.55</td>\n",
       "    </tr>\n",
       "    <tr>\n",
       "      <th>9</th>\n",
       "      <td>Celer</td>\n",
       "      <td>1,000,000.00</td>\n",
       "      <td>220,001.00</td>\n",
       "      <td>11,665,874.05</td>\n",
       "      <td>53.03</td>\n",
       "    </tr>\n",
       "  </tbody>\n",
       "</table>\n",
       "</div>"
      ],
      "text/plain": [
       "         app_name_a  # OP Allocated  op_deployed  \\\n",
       "0         Velodrome    7,000,000.00 6,176,064.87   \n",
       "1              Aave    5,000,000.00 4,825,866.31   \n",
       "2     Beefy Finance      650,000.00   320,961.67   \n",
       "3           Uniswap    1,000,000.00   799,999.98   \n",
       "4         Synthetix    9,000,000.00 5,409,432.50   \n",
       "5       Beethoven X      500,000.00   240,375.09   \n",
       "6              Lido    1,000,000.00    64,875.00   \n",
       "7  Stargate Finance    1,000,000.00   544,725.73   \n",
       "8            dHedge      350,000.00   305,704.66   \n",
       "9             Celer    1,000,000.00   220,001.00   \n",
       "\n",
       "   cumul_last_price_net_dollar_flow  net_tvl_per_op  \n",
       "0                    286,687,198.01           46.42  \n",
       "1                     77,329,625.73           16.02  \n",
       "2                     74,238,743.77          231.30  \n",
       "3                     46,778,915.78           58.47  \n",
       "4                     42,692,842.41            7.89  \n",
       "5                     38,908,348.18          161.87  \n",
       "6                     34,236,052.14          527.72  \n",
       "7                     23,880,251.55           43.84  \n",
       "8                     21,872,380.48           71.55  \n",
       "9                     11,665,874.05           53.03  "
      ]
     },
     "metadata": {},
     "output_type": "display_data"
    }
   ],
   "source": [
    "# sort by tvl\n",
    "cols = [\n",
    "    \"app_name_a\",\n",
    "    \"# OP Allocated\",\n",
    "    \"op_deployed\",\n",
    "    \"cumul_last_price_net_dollar_flow\",\n",
    "    \"net_tvl_per_op\",\n",
    "]\n",
    "display(\n",
    "    result_app[cols]\n",
    "    .sort_values(\"cumul_last_price_net_dollar_flow\", ascending=False)\n",
    "    .reset_index(drop=True)\n",
    "    .head(10)\n",
    ")"
   ]
  },
  {
   "cell_type": "code",
   "execution_count": 12,
   "metadata": {},
   "outputs": [
    {
     "data": {
      "text/html": [
       "<div>\n",
       "<style scoped>\n",
       "    .dataframe tbody tr th:only-of-type {\n",
       "        vertical-align: middle;\n",
       "    }\n",
       "\n",
       "    .dataframe tbody tr th {\n",
       "        vertical-align: top;\n",
       "    }\n",
       "\n",
       "    .dataframe thead th {\n",
       "        text-align: right;\n",
       "    }\n",
       "</style>\n",
       "<table border=\"1\" class=\"dataframe\">\n",
       "  <thead>\n",
       "    <tr style=\"text-align: right;\">\n",
       "      <th></th>\n",
       "      <th>app_name_a</th>\n",
       "      <th># OP Allocated</th>\n",
       "      <th>op_deployed</th>\n",
       "      <th>incremental_txs_per_day</th>\n",
       "      <th>incremental_txs_annualized_per_op</th>\n",
       "      <th>incremental_txs_per_day_after</th>\n",
       "      <th>incremental_txs_after_annualized_per_op</th>\n",
       "    </tr>\n",
       "  </thead>\n",
       "  <tbody>\n",
       "    <tr>\n",
       "      <th>0</th>\n",
       "      <td>Velodrome</td>\n",
       "      <td>7,000,000.00</td>\n",
       "      <td>6,176,064.87</td>\n",
       "      <td>7,545.79</td>\n",
       "      <td>0.45</td>\n",
       "      <td>NaN</td>\n",
       "      <td>NaN</td>\n",
       "    </tr>\n",
       "    <tr>\n",
       "      <th>1</th>\n",
       "      <td>Stargate Finance</td>\n",
       "      <td>1,000,000.00</td>\n",
       "      <td>544,725.73</td>\n",
       "      <td>4,758.22</td>\n",
       "      <td>3.19</td>\n",
       "      <td>NaN</td>\n",
       "      <td>NaN</td>\n",
       "    </tr>\n",
       "    <tr>\n",
       "      <th>2</th>\n",
       "      <td>Rubicon</td>\n",
       "      <td>900,000.00</td>\n",
       "      <td>793,865.55</td>\n",
       "      <td>4,110.26</td>\n",
       "      <td>1.89</td>\n",
       "      <td>1,583.82</td>\n",
       "      <td>0.73</td>\n",
       "    </tr>\n",
       "    <tr>\n",
       "      <th>3</th>\n",
       "      <td>Pika Protocol</td>\n",
       "      <td>900,000.00</td>\n",
       "      <td>718,719.00</td>\n",
       "      <td>3,895.55</td>\n",
       "      <td>1.98</td>\n",
       "      <td>NaN</td>\n",
       "      <td>NaN</td>\n",
       "    </tr>\n",
       "    <tr>\n",
       "      <th>4</th>\n",
       "      <td>Synthetix</td>\n",
       "      <td>9,000,000.00</td>\n",
       "      <td>5,409,432.50</td>\n",
       "      <td>3,865.67</td>\n",
       "      <td>0.26</td>\n",
       "      <td>NaN</td>\n",
       "      <td>NaN</td>\n",
       "    </tr>\n",
       "    <tr>\n",
       "      <th>5</th>\n",
       "      <td>Aave</td>\n",
       "      <td>5,000,000.00</td>\n",
       "      <td>4,825,866.31</td>\n",
       "      <td>3,122.79</td>\n",
       "      <td>0.24</td>\n",
       "      <td>4,744.49</td>\n",
       "      <td>0.36</td>\n",
       "    </tr>\n",
       "    <tr>\n",
       "      <th>6</th>\n",
       "      <td>Uniswap</td>\n",
       "      <td>1,000,000.00</td>\n",
       "      <td>799,999.98</td>\n",
       "      <td>2,767.26</td>\n",
       "      <td>1.26</td>\n",
       "      <td>NaN</td>\n",
       "      <td>NaN</td>\n",
       "    </tr>\n",
       "    <tr>\n",
       "      <th>7</th>\n",
       "      <td>Hop Protocol</td>\n",
       "      <td>1,000,000.00</td>\n",
       "      <td>174,149.31</td>\n",
       "      <td>2,674.78</td>\n",
       "      <td>5.61</td>\n",
       "      <td>NaN</td>\n",
       "      <td>NaN</td>\n",
       "    </tr>\n",
       "    <tr>\n",
       "      <th>8</th>\n",
       "      <td>1inch</td>\n",
       "      <td>300,000.00</td>\n",
       "      <td>300,000.00</td>\n",
       "      <td>2,100.50</td>\n",
       "      <td>2.56</td>\n",
       "      <td>390.16</td>\n",
       "      <td>0.47</td>\n",
       "    </tr>\n",
       "    <tr>\n",
       "      <th>9</th>\n",
       "      <td>Beethoven X</td>\n",
       "      <td>500,000.00</td>\n",
       "      <td>240,375.09</td>\n",
       "      <td>1,900.86</td>\n",
       "      <td>2.89</td>\n",
       "      <td>NaN</td>\n",
       "      <td>NaN</td>\n",
       "    </tr>\n",
       "  </tbody>\n",
       "</table>\n",
       "</div>"
      ],
      "text/plain": [
       "         app_name_a  # OP Allocated  op_deployed  incremental_txs_per_day  \\\n",
       "0         Velodrome    7,000,000.00 6,176,064.87                 7,545.79   \n",
       "1  Stargate Finance    1,000,000.00   544,725.73                 4,758.22   \n",
       "2           Rubicon      900,000.00   793,865.55                 4,110.26   \n",
       "3     Pika Protocol      900,000.00   718,719.00                 3,895.55   \n",
       "4         Synthetix    9,000,000.00 5,409,432.50                 3,865.67   \n",
       "5              Aave    5,000,000.00 4,825,866.31                 3,122.79   \n",
       "6           Uniswap    1,000,000.00   799,999.98                 2,767.26   \n",
       "7      Hop Protocol    1,000,000.00   174,149.31                 2,674.78   \n",
       "8             1inch      300,000.00   300,000.00                 2,100.50   \n",
       "9       Beethoven X      500,000.00   240,375.09                 1,900.86   \n",
       "\n",
       "   incremental_txs_annualized_per_op  incremental_txs_per_day_after  \\\n",
       "0                               0.45                            NaN   \n",
       "1                               3.19                            NaN   \n",
       "2                               1.89                       1,583.82   \n",
       "3                               1.98                            NaN   \n",
       "4                               0.26                            NaN   \n",
       "5                               0.24                       4,744.49   \n",
       "6                               1.26                            NaN   \n",
       "7                               5.61                            NaN   \n",
       "8                               2.56                         390.16   \n",
       "9                               2.89                            NaN   \n",
       "\n",
       "   incremental_txs_after_annualized_per_op  \n",
       "0                                      NaN  \n",
       "1                                      NaN  \n",
       "2                                     0.73  \n",
       "3                                      NaN  \n",
       "4                                      NaN  \n",
       "5                                     0.36  \n",
       "6                                      NaN  \n",
       "7                                      NaN  \n",
       "8                                     0.47  \n",
       "9                                      NaN  "
      ]
     },
     "metadata": {},
     "output_type": "display_data"
    },
    {
     "data": {
      "text/html": [
       "<div>\n",
       "<style scoped>\n",
       "    .dataframe tbody tr th:only-of-type {\n",
       "        vertical-align: middle;\n",
       "    }\n",
       "\n",
       "    .dataframe tbody tr th {\n",
       "        vertical-align: top;\n",
       "    }\n",
       "\n",
       "    .dataframe thead th {\n",
       "        text-align: right;\n",
       "    }\n",
       "</style>\n",
       "<table border=\"1\" class=\"dataframe\">\n",
       "  <thead>\n",
       "    <tr style=\"text-align: right;\">\n",
       "      <th></th>\n",
       "      <th>app_name_a</th>\n",
       "      <th># OP Allocated</th>\n",
       "      <th>op_deployed</th>\n",
       "      <th>incremental_txs_per_day</th>\n",
       "      <th>incremental_txs_annualized_per_op</th>\n",
       "      <th>incremental_txs_per_day_after</th>\n",
       "      <th>incremental_txs_after_annualized_per_op</th>\n",
       "    </tr>\n",
       "  </thead>\n",
       "  <tbody>\n",
       "    <tr>\n",
       "      <th>0</th>\n",
       "      <td>Rubicon</td>\n",
       "      <td>900,000.00</td>\n",
       "      <td>793,865.55</td>\n",
       "      <td>4,110.26</td>\n",
       "      <td>1.89</td>\n",
       "      <td>1,583.82</td>\n",
       "      <td>0.73</td>\n",
       "    </tr>\n",
       "    <tr>\n",
       "      <th>1</th>\n",
       "      <td>1inch</td>\n",
       "      <td>300,000.00</td>\n",
       "      <td>300,000.00</td>\n",
       "      <td>2,100.50</td>\n",
       "      <td>2.56</td>\n",
       "      <td>390.16</td>\n",
       "      <td>0.47</td>\n",
       "    </tr>\n",
       "    <tr>\n",
       "      <th>2</th>\n",
       "      <td>Aave</td>\n",
       "      <td>5,000,000.00</td>\n",
       "      <td>4,825,866.31</td>\n",
       "      <td>3,122.79</td>\n",
       "      <td>0.24</td>\n",
       "      <td>4,744.49</td>\n",
       "      <td>0.36</td>\n",
       "    </tr>\n",
       "    <tr>\n",
       "      <th>3</th>\n",
       "      <td>Revert Finance</td>\n",
       "      <td>240,000.00</td>\n",
       "      <td>240,838.05</td>\n",
       "      <td>217.58</td>\n",
       "      <td>0.33</td>\n",
       "      <td>115.65</td>\n",
       "      <td>0.18</td>\n",
       "    </tr>\n",
       "    <tr>\n",
       "      <th>4</th>\n",
       "      <td>WePiggy</td>\n",
       "      <td>300,000.00</td>\n",
       "      <td>300,009.76</td>\n",
       "      <td>39.35</td>\n",
       "      <td>0.05</td>\n",
       "      <td>12.07</td>\n",
       "      <td>0.01</td>\n",
       "    </tr>\n",
       "    <tr>\n",
       "      <th>5</th>\n",
       "      <td>XToken</td>\n",
       "      <td>900,000.00</td>\n",
       "      <td>709,841.31</td>\n",
       "      <td>17.84</td>\n",
       "      <td>0.01</td>\n",
       "      <td>3.43</td>\n",
       "      <td>0.00</td>\n",
       "    </tr>\n",
       "    <tr>\n",
       "      <th>6</th>\n",
       "      <td>Aelin</td>\n",
       "      <td>900,000.00</td>\n",
       "      <td>900,001.00</td>\n",
       "      <td>7.83</td>\n",
       "      <td>0.00</td>\n",
       "      <td>-4.99</td>\n",
       "      <td>-0.00</td>\n",
       "    </tr>\n",
       "  </tbody>\n",
       "</table>\n",
       "</div>"
      ],
      "text/plain": [
       "       app_name_a  # OP Allocated  op_deployed  incremental_txs_per_day  \\\n",
       "0         Rubicon      900,000.00   793,865.55                 4,110.26   \n",
       "1           1inch      300,000.00   300,000.00                 2,100.50   \n",
       "2            Aave    5,000,000.00 4,825,866.31                 3,122.79   \n",
       "3  Revert Finance      240,000.00   240,838.05                   217.58   \n",
       "4         WePiggy      300,000.00   300,009.76                    39.35   \n",
       "5          XToken      900,000.00   709,841.31                    17.84   \n",
       "6           Aelin      900,000.00   900,001.00                     7.83   \n",
       "\n",
       "   incremental_txs_annualized_per_op  incremental_txs_per_day_after  \\\n",
       "0                               1.89                       1,583.82   \n",
       "1                               2.56                         390.16   \n",
       "2                               0.24                       4,744.49   \n",
       "3                               0.33                         115.65   \n",
       "4                               0.05                          12.07   \n",
       "5                               0.01                           3.43   \n",
       "6                               0.00                          -4.99   \n",
       "\n",
       "   incremental_txs_after_annualized_per_op  \n",
       "0                                     0.73  \n",
       "1                                     0.47  \n",
       "2                                     0.36  \n",
       "3                                     0.18  \n",
       "4                                     0.01  \n",
       "5                                     0.00  \n",
       "6                                    -0.00  "
      ]
     },
     "metadata": {},
     "output_type": "display_data"
    }
   ],
   "source": [
    "# sort by txs\n",
    "txs_cols = [\n",
    "    \"app_name_a\",\n",
    "    \"# OP Allocated\",\n",
    "    \"op_deployed\",\n",
    "    \"incremental_txs_per_day\",\n",
    "    \"incremental_txs_annualized_per_op\",\n",
    "    \"incremental_txs_per_day_after\",\n",
    "    \"incremental_txs_after_annualized_per_op\",\n",
    "]\n",
    "\n",
    "# # result_app[txs_cols].to_csv('csv_outputs/transaction_stats_by_app.csv')\n",
    "\n",
    "display(\n",
    "    result_app[txs_cols]\n",
    "    .sort_values(\"incremental_txs_per_day\", ascending=False)\n",
    "    .reset_index(drop=True)\n",
    "    .head(10)\n",
    ")\n",
    "\n",
    "display(\n",
    "    result_app[txs_cols]\n",
    "    .sort_values(\"incremental_txs_after_annualized_per_op\", ascending=False)\n",
    "    .dropna()\n",
    "    .reset_index(drop=True)\n",
    "    .head(10)\n",
    ")"
   ]
  },
  {
   "cell_type": "code",
   "execution_count": 13,
   "metadata": {},
   "outputs": [
    {
     "data": {
      "text/html": [
       "<div>\n",
       "<style scoped>\n",
       "    .dataframe tbody tr th:only-of-type {\n",
       "        vertical-align: middle;\n",
       "    }\n",
       "\n",
       "    .dataframe tbody tr th {\n",
       "        vertical-align: top;\n",
       "    }\n",
       "\n",
       "    .dataframe thead th {\n",
       "        text-align: right;\n",
       "    }\n",
       "</style>\n",
       "<table border=\"1\" class=\"dataframe\">\n",
       "  <thead>\n",
       "    <tr style=\"text-align: right;\">\n",
       "      <th></th>\n",
       "      <th>app_name_a</th>\n",
       "      <th># OP Allocated</th>\n",
       "      <th>op_deployed</th>\n",
       "      <th>incremental_gas_fee_eth_per_day</th>\n",
       "      <th>incremental_gas_fee_eth_annualized_per_op</th>\n",
       "      <th>incremental_gas_fee_eth_per_day_after</th>\n",
       "      <th>incremental_gas_fee_eth_after_annualized_per_op</th>\n",
       "    </tr>\n",
       "  </thead>\n",
       "  <tbody>\n",
       "    <tr>\n",
       "      <th>0</th>\n",
       "      <td>Synthetix</td>\n",
       "      <td>9,000,000.00</td>\n",
       "      <td>5,409,432.50</td>\n",
       "      <td>54.54</td>\n",
       "      <td>0.0037</td>\n",
       "      <td>NaN</td>\n",
       "      <td>nan</td>\n",
       "    </tr>\n",
       "    <tr>\n",
       "      <th>1</th>\n",
       "      <td>Velodrome</td>\n",
       "      <td>7,000,000.00</td>\n",
       "      <td>6,176,064.87</td>\n",
       "      <td>22.85</td>\n",
       "      <td>0.0014</td>\n",
       "      <td>NaN</td>\n",
       "      <td>nan</td>\n",
       "    </tr>\n",
       "    <tr>\n",
       "      <th>2</th>\n",
       "      <td>Stargate Finance</td>\n",
       "      <td>1,000,000.00</td>\n",
       "      <td>544,725.73</td>\n",
       "      <td>11.01</td>\n",
       "      <td>0.0074</td>\n",
       "      <td>NaN</td>\n",
       "      <td>nan</td>\n",
       "    </tr>\n",
       "    <tr>\n",
       "      <th>3</th>\n",
       "      <td>Hop Protocol</td>\n",
       "      <td>1,000,000.00</td>\n",
       "      <td>174,149.31</td>\n",
       "      <td>10.26</td>\n",
       "      <td>0.0215</td>\n",
       "      <td>NaN</td>\n",
       "      <td>nan</td>\n",
       "    </tr>\n",
       "    <tr>\n",
       "      <th>4</th>\n",
       "      <td>Uniswap</td>\n",
       "      <td>1,000,000.00</td>\n",
       "      <td>799,999.98</td>\n",
       "      <td>6.16</td>\n",
       "      <td>0.0028</td>\n",
       "      <td>NaN</td>\n",
       "      <td>nan</td>\n",
       "    </tr>\n",
       "    <tr>\n",
       "      <th>5</th>\n",
       "      <td>Beethoven X</td>\n",
       "      <td>500,000.00</td>\n",
       "      <td>240,375.09</td>\n",
       "      <td>4.53</td>\n",
       "      <td>0.0069</td>\n",
       "      <td>NaN</td>\n",
       "      <td>nan</td>\n",
       "    </tr>\n",
       "    <tr>\n",
       "      <th>6</th>\n",
       "      <td>Aave</td>\n",
       "      <td>5,000,000.00</td>\n",
       "      <td>4,825,866.31</td>\n",
       "      <td>4.47</td>\n",
       "      <td>0.0003</td>\n",
       "      <td>8.05</td>\n",
       "      <td>0.0006</td>\n",
       "    </tr>\n",
       "    <tr>\n",
       "      <th>7</th>\n",
       "      <td>Rubicon</td>\n",
       "      <td>900,000.00</td>\n",
       "      <td>793,865.55</td>\n",
       "      <td>4.15</td>\n",
       "      <td>0.0019</td>\n",
       "      <td>5.63</td>\n",
       "      <td>0.0026</td>\n",
       "    </tr>\n",
       "    <tr>\n",
       "      <th>8</th>\n",
       "      <td>QiDao</td>\n",
       "      <td>750,000.00</td>\n",
       "      <td>362,027.56</td>\n",
       "      <td>3.35</td>\n",
       "      <td>0.0034</td>\n",
       "      <td>NaN</td>\n",
       "      <td>nan</td>\n",
       "    </tr>\n",
       "    <tr>\n",
       "      <th>9</th>\n",
       "      <td>Kwenta</td>\n",
       "      <td>900,000.00</td>\n",
       "      <td>911,571.00</td>\n",
       "      <td>2.85</td>\n",
       "      <td>0.0011</td>\n",
       "      <td>NaN</td>\n",
       "      <td>nan</td>\n",
       "    </tr>\n",
       "  </tbody>\n",
       "</table>\n",
       "</div>"
      ],
      "text/plain": [
       "         app_name_a  # OP Allocated  op_deployed  \\\n",
       "0         Synthetix    9,000,000.00 5,409,432.50   \n",
       "1         Velodrome    7,000,000.00 6,176,064.87   \n",
       "2  Stargate Finance    1,000,000.00   544,725.73   \n",
       "3      Hop Protocol    1,000,000.00   174,149.31   \n",
       "4           Uniswap    1,000,000.00   799,999.98   \n",
       "5       Beethoven X      500,000.00   240,375.09   \n",
       "6              Aave    5,000,000.00 4,825,866.31   \n",
       "7           Rubicon      900,000.00   793,865.55   \n",
       "8             QiDao      750,000.00   362,027.56   \n",
       "9            Kwenta      900,000.00   911,571.00   \n",
       "\n",
       "   incremental_gas_fee_eth_per_day incremental_gas_fee_eth_annualized_per_op  \\\n",
       "0                            54.54                                    0.0037   \n",
       "1                            22.85                                    0.0014   \n",
       "2                            11.01                                    0.0074   \n",
       "3                            10.26                                    0.0215   \n",
       "4                             6.16                                    0.0028   \n",
       "5                             4.53                                    0.0069   \n",
       "6                             4.47                                    0.0003   \n",
       "7                             4.15                                    0.0019   \n",
       "8                             3.35                                    0.0034   \n",
       "9                             2.85                                    0.0011   \n",
       "\n",
       "   incremental_gas_fee_eth_per_day_after  \\\n",
       "0                                    NaN   \n",
       "1                                    NaN   \n",
       "2                                    NaN   \n",
       "3                                    NaN   \n",
       "4                                    NaN   \n",
       "5                                    NaN   \n",
       "6                                   8.05   \n",
       "7                                   5.63   \n",
       "8                                    NaN   \n",
       "9                                    NaN   \n",
       "\n",
       "  incremental_gas_fee_eth_after_annualized_per_op  \n",
       "0                                             nan  \n",
       "1                                             nan  \n",
       "2                                             nan  \n",
       "3                                             nan  \n",
       "4                                             nan  \n",
       "5                                             nan  \n",
       "6                                          0.0006  \n",
       "7                                          0.0026  \n",
       "8                                             nan  \n",
       "9                                             nan  "
      ]
     },
     "metadata": {},
     "output_type": "display_data"
    },
    {
     "data": {
      "text/html": [
       "<div>\n",
       "<style scoped>\n",
       "    .dataframe tbody tr th:only-of-type {\n",
       "        vertical-align: middle;\n",
       "    }\n",
       "\n",
       "    .dataframe tbody tr th {\n",
       "        vertical-align: top;\n",
       "    }\n",
       "\n",
       "    .dataframe thead th {\n",
       "        text-align: right;\n",
       "    }\n",
       "</style>\n",
       "<table border=\"1\" class=\"dataframe\">\n",
       "  <thead>\n",
       "    <tr style=\"text-align: right;\">\n",
       "      <th></th>\n",
       "      <th>app_name_a</th>\n",
       "      <th># OP Allocated</th>\n",
       "      <th>op_deployed</th>\n",
       "      <th>incremental_gas_fee_eth_per_day</th>\n",
       "      <th>incremental_gas_fee_eth_annualized_per_op</th>\n",
       "      <th>incremental_gas_fee_eth_per_day_after</th>\n",
       "      <th>incremental_gas_fee_eth_after_annualized_per_op</th>\n",
       "    </tr>\n",
       "  </thead>\n",
       "  <tbody>\n",
       "    <tr>\n",
       "      <th>0</th>\n",
       "      <td>Rubicon</td>\n",
       "      <td>900,000.00</td>\n",
       "      <td>793,865.55</td>\n",
       "      <td>4.15</td>\n",
       "      <td>0.0019</td>\n",
       "      <td>5.63</td>\n",
       "      <td>0.0026</td>\n",
       "    </tr>\n",
       "    <tr>\n",
       "      <th>1</th>\n",
       "      <td>Aave</td>\n",
       "      <td>5,000,000.00</td>\n",
       "      <td>4,825,866.31</td>\n",
       "      <td>4.47</td>\n",
       "      <td>0.0003</td>\n",
       "      <td>8.05</td>\n",
       "      <td>0.0006</td>\n",
       "    </tr>\n",
       "    <tr>\n",
       "      <th>2</th>\n",
       "      <td>WePiggy</td>\n",
       "      <td>300,000.00</td>\n",
       "      <td>300,009.76</td>\n",
       "      <td>0.08</td>\n",
       "      <td>0.0001</td>\n",
       "      <td>0.09</td>\n",
       "      <td>0.0001</td>\n",
       "    </tr>\n",
       "    <tr>\n",
       "      <th>3</th>\n",
       "      <td>Revert Finance</td>\n",
       "      <td>240,000.00</td>\n",
       "      <td>240,838.05</td>\n",
       "      <td>0.06</td>\n",
       "      <td>0.0001</td>\n",
       "      <td>0.05</td>\n",
       "      <td>0.0001</td>\n",
       "    </tr>\n",
       "    <tr>\n",
       "      <th>4</th>\n",
       "      <td>XToken</td>\n",
       "      <td>900,000.00</td>\n",
       "      <td>709,841.31</td>\n",
       "      <td>0.01</td>\n",
       "      <td>0.0000</td>\n",
       "      <td>0.00</td>\n",
       "      <td>0.0000</td>\n",
       "    </tr>\n",
       "    <tr>\n",
       "      <th>5</th>\n",
       "      <td>1inch</td>\n",
       "      <td>300,000.00</td>\n",
       "      <td>300,000.00</td>\n",
       "      <td>2.74</td>\n",
       "      <td>0.0033</td>\n",
       "      <td>-0.03</td>\n",
       "      <td>-0.0000</td>\n",
       "    </tr>\n",
       "    <tr>\n",
       "      <th>6</th>\n",
       "      <td>Aelin</td>\n",
       "      <td>900,000.00</td>\n",
       "      <td>900,001.00</td>\n",
       "      <td>0.03</td>\n",
       "      <td>0.0000</td>\n",
       "      <td>-0.04</td>\n",
       "      <td>-0.0000</td>\n",
       "    </tr>\n",
       "  </tbody>\n",
       "</table>\n",
       "</div>"
      ],
      "text/plain": [
       "       app_name_a  # OP Allocated  op_deployed  \\\n",
       "0         Rubicon      900,000.00   793,865.55   \n",
       "1            Aave    5,000,000.00 4,825,866.31   \n",
       "2         WePiggy      300,000.00   300,009.76   \n",
       "3  Revert Finance      240,000.00   240,838.05   \n",
       "4          XToken      900,000.00   709,841.31   \n",
       "5           1inch      300,000.00   300,000.00   \n",
       "6           Aelin      900,000.00   900,001.00   \n",
       "\n",
       "   incremental_gas_fee_eth_per_day incremental_gas_fee_eth_annualized_per_op  \\\n",
       "0                             4.15                                    0.0019   \n",
       "1                             4.47                                    0.0003   \n",
       "2                             0.08                                    0.0001   \n",
       "3                             0.06                                    0.0001   \n",
       "4                             0.01                                    0.0000   \n",
       "5                             2.74                                    0.0033   \n",
       "6                             0.03                                    0.0000   \n",
       "\n",
       "   incremental_gas_fee_eth_per_day_after  \\\n",
       "0                                   5.63   \n",
       "1                                   8.05   \n",
       "2                                   0.09   \n",
       "3                                   0.05   \n",
       "4                                   0.00   \n",
       "5                                  -0.03   \n",
       "6                                  -0.04   \n",
       "\n",
       "  incremental_gas_fee_eth_after_annualized_per_op  \n",
       "0                                          0.0026  \n",
       "1                                          0.0006  \n",
       "2                                          0.0001  \n",
       "3                                          0.0001  \n",
       "4                                          0.0000  \n",
       "5                                         -0.0000  \n",
       "6                                         -0.0000  "
      ]
     },
     "metadata": {},
     "output_type": "display_data"
    }
   ],
   "source": [
    "# sort by gas\n",
    "gas_cols = [\n",
    "    \"app_name_a\",\n",
    "    \"# OP Allocated\",\n",
    "    \"op_deployed\",\n",
    "    \"incremental_gas_fee_eth_per_day\",\n",
    "    \"incremental_gas_fee_eth_annualized_per_op\",\n",
    "    \"incremental_gas_fee_eth_per_day_after\",\n",
    "    \"incremental_gas_fee_eth_after_annualized_per_op\",\n",
    "]\n",
    "\n",
    "result_app.loc[\n",
    "    :, result_app.columns.str.contains(\"annualized_per_op\")\n",
    "] = result_app.loc[:, result_app.columns.str.contains(\"annualized_per_op\")].applymap(\n",
    "    \"{:.4f}\".format\n",
    ")\n",
    "\n",
    "display(\n",
    "    result_app[gas_cols]\n",
    "    .sort_values(\"incremental_gas_fee_eth_per_day\", ascending=False)\n",
    "    .reset_index(drop=True)\n",
    "    .head(10)\n",
    ")\n",
    "\n",
    "display(\n",
    "    result_app[gas_cols]\n",
    "    .sort_values(\"incremental_gas_fee_eth_after_annualized_per_op\", ascending=False)\n",
    "    .dropna()\n",
    "    .reset_index(drop=True)\n",
    "    .head(10)\n",
    ")"
   ]
  },
  {
   "attachments": {},
   "cell_type": "markdown",
   "metadata": {},
   "source": [
    "### By Fund Source"
   ]
  },
  {
   "cell_type": "code",
   "execution_count": 14,
   "metadata": {},
   "outputs": [],
   "source": [
    "agg_dict = {\n",
    "    \"# OP Allocated\": \"sum\",\n",
    "    \"net_op_deployed\": \"sum\",\n",
    "    # \"incremental_addr_per_day\": \"sum\",\n",
    "    \"incremental_txs_per_day\": \"sum\",\n",
    "    \"incremental_gas_fee_eth_per_day\": \"sum\",\n",
    "    \"incremental_txs_per_day_after\": \"sum\",\n",
    "    # \"incremental_addr_per_day_after\": \"sum\",\n",
    "    \"incremental_gas_fee_eth_per_day_after\": \"sum\",\n",
    "    \"cumul_last_price_net_dollar_flow\": \"sum\",\n",
    "    \"cumul_last_price_net_dollar_flow_at_program_end\": \"sum\",\n",
    "}"
   ]
  },
  {
   "cell_type": "code",
   "execution_count": 15,
   "metadata": {},
   "outputs": [
    {
     "data": {
      "text/html": [
       "<div>\n",
       "<style scoped>\n",
       "    .dataframe tbody tr th:only-of-type {\n",
       "        vertical-align: middle;\n",
       "    }\n",
       "\n",
       "    .dataframe tbody tr th {\n",
       "        vertical-align: top;\n",
       "    }\n",
       "\n",
       "    .dataframe thead th {\n",
       "        text-align: right;\n",
       "    }\n",
       "</style>\n",
       "<table border=\"1\" class=\"dataframe\">\n",
       "  <thead>\n",
       "    <tr style=\"text-align: right;\">\n",
       "      <th></th>\n",
       "      <th>op_source_map</th>\n",
       "      <th># OP Allocated</th>\n",
       "      <th>net_op_deployed</th>\n",
       "      <th>incremental_txs_per_day</th>\n",
       "      <th>incremental_gas_fee_eth_per_day</th>\n",
       "      <th>incremental_txs_per_day_after</th>\n",
       "      <th>incremental_gas_fee_eth_per_day_after</th>\n",
       "      <th>cumul_last_price_net_dollar_flow</th>\n",
       "      <th>cumul_last_price_net_dollar_flow_at_program_end</th>\n",
       "      <th>incremental_txs_annualized_per_op</th>\n",
       "      <th>incremental_gas_fee_eth_annualized_per_op</th>\n",
       "      <th>incremental_txs_after_annualized_per_op</th>\n",
       "      <th>incremental_gas_fee_eth_after_annualized_per_op</th>\n",
       "      <th>net_tvl_per_op</th>\n",
       "      <th>net_tvl_per_op_during</th>\n",
       "    </tr>\n",
       "  </thead>\n",
       "  <tbody>\n",
       "    <tr>\n",
       "      <th>0</th>\n",
       "      <td>Multiple</td>\n",
       "      <td>9,200,000.00</td>\n",
       "      <td>8,159,834.48</td>\n",
       "      <td>9,921.46</td>\n",
       "      <td>23.82</td>\n",
       "      <td>0.00</td>\n",
       "      <td>0.00</td>\n",
       "      <td>291,146,792.38</td>\n",
       "      <td>320,860,325.92</td>\n",
       "      <td>0.44</td>\n",
       "      <td>0.00</td>\n",
       "      <td>0.00</td>\n",
       "      <td>0.00</td>\n",
       "      <td>35.68</td>\n",
       "      <td>39.32</td>\n",
       "    </tr>\n",
       "    <tr>\n",
       "      <th>1</th>\n",
       "      <td>Partner Fund</td>\n",
       "      <td>8,100,000.00</td>\n",
       "      <td>4,928,744.71</td>\n",
       "      <td>3,266.56</td>\n",
       "      <td>6.85</td>\n",
       "      <td>4,744.49</td>\n",
       "      <td>8.05</td>\n",
       "      <td>111,565,677.87</td>\n",
       "      <td>376,205,421.52</td>\n",
       "      <td>0.24</td>\n",
       "      <td>0.00</td>\n",
       "      <td>0.35</td>\n",
       "      <td>0.00</td>\n",
       "      <td>22.64</td>\n",
       "      <td>76.33</td>\n",
       "    </tr>\n",
       "    <tr>\n",
       "      <th>2</th>\n",
       "      <td>Phase 0</td>\n",
       "      <td>31,000,000.00</td>\n",
       "      <td>19,754,114.36</td>\n",
       "      <td>14,859.54</td>\n",
       "      <td>82.89</td>\n",
       "      <td>1,981.04</td>\n",
       "      <td>5.64</td>\n",
       "      <td>141,905,608.36</td>\n",
       "      <td>200,187,115.95</td>\n",
       "      <td>0.27</td>\n",
       "      <td>0.00</td>\n",
       "      <td>0.04</td>\n",
       "      <td>0.00</td>\n",
       "      <td>7.18</td>\n",
       "      <td>10.13</td>\n",
       "    </tr>\n",
       "    <tr>\n",
       "      <th>3</th>\n",
       "      <td>Season 1</td>\n",
       "      <td>4,200,000.00</td>\n",
       "      <td>2,304,531.24</td>\n",
       "      <td>2,702.17</td>\n",
       "      <td>10.23</td>\n",
       "      <td>3.43</td>\n",
       "      <td>0.00</td>\n",
       "      <td>133,745,256.35</td>\n",
       "      <td>138,601,631.57</td>\n",
       "      <td>0.43</td>\n",
       "      <td>0.00</td>\n",
       "      <td>0.00</td>\n",
       "      <td>0.00</td>\n",
       "      <td>58.04</td>\n",
       "      <td>60.14</td>\n",
       "    </tr>\n",
       "    <tr>\n",
       "      <th>4</th>\n",
       "      <td>Season 2</td>\n",
       "      <td>1,794,000.00</td>\n",
       "      <td>1,147,516.73</td>\n",
       "      <td>1,302.71</td>\n",
       "      <td>3.06</td>\n",
       "      <td>115.65</td>\n",
       "      <td>0.05</td>\n",
       "      <td>26,794,833.49</td>\n",
       "      <td>30,199,305.92</td>\n",
       "      <td>0.41</td>\n",
       "      <td>0.00</td>\n",
       "      <td>0.04</td>\n",
       "      <td>0.00</td>\n",
       "      <td>23.35</td>\n",
       "      <td>26.32</td>\n",
       "    </tr>\n",
       "    <tr>\n",
       "      <th>5</th>\n",
       "      <td>Season 3</td>\n",
       "      <td>20,000.00</td>\n",
       "      <td>21,001.00</td>\n",
       "      <td>1.64</td>\n",
       "      <td>0.00</td>\n",
       "      <td>0.00</td>\n",
       "      <td>0.00</td>\n",
       "      <td>0.00</td>\n",
       "      <td>0.00</td>\n",
       "      <td>0.03</td>\n",
       "      <td>0.00</td>\n",
       "      <td>0.00</td>\n",
       "      <td>0.00</td>\n",
       "      <td>0.00</td>\n",
       "      <td>0.00</td>\n",
       "    </tr>\n",
       "  </tbody>\n",
       "</table>\n",
       "</div>"
      ],
      "text/plain": [
       "  op_source_map  # OP Allocated  net_op_deployed  incremental_txs_per_day  \\\n",
       "0      Multiple    9,200,000.00     8,159,834.48                 9,921.46   \n",
       "1  Partner Fund    8,100,000.00     4,928,744.71                 3,266.56   \n",
       "2       Phase 0   31,000,000.00    19,754,114.36                14,859.54   \n",
       "3      Season 1    4,200,000.00     2,304,531.24                 2,702.17   \n",
       "4      Season 2    1,794,000.00     1,147,516.73                 1,302.71   \n",
       "5      Season 3       20,000.00        21,001.00                     1.64   \n",
       "\n",
       "   incremental_gas_fee_eth_per_day  incremental_txs_per_day_after  \\\n",
       "0                            23.82                           0.00   \n",
       "1                             6.85                       4,744.49   \n",
       "2                            82.89                       1,981.04   \n",
       "3                            10.23                           3.43   \n",
       "4                             3.06                         115.65   \n",
       "5                             0.00                           0.00   \n",
       "\n",
       "   incremental_gas_fee_eth_per_day_after  cumul_last_price_net_dollar_flow  \\\n",
       "0                                   0.00                    291,146,792.38   \n",
       "1                                   8.05                    111,565,677.87   \n",
       "2                                   5.64                    141,905,608.36   \n",
       "3                                   0.00                    133,745,256.35   \n",
       "4                                   0.05                     26,794,833.49   \n",
       "5                                   0.00                              0.00   \n",
       "\n",
       "   cumul_last_price_net_dollar_flow_at_program_end  \\\n",
       "0                                   320,860,325.92   \n",
       "1                                   376,205,421.52   \n",
       "2                                   200,187,115.95   \n",
       "3                                   138,601,631.57   \n",
       "4                                    30,199,305.92   \n",
       "5                                             0.00   \n",
       "\n",
       "   incremental_txs_annualized_per_op  \\\n",
       "0                               0.44   \n",
       "1                               0.24   \n",
       "2                               0.27   \n",
       "3                               0.43   \n",
       "4                               0.41   \n",
       "5                               0.03   \n",
       "\n",
       "   incremental_gas_fee_eth_annualized_per_op  \\\n",
       "0                                       0.00   \n",
       "1                                       0.00   \n",
       "2                                       0.00   \n",
       "3                                       0.00   \n",
       "4                                       0.00   \n",
       "5                                       0.00   \n",
       "\n",
       "   incremental_txs_after_annualized_per_op  \\\n",
       "0                                     0.00   \n",
       "1                                     0.35   \n",
       "2                                     0.04   \n",
       "3                                     0.00   \n",
       "4                                     0.04   \n",
       "5                                     0.00   \n",
       "\n",
       "   incremental_gas_fee_eth_after_annualized_per_op  net_tvl_per_op  \\\n",
       "0                                             0.00           35.68   \n",
       "1                                             0.00           22.64   \n",
       "2                                             0.00            7.18   \n",
       "3                                             0.00           58.04   \n",
       "4                                             0.00           23.35   \n",
       "5                                             0.00            0.00   \n",
       "\n",
       "   net_tvl_per_op_during  \n",
       "0                  39.32  \n",
       "1                  76.33  \n",
       "2                  10.13  \n",
       "3                  60.14  \n",
       "4                  26.32  \n",
       "5                   0.00  "
      ]
     },
     "metadata": {},
     "output_type": "display_data"
    }
   ],
   "source": [
    "result_app[\"op_source_length\"] = result_app[\"op_source\"].str.split(\",\").apply(len)\n",
    "result_app[\"op_source_map\"] = np.where(\n",
    "    result_app[\"op_source_length\"] > 1, [\"Multiple\"], result_app[\"op_source\"]\n",
    ")\n",
    "\n",
    "result_source = result_app.groupby(\"op_source_map\").agg(agg_dict)\n",
    "\n",
    "# calculate metrics\n",
    "result_source = calculate_metrics(\n",
    "    result_source, op=\"net_op_deployed\"\n",
    ")  # use net to avoid double counting\n",
    "result_source = result_source.reset_index()\n",
    "result_source[\"op_source_map\"] = result_source[\"op_source_map\"].apply(\n",
    "    lambda x: remove_brackets(x)\n",
    ")\n",
    "result_source.sort_values(\"op_source_map\").reset_index()\n",
    "\n",
    "display(result_source)"
   ]
  },
  {
   "cell_type": "markdown",
   "metadata": {},
   "source": []
  },
  {
   "cell_type": "code",
   "execution_count": 16,
   "metadata": {},
   "outputs": [],
   "source": [
    "# convert results to csv\n",
    "result_app.to_csv(\"csv_outputs/final_incentive_program_summary_by_app.csv\")"
   ]
  },
  {
   "attachments": {},
   "cell_type": "markdown",
   "metadata": {},
   "source": [
    "### Benchmark"
   ]
  },
  {
   "cell_type": "code",
   "execution_count": 17,
   "metadata": {},
   "outputs": [],
   "source": [
    "def plot_benchmark(\n",
    "    df,\n",
    "    layout_settings,\n",
    "    x=\"incremental_txs_per_day\",\n",
    "    y=\"incremental_txs_annualized_per_op\",\n",
    "    size=\"op_deployed\",\n",
    "):\n",
    "    fig = px.scatter(\n",
    "        df,\n",
    "        x=x,\n",
    "        y=y,\n",
    "        size=size,\n",
    "        hover_name=\"app_name_a\",\n",
    "        color=\"op_source_map\",\n",
    "    )\n",
    "\n",
    "    # calculate percentiles for incremental_txs_annualized_per_op\n",
    "    p25 = df[y].quantile(0.25)\n",
    "    p50 = df[y].quantile(0.50)\n",
    "    p75 = df[y].quantile(0.75)\n",
    "\n",
    "    x_range = [df[x].min(), df[x].max()]\n",
    "\n",
    "    # add vertical lines for percentiles\n",
    "    fig.add_trace(\n",
    "        go.Scatter(x=x_range, y=[p25, p25], mode=\"lines\", name=\"25th percentile\")\n",
    "    )\n",
    "    fig.add_trace(\n",
    "        go.Scatter(x=x_range, y=[p50, p50], mode=\"lines\", name=\"50th percentile\")\n",
    "    )\n",
    "    fig.add_trace(\n",
    "        go.Scatter(x=x_range, y=[p75, p75], mode=\"lines\", name=\"75th percentile\")\n",
    "    )\n",
    "\n",
    "    fig.update_layout(layout_settings)\n",
    "\n",
    "    fig.write_image(prepend + f\"img_outputs/benchmark/svg/{y}.svg\")\n",
    "    fig.write_image(prepend + f\"img_outputs/benchmark/png/{y}.png\")\n",
    "    fig.write_html(\n",
    "        prepend + f\"img_outputs/benchmark/html/{y}.html\", include_plotlyjs=\"cdn\"\n",
    "    )\n",
    "\n",
    "    fig.show()\n",
    "\n",
    "\n",
    "def cleanup_data(\n",
    "    df=result_app,\n",
    "    subset=[\n",
    "        \"op_deployed\",\n",
    "        \"incremental_txs_annualized_per_op\",\n",
    "        \"incremental_txs_per_day\",\n",
    "    ],\n",
    "    excl_partnerfund=False,\n",
    "):\n",
    "    df = result_app.dropna(subset=subset)\n",
    "    df = df.replace([np.inf, -np.inf], np.nan).dropna(\n",
    "        subset=subset\n",
    "    )  # remove rows with infinity values\n",
    "\n",
    "    if excl_partnerfund:\n",
    "        # drop anything with Partner Fund from df\n",
    "        df = df[~df[\"op_source\"].str.contains(\"Partner Fund\")]\n",
    "\n",
    "    df[subset] = df[subset].apply(pd.to_numeric, errors=\"coerce\")\n",
    "\n",
    "    return df"
   ]
  },
  {
   "attachments": {},
   "cell_type": "markdown",
   "metadata": {},
   "source": [
    "### Transactions Benchmark"
   ]
  },
  {
   "cell_type": "code",
   "execution_count": 18,
   "metadata": {},
   "outputs": [
    {
     "data": {
      "application/vnd.plotly.v1+json": {
       "config": {
        "plotlyServerURL": "https://plot.ly"
       },
       "data": [
        {
         "hovertemplate": "<b>%{hovertext}</b><br><br>op_source_map=Multiple<br>incremental_txs_per_day=%{x}<br>incremental_txs_annualized_per_op=%{y}<br>op_deployed=%{marker.size}<extra></extra>",
         "hovertext": [
          "Velodrome",
          "Thales",
          "PoolTogether"
         ],
         "legendgroup": "Multiple",
         "marker": {
          "color": "#636efa",
          "size": [
           6176064.866580186,
           1178295.4273490675,
           897039
          ],
          "sizemode": "area",
          "sizeref": 15440.162166450466,
          "symbol": "circle"
         },
         "mode": "markers",
         "name": "Multiple",
         "orientation": "v",
         "showlegend": true,
         "type": "scatter",
         "x": [
          7545.785858585859,
          776.25197740113,
          1599.423611111111
         ],
         "xaxis": "x",
         "y": [
          0.4459,
          0.2405,
          0.6508
         ],
         "yaxis": "y"
        },
        {
         "hovertemplate": "<b>%{hovertext}</b><br><br>op_source_map=['Phase 0']<br>incremental_txs_per_day=%{x}<br>incremental_txs_annualized_per_op=%{y}<br>op_deployed=%{marker.size}<extra></extra>",
         "hovertext": [
          "Perpetual Protocol",
          "Rubicon",
          "Layer2DAO",
          "Stargate Finance",
          "Lyra",
          "WePiggy",
          "Kwenta",
          "Celer",
          "Slingshot",
          "Synthetix",
          "Pika Protocol",
          "1inch",
          "Aelin",
          "Polynomial Protocol",
          "Hop Protocol",
          "Uniswap",
          "Clipper"
         ],
         "legendgroup": "['Phase 0']",
         "marker": {
          "color": "#EF553B",
          "size": [
           6074173.773350604,
           793865.5450721123,
           698677.8865775648,
           544725.73,
           1570078.7064676075,
           300009.7573070351,
           911571,
           220001,
           134336,
           5409432.496932238,
           718719,
           300000,
           900001.0000000003,
           366854.9851770957,
           174149.31035950783,
           799999.98,
           177934
          ],
          "sizemode": "area",
          "sizeref": 15440.162166450466,
          "symbol": "circle"
         },
         "mode": "markers",
         "name": "['Phase 0']",
         "orientation": "v",
         "showlegend": true,
         "type": "scatter",
         "x": [
          -10112.822747747745,
          4110.26224328594,
          15.82183908045977,
          4758.222541966427,
          -14.964139590854389,
          39.352482269503554,
          1112.6548946716234,
          169.91954887218046,
          962.5121212121212,
          3865.67375328084,
          3895.553333333333,
          2100.5,
          7.833333333333334,
          607.3136752136752,
          2674.7814159292034,
          2767.264261168384,
          -2100.339805825243
         ],
         "xaxis": "x",
         "y": [
          -0.6077,
          1.8898,
          0.0083,
          3.1883,
          -0.0035,
          0.0479,
          0.4455,
          0.2819,
          2.6152,
          0.2608,
          1.9783,
          2.5556,
          0.0032,
          0.6042,
          5.6061,
          1.2626,
          -4.3085
         ],
         "yaxis": "y"
        },
        {
         "hovertemplate": "<b>%{hovertext}</b><br><br>op_source_map=['Partner Fund']<br>incremental_txs_per_day=%{x}<br>incremental_txs_annualized_per_op=%{y}<br>op_deployed=%{marker.size}<extra></extra>",
         "hovertext": [
          "Aave",
          "Arrakis Finance",
          "Gamma",
          "Lido"
         ],
         "legendgroup": "['Partner Fund']",
         "marker": {
          "color": "#00cc96",
          "size": [
           4825866.311743143,
           41670.06,
           0,
           64875
          ],
          "sizemode": "area",
          "sizeref": 15440.162166450466,
          "symbol": "circle"
         },
         "mode": "markers",
         "name": "['Partner Fund']",
         "orientation": "v",
         "showlegend": true,
         "type": "scatter",
         "x": [
          3122.789247311828,
          9.219607843137254,
          131.18888888888887,
          3.357471264367802
         ],
         "xaxis": "x",
         "y": [
          0.2362,
          0.0808,
          null,
          0.0189
         ],
         "yaxis": "y"
        },
        {
         "hovertemplate": "<b>%{hovertext}</b><br><br>op_source_map=['Season 1']<br>incremental_txs_per_day=%{x}<br>incremental_txs_annualized_per_op=%{y}<br>op_deployed=%{marker.size}<extra></extra>",
         "hovertext": [
          "Pickle Finance",
          "Beefy Finance",
          "XToken",
          "Beethoven X",
          "Hundred Finance",
          "dForce",
          "QiDao"
         ],
         "legendgroup": "['Season 1']",
         "marker": {
          "color": "#ab63fa",
          "size": [
           82600,
           320961.6725694471,
           709841.3081865921,
           240375.09,
           161322.5,
           555713.7610960284,
           362027.56468310714
          ],
          "sizemode": "area",
          "sizeref": 15440.162166450466,
          "symbol": "circle"
         },
         "mode": "markers",
         "name": "['Season 1']",
         "orientation": "v",
         "showlegend": true,
         "type": "scatter",
         "x": [
          83.12635983263597,
          -109.32978723404256,
          17.84057971014493,
          1900.8616438356164,
          65.74528301886792,
          4.384925690021234,
          739.5413702239789
         ],
         "xaxis": "x",
         "y": [
          0.3673,
          -0.1243,
          0.0092,
          2.8864,
          0.1488,
          0.0029,
          0.7456
         ],
         "yaxis": "y"
        },
        {
         "hovertemplate": "<b>%{hovertext}</b><br><br>op_source_map=['Season 2']<br>incremental_txs_per_day=%{x}<br>incremental_txs_annualized_per_op=%{y}<br>op_deployed=%{marker.size}<extra></extra>",
         "hovertext": [
          "OptiChads",
          "Revert Finance",
          "dHedge",
          "Overnight",
          "Angle",
          "Sushi"
         ],
         "legendgroup": "['Season 2']",
         "marker": {
          "color": "#FFA15A",
          "size": [
           60655.93506991357,
           240838.05391830354,
           305704.65871088207,
           475012.6824092357,
           41791.51565169649,
           49999.99999999999
          ],
          "sizemode": "area",
          "sizeref": 15440.162166450466,
          "symbol": "circle"
         },
         "mode": "markers",
         "name": "['Season 2']",
         "orientation": "v",
         "showlegend": true,
         "type": "scatter",
         "x": [
          -5.196078431372548,
          217.58387096774197,
          144.11176470588236,
          196.61823899371063,
          141.08666666666667,
          608.503125
         ],
         "xaxis": "x",
         "y": [
          -0.0313,
          0.3298,
          0.1721,
          0.1511,
          1.2322,
          4.4421
         ],
         "yaxis": "y"
        },
        {
         "hovertemplate": "<b>%{hovertext}</b><br><br>op_source_map=['Season 3']<br>incremental_txs_per_day=%{x}<br>incremental_txs_annualized_per_op=%{y}<br>op_deployed=%{marker.size}<extra></extra>",
         "hovertext": [
          "Geo Web"
         ],
         "legendgroup": "['Season 3']",
         "marker": {
          "color": "#19d3f3",
          "size": [
           21001
          ],
          "sizemode": "area",
          "sizeref": 15440.162166450466,
          "symbol": "circle"
         },
         "mode": "markers",
         "name": "['Season 3']",
         "orientation": "v",
         "showlegend": true,
         "type": "scatter",
         "x": [
          1.6363636363636365
         ],
         "xaxis": "x",
         "y": [
          0.0284
         ],
         "yaxis": "y"
        },
        {
         "mode": "lines",
         "name": "25th percentile",
         "type": "scatter",
         "x": [
          -10112.822747747745,
          7545.785858585859
         ],
         "y": [
          0.021275000000000002,
          0.021275000000000002
         ]
        },
        {
         "mode": "lines",
         "name": "50th percentile",
         "type": "scatter",
         "x": [
          -10112.822747747745,
          7545.785858585859
         ],
         "y": [
          0.27135,
          0.27135
         ]
        },
        {
         "mode": "lines",
         "name": "75th percentile",
         "type": "scatter",
         "x": [
          -10112.822747747745,
          7545.785858585859
         ],
         "y": [
          1.255,
          1.255
         ]
        }
       ],
       "layout": {
        "legend": {
         "itemsizing": "constant",
         "title": {
          "text": "Op Source"
         },
         "tracegroupgap": 0
        },
        "margin": {
         "t": 60
        },
        "template": {
         "data": {
          "bar": [
           {
            "error_x": {
             "color": "#2a3f5f"
            },
            "error_y": {
             "color": "#2a3f5f"
            },
            "marker": {
             "line": {
              "color": "#E5ECF6",
              "width": 0.5
             },
             "pattern": {
              "fillmode": "overlay",
              "size": 10,
              "solidity": 0.2
             }
            },
            "type": "bar"
           }
          ],
          "barpolar": [
           {
            "marker": {
             "line": {
              "color": "#E5ECF6",
              "width": 0.5
             },
             "pattern": {
              "fillmode": "overlay",
              "size": 10,
              "solidity": 0.2
             }
            },
            "type": "barpolar"
           }
          ],
          "carpet": [
           {
            "aaxis": {
             "endlinecolor": "#2a3f5f",
             "gridcolor": "white",
             "linecolor": "white",
             "minorgridcolor": "white",
             "startlinecolor": "#2a3f5f"
            },
            "baxis": {
             "endlinecolor": "#2a3f5f",
             "gridcolor": "white",
             "linecolor": "white",
             "minorgridcolor": "white",
             "startlinecolor": "#2a3f5f"
            },
            "type": "carpet"
           }
          ],
          "choropleth": [
           {
            "colorbar": {
             "outlinewidth": 0,
             "ticks": ""
            },
            "type": "choropleth"
           }
          ],
          "contour": [
           {
            "colorbar": {
             "outlinewidth": 0,
             "ticks": ""
            },
            "colorscale": [
             [
              0,
              "#0d0887"
             ],
             [
              0.1111111111111111,
              "#46039f"
             ],
             [
              0.2222222222222222,
              "#7201a8"
             ],
             [
              0.3333333333333333,
              "#9c179e"
             ],
             [
              0.4444444444444444,
              "#bd3786"
             ],
             [
              0.5555555555555556,
              "#d8576b"
             ],
             [
              0.6666666666666666,
              "#ed7953"
             ],
             [
              0.7777777777777778,
              "#fb9f3a"
             ],
             [
              0.8888888888888888,
              "#fdca26"
             ],
             [
              1,
              "#f0f921"
             ]
            ],
            "type": "contour"
           }
          ],
          "contourcarpet": [
           {
            "colorbar": {
             "outlinewidth": 0,
             "ticks": ""
            },
            "type": "contourcarpet"
           }
          ],
          "heatmap": [
           {
            "colorbar": {
             "outlinewidth": 0,
             "ticks": ""
            },
            "colorscale": [
             [
              0,
              "#0d0887"
             ],
             [
              0.1111111111111111,
              "#46039f"
             ],
             [
              0.2222222222222222,
              "#7201a8"
             ],
             [
              0.3333333333333333,
              "#9c179e"
             ],
             [
              0.4444444444444444,
              "#bd3786"
             ],
             [
              0.5555555555555556,
              "#d8576b"
             ],
             [
              0.6666666666666666,
              "#ed7953"
             ],
             [
              0.7777777777777778,
              "#fb9f3a"
             ],
             [
              0.8888888888888888,
              "#fdca26"
             ],
             [
              1,
              "#f0f921"
             ]
            ],
            "type": "heatmap"
           }
          ],
          "heatmapgl": [
           {
            "colorbar": {
             "outlinewidth": 0,
             "ticks": ""
            },
            "colorscale": [
             [
              0,
              "#0d0887"
             ],
             [
              0.1111111111111111,
              "#46039f"
             ],
             [
              0.2222222222222222,
              "#7201a8"
             ],
             [
              0.3333333333333333,
              "#9c179e"
             ],
             [
              0.4444444444444444,
              "#bd3786"
             ],
             [
              0.5555555555555556,
              "#d8576b"
             ],
             [
              0.6666666666666666,
              "#ed7953"
             ],
             [
              0.7777777777777778,
              "#fb9f3a"
             ],
             [
              0.8888888888888888,
              "#fdca26"
             ],
             [
              1,
              "#f0f921"
             ]
            ],
            "type": "heatmapgl"
           }
          ],
          "histogram": [
           {
            "marker": {
             "pattern": {
              "fillmode": "overlay",
              "size": 10,
              "solidity": 0.2
             }
            },
            "type": "histogram"
           }
          ],
          "histogram2d": [
           {
            "colorbar": {
             "outlinewidth": 0,
             "ticks": ""
            },
            "colorscale": [
             [
              0,
              "#0d0887"
             ],
             [
              0.1111111111111111,
              "#46039f"
             ],
             [
              0.2222222222222222,
              "#7201a8"
             ],
             [
              0.3333333333333333,
              "#9c179e"
             ],
             [
              0.4444444444444444,
              "#bd3786"
             ],
             [
              0.5555555555555556,
              "#d8576b"
             ],
             [
              0.6666666666666666,
              "#ed7953"
             ],
             [
              0.7777777777777778,
              "#fb9f3a"
             ],
             [
              0.8888888888888888,
              "#fdca26"
             ],
             [
              1,
              "#f0f921"
             ]
            ],
            "type": "histogram2d"
           }
          ],
          "histogram2dcontour": [
           {
            "colorbar": {
             "outlinewidth": 0,
             "ticks": ""
            },
            "colorscale": [
             [
              0,
              "#0d0887"
             ],
             [
              0.1111111111111111,
              "#46039f"
             ],
             [
              0.2222222222222222,
              "#7201a8"
             ],
             [
              0.3333333333333333,
              "#9c179e"
             ],
             [
              0.4444444444444444,
              "#bd3786"
             ],
             [
              0.5555555555555556,
              "#d8576b"
             ],
             [
              0.6666666666666666,
              "#ed7953"
             ],
             [
              0.7777777777777778,
              "#fb9f3a"
             ],
             [
              0.8888888888888888,
              "#fdca26"
             ],
             [
              1,
              "#f0f921"
             ]
            ],
            "type": "histogram2dcontour"
           }
          ],
          "mesh3d": [
           {
            "colorbar": {
             "outlinewidth": 0,
             "ticks": ""
            },
            "type": "mesh3d"
           }
          ],
          "parcoords": [
           {
            "line": {
             "colorbar": {
              "outlinewidth": 0,
              "ticks": ""
             }
            },
            "type": "parcoords"
           }
          ],
          "pie": [
           {
            "automargin": true,
            "type": "pie"
           }
          ],
          "scatter": [
           {
            "fillpattern": {
             "fillmode": "overlay",
             "size": 10,
             "solidity": 0.2
            },
            "type": "scatter"
           }
          ],
          "scatter3d": [
           {
            "line": {
             "colorbar": {
              "outlinewidth": 0,
              "ticks": ""
             }
            },
            "marker": {
             "colorbar": {
              "outlinewidth": 0,
              "ticks": ""
             }
            },
            "type": "scatter3d"
           }
          ],
          "scattercarpet": [
           {
            "marker": {
             "colorbar": {
              "outlinewidth": 0,
              "ticks": ""
             }
            },
            "type": "scattercarpet"
           }
          ],
          "scattergeo": [
           {
            "marker": {
             "colorbar": {
              "outlinewidth": 0,
              "ticks": ""
             }
            },
            "type": "scattergeo"
           }
          ],
          "scattergl": [
           {
            "marker": {
             "colorbar": {
              "outlinewidth": 0,
              "ticks": ""
             }
            },
            "type": "scattergl"
           }
          ],
          "scattermapbox": [
           {
            "marker": {
             "colorbar": {
              "outlinewidth": 0,
              "ticks": ""
             }
            },
            "type": "scattermapbox"
           }
          ],
          "scatterpolar": [
           {
            "marker": {
             "colorbar": {
              "outlinewidth": 0,
              "ticks": ""
             }
            },
            "type": "scatterpolar"
           }
          ],
          "scatterpolargl": [
           {
            "marker": {
             "colorbar": {
              "outlinewidth": 0,
              "ticks": ""
             }
            },
            "type": "scatterpolargl"
           }
          ],
          "scatterternary": [
           {
            "marker": {
             "colorbar": {
              "outlinewidth": 0,
              "ticks": ""
             }
            },
            "type": "scatterternary"
           }
          ],
          "surface": [
           {
            "colorbar": {
             "outlinewidth": 0,
             "ticks": ""
            },
            "colorscale": [
             [
              0,
              "#0d0887"
             ],
             [
              0.1111111111111111,
              "#46039f"
             ],
             [
              0.2222222222222222,
              "#7201a8"
             ],
             [
              0.3333333333333333,
              "#9c179e"
             ],
             [
              0.4444444444444444,
              "#bd3786"
             ],
             [
              0.5555555555555556,
              "#d8576b"
             ],
             [
              0.6666666666666666,
              "#ed7953"
             ],
             [
              0.7777777777777778,
              "#fb9f3a"
             ],
             [
              0.8888888888888888,
              "#fdca26"
             ],
             [
              1,
              "#f0f921"
             ]
            ],
            "type": "surface"
           }
          ],
          "table": [
           {
            "cells": {
             "fill": {
              "color": "#EBF0F8"
             },
             "line": {
              "color": "white"
             }
            },
            "header": {
             "fill": {
              "color": "#C8D4E3"
             },
             "line": {
              "color": "white"
             }
            },
            "type": "table"
           }
          ]
         },
         "layout": {
          "annotationdefaults": {
           "arrowcolor": "#2a3f5f",
           "arrowhead": 0,
           "arrowwidth": 1
          },
          "autotypenumbers": "strict",
          "coloraxis": {
           "colorbar": {
            "outlinewidth": 0,
            "ticks": ""
           }
          },
          "colorscale": {
           "diverging": [
            [
             0,
             "#8e0152"
            ],
            [
             0.1,
             "#c51b7d"
            ],
            [
             0.2,
             "#de77ae"
            ],
            [
             0.3,
             "#f1b6da"
            ],
            [
             0.4,
             "#fde0ef"
            ],
            [
             0.5,
             "#f7f7f7"
            ],
            [
             0.6,
             "#e6f5d0"
            ],
            [
             0.7,
             "#b8e186"
            ],
            [
             0.8,
             "#7fbc41"
            ],
            [
             0.9,
             "#4d9221"
            ],
            [
             1,
             "#276419"
            ]
           ],
           "sequential": [
            [
             0,
             "#0d0887"
            ],
            [
             0.1111111111111111,
             "#46039f"
            ],
            [
             0.2222222222222222,
             "#7201a8"
            ],
            [
             0.3333333333333333,
             "#9c179e"
            ],
            [
             0.4444444444444444,
             "#bd3786"
            ],
            [
             0.5555555555555556,
             "#d8576b"
            ],
            [
             0.6666666666666666,
             "#ed7953"
            ],
            [
             0.7777777777777778,
             "#fb9f3a"
            ],
            [
             0.8888888888888888,
             "#fdca26"
            ],
            [
             1,
             "#f0f921"
            ]
           ],
           "sequentialminus": [
            [
             0,
             "#0d0887"
            ],
            [
             0.1111111111111111,
             "#46039f"
            ],
            [
             0.2222222222222222,
             "#7201a8"
            ],
            [
             0.3333333333333333,
             "#9c179e"
            ],
            [
             0.4444444444444444,
             "#bd3786"
            ],
            [
             0.5555555555555556,
             "#d8576b"
            ],
            [
             0.6666666666666666,
             "#ed7953"
            ],
            [
             0.7777777777777778,
             "#fb9f3a"
            ],
            [
             0.8888888888888888,
             "#fdca26"
            ],
            [
             1,
             "#f0f921"
            ]
           ]
          },
          "colorway": [
           "#636efa",
           "#EF553B",
           "#00cc96",
           "#ab63fa",
           "#FFA15A",
           "#19d3f3",
           "#FF6692",
           "#B6E880",
           "#FF97FF",
           "#FECB52"
          ],
          "font": {
           "color": "#2a3f5f"
          },
          "geo": {
           "bgcolor": "white",
           "lakecolor": "white",
           "landcolor": "#E5ECF6",
           "showlakes": true,
           "showland": true,
           "subunitcolor": "white"
          },
          "hoverlabel": {
           "align": "left"
          },
          "hovermode": "closest",
          "mapbox": {
           "style": "light"
          },
          "paper_bgcolor": "white",
          "plot_bgcolor": "#E5ECF6",
          "polar": {
           "angularaxis": {
            "gridcolor": "white",
            "linecolor": "white",
            "ticks": ""
           },
           "bgcolor": "#E5ECF6",
           "radialaxis": {
            "gridcolor": "white",
            "linecolor": "white",
            "ticks": ""
           }
          },
          "scene": {
           "xaxis": {
            "backgroundcolor": "#E5ECF6",
            "gridcolor": "white",
            "gridwidth": 2,
            "linecolor": "white",
            "showbackground": true,
            "ticks": "",
            "zerolinecolor": "white"
           },
           "yaxis": {
            "backgroundcolor": "#E5ECF6",
            "gridcolor": "white",
            "gridwidth": 2,
            "linecolor": "white",
            "showbackground": true,
            "ticks": "",
            "zerolinecolor": "white"
           },
           "zaxis": {
            "backgroundcolor": "#E5ECF6",
            "gridcolor": "white",
            "gridwidth": 2,
            "linecolor": "white",
            "showbackground": true,
            "ticks": "",
            "zerolinecolor": "white"
           }
          },
          "shapedefaults": {
           "line": {
            "color": "#2a3f5f"
           }
          },
          "ternary": {
           "aaxis": {
            "gridcolor": "white",
            "linecolor": "white",
            "ticks": ""
           },
           "baxis": {
            "gridcolor": "white",
            "linecolor": "white",
            "ticks": ""
           },
           "bgcolor": "#E5ECF6",
           "caxis": {
            "gridcolor": "white",
            "linecolor": "white",
            "ticks": ""
           }
          },
          "title": {
           "x": 0.05
          },
          "xaxis": {
           "automargin": true,
           "gridcolor": "white",
           "linecolor": "white",
           "ticks": "",
           "title": {
            "standoff": 15
           },
           "zerolinecolor": "white",
           "zerolinewidth": 2
          },
          "yaxis": {
           "automargin": true,
           "gridcolor": "white",
           "linecolor": "white",
           "ticks": "",
           "title": {
            "standoff": 15
           },
           "zerolinecolor": "white",
           "zerolinewidth": 2
          }
         }
        },
        "title": {
         "text": "Incremental Txs Performance Benchmark (All Programs)<br><sup>Cutoff at Program End Date (Latest Date if still Live).</sup>"
        },
        "xaxis": {
         "anchor": "y",
         "domain": [
          0,
          1
         ],
         "title": {
          "text": "Incremental Transactions per Day"
         }
        },
        "yaxis": {
         "anchor": "x",
         "domain": [
          0,
          1
         ],
         "title": {
          "text": "Annualized Incremental Transactions per OP"
         }
        }
       }
      }
     },
     "metadata": {},
     "output_type": "display_data"
    }
   ],
   "source": [
    "layout_settings = {\n",
    "    \"title\": \"Incremental Txs Performance Benchmark (All Programs)<br><sup>Cutoff at Program End Date (Latest Date if still Live).</sup>\",\n",
    "    \"xaxis_title\": \"Incremental Transactions per Day\",\n",
    "    \"yaxis_title\": \"Annualized Incremental Transactions per OP\",\n",
    "    \"legend_title\": \"Op Source\",\n",
    "}\n",
    "\n",
    "df = cleanup_data()\n",
    "\n",
    "plot_benchmark(\n",
    "    df,\n",
    "    x=\"incremental_txs_per_day\",\n",
    "    y=\"incremental_txs_annualized_per_op\",\n",
    "    size=\"op_deployed\",\n",
    "    layout_settings=layout_settings,\n",
    ")"
   ]
  },
  {
   "cell_type": "code",
   "execution_count": 19,
   "metadata": {},
   "outputs": [
    {
     "data": {
      "application/vnd.plotly.v1+json": {
       "config": {
        "plotlyServerURL": "https://plot.ly"
       },
       "data": [
        {
         "hovertemplate": "<b>%{hovertext}</b><br><br>op_source_map=['Phase 0']<br>incremental_txs_per_day_after=%{x}<br>incremental_txs_after_annualized_per_op=%{y}<br>op_deployed=%{marker.size}<extra></extra>",
         "hovertext": [
          "Rubicon",
          "WePiggy",
          "1inch",
          "Aelin"
         ],
         "legendgroup": "['Phase 0']",
         "marker": {
          "color": "#636efa",
          "size": [
           793865.5450721123,
           300009.7573070351,
           300000,
           900001.0000000003
          ],
          "sizemode": "area",
          "sizeref": 12064.665779357858,
          "symbol": "circle"
         },
         "mode": "markers",
         "name": "['Phase 0']",
         "orientation": "v",
         "showlegend": true,
         "type": "scatter",
         "x": [
          1583.816091954023,
          12.067816091954024,
          390.155172413793,
          -4.994252873563218
         ],
         "xaxis": "x",
         "y": [
          0.7282,
          0.0147,
          0.4747,
          -0.002
         ],
         "yaxis": "y"
        },
        {
         "hovertemplate": "<b>%{hovertext}</b><br><br>op_source_map=['Partner Fund']<br>incremental_txs_per_day_after=%{x}<br>incremental_txs_after_annualized_per_op=%{y}<br>op_deployed=%{marker.size}<extra></extra>",
         "hovertext": [
          "Aave"
         ],
         "legendgroup": "['Partner Fund']",
         "marker": {
          "color": "#EF553B",
          "size": [
           4825866.311743143
          ],
          "sizemode": "area",
          "sizeref": 12064.665779357858,
          "symbol": "circle"
         },
         "mode": "markers",
         "name": "['Partner Fund']",
         "orientation": "v",
         "showlegend": true,
         "type": "scatter",
         "x": [
          4744.489655172414
         ],
         "xaxis": "x",
         "y": [
          0.3588
         ],
         "yaxis": "y"
        },
        {
         "hovertemplate": "<b>%{hovertext}</b><br><br>op_source_map=['Season 1']<br>incremental_txs_per_day_after=%{x}<br>incremental_txs_after_annualized_per_op=%{y}<br>op_deployed=%{marker.size}<extra></extra>",
         "hovertext": [
          "XToken"
         ],
         "legendgroup": "['Season 1']",
         "marker": {
          "color": "#00cc96",
          "size": [
           709841.3081865921
          ],
          "sizemode": "area",
          "sizeref": 12064.665779357858,
          "symbol": "circle"
         },
         "mode": "markers",
         "name": "['Season 1']",
         "orientation": "v",
         "showlegend": true,
         "type": "scatter",
         "x": [
          3.431372549019608
         ],
         "xaxis": "x",
         "y": [
          0.0018
         ],
         "yaxis": "y"
        },
        {
         "hovertemplate": "<b>%{hovertext}</b><br><br>op_source_map=['Season 2']<br>incremental_txs_per_day_after=%{x}<br>incremental_txs_after_annualized_per_op=%{y}<br>op_deployed=%{marker.size}<extra></extra>",
         "hovertext": [
          "Revert Finance"
         ],
         "legendgroup": "['Season 2']",
         "marker": {
          "color": "#ab63fa",
          "size": [
           240838.05391830354
          ],
          "sizemode": "area",
          "sizeref": 12064.665779357858,
          "symbol": "circle"
         },
         "mode": "markers",
         "name": "['Season 2']",
         "orientation": "v",
         "showlegend": true,
         "type": "scatter",
         "x": [
          115.65172413793104
         ],
         "xaxis": "x",
         "y": [
          0.1753
         ],
         "yaxis": "y"
        },
        {
         "mode": "lines",
         "name": "25th percentile",
         "type": "scatter",
         "x": [
          -4.994252873563218,
          4744.489655172414
         ],
         "y": [
          0.00825,
          0.00825
         ]
        },
        {
         "mode": "lines",
         "name": "50th percentile",
         "type": "scatter",
         "x": [
          -4.994252873563218,
          4744.489655172414
         ],
         "y": [
          0.1753,
          0.1753
         ]
        },
        {
         "mode": "lines",
         "name": "75th percentile",
         "type": "scatter",
         "x": [
          -4.994252873563218,
          4744.489655172414
         ],
         "y": [
          0.41675,
          0.41675
         ]
        }
       ],
       "layout": {
        "legend": {
         "itemsizing": "constant",
         "title": {
          "text": "Op Source"
         },
         "tracegroupgap": 0
        },
        "margin": {
         "t": 60
        },
        "template": {
         "data": {
          "bar": [
           {
            "error_x": {
             "color": "#2a3f5f"
            },
            "error_y": {
             "color": "#2a3f5f"
            },
            "marker": {
             "line": {
              "color": "#E5ECF6",
              "width": 0.5
             },
             "pattern": {
              "fillmode": "overlay",
              "size": 10,
              "solidity": 0.2
             }
            },
            "type": "bar"
           }
          ],
          "barpolar": [
           {
            "marker": {
             "line": {
              "color": "#E5ECF6",
              "width": 0.5
             },
             "pattern": {
              "fillmode": "overlay",
              "size": 10,
              "solidity": 0.2
             }
            },
            "type": "barpolar"
           }
          ],
          "carpet": [
           {
            "aaxis": {
             "endlinecolor": "#2a3f5f",
             "gridcolor": "white",
             "linecolor": "white",
             "minorgridcolor": "white",
             "startlinecolor": "#2a3f5f"
            },
            "baxis": {
             "endlinecolor": "#2a3f5f",
             "gridcolor": "white",
             "linecolor": "white",
             "minorgridcolor": "white",
             "startlinecolor": "#2a3f5f"
            },
            "type": "carpet"
           }
          ],
          "choropleth": [
           {
            "colorbar": {
             "outlinewidth": 0,
             "ticks": ""
            },
            "type": "choropleth"
           }
          ],
          "contour": [
           {
            "colorbar": {
             "outlinewidth": 0,
             "ticks": ""
            },
            "colorscale": [
             [
              0,
              "#0d0887"
             ],
             [
              0.1111111111111111,
              "#46039f"
             ],
             [
              0.2222222222222222,
              "#7201a8"
             ],
             [
              0.3333333333333333,
              "#9c179e"
             ],
             [
              0.4444444444444444,
              "#bd3786"
             ],
             [
              0.5555555555555556,
              "#d8576b"
             ],
             [
              0.6666666666666666,
              "#ed7953"
             ],
             [
              0.7777777777777778,
              "#fb9f3a"
             ],
             [
              0.8888888888888888,
              "#fdca26"
             ],
             [
              1,
              "#f0f921"
             ]
            ],
            "type": "contour"
           }
          ],
          "contourcarpet": [
           {
            "colorbar": {
             "outlinewidth": 0,
             "ticks": ""
            },
            "type": "contourcarpet"
           }
          ],
          "heatmap": [
           {
            "colorbar": {
             "outlinewidth": 0,
             "ticks": ""
            },
            "colorscale": [
             [
              0,
              "#0d0887"
             ],
             [
              0.1111111111111111,
              "#46039f"
             ],
             [
              0.2222222222222222,
              "#7201a8"
             ],
             [
              0.3333333333333333,
              "#9c179e"
             ],
             [
              0.4444444444444444,
              "#bd3786"
             ],
             [
              0.5555555555555556,
              "#d8576b"
             ],
             [
              0.6666666666666666,
              "#ed7953"
             ],
             [
              0.7777777777777778,
              "#fb9f3a"
             ],
             [
              0.8888888888888888,
              "#fdca26"
             ],
             [
              1,
              "#f0f921"
             ]
            ],
            "type": "heatmap"
           }
          ],
          "heatmapgl": [
           {
            "colorbar": {
             "outlinewidth": 0,
             "ticks": ""
            },
            "colorscale": [
             [
              0,
              "#0d0887"
             ],
             [
              0.1111111111111111,
              "#46039f"
             ],
             [
              0.2222222222222222,
              "#7201a8"
             ],
             [
              0.3333333333333333,
              "#9c179e"
             ],
             [
              0.4444444444444444,
              "#bd3786"
             ],
             [
              0.5555555555555556,
              "#d8576b"
             ],
             [
              0.6666666666666666,
              "#ed7953"
             ],
             [
              0.7777777777777778,
              "#fb9f3a"
             ],
             [
              0.8888888888888888,
              "#fdca26"
             ],
             [
              1,
              "#f0f921"
             ]
            ],
            "type": "heatmapgl"
           }
          ],
          "histogram": [
           {
            "marker": {
             "pattern": {
              "fillmode": "overlay",
              "size": 10,
              "solidity": 0.2
             }
            },
            "type": "histogram"
           }
          ],
          "histogram2d": [
           {
            "colorbar": {
             "outlinewidth": 0,
             "ticks": ""
            },
            "colorscale": [
             [
              0,
              "#0d0887"
             ],
             [
              0.1111111111111111,
              "#46039f"
             ],
             [
              0.2222222222222222,
              "#7201a8"
             ],
             [
              0.3333333333333333,
              "#9c179e"
             ],
             [
              0.4444444444444444,
              "#bd3786"
             ],
             [
              0.5555555555555556,
              "#d8576b"
             ],
             [
              0.6666666666666666,
              "#ed7953"
             ],
             [
              0.7777777777777778,
              "#fb9f3a"
             ],
             [
              0.8888888888888888,
              "#fdca26"
             ],
             [
              1,
              "#f0f921"
             ]
            ],
            "type": "histogram2d"
           }
          ],
          "histogram2dcontour": [
           {
            "colorbar": {
             "outlinewidth": 0,
             "ticks": ""
            },
            "colorscale": [
             [
              0,
              "#0d0887"
             ],
             [
              0.1111111111111111,
              "#46039f"
             ],
             [
              0.2222222222222222,
              "#7201a8"
             ],
             [
              0.3333333333333333,
              "#9c179e"
             ],
             [
              0.4444444444444444,
              "#bd3786"
             ],
             [
              0.5555555555555556,
              "#d8576b"
             ],
             [
              0.6666666666666666,
              "#ed7953"
             ],
             [
              0.7777777777777778,
              "#fb9f3a"
             ],
             [
              0.8888888888888888,
              "#fdca26"
             ],
             [
              1,
              "#f0f921"
             ]
            ],
            "type": "histogram2dcontour"
           }
          ],
          "mesh3d": [
           {
            "colorbar": {
             "outlinewidth": 0,
             "ticks": ""
            },
            "type": "mesh3d"
           }
          ],
          "parcoords": [
           {
            "line": {
             "colorbar": {
              "outlinewidth": 0,
              "ticks": ""
             }
            },
            "type": "parcoords"
           }
          ],
          "pie": [
           {
            "automargin": true,
            "type": "pie"
           }
          ],
          "scatter": [
           {
            "fillpattern": {
             "fillmode": "overlay",
             "size": 10,
             "solidity": 0.2
            },
            "type": "scatter"
           }
          ],
          "scatter3d": [
           {
            "line": {
             "colorbar": {
              "outlinewidth": 0,
              "ticks": ""
             }
            },
            "marker": {
             "colorbar": {
              "outlinewidth": 0,
              "ticks": ""
             }
            },
            "type": "scatter3d"
           }
          ],
          "scattercarpet": [
           {
            "marker": {
             "colorbar": {
              "outlinewidth": 0,
              "ticks": ""
             }
            },
            "type": "scattercarpet"
           }
          ],
          "scattergeo": [
           {
            "marker": {
             "colorbar": {
              "outlinewidth": 0,
              "ticks": ""
             }
            },
            "type": "scattergeo"
           }
          ],
          "scattergl": [
           {
            "marker": {
             "colorbar": {
              "outlinewidth": 0,
              "ticks": ""
             }
            },
            "type": "scattergl"
           }
          ],
          "scattermapbox": [
           {
            "marker": {
             "colorbar": {
              "outlinewidth": 0,
              "ticks": ""
             }
            },
            "type": "scattermapbox"
           }
          ],
          "scatterpolar": [
           {
            "marker": {
             "colorbar": {
              "outlinewidth": 0,
              "ticks": ""
             }
            },
            "type": "scatterpolar"
           }
          ],
          "scatterpolargl": [
           {
            "marker": {
             "colorbar": {
              "outlinewidth": 0,
              "ticks": ""
             }
            },
            "type": "scatterpolargl"
           }
          ],
          "scatterternary": [
           {
            "marker": {
             "colorbar": {
              "outlinewidth": 0,
              "ticks": ""
             }
            },
            "type": "scatterternary"
           }
          ],
          "surface": [
           {
            "colorbar": {
             "outlinewidth": 0,
             "ticks": ""
            },
            "colorscale": [
             [
              0,
              "#0d0887"
             ],
             [
              0.1111111111111111,
              "#46039f"
             ],
             [
              0.2222222222222222,
              "#7201a8"
             ],
             [
              0.3333333333333333,
              "#9c179e"
             ],
             [
              0.4444444444444444,
              "#bd3786"
             ],
             [
              0.5555555555555556,
              "#d8576b"
             ],
             [
              0.6666666666666666,
              "#ed7953"
             ],
             [
              0.7777777777777778,
              "#fb9f3a"
             ],
             [
              0.8888888888888888,
              "#fdca26"
             ],
             [
              1,
              "#f0f921"
             ]
            ],
            "type": "surface"
           }
          ],
          "table": [
           {
            "cells": {
             "fill": {
              "color": "#EBF0F8"
             },
             "line": {
              "color": "white"
             }
            },
            "header": {
             "fill": {
              "color": "#C8D4E3"
             },
             "line": {
              "color": "white"
             }
            },
            "type": "table"
           }
          ]
         },
         "layout": {
          "annotationdefaults": {
           "arrowcolor": "#2a3f5f",
           "arrowhead": 0,
           "arrowwidth": 1
          },
          "autotypenumbers": "strict",
          "coloraxis": {
           "colorbar": {
            "outlinewidth": 0,
            "ticks": ""
           }
          },
          "colorscale": {
           "diverging": [
            [
             0,
             "#8e0152"
            ],
            [
             0.1,
             "#c51b7d"
            ],
            [
             0.2,
             "#de77ae"
            ],
            [
             0.3,
             "#f1b6da"
            ],
            [
             0.4,
             "#fde0ef"
            ],
            [
             0.5,
             "#f7f7f7"
            ],
            [
             0.6,
             "#e6f5d0"
            ],
            [
             0.7,
             "#b8e186"
            ],
            [
             0.8,
             "#7fbc41"
            ],
            [
             0.9,
             "#4d9221"
            ],
            [
             1,
             "#276419"
            ]
           ],
           "sequential": [
            [
             0,
             "#0d0887"
            ],
            [
             0.1111111111111111,
             "#46039f"
            ],
            [
             0.2222222222222222,
             "#7201a8"
            ],
            [
             0.3333333333333333,
             "#9c179e"
            ],
            [
             0.4444444444444444,
             "#bd3786"
            ],
            [
             0.5555555555555556,
             "#d8576b"
            ],
            [
             0.6666666666666666,
             "#ed7953"
            ],
            [
             0.7777777777777778,
             "#fb9f3a"
            ],
            [
             0.8888888888888888,
             "#fdca26"
            ],
            [
             1,
             "#f0f921"
            ]
           ],
           "sequentialminus": [
            [
             0,
             "#0d0887"
            ],
            [
             0.1111111111111111,
             "#46039f"
            ],
            [
             0.2222222222222222,
             "#7201a8"
            ],
            [
             0.3333333333333333,
             "#9c179e"
            ],
            [
             0.4444444444444444,
             "#bd3786"
            ],
            [
             0.5555555555555556,
             "#d8576b"
            ],
            [
             0.6666666666666666,
             "#ed7953"
            ],
            [
             0.7777777777777778,
             "#fb9f3a"
            ],
            [
             0.8888888888888888,
             "#fdca26"
            ],
            [
             1,
             "#f0f921"
            ]
           ]
          },
          "colorway": [
           "#636efa",
           "#EF553B",
           "#00cc96",
           "#ab63fa",
           "#FFA15A",
           "#19d3f3",
           "#FF6692",
           "#B6E880",
           "#FF97FF",
           "#FECB52"
          ],
          "font": {
           "color": "#2a3f5f"
          },
          "geo": {
           "bgcolor": "white",
           "lakecolor": "white",
           "landcolor": "#E5ECF6",
           "showlakes": true,
           "showland": true,
           "subunitcolor": "white"
          },
          "hoverlabel": {
           "align": "left"
          },
          "hovermode": "closest",
          "mapbox": {
           "style": "light"
          },
          "paper_bgcolor": "white",
          "plot_bgcolor": "#E5ECF6",
          "polar": {
           "angularaxis": {
            "gridcolor": "white",
            "linecolor": "white",
            "ticks": ""
           },
           "bgcolor": "#E5ECF6",
           "radialaxis": {
            "gridcolor": "white",
            "linecolor": "white",
            "ticks": ""
           }
          },
          "scene": {
           "xaxis": {
            "backgroundcolor": "#E5ECF6",
            "gridcolor": "white",
            "gridwidth": 2,
            "linecolor": "white",
            "showbackground": true,
            "ticks": "",
            "zerolinecolor": "white"
           },
           "yaxis": {
            "backgroundcolor": "#E5ECF6",
            "gridcolor": "white",
            "gridwidth": 2,
            "linecolor": "white",
            "showbackground": true,
            "ticks": "",
            "zerolinecolor": "white"
           },
           "zaxis": {
            "backgroundcolor": "#E5ECF6",
            "gridcolor": "white",
            "gridwidth": 2,
            "linecolor": "white",
            "showbackground": true,
            "ticks": "",
            "zerolinecolor": "white"
           }
          },
          "shapedefaults": {
           "line": {
            "color": "#2a3f5f"
           }
          },
          "ternary": {
           "aaxis": {
            "gridcolor": "white",
            "linecolor": "white",
            "ticks": ""
           },
           "baxis": {
            "gridcolor": "white",
            "linecolor": "white",
            "ticks": ""
           },
           "bgcolor": "#E5ECF6",
           "caxis": {
            "gridcolor": "white",
            "linecolor": "white",
            "ticks": ""
           }
          },
          "title": {
           "x": 0.05
          },
          "xaxis": {
           "automargin": true,
           "gridcolor": "white",
           "linecolor": "white",
           "ticks": "",
           "title": {
            "standoff": 15
           },
           "zerolinecolor": "white",
           "zerolinewidth": 2
          },
          "yaxis": {
           "automargin": true,
           "gridcolor": "white",
           "linecolor": "white",
           "ticks": "",
           "title": {
            "standoff": 15
           },
           "zerolinecolor": "white",
           "zerolinewidth": 2
          }
         }
        },
        "title": {
         "text": "Incremental Txs Performance Benchmark (Completed Programs)<br><sup>Cutoff at Program End Date + 30 days (Latest Date if not yet reached 30 days).</sup>"
        },
        "xaxis": {
         "anchor": "y",
         "domain": [
          0,
          1
         ],
         "title": {
          "text": "Incremental Transactions per Day"
         }
        },
        "yaxis": {
         "anchor": "x",
         "domain": [
          0,
          1
         ],
         "title": {
          "text": "Annualized Incremental Transactions per OP"
         }
        }
       }
      }
     },
     "metadata": {},
     "output_type": "display_data"
    }
   ],
   "source": [
    "layout_settings = {\n",
    "    \"title\": \"Incremental Txs Performance Benchmark (Completed Programs)<br><sup>Cutoff at Program End Date + 30 days (Latest Date if not yet reached 30 days).</sup>\",\n",
    "    \"xaxis_title\": \"Incremental Transactions per Day\",\n",
    "    \"yaxis_title\": \"Annualized Incremental Transactions per OP\",\n",
    "    \"legend_title\": \"Op Source\",\n",
    "}\n",
    "\n",
    "df = cleanup_data(\n",
    "    subset=[\n",
    "        \"op_deployed\",\n",
    "        \"incremental_txs_per_day_after\",\n",
    "        \"incremental_txs_after_annualized_per_op\",\n",
    "    ],\n",
    ")\n",
    "\n",
    "plot_benchmark(\n",
    "    df,\n",
    "    x=\"incremental_txs_per_day_after\",\n",
    "    y=\"incremental_txs_after_annualized_per_op\",\n",
    "    size=\"op_deployed\",\n",
    "    layout_settings=layout_settings,\n",
    ")"
   ]
  },
  {
   "attachments": {},
   "cell_type": "markdown",
   "metadata": {},
   "source": [
    "### TVL Benchmark"
   ]
  },
  {
   "cell_type": "code",
   "execution_count": 20,
   "metadata": {},
   "outputs": [
    {
     "data": {
      "application/vnd.plotly.v1+json": {
       "config": {
        "plotlyServerURL": "https://plot.ly"
       },
       "data": [
        {
         "hovertemplate": "<b>%{hovertext}</b><br><br>op_source_map=Multiple<br>cumul_last_price_net_dollar_flow_at_program_end=%{x}<br>net_tvl_per_op_during=%{y}<br>op_deployed=%{marker.size}<extra></extra>",
         "hovertext": [
          "Velodrome",
          "Thales",
          "PoolTogether"
         ],
         "legendgroup": "Multiple",
         "marker": {
          "color": "#636efa",
          "size": [
           6176064.866580186,
           1178295.4273490675,
           897039
          ],
          "sizemode": "area",
          "sizeref": 15440.162166450466,
          "symbol": "circle"
         },
         "mode": "markers",
         "name": "Multiple",
         "orientation": "v",
         "showlegend": true,
         "type": "scatter",
         "x": [
          286687198.0131858,
          -137796.89079652107,
          34310924.799887955
         ],
         "xaxis": "x",
         "y": [
          46.41907172389049,
          -0.11694596074817748,
          38.249089281389054
         ],
         "yaxis": "y"
        },
        {
         "hovertemplate": "<b>%{hovertext}</b><br><br>op_source_map=['Phase 0']<br>cumul_last_price_net_dollar_flow_at_program_end=%{x}<br>net_tvl_per_op_during=%{y}<br>op_deployed=%{marker.size}<extra></extra>",
         "hovertext": [
          "Perpetual Protocol",
          "Rubicon",
          "Layer2DAO",
          "Stargate Finance",
          "Lyra",
          "WePiggy",
          "Celer",
          "Synthetix",
          "Pika Protocol",
          "Aelin",
          "Polynomial Protocol",
          "Hop Protocol",
          "Uniswap",
          "Clipper"
         ],
         "legendgroup": "['Phase 0']",
         "marker": {
          "color": "#EF553B",
          "size": [
           6074173.773350604,
           793865.5450721123,
           698677.8865775648,
           544725.73,
           1570078.7064676075,
           300009.7573070351,
           220001,
           5409432.496932238,
           718719,
           900001.0000000003,
           366854.9851770957,
           174149.31035950783,
           799999.98,
           177934
          ],
          "sizemode": "area",
          "sizeref": 15440.162166450466,
          "symbol": "circle"
         },
         "mode": "markers",
         "name": "['Phase 0']",
         "orientation": "v",
         "showlegend": true,
         "type": "scatter",
         "x": [
          -9746819.006012486,
          9090736.57116614,
          358514.56672767806,
          23880251.551610656,
          3999405.12276135,
          833137.0315352468,
          11665874.046573907,
          42692842.40640522,
          11022182.95399192,
          -2826.6927108232862,
          2298672.54467,
          10309680.577118518,
          93968177.86500946,
          -182713.5899830816
         ],
         "xaxis": "x",
         "y": [
          -1.604632888307375,
          11.451229528219875,
          0.5131328379145388,
          43.83903721898846,
          2.547264099746494,
          2.7770331172349176,
          53.02645918233966,
          7.892295990497506,
          15.335872509272637,
          -0.003140766188952329,
          6.265888804973819,
          59.20023774906469,
          117.46022526776746,
          -1.0268615890334707
         ],
         "yaxis": "y"
        },
        {
         "hovertemplate": "<b>%{hovertext}</b><br><br>op_source_map=['Partner Fund']<br>cumul_last_price_net_dollar_flow_at_program_end=%{x}<br>net_tvl_per_op_during=%{y}<br>op_deployed=%{marker.size}<extra></extra>",
         "hovertext": [
          "Aave",
          "Lido"
         ],
         "legendgroup": "['Partner Fund']",
         "marker": {
          "color": "#00cc96",
          "size": [
           4825866.311743143,
           64875
          ],
          "sizemode": "area",
          "sizeref": 15440.162166450466,
          "symbol": "circle"
         },
         "mode": "markers",
         "name": "['Partner Fund']",
         "orientation": "v",
         "showlegend": true,
         "type": "scatter",
         "x": [
          341969369.3791454,
          34236052.14031625
         ],
         "xaxis": "x",
         "y": [
          70.86175772151118,
          527.7233470568979
         ],
         "yaxis": "y"
        },
        {
         "hovertemplate": "<b>%{hovertext}</b><br><br>op_source_map=['Season 1']<br>cumul_last_price_net_dollar_flow_at_program_end=%{x}<br>net_tvl_per_op_during=%{y}<br>op_deployed=%{marker.size}<extra></extra>",
         "hovertext": [
          "Pickle Finance",
          "Beefy Finance",
          "XToken",
          "Beethoven X",
          "Hundred Finance",
          "dForce",
          "QiDao",
          "Rocket Pool"
         ],
         "legendgroup": "['Season 1']",
         "marker": {
          "color": "#ab63fa",
          "size": [
           82600,
           320961.6725694471,
           709841.3081865921,
           240375.09,
           161322.5,
           555713.7610960284,
           362027.56468310714,
           433570
          ],
          "sizemode": "area",
          "sizeref": 15440.162166450466,
          "symbol": "circle"
         },
         "mode": "markers",
         "name": "['Season 1']",
         "orientation": "v",
         "showlegend": true,
         "type": "scatter",
         "x": [
          2984442.331693876,
          74238743.77170408,
          620580.4774185518,
          38908348.17657445,
          -1052086.4832034316,
          4672432.75297032,
          4036681.331196147,
          14192489.209402446
         ],
         "xaxis": "x",
         "y": [
          36.131263095567505,
          231.30096244012094,
          0.8742524142528815,
          161.86514241793714,
          -6.5216351296529105,
          8.407984613796373,
          11.1502043628351,
          32.734020364422
         ],
         "yaxis": "y"
        },
        {
         "hovertemplate": "<b>%{hovertext}</b><br><br>op_source_map=['Season 2']<br>cumul_last_price_net_dollar_flow_at_program_end=%{x}<br>net_tvl_per_op_during=%{y}<br>op_deployed=%{marker.size}<extra></extra>",
         "hovertext": [
          "Revert Finance",
          "dHedge",
          "Overnight",
          "Angle",
          "Sushi"
         ],
         "legendgroup": "['Season 2']",
         "marker": {
          "color": "#FFA15A",
          "size": [
           240838.05391830354,
           305704.65871088207,
           475012.6824092357,
           41791.51565169649,
           49999.99999999999
          ],
          "sizemode": "area",
          "sizeref": 15440.162166450466,
          "symbol": "circle"
         },
         "mode": "markers",
         "name": "['Season 2']",
         "orientation": "v",
         "showlegend": true,
         "type": "scatter",
         "x": [
          4526685.20735561,
          21872380.47512371,
          6709128.065748544,
          -943767.6827645211,
          -1965120.145877821
         ],
         "xaxis": "x",
         "y": [
          18.795556323882025,
          71.5474228209566,
          14.124103027566026,
          -22.582757960495496,
          -39.30240291755642
         ],
         "yaxis": "y"
        },
        {
         "mode": "lines",
         "name": "25th percentile",
         "type": "scatter",
         "x": [
          -9746819.006012486,
          341969369.3791454
         ],
         "y": [
          0.7839725201682958,
          0.7839725201682958
         ]
        },
        {
         "mode": "lines",
         "name": "50th percentile",
         "type": "scatter",
         "x": [
          -9746819.006012486,
          341969369.3791454
         ],
         "y": [
          12.78766627789295,
          12.78766627789295
         ]
        },
        {
         "mode": "lines",
         "name": "75th percentile",
         "type": "scatter",
         "x": [
          -9746819.006012486,
          341969369.3791454
         ],
         "y": [
          48.07091858850278,
          48.07091858850278
         ]
        }
       ],
       "layout": {
        "legend": {
         "itemsizing": "constant",
         "title": {
          "text": "Op Source"
         },
         "tracegroupgap": 0
        },
        "margin": {
         "t": 60
        },
        "template": {
         "data": {
          "bar": [
           {
            "error_x": {
             "color": "#2a3f5f"
            },
            "error_y": {
             "color": "#2a3f5f"
            },
            "marker": {
             "line": {
              "color": "#E5ECF6",
              "width": 0.5
             },
             "pattern": {
              "fillmode": "overlay",
              "size": 10,
              "solidity": 0.2
             }
            },
            "type": "bar"
           }
          ],
          "barpolar": [
           {
            "marker": {
             "line": {
              "color": "#E5ECF6",
              "width": 0.5
             },
             "pattern": {
              "fillmode": "overlay",
              "size": 10,
              "solidity": 0.2
             }
            },
            "type": "barpolar"
           }
          ],
          "carpet": [
           {
            "aaxis": {
             "endlinecolor": "#2a3f5f",
             "gridcolor": "white",
             "linecolor": "white",
             "minorgridcolor": "white",
             "startlinecolor": "#2a3f5f"
            },
            "baxis": {
             "endlinecolor": "#2a3f5f",
             "gridcolor": "white",
             "linecolor": "white",
             "minorgridcolor": "white",
             "startlinecolor": "#2a3f5f"
            },
            "type": "carpet"
           }
          ],
          "choropleth": [
           {
            "colorbar": {
             "outlinewidth": 0,
             "ticks": ""
            },
            "type": "choropleth"
           }
          ],
          "contour": [
           {
            "colorbar": {
             "outlinewidth": 0,
             "ticks": ""
            },
            "colorscale": [
             [
              0,
              "#0d0887"
             ],
             [
              0.1111111111111111,
              "#46039f"
             ],
             [
              0.2222222222222222,
              "#7201a8"
             ],
             [
              0.3333333333333333,
              "#9c179e"
             ],
             [
              0.4444444444444444,
              "#bd3786"
             ],
             [
              0.5555555555555556,
              "#d8576b"
             ],
             [
              0.6666666666666666,
              "#ed7953"
             ],
             [
              0.7777777777777778,
              "#fb9f3a"
             ],
             [
              0.8888888888888888,
              "#fdca26"
             ],
             [
              1,
              "#f0f921"
             ]
            ],
            "type": "contour"
           }
          ],
          "contourcarpet": [
           {
            "colorbar": {
             "outlinewidth": 0,
             "ticks": ""
            },
            "type": "contourcarpet"
           }
          ],
          "heatmap": [
           {
            "colorbar": {
             "outlinewidth": 0,
             "ticks": ""
            },
            "colorscale": [
             [
              0,
              "#0d0887"
             ],
             [
              0.1111111111111111,
              "#46039f"
             ],
             [
              0.2222222222222222,
              "#7201a8"
             ],
             [
              0.3333333333333333,
              "#9c179e"
             ],
             [
              0.4444444444444444,
              "#bd3786"
             ],
             [
              0.5555555555555556,
              "#d8576b"
             ],
             [
              0.6666666666666666,
              "#ed7953"
             ],
             [
              0.7777777777777778,
              "#fb9f3a"
             ],
             [
              0.8888888888888888,
              "#fdca26"
             ],
             [
              1,
              "#f0f921"
             ]
            ],
            "type": "heatmap"
           }
          ],
          "heatmapgl": [
           {
            "colorbar": {
             "outlinewidth": 0,
             "ticks": ""
            },
            "colorscale": [
             [
              0,
              "#0d0887"
             ],
             [
              0.1111111111111111,
              "#46039f"
             ],
             [
              0.2222222222222222,
              "#7201a8"
             ],
             [
              0.3333333333333333,
              "#9c179e"
             ],
             [
              0.4444444444444444,
              "#bd3786"
             ],
             [
              0.5555555555555556,
              "#d8576b"
             ],
             [
              0.6666666666666666,
              "#ed7953"
             ],
             [
              0.7777777777777778,
              "#fb9f3a"
             ],
             [
              0.8888888888888888,
              "#fdca26"
             ],
             [
              1,
              "#f0f921"
             ]
            ],
            "type": "heatmapgl"
           }
          ],
          "histogram": [
           {
            "marker": {
             "pattern": {
              "fillmode": "overlay",
              "size": 10,
              "solidity": 0.2
             }
            },
            "type": "histogram"
           }
          ],
          "histogram2d": [
           {
            "colorbar": {
             "outlinewidth": 0,
             "ticks": ""
            },
            "colorscale": [
             [
              0,
              "#0d0887"
             ],
             [
              0.1111111111111111,
              "#46039f"
             ],
             [
              0.2222222222222222,
              "#7201a8"
             ],
             [
              0.3333333333333333,
              "#9c179e"
             ],
             [
              0.4444444444444444,
              "#bd3786"
             ],
             [
              0.5555555555555556,
              "#d8576b"
             ],
             [
              0.6666666666666666,
              "#ed7953"
             ],
             [
              0.7777777777777778,
              "#fb9f3a"
             ],
             [
              0.8888888888888888,
              "#fdca26"
             ],
             [
              1,
              "#f0f921"
             ]
            ],
            "type": "histogram2d"
           }
          ],
          "histogram2dcontour": [
           {
            "colorbar": {
             "outlinewidth": 0,
             "ticks": ""
            },
            "colorscale": [
             [
              0,
              "#0d0887"
             ],
             [
              0.1111111111111111,
              "#46039f"
             ],
             [
              0.2222222222222222,
              "#7201a8"
             ],
             [
              0.3333333333333333,
              "#9c179e"
             ],
             [
              0.4444444444444444,
              "#bd3786"
             ],
             [
              0.5555555555555556,
              "#d8576b"
             ],
             [
              0.6666666666666666,
              "#ed7953"
             ],
             [
              0.7777777777777778,
              "#fb9f3a"
             ],
             [
              0.8888888888888888,
              "#fdca26"
             ],
             [
              1,
              "#f0f921"
             ]
            ],
            "type": "histogram2dcontour"
           }
          ],
          "mesh3d": [
           {
            "colorbar": {
             "outlinewidth": 0,
             "ticks": ""
            },
            "type": "mesh3d"
           }
          ],
          "parcoords": [
           {
            "line": {
             "colorbar": {
              "outlinewidth": 0,
              "ticks": ""
             }
            },
            "type": "parcoords"
           }
          ],
          "pie": [
           {
            "automargin": true,
            "type": "pie"
           }
          ],
          "scatter": [
           {
            "fillpattern": {
             "fillmode": "overlay",
             "size": 10,
             "solidity": 0.2
            },
            "type": "scatter"
           }
          ],
          "scatter3d": [
           {
            "line": {
             "colorbar": {
              "outlinewidth": 0,
              "ticks": ""
             }
            },
            "marker": {
             "colorbar": {
              "outlinewidth": 0,
              "ticks": ""
             }
            },
            "type": "scatter3d"
           }
          ],
          "scattercarpet": [
           {
            "marker": {
             "colorbar": {
              "outlinewidth": 0,
              "ticks": ""
             }
            },
            "type": "scattercarpet"
           }
          ],
          "scattergeo": [
           {
            "marker": {
             "colorbar": {
              "outlinewidth": 0,
              "ticks": ""
             }
            },
            "type": "scattergeo"
           }
          ],
          "scattergl": [
           {
            "marker": {
             "colorbar": {
              "outlinewidth": 0,
              "ticks": ""
             }
            },
            "type": "scattergl"
           }
          ],
          "scattermapbox": [
           {
            "marker": {
             "colorbar": {
              "outlinewidth": 0,
              "ticks": ""
             }
            },
            "type": "scattermapbox"
           }
          ],
          "scatterpolar": [
           {
            "marker": {
             "colorbar": {
              "outlinewidth": 0,
              "ticks": ""
             }
            },
            "type": "scatterpolar"
           }
          ],
          "scatterpolargl": [
           {
            "marker": {
             "colorbar": {
              "outlinewidth": 0,
              "ticks": ""
             }
            },
            "type": "scatterpolargl"
           }
          ],
          "scatterternary": [
           {
            "marker": {
             "colorbar": {
              "outlinewidth": 0,
              "ticks": ""
             }
            },
            "type": "scatterternary"
           }
          ],
          "surface": [
           {
            "colorbar": {
             "outlinewidth": 0,
             "ticks": ""
            },
            "colorscale": [
             [
              0,
              "#0d0887"
             ],
             [
              0.1111111111111111,
              "#46039f"
             ],
             [
              0.2222222222222222,
              "#7201a8"
             ],
             [
              0.3333333333333333,
              "#9c179e"
             ],
             [
              0.4444444444444444,
              "#bd3786"
             ],
             [
              0.5555555555555556,
              "#d8576b"
             ],
             [
              0.6666666666666666,
              "#ed7953"
             ],
             [
              0.7777777777777778,
              "#fb9f3a"
             ],
             [
              0.8888888888888888,
              "#fdca26"
             ],
             [
              1,
              "#f0f921"
             ]
            ],
            "type": "surface"
           }
          ],
          "table": [
           {
            "cells": {
             "fill": {
              "color": "#EBF0F8"
             },
             "line": {
              "color": "white"
             }
            },
            "header": {
             "fill": {
              "color": "#C8D4E3"
             },
             "line": {
              "color": "white"
             }
            },
            "type": "table"
           }
          ]
         },
         "layout": {
          "annotationdefaults": {
           "arrowcolor": "#2a3f5f",
           "arrowhead": 0,
           "arrowwidth": 1
          },
          "autotypenumbers": "strict",
          "coloraxis": {
           "colorbar": {
            "outlinewidth": 0,
            "ticks": ""
           }
          },
          "colorscale": {
           "diverging": [
            [
             0,
             "#8e0152"
            ],
            [
             0.1,
             "#c51b7d"
            ],
            [
             0.2,
             "#de77ae"
            ],
            [
             0.3,
             "#f1b6da"
            ],
            [
             0.4,
             "#fde0ef"
            ],
            [
             0.5,
             "#f7f7f7"
            ],
            [
             0.6,
             "#e6f5d0"
            ],
            [
             0.7,
             "#b8e186"
            ],
            [
             0.8,
             "#7fbc41"
            ],
            [
             0.9,
             "#4d9221"
            ],
            [
             1,
             "#276419"
            ]
           ],
           "sequential": [
            [
             0,
             "#0d0887"
            ],
            [
             0.1111111111111111,
             "#46039f"
            ],
            [
             0.2222222222222222,
             "#7201a8"
            ],
            [
             0.3333333333333333,
             "#9c179e"
            ],
            [
             0.4444444444444444,
             "#bd3786"
            ],
            [
             0.5555555555555556,
             "#d8576b"
            ],
            [
             0.6666666666666666,
             "#ed7953"
            ],
            [
             0.7777777777777778,
             "#fb9f3a"
            ],
            [
             0.8888888888888888,
             "#fdca26"
            ],
            [
             1,
             "#f0f921"
            ]
           ],
           "sequentialminus": [
            [
             0,
             "#0d0887"
            ],
            [
             0.1111111111111111,
             "#46039f"
            ],
            [
             0.2222222222222222,
             "#7201a8"
            ],
            [
             0.3333333333333333,
             "#9c179e"
            ],
            [
             0.4444444444444444,
             "#bd3786"
            ],
            [
             0.5555555555555556,
             "#d8576b"
            ],
            [
             0.6666666666666666,
             "#ed7953"
            ],
            [
             0.7777777777777778,
             "#fb9f3a"
            ],
            [
             0.8888888888888888,
             "#fdca26"
            ],
            [
             1,
             "#f0f921"
            ]
           ]
          },
          "colorway": [
           "#636efa",
           "#EF553B",
           "#00cc96",
           "#ab63fa",
           "#FFA15A",
           "#19d3f3",
           "#FF6692",
           "#B6E880",
           "#FF97FF",
           "#FECB52"
          ],
          "font": {
           "color": "#2a3f5f"
          },
          "geo": {
           "bgcolor": "white",
           "lakecolor": "white",
           "landcolor": "#E5ECF6",
           "showlakes": true,
           "showland": true,
           "subunitcolor": "white"
          },
          "hoverlabel": {
           "align": "left"
          },
          "hovermode": "closest",
          "mapbox": {
           "style": "light"
          },
          "paper_bgcolor": "white",
          "plot_bgcolor": "#E5ECF6",
          "polar": {
           "angularaxis": {
            "gridcolor": "white",
            "linecolor": "white",
            "ticks": ""
           },
           "bgcolor": "#E5ECF6",
           "radialaxis": {
            "gridcolor": "white",
            "linecolor": "white",
            "ticks": ""
           }
          },
          "scene": {
           "xaxis": {
            "backgroundcolor": "#E5ECF6",
            "gridcolor": "white",
            "gridwidth": 2,
            "linecolor": "white",
            "showbackground": true,
            "ticks": "",
            "zerolinecolor": "white"
           },
           "yaxis": {
            "backgroundcolor": "#E5ECF6",
            "gridcolor": "white",
            "gridwidth": 2,
            "linecolor": "white",
            "showbackground": true,
            "ticks": "",
            "zerolinecolor": "white"
           },
           "zaxis": {
            "backgroundcolor": "#E5ECF6",
            "gridcolor": "white",
            "gridwidth": 2,
            "linecolor": "white",
            "showbackground": true,
            "ticks": "",
            "zerolinecolor": "white"
           }
          },
          "shapedefaults": {
           "line": {
            "color": "#2a3f5f"
           }
          },
          "ternary": {
           "aaxis": {
            "gridcolor": "white",
            "linecolor": "white",
            "ticks": ""
           },
           "baxis": {
            "gridcolor": "white",
            "linecolor": "white",
            "ticks": ""
           },
           "bgcolor": "#E5ECF6",
           "caxis": {
            "gridcolor": "white",
            "linecolor": "white",
            "ticks": ""
           }
          },
          "title": {
           "x": 0.05
          },
          "xaxis": {
           "automargin": true,
           "gridcolor": "white",
           "linecolor": "white",
           "ticks": "",
           "title": {
            "standoff": 15
           },
           "zerolinecolor": "white",
           "zerolinewidth": 2
          },
          "yaxis": {
           "automargin": true,
           "gridcolor": "white",
           "linecolor": "white",
           "ticks": "",
           "title": {
            "standoff": 15
           },
           "zerolinecolor": "white",
           "zerolinewidth": 2
          }
         }
        },
        "title": {
         "text": "Incremental TVL Performance Benchmark (All Programs)<br><sup>Cutoff at Program End Date (Latest Date if still Live).</sup>"
        },
        "xaxis": {
         "anchor": "y",
         "domain": [
          0,
          1
         ],
         "title": {
          "text": "Incremental TVL"
         }
        },
        "yaxis": {
         "anchor": "x",
         "domain": [
          0,
          1
         ],
         "title": {
          "text": "Incremental TVL per OP"
         }
        }
       }
      }
     },
     "metadata": {},
     "output_type": "display_data"
    }
   ],
   "source": [
    "layout_settings = {\n",
    "    \"title\": \"Incremental TVL Performance Benchmark (All Programs)<br><sup>Cutoff at Program End Date (Latest Date if still Live).</sup>\",\n",
    "    \"xaxis_title\": \"Incremental TVL\",\n",
    "    \"yaxis_title\": \"Incremental TVL per OP\",\n",
    "    \"legend_title\": \"Op Source\",\n",
    "}\n",
    "\n",
    "df = cleanup_data(\n",
    "    subset=[\n",
    "        \"op_deployed\",\n",
    "        \"net_tvl_per_op_during\",\n",
    "        \"cumul_last_price_net_dollar_flow_at_program_end\",\n",
    "    ]\n",
    ")\n",
    "\n",
    "plot_benchmark(\n",
    "    df,\n",
    "    x=\"cumul_last_price_net_dollar_flow_at_program_end\",\n",
    "    y=\"net_tvl_per_op_during\",\n",
    "    size=\"op_deployed\",\n",
    "    layout_settings=layout_settings,\n",
    ")"
   ]
  },
  {
   "cell_type": "code",
   "execution_count": 21,
   "metadata": {},
   "outputs": [
    {
     "data": {
      "application/vnd.plotly.v1+json": {
       "config": {
        "plotlyServerURL": "https://plot.ly"
       },
       "data": [
        {
         "hovertemplate": "<b>%{hovertext}</b><br><br>op_source_map=['Phase 0']<br>cumul_last_price_net_dollar_flow=%{x}<br>net_tvl_per_op=%{y}<br>op_deployed=%{marker.size}<extra></extra>",
         "hovertext": [
          "Rubicon",
          "WePiggy",
          "Aelin"
         ],
         "legendgroup": "['Phase 0']",
         "marker": {
          "color": "#636efa",
          "size": [
           793865.5450721123,
           300009.7573070351,
           900001.0000000003
          ],
          "sizemode": "area",
          "sizeref": 12064.665779357858,
          "symbol": "circle"
         },
         "mode": "markers",
         "name": "['Phase 0']",
         "orientation": "v",
         "showlegend": true,
         "type": "scatter",
         "x": [
          -1094191.821427839,
          166784.04903293846,
          -2777.706732996996
         ],
         "xaxis": "x",
         "y": [
          -1.3783087428595304,
          0.5559287488848199,
          -0.003086337385177344
         ],
         "yaxis": "y"
        },
        {
         "hovertemplate": "<b>%{hovertext}</b><br><br>op_source_map=['Partner Fund']<br>cumul_last_price_net_dollar_flow=%{x}<br>net_tvl_per_op=%{y}<br>op_deployed=%{marker.size}<extra></extra>",
         "hovertext": [
          "Aave"
         ],
         "legendgroup": "['Partner Fund']",
         "marker": {
          "color": "#EF553B",
          "size": [
           4825866.311743143
          ],
          "sizemode": "area",
          "sizeref": 12064.665779357858,
          "symbol": "circle"
         },
         "mode": "markers",
         "name": "['Partner Fund']",
         "orientation": "v",
         "showlegend": true,
         "type": "scatter",
         "x": [
          77329625.72923894
         ],
         "xaxis": "x",
         "y": [
          16.023988385477434
         ],
         "yaxis": "y"
        },
        {
         "hovertemplate": "<b>%{hovertext}</b><br><br>op_source_map=['Season 1']<br>cumul_last_price_net_dollar_flow=%{x}<br>net_tvl_per_op=%{y}<br>op_deployed=%{marker.size}<extra></extra>",
         "hovertext": [
          "XToken"
         ],
         "legendgroup": "['Season 1']",
         "marker": {
          "color": "#00cc96",
          "size": [
           709841.3081865921
          ],
          "sizemode": "area",
          "sizeref": 12064.665779357858,
          "symbol": "circle"
         },
         "mode": "markers",
         "name": "['Season 1']",
         "orientation": "v",
         "showlegend": true,
         "type": "scatter",
         "x": [
          -961330.4449787006
         ],
         "xaxis": "x",
         "y": [
          -1.3542892388646406
         ],
         "yaxis": "y"
        },
        {
         "hovertemplate": "<b>%{hovertext}</b><br><br>op_source_map=['Season 2']<br>cumul_last_price_net_dollar_flow=%{x}<br>net_tvl_per_op=%{y}<br>op_deployed=%{marker.size}<extra></extra>",
         "hovertext": [
          "Revert Finance"
         ],
         "legendgroup": "['Season 2']",
         "marker": {
          "color": "#ab63fa",
          "size": [
           240838.05391830354
          ],
          "sizemode": "area",
          "sizeref": 12064.665779357858,
          "symbol": "circle"
         },
         "mode": "markers",
         "name": "['Season 2']",
         "orientation": "v",
         "showlegend": true,
         "type": "scatter",
         "x": [
          1122212.7760083422
         ],
         "xaxis": "x",
         "y": [
          4.659615695072076
         ],
         "yaxis": "y"
        },
        {
         "mode": "lines",
         "name": "25th percentile",
         "type": "scatter",
         "x": [
          -1094191.821427839,
          77329625.72923894
         ],
         "y": [
          -1.0164885134947748,
          -1.0164885134947748
         ]
        },
        {
         "mode": "lines",
         "name": "50th percentile",
         "type": "scatter",
         "x": [
          -1094191.821427839,
          77329625.72923894
         ],
         "y": [
          0.27642120574982126,
          0.27642120574982126
         ]
        },
        {
         "mode": "lines",
         "name": "75th percentile",
         "type": "scatter",
         "x": [
          -1094191.821427839,
          77329625.72923894
         ],
         "y": [
          3.633693958525262,
          3.633693958525262
         ]
        }
       ],
       "layout": {
        "legend": {
         "itemsizing": "constant",
         "title": {
          "text": "Op Source"
         },
         "tracegroupgap": 0
        },
        "margin": {
         "t": 60
        },
        "template": {
         "data": {
          "bar": [
           {
            "error_x": {
             "color": "#2a3f5f"
            },
            "error_y": {
             "color": "#2a3f5f"
            },
            "marker": {
             "line": {
              "color": "#E5ECF6",
              "width": 0.5
             },
             "pattern": {
              "fillmode": "overlay",
              "size": 10,
              "solidity": 0.2
             }
            },
            "type": "bar"
           }
          ],
          "barpolar": [
           {
            "marker": {
             "line": {
              "color": "#E5ECF6",
              "width": 0.5
             },
             "pattern": {
              "fillmode": "overlay",
              "size": 10,
              "solidity": 0.2
             }
            },
            "type": "barpolar"
           }
          ],
          "carpet": [
           {
            "aaxis": {
             "endlinecolor": "#2a3f5f",
             "gridcolor": "white",
             "linecolor": "white",
             "minorgridcolor": "white",
             "startlinecolor": "#2a3f5f"
            },
            "baxis": {
             "endlinecolor": "#2a3f5f",
             "gridcolor": "white",
             "linecolor": "white",
             "minorgridcolor": "white",
             "startlinecolor": "#2a3f5f"
            },
            "type": "carpet"
           }
          ],
          "choropleth": [
           {
            "colorbar": {
             "outlinewidth": 0,
             "ticks": ""
            },
            "type": "choropleth"
           }
          ],
          "contour": [
           {
            "colorbar": {
             "outlinewidth": 0,
             "ticks": ""
            },
            "colorscale": [
             [
              0,
              "#0d0887"
             ],
             [
              0.1111111111111111,
              "#46039f"
             ],
             [
              0.2222222222222222,
              "#7201a8"
             ],
             [
              0.3333333333333333,
              "#9c179e"
             ],
             [
              0.4444444444444444,
              "#bd3786"
             ],
             [
              0.5555555555555556,
              "#d8576b"
             ],
             [
              0.6666666666666666,
              "#ed7953"
             ],
             [
              0.7777777777777778,
              "#fb9f3a"
             ],
             [
              0.8888888888888888,
              "#fdca26"
             ],
             [
              1,
              "#f0f921"
             ]
            ],
            "type": "contour"
           }
          ],
          "contourcarpet": [
           {
            "colorbar": {
             "outlinewidth": 0,
             "ticks": ""
            },
            "type": "contourcarpet"
           }
          ],
          "heatmap": [
           {
            "colorbar": {
             "outlinewidth": 0,
             "ticks": ""
            },
            "colorscale": [
             [
              0,
              "#0d0887"
             ],
             [
              0.1111111111111111,
              "#46039f"
             ],
             [
              0.2222222222222222,
              "#7201a8"
             ],
             [
              0.3333333333333333,
              "#9c179e"
             ],
             [
              0.4444444444444444,
              "#bd3786"
             ],
             [
              0.5555555555555556,
              "#d8576b"
             ],
             [
              0.6666666666666666,
              "#ed7953"
             ],
             [
              0.7777777777777778,
              "#fb9f3a"
             ],
             [
              0.8888888888888888,
              "#fdca26"
             ],
             [
              1,
              "#f0f921"
             ]
            ],
            "type": "heatmap"
           }
          ],
          "heatmapgl": [
           {
            "colorbar": {
             "outlinewidth": 0,
             "ticks": ""
            },
            "colorscale": [
             [
              0,
              "#0d0887"
             ],
             [
              0.1111111111111111,
              "#46039f"
             ],
             [
              0.2222222222222222,
              "#7201a8"
             ],
             [
              0.3333333333333333,
              "#9c179e"
             ],
             [
              0.4444444444444444,
              "#bd3786"
             ],
             [
              0.5555555555555556,
              "#d8576b"
             ],
             [
              0.6666666666666666,
              "#ed7953"
             ],
             [
              0.7777777777777778,
              "#fb9f3a"
             ],
             [
              0.8888888888888888,
              "#fdca26"
             ],
             [
              1,
              "#f0f921"
             ]
            ],
            "type": "heatmapgl"
           }
          ],
          "histogram": [
           {
            "marker": {
             "pattern": {
              "fillmode": "overlay",
              "size": 10,
              "solidity": 0.2
             }
            },
            "type": "histogram"
           }
          ],
          "histogram2d": [
           {
            "colorbar": {
             "outlinewidth": 0,
             "ticks": ""
            },
            "colorscale": [
             [
              0,
              "#0d0887"
             ],
             [
              0.1111111111111111,
              "#46039f"
             ],
             [
              0.2222222222222222,
              "#7201a8"
             ],
             [
              0.3333333333333333,
              "#9c179e"
             ],
             [
              0.4444444444444444,
              "#bd3786"
             ],
             [
              0.5555555555555556,
              "#d8576b"
             ],
             [
              0.6666666666666666,
              "#ed7953"
             ],
             [
              0.7777777777777778,
              "#fb9f3a"
             ],
             [
              0.8888888888888888,
              "#fdca26"
             ],
             [
              1,
              "#f0f921"
             ]
            ],
            "type": "histogram2d"
           }
          ],
          "histogram2dcontour": [
           {
            "colorbar": {
             "outlinewidth": 0,
             "ticks": ""
            },
            "colorscale": [
             [
              0,
              "#0d0887"
             ],
             [
              0.1111111111111111,
              "#46039f"
             ],
             [
              0.2222222222222222,
              "#7201a8"
             ],
             [
              0.3333333333333333,
              "#9c179e"
             ],
             [
              0.4444444444444444,
              "#bd3786"
             ],
             [
              0.5555555555555556,
              "#d8576b"
             ],
             [
              0.6666666666666666,
              "#ed7953"
             ],
             [
              0.7777777777777778,
              "#fb9f3a"
             ],
             [
              0.8888888888888888,
              "#fdca26"
             ],
             [
              1,
              "#f0f921"
             ]
            ],
            "type": "histogram2dcontour"
           }
          ],
          "mesh3d": [
           {
            "colorbar": {
             "outlinewidth": 0,
             "ticks": ""
            },
            "type": "mesh3d"
           }
          ],
          "parcoords": [
           {
            "line": {
             "colorbar": {
              "outlinewidth": 0,
              "ticks": ""
             }
            },
            "type": "parcoords"
           }
          ],
          "pie": [
           {
            "automargin": true,
            "type": "pie"
           }
          ],
          "scatter": [
           {
            "fillpattern": {
             "fillmode": "overlay",
             "size": 10,
             "solidity": 0.2
            },
            "type": "scatter"
           }
          ],
          "scatter3d": [
           {
            "line": {
             "colorbar": {
              "outlinewidth": 0,
              "ticks": ""
             }
            },
            "marker": {
             "colorbar": {
              "outlinewidth": 0,
              "ticks": ""
             }
            },
            "type": "scatter3d"
           }
          ],
          "scattercarpet": [
           {
            "marker": {
             "colorbar": {
              "outlinewidth": 0,
              "ticks": ""
             }
            },
            "type": "scattercarpet"
           }
          ],
          "scattergeo": [
           {
            "marker": {
             "colorbar": {
              "outlinewidth": 0,
              "ticks": ""
             }
            },
            "type": "scattergeo"
           }
          ],
          "scattergl": [
           {
            "marker": {
             "colorbar": {
              "outlinewidth": 0,
              "ticks": ""
             }
            },
            "type": "scattergl"
           }
          ],
          "scattermapbox": [
           {
            "marker": {
             "colorbar": {
              "outlinewidth": 0,
              "ticks": ""
             }
            },
            "type": "scattermapbox"
           }
          ],
          "scatterpolar": [
           {
            "marker": {
             "colorbar": {
              "outlinewidth": 0,
              "ticks": ""
             }
            },
            "type": "scatterpolar"
           }
          ],
          "scatterpolargl": [
           {
            "marker": {
             "colorbar": {
              "outlinewidth": 0,
              "ticks": ""
             }
            },
            "type": "scatterpolargl"
           }
          ],
          "scatterternary": [
           {
            "marker": {
             "colorbar": {
              "outlinewidth": 0,
              "ticks": ""
             }
            },
            "type": "scatterternary"
           }
          ],
          "surface": [
           {
            "colorbar": {
             "outlinewidth": 0,
             "ticks": ""
            },
            "colorscale": [
             [
              0,
              "#0d0887"
             ],
             [
              0.1111111111111111,
              "#46039f"
             ],
             [
              0.2222222222222222,
              "#7201a8"
             ],
             [
              0.3333333333333333,
              "#9c179e"
             ],
             [
              0.4444444444444444,
              "#bd3786"
             ],
             [
              0.5555555555555556,
              "#d8576b"
             ],
             [
              0.6666666666666666,
              "#ed7953"
             ],
             [
              0.7777777777777778,
              "#fb9f3a"
             ],
             [
              0.8888888888888888,
              "#fdca26"
             ],
             [
              1,
              "#f0f921"
             ]
            ],
            "type": "surface"
           }
          ],
          "table": [
           {
            "cells": {
             "fill": {
              "color": "#EBF0F8"
             },
             "line": {
              "color": "white"
             }
            },
            "header": {
             "fill": {
              "color": "#C8D4E3"
             },
             "line": {
              "color": "white"
             }
            },
            "type": "table"
           }
          ]
         },
         "layout": {
          "annotationdefaults": {
           "arrowcolor": "#2a3f5f",
           "arrowhead": 0,
           "arrowwidth": 1
          },
          "autotypenumbers": "strict",
          "coloraxis": {
           "colorbar": {
            "outlinewidth": 0,
            "ticks": ""
           }
          },
          "colorscale": {
           "diverging": [
            [
             0,
             "#8e0152"
            ],
            [
             0.1,
             "#c51b7d"
            ],
            [
             0.2,
             "#de77ae"
            ],
            [
             0.3,
             "#f1b6da"
            ],
            [
             0.4,
             "#fde0ef"
            ],
            [
             0.5,
             "#f7f7f7"
            ],
            [
             0.6,
             "#e6f5d0"
            ],
            [
             0.7,
             "#b8e186"
            ],
            [
             0.8,
             "#7fbc41"
            ],
            [
             0.9,
             "#4d9221"
            ],
            [
             1,
             "#276419"
            ]
           ],
           "sequential": [
            [
             0,
             "#0d0887"
            ],
            [
             0.1111111111111111,
             "#46039f"
            ],
            [
             0.2222222222222222,
             "#7201a8"
            ],
            [
             0.3333333333333333,
             "#9c179e"
            ],
            [
             0.4444444444444444,
             "#bd3786"
            ],
            [
             0.5555555555555556,
             "#d8576b"
            ],
            [
             0.6666666666666666,
             "#ed7953"
            ],
            [
             0.7777777777777778,
             "#fb9f3a"
            ],
            [
             0.8888888888888888,
             "#fdca26"
            ],
            [
             1,
             "#f0f921"
            ]
           ],
           "sequentialminus": [
            [
             0,
             "#0d0887"
            ],
            [
             0.1111111111111111,
             "#46039f"
            ],
            [
             0.2222222222222222,
             "#7201a8"
            ],
            [
             0.3333333333333333,
             "#9c179e"
            ],
            [
             0.4444444444444444,
             "#bd3786"
            ],
            [
             0.5555555555555556,
             "#d8576b"
            ],
            [
             0.6666666666666666,
             "#ed7953"
            ],
            [
             0.7777777777777778,
             "#fb9f3a"
            ],
            [
             0.8888888888888888,
             "#fdca26"
            ],
            [
             1,
             "#f0f921"
            ]
           ]
          },
          "colorway": [
           "#636efa",
           "#EF553B",
           "#00cc96",
           "#ab63fa",
           "#FFA15A",
           "#19d3f3",
           "#FF6692",
           "#B6E880",
           "#FF97FF",
           "#FECB52"
          ],
          "font": {
           "color": "#2a3f5f"
          },
          "geo": {
           "bgcolor": "white",
           "lakecolor": "white",
           "landcolor": "#E5ECF6",
           "showlakes": true,
           "showland": true,
           "subunitcolor": "white"
          },
          "hoverlabel": {
           "align": "left"
          },
          "hovermode": "closest",
          "mapbox": {
           "style": "light"
          },
          "paper_bgcolor": "white",
          "plot_bgcolor": "#E5ECF6",
          "polar": {
           "angularaxis": {
            "gridcolor": "white",
            "linecolor": "white",
            "ticks": ""
           },
           "bgcolor": "#E5ECF6",
           "radialaxis": {
            "gridcolor": "white",
            "linecolor": "white",
            "ticks": ""
           }
          },
          "scene": {
           "xaxis": {
            "backgroundcolor": "#E5ECF6",
            "gridcolor": "white",
            "gridwidth": 2,
            "linecolor": "white",
            "showbackground": true,
            "ticks": "",
            "zerolinecolor": "white"
           },
           "yaxis": {
            "backgroundcolor": "#E5ECF6",
            "gridcolor": "white",
            "gridwidth": 2,
            "linecolor": "white",
            "showbackground": true,
            "ticks": "",
            "zerolinecolor": "white"
           },
           "zaxis": {
            "backgroundcolor": "#E5ECF6",
            "gridcolor": "white",
            "gridwidth": 2,
            "linecolor": "white",
            "showbackground": true,
            "ticks": "",
            "zerolinecolor": "white"
           }
          },
          "shapedefaults": {
           "line": {
            "color": "#2a3f5f"
           }
          },
          "ternary": {
           "aaxis": {
            "gridcolor": "white",
            "linecolor": "white",
            "ticks": ""
           },
           "baxis": {
            "gridcolor": "white",
            "linecolor": "white",
            "ticks": ""
           },
           "bgcolor": "#E5ECF6",
           "caxis": {
            "gridcolor": "white",
            "linecolor": "white",
            "ticks": ""
           }
          },
          "title": {
           "x": 0.05
          },
          "xaxis": {
           "automargin": true,
           "gridcolor": "white",
           "linecolor": "white",
           "ticks": "",
           "title": {
            "standoff": 15
           },
           "zerolinecolor": "white",
           "zerolinewidth": 2
          },
          "yaxis": {
           "automargin": true,
           "gridcolor": "white",
           "linecolor": "white",
           "ticks": "",
           "title": {
            "standoff": 15
           },
           "zerolinecolor": "white",
           "zerolinewidth": 2
          }
         }
        },
        "title": {
         "text": "Incremental TVL Performance Benchmark (Completed Programs) <br><sup>Cutoff at Program End Date + 30 days (Latest Date if not yet reached 30 days).</sup>"
        },
        "xaxis": {
         "anchor": "y",
         "domain": [
          0,
          1
         ],
         "title": {
          "text": "Incremental TVL"
         }
        },
        "yaxis": {
         "anchor": "x",
         "domain": [
          0,
          1
         ],
         "title": {
          "text": "Incremental TVL per OP"
         }
        }
       }
      }
     },
     "metadata": {},
     "output_type": "display_data"
    }
   ],
   "source": [
    "layout_settings = {\n",
    "    \"title\": \"Incremental TVL Performance Benchmark (Completed Programs) <br><sup>Cutoff at Program End Date + 30 days (Latest Date if not yet reached 30 days).</sup>\",\n",
    "    \"xaxis_title\": \"Incremental TVL\",\n",
    "    \"yaxis_title\": \"Incremental TVL per OP\",\n",
    "    \"legend_title\": \"Op Source\",\n",
    "}\n",
    "\n",
    "df = cleanup_data(\n",
    "    subset=[\n",
    "        \"op_deployed\",\n",
    "        \"net_tvl_per_op\",\n",
    "        \"cumul_last_price_net_dollar_flow\",\n",
    "        \"incremental_txs_per_day_after\",  # used for filtering completed programs only\n",
    "    ]\n",
    ")\n",
    "\n",
    "plot_benchmark(\n",
    "    df,\n",
    "    x=\"cumul_last_price_net_dollar_flow\",\n",
    "    y=\"net_tvl_per_op\",\n",
    "    size=\"op_deployed\",\n",
    "    layout_settings=layout_settings,\n",
    ")"
   ]
  },
  {
   "attachments": {},
   "cell_type": "markdown",
   "metadata": {},
   "source": [
    "### Fee Benchmark"
   ]
  },
  {
   "cell_type": "code",
   "execution_count": 22,
   "metadata": {},
   "outputs": [
    {
     "data": {
      "application/vnd.plotly.v1+json": {
       "config": {
        "plotlyServerURL": "https://plot.ly"
       },
       "data": [
        {
         "hovertemplate": "<b>%{hovertext}</b><br><br>op_source_map=Multiple<br>incremental_gas_fee_eth_per_day=%{x}<br>incremental_gas_fee_eth_annualized_per_op=%{y}<br>op_deployed=%{marker.size}<extra></extra>",
         "hovertext": [
          "Velodrome",
          "Thales",
          "PoolTogether"
         ],
         "legendgroup": "Multiple",
         "marker": {
          "color": "#636efa",
          "size": [
           6176064.866580186,
           1178295.4273490675,
           897039
          ],
          "sizemode": "area",
          "sizeref": 15440.162166450466,
          "symbol": "circle"
         },
         "mode": "markers",
         "name": "Multiple",
         "orientation": "v",
         "showlegend": true,
         "type": "scatter",
         "x": [
          22.845286456791364,
          0.8762450201696985,
          0.0966987782973911
         ],
         "xaxis": "x",
         "y": [
          0.0014,
          0.0003,
          0
         ],
         "yaxis": "y"
        },
        {
         "hovertemplate": "<b>%{hovertext}</b><br><br>op_source_map=['Phase 0']<br>incremental_gas_fee_eth_per_day=%{x}<br>incremental_gas_fee_eth_annualized_per_op=%{y}<br>op_deployed=%{marker.size}<extra></extra>",
         "hovertext": [
          "Perpetual Protocol",
          "Rubicon",
          "Layer2DAO",
          "Stargate Finance",
          "Lyra",
          "WePiggy",
          "Kwenta",
          "Celer",
          "Slingshot",
          "Synthetix",
          "Pika Protocol",
          "1inch",
          "Aelin",
          "Polynomial Protocol",
          "Hop Protocol",
          "Uniswap",
          "Clipper"
         ],
         "legendgroup": "['Phase 0']",
         "marker": {
          "color": "#EF553B",
          "size": [
           6074173.773350604,
           793865.5450721123,
           698677.8865775648,
           544725.73,
           1570078.7064676075,
           300009.7573070351,
           911571,
           220001,
           134336,
           5409432.496932238,
           718719,
           300000,
           900001.0000000003,
           366854.9851770957,
           174149.31035950783,
           799999.98,
           177934
          ],
          "sizemode": "area",
          "sizeref": 15440.162166450466,
          "symbol": "circle"
         },
         "mode": "markers",
         "name": "['Phase 0']",
         "orientation": "v",
         "showlegend": true,
         "type": "scatter",
         "x": [
          -10.764826529808149,
          4.150896417501127,
          0.1925473437146342,
          11.011811164074498,
          0.2767674222889059,
          0.0812804396133949,
          2.853663925675844,
          0.1370867957418367,
          0.2101607723244495,
          54.53664073159732,
          1.4197247552416363,
          2.740027249691982,
          0.0321392042255063,
          0.0612541862537051,
          10.256938014020776,
          6.163263563225586,
          -0.4710446722216808
         ],
         "xaxis": "x",
         "y": [
          -0.0006,
          0.0019,
          0.0001,
          0.0074,
          0.0001,
          0.0001,
          0.0011,
          0.0002,
          0.0006,
          0.0037,
          0.0007,
          0.0033,
          0,
          0.0001,
          0.0215,
          0.0028,
          -0.001
         ],
         "yaxis": "y"
        },
        {
         "hovertemplate": "<b>%{hovertext}</b><br><br>op_source_map=['Partner Fund']<br>incremental_gas_fee_eth_per_day=%{x}<br>incremental_gas_fee_eth_annualized_per_op=%{y}<br>op_deployed=%{marker.size}<extra></extra>",
         "hovertext": [
          "Aave",
          "Arrakis Finance",
          "Gamma",
          "Lido"
         ],
         "legendgroup": "['Partner Fund']",
         "marker": {
          "color": "#00cc96",
          "size": [
           4825866.311743143,
           41670.06,
           0,
           64875
          ],
          "sizemode": "area",
          "sizeref": 15440.162166450466,
          "symbol": "circle"
         },
         "mode": "markers",
         "name": "['Partner Fund']",
         "orientation": "v",
         "showlegend": true,
         "type": "scatter",
         "x": [
          4.467079898693569,
          -0.2367294318625277,
          0.9912831638228928,
          1.624271567104036
         ],
         "xaxis": "x",
         "y": [
          0.0003,
          -0.0021,
          null,
          0.0091
         ],
         "yaxis": "y"
        },
        {
         "hovertemplate": "<b>%{hovertext}</b><br><br>op_source_map=['Season 1']<br>incremental_gas_fee_eth_per_day=%{x}<br>incremental_gas_fee_eth_annualized_per_op=%{y}<br>op_deployed=%{marker.size}<extra></extra>",
         "hovertext": [
          "Pickle Finance",
          "Beefy Finance",
          "XToken",
          "Beethoven X",
          "Hundred Finance",
          "dForce",
          "QiDao"
         ],
         "legendgroup": "['Season 1']",
         "marker": {
          "color": "#ab63fa",
          "size": [
           82600,
           320961.6725694471,
           709841.3081865921,
           240375.09,
           161322.5,
           555713.7610960284,
           362027.56468310714
          ],
          "sizemode": "area",
          "sizeref": 15440.162166450466,
          "symbol": "circle"
         },
         "mode": "markers",
         "name": "['Season 1']",
         "orientation": "v",
         "showlegend": true,
         "type": "scatter",
         "x": [
          0.1418793032961025,
          1.6481094291379674,
          0.011083862259573,
          4.53321928829247,
          0.2524157516117015,
          0.2961680670097941,
          3.351106561709587
         ],
         "xaxis": "x",
         "y": [
          0.0006,
          0.0019,
          0,
          0.0069,
          0.0006,
          0.0002,
          0.0034
         ],
         "yaxis": "y"
        },
        {
         "hovertemplate": "<b>%{hovertext}</b><br><br>op_source_map=['Season 2']<br>incremental_gas_fee_eth_per_day=%{x}<br>incremental_gas_fee_eth_annualized_per_op=%{y}<br>op_deployed=%{marker.size}<extra></extra>",
         "hovertext": [
          "OptiChads",
          "Revert Finance",
          "dHedge",
          "Overnight",
          "Angle",
          "Sushi"
         ],
         "legendgroup": "['Season 2']",
         "marker": {
          "color": "#FFA15A",
          "size": [
           60655.93506991357,
           240838.05391830354,
           305704.65871088207,
           475012.6824092357,
           41791.51565169649,
           49999.99999999999
          ],
          "sizemode": "area",
          "sizeref": 15440.162166450466,
          "symbol": "circle"
         },
         "mode": "markers",
         "name": "['Season 2']",
         "orientation": "v",
         "showlegend": true,
         "type": "scatter",
         "x": [
          -0.0002625641347673,
          0.0559221927702137,
          0.7881433125874604,
          1.179860498998861,
          1.4065966012835922,
          -0.3732705546917145
         ],
         "xaxis": "x",
         "y": [
          0,
          0.0001,
          0.0009,
          0.0009,
          0.0123,
          -0.0027
         ],
         "yaxis": "y"
        },
        {
         "hovertemplate": "<b>%{hovertext}</b><br><br>op_source_map=['Season 3']<br>incremental_gas_fee_eth_per_day=%{x}<br>incremental_gas_fee_eth_annualized_per_op=%{y}<br>op_deployed=%{marker.size}<extra></extra>",
         "hovertext": [
          "Geo Web"
         ],
         "legendgroup": "['Season 3']",
         "marker": {
          "color": "#19d3f3",
          "size": [
           21001
          ],
          "sizemode": "area",
          "sizeref": 15440.162166450466,
          "symbol": "circle"
         },
         "mode": "markers",
         "name": "['Season 3']",
         "orientation": "v",
         "showlegend": true,
         "type": "scatter",
         "x": [
          0.0004982883003849
         ],
         "xaxis": "x",
         "y": [
          0
         ],
         "yaxis": "y"
        },
        {
         "mode": "lines",
         "name": "25th percentile",
         "type": "scatter",
         "x": [
          -10.764826529808149,
          54.53664073159732
         ],
         "y": [
          0.0001,
          0.0001
         ]
        },
        {
         "mode": "lines",
         "name": "50th percentile",
         "type": "scatter",
         "x": [
          -10.764826529808149,
          54.53664073159732
         ],
         "y": [
          0.0006,
          0.0006
         ]
        },
        {
         "mode": "lines",
         "name": "75th percentile",
         "type": "scatter",
         "x": [
          -10.764826529808149,
          54.53664073159732
         ],
         "y": [
          0.002575,
          0.002575
         ]
        }
       ],
       "layout": {
        "legend": {
         "itemsizing": "constant",
         "title": {
          "text": "Op Source"
         },
         "tracegroupgap": 0
        },
        "margin": {
         "t": 60
        },
        "template": {
         "data": {
          "bar": [
           {
            "error_x": {
             "color": "#2a3f5f"
            },
            "error_y": {
             "color": "#2a3f5f"
            },
            "marker": {
             "line": {
              "color": "#E5ECF6",
              "width": 0.5
             },
             "pattern": {
              "fillmode": "overlay",
              "size": 10,
              "solidity": 0.2
             }
            },
            "type": "bar"
           }
          ],
          "barpolar": [
           {
            "marker": {
             "line": {
              "color": "#E5ECF6",
              "width": 0.5
             },
             "pattern": {
              "fillmode": "overlay",
              "size": 10,
              "solidity": 0.2
             }
            },
            "type": "barpolar"
           }
          ],
          "carpet": [
           {
            "aaxis": {
             "endlinecolor": "#2a3f5f",
             "gridcolor": "white",
             "linecolor": "white",
             "minorgridcolor": "white",
             "startlinecolor": "#2a3f5f"
            },
            "baxis": {
             "endlinecolor": "#2a3f5f",
             "gridcolor": "white",
             "linecolor": "white",
             "minorgridcolor": "white",
             "startlinecolor": "#2a3f5f"
            },
            "type": "carpet"
           }
          ],
          "choropleth": [
           {
            "colorbar": {
             "outlinewidth": 0,
             "ticks": ""
            },
            "type": "choropleth"
           }
          ],
          "contour": [
           {
            "colorbar": {
             "outlinewidth": 0,
             "ticks": ""
            },
            "colorscale": [
             [
              0,
              "#0d0887"
             ],
             [
              0.1111111111111111,
              "#46039f"
             ],
             [
              0.2222222222222222,
              "#7201a8"
             ],
             [
              0.3333333333333333,
              "#9c179e"
             ],
             [
              0.4444444444444444,
              "#bd3786"
             ],
             [
              0.5555555555555556,
              "#d8576b"
             ],
             [
              0.6666666666666666,
              "#ed7953"
             ],
             [
              0.7777777777777778,
              "#fb9f3a"
             ],
             [
              0.8888888888888888,
              "#fdca26"
             ],
             [
              1,
              "#f0f921"
             ]
            ],
            "type": "contour"
           }
          ],
          "contourcarpet": [
           {
            "colorbar": {
             "outlinewidth": 0,
             "ticks": ""
            },
            "type": "contourcarpet"
           }
          ],
          "heatmap": [
           {
            "colorbar": {
             "outlinewidth": 0,
             "ticks": ""
            },
            "colorscale": [
             [
              0,
              "#0d0887"
             ],
             [
              0.1111111111111111,
              "#46039f"
             ],
             [
              0.2222222222222222,
              "#7201a8"
             ],
             [
              0.3333333333333333,
              "#9c179e"
             ],
             [
              0.4444444444444444,
              "#bd3786"
             ],
             [
              0.5555555555555556,
              "#d8576b"
             ],
             [
              0.6666666666666666,
              "#ed7953"
             ],
             [
              0.7777777777777778,
              "#fb9f3a"
             ],
             [
              0.8888888888888888,
              "#fdca26"
             ],
             [
              1,
              "#f0f921"
             ]
            ],
            "type": "heatmap"
           }
          ],
          "heatmapgl": [
           {
            "colorbar": {
             "outlinewidth": 0,
             "ticks": ""
            },
            "colorscale": [
             [
              0,
              "#0d0887"
             ],
             [
              0.1111111111111111,
              "#46039f"
             ],
             [
              0.2222222222222222,
              "#7201a8"
             ],
             [
              0.3333333333333333,
              "#9c179e"
             ],
             [
              0.4444444444444444,
              "#bd3786"
             ],
             [
              0.5555555555555556,
              "#d8576b"
             ],
             [
              0.6666666666666666,
              "#ed7953"
             ],
             [
              0.7777777777777778,
              "#fb9f3a"
             ],
             [
              0.8888888888888888,
              "#fdca26"
             ],
             [
              1,
              "#f0f921"
             ]
            ],
            "type": "heatmapgl"
           }
          ],
          "histogram": [
           {
            "marker": {
             "pattern": {
              "fillmode": "overlay",
              "size": 10,
              "solidity": 0.2
             }
            },
            "type": "histogram"
           }
          ],
          "histogram2d": [
           {
            "colorbar": {
             "outlinewidth": 0,
             "ticks": ""
            },
            "colorscale": [
             [
              0,
              "#0d0887"
             ],
             [
              0.1111111111111111,
              "#46039f"
             ],
             [
              0.2222222222222222,
              "#7201a8"
             ],
             [
              0.3333333333333333,
              "#9c179e"
             ],
             [
              0.4444444444444444,
              "#bd3786"
             ],
             [
              0.5555555555555556,
              "#d8576b"
             ],
             [
              0.6666666666666666,
              "#ed7953"
             ],
             [
              0.7777777777777778,
              "#fb9f3a"
             ],
             [
              0.8888888888888888,
              "#fdca26"
             ],
             [
              1,
              "#f0f921"
             ]
            ],
            "type": "histogram2d"
           }
          ],
          "histogram2dcontour": [
           {
            "colorbar": {
             "outlinewidth": 0,
             "ticks": ""
            },
            "colorscale": [
             [
              0,
              "#0d0887"
             ],
             [
              0.1111111111111111,
              "#46039f"
             ],
             [
              0.2222222222222222,
              "#7201a8"
             ],
             [
              0.3333333333333333,
              "#9c179e"
             ],
             [
              0.4444444444444444,
              "#bd3786"
             ],
             [
              0.5555555555555556,
              "#d8576b"
             ],
             [
              0.6666666666666666,
              "#ed7953"
             ],
             [
              0.7777777777777778,
              "#fb9f3a"
             ],
             [
              0.8888888888888888,
              "#fdca26"
             ],
             [
              1,
              "#f0f921"
             ]
            ],
            "type": "histogram2dcontour"
           }
          ],
          "mesh3d": [
           {
            "colorbar": {
             "outlinewidth": 0,
             "ticks": ""
            },
            "type": "mesh3d"
           }
          ],
          "parcoords": [
           {
            "line": {
             "colorbar": {
              "outlinewidth": 0,
              "ticks": ""
             }
            },
            "type": "parcoords"
           }
          ],
          "pie": [
           {
            "automargin": true,
            "type": "pie"
           }
          ],
          "scatter": [
           {
            "fillpattern": {
             "fillmode": "overlay",
             "size": 10,
             "solidity": 0.2
            },
            "type": "scatter"
           }
          ],
          "scatter3d": [
           {
            "line": {
             "colorbar": {
              "outlinewidth": 0,
              "ticks": ""
             }
            },
            "marker": {
             "colorbar": {
              "outlinewidth": 0,
              "ticks": ""
             }
            },
            "type": "scatter3d"
           }
          ],
          "scattercarpet": [
           {
            "marker": {
             "colorbar": {
              "outlinewidth": 0,
              "ticks": ""
             }
            },
            "type": "scattercarpet"
           }
          ],
          "scattergeo": [
           {
            "marker": {
             "colorbar": {
              "outlinewidth": 0,
              "ticks": ""
             }
            },
            "type": "scattergeo"
           }
          ],
          "scattergl": [
           {
            "marker": {
             "colorbar": {
              "outlinewidth": 0,
              "ticks": ""
             }
            },
            "type": "scattergl"
           }
          ],
          "scattermapbox": [
           {
            "marker": {
             "colorbar": {
              "outlinewidth": 0,
              "ticks": ""
             }
            },
            "type": "scattermapbox"
           }
          ],
          "scatterpolar": [
           {
            "marker": {
             "colorbar": {
              "outlinewidth": 0,
              "ticks": ""
             }
            },
            "type": "scatterpolar"
           }
          ],
          "scatterpolargl": [
           {
            "marker": {
             "colorbar": {
              "outlinewidth": 0,
              "ticks": ""
             }
            },
            "type": "scatterpolargl"
           }
          ],
          "scatterternary": [
           {
            "marker": {
             "colorbar": {
              "outlinewidth": 0,
              "ticks": ""
             }
            },
            "type": "scatterternary"
           }
          ],
          "surface": [
           {
            "colorbar": {
             "outlinewidth": 0,
             "ticks": ""
            },
            "colorscale": [
             [
              0,
              "#0d0887"
             ],
             [
              0.1111111111111111,
              "#46039f"
             ],
             [
              0.2222222222222222,
              "#7201a8"
             ],
             [
              0.3333333333333333,
              "#9c179e"
             ],
             [
              0.4444444444444444,
              "#bd3786"
             ],
             [
              0.5555555555555556,
              "#d8576b"
             ],
             [
              0.6666666666666666,
              "#ed7953"
             ],
             [
              0.7777777777777778,
              "#fb9f3a"
             ],
             [
              0.8888888888888888,
              "#fdca26"
             ],
             [
              1,
              "#f0f921"
             ]
            ],
            "type": "surface"
           }
          ],
          "table": [
           {
            "cells": {
             "fill": {
              "color": "#EBF0F8"
             },
             "line": {
              "color": "white"
             }
            },
            "header": {
             "fill": {
              "color": "#C8D4E3"
             },
             "line": {
              "color": "white"
             }
            },
            "type": "table"
           }
          ]
         },
         "layout": {
          "annotationdefaults": {
           "arrowcolor": "#2a3f5f",
           "arrowhead": 0,
           "arrowwidth": 1
          },
          "autotypenumbers": "strict",
          "coloraxis": {
           "colorbar": {
            "outlinewidth": 0,
            "ticks": ""
           }
          },
          "colorscale": {
           "diverging": [
            [
             0,
             "#8e0152"
            ],
            [
             0.1,
             "#c51b7d"
            ],
            [
             0.2,
             "#de77ae"
            ],
            [
             0.3,
             "#f1b6da"
            ],
            [
             0.4,
             "#fde0ef"
            ],
            [
             0.5,
             "#f7f7f7"
            ],
            [
             0.6,
             "#e6f5d0"
            ],
            [
             0.7,
             "#b8e186"
            ],
            [
             0.8,
             "#7fbc41"
            ],
            [
             0.9,
             "#4d9221"
            ],
            [
             1,
             "#276419"
            ]
           ],
           "sequential": [
            [
             0,
             "#0d0887"
            ],
            [
             0.1111111111111111,
             "#46039f"
            ],
            [
             0.2222222222222222,
             "#7201a8"
            ],
            [
             0.3333333333333333,
             "#9c179e"
            ],
            [
             0.4444444444444444,
             "#bd3786"
            ],
            [
             0.5555555555555556,
             "#d8576b"
            ],
            [
             0.6666666666666666,
             "#ed7953"
            ],
            [
             0.7777777777777778,
             "#fb9f3a"
            ],
            [
             0.8888888888888888,
             "#fdca26"
            ],
            [
             1,
             "#f0f921"
            ]
           ],
           "sequentialminus": [
            [
             0,
             "#0d0887"
            ],
            [
             0.1111111111111111,
             "#46039f"
            ],
            [
             0.2222222222222222,
             "#7201a8"
            ],
            [
             0.3333333333333333,
             "#9c179e"
            ],
            [
             0.4444444444444444,
             "#bd3786"
            ],
            [
             0.5555555555555556,
             "#d8576b"
            ],
            [
             0.6666666666666666,
             "#ed7953"
            ],
            [
             0.7777777777777778,
             "#fb9f3a"
            ],
            [
             0.8888888888888888,
             "#fdca26"
            ],
            [
             1,
             "#f0f921"
            ]
           ]
          },
          "colorway": [
           "#636efa",
           "#EF553B",
           "#00cc96",
           "#ab63fa",
           "#FFA15A",
           "#19d3f3",
           "#FF6692",
           "#B6E880",
           "#FF97FF",
           "#FECB52"
          ],
          "font": {
           "color": "#2a3f5f"
          },
          "geo": {
           "bgcolor": "white",
           "lakecolor": "white",
           "landcolor": "#E5ECF6",
           "showlakes": true,
           "showland": true,
           "subunitcolor": "white"
          },
          "hoverlabel": {
           "align": "left"
          },
          "hovermode": "closest",
          "mapbox": {
           "style": "light"
          },
          "paper_bgcolor": "white",
          "plot_bgcolor": "#E5ECF6",
          "polar": {
           "angularaxis": {
            "gridcolor": "white",
            "linecolor": "white",
            "ticks": ""
           },
           "bgcolor": "#E5ECF6",
           "radialaxis": {
            "gridcolor": "white",
            "linecolor": "white",
            "ticks": ""
           }
          },
          "scene": {
           "xaxis": {
            "backgroundcolor": "#E5ECF6",
            "gridcolor": "white",
            "gridwidth": 2,
            "linecolor": "white",
            "showbackground": true,
            "ticks": "",
            "zerolinecolor": "white"
           },
           "yaxis": {
            "backgroundcolor": "#E5ECF6",
            "gridcolor": "white",
            "gridwidth": 2,
            "linecolor": "white",
            "showbackground": true,
            "ticks": "",
            "zerolinecolor": "white"
           },
           "zaxis": {
            "backgroundcolor": "#E5ECF6",
            "gridcolor": "white",
            "gridwidth": 2,
            "linecolor": "white",
            "showbackground": true,
            "ticks": "",
            "zerolinecolor": "white"
           }
          },
          "shapedefaults": {
           "line": {
            "color": "#2a3f5f"
           }
          },
          "ternary": {
           "aaxis": {
            "gridcolor": "white",
            "linecolor": "white",
            "ticks": ""
           },
           "baxis": {
            "gridcolor": "white",
            "linecolor": "white",
            "ticks": ""
           },
           "bgcolor": "#E5ECF6",
           "caxis": {
            "gridcolor": "white",
            "linecolor": "white",
            "ticks": ""
           }
          },
          "title": {
           "x": 0.05
          },
          "xaxis": {
           "automargin": true,
           "gridcolor": "white",
           "linecolor": "white",
           "ticks": "",
           "title": {
            "standoff": 15
           },
           "zerolinecolor": "white",
           "zerolinewidth": 2
          },
          "yaxis": {
           "automargin": true,
           "gridcolor": "white",
           "linecolor": "white",
           "ticks": "",
           "title": {
            "standoff": 15
           },
           "zerolinecolor": "white",
           "zerolinewidth": 2
          }
         }
        },
        "title": {
         "text": "Incremental ETH Fee Performance Benchmark (All Programs) <br><sup>Cutoff at Program End Date (Latest Date if still Live).</sup>"
        },
        "xaxis": {
         "anchor": "y",
         "domain": [
          0,
          1
         ],
         "title": {
          "text": "Incremental ETH Fee per Day"
         }
        },
        "yaxis": {
         "anchor": "x",
         "domain": [
          0,
          1
         ],
         "title": {
          "text": "Annualized Incremental Fee per OP"
         }
        }
       }
      }
     },
     "metadata": {},
     "output_type": "display_data"
    }
   ],
   "source": [
    "layout_settings = {\n",
    "    \"title\": \"Incremental ETH Fee Performance Benchmark (All Programs) <br><sup>Cutoff at Program End Date (Latest Date if still Live).</sup>\",\n",
    "    \"xaxis_title\": \"Incremental ETH Fee per Day\",\n",
    "    \"yaxis_title\": \"Annualized Incremental Fee per OP\",\n",
    "    \"legend_title\": \"Op Source\",\n",
    "}\n",
    "\n",
    "df = cleanup_data(\n",
    "    subset=[\n",
    "        \"op_deployed\",\n",
    "        \"incremental_gas_fee_eth_per_day\",\n",
    "        \"incremental_gas_fee_eth_annualized_per_op\",\n",
    "    ]\n",
    ")\n",
    "\n",
    "plot_benchmark(\n",
    "    df,\n",
    "    x=\"incremental_gas_fee_eth_per_day\",\n",
    "    y=\"incremental_gas_fee_eth_annualized_per_op\",\n",
    "    size=\"op_deployed\",\n",
    "    layout_settings=layout_settings,\n",
    ")"
   ]
  },
  {
   "cell_type": "code",
   "execution_count": 23,
   "metadata": {},
   "outputs": [
    {
     "data": {
      "application/vnd.plotly.v1+json": {
       "config": {
        "plotlyServerURL": "https://plot.ly"
       },
       "data": [
        {
         "hovertemplate": "<b>%{hovertext}</b><br><br>op_source_map=['Phase 0']<br>incremental_gas_fee_eth_per_day_after=%{x}<br>incremental_gas_fee_eth_after_annualized_per_op=%{y}<br>op_deployed=%{marker.size}<extra></extra>",
         "hovertext": [
          "Rubicon",
          "WePiggy",
          "1inch",
          "Aelin"
         ],
         "legendgroup": "['Phase 0']",
         "marker": {
          "color": "#636efa",
          "size": [
           793865.5450721123,
           300009.7573070351,
           300000,
           900001.0000000003
          ],
          "sizemode": "area",
          "sizeref": 12064.665779357858,
          "symbol": "circle"
         },
         "mode": "markers",
         "name": "['Phase 0']",
         "orientation": "v",
         "showlegend": true,
         "type": "scatter",
         "x": [
          5.626888547728849,
          0.0880527586557105,
          -0.0345027449735548,
          -0.0397619052403087
         ],
         "xaxis": "x",
         "y": [
          0.0026,
          0.0001,
          0,
          0
         ],
         "yaxis": "y"
        },
        {
         "hovertemplate": "<b>%{hovertext}</b><br><br>op_source_map=['Partner Fund']<br>incremental_gas_fee_eth_per_day_after=%{x}<br>incremental_gas_fee_eth_after_annualized_per_op=%{y}<br>op_deployed=%{marker.size}<extra></extra>",
         "hovertext": [
          "Aave"
         ],
         "legendgroup": "['Partner Fund']",
         "marker": {
          "color": "#EF553B",
          "size": [
           4825866.311743143
          ],
          "sizemode": "area",
          "sizeref": 12064.665779357858,
          "symbol": "circle"
         },
         "mode": "markers",
         "name": "['Partner Fund']",
         "orientation": "v",
         "showlegend": true,
         "type": "scatter",
         "x": [
          8.054368228914878
         ],
         "xaxis": "x",
         "y": [
          0.0006
         ],
         "yaxis": "y"
        },
        {
         "hovertemplate": "<b>%{hovertext}</b><br><br>op_source_map=['Season 1']<br>incremental_gas_fee_eth_per_day_after=%{x}<br>incremental_gas_fee_eth_after_annualized_per_op=%{y}<br>op_deployed=%{marker.size}<extra></extra>",
         "hovertext": [
          "XToken"
         ],
         "legendgroup": "['Season 1']",
         "marker": {
          "color": "#00cc96",
          "size": [
           709841.3081865921
          ],
          "sizemode": "area",
          "sizeref": 12064.665779357858,
          "symbol": "circle"
         },
         "mode": "markers",
         "name": "['Season 1']",
         "orientation": "v",
         "showlegend": true,
         "type": "scatter",
         "x": [
          0.0015515786605477
         ],
         "xaxis": "x",
         "y": [
          0
         ],
         "yaxis": "y"
        },
        {
         "hovertemplate": "<b>%{hovertext}</b><br><br>op_source_map=['Season 2']<br>incremental_gas_fee_eth_per_day_after=%{x}<br>incremental_gas_fee_eth_after_annualized_per_op=%{y}<br>op_deployed=%{marker.size}<extra></extra>",
         "hovertext": [
          "Revert Finance"
         ],
         "legendgroup": "['Season 2']",
         "marker": {
          "color": "#ab63fa",
          "size": [
           240838.05391830354
          ],
          "sizemode": "area",
          "sizeref": 12064.665779357858,
          "symbol": "circle"
         },
         "mode": "markers",
         "name": "['Season 2']",
         "orientation": "v",
         "showlegend": true,
         "type": "scatter",
         "x": [
          0.0541601304297223
         ],
         "xaxis": "x",
         "y": [
          0.0001
         ],
         "yaxis": "y"
        },
        {
         "mode": "lines",
         "name": "25th percentile",
         "type": "scatter",
         "x": [
          -0.0397619052403087,
          8.054368228914878
         ],
         "y": [
          0,
          0
         ]
        },
        {
         "mode": "lines",
         "name": "50th percentile",
         "type": "scatter",
         "x": [
          -0.0397619052403087,
          8.054368228914878
         ],
         "y": [
          0.0001,
          0.0001
         ]
        },
        {
         "mode": "lines",
         "name": "75th percentile",
         "type": "scatter",
         "x": [
          -0.0397619052403087,
          8.054368228914878
         ],
         "y": [
          0.00035,
          0.00035
         ]
        }
       ],
       "layout": {
        "legend": {
         "itemsizing": "constant",
         "title": {
          "text": "Op Source"
         },
         "tracegroupgap": 0
        },
        "margin": {
         "t": 60
        },
        "template": {
         "data": {
          "bar": [
           {
            "error_x": {
             "color": "#2a3f5f"
            },
            "error_y": {
             "color": "#2a3f5f"
            },
            "marker": {
             "line": {
              "color": "#E5ECF6",
              "width": 0.5
             },
             "pattern": {
              "fillmode": "overlay",
              "size": 10,
              "solidity": 0.2
             }
            },
            "type": "bar"
           }
          ],
          "barpolar": [
           {
            "marker": {
             "line": {
              "color": "#E5ECF6",
              "width": 0.5
             },
             "pattern": {
              "fillmode": "overlay",
              "size": 10,
              "solidity": 0.2
             }
            },
            "type": "barpolar"
           }
          ],
          "carpet": [
           {
            "aaxis": {
             "endlinecolor": "#2a3f5f",
             "gridcolor": "white",
             "linecolor": "white",
             "minorgridcolor": "white",
             "startlinecolor": "#2a3f5f"
            },
            "baxis": {
             "endlinecolor": "#2a3f5f",
             "gridcolor": "white",
             "linecolor": "white",
             "minorgridcolor": "white",
             "startlinecolor": "#2a3f5f"
            },
            "type": "carpet"
           }
          ],
          "choropleth": [
           {
            "colorbar": {
             "outlinewidth": 0,
             "ticks": ""
            },
            "type": "choropleth"
           }
          ],
          "contour": [
           {
            "colorbar": {
             "outlinewidth": 0,
             "ticks": ""
            },
            "colorscale": [
             [
              0,
              "#0d0887"
             ],
             [
              0.1111111111111111,
              "#46039f"
             ],
             [
              0.2222222222222222,
              "#7201a8"
             ],
             [
              0.3333333333333333,
              "#9c179e"
             ],
             [
              0.4444444444444444,
              "#bd3786"
             ],
             [
              0.5555555555555556,
              "#d8576b"
             ],
             [
              0.6666666666666666,
              "#ed7953"
             ],
             [
              0.7777777777777778,
              "#fb9f3a"
             ],
             [
              0.8888888888888888,
              "#fdca26"
             ],
             [
              1,
              "#f0f921"
             ]
            ],
            "type": "contour"
           }
          ],
          "contourcarpet": [
           {
            "colorbar": {
             "outlinewidth": 0,
             "ticks": ""
            },
            "type": "contourcarpet"
           }
          ],
          "heatmap": [
           {
            "colorbar": {
             "outlinewidth": 0,
             "ticks": ""
            },
            "colorscale": [
             [
              0,
              "#0d0887"
             ],
             [
              0.1111111111111111,
              "#46039f"
             ],
             [
              0.2222222222222222,
              "#7201a8"
             ],
             [
              0.3333333333333333,
              "#9c179e"
             ],
             [
              0.4444444444444444,
              "#bd3786"
             ],
             [
              0.5555555555555556,
              "#d8576b"
             ],
             [
              0.6666666666666666,
              "#ed7953"
             ],
             [
              0.7777777777777778,
              "#fb9f3a"
             ],
             [
              0.8888888888888888,
              "#fdca26"
             ],
             [
              1,
              "#f0f921"
             ]
            ],
            "type": "heatmap"
           }
          ],
          "heatmapgl": [
           {
            "colorbar": {
             "outlinewidth": 0,
             "ticks": ""
            },
            "colorscale": [
             [
              0,
              "#0d0887"
             ],
             [
              0.1111111111111111,
              "#46039f"
             ],
             [
              0.2222222222222222,
              "#7201a8"
             ],
             [
              0.3333333333333333,
              "#9c179e"
             ],
             [
              0.4444444444444444,
              "#bd3786"
             ],
             [
              0.5555555555555556,
              "#d8576b"
             ],
             [
              0.6666666666666666,
              "#ed7953"
             ],
             [
              0.7777777777777778,
              "#fb9f3a"
             ],
             [
              0.8888888888888888,
              "#fdca26"
             ],
             [
              1,
              "#f0f921"
             ]
            ],
            "type": "heatmapgl"
           }
          ],
          "histogram": [
           {
            "marker": {
             "pattern": {
              "fillmode": "overlay",
              "size": 10,
              "solidity": 0.2
             }
            },
            "type": "histogram"
           }
          ],
          "histogram2d": [
           {
            "colorbar": {
             "outlinewidth": 0,
             "ticks": ""
            },
            "colorscale": [
             [
              0,
              "#0d0887"
             ],
             [
              0.1111111111111111,
              "#46039f"
             ],
             [
              0.2222222222222222,
              "#7201a8"
             ],
             [
              0.3333333333333333,
              "#9c179e"
             ],
             [
              0.4444444444444444,
              "#bd3786"
             ],
             [
              0.5555555555555556,
              "#d8576b"
             ],
             [
              0.6666666666666666,
              "#ed7953"
             ],
             [
              0.7777777777777778,
              "#fb9f3a"
             ],
             [
              0.8888888888888888,
              "#fdca26"
             ],
             [
              1,
              "#f0f921"
             ]
            ],
            "type": "histogram2d"
           }
          ],
          "histogram2dcontour": [
           {
            "colorbar": {
             "outlinewidth": 0,
             "ticks": ""
            },
            "colorscale": [
             [
              0,
              "#0d0887"
             ],
             [
              0.1111111111111111,
              "#46039f"
             ],
             [
              0.2222222222222222,
              "#7201a8"
             ],
             [
              0.3333333333333333,
              "#9c179e"
             ],
             [
              0.4444444444444444,
              "#bd3786"
             ],
             [
              0.5555555555555556,
              "#d8576b"
             ],
             [
              0.6666666666666666,
              "#ed7953"
             ],
             [
              0.7777777777777778,
              "#fb9f3a"
             ],
             [
              0.8888888888888888,
              "#fdca26"
             ],
             [
              1,
              "#f0f921"
             ]
            ],
            "type": "histogram2dcontour"
           }
          ],
          "mesh3d": [
           {
            "colorbar": {
             "outlinewidth": 0,
             "ticks": ""
            },
            "type": "mesh3d"
           }
          ],
          "parcoords": [
           {
            "line": {
             "colorbar": {
              "outlinewidth": 0,
              "ticks": ""
             }
            },
            "type": "parcoords"
           }
          ],
          "pie": [
           {
            "automargin": true,
            "type": "pie"
           }
          ],
          "scatter": [
           {
            "fillpattern": {
             "fillmode": "overlay",
             "size": 10,
             "solidity": 0.2
            },
            "type": "scatter"
           }
          ],
          "scatter3d": [
           {
            "line": {
             "colorbar": {
              "outlinewidth": 0,
              "ticks": ""
             }
            },
            "marker": {
             "colorbar": {
              "outlinewidth": 0,
              "ticks": ""
             }
            },
            "type": "scatter3d"
           }
          ],
          "scattercarpet": [
           {
            "marker": {
             "colorbar": {
              "outlinewidth": 0,
              "ticks": ""
             }
            },
            "type": "scattercarpet"
           }
          ],
          "scattergeo": [
           {
            "marker": {
             "colorbar": {
              "outlinewidth": 0,
              "ticks": ""
             }
            },
            "type": "scattergeo"
           }
          ],
          "scattergl": [
           {
            "marker": {
             "colorbar": {
              "outlinewidth": 0,
              "ticks": ""
             }
            },
            "type": "scattergl"
           }
          ],
          "scattermapbox": [
           {
            "marker": {
             "colorbar": {
              "outlinewidth": 0,
              "ticks": ""
             }
            },
            "type": "scattermapbox"
           }
          ],
          "scatterpolar": [
           {
            "marker": {
             "colorbar": {
              "outlinewidth": 0,
              "ticks": ""
             }
            },
            "type": "scatterpolar"
           }
          ],
          "scatterpolargl": [
           {
            "marker": {
             "colorbar": {
              "outlinewidth": 0,
              "ticks": ""
             }
            },
            "type": "scatterpolargl"
           }
          ],
          "scatterternary": [
           {
            "marker": {
             "colorbar": {
              "outlinewidth": 0,
              "ticks": ""
             }
            },
            "type": "scatterternary"
           }
          ],
          "surface": [
           {
            "colorbar": {
             "outlinewidth": 0,
             "ticks": ""
            },
            "colorscale": [
             [
              0,
              "#0d0887"
             ],
             [
              0.1111111111111111,
              "#46039f"
             ],
             [
              0.2222222222222222,
              "#7201a8"
             ],
             [
              0.3333333333333333,
              "#9c179e"
             ],
             [
              0.4444444444444444,
              "#bd3786"
             ],
             [
              0.5555555555555556,
              "#d8576b"
             ],
             [
              0.6666666666666666,
              "#ed7953"
             ],
             [
              0.7777777777777778,
              "#fb9f3a"
             ],
             [
              0.8888888888888888,
              "#fdca26"
             ],
             [
              1,
              "#f0f921"
             ]
            ],
            "type": "surface"
           }
          ],
          "table": [
           {
            "cells": {
             "fill": {
              "color": "#EBF0F8"
             },
             "line": {
              "color": "white"
             }
            },
            "header": {
             "fill": {
              "color": "#C8D4E3"
             },
             "line": {
              "color": "white"
             }
            },
            "type": "table"
           }
          ]
         },
         "layout": {
          "annotationdefaults": {
           "arrowcolor": "#2a3f5f",
           "arrowhead": 0,
           "arrowwidth": 1
          },
          "autotypenumbers": "strict",
          "coloraxis": {
           "colorbar": {
            "outlinewidth": 0,
            "ticks": ""
           }
          },
          "colorscale": {
           "diverging": [
            [
             0,
             "#8e0152"
            ],
            [
             0.1,
             "#c51b7d"
            ],
            [
             0.2,
             "#de77ae"
            ],
            [
             0.3,
             "#f1b6da"
            ],
            [
             0.4,
             "#fde0ef"
            ],
            [
             0.5,
             "#f7f7f7"
            ],
            [
             0.6,
             "#e6f5d0"
            ],
            [
             0.7,
             "#b8e186"
            ],
            [
             0.8,
             "#7fbc41"
            ],
            [
             0.9,
             "#4d9221"
            ],
            [
             1,
             "#276419"
            ]
           ],
           "sequential": [
            [
             0,
             "#0d0887"
            ],
            [
             0.1111111111111111,
             "#46039f"
            ],
            [
             0.2222222222222222,
             "#7201a8"
            ],
            [
             0.3333333333333333,
             "#9c179e"
            ],
            [
             0.4444444444444444,
             "#bd3786"
            ],
            [
             0.5555555555555556,
             "#d8576b"
            ],
            [
             0.6666666666666666,
             "#ed7953"
            ],
            [
             0.7777777777777778,
             "#fb9f3a"
            ],
            [
             0.8888888888888888,
             "#fdca26"
            ],
            [
             1,
             "#f0f921"
            ]
           ],
           "sequentialminus": [
            [
             0,
             "#0d0887"
            ],
            [
             0.1111111111111111,
             "#46039f"
            ],
            [
             0.2222222222222222,
             "#7201a8"
            ],
            [
             0.3333333333333333,
             "#9c179e"
            ],
            [
             0.4444444444444444,
             "#bd3786"
            ],
            [
             0.5555555555555556,
             "#d8576b"
            ],
            [
             0.6666666666666666,
             "#ed7953"
            ],
            [
             0.7777777777777778,
             "#fb9f3a"
            ],
            [
             0.8888888888888888,
             "#fdca26"
            ],
            [
             1,
             "#f0f921"
            ]
           ]
          },
          "colorway": [
           "#636efa",
           "#EF553B",
           "#00cc96",
           "#ab63fa",
           "#FFA15A",
           "#19d3f3",
           "#FF6692",
           "#B6E880",
           "#FF97FF",
           "#FECB52"
          ],
          "font": {
           "color": "#2a3f5f"
          },
          "geo": {
           "bgcolor": "white",
           "lakecolor": "white",
           "landcolor": "#E5ECF6",
           "showlakes": true,
           "showland": true,
           "subunitcolor": "white"
          },
          "hoverlabel": {
           "align": "left"
          },
          "hovermode": "closest",
          "mapbox": {
           "style": "light"
          },
          "paper_bgcolor": "white",
          "plot_bgcolor": "#E5ECF6",
          "polar": {
           "angularaxis": {
            "gridcolor": "white",
            "linecolor": "white",
            "ticks": ""
           },
           "bgcolor": "#E5ECF6",
           "radialaxis": {
            "gridcolor": "white",
            "linecolor": "white",
            "ticks": ""
           }
          },
          "scene": {
           "xaxis": {
            "backgroundcolor": "#E5ECF6",
            "gridcolor": "white",
            "gridwidth": 2,
            "linecolor": "white",
            "showbackground": true,
            "ticks": "",
            "zerolinecolor": "white"
           },
           "yaxis": {
            "backgroundcolor": "#E5ECF6",
            "gridcolor": "white",
            "gridwidth": 2,
            "linecolor": "white",
            "showbackground": true,
            "ticks": "",
            "zerolinecolor": "white"
           },
           "zaxis": {
            "backgroundcolor": "#E5ECF6",
            "gridcolor": "white",
            "gridwidth": 2,
            "linecolor": "white",
            "showbackground": true,
            "ticks": "",
            "zerolinecolor": "white"
           }
          },
          "shapedefaults": {
           "line": {
            "color": "#2a3f5f"
           }
          },
          "ternary": {
           "aaxis": {
            "gridcolor": "white",
            "linecolor": "white",
            "ticks": ""
           },
           "baxis": {
            "gridcolor": "white",
            "linecolor": "white",
            "ticks": ""
           },
           "bgcolor": "#E5ECF6",
           "caxis": {
            "gridcolor": "white",
            "linecolor": "white",
            "ticks": ""
           }
          },
          "title": {
           "x": 0.05
          },
          "xaxis": {
           "automargin": true,
           "gridcolor": "white",
           "linecolor": "white",
           "ticks": "",
           "title": {
            "standoff": 15
           },
           "zerolinecolor": "white",
           "zerolinewidth": 2
          },
          "yaxis": {
           "automargin": true,
           "gridcolor": "white",
           "linecolor": "white",
           "ticks": "",
           "title": {
            "standoff": 15
           },
           "zerolinecolor": "white",
           "zerolinewidth": 2
          }
         }
        },
        "title": {
         "text": "Incremental ETH Fee Performance Benchmark (Completed Programs) <br><sup>Cutoff at Program End Date + 30 days (Latest Date if not yet reached 30 days).</sup>"
        },
        "xaxis": {
         "anchor": "y",
         "domain": [
          0,
          1
         ],
         "title": {
          "text": "Incremental ETH Fee per Day"
         }
        },
        "yaxis": {
         "anchor": "x",
         "domain": [
          0,
          1
         ],
         "title": {
          "text": "Annualized Incremental Fee per OP"
         }
        }
       }
      }
     },
     "metadata": {},
     "output_type": "display_data"
    }
   ],
   "source": [
    "layout_settings = {\n",
    "    \"title\": \"Incremental ETH Fee Performance Benchmark (Completed Programs) <br><sup>Cutoff at Program End Date + 30 days (Latest Date if not yet reached 30 days).</sup>\",\n",
    "    \"xaxis_title\": \"Incremental ETH Fee per Day\",\n",
    "    \"yaxis_title\": \"Annualized Incremental Fee per OP\",\n",
    "    \"legend_title\": \"Op Source\",\n",
    "}\n",
    "\n",
    "df = cleanup_data(\n",
    "    subset=[\n",
    "        \"op_deployed\",\n",
    "        \"incremental_gas_fee_eth_per_day_after\",\n",
    "        \"incremental_gas_fee_eth_after_annualized_per_op\",\n",
    "    ]\n",
    ")\n",
    "\n",
    "plot_benchmark(\n",
    "    df,\n",
    "    x=\"incremental_gas_fee_eth_per_day_after\",\n",
    "    y=\"incremental_gas_fee_eth_after_annualized_per_op\",\n",
    "    size=\"op_deployed\",\n",
    "    layout_settings=layout_settings,\n",
    ")"
   ]
  }
 ],
 "metadata": {
  "kernelspec": {
   "display_name": "Python 3",
   "language": "python",
   "name": "python3"
  },
  "language_info": {
   "codemirror_mode": {
    "name": "ipython",
    "version": 3
   },
   "file_extension": ".py",
   "mimetype": "text/x-python",
   "name": "python",
   "nbconvert_exporter": "python",
   "pygments_lexer": "ipython3",
   "version": "3.10.4"
  },
  "orig_nbformat": 4
 },
 "nbformat": 4,
 "nbformat_minor": 2
}
