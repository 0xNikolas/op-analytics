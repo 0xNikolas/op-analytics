{
 "cells": [
  {
   "cell_type": "code",
   "execution_count": 1,
   "metadata": {},
   "outputs": [],
   "source": [
    "import pandas as pd\n",
    "import numpy as np\n",
    "import os\n",
    "\n",
    "from functools import reduce\n",
    "from pandas.api.types import CategoricalDtype\n",
    "from datetime import datetime, timedelta\n",
    "from utils import format_number\n",
    "from IPython.display import display  # So that display is recognized in .py files\n",
    "\n",
    "from config import LAST_N_DAYS, COL_NAMES_TO_INCLUDE\n",
    "\n",
    "import plotly.express as px\n",
    "import plotly.graph_objects as go\n",
    "\n",
    "pd.options.display.float_format = \"{:,.2f}\".format\n",
    "pd.set_option(\"display.max_columns\", None)"
   ]
  },
  {
   "cell_type": "code",
   "execution_count": 2,
   "metadata": {},
   "outputs": [],
   "source": [
    "pwd = os.getcwd()\n",
    "# Verify that our path is right\n",
    "if \"op_rewards_tracking\" in pwd:\n",
    "    prepend = \"\"\n",
    "else:\n",
    "    prepend = \"op_rewards_tracking/\""
   ]
  },
  {
   "cell_type": "code",
   "execution_count": 3,
   "metadata": {},
   "outputs": [],
   "source": [
    "def extract_source(source_string):\n",
    "    source_list = source_string.split(\"-\")\n",
    "    if len(source_list) > 1:\n",
    "        return source_list[\n",
    "            1\n",
    "        ].strip()  # strip() is used to remove any leading/trailing spaces\n",
    "    else:\n",
    "        return source_string.strip()\n",
    "\n",
    "\n",
    "def cleanup_string(source_string):\n",
    "    return source_string.replace(\" \", \"\").lower()\n",
    "\n",
    "\n",
    "def remove_brackets(x):\n",
    "    if isinstance(x, str):\n",
    "        return x.replace(\"['\", \"\").replace(\"']\", \"\")\n",
    "    else:\n",
    "        return x\n",
    "\n",
    "\n",
    "def merge_dfs(key=\"app_name_join\", cols=COL_NAMES_TO_INCLUDE, **dfs):\n",
    "    df_combined = reduce(\n",
    "        lambda left, right: pd.merge(left, right, on=key, how=\"left\"), dfs.values()\n",
    "    )\n",
    "    return df_combined[cols]\n",
    "\n",
    "\n",
    "def calculate_metrics(df, op=\"op_deployed\"):\n",
    "    inc_cols = df.filter(like=\"incremental_\").columns\n",
    "    inc_cols = [col for col in inc_cols if \"per_op\" not in col]\n",
    "    # df = df.assign(**{f'incremental_{col.split(\"_\")[1]}_annualized_per_op': df[col] * 365 / df[\"net_op_deployed\"] for col in inc_cols})\n",
    "    df = df.assign(\n",
    "        **{\n",
    "            f'{col.replace(\"_per_day\", \"\")}_annualized_per_op': df[col] * 365 / df[op]\n",
    "            for col in inc_cols\n",
    "        }\n",
    "    )\n",
    "    df[\"net_tvl_per_op\"] = df[\"cumul_last_price_net_dollar_flow\"] / df[op]\n",
    "    df[\"net_tvl_per_op_during\"] = (\n",
    "        df[\"cumul_last_price_net_dollar_flow_at_program_end\"] / df[op]\n",
    "    )\n",
    "\n",
    "    return df"
   ]
  },
  {
   "attachments": {},
   "cell_type": "markdown",
   "metadata": {},
   "source": [
    "# Incentive Program Summary\n",
    "Status of programs live, completed and to be announced by season."
   ]
  },
  {
   "cell_type": "code",
   "execution_count": 4,
   "metadata": {},
   "outputs": [],
   "source": [
    "# df_info = pd.read_csv(\"inputs/\" + \"op_incentive_program_info\" + \".csv\")\n",
    "df_info = pd.read_csv(\"csv_outputs/\" + \"notion_automation_test\" + \".csv\")\n",
    "\n",
    "\n",
    "# convert to datetime\n",
    "df_info[\"start_date\"] = pd.to_datetime(\n",
    "    df_info[\"Announced On\"].fillna(df_info[\"Start Date\"])\n",
    ")\n",
    "df_info[\"end_date\"] = pd.to_datetime(df_info[\"End Date\"])\n",
    "\n",
    "# convert program status into ordered categorical type\n",
    "cat_size_order = CategoricalDtype(\n",
    "    [\"Live ‎🔥\", \"Coming soon ‎⏳\", \"Completed\"], ordered=True\n",
    ")\n",
    "df_info[\"Status\"] = df_info[\"Status\"].astype(cat_size_order)\n",
    "\n",
    "# create app_name_join, coalesce with app name override map, app name and remove any space\n",
    "df_info[\"app_name_join\"] = df_info[\"App Name Map Override\"].fillna(df_info[\"App Name\"])\n",
    "df_info[\"app_name_join\"] = df_info[\"app_name_join\"].apply(cleanup_string)"
   ]
  },
  {
   "cell_type": "code",
   "execution_count": 5,
   "metadata": {},
   "outputs": [
    {
     "name": "stdout",
     "output_type": "stream",
     "text": [
      "GovFund\n"
     ]
    },
    {
     "data": {
      "text/html": [
       "<div>\n",
       "<style scoped>\n",
       "    .dataframe tbody tr th:only-of-type {\n",
       "        vertical-align: middle;\n",
       "    }\n",
       "\n",
       "    .dataframe tbody tr th {\n",
       "        vertical-align: top;\n",
       "    }\n",
       "\n",
       "    .dataframe thead th {\n",
       "        text-align: right;\n",
       "    }\n",
       "</style>\n",
       "<table border=\"1\" class=\"dataframe\">\n",
       "  <thead>\n",
       "    <tr style=\"text-align: right;\">\n",
       "      <th></th>\n",
       "      <th></th>\n",
       "      <th># Programs</th>\n",
       "      <th># OP Allocated (M)</th>\n",
       "      <th>% OP Allocated</th>\n",
       "    </tr>\n",
       "    <tr>\n",
       "      <th>Status</th>\n",
       "      <th>Source</th>\n",
       "      <th></th>\n",
       "      <th></th>\n",
       "      <th></th>\n",
       "    </tr>\n",
       "  </thead>\n",
       "  <tbody>\n",
       "    <tr>\n",
       "      <th rowspan=\"5\" valign=\"top\">Live ‎🔥</th>\n",
       "      <th>Subtotal - GovFund Only</th>\n",
       "      <td>39</td>\n",
       "      <td>41.5M</td>\n",
       "      <td>69%</td>\n",
       "    </tr>\n",
       "    <tr>\n",
       "      <th>Governance - Season 3</th>\n",
       "      <td>3</td>\n",
       "      <td>308.5K</td>\n",
       "      <td>-</td>\n",
       "    </tr>\n",
       "    <tr>\n",
       "      <th>Governance - Season 2</th>\n",
       "      <td>12</td>\n",
       "      <td>7.7M</td>\n",
       "      <td>-</td>\n",
       "    </tr>\n",
       "    <tr>\n",
       "      <th>Governance - Season 1</th>\n",
       "      <td>10</td>\n",
       "      <td>4.0M</td>\n",
       "      <td>-</td>\n",
       "    </tr>\n",
       "    <tr>\n",
       "      <th>Governance - Phase 0</th>\n",
       "      <td>14</td>\n",
       "      <td>29.5M</td>\n",
       "      <td>-</td>\n",
       "    </tr>\n",
       "    <tr>\n",
       "      <th rowspan=\"5\" valign=\"top\">Coming soon ‎⏳</th>\n",
       "      <th>Subtotal - GovFund Only</th>\n",
       "      <td>73</td>\n",
       "      <td>14.7M</td>\n",
       "      <td>24%</td>\n",
       "    </tr>\n",
       "    <tr>\n",
       "      <th>Governance - Season 3</th>\n",
       "      <td>44</td>\n",
       "      <td>4.2M</td>\n",
       "      <td>-</td>\n",
       "    </tr>\n",
       "    <tr>\n",
       "      <th>Governance - Season 2</th>\n",
       "      <td>17</td>\n",
       "      <td>4.7M</td>\n",
       "      <td>-</td>\n",
       "    </tr>\n",
       "    <tr>\n",
       "      <th>Governance - Season 1</th>\n",
       "      <td>5</td>\n",
       "      <td>1.7M</td>\n",
       "      <td>-</td>\n",
       "    </tr>\n",
       "    <tr>\n",
       "      <th>Governance - Phase 0</th>\n",
       "      <td>7</td>\n",
       "      <td>4.1M</td>\n",
       "      <td>-</td>\n",
       "    </tr>\n",
       "    <tr>\n",
       "      <th rowspan=\"5\" valign=\"top\">Completed</th>\n",
       "      <th>Subtotal - GovFund Only</th>\n",
       "      <td>7</td>\n",
       "      <td>4.1M</td>\n",
       "      <td>7%</td>\n",
       "    </tr>\n",
       "    <tr>\n",
       "      <th>Governance - Season 3</th>\n",
       "      <td>-</td>\n",
       "      <td>-</td>\n",
       "      <td>-</td>\n",
       "    </tr>\n",
       "    <tr>\n",
       "      <th>Governance - Season 2</th>\n",
       "      <td>2</td>\n",
       "      <td>790.0K</td>\n",
       "      <td>-</td>\n",
       "    </tr>\n",
       "    <tr>\n",
       "      <th>Governance - Season 1</th>\n",
       "      <td>1</td>\n",
       "      <td>900.0K</td>\n",
       "      <td>-</td>\n",
       "    </tr>\n",
       "    <tr>\n",
       "      <th>Governance - Phase 0</th>\n",
       "      <td>4</td>\n",
       "      <td>2.4M</td>\n",
       "      <td>-</td>\n",
       "    </tr>\n",
       "    <tr>\n",
       "      <th>Grand Total</th>\n",
       "      <th></th>\n",
       "      <td>119</td>\n",
       "      <td>60.2M</td>\n",
       "      <td>-</td>\n",
       "    </tr>\n",
       "  </tbody>\n",
       "</table>\n",
       "</div>"
      ],
      "text/plain": [
       "                                       # Programs # OP Allocated (M)  \\\n",
       "Status         Source                                                  \n",
       "Live ‎🔥        Subtotal - GovFund Only         39              41.5M   \n",
       "               Governance - Season 3            3             308.5K   \n",
       "               Governance - Season 2           12               7.7M   \n",
       "               Governance - Season 1           10               4.0M   \n",
       "               Governance - Phase 0            14              29.5M   \n",
       "Coming soon ‎⏳ Subtotal - GovFund Only         73              14.7M   \n",
       "               Governance - Season 3           44               4.2M   \n",
       "               Governance - Season 2           17               4.7M   \n",
       "               Governance - Season 1            5               1.7M   \n",
       "               Governance - Phase 0             7               4.1M   \n",
       "Completed      Subtotal - GovFund Only          7               4.1M   \n",
       "               Governance - Season 3            -                  -   \n",
       "               Governance - Season 2            2             790.0K   \n",
       "               Governance - Season 1            1             900.0K   \n",
       "               Governance - Phase 0             4               2.4M   \n",
       "Grand Total                                   119              60.2M   \n",
       "\n",
       "                                       % OP Allocated  \n",
       "Status         Source                                  \n",
       "Live ‎🔥        Subtotal - GovFund Only            69%  \n",
       "               Governance - Season 3                -  \n",
       "               Governance - Season 2                -  \n",
       "               Governance - Season 1                -  \n",
       "               Governance - Phase 0                 -  \n",
       "Coming soon ‎⏳ Subtotal - GovFund Only            24%  \n",
       "               Governance - Season 3                -  \n",
       "               Governance - Season 2                -  \n",
       "               Governance - Season 1                -  \n",
       "               Governance - Phase 0                 -  \n",
       "Completed      Subtotal - GovFund Only             7%  \n",
       "               Governance - Season 3                -  \n",
       "               Governance - Season 2                -  \n",
       "               Governance - Season 1                -  \n",
       "               Governance - Phase 0                 -  \n",
       "Grand Total                                         -  "
      ]
     },
     "metadata": {},
     "output_type": "display_data"
    },
    {
     "name": "stdout",
     "output_type": "stream",
     "text": [
      "\n",
      "GovFund Growth Experiments\n"
     ]
    },
    {
     "data": {
      "text/html": [
       "<div>\n",
       "<style scoped>\n",
       "    .dataframe tbody tr th:only-of-type {\n",
       "        vertical-align: middle;\n",
       "    }\n",
       "\n",
       "    .dataframe tbody tr th {\n",
       "        vertical-align: top;\n",
       "    }\n",
       "\n",
       "    .dataframe thead th {\n",
       "        text-align: right;\n",
       "    }\n",
       "</style>\n",
       "<table border=\"1\" class=\"dataframe\">\n",
       "  <thead>\n",
       "    <tr style=\"text-align: right;\">\n",
       "      <th></th>\n",
       "      <th></th>\n",
       "      <th># Programs</th>\n",
       "      <th># OP Allocated (M)</th>\n",
       "      <th>% OP Allocated</th>\n",
       "    </tr>\n",
       "    <tr>\n",
       "      <th>Status</th>\n",
       "      <th>Source</th>\n",
       "      <th></th>\n",
       "      <th></th>\n",
       "      <th></th>\n",
       "    </tr>\n",
       "  </thead>\n",
       "  <tbody>\n",
       "    <tr>\n",
       "      <th rowspan=\"5\" valign=\"top\">Live ‎🔥</th>\n",
       "      <th>Subtotal - GovFund Growth Exp.</th>\n",
       "      <td>36</td>\n",
       "      <td>41.3M</td>\n",
       "      <td>75%</td>\n",
       "    </tr>\n",
       "    <tr>\n",
       "      <th>Governance - Season 3</th>\n",
       "      <td>2</td>\n",
       "      <td>268.5K</td>\n",
       "      <td>-</td>\n",
       "    </tr>\n",
       "    <tr>\n",
       "      <th>Governance - Season 2</th>\n",
       "      <td>10</td>\n",
       "      <td>7.5M</td>\n",
       "      <td>-</td>\n",
       "    </tr>\n",
       "    <tr>\n",
       "      <th>Governance - Season 1</th>\n",
       "      <td>10</td>\n",
       "      <td>4.0M</td>\n",
       "      <td>-</td>\n",
       "    </tr>\n",
       "    <tr>\n",
       "      <th>Governance - Phase 0</th>\n",
       "      <td>14</td>\n",
       "      <td>29.5M</td>\n",
       "      <td>-</td>\n",
       "    </tr>\n",
       "    <tr>\n",
       "      <th rowspan=\"5\" valign=\"top\">Coming soon ‎⏳</th>\n",
       "      <th>Subtotal - GovFund Growth Exp.</th>\n",
       "      <td>29</td>\n",
       "      <td>9.5M</td>\n",
       "      <td>17%</td>\n",
       "    </tr>\n",
       "    <tr>\n",
       "      <th>Governance - Season 3</th>\n",
       "      <td>12</td>\n",
       "      <td>2.1M</td>\n",
       "      <td>-</td>\n",
       "    </tr>\n",
       "    <tr>\n",
       "      <th>Governance - Season 2</th>\n",
       "      <td>12</td>\n",
       "      <td>4.2M</td>\n",
       "      <td>-</td>\n",
       "    </tr>\n",
       "    <tr>\n",
       "      <th>Governance - Season 1</th>\n",
       "      <td>2</td>\n",
       "      <td>900.0K</td>\n",
       "      <td>-</td>\n",
       "    </tr>\n",
       "    <tr>\n",
       "      <th>Governance - Phase 0</th>\n",
       "      <td>3</td>\n",
       "      <td>2.2M</td>\n",
       "      <td>-</td>\n",
       "    </tr>\n",
       "    <tr>\n",
       "      <th rowspan=\"5\" valign=\"top\">Completed</th>\n",
       "      <th>Subtotal - GovFund Growth Exp.</th>\n",
       "      <td>7</td>\n",
       "      <td>4.1M</td>\n",
       "      <td>7%</td>\n",
       "    </tr>\n",
       "    <tr>\n",
       "      <th>Governance - Season 3</th>\n",
       "      <td>-</td>\n",
       "      <td>-</td>\n",
       "      <td>-</td>\n",
       "    </tr>\n",
       "    <tr>\n",
       "      <th>Governance - Season 2</th>\n",
       "      <td>2</td>\n",
       "      <td>790.0K</td>\n",
       "      <td>-</td>\n",
       "    </tr>\n",
       "    <tr>\n",
       "      <th>Governance - Season 1</th>\n",
       "      <td>1</td>\n",
       "      <td>900.0K</td>\n",
       "      <td>-</td>\n",
       "    </tr>\n",
       "    <tr>\n",
       "      <th>Governance - Phase 0</th>\n",
       "      <td>4</td>\n",
       "      <td>2.4M</td>\n",
       "      <td>-</td>\n",
       "    </tr>\n",
       "    <tr>\n",
       "      <th>Grand Total</th>\n",
       "      <th></th>\n",
       "      <td>72</td>\n",
       "      <td>54.9M</td>\n",
       "      <td>-</td>\n",
       "    </tr>\n",
       "  </tbody>\n",
       "</table>\n",
       "</div>"
      ],
      "text/plain": [
       "                                              # Programs # OP Allocated (M)  \\\n",
       "Status         Source                                                         \n",
       "Live ‎🔥        Subtotal - GovFund Growth Exp.         36              41.3M   \n",
       "               Governance - Season 3                   2             268.5K   \n",
       "               Governance - Season 2                  10               7.5M   \n",
       "               Governance - Season 1                  10               4.0M   \n",
       "               Governance - Phase 0                   14              29.5M   \n",
       "Coming soon ‎⏳ Subtotal - GovFund Growth Exp.         29               9.5M   \n",
       "               Governance - Season 3                  12               2.1M   \n",
       "               Governance - Season 2                  12               4.2M   \n",
       "               Governance - Season 1                   2             900.0K   \n",
       "               Governance - Phase 0                    3               2.2M   \n",
       "Completed      Subtotal - GovFund Growth Exp.          7               4.1M   \n",
       "               Governance - Season 3                   -                  -   \n",
       "               Governance - Season 2                   2             790.0K   \n",
       "               Governance - Season 1                   1             900.0K   \n",
       "               Governance - Phase 0                    4               2.4M   \n",
       "Grand Total                                           72              54.9M   \n",
       "\n",
       "                                              % OP Allocated  \n",
       "Status         Source                                         \n",
       "Live ‎🔥        Subtotal - GovFund Growth Exp.            75%  \n",
       "               Governance - Season 3                       -  \n",
       "               Governance - Season 2                       -  \n",
       "               Governance - Season 1                       -  \n",
       "               Governance - Phase 0                        -  \n",
       "Coming soon ‎⏳ Subtotal - GovFund Growth Exp.            17%  \n",
       "               Governance - Season 3                       -  \n",
       "               Governance - Season 2                       -  \n",
       "               Governance - Season 1                       -  \n",
       "               Governance - Phase 0                        -  \n",
       "Completed      Subtotal - GovFund Growth Exp.             7%  \n",
       "               Governance - Season 3                       -  \n",
       "               Governance - Season 2                       -  \n",
       "               Governance - Season 1                       -  \n",
       "               Governance - Phase 0                        -  \n",
       "Grand Total                                                -  "
      ]
     },
     "metadata": {},
     "output_type": "display_data"
    },
    {
     "name": "stdout",
     "output_type": "stream",
     "text": [
      "\n",
      "All Programs\n"
     ]
    },
    {
     "data": {
      "text/html": [
       "<div>\n",
       "<style scoped>\n",
       "    .dataframe tbody tr th:only-of-type {\n",
       "        vertical-align: middle;\n",
       "    }\n",
       "\n",
       "    .dataframe tbody tr th {\n",
       "        vertical-align: top;\n",
       "    }\n",
       "\n",
       "    .dataframe thead th {\n",
       "        text-align: right;\n",
       "    }\n",
       "</style>\n",
       "<table border=\"1\" class=\"dataframe\">\n",
       "  <thead>\n",
       "    <tr style=\"text-align: right;\">\n",
       "      <th></th>\n",
       "      <th></th>\n",
       "      <th># Programs</th>\n",
       "      <th># OP Allocated (M)</th>\n",
       "      <th>% OP Allocated</th>\n",
       "    </tr>\n",
       "    <tr>\n",
       "      <th>Status</th>\n",
       "      <th>Source</th>\n",
       "      <th></th>\n",
       "      <th></th>\n",
       "      <th></th>\n",
       "    </tr>\n",
       "  </thead>\n",
       "  <tbody>\n",
       "    <tr>\n",
       "      <th rowspan=\"6\" valign=\"top\">Live ‎🔥</th>\n",
       "      <th>Subtotal</th>\n",
       "      <td>42</td>\n",
       "      <td>42.6M</td>\n",
       "      <td>59%</td>\n",
       "    </tr>\n",
       "    <tr>\n",
       "      <th>Partner Fund</th>\n",
       "      <td>3</td>\n",
       "      <td>1.1M</td>\n",
       "      <td>-</td>\n",
       "    </tr>\n",
       "    <tr>\n",
       "      <th>Governance - Season 3</th>\n",
       "      <td>3</td>\n",
       "      <td>308.5K</td>\n",
       "      <td>-</td>\n",
       "    </tr>\n",
       "    <tr>\n",
       "      <th>Governance - Season 2</th>\n",
       "      <td>12</td>\n",
       "      <td>7.7M</td>\n",
       "      <td>-</td>\n",
       "    </tr>\n",
       "    <tr>\n",
       "      <th>Governance - Season 1</th>\n",
       "      <td>10</td>\n",
       "      <td>4.0M</td>\n",
       "      <td>-</td>\n",
       "    </tr>\n",
       "    <tr>\n",
       "      <th>Governance - Phase 0</th>\n",
       "      <td>14</td>\n",
       "      <td>29.5M</td>\n",
       "      <td>-</td>\n",
       "    </tr>\n",
       "    <tr>\n",
       "      <th rowspan=\"6\" valign=\"top\">Coming soon ‎⏳</th>\n",
       "      <th>Subtotal</th>\n",
       "      <td>73</td>\n",
       "      <td>14.7M</td>\n",
       "      <td>20%</td>\n",
       "    </tr>\n",
       "    <tr>\n",
       "      <th>Partner Fund</th>\n",
       "      <td>-</td>\n",
       "      <td>-</td>\n",
       "      <td>-</td>\n",
       "    </tr>\n",
       "    <tr>\n",
       "      <th>Governance - Season 3</th>\n",
       "      <td>44</td>\n",
       "      <td>4.2M</td>\n",
       "      <td>-</td>\n",
       "    </tr>\n",
       "    <tr>\n",
       "      <th>Governance - Season 2</th>\n",
       "      <td>17</td>\n",
       "      <td>4.7M</td>\n",
       "      <td>-</td>\n",
       "    </tr>\n",
       "    <tr>\n",
       "      <th>Governance - Season 1</th>\n",
       "      <td>5</td>\n",
       "      <td>1.7M</td>\n",
       "      <td>-</td>\n",
       "    </tr>\n",
       "    <tr>\n",
       "      <th>Governance - Phase 0</th>\n",
       "      <td>7</td>\n",
       "      <td>4.1M</td>\n",
       "      <td>-</td>\n",
       "    </tr>\n",
       "    <tr>\n",
       "      <th rowspan=\"6\" valign=\"top\">Completed</th>\n",
       "      <th>Subtotal</th>\n",
       "      <td>12</td>\n",
       "      <td>14.5M</td>\n",
       "      <td>20%</td>\n",
       "    </tr>\n",
       "    <tr>\n",
       "      <th>Partner Fund</th>\n",
       "      <td>5</td>\n",
       "      <td>10.4M</td>\n",
       "      <td>-</td>\n",
       "    </tr>\n",
       "    <tr>\n",
       "      <th>Governance - Season 3</th>\n",
       "      <td>-</td>\n",
       "      <td>-</td>\n",
       "      <td>-</td>\n",
       "    </tr>\n",
       "    <tr>\n",
       "      <th>Governance - Season 2</th>\n",
       "      <td>2</td>\n",
       "      <td>790.0K</td>\n",
       "      <td>-</td>\n",
       "    </tr>\n",
       "    <tr>\n",
       "      <th>Governance - Season 1</th>\n",
       "      <td>1</td>\n",
       "      <td>900.0K</td>\n",
       "      <td>-</td>\n",
       "    </tr>\n",
       "    <tr>\n",
       "      <th>Governance - Phase 0</th>\n",
       "      <td>4</td>\n",
       "      <td>2.4M</td>\n",
       "      <td>-</td>\n",
       "    </tr>\n",
       "    <tr>\n",
       "      <th>Grand Total</th>\n",
       "      <th></th>\n",
       "      <td>127</td>\n",
       "      <td>71.8M</td>\n",
       "      <td>-</td>\n",
       "    </tr>\n",
       "  </tbody>\n",
       "</table>\n",
       "</div>"
      ],
      "text/plain": [
       "                                     # Programs # OP Allocated (M)  \\\n",
       "Status         Source                                                \n",
       "Live ‎🔥        Subtotal                      42              42.6M   \n",
       "               Partner Fund                   3               1.1M   \n",
       "               Governance - Season 3          3             308.5K   \n",
       "               Governance - Season 2         12               7.7M   \n",
       "               Governance - Season 1         10               4.0M   \n",
       "               Governance - Phase 0          14              29.5M   \n",
       "Coming soon ‎⏳ Subtotal                      73              14.7M   \n",
       "               Partner Fund                   -                  -   \n",
       "               Governance - Season 3         44               4.2M   \n",
       "               Governance - Season 2         17               4.7M   \n",
       "               Governance - Season 1          5               1.7M   \n",
       "               Governance - Phase 0           7               4.1M   \n",
       "Completed      Subtotal                      12              14.5M   \n",
       "               Partner Fund                   5              10.4M   \n",
       "               Governance - Season 3          -                  -   \n",
       "               Governance - Season 2          2             790.0K   \n",
       "               Governance - Season 1          1             900.0K   \n",
       "               Governance - Phase 0           4               2.4M   \n",
       "Grand Total                                 127              71.8M   \n",
       "\n",
       "                                     % OP Allocated  \n",
       "Status         Source                                \n",
       "Live ‎🔥        Subtotal                         59%  \n",
       "               Partner Fund                       -  \n",
       "               Governance - Season 3              -  \n",
       "               Governance - Season 2              -  \n",
       "               Governance - Season 1              -  \n",
       "               Governance - Phase 0               -  \n",
       "Coming soon ‎⏳ Subtotal                         20%  \n",
       "               Partner Fund                       -  \n",
       "               Governance - Season 3              -  \n",
       "               Governance - Season 2              -  \n",
       "               Governance - Season 1              -  \n",
       "               Governance - Phase 0               -  \n",
       "Completed      Subtotal                         20%  \n",
       "               Partner Fund                       -  \n",
       "               Governance - Season 3              -  \n",
       "               Governance - Season 2              -  \n",
       "               Governance - Season 1              -  \n",
       "               Governance - Phase 0               -  \n",
       "Grand Total                                       -  "
      ]
     },
     "metadata": {},
     "output_type": "display_data"
    },
    {
     "name": "stdout",
     "output_type": "stream",
     "text": [
      "\n"
     ]
    }
   ],
   "source": [
    "for i in [\"GovFund\", \"GovFund Growth Experiments\", \"All Programs\"]:\n",
    "    # Assign the filters\n",
    "    if i == \"GovFund\":\n",
    "        filter_name = \" - GovFund Only\"\n",
    "        df_choice = df_info[df_info[\"Source\"] != \"['Partner Fund']\"].copy()\n",
    "    elif i == \"GovFund Growth Experiments\":\n",
    "        filter_name = \" - GovFund Growth Exp.\"\n",
    "        df_choice = df_info[df_info[\"Source\"] != \"['Partner Fund']\"].copy()\n",
    "        df_choice = df_choice[\n",
    "            df_choice[\"Incentive / Growth Program Included?\"] == \"Yes\"\n",
    "        ]\n",
    "    else:\n",
    "        filter_name = \"\"\n",
    "        df_choice = df_info.copy()\n",
    "\n",
    "    # clean up for columns needed\n",
    "    df_choice = df_choice[\n",
    "        [\n",
    "            \"Source\",\n",
    "            \"Status\",\n",
    "            \"# OP Allocated\",\n",
    "            \"App Name\",\n",
    "            \"start_date\",\n",
    "            \"end_date\",\n",
    "            \"app_name_join\",\n",
    "            \"Incentive / Growth Program Included?\",\n",
    "        ]\n",
    "    ]\n",
    "\n",
    "    # Remove square brackets and quotation marks from strings\n",
    "    df_choice[\"Source\"] = df_choice[\"Source\"].str.replace(r\"[\\[\\]']\", \"\", regex=True)\n",
    "\n",
    "    summary = pd.pivot_table(\n",
    "        df_choice,\n",
    "        values=[\"# OP Allocated\", \"App Name\"],\n",
    "        index=[\"Status\", \"Source\"],\n",
    "        aggfunc={\"# OP Allocated\": \"sum\", \"App Name\": \"count\"},\n",
    "    )\n",
    "\n",
    "    subtotal_name = \"Subtotal\" + filter_name\n",
    "    # calculate subtotals on program status\n",
    "    result = pd.concat(\n",
    "        [\n",
    "            summary,\n",
    "            summary.groupby(level=0)\n",
    "            .sum()\n",
    "            .assign(item_name=subtotal_name)\n",
    "            .set_index(\"item_name\", append=True),\n",
    "        ]\n",
    "    ).sort_index(level=[0, 1])\n",
    "    result = result.sort_index(level=[0, 1], ascending=[True, False])\n",
    "\n",
    "    # add grand total to summary\n",
    "    result.loc[(\"Grand Total\"), \"# OP Allocated\"] = summary[\"# OP Allocated\"].sum()\n",
    "    result.loc[(\"Grand Total\"), \"App Name\"] = summary[\"App Name\"].sum()\n",
    "\n",
    "    # cleanup display\n",
    "    result[\"# Programs\"] = result[\"App Name\"].astype(int)\n",
    "    result[\"# OP Allocated (M)\"] = result[\"# OP Allocated\"].apply(format_number)\n",
    "\n",
    "    # calculate percentage of total\n",
    "    result.loc[(slice(None), subtotal_name), \"# OP Allocated\"] / summary[\n",
    "        \"# OP Allocated\"\n",
    "    ].sum()\n",
    "    result[\"% OP Allocated\"] = (\n",
    "        round(\n",
    "            result.loc[(slice(None), subtotal_name), \"# OP Allocated\"]\n",
    "            / summary[\"# OP Allocated\"].sum()\n",
    "            * 100\n",
    "        )\n",
    "        .astype(str)\n",
    "        .replace(\"\\.0\", \"\", regex=True)\n",
    "        + \"%\"\n",
    "    )\n",
    "    result[\"% OP Allocated\"].fillna(\"-\", inplace=True)\n",
    "\n",
    "    result = result.replace((0, \"0.0M\", \"0.0\"), \"-\")\n",
    "    print(i)\n",
    "    display(result.drop(columns=[\"# OP Allocated\", \"App Name\"]))\n",
    "    print()"
   ]
  },
  {
   "cell_type": "code",
   "execution_count": 6,
   "metadata": {},
   "outputs": [
    {
     "data": {
      "text/html": [
       "<div>\n",
       "<style scoped>\n",
       "    .dataframe tbody tr th:only-of-type {\n",
       "        vertical-align: middle;\n",
       "    }\n",
       "\n",
       "    .dataframe tbody tr th {\n",
       "        vertical-align: top;\n",
       "    }\n",
       "\n",
       "    .dataframe thead th {\n",
       "        text-align: right;\n",
       "    }\n",
       "</style>\n",
       "<table border=\"1\" class=\"dataframe\">\n",
       "  <thead>\n",
       "    <tr style=\"text-align: right;\">\n",
       "      <th></th>\n",
       "      <th>Source</th>\n",
       "      <th>Status</th>\n",
       "      <th># OP Allocated</th>\n",
       "      <th>App Name</th>\n",
       "      <th>start_date</th>\n",
       "      <th>end_date</th>\n",
       "      <th>Incentive / Growth Program Included?</th>\n",
       "    </tr>\n",
       "  </thead>\n",
       "  <tbody>\n",
       "    <tr>\n",
       "      <th>121</th>\n",
       "      <td>Governance - Season 1</td>\n",
       "      <td>Live ‎🔥</td>\n",
       "      <td>300,000.00</td>\n",
       "      <td>Mean Finance</td>\n",
       "      <td>2023-05-29</td>\n",
       "      <td>-</td>\n",
       "      <td>Yes</td>\n",
       "    </tr>\n",
       "    <tr>\n",
       "      <th>0</th>\n",
       "      <td>Governance - Season 3</td>\n",
       "      <td>NaN</td>\n",
       "      <td>75,000.00</td>\n",
       "      <td>Vesper</td>\n",
       "      <td>2023-05-22</td>\n",
       "      <td>-</td>\n",
       "      <td>NaN</td>\n",
       "    </tr>\n",
       "    <tr>\n",
       "      <th>62</th>\n",
       "      <td>Governance - Season 2</td>\n",
       "      <td>Live ‎🔥</td>\n",
       "      <td>1,000,000.00</td>\n",
       "      <td>Yearn</td>\n",
       "      <td>2023-05-18</td>\n",
       "      <td>-</td>\n",
       "      <td>Yes</td>\n",
       "    </tr>\n",
       "    <tr>\n",
       "      <th>4</th>\n",
       "      <td>Governance - Season 3</td>\n",
       "      <td>Live ‎🔥</td>\n",
       "      <td>248,500.00</td>\n",
       "      <td>Rabbit Hole</td>\n",
       "      <td>2023-05-15</td>\n",
       "      <td>-</td>\n",
       "      <td>Yes</td>\n",
       "    </tr>\n",
       "  </tbody>\n",
       "</table>\n",
       "</div>"
      ],
      "text/plain": [
       "                    Source   Status  # OP Allocated      App Name start_date  \\\n",
       "121  Governance - Season 1  Live ‎🔥      300,000.00  Mean Finance 2023-05-29   \n",
       "0    Governance - Season 3      NaN       75,000.00        Vesper 2023-05-22   \n",
       "62   Governance - Season 2  Live ‎🔥    1,000,000.00         Yearn 2023-05-18   \n",
       "4    Governance - Season 3  Live ‎🔥      248,500.00   Rabbit Hole 2023-05-15   \n",
       "\n",
       "    end_date Incentive / Growth Program Included?  \n",
       "121        -                                  Yes  \n",
       "0          -                                  NaN  \n",
       "62         -                                  Yes  \n",
       "4          -                                  Yes  "
      ]
     },
     "metadata": {},
     "output_type": "display_data"
    }
   ],
   "source": [
    "# display new programs in last 30 days\n",
    "df_new_programs = df_choice[\n",
    "    df_choice[\"start_date\"] > pd.Timestamp(\"today\") - timedelta(days=LAST_N_DAYS)\n",
    "].sort_values(by=\"start_date\", ascending=False)\n",
    "if not df_new_programs.empty:\n",
    "    df_new_programs[\"end_date\"].fillna(\"-\", inplace=True)\n",
    "    display(df_new_programs.drop(\"app_name_join\", axis=1))"
   ]
  },
  {
   "cell_type": "code",
   "execution_count": 7,
   "metadata": {},
   "outputs": [
    {
     "data": {
      "text/html": [
       "<div>\n",
       "<style scoped>\n",
       "    .dataframe tbody tr th:only-of-type {\n",
       "        vertical-align: middle;\n",
       "    }\n",
       "\n",
       "    .dataframe tbody tr th {\n",
       "        vertical-align: top;\n",
       "    }\n",
       "\n",
       "    .dataframe thead th {\n",
       "        text-align: right;\n",
       "    }\n",
       "</style>\n",
       "<table border=\"1\" class=\"dataframe\">\n",
       "  <thead>\n",
       "    <tr style=\"text-align: right;\">\n",
       "      <th></th>\n",
       "      <th>Source</th>\n",
       "      <th>Status</th>\n",
       "      <th># OP Allocated</th>\n",
       "      <th>App Name</th>\n",
       "      <th>start_date</th>\n",
       "      <th>end_date</th>\n",
       "      <th>Incentive / Growth Program Included?</th>\n",
       "    </tr>\n",
       "  </thead>\n",
       "  <tbody>\n",
       "    <tr>\n",
       "      <th>28</th>\n",
       "      <td>Partner Fund</td>\n",
       "      <td>Completed</td>\n",
       "      <td>1,000,000.00</td>\n",
       "      <td>OP Uniswap Liquidity Managers - Gamma</td>\n",
       "      <td>2023-03-22</td>\n",
       "      <td>2023-05-31</td>\n",
       "      <td>Yes</td>\n",
       "    </tr>\n",
       "    <tr>\n",
       "      <th>29</th>\n",
       "      <td>Partner Fund</td>\n",
       "      <td>Completed</td>\n",
       "      <td>1,000,000.00</td>\n",
       "      <td>OP Uniswap Liquidity Managers - Arrakis</td>\n",
       "      <td>2023-03-16</td>\n",
       "      <td>2023-05-31</td>\n",
       "      <td>Yes</td>\n",
       "    </tr>\n",
       "  </tbody>\n",
       "</table>\n",
       "</div>"
      ],
      "text/plain": [
       "          Source     Status  # OP Allocated  \\\n",
       "28  Partner Fund  Completed    1,000,000.00   \n",
       "29  Partner Fund  Completed    1,000,000.00   \n",
       "\n",
       "                                   App Name start_date   end_date  \\\n",
       "28    OP Uniswap Liquidity Managers - Gamma 2023-03-22 2023-05-31   \n",
       "29  OP Uniswap Liquidity Managers - Arrakis 2023-03-16 2023-05-31   \n",
       "\n",
       "   Incentive / Growth Program Included?  \n",
       "28                                  Yes  \n",
       "29                                  Yes  "
      ]
     },
     "metadata": {},
     "output_type": "display_data"
    }
   ],
   "source": [
    "# display completed programs in last 30 days\n",
    "df_completed = df_choice[\n",
    "    (df_choice[\"Status\"] == \"Completed\")\n",
    "    & (df_choice[\"end_date\"] > pd.Timestamp(\"today\") - timedelta(days=LAST_N_DAYS))\n",
    "].sort_values(by=\"start_date\", ascending=False)\n",
    "if not df_completed.empty:\n",
    "    display(df_completed.drop(\"app_name_join\", axis=1))"
   ]
  },
  {
   "attachments": {},
   "cell_type": "markdown",
   "metadata": {},
   "source": [
    "# Usage and TVL Attribution\n",
    "To combine all sources of data together"
   ]
  },
  {
   "cell_type": "code",
   "execution_count": 8,
   "metadata": {},
   "outputs": [],
   "source": [
    "# read in input data\n",
    "df_usage = pd.read_csv(\"csv_outputs/\" + \"dune_op_program_performance_summary\" + \".csv\")\n",
    "# convert to datetime\n",
    "df_usage[\"start_date\"] = pd.to_datetime(df_usage[\"start_date\"])\n",
    "df_usage[\"end_date\"] = pd.to_datetime(df_usage[\"end_date\"])\n",
    "\n",
    "df_usage[\"app_name_join\"] = df_usage[\"app_name_a\"].apply(cleanup_string)\n",
    "df_usage[\"duration_days\"] = (\n",
    "    df_usage[\"end_date\"].fillna(datetime.now()) - df_usage[\"start_date\"]\n",
    ").dt.days + 1  # if start and end date is the same, add 1 to include that day\n",
    "\n",
    "# drop op_deployed from df_usage to avoid duplicates\n",
    "df_usage = df_usage.drop(columns=[\"op_deployed\"])\n",
    "\n",
    "df_tvl = pd.read_csv(\"csv_outputs/op_summer_latest_stats.csv\")\n",
    "df_tvl = df_tvl[df_tvl[\"include_in_summary\"] == 1]\n",
    "df_tvl[\"app_name_join\"] = df_tvl[\"parent_protocol\"].apply(cleanup_string)\n",
    "\n",
    "df_op_distribution = pd.read_csv(\"csv_outputs/dune_op_distribution_type.csv\")\n",
    "df_op_distribution[\"net_op_deployed\"] = (\n",
    "    df_op_distribution[\"op_deployed\"] - df_op_distribution[\"op_from_other_projects\"]\n",
    ").astype(float)\n",
    "df_op_distribution[\"app_name_join\"] = df_op_distribution[\"project_name\"].apply(\n",
    "    cleanup_string\n",
    ")\n",
    "\n",
    "# filter to incentive / growth programs only\n",
    "condition = (df_choice[\"Incentive / Growth Program Included?\"] == \"Yes\") & (\n",
    "    df_choice[\"start_date\"].notnull()\n",
    ")\n",
    "df_choice = df_choice[condition]"
   ]
  },
  {
   "cell_type": "code",
   "execution_count": 9,
   "metadata": {},
   "outputs": [],
   "source": [
    "df_to_summarize = {\n",
    "    # df | groupby | column to summarize\n",
    "    \"df_choice\": (\"app_name_join\", \"# OP Allocated\"),\n",
    "    \"df_tvl\": (\n",
    "        \"app_name_join\",\n",
    "        [\n",
    "            \"cumul_last_price_net_dollar_flow\",\n",
    "            \"cumul_last_price_net_dollar_flow_at_program_end\",\n",
    "        ],\n",
    "    ),\n",
    "    \"df_op_distribution\": (\"app_name_join\", [\"op_deployed\", \"net_op_deployed\"]),\n",
    "}\n",
    "\n",
    "summary_dfs = {}  # create an empty dictionary to store the resulting DataFrames\n",
    "\n",
    "for df_name, (groupby_col, sum_cols) in df_to_summarize.items():\n",
    "    df = globals()[df_name]  # assuming the dataframes are stored as global variables\n",
    "    if isinstance(sum_cols, str):  # if only one column to sum is specified\n",
    "        sum_cols = [sum_cols]\n",
    "    # groupby and sum the specified columns\n",
    "    grouped = df.groupby(groupby_col)[sum_cols].sum().reset_index()\n",
    "    # create a new variable with the summary DataFrame\n",
    "    first_word = groupby_col.split(\"_\")[0]\n",
    "    summary_df_name = f\"{df_name}_summary_{first_word}\"\n",
    "    summary_dfs[summary_df_name] = grouped\n",
    "\n",
    "# unpack summary_dfs into separate variables with the same names\n",
    "locals().update(summary_dfs)\n",
    "\n",
    "# access each summary DataFrame by its variable name\n",
    "# df_choice_summary_app\n",
    "# df_tvl_summary_app\n",
    "# df_op_distribution_summary_app"
   ]
  },
  {
   "attachments": {},
   "cell_type": "markdown",
   "metadata": {},
   "source": [
    "### By App"
   ]
  },
  {
   "cell_type": "code",
   "execution_count": 10,
   "metadata": {},
   "outputs": [],
   "source": [
    "# by app\n",
    "df_combined_app = merge_dfs(\n",
    "    df_usage=df_usage,\n",
    "    df_tvl_summary_app=df_tvl_summary_app,\n",
    "    df_choice_summary_app=df_choice_summary_app,\n",
    "    df_op_distribution_summary_app=df_op_distribution_summary_app,\n",
    ")\n",
    "\n",
    "# # if op_deployed higher than op allocated, set to op allocated value\n",
    "# mask = df_combined_app['op_deployed'] > df_combined_app['# OP Allocated']\n",
    "# df_combined_app.loc[mask, 'op_deployed'] = df_combined_app.loc[mask, '# OP Allocated']\n",
    "\n",
    "df_combined_app = df_combined_app.dropna(subset=[\"# OP Allocated\"])\n",
    "\n",
    "# calculate metrics\n",
    "result_app = calculate_metrics(\n",
    "    df_combined_app, op=\"op_deployed\"\n",
    ")  # by app use op_deployed\n",
    "# display(result_app)"
   ]
  },
  {
   "cell_type": "code",
   "execution_count": 11,
   "metadata": {},
   "outputs": [
    {
     "data": {
      "text/html": [
       "<div>\n",
       "<style scoped>\n",
       "    .dataframe tbody tr th:only-of-type {\n",
       "        vertical-align: middle;\n",
       "    }\n",
       "\n",
       "    .dataframe tbody tr th {\n",
       "        vertical-align: top;\n",
       "    }\n",
       "\n",
       "    .dataframe thead th {\n",
       "        text-align: right;\n",
       "    }\n",
       "</style>\n",
       "<table border=\"1\" class=\"dataframe\">\n",
       "  <thead>\n",
       "    <tr style=\"text-align: right;\">\n",
       "      <th></th>\n",
       "      <th>app_name_a</th>\n",
       "      <th># OP Allocated</th>\n",
       "      <th>op_deployed</th>\n",
       "      <th>cumul_last_price_net_dollar_flow</th>\n",
       "      <th>net_tvl_per_op</th>\n",
       "    </tr>\n",
       "  </thead>\n",
       "  <tbody>\n",
       "    <tr>\n",
       "      <th>0</th>\n",
       "      <td>Velodrome</td>\n",
       "      <td>7,000,000.00</td>\n",
       "      <td>6,654,359.99</td>\n",
       "      <td>247,751,290.66</td>\n",
       "      <td>37.23</td>\n",
       "    </tr>\n",
       "    <tr>\n",
       "      <th>1</th>\n",
       "      <td>Aave</td>\n",
       "      <td>5,000,000.00</td>\n",
       "      <td>4,826,838.88</td>\n",
       "      <td>77,329,625.73</td>\n",
       "      <td>16.02</td>\n",
       "    </tr>\n",
       "    <tr>\n",
       "      <th>2</th>\n",
       "      <td>Beefy Finance</td>\n",
       "      <td>650,000.00</td>\n",
       "      <td>363,961.67</td>\n",
       "      <td>63,286,233.77</td>\n",
       "      <td>173.88</td>\n",
       "    </tr>\n",
       "    <tr>\n",
       "      <th>3</th>\n",
       "      <td>Uniswap</td>\n",
       "      <td>1,000,000.00</td>\n",
       "      <td>799,999.98</td>\n",
       "      <td>50,355,240.66</td>\n",
       "      <td>62.94</td>\n",
       "    </tr>\n",
       "    <tr>\n",
       "      <th>4</th>\n",
       "      <td>Lido</td>\n",
       "      <td>1,000,000.00</td>\n",
       "      <td>124,875.00</td>\n",
       "      <td>34,502,520.07</td>\n",
       "      <td>276.30</td>\n",
       "    </tr>\n",
       "    <tr>\n",
       "      <th>5</th>\n",
       "      <td>Beethoven X</td>\n",
       "      <td>500,000.00</td>\n",
       "      <td>262,691.59</td>\n",
       "      <td>30,420,272.90</td>\n",
       "      <td>115.80</td>\n",
       "    </tr>\n",
       "    <tr>\n",
       "      <th>6</th>\n",
       "      <td>Synthetix</td>\n",
       "      <td>9,000,000.00</td>\n",
       "      <td>4,469,188.41</td>\n",
       "      <td>30,419,829.78</td>\n",
       "      <td>6.81</td>\n",
       "    </tr>\n",
       "    <tr>\n",
       "      <th>7</th>\n",
       "      <td>dHedge</td>\n",
       "      <td>350,000.00</td>\n",
       "      <td>380,943.42</td>\n",
       "      <td>22,000,621.43</td>\n",
       "      <td>57.75</td>\n",
       "    </tr>\n",
       "    <tr>\n",
       "      <th>8</th>\n",
       "      <td>Pika Protocol</td>\n",
       "      <td>900,000.00</td>\n",
       "      <td>776,728.00</td>\n",
       "      <td>14,205,417.52</td>\n",
       "      <td>18.29</td>\n",
       "    </tr>\n",
       "    <tr>\n",
       "      <th>9</th>\n",
       "      <td>Overnight</td>\n",
       "      <td>400,000.00</td>\n",
       "      <td>527,312.68</td>\n",
       "      <td>8,220,838.00</td>\n",
       "      <td>15.59</td>\n",
       "    </tr>\n",
       "  </tbody>\n",
       "</table>\n",
       "</div>"
      ],
      "text/plain": [
       "      app_name_a  # OP Allocated  op_deployed  \\\n",
       "0      Velodrome    7,000,000.00 6,654,359.99   \n",
       "1           Aave    5,000,000.00 4,826,838.88   \n",
       "2  Beefy Finance      650,000.00   363,961.67   \n",
       "3        Uniswap    1,000,000.00   799,999.98   \n",
       "4           Lido    1,000,000.00   124,875.00   \n",
       "5    Beethoven X      500,000.00   262,691.59   \n",
       "6      Synthetix    9,000,000.00 4,469,188.41   \n",
       "7         dHedge      350,000.00   380,943.42   \n",
       "8  Pika Protocol      900,000.00   776,728.00   \n",
       "9      Overnight      400,000.00   527,312.68   \n",
       "\n",
       "   cumul_last_price_net_dollar_flow  net_tvl_per_op  \n",
       "0                    247,751,290.66           37.23  \n",
       "1                     77,329,625.73           16.02  \n",
       "2                     63,286,233.77          173.88  \n",
       "3                     50,355,240.66           62.94  \n",
       "4                     34,502,520.07          276.30  \n",
       "5                     30,420,272.90          115.80  \n",
       "6                     30,419,829.78            6.81  \n",
       "7                     22,000,621.43           57.75  \n",
       "8                     14,205,417.52           18.29  \n",
       "9                      8,220,838.00           15.59  "
      ]
     },
     "metadata": {},
     "output_type": "display_data"
    }
   ],
   "source": [
    "# sort by tvl\n",
    "cols = [\n",
    "    \"app_name_a\",\n",
    "    \"# OP Allocated\",\n",
    "    \"op_deployed\",\n",
    "    \"cumul_last_price_net_dollar_flow\",\n",
    "    \"net_tvl_per_op\",\n",
    "]\n",
    "display(\n",
    "    result_app[cols]\n",
    "    .sort_values(\"cumul_last_price_net_dollar_flow\", ascending=False)\n",
    "    .reset_index(drop=True)\n",
    "    .head(10)\n",
    ")"
   ]
  },
  {
   "cell_type": "code",
   "execution_count": 12,
   "metadata": {},
   "outputs": [
    {
     "data": {
      "text/html": [
       "<div>\n",
       "<style scoped>\n",
       "    .dataframe tbody tr th:only-of-type {\n",
       "        vertical-align: middle;\n",
       "    }\n",
       "\n",
       "    .dataframe tbody tr th {\n",
       "        vertical-align: top;\n",
       "    }\n",
       "\n",
       "    .dataframe thead th {\n",
       "        text-align: right;\n",
       "    }\n",
       "</style>\n",
       "<table border=\"1\" class=\"dataframe\">\n",
       "  <thead>\n",
       "    <tr style=\"text-align: right;\">\n",
       "      <th></th>\n",
       "      <th>app_name_a</th>\n",
       "      <th># OP Allocated</th>\n",
       "      <th>op_deployed</th>\n",
       "      <th>incremental_txs_per_day</th>\n",
       "      <th>incremental_txs_annualized_per_op</th>\n",
       "      <th>incremental_txs_per_day_after</th>\n",
       "      <th>incremental_txs_after_annualized_per_op</th>\n",
       "    </tr>\n",
       "  </thead>\n",
       "  <tbody>\n",
       "    <tr>\n",
       "      <th>0</th>\n",
       "      <td>Velodrome</td>\n",
       "      <td>7,000,000.00</td>\n",
       "      <td>6,654,359.99</td>\n",
       "      <td>6,894.45</td>\n",
       "      <td>0.38</td>\n",
       "      <td>NaN</td>\n",
       "      <td>NaN</td>\n",
       "    </tr>\n",
       "    <tr>\n",
       "      <th>1</th>\n",
       "      <td>Stargate Finance</td>\n",
       "      <td>1,000,000.00</td>\n",
       "      <td>619,725.73</td>\n",
       "      <td>6,588.48</td>\n",
       "      <td>3.88</td>\n",
       "      <td>NaN</td>\n",
       "      <td>NaN</td>\n",
       "    </tr>\n",
       "    <tr>\n",
       "      <th>2</th>\n",
       "      <td>Rabbithole</td>\n",
       "      <td>248,500.00</td>\n",
       "      <td>84,100.00</td>\n",
       "      <td>6,390.18</td>\n",
       "      <td>27.73</td>\n",
       "      <td>NaN</td>\n",
       "      <td>NaN</td>\n",
       "    </tr>\n",
       "    <tr>\n",
       "      <th>3</th>\n",
       "      <td>Rubicon</td>\n",
       "      <td>900,000.00</td>\n",
       "      <td>793,865.55</td>\n",
       "      <td>4,110.26</td>\n",
       "      <td>1.89</td>\n",
       "      <td>1,583.82</td>\n",
       "      <td>0.73</td>\n",
       "    </tr>\n",
       "    <tr>\n",
       "      <th>4</th>\n",
       "      <td>Pika Protocol</td>\n",
       "      <td>900,000.00</td>\n",
       "      <td>776,728.00</td>\n",
       "      <td>3,478.44</td>\n",
       "      <td>1.63</td>\n",
       "      <td>NaN</td>\n",
       "      <td>NaN</td>\n",
       "    </tr>\n",
       "    <tr>\n",
       "      <th>5</th>\n",
       "      <td>Synthetix</td>\n",
       "      <td>9,000,000.00</td>\n",
       "      <td>4,469,188.41</td>\n",
       "      <td>3,403.04</td>\n",
       "      <td>0.28</td>\n",
       "      <td>NaN</td>\n",
       "      <td>NaN</td>\n",
       "    </tr>\n",
       "    <tr>\n",
       "      <th>6</th>\n",
       "      <td>Aave</td>\n",
       "      <td>5,000,000.00</td>\n",
       "      <td>4,826,838.88</td>\n",
       "      <td>3,122.79</td>\n",
       "      <td>0.24</td>\n",
       "      <td>4,744.49</td>\n",
       "      <td>0.36</td>\n",
       "    </tr>\n",
       "    <tr>\n",
       "      <th>7</th>\n",
       "      <td>Hop Protocol</td>\n",
       "      <td>1,000,000.00</td>\n",
       "      <td>204,739.04</td>\n",
       "      <td>2,431.92</td>\n",
       "      <td>4.34</td>\n",
       "      <td>NaN</td>\n",
       "      <td>NaN</td>\n",
       "    </tr>\n",
       "    <tr>\n",
       "      <th>8</th>\n",
       "      <td>1inch</td>\n",
       "      <td>300,000.00</td>\n",
       "      <td>300,000.00</td>\n",
       "      <td>2,100.50</td>\n",
       "      <td>2.56</td>\n",
       "      <td>390.16</td>\n",
       "      <td>0.47</td>\n",
       "    </tr>\n",
       "    <tr>\n",
       "      <th>9</th>\n",
       "      <td>PoolTogether</td>\n",
       "      <td>1,000,000.00</td>\n",
       "      <td>897,039.00</td>\n",
       "      <td>1,809.89</td>\n",
       "      <td>0.74</td>\n",
       "      <td>304.97</td>\n",
       "      <td>0.12</td>\n",
       "    </tr>\n",
       "  </tbody>\n",
       "</table>\n",
       "</div>"
      ],
      "text/plain": [
       "         app_name_a  # OP Allocated  op_deployed  incremental_txs_per_day  \\\n",
       "0         Velodrome    7,000,000.00 6,654,359.99                 6,894.45   \n",
       "1  Stargate Finance    1,000,000.00   619,725.73                 6,588.48   \n",
       "2        Rabbithole      248,500.00    84,100.00                 6,390.18   \n",
       "3           Rubicon      900,000.00   793,865.55                 4,110.26   \n",
       "4     Pika Protocol      900,000.00   776,728.00                 3,478.44   \n",
       "5         Synthetix    9,000,000.00 4,469,188.41                 3,403.04   \n",
       "6              Aave    5,000,000.00 4,826,838.88                 3,122.79   \n",
       "7      Hop Protocol    1,000,000.00   204,739.04                 2,431.92   \n",
       "8             1inch      300,000.00   300,000.00                 2,100.50   \n",
       "9      PoolTogether    1,000,000.00   897,039.00                 1,809.89   \n",
       "\n",
       "   incremental_txs_annualized_per_op  incremental_txs_per_day_after  \\\n",
       "0                               0.38                            NaN   \n",
       "1                               3.88                            NaN   \n",
       "2                              27.73                            NaN   \n",
       "3                               1.89                       1,583.82   \n",
       "4                               1.63                            NaN   \n",
       "5                               0.28                            NaN   \n",
       "6                               0.24                       4,744.49   \n",
       "7                               4.34                            NaN   \n",
       "8                               2.56                         390.16   \n",
       "9                               0.74                         304.97   \n",
       "\n",
       "   incremental_txs_after_annualized_per_op  \n",
       "0                                      NaN  \n",
       "1                                      NaN  \n",
       "2                                      NaN  \n",
       "3                                     0.73  \n",
       "4                                      NaN  \n",
       "5                                      NaN  \n",
       "6                                     0.36  \n",
       "7                                      NaN  \n",
       "8                                     0.47  \n",
       "9                                     0.12  "
      ]
     },
     "metadata": {},
     "output_type": "display_data"
    },
    {
     "data": {
      "text/html": [
       "<div>\n",
       "<style scoped>\n",
       "    .dataframe tbody tr th:only-of-type {\n",
       "        vertical-align: middle;\n",
       "    }\n",
       "\n",
       "    .dataframe tbody tr th {\n",
       "        vertical-align: top;\n",
       "    }\n",
       "\n",
       "    .dataframe thead th {\n",
       "        text-align: right;\n",
       "    }\n",
       "</style>\n",
       "<table border=\"1\" class=\"dataframe\">\n",
       "  <thead>\n",
       "    <tr style=\"text-align: right;\">\n",
       "      <th></th>\n",
       "      <th>app_name_a</th>\n",
       "      <th># OP Allocated</th>\n",
       "      <th>op_deployed</th>\n",
       "      <th>incremental_txs_per_day</th>\n",
       "      <th>incremental_txs_annualized_per_op</th>\n",
       "      <th>incremental_txs_per_day_after</th>\n",
       "      <th>incremental_txs_after_annualized_per_op</th>\n",
       "    </tr>\n",
       "  </thead>\n",
       "  <tbody>\n",
       "    <tr>\n",
       "      <th>0</th>\n",
       "      <td>Gamma</td>\n",
       "      <td>1,000,000.00</td>\n",
       "      <td>0.00</td>\n",
       "      <td>111.59</td>\n",
       "      <td>inf</td>\n",
       "      <td>63.02</td>\n",
       "      <td>inf</td>\n",
       "    </tr>\n",
       "    <tr>\n",
       "      <th>1</th>\n",
       "      <td>Rubicon</td>\n",
       "      <td>900,000.00</td>\n",
       "      <td>793,865.55</td>\n",
       "      <td>4,110.26</td>\n",
       "      <td>1.89</td>\n",
       "      <td>1,583.82</td>\n",
       "      <td>0.73</td>\n",
       "    </tr>\n",
       "    <tr>\n",
       "      <th>2</th>\n",
       "      <td>1inch</td>\n",
       "      <td>300,000.00</td>\n",
       "      <td>300,000.00</td>\n",
       "      <td>2,100.50</td>\n",
       "      <td>2.56</td>\n",
       "      <td>390.16</td>\n",
       "      <td>0.47</td>\n",
       "    </tr>\n",
       "    <tr>\n",
       "      <th>3</th>\n",
       "      <td>Aave</td>\n",
       "      <td>5,000,000.00</td>\n",
       "      <td>4,826,838.88</td>\n",
       "      <td>3,122.79</td>\n",
       "      <td>0.24</td>\n",
       "      <td>4,744.49</td>\n",
       "      <td>0.36</td>\n",
       "    </tr>\n",
       "    <tr>\n",
       "      <th>4</th>\n",
       "      <td>Revert Finance</td>\n",
       "      <td>240,000.00</td>\n",
       "      <td>240,838.05</td>\n",
       "      <td>217.58</td>\n",
       "      <td>0.33</td>\n",
       "      <td>115.65</td>\n",
       "      <td>0.18</td>\n",
       "    </tr>\n",
       "    <tr>\n",
       "      <th>5</th>\n",
       "      <td>PoolTogether</td>\n",
       "      <td>1,000,000.00</td>\n",
       "      <td>897,039.00</td>\n",
       "      <td>1,809.89</td>\n",
       "      <td>0.74</td>\n",
       "      <td>304.97</td>\n",
       "      <td>0.12</td>\n",
       "    </tr>\n",
       "    <tr>\n",
       "      <th>6</th>\n",
       "      <td>WePiggy</td>\n",
       "      <td>300,000.00</td>\n",
       "      <td>300,009.76</td>\n",
       "      <td>39.35</td>\n",
       "      <td>0.05</td>\n",
       "      <td>12.07</td>\n",
       "      <td>0.01</td>\n",
       "    </tr>\n",
       "    <tr>\n",
       "      <th>7</th>\n",
       "      <td>XToken</td>\n",
       "      <td>900,000.00</td>\n",
       "      <td>1,009,841.31</td>\n",
       "      <td>17.84</td>\n",
       "      <td>0.01</td>\n",
       "      <td>3.43</td>\n",
       "      <td>0.00</td>\n",
       "    </tr>\n",
       "    <tr>\n",
       "      <th>8</th>\n",
       "      <td>Aelin</td>\n",
       "      <td>900,000.00</td>\n",
       "      <td>900,001.00</td>\n",
       "      <td>7.83</td>\n",
       "      <td>0.00</td>\n",
       "      <td>-4.99</td>\n",
       "      <td>-0.00</td>\n",
       "    </tr>\n",
       "    <tr>\n",
       "      <th>9</th>\n",
       "      <td>Arrakis Finance</td>\n",
       "      <td>1,000,000.00</td>\n",
       "      <td>204,170.06</td>\n",
       "      <td>4.37</td>\n",
       "      <td>0.01</td>\n",
       "      <td>-20.99</td>\n",
       "      <td>-0.04</td>\n",
       "    </tr>\n",
       "  </tbody>\n",
       "</table>\n",
       "</div>"
      ],
      "text/plain": [
       "        app_name_a  # OP Allocated  op_deployed  incremental_txs_per_day  \\\n",
       "0            Gamma    1,000,000.00         0.00                   111.59   \n",
       "1          Rubicon      900,000.00   793,865.55                 4,110.26   \n",
       "2            1inch      300,000.00   300,000.00                 2,100.50   \n",
       "3             Aave    5,000,000.00 4,826,838.88                 3,122.79   \n",
       "4   Revert Finance      240,000.00   240,838.05                   217.58   \n",
       "5     PoolTogether    1,000,000.00   897,039.00                 1,809.89   \n",
       "6          WePiggy      300,000.00   300,009.76                    39.35   \n",
       "7           XToken      900,000.00 1,009,841.31                    17.84   \n",
       "8            Aelin      900,000.00   900,001.00                     7.83   \n",
       "9  Arrakis Finance    1,000,000.00   204,170.06                     4.37   \n",
       "\n",
       "   incremental_txs_annualized_per_op  incremental_txs_per_day_after  \\\n",
       "0                                inf                          63.02   \n",
       "1                               1.89                       1,583.82   \n",
       "2                               2.56                         390.16   \n",
       "3                               0.24                       4,744.49   \n",
       "4                               0.33                         115.65   \n",
       "5                               0.74                         304.97   \n",
       "6                               0.05                          12.07   \n",
       "7                               0.01                           3.43   \n",
       "8                               0.00                          -4.99   \n",
       "9                               0.01                         -20.99   \n",
       "\n",
       "   incremental_txs_after_annualized_per_op  \n",
       "0                                      inf  \n",
       "1                                     0.73  \n",
       "2                                     0.47  \n",
       "3                                     0.36  \n",
       "4                                     0.18  \n",
       "5                                     0.12  \n",
       "6                                     0.01  \n",
       "7                                     0.00  \n",
       "8                                    -0.00  \n",
       "9                                    -0.04  "
      ]
     },
     "metadata": {},
     "output_type": "display_data"
    }
   ],
   "source": [
    "# sort by txs\n",
    "txs_cols = [\n",
    "    \"app_name_a\",\n",
    "    \"# OP Allocated\",\n",
    "    \"op_deployed\",\n",
    "    \"incremental_txs_per_day\",\n",
    "    \"incremental_txs_annualized_per_op\",\n",
    "    \"incremental_txs_per_day_after\",\n",
    "    \"incremental_txs_after_annualized_per_op\",\n",
    "]\n",
    "\n",
    "# # result_app[txs_cols].to_csv('csv_outputs/transaction_stats_by_app.csv')\n",
    "\n",
    "display(\n",
    "    result_app[txs_cols]\n",
    "    .sort_values(\"incremental_txs_per_day\", ascending=False)\n",
    "    .reset_index(drop=True)\n",
    "    .head(10)\n",
    ")\n",
    "\n",
    "display(\n",
    "    result_app[txs_cols]\n",
    "    .sort_values(\"incremental_txs_after_annualized_per_op\", ascending=False)\n",
    "    .dropna()\n",
    "    .reset_index(drop=True)\n",
    "    .head(10)\n",
    ")"
   ]
  },
  {
   "cell_type": "code",
   "execution_count": 13,
   "metadata": {},
   "outputs": [
    {
     "data": {
      "text/html": [
       "<div>\n",
       "<style scoped>\n",
       "    .dataframe tbody tr th:only-of-type {\n",
       "        vertical-align: middle;\n",
       "    }\n",
       "\n",
       "    .dataframe tbody tr th {\n",
       "        vertical-align: top;\n",
       "    }\n",
       "\n",
       "    .dataframe thead th {\n",
       "        text-align: right;\n",
       "    }\n",
       "</style>\n",
       "<table border=\"1\" class=\"dataframe\">\n",
       "  <thead>\n",
       "    <tr style=\"text-align: right;\">\n",
       "      <th></th>\n",
       "      <th>app_name_a</th>\n",
       "      <th># OP Allocated</th>\n",
       "      <th>op_deployed</th>\n",
       "      <th>incremental_gas_fee_eth_per_day</th>\n",
       "      <th>incremental_gas_fee_eth_annualized_per_op</th>\n",
       "      <th>incremental_gas_fee_eth_per_day_after</th>\n",
       "      <th>incremental_gas_fee_eth_after_annualized_per_op</th>\n",
       "    </tr>\n",
       "  </thead>\n",
       "  <tbody>\n",
       "    <tr>\n",
       "      <th>0</th>\n",
       "      <td>Synthetix</td>\n",
       "      <td>9,000,000.00</td>\n",
       "      <td>4,469,188.41</td>\n",
       "      <td>54.70</td>\n",
       "      <td>0.0045</td>\n",
       "      <td>NaN</td>\n",
       "      <td>nan</td>\n",
       "    </tr>\n",
       "    <tr>\n",
       "      <th>1</th>\n",
       "      <td>Velodrome</td>\n",
       "      <td>7,000,000.00</td>\n",
       "      <td>6,654,359.99</td>\n",
       "      <td>23.97</td>\n",
       "      <td>0.0013</td>\n",
       "      <td>NaN</td>\n",
       "      <td>nan</td>\n",
       "    </tr>\n",
       "    <tr>\n",
       "      <th>2</th>\n",
       "      <td>Stargate Finance</td>\n",
       "      <td>1,000,000.00</td>\n",
       "      <td>619,725.73</td>\n",
       "      <td>17.98</td>\n",
       "      <td>0.0106</td>\n",
       "      <td>NaN</td>\n",
       "      <td>nan</td>\n",
       "    </tr>\n",
       "    <tr>\n",
       "      <th>3</th>\n",
       "      <td>Hop Protocol</td>\n",
       "      <td>1,000,000.00</td>\n",
       "      <td>204,739.04</td>\n",
       "      <td>10.07</td>\n",
       "      <td>0.0180</td>\n",
       "      <td>NaN</td>\n",
       "      <td>nan</td>\n",
       "    </tr>\n",
       "    <tr>\n",
       "      <th>4</th>\n",
       "      <td>Uniswap</td>\n",
       "      <td>1,000,000.00</td>\n",
       "      <td>799,999.98</td>\n",
       "      <td>7.13</td>\n",
       "      <td>0.0033</td>\n",
       "      <td>NaN</td>\n",
       "      <td>nan</td>\n",
       "    </tr>\n",
       "    <tr>\n",
       "      <th>5</th>\n",
       "      <td>Aave</td>\n",
       "      <td>5,000,000.00</td>\n",
       "      <td>4,826,838.88</td>\n",
       "      <td>4.77</td>\n",
       "      <td>0.0004</td>\n",
       "      <td>8.58</td>\n",
       "      <td>0.0006</td>\n",
       "    </tr>\n",
       "    <tr>\n",
       "      <th>6</th>\n",
       "      <td>Beethoven X</td>\n",
       "      <td>500,000.00</td>\n",
       "      <td>262,691.59</td>\n",
       "      <td>4.57</td>\n",
       "      <td>0.0063</td>\n",
       "      <td>NaN</td>\n",
       "      <td>nan</td>\n",
       "    </tr>\n",
       "    <tr>\n",
       "      <th>7</th>\n",
       "      <td>Rubicon</td>\n",
       "      <td>900,000.00</td>\n",
       "      <td>793,865.55</td>\n",
       "      <td>4.30</td>\n",
       "      <td>0.0020</td>\n",
       "      <td>6.53</td>\n",
       "      <td>0.0030</td>\n",
       "    </tr>\n",
       "    <tr>\n",
       "      <th>8</th>\n",
       "      <td>Rabbithole</td>\n",
       "      <td>248,500.00</td>\n",
       "      <td>84,100.00</td>\n",
       "      <td>3.68</td>\n",
       "      <td>0.0160</td>\n",
       "      <td>NaN</td>\n",
       "      <td>nan</td>\n",
       "    </tr>\n",
       "    <tr>\n",
       "      <th>9</th>\n",
       "      <td>Yearn</td>\n",
       "      <td>1,000,000.00</td>\n",
       "      <td>300,000.00</td>\n",
       "      <td>3.61</td>\n",
       "      <td>0.0044</td>\n",
       "      <td>NaN</td>\n",
       "      <td>nan</td>\n",
       "    </tr>\n",
       "  </tbody>\n",
       "</table>\n",
       "</div>"
      ],
      "text/plain": [
       "         app_name_a  # OP Allocated  op_deployed  \\\n",
       "0         Synthetix    9,000,000.00 4,469,188.41   \n",
       "1         Velodrome    7,000,000.00 6,654,359.99   \n",
       "2  Stargate Finance    1,000,000.00   619,725.73   \n",
       "3      Hop Protocol    1,000,000.00   204,739.04   \n",
       "4           Uniswap    1,000,000.00   799,999.98   \n",
       "5              Aave    5,000,000.00 4,826,838.88   \n",
       "6       Beethoven X      500,000.00   262,691.59   \n",
       "7           Rubicon      900,000.00   793,865.55   \n",
       "8        Rabbithole      248,500.00    84,100.00   \n",
       "9             Yearn    1,000,000.00   300,000.00   \n",
       "\n",
       "   incremental_gas_fee_eth_per_day incremental_gas_fee_eth_annualized_per_op  \\\n",
       "0                            54.70                                    0.0045   \n",
       "1                            23.97                                    0.0013   \n",
       "2                            17.98                                    0.0106   \n",
       "3                            10.07                                    0.0180   \n",
       "4                             7.13                                    0.0033   \n",
       "5                             4.77                                    0.0004   \n",
       "6                             4.57                                    0.0063   \n",
       "7                             4.30                                    0.0020   \n",
       "8                             3.68                                    0.0160   \n",
       "9                             3.61                                    0.0044   \n",
       "\n",
       "   incremental_gas_fee_eth_per_day_after  \\\n",
       "0                                    NaN   \n",
       "1                                    NaN   \n",
       "2                                    NaN   \n",
       "3                                    NaN   \n",
       "4                                    NaN   \n",
       "5                                   8.58   \n",
       "6                                    NaN   \n",
       "7                                   6.53   \n",
       "8                                    NaN   \n",
       "9                                    NaN   \n",
       "\n",
       "  incremental_gas_fee_eth_after_annualized_per_op  \n",
       "0                                             nan  \n",
       "1                                             nan  \n",
       "2                                             nan  \n",
       "3                                             nan  \n",
       "4                                             nan  \n",
       "5                                          0.0006  \n",
       "6                                             nan  \n",
       "7                                          0.0030  \n",
       "8                                             nan  \n",
       "9                                             nan  "
      ]
     },
     "metadata": {},
     "output_type": "display_data"
    },
    {
     "data": {
      "text/html": [
       "<div>\n",
       "<style scoped>\n",
       "    .dataframe tbody tr th:only-of-type {\n",
       "        vertical-align: middle;\n",
       "    }\n",
       "\n",
       "    .dataframe tbody tr th {\n",
       "        vertical-align: top;\n",
       "    }\n",
       "\n",
       "    .dataframe thead th {\n",
       "        text-align: right;\n",
       "    }\n",
       "</style>\n",
       "<table border=\"1\" class=\"dataframe\">\n",
       "  <thead>\n",
       "    <tr style=\"text-align: right;\">\n",
       "      <th></th>\n",
       "      <th>app_name_a</th>\n",
       "      <th># OP Allocated</th>\n",
       "      <th>op_deployed</th>\n",
       "      <th>incremental_gas_fee_eth_per_day</th>\n",
       "      <th>incremental_gas_fee_eth_annualized_per_op</th>\n",
       "      <th>incremental_gas_fee_eth_per_day_after</th>\n",
       "      <th>incremental_gas_fee_eth_after_annualized_per_op</th>\n",
       "    </tr>\n",
       "  </thead>\n",
       "  <tbody>\n",
       "    <tr>\n",
       "      <th>0</th>\n",
       "      <td>Rubicon</td>\n",
       "      <td>900,000.00</td>\n",
       "      <td>793,865.55</td>\n",
       "      <td>4.30</td>\n",
       "      <td>0.0020</td>\n",
       "      <td>6.53</td>\n",
       "      <td>0.0030</td>\n",
       "    </tr>\n",
       "    <tr>\n",
       "      <th>1</th>\n",
       "      <td>Aave</td>\n",
       "      <td>5,000,000.00</td>\n",
       "      <td>4,826,838.88</td>\n",
       "      <td>4.77</td>\n",
       "      <td>0.0004</td>\n",
       "      <td>8.58</td>\n",
       "      <td>0.0006</td>\n",
       "    </tr>\n",
       "    <tr>\n",
       "      <th>2</th>\n",
       "      <td>WePiggy</td>\n",
       "      <td>300,000.00</td>\n",
       "      <td>300,009.76</td>\n",
       "      <td>0.08</td>\n",
       "      <td>0.0001</td>\n",
       "      <td>0.09</td>\n",
       "      <td>0.0001</td>\n",
       "    </tr>\n",
       "    <tr>\n",
       "      <th>3</th>\n",
       "      <td>Revert Finance</td>\n",
       "      <td>240,000.00</td>\n",
       "      <td>240,838.05</td>\n",
       "      <td>0.06</td>\n",
       "      <td>0.0001</td>\n",
       "      <td>0.05</td>\n",
       "      <td>0.0001</td>\n",
       "    </tr>\n",
       "    <tr>\n",
       "      <th>4</th>\n",
       "      <td>XToken</td>\n",
       "      <td>900,000.00</td>\n",
       "      <td>1,009,841.31</td>\n",
       "      <td>0.01</td>\n",
       "      <td>0.0000</td>\n",
       "      <td>0.00</td>\n",
       "      <td>0.0000</td>\n",
       "    </tr>\n",
       "    <tr>\n",
       "      <th>5</th>\n",
       "      <td>Gamma</td>\n",
       "      <td>1,000,000.00</td>\n",
       "      <td>0.00</td>\n",
       "      <td>1.01</td>\n",
       "      <td>inf</td>\n",
       "      <td>-0.08</td>\n",
       "      <td>-inf</td>\n",
       "    </tr>\n",
       "    <tr>\n",
       "      <th>6</th>\n",
       "      <td>Arrakis Finance</td>\n",
       "      <td>1,000,000.00</td>\n",
       "      <td>204,170.06</td>\n",
       "      <td>-0.17</td>\n",
       "      <td>-0.0003</td>\n",
       "      <td>-0.55</td>\n",
       "      <td>-0.0010</td>\n",
       "    </tr>\n",
       "    <tr>\n",
       "      <th>7</th>\n",
       "      <td>1inch</td>\n",
       "      <td>300,000.00</td>\n",
       "      <td>300,000.00</td>\n",
       "      <td>2.74</td>\n",
       "      <td>0.0033</td>\n",
       "      <td>-0.03</td>\n",
       "      <td>-0.0000</td>\n",
       "    </tr>\n",
       "    <tr>\n",
       "      <th>8</th>\n",
       "      <td>Aelin</td>\n",
       "      <td>900,000.00</td>\n",
       "      <td>900,001.00</td>\n",
       "      <td>0.03</td>\n",
       "      <td>0.0000</td>\n",
       "      <td>-0.04</td>\n",
       "      <td>-0.0000</td>\n",
       "    </tr>\n",
       "    <tr>\n",
       "      <th>9</th>\n",
       "      <td>PoolTogether</td>\n",
       "      <td>1,000,000.00</td>\n",
       "      <td>897,039.00</td>\n",
       "      <td>0.11</td>\n",
       "      <td>0.0000</td>\n",
       "      <td>-0.06</td>\n",
       "      <td>-0.0000</td>\n",
       "    </tr>\n",
       "  </tbody>\n",
       "</table>\n",
       "</div>"
      ],
      "text/plain": [
       "        app_name_a  # OP Allocated  op_deployed  \\\n",
       "0          Rubicon      900,000.00   793,865.55   \n",
       "1             Aave    5,000,000.00 4,826,838.88   \n",
       "2          WePiggy      300,000.00   300,009.76   \n",
       "3   Revert Finance      240,000.00   240,838.05   \n",
       "4           XToken      900,000.00 1,009,841.31   \n",
       "5            Gamma    1,000,000.00         0.00   \n",
       "6  Arrakis Finance    1,000,000.00   204,170.06   \n",
       "7            1inch      300,000.00   300,000.00   \n",
       "8            Aelin      900,000.00   900,001.00   \n",
       "9     PoolTogether    1,000,000.00   897,039.00   \n",
       "\n",
       "   incremental_gas_fee_eth_per_day incremental_gas_fee_eth_annualized_per_op  \\\n",
       "0                             4.30                                    0.0020   \n",
       "1                             4.77                                    0.0004   \n",
       "2                             0.08                                    0.0001   \n",
       "3                             0.06                                    0.0001   \n",
       "4                             0.01                                    0.0000   \n",
       "5                             1.01                                       inf   \n",
       "6                            -0.17                                   -0.0003   \n",
       "7                             2.74                                    0.0033   \n",
       "8                             0.03                                    0.0000   \n",
       "9                             0.11                                    0.0000   \n",
       "\n",
       "   incremental_gas_fee_eth_per_day_after  \\\n",
       "0                                   6.53   \n",
       "1                                   8.58   \n",
       "2                                   0.09   \n",
       "3                                   0.05   \n",
       "4                                   0.00   \n",
       "5                                  -0.08   \n",
       "6                                  -0.55   \n",
       "7                                  -0.03   \n",
       "8                                  -0.04   \n",
       "9                                  -0.06   \n",
       "\n",
       "  incremental_gas_fee_eth_after_annualized_per_op  \n",
       "0                                          0.0030  \n",
       "1                                          0.0006  \n",
       "2                                          0.0001  \n",
       "3                                          0.0001  \n",
       "4                                          0.0000  \n",
       "5                                            -inf  \n",
       "6                                         -0.0010  \n",
       "7                                         -0.0000  \n",
       "8                                         -0.0000  \n",
       "9                                         -0.0000  "
      ]
     },
     "metadata": {},
     "output_type": "display_data"
    }
   ],
   "source": [
    "# sort by gas\n",
    "gas_cols = [\n",
    "    \"app_name_a\",\n",
    "    \"# OP Allocated\",\n",
    "    \"op_deployed\",\n",
    "    \"incremental_gas_fee_eth_per_day\",\n",
    "    \"incremental_gas_fee_eth_annualized_per_op\",\n",
    "    \"incremental_gas_fee_eth_per_day_after\",\n",
    "    \"incremental_gas_fee_eth_after_annualized_per_op\",\n",
    "]\n",
    "\n",
    "result_app.loc[\n",
    "    :, result_app.columns.str.contains(\"annualized_per_op\")\n",
    "] = result_app.loc[:, result_app.columns.str.contains(\"annualized_per_op\")].applymap(\n",
    "    \"{:.4f}\".format\n",
    ")\n",
    "\n",
    "display(\n",
    "    result_app[gas_cols]\n",
    "    .sort_values(\"incremental_gas_fee_eth_per_day\", ascending=False)\n",
    "    .reset_index(drop=True)\n",
    "    .head(10)\n",
    ")\n",
    "\n",
    "display(\n",
    "    result_app[gas_cols]\n",
    "    .sort_values(\"incremental_gas_fee_eth_after_annualized_per_op\", ascending=False)\n",
    "    .dropna()\n",
    "    .reset_index(drop=True)\n",
    "    .head(10)\n",
    ")"
   ]
  },
  {
   "attachments": {},
   "cell_type": "markdown",
   "metadata": {},
   "source": [
    "### By Fund Source"
   ]
  },
  {
   "cell_type": "code",
   "execution_count": 14,
   "metadata": {},
   "outputs": [],
   "source": [
    "agg_dict = {\n",
    "    \"# OP Allocated\": \"sum\",\n",
    "    \"net_op_deployed\": \"sum\",\n",
    "    # \"incremental_addr_per_day\": \"sum\",\n",
    "    \"incremental_txs_per_day\": \"sum\",\n",
    "    \"incremental_gas_fee_eth_per_day\": \"sum\",\n",
    "    \"incremental_txs_per_day_after\": \"sum\",\n",
    "    # \"incremental_addr_per_day_after\": \"sum\",\n",
    "    \"incremental_gas_fee_eth_per_day_after\": \"sum\",\n",
    "    \"cumul_last_price_net_dollar_flow\": \"sum\",\n",
    "    \"cumul_last_price_net_dollar_flow_at_program_end\": \"sum\",\n",
    "}"
   ]
  },
  {
   "cell_type": "code",
   "execution_count": 15,
   "metadata": {},
   "outputs": [
    {
     "data": {
      "text/html": [
       "<div>\n",
       "<style scoped>\n",
       "    .dataframe tbody tr th:only-of-type {\n",
       "        vertical-align: middle;\n",
       "    }\n",
       "\n",
       "    .dataframe tbody tr th {\n",
       "        vertical-align: top;\n",
       "    }\n",
       "\n",
       "    .dataframe thead th {\n",
       "        text-align: right;\n",
       "    }\n",
       "</style>\n",
       "<table border=\"1\" class=\"dataframe\">\n",
       "  <thead>\n",
       "    <tr style=\"text-align: right;\">\n",
       "      <th></th>\n",
       "      <th>op_source_map</th>\n",
       "      <th># OP Allocated</th>\n",
       "      <th>net_op_deployed</th>\n",
       "      <th>incremental_txs_per_day</th>\n",
       "      <th>incremental_gas_fee_eth_per_day</th>\n",
       "      <th>incremental_txs_per_day_after</th>\n",
       "      <th>incremental_gas_fee_eth_per_day_after</th>\n",
       "      <th>cumul_last_price_net_dollar_flow</th>\n",
       "      <th>cumul_last_price_net_dollar_flow_at_program_end</th>\n",
       "      <th>incremental_txs_annualized_per_op</th>\n",
       "      <th>incremental_gas_fee_eth_annualized_per_op</th>\n",
       "      <th>incremental_txs_after_annualized_per_op</th>\n",
       "      <th>incremental_gas_fee_eth_after_annualized_per_op</th>\n",
       "      <th>net_tvl_per_op</th>\n",
       "      <th>net_tvl_per_op_during</th>\n",
       "    </tr>\n",
       "  </thead>\n",
       "  <tbody>\n",
       "    <tr>\n",
       "      <th>0</th>\n",
       "      <td>Multiple</td>\n",
       "      <td>9,200,000.00</td>\n",
       "      <td>8,701,069.53</td>\n",
       "      <td>9,460.68</td>\n",
       "      <td>25.05</td>\n",
       "      <td>304.97</td>\n",
       "      <td>-0.06</td>\n",
       "      <td>253,749,464.02</td>\n",
       "      <td>283,462,997.57</td>\n",
       "      <td>0.40</td>\n",
       "      <td>0.00</td>\n",
       "      <td>0.01</td>\n",
       "      <td>-0.00</td>\n",
       "      <td>29.16</td>\n",
       "      <td>32.58</td>\n",
       "    </tr>\n",
       "    <tr>\n",
       "      <th>1</th>\n",
       "      <td>Partner Fund</td>\n",
       "      <td>8,100,000.00</td>\n",
       "      <td>5,252,217.28</td>\n",
       "      <td>3,809.26</td>\n",
       "      <td>7.04</td>\n",
       "      <td>4,786.52</td>\n",
       "      <td>7.94</td>\n",
       "      <td>107,846,070.58</td>\n",
       "      <td>372,485,814.23</td>\n",
       "      <td>0.26</td>\n",
       "      <td>0.00</td>\n",
       "      <td>0.33</td>\n",
       "      <td>0.00</td>\n",
       "      <td>20.53</td>\n",
       "      <td>70.92</td>\n",
       "    </tr>\n",
       "    <tr>\n",
       "      <th>2</th>\n",
       "      <td>Phase 0</td>\n",
       "      <td>31,000,000.00</td>\n",
       "      <td>19,430,026.03</td>\n",
       "      <td>12,897.07</td>\n",
       "      <td>92.07</td>\n",
       "      <td>1,981.04</td>\n",
       "      <td>6.55</td>\n",
       "      <td>79,854,886.19</td>\n",
       "      <td>150,307,941.55</td>\n",
       "      <td>0.24</td>\n",
       "      <td>0.00</td>\n",
       "      <td>0.04</td>\n",
       "      <td>0.00</td>\n",
       "      <td>4.11</td>\n",
       "      <td>7.74</td>\n",
       "    </tr>\n",
       "    <tr>\n",
       "      <th>3</th>\n",
       "      <td>Season 1</td>\n",
       "      <td>4,900,000.00</td>\n",
       "      <td>3,009,362.39</td>\n",
       "      <td>2,338.64</td>\n",
       "      <td>10.40</td>\n",
       "      <td>3.43</td>\n",
       "      <td>0.00</td>\n",
       "      <td>101,033,351.13</td>\n",
       "      <td>105,889,726.35</td>\n",
       "      <td>0.28</td>\n",
       "      <td>0.00</td>\n",
       "      <td>0.00</td>\n",
       "      <td>0.00</td>\n",
       "      <td>33.57</td>\n",
       "      <td>35.19</td>\n",
       "    </tr>\n",
       "    <tr>\n",
       "      <th>4</th>\n",
       "      <td>Season 2</td>\n",
       "      <td>3,464,069.00</td>\n",
       "      <td>1,688,889.73</td>\n",
       "      <td>1,763.71</td>\n",
       "      <td>4.28</td>\n",
       "      <td>115.65</td>\n",
       "      <td>0.05</td>\n",
       "      <td>32,521,843.49</td>\n",
       "      <td>35,926,315.93</td>\n",
       "      <td>0.38</td>\n",
       "      <td>0.00</td>\n",
       "      <td>0.02</td>\n",
       "      <td>0.00</td>\n",
       "      <td>19.26</td>\n",
       "      <td>21.27</td>\n",
       "    </tr>\n",
       "    <tr>\n",
       "      <th>5</th>\n",
       "      <td>Season 3</td>\n",
       "      <td>268,500.00</td>\n",
       "      <td>105,588.50</td>\n",
       "      <td>6,395.58</td>\n",
       "      <td>3.68</td>\n",
       "      <td>0.00</td>\n",
       "      <td>0.00</td>\n",
       "      <td>0.00</td>\n",
       "      <td>0.00</td>\n",
       "      <td>22.11</td>\n",
       "      <td>0.01</td>\n",
       "      <td>0.00</td>\n",
       "      <td>0.00</td>\n",
       "      <td>0.00</td>\n",
       "      <td>0.00</td>\n",
       "    </tr>\n",
       "  </tbody>\n",
       "</table>\n",
       "</div>"
      ],
      "text/plain": [
       "  op_source_map  # OP Allocated  net_op_deployed  incremental_txs_per_day  \\\n",
       "0      Multiple    9,200,000.00     8,701,069.53                 9,460.68   \n",
       "1  Partner Fund    8,100,000.00     5,252,217.28                 3,809.26   \n",
       "2       Phase 0   31,000,000.00    19,430,026.03                12,897.07   \n",
       "3      Season 1    4,900,000.00     3,009,362.39                 2,338.64   \n",
       "4      Season 2    3,464,069.00     1,688,889.73                 1,763.71   \n",
       "5      Season 3      268,500.00       105,588.50                 6,395.58   \n",
       "\n",
       "   incremental_gas_fee_eth_per_day  incremental_txs_per_day_after  \\\n",
       "0                            25.05                         304.97   \n",
       "1                             7.04                       4,786.52   \n",
       "2                            92.07                       1,981.04   \n",
       "3                            10.40                           3.43   \n",
       "4                             4.28                         115.65   \n",
       "5                             3.68                           0.00   \n",
       "\n",
       "   incremental_gas_fee_eth_per_day_after  cumul_last_price_net_dollar_flow  \\\n",
       "0                                  -0.06                    253,749,464.02   \n",
       "1                                   7.94                    107,846,070.58   \n",
       "2                                   6.55                     79,854,886.19   \n",
       "3                                   0.00                    101,033,351.13   \n",
       "4                                   0.05                     32,521,843.49   \n",
       "5                                   0.00                              0.00   \n",
       "\n",
       "   cumul_last_price_net_dollar_flow_at_program_end  \\\n",
       "0                                   283,462,997.57   \n",
       "1                                   372,485,814.23   \n",
       "2                                   150,307,941.55   \n",
       "3                                   105,889,726.35   \n",
       "4                                    35,926,315.93   \n",
       "5                                             0.00   \n",
       "\n",
       "   incremental_txs_annualized_per_op  \\\n",
       "0                               0.40   \n",
       "1                               0.26   \n",
       "2                               0.24   \n",
       "3                               0.28   \n",
       "4                               0.38   \n",
       "5                              22.11   \n",
       "\n",
       "   incremental_gas_fee_eth_annualized_per_op  \\\n",
       "0                                       0.00   \n",
       "1                                       0.00   \n",
       "2                                       0.00   \n",
       "3                                       0.00   \n",
       "4                                       0.00   \n",
       "5                                       0.01   \n",
       "\n",
       "   incremental_txs_after_annualized_per_op  \\\n",
       "0                                     0.01   \n",
       "1                                     0.33   \n",
       "2                                     0.04   \n",
       "3                                     0.00   \n",
       "4                                     0.02   \n",
       "5                                     0.00   \n",
       "\n",
       "   incremental_gas_fee_eth_after_annualized_per_op  net_tvl_per_op  \\\n",
       "0                                            -0.00           29.16   \n",
       "1                                             0.00           20.53   \n",
       "2                                             0.00            4.11   \n",
       "3                                             0.00           33.57   \n",
       "4                                             0.00           19.26   \n",
       "5                                             0.00            0.00   \n",
       "\n",
       "   net_tvl_per_op_during  \n",
       "0                  32.58  \n",
       "1                  70.92  \n",
       "2                   7.74  \n",
       "3                  35.19  \n",
       "4                  21.27  \n",
       "5                   0.00  "
      ]
     },
     "metadata": {},
     "output_type": "display_data"
    }
   ],
   "source": [
    "result_app[\"op_source_length\"] = result_app[\"op_source\"].str.split(\",\").apply(len)\n",
    "result_app[\"op_source_map\"] = np.where(\n",
    "    result_app[\"op_source_length\"] > 1, [\"Multiple\"], result_app[\"op_source\"]\n",
    ")\n",
    "\n",
    "result_source = result_app.groupby(\"op_source_map\").agg(agg_dict)\n",
    "\n",
    "# calculate metrics\n",
    "result_source = calculate_metrics(\n",
    "    result_source, op=\"net_op_deployed\"\n",
    ")  # use net to avoid double counting\n",
    "result_source = result_source.reset_index()\n",
    "result_source[\"op_source_map\"] = result_source[\"op_source_map\"].apply(\n",
    "    lambda x: remove_brackets(x)\n",
    ")\n",
    "result_source.sort_values(\"op_source_map\").reset_index()\n",
    "\n",
    "display(result_source)"
   ]
  },
  {
   "cell_type": "markdown",
   "metadata": {},
   "source": []
  },
  {
   "cell_type": "code",
   "execution_count": 16,
   "metadata": {},
   "outputs": [],
   "source": [
    "# convert results to csv\n",
    "result_app.to_csv(\"csv_outputs/final_incentive_program_summary_by_app.csv\")"
   ]
  },
  {
   "attachments": {},
   "cell_type": "markdown",
   "metadata": {},
   "source": [
    "### Benchmark"
   ]
  },
  {
   "cell_type": "code",
   "execution_count": 17,
   "metadata": {},
   "outputs": [],
   "source": [
    "def plot_benchmark(\n",
    "    df,\n",
    "    layout_settings,\n",
    "    x=\"incremental_txs_per_day\",\n",
    "    y=\"incremental_txs_annualized_per_op\",\n",
    "    size=\"op_deployed\",\n",
    "):\n",
    "    fig = px.scatter(\n",
    "        df,\n",
    "        x=x,\n",
    "        y=y,\n",
    "        size=size,\n",
    "        hover_name=\"app_name_a\",\n",
    "        color=\"op_source_map\",\n",
    "    )\n",
    "\n",
    "    # calculate percentiles for incremental_txs_annualized_per_op\n",
    "    p25 = df[y].quantile(0.25)\n",
    "    p50 = df[y].quantile(0.50)\n",
    "    p75 = df[y].quantile(0.75)\n",
    "\n",
    "    x_range = [df[x].min(), df[x].max()]\n",
    "\n",
    "    # add vertical lines for percentiles\n",
    "    fig.add_trace(\n",
    "        go.Scatter(x=x_range, y=[p25, p25], mode=\"lines\", name=\"25th percentile\")\n",
    "    )\n",
    "    fig.add_trace(\n",
    "        go.Scatter(x=x_range, y=[p50, p50], mode=\"lines\", name=\"50th percentile\")\n",
    "    )\n",
    "    fig.add_trace(\n",
    "        go.Scatter(x=x_range, y=[p75, p75], mode=\"lines\", name=\"75th percentile\")\n",
    "    )\n",
    "\n",
    "    fig.update_layout(layout_settings)\n",
    "\n",
    "    fig.write_image(prepend + f\"img_outputs/benchmark/svg/{y}.svg\")\n",
    "    fig.write_image(prepend + f\"img_outputs/benchmark/png/{y}.png\")\n",
    "    fig.write_html(\n",
    "        prepend + f\"img_outputs/benchmark/html/{y}.html\", include_plotlyjs=\"cdn\"\n",
    "    )\n",
    "\n",
    "    fig.show()\n",
    "\n",
    "\n",
    "def cleanup_data(\n",
    "    df=result_app,\n",
    "    subset=[\n",
    "        \"op_deployed\",\n",
    "        \"incremental_txs_annualized_per_op\",\n",
    "        \"incremental_txs_per_day\",\n",
    "    ],\n",
    "    excl_partnerfund=False,\n",
    "):\n",
    "    df = result_app.dropna(subset=subset)\n",
    "    df = df.replace([np.inf, -np.inf], np.nan).dropna(\n",
    "        subset=subset\n",
    "    )  # remove rows with infinity values\n",
    "\n",
    "    if excl_partnerfund:\n",
    "        # drop anything with Partner Fund from df\n",
    "        df = df[~df[\"op_source\"].str.contains(\"Partner Fund\")]\n",
    "\n",
    "    df[subset] = df[subset].apply(pd.to_numeric, errors=\"coerce\")\n",
    "\n",
    "    return df"
   ]
  },
  {
   "attachments": {},
   "cell_type": "markdown",
   "metadata": {},
   "source": [
    "### Transactions Benchmark"
   ]
  },
  {
   "cell_type": "code",
   "execution_count": 18,
   "metadata": {},
   "outputs": [
    {
     "data": {
      "application/vnd.plotly.v1+json": {
       "config": {
        "plotlyServerURL": "https://plot.ly"
       },
       "data": [
        {
         "hovertemplate": "<b>%{hovertext}</b><br><br>op_source_map=Multiple<br>incremental_txs_per_day=%{x}<br>incremental_txs_annualized_per_op=%{y}<br>op_deployed=%{marker.size}<extra></extra>",
         "hovertext": [
          "Velodrome",
          "Thales",
          "PoolTogether"
         ],
         "legendgroup": "Multiple",
         "marker": {
          "color": "#636efa",
          "size": [
           6654359.994495694,
           1241235.3491625811,
           897039
          ],
          "sizemode": "area",
          "sizeref": 16635.899986239234,
          "symbol": "circle"
         },
         "mode": "markers",
         "name": "Multiple",
         "orientation": "v",
         "showlegend": true,
         "type": "scatter",
         "x": [
          6894.451515151515,
          756.3369918699186,
          1809.888
         ],
         "xaxis": "x",
         "y": [
          0.3782,
          0.2224,
          0.7364
         ],
         "yaxis": "y"
        },
        {
         "hovertemplate": "<b>%{hovertext}</b><br><br>op_source_map=['Phase 0']<br>incremental_txs_per_day=%{x}<br>incremental_txs_annualized_per_op=%{y}<br>op_deployed=%{marker.size}<extra></extra>",
         "hovertext": [
          "Perpetual Protocol",
          "Rubicon",
          "Layer2DAO",
          "Stargate Finance",
          "Lyra",
          "WePiggy",
          "Kwenta",
          "Celer",
          "Slingshot",
          "Synthetix",
          "Pika Protocol",
          "1inch",
          "Aelin",
          "Polynomial Protocol",
          "Hop Protocol",
          "Uniswap",
          "Clipper"
         ],
         "legendgroup": "['Phase 0']",
         "marker": {
          "color": "#EF553B",
          "size": [
           6514184.773350602,
           793865.5450721123,
           699715.9991505251,
           619725.73,
           1613480.87644014,
           300009.75730703503,
           911571,
           220001,
           134336,
           4469188.410052238,
           776728,
           300000,
           900001.0000000003,
           378642.4181382602,
           204739.0403595078,
           799999.98,
           177934
          ],
          "sizemode": "area",
          "sizeref": 16635.899986239234,
          "symbol": "circle"
         },
         "mode": "markers",
         "name": "['Phase 0']",
         "orientation": "v",
         "showlegend": true,
         "type": "scatter",
         "x": [
          -11168.09311043566,
          4110.26224328594,
          13.472916666666668,
          6588.477706323687,
          4.432258064516127,
          39.352482269503554,
          1219.164459161148,
          163.8876254180602,
          843.5558922558921,
          3403.0444831591176,
          3478.440753828033,
          2100.5,
          7.833333333333334,
          582.8734082397004,
          2431.9223938223936,
          1081.539500734214,
          -2003.595588235294
         ],
         "xaxis": "x",
         "y": [
          -0.6258,
          1.8898,
          0.007,
          3.8804,
          0.001,
          0.0479,
          0.4882,
          0.2719,
          2.292,
          0.2779,
          1.6346,
          2.5556,
          0.0032,
          0.5619,
          4.3355,
          0.4935,
          -4.11
         ],
         "yaxis": "y"
        },
        {
         "hovertemplate": "<b>%{hovertext}</b><br><br>op_source_map=['Partner Fund']<br>incremental_txs_per_day=%{x}<br>incremental_txs_annualized_per_op=%{y}<br>op_deployed=%{marker.size}<extra></extra>",
         "hovertext": [
          "Aave",
          "Arrakis Finance",
          "Gamma",
          "Lido",
          "Quests on Coinbase Wallet"
         ],
         "legendgroup": "['Partner Fund']",
         "marker": {
          "color": "#00cc96",
          "size": [
           4826838.879736136,
           204170.06,
           0,
           124875,
           0
          ],
          "sizemode": "area",
          "sizeref": 16635.899986239234,
          "symbol": "circle"
         },
         "mode": "markers",
         "name": "['Partner Fund']",
         "orientation": "v",
         "showlegend": true,
         "type": "scatter",
         "x": [
          3122.789247311828,
          4.373160173160173,
          111.58920187793429,
          -23.73763440860216,
          594.2416666666667
         ],
         "xaxis": "x",
         "y": [
          0.2361,
          0.0078,
          null,
          -0.0694,
          null
         ],
         "yaxis": "y"
        },
        {
         "hovertemplate": "<b>%{hovertext}</b><br><br>op_source_map=['Season 1']<br>incremental_txs_per_day=%{x}<br>incremental_txs_annualized_per_op=%{y}<br>op_deployed=%{marker.size}<extra></extra>",
         "hovertext": [
          "Pickle Finance",
          "Beefy Finance",
          "XToken",
          "Beethoven X",
          "Hundred Finance",
          "dForce",
          "WardenSwap",
          "Mean Finance",
          "QiDao"
         ],
         "legendgroup": "['Season 1']",
         "marker": {
          "color": "#ab63fa",
          "size": [
           92600,
           363961.6725694471,
           1009841.3081865922,
           262691.58999999997,
           161322.5,
           592063.7610960284,
           10000,
           34645.02853434354,
           397118.190853169
          ],
          "sizemode": "area",
          "sizeref": 16635.899986239234,
          "symbol": "circle"
         },
         "mode": "markers",
         "name": "['Season 1']",
         "orientation": "v",
         "showlegend": true,
         "type": "scatter",
         "x": [
          68.13088235294119,
          -148.3141791044776,
          17.84057971014493,
          1702.7563492063491,
          53.93229166666666,
          -5.150877192982449,
          -6.967567567567567,
          6.5,
          649.9170163170163
         ],
         "xaxis": "x",
         "y": [
          0.2686,
          -0.1487,
          0.0064,
          2.3659,
          0.122,
          -0.0032,
          -0.2543,
          0.0685,
          0.5974
         ],
         "yaxis": "y"
        },
        {
         "hovertemplate": "<b>%{hovertext}</b><br><br>op_source_map=['Season 2']<br>incremental_txs_per_day=%{x}<br>incremental_txs_annualized_per_op=%{y}<br>op_deployed=%{marker.size}<extra></extra>",
         "hovertext": [
          "OptiChads",
          "Revert Finance",
          "dHedge",
          "Alchemix",
          "Rainbow",
          "Sushi",
          "Yearn"
         ],
         "legendgroup": "['Season 2']",
         "marker": {
          "color": "#FFA15A",
          "size": [
           62925.43506991356,
           240838.05391830354,
           380943.42300236726,
           36929.8792897358,
           114908.45974050317,
           49999.99999999999,
           300000
          ],
          "sizemode": "area",
          "sizeref": 16635.899986239234,
          "symbol": "circle"
         },
         "mode": "markers",
         "name": "['Season 2']",
         "orientation": "v",
         "showlegend": true,
         "type": "scatter",
         "x": [
          -8.68095238095238,
          217.58387096774197,
          109.32721893491124,
          6.722595078299777,
          108.58840579710144,
          642.4237113402062,
          687.7428571428571
         ],
         "xaxis": "x",
         "y": [
          -0.0504,
          0.3298,
          0.1048,
          0.0664,
          0.3449,
          4.6897,
          0.8368
         ],
         "yaxis": "y"
        },
        {
         "hovertemplate": "<b>%{hovertext}</b><br><br>op_source_map=['Season 3']<br>incremental_txs_per_day=%{x}<br>incremental_txs_annualized_per_op=%{y}<br>op_deployed=%{marker.size}<extra></extra>",
         "hovertext": [
          "Geo Web",
          "Rabbithole"
         ],
         "legendgroup": "['Season 3']",
         "marker": {
          "color": "#19d3f3",
          "size": [
           21488.5,
           84099.99999999999
          ],
          "sizemode": "area",
          "sizeref": 16635.899986239234,
          "symbol": "circle"
         },
         "mode": "markers",
         "name": "['Season 3']",
         "orientation": "v",
         "showlegend": true,
         "type": "scatter",
         "x": [
          5.395104895104895,
          6390.1833333333325
         ],
         "xaxis": "x",
         "y": [
          0.0916,
          27.7339
         ],
         "yaxis": "y"
        },
        {
         "mode": "lines",
         "name": "25th percentile",
         "type": "scatter",
         "x": [
          -11168.09311043566,
          6894.451515151515
         ],
         "y": [
          0.0074,
          0.0074
         ]
        },
        {
         "mode": "lines",
         "name": "50th percentile",
         "type": "scatter",
         "x": [
          -11168.09311043566,
          6894.451515151515
         ],
         "y": [
          0.2719,
          0.2719
         ]
        },
        {
         "mode": "lines",
         "name": "75th percentile",
         "type": "scatter",
         "x": [
          -11168.09311043566,
          6894.451515151515
         ],
         "y": [
          1.2357,
          1.2357
         ]
        }
       ],
       "layout": {
        "legend": {
         "itemsizing": "constant",
         "title": {
          "text": "Op Source"
         },
         "tracegroupgap": 0
        },
        "margin": {
         "t": 60
        },
        "template": {
         "data": {
          "bar": [
           {
            "error_x": {
             "color": "#2a3f5f"
            },
            "error_y": {
             "color": "#2a3f5f"
            },
            "marker": {
             "line": {
              "color": "#E5ECF6",
              "width": 0.5
             },
             "pattern": {
              "fillmode": "overlay",
              "size": 10,
              "solidity": 0.2
             }
            },
            "type": "bar"
           }
          ],
          "barpolar": [
           {
            "marker": {
             "line": {
              "color": "#E5ECF6",
              "width": 0.5
             },
             "pattern": {
              "fillmode": "overlay",
              "size": 10,
              "solidity": 0.2
             }
            },
            "type": "barpolar"
           }
          ],
          "carpet": [
           {
            "aaxis": {
             "endlinecolor": "#2a3f5f",
             "gridcolor": "white",
             "linecolor": "white",
             "minorgridcolor": "white",
             "startlinecolor": "#2a3f5f"
            },
            "baxis": {
             "endlinecolor": "#2a3f5f",
             "gridcolor": "white",
             "linecolor": "white",
             "minorgridcolor": "white",
             "startlinecolor": "#2a3f5f"
            },
            "type": "carpet"
           }
          ],
          "choropleth": [
           {
            "colorbar": {
             "outlinewidth": 0,
             "ticks": ""
            },
            "type": "choropleth"
           }
          ],
          "contour": [
           {
            "colorbar": {
             "outlinewidth": 0,
             "ticks": ""
            },
            "colorscale": [
             [
              0,
              "#0d0887"
             ],
             [
              0.1111111111111111,
              "#46039f"
             ],
             [
              0.2222222222222222,
              "#7201a8"
             ],
             [
              0.3333333333333333,
              "#9c179e"
             ],
             [
              0.4444444444444444,
              "#bd3786"
             ],
             [
              0.5555555555555556,
              "#d8576b"
             ],
             [
              0.6666666666666666,
              "#ed7953"
             ],
             [
              0.7777777777777778,
              "#fb9f3a"
             ],
             [
              0.8888888888888888,
              "#fdca26"
             ],
             [
              1,
              "#f0f921"
             ]
            ],
            "type": "contour"
           }
          ],
          "contourcarpet": [
           {
            "colorbar": {
             "outlinewidth": 0,
             "ticks": ""
            },
            "type": "contourcarpet"
           }
          ],
          "heatmap": [
           {
            "colorbar": {
             "outlinewidth": 0,
             "ticks": ""
            },
            "colorscale": [
             [
              0,
              "#0d0887"
             ],
             [
              0.1111111111111111,
              "#46039f"
             ],
             [
              0.2222222222222222,
              "#7201a8"
             ],
             [
              0.3333333333333333,
              "#9c179e"
             ],
             [
              0.4444444444444444,
              "#bd3786"
             ],
             [
              0.5555555555555556,
              "#d8576b"
             ],
             [
              0.6666666666666666,
              "#ed7953"
             ],
             [
              0.7777777777777778,
              "#fb9f3a"
             ],
             [
              0.8888888888888888,
              "#fdca26"
             ],
             [
              1,
              "#f0f921"
             ]
            ],
            "type": "heatmap"
           }
          ],
          "heatmapgl": [
           {
            "colorbar": {
             "outlinewidth": 0,
             "ticks": ""
            },
            "colorscale": [
             [
              0,
              "#0d0887"
             ],
             [
              0.1111111111111111,
              "#46039f"
             ],
             [
              0.2222222222222222,
              "#7201a8"
             ],
             [
              0.3333333333333333,
              "#9c179e"
             ],
             [
              0.4444444444444444,
              "#bd3786"
             ],
             [
              0.5555555555555556,
              "#d8576b"
             ],
             [
              0.6666666666666666,
              "#ed7953"
             ],
             [
              0.7777777777777778,
              "#fb9f3a"
             ],
             [
              0.8888888888888888,
              "#fdca26"
             ],
             [
              1,
              "#f0f921"
             ]
            ],
            "type": "heatmapgl"
           }
          ],
          "histogram": [
           {
            "marker": {
             "pattern": {
              "fillmode": "overlay",
              "size": 10,
              "solidity": 0.2
             }
            },
            "type": "histogram"
           }
          ],
          "histogram2d": [
           {
            "colorbar": {
             "outlinewidth": 0,
             "ticks": ""
            },
            "colorscale": [
             [
              0,
              "#0d0887"
             ],
             [
              0.1111111111111111,
              "#46039f"
             ],
             [
              0.2222222222222222,
              "#7201a8"
             ],
             [
              0.3333333333333333,
              "#9c179e"
             ],
             [
              0.4444444444444444,
              "#bd3786"
             ],
             [
              0.5555555555555556,
              "#d8576b"
             ],
             [
              0.6666666666666666,
              "#ed7953"
             ],
             [
              0.7777777777777778,
              "#fb9f3a"
             ],
             [
              0.8888888888888888,
              "#fdca26"
             ],
             [
              1,
              "#f0f921"
             ]
            ],
            "type": "histogram2d"
           }
          ],
          "histogram2dcontour": [
           {
            "colorbar": {
             "outlinewidth": 0,
             "ticks": ""
            },
            "colorscale": [
             [
              0,
              "#0d0887"
             ],
             [
              0.1111111111111111,
              "#46039f"
             ],
             [
              0.2222222222222222,
              "#7201a8"
             ],
             [
              0.3333333333333333,
              "#9c179e"
             ],
             [
              0.4444444444444444,
              "#bd3786"
             ],
             [
              0.5555555555555556,
              "#d8576b"
             ],
             [
              0.6666666666666666,
              "#ed7953"
             ],
             [
              0.7777777777777778,
              "#fb9f3a"
             ],
             [
              0.8888888888888888,
              "#fdca26"
             ],
             [
              1,
              "#f0f921"
             ]
            ],
            "type": "histogram2dcontour"
           }
          ],
          "mesh3d": [
           {
            "colorbar": {
             "outlinewidth": 0,
             "ticks": ""
            },
            "type": "mesh3d"
           }
          ],
          "parcoords": [
           {
            "line": {
             "colorbar": {
              "outlinewidth": 0,
              "ticks": ""
             }
            },
            "type": "parcoords"
           }
          ],
          "pie": [
           {
            "automargin": true,
            "type": "pie"
           }
          ],
          "scatter": [
           {
            "fillpattern": {
             "fillmode": "overlay",
             "size": 10,
             "solidity": 0.2
            },
            "type": "scatter"
           }
          ],
          "scatter3d": [
           {
            "line": {
             "colorbar": {
              "outlinewidth": 0,
              "ticks": ""
             }
            },
            "marker": {
             "colorbar": {
              "outlinewidth": 0,
              "ticks": ""
             }
            },
            "type": "scatter3d"
           }
          ],
          "scattercarpet": [
           {
            "marker": {
             "colorbar": {
              "outlinewidth": 0,
              "ticks": ""
             }
            },
            "type": "scattercarpet"
           }
          ],
          "scattergeo": [
           {
            "marker": {
             "colorbar": {
              "outlinewidth": 0,
              "ticks": ""
             }
            },
            "type": "scattergeo"
           }
          ],
          "scattergl": [
           {
            "marker": {
             "colorbar": {
              "outlinewidth": 0,
              "ticks": ""
             }
            },
            "type": "scattergl"
           }
          ],
          "scattermapbox": [
           {
            "marker": {
             "colorbar": {
              "outlinewidth": 0,
              "ticks": ""
             }
            },
            "type": "scattermapbox"
           }
          ],
          "scatterpolar": [
           {
            "marker": {
             "colorbar": {
              "outlinewidth": 0,
              "ticks": ""
             }
            },
            "type": "scatterpolar"
           }
          ],
          "scatterpolargl": [
           {
            "marker": {
             "colorbar": {
              "outlinewidth": 0,
              "ticks": ""
             }
            },
            "type": "scatterpolargl"
           }
          ],
          "scatterternary": [
           {
            "marker": {
             "colorbar": {
              "outlinewidth": 0,
              "ticks": ""
             }
            },
            "type": "scatterternary"
           }
          ],
          "surface": [
           {
            "colorbar": {
             "outlinewidth": 0,
             "ticks": ""
            },
            "colorscale": [
             [
              0,
              "#0d0887"
             ],
             [
              0.1111111111111111,
              "#46039f"
             ],
             [
              0.2222222222222222,
              "#7201a8"
             ],
             [
              0.3333333333333333,
              "#9c179e"
             ],
             [
              0.4444444444444444,
              "#bd3786"
             ],
             [
              0.5555555555555556,
              "#d8576b"
             ],
             [
              0.6666666666666666,
              "#ed7953"
             ],
             [
              0.7777777777777778,
              "#fb9f3a"
             ],
             [
              0.8888888888888888,
              "#fdca26"
             ],
             [
              1,
              "#f0f921"
             ]
            ],
            "type": "surface"
           }
          ],
          "table": [
           {
            "cells": {
             "fill": {
              "color": "#EBF0F8"
             },
             "line": {
              "color": "white"
             }
            },
            "header": {
             "fill": {
              "color": "#C8D4E3"
             },
             "line": {
              "color": "white"
             }
            },
            "type": "table"
           }
          ]
         },
         "layout": {
          "annotationdefaults": {
           "arrowcolor": "#2a3f5f",
           "arrowhead": 0,
           "arrowwidth": 1
          },
          "autotypenumbers": "strict",
          "coloraxis": {
           "colorbar": {
            "outlinewidth": 0,
            "ticks": ""
           }
          },
          "colorscale": {
           "diverging": [
            [
             0,
             "#8e0152"
            ],
            [
             0.1,
             "#c51b7d"
            ],
            [
             0.2,
             "#de77ae"
            ],
            [
             0.3,
             "#f1b6da"
            ],
            [
             0.4,
             "#fde0ef"
            ],
            [
             0.5,
             "#f7f7f7"
            ],
            [
             0.6,
             "#e6f5d0"
            ],
            [
             0.7,
             "#b8e186"
            ],
            [
             0.8,
             "#7fbc41"
            ],
            [
             0.9,
             "#4d9221"
            ],
            [
             1,
             "#276419"
            ]
           ],
           "sequential": [
            [
             0,
             "#0d0887"
            ],
            [
             0.1111111111111111,
             "#46039f"
            ],
            [
             0.2222222222222222,
             "#7201a8"
            ],
            [
             0.3333333333333333,
             "#9c179e"
            ],
            [
             0.4444444444444444,
             "#bd3786"
            ],
            [
             0.5555555555555556,
             "#d8576b"
            ],
            [
             0.6666666666666666,
             "#ed7953"
            ],
            [
             0.7777777777777778,
             "#fb9f3a"
            ],
            [
             0.8888888888888888,
             "#fdca26"
            ],
            [
             1,
             "#f0f921"
            ]
           ],
           "sequentialminus": [
            [
             0,
             "#0d0887"
            ],
            [
             0.1111111111111111,
             "#46039f"
            ],
            [
             0.2222222222222222,
             "#7201a8"
            ],
            [
             0.3333333333333333,
             "#9c179e"
            ],
            [
             0.4444444444444444,
             "#bd3786"
            ],
            [
             0.5555555555555556,
             "#d8576b"
            ],
            [
             0.6666666666666666,
             "#ed7953"
            ],
            [
             0.7777777777777778,
             "#fb9f3a"
            ],
            [
             0.8888888888888888,
             "#fdca26"
            ],
            [
             1,
             "#f0f921"
            ]
           ]
          },
          "colorway": [
           "#636efa",
           "#EF553B",
           "#00cc96",
           "#ab63fa",
           "#FFA15A",
           "#19d3f3",
           "#FF6692",
           "#B6E880",
           "#FF97FF",
           "#FECB52"
          ],
          "font": {
           "color": "#2a3f5f"
          },
          "geo": {
           "bgcolor": "white",
           "lakecolor": "white",
           "landcolor": "#E5ECF6",
           "showlakes": true,
           "showland": true,
           "subunitcolor": "white"
          },
          "hoverlabel": {
           "align": "left"
          },
          "hovermode": "closest",
          "mapbox": {
           "style": "light"
          },
          "paper_bgcolor": "white",
          "plot_bgcolor": "#E5ECF6",
          "polar": {
           "angularaxis": {
            "gridcolor": "white",
            "linecolor": "white",
            "ticks": ""
           },
           "bgcolor": "#E5ECF6",
           "radialaxis": {
            "gridcolor": "white",
            "linecolor": "white",
            "ticks": ""
           }
          },
          "scene": {
           "xaxis": {
            "backgroundcolor": "#E5ECF6",
            "gridcolor": "white",
            "gridwidth": 2,
            "linecolor": "white",
            "showbackground": true,
            "ticks": "",
            "zerolinecolor": "white"
           },
           "yaxis": {
            "backgroundcolor": "#E5ECF6",
            "gridcolor": "white",
            "gridwidth": 2,
            "linecolor": "white",
            "showbackground": true,
            "ticks": "",
            "zerolinecolor": "white"
           },
           "zaxis": {
            "backgroundcolor": "#E5ECF6",
            "gridcolor": "white",
            "gridwidth": 2,
            "linecolor": "white",
            "showbackground": true,
            "ticks": "",
            "zerolinecolor": "white"
           }
          },
          "shapedefaults": {
           "line": {
            "color": "#2a3f5f"
           }
          },
          "ternary": {
           "aaxis": {
            "gridcolor": "white",
            "linecolor": "white",
            "ticks": ""
           },
           "baxis": {
            "gridcolor": "white",
            "linecolor": "white",
            "ticks": ""
           },
           "bgcolor": "#E5ECF6",
           "caxis": {
            "gridcolor": "white",
            "linecolor": "white",
            "ticks": ""
           }
          },
          "title": {
           "x": 0.05
          },
          "xaxis": {
           "automargin": true,
           "gridcolor": "white",
           "linecolor": "white",
           "ticks": "",
           "title": {
            "standoff": 15
           },
           "zerolinecolor": "white",
           "zerolinewidth": 2
          },
          "yaxis": {
           "automargin": true,
           "gridcolor": "white",
           "linecolor": "white",
           "ticks": "",
           "title": {
            "standoff": 15
           },
           "zerolinecolor": "white",
           "zerolinewidth": 2
          }
         }
        },
        "title": {
         "text": "Incremental Txs Performance Benchmark (All Programs)<br><sup>Cutoff at Program End Date (Latest Date if still Live).</sup>"
        },
        "xaxis": {
         "anchor": "y",
         "domain": [
          0,
          1
         ],
         "title": {
          "text": "Incremental Transactions per Day"
         }
        },
        "yaxis": {
         "anchor": "x",
         "domain": [
          0,
          1
         ],
         "title": {
          "text": "Annualized Incremental Transactions per OP"
         }
        }
       }
      }
     },
     "metadata": {},
     "output_type": "display_data"
    }
   ],
   "source": [
    "layout_settings = {\n",
    "    \"title\": \"Incremental Txs Performance Benchmark (All Programs)<br><sup>Cutoff at Program End Date (Latest Date if still Live).</sup>\",\n",
    "    \"xaxis_title\": \"Incremental Transactions per Day\",\n",
    "    \"yaxis_title\": \"Annualized Incremental Transactions per OP\",\n",
    "    \"legend_title\": \"Op Source\",\n",
    "}\n",
    "\n",
    "df = cleanup_data()\n",
    "\n",
    "plot_benchmark(\n",
    "    df,\n",
    "    x=\"incremental_txs_per_day\",\n",
    "    y=\"incremental_txs_annualized_per_op\",\n",
    "    size=\"op_deployed\",\n",
    "    layout_settings=layout_settings,\n",
    ")"
   ]
  },
  {
   "cell_type": "code",
   "execution_count": 19,
   "metadata": {},
   "outputs": [
    {
     "data": {
      "application/vnd.plotly.v1+json": {
       "config": {
        "plotlyServerURL": "https://plot.ly"
       },
       "data": [
        {
         "hovertemplate": "<b>%{hovertext}</b><br><br>op_source_map=['Phase 0']<br>incremental_txs_per_day_after=%{x}<br>incremental_txs_after_annualized_per_op=%{y}<br>op_deployed=%{marker.size}<extra></extra>",
         "hovertext": [
          "Rubicon",
          "WePiggy",
          "1inch",
          "Aelin"
         ],
         "legendgroup": "['Phase 0']",
         "marker": {
          "color": "#636efa",
          "size": [
           793865.5450721123,
           300009.75730703503,
           300000,
           900001.0000000003
          ],
          "sizemode": "area",
          "sizeref": 12067.09719934034,
          "symbol": "circle"
         },
         "mode": "markers",
         "name": "['Phase 0']",
         "orientation": "v",
         "showlegend": true,
         "type": "scatter",
         "x": [
          1583.816091954023,
          12.067816091954024,
          390.155172413793,
          -4.994252873563218
         ],
         "xaxis": "x",
         "y": [
          0.7282,
          0.0147,
          0.4747,
          -0.002
         ],
         "yaxis": "y"
        },
        {
         "hovertemplate": "<b>%{hovertext}</b><br><br>op_source_map=Multiple<br>incremental_txs_per_day_after=%{x}<br>incremental_txs_after_annualized_per_op=%{y}<br>op_deployed=%{marker.size}<extra></extra>",
         "hovertext": [
          "PoolTogether"
         ],
         "legendgroup": "Multiple",
         "marker": {
          "color": "#EF553B",
          "size": [
           897039
          ],
          "sizemode": "area",
          "sizeref": 12067.09719934034,
          "symbol": "circle"
         },
         "mode": "markers",
         "name": "Multiple",
         "orientation": "v",
         "showlegend": true,
         "type": "scatter",
         "x": [
          304.9655172413793
         ],
         "xaxis": "x",
         "y": [
          0.1241
         ],
         "yaxis": "y"
        },
        {
         "hovertemplate": "<b>%{hovertext}</b><br><br>op_source_map=['Partner Fund']<br>incremental_txs_per_day_after=%{x}<br>incremental_txs_after_annualized_per_op=%{y}<br>op_deployed=%{marker.size}<extra></extra>",
         "hovertext": [
          "Aave",
          "Arrakis Finance",
          "Gamma"
         ],
         "legendgroup": "['Partner Fund']",
         "marker": {
          "color": "#00cc96",
          "size": [
           4826838.879736136,
           204170.06,
           0
          ],
          "sizemode": "area",
          "sizeref": 12067.09719934034,
          "symbol": "circle"
         },
         "mode": "markers",
         "name": "['Partner Fund']",
         "orientation": "v",
         "showlegend": true,
         "type": "scatter",
         "x": [
          4744.489655172414,
          -20.9904761904762,
          63.023809523809526
         ],
         "xaxis": "x",
         "y": [
          0.3588,
          -0.0375,
          null
         ],
         "yaxis": "y"
        },
        {
         "hovertemplate": "<b>%{hovertext}</b><br><br>op_source_map=['Season 1']<br>incremental_txs_per_day_after=%{x}<br>incremental_txs_after_annualized_per_op=%{y}<br>op_deployed=%{marker.size}<extra></extra>",
         "hovertext": [
          "XToken"
         ],
         "legendgroup": "['Season 1']",
         "marker": {
          "color": "#ab63fa",
          "size": [
           1009841.3081865922
          ],
          "sizemode": "area",
          "sizeref": 12067.09719934034,
          "symbol": "circle"
         },
         "mode": "markers",
         "name": "['Season 1']",
         "orientation": "v",
         "showlegend": true,
         "type": "scatter",
         "x": [
          3.431372549019608
         ],
         "xaxis": "x",
         "y": [
          0.0012
         ],
         "yaxis": "y"
        },
        {
         "hovertemplate": "<b>%{hovertext}</b><br><br>op_source_map=['Season 2']<br>incremental_txs_per_day_after=%{x}<br>incremental_txs_after_annualized_per_op=%{y}<br>op_deployed=%{marker.size}<extra></extra>",
         "hovertext": [
          "Revert Finance"
         ],
         "legendgroup": "['Season 2']",
         "marker": {
          "color": "#FFA15A",
          "size": [
           240838.05391830354
          ],
          "sizemode": "area",
          "sizeref": 12067.09719934034,
          "symbol": "circle"
         },
         "mode": "markers",
         "name": "['Season 2']",
         "orientation": "v",
         "showlegend": true,
         "type": "scatter",
         "x": [
          115.65172413793104
         ],
         "xaxis": "x",
         "y": [
          0.1753
         ],
         "yaxis": "y"
        },
        {
         "mode": "lines",
         "name": "25th percentile",
         "type": "scatter",
         "x": [
          -20.9904761904762,
          4744.489655172414
         ],
         "y": [
          0.004575,
          0.004575
         ]
        },
        {
         "mode": "lines",
         "name": "50th percentile",
         "type": "scatter",
         "x": [
          -20.9904761904762,
          4744.489655172414
         ],
         "y": [
          0.1497,
          0.1497
         ]
        },
        {
         "mode": "lines",
         "name": "75th percentile",
         "type": "scatter",
         "x": [
          -20.9904761904762,
          4744.489655172414
         ],
         "y": [
          0.44572500000000004,
          0.44572500000000004
         ]
        }
       ],
       "layout": {
        "legend": {
         "itemsizing": "constant",
         "title": {
          "text": "Op Source"
         },
         "tracegroupgap": 0
        },
        "margin": {
         "t": 60
        },
        "template": {
         "data": {
          "bar": [
           {
            "error_x": {
             "color": "#2a3f5f"
            },
            "error_y": {
             "color": "#2a3f5f"
            },
            "marker": {
             "line": {
              "color": "#E5ECF6",
              "width": 0.5
             },
             "pattern": {
              "fillmode": "overlay",
              "size": 10,
              "solidity": 0.2
             }
            },
            "type": "bar"
           }
          ],
          "barpolar": [
           {
            "marker": {
             "line": {
              "color": "#E5ECF6",
              "width": 0.5
             },
             "pattern": {
              "fillmode": "overlay",
              "size": 10,
              "solidity": 0.2
             }
            },
            "type": "barpolar"
           }
          ],
          "carpet": [
           {
            "aaxis": {
             "endlinecolor": "#2a3f5f",
             "gridcolor": "white",
             "linecolor": "white",
             "minorgridcolor": "white",
             "startlinecolor": "#2a3f5f"
            },
            "baxis": {
             "endlinecolor": "#2a3f5f",
             "gridcolor": "white",
             "linecolor": "white",
             "minorgridcolor": "white",
             "startlinecolor": "#2a3f5f"
            },
            "type": "carpet"
           }
          ],
          "choropleth": [
           {
            "colorbar": {
             "outlinewidth": 0,
             "ticks": ""
            },
            "type": "choropleth"
           }
          ],
          "contour": [
           {
            "colorbar": {
             "outlinewidth": 0,
             "ticks": ""
            },
            "colorscale": [
             [
              0,
              "#0d0887"
             ],
             [
              0.1111111111111111,
              "#46039f"
             ],
             [
              0.2222222222222222,
              "#7201a8"
             ],
             [
              0.3333333333333333,
              "#9c179e"
             ],
             [
              0.4444444444444444,
              "#bd3786"
             ],
             [
              0.5555555555555556,
              "#d8576b"
             ],
             [
              0.6666666666666666,
              "#ed7953"
             ],
             [
              0.7777777777777778,
              "#fb9f3a"
             ],
             [
              0.8888888888888888,
              "#fdca26"
             ],
             [
              1,
              "#f0f921"
             ]
            ],
            "type": "contour"
           }
          ],
          "contourcarpet": [
           {
            "colorbar": {
             "outlinewidth": 0,
             "ticks": ""
            },
            "type": "contourcarpet"
           }
          ],
          "heatmap": [
           {
            "colorbar": {
             "outlinewidth": 0,
             "ticks": ""
            },
            "colorscale": [
             [
              0,
              "#0d0887"
             ],
             [
              0.1111111111111111,
              "#46039f"
             ],
             [
              0.2222222222222222,
              "#7201a8"
             ],
             [
              0.3333333333333333,
              "#9c179e"
             ],
             [
              0.4444444444444444,
              "#bd3786"
             ],
             [
              0.5555555555555556,
              "#d8576b"
             ],
             [
              0.6666666666666666,
              "#ed7953"
             ],
             [
              0.7777777777777778,
              "#fb9f3a"
             ],
             [
              0.8888888888888888,
              "#fdca26"
             ],
             [
              1,
              "#f0f921"
             ]
            ],
            "type": "heatmap"
           }
          ],
          "heatmapgl": [
           {
            "colorbar": {
             "outlinewidth": 0,
             "ticks": ""
            },
            "colorscale": [
             [
              0,
              "#0d0887"
             ],
             [
              0.1111111111111111,
              "#46039f"
             ],
             [
              0.2222222222222222,
              "#7201a8"
             ],
             [
              0.3333333333333333,
              "#9c179e"
             ],
             [
              0.4444444444444444,
              "#bd3786"
             ],
             [
              0.5555555555555556,
              "#d8576b"
             ],
             [
              0.6666666666666666,
              "#ed7953"
             ],
             [
              0.7777777777777778,
              "#fb9f3a"
             ],
             [
              0.8888888888888888,
              "#fdca26"
             ],
             [
              1,
              "#f0f921"
             ]
            ],
            "type": "heatmapgl"
           }
          ],
          "histogram": [
           {
            "marker": {
             "pattern": {
              "fillmode": "overlay",
              "size": 10,
              "solidity": 0.2
             }
            },
            "type": "histogram"
           }
          ],
          "histogram2d": [
           {
            "colorbar": {
             "outlinewidth": 0,
             "ticks": ""
            },
            "colorscale": [
             [
              0,
              "#0d0887"
             ],
             [
              0.1111111111111111,
              "#46039f"
             ],
             [
              0.2222222222222222,
              "#7201a8"
             ],
             [
              0.3333333333333333,
              "#9c179e"
             ],
             [
              0.4444444444444444,
              "#bd3786"
             ],
             [
              0.5555555555555556,
              "#d8576b"
             ],
             [
              0.6666666666666666,
              "#ed7953"
             ],
             [
              0.7777777777777778,
              "#fb9f3a"
             ],
             [
              0.8888888888888888,
              "#fdca26"
             ],
             [
              1,
              "#f0f921"
             ]
            ],
            "type": "histogram2d"
           }
          ],
          "histogram2dcontour": [
           {
            "colorbar": {
             "outlinewidth": 0,
             "ticks": ""
            },
            "colorscale": [
             [
              0,
              "#0d0887"
             ],
             [
              0.1111111111111111,
              "#46039f"
             ],
             [
              0.2222222222222222,
              "#7201a8"
             ],
             [
              0.3333333333333333,
              "#9c179e"
             ],
             [
              0.4444444444444444,
              "#bd3786"
             ],
             [
              0.5555555555555556,
              "#d8576b"
             ],
             [
              0.6666666666666666,
              "#ed7953"
             ],
             [
              0.7777777777777778,
              "#fb9f3a"
             ],
             [
              0.8888888888888888,
              "#fdca26"
             ],
             [
              1,
              "#f0f921"
             ]
            ],
            "type": "histogram2dcontour"
           }
          ],
          "mesh3d": [
           {
            "colorbar": {
             "outlinewidth": 0,
             "ticks": ""
            },
            "type": "mesh3d"
           }
          ],
          "parcoords": [
           {
            "line": {
             "colorbar": {
              "outlinewidth": 0,
              "ticks": ""
             }
            },
            "type": "parcoords"
           }
          ],
          "pie": [
           {
            "automargin": true,
            "type": "pie"
           }
          ],
          "scatter": [
           {
            "fillpattern": {
             "fillmode": "overlay",
             "size": 10,
             "solidity": 0.2
            },
            "type": "scatter"
           }
          ],
          "scatter3d": [
           {
            "line": {
             "colorbar": {
              "outlinewidth": 0,
              "ticks": ""
             }
            },
            "marker": {
             "colorbar": {
              "outlinewidth": 0,
              "ticks": ""
             }
            },
            "type": "scatter3d"
           }
          ],
          "scattercarpet": [
           {
            "marker": {
             "colorbar": {
              "outlinewidth": 0,
              "ticks": ""
             }
            },
            "type": "scattercarpet"
           }
          ],
          "scattergeo": [
           {
            "marker": {
             "colorbar": {
              "outlinewidth": 0,
              "ticks": ""
             }
            },
            "type": "scattergeo"
           }
          ],
          "scattergl": [
           {
            "marker": {
             "colorbar": {
              "outlinewidth": 0,
              "ticks": ""
             }
            },
            "type": "scattergl"
           }
          ],
          "scattermapbox": [
           {
            "marker": {
             "colorbar": {
              "outlinewidth": 0,
              "ticks": ""
             }
            },
            "type": "scattermapbox"
           }
          ],
          "scatterpolar": [
           {
            "marker": {
             "colorbar": {
              "outlinewidth": 0,
              "ticks": ""
             }
            },
            "type": "scatterpolar"
           }
          ],
          "scatterpolargl": [
           {
            "marker": {
             "colorbar": {
              "outlinewidth": 0,
              "ticks": ""
             }
            },
            "type": "scatterpolargl"
           }
          ],
          "scatterternary": [
           {
            "marker": {
             "colorbar": {
              "outlinewidth": 0,
              "ticks": ""
             }
            },
            "type": "scatterternary"
           }
          ],
          "surface": [
           {
            "colorbar": {
             "outlinewidth": 0,
             "ticks": ""
            },
            "colorscale": [
             [
              0,
              "#0d0887"
             ],
             [
              0.1111111111111111,
              "#46039f"
             ],
             [
              0.2222222222222222,
              "#7201a8"
             ],
             [
              0.3333333333333333,
              "#9c179e"
             ],
             [
              0.4444444444444444,
              "#bd3786"
             ],
             [
              0.5555555555555556,
              "#d8576b"
             ],
             [
              0.6666666666666666,
              "#ed7953"
             ],
             [
              0.7777777777777778,
              "#fb9f3a"
             ],
             [
              0.8888888888888888,
              "#fdca26"
             ],
             [
              1,
              "#f0f921"
             ]
            ],
            "type": "surface"
           }
          ],
          "table": [
           {
            "cells": {
             "fill": {
              "color": "#EBF0F8"
             },
             "line": {
              "color": "white"
             }
            },
            "header": {
             "fill": {
              "color": "#C8D4E3"
             },
             "line": {
              "color": "white"
             }
            },
            "type": "table"
           }
          ]
         },
         "layout": {
          "annotationdefaults": {
           "arrowcolor": "#2a3f5f",
           "arrowhead": 0,
           "arrowwidth": 1
          },
          "autotypenumbers": "strict",
          "coloraxis": {
           "colorbar": {
            "outlinewidth": 0,
            "ticks": ""
           }
          },
          "colorscale": {
           "diverging": [
            [
             0,
             "#8e0152"
            ],
            [
             0.1,
             "#c51b7d"
            ],
            [
             0.2,
             "#de77ae"
            ],
            [
             0.3,
             "#f1b6da"
            ],
            [
             0.4,
             "#fde0ef"
            ],
            [
             0.5,
             "#f7f7f7"
            ],
            [
             0.6,
             "#e6f5d0"
            ],
            [
             0.7,
             "#b8e186"
            ],
            [
             0.8,
             "#7fbc41"
            ],
            [
             0.9,
             "#4d9221"
            ],
            [
             1,
             "#276419"
            ]
           ],
           "sequential": [
            [
             0,
             "#0d0887"
            ],
            [
             0.1111111111111111,
             "#46039f"
            ],
            [
             0.2222222222222222,
             "#7201a8"
            ],
            [
             0.3333333333333333,
             "#9c179e"
            ],
            [
             0.4444444444444444,
             "#bd3786"
            ],
            [
             0.5555555555555556,
             "#d8576b"
            ],
            [
             0.6666666666666666,
             "#ed7953"
            ],
            [
             0.7777777777777778,
             "#fb9f3a"
            ],
            [
             0.8888888888888888,
             "#fdca26"
            ],
            [
             1,
             "#f0f921"
            ]
           ],
           "sequentialminus": [
            [
             0,
             "#0d0887"
            ],
            [
             0.1111111111111111,
             "#46039f"
            ],
            [
             0.2222222222222222,
             "#7201a8"
            ],
            [
             0.3333333333333333,
             "#9c179e"
            ],
            [
             0.4444444444444444,
             "#bd3786"
            ],
            [
             0.5555555555555556,
             "#d8576b"
            ],
            [
             0.6666666666666666,
             "#ed7953"
            ],
            [
             0.7777777777777778,
             "#fb9f3a"
            ],
            [
             0.8888888888888888,
             "#fdca26"
            ],
            [
             1,
             "#f0f921"
            ]
           ]
          },
          "colorway": [
           "#636efa",
           "#EF553B",
           "#00cc96",
           "#ab63fa",
           "#FFA15A",
           "#19d3f3",
           "#FF6692",
           "#B6E880",
           "#FF97FF",
           "#FECB52"
          ],
          "font": {
           "color": "#2a3f5f"
          },
          "geo": {
           "bgcolor": "white",
           "lakecolor": "white",
           "landcolor": "#E5ECF6",
           "showlakes": true,
           "showland": true,
           "subunitcolor": "white"
          },
          "hoverlabel": {
           "align": "left"
          },
          "hovermode": "closest",
          "mapbox": {
           "style": "light"
          },
          "paper_bgcolor": "white",
          "plot_bgcolor": "#E5ECF6",
          "polar": {
           "angularaxis": {
            "gridcolor": "white",
            "linecolor": "white",
            "ticks": ""
           },
           "bgcolor": "#E5ECF6",
           "radialaxis": {
            "gridcolor": "white",
            "linecolor": "white",
            "ticks": ""
           }
          },
          "scene": {
           "xaxis": {
            "backgroundcolor": "#E5ECF6",
            "gridcolor": "white",
            "gridwidth": 2,
            "linecolor": "white",
            "showbackground": true,
            "ticks": "",
            "zerolinecolor": "white"
           },
           "yaxis": {
            "backgroundcolor": "#E5ECF6",
            "gridcolor": "white",
            "gridwidth": 2,
            "linecolor": "white",
            "showbackground": true,
            "ticks": "",
            "zerolinecolor": "white"
           },
           "zaxis": {
            "backgroundcolor": "#E5ECF6",
            "gridcolor": "white",
            "gridwidth": 2,
            "linecolor": "white",
            "showbackground": true,
            "ticks": "",
            "zerolinecolor": "white"
           }
          },
          "shapedefaults": {
           "line": {
            "color": "#2a3f5f"
           }
          },
          "ternary": {
           "aaxis": {
            "gridcolor": "white",
            "linecolor": "white",
            "ticks": ""
           },
           "baxis": {
            "gridcolor": "white",
            "linecolor": "white",
            "ticks": ""
           },
           "bgcolor": "#E5ECF6",
           "caxis": {
            "gridcolor": "white",
            "linecolor": "white",
            "ticks": ""
           }
          },
          "title": {
           "x": 0.05
          },
          "xaxis": {
           "automargin": true,
           "gridcolor": "white",
           "linecolor": "white",
           "ticks": "",
           "title": {
            "standoff": 15
           },
           "zerolinecolor": "white",
           "zerolinewidth": 2
          },
          "yaxis": {
           "automargin": true,
           "gridcolor": "white",
           "linecolor": "white",
           "ticks": "",
           "title": {
            "standoff": 15
           },
           "zerolinecolor": "white",
           "zerolinewidth": 2
          }
         }
        },
        "title": {
         "text": "Incremental Txs Performance Benchmark (Completed Programs)<br><sup>Cutoff at Program End Date + 30 days (Latest Date if not yet reached 30 days).</sup>"
        },
        "xaxis": {
         "anchor": "y",
         "domain": [
          0,
          1
         ],
         "title": {
          "text": "Incremental Transactions per Day"
         }
        },
        "yaxis": {
         "anchor": "x",
         "domain": [
          0,
          1
         ],
         "title": {
          "text": "Annualized Incremental Transactions per OP"
         }
        }
       }
      }
     },
     "metadata": {},
     "output_type": "display_data"
    }
   ],
   "source": [
    "layout_settings = {\n",
    "    \"title\": \"Incremental Txs Performance Benchmark (Completed Programs)<br><sup>Cutoff at Program End Date + 30 days (Latest Date if not yet reached 30 days).</sup>\",\n",
    "    \"xaxis_title\": \"Incremental Transactions per Day\",\n",
    "    \"yaxis_title\": \"Annualized Incremental Transactions per OP\",\n",
    "    \"legend_title\": \"Op Source\",\n",
    "}\n",
    "\n",
    "df = cleanup_data(\n",
    "    subset=[\n",
    "        \"op_deployed\",\n",
    "        \"incremental_txs_per_day_after\",\n",
    "        \"incremental_txs_after_annualized_per_op\",\n",
    "    ],\n",
    ")\n",
    "\n",
    "plot_benchmark(\n",
    "    df,\n",
    "    x=\"incremental_txs_per_day_after\",\n",
    "    y=\"incremental_txs_after_annualized_per_op\",\n",
    "    size=\"op_deployed\",\n",
    "    layout_settings=layout_settings,\n",
    ")"
   ]
  },
  {
   "attachments": {},
   "cell_type": "markdown",
   "metadata": {},
   "source": [
    "### TVL Benchmark"
   ]
  },
  {
   "cell_type": "code",
   "execution_count": 20,
   "metadata": {},
   "outputs": [
    {
     "data": {
      "application/vnd.plotly.v1+json": {
       "config": {
        "plotlyServerURL": "https://plot.ly"
       },
       "data": [
        {
         "hovertemplate": "<b>%{hovertext}</b><br><br>op_source_map=Multiple<br>cumul_last_price_net_dollar_flow_at_program_end=%{x}<br>net_tvl_per_op_during=%{y}<br>op_deployed=%{marker.size}<extra></extra>",
         "hovertext": [
          "Velodrome",
          "Thales",
          "PoolTogether"
         ],
         "legendgroup": "Multiple",
         "marker": {
          "color": "#636efa",
          "size": [
           6654359.994495694,
           1241235.3491625811,
           897039
          ],
          "sizemode": "area",
          "sizeref": 16635.899986239234,
          "symbol": "circle"
         },
         "mode": "markers",
         "name": "Multiple",
         "orientation": "v",
         "showlegend": true,
         "type": "scatter",
         "x": [
          247751290.66494524,
          1400782.1024972163,
          34310924.799887955
         ],
         "xaxis": "x",
         "y": [
          37.231422837038934,
          1.1285386799870596,
          38.249089281389054
         ],
         "yaxis": "y"
        },
        {
         "hovertemplate": "<b>%{hovertext}</b><br><br>op_source_map=['Phase 0']<br>cumul_last_price_net_dollar_flow_at_program_end=%{x}<br>net_tvl_per_op_during=%{y}<br>op_deployed=%{marker.size}<extra></extra>",
         "hovertext": [
          "Perpetual Protocol",
          "Rubicon",
          "Layer2DAO",
          "Stargate Finance",
          "Lyra",
          "WePiggy",
          "Celer",
          "Synthetix",
          "Pika Protocol",
          "Aelin",
          "Polynomial Protocol",
          "Hop Protocol",
          "Uniswap",
          "Clipper"
         ],
         "legendgroup": "['Phase 0']",
         "marker": {
          "color": "#EF553B",
          "size": [
           6514184.773350602,
           793865.5450721123,
           699715.9991505251,
           619725.73,
           1613480.87644014,
           300009.75730703503,
           220001,
           4469188.410052238,
           776728,
           900001.0000000003,
           378642.4181382602,
           204739.0403595078,
           799999.98,
           177934
          ],
          "sizemode": "area",
          "sizeref": 16635.899986239234,
          "symbol": "circle"
         },
         "mode": "markers",
         "name": "['Phase 0']",
         "orientation": "v",
         "showlegend": true,
         "type": "scatter",
         "x": [
          -7509650.408397776,
          9090736.57116614,
          358514.56672767806,
          -18156752.29785381,
          2437834.8228322244,
          833137.0315352468,
          306356.250616299,
          30419829.777638458,
          14205417.517764429,
          -2826.6927108232862,
          2186415.08485,
          6569638.597670194,
          109716050.52105148,
          -146759.79438475223
         ],
         "xaxis": "x",
         "y": [
          -1.1528150750527686,
          11.451229528219875,
          0.5123715438305324,
          -29.29804495587719,
          1.51091646540669,
          2.777033117234918,
          1.3925220822464397,
          6.806566872235063,
          18.2887928821472,
          -0.003140766188952329,
          5.774353268712849,
          32.08786456229528,
          137.14506657994102,
          -0.8247990512479472
         ],
         "yaxis": "y"
        },
        {
         "hovertemplate": "<b>%{hovertext}</b><br><br>op_source_map=['Partner Fund']<br>cumul_last_price_net_dollar_flow_at_program_end=%{x}<br>net_tvl_per_op_during=%{y}<br>op_deployed=%{marker.size}<extra></extra>",
         "hovertext": [
          "Aave",
          "Lido"
         ],
         "legendgroup": "['Partner Fund']",
         "marker": {
          "color": "#00cc96",
          "size": [
           4826838.879736136,
           124875
          ],
          "sizemode": "area",
          "sizeref": 16635.899986239234,
          "symbol": "circle"
         },
         "mode": "markers",
         "name": "['Partner Fund']",
         "orientation": "v",
         "showlegend": true,
         "type": "scatter",
         "x": [
          341969369.3791454,
          34502520.072884545
         ],
         "xaxis": "x",
         "y": [
          70.84747966516743,
          276.2964570401165
         ],
         "yaxis": "y"
        },
        {
         "hovertemplate": "<b>%{hovertext}</b><br><br>op_source_map=['Season 1']<br>cumul_last_price_net_dollar_flow_at_program_end=%{x}<br>net_tvl_per_op_during=%{y}<br>op_deployed=%{marker.size}<extra></extra>",
         "hovertext": [
          "Pickle Finance",
          "Beefy Finance",
          "XToken",
          "Beethoven X",
          "Hundred Finance",
          "dForce",
          "Rocket Pool",
          "QiDao"
         ],
         "legendgroup": "['Season 1']",
         "marker": {
          "color": "#ab63fa",
          "size": [
           92600,
           363961.6725694471,
           1009841.3081865922,
           262691.58999999997,
           161322.5,
           592063.7610960284,
           559325,
           397118.190853169
          ],
          "sizemode": "area",
          "sizeref": 16635.899986239234,
          "symbol": "circle"
         },
         "mode": "markers",
         "name": "['Season 1']",
         "orientation": "v",
         "showlegend": true,
         "type": "scatter",
         "x": [
          2250380.7797205527,
          63286233.77478834,
          620580.4774185518,
          30420272.895274583,
          -1052086.3801834316,
          -2089358.824079589,
          8818321.501229476,
          3635382.1291471645
         ],
         "xaxis": "x",
         "y": [
          24.302168247522168,
          173.8815884870756,
          0.6145326720026438,
          115.80223369645974,
          -6.52163449105631,
          -3.528942254820272,
          15.766006349134182,
          9.154408468010258
         ],
         "yaxis": "y"
        },
        {
         "hovertemplate": "<b>%{hovertext}</b><br><br>op_source_map=['Season 2']<br>cumul_last_price_net_dollar_flow_at_program_end=%{x}<br>net_tvl_per_op_during=%{y}<br>op_deployed=%{marker.size}<extra></extra>",
         "hovertext": [
          "Revert Finance",
          "dHedge",
          "Alchemix",
          "Overnight",
          "Angle",
          "Sushi"
         ],
         "legendgroup": "['Season 2']",
         "marker": {
          "color": "#FFA15A",
          "size": [
           240838.05391830354,
           380943.42300236726,
           36929.8792897358,
           527312.6824092356,
           40728.331835427474,
           49999.99999999999
          ],
          "sizemode": "area",
          "sizeref": 16635.899986239234,
          "symbol": "circle"
         },
         "mode": "markers",
         "name": "['Season 2']",
         "orientation": "v",
         "showlegend": true,
         "type": "scatter",
         "x": [
          4526685.207355609,
          22000621.425150562,
          1799155.9161361875,
          8220838.000215681,
          -571539.1874027955,
          -49445.436053966696
         ],
         "xaxis": "x",
         "y": [
          18.79555632388202,
          57.752989280546906,
          48.71816401079438,
          15.590063115219504,
          -14.032963336486153,
          -0.988908721079334
         ],
         "yaxis": "y"
        },
        {
         "mode": "lines",
         "name": "25th percentile",
         "type": "scatter",
         "x": [
          -18156752.29785381,
          341969369.3791454
         ],
         "y": [
          0.5123715438305324,
          0.5123715438305324
         ]
        },
        {
         "mode": "lines",
         "name": "50th percentile",
         "type": "scatter",
         "x": [
          -18156752.29785381,
          341969369.3791454
         ],
         "y": [
          9.154408468010258,
          9.154408468010258
         ]
        },
        {
         "mode": "lines",
         "name": "75th percentile",
         "type": "scatter",
         "x": [
          -18156752.29785381,
          341969369.3791454
         ],
         "y": [
          37.231422837038934,
          37.231422837038934
         ]
        }
       ],
       "layout": {
        "legend": {
         "itemsizing": "constant",
         "title": {
          "text": "Op Source"
         },
         "tracegroupgap": 0
        },
        "margin": {
         "t": 60
        },
        "template": {
         "data": {
          "bar": [
           {
            "error_x": {
             "color": "#2a3f5f"
            },
            "error_y": {
             "color": "#2a3f5f"
            },
            "marker": {
             "line": {
              "color": "#E5ECF6",
              "width": 0.5
             },
             "pattern": {
              "fillmode": "overlay",
              "size": 10,
              "solidity": 0.2
             }
            },
            "type": "bar"
           }
          ],
          "barpolar": [
           {
            "marker": {
             "line": {
              "color": "#E5ECF6",
              "width": 0.5
             },
             "pattern": {
              "fillmode": "overlay",
              "size": 10,
              "solidity": 0.2
             }
            },
            "type": "barpolar"
           }
          ],
          "carpet": [
           {
            "aaxis": {
             "endlinecolor": "#2a3f5f",
             "gridcolor": "white",
             "linecolor": "white",
             "minorgridcolor": "white",
             "startlinecolor": "#2a3f5f"
            },
            "baxis": {
             "endlinecolor": "#2a3f5f",
             "gridcolor": "white",
             "linecolor": "white",
             "minorgridcolor": "white",
             "startlinecolor": "#2a3f5f"
            },
            "type": "carpet"
           }
          ],
          "choropleth": [
           {
            "colorbar": {
             "outlinewidth": 0,
             "ticks": ""
            },
            "type": "choropleth"
           }
          ],
          "contour": [
           {
            "colorbar": {
             "outlinewidth": 0,
             "ticks": ""
            },
            "colorscale": [
             [
              0,
              "#0d0887"
             ],
             [
              0.1111111111111111,
              "#46039f"
             ],
             [
              0.2222222222222222,
              "#7201a8"
             ],
             [
              0.3333333333333333,
              "#9c179e"
             ],
             [
              0.4444444444444444,
              "#bd3786"
             ],
             [
              0.5555555555555556,
              "#d8576b"
             ],
             [
              0.6666666666666666,
              "#ed7953"
             ],
             [
              0.7777777777777778,
              "#fb9f3a"
             ],
             [
              0.8888888888888888,
              "#fdca26"
             ],
             [
              1,
              "#f0f921"
             ]
            ],
            "type": "contour"
           }
          ],
          "contourcarpet": [
           {
            "colorbar": {
             "outlinewidth": 0,
             "ticks": ""
            },
            "type": "contourcarpet"
           }
          ],
          "heatmap": [
           {
            "colorbar": {
             "outlinewidth": 0,
             "ticks": ""
            },
            "colorscale": [
             [
              0,
              "#0d0887"
             ],
             [
              0.1111111111111111,
              "#46039f"
             ],
             [
              0.2222222222222222,
              "#7201a8"
             ],
             [
              0.3333333333333333,
              "#9c179e"
             ],
             [
              0.4444444444444444,
              "#bd3786"
             ],
             [
              0.5555555555555556,
              "#d8576b"
             ],
             [
              0.6666666666666666,
              "#ed7953"
             ],
             [
              0.7777777777777778,
              "#fb9f3a"
             ],
             [
              0.8888888888888888,
              "#fdca26"
             ],
             [
              1,
              "#f0f921"
             ]
            ],
            "type": "heatmap"
           }
          ],
          "heatmapgl": [
           {
            "colorbar": {
             "outlinewidth": 0,
             "ticks": ""
            },
            "colorscale": [
             [
              0,
              "#0d0887"
             ],
             [
              0.1111111111111111,
              "#46039f"
             ],
             [
              0.2222222222222222,
              "#7201a8"
             ],
             [
              0.3333333333333333,
              "#9c179e"
             ],
             [
              0.4444444444444444,
              "#bd3786"
             ],
             [
              0.5555555555555556,
              "#d8576b"
             ],
             [
              0.6666666666666666,
              "#ed7953"
             ],
             [
              0.7777777777777778,
              "#fb9f3a"
             ],
             [
              0.8888888888888888,
              "#fdca26"
             ],
             [
              1,
              "#f0f921"
             ]
            ],
            "type": "heatmapgl"
           }
          ],
          "histogram": [
           {
            "marker": {
             "pattern": {
              "fillmode": "overlay",
              "size": 10,
              "solidity": 0.2
             }
            },
            "type": "histogram"
           }
          ],
          "histogram2d": [
           {
            "colorbar": {
             "outlinewidth": 0,
             "ticks": ""
            },
            "colorscale": [
             [
              0,
              "#0d0887"
             ],
             [
              0.1111111111111111,
              "#46039f"
             ],
             [
              0.2222222222222222,
              "#7201a8"
             ],
             [
              0.3333333333333333,
              "#9c179e"
             ],
             [
              0.4444444444444444,
              "#bd3786"
             ],
             [
              0.5555555555555556,
              "#d8576b"
             ],
             [
              0.6666666666666666,
              "#ed7953"
             ],
             [
              0.7777777777777778,
              "#fb9f3a"
             ],
             [
              0.8888888888888888,
              "#fdca26"
             ],
             [
              1,
              "#f0f921"
             ]
            ],
            "type": "histogram2d"
           }
          ],
          "histogram2dcontour": [
           {
            "colorbar": {
             "outlinewidth": 0,
             "ticks": ""
            },
            "colorscale": [
             [
              0,
              "#0d0887"
             ],
             [
              0.1111111111111111,
              "#46039f"
             ],
             [
              0.2222222222222222,
              "#7201a8"
             ],
             [
              0.3333333333333333,
              "#9c179e"
             ],
             [
              0.4444444444444444,
              "#bd3786"
             ],
             [
              0.5555555555555556,
              "#d8576b"
             ],
             [
              0.6666666666666666,
              "#ed7953"
             ],
             [
              0.7777777777777778,
              "#fb9f3a"
             ],
             [
              0.8888888888888888,
              "#fdca26"
             ],
             [
              1,
              "#f0f921"
             ]
            ],
            "type": "histogram2dcontour"
           }
          ],
          "mesh3d": [
           {
            "colorbar": {
             "outlinewidth": 0,
             "ticks": ""
            },
            "type": "mesh3d"
           }
          ],
          "parcoords": [
           {
            "line": {
             "colorbar": {
              "outlinewidth": 0,
              "ticks": ""
             }
            },
            "type": "parcoords"
           }
          ],
          "pie": [
           {
            "automargin": true,
            "type": "pie"
           }
          ],
          "scatter": [
           {
            "fillpattern": {
             "fillmode": "overlay",
             "size": 10,
             "solidity": 0.2
            },
            "type": "scatter"
           }
          ],
          "scatter3d": [
           {
            "line": {
             "colorbar": {
              "outlinewidth": 0,
              "ticks": ""
             }
            },
            "marker": {
             "colorbar": {
              "outlinewidth": 0,
              "ticks": ""
             }
            },
            "type": "scatter3d"
           }
          ],
          "scattercarpet": [
           {
            "marker": {
             "colorbar": {
              "outlinewidth": 0,
              "ticks": ""
             }
            },
            "type": "scattercarpet"
           }
          ],
          "scattergeo": [
           {
            "marker": {
             "colorbar": {
              "outlinewidth": 0,
              "ticks": ""
             }
            },
            "type": "scattergeo"
           }
          ],
          "scattergl": [
           {
            "marker": {
             "colorbar": {
              "outlinewidth": 0,
              "ticks": ""
             }
            },
            "type": "scattergl"
           }
          ],
          "scattermapbox": [
           {
            "marker": {
             "colorbar": {
              "outlinewidth": 0,
              "ticks": ""
             }
            },
            "type": "scattermapbox"
           }
          ],
          "scatterpolar": [
           {
            "marker": {
             "colorbar": {
              "outlinewidth": 0,
              "ticks": ""
             }
            },
            "type": "scatterpolar"
           }
          ],
          "scatterpolargl": [
           {
            "marker": {
             "colorbar": {
              "outlinewidth": 0,
              "ticks": ""
             }
            },
            "type": "scatterpolargl"
           }
          ],
          "scatterternary": [
           {
            "marker": {
             "colorbar": {
              "outlinewidth": 0,
              "ticks": ""
             }
            },
            "type": "scatterternary"
           }
          ],
          "surface": [
           {
            "colorbar": {
             "outlinewidth": 0,
             "ticks": ""
            },
            "colorscale": [
             [
              0,
              "#0d0887"
             ],
             [
              0.1111111111111111,
              "#46039f"
             ],
             [
              0.2222222222222222,
              "#7201a8"
             ],
             [
              0.3333333333333333,
              "#9c179e"
             ],
             [
              0.4444444444444444,
              "#bd3786"
             ],
             [
              0.5555555555555556,
              "#d8576b"
             ],
             [
              0.6666666666666666,
              "#ed7953"
             ],
             [
              0.7777777777777778,
              "#fb9f3a"
             ],
             [
              0.8888888888888888,
              "#fdca26"
             ],
             [
              1,
              "#f0f921"
             ]
            ],
            "type": "surface"
           }
          ],
          "table": [
           {
            "cells": {
             "fill": {
              "color": "#EBF0F8"
             },
             "line": {
              "color": "white"
             }
            },
            "header": {
             "fill": {
              "color": "#C8D4E3"
             },
             "line": {
              "color": "white"
             }
            },
            "type": "table"
           }
          ]
         },
         "layout": {
          "annotationdefaults": {
           "arrowcolor": "#2a3f5f",
           "arrowhead": 0,
           "arrowwidth": 1
          },
          "autotypenumbers": "strict",
          "coloraxis": {
           "colorbar": {
            "outlinewidth": 0,
            "ticks": ""
           }
          },
          "colorscale": {
           "diverging": [
            [
             0,
             "#8e0152"
            ],
            [
             0.1,
             "#c51b7d"
            ],
            [
             0.2,
             "#de77ae"
            ],
            [
             0.3,
             "#f1b6da"
            ],
            [
             0.4,
             "#fde0ef"
            ],
            [
             0.5,
             "#f7f7f7"
            ],
            [
             0.6,
             "#e6f5d0"
            ],
            [
             0.7,
             "#b8e186"
            ],
            [
             0.8,
             "#7fbc41"
            ],
            [
             0.9,
             "#4d9221"
            ],
            [
             1,
             "#276419"
            ]
           ],
           "sequential": [
            [
             0,
             "#0d0887"
            ],
            [
             0.1111111111111111,
             "#46039f"
            ],
            [
             0.2222222222222222,
             "#7201a8"
            ],
            [
             0.3333333333333333,
             "#9c179e"
            ],
            [
             0.4444444444444444,
             "#bd3786"
            ],
            [
             0.5555555555555556,
             "#d8576b"
            ],
            [
             0.6666666666666666,
             "#ed7953"
            ],
            [
             0.7777777777777778,
             "#fb9f3a"
            ],
            [
             0.8888888888888888,
             "#fdca26"
            ],
            [
             1,
             "#f0f921"
            ]
           ],
           "sequentialminus": [
            [
             0,
             "#0d0887"
            ],
            [
             0.1111111111111111,
             "#46039f"
            ],
            [
             0.2222222222222222,
             "#7201a8"
            ],
            [
             0.3333333333333333,
             "#9c179e"
            ],
            [
             0.4444444444444444,
             "#bd3786"
            ],
            [
             0.5555555555555556,
             "#d8576b"
            ],
            [
             0.6666666666666666,
             "#ed7953"
            ],
            [
             0.7777777777777778,
             "#fb9f3a"
            ],
            [
             0.8888888888888888,
             "#fdca26"
            ],
            [
             1,
             "#f0f921"
            ]
           ]
          },
          "colorway": [
           "#636efa",
           "#EF553B",
           "#00cc96",
           "#ab63fa",
           "#FFA15A",
           "#19d3f3",
           "#FF6692",
           "#B6E880",
           "#FF97FF",
           "#FECB52"
          ],
          "font": {
           "color": "#2a3f5f"
          },
          "geo": {
           "bgcolor": "white",
           "lakecolor": "white",
           "landcolor": "#E5ECF6",
           "showlakes": true,
           "showland": true,
           "subunitcolor": "white"
          },
          "hoverlabel": {
           "align": "left"
          },
          "hovermode": "closest",
          "mapbox": {
           "style": "light"
          },
          "paper_bgcolor": "white",
          "plot_bgcolor": "#E5ECF6",
          "polar": {
           "angularaxis": {
            "gridcolor": "white",
            "linecolor": "white",
            "ticks": ""
           },
           "bgcolor": "#E5ECF6",
           "radialaxis": {
            "gridcolor": "white",
            "linecolor": "white",
            "ticks": ""
           }
          },
          "scene": {
           "xaxis": {
            "backgroundcolor": "#E5ECF6",
            "gridcolor": "white",
            "gridwidth": 2,
            "linecolor": "white",
            "showbackground": true,
            "ticks": "",
            "zerolinecolor": "white"
           },
           "yaxis": {
            "backgroundcolor": "#E5ECF6",
            "gridcolor": "white",
            "gridwidth": 2,
            "linecolor": "white",
            "showbackground": true,
            "ticks": "",
            "zerolinecolor": "white"
           },
           "zaxis": {
            "backgroundcolor": "#E5ECF6",
            "gridcolor": "white",
            "gridwidth": 2,
            "linecolor": "white",
            "showbackground": true,
            "ticks": "",
            "zerolinecolor": "white"
           }
          },
          "shapedefaults": {
           "line": {
            "color": "#2a3f5f"
           }
          },
          "ternary": {
           "aaxis": {
            "gridcolor": "white",
            "linecolor": "white",
            "ticks": ""
           },
           "baxis": {
            "gridcolor": "white",
            "linecolor": "white",
            "ticks": ""
           },
           "bgcolor": "#E5ECF6",
           "caxis": {
            "gridcolor": "white",
            "linecolor": "white",
            "ticks": ""
           }
          },
          "title": {
           "x": 0.05
          },
          "xaxis": {
           "automargin": true,
           "gridcolor": "white",
           "linecolor": "white",
           "ticks": "",
           "title": {
            "standoff": 15
           },
           "zerolinecolor": "white",
           "zerolinewidth": 2
          },
          "yaxis": {
           "automargin": true,
           "gridcolor": "white",
           "linecolor": "white",
           "ticks": "",
           "title": {
            "standoff": 15
           },
           "zerolinecolor": "white",
           "zerolinewidth": 2
          }
         }
        },
        "title": {
         "text": "Incremental TVL Performance Benchmark (All Programs)<br><sup>Cutoff at Program End Date (Latest Date if still Live).</sup>"
        },
        "xaxis": {
         "anchor": "y",
         "domain": [
          0,
          1
         ],
         "title": {
          "text": "Incremental TVL"
         }
        },
        "yaxis": {
         "anchor": "x",
         "domain": [
          0,
          1
         ],
         "title": {
          "text": "Incremental TVL per OP"
         }
        }
       }
      }
     },
     "metadata": {},
     "output_type": "display_data"
    }
   ],
   "source": [
    "layout_settings = {\n",
    "    \"title\": \"Incremental TVL Performance Benchmark (All Programs)<br><sup>Cutoff at Program End Date (Latest Date if still Live).</sup>\",\n",
    "    \"xaxis_title\": \"Incremental TVL\",\n",
    "    \"yaxis_title\": \"Incremental TVL per OP\",\n",
    "    \"legend_title\": \"Op Source\",\n",
    "}\n",
    "\n",
    "df = cleanup_data(\n",
    "    subset=[\n",
    "        \"op_deployed\",\n",
    "        \"net_tvl_per_op_during\",\n",
    "        \"cumul_last_price_net_dollar_flow_at_program_end\",\n",
    "    ]\n",
    ")\n",
    "\n",
    "plot_benchmark(\n",
    "    df,\n",
    "    x=\"cumul_last_price_net_dollar_flow_at_program_end\",\n",
    "    y=\"net_tvl_per_op_during\",\n",
    "    size=\"op_deployed\",\n",
    "    layout_settings=layout_settings,\n",
    ")"
   ]
  },
  {
   "cell_type": "code",
   "execution_count": 21,
   "metadata": {},
   "outputs": [
    {
     "data": {
      "application/vnd.plotly.v1+json": {
       "config": {
        "plotlyServerURL": "https://plot.ly"
       },
       "data": [
        {
         "hovertemplate": "<b>%{hovertext}</b><br><br>op_source_map=['Phase 0']<br>cumul_last_price_net_dollar_flow=%{x}<br>net_tvl_per_op=%{y}<br>op_deployed=%{marker.size}<extra></extra>",
         "hovertext": [
          "Rubicon",
          "WePiggy",
          "Aelin"
         ],
         "legendgroup": "['Phase 0']",
         "marker": {
          "color": "#636efa",
          "size": [
           793865.5450721123,
           300009.75730703503,
           900001.0000000003
          ],
          "sizemode": "area",
          "sizeref": 12067.09719934034,
          "symbol": "circle"
         },
         "mode": "markers",
         "name": "['Phase 0']",
         "orientation": "v",
         "showlegend": true,
         "type": "scatter",
         "x": [
          -1094191.821427839,
          166784.04903293846,
          -2777.706732996996
         ],
         "xaxis": "x",
         "y": [
          -1.3783087428595304,
          0.55592874888482,
          -0.003086337385177344
         ],
         "yaxis": "y"
        },
        {
         "hovertemplate": "<b>%{hovertext}</b><br><br>op_source_map=Multiple<br>cumul_last_price_net_dollar_flow=%{x}<br>net_tvl_per_op=%{y}<br>op_deployed=%{marker.size}<extra></extra>",
         "hovertext": [
          "PoolTogether"
         ],
         "legendgroup": "Multiple",
         "marker": {
          "color": "#EF553B",
          "size": [
           897039
          ],
          "sizemode": "area",
          "sizeref": 12067.09719934034,
          "symbol": "circle"
         },
         "mode": "markers",
         "name": "Multiple",
         "orientation": "v",
         "showlegend": true,
         "type": "scatter",
         "x": [
          4597391.257153422
         ],
         "xaxis": "x",
         "y": [
          5.125074001412894
         ],
         "yaxis": "y"
        },
        {
         "hovertemplate": "<b>%{hovertext}</b><br><br>op_source_map=['Partner Fund']<br>cumul_last_price_net_dollar_flow=%{x}<br>net_tvl_per_op=%{y}<br>op_deployed=%{marker.size}<extra></extra>",
         "hovertext": [
          "Aave"
         ],
         "legendgroup": "['Partner Fund']",
         "marker": {
          "color": "#00cc96",
          "size": [
           4826838.879736136
          ],
          "sizemode": "area",
          "sizeref": 12067.09719934034,
          "symbol": "circle"
         },
         "mode": "markers",
         "name": "['Partner Fund']",
         "orientation": "v",
         "showlegend": true,
         "type": "scatter",
         "x": [
          77329625.72923894
         ],
         "xaxis": "x",
         "y": [
          16.020759684745528
         ],
         "yaxis": "y"
        },
        {
         "hovertemplate": "<b>%{hovertext}</b><br><br>op_source_map=['Season 1']<br>cumul_last_price_net_dollar_flow=%{x}<br>net_tvl_per_op=%{y}<br>op_deployed=%{marker.size}<extra></extra>",
         "hovertext": [
          "XToken"
         ],
         "legendgroup": "['Season 1']",
         "marker": {
          "color": "#ab63fa",
          "size": [
           1009841.3081865922
          ],
          "sizemode": "area",
          "sizeref": 12067.09719934034,
          "symbol": "circle"
         },
         "mode": "markers",
         "name": "['Season 1']",
         "orientation": "v",
         "showlegend": true,
         "type": "scatter",
         "x": [
          -961330.4449787006
         ],
         "xaxis": "x",
         "y": [
          -0.9519618945921273
         ],
         "yaxis": "y"
        },
        {
         "hovertemplate": "<b>%{hovertext}</b><br><br>op_source_map=['Season 2']<br>cumul_last_price_net_dollar_flow=%{x}<br>net_tvl_per_op=%{y}<br>op_deployed=%{marker.size}<extra></extra>",
         "hovertext": [
          "Revert Finance"
         ],
         "legendgroup": "['Season 2']",
         "marker": {
          "color": "#FFA15A",
          "size": [
           240838.05391830354
          ],
          "sizemode": "area",
          "sizeref": 12067.09719934034,
          "symbol": "circle"
         },
         "mode": "markers",
         "name": "['Season 2']",
         "orientation": "v",
         "showlegend": true,
         "type": "scatter",
         "x": [
          1122212.776008342
         ],
         "xaxis": "x",
         "y": [
          4.659615695072075
         ],
         "yaxis": "y"
        },
        {
         "mode": "lines",
         "name": "25th percentile",
         "type": "scatter",
         "x": [
          -1094191.821427839,
          77329625.72923894
         ],
         "y": [
          -0.4775241159886523,
          -0.4775241159886523
         ]
        },
        {
         "mode": "lines",
         "name": "50th percentile",
         "type": "scatter",
         "x": [
          -1094191.821427839,
          77329625.72923894
         ],
         "y": [
          0.55592874888482,
          0.55592874888482
         ]
        },
        {
         "mode": "lines",
         "name": "75th percentile",
         "type": "scatter",
         "x": [
          -1094191.821427839,
          77329625.72923894
         ],
         "y": [
          4.892344848242485,
          4.892344848242485
         ]
        }
       ],
       "layout": {
        "legend": {
         "itemsizing": "constant",
         "title": {
          "text": "Op Source"
         },
         "tracegroupgap": 0
        },
        "margin": {
         "t": 60
        },
        "template": {
         "data": {
          "bar": [
           {
            "error_x": {
             "color": "#2a3f5f"
            },
            "error_y": {
             "color": "#2a3f5f"
            },
            "marker": {
             "line": {
              "color": "#E5ECF6",
              "width": 0.5
             },
             "pattern": {
              "fillmode": "overlay",
              "size": 10,
              "solidity": 0.2
             }
            },
            "type": "bar"
           }
          ],
          "barpolar": [
           {
            "marker": {
             "line": {
              "color": "#E5ECF6",
              "width": 0.5
             },
             "pattern": {
              "fillmode": "overlay",
              "size": 10,
              "solidity": 0.2
             }
            },
            "type": "barpolar"
           }
          ],
          "carpet": [
           {
            "aaxis": {
             "endlinecolor": "#2a3f5f",
             "gridcolor": "white",
             "linecolor": "white",
             "minorgridcolor": "white",
             "startlinecolor": "#2a3f5f"
            },
            "baxis": {
             "endlinecolor": "#2a3f5f",
             "gridcolor": "white",
             "linecolor": "white",
             "minorgridcolor": "white",
             "startlinecolor": "#2a3f5f"
            },
            "type": "carpet"
           }
          ],
          "choropleth": [
           {
            "colorbar": {
             "outlinewidth": 0,
             "ticks": ""
            },
            "type": "choropleth"
           }
          ],
          "contour": [
           {
            "colorbar": {
             "outlinewidth": 0,
             "ticks": ""
            },
            "colorscale": [
             [
              0,
              "#0d0887"
             ],
             [
              0.1111111111111111,
              "#46039f"
             ],
             [
              0.2222222222222222,
              "#7201a8"
             ],
             [
              0.3333333333333333,
              "#9c179e"
             ],
             [
              0.4444444444444444,
              "#bd3786"
             ],
             [
              0.5555555555555556,
              "#d8576b"
             ],
             [
              0.6666666666666666,
              "#ed7953"
             ],
             [
              0.7777777777777778,
              "#fb9f3a"
             ],
             [
              0.8888888888888888,
              "#fdca26"
             ],
             [
              1,
              "#f0f921"
             ]
            ],
            "type": "contour"
           }
          ],
          "contourcarpet": [
           {
            "colorbar": {
             "outlinewidth": 0,
             "ticks": ""
            },
            "type": "contourcarpet"
           }
          ],
          "heatmap": [
           {
            "colorbar": {
             "outlinewidth": 0,
             "ticks": ""
            },
            "colorscale": [
             [
              0,
              "#0d0887"
             ],
             [
              0.1111111111111111,
              "#46039f"
             ],
             [
              0.2222222222222222,
              "#7201a8"
             ],
             [
              0.3333333333333333,
              "#9c179e"
             ],
             [
              0.4444444444444444,
              "#bd3786"
             ],
             [
              0.5555555555555556,
              "#d8576b"
             ],
             [
              0.6666666666666666,
              "#ed7953"
             ],
             [
              0.7777777777777778,
              "#fb9f3a"
             ],
             [
              0.8888888888888888,
              "#fdca26"
             ],
             [
              1,
              "#f0f921"
             ]
            ],
            "type": "heatmap"
           }
          ],
          "heatmapgl": [
           {
            "colorbar": {
             "outlinewidth": 0,
             "ticks": ""
            },
            "colorscale": [
             [
              0,
              "#0d0887"
             ],
             [
              0.1111111111111111,
              "#46039f"
             ],
             [
              0.2222222222222222,
              "#7201a8"
             ],
             [
              0.3333333333333333,
              "#9c179e"
             ],
             [
              0.4444444444444444,
              "#bd3786"
             ],
             [
              0.5555555555555556,
              "#d8576b"
             ],
             [
              0.6666666666666666,
              "#ed7953"
             ],
             [
              0.7777777777777778,
              "#fb9f3a"
             ],
             [
              0.8888888888888888,
              "#fdca26"
             ],
             [
              1,
              "#f0f921"
             ]
            ],
            "type": "heatmapgl"
           }
          ],
          "histogram": [
           {
            "marker": {
             "pattern": {
              "fillmode": "overlay",
              "size": 10,
              "solidity": 0.2
             }
            },
            "type": "histogram"
           }
          ],
          "histogram2d": [
           {
            "colorbar": {
             "outlinewidth": 0,
             "ticks": ""
            },
            "colorscale": [
             [
              0,
              "#0d0887"
             ],
             [
              0.1111111111111111,
              "#46039f"
             ],
             [
              0.2222222222222222,
              "#7201a8"
             ],
             [
              0.3333333333333333,
              "#9c179e"
             ],
             [
              0.4444444444444444,
              "#bd3786"
             ],
             [
              0.5555555555555556,
              "#d8576b"
             ],
             [
              0.6666666666666666,
              "#ed7953"
             ],
             [
              0.7777777777777778,
              "#fb9f3a"
             ],
             [
              0.8888888888888888,
              "#fdca26"
             ],
             [
              1,
              "#f0f921"
             ]
            ],
            "type": "histogram2d"
           }
          ],
          "histogram2dcontour": [
           {
            "colorbar": {
             "outlinewidth": 0,
             "ticks": ""
            },
            "colorscale": [
             [
              0,
              "#0d0887"
             ],
             [
              0.1111111111111111,
              "#46039f"
             ],
             [
              0.2222222222222222,
              "#7201a8"
             ],
             [
              0.3333333333333333,
              "#9c179e"
             ],
             [
              0.4444444444444444,
              "#bd3786"
             ],
             [
              0.5555555555555556,
              "#d8576b"
             ],
             [
              0.6666666666666666,
              "#ed7953"
             ],
             [
              0.7777777777777778,
              "#fb9f3a"
             ],
             [
              0.8888888888888888,
              "#fdca26"
             ],
             [
              1,
              "#f0f921"
             ]
            ],
            "type": "histogram2dcontour"
           }
          ],
          "mesh3d": [
           {
            "colorbar": {
             "outlinewidth": 0,
             "ticks": ""
            },
            "type": "mesh3d"
           }
          ],
          "parcoords": [
           {
            "line": {
             "colorbar": {
              "outlinewidth": 0,
              "ticks": ""
             }
            },
            "type": "parcoords"
           }
          ],
          "pie": [
           {
            "automargin": true,
            "type": "pie"
           }
          ],
          "scatter": [
           {
            "fillpattern": {
             "fillmode": "overlay",
             "size": 10,
             "solidity": 0.2
            },
            "type": "scatter"
           }
          ],
          "scatter3d": [
           {
            "line": {
             "colorbar": {
              "outlinewidth": 0,
              "ticks": ""
             }
            },
            "marker": {
             "colorbar": {
              "outlinewidth": 0,
              "ticks": ""
             }
            },
            "type": "scatter3d"
           }
          ],
          "scattercarpet": [
           {
            "marker": {
             "colorbar": {
              "outlinewidth": 0,
              "ticks": ""
             }
            },
            "type": "scattercarpet"
           }
          ],
          "scattergeo": [
           {
            "marker": {
             "colorbar": {
              "outlinewidth": 0,
              "ticks": ""
             }
            },
            "type": "scattergeo"
           }
          ],
          "scattergl": [
           {
            "marker": {
             "colorbar": {
              "outlinewidth": 0,
              "ticks": ""
             }
            },
            "type": "scattergl"
           }
          ],
          "scattermapbox": [
           {
            "marker": {
             "colorbar": {
              "outlinewidth": 0,
              "ticks": ""
             }
            },
            "type": "scattermapbox"
           }
          ],
          "scatterpolar": [
           {
            "marker": {
             "colorbar": {
              "outlinewidth": 0,
              "ticks": ""
             }
            },
            "type": "scatterpolar"
           }
          ],
          "scatterpolargl": [
           {
            "marker": {
             "colorbar": {
              "outlinewidth": 0,
              "ticks": ""
             }
            },
            "type": "scatterpolargl"
           }
          ],
          "scatterternary": [
           {
            "marker": {
             "colorbar": {
              "outlinewidth": 0,
              "ticks": ""
             }
            },
            "type": "scatterternary"
           }
          ],
          "surface": [
           {
            "colorbar": {
             "outlinewidth": 0,
             "ticks": ""
            },
            "colorscale": [
             [
              0,
              "#0d0887"
             ],
             [
              0.1111111111111111,
              "#46039f"
             ],
             [
              0.2222222222222222,
              "#7201a8"
             ],
             [
              0.3333333333333333,
              "#9c179e"
             ],
             [
              0.4444444444444444,
              "#bd3786"
             ],
             [
              0.5555555555555556,
              "#d8576b"
             ],
             [
              0.6666666666666666,
              "#ed7953"
             ],
             [
              0.7777777777777778,
              "#fb9f3a"
             ],
             [
              0.8888888888888888,
              "#fdca26"
             ],
             [
              1,
              "#f0f921"
             ]
            ],
            "type": "surface"
           }
          ],
          "table": [
           {
            "cells": {
             "fill": {
              "color": "#EBF0F8"
             },
             "line": {
              "color": "white"
             }
            },
            "header": {
             "fill": {
              "color": "#C8D4E3"
             },
             "line": {
              "color": "white"
             }
            },
            "type": "table"
           }
          ]
         },
         "layout": {
          "annotationdefaults": {
           "arrowcolor": "#2a3f5f",
           "arrowhead": 0,
           "arrowwidth": 1
          },
          "autotypenumbers": "strict",
          "coloraxis": {
           "colorbar": {
            "outlinewidth": 0,
            "ticks": ""
           }
          },
          "colorscale": {
           "diverging": [
            [
             0,
             "#8e0152"
            ],
            [
             0.1,
             "#c51b7d"
            ],
            [
             0.2,
             "#de77ae"
            ],
            [
             0.3,
             "#f1b6da"
            ],
            [
             0.4,
             "#fde0ef"
            ],
            [
             0.5,
             "#f7f7f7"
            ],
            [
             0.6,
             "#e6f5d0"
            ],
            [
             0.7,
             "#b8e186"
            ],
            [
             0.8,
             "#7fbc41"
            ],
            [
             0.9,
             "#4d9221"
            ],
            [
             1,
             "#276419"
            ]
           ],
           "sequential": [
            [
             0,
             "#0d0887"
            ],
            [
             0.1111111111111111,
             "#46039f"
            ],
            [
             0.2222222222222222,
             "#7201a8"
            ],
            [
             0.3333333333333333,
             "#9c179e"
            ],
            [
             0.4444444444444444,
             "#bd3786"
            ],
            [
             0.5555555555555556,
             "#d8576b"
            ],
            [
             0.6666666666666666,
             "#ed7953"
            ],
            [
             0.7777777777777778,
             "#fb9f3a"
            ],
            [
             0.8888888888888888,
             "#fdca26"
            ],
            [
             1,
             "#f0f921"
            ]
           ],
           "sequentialminus": [
            [
             0,
             "#0d0887"
            ],
            [
             0.1111111111111111,
             "#46039f"
            ],
            [
             0.2222222222222222,
             "#7201a8"
            ],
            [
             0.3333333333333333,
             "#9c179e"
            ],
            [
             0.4444444444444444,
             "#bd3786"
            ],
            [
             0.5555555555555556,
             "#d8576b"
            ],
            [
             0.6666666666666666,
             "#ed7953"
            ],
            [
             0.7777777777777778,
             "#fb9f3a"
            ],
            [
             0.8888888888888888,
             "#fdca26"
            ],
            [
             1,
             "#f0f921"
            ]
           ]
          },
          "colorway": [
           "#636efa",
           "#EF553B",
           "#00cc96",
           "#ab63fa",
           "#FFA15A",
           "#19d3f3",
           "#FF6692",
           "#B6E880",
           "#FF97FF",
           "#FECB52"
          ],
          "font": {
           "color": "#2a3f5f"
          },
          "geo": {
           "bgcolor": "white",
           "lakecolor": "white",
           "landcolor": "#E5ECF6",
           "showlakes": true,
           "showland": true,
           "subunitcolor": "white"
          },
          "hoverlabel": {
           "align": "left"
          },
          "hovermode": "closest",
          "mapbox": {
           "style": "light"
          },
          "paper_bgcolor": "white",
          "plot_bgcolor": "#E5ECF6",
          "polar": {
           "angularaxis": {
            "gridcolor": "white",
            "linecolor": "white",
            "ticks": ""
           },
           "bgcolor": "#E5ECF6",
           "radialaxis": {
            "gridcolor": "white",
            "linecolor": "white",
            "ticks": ""
           }
          },
          "scene": {
           "xaxis": {
            "backgroundcolor": "#E5ECF6",
            "gridcolor": "white",
            "gridwidth": 2,
            "linecolor": "white",
            "showbackground": true,
            "ticks": "",
            "zerolinecolor": "white"
           },
           "yaxis": {
            "backgroundcolor": "#E5ECF6",
            "gridcolor": "white",
            "gridwidth": 2,
            "linecolor": "white",
            "showbackground": true,
            "ticks": "",
            "zerolinecolor": "white"
           },
           "zaxis": {
            "backgroundcolor": "#E5ECF6",
            "gridcolor": "white",
            "gridwidth": 2,
            "linecolor": "white",
            "showbackground": true,
            "ticks": "",
            "zerolinecolor": "white"
           }
          },
          "shapedefaults": {
           "line": {
            "color": "#2a3f5f"
           }
          },
          "ternary": {
           "aaxis": {
            "gridcolor": "white",
            "linecolor": "white",
            "ticks": ""
           },
           "baxis": {
            "gridcolor": "white",
            "linecolor": "white",
            "ticks": ""
           },
           "bgcolor": "#E5ECF6",
           "caxis": {
            "gridcolor": "white",
            "linecolor": "white",
            "ticks": ""
           }
          },
          "title": {
           "x": 0.05
          },
          "xaxis": {
           "automargin": true,
           "gridcolor": "white",
           "linecolor": "white",
           "ticks": "",
           "title": {
            "standoff": 15
           },
           "zerolinecolor": "white",
           "zerolinewidth": 2
          },
          "yaxis": {
           "automargin": true,
           "gridcolor": "white",
           "linecolor": "white",
           "ticks": "",
           "title": {
            "standoff": 15
           },
           "zerolinecolor": "white",
           "zerolinewidth": 2
          }
         }
        },
        "title": {
         "text": "Incremental TVL Performance Benchmark (Completed Programs) <br><sup>Cutoff at Program End Date + 30 days (Latest Date if not yet reached 30 days).</sup>"
        },
        "xaxis": {
         "anchor": "y",
         "domain": [
          0,
          1
         ],
         "title": {
          "text": "Incremental TVL"
         }
        },
        "yaxis": {
         "anchor": "x",
         "domain": [
          0,
          1
         ],
         "title": {
          "text": "Incremental TVL per OP"
         }
        }
       }
      }
     },
     "metadata": {},
     "output_type": "display_data"
    }
   ],
   "source": [
    "layout_settings = {\n",
    "    \"title\": \"Incremental TVL Performance Benchmark (Completed Programs) <br><sup>Cutoff at Program End Date + 30 days (Latest Date if not yet reached 30 days).</sup>\",\n",
    "    \"xaxis_title\": \"Incremental TVL\",\n",
    "    \"yaxis_title\": \"Incremental TVL per OP\",\n",
    "    \"legend_title\": \"Op Source\",\n",
    "}\n",
    "\n",
    "df = cleanup_data(\n",
    "    subset=[\n",
    "        \"op_deployed\",\n",
    "        \"net_tvl_per_op\",\n",
    "        \"cumul_last_price_net_dollar_flow\",\n",
    "        \"incremental_txs_per_day_after\",  # used for filtering completed programs only\n",
    "    ]\n",
    ")\n",
    "\n",
    "plot_benchmark(\n",
    "    df,\n",
    "    x=\"cumul_last_price_net_dollar_flow\",\n",
    "    y=\"net_tvl_per_op\",\n",
    "    size=\"op_deployed\",\n",
    "    layout_settings=layout_settings,\n",
    ")"
   ]
  },
  {
   "attachments": {},
   "cell_type": "markdown",
   "metadata": {},
   "source": [
    "### Fee Benchmark"
   ]
  },
  {
   "cell_type": "code",
   "execution_count": 22,
   "metadata": {},
   "outputs": [
    {
     "data": {
      "application/vnd.plotly.v1+json": {
       "config": {
        "plotlyServerURL": "https://plot.ly"
       },
       "data": [
        {
         "hovertemplate": "<b>%{hovertext}</b><br><br>op_source_map=Multiple<br>incremental_gas_fee_eth_per_day=%{x}<br>incremental_gas_fee_eth_annualized_per_op=%{y}<br>op_deployed=%{marker.size}<extra></extra>",
         "hovertext": [
          "Velodrome",
          "Thales",
          "PoolTogether"
         ],
         "legendgroup": "Multiple",
         "marker": {
          "color": "#636efa",
          "size": [
           6654359.994495694,
           1241235.3491625811,
           897039
          ],
          "sizemode": "area",
          "sizeref": 16635.899986239234,
          "symbol": "circle"
         },
         "mode": "markers",
         "name": "Multiple",
         "orientation": "v",
         "showlegend": true,
         "type": "scatter",
         "x": [
          23.974098463501555,
          0.9665389747099036,
          0.1142223718355993
         ],
         "xaxis": "x",
         "y": [
          0.0013,
          0.0003,
          0
         ],
         "yaxis": "y"
        },
        {
         "hovertemplate": "<b>%{hovertext}</b><br><br>op_source_map=['Phase 0']<br>incremental_gas_fee_eth_per_day=%{x}<br>incremental_gas_fee_eth_annualized_per_op=%{y}<br>op_deployed=%{marker.size}<extra></extra>",
         "hovertext": [
          "Perpetual Protocol",
          "Rubicon",
          "Layer2DAO",
          "Stargate Finance",
          "Lyra",
          "WePiggy",
          "Kwenta",
          "Celer",
          "Slingshot",
          "Synthetix",
          "Pika Protocol",
          "1inch",
          "Aelin",
          "Polynomial Protocol",
          "Hop Protocol",
          "Uniswap",
          "Clipper"
         ],
         "legendgroup": "['Phase 0']",
         "marker": {
          "color": "#EF553B",
          "size": [
           6514184.773350602,
           793865.5450721123,
           699715.9991505251,
           619725.73,
           1613480.87644014,
           300009.75730703503,
           911571,
           220001,
           134336,
           4469188.410052238,
           776728,
           300000,
           900001.0000000003,
           378642.4181382602,
           204739.0403595078,
           799999.98,
           177934
          ],
          "sizemode": "area",
          "sizeref": 16635.899986239234,
          "symbol": "circle"
         },
         "mode": "markers",
         "name": "['Phase 0']",
         "orientation": "v",
         "showlegend": true,
         "type": "scatter",
         "x": [
          -10.775093057352748,
          4.300757568682895,
          0.1940341673209902,
          17.975547161630107,
          0.2982369467383209,
          0.0845646964458189,
          3.1952100687397293,
          0.1537849166120824,
          0.2080980432518231,
          54.70480202884487,
          2.131237221529437,
          2.74002724969198,
          0.0334153841581177,
          0.0530027896986515,
          10.072456106121791,
          7.130062020863948,
          -0.4317828888156554
         ],
         "xaxis": "x",
         "y": [
          -0.0006,
          0.002,
          0.0001,
          0.0106,
          0.0001,
          0.0001,
          0.0013,
          0.0003,
          0.0006,
          0.0045,
          0.001,
          0.0033,
          0,
          0.0001,
          0.018,
          0.0033,
          -0.0009
         ],
         "yaxis": "y"
        },
        {
         "hovertemplate": "<b>%{hovertext}</b><br><br>op_source_map=['Partner Fund']<br>incremental_gas_fee_eth_per_day=%{x}<br>incremental_gas_fee_eth_annualized_per_op=%{y}<br>op_deployed=%{marker.size}<extra></extra>",
         "hovertext": [
          "Aave",
          "Arrakis Finance",
          "Gamma",
          "Lido",
          "Quests on Coinbase Wallet"
         ],
         "legendgroup": "['Partner Fund']",
         "marker": {
          "color": "#00cc96",
          "size": [
           4826838.879736136,
           204170.06,
           0,
           124875,
           0
          ],
          "sizemode": "area",
          "sizeref": 16635.899986239234,
          "symbol": "circle"
         },
         "mode": "markers",
         "name": "['Partner Fund']",
         "orientation": "v",
         "showlegend": true,
         "type": "scatter",
         "x": [
          4.7668471308815965,
          -0.1680020043092367,
          1.0086050977364829,
          1.314974826208679,
          0.1163946221592319
         ],
         "xaxis": "x",
         "y": [
          0.0004,
          -0.0003,
          null,
          0.0038,
          null
         ],
         "yaxis": "y"
        },
        {
         "hovertemplate": "<b>%{hovertext}</b><br><br>op_source_map=['Season 1']<br>incremental_gas_fee_eth_per_day=%{x}<br>incremental_gas_fee_eth_annualized_per_op=%{y}<br>op_deployed=%{marker.size}<extra></extra>",
         "hovertext": [
          "Pickle Finance",
          "Beefy Finance",
          "XToken",
          "Beethoven X",
          "Hundred Finance",
          "dForce",
          "WardenSwap",
          "Mean Finance",
          "QiDao"
         ],
         "legendgroup": "['Season 1']",
         "marker": {
          "color": "#ab63fa",
          "size": [
           92600,
           363961.6725694471,
           1009841.3081865922,
           262691.58999999997,
           161322.5,
           592063.7610960284,
           10000,
           34645.02853434354,
           397118.190853169
          ],
          "sizemode": "area",
          "sizeref": 16635.899986239234,
          "symbol": "circle"
         },
         "mode": "markers",
         "name": "['Season 1']",
         "orientation": "v",
         "showlegend": true,
         "type": "scatter",
         "x": [
          0.1281912762560197,
          1.7897361620766428,
          0.0110936706084816,
          4.569038976820193,
          0.243713367354611,
          0.3263233353242334,
          0.0006326114888549,
          -0.0122328777137688,
          3.344979496575201
         ],
         "xaxis": "x",
         "y": [
          0.0005,
          0.0018,
          0,
          0.0063,
          0.0006,
          0.0002,
          0,
          -0.0001,
          0.0031
         ],
         "yaxis": "y"
        },
        {
         "hovertemplate": "<b>%{hovertext}</b><br><br>op_source_map=['Season 2']<br>incremental_gas_fee_eth_per_day=%{x}<br>incremental_gas_fee_eth_annualized_per_op=%{y}<br>op_deployed=%{marker.size}<extra></extra>",
         "hovertext": [
          "OptiChads",
          "Revert Finance",
          "dHedge",
          "Alchemix",
          "Rainbow",
          "Sushi",
          "Yearn"
         ],
         "legendgroup": "['Season 2']",
         "marker": {
          "color": "#FFA15A",
          "size": [
           62925.43506991356,
           240838.05391830354,
           380943.42300236726,
           36929.8792897358,
           114908.45974050317,
           49999.99999999999,
           300000
          ],
          "sizemode": "area",
          "sizeref": 16635.899986239234,
          "symbol": "circle"
         },
         "mode": "markers",
         "name": "['Season 2']",
         "orientation": "v",
         "showlegend": true,
         "type": "scatter",
         "x": [
          -0.0196255619722963,
          0.0593595928008409,
          0.7938030427159062,
          0.1976769438238798,
          0.0884200608888133,
          -0.4492227577808776,
          3.614098762605456
         ],
         "xaxis": "x",
         "y": [
          -0.0001,
          0.0001,
          0.0008,
          0.002,
          0.0003,
          -0.0033,
          0.0044
         ],
         "yaxis": "y"
        },
        {
         "hovertemplate": "<b>%{hovertext}</b><br><br>op_source_map=['Season 3']<br>incremental_gas_fee_eth_per_day=%{x}<br>incremental_gas_fee_eth_annualized_per_op=%{y}<br>op_deployed=%{marker.size}<extra></extra>",
         "hovertext": [
          "Geo Web",
          "Rabbithole"
         ],
         "legendgroup": "['Season 3']",
         "marker": {
          "color": "#19d3f3",
          "size": [
           21488.5,
           84099.99999999999
          ],
          "sizemode": "area",
          "sizeref": 16635.899986239234,
          "symbol": "circle"
         },
         "mode": "markers",
         "name": "['Season 3']",
         "orientation": "v",
         "showlegend": true,
         "type": "scatter",
         "x": [
          0.0010902057385449,
          3.682007765656484
         ],
         "xaxis": "x",
         "y": [
          0,
          0.016
         ],
         "yaxis": "y"
        },
        {
         "mode": "lines",
         "name": "25th percentile",
         "type": "scatter",
         "x": [
          -10.775093057352748,
          54.70480202884487
         ],
         "y": [
          0.00005,
          0.00005
         ]
        },
        {
         "mode": "lines",
         "name": "50th percentile",
         "type": "scatter",
         "x": [
          -10.775093057352748,
          54.70480202884487
         ],
         "y": [
          0.0005,
          0.0005
         ]
        },
        {
         "mode": "lines",
         "name": "75th percentile",
         "type": "scatter",
         "x": [
          -10.775093057352748,
          54.70480202884487
         ],
         "y": [
          0.0031999999999999997,
          0.0031999999999999997
         ]
        }
       ],
       "layout": {
        "legend": {
         "itemsizing": "constant",
         "title": {
          "text": "Op Source"
         },
         "tracegroupgap": 0
        },
        "margin": {
         "t": 60
        },
        "template": {
         "data": {
          "bar": [
           {
            "error_x": {
             "color": "#2a3f5f"
            },
            "error_y": {
             "color": "#2a3f5f"
            },
            "marker": {
             "line": {
              "color": "#E5ECF6",
              "width": 0.5
             },
             "pattern": {
              "fillmode": "overlay",
              "size": 10,
              "solidity": 0.2
             }
            },
            "type": "bar"
           }
          ],
          "barpolar": [
           {
            "marker": {
             "line": {
              "color": "#E5ECF6",
              "width": 0.5
             },
             "pattern": {
              "fillmode": "overlay",
              "size": 10,
              "solidity": 0.2
             }
            },
            "type": "barpolar"
           }
          ],
          "carpet": [
           {
            "aaxis": {
             "endlinecolor": "#2a3f5f",
             "gridcolor": "white",
             "linecolor": "white",
             "minorgridcolor": "white",
             "startlinecolor": "#2a3f5f"
            },
            "baxis": {
             "endlinecolor": "#2a3f5f",
             "gridcolor": "white",
             "linecolor": "white",
             "minorgridcolor": "white",
             "startlinecolor": "#2a3f5f"
            },
            "type": "carpet"
           }
          ],
          "choropleth": [
           {
            "colorbar": {
             "outlinewidth": 0,
             "ticks": ""
            },
            "type": "choropleth"
           }
          ],
          "contour": [
           {
            "colorbar": {
             "outlinewidth": 0,
             "ticks": ""
            },
            "colorscale": [
             [
              0,
              "#0d0887"
             ],
             [
              0.1111111111111111,
              "#46039f"
             ],
             [
              0.2222222222222222,
              "#7201a8"
             ],
             [
              0.3333333333333333,
              "#9c179e"
             ],
             [
              0.4444444444444444,
              "#bd3786"
             ],
             [
              0.5555555555555556,
              "#d8576b"
             ],
             [
              0.6666666666666666,
              "#ed7953"
             ],
             [
              0.7777777777777778,
              "#fb9f3a"
             ],
             [
              0.8888888888888888,
              "#fdca26"
             ],
             [
              1,
              "#f0f921"
             ]
            ],
            "type": "contour"
           }
          ],
          "contourcarpet": [
           {
            "colorbar": {
             "outlinewidth": 0,
             "ticks": ""
            },
            "type": "contourcarpet"
           }
          ],
          "heatmap": [
           {
            "colorbar": {
             "outlinewidth": 0,
             "ticks": ""
            },
            "colorscale": [
             [
              0,
              "#0d0887"
             ],
             [
              0.1111111111111111,
              "#46039f"
             ],
             [
              0.2222222222222222,
              "#7201a8"
             ],
             [
              0.3333333333333333,
              "#9c179e"
             ],
             [
              0.4444444444444444,
              "#bd3786"
             ],
             [
              0.5555555555555556,
              "#d8576b"
             ],
             [
              0.6666666666666666,
              "#ed7953"
             ],
             [
              0.7777777777777778,
              "#fb9f3a"
             ],
             [
              0.8888888888888888,
              "#fdca26"
             ],
             [
              1,
              "#f0f921"
             ]
            ],
            "type": "heatmap"
           }
          ],
          "heatmapgl": [
           {
            "colorbar": {
             "outlinewidth": 0,
             "ticks": ""
            },
            "colorscale": [
             [
              0,
              "#0d0887"
             ],
             [
              0.1111111111111111,
              "#46039f"
             ],
             [
              0.2222222222222222,
              "#7201a8"
             ],
             [
              0.3333333333333333,
              "#9c179e"
             ],
             [
              0.4444444444444444,
              "#bd3786"
             ],
             [
              0.5555555555555556,
              "#d8576b"
             ],
             [
              0.6666666666666666,
              "#ed7953"
             ],
             [
              0.7777777777777778,
              "#fb9f3a"
             ],
             [
              0.8888888888888888,
              "#fdca26"
             ],
             [
              1,
              "#f0f921"
             ]
            ],
            "type": "heatmapgl"
           }
          ],
          "histogram": [
           {
            "marker": {
             "pattern": {
              "fillmode": "overlay",
              "size": 10,
              "solidity": 0.2
             }
            },
            "type": "histogram"
           }
          ],
          "histogram2d": [
           {
            "colorbar": {
             "outlinewidth": 0,
             "ticks": ""
            },
            "colorscale": [
             [
              0,
              "#0d0887"
             ],
             [
              0.1111111111111111,
              "#46039f"
             ],
             [
              0.2222222222222222,
              "#7201a8"
             ],
             [
              0.3333333333333333,
              "#9c179e"
             ],
             [
              0.4444444444444444,
              "#bd3786"
             ],
             [
              0.5555555555555556,
              "#d8576b"
             ],
             [
              0.6666666666666666,
              "#ed7953"
             ],
             [
              0.7777777777777778,
              "#fb9f3a"
             ],
             [
              0.8888888888888888,
              "#fdca26"
             ],
             [
              1,
              "#f0f921"
             ]
            ],
            "type": "histogram2d"
           }
          ],
          "histogram2dcontour": [
           {
            "colorbar": {
             "outlinewidth": 0,
             "ticks": ""
            },
            "colorscale": [
             [
              0,
              "#0d0887"
             ],
             [
              0.1111111111111111,
              "#46039f"
             ],
             [
              0.2222222222222222,
              "#7201a8"
             ],
             [
              0.3333333333333333,
              "#9c179e"
             ],
             [
              0.4444444444444444,
              "#bd3786"
             ],
             [
              0.5555555555555556,
              "#d8576b"
             ],
             [
              0.6666666666666666,
              "#ed7953"
             ],
             [
              0.7777777777777778,
              "#fb9f3a"
             ],
             [
              0.8888888888888888,
              "#fdca26"
             ],
             [
              1,
              "#f0f921"
             ]
            ],
            "type": "histogram2dcontour"
           }
          ],
          "mesh3d": [
           {
            "colorbar": {
             "outlinewidth": 0,
             "ticks": ""
            },
            "type": "mesh3d"
           }
          ],
          "parcoords": [
           {
            "line": {
             "colorbar": {
              "outlinewidth": 0,
              "ticks": ""
             }
            },
            "type": "parcoords"
           }
          ],
          "pie": [
           {
            "automargin": true,
            "type": "pie"
           }
          ],
          "scatter": [
           {
            "fillpattern": {
             "fillmode": "overlay",
             "size": 10,
             "solidity": 0.2
            },
            "type": "scatter"
           }
          ],
          "scatter3d": [
           {
            "line": {
             "colorbar": {
              "outlinewidth": 0,
              "ticks": ""
             }
            },
            "marker": {
             "colorbar": {
              "outlinewidth": 0,
              "ticks": ""
             }
            },
            "type": "scatter3d"
           }
          ],
          "scattercarpet": [
           {
            "marker": {
             "colorbar": {
              "outlinewidth": 0,
              "ticks": ""
             }
            },
            "type": "scattercarpet"
           }
          ],
          "scattergeo": [
           {
            "marker": {
             "colorbar": {
              "outlinewidth": 0,
              "ticks": ""
             }
            },
            "type": "scattergeo"
           }
          ],
          "scattergl": [
           {
            "marker": {
             "colorbar": {
              "outlinewidth": 0,
              "ticks": ""
             }
            },
            "type": "scattergl"
           }
          ],
          "scattermapbox": [
           {
            "marker": {
             "colorbar": {
              "outlinewidth": 0,
              "ticks": ""
             }
            },
            "type": "scattermapbox"
           }
          ],
          "scatterpolar": [
           {
            "marker": {
             "colorbar": {
              "outlinewidth": 0,
              "ticks": ""
             }
            },
            "type": "scatterpolar"
           }
          ],
          "scatterpolargl": [
           {
            "marker": {
             "colorbar": {
              "outlinewidth": 0,
              "ticks": ""
             }
            },
            "type": "scatterpolargl"
           }
          ],
          "scatterternary": [
           {
            "marker": {
             "colorbar": {
              "outlinewidth": 0,
              "ticks": ""
             }
            },
            "type": "scatterternary"
           }
          ],
          "surface": [
           {
            "colorbar": {
             "outlinewidth": 0,
             "ticks": ""
            },
            "colorscale": [
             [
              0,
              "#0d0887"
             ],
             [
              0.1111111111111111,
              "#46039f"
             ],
             [
              0.2222222222222222,
              "#7201a8"
             ],
             [
              0.3333333333333333,
              "#9c179e"
             ],
             [
              0.4444444444444444,
              "#bd3786"
             ],
             [
              0.5555555555555556,
              "#d8576b"
             ],
             [
              0.6666666666666666,
              "#ed7953"
             ],
             [
              0.7777777777777778,
              "#fb9f3a"
             ],
             [
              0.8888888888888888,
              "#fdca26"
             ],
             [
              1,
              "#f0f921"
             ]
            ],
            "type": "surface"
           }
          ],
          "table": [
           {
            "cells": {
             "fill": {
              "color": "#EBF0F8"
             },
             "line": {
              "color": "white"
             }
            },
            "header": {
             "fill": {
              "color": "#C8D4E3"
             },
             "line": {
              "color": "white"
             }
            },
            "type": "table"
           }
          ]
         },
         "layout": {
          "annotationdefaults": {
           "arrowcolor": "#2a3f5f",
           "arrowhead": 0,
           "arrowwidth": 1
          },
          "autotypenumbers": "strict",
          "coloraxis": {
           "colorbar": {
            "outlinewidth": 0,
            "ticks": ""
           }
          },
          "colorscale": {
           "diverging": [
            [
             0,
             "#8e0152"
            ],
            [
             0.1,
             "#c51b7d"
            ],
            [
             0.2,
             "#de77ae"
            ],
            [
             0.3,
             "#f1b6da"
            ],
            [
             0.4,
             "#fde0ef"
            ],
            [
             0.5,
             "#f7f7f7"
            ],
            [
             0.6,
             "#e6f5d0"
            ],
            [
             0.7,
             "#b8e186"
            ],
            [
             0.8,
             "#7fbc41"
            ],
            [
             0.9,
             "#4d9221"
            ],
            [
             1,
             "#276419"
            ]
           ],
           "sequential": [
            [
             0,
             "#0d0887"
            ],
            [
             0.1111111111111111,
             "#46039f"
            ],
            [
             0.2222222222222222,
             "#7201a8"
            ],
            [
             0.3333333333333333,
             "#9c179e"
            ],
            [
             0.4444444444444444,
             "#bd3786"
            ],
            [
             0.5555555555555556,
             "#d8576b"
            ],
            [
             0.6666666666666666,
             "#ed7953"
            ],
            [
             0.7777777777777778,
             "#fb9f3a"
            ],
            [
             0.8888888888888888,
             "#fdca26"
            ],
            [
             1,
             "#f0f921"
            ]
           ],
           "sequentialminus": [
            [
             0,
             "#0d0887"
            ],
            [
             0.1111111111111111,
             "#46039f"
            ],
            [
             0.2222222222222222,
             "#7201a8"
            ],
            [
             0.3333333333333333,
             "#9c179e"
            ],
            [
             0.4444444444444444,
             "#bd3786"
            ],
            [
             0.5555555555555556,
             "#d8576b"
            ],
            [
             0.6666666666666666,
             "#ed7953"
            ],
            [
             0.7777777777777778,
             "#fb9f3a"
            ],
            [
             0.8888888888888888,
             "#fdca26"
            ],
            [
             1,
             "#f0f921"
            ]
           ]
          },
          "colorway": [
           "#636efa",
           "#EF553B",
           "#00cc96",
           "#ab63fa",
           "#FFA15A",
           "#19d3f3",
           "#FF6692",
           "#B6E880",
           "#FF97FF",
           "#FECB52"
          ],
          "font": {
           "color": "#2a3f5f"
          },
          "geo": {
           "bgcolor": "white",
           "lakecolor": "white",
           "landcolor": "#E5ECF6",
           "showlakes": true,
           "showland": true,
           "subunitcolor": "white"
          },
          "hoverlabel": {
           "align": "left"
          },
          "hovermode": "closest",
          "mapbox": {
           "style": "light"
          },
          "paper_bgcolor": "white",
          "plot_bgcolor": "#E5ECF6",
          "polar": {
           "angularaxis": {
            "gridcolor": "white",
            "linecolor": "white",
            "ticks": ""
           },
           "bgcolor": "#E5ECF6",
           "radialaxis": {
            "gridcolor": "white",
            "linecolor": "white",
            "ticks": ""
           }
          },
          "scene": {
           "xaxis": {
            "backgroundcolor": "#E5ECF6",
            "gridcolor": "white",
            "gridwidth": 2,
            "linecolor": "white",
            "showbackground": true,
            "ticks": "",
            "zerolinecolor": "white"
           },
           "yaxis": {
            "backgroundcolor": "#E5ECF6",
            "gridcolor": "white",
            "gridwidth": 2,
            "linecolor": "white",
            "showbackground": true,
            "ticks": "",
            "zerolinecolor": "white"
           },
           "zaxis": {
            "backgroundcolor": "#E5ECF6",
            "gridcolor": "white",
            "gridwidth": 2,
            "linecolor": "white",
            "showbackground": true,
            "ticks": "",
            "zerolinecolor": "white"
           }
          },
          "shapedefaults": {
           "line": {
            "color": "#2a3f5f"
           }
          },
          "ternary": {
           "aaxis": {
            "gridcolor": "white",
            "linecolor": "white",
            "ticks": ""
           },
           "baxis": {
            "gridcolor": "white",
            "linecolor": "white",
            "ticks": ""
           },
           "bgcolor": "#E5ECF6",
           "caxis": {
            "gridcolor": "white",
            "linecolor": "white",
            "ticks": ""
           }
          },
          "title": {
           "x": 0.05
          },
          "xaxis": {
           "automargin": true,
           "gridcolor": "white",
           "linecolor": "white",
           "ticks": "",
           "title": {
            "standoff": 15
           },
           "zerolinecolor": "white",
           "zerolinewidth": 2
          },
          "yaxis": {
           "automargin": true,
           "gridcolor": "white",
           "linecolor": "white",
           "ticks": "",
           "title": {
            "standoff": 15
           },
           "zerolinecolor": "white",
           "zerolinewidth": 2
          }
         }
        },
        "title": {
         "text": "Incremental ETH Fee Performance Benchmark (All Programs) <br><sup>Cutoff at Program End Date (Latest Date if still Live).</sup>"
        },
        "xaxis": {
         "anchor": "y",
         "domain": [
          0,
          1
         ],
         "title": {
          "text": "Incremental ETH Fee per Day"
         }
        },
        "yaxis": {
         "anchor": "x",
         "domain": [
          0,
          1
         ],
         "title": {
          "text": "Annualized Incremental Fee per OP"
         }
        }
       }
      }
     },
     "metadata": {},
     "output_type": "display_data"
    }
   ],
   "source": [
    "layout_settings = {\n",
    "    \"title\": \"Incremental ETH Fee Performance Benchmark (All Programs) <br><sup>Cutoff at Program End Date (Latest Date if still Live).</sup>\",\n",
    "    \"xaxis_title\": \"Incremental ETH Fee per Day\",\n",
    "    \"yaxis_title\": \"Annualized Incremental Fee per OP\",\n",
    "    \"legend_title\": \"Op Source\",\n",
    "}\n",
    "\n",
    "df = cleanup_data(\n",
    "    subset=[\n",
    "        \"op_deployed\",\n",
    "        \"incremental_gas_fee_eth_per_day\",\n",
    "        \"incremental_gas_fee_eth_annualized_per_op\",\n",
    "    ]\n",
    ")\n",
    "\n",
    "plot_benchmark(\n",
    "    df,\n",
    "    x=\"incremental_gas_fee_eth_per_day\",\n",
    "    y=\"incremental_gas_fee_eth_annualized_per_op\",\n",
    "    size=\"op_deployed\",\n",
    "    layout_settings=layout_settings,\n",
    ")"
   ]
  },
  {
   "cell_type": "code",
   "execution_count": 23,
   "metadata": {},
   "outputs": [
    {
     "data": {
      "application/vnd.plotly.v1+json": {
       "config": {
        "plotlyServerURL": "https://plot.ly"
       },
       "data": [
        {
         "hovertemplate": "<b>%{hovertext}</b><br><br>op_source_map=['Phase 0']<br>incremental_gas_fee_eth_per_day_after=%{x}<br>incremental_gas_fee_eth_after_annualized_per_op=%{y}<br>op_deployed=%{marker.size}<extra></extra>",
         "hovertext": [
          "Rubicon",
          "WePiggy",
          "1inch",
          "Aelin"
         ],
         "legendgroup": "['Phase 0']",
         "marker": {
          "color": "#636efa",
          "size": [
           793865.5450721123,
           300009.75730703503,
           300000,
           900001.0000000003
          ],
          "sizemode": "area",
          "sizeref": 12067.09719934034,
          "symbol": "circle"
         },
         "mode": "markers",
         "name": "['Phase 0']",
         "orientation": "v",
         "showlegend": true,
         "type": "scatter",
         "x": [
          6.5307118325120745,
          0.092052116907066,
          -0.034432869446074,
          -0.0421280144837211
         ],
         "xaxis": "x",
         "y": [
          0.003,
          0.0001,
          0,
          0
         ],
         "yaxis": "y"
        },
        {
         "hovertemplate": "<b>%{hovertext}</b><br><br>op_source_map=Multiple<br>incremental_gas_fee_eth_per_day_after=%{x}<br>incremental_gas_fee_eth_after_annualized_per_op=%{y}<br>op_deployed=%{marker.size}<extra></extra>",
         "hovertext": [
          "PoolTogether"
         ],
         "legendgroup": "Multiple",
         "marker": {
          "color": "#EF553B",
          "size": [
           897039
          ],
          "sizemode": "area",
          "sizeref": 12067.09719934034,
          "symbol": "circle"
         },
         "mode": "markers",
         "name": "Multiple",
         "orientation": "v",
         "showlegend": true,
         "type": "scatter",
         "x": [
          -0.0584051338066117
         ],
         "xaxis": "x",
         "y": [
          0
         ],
         "yaxis": "y"
        },
        {
         "hovertemplate": "<b>%{hovertext}</b><br><br>op_source_map=['Partner Fund']<br>incremental_gas_fee_eth_per_day_after=%{x}<br>incremental_gas_fee_eth_after_annualized_per_op=%{y}<br>op_deployed=%{marker.size}<extra></extra>",
         "hovertext": [
          "Aave",
          "Arrakis Finance",
          "Gamma"
         ],
         "legendgroup": "['Partner Fund']",
         "marker": {
          "color": "#00cc96",
          "size": [
           4826838.879736136,
           204170.06,
           0
          ],
          "sizemode": "area",
          "sizeref": 12067.09719934034,
          "symbol": "circle"
         },
         "mode": "markers",
         "name": "['Partner Fund']",
         "orientation": "v",
         "showlegend": true,
         "type": "scatter",
         "x": [
          8.57632912725768,
          -0.5529982954370688,
          -0.0801278975421622
         ],
         "xaxis": "x",
         "y": [
          0.0006,
          -0.001,
          null
         ],
         "yaxis": "y"
        },
        {
         "hovertemplate": "<b>%{hovertext}</b><br><br>op_source_map=['Season 1']<br>incremental_gas_fee_eth_per_day_after=%{x}<br>incremental_gas_fee_eth_after_annualized_per_op=%{y}<br>op_deployed=%{marker.size}<extra></extra>",
         "hovertext": [
          "XToken"
         ],
         "legendgroup": "['Season 1']",
         "marker": {
          "color": "#ab63fa",
          "size": [
           1009841.3081865922
          ],
          "sizemode": "area",
          "sizeref": 12067.09719934034,
          "symbol": "circle"
         },
         "mode": "markers",
         "name": "['Season 1']",
         "orientation": "v",
         "showlegend": true,
         "type": "scatter",
         "x": [
          0.0015515786605477
         ],
         "xaxis": "x",
         "y": [
          0
         ],
         "yaxis": "y"
        },
        {
         "hovertemplate": "<b>%{hovertext}</b><br><br>op_source_map=['Season 2']<br>incremental_gas_fee_eth_per_day_after=%{x}<br>incremental_gas_fee_eth_after_annualized_per_op=%{y}<br>op_deployed=%{marker.size}<extra></extra>",
         "hovertext": [
          "Revert Finance"
         ],
         "legendgroup": "['Season 2']",
         "marker": {
          "color": "#FFA15A",
          "size": [
           240838.05391830354
          ],
          "sizemode": "area",
          "sizeref": 12067.09719934034,
          "symbol": "circle"
         },
         "mode": "markers",
         "name": "['Season 2']",
         "orientation": "v",
         "showlegend": true,
         "type": "scatter",
         "x": [
          0.0541601304297223
         ],
         "xaxis": "x",
         "y": [
          0.0001
         ],
         "yaxis": "y"
        },
        {
         "mode": "lines",
         "name": "25th percentile",
         "type": "scatter",
         "x": [
          -0.5529982954370688,
          8.57632912725768
         ],
         "y": [
          0,
          0
         ]
        },
        {
         "mode": "lines",
         "name": "50th percentile",
         "type": "scatter",
         "x": [
          -0.5529982954370688,
          8.57632912725768
         ],
         "y": [
          0,
          0
         ]
        },
        {
         "mode": "lines",
         "name": "75th percentile",
         "type": "scatter",
         "x": [
          -0.5529982954370688,
          8.57632912725768
         ],
         "y": [
          0.0001,
          0.0001
         ]
        }
       ],
       "layout": {
        "legend": {
         "itemsizing": "constant",
         "title": {
          "text": "Op Source"
         },
         "tracegroupgap": 0
        },
        "margin": {
         "t": 60
        },
        "template": {
         "data": {
          "bar": [
           {
            "error_x": {
             "color": "#2a3f5f"
            },
            "error_y": {
             "color": "#2a3f5f"
            },
            "marker": {
             "line": {
              "color": "#E5ECF6",
              "width": 0.5
             },
             "pattern": {
              "fillmode": "overlay",
              "size": 10,
              "solidity": 0.2
             }
            },
            "type": "bar"
           }
          ],
          "barpolar": [
           {
            "marker": {
             "line": {
              "color": "#E5ECF6",
              "width": 0.5
             },
             "pattern": {
              "fillmode": "overlay",
              "size": 10,
              "solidity": 0.2
             }
            },
            "type": "barpolar"
           }
          ],
          "carpet": [
           {
            "aaxis": {
             "endlinecolor": "#2a3f5f",
             "gridcolor": "white",
             "linecolor": "white",
             "minorgridcolor": "white",
             "startlinecolor": "#2a3f5f"
            },
            "baxis": {
             "endlinecolor": "#2a3f5f",
             "gridcolor": "white",
             "linecolor": "white",
             "minorgridcolor": "white",
             "startlinecolor": "#2a3f5f"
            },
            "type": "carpet"
           }
          ],
          "choropleth": [
           {
            "colorbar": {
             "outlinewidth": 0,
             "ticks": ""
            },
            "type": "choropleth"
           }
          ],
          "contour": [
           {
            "colorbar": {
             "outlinewidth": 0,
             "ticks": ""
            },
            "colorscale": [
             [
              0,
              "#0d0887"
             ],
             [
              0.1111111111111111,
              "#46039f"
             ],
             [
              0.2222222222222222,
              "#7201a8"
             ],
             [
              0.3333333333333333,
              "#9c179e"
             ],
             [
              0.4444444444444444,
              "#bd3786"
             ],
             [
              0.5555555555555556,
              "#d8576b"
             ],
             [
              0.6666666666666666,
              "#ed7953"
             ],
             [
              0.7777777777777778,
              "#fb9f3a"
             ],
             [
              0.8888888888888888,
              "#fdca26"
             ],
             [
              1,
              "#f0f921"
             ]
            ],
            "type": "contour"
           }
          ],
          "contourcarpet": [
           {
            "colorbar": {
             "outlinewidth": 0,
             "ticks": ""
            },
            "type": "contourcarpet"
           }
          ],
          "heatmap": [
           {
            "colorbar": {
             "outlinewidth": 0,
             "ticks": ""
            },
            "colorscale": [
             [
              0,
              "#0d0887"
             ],
             [
              0.1111111111111111,
              "#46039f"
             ],
             [
              0.2222222222222222,
              "#7201a8"
             ],
             [
              0.3333333333333333,
              "#9c179e"
             ],
             [
              0.4444444444444444,
              "#bd3786"
             ],
             [
              0.5555555555555556,
              "#d8576b"
             ],
             [
              0.6666666666666666,
              "#ed7953"
             ],
             [
              0.7777777777777778,
              "#fb9f3a"
             ],
             [
              0.8888888888888888,
              "#fdca26"
             ],
             [
              1,
              "#f0f921"
             ]
            ],
            "type": "heatmap"
           }
          ],
          "heatmapgl": [
           {
            "colorbar": {
             "outlinewidth": 0,
             "ticks": ""
            },
            "colorscale": [
             [
              0,
              "#0d0887"
             ],
             [
              0.1111111111111111,
              "#46039f"
             ],
             [
              0.2222222222222222,
              "#7201a8"
             ],
             [
              0.3333333333333333,
              "#9c179e"
             ],
             [
              0.4444444444444444,
              "#bd3786"
             ],
             [
              0.5555555555555556,
              "#d8576b"
             ],
             [
              0.6666666666666666,
              "#ed7953"
             ],
             [
              0.7777777777777778,
              "#fb9f3a"
             ],
             [
              0.8888888888888888,
              "#fdca26"
             ],
             [
              1,
              "#f0f921"
             ]
            ],
            "type": "heatmapgl"
           }
          ],
          "histogram": [
           {
            "marker": {
             "pattern": {
              "fillmode": "overlay",
              "size": 10,
              "solidity": 0.2
             }
            },
            "type": "histogram"
           }
          ],
          "histogram2d": [
           {
            "colorbar": {
             "outlinewidth": 0,
             "ticks": ""
            },
            "colorscale": [
             [
              0,
              "#0d0887"
             ],
             [
              0.1111111111111111,
              "#46039f"
             ],
             [
              0.2222222222222222,
              "#7201a8"
             ],
             [
              0.3333333333333333,
              "#9c179e"
             ],
             [
              0.4444444444444444,
              "#bd3786"
             ],
             [
              0.5555555555555556,
              "#d8576b"
             ],
             [
              0.6666666666666666,
              "#ed7953"
             ],
             [
              0.7777777777777778,
              "#fb9f3a"
             ],
             [
              0.8888888888888888,
              "#fdca26"
             ],
             [
              1,
              "#f0f921"
             ]
            ],
            "type": "histogram2d"
           }
          ],
          "histogram2dcontour": [
           {
            "colorbar": {
             "outlinewidth": 0,
             "ticks": ""
            },
            "colorscale": [
             [
              0,
              "#0d0887"
             ],
             [
              0.1111111111111111,
              "#46039f"
             ],
             [
              0.2222222222222222,
              "#7201a8"
             ],
             [
              0.3333333333333333,
              "#9c179e"
             ],
             [
              0.4444444444444444,
              "#bd3786"
             ],
             [
              0.5555555555555556,
              "#d8576b"
             ],
             [
              0.6666666666666666,
              "#ed7953"
             ],
             [
              0.7777777777777778,
              "#fb9f3a"
             ],
             [
              0.8888888888888888,
              "#fdca26"
             ],
             [
              1,
              "#f0f921"
             ]
            ],
            "type": "histogram2dcontour"
           }
          ],
          "mesh3d": [
           {
            "colorbar": {
             "outlinewidth": 0,
             "ticks": ""
            },
            "type": "mesh3d"
           }
          ],
          "parcoords": [
           {
            "line": {
             "colorbar": {
              "outlinewidth": 0,
              "ticks": ""
             }
            },
            "type": "parcoords"
           }
          ],
          "pie": [
           {
            "automargin": true,
            "type": "pie"
           }
          ],
          "scatter": [
           {
            "fillpattern": {
             "fillmode": "overlay",
             "size": 10,
             "solidity": 0.2
            },
            "type": "scatter"
           }
          ],
          "scatter3d": [
           {
            "line": {
             "colorbar": {
              "outlinewidth": 0,
              "ticks": ""
             }
            },
            "marker": {
             "colorbar": {
              "outlinewidth": 0,
              "ticks": ""
             }
            },
            "type": "scatter3d"
           }
          ],
          "scattercarpet": [
           {
            "marker": {
             "colorbar": {
              "outlinewidth": 0,
              "ticks": ""
             }
            },
            "type": "scattercarpet"
           }
          ],
          "scattergeo": [
           {
            "marker": {
             "colorbar": {
              "outlinewidth": 0,
              "ticks": ""
             }
            },
            "type": "scattergeo"
           }
          ],
          "scattergl": [
           {
            "marker": {
             "colorbar": {
              "outlinewidth": 0,
              "ticks": ""
             }
            },
            "type": "scattergl"
           }
          ],
          "scattermapbox": [
           {
            "marker": {
             "colorbar": {
              "outlinewidth": 0,
              "ticks": ""
             }
            },
            "type": "scattermapbox"
           }
          ],
          "scatterpolar": [
           {
            "marker": {
             "colorbar": {
              "outlinewidth": 0,
              "ticks": ""
             }
            },
            "type": "scatterpolar"
           }
          ],
          "scatterpolargl": [
           {
            "marker": {
             "colorbar": {
              "outlinewidth": 0,
              "ticks": ""
             }
            },
            "type": "scatterpolargl"
           }
          ],
          "scatterternary": [
           {
            "marker": {
             "colorbar": {
              "outlinewidth": 0,
              "ticks": ""
             }
            },
            "type": "scatterternary"
           }
          ],
          "surface": [
           {
            "colorbar": {
             "outlinewidth": 0,
             "ticks": ""
            },
            "colorscale": [
             [
              0,
              "#0d0887"
             ],
             [
              0.1111111111111111,
              "#46039f"
             ],
             [
              0.2222222222222222,
              "#7201a8"
             ],
             [
              0.3333333333333333,
              "#9c179e"
             ],
             [
              0.4444444444444444,
              "#bd3786"
             ],
             [
              0.5555555555555556,
              "#d8576b"
             ],
             [
              0.6666666666666666,
              "#ed7953"
             ],
             [
              0.7777777777777778,
              "#fb9f3a"
             ],
             [
              0.8888888888888888,
              "#fdca26"
             ],
             [
              1,
              "#f0f921"
             ]
            ],
            "type": "surface"
           }
          ],
          "table": [
           {
            "cells": {
             "fill": {
              "color": "#EBF0F8"
             },
             "line": {
              "color": "white"
             }
            },
            "header": {
             "fill": {
              "color": "#C8D4E3"
             },
             "line": {
              "color": "white"
             }
            },
            "type": "table"
           }
          ]
         },
         "layout": {
          "annotationdefaults": {
           "arrowcolor": "#2a3f5f",
           "arrowhead": 0,
           "arrowwidth": 1
          },
          "autotypenumbers": "strict",
          "coloraxis": {
           "colorbar": {
            "outlinewidth": 0,
            "ticks": ""
           }
          },
          "colorscale": {
           "diverging": [
            [
             0,
             "#8e0152"
            ],
            [
             0.1,
             "#c51b7d"
            ],
            [
             0.2,
             "#de77ae"
            ],
            [
             0.3,
             "#f1b6da"
            ],
            [
             0.4,
             "#fde0ef"
            ],
            [
             0.5,
             "#f7f7f7"
            ],
            [
             0.6,
             "#e6f5d0"
            ],
            [
             0.7,
             "#b8e186"
            ],
            [
             0.8,
             "#7fbc41"
            ],
            [
             0.9,
             "#4d9221"
            ],
            [
             1,
             "#276419"
            ]
           ],
           "sequential": [
            [
             0,
             "#0d0887"
            ],
            [
             0.1111111111111111,
             "#46039f"
            ],
            [
             0.2222222222222222,
             "#7201a8"
            ],
            [
             0.3333333333333333,
             "#9c179e"
            ],
            [
             0.4444444444444444,
             "#bd3786"
            ],
            [
             0.5555555555555556,
             "#d8576b"
            ],
            [
             0.6666666666666666,
             "#ed7953"
            ],
            [
             0.7777777777777778,
             "#fb9f3a"
            ],
            [
             0.8888888888888888,
             "#fdca26"
            ],
            [
             1,
             "#f0f921"
            ]
           ],
           "sequentialminus": [
            [
             0,
             "#0d0887"
            ],
            [
             0.1111111111111111,
             "#46039f"
            ],
            [
             0.2222222222222222,
             "#7201a8"
            ],
            [
             0.3333333333333333,
             "#9c179e"
            ],
            [
             0.4444444444444444,
             "#bd3786"
            ],
            [
             0.5555555555555556,
             "#d8576b"
            ],
            [
             0.6666666666666666,
             "#ed7953"
            ],
            [
             0.7777777777777778,
             "#fb9f3a"
            ],
            [
             0.8888888888888888,
             "#fdca26"
            ],
            [
             1,
             "#f0f921"
            ]
           ]
          },
          "colorway": [
           "#636efa",
           "#EF553B",
           "#00cc96",
           "#ab63fa",
           "#FFA15A",
           "#19d3f3",
           "#FF6692",
           "#B6E880",
           "#FF97FF",
           "#FECB52"
          ],
          "font": {
           "color": "#2a3f5f"
          },
          "geo": {
           "bgcolor": "white",
           "lakecolor": "white",
           "landcolor": "#E5ECF6",
           "showlakes": true,
           "showland": true,
           "subunitcolor": "white"
          },
          "hoverlabel": {
           "align": "left"
          },
          "hovermode": "closest",
          "mapbox": {
           "style": "light"
          },
          "paper_bgcolor": "white",
          "plot_bgcolor": "#E5ECF6",
          "polar": {
           "angularaxis": {
            "gridcolor": "white",
            "linecolor": "white",
            "ticks": ""
           },
           "bgcolor": "#E5ECF6",
           "radialaxis": {
            "gridcolor": "white",
            "linecolor": "white",
            "ticks": ""
           }
          },
          "scene": {
           "xaxis": {
            "backgroundcolor": "#E5ECF6",
            "gridcolor": "white",
            "gridwidth": 2,
            "linecolor": "white",
            "showbackground": true,
            "ticks": "",
            "zerolinecolor": "white"
           },
           "yaxis": {
            "backgroundcolor": "#E5ECF6",
            "gridcolor": "white",
            "gridwidth": 2,
            "linecolor": "white",
            "showbackground": true,
            "ticks": "",
            "zerolinecolor": "white"
           },
           "zaxis": {
            "backgroundcolor": "#E5ECF6",
            "gridcolor": "white",
            "gridwidth": 2,
            "linecolor": "white",
            "showbackground": true,
            "ticks": "",
            "zerolinecolor": "white"
           }
          },
          "shapedefaults": {
           "line": {
            "color": "#2a3f5f"
           }
          },
          "ternary": {
           "aaxis": {
            "gridcolor": "white",
            "linecolor": "white",
            "ticks": ""
           },
           "baxis": {
            "gridcolor": "white",
            "linecolor": "white",
            "ticks": ""
           },
           "bgcolor": "#E5ECF6",
           "caxis": {
            "gridcolor": "white",
            "linecolor": "white",
            "ticks": ""
           }
          },
          "title": {
           "x": 0.05
          },
          "xaxis": {
           "automargin": true,
           "gridcolor": "white",
           "linecolor": "white",
           "ticks": "",
           "title": {
            "standoff": 15
           },
           "zerolinecolor": "white",
           "zerolinewidth": 2
          },
          "yaxis": {
           "automargin": true,
           "gridcolor": "white",
           "linecolor": "white",
           "ticks": "",
           "title": {
            "standoff": 15
           },
           "zerolinecolor": "white",
           "zerolinewidth": 2
          }
         }
        },
        "title": {
         "text": "Incremental ETH Fee Performance Benchmark (Completed Programs) <br><sup>Cutoff at Program End Date + 30 days (Latest Date if not yet reached 30 days).</sup>"
        },
        "xaxis": {
         "anchor": "y",
         "domain": [
          0,
          1
         ],
         "title": {
          "text": "Incremental ETH Fee per Day"
         }
        },
        "yaxis": {
         "anchor": "x",
         "domain": [
          0,
          1
         ],
         "title": {
          "text": "Annualized Incremental Fee per OP"
         }
        }
       }
      }
     },
     "metadata": {},
     "output_type": "display_data"
    }
   ],
   "source": [
    "layout_settings = {\n",
    "    \"title\": \"Incremental ETH Fee Performance Benchmark (Completed Programs) <br><sup>Cutoff at Program End Date + 30 days (Latest Date if not yet reached 30 days).</sup>\",\n",
    "    \"xaxis_title\": \"Incremental ETH Fee per Day\",\n",
    "    \"yaxis_title\": \"Annualized Incremental Fee per OP\",\n",
    "    \"legend_title\": \"Op Source\",\n",
    "}\n",
    "\n",
    "df = cleanup_data(\n",
    "    subset=[\n",
    "        \"op_deployed\",\n",
    "        \"incremental_gas_fee_eth_per_day_after\",\n",
    "        \"incremental_gas_fee_eth_after_annualized_per_op\",\n",
    "    ]\n",
    ")\n",
    "\n",
    "plot_benchmark(\n",
    "    df,\n",
    "    x=\"incremental_gas_fee_eth_per_day_after\",\n",
    "    y=\"incremental_gas_fee_eth_after_annualized_per_op\",\n",
    "    size=\"op_deployed\",\n",
    "    layout_settings=layout_settings,\n",
    ")"
   ]
  }
 ],
 "metadata": {
  "kernelspec": {
   "display_name": "Python 3",
   "language": "python",
   "name": "python3"
  },
  "language_info": {
   "codemirror_mode": {
    "name": "ipython",
    "version": 3
   },
   "file_extension": ".py",
   "mimetype": "text/x-python",
   "name": "python",
   "nbconvert_exporter": "python",
   "pygments_lexer": "ipython3",
   "version": "3.10.4"
  },
  "orig_nbformat": 4
 },
 "nbformat": 4,
 "nbformat_minor": 2
}
