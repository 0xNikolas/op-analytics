{
 "cells": [
  {
   "cell_type": "code",
   "execution_count": 1,
   "metadata": {},
   "outputs": [],
   "source": [
    "import pandas as pd\n",
    "from pandas.api.types import CategoricalDtype\n",
    "from datetime import datetime, timedelta\n",
    "from utils import format_number\n",
    "\n",
    "from config import LAST_N_DAYS, INCENTIVE_PROGRAMS_ONLY, COL_NAMES_TO_INCLUDE, GOV_INCENTIVE_PROGRAMS_ONLY\n",
    "\n",
    "pd.options.display.float_format = \"{:,.2f}\".format"
   ]
  },
  {
   "cell_type": "code",
   "execution_count": 2,
   "metadata": {},
   "outputs": [],
   "source": [
    "def extract_source(source_string):\n",
    "    source_list = source_string.split(\"-\")\n",
    "    if len(source_list) > 1:\n",
    "        return source_list[1].strip()  # strip() is used to remove any leading/trailing spaces\n",
    "    else:\n",
    "        return source_string.strip()\n",
    "    \n",
    "def cleanup_string(source_string):\n",
    "    return source_string.replace(\" \", \"\").lower()"
   ]
  },
  {
   "attachments": {},
   "cell_type": "markdown",
   "metadata": {},
   "source": [
    "# Incentive Program Summary\n",
    "Status of programs live, completed and to be announced by season."
   ]
  },
  {
   "cell_type": "code",
   "execution_count": 3,
   "metadata": {},
   "outputs": [],
   "source": [
    "df_info = pd.read_csv(\"inputs/\" + \"op_incentive_program_info\" + \".csv\")\n",
    "\n",
    "if INCENTIVE_PROGRAMS_ONLY:\n",
    "    df_info = df_info[df_info[\"Incentive / Growth Program Included?\"] == \"Yes\"]\n",
    "\n",
    "if GOV_INCENTIVE_PROGRAMS_ONLY:\n",
    "    df_info = df_info[(df_info[\"Incentive / Growth Program Included?\"] == \"Yes\") & (df_info[\"Source\"] != \"Partner Fund\")]"
   ]
  },
  {
   "cell_type": "code",
   "execution_count": 4,
   "metadata": {},
   "outputs": [
    {
     "data": {
      "text/html": [
       "<div>\n",
       "<style scoped>\n",
       "    .dataframe tbody tr th:only-of-type {\n",
       "        vertical-align: middle;\n",
       "    }\n",
       "\n",
       "    .dataframe tbody tr th {\n",
       "        vertical-align: top;\n",
       "    }\n",
       "\n",
       "    .dataframe thead th {\n",
       "        text-align: right;\n",
       "    }\n",
       "</style>\n",
       "<table border=\"1\" class=\"dataframe\">\n",
       "  <thead>\n",
       "    <tr style=\"text-align: right;\">\n",
       "      <th></th>\n",
       "      <th></th>\n",
       "      <th># Programs</th>\n",
       "      <th># OP Allocated (M)</th>\n",
       "      <th>% OP Allocated</th>\n",
       "    </tr>\n",
       "    <tr>\n",
       "      <th>Status</th>\n",
       "      <th>Source</th>\n",
       "      <th></th>\n",
       "      <th></th>\n",
       "      <th></th>\n",
       "    </tr>\n",
       "  </thead>\n",
       "  <tbody>\n",
       "    <tr>\n",
       "      <th rowspan=\"5\" valign=\"top\">Live ‎🔥</th>\n",
       "      <th>Sub Total</th>\n",
       "      <td>34</td>\n",
       "      <td>41.7M</td>\n",
       "      <td>76%</td>\n",
       "    </tr>\n",
       "    <tr>\n",
       "      <th>Governance - Season 3</th>\n",
       "      <td>-</td>\n",
       "      <td>0.0</td>\n",
       "      <td>-</td>\n",
       "    </tr>\n",
       "    <tr>\n",
       "      <th>Governance - Season 2</th>\n",
       "      <td>9</td>\n",
       "      <td>6.5M</td>\n",
       "      <td>-</td>\n",
       "    </tr>\n",
       "    <tr>\n",
       "      <th>Governance - Season 1</th>\n",
       "      <td>9</td>\n",
       "      <td>4.5M</td>\n",
       "      <td>-</td>\n",
       "    </tr>\n",
       "    <tr>\n",
       "      <th>Governance - Phase 0</th>\n",
       "      <td>16</td>\n",
       "      <td>30.7M</td>\n",
       "      <td>-</td>\n",
       "    </tr>\n",
       "    <tr>\n",
       "      <th rowspan=\"5\" valign=\"top\">Coming soon ‎⏳</th>\n",
       "      <th>Sub Total</th>\n",
       "      <td>34</td>\n",
       "      <td>11.7M</td>\n",
       "      <td>21%</td>\n",
       "    </tr>\n",
       "    <tr>\n",
       "      <th>Governance - Season 3</th>\n",
       "      <td>12</td>\n",
       "      <td>2.1M</td>\n",
       "      <td>-</td>\n",
       "    </tr>\n",
       "    <tr>\n",
       "      <th>Governance - Season 2</th>\n",
       "      <td>15</td>\n",
       "      <td>6.1M</td>\n",
       "      <td>-</td>\n",
       "    </tr>\n",
       "    <tr>\n",
       "      <th>Governance - Season 1</th>\n",
       "      <td>4</td>\n",
       "      <td>1.3M</td>\n",
       "      <td>-</td>\n",
       "    </tr>\n",
       "    <tr>\n",
       "      <th>Governance - Phase 0</th>\n",
       "      <td>3</td>\n",
       "      <td>2.2M</td>\n",
       "      <td>-</td>\n",
       "    </tr>\n",
       "    <tr>\n",
       "      <th rowspan=\"5\" valign=\"top\">Completed</th>\n",
       "      <th>Sub Total</th>\n",
       "      <td>2</td>\n",
       "      <td>1.2M</td>\n",
       "      <td>2%</td>\n",
       "    </tr>\n",
       "    <tr>\n",
       "      <th>Governance - Season 3</th>\n",
       "      <td>-</td>\n",
       "      <td>0.0</td>\n",
       "      <td>-</td>\n",
       "    </tr>\n",
       "    <tr>\n",
       "      <th>Governance - Season 2</th>\n",
       "      <td>-</td>\n",
       "      <td>0.0</td>\n",
       "      <td>-</td>\n",
       "    </tr>\n",
       "    <tr>\n",
       "      <th>Governance - Season 1</th>\n",
       "      <td>-</td>\n",
       "      <td>0.0</td>\n",
       "      <td>-</td>\n",
       "    </tr>\n",
       "    <tr>\n",
       "      <th>Governance - Phase 0</th>\n",
       "      <td>2</td>\n",
       "      <td>1.2M</td>\n",
       "      <td>-</td>\n",
       "    </tr>\n",
       "    <tr>\n",
       "      <th>Grand Total</th>\n",
       "      <th></th>\n",
       "      <td>70</td>\n",
       "      <td>54.6M</td>\n",
       "      <td>-</td>\n",
       "    </tr>\n",
       "  </tbody>\n",
       "</table>\n",
       "</div>"
      ],
      "text/plain": [
       "                                     # Programs # OP Allocated (M)  \\\n",
       "Status         Source                                                \n",
       "Live ‎🔥        Sub Total                     34              41.7M   \n",
       "               Governance - Season 3          -                0.0   \n",
       "               Governance - Season 2          9               6.5M   \n",
       "               Governance - Season 1          9               4.5M   \n",
       "               Governance - Phase 0          16              30.7M   \n",
       "Coming soon ‎⏳ Sub Total                     34              11.7M   \n",
       "               Governance - Season 3         12               2.1M   \n",
       "               Governance - Season 2         15               6.1M   \n",
       "               Governance - Season 1          4               1.3M   \n",
       "               Governance - Phase 0           3               2.2M   \n",
       "Completed      Sub Total                      2               1.2M   \n",
       "               Governance - Season 3          -                0.0   \n",
       "               Governance - Season 2          -                0.0   \n",
       "               Governance - Season 1          -                0.0   \n",
       "               Governance - Phase 0           2               1.2M   \n",
       "Grand Total                                  70              54.6M   \n",
       "\n",
       "                                     % OP Allocated  \n",
       "Status         Source                                \n",
       "Live ‎🔥        Sub Total                        76%  \n",
       "               Governance - Season 3              -  \n",
       "               Governance - Season 2              -  \n",
       "               Governance - Season 1              -  \n",
       "               Governance - Phase 0               -  \n",
       "Coming soon ‎⏳ Sub Total                        21%  \n",
       "               Governance - Season 3              -  \n",
       "               Governance - Season 2              -  \n",
       "               Governance - Season 1              -  \n",
       "               Governance - Phase 0               -  \n",
       "Completed      Sub Total                         2%  \n",
       "               Governance - Season 3              -  \n",
       "               Governance - Season 2              -  \n",
       "               Governance - Season 1              -  \n",
       "               Governance - Phase 0               -  \n",
       "Grand Total                                       -  "
      ]
     },
     "metadata": {},
     "output_type": "display_data"
    }
   ],
   "source": [
    "# convert to datetime\n",
    "df_info[\"announced_date\"] = pd.to_datetime( df_info[\"Announced On\"] )\n",
    "df_info[\"End Date\"] = pd.to_datetime( df_info[\"End Date\"] )\n",
    "\n",
    "# convert program status into ordered categorical type\n",
    "cat_size_order = CategoricalDtype(\n",
    "    [\"Live ‎🔥\", \"Coming soon ‎⏳\", \"Completed\"], \n",
    "    ordered=True\n",
    ")\n",
    "df_info[\"Status\"] = df_info[\"Status\"].astype(cat_size_order)\n",
    "\n",
    "\n",
    "# clean up for columns needed\n",
    "df_info = df_info[[\"Source\",\"Status\",\"# OP Allocated\",\"App Name\",\"announced_date\", \"End Date\", \"App Name Map Override\"]]\n",
    "\n",
    "summary = pd.pivot_table(df_info, values=[\"# OP Allocated\", \"App Name\"], index=[\"Status\", \"Source\"], \\\n",
    "    aggfunc={\"# OP Allocated\":\"sum\", \"App Name\":\"count\"})\n",
    "\n",
    "# calculate subtotals on program status\n",
    "result=pd.concat([summary,summary.groupby(level=0).sum().assign(item_name=\"Sub Total\").set_index(\"item_name\",append=True)]).sort_index(level=[0,1])\n",
    "result = result.sort_index(level=[0, 1], ascending=[True, False])\n",
    "\n",
    "# add grand total to summary\n",
    "result.loc[(\"Grand Total\"), \"# OP Allocated\"] = summary[\"# OP Allocated\"].sum()\n",
    "result.loc[(\"Grand Total\"), \"App Name\"] = summary[\"App Name\"].sum()\n",
    "\n",
    "# cleanup display\n",
    "result[\"# Programs\"] = result[\"App Name\"].astype(int)\n",
    "result[\"# OP Allocated (M)\"] = result[\"# OP Allocated\"].apply(format_number)\n",
    "\n",
    "# calculate percentage of total\n",
    "result.loc[(slice(None), \"Sub Total\"), \"# OP Allocated\"] / summary[\"# OP Allocated\"].sum()\n",
    "result[\"% OP Allocated\"] = round(result.loc[(slice(None), \"Sub Total\"), \"# OP Allocated\"] / summary[\"# OP Allocated\"].sum() * 100).\\\n",
    "    astype(str).replace(\"\\.0\", \"\", regex=True) + \"%\"\n",
    "result[\"% OP Allocated\"].fillna(\"-\", inplace=True)\n",
    "\n",
    "result = result.replace((0, \"0.0M\"), \"-\")\n",
    "display(result.drop(columns=[\"# OP Allocated\", \"App Name\"]))\n"
   ]
  },
  {
   "cell_type": "code",
   "execution_count": null,
   "metadata": {},
   "outputs": [],
   "source": [
    "# display new programs in last 30 days\n",
    "df_new_programs = df_info[df_info[\"announced_date\"]>pd.Timestamp(\"today\") - timedelta(days = LAST_N_DAYS)].sort_values(by=\"announced_date\", ascending=False)\n",
    "if not df_new_programs.empty:\n",
    "    df_new_programs[\"End Date\"].fillna(\"-\", inplace=True)\n",
    "    display(df_new_programs)"
   ]
  },
  {
   "cell_type": "code",
   "execution_count": null,
   "metadata": {},
   "outputs": [],
   "source": [
    "# display completed programs in last 30 days\n",
    "df_completed = df_info[(df_info[\"Status\"] == \"Completed\") & (df_info[\"End Date\"]>pd.Timestamp(\"today\") - timedelta(days = LAST_N_DAYS))]\\\n",
    "        .sort_values(by=\"announced_date\", ascending=False)\n",
    "if not df_completed.empty:\n",
    "        display(df_completed)"
   ]
  },
  {
   "attachments": {},
   "cell_type": "markdown",
   "metadata": {},
   "source": [
    "# Usage and TVL Attribution\n",
    "To combine all sources of data together"
   ]
  },
  {
   "attachments": {},
   "cell_type": "markdown",
   "metadata": {},
   "source": [
    "### `DF_INFO` Cleanup"
   ]
  },
  {
   "cell_type": "code",
   "execution_count": null,
   "metadata": {},
   "outputs": [],
   "source": [
    "# create app_name_join, coalesce with app name override map, app name and remove any space\n",
    "df_info[\"app_name_join\"] = df_info[\"App Name Map Override\"].fillna(df_info[\"App Name\"])\n",
    "df_info[\"app_name_join\"] = df_info[\"app_name_join\"].apply(cleanup_string)\n",
    "\n",
    "# apply the function to the \"Source\" column and create a new column \"Source Extracted\"\n",
    "df_info[\"source_cleanup\"] = df_info[\"Source\"].apply(extract_source)\n",
    "df_info[\"source_cleanup\"] = df_info[\"source_cleanup\"].apply(cleanup_string)"
   ]
  },
  {
   "attachments": {},
   "cell_type": "markdown",
   "metadata": {},
   "source": [
    "### `DF_USAGE` Cleanup"
   ]
  },
  {
   "cell_type": "code",
   "execution_count": null,
   "metadata": {},
   "outputs": [],
   "source": [
    "df_usage = pd.read_csv(\"csv_outputs/\" + \"dune_op_program_performance_summary\" + \".csv\")\n",
    "df_usage[\"app_name_join\"] = df_usage[\"app_name\"].apply(cleanup_string)\n",
    "df_usage[\"source_cleanup\"] = df_usage[\"op_source\"].apply(cleanup_string)"
   ]
  },
  {
   "attachments": {},
   "cell_type": "markdown",
   "metadata": {},
   "source": [
    "### `DF_TVL` Cleanup"
   ]
  },
  {
   "cell_type": "code",
   "execution_count": null,
   "metadata": {},
   "outputs": [],
   "source": [
    "df_tvl = pd.read_csv('csv_outputs/op_summer_latest_stats.csv')\n",
    "df_tvl = df_tvl[df_tvl[\"include_in_summary\"] == 1]\n",
    "\n",
    "# cleanup\n",
    "df_tvl[\"app_name_join\"] = df_tvl[\"app_name\"].apply(cleanup_string)\n",
    "df_tvl[\"source_cleanup\"] = df_tvl[\"op_source\"].apply(extract_source)\n",
    "df_tvl[\"source_cleanup\"] = df_tvl[\"source_cleanup\"].apply(cleanup_string)\n",
    "\n",
    "df_tvl = pd.DataFrame(df_tvl.groupby([\"app_name_join\", \"source_cleanup\"]).sum()[\"cumul_last_price_net_dollar_flow\"]).reset_index()\n",
    "df_tvl"
   ]
  },
  {
   "attachments": {},
   "cell_type": "markdown",
   "metadata": {},
   "source": [
    "### `DF_OP_DISTRIBUTION` Cleanup"
   ]
  },
  {
   "cell_type": "code",
   "execution_count": null,
   "metadata": {},
   "outputs": [],
   "source": [
    "df_op_distribution = pd.read_csv(\"csv_outputs/dune_op_distribution_type.csv\")\n",
    "df_op_distribution.head()\n"
   ]
  },
  {
   "cell_type": "code",
   "execution_count": null,
   "metadata": {},
   "outputs": [],
   "source": [
    "result = df_op_distribution.groupby(\"from_name\").sum().sort_values(by=\"op_deployed\", ascending=False).reset_index()\n",
    "\n"
   ]
  },
  {
   "cell_type": "code",
   "execution_count": null,
   "metadata": {},
   "outputs": [],
   "source": [
    "result[\"from_name\"] = result[\"from_name\"].apply(cleanup_string)\n",
    "result[[\"from_name\", \"op_deployed\"]]"
   ]
  },
  {
   "attachments": {},
   "cell_type": "markdown",
   "metadata": {},
   "source": [
    "### Combine Data"
   ]
  },
  {
   "cell_type": "code",
   "execution_count": null,
   "metadata": {},
   "outputs": [],
   "source": [
    "df_combined = pd.merge(df_info, df_usage, on=[\"app_name_join\", \"source_cleanup\"])\n",
    "df_combined = df_combined[COL_NAMES_TO_INCLUDE]"
   ]
  },
  {
   "cell_type": "code",
   "execution_count": null,
   "metadata": {},
   "outputs": [],
   "source": [
    "df_combined"
   ]
  },
  {
   "cell_type": "code",
   "execution_count": null,
   "metadata": {},
   "outputs": [],
   "source": [
    "agg_dict = {\n",
    "    \"incremental_addr_per_day\": \"sum\",\n",
    "    \"incremental_txs_per_day\": \"sum\",\n",
    "    \"incremental_gas_fee_eth_per_day\": \"sum\"\n",
    "}"
   ]
  },
  {
   "cell_type": "code",
   "execution_count": null,
   "metadata": {},
   "outputs": [],
   "source": [
    "result_fund_source = df_combined.groupby(\"Source\").agg(agg_dict)\n",
    "result_fund_source.sort_values(\"Source\")"
   ]
  },
  {
   "cell_type": "code",
   "execution_count": null,
   "metadata": {},
   "outputs": [],
   "source": [
    "result_fund_source = df_combined.groupby(\"category\").agg(agg_dict)\n",
    "result_fund_source.sort_values(\"incremental_txs_per_day\", ascending=False)"
   ]
  },
  {
   "cell_type": "code",
   "execution_count": null,
   "metadata": {},
   "outputs": [],
   "source": [
    "# program_df_grouped = program_df.groupby('App Name Map').agg({\n",
    "#     '# OP Allocated': 'sum',\n",
    "#     'Source': lambda x: list(set(x))\n",
    "# }).reset_index()"
   ]
  },
  {
   "cell_type": "code",
   "execution_count": null,
   "metadata": {},
   "outputs": [],
   "source": [
    "# summary by app, create array.list for season they belong to \n",
    "# have two summary, one just gov fund, the other one include partnerfund \n",
    "# use no sybil filters for this"
   ]
  }
 ],
 "metadata": {
  "kernelspec": {
   "display_name": "Python 3",
   "language": "python",
   "name": "python3"
  },
  "language_info": {
   "codemirror_mode": {
    "name": "ipython",
    "version": 3
   },
   "file_extension": ".py",
   "mimetype": "text/x-python",
   "name": "python",
   "nbconvert_exporter": "python",
   "pygments_lexer": "ipython3",
   "version": "3.10.4"
  },
  "orig_nbformat": 4
 },
 "nbformat": 4,
 "nbformat_minor": 2
}
