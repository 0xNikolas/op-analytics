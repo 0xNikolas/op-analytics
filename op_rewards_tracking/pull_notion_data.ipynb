{
 "cells": [
  {
   "cell_type": "code",
   "execution_count": 1,
   "metadata": {},
   "outputs": [],
   "source": [
    "import notion_client\n",
    "import sys\n",
    "sys.path.append(\"../helper_functions\")\n",
    "import notionapi_utils as n"
   ]
  },
  {
   "cell_type": "code",
   "execution_count": 2,
   "metadata": {},
   "outputs": [
    {
     "ename": "ValueError",
     "evalue": "Not a valid Notion URL.",
     "output_type": "error",
     "traceback": [
      "\u001b[0;31m---------------------------------------------------------------------------\u001b[0m",
      "\u001b[0;31mValueError\u001b[0m                                Traceback (most recent call last)",
      "Cell \u001b[0;32mIn[2], line 7\u001b[0m\n\u001b[1;32m      4\u001b[0m op_summer_page \u001b[39m=\u001b[39m \u001b[39m'\u001b[39m\u001b[39mhttps://oplabs.notion.site/26d856d5ad7c4fda919c62e839cf6051?v=4e38174b2e994129b51dcfa127965aa4\u001b[39m\u001b[39m'\u001b[39m\n\u001b[1;32m      6\u001b[0m \u001b[39m# df = n.read_notion_database(op_summerdb_id)\u001b[39;00m\n\u001b[0;32m----> 7\u001b[0m df \u001b[39m=\u001b[39m n\u001b[39m.\u001b[39;49mread_notion_database_to_pandas_df(op_summer_page)\n\u001b[1;32m      9\u001b[0m display(df)\n",
      "File \u001b[0;32m~/Documents/GitHub/op-analytics/op_rewards_tracking/../helper_functions/notionapi_utils.py:34\u001b[0m, in \u001b[0;36mread_notion_database_to_pandas_df\u001b[0;34m(page_url)\u001b[0m\n\u001b[1;32m     32\u001b[0m \u001b[39mdef\u001b[39;00m \u001b[39mread_notion_database_to_pandas_df\u001b[39m(page_url):\n\u001b[1;32m     33\u001b[0m         notion_df\u001b[39m.\u001b[39mpandas() \u001b[39m#That's it!\u001b[39;00m\n\u001b[0;32m---> 34\u001b[0m         df \u001b[39m=\u001b[39m pd\u001b[39m.\u001b[39;49mread_notion(page_url, api_key\u001b[39m=\u001b[39;49mnotion_api)\n\u001b[1;32m     35\u001b[0m         \u001b[39mreturn\u001b[39;00m df\n",
      "File \u001b[0;32m~/opt/anaconda3/envs/new-env/lib/python3.10/site-packages/notion_df/_pandas.py:39\u001b[0m, in \u001b[0;36mread_notion\u001b[0;34m(notion_url, nrows, resolve_relation_values, errors, api_key)\u001b[0m\n\u001b[1;32m      5\u001b[0m \u001b[39mdef\u001b[39;00m \u001b[39mread_notion\u001b[39m(\n\u001b[1;32m      6\u001b[0m     notion_url: \u001b[39mstr\u001b[39m,\n\u001b[1;32m      7\u001b[0m     nrows: Optional[\u001b[39mint\u001b[39m] \u001b[39m=\u001b[39m \u001b[39mNone\u001b[39;00m,\n\u001b[0;32m   (...)\u001b[0m\n\u001b[1;32m     10\u001b[0m     api_key: \u001b[39mstr\u001b[39m \u001b[39m=\u001b[39m \u001b[39mNone\u001b[39;00m,\n\u001b[1;32m     11\u001b[0m ) \u001b[39m-\u001b[39m\u001b[39m>\u001b[39m \u001b[39m\"\u001b[39m\u001b[39mpd.DataFrame\u001b[39m\u001b[39m\"\u001b[39m:\n\u001b[1;32m     12\u001b[0m \u001b[39m    \u001b[39m\u001b[39m\"\"\"Download a Notion database as a pandas DataFrame.\u001b[39;00m\n\u001b[1;32m     13\u001b[0m \n\u001b[1;32m     14\u001b[0m \u001b[39m    Args:\u001b[39;00m\n\u001b[0;32m   (...)\u001b[0m\n\u001b[1;32m     37\u001b[0m \u001b[39m        pd.DataFrame: the loaded dataframe.\u001b[39;00m\n\u001b[1;32m     38\u001b[0m \u001b[39m    \"\"\"\u001b[39;00m\n\u001b[0;32m---> 39\u001b[0m     \u001b[39mreturn\u001b[39;00m download(\n\u001b[1;32m     40\u001b[0m         notion_url,\n\u001b[1;32m     41\u001b[0m         nrows\u001b[39m=\u001b[39;49mnrows,\n\u001b[1;32m     42\u001b[0m         resolve_relation_values\u001b[39m=\u001b[39;49mresolve_relation_values,\n\u001b[1;32m     43\u001b[0m         errors\u001b[39m=\u001b[39;49merrors,\n\u001b[1;32m     44\u001b[0m         api_key\u001b[39m=\u001b[39;49mapi_key,\n\u001b[1;32m     45\u001b[0m     )\n",
      "File \u001b[0;32m~/opt/anaconda3/envs/new-env/lib/python3.10/site-packages/notion_df/agent.py:54\u001b[0m, in \u001b[0;36muse_client.<locals>.wrapper\u001b[0;34m(*args, **kwargs)\u001b[0m\n\u001b[1;32m     52\u001b[0m     api_key \u001b[39m=\u001b[39m _load_api_key(kwargs\u001b[39m.\u001b[39mpop(\u001b[39m\"\u001b[39m\u001b[39mapi_key\u001b[39m\u001b[39m\"\u001b[39m, \u001b[39mNone\u001b[39;00m))\n\u001b[1;32m     53\u001b[0m     client \u001b[39m=\u001b[39m Client(auth\u001b[39m=\u001b[39mapi_key)\n\u001b[0;32m---> 54\u001b[0m out \u001b[39m=\u001b[39m func(client\u001b[39m=\u001b[39;49mclient, \u001b[39m*\u001b[39;49margs, \u001b[39m*\u001b[39;49m\u001b[39m*\u001b[39;49mkwargs)\n\u001b[1;32m     56\u001b[0m \u001b[39mif\u001b[39;00m orig_client \u001b[39mis\u001b[39;00m \u001b[39mNone\u001b[39;00m:\n\u001b[1;32m     57\u001b[0m     \u001b[39m# Automatically close the client if it was not passed in\u001b[39;00m\n\u001b[1;32m     58\u001b[0m     client\u001b[39m.\u001b[39mclose()\n",
      "File \u001b[0;32m~/opt/anaconda3/envs/new-env/lib/python3.10/site-packages/notion_df/agent.py:197\u001b[0m, in \u001b[0;36mdownload\u001b[0;34m(notion_url, nrows, resolve_relation_values, errors, api_key, client)\u001b[0m\n\u001b[1;32m    187\u001b[0m \u001b[39m@use_client\u001b[39m\n\u001b[1;32m    188\u001b[0m \u001b[39mdef\u001b[39;00m \u001b[39mdownload\u001b[39m(\n\u001b[1;32m    189\u001b[0m     notion_url: \u001b[39mstr\u001b[39m,\n\u001b[0;32m   (...)\u001b[0m\n\u001b[1;32m    195\u001b[0m     client: Client \u001b[39m=\u001b[39m \u001b[39mNone\u001b[39;00m,\n\u001b[1;32m    196\u001b[0m ):\n\u001b[0;32m--> 197\u001b[0m     df \u001b[39m=\u001b[39m download_df_from_database(\n\u001b[1;32m    198\u001b[0m         notion_url\u001b[39m=\u001b[39;49mnotion_url,\n\u001b[1;32m    199\u001b[0m         nrows\u001b[39m=\u001b[39;49mnrows,\n\u001b[1;32m    200\u001b[0m         client\u001b[39m=\u001b[39;49mclient,\n\u001b[1;32m    201\u001b[0m         errors\u001b[39m=\u001b[39;49merrors,\n\u001b[1;32m    202\u001b[0m     )\n\u001b[1;32m    203\u001b[0m     \u001b[39mif\u001b[39;00m resolve_relation_values:\n\u001b[1;32m    204\u001b[0m         \u001b[39mfor\u001b[39;00m col \u001b[39min\u001b[39;00m df\u001b[39m.\u001b[39mcolumns:\n",
      "File \u001b[0;32m~/opt/anaconda3/envs/new-env/lib/python3.10/site-packages/notion_df/agent.py:133\u001b[0m, in \u001b[0;36mdownload_df_from_database\u001b[0;34m(notion_url, client, nrows, errors)\u001b[0m\n\u001b[1;32m    131\u001b[0m \u001b[39mif\u001b[39;00m \u001b[39mnot\u001b[39;00m is_uuid(notion_url):\n\u001b[1;32m    132\u001b[0m     \u001b[39massert\u001b[39;00m _is_notion_database(notion_url)\n\u001b[0;32m--> 133\u001b[0m     database_id \u001b[39m=\u001b[39m get_id(notion_url)\n\u001b[1;32m    134\u001b[0m \u001b[39melse\u001b[39;00m:\n\u001b[1;32m    135\u001b[0m     database_id \u001b[39m=\u001b[39m notion_url\n",
      "File \u001b[0;32m~/opt/anaconda3/envs/new-env/lib/python3.10/site-packages/notion_client/helpers.py:21\u001b[0m, in \u001b[0;36mget_id\u001b[0;34m(url)\u001b[0m\n\u001b[1;32m     19\u001b[0m parsed \u001b[39m=\u001b[39m urlparse(url)\n\u001b[1;32m     20\u001b[0m \u001b[39mif\u001b[39;00m parsed\u001b[39m.\u001b[39mnetloc \u001b[39mnot\u001b[39;00m \u001b[39min\u001b[39;00m (\u001b[39m\"\u001b[39m\u001b[39mnotion.so\u001b[39m\u001b[39m\"\u001b[39m, \u001b[39m\"\u001b[39m\u001b[39mwww.notion.so\u001b[39m\u001b[39m\"\u001b[39m):\n\u001b[0;32m---> 21\u001b[0m     \u001b[39mraise\u001b[39;00m \u001b[39mValueError\u001b[39;00m(\u001b[39m\"\u001b[39m\u001b[39mNot a valid Notion URL.\u001b[39m\u001b[39m\"\u001b[39m)\n\u001b[1;32m     22\u001b[0m path \u001b[39m=\u001b[39m parsed\u001b[39m.\u001b[39mpath\n\u001b[1;32m     23\u001b[0m \u001b[39mif\u001b[39;00m \u001b[39mlen\u001b[39m(path) \u001b[39m<\u001b[39m \u001b[39m32\u001b[39m:\n",
      "\u001b[0;31mValueError\u001b[0m: Not a valid Notion URL."
     ]
    }
   ],
   "source": [
    "# https://oplabs.notion.site/26d856d5ad7c4fda919c62e839cf6051?v=4e38174b2e994129b51dcfa127965aa4\n",
    "\n",
    "op_summerdb_id = '26d856d5ad7c4fda919c62e839cf6051'\n",
    "op_summer_page = 'https://www.notion.so/oplabs/26d856d5ad7c4fda919c62e839cf6051?v=96c651b94d564c37b96c7eca2bd91157&pvs=4'\n",
    "\n",
    "# df = n.read_notion_database(op_summerdb_id)\n",
    "df = n.read_notion_database_to_pandas_df(op_summer_page)\n",
    "\n",
    "display(df)"
   ]
  }
 ],
 "metadata": {
  "kernelspec": {
   "display_name": "new-env",
   "language": "python",
   "name": "python3"
  },
  "language_info": {
   "codemirror_mode": {
    "name": "ipython",
    "version": 3
   },
   "file_extension": ".py",
   "mimetype": "text/x-python",
   "name": "python",
   "nbconvert_exporter": "python",
   "pygments_lexer": "ipython3",
   "version": "3.10.11"
  },
  "orig_nbformat": 4
 },
 "nbformat": 4,
 "nbformat_minor": 2
}
