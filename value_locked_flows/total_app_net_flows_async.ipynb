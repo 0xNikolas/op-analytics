{
 "cells": [
  {
   "cell_type": "code",
   "execution_count": 1,
   "id": "ffefb42a",
   "metadata": {},
   "outputs": [],
   "source": [
    "import pandas as pd\n",
    "import plotly.express as px\n",
    "from datetime import datetime, timedelta, date\n",
    "import numpy as np\n",
    "import os\n",
    "import sys\n",
    "import shutil\n",
    "sys.path.append('../helper_functions')\n",
    "import defillama_utils as dfl"
   ]
  },
  {
   "cell_type": "code",
   "execution_count": 2,
   "id": "bbc56e12",
   "metadata": {},
   "outputs": [
    {
     "name": "stdout",
     "output_type": "stream",
     "text": [
      "2022-09-12\n"
     ]
    }
   ],
   "source": [
    "# date ranges to build charts for\n",
    "drange = [7, 14, 30, 90, 180, 365]\n",
    "# Do we count net flows marked at the lastest token price (1) or the price on each day (0)\n",
    "# By default, we opt to 1, so that price movement isn't accidentally counted as + or - flow remainder\n",
    "mark_at_latest_price = 1 #some errors with missing token prices we need to find solves for first\n",
    "\n",
    "trailing_num_days = max(drange)\n",
    "# print(trailing_num_days)\n",
    "\n",
    "start_date = datetime.utcnow().date()-timedelta(days=trailing_num_days +1)\n",
    "print(start_date)"
   ]
  },
  {
   "cell_type": "code",
   "execution_count": 3,
   "id": "76b8d9c9",
   "metadata": {},
   "outputs": [],
   "source": [
    "#get all apps > 10 m tvl\n",
    "min_tvl = 10_000_000\n",
    "\n",
    "# if TVL by token is not available, do we fallback on raw TVL (sensitive to token prices)?\n",
    "is_fallback_on_raw_tvl = True#False\n",
    "\n",
    "df_df = dfl.get_all_protocol_tvls_by_chain_and_token(min_tvl, is_fallback_on_raw_tvl)"
   ]
  },
  {
   "cell_type": "code",
   "execution_count": 4,
   "id": "f3254fd1",
   "metadata": {},
   "outputs": [
    {
     "data": {
      "text/html": [
       "<div>\n",
       "<style scoped>\n",
       "    .dataframe tbody tr th:only-of-type {\n",
       "        vertical-align: middle;\n",
       "    }\n",
       "\n",
       "    .dataframe tbody tr th {\n",
       "        vertical-align: top;\n",
       "    }\n",
       "\n",
       "    .dataframe thead th {\n",
       "        text-align: right;\n",
       "    }\n",
       "</style>\n",
       "<table border=\"1\" class=\"dataframe\">\n",
       "  <thead>\n",
       "    <tr style=\"text-align: right;\">\n",
       "      <th></th>\n",
       "      <th>date</th>\n",
       "      <th>token</th>\n",
       "      <th>token_value</th>\n",
       "      <th>usd_value</th>\n",
       "      <th>total_app_tvl</th>\n",
       "      <th>protocol</th>\n",
       "      <th>slug</th>\n",
       "      <th>chain</th>\n",
       "      <th>category</th>\n",
       "      <th>name</th>\n",
       "      <th>parent_protocol</th>\n",
       "    </tr>\n",
       "  </thead>\n",
       "  <tbody>\n",
       "    <tr>\n",
       "      <th>0</th>\n",
       "      <td>2020-12-19 23:00:00</td>\n",
       "      <td>WETH</td>\n",
       "      <td>2272.26688</td>\n",
       "      <td>1.484681e+06</td>\n",
       "      <td>1.484681e+06</td>\n",
       "      <td>lido</td>\n",
       "      <td>lido</td>\n",
       "      <td>Ethereum</td>\n",
       "      <td>Liquid Staking</td>\n",
       "      <td>Lido</td>\n",
       "      <td>Lido</td>\n",
       "    </tr>\n",
       "    <tr>\n",
       "      <th>1</th>\n",
       "      <td>2020-12-19 23:00:00</td>\n",
       "      <td>MATIC</td>\n",
       "      <td>0</td>\n",
       "      <td>0.000000e+00</td>\n",
       "      <td>1.484681e+06</td>\n",
       "      <td>lido</td>\n",
       "      <td>lido</td>\n",
       "      <td>Ethereum</td>\n",
       "      <td>Liquid Staking</td>\n",
       "      <td>Lido</td>\n",
       "      <td>Lido</td>\n",
       "    </tr>\n",
       "    <tr>\n",
       "      <th>2</th>\n",
       "      <td>2020-12-20 23:00:00</td>\n",
       "      <td>WETH</td>\n",
       "      <td>4140.77143</td>\n",
       "      <td>2.697598e+06</td>\n",
       "      <td>2.697598e+06</td>\n",
       "      <td>lido</td>\n",
       "      <td>lido</td>\n",
       "      <td>Ethereum</td>\n",
       "      <td>Liquid Staking</td>\n",
       "      <td>Lido</td>\n",
       "      <td>Lido</td>\n",
       "    </tr>\n",
       "    <tr>\n",
       "      <th>3</th>\n",
       "      <td>2020-12-20 23:00:00</td>\n",
       "      <td>MATIC</td>\n",
       "      <td>0</td>\n",
       "      <td>0.000000e+00</td>\n",
       "      <td>2.697598e+06</td>\n",
       "      <td>lido</td>\n",
       "      <td>lido</td>\n",
       "      <td>Ethereum</td>\n",
       "      <td>Liquid Staking</td>\n",
       "      <td>Lido</td>\n",
       "      <td>Lido</td>\n",
       "    </tr>\n",
       "    <tr>\n",
       "      <th>4</th>\n",
       "      <td>2020-12-21 23:00:00</td>\n",
       "      <td>WETH</td>\n",
       "      <td>5562.49008</td>\n",
       "      <td>3.410254e+06</td>\n",
       "      <td>3.410254e+06</td>\n",
       "      <td>lido</td>\n",
       "      <td>lido</td>\n",
       "      <td>Ethereum</td>\n",
       "      <td>Liquid Staking</td>\n",
       "      <td>Lido</td>\n",
       "      <td>Lido</td>\n",
       "    </tr>\n",
       "  </tbody>\n",
       "</table>\n",
       "</div>"
      ],
      "text/plain": [
       "                 date  token token_value     usd_value  total_app_tvl  \\\n",
       "0 2020-12-19 23:00:00   WETH  2272.26688  1.484681e+06   1.484681e+06   \n",
       "1 2020-12-19 23:00:00  MATIC           0  0.000000e+00   1.484681e+06   \n",
       "2 2020-12-20 23:00:00   WETH  4140.77143  2.697598e+06   2.697598e+06   \n",
       "3 2020-12-20 23:00:00  MATIC           0  0.000000e+00   2.697598e+06   \n",
       "4 2020-12-21 23:00:00   WETH  5562.49008  3.410254e+06   3.410254e+06   \n",
       "\n",
       "  protocol  slug     chain        category  name parent_protocol  \n",
       "0     lido  lido  Ethereum  Liquid Staking  Lido            Lido  \n",
       "1     lido  lido  Ethereum  Liquid Staking  Lido            Lido  \n",
       "2     lido  lido  Ethereum  Liquid Staking  Lido            Lido  \n",
       "3     lido  lido  Ethereum  Liquid Staking  Lido            Lido  \n",
       "4     lido  lido  Ethereum  Liquid Staking  Lido            Lido  "
      ]
     },
     "execution_count": 4,
     "metadata": {},
     "output_type": "execute_result"
    }
   ],
   "source": [
    "\n",
    "df_df.head()\n",
    "\n",
    "# Test for errors\n",
    "# df_df_all[(df_df_all['protocol'] == 'app_name') & (df_df_all['date'] == '2023-01-27')]"
   ]
  },
  {
   "cell_type": "code",
   "execution_count": 5,
   "id": "bef17372",
   "metadata": {},
   "outputs": [],
   "source": [
    "# display(df_df_all)\n",
    "\n",
    "# df_df_all2['token_value'] = df_df_all2['token_value'].fillna(0)\n",
    "df_df['token_value'] = df_df['token_value'].astype('float64')\n",
    "df_df['usd_value'] = df_df['usd_value'].astype('float64')\n",
    "# display(df_df_all2)"
   ]
  },
  {
   "cell_type": "code",
   "execution_count": 6,
   "id": "5ab956a5",
   "metadata": {},
   "outputs": [],
   "source": [
    "#create an extra day to handle for tokens dropping to 0\n",
    "\n",
    "df_df = df_df.fillna(0)\n",
    "df_df_shift = df_df.copy()\n",
    "df_df_shift['date'] = df_df_shift['date'] + timedelta(days=1)\n",
    "df_df_shift['token_value'] = 0.0\n",
    "df_df_shift['usd_value'] = 0.0\n",
    "\n",
    "#merge back in\n",
    "df_df = pd.concat([df_df,df_df_shift])\n",
    "df_df_shift = None #Free Up memory\n",
    "# print(df_df_all.dtypes)\n",
    "\n",
    "df_df = df_df[df_df['date'] <= pd.to_datetime(\"today\") ]\n",
    "\n",
    "df_df['token_value'] = df_df['token_value'].fillna(0)\n",
    "df_df_all = df_df.groupby(['date','token','chain','protocol','name','category','parent_protocol']).sum(['usd_value','token_value'])\n",
    "\n",
    "\n",
    "df_df = df_df.reset_index()"
   ]
  },
  {
   "cell_type": "code",
   "execution_count": 7,
   "id": "c7c1ddad",
   "metadata": {},
   "outputs": [
    {
     "name": "stdout",
     "output_type": "stream",
     "text": [
      "done api\n"
     ]
    }
   ],
   "source": [
    "print(\"done api\")"
   ]
  },
  {
   "cell_type": "code",
   "execution_count": 8,
   "id": "53c381e8",
   "metadata": {},
   "outputs": [],
   "source": [
    "#filter down a bit so we can do trailing comparisons w/o doing every row\n",
    "df_df = df_df[df_df['date'].dt.date >= start_date-timedelta(days=1) ]\n",
    "\n",
    "#trailing comparison\n",
    "df_df['last_token_value'] = df_df.groupby(['token','protocol','chain'])['token_value'].shift(1)\n",
    "#now actually filter\n",
    "df_df = df_df[df_df['date'].dt.date >= start_date ]\n",
    "# display(df_df[df_df['protocol'] == 'velodrome'])"
   ]
  },
  {
   "cell_type": "code",
   "execution_count": 9,
   "id": "8f9eb8e5",
   "metadata": {},
   "outputs": [
    {
     "data": {
      "text/html": [
       "<div>\n",
       "<style scoped>\n",
       "    .dataframe tbody tr th:only-of-type {\n",
       "        vertical-align: middle;\n",
       "    }\n",
       "\n",
       "    .dataframe tbody tr th {\n",
       "        vertical-align: top;\n",
       "    }\n",
       "\n",
       "    .dataframe thead th {\n",
       "        text-align: right;\n",
       "    }\n",
       "</style>\n",
       "<table border=\"1\" class=\"dataframe\">\n",
       "  <thead>\n",
       "    <tr style=\"text-align: right;\">\n",
       "      <th></th>\n",
       "      <th>index</th>\n",
       "      <th>date</th>\n",
       "      <th>token</th>\n",
       "      <th>token_value</th>\n",
       "      <th>usd_value</th>\n",
       "      <th>total_app_tvl</th>\n",
       "      <th>protocol</th>\n",
       "      <th>slug</th>\n",
       "      <th>chain</th>\n",
       "      <th>category</th>\n",
       "      <th>name</th>\n",
       "      <th>parent_protocol</th>\n",
       "      <th>last_token_value</th>\n",
       "      <th>price_usd</th>\n",
       "      <th>last_price_usd</th>\n",
       "    </tr>\n",
       "  </thead>\n",
       "  <tbody>\n",
       "    <tr>\n",
       "      <th>2457788</th>\n",
       "      <td>1932180</td>\n",
       "      <td>2023-08-23</td>\n",
       "      <td>PNK</td>\n",
       "      <td>91931.13322</td>\n",
       "      <td>1776.95618</td>\n",
       "      <td>1.848494e+09</td>\n",
       "      <td>uniswap-v3</td>\n",
       "      <td>uniswap-v3</td>\n",
       "      <td>Ethereum</td>\n",
       "      <td>Dexes</td>\n",
       "      <td>Uniswap V3</td>\n",
       "      <td>parent#uniswap</td>\n",
       "      <td>91584.35519</td>\n",
       "      <td>0.019329</td>\n",
       "      <td>0.019329</td>\n",
       "    </tr>\n",
       "    <tr>\n",
       "      <th>13985566</th>\n",
       "      <td>5248</td>\n",
       "      <td>2022-10-23</td>\n",
       "      <td>DGB</td>\n",
       "      <td>0.00000</td>\n",
       "      <td>0.00000</td>\n",
       "      <td>1.766588e+06</td>\n",
       "      <td>renvm</td>\n",
       "      <td>renvm</td>\n",
       "      <td>Binance</td>\n",
       "      <td>Bridge</td>\n",
       "      <td>RenVM</td>\n",
       "      <td>RenVM</td>\n",
       "      <td>0.00000</td>\n",
       "      <td>0.008500</td>\n",
       "      <td>0.008500</td>\n",
       "    </tr>\n",
       "    <tr>\n",
       "      <th>6729440</th>\n",
       "      <td>519</td>\n",
       "      <td>2023-07-09</td>\n",
       "      <td>WETH</td>\n",
       "      <td>270.05174</td>\n",
       "      <td>503819.33238</td>\n",
       "      <td>1.002710e+06</td>\n",
       "      <td>paraspace-lending-v1</td>\n",
       "      <td>paraspace-lending-v1</td>\n",
       "      <td>Arbitrum</td>\n",
       "      <td>Lending</td>\n",
       "      <td>ParaSpace Lending V1</td>\n",
       "      <td>parent#parax</td>\n",
       "      <td>264.57732</td>\n",
       "      <td>1865.640015</td>\n",
       "      <td>1865.640015</td>\n",
       "    </tr>\n",
       "    <tr>\n",
       "      <th>5046161</th>\n",
       "      <td>41286</td>\n",
       "      <td>2023-07-07</td>\n",
       "      <td>RETH</td>\n",
       "      <td>0.10000</td>\n",
       "      <td>198.17700</td>\n",
       "      <td>5.468789e+07</td>\n",
       "      <td>bancor-v3</td>\n",
       "      <td>bancor-v3</td>\n",
       "      <td>Ethereum</td>\n",
       "      <td>Dexes</td>\n",
       "      <td>Bancor V3</td>\n",
       "      <td>parent#bancor</td>\n",
       "      <td>0.10000</td>\n",
       "      <td>1981.770000</td>\n",
       "      <td>1981.770000</td>\n",
       "    </tr>\n",
       "    <tr>\n",
       "      <th>13682351</th>\n",
       "      <td>3153</td>\n",
       "      <td>2023-06-29</td>\n",
       "      <td>WBTC</td>\n",
       "      <td>0.00000</td>\n",
       "      <td>0.00000</td>\n",
       "      <td>0.000000e+00</td>\n",
       "      <td>connext</td>\n",
       "      <td>connext</td>\n",
       "      <td>Moonbeam</td>\n",
       "      <td>Cross Chain</td>\n",
       "      <td>Connext</td>\n",
       "      <td>Connext</td>\n",
       "      <td>0.00000</td>\n",
       "      <td>NaN</td>\n",
       "      <td>NaN</td>\n",
       "    </tr>\n",
       "    <tr>\n",
       "      <th>5651224</th>\n",
       "      <td>2461</td>\n",
       "      <td>2022-12-15</td>\n",
       "      <td>FRAX</td>\n",
       "      <td>0.00000</td>\n",
       "      <td>0.00000</td>\n",
       "      <td>3.766725e+06</td>\n",
       "      <td>dforce</td>\n",
       "      <td>dforce</td>\n",
       "      <td>Ethereum-borrowed</td>\n",
       "      <td>Lending</td>\n",
       "      <td>dForce</td>\n",
       "      <td>dForce</td>\n",
       "      <td>0.00000</td>\n",
       "      <td>NaN</td>\n",
       "      <td>NaN</td>\n",
       "    </tr>\n",
       "    <tr>\n",
       "      <th>6822017</th>\n",
       "      <td>85868</td>\n",
       "      <td>2023-05-10</td>\n",
       "      <td>BAIL</td>\n",
       "      <td>32926.00000</td>\n",
       "      <td>1.36445</td>\n",
       "      <td>1.803831e+07</td>\n",
       "      <td>serum</td>\n",
       "      <td>serum</td>\n",
       "      <td>Solana</td>\n",
       "      <td>Dexes</td>\n",
       "      <td>Serum</td>\n",
       "      <td>Serum</td>\n",
       "      <td>32926.00000</td>\n",
       "      <td>0.000041</td>\n",
       "      <td>0.000041</td>\n",
       "    </tr>\n",
       "    <tr>\n",
       "      <th>11491449</th>\n",
       "      <td>3181</td>\n",
       "      <td>2023-02-26</td>\n",
       "      <td>UST</td>\n",
       "      <td>0.00000</td>\n",
       "      <td>0.00000</td>\n",
       "      <td>4.560000e-02</td>\n",
       "      <td>synapse</td>\n",
       "      <td>synapse</td>\n",
       "      <td>Moonbeam</td>\n",
       "      <td>Cross Chain</td>\n",
       "      <td>Synapse</td>\n",
       "      <td>Synapse</td>\n",
       "      <td>0.00000</td>\n",
       "      <td>NaN</td>\n",
       "      <td>NaN</td>\n",
       "    </tr>\n",
       "    <tr>\n",
       "      <th>11989790</th>\n",
       "      <td>63</td>\n",
       "      <td>2022-10-07</td>\n",
       "      <td>FRAX</td>\n",
       "      <td>0.00000</td>\n",
       "      <td>0.00000</td>\n",
       "      <td>1.975048e+06</td>\n",
       "      <td>frax-swap</td>\n",
       "      <td>frax-swap</td>\n",
       "      <td>Polygon</td>\n",
       "      <td>Dexes</td>\n",
       "      <td>Frax Swap</td>\n",
       "      <td>parent#frax-finance</td>\n",
       "      <td>0.00000</td>\n",
       "      <td>0.999893</td>\n",
       "      <td>0.999893</td>\n",
       "    </tr>\n",
       "    <tr>\n",
       "      <th>12307089</th>\n",
       "      <td>2166</td>\n",
       "      <td>2023-05-15</td>\n",
       "      <td>RDNT</td>\n",
       "      <td>0.00000</td>\n",
       "      <td>0.00000</td>\n",
       "      <td>2.464098e+07</td>\n",
       "      <td>joe-v2.1</td>\n",
       "      <td>joe-v2.1</td>\n",
       "      <td>Arbitrum</td>\n",
       "      <td>Dexes</td>\n",
       "      <td>Joe V2.1</td>\n",
       "      <td>parent#trader-joe</td>\n",
       "      <td>0.00000</td>\n",
       "      <td>NaN</td>\n",
       "      <td>NaN</td>\n",
       "    </tr>\n",
       "  </tbody>\n",
       "</table>\n",
       "</div>"
      ],
      "text/plain": [
       "            index       date token  token_value     usd_value  total_app_tvl  \\\n",
       "2457788   1932180 2023-08-23   PNK  91931.13322    1776.95618   1.848494e+09   \n",
       "13985566     5248 2022-10-23   DGB      0.00000       0.00000   1.766588e+06   \n",
       "6729440       519 2023-07-09  WETH    270.05174  503819.33238   1.002710e+06   \n",
       "5046161     41286 2023-07-07  RETH      0.10000     198.17700   5.468789e+07   \n",
       "13682351     3153 2023-06-29  WBTC      0.00000       0.00000   0.000000e+00   \n",
       "5651224      2461 2022-12-15  FRAX      0.00000       0.00000   3.766725e+06   \n",
       "6822017     85868 2023-05-10  BAIL  32926.00000       1.36445   1.803831e+07   \n",
       "11491449     3181 2023-02-26   UST      0.00000       0.00000   4.560000e-02   \n",
       "11989790       63 2022-10-07  FRAX      0.00000       0.00000   1.975048e+06   \n",
       "12307089     2166 2023-05-15  RDNT      0.00000       0.00000   2.464098e+07   \n",
       "\n",
       "                      protocol                  slug              chain  \\\n",
       "2457788             uniswap-v3            uniswap-v3           Ethereum   \n",
       "13985566                 renvm                 renvm            Binance   \n",
       "6729440   paraspace-lending-v1  paraspace-lending-v1           Arbitrum   \n",
       "5046161              bancor-v3             bancor-v3           Ethereum   \n",
       "13682351               connext               connext           Moonbeam   \n",
       "5651224                 dforce                dforce  Ethereum-borrowed   \n",
       "6822017                  serum                 serum             Solana   \n",
       "11491449               synapse               synapse           Moonbeam   \n",
       "11989790             frax-swap             frax-swap            Polygon   \n",
       "12307089              joe-v2.1              joe-v2.1           Arbitrum   \n",
       "\n",
       "             category                  name      parent_protocol  \\\n",
       "2457788         Dexes            Uniswap V3       parent#uniswap   \n",
       "13985566       Bridge                 RenVM                RenVM   \n",
       "6729440       Lending  ParaSpace Lending V1         parent#parax   \n",
       "5046161         Dexes             Bancor V3        parent#bancor   \n",
       "13682351  Cross Chain               Connext              Connext   \n",
       "5651224       Lending                dForce               dForce   \n",
       "6822017         Dexes                 Serum                Serum   \n",
       "11491449  Cross Chain               Synapse              Synapse   \n",
       "11989790        Dexes             Frax Swap  parent#frax-finance   \n",
       "12307089        Dexes              Joe V2.1    parent#trader-joe   \n",
       "\n",
       "          last_token_value    price_usd  last_price_usd  \n",
       "2457788        91584.35519     0.019329        0.019329  \n",
       "13985566           0.00000     0.008500        0.008500  \n",
       "6729440          264.57732  1865.640015     1865.640015  \n",
       "5046161            0.10000  1981.770000     1981.770000  \n",
       "13682351           0.00000          NaN             NaN  \n",
       "5651224            0.00000          NaN             NaN  \n",
       "6822017        32926.00000     0.000041        0.000041  \n",
       "11491449           0.00000          NaN             NaN  \n",
       "11989790           0.00000     0.999893        0.999893  \n",
       "12307089           0.00000          NaN             NaN  "
      ]
     },
     "execution_count": 9,
     "metadata": {},
     "output_type": "execute_result"
    }
   ],
   "source": [
    "data_df = df_df.copy()\n",
    "df_df = None # Free up memory\n",
    "data_df = data_df.sort_values(by='date')\n",
    "\n",
    "# price = usd value / num tokens\n",
    "data_df['price_usd'] = data_df['usd_value']/data_df['token_value']\n",
    "data_df['last_price_usd'] = data_df.groupby(['token','protocol', 'chain'])['price_usd'].shift(1)\n",
    "\n",
    "# If first instnace of token, make sure there's no price diff\n",
    "data_df['last_price_usd'] = data_df[['last_price_usd', 'price_usd']].bfill(axis=1).iloc[:, 0]\n",
    "#Forward fill if token drops off\n",
    "data_df['price_usd'] = data_df[['price_usd','last_price_usd']].bfill(axis=1).iloc[:, 0]\n",
    "\n",
    "data_df.sample(10)"
   ]
  },
  {
   "cell_type": "code",
   "execution_count": 10,
   "id": "78241480",
   "metadata": {},
   "outputs": [
    {
     "name": "stderr",
     "output_type": "stream",
     "text": [
      "/var/folders/by/kltjc8yd0yz_7_wrtrzhrm9m0000gn/T/ipykernel_83957/3261005683.py:19: UserWarning: Boolean Series key will be reindexed to match DataFrame index.\n",
      "  latest_prices_df_raw_prot = data_df.loc[~data_df['price_usd'].isna()][['token','chain','protocol','price_usd']][data_df['token_rank_desc_prot'] ==1]\n"
     ]
    },
    {
     "name": "stdout",
     "output_type": "stream",
     "text": [
      "done latest_prices_df_raw_prot\n",
      "done latest_prices_df\n"
     ]
    },
    {
     "name": "stderr",
     "output_type": "stream",
     "text": [
      "/var/folders/by/kltjc8yd0yz_7_wrtrzhrm9m0000gn/T/ipykernel_83957/3261005683.py:27: UserWarning: Boolean Series key will be reindexed to match DataFrame index.\n",
      "  latest_prices_df_raw = data_df.loc[~data_df['price_usd'].isna()][['token','chain','price_usd']][data_df['token_rank_desc'] ==1]\n"
     ]
    }
   ],
   "source": [
    "# Find what is the latest token price. This sometimes gets skewed if tokens disappear or supply locked goes to 0\n",
    "# Token's recency rank by chain - For calculating prices\n",
    "data_df['token_rank_desc'] = data_df.groupby(['chain','token'])['date'].\\\n",
    "                            rank(method='dense',ascending=False).astype(int)\n",
    "# Token's recency rank by chain & app - For calculating prices\n",
    "data_df['token_rank_desc_prot'] = data_df.groupby(['chain','token','protocol'])['date'].\\\n",
    "                            rank(method='dense',ascending=False).astype(int)\n",
    "# Token's recency rank by chain & app if > 0 - For calculating prices\n",
    "# data_df['token_rank_desc_prot_gt0'] = data_df[data_df['token_value'] > 0]\\\n",
    "#                                     .groupby(['chain', 'token', 'protocol'])['date']\\\n",
    "#                                     .rank(method='first', ascending=False).astype(int)\n",
    "\n",
    "# get latest price either by protocol or in aggregate\n",
    "# if we don't have a match by protocol, then select in aggregate.\n",
    "# This section is messy\n",
    "prices_df = data_df[['chain','protocol','token']].drop_duplicates()\n",
    "\n",
    "\n",
    "latest_prices_df_raw_prot = data_df.loc[~data_df['price_usd'].isna()][['token','chain','protocol','price_usd']][data_df['token_rank_desc_prot'] ==1]\n",
    "latest_prices_df_prot = latest_prices_df_raw_prot.groupby(['token','chain','protocol']).median('price_usd')\n",
    "latest_prices_df_prot = latest_prices_df_prot.rename(columns={'price_usd':'latest_price_usd_prot'})\n",
    "latest_prices_df_prot = latest_prices_df_prot.reset_index()\n",
    "prices_df = prices_df.merge(latest_prices_df_prot,on=['token','chain','protocol'], how='left')\n",
    "latest_prices_df_raw_prot = None # Free up memory\n",
    "print('done latest_prices_df_raw_prot')\n",
    "\n",
    "latest_prices_df_raw = data_df.loc[~data_df['price_usd'].isna()][['token','chain','price_usd']][data_df['token_rank_desc'] ==1]\n",
    "latest_prices_df = latest_prices_df_raw.groupby(['token','chain']).median('price_usd')\n",
    "latest_prices_df = latest_prices_df.rename(columns={'price_usd':'latest_price_usd_raw'})\n",
    "latest_prices_df = latest_prices_df.reset_index()\n",
    "prices_df = prices_df.merge(latest_prices_df,on=['token','chain'], how='left')\n",
    "latest_prices_df = None # Free up memory\n",
    "print('done latest_prices_df')\n",
    "\n",
    "prices_df['latest_price_usd_prot_gt0'] = 0\n",
    "# latest_prices_df_raw_prot_gt0 = data_df.loc[~data_df['price_usd'].isna()][['token','chain','price_usd','protocol']][data_df['token_rank_desc_prot_gt0'] ==1]\n",
    "# latest_prices_df_prot_gt0 = latest_prices_df_raw_prot_gt0.groupby(['token','chain','protocol']).median('price_usd')\n",
    "# latest_prices_df_prot_gt0 = latest_prices_df_prot_gt0.rename(columns={'price_usd':'latest_price_usd_prot_gt0'})\n",
    "# latest_prices_df_prot_gt0 = latest_prices_df_prot_gt0.reset_index()\n",
    "# prices_df = prices_df.merge(latest_prices_df_prot_gt0,on=['token','chain','protocol'], how='left')\n",
    "# latest_prices_df_prot_gt0 = None # Free up memory\n",
    "# print('done latest_prices_df_prot_gt0')\n"
   ]
  },
  {
   "cell_type": "code",
   "execution_count": 11,
   "id": "79aa9678",
   "metadata": {},
   "outputs": [
    {
     "name": "stdout",
     "output_type": "stream",
     "text": [
      "done price choice\n",
      "prices map done\n"
     ]
    }
   ],
   "source": [
    "\n",
    "# prices_df['latest_price_usd'] = \\\n",
    "#         prices_df['latest_price_usd_prot'].where(prices_df['latest_price_usd_prot'] > 0, \\\n",
    "#         prices_df['latest_price_usd_raw'].where(prices_df['latest_price_usd_raw'] > 0, \\\n",
    "#         prices_df['latest_price_usd_prot_gt0']))\n",
    "\n",
    "#Select the latest price we want in priority order\n",
    "\n",
    "# Chat GPT did this logic\n",
    "# Define the conditions and choices for the numpy.select() function\n",
    "conditions = [\n",
    "    prices_df['latest_price_usd_prot'] > 0,\n",
    "    prices_df['latest_price_usd_raw'] > 0,\n",
    "]\n",
    "choices = [\n",
    "    prices_df['latest_price_usd_prot'],\n",
    "    prices_df['latest_price_usd_raw'],\n",
    "]\n",
    "\n",
    "# If both conditions are False, choose prices_df['latest_price_usd_prot_gt0']\n",
    "default_choice = prices_df['latest_price_usd_prot_gt0']\n",
    "\n",
    "# Use numpy.select() to select the latest price\n",
    "prices_df['latest_price_usd'] = np.select(conditions, choices, default_choice)\n",
    "print(\"done price choice\")\n",
    "\n",
    "#Filter down\n",
    "prices_df = prices_df[['chain','protocol','token','latest_price_usd']]\n",
    "\n",
    "prices_df = prices_df[~prices_df['latest_price_usd'].isna()]\n",
    "\n",
    "#Merge back in to the data dataframe\n",
    "data_df = data_df.merge(prices_df,on=['token','chain','protocol'], how='left')\n",
    "prices_df = None #Free Up memory\n",
    "print(\"prices map done\")"
   ]
  },
  {
   "cell_type": "code",
   "execution_count": 12,
   "id": "8cc58adc",
   "metadata": {},
   "outputs": [],
   "source": [
    "# Sort in date order\n",
    "\n",
    "data_df.sort_values(by='date',inplace=True)\n",
    "\n",
    "# get net token change\n",
    "data_df['net_token_flow'] = data_df['token_value'] - data_df['last_token_value']\n",
    "# get net token change * current price\n",
    "data_df['net_dollar_flow'] = data_df['net_token_flow'] * data_df['price_usd']\n",
    "# get net token change * latest price\n",
    "data_df['net_dollar_flow_latest_price'] = data_df['net_token_flow'] * data_df['latest_price_usd']\n",
    "\n",
    "#Filter out weird errors and things\n",
    "data_df = data_df[abs(data_df['net_dollar_flow']) < 50_000_000_000] #50 bil error bar for bad prices\n",
    "data_df = data_df[~data_df['net_dollar_flow'].isna()]"
   ]
  },
  {
   "cell_type": "code",
   "execution_count": 13,
   "id": "74651c2f",
   "metadata": {},
   "outputs": [],
   "source": [
    "# Handle for errors where a token price went to zero (i.e. magpie ANKRBNB 2023-01-27)\n",
    "data_df['net_dollar_flow_latest_price'] = np.where(\n",
    "    data_df['net_dollar_flow'] == 0, 0, data_df['net_dollar_flow_latest_price']\n",
    ")"
   ]
  },
  {
   "cell_type": "code",
   "execution_count": 14,
   "id": "59f3f879",
   "metadata": {},
   "outputs": [],
   "source": [
    "# Get net flows by protocol\n",
    "\n",
    "netdf_df = data_df[['date','protocol','chain','name','category','parent_protocol','net_dollar_flow','usd_value','net_dollar_flow_latest_price']]\n",
    "\n",
    "data_df = None #Free Up memory\n",
    "\n",
    "netdf_df = netdf_df.fillna(0)\n",
    "netdf_df = netdf_df.sort_values(by='date',ascending=True)\n",
    "netdf_df = netdf_df.groupby(['date','protocol','chain','name','category','parent_protocol']).sum(['net_dollar_flow','usd_value','net_dollar_flow_latest_price']) ##agg by app\n",
    "\n",
    "#usd_value is the TVL on a given day\n",
    "netdf_df = netdf_df.groupby(['date','protocol','chain','usd_value','name','category','parent_protocol']).sum(['net_dollar_flow','net_dollar_flow_latest_price'])\n",
    "\n",
    "netdf_df.reset_index(inplace=True)\n",
    "netdf_df.head()\n",
    "\n",
    "# Drop index column if it exists\n",
    "try:\n",
    "        netdf_df.drop(columns=['index'],inplace=True)\n",
    "except:\n",
    "        pass\n",
    "# display(netdf_df[netdf_df['protocol']=='makerdao'])\n",
    "\n"
   ]
  },
  {
   "cell_type": "code",
   "execution_count": 15,
   "id": "18ccf06e",
   "metadata": {},
   "outputs": [],
   "source": [
    "#get latest\n",
    "netdf_df['rank_desc'] = netdf_df.groupby(['protocol', 'chain'])['date'].\\\n",
    "                            rank(method='dense',ascending=False).astype(int)\n",
    "# display(netdf_df[netdf_df['protocol'] == 'lyra'])\n",
    "netdf_df = netdf_df[  #( netdf_df['rank_desc'] == 1 ) &\\\n",
    "                        (~netdf_df['chain'].str.contains('-borrowed')) &\\\n",
    "                        (~netdf_df['chain'].str.contains('-staking')) &\\\n",
    "                        (~netdf_df['chain'].str.contains('-pool2')) &\\\n",
    "                            (~netdf_df['chain'].str.contains('-treasury')) &\\\n",
    "                        (~( netdf_df['chain'] == 'treasury') ) &\\\n",
    "                        (~( netdf_df['chain'] == 'borrowed') ) &\\\n",
    "                        (~( netdf_df['chain'] == 'staking') ) &\\\n",
    "                            (~( netdf_df['chain'] == 'treasury') ) &\\\n",
    "                        (~( netdf_df['chain'] == 'pool2') ) &\\\n",
    "                        (~( netdf_df['protocol'] == 'polygon-bridge-&-staking') )  &\\\n",
    "                            (~(netdf_df['protocol'].str[-4:] == '-cex') )\n",
    "#                         & (~( netdf_df['chain'] == 'Ethereum') )\n",
    "                        ]\n",
    "# display(netdf_df[netdf_df['protocol']=='makerdao'])"
   ]
  },
  {
   "cell_type": "code",
   "execution_count": 16,
   "id": "eb14b084",
   "metadata": {},
   "outputs": [],
   "source": [
    "# netdf_df.columns\n",
    "\n",
    "for i in ('svg','png','html'):\n",
    "                dir_path = \"img_outputs/\" + i\n",
    "                # clear out folder\n",
    "                if os.path.exists(dir_path):\n",
    "                        shutil.rmtree(dir_path)\n",
    "                # create folder\n",
    "                os.mkdir(dir_path)"
   ]
  },
  {
   "cell_type": "code",
   "execution_count": 17,
   "id": "67bdbe1a",
   "metadata": {},
   "outputs": [
    {
     "name": "stderr",
     "output_type": "stream",
     "text": [
      "Aiohttp retry client was not closed\n",
      "Aiohttp retry client was not closed\n",
      "Aiohttp retry client was not closed\n",
      "Aiohttp retry client was not closed\n",
      "Aiohttp retry client was not closed\n",
      "Aiohttp retry client was not closed\n",
      "Aiohttp retry client was not closed\n",
      "Aiohttp retry client was not closed\n",
      "Aiohttp retry client was not closed\n",
      "Aiohttp retry client was not closed\n",
      "Aiohttp retry client was not closed\n",
      "Aiohttp retry client was not closed\n",
      "Aiohttp retry client was not closed\n",
      "Unclosed client session\n",
      "client_session: <aiohttp.client.ClientSession object at 0x7ff3299defe0>\n",
      "Unclosed client session\n",
      "client_session: <aiohttp.client.ClientSession object at 0x7ff329996980>\n",
      "Unclosed client session\n",
      "client_session: <aiohttp.client.ClientSession object at 0x7ff348e0ff40>\n",
      "Unclosed client session\n",
      "client_session: <aiohttp.client.ClientSession object at 0x7ff348e0edd0>\n",
      "Unclosed client session\n",
      "client_session: <aiohttp.client.ClientSession object at 0x7ff318e76110>\n",
      "Unclosed client session\n",
      "client_session: <aiohttp.client.ClientSession object at 0x7ff338981420>\n",
      "Unclosed client session\n",
      "client_session: <aiohttp.client.ClientSession object at 0x7ff338980880>\n",
      "Unclosed client session\n",
      "client_session: <aiohttp.client.ClientSession object at 0x7ff33895bca0>\n",
      "Unclosed client session\n",
      "client_session: <aiohttp.client.ClientSession object at 0x7ff33895b100>\n",
      "Unclosed client session\n",
      "client_session: <aiohttp.client.ClientSession object at 0x7ff338926500>\n",
      "Unclosed client session\n",
      "client_session: <aiohttp.client.ClientSession object at 0x7ff3189aafb0>\n",
      "Unclosed client session\n",
      "client_session: <aiohttp.client.ClientSession object at 0x7ff31899b550>\n",
      "Unclosed client session\n",
      "client_session: <aiohttp.client.ClientSession object at 0x7ff31899a9b0>\n",
      "/var/folders/by/kltjc8yd0yz_7_wrtrzhrm9m0000gn/T/ipykernel_83957/2231176001.py:35: FutureWarning: Not prepending group keys to the result index of transform-like apply. In the future, the group keys will be included in the index, regardless of whether the applied function returns a like-indexed object.\n",
      "To preserve the previous behavior, use\n",
      "\n",
      "\t>>> .groupby(..., group_keys=False)\n",
      "\n",
      "To adopt the future behavior and silence this warning, use \n",
      "\n",
      "\t>>> .groupby(..., group_keys=True)\n",
      "  .apply(lambda x: x.rolling(i, min_periods=1).sum())\n",
      "/var/folders/by/kltjc8yd0yz_7_wrtrzhrm9m0000gn/T/ipykernel_83957/2231176001.py:35: FutureWarning: Not prepending group keys to the result index of transform-like apply. In the future, the group keys will be included in the index, regardless of whether the applied function returns a like-indexed object.\n",
      "To preserve the previous behavior, use\n",
      "\n",
      "\t>>> .groupby(..., group_keys=False)\n",
      "\n",
      "To adopt the future behavior and silence this warning, use \n",
      "\n",
      "\t>>> .groupby(..., group_keys=True)\n",
      "  .apply(lambda x: x.rolling(i, min_periods=1).sum())\n",
      "/var/folders/by/kltjc8yd0yz_7_wrtrzhrm9m0000gn/T/ipykernel_83957/2231176001.py:35: FutureWarning: Not prepending group keys to the result index of transform-like apply. In the future, the group keys will be included in the index, regardless of whether the applied function returns a like-indexed object.\n",
      "To preserve the previous behavior, use\n",
      "\n",
      "\t>>> .groupby(..., group_keys=False)\n",
      "\n",
      "To adopt the future behavior and silence this warning, use \n",
      "\n",
      "\t>>> .groupby(..., group_keys=True)\n",
      "  .apply(lambda x: x.rolling(i, min_periods=1).sum())\n",
      "/var/folders/by/kltjc8yd0yz_7_wrtrzhrm9m0000gn/T/ipykernel_83957/2231176001.py:35: FutureWarning: Not prepending group keys to the result index of transform-like apply. In the future, the group keys will be included in the index, regardless of whether the applied function returns a like-indexed object.\n",
      "To preserve the previous behavior, use\n",
      "\n",
      "\t>>> .groupby(..., group_keys=False)\n",
      "\n",
      "To adopt the future behavior and silence this warning, use \n",
      "\n",
      "\t>>> .groupby(..., group_keys=True)\n",
      "  .apply(lambda x: x.rolling(i, min_periods=1).sum())\n",
      "/var/folders/by/kltjc8yd0yz_7_wrtrzhrm9m0000gn/T/ipykernel_83957/2231176001.py:35: FutureWarning: Not prepending group keys to the result index of transform-like apply. In the future, the group keys will be included in the index, regardless of whether the applied function returns a like-indexed object.\n",
      "To preserve the previous behavior, use\n",
      "\n",
      "\t>>> .groupby(..., group_keys=False)\n",
      "\n",
      "To adopt the future behavior and silence this warning, use \n",
      "\n",
      "\t>>> .groupby(..., group_keys=True)\n",
      "  .apply(lambda x: x.rolling(i, min_periods=1).sum())\n",
      "/var/folders/by/kltjc8yd0yz_7_wrtrzhrm9m0000gn/T/ipykernel_83957/2231176001.py:35: FutureWarning: Not prepending group keys to the result index of transform-like apply. In the future, the group keys will be included in the index, regardless of whether the applied function returns a like-indexed object.\n",
      "To preserve the previous behavior, use\n",
      "\n",
      "\t>>> .groupby(..., group_keys=False)\n",
      "\n",
      "To adopt the future behavior and silence this warning, use \n",
      "\n",
      "\t>>> .groupby(..., group_keys=True)\n",
      "  .apply(lambda x: x.rolling(i, min_periods=1).sum())\n"
     ]
    }
   ],
   "source": [
    "summary_df = netdf_df.copy()\n",
    "\n",
    "summary_df = summary_df.sort_values(by='date',ascending=True)\n",
    "\n",
    "# Mark at latest price if chosen\n",
    "if mark_at_latest_price == 1:\n",
    "        summary_df['mark_at_latest_price'] = mark_at_latest_price\n",
    "        summary_df['net_dollar_flow'] = summary_df['net_dollar_flow_latest_price']\n",
    "        titleval_append = ' - At Latest Prices'\n",
    "else:\n",
    "        titleval_append = ''\n",
    "\n",
    "# Cast 'net_dollar_flow' to float64 data type\n",
    "summary_df['net_dollar_flow'] = summary_df['net_dollar_flow'].astype('float64')\n",
    "\n",
    "summary_df['cumul_net_dollar_flow'] = summary_df[['protocol','chain','net_dollar_flow']]\\\n",
    "                                    .groupby(['protocol','chain']).cumsum()\n",
    "summary_df['flow_direction'] = np.where(summary_df['cumul_net_dollar_flow']*1.0 >= 0, 1,-1)\n",
    "summary_df['abs_cumul_net_dollar_flow'] = abs(summary_df['cumul_net_dollar_flow'])\n",
    "\n",
    "for i in drange:\n",
    "        if i == 0:\n",
    "                continue\n",
    "                # summary_df['cumul_net_dollar_flow'] = summary_df[['protocol','chain','net_dollar_flow']]\\\n",
    "                #                     .groupby(['protocol','chain']).cumsum()\n",
    "                # summary_df['flow_direction'] = np.where(summary_df['cumul_net_dollar_flow']*1.0 >= 0, 1,-1)\n",
    "                # summary_df['abs_cumul_net_dollar_flow'] = abs(summary_df['cumul_net_dollar_flow'])\n",
    "\n",
    "        else:\n",
    "                col_str = 'cumul_net_dollar_flow_' + str(i) + 'd'\n",
    "                tvl_str = 'daily_avg_tvl_' + str(i) + 'd'\n",
    "                \n",
    "                #chatgpt version\n",
    "                summary_df[col_str] = summary_df.groupby(['protocol','chain'])['net_dollar_flow']\\\n",
    "                                        .apply(lambda x: x.rolling(i, min_periods=1).sum())\n",
    "\n",
    "                summary_df[tvl_str] = summary_df[['protocol','chain','usd_value']]\\\n",
    "                                    .groupby(['protocol','chain'])['usd_value'].transform(lambda x: x.rolling(i, min_periods=1).mean() )\n",
    "                \n",
    "                summary_df['flow_direction_' + str(i) + 'd'] = np.where(summary_df[col_str]*1.0 >= 0, 1, -1)\n",
    "                summary_df['abs_cumul_net_dollar_flow_' + str(i) + 'd'] = abs(summary_df[col_str])\n",
    "\n",
    "summary_df['pct_of_tvl'] = 100* summary_df['net_dollar_flow'] / summary_df['usd_value']\n",
    "final_summary_df = summary_df[(summary_df['rank_desc'] == 1) & (summary_df['date'] >= pd.to_datetime(\"today\") -timedelta(days=7))]\n",
    "final_summary_df = final_summary_df[final_summary_df['cumul_net_dollar_flow']< 1e20] #weird error handling\n",
    "\n",
    "\n",
    "os.makedirs('csv_outputs', exist_ok=True)\n",
    "os.makedirs('img_outputs', exist_ok=True)\n",
    "os.makedirs('img_outputs/png', exist_ok=True)\n",
    "os.makedirs('img_outputs/svg', exist_ok=True)\n",
    "os.makedirs('img_outputs/html', exist_ok=True)\n",
    "\n",
    "final_summary_df.to_csv('csv_outputs/latest_tvl_app_trends.csv', mode='w', index=False, encoding='utf-8')\n"
   ]
  },
  {
   "cell_type": "code",
   "execution_count": 18,
   "id": "11155af4",
   "metadata": {},
   "outputs": [
    {
     "name": "stdout",
     "output_type": "stream",
     "text": [
      "starting chart outputs\n"
     ]
    },
    {
     "data": {
      "application/vnd.plotly.v1+json": {
       "config": {
        "plotlyServerURL": "https://plot.ly"
       },
       "data": [
        {
         "branchvalues": "total",
         "customdata": [
          [
           -0.8854399997014839,
           -1
          ],
          [
           -6328092.428544249,
           -1
          ],
          [
           -627507.8200429913,
           -1
          ],
          [
           -5273360.452761524,
           -1
          ],
          [
           -137537224.63931134,
           -1
          ],
          [
           -7194630.35267944,
           -1
          ],
          [
           17941296.011608347,
           1
          ],
          [
           -11445293.835885884,
           -1
          ],
          [
           -13363.954126510518,
           -1
          ],
          [
           351775554.64910007,
           1
          ],
          [
           -1247.502892970542,
           -1
          ],
          [
           154267.74560273305,
           1
          ],
          [
           717573.8256687892,
           1
          ],
          [
           141019.88881332777,
           1
          ],
          [
           -7512241.8518699985,
           -1
          ],
          [
           -128913.68212000001,
           -1
          ],
          [
           -4066.5335600000108,
           -1
          ],
          [
           -17044452.646779742,
           -1
          ],
          [
           5052878.024444635,
           1
          ],
          [
           194495.4485366248,
           1
          ],
          [
           -7693.1782702199,
           -1
          ],
          [
           -23885.97847197392,
           -1
          ],
          [
           -360797.3824339619,
           -1
          ],
          [
           -1924006.330191807,
           -1
          ],
          [
           1040.093034834821,
           1
          ],
          [
           -19527.678515614098,
           -1
          ],
          [
           -135061.952052494,
           -1
          ],
          [
           -72935.9456199256,
           -1
          ],
          [
           -2340.561647324259,
           -1
          ],
          [
           -1659557.5562073896,
           -1
          ],
          [
           -27755.360839167835,
           -1
          ],
          [
           -1753.5846833891342,
           -1
          ],
          [
           -1118834.5033459861,
           -1
          ],
          [
           23648.161249197936,
           1
          ],
          [
           -27907.59225167957,
           -1
          ],
          [
           -414043.6180681549,
           -1
          ],
          [
           556323.6585796736,
           1
          ],
          [
           -2782763.4756468427,
           -1
          ],
          [
           5248461.9791243095,
           1
          ],
          [
           171607.00335377958,
           1
          ],
          [
           12297451.912649605,
           1
          ],
          [
           -1.0231815394945443e-12,
           -1
          ],
          [
           -11803.923917998936,
           -1
          ],
          [
           -7613627.84056,
           -1
          ],
          [
           -14644.77170026593,
           -1
          ],
          [
           12960980.880884927,
           1
          ],
          [
           -7430529.822701401,
           -1
          ],
          [
           -37571.52543748567,
           -1
          ],
          [
           74324.76066237835,
           1
          ],
          [
           13.354752347783718,
           1
          ],
          [
           -107.2767,
           -1
          ],
          [
           24086952.868647747,
           1
          ],
          [
           173802.86855150075,
           1
          ],
          [
           114281.6182981772,
           1
          ],
          [
           14390.398055980268,
           1
          ],
          [
           -2447494.5605687564,
           -1
          ],
          [
           -12102889.998602815,
           -1
          ],
          [
           -106335.76705593544,
           -1
          ],
          [
           2386.7855431258163,
           1
          ],
          [
           0.32972399819272297,
           1
          ],
          [
           -6678.077801549418,
           -1
          ],
          [
           -2452915.986353315,
           -1
          ],
          [
           10.712556228073485,
           1
          ],
          [
           -933490.2295519653,
           -1
          ],
          [
           -676.029629840108,
           -1
          ],
          [
           1752623.7392226025,
           1
          ],
          [
           3916810.890043245,
           1
          ],
          [
           -3889591.278897811,
           -1
          ],
          [
           99302.39330115562,
           1
          ],
          [
           -1191.5080489253276,
           -1
          ],
          [
           -3494946.5530996565,
           -1
          ],
          [
           -790877.6407025133,
           -1
          ],
          [
           10223.247432895958,
           1
          ],
          [
           -1420.5614626173049,
           -1
          ],
          [
           4414910.029973404,
           1
          ],
          [
           387950.54705270706,
           1
          ],
          [
           132.73393564588216,
           1
          ],
          [
           -57745.08630678241,
           -1
          ],
          [
           -3412986.0790178184,
           -1
          ],
          [
           -18230708.666979834,
           -1
          ],
          [
           -123434.16537657118,
           -1
          ],
          [
           -4964176.08974834,
           -1
          ],
          [
           1397487.5616521223,
           1
          ],
          [
           9343075.971969632,
           1
          ],
          [
           -101727162.44941102,
           -1
          ],
          [
           4099658.265269844,
           1
          ],
          [
           2168060.7589227515,
           1
          ],
          [
           8882717.47290755,
           1
          ],
          [
           685288.3848055785,
           1
          ],
          [
           64160.78570860122,
           1
          ],
          [
           -675774.2258000047,
           -1
          ],
          [
           2.000560319537564,
           1
          ],
          [
           0.03399,
           1
          ],
          [
           37156.40283,
           1
          ],
          [
           1.958355,
           1
          ],
          [
           -90341920.61349404,
           -1
          ],
          [
           197822.7453176832,
           1
          ],
          [
           -1311.9880948499454,
           -1
          ],
          [
           2.095165,
           1
          ],
          [
           -675675.9980779776,
           -1
          ],
          [
           490091.94506416447,
           1
          ],
          [
           217184.40300719847,
           1
          ],
          [
           -100774.52051803244,
           -1
          ],
          [
           0.410285,
           1
          ],
          [
           -99610.98076659738,
           -1
          ],
          [
           10.181365000000001,
           1
          ],
          [
           7.092220000000001,
           1
          ],
          [
           -4570777.50453941,
           -1
          ],
          [
           0.146625,
           1
          ],
          [
           0.010015004997131373,
           1
          ],
          [
           -2142428.1907292823,
           -1
          ],
          [
           -0.37977289515884877,
           -1
          ],
          [
           -187356.37745562737,
           -1
          ],
          [
           -250744.7931,
           -1
          ],
          [
           -42581569.08666,
           -1
          ],
          [
           -14428.06717,
           -1
          ],
          [
           -3564514.45334,
           -1
          ],
          [
           -88173.31999999995,
           -1
          ],
          [
           -4388988.859999999,
           -1
          ],
          [
           -1264.150000000001,
           -1
          ],
          [
           -62.75,
           -1
          ],
          [
           -1405259.5281231934,
           -1
          ],
          [
           -11431714.953097172,
           -1
          ],
          [
           -5421989.243940757,
           -1
          ],
          [
           -45917.58936658957,
           -1
          ],
          [
           -1392897.3195975088,
           -1
          ],
          [
           19212209.399801817,
           1
          ],
          [
           -5248471.132717431,
           -1
          ],
          [
           -382127.4524690136,
           -1
          ],
          [
           -12142.46776616423,
           -1
          ],
          [
           -380630.51029732975,
           -1
          ],
          [
           -3926472.5064529204,
           -1
          ],
          [
           -2073825.7444081483,
           -1
          ],
          [
           -72175.9423522426,
           -1
          ],
          [
           -2091.5460316234394,
           -1
          ],
          [
           -797.7029973771013,
           -1
          ],
          [
           93825.90037432624,
           1
          ],
          [
           -469464.8530074341,
           -1
          ],
          [
           -82159.13770090381,
           -1
          ],
          [
           -69958.76592514211,
           -1
          ],
          [
           -30632.221203379635,
           -1
          ],
          [
           -10021014.128690679,
           -1
          ],
          [
           4079475.86430649,
           1
          ],
          [
           -495508.604070791,
           -1
          ],
          [
           -346501.1729968799,
           -1
          ],
          [
           -2408358.441056412,
           -1
          ],
          [
           -2671997.1670779963,
           -1
          ],
          [
           16321.870718851971,
           1
          ],
          [
           -259322.0152165704,
           -1
          ],
          [
           114296.29966708123,
           1
          ],
          [
           71966.83594213161,
           1
          ],
          [
           3819144.189956889,
           1
          ],
          [
           -8512524.691001648,
           -1
          ],
          [
           -3945392.3551516724,
           -1
          ],
          [
           725105.7132616,
           1
          ],
          [
           -59878.297608867426,
           -1
          ],
          [
           -151163.27777606252,
           -1
          ],
          [
           -351530.6554255347,
           -1
          ],
          [
           88609.88552932715,
           1
          ],
          [
           -15643.298703460952,
           -1
          ],
          [
           579918.2041386901,
           1
          ],
          [
           22557.175065641568,
           1
          ],
          [
           593.4905208203904,
           1
          ],
          [
           183178232.00201055,
           1
          ],
          [
           284390978.35695004,
           1
          ],
          [
           -11425045.317228109,
           -1
          ],
          [
           -1595795.4653550603,
           -1
          ],
          [
           2396735.2975802645,
           1
          ],
          [
           -43001369.77000001,
           -1
          ],
          [
           -9658990.077130917,
           -1
          ],
          [
           2418703.86601604,
           1
          ],
          [
           -614566.3629014677,
           -1
          ],
          [
           -852852.1276897705,
           -1
          ],
          [
           -58478.886498248175,
           -1
          ],
          [
           -6743.874419775799,
           -1
          ],
          [
           -583791.0050809614,
           -1
          ],
          [
           -1077410.8611096307,
           -1
          ],
          [
           273.0408644107006,
           1
          ],
          [
           -825860.0732077308,
           -1
          ],
          [
           77.89486864422693,
           1
          ],
          [
           -19398.617770194083,
           -1
          ],
          [
           -148268.7567313849,
           -1
          ],
          [
           -408413.67878075177,
           -1
          ],
          [
           110291.60023864292,
           1
          ],
          [
           5492234.643828471,
           1
          ],
          [
           -3502344.9570017043,
           -1
          ],
          [
           -7318005.743896972,
           -1
          ],
          [
           19358.58580920513,
           1
          ],
          [
           -6229988.186465803,
           -1
          ],
          [
           88970059.5698729,
           1
          ],
          [
           -521433.0411589768,
           -1
          ],
          [
           -11666.698013609514,
           -1
          ],
          [
           -6685053.512196039,
           -1
          ],
          [
           -10877055.972710412,
           -1
          ],
          [
           -5764065.409618136,
           -1
          ],
          [
           -70703893.0687674,
           -1
          ],
          [
           4257519.35289389,
           1
          ],
          [
           8175721.683505967,
           1
          ],
          [
           1262483.4813102726,
           1
          ],
          [
           -109138.72989671145,
           -1
          ],
          [
           -759447.8390856741,
           -1
          ],
          [
           559630.6345621807,
           1
          ],
          [
           234942.87250329374,
           1
          ],
          [
           174097.12861505809,
           1
          ],
          [
           47926862.12401156,
           1
          ],
          [
           2257.161820074139,
           1
          ],
          [
           -3688526.0829054294,
           -1
          ],
          [
           1065.0370041048373,
           1
          ],
          [
           930506.2610695399,
           1
          ],
          [
           -6218234.97497424,
           -1
          ],
          [
           -7089456.988663952,
           -1
          ],
          [
           -3926469.6400594427,
           -1
          ],
          [
           -1444557.3516393919,
           -1
          ],
          [
           -1011985.8140160342,
           -1
          ],
          [
           1205503.6476731775,
           1
          ],
          [
           -1807088.4738766297,
           -1
          ],
          [
           -133904.1850622223,
           -1
          ],
          [
           -192493.25273000007,
           -1
          ],
          [
           -1284944.1105300002,
           -1
          ],
          [
           46468.43761000014,
           1
          ],
          [
           203819.91272443283,
           1
          ],
          [
           31.491731880564316,
           1
          ],
          [
           1.1778592368132776,
           1
          ],
          [
           3876003.078996184,
           1
          ],
          [
           -93287.1373973724,
           -1
          ],
          [
           557.2334203206036,
           1
          ],
          [
           -496118.19216130767,
           -1
          ],
          [
           0.06420816873874434,
           1
          ],
          [
           -166.19648770988795,
           -1
          ],
          [
           -3084.365829216165,
           -1
          ],
          [
           -544.6775348583801,
           -1
          ],
          [
           -80777.74585925807,
           -1
          ],
          [
           -14958.304829885417,
           -1
          ],
          [
           -16.976707188268964,
           -1
          ],
          [
           -0.003730999992992006,
           -1
          ],
          [
           -0.08406349191523874,
           -1
          ],
          [
           8.157470736623793,
           1
          ],
          [
           -10892.502310902557,
           -1
          ],
          [
           7591779.250628644,
           1
          ],
          [
           151177437.36472994,
           1
          ],
          [
           913592.0837494857,
           1
          ],
          [
           -1635065.5067995875,
           -1
          ],
          [
           -2326916.685385,
           -1
          ],
          [
           24804181.639050715,
           1
          ],
          [
           -90857.93463,
           -1
          ],
          [
           2109148.6798117063,
           1
          ],
          [
           -116248.45136431333,
           -1
          ],
          [
           -24398242.766061977,
           -1
          ],
          [
           -2655520.0299999993,
           -1
          ],
          [
           -1605609.186341535,
           -1
          ],
          [
           -1501501.9534901425,
           -1
          ],
          [
           -315614.9826385161,
           -1
          ],
          [
           -4065738.094829999,
           -1
          ],
          [
           -2071366.176959149,
           -1
          ],
          [
           840695.4549809833,
           1
          ],
          [
           -5475270.961327547,
           -1
          ],
          [
           -29819674.51394012,
           -1
          ],
          [
           17767354.27132938,
           1
          ],
          [
           -13162.905566103575,
           -1
          ],
          [
           -8350.468457327517,
           -1
          ],
          [
           -10665.800559168418,
           -1
          ],
          [
           -5239.199350153309,
           -1
          ],
          [
           226.0624502822447,
           1
          ],
          [
           -3597639.468847514,
           -1
          ],
          [
           -7805.299841222873,
           -1
          ],
          [
           -68168.69787997409,
           -1
          ],
          [
           -12144.351426221914,
           -1
          ],
          [
           -6086360.617906528,
           -1
          ],
          [
           19588846.503037997,
           1
          ],
          [
           -12925185.693643559,
           -1
          ],
          [
           -2258534.086022059,
           -1
          ],
          [
           1971324.2423009872,
           1
          ],
          [
           0.3559144852982329,
           1
          ],
          [
           -371.79525842002477,
           -1
          ],
          [
           -8914128.389935343,
           -1
          ],
          [
           541.5459290329266,
           1
          ],
          [
           2033617.1085670628,
           1
          ],
          [
           227982.68019589997,
           1
          ],
          [
           220.4423977268696,
           1
          ],
          [
           -140280.77789450207,
           -1
          ],
          [
           74248.89649063295,
           1
          ],
          [
           2906300.0699268715,
           1
          ],
          [
           -861532.684784419,
           -1
          ],
          [
           0.24658366050277764,
           1
          ],
          [
           -10719563.06938462,
           -1
          ],
          [
           8510942.62803195,
           1
          ],
          [
           -2393506.919370001,
           -1
          ],
          [
           -703727.6101500001,
           -1
          ],
          [
           -25511161.394244634,
           -1
          ],
          [
           -9200065.386338947,
           -1
          ],
          [
           10048944.407487154,
           1
          ],
          [
           2758710.605409039,
           1
          ],
          [
           690572.4506007463,
           1
          ],
          [
           3145965.3124571154,
           1
          ],
          [
           -2541778.3809732865,
           -1
          ],
          [
           776161.0370883247,
           1
          ],
          [
           3651514.2046248084,
           1
          ],
          [
           2096252.84781548,
           1
          ],
          [
           -78168.36594946824,
           -1
          ],
          [
           2713135.511121571,
           1
          ],
          [
           10093497.085510207,
           1
          ],
          [
           -159257.35439526112,
           -1
          ],
          [
           -1450583.7330988962,
           -1
          ],
          [
           -1078334.388364816,
           -1
          ],
          [
           -47424733.002118245,
           -1
          ],
          [
           -38834.002801715986,
           -1
          ],
          [
           -64177.97468011369,
           -1
          ],
          [
           342697.7820850451,
           1
          ],
          [
           8145.903975414942,
           1
          ],
          [
           -993194.1611218126,
           -1
          ],
          [
           -295950.1276374685,
           -1
          ],
          [
           -105271.8063421982,
           -1
          ],
          [
           118960.04101268554,
           1
          ],
          [
           -181270.51179061198,
           -1
          ],
          [
           -10033804.717261,
           -1
          ],
          [
           7770491.427439999,
           1
          ],
          [
           24.352812159668122,
           1
          ],
          [
           3532238.915757375,
           1
          ],
          [
           -560711.0485935705,
           -1
          ],
          [
           1026345.3458294683,
           1
          ],
          [
           -530949.146184678,
           -1
          ],
          [
           -408683289.725156,
           -1
          ],
          [
           4980161.057993226,
           1
          ],
          [
           -160408.03833932127,
           -1
          ],
          [
           -59871.88106339974,
           -1
          ],
          [
           -12674.86931457917,
           -1
          ],
          [
           -1766307.7752519373,
           -1
          ],
          [
           138338.85947951168,
           1
          ],
          [
           -1695387.0176585813,
           -1
          ],
          [
           -4274.493878959815,
           -1
          ],
          [
           -74923.59545370282,
           -1
          ],
          [
           1.2829769534251625,
           1
          ],
          [
           -1810.187350216552,
           -1
          ],
          [
           156644.17659512343,
           1
          ],
          [
           1211373.2009538729,
           1
          ],
          [
           -29411.924898876612,
           -1
          ],
          [
           -6425.599155375205,
           -1
          ],
          [
           -3.625827693044414,
           -1
          ],
          [
           -3.849312022145056,
           -1
          ],
          [
           -3134769.8199010654,
           -1
          ],
          [
           3903338.657643715,
           1
          ],
          [
           7124737.664329065,
           1
          ],
          [
           -841676.6270862403,
           -1
          ],
          [
           -3852990.71774222,
           -1
          ],
          [
           -280453.9293653984,
           -1
          ],
          [
           2566.7733396576964,
           1
          ],
          [
           -3309872.728690163,
           -1
          ],
          [
           359907.12956591864,
           1
          ],
          [
           -1792984.126219836,
           -1
          ],
          [
           -489889464,
           -1
          ],
          [
           407549296.347801,
           1
          ],
          [
           -4258.01630287226,
           -1
          ],
          [
           222437.3100627974,
           1
          ],
          [
           543674.9446449162,
           1
          ],
          [
           -1982301.8084381483,
           -1
          ],
          [
           544440.7287093926,
           1
          ],
          [
           8379641.023945086,
           1
          ],
          [
           181658.0207521618,
           1
          ],
          [
           -5876831.77,
           -1
          ],
          [
           -3783357.3047558237,
           -1
          ],
          [
           -1972210.435558163,
           -1
          ],
          [
           -2581927.0127826417,
           -1
          ],
          [
           -368477.5824028595,
           -1
          ],
          [
           22861.400030762077,
           1
          ],
          [
           -2944.380982836464,
           -1
          ],
          [
           301.45219873856587,
           1
          ],
          [
           5015790.656922614,
           1
          ],
          [
           -14834.468299939488,
           -1
          ],
          [
           1689411.324260368,
           1
          ],
          [
           -1411439.72667243,
           -1
          ],
          [
           475533.39533127926,
           1
          ],
          [
           -2302075.845704659,
           -1
          ],
          [
           -2110511.5348506547,
           -1
          ],
          [
           868057039.4451541,
           1
          ],
          [
           -527877.4458848794,
           -1
          ],
          [
           -13048.778344343384,
           -1
          ],
          [
           668729.3398551878,
           1
          ],
          [
           491626.0533856466,
           1
          ],
          [
           2382823.2475351505,
           1
          ],
          [
           -1042588.5930568931,
           -1
          ],
          [
           -179937.60954990733,
           -1
          ],
          [
           34972734.22771794,
           1
          ],
          [
           372543.29075221776,
           1
          ],
          [
           -5139733.230756561,
           -1
          ],
          [
           2397197.071696913,
           1
          ],
          [
           1044460.40826592,
           1
          ],
          [
           16799371.717712957,
           1
          ],
          [
           -883278.481947966,
           -1
          ],
          [
           -233956611.71617553,
           -1
          ],
          [
           8014534.6653027255,
           1
          ],
          [
           -3762363.1526015773,
           -1
          ],
          [
           -295482.4522221002,
           -1
          ],
          [
           -466345706.6955131,
           -1
          ],
          [
           11406845.196660005,
           1
          ],
          [
           6250455.363672286,
           1
          ],
          [
           -20234783.80188407,
           -1
          ],
          [
           -74120864.10880375,
           -1
          ],
          [
           628257.8090804394,
           1
          ],
          [
           -18075.84024585787,
           -1
          ],
          [
           -5157374.472905832,
           -1
          ],
          [
           2565.589683210186,
           1
          ],
          [
           -214114.097632084,
           -1
          ],
          [
           -586.2680733456698,
           -1
          ],
          [
           -612962.2401226752,
           -1
          ],
          [
           -1147543.6533413634,
           -1
          ],
          [
           -1000004.867942004,
           -1
          ],
          [
           2333078.17721,
           1
          ],
          [
           -372832.83182518656,
           -1
          ],
          [
           0.18642200094644812,
           1
          ],
          [
           42649.62486954935,
           1
          ],
          [
           -1540072.401506474,
           -1
          ],
          [
           -309646.7753803505,
           -1
          ],
          [
           6137535.835188436,
           1
          ],
          [
           -3761859.6255586054,
           -1
          ],
          [
           26403970.454561874,
           1
          ],
          [
           20471536.538877703,
           1
          ],
          [
           -1407820.7525615587,
           -1
          ],
          [
           52997.04763442776,
           1
          ],
          [
           107.43165885845204,
           1
          ],
          [
           412274.1607607134,
           1
          ],
          [
           559477.8319877834,
           1
          ],
          [
           537.3916267955733,
           1
          ],
          [
           0.9025434735892702,
           1
          ],
          [
           50148.69286040706,
           1
          ],
          [
           2702.5846316159873,
           1
          ],
          [
           385808.3625065071,
           1
          ],
          [
           19870.75363203007,
           1
          ],
          [
           526.3021131438632,
           1
          ],
          [
           21.239999330060932,
           1
          ],
          [
           221.91349337177093,
           1
          ],
          [
           16.671065705778975,
           1
          ],
          [
           272172.37846196024,
           1
          ],
          [
           279829.88391711557,
           1
          ],
          [
           1670.1536355258993,
           1
          ],
          [
           -3899109.487572642,
           -1
          ],
          [
           -6146842.934738303,
           -1
          ],
          [
           581352.0557144027,
           1
          ],
          [
           81905.30832989987,
           1
          ],
          [
           -132.86401527557328,
           -1
          ],
          [
           45876.36387334124,
           1
          ],
          [
           1973883.6000036746,
           1
          ],
          [
           183611.55368858355,
           1
          ],
          [
           -858303.1918318855,
           -1
          ],
          [
           -767258.615695463,
           -1
          ],
          [
           18317037.09011,
           1
          ],
          [
           5976093.000397663,
           1
          ],
          [
           -0.25993386777891536,
           -1
          ],
          [
           -104.70143098399818,
           -1
          ],
          [
           710750.0517988238,
           1
          ],
          [
           602716.5187093227,
           1
          ],
          [
           0.2434575486999981,
           1
          ],
          [
           442462.41881589155,
           1
          ],
          [
           -118241.68231294859,
           -1
          ],
          [
           635664.2168618077,
           1
          ],
          [
           80699.68827930502,
           1
          ],
          [
           -189028.17789000086,
           -1
          ],
          [
           -604.1986100117331,
           -1
          ],
          [
           -3197426.791428846,
           -1
          ],
          [
           16.087145556473637,
           1
          ],
          [
           53714.78858223577,
           1
          ],
          [
           2.0092583469924516,
           1
          ],
          [
           -7888731.584117047,
           -1
          ],
          [
           -1791.4201458007867,
           -1
          ],
          [
           30069.181381035796,
           1
          ],
          [
           487.92467141904064,
           1
          ],
          [
           39259.01139873236,
           1
          ],
          [
           293285.76077535754,
           1
          ],
          [
           38336.065071739955,
           1
          ],
          [
           -632307.0871619838,
           -1
          ],
          [
           -6282874678.341939,
           -1
          ],
          [
           -3089930.521625793,
           -1
          ],
          [
           1147912.866947684,
           1
          ],
          [
           -92816309.61592026,
           -1
          ],
          [
           -2153811.0702899997,
           -1
          ],
          [
           9003798.097594883,
           1
          ],
          [
           -637020.4397890418,
           -1
          ],
          [
           -2.002160160179079,
           -1
          ],
          [
           -5231802.48619,
           -1
          ],
          [
           -58552.7133,
           -1
          ],
          [
           20403.946340000024,
           1
          ],
          [
           -3233368.4464999996,
           -1
          ],
          [
           -1001650.7435972634,
           -1
          ],
          [
           813123.1017368722,
           1
          ],
          [
           1280.392030015635,
           1
          ],
          [
           -147448389.49506888,
           -1
          ],
          [
           -323650.56843295466,
           -1
          ],
          [
           689.6105279114274,
           1
          ],
          [
           364.17392513098434,
           1
          ],
          [
           -57581.41016261559,
           -1
          ],
          [
           1378599.8015804146,
           1
          ],
          [
           787620.1209004922,
           1
          ],
          [
           10037099.449253833,
           1
          ],
          [
           9226013.208086547,
           1
          ],
          [
           587642.3146902078,
           1
          ],
          [
           1572768.5558262754,
           1
          ],
          [
           -1079075.2682856035,
           -1
          ],
          [
           -15231079.940712295,
           -1
          ],
          [
           -196608.8076099496,
           -1
          ],
          [
           -357098.24475734454,
           -1
          ],
          [
           -8817.650506675593,
           -1
          ],
          [
           -524777.8481632456,
           -1
          ],
          [
           -20959.961753481697,
           -1
          ],
          [
           507010.6853703573,
           1
          ],
          [
           323302.2171968188,
           1
          ],
          [
           -29908.265372612834,
           -1
          ],
          [
           -28530052.39466067,
           -1
          ],
          [
           63.572426274891086,
           1
          ],
          [
           467.26094807800933,
           1
          ],
          [
           -101351.08725843068,
           -1
          ],
          [
           23843625.98016054,
           1
          ],
          [
           -2362531.5009000003,
           -1
          ],
          [
           16751404.25015811,
           1
          ],
          [
           -7663990.33916946,
           -1
          ],
          [
           -13.347080604587415,
           -1
          ],
          [
           2450415.357864883,
           1
          ],
          [
           26316288.436016317,
           1
          ],
          [
           -2862353.625271113,
           -1
          ],
          [
           -3981421.461331738,
           -1
          ],
          [
           2094400.5515326147,
           1
          ],
          [
           18886214.73921399,
           1
          ],
          [
           -425587.9183683137,
           -1
          ],
          [
           341205.90952132887,
           1
          ],
          [
           3045792.3026349167,
           1
          ],
          [
           -92882.62863908178,
           -1
          ],
          [
           -121676135.26266828,
           -1
          ],
          [
           -15033.410515833582,
           -1
          ],
          [
           -35268282.46360694,
           -1
          ],
          [
           -4066.8608013627645,
           -1
          ],
          [
           -307931.1081060895,
           -1
          ],
          [
           -2455199.465088493,
           -1
          ],
          [
           -7834.75,
           -1
          ],
          [
           -123.69000000000051,
           -1
          ],
          [
           -30107.819999999992,
           -1
          ],
          [
           -611483.0299999993,
           -1
          ],
          [
           -3845.6299999999974,
           -1
          ],
          [
           220.43999999999687,
           1
          ],
          [
           -85065998.53,
           -1
          ],
          [
           -1370.620000000028,
           -1
          ],
          [
           -39214.870000000985,
           -1
          ],
          [
           -1943.0700000000143,
           -1
          ],
          [
           -4413073.3500000015,
           -1
          ],
          [
           2785.2000000000116,
           1
          ],
          [
           0.2799999999999727,
           1
          ],
          [
           -11.910000000000025,
           -1
          ],
          [
           -33728.52999999994,
           -1
          ],
          [
           -30198.839999989723,
           -1
          ],
          [
           -0.03000000000000025,
           -1
          ],
          [
           -14309.82,
           -1
          ],
          [
           -12.240000000000009,
           -1
          ],
          [
           202.23000000000008,
           1
          ],
          [
           -12268.239999999954,
           -1
          ],
          [
           584035.8,
           1
          ],
          [
           -785.3299999999999,
           -1
          ],
          [
           -261443.09999999986,
           -1
          ],
          [
           -1344950.0299999993,
           -1
          ],
          [
           -157666.52,
           -1
          ],
          [
           -43758373.22999999,
           -1
          ],
          [
           -96305.79000000004,
           -1
          ],
          [
           -355416.5900000002,
           -1
          ],
          [
           -527.5100000000002,
           -1
          ],
          [
           208700.16000000015,
           1
          ],
          [
           -6491.66,
           -1
          ],
          [
           306123.12999999995,
           1
          ],
          [
           182223.76999999955,
           1
          ],
          [
           -6916117.66,
           -1
          ],
          [
           -45060.76999999999,
           -1
          ],
          [
           -2444022.909999999,
           -1
          ],
          [
           -619.76,
           -1
          ],
          [
           -0.4700000000000001,
           -1
          ],
          [
           25282880.703094065,
           1
          ],
          [
           -9743749.11751829,
           -1
          ],
          [
           4027899.76518091,
           1
          ],
          [
           -473394.5231564564,
           -1
          ],
          [
           -66587.81319420032,
           -1
          ],
          [
           1277798.2125174198,
           1
          ],
          [
           -19629.95159438405,
           -1
          ],
          [
           486829.8888494289,
           1
          ],
          [
           316324.98778265767,
           1
          ],
          [
           -118162.3460076361,
           -1
          ],
          [
           -2305.4061847003395,
           -1
          ],
          [
           -2144186.388941366,
           -1
          ],
          [
           1618620.6124649118,
           1
          ],
          [
           2985.2243944759502,
           1
          ],
          [
           -53857578.78571084,
           -1
          ],
          [
           -12199744.499547917,
           -1
          ],
          [
           11031503.271985631,
           1
          ],
          [
           -5828648.220413013,
           -1
          ],
          [
           430715920973.46344,
           1
          ],
          [
           1993462.4331000033,
           1
          ],
          [
           860324.820715813,
           1
          ],
          [
           -248001.4909201045,
           -1
          ],
          [
           -214043.58850000746,
           -1
          ],
          [
           -0.08028360887843872,
           -1
          ],
          [
           -293630.9944313807,
           -1
          ],
          [
           7130191.990724823,
           1
          ],
          [
           -45136.53759897334,
           -1
          ],
          [
           157346.98036600673,
           1
          ],
          [
           38735.849667135626,
           1
          ],
          [
           -130508.26215054427,
           -1
          ],
          [
           35.34577271192893,
           1
          ],
          [
           -3164474.665890528,
           -1
          ],
          [
           -4206.4562807075445,
           -1
          ],
          [
           92829985.45232095,
           1
          ],
          [
           -630976.182,
           -1
          ],
          [
           -1523.1068004958452,
           -1
          ],
          [
           -3802690.0294899736,
           -1
          ],
          [
           135346.26969699288,
           1
          ],
          [
           -292485.3640141097,
           -1
          ],
          [
           37431200.43503594,
           1
          ],
          [
           -924087.6777315338,
           -1
          ],
          [
           -454316.1451645794,
           -1
          ],
          [
           -804178.8659588756,
           -1
          ],
          [
           -5082274.870556134,
           -1
          ],
          [
           -440804.64251513,
           -1
          ],
          [
           2143700.7767058904,
           1
          ],
          [
           -407307.18897166074,
           -1
          ],
          [
           -1378859.215067451,
           -1
          ],
          [
           -1846.1016588945638,
           -1
          ],
          [
           -6215.130627102919,
           -1
          ],
          [
           9852040.697013011,
           1
          ],
          [
           -2443268.0454638004,
           -1
          ],
          [
           -4952790.952378739,
           -1
          ],
          [
           -3753738.3000000007,
           -1
          ],
          [
           -113654.9379437883,
           -1
          ],
          [
           64529122.937520295,
           1
          ],
          [
           -1867826.7661995755,
           -1
          ],
          [
           -14835502.606554592,
           -1
          ],
          [
           -1089.9040871579705,
           -1
          ],
          [
           -328851.4654289044,
           -1
          ],
          [
           1020259.7897752445,
           1
          ],
          [
           13193223.66597831,
           1
          ],
          [
           -480200.06141387,
           -1
          ],
          [
           -455397.7112304398,
           -1
          ],
          [
           -637617.3475140118,
           -1
          ],
          [
           529.1286696142025,
           1
          ],
          [
           -26328.474999999984,
           -1
          ],
          [
           39059.1634921182,
           1
          ],
          [
           -3278376.331041806,
           -1
          ],
          [
           217.78560000000556,
           1
          ],
          [
           646.3953999999944,
           1
          ],
          [
           -330838.10183852783,
           -1
          ],
          [
           -314679.7239302182,
           -1
          ],
          [
           -860.230635,
           -1
          ],
          [
           -48240710.510463946,
           -1
          ],
          [
           -1107134.947220957,
           -1
          ],
          [
           3719621.171648337,
           1
          ],
          [
           5337.87581611336,
           1
          ],
          [
           -14192780.271481689,
           -1
          ],
          [
           -2014159.7775339184,
           -1
          ],
          [
           19686009.790780947,
           1
          ],
          [
           8604601.188394934,
           1
          ],
          [
           -989649.6888185693,
           -1
          ],
          [
           -362100.8015333233,
           -1
          ],
          [
           -18230.970883927694,
           -1
          ],
          [
           -1493428.3087997078,
           -1
          ],
          [
           -3028692.594536074,
           -1
          ],
          [
           1686401.3566389072,
           1
          ],
          [
           -4399987.869838465,
           -1
          ],
          [
           -951668.804940002,
           -1
          ],
          [
           6213476.706016864,
           1
          ],
          [
           3315782.446508009,
           1
          ],
          [
           -2025147.1918106333,
           -1
          ],
          [
           518947.3376714315,
           1
          ],
          [
           405862643.66581744,
           1
          ],
          [
           -109403702.93213688,
           -1
          ],
          [
           95630.94668281471,
           1
          ],
          [
           -5570052.649125447,
           -1
          ],
          [
           -11736.503933943139,
           -1
          ],
          [
           -1602708.3394257263,
           -1
          ],
          [
           -63344.00904919764,
           -1
          ],
          [
           -78848.84321959739,
           -1
          ],
          [
           -14980.043825538589,
           -1
          ],
          [
           -40953413.82153131,
           -1
          ],
          [
           -35995.8267023589,
           -1
          ],
          [
           -13.3216955698846,
           -1
          ],
          [
           14750.748061421717,
           1
          ],
          [
           -3148013.5298543293,
           -1
          ],
          [
           -239612.040059111,
           -1
          ],
          [
           -22505.515433520963,
           -1
          ],
          [
           -3312803.351165339,
           -1
          ],
          [
           31329.77531198066,
           1
          ],
          [
           -434599.0128793805,
           -1
          ],
          [
           242041.34705119702,
           1
          ],
          [
           3315.6092944947313,
           1
          ],
          [
           -43.20887638057013,
           -1
          ],
          [
           36.76389,
           1
          ],
          [
           51671.30721178252,
           1
          ],
          [
           -100326.89829133502,
           -1
          ],
          [
           1600.3835997030394,
           1
          ],
          [
           -1958.1629887709278,
           -1
          ],
          [
           2164917.661765766,
           1
          ],
          [
           -1138637.2558797214,
           -1
          ],
          [
           4129429.712549724,
           1
          ],
          [
           -11339178.557760669,
           -1
          ],
          [
           -157.51001857843656,
           -1
          ],
          [
           -5231812.165894531,
           -1
          ],
          [
           -1121344.2524572902,
           -1
          ],
          [
           -1643880.4364733023,
           -1
          ],
          [
           -43.57772411747213,
           -1
          ],
          [
           -293081.12523550354,
           -1
          ],
          [
           2819.1745100000007,
           1
          ],
          [
           -6854741.230163294,
           -1
          ],
          [
           16.964804032569678,
           1
          ],
          [
           -3971.711397010775,
           -1
          ],
          [
           -38.81858499481782,
           -1
          ],
          [
           -1987193.3926220718,
           -1
          ],
          [
           -1534.5290260028187,
           -1
          ],
          [
           -5625203.629782954,
           -1
          ],
          [
           -10950943.030913517,
           -1
          ],
          [
           -591599.6620317426,
           -1
          ],
          [
           2119134.078925604,
           1
          ],
          [
           -1949384.5600471348,
           -1
          ],
          [
           869694.9730967793,
           1
          ],
          [
           5410561.021835231,
           1
          ],
          [
           -83527.54381,
           -1
          ],
          [
           -19.962400000000002,
           -1
          ],
          [
           5785229.986750252,
           1
          ],
          [
           7146084.519631116,
           1
          ],
          [
           16180.502290634047,
           1
          ],
          [
           -1208435.2476068207,
           -1
          ],
          [
           141812.05719705348,
           1
          ],
          [
           -58006.13042530228,
           -1
          ],
          [
           1233056.2839832532,
           1
          ],
          [
           19068812.82712528,
           1
          ],
          [
           17.219155116770942,
           1
          ],
          [
           -59.098834622451264,
           -1
          ],
          [
           -8778254.282984164,
           -1
          ],
          [
           -336821.80350359296,
           -1
          ],
          [
           -2768911.4241219712,
           -1
          ],
          [
           -8653324.686802665,
           -1
          ],
          [
           -4425671.580481619,
           -1
          ],
          [
           104349.55321525768,
           1
          ],
          [
           18909.11449172668,
           1
          ],
          [
           2033509.3488066602,
           1
          ],
          [
           163066.478363052,
           1
          ],
          [
           98035.02233401254,
           1
          ],
          [
           230291.74097873174,
           1
          ],
          [
           13044883.260411918,
           1
          ],
          [
           299011.4611946426,
           1
          ],
          [
           -8916838.283505077,
           -1
          ],
          [
           -458113.4922819926,
           -1
          ],
          [
           -41307.29549999999,
           -1
          ],
          [
           2525.8500000000004,
           1
          ],
          [
           1201736.9915000026,
           1
          ],
          [
           -6937548.733779988,
           -1
          ],
          [
           -4.831690603168681e-13,
           -1
          ],
          [
           23909.411499999984,
           1
          ],
          [
           -1218256.1176300012,
           -1
          ],
          [
           47884.330819999916,
           1
          ],
          [
           -5434325.113350103,
           -1
          ],
          [
           -5553.250323540175,
           -1
          ],
          [
           -548659.0169952394,
           -1
          ],
          [
           56937.77674864677,
           1
          ],
          [
           -397200.9097118179,
           -1
          ],
          [
           87.45541322920401,
           1
          ],
          [
           394369.6013571805,
           1
          ],
          [
           -411676.75150191213,
           -1
          ],
          [
           37125.02949457022,
           1
          ],
          [
           -139623965.8590187,
           -1
          ],
          [
           -30982513.241795897,
           -1
          ],
          [
           34145.12058554808,
           1
          ],
          [
           10293037.708930172,
           1
          ],
          [
           -1797599.8674805542,
           -1
          ],
          [
           4678531.808960791,
           1
          ],
          [
           -94608604.67491196,
           -1
          ],
          [
           -6774159.295734445,
           -1
          ],
          [
           2650180.095983259,
           1
          ],
          [
           89839.3454481987,
           1
          ],
          [
           -27596048.324590627,
           -1
          ],
          [
           3992928.1072127325,
           1
          ],
          [
           -1000183.6716037488,
           -1
          ],
          [
           -2444656.6756100003,
           -1
          ],
          [
           -755815.9360209452,
           -1
          ],
          [
           -67244744.53930464,
           -1
          ],
          [
           24302403.981337946,
           1
          ],
          [
           -485.70128101062147,
           -1
          ],
          [
           -637173.646525993,
           -1
          ],
          [
           -3710063.0900402553,
           -1
          ],
          [
           28.88623426061167,
           1
          ],
          [
           -871937.2615013965,
           -1
          ],
          [
           -949978.0462061937,
           -1
          ],
          [
           -9236326.93472214,
           -1
          ],
          [
           16823129.22811527,
           1
          ],
          [
           3098427.71964,
           1
          ],
          [
           -56125.90547061299,
           -1
          ],
          [
           738676.9037620503,
           1
          ],
          [
           -249335,
           -1
          ],
          [
           -315207,
           -1
          ],
          [
           -19963,
           -1
          ],
          [
           -1543935,
           -1
          ],
          [
           -9958,
           -1
          ],
          [
           -1781651.7356189485,
           -1
          ],
          [
           -611685.6960234846,
           -1
          ],
          [
           426676.4635127038,
           1
          ],
          [
           -11113350.966989806,
           -1
          ],
          [
           -11381.35556789919,
           -1
          ],
          [
           -41833733.14300148,
           -1
          ],
          [
           909643.6087062946,
           1
          ],
          [
           -5699573.506065718,
           -1
          ],
          [
           -1767166.5238800012,
           -1
          ],
          [
           305983.92458461283,
           1
          ],
          [
           "(?)",
           -1
          ],
          [
           "(?)",
           -0.7857827772934924
          ],
          [
           "(?)",
           -0.46259873399438495
          ],
          [
           "(?)",
           -0.43813606360797874
          ],
          [
           "(?)",
           -0.4633521508275751
          ],
          [
           "(?)",
           -1
          ],
          [
           "(?)",
           -1
          ],
          [
           "(?)",
           -0.8532636935381062
          ],
          [
           "(?)",
           0.5672068214467418
          ],
          [
           "(?)",
           0.9474670588048164
          ],
          [
           "(?)",
           -0.1596850676861679
          ],
          [
           "(?)",
           1
          ],
          [
           163066.478363052,
           1
          ],
          [
           "(?)",
           1
          ],
          [
           -586.2680733456698,
           -1
          ],
          [
           "(?)",
           -0.9714725009414175
          ],
          [
           "(?)",
           -1
          ],
          [
           "(?)",
           -0.9990296133153534
          ],
          [
           "(?)",
           0.4039315515523727
          ],
          [
           "(?)",
           0.5598349427912108
          ],
          [
           0.03399,
           1
          ],
          [
           "(?)",
           -1
          ],
          [
           "(?)",
           1
          ],
          [
           1.958355,
           1
          ],
          [
           "(?)",
           -0.7714012494279553
          ],
          [
           "(?)",
           -0.739672697515487
          ],
          [
           230291.74097873174,
           1
          ],
          [
           "(?)",
           1
          ],
          [
           "(?)",
           -0.7376488043596827
          ],
          [
           "(?)",
           -0.31822230936088747
          ],
          [
           "(?)",
           -0.026037190416159227
          ],
          [
           602716.5187093227,
           1
          ],
          [
           "(?)",
           -0.8687406422676832
          ],
          [
           "(?)",
           1
          ],
          [
           -8817.650506675593,
           -1
          ],
          [
           "(?)",
           -1
          ],
          [
           -18230.970883927694,
           -1
          ],
          [
           776161.0370883247,
           1
          ],
          [
           "(?)",
           -0.8823043608751907
          ],
          [
           "(?)",
           -0.8941321278906568
          ],
          [
           "(?)",
           -1
          ],
          [
           507010.6853703573,
           1
          ],
          [
           -10033804.717261,
           -1
          ],
          [
           135346.26969699288,
           1
          ],
          [
           "(?)",
           -0.11443005412278226
          ],
          [
           2.095165,
           1
          ],
          [
           "(?)",
           0.2439816319607297
          ],
          [
           "(?)",
           -0.9694844896904683
          ],
          [
           -0.003730999992992006,
           -1
          ],
          [
           490091.94506416447,
           1
          ],
          [
           "(?)",
           0.9999993138864055
          ],
          [
           299011.4611946426,
           1
          ],
          [
           "(?)",
           -0.9998432351560469
          ],
          [
           487.92467141904064,
           1
          ],
          [
           "(?)",
           -0.9466064377721185
          ],
          [
           -0.08406349191523874,
           -1
          ],
          [
           "(?)",
           -1
          ],
          [
           "(?)",
           -0.9100083724054802
          ],
          [
           "(?)",
           -0.7074189113456119
          ],
          [
           "(?)",
           -0.6223206375891963
          ],
          [
           "(?)",
           0.8554037481161526
          ],
          [
           2785.2000000000116,
           1
          ],
          [
           -18230708.666979834,
           -1
          ],
          [
           "(?)",
           0.5191568027937948
          ],
          [
           "(?)",
           -1
          ],
          [
           "(?)",
           -1
          ],
          [
           "(?)",
           -1
          ],
          [
           "(?)",
           -0.8275343600903703
          ],
          [
           "(?)",
           -1
          ],
          [
           323302.2171968188,
           1
          ],
          [
           0.410285,
           1
          ],
          [
           2386.7855431258163,
           1
          ],
          [
           "(?)",
           -0.3437710200465402
          ],
          [
           "(?)",
           -0.9946574920696503
          ],
          [
           "(?)",
           -0.15876714062962943
          ],
          [
           "(?)",
           -1
          ],
          [
           293285.76077535754,
           1
          ],
          [
           0.24658366050277764,
           1
          ],
          [
           222437.3100627974,
           1
          ],
          [
           10.181365000000001,
           1
          ],
          [
           -123434.16537657118,
           -1
          ],
          [
           110291.60023864292,
           1
          ],
          [
           "(?)",
           0.9711244426057187
          ],
          [
           -20959.961753481697,
           -1
          ],
          [
           -7613627.84056,
           -1
          ],
          [
           646.3953999999944,
           1
          ],
          [
           -0.03000000000000025,
           -1
          ],
          [
           7.092220000000001,
           1
          ],
          [
           3903338.657643715,
           1
          ],
          [
           -951668.804940002,
           -1
          ],
          [
           3315782.446508009,
           1
          ],
          [
           -45060.76999999999,
           -1
          ],
          [
           38336.065071739955,
           1
          ],
          [
           "(?)",
           -1
          ],
          [
           "(?)",
           0.7727846816789212
          ],
          [
           "(?)",
           -0.9998890262199762
          ],
          [
           "(?)",
           -0.04797387075360436
          ],
          [
           -8916838.283505077,
           -1
          ],
          [
           -1958.1629887709278,
           -1
          ],
          [
           "(?)",
           0.24474888572087394
          ],
          [
           -3.849312022145056,
           -1
          ],
          [
           0.146625,
           1
          ],
          [
           "(?)",
           0.03520675685620724
          ],
          [
           -949978.0462061937,
           -1
          ],
          [
           1065.0370041048373,
           1
          ],
          [
           -0.4700000000000001,
           -1
          ],
          [
           "(?)",
           0.48971459427987984
          ],
          [
           -346501.1729968799,
           -1
          ],
          [
           "(?)",
           -0.702817883489978
          ],
          [
           "(?)",
           0.9521945463452227
          ]
         ],
         "domain": {
          "x": [
           0,
           1
          ],
          "y": [
           0,
           1
          ]
         },
         "hovertemplate": "labels=%{label}<br>abs_cumul_net_dollar_flow_30d=%{value}<br>parent=%{parent}<br>id=%{id}<br>cumul_net_dollar_flow_30d=%{customdata[0]}<br>flow_direction_30d=%{color}<extra></extra>",
         "ids": [
          "all/Solana/01",
          "all/Mixin/4swap",
          "all/Ethereum/aave-v1",
          "all/Avalanche/aave-v2",
          "all/Ethereum/aave-v2",
          "all/Polygon/aave-v2",
          "all/Arbitrum/aave-v3",
          "all/Avalanche/aave-v3",
          "all/Base/aave-v3",
          "all/Ethereum/aave-v3",
          "all/Fantom/aave-v3",
          "all/Metis/aave-v3",
          "all/Optimism/aave-v3",
          "all/Polygon/aave-v3",
          "all/Arbitrum/abracadabra*",
          "all/Avalanche/abracadabra*",
          "all/Fantom/abracadabra*",
          "all/Acala/acala-dollar",
          "all/Ethereum/across",
          "all/Arbitrum/acryptos",
          "all/Astar/acryptos",
          "all/Avalanche/acryptos",
          "all/Base/acryptos",
          "all/Binance/acryptos",
          "all/Canto/acryptos",
          "all/Cronos/acryptos",
          "all/Ethereum/acryptos",
          "all/Fantom/acryptos",
          "all/Harmony/acryptos",
          "all/Kava/acryptos",
          "all/Moonbeam/acryptos",
          "all/Moonriver/acryptos",
          "all/Optimism/acryptos",
          "all/Polygon/acryptos",
          "all/xDai/acryptos",
          "all/Ethereum/ad-astra-bridge",
          "all/Base/aerodrome",
          "all/Mantle/agni-finance",
          "all/Ethereum/aktionariat",
          "all/Optimism/aktionariat",
          "all/Ethereum/alchemix",
          "all/Fantom/alchemix",
          "all/Optimism/alchemix",
          "all/Stacks/alex",
          "all/Astar/algem",
          "all/Base/alien-base-amm",
          "all/Binance/alpaca-leveraged-yield-farming",
          "all/Fantom/alpaca-leveraged-yield-farming",
          "all/Arbitrum/angle",
          "all/Avalanche/angle",
          "all/Binance/angle",
          "all/Ethereum/angle",
          "all/Optimism/angle",
          "all/Polygon/angle",
          "all/Avalanche/ankr",
          "all/Binance/ankr",
          "all/Ethereum/ankr",
          "all/Fantom/ankr",
          "all/Polkadot/ankr",
          "all/xDai/ankr",
          "all/Arbitrum/apeswap-amm",
          "all/Binance/apeswap-amm",
          "all/Ethereum/apeswap-amm",
          "all/Polygon/apeswap-amm",
          "all/Telos/apeswap-amm",
          "all/Ethereum/apex-protocol",
          "all/Arbitrum/apollox",
          "all/Binance/apollox",
          "all/Ethereum/apollox",
          "all/zkSync Era/apollox",
          "all/Ethereum/arrakis-v1",
          "all/Optimism/arrakis-v1",
          "all/Polygon/arrakis-v1",
          "all/Arbitrum/arrakis-v2",
          "all/Ethereum/arrakis-v2",
          "all/Optimism/arrakis-v2",
          "all/Polygon/arrakis-v2",
          "all/Astar/arthswap",
          "all/Injective/astroport",
          "all/Neutron/astroport",
          "all/Sei/astroport",
          "all/Terra2/astroport",
          "all/Ethereum/asymetrix-protocol",
          "all/Arbitrum/aura",
          "all/Ethereum/aura",
          "all/Optimism/aura",
          "all/Polygon/aura",
          "all/xDai/aura",
          "all/Arbitrum/axelar",
          "all/Avalanche/axelar",
          "all/Binance/axelar",
          "all/Celo/axelar",
          "all/Comdex/axelar",
          "all/Cosmos/axelar",
          "all/Crescent/axelar",
          "all/Ethereum/axelar",
          "all/Fantom/axelar",
          "all/Injective/axelar",
          "all/Juno/axelar",
          "all/Kava/axelar",
          "all/Kujira/axelar",
          "all/Moonbeam/axelar",
          "all/Osmosis/axelar",
          "all/Persistence/axelar",
          "all/Polygon/axelar",
          "all/Secret/axelar",
          "all/Stargaze/axelar",
          "all/Terra2/axelar",
          "all/Umee/axelar",
          "all/Arbitrum/b.protocol",
          "all/Ethereum/b.protocol",
          "all/Polygon/b.protocol",
          "all/Binance/babydogeswap",
          "all/Avalanche/backedfi",
          "all/Ethereum/backedfi",
          "all/Polygon/backedfi",
          "all/xDai/backedfi",
          "all/Arbitrum/badger-dao*",
          "all/Ethereum/badger-dao*",
          "all/Fantom/badger-dao*",
          "all/Polygon/badger-dao*",
          "all/Ethereum/bancor-v3",
          "all/Base/baseswap-v2",
          "all/Arbitrum/beefy",
          "all/Aurora/beefy",
          "all/Avalanche/beefy",
          "all/Base/beefy",
          "all/Binance/beefy",
          "all/Canto/beefy",
          "all/Celo/beefy",
          "all/Cronos/beefy",
          "all/Ethereum/beefy",
          "all/Fantom/beefy",
          "all/Fuse/beefy",
          "all/Harmony/beefy",
          "all/Heco/beefy",
          "all/Kava/beefy",
          "all/Metis/beefy",
          "all/Moonbeam/beefy",
          "all/Moonriver/beefy",
          "all/Oasis/beefy",
          "all/Optimism/beefy",
          "all/Polygon/beefy",
          "all/Polygon zkEVM/beefy",
          "all/zkSync/beefy",
          "all/Fantom/beethoven-x",
          "all/Optimism/beethoven-x",
          "all/Ethereum/bella-protocol",
          "all/Binance/belt-finance",
          "all/Heco/belt-finance",
          "all/Klaytn/belt-finance",
          "all/Ethereum/benddao-ape-staking",
          "all/Ethereum/benddao-lending",
          "all/Avalanche/benqi-lending",
          "all/Avalanche/benqi-staked-avax",
          "all/Avalanche/bifi",
          "all/Binance/bifi",
          "all/Ethereum/bifi",
          "all/Klaytn/bifi",
          "all/Bifrost/bifrost-liquid-crowdloan",
          "all/Bifrost/bifrost-liquid-staking",
          "all/Ethereum/bifrost-liquid-staking",
          "all/Filecoin/bifrost-liquid-staking",
          "all/Binance/binance-staked-eth",
          "all/Ethereum/binance-staked-eth",
          "all/Ethereum/blur-bids",
          "all/Ethereum/blur-lending",
          "all/Near/burrow",
          "all/Mixin/bwatch*",
          "all/Arbitrum/camelot-v2",
          "all/Arbitrum/camelot-v3",
          "all/Canto/canto-dex",
          "all/Canto/canto-lending",
          "all/Arbitrum/cbridge",
          "all/Aurora/cbridge",
          "all/Avalanche/cbridge",
          "all/Binance/cbridge",
          "all/Boba/cbridge",
          "all/Ethereum/cbridge",
          "all/Fantom/cbridge",
          "all/Metis/cbridge",
          "all/Optimism/cbridge",
          "all/Polygon/cbridge",
          "all/Shiden/cbridge",
          "all/Arbitrum/cian",
          "all/Avalanche/cian",
          "all/Ethereum/cian",
          "all/Optimism/cian",
          "all/Polygon/cian",
          "all/Ethereum/coinbase-wrapped-staked-eth",
          "all/Binance/coinwind",
          "all/Heco/coinwind",
          "all/Ethereum/compound",
          "all/Arbitrum/compound-v3",
          "all/Base/compound-v3",
          "all/Ethereum/compound-v3",
          "all/Polygon/compound-v3",
          "all/Ethereum/concentrator",
          "all/Arbitrum/connext",
          "all/Binance/connext",
          "all/Ethereum/connext",
          "all/Optimism/connext",
          "all/Polygon/connext",
          "all/xDai/connext",
          "all/Ethereum/crvusd",
          "all/Binance/defibox",
          "all/EOS/defibox",
          "all/Wax/defibox",
          "all/DefiChain/defichain-dex",
          "all/DefiChain/defichain-loans",
          "all/Ethereum/defisaver",
          "all/Arbitrum/dforce",
          "all/Binance/dforce",
          "all/Conflux/dforce",
          "all/Ethereum/dforce",
          "all/Optimism/dforce",
          "all/Polygon/dforce",
          "all/Ethereum/dhedge",
          "all/Optimism/dhedge",
          "all/Polygon/dhedge",
          "all/Cardano/djed-stablecoin",
          "all/Arbitrum/dopex",
          "all/Binance/dopex",
          "all/Solana/drift",
          "all/Arbitrum/dxsale",
          "all/Avalanche/dxsale",
          "all/Binance/dxsale",
          "all/Bitgert/dxsale",
          "all/CORE/dxsale",
          "all/Celo/dxsale",
          "all/Cronos/dxsale",
          "all/Ethereum/dxsale",
          "all/Fantom/dxsale",
          "all/Heco/dxsale",
          "all/Kucoin/dxsale",
          "all/Milkomeda/dxsale",
          "all/OKExChain/dxsale",
          "all/Polygon/dxsale",
          "all/Ethereum/dydx",
          "all/Ethereum/eigenlayer",
          "all/EOS/eos-rex",
          "all/Arbitrum/equilibria",
          "all/Binance/equilibria",
          "all/Ethereum/equilibria",
          "all/Optimism/equilibria",
          "all/Ethereum/ether.fi",
          "all/Ethereum/exactly",
          "all/Optimism/exactly",
          "all/Mixin/exinpool*",
          "all/Base/extra-finance",
          "all/Optimism/extra-finance",
          "all/Cronos/ferro",
          "all/NEO/flamingo-finance",
          "all/Ethereum/flexa",
          "all/Ethereum/flux-finance",
          "all/Algorand/folks-finance-lending",
          "all/Ethereum/frax",
          "all/Ethereum/frax-ether",
          "all/Ethereum/frax-fpi",
          "all/Arbitrum/frax-swap",
          "all/Avalanche/frax-swap",
          "all/Binance/frax-swap",
          "all/Dogechain/frax-swap",
          "all/Ethereum/frax-swap",
          "all/Fantom/frax-swap",
          "all/Moonbeam/frax-swap",
          "all/Polygon/frax-swap",
          "all/Ethereum/fraxlend",
          "all/Base/friend.tech",
          "all/Arbitrum/gains-network",
          "all/Polygon/gains-network",
          "all/Arbitrum/gamma",
          "all/Avalanche/gamma",
          "all/Base/gamma",
          "all/Binance/gamma",
          "all/Celo/gamma",
          "all/Ethereum/gamma",
          "all/Linea/gamma",
          "all/Mantle/gamma",
          "all/Moonbeam/gamma",
          "all/Optimism/gamma",
          "all/Polygon/gamma",
          "all/Polygon zkEVM/gamma",
          "all/Rollux/gamma",
          "all/Ethereum/gearbox",
          "all/Filecoin/glif-pools-infinity-pool",
          "all/Arbitrum/gmd-protocol",
          "all/Avalanche/gmd-protocol",
          "all/Arbitrum/gmx-v1",
          "all/Avalanche/gmx-v1",
          "all/Arbitrum/gmx-v2",
          "all/Avalanche/gmx-v2",
          "all/Arbitrum/gravita-protocol",
          "all/Ethereum/gravita-protocol",
          "all/Ethereum/gravity-bridge",
          "all/GravityBridge/gravity-bridge",
          "all/Elrond/hatom-lending",
          "all/Elrond/hatom-liquid-staking",
          "all/Binance/helio-protocol",
          "all/Injective/helix",
          "all/Arbitrum/hmx",
          "all/Polygon/hmx",
          "all/Avalanche/homora-v2",
          "all/Binance/homora-v2",
          "all/Ethereum/homora-v2",
          "all/Fantom/homora-v2",
          "all/Optimism/homora-v2",
          "all/Arbitrum/hop-protocol",
          "all/Arbitrum Nova/hop-protocol",
          "all/Base/hop-protocol",
          "all/Ethereum/hop-protocol",
          "all/Optimism/hop-protocol",
          "all/Polygon/hop-protocol",
          "all/xDai/hop-protocol",
          "all/HydraDX/hydradx",
          "all/Arbitrum/hyperliquid",
          "all/Polygon/idle",
          "all/Ethereum/immutablex",
          "all/Ethereum/index-coop",
          "all/Cardano/indigo",
          "all/Ethereum/injective-bridge",
          "all/Ethereum/instadapp",
          "all/Ethereum/inverse-finance-firm",
          "all/Binance/iotube",
          "all/Ethereum/iotube",
          "all/Polygon/iotube",
          "all/Ethereum/ipor",
          "all/Avalanche/iron-bank",
          "all/Ethereum/iron-bank",
          "all/Fantom/iron-bank",
          "all/Optimism/iron-bank",
          "all/Arbitrum/iziswap",
          "all/Aurora/iziswap",
          "all/Binance/iziswap",
          "all/Linea/iziswap",
          "all/Mantle/iziswap",
          "all/OntologyEVM/iziswap",
          "all/Polygon/iziswap",
          "all/Ultron/iziswap",
          "all/zkSync Era/iziswap",
          "all/Starknet/jediswap",
          "all/Solana/jito",
          "all/Arbitrum/joe-v2.1",
          "all/Avalanche/joe-v2.1",
          "all/Binance/joe-v2.1",
          "all/Ethereum/joe-v2.1",
          "all/Arbitrum/jones-dao",
          "all/Ethereum/jones-dao",
          "all/Ethereum/jpegd",
          "all/Tron/justcryptos*",
          "all/Tron/justlend",
          "all/Tron/juststables",
          "all/Ronin/katana-dex",
          "all/Kava/kava-earn",
          "all/Kava/kava-lend",
          "all/Kava/kava-liquid",
          "all/Kava/kava-mint",
          "all/Ethereum/keep3r-network",
          "all/Klaytn/klaystation*",
          "all/Klaytn/klayswap",
          "all/Klaytn/kleva-farm",
          "all/Arbitrum/kyberswap-elastic",
          "all/Avalanche/kyberswap-elastic",
          "all/Base/kyberswap-elastic",
          "all/Binance/kyberswap-elastic",
          "all/Cronos/kyberswap-elastic",
          "all/Ethereum/kyberswap-elastic",
          "all/Fantom/kyberswap-elastic",
          "all/Linea/kyberswap-elastic",
          "all/Optimism/kyberswap-elastic",
          "all/Polygon/kyberswap-elastic",
          "all/Arbitrum/level-finance",
          "all/Binance/level-finance",
          "all/Ethereum/lido",
          "all/Moonbeam/lido",
          "all/Moonriver/lido",
          "all/Solana/lido",
          "all/Bitcoin/lightning-network",
          "all/Near/linear-protocol",
          "all/Binance/liqee",
          "all/Ethereum/liqee",
          "all/Ethereum/liquid-collective",
          "all/Aptos/liquidswap",
          "all/Ethereum/liquity",
          "all/Cardano/liqwid",
          "all/Algorand/lofty",
          "all/Ethereum/loopring",
          "all/Ethereum/lusd-chickenbonds",
          "all/Ethereum/lybra-v1",
          "all/Ethereum/lybra-v2",
          "all/Arbitrum/lyra",
          "all/Optimism/lyra",
          "all/Ethereum/makerdao",
          "all/Ethereum/maple-rwa",
          "all/Solana/marginfi",
          "all/Solana/marinade-finance",
          "all/Ethereum/matrixdock",
          "all/Base/maverick-protocol",
          "all/Binance/maverick-protocol",
          "all/Ethereum/maverick-protocol",
          "all/zkSync Era/maverick-protocol",
          "all/Binance/mdex",
          "all/Bittorrent/mdex",
          "all/Heco/mdex",
          "all/Celo/mento",
          "all/Ethereum/mento",
          "all/Near/meta-pool-near",
          "all/Ethereum/mimo-protocol",
          "all/Fantom/mimo-protocol",
          "all/Polygon/mimo-protocol",
          "all/Cardano/minswap",
          "all/RSK/moneyonchain",
          "all/Base/moonwell",
          "all/Moonbeam/moonwell",
          "all/Ethereum/morpho-aave",
          "all/Ethereum/morpho-aavev3",
          "all/Ethereum/morpho-compound",
          "all/Arbitrum/multichain",
          "all/Arbitrum Nova/multichain",
          "all/Avalanche/multichain",
          "all/Binance/multichain",
          "all/Bitgert/multichain",
          "all/Celo/multichain",
          "all/Cronos/multichain",
          "all/Dogechain/multichain",
          "all/Ethereum/multichain",
          "all/Fantom/multichain",
          "all/Harmony/multichain",
          "all/Heco/multichain",
          "all/Klaytn/multichain",
          "all/Metis/multichain",
          "all/Optimism/multichain",
          "all/Polygon/multichain",
          "all/Polygon zkEVM/multichain",
          "all/zkSync Era/mute.io",
          "all/Arbitrum/mux-protocol",
          "all/Avalanche/mux-protocol",
          "all/Binance/mux-protocol",
          "all/Fantom/mux-protocol",
          "all/Optimism/mux-protocol",
          "all/NEO/neoburger",
          "all/Ethereum/nexus-mutual",
          "all/Ethereum/nftfi",
          "all/Ethereum/nftx",
          "all/Ethereum/nodedao",
          "all/Ethereum/notional",
          "all/Avalanche/octus-bridge",
          "all/Binance/octus-bridge",
          "all/Ethereum/octus-bridge",
          "all/Everscale/octus-bridge",
          "all/Polygon/octus-bridge",
          "all/OKExChain/okc-liquid-staking",
          "all/OKExChain/okcswap",
          "all/Ethereum/ondo-finance",
          "all/Polygon/ondo-finance",
          "all/Ethereum/openeden-t-bills",
          "all/Avalanche/opyn-gamma",
          "all/Ethereum/opyn-gamma",
          "all/Polygon/opyn-gamma",
          "all/Binance/orbit-bridge",
          "all/Celo/orbit-bridge",
          "all/Ethereum/orbit-bridge",
          "all/Heco/orbit-bridge",
          "all/Klaytn/orbit-bridge",
          "all/Meta/orbit-bridge",
          "all/Polygon/orbit-bridge",
          "all/Ripple/orbit-bridge",
          "all/TON/orbit-bridge",
          "all/WEMIX/orbit-bridge",
          "all/Solana/orca",
          "all/Ethereum/origin-dollar",
          "all/Ethereum/origin-ether",
          "all/Osmosis/osmosis-dex",
          "all/Arbitrum/overnight-usd+",
          "all/Base/overnight-usd+",
          "all/Binance/overnight-usd+",
          "all/Linea/overnight-usd+",
          "all/Optimism/overnight-usd+",
          "all/Polygon/overnight-usd+",
          "all/zkSync Era/overnight-usd+",
          "all/Algorand/pact*",
          "all/Aptos/pancakeswap-amm",
          "all/Arbitrum/pancakeswap-amm",
          "all/Base/pancakeswap-amm",
          "all/Binance/pancakeswap-amm",
          "all/Ethereum/pancakeswap-amm",
          "all/Linea/pancakeswap-amm",
          "all/Polygon zkEVM/pancakeswap-amm",
          "all/zkSync Era/pancakeswap-amm",
          "all/Arbitrum/pancakeswap-amm-v3",
          "all/Base/pancakeswap-amm-v3",
          "all/Binance/pancakeswap-amm-v3",
          "all/Ethereum/pancakeswap-amm-v3",
          "all/Linea/pancakeswap-amm-v3",
          "all/zkSync Era/pancakeswap-amm-v3",
          "all/Binance/pancakeswap-stableswap",
          "all/Mixin/pando-leaf",
          "all/Mixin/pando-rings",
          "all/Avalanche/pangolin",
          "all/Flare/pangolin",
          "all/Hedera/pangolin",
          "all/Songbird/pangolin",
          "all/Heiko/parallel-lending",
          "all/Parallel/parallel-lending",
          "all/Arbitrum/paraspace-lending-v1",
          "all/Ethereum/paraspace-lending-v1",
          "all/Moonbeam/paraspace-lending-v1",
          "all/Polygon/paraspace-lending-v1",
          "all/zkSync Era/paraspace-lending-v1",
          "all/Ethereum/paraspace-lending-v2",
          "all/EOS/paycash*",
          "all/Polygon/pearlfi",
          "all/Arbitrum/pendle",
          "all/Avalanche/pendle",
          "all/Binance/pendle",
          "all/Ethereum/pendle",
          "all/Optimism/pendle",
          "all/Arbitrum/penpie",
          "all/Binance/penpie",
          "all/Ethereum/penpie",
          "all/Optimism/penpie",
          "all/Optimism/perpetual-protocol",
          "all/Pulse/phux",
          "all/Avalanche/pinksale",
          "all/Binance/pinksale",
          "all/Cronos/pinksale",
          "all/Ethereum/pinksale",
          "all/Fantom/pinksale",
          "all/Polygon/pinksale",
          "all/Avalanche/platypus-finance",
          "all/Arbitrum/poly-network*",
          "all/Astar/poly-network*",
          "all/Avalanche/poly-network*",
          "all/Binance/poly-network*",
          "all/Boba/poly-network*",
          "all/Celo/poly-network*",
          "all/Ethereum/poly-network*",
          "all/Fantom/poly-network*",
          "all/Heco/poly-network*",
          "all/Metis/poly-network*",
          "all/NEO/poly-network*",
          "all/Neo3/poly-network*",
          "all/OKExChain/poly-network*",
          "all/Ontology/poly-network*",
          "all/Optimism/poly-network*",
          "all/Polygon/poly-network*",
          "all/Starcoin/poly-network*",
          "all/xDai/poly-network*",
          "all/Acala/portal*",
          "all/Algorand/portal*",
          "all/Aptos/portal*",
          "all/Arbitrum/portal*",
          "all/Aurora/portal*",
          "all/Avalanche/portal*",
          "all/Binance/portal*",
          "all/Celo/portal*",
          "all/Ethereum/portal*",
          "all/Fantom/portal*",
          "all/Klaytn/portal*",
          "all/Moonbeam/portal*",
          "all/Near/portal*",
          "all/Oasis/portal*",
          "all/Optimism/portal*",
          "all/Polygon/portal*",
          "all/Solana/portal*",
          "all/Sui/portal*",
          "all/Terra/portal*",
          "all/Terra2/portal*",
          "all/XPLA/portal*",
          "all/Ethereum/prisma-finance",
          "all/Pulse/pulsex-v1",
          "all/Pulse/pulsex-v2",
          "all/Arbitrum/qidao",
          "all/Avalanche/qidao",
          "all/Base/qidao",
          "all/Binance/qidao",
          "all/Ethereum/qidao",
          "all/Fantom/qidao",
          "all/Metis/qidao",
          "all/Moonbeam/qidao",
          "all/Optimism/qidao",
          "all/Polygon/qidao",
          "all/xDai/qidao",
          "all/Polygon/quickswap-dex",
          "all/Arbitrum/radiant-v2",
          "all/Binance/radiant-v2",
          "all/Ethereum/raft",
          "all/Solana/raydium",
          "all/xDai/realt-tokens",
          "all/Near/ref-finance",
          "all/Ethereum/reflexer",
          "all/Ethereum/renvm",
          "all/Solana/renvm",
          "all/Ethereum/reserve",
          "all/Polygon/retro",
          "all/Telos/rex-staking",
          "all/Arbitrum/rhino.fi",
          "all/Ethereum/rhino.fi",
          "all/Polygon/rhino.fi",
          "all/Avalanche/ribbon",
          "all/Ethereum/ribbon",
          "all/Solana/ribbon",
          "all/Ethereum/rocket-pool",
          "all/Hedera/saucerswap*",
          "all/Solana/serum",
          "all/Ethereum/shibaswap",
          "all/Icon/sicx",
          "all/Arbitrum/silo-finance",
          "all/Ethereum/silo-finance",
          "all/Arbitrum/smardex",
          "all/Base/smardex",
          "all/Binance/smardex",
          "all/Ethereum/smardex",
          "all/Polygon/smardex",
          "all/Solana/solend",
          "all/Binance/solo-top",
          "all/Heco/solo-top",
          "all/OKExChain/solo-top",
          "all/Polygon/solo-top",
          "all/Ethereum/sommelier",
          "all/Base/sonne-finance",
          "all/Optimism/sonne-finance",
          "all/RSK/sovryn-dex",
          "all/RSK/sovryn-zero",
          "all/Ethereum/spark",
          "all/Arbitrum/spartadex",
          "all/Fantom/spookyswap",
          "all/Arbitrum/spool-protocol",
          "all/Ethereum/spool-protocol",
          "all/Binance/stader",
          "all/Ethereum/stader",
          "all/Fantom/stader",
          "all/Hedera/stader",
          "all/Near/stader",
          "all/Terra2/stader",
          "all/Binance/stafi",
          "all/Cosmos/stafi",
          "all/Ethereum/stafi",
          "all/Solana/stafi",
          "all/Stafi/stafi",
          "all/Klaytn/stake.ly",
          "all/Avalanche/stakedao",
          "all/Binance/stakedao",
          "all/Ethereum/stakedao",
          "all/Polygon/stakedao",
          "all/Ethereum/stakewise",
          "all/xDai/stakewise",
          "all/Arbitrum/stargate",
          "all/Avalanche/stargate",
          "all/Base/stargate",
          "all/Binance/stargate",
          "all/Ethereum/stargate",
          "all/Fantom/stargate",
          "all/Goerli/stargate",
          "all/Kava/stargate",
          "all/Metis/stargate",
          "all/Optimism/stargate",
          "all/Polygon/stargate",
          "all/Stellar/stellarx*",
          "all/Filecoin/stfil",
          "all/Stride/stride",
          "all/Ethereum/strike",
          "all/Ethereum/stusdt",
          "all/Tron/stusdt",
          "all/Ethereum/summer.fi",
          "all/Tron/sun.io",
          "all/Tron/sunswap-v1",
          "all/Tron/sunswap-v2",
          "all/Arbitrum/sushiswap",
          "all/Avalanche/sushiswap",
          "all/Binance/sushiswap",
          "all/Boba/sushiswap",
          "all/Ethereum/sushiswap",
          "all/Fantom/sushiswap",
          "all/Harmony/sushiswap",
          "all/Moonriver/sushiswap",
          "all/Polygon/sushiswap",
          "all/Arbitrum/sushiswap-v3",
          "all/Arbitrum Nova/sushiswap-v3",
          "all/Base/sushiswap-v3",
          "all/Binance/sushiswap-v3",
          "all/CORE/sushiswap-v3",
          "all/Ethereum/sushiswap-v3",
          "all/Fantom/sushiswap-v3",
          "all/Fuse/sushiswap-v3",
          "all/Moonriver/sushiswap-v3",
          "all/Optimism/sushiswap-v3",
          "all/Polygon/sushiswap-v3",
          "all/Polygon zkEVM/sushiswap-v3",
          "all/ThunderCore/sushiswap-v3",
          "all/Base/swapbased-amm",
          "all/Conflux/swappi",
          "all/Ethereum/swell",
          "all/Arbitrum/synapse",
          "all/Aurora/synapse",
          "all/Avalanche/synapse",
          "all/Base/synapse",
          "all/Binance/synapse",
          "all/Boba/synapse",
          "all/Canto/synapse",
          "all/Cronos/synapse",
          "all/Ethereum/synapse",
          "all/Fantom/synapse",
          "all/Harmony/synapse",
          "all/Klaytn/synapse",
          "all/Metis/synapse",
          "all/Moonriver/synapse",
          "all/Optimism/synapse",
          "all/Polygon/synapse",
          "all/Binance/synclub-staked-bnb",
          "all/Linea/syncswap",
          "all/zkSync Era/syncswap",
          "all/Ethereum/synthetix",
          "all/Optimism/synthetix",
          "all/Ethereum/tangible",
          "all/Optimism/tangible",
          "all/Polygon/tangible",
          "all/Ethereum/tbtc",
          "all/Avalanche/team-finance",
          "all/Binance/team-finance",
          "all/Ethereum/team-finance",
          "all/Polygon/team-finance",
          "all/Cronos/tectonic",
          "all/Terra/terra-bridge",
          "all/Binance/tetu-earn",
          "all/Ethereum/tetu-earn",
          "all/Polygon/tetu-earn",
          "all/Tezos/tezos-liquidity-baking",
          "all/Ethereum/the-tokenized-bitcoin",
          "all/Binance/thena-fusion",
          "all/Binance/thena-v1",
          "all/Avalanche/thorchain",
          "all/Binance/thorchain",
          "all/Bitcoin/thorchain",
          "all/Bitcoincash/thorchain",
          "all/Cosmos/thorchain",
          "all/Doge/thorchain",
          "all/Ethereum/thorchain",
          "all/Litecoin/thorchain",
          "all/Thorchain/thorchain",
          "all/Ethereum/tokemak",
          "all/Arbitrum/tornado-cash",
          "all/Avalanche/tornado-cash",
          "all/Binance/tornado-cash",
          "all/Ethereum/tornado-cash",
          "all/Optimism/tornado-cash",
          "all/Polygon/tornado-cash",
          "all/Optimism/toros",
          "all/Polygon/toros",
          "all/Avalanche/trader-joe-dex",
          "all/Binance/trader-joe-dex",
          "all/Binance/tranchess-yield",
          "all/Ethereum/tranchess-yield",
          "all/Arbitrum/uncx-network-v2",
          "all/Avalanche/uncx-network-v2",
          "all/Binance/uncx-network-v2",
          "all/Ethereum/uncx-network-v2",
          "all/Polygon/uncx-network-v2",
          "all/Ethereum/uniswap-v2",
          "all/Arbitrum/uniswap-v3",
          "all/Avalanche/uniswap-v3",
          "all/Base/uniswap-v3",
          "all/Binance/uniswap-v3",
          "all/Celo/uniswap-v3",
          "all/Ethereum/uniswap-v3",
          "all/Optimism/uniswap-v3",
          "all/Polygon/uniswap-v3",
          "all/Ethereum/unslashed",
          "all/Ethereum/uwu-lend",
          "all/Solana/uxd",
          "all/Avalanche/vector-finance",
          "all/Arbitrum/vela-exchange",
          "all/Base/vela-exchange",
          "all/Optimism/velodrome-v2",
          "all/Binance/venus",
          "all/Avalanche/vesper",
          "all/Ethereum/vesper",
          "all/Optimism/vesper",
          "all/Polygon/vesper",
          "all/Arbitrum/vesta-finance",
          "all/Waves/vires-finance",
          "all/Cronos/vvs-finance",
          "all/Ethereum/wbtc",
          "all/Tron/wbtc",
          "all/WEMIX/wemix.fi-amm",
          "all/WEMIX/wemix.fi-staking",
          "all/Binance/wing-finance",
          "all/Ethereum/wing-finance",
          "all/OKExChain/wing-finance",
          "all/Ontology/wing-finance",
          "all/OntologyEVM/wing-finance",
          "all/Arbitrum/wombat-exchange",
          "all/Binance/wombat-exchange",
          "all/Ethereum/wombat-exchange",
          "all/Elrond/xexchange",
          "all/Arbitrum/yearn-finance",
          "all/Ethereum/yearn-finance",
          "all/Fantom/yearn-finance",
          "all/Optimism/yearn-finance",
          "all/Avalanche/yeti-finance",
          "all/Tezos/youves",
          "all/Acala",
          "all/Algorand",
          "all/Aptos",
          "all/Arbitrum",
          "all/Arbitrum Nova",
          "all/Astar",
          "all/Aurora",
          "all/Avalanche",
          "all/Base",
          "all/Bifrost",
          "all/Binance",
          "all/Bitcoin",
          "all/Bitcoincash",
          "all/Bitgert",
          "all/Bittorrent",
          "all/Boba",
          "all/CORE",
          "all/Canto",
          "all/Cardano",
          "all/Celo",
          "all/Comdex",
          "all/Conflux",
          "all/Cosmos",
          "all/Crescent",
          "all/Cronos",
          "all/DefiChain",
          "all/Doge",
          "all/Dogechain",
          "all/EOS",
          "all/Elrond",
          "all/Ethereum",
          "all/Everscale",
          "all/Fantom",
          "all/Filecoin",
          "all/Flare",
          "all/Fuse",
          "all/Goerli",
          "all/GravityBridge",
          "all/Harmony",
          "all/Heco",
          "all/Hedera",
          "all/Heiko",
          "all/HydraDX",
          "all/Icon",
          "all/Injective",
          "all/Juno",
          "all/Kava",
          "all/Klaytn",
          "all/Kucoin",
          "all/Kujira",
          "all/Linea",
          "all/Litecoin",
          "all/Mantle",
          "all/Meta",
          "all/Metis",
          "all/Milkomeda",
          "all/Mixin",
          "all/Moonbeam",
          "all/Moonriver",
          "all/NEO",
          "all/Near",
          "all/Neo3",
          "all/Neutron",
          "all/OKExChain",
          "all/Oasis",
          "all/Ontology",
          "all/OntologyEVM",
          "all/Optimism",
          "all/Osmosis",
          "all/Parallel",
          "all/Persistence",
          "all/Polkadot",
          "all/Polygon",
          "all/Polygon zkEVM",
          "all/Pulse",
          "all/RSK",
          "all/Ripple",
          "all/Rollux",
          "all/Ronin",
          "all/Secret",
          "all/Sei",
          "all/Shiden",
          "all/Solana",
          "all/Songbird",
          "all/Stacks",
          "all/Stafi",
          "all/Starcoin",
          "all/Stargaze",
          "all/Starknet",
          "all/Stellar",
          "all/Stride",
          "all/Sui",
          "all/TON",
          "all/Telos",
          "all/Terra",
          "all/Terra2",
          "all/Tezos",
          "all/Thorchain",
          "all/ThunderCore",
          "all/Tron",
          "all/Ultron",
          "all/Umee",
          "all/WEMIX",
          "all/Waves",
          "all/Wax",
          "all/XPLA",
          "all/xDai",
          "all/zkSync",
          "all/zkSync Era",
          "all"
         ],
         "labels": [
          "01",
          "4swap",
          "aave-v1",
          "aave-v2",
          "aave-v2",
          "aave-v2",
          "aave-v3",
          "aave-v3",
          "aave-v3",
          "aave-v3",
          "aave-v3",
          "aave-v3",
          "aave-v3",
          "aave-v3",
          "abracadabra*",
          "abracadabra*",
          "abracadabra*",
          "acala-dollar",
          "across",
          "acryptos",
          "acryptos",
          "acryptos",
          "acryptos",
          "acryptos",
          "acryptos",
          "acryptos",
          "acryptos",
          "acryptos",
          "acryptos",
          "acryptos",
          "acryptos",
          "acryptos",
          "acryptos",
          "acryptos",
          "acryptos",
          "ad-astra-bridge",
          "aerodrome",
          "agni-finance",
          "aktionariat",
          "aktionariat",
          "alchemix",
          "alchemix",
          "alchemix",
          "alex",
          "algem",
          "alien-base-amm",
          "alpaca-leveraged-yield-farming",
          "alpaca-leveraged-yield-farming",
          "angle",
          "angle",
          "angle",
          "angle",
          "angle",
          "angle",
          "ankr",
          "ankr",
          "ankr",
          "ankr",
          "ankr",
          "ankr",
          "apeswap-amm",
          "apeswap-amm",
          "apeswap-amm",
          "apeswap-amm",
          "apeswap-amm",
          "apex-protocol",
          "apollox",
          "apollox",
          "apollox",
          "apollox",
          "arrakis-v1",
          "arrakis-v1",
          "arrakis-v1",
          "arrakis-v2",
          "arrakis-v2",
          "arrakis-v2",
          "arrakis-v2",
          "arthswap",
          "astroport",
          "astroport",
          "astroport",
          "astroport",
          "asymetrix-protocol",
          "aura",
          "aura",
          "aura",
          "aura",
          "aura",
          "axelar",
          "axelar",
          "axelar",
          "axelar",
          "axelar",
          "axelar",
          "axelar",
          "axelar",
          "axelar",
          "axelar",
          "axelar",
          "axelar",
          "axelar",
          "axelar",
          "axelar",
          "axelar",
          "axelar",
          "axelar",
          "axelar",
          "axelar",
          "axelar",
          "b.protocol",
          "b.protocol",
          "b.protocol",
          "babydogeswap",
          "backedfi",
          "backedfi",
          "backedfi",
          "backedfi",
          "badger-dao*",
          "badger-dao*",
          "badger-dao*",
          "badger-dao*",
          "bancor-v3",
          "baseswap-v2",
          "beefy",
          "beefy",
          "beefy",
          "beefy",
          "beefy",
          "beefy",
          "beefy",
          "beefy",
          "beefy",
          "beefy",
          "beefy",
          "beefy",
          "beefy",
          "beefy",
          "beefy",
          "beefy",
          "beefy",
          "beefy",
          "beefy",
          "beefy",
          "beefy",
          "beefy",
          "beethoven-x",
          "beethoven-x",
          "bella-protocol",
          "belt-finance",
          "belt-finance",
          "belt-finance",
          "benddao-ape-staking",
          "benddao-lending",
          "benqi-lending",
          "benqi-staked-avax",
          "bifi",
          "bifi",
          "bifi",
          "bifi",
          "bifrost-liquid-crowdloan",
          "bifrost-liquid-staking",
          "bifrost-liquid-staking",
          "bifrost-liquid-staking",
          "binance-staked-eth",
          "binance-staked-eth",
          "blur-bids",
          "blur-lending",
          "burrow",
          "bwatch*",
          "camelot-v2",
          "camelot-v3",
          "canto-dex",
          "canto-lending",
          "cbridge",
          "cbridge",
          "cbridge",
          "cbridge",
          "cbridge",
          "cbridge",
          "cbridge",
          "cbridge",
          "cbridge",
          "cbridge",
          "cbridge",
          "cian",
          "cian",
          "cian",
          "cian",
          "cian",
          "coinbase-wrapped-staked-eth",
          "coinwind",
          "coinwind",
          "compound",
          "compound-v3",
          "compound-v3",
          "compound-v3",
          "compound-v3",
          "concentrator",
          "connext",
          "connext",
          "connext",
          "connext",
          "connext",
          "connext",
          "crvusd",
          "defibox",
          "defibox",
          "defibox",
          "defichain-dex",
          "defichain-loans",
          "defisaver",
          "dforce",
          "dforce",
          "dforce",
          "dforce",
          "dforce",
          "dforce",
          "dhedge",
          "dhedge",
          "dhedge",
          "djed-stablecoin",
          "dopex",
          "dopex",
          "drift",
          "dxsale",
          "dxsale",
          "dxsale",
          "dxsale",
          "dxsale",
          "dxsale",
          "dxsale",
          "dxsale",
          "dxsale",
          "dxsale",
          "dxsale",
          "dxsale",
          "dxsale",
          "dxsale",
          "dydx",
          "eigenlayer",
          "eos-rex",
          "equilibria",
          "equilibria",
          "equilibria",
          "equilibria",
          "ether.fi",
          "exactly",
          "exactly",
          "exinpool*",
          "extra-finance",
          "extra-finance",
          "ferro",
          "flamingo-finance",
          "flexa",
          "flux-finance",
          "folks-finance-lending",
          "frax",
          "frax-ether",
          "frax-fpi",
          "frax-swap",
          "frax-swap",
          "frax-swap",
          "frax-swap",
          "frax-swap",
          "frax-swap",
          "frax-swap",
          "frax-swap",
          "fraxlend",
          "friend.tech",
          "gains-network",
          "gains-network",
          "gamma",
          "gamma",
          "gamma",
          "gamma",
          "gamma",
          "gamma",
          "gamma",
          "gamma",
          "gamma",
          "gamma",
          "gamma",
          "gamma",
          "gamma",
          "gearbox",
          "glif-pools-infinity-pool",
          "gmd-protocol",
          "gmd-protocol",
          "gmx-v1",
          "gmx-v1",
          "gmx-v2",
          "gmx-v2",
          "gravita-protocol",
          "gravita-protocol",
          "gravity-bridge",
          "gravity-bridge",
          "hatom-lending",
          "hatom-liquid-staking",
          "helio-protocol",
          "helix",
          "hmx",
          "hmx",
          "homora-v2",
          "homora-v2",
          "homora-v2",
          "homora-v2",
          "homora-v2",
          "hop-protocol",
          "hop-protocol",
          "hop-protocol",
          "hop-protocol",
          "hop-protocol",
          "hop-protocol",
          "hop-protocol",
          "hydradx",
          "hyperliquid",
          "idle",
          "immutablex",
          "index-coop",
          "indigo",
          "injective-bridge",
          "instadapp",
          "inverse-finance-firm",
          "iotube",
          "iotube",
          "iotube",
          "ipor",
          "iron-bank",
          "iron-bank",
          "iron-bank",
          "iron-bank",
          "iziswap",
          "iziswap",
          "iziswap",
          "iziswap",
          "iziswap",
          "iziswap",
          "iziswap",
          "iziswap",
          "iziswap",
          "jediswap",
          "jito",
          "joe-v2.1",
          "joe-v2.1",
          "joe-v2.1",
          "joe-v2.1",
          "jones-dao",
          "jones-dao",
          "jpegd",
          "justcryptos*",
          "justlend",
          "juststables",
          "katana-dex",
          "kava-earn",
          "kava-lend",
          "kava-liquid",
          "kava-mint",
          "keep3r-network",
          "klaystation*",
          "klayswap",
          "kleva-farm",
          "kyberswap-elastic",
          "kyberswap-elastic",
          "kyberswap-elastic",
          "kyberswap-elastic",
          "kyberswap-elastic",
          "kyberswap-elastic",
          "kyberswap-elastic",
          "kyberswap-elastic",
          "kyberswap-elastic",
          "kyberswap-elastic",
          "level-finance",
          "level-finance",
          "lido",
          "lido",
          "lido",
          "lido",
          "lightning-network",
          "linear-protocol",
          "liqee",
          "liqee",
          "liquid-collective",
          "liquidswap",
          "liquity",
          "liqwid",
          "lofty",
          "loopring",
          "lusd-chickenbonds",
          "lybra-v1",
          "lybra-v2",
          "lyra",
          "lyra",
          "makerdao",
          "maple-rwa",
          "marginfi",
          "marinade-finance",
          "matrixdock",
          "maverick-protocol",
          "maverick-protocol",
          "maverick-protocol",
          "maverick-protocol",
          "mdex",
          "mdex",
          "mdex",
          "mento",
          "mento",
          "meta-pool-near",
          "mimo-protocol",
          "mimo-protocol",
          "mimo-protocol",
          "minswap",
          "moneyonchain",
          "moonwell",
          "moonwell",
          "morpho-aave",
          "morpho-aavev3",
          "morpho-compound",
          "multichain",
          "multichain",
          "multichain",
          "multichain",
          "multichain",
          "multichain",
          "multichain",
          "multichain",
          "multichain",
          "multichain",
          "multichain",
          "multichain",
          "multichain",
          "multichain",
          "multichain",
          "multichain",
          "multichain",
          "mute.io",
          "mux-protocol",
          "mux-protocol",
          "mux-protocol",
          "mux-protocol",
          "mux-protocol",
          "neoburger",
          "nexus-mutual",
          "nftfi",
          "nftx",
          "nodedao",
          "notional",
          "octus-bridge",
          "octus-bridge",
          "octus-bridge",
          "octus-bridge",
          "octus-bridge",
          "okc-liquid-staking",
          "okcswap",
          "ondo-finance",
          "ondo-finance",
          "openeden-t-bills",
          "opyn-gamma",
          "opyn-gamma",
          "opyn-gamma",
          "orbit-bridge",
          "orbit-bridge",
          "orbit-bridge",
          "orbit-bridge",
          "orbit-bridge",
          "orbit-bridge",
          "orbit-bridge",
          "orbit-bridge",
          "orbit-bridge",
          "orbit-bridge",
          "orca",
          "origin-dollar",
          "origin-ether",
          "osmosis-dex",
          "overnight-usd+",
          "overnight-usd+",
          "overnight-usd+",
          "overnight-usd+",
          "overnight-usd+",
          "overnight-usd+",
          "overnight-usd+",
          "pact*",
          "pancakeswap-amm",
          "pancakeswap-amm",
          "pancakeswap-amm",
          "pancakeswap-amm",
          "pancakeswap-amm",
          "pancakeswap-amm",
          "pancakeswap-amm",
          "pancakeswap-amm",
          "pancakeswap-amm-v3",
          "pancakeswap-amm-v3",
          "pancakeswap-amm-v3",
          "pancakeswap-amm-v3",
          "pancakeswap-amm-v3",
          "pancakeswap-amm-v3",
          "pancakeswap-stableswap",
          "pando-leaf",
          "pando-rings",
          "pangolin",
          "pangolin",
          "pangolin",
          "pangolin",
          "parallel-lending",
          "parallel-lending",
          "paraspace-lending-v1",
          "paraspace-lending-v1",
          "paraspace-lending-v1",
          "paraspace-lending-v1",
          "paraspace-lending-v1",
          "paraspace-lending-v2",
          "paycash*",
          "pearlfi",
          "pendle",
          "pendle",
          "pendle",
          "pendle",
          "pendle",
          "penpie",
          "penpie",
          "penpie",
          "penpie",
          "perpetual-protocol",
          "phux",
          "pinksale",
          "pinksale",
          "pinksale",
          "pinksale",
          "pinksale",
          "pinksale",
          "platypus-finance",
          "poly-network*",
          "poly-network*",
          "poly-network*",
          "poly-network*",
          "poly-network*",
          "poly-network*",
          "poly-network*",
          "poly-network*",
          "poly-network*",
          "poly-network*",
          "poly-network*",
          "poly-network*",
          "poly-network*",
          "poly-network*",
          "poly-network*",
          "poly-network*",
          "poly-network*",
          "poly-network*",
          "portal*",
          "portal*",
          "portal*",
          "portal*",
          "portal*",
          "portal*",
          "portal*",
          "portal*",
          "portal*",
          "portal*",
          "portal*",
          "portal*",
          "portal*",
          "portal*",
          "portal*",
          "portal*",
          "portal*",
          "portal*",
          "portal*",
          "portal*",
          "portal*",
          "prisma-finance",
          "pulsex-v1",
          "pulsex-v2",
          "qidao",
          "qidao",
          "qidao",
          "qidao",
          "qidao",
          "qidao",
          "qidao",
          "qidao",
          "qidao",
          "qidao",
          "qidao",
          "quickswap-dex",
          "radiant-v2",
          "radiant-v2",
          "raft",
          "raydium",
          "realt-tokens",
          "ref-finance",
          "reflexer",
          "renvm",
          "renvm",
          "reserve",
          "retro",
          "rex-staking",
          "rhino.fi",
          "rhino.fi",
          "rhino.fi",
          "ribbon",
          "ribbon",
          "ribbon",
          "rocket-pool",
          "saucerswap*",
          "serum",
          "shibaswap",
          "sicx",
          "silo-finance",
          "silo-finance",
          "smardex",
          "smardex",
          "smardex",
          "smardex",
          "smardex",
          "solend",
          "solo-top",
          "solo-top",
          "solo-top",
          "solo-top",
          "sommelier",
          "sonne-finance",
          "sonne-finance",
          "sovryn-dex",
          "sovryn-zero",
          "spark",
          "spartadex",
          "spookyswap",
          "spool-protocol",
          "spool-protocol",
          "stader",
          "stader",
          "stader",
          "stader",
          "stader",
          "stader",
          "stafi",
          "stafi",
          "stafi",
          "stafi",
          "stafi",
          "stake.ly",
          "stakedao",
          "stakedao",
          "stakedao",
          "stakedao",
          "stakewise",
          "stakewise",
          "stargate",
          "stargate",
          "stargate",
          "stargate",
          "stargate",
          "stargate",
          "stargate",
          "stargate",
          "stargate",
          "stargate",
          "stargate",
          "stellarx*",
          "stfil",
          "stride",
          "strike",
          "stusdt",
          "stusdt",
          "summer.fi",
          "sun.io",
          "sunswap-v1",
          "sunswap-v2",
          "sushiswap",
          "sushiswap",
          "sushiswap",
          "sushiswap",
          "sushiswap",
          "sushiswap",
          "sushiswap",
          "sushiswap",
          "sushiswap",
          "sushiswap-v3",
          "sushiswap-v3",
          "sushiswap-v3",
          "sushiswap-v3",
          "sushiswap-v3",
          "sushiswap-v3",
          "sushiswap-v3",
          "sushiswap-v3",
          "sushiswap-v3",
          "sushiswap-v3",
          "sushiswap-v3",
          "sushiswap-v3",
          "sushiswap-v3",
          "swapbased-amm",
          "swappi",
          "swell",
          "synapse",
          "synapse",
          "synapse",
          "synapse",
          "synapse",
          "synapse",
          "synapse",
          "synapse",
          "synapse",
          "synapse",
          "synapse",
          "synapse",
          "synapse",
          "synapse",
          "synapse",
          "synapse",
          "synclub-staked-bnb",
          "syncswap",
          "syncswap",
          "synthetix",
          "synthetix",
          "tangible",
          "tangible",
          "tangible",
          "tbtc",
          "team-finance",
          "team-finance",
          "team-finance",
          "team-finance",
          "tectonic",
          "terra-bridge",
          "tetu-earn",
          "tetu-earn",
          "tetu-earn",
          "tezos-liquidity-baking",
          "the-tokenized-bitcoin",
          "thena-fusion",
          "thena-v1",
          "thorchain",
          "thorchain",
          "thorchain",
          "thorchain",
          "thorchain",
          "thorchain",
          "thorchain",
          "thorchain",
          "thorchain",
          "tokemak",
          "tornado-cash",
          "tornado-cash",
          "tornado-cash",
          "tornado-cash",
          "tornado-cash",
          "tornado-cash",
          "toros",
          "toros",
          "trader-joe-dex",
          "trader-joe-dex",
          "tranchess-yield",
          "tranchess-yield",
          "uncx-network-v2",
          "uncx-network-v2",
          "uncx-network-v2",
          "uncx-network-v2",
          "uncx-network-v2",
          "uniswap-v2",
          "uniswap-v3",
          "uniswap-v3",
          "uniswap-v3",
          "uniswap-v3",
          "uniswap-v3",
          "uniswap-v3",
          "uniswap-v3",
          "uniswap-v3",
          "unslashed",
          "uwu-lend",
          "uxd",
          "vector-finance",
          "vela-exchange",
          "vela-exchange",
          "velodrome-v2",
          "venus",
          "vesper",
          "vesper",
          "vesper",
          "vesper",
          "vesta-finance",
          "vires-finance",
          "vvs-finance",
          "wbtc",
          "wbtc",
          "wemix.fi-amm",
          "wemix.fi-staking",
          "wing-finance",
          "wing-finance",
          "wing-finance",
          "wing-finance",
          "wing-finance",
          "wombat-exchange",
          "wombat-exchange",
          "wombat-exchange",
          "xexchange",
          "yearn-finance",
          "yearn-finance",
          "yearn-finance",
          "yearn-finance",
          "yeti-finance",
          "youves",
          "Acala",
          "Algorand",
          "Aptos",
          "Arbitrum",
          "Arbitrum Nova",
          "Astar",
          "Aurora",
          "Avalanche",
          "Base",
          "Bifrost",
          "Binance",
          "Bitcoin",
          "Bitcoincash",
          "Bitgert",
          "Bittorrent",
          "Boba",
          "CORE",
          "Canto",
          "Cardano",
          "Celo",
          "Comdex",
          "Conflux",
          "Cosmos",
          "Crescent",
          "Cronos",
          "DefiChain",
          "Doge",
          "Dogechain",
          "EOS",
          "Elrond",
          "Ethereum",
          "Everscale",
          "Fantom",
          "Filecoin",
          "Flare",
          "Fuse",
          "Goerli",
          "GravityBridge",
          "Harmony",
          "Heco",
          "Hedera",
          "Heiko",
          "HydraDX",
          "Icon",
          "Injective",
          "Juno",
          "Kava",
          "Klaytn",
          "Kucoin",
          "Kujira",
          "Linea",
          "Litecoin",
          "Mantle",
          "Meta",
          "Metis",
          "Milkomeda",
          "Mixin",
          "Moonbeam",
          "Moonriver",
          "NEO",
          "Near",
          "Neo3",
          "Neutron",
          "OKExChain",
          "Oasis",
          "Ontology",
          "OntologyEVM",
          "Optimism",
          "Osmosis",
          "Parallel",
          "Persistence",
          "Polkadot",
          "Polygon",
          "Polygon zkEVM",
          "Pulse",
          "RSK",
          "Ripple",
          "Rollux",
          "Ronin",
          "Secret",
          "Sei",
          "Shiden",
          "Solana",
          "Songbird",
          "Stacks",
          "Stafi",
          "Starcoin",
          "Stargaze",
          "Starknet",
          "Stellar",
          "Stride",
          "Sui",
          "TON",
          "Telos",
          "Terra",
          "Terra2",
          "Tezos",
          "Thorchain",
          "ThunderCore",
          "Tron",
          "Ultron",
          "Umee",
          "WEMIX",
          "Waves",
          "Wax",
          "XPLA",
          "xDai",
          "zkSync",
          "zkSync Era",
          "all"
         ],
         "marker": {
          "coloraxis": "coloraxis",
          "colors": [
           -1,
           -1,
           -1,
           -1,
           -1,
           -1,
           1,
           -1,
           -1,
           1,
           -1,
           1,
           1,
           1,
           -1,
           -1,
           -1,
           -1,
           1,
           1,
           -1,
           -1,
           -1,
           -1,
           1,
           -1,
           -1,
           -1,
           -1,
           -1,
           -1,
           -1,
           -1,
           1,
           -1,
           -1,
           1,
           -1,
           1,
           1,
           1,
           -1,
           -1,
           -1,
           -1,
           1,
           -1,
           -1,
           1,
           1,
           -1,
           1,
           1,
           1,
           1,
           -1,
           -1,
           -1,
           1,
           1,
           -1,
           -1,
           1,
           -1,
           -1,
           1,
           1,
           -1,
           1,
           -1,
           -1,
           -1,
           1,
           -1,
           1,
           1,
           1,
           -1,
           -1,
           -1,
           -1,
           -1,
           1,
           1,
           -1,
           1,
           1,
           1,
           1,
           1,
           -1,
           1,
           1,
           1,
           1,
           -1,
           1,
           -1,
           1,
           -1,
           1,
           1,
           -1,
           1,
           -1,
           1,
           1,
           -1,
           1,
           1,
           -1,
           -1,
           -1,
           -1,
           -1,
           -1,
           -1,
           -1,
           -1,
           -1,
           -1,
           -1,
           -1,
           -1,
           -1,
           -1,
           1,
           -1,
           -1,
           -1,
           -1,
           -1,
           -1,
           -1,
           -1,
           -1,
           1,
           -1,
           -1,
           -1,
           -1,
           -1,
           1,
           -1,
           -1,
           -1,
           -1,
           1,
           -1,
           1,
           1,
           1,
           -1,
           -1,
           1,
           -1,
           -1,
           -1,
           1,
           -1,
           1,
           1,
           1,
           1,
           1,
           -1,
           -1,
           1,
           -1,
           -1,
           1,
           -1,
           -1,
           -1,
           -1,
           -1,
           -1,
           1,
           -1,
           1,
           -1,
           -1,
           -1,
           1,
           1,
           -1,
           -1,
           1,
           -1,
           1,
           -1,
           -1,
           -1,
           -1,
           -1,
           -1,
           1,
           1,
           1,
           -1,
           -1,
           1,
           1,
           1,
           1,
           1,
           -1,
           1,
           1,
           -1,
           -1,
           -1,
           -1,
           -1,
           1,
           -1,
           -1,
           -1,
           -1,
           1,
           1,
           1,
           1,
           1,
           -1,
           1,
           -1,
           1,
           -1,
           -1,
           -1,
           -1,
           -1,
           -1,
           -1,
           -1,
           1,
           -1,
           1,
           1,
           1,
           -1,
           -1,
           1,
           -1,
           1,
           -1,
           -1,
           -1,
           -1,
           -1,
           -1,
           -1,
           -1,
           1,
           -1,
           -1,
           1,
           -1,
           -1,
           -1,
           -1,
           1,
           -1,
           -1,
           -1,
           -1,
           -1,
           1,
           -1,
           -1,
           1,
           1,
           -1,
           -1,
           1,
           1,
           1,
           1,
           -1,
           1,
           1,
           -1,
           1,
           -1,
           1,
           -1,
           -1,
           -1,
           -1,
           1,
           1,
           1,
           1,
           -1,
           1,
           1,
           1,
           -1,
           1,
           1,
           -1,
           -1,
           -1,
           -1,
           -1,
           -1,
           1,
           1,
           -1,
           -1,
           -1,
           1,
           -1,
           -1,
           1,
           1,
           1,
           -1,
           1,
           -1,
           -1,
           1,
           -1,
           -1,
           -1,
           -1,
           1,
           -1,
           -1,
           -1,
           1,
           -1,
           1,
           1,
           -1,
           -1,
           -1,
           -1,
           -1,
           1,
           1,
           -1,
           -1,
           -1,
           1,
           -1,
           1,
           -1,
           -1,
           1,
           -1,
           1,
           1,
           -1,
           1,
           1,
           1,
           -1,
           -1,
           -1,
           -1,
           -1,
           1,
           -1,
           1,
           1,
           -1,
           1,
           -1,
           1,
           -1,
           -1,
           1,
           -1,
           -1,
           1,
           1,
           1,
           -1,
           -1,
           1,
           1,
           -1,
           1,
           1,
           1,
           -1,
           -1,
           1,
           -1,
           -1,
           -1,
           1,
           1,
           -1,
           -1,
           1,
           -1,
           -1,
           1,
           -1,
           -1,
           -1,
           -1,
           -1,
           1,
           -1,
           1,
           1,
           -1,
           -1,
           1,
           -1,
           1,
           1,
           -1,
           1,
           1,
           1,
           1,
           1,
           1,
           1,
           1,
           1,
           1,
           1,
           1,
           1,
           1,
           1,
           1,
           1,
           -1,
           -1,
           1,
           1,
           -1,
           1,
           1,
           1,
           -1,
           -1,
           1,
           1,
           -1,
           -1,
           1,
           1,
           1,
           1,
           -1,
           1,
           1,
           -1,
           -1,
           -1,
           1,
           1,
           1,
           -1,
           -1,
           1,
           1,
           1,
           1,
           1,
           -1,
           -1,
           -1,
           1,
           -1,
           -1,
           1,
           -1,
           -1,
           -1,
           -1,
           1,
           -1,
           -1,
           1,
           1,
           -1,
           -1,
           1,
           1,
           -1,
           1,
           1,
           1,
           1,
           1,
           1,
           -1,
           -1,
           -1,
           -1,
           -1,
           -1,
           -1,
           1,
           1,
           -1,
           -1,
           1,
           1,
           -1,
           1,
           -1,
           1,
           -1,
           -1,
           1,
           1,
           -1,
           -1,
           1,
           1,
           -1,
           1,
           1,
           -1,
           -1,
           -1,
           -1,
           -1,
           -1,
           -1,
           -1,
           -1,
           -1,
           -1,
           -1,
           1,
           -1,
           -1,
           -1,
           -1,
           -1,
           1,
           1,
           -1,
           -1,
           -1,
           -1,
           -1,
           -1,
           1,
           -1,
           1,
           -1,
           -1,
           -1,
           -1,
           -1,
           -1,
           -1,
           -1,
           1,
           -1,
           1,
           1,
           -1,
           -1,
           -1,
           -1,
           -1,
           1,
           -1,
           1,
           -1,
           -1,
           1,
           -1,
           1,
           1,
           -1,
           -1,
           -1,
           1,
           1,
           -1,
           -1,
           1,
           -1,
           1,
           1,
           1,
           -1,
           -1,
           -1,
           -1,
           1,
           -1,
           1,
           1,
           -1,
           1,
           -1,
           -1,
           1,
           -1,
           -1,
           -1,
           1,
           -1,
           1,
           -1,
           -1,
           -1,
           -1,
           -1,
           1,
           -1,
           -1,
           -1,
           -1,
           1,
           -1,
           -1,
           -1,
           -1,
           1,
           -1,
           -1,
           -1,
           -1,
           1,
           1,
           -1,
           -1,
           -1,
           1,
           -1,
           1,
           -1,
           1,
           1,
           -1,
           -1,
           -1,
           -1,
           -1,
           1,
           1,
           -1,
           -1,
           1,
           1,
           -1,
           -1,
           -1,
           -1,
           -1,
           1,
           -1,
           -1,
           1,
           1,
           -1,
           1,
           1,
           -1,
           1,
           -1,
           -1,
           -1,
           -1,
           -1,
           -1,
           -1,
           -1,
           -1,
           1,
           -1,
           -1,
           -1,
           -1,
           1,
           -1,
           1,
           1,
           -1,
           1,
           1,
           -1,
           1,
           -1,
           1,
           -1,
           1,
           -1,
           -1,
           -1,
           -1,
           -1,
           -1,
           -1,
           1,
           -1,
           1,
           -1,
           -1,
           -1,
           -1,
           -1,
           -1,
           -1,
           1,
           -1,
           1,
           1,
           -1,
           -1,
           1,
           1,
           1,
           -1,
           1,
           -1,
           1,
           1,
           1,
           -1,
           -1,
           -1,
           -1,
           -1,
           -1,
           1,
           1,
           1,
           1,
           1,
           1,
           1,
           1,
           -1,
           -1,
           -1,
           1,
           1,
           -1,
           -1,
           1,
           -1,
           1,
           -1,
           -1,
           -1,
           1,
           -1,
           1,
           1,
           -1,
           1,
           -1,
           -1,
           1,
           1,
           -1,
           1,
           -1,
           -1,
           1,
           1,
           -1,
           1,
           -1,
           -1,
           -1,
           -1,
           1,
           -1,
           -1,
           -1,
           1,
           -1,
           -1,
           -1,
           1,
           1,
           -1,
           1,
           -1,
           -1,
           -1,
           -1,
           -1,
           -1,
           -1,
           1,
           -1,
           -1,
           -1,
           1,
           -1,
           -1,
           1,
           -1,
           -0.7857827772934924,
           -0.46259873399438495,
           -0.43813606360797874,
           -0.4633521508275751,
           -1,
           -1,
           -0.8532636935381062,
           0.5672068214467418,
           0.9474670588048164,
           -0.1596850676861679,
           1,
           1,
           1,
           -1,
           -0.9714725009414175,
           -1,
           -0.9990296133153534,
           0.4039315515523727,
           0.5598349427912108,
           1,
           -1,
           1,
           1,
           -0.7714012494279553,
           -0.739672697515487,
           1,
           1,
           -0.7376488043596827,
           -0.31822230936088747,
           -0.026037190416159227,
           1,
           -0.8687406422676832,
           1,
           -1,
           -1,
           -1,
           1,
           -0.8823043608751907,
           -0.8941321278906568,
           -1,
           1,
           -1,
           1,
           -0.11443005412278226,
           1,
           0.2439816319607297,
           -0.9694844896904683,
           -1,
           1,
           0.9999993138864055,
           1,
           -0.9998432351560469,
           1,
           -0.9466064377721185,
           -1,
           -1,
           -0.9100083724054802,
           -0.7074189113456119,
           -0.6223206375891963,
           0.8554037481161526,
           1,
           -1,
           0.5191568027937948,
           -1,
           -1,
           -1,
           -0.8275343600903703,
           -1,
           1,
           1,
           1,
           -0.3437710200465402,
           -0.9946574920696503,
           -0.15876714062962943,
           -1,
           1,
           1,
           1,
           1,
           -1,
           1,
           0.9711244426057187,
           -1,
           -1,
           1,
           -1,
           1,
           1,
           -1,
           1,
           -1,
           1,
           -1,
           0.7727846816789212,
           -0.9998890262199762,
           -0.04797387075360436,
           -1,
           -1,
           0.24474888572087394,
           -1,
           1,
           0.03520675685620724,
           -1,
           1,
           -1,
           0.48971459427987984,
           -1,
           -0.702817883489978,
           0.9521945463452227
          ]
         },
         "name": "",
         "parents": [
          "all/Solana",
          "all/Mixin",
          "all/Ethereum",
          "all/Avalanche",
          "all/Ethereum",
          "all/Polygon",
          "all/Arbitrum",
          "all/Avalanche",
          "all/Base",
          "all/Ethereum",
          "all/Fantom",
          "all/Metis",
          "all/Optimism",
          "all/Polygon",
          "all/Arbitrum",
          "all/Avalanche",
          "all/Fantom",
          "all/Acala",
          "all/Ethereum",
          "all/Arbitrum",
          "all/Astar",
          "all/Avalanche",
          "all/Base",
          "all/Binance",
          "all/Canto",
          "all/Cronos",
          "all/Ethereum",
          "all/Fantom",
          "all/Harmony",
          "all/Kava",
          "all/Moonbeam",
          "all/Moonriver",
          "all/Optimism",
          "all/Polygon",
          "all/xDai",
          "all/Ethereum",
          "all/Base",
          "all/Mantle",
          "all/Ethereum",
          "all/Optimism",
          "all/Ethereum",
          "all/Fantom",
          "all/Optimism",
          "all/Stacks",
          "all/Astar",
          "all/Base",
          "all/Binance",
          "all/Fantom",
          "all/Arbitrum",
          "all/Avalanche",
          "all/Binance",
          "all/Ethereum",
          "all/Optimism",
          "all/Polygon",
          "all/Avalanche",
          "all/Binance",
          "all/Ethereum",
          "all/Fantom",
          "all/Polkadot",
          "all/xDai",
          "all/Arbitrum",
          "all/Binance",
          "all/Ethereum",
          "all/Polygon",
          "all/Telos",
          "all/Ethereum",
          "all/Arbitrum",
          "all/Binance",
          "all/Ethereum",
          "all/zkSync Era",
          "all/Ethereum",
          "all/Optimism",
          "all/Polygon",
          "all/Arbitrum",
          "all/Ethereum",
          "all/Optimism",
          "all/Polygon",
          "all/Astar",
          "all/Injective",
          "all/Neutron",
          "all/Sei",
          "all/Terra2",
          "all/Ethereum",
          "all/Arbitrum",
          "all/Ethereum",
          "all/Optimism",
          "all/Polygon",
          "all/xDai",
          "all/Arbitrum",
          "all/Avalanche",
          "all/Binance",
          "all/Celo",
          "all/Comdex",
          "all/Cosmos",
          "all/Crescent",
          "all/Ethereum",
          "all/Fantom",
          "all/Injective",
          "all/Juno",
          "all/Kava",
          "all/Kujira",
          "all/Moonbeam",
          "all/Osmosis",
          "all/Persistence",
          "all/Polygon",
          "all/Secret",
          "all/Stargaze",
          "all/Terra2",
          "all/Umee",
          "all/Arbitrum",
          "all/Ethereum",
          "all/Polygon",
          "all/Binance",
          "all/Avalanche",
          "all/Ethereum",
          "all/Polygon",
          "all/xDai",
          "all/Arbitrum",
          "all/Ethereum",
          "all/Fantom",
          "all/Polygon",
          "all/Ethereum",
          "all/Base",
          "all/Arbitrum",
          "all/Aurora",
          "all/Avalanche",
          "all/Base",
          "all/Binance",
          "all/Canto",
          "all/Celo",
          "all/Cronos",
          "all/Ethereum",
          "all/Fantom",
          "all/Fuse",
          "all/Harmony",
          "all/Heco",
          "all/Kava",
          "all/Metis",
          "all/Moonbeam",
          "all/Moonriver",
          "all/Oasis",
          "all/Optimism",
          "all/Polygon",
          "all/Polygon zkEVM",
          "all/zkSync",
          "all/Fantom",
          "all/Optimism",
          "all/Ethereum",
          "all/Binance",
          "all/Heco",
          "all/Klaytn",
          "all/Ethereum",
          "all/Ethereum",
          "all/Avalanche",
          "all/Avalanche",
          "all/Avalanche",
          "all/Binance",
          "all/Ethereum",
          "all/Klaytn",
          "all/Bifrost",
          "all/Bifrost",
          "all/Ethereum",
          "all/Filecoin",
          "all/Binance",
          "all/Ethereum",
          "all/Ethereum",
          "all/Ethereum",
          "all/Near",
          "all/Mixin",
          "all/Arbitrum",
          "all/Arbitrum",
          "all/Canto",
          "all/Canto",
          "all/Arbitrum",
          "all/Aurora",
          "all/Avalanche",
          "all/Binance",
          "all/Boba",
          "all/Ethereum",
          "all/Fantom",
          "all/Metis",
          "all/Optimism",
          "all/Polygon",
          "all/Shiden",
          "all/Arbitrum",
          "all/Avalanche",
          "all/Ethereum",
          "all/Optimism",
          "all/Polygon",
          "all/Ethereum",
          "all/Binance",
          "all/Heco",
          "all/Ethereum",
          "all/Arbitrum",
          "all/Base",
          "all/Ethereum",
          "all/Polygon",
          "all/Ethereum",
          "all/Arbitrum",
          "all/Binance",
          "all/Ethereum",
          "all/Optimism",
          "all/Polygon",
          "all/xDai",
          "all/Ethereum",
          "all/Binance",
          "all/EOS",
          "all/Wax",
          "all/DefiChain",
          "all/DefiChain",
          "all/Ethereum",
          "all/Arbitrum",
          "all/Binance",
          "all/Conflux",
          "all/Ethereum",
          "all/Optimism",
          "all/Polygon",
          "all/Ethereum",
          "all/Optimism",
          "all/Polygon",
          "all/Cardano",
          "all/Arbitrum",
          "all/Binance",
          "all/Solana",
          "all/Arbitrum",
          "all/Avalanche",
          "all/Binance",
          "all/Bitgert",
          "all/CORE",
          "all/Celo",
          "all/Cronos",
          "all/Ethereum",
          "all/Fantom",
          "all/Heco",
          "all/Kucoin",
          "all/Milkomeda",
          "all/OKExChain",
          "all/Polygon",
          "all/Ethereum",
          "all/Ethereum",
          "all/EOS",
          "all/Arbitrum",
          "all/Binance",
          "all/Ethereum",
          "all/Optimism",
          "all/Ethereum",
          "all/Ethereum",
          "all/Optimism",
          "all/Mixin",
          "all/Base",
          "all/Optimism",
          "all/Cronos",
          "all/NEO",
          "all/Ethereum",
          "all/Ethereum",
          "all/Algorand",
          "all/Ethereum",
          "all/Ethereum",
          "all/Ethereum",
          "all/Arbitrum",
          "all/Avalanche",
          "all/Binance",
          "all/Dogechain",
          "all/Ethereum",
          "all/Fantom",
          "all/Moonbeam",
          "all/Polygon",
          "all/Ethereum",
          "all/Base",
          "all/Arbitrum",
          "all/Polygon",
          "all/Arbitrum",
          "all/Avalanche",
          "all/Base",
          "all/Binance",
          "all/Celo",
          "all/Ethereum",
          "all/Linea",
          "all/Mantle",
          "all/Moonbeam",
          "all/Optimism",
          "all/Polygon",
          "all/Polygon zkEVM",
          "all/Rollux",
          "all/Ethereum",
          "all/Filecoin",
          "all/Arbitrum",
          "all/Avalanche",
          "all/Arbitrum",
          "all/Avalanche",
          "all/Arbitrum",
          "all/Avalanche",
          "all/Arbitrum",
          "all/Ethereum",
          "all/Ethereum",
          "all/GravityBridge",
          "all/Elrond",
          "all/Elrond",
          "all/Binance",
          "all/Injective",
          "all/Arbitrum",
          "all/Polygon",
          "all/Avalanche",
          "all/Binance",
          "all/Ethereum",
          "all/Fantom",
          "all/Optimism",
          "all/Arbitrum",
          "all/Arbitrum Nova",
          "all/Base",
          "all/Ethereum",
          "all/Optimism",
          "all/Polygon",
          "all/xDai",
          "all/HydraDX",
          "all/Arbitrum",
          "all/Polygon",
          "all/Ethereum",
          "all/Ethereum",
          "all/Cardano",
          "all/Ethereum",
          "all/Ethereum",
          "all/Ethereum",
          "all/Binance",
          "all/Ethereum",
          "all/Polygon",
          "all/Ethereum",
          "all/Avalanche",
          "all/Ethereum",
          "all/Fantom",
          "all/Optimism",
          "all/Arbitrum",
          "all/Aurora",
          "all/Binance",
          "all/Linea",
          "all/Mantle",
          "all/OntologyEVM",
          "all/Polygon",
          "all/Ultron",
          "all/zkSync Era",
          "all/Starknet",
          "all/Solana",
          "all/Arbitrum",
          "all/Avalanche",
          "all/Binance",
          "all/Ethereum",
          "all/Arbitrum",
          "all/Ethereum",
          "all/Ethereum",
          "all/Tron",
          "all/Tron",
          "all/Tron",
          "all/Ronin",
          "all/Kava",
          "all/Kava",
          "all/Kava",
          "all/Kava",
          "all/Ethereum",
          "all/Klaytn",
          "all/Klaytn",
          "all/Klaytn",
          "all/Arbitrum",
          "all/Avalanche",
          "all/Base",
          "all/Binance",
          "all/Cronos",
          "all/Ethereum",
          "all/Fantom",
          "all/Linea",
          "all/Optimism",
          "all/Polygon",
          "all/Arbitrum",
          "all/Binance",
          "all/Ethereum",
          "all/Moonbeam",
          "all/Moonriver",
          "all/Solana",
          "all/Bitcoin",
          "all/Near",
          "all/Binance",
          "all/Ethereum",
          "all/Ethereum",
          "all/Aptos",
          "all/Ethereum",
          "all/Cardano",
          "all/Algorand",
          "all/Ethereum",
          "all/Ethereum",
          "all/Ethereum",
          "all/Ethereum",
          "all/Arbitrum",
          "all/Optimism",
          "all/Ethereum",
          "all/Ethereum",
          "all/Solana",
          "all/Solana",
          "all/Ethereum",
          "all/Base",
          "all/Binance",
          "all/Ethereum",
          "all/zkSync Era",
          "all/Binance",
          "all/Bittorrent",
          "all/Heco",
          "all/Celo",
          "all/Ethereum",
          "all/Near",
          "all/Ethereum",
          "all/Fantom",
          "all/Polygon",
          "all/Cardano",
          "all/RSK",
          "all/Base",
          "all/Moonbeam",
          "all/Ethereum",
          "all/Ethereum",
          "all/Ethereum",
          "all/Arbitrum",
          "all/Arbitrum Nova",
          "all/Avalanche",
          "all/Binance",
          "all/Bitgert",
          "all/Celo",
          "all/Cronos",
          "all/Dogechain",
          "all/Ethereum",
          "all/Fantom",
          "all/Harmony",
          "all/Heco",
          "all/Klaytn",
          "all/Metis",
          "all/Optimism",
          "all/Polygon",
          "all/Polygon zkEVM",
          "all/zkSync Era",
          "all/Arbitrum",
          "all/Avalanche",
          "all/Binance",
          "all/Fantom",
          "all/Optimism",
          "all/NEO",
          "all/Ethereum",
          "all/Ethereum",
          "all/Ethereum",
          "all/Ethereum",
          "all/Ethereum",
          "all/Avalanche",
          "all/Binance",
          "all/Ethereum",
          "all/Everscale",
          "all/Polygon",
          "all/OKExChain",
          "all/OKExChain",
          "all/Ethereum",
          "all/Polygon",
          "all/Ethereum",
          "all/Avalanche",
          "all/Ethereum",
          "all/Polygon",
          "all/Binance",
          "all/Celo",
          "all/Ethereum",
          "all/Heco",
          "all/Klaytn",
          "all/Meta",
          "all/Polygon",
          "all/Ripple",
          "all/TON",
          "all/WEMIX",
          "all/Solana",
          "all/Ethereum",
          "all/Ethereum",
          "all/Osmosis",
          "all/Arbitrum",
          "all/Base",
          "all/Binance",
          "all/Linea",
          "all/Optimism",
          "all/Polygon",
          "all/zkSync Era",
          "all/Algorand",
          "all/Aptos",
          "all/Arbitrum",
          "all/Base",
          "all/Binance",
          "all/Ethereum",
          "all/Linea",
          "all/Polygon zkEVM",
          "all/zkSync Era",
          "all/Arbitrum",
          "all/Base",
          "all/Binance",
          "all/Ethereum",
          "all/Linea",
          "all/zkSync Era",
          "all/Binance",
          "all/Mixin",
          "all/Mixin",
          "all/Avalanche",
          "all/Flare",
          "all/Hedera",
          "all/Songbird",
          "all/Heiko",
          "all/Parallel",
          "all/Arbitrum",
          "all/Ethereum",
          "all/Moonbeam",
          "all/Polygon",
          "all/zkSync Era",
          "all/Ethereum",
          "all/EOS",
          "all/Polygon",
          "all/Arbitrum",
          "all/Avalanche",
          "all/Binance",
          "all/Ethereum",
          "all/Optimism",
          "all/Arbitrum",
          "all/Binance",
          "all/Ethereum",
          "all/Optimism",
          "all/Optimism",
          "all/Pulse",
          "all/Avalanche",
          "all/Binance",
          "all/Cronos",
          "all/Ethereum",
          "all/Fantom",
          "all/Polygon",
          "all/Avalanche",
          "all/Arbitrum",
          "all/Astar",
          "all/Avalanche",
          "all/Binance",
          "all/Boba",
          "all/Celo",
          "all/Ethereum",
          "all/Fantom",
          "all/Heco",
          "all/Metis",
          "all/NEO",
          "all/Neo3",
          "all/OKExChain",
          "all/Ontology",
          "all/Optimism",
          "all/Polygon",
          "all/Starcoin",
          "all/xDai",
          "all/Acala",
          "all/Algorand",
          "all/Aptos",
          "all/Arbitrum",
          "all/Aurora",
          "all/Avalanche",
          "all/Binance",
          "all/Celo",
          "all/Ethereum",
          "all/Fantom",
          "all/Klaytn",
          "all/Moonbeam",
          "all/Near",
          "all/Oasis",
          "all/Optimism",
          "all/Polygon",
          "all/Solana",
          "all/Sui",
          "all/Terra",
          "all/Terra2",
          "all/XPLA",
          "all/Ethereum",
          "all/Pulse",
          "all/Pulse",
          "all/Arbitrum",
          "all/Avalanche",
          "all/Base",
          "all/Binance",
          "all/Ethereum",
          "all/Fantom",
          "all/Metis",
          "all/Moonbeam",
          "all/Optimism",
          "all/Polygon",
          "all/xDai",
          "all/Polygon",
          "all/Arbitrum",
          "all/Binance",
          "all/Ethereum",
          "all/Solana",
          "all/xDai",
          "all/Near",
          "all/Ethereum",
          "all/Ethereum",
          "all/Solana",
          "all/Ethereum",
          "all/Polygon",
          "all/Telos",
          "all/Arbitrum",
          "all/Ethereum",
          "all/Polygon",
          "all/Avalanche",
          "all/Ethereum",
          "all/Solana",
          "all/Ethereum",
          "all/Hedera",
          "all/Solana",
          "all/Ethereum",
          "all/Icon",
          "all/Arbitrum",
          "all/Ethereum",
          "all/Arbitrum",
          "all/Base",
          "all/Binance",
          "all/Ethereum",
          "all/Polygon",
          "all/Solana",
          "all/Binance",
          "all/Heco",
          "all/OKExChain",
          "all/Polygon",
          "all/Ethereum",
          "all/Base",
          "all/Optimism",
          "all/RSK",
          "all/RSK",
          "all/Ethereum",
          "all/Arbitrum",
          "all/Fantom",
          "all/Arbitrum",
          "all/Ethereum",
          "all/Binance",
          "all/Ethereum",
          "all/Fantom",
          "all/Hedera",
          "all/Near",
          "all/Terra2",
          "all/Binance",
          "all/Cosmos",
          "all/Ethereum",
          "all/Solana",
          "all/Stafi",
          "all/Klaytn",
          "all/Avalanche",
          "all/Binance",
          "all/Ethereum",
          "all/Polygon",
          "all/Ethereum",
          "all/xDai",
          "all/Arbitrum",
          "all/Avalanche",
          "all/Base",
          "all/Binance",
          "all/Ethereum",
          "all/Fantom",
          "all/Goerli",
          "all/Kava",
          "all/Metis",
          "all/Optimism",
          "all/Polygon",
          "all/Stellar",
          "all/Filecoin",
          "all/Stride",
          "all/Ethereum",
          "all/Ethereum",
          "all/Tron",
          "all/Ethereum",
          "all/Tron",
          "all/Tron",
          "all/Tron",
          "all/Arbitrum",
          "all/Avalanche",
          "all/Binance",
          "all/Boba",
          "all/Ethereum",
          "all/Fantom",
          "all/Harmony",
          "all/Moonriver",
          "all/Polygon",
          "all/Arbitrum",
          "all/Arbitrum Nova",
          "all/Base",
          "all/Binance",
          "all/CORE",
          "all/Ethereum",
          "all/Fantom",
          "all/Fuse",
          "all/Moonriver",
          "all/Optimism",
          "all/Polygon",
          "all/Polygon zkEVM",
          "all/ThunderCore",
          "all/Base",
          "all/Conflux",
          "all/Ethereum",
          "all/Arbitrum",
          "all/Aurora",
          "all/Avalanche",
          "all/Base",
          "all/Binance",
          "all/Boba",
          "all/Canto",
          "all/Cronos",
          "all/Ethereum",
          "all/Fantom",
          "all/Harmony",
          "all/Klaytn",
          "all/Metis",
          "all/Moonriver",
          "all/Optimism",
          "all/Polygon",
          "all/Binance",
          "all/Linea",
          "all/zkSync Era",
          "all/Ethereum",
          "all/Optimism",
          "all/Ethereum",
          "all/Optimism",
          "all/Polygon",
          "all/Ethereum",
          "all/Avalanche",
          "all/Binance",
          "all/Ethereum",
          "all/Polygon",
          "all/Cronos",
          "all/Terra",
          "all/Binance",
          "all/Ethereum",
          "all/Polygon",
          "all/Tezos",
          "all/Ethereum",
          "all/Binance",
          "all/Binance",
          "all/Avalanche",
          "all/Binance",
          "all/Bitcoin",
          "all/Bitcoincash",
          "all/Cosmos",
          "all/Doge",
          "all/Ethereum",
          "all/Litecoin",
          "all/Thorchain",
          "all/Ethereum",
          "all/Arbitrum",
          "all/Avalanche",
          "all/Binance",
          "all/Ethereum",
          "all/Optimism",
          "all/Polygon",
          "all/Optimism",
          "all/Polygon",
          "all/Avalanche",
          "all/Binance",
          "all/Binance",
          "all/Ethereum",
          "all/Arbitrum",
          "all/Avalanche",
          "all/Binance",
          "all/Ethereum",
          "all/Polygon",
          "all/Ethereum",
          "all/Arbitrum",
          "all/Avalanche",
          "all/Base",
          "all/Binance",
          "all/Celo",
          "all/Ethereum",
          "all/Optimism",
          "all/Polygon",
          "all/Ethereum",
          "all/Ethereum",
          "all/Solana",
          "all/Avalanche",
          "all/Arbitrum",
          "all/Base",
          "all/Optimism",
          "all/Binance",
          "all/Avalanche",
          "all/Ethereum",
          "all/Optimism",
          "all/Polygon",
          "all/Arbitrum",
          "all/Waves",
          "all/Cronos",
          "all/Ethereum",
          "all/Tron",
          "all/WEMIX",
          "all/WEMIX",
          "all/Binance",
          "all/Ethereum",
          "all/OKExChain",
          "all/Ontology",
          "all/OntologyEVM",
          "all/Arbitrum",
          "all/Binance",
          "all/Ethereum",
          "all/Elrond",
          "all/Arbitrum",
          "all/Ethereum",
          "all/Fantom",
          "all/Optimism",
          "all/Avalanche",
          "all/Tezos",
          "all",
          "all",
          "all",
          "all",
          "all",
          "all",
          "all",
          "all",
          "all",
          "all",
          "all",
          "all",
          "all",
          "all",
          "all",
          "all",
          "all",
          "all",
          "all",
          "all",
          "all",
          "all",
          "all",
          "all",
          "all",
          "all",
          "all",
          "all",
          "all",
          "all",
          "all",
          "all",
          "all",
          "all",
          "all",
          "all",
          "all",
          "all",
          "all",
          "all",
          "all",
          "all",
          "all",
          "all",
          "all",
          "all",
          "all",
          "all",
          "all",
          "all",
          "all",
          "all",
          "all",
          "all",
          "all",
          "all",
          "all",
          "all",
          "all",
          "all",
          "all",
          "all",
          "all",
          "all",
          "all",
          "all",
          "all",
          "all",
          "all",
          "all",
          "all",
          "all",
          "all",
          "all",
          "all",
          "all",
          "all",
          "all",
          "all",
          "all",
          "all",
          "all",
          "all",
          "all",
          "all",
          "all",
          "all",
          "all",
          "all",
          "all",
          "all",
          "all",
          "all",
          "all",
          "all",
          "all",
          "all",
          "all",
          "all",
          "all",
          "all",
          "all",
          "all",
          "all",
          "all",
          "all",
          "all",
          "all",
          "all",
          ""
         ],
         "root": {
          "color": "lightgrey"
         },
         "type": "treemap",
         "values": [
          0.8854399997014839,
          6328092.428544249,
          627507.8200429913,
          5273360.452761524,
          137537224.63931134,
          7194630.35267944,
          17941296.011608347,
          11445293.835885884,
          13363.954126510518,
          351775554.64910007,
          1247.502892970542,
          154267.74560273305,
          717573.8256687892,
          141019.88881332777,
          7512241.8518699985,
          128913.68212000001,
          4066.5335600000108,
          17044452.646779742,
          5052878.024444635,
          194495.4485366248,
          7693.1782702199,
          23885.97847197392,
          360797.3824339619,
          1924006.330191807,
          1040.093034834821,
          19527.678515614098,
          135061.952052494,
          72935.9456199256,
          2340.561647324259,
          1659557.5562073896,
          27755.360839167835,
          1753.5846833891342,
          1118834.5033459861,
          23648.161249197936,
          27907.59225167957,
          414043.6180681549,
          556323.6585796736,
          2782763.4756468427,
          5248461.9791243095,
          171607.00335377958,
          12297451.912649605,
          1.0231815394945443e-12,
          11803.923917998936,
          7613627.84056,
          14644.77170026593,
          12960980.880884927,
          7430529.822701401,
          37571.52543748567,
          74324.76066237835,
          13.354752347783718,
          107.2767,
          24086952.868647747,
          173802.86855150075,
          114281.6182981772,
          14390.398055980268,
          2447494.5605687564,
          12102889.998602815,
          106335.76705593544,
          2386.7855431258163,
          0.32972399819272297,
          6678.077801549418,
          2452915.986353315,
          10.712556228073485,
          933490.2295519653,
          676.029629840108,
          1752623.7392226025,
          3916810.890043245,
          3889591.278897811,
          99302.39330115562,
          1191.5080489253276,
          3494946.5530996565,
          790877.6407025133,
          10223.247432895958,
          1420.5614626173049,
          4414910.029973404,
          387950.54705270706,
          132.73393564588216,
          57745.08630678241,
          3412986.0790178184,
          18230708.666979834,
          123434.16537657118,
          4964176.08974834,
          1397487.5616521223,
          9343075.971969632,
          101727162.44941102,
          4099658.265269844,
          2168060.7589227515,
          8882717.47290755,
          685288.3848055785,
          64160.78570860122,
          675774.2258000047,
          2.000560319537564,
          0.03399,
          37156.40283,
          1.958355,
          90341920.61349404,
          197822.7453176832,
          1311.9880948499454,
          2.095165,
          675675.9980779776,
          490091.94506416447,
          217184.40300719847,
          100774.52051803244,
          0.410285,
          99610.98076659738,
          10.181365000000001,
          7.092220000000001,
          4570777.50453941,
          0.146625,
          0.010015004997131373,
          2142428.1907292823,
          0.37977289515884877,
          187356.37745562737,
          250744.7931,
          42581569.08666,
          14428.06717,
          3564514.45334,
          88173.31999999995,
          4388988.859999999,
          1264.150000000001,
          62.75,
          1405259.5281231934,
          11431714.953097172,
          5421989.243940757,
          45917.58936658957,
          1392897.3195975088,
          19212209.399801817,
          5248471.132717431,
          382127.4524690136,
          12142.46776616423,
          380630.51029732975,
          3926472.5064529204,
          2073825.7444081483,
          72175.9423522426,
          2091.5460316234394,
          797.7029973771013,
          93825.90037432624,
          469464.8530074341,
          82159.13770090381,
          69958.76592514211,
          30632.221203379635,
          10021014.128690679,
          4079475.86430649,
          495508.604070791,
          346501.1729968799,
          2408358.441056412,
          2671997.1670779963,
          16321.870718851971,
          259322.0152165704,
          114296.29966708123,
          71966.83594213161,
          3819144.189956889,
          8512524.691001648,
          3945392.3551516724,
          725105.7132616,
          59878.297608867426,
          151163.27777606252,
          351530.6554255347,
          88609.88552932715,
          15643.298703460952,
          579918.2041386901,
          22557.175065641568,
          593.4905208203904,
          183178232.00201055,
          284390978.35695004,
          11425045.317228109,
          1595795.4653550603,
          2396735.2975802645,
          43001369.77000001,
          9658990.077130917,
          2418703.86601604,
          614566.3629014677,
          852852.1276897705,
          58478.886498248175,
          6743.874419775799,
          583791.0050809614,
          1077410.8611096307,
          273.0408644107006,
          825860.0732077308,
          77.89486864422693,
          19398.617770194083,
          148268.7567313849,
          408413.67878075177,
          110291.60023864292,
          5492234.643828471,
          3502344.9570017043,
          7318005.743896972,
          19358.58580920513,
          6229988.186465803,
          88970059.5698729,
          521433.0411589768,
          11666.698013609514,
          6685053.512196039,
          10877055.972710412,
          5764065.409618136,
          70703893.0687674,
          4257519.35289389,
          8175721.683505967,
          1262483.4813102726,
          109138.72989671145,
          759447.8390856741,
          559630.6345621807,
          234942.87250329374,
          174097.12861505809,
          47926862.12401156,
          2257.161820074139,
          3688526.0829054294,
          1065.0370041048373,
          930506.2610695399,
          6218234.97497424,
          7089456.988663952,
          3926469.6400594427,
          1444557.3516393919,
          1011985.8140160342,
          1205503.6476731775,
          1807088.4738766297,
          133904.1850622223,
          192493.25273000007,
          1284944.1105300002,
          46468.43761000014,
          203819.91272443283,
          31.491731880564316,
          1.1778592368132776,
          3876003.078996184,
          93287.1373973724,
          557.2334203206036,
          496118.19216130767,
          0.06420816873874434,
          166.19648770988795,
          3084.365829216165,
          544.6775348583801,
          80777.74585925807,
          14958.304829885417,
          16.976707188268964,
          0.003730999992992006,
          0.08406349191523874,
          8.157470736623793,
          10892.502310902557,
          7591779.250628644,
          151177437.36472994,
          913592.0837494857,
          1635065.5067995875,
          2326916.685385,
          24804181.639050715,
          90857.93463,
          2109148.6798117063,
          116248.45136431333,
          24398242.766061977,
          2655520.0299999993,
          1605609.186341535,
          1501501.9534901425,
          315614.9826385161,
          4065738.094829999,
          2071366.176959149,
          840695.4549809833,
          5475270.961327547,
          29819674.51394012,
          17767354.27132938,
          13162.905566103575,
          8350.468457327517,
          10665.800559168418,
          5239.199350153309,
          226.0624502822447,
          3597639.468847514,
          7805.299841222873,
          68168.69787997409,
          12144.351426221914,
          6086360.617906528,
          19588846.503037997,
          12925185.693643559,
          2258534.086022059,
          1971324.2423009872,
          0.3559144852982329,
          371.79525842002477,
          8914128.389935343,
          541.5459290329266,
          2033617.1085670628,
          227982.68019589997,
          220.4423977268696,
          140280.77789450207,
          74248.89649063295,
          2906300.0699268715,
          861532.684784419,
          0.24658366050277764,
          10719563.06938462,
          8510942.62803195,
          2393506.919370001,
          703727.6101500001,
          25511161.394244634,
          9200065.386338947,
          10048944.407487154,
          2758710.605409039,
          690572.4506007463,
          3145965.3124571154,
          2541778.3809732865,
          776161.0370883247,
          3651514.2046248084,
          2096252.84781548,
          78168.36594946824,
          2713135.511121571,
          10093497.085510207,
          159257.35439526112,
          1450583.7330988962,
          1078334.388364816,
          47424733.002118245,
          38834.002801715986,
          64177.97468011369,
          342697.7820850451,
          8145.903975414942,
          993194.1611218126,
          295950.1276374685,
          105271.8063421982,
          118960.04101268554,
          181270.51179061198,
          10033804.717261,
          7770491.427439999,
          24.352812159668122,
          3532238.915757375,
          560711.0485935705,
          1026345.3458294683,
          530949.146184678,
          408683289.725156,
          4980161.057993226,
          160408.03833932127,
          59871.88106339974,
          12674.86931457917,
          1766307.7752519373,
          138338.85947951168,
          1695387.0176585813,
          4274.493878959815,
          74923.59545370282,
          1.2829769534251625,
          1810.187350216552,
          156644.17659512343,
          1211373.2009538729,
          29411.924898876612,
          6425.599155375205,
          3.625827693044414,
          3.849312022145056,
          3134769.8199010654,
          3903338.657643715,
          7124737.664329065,
          841676.6270862403,
          3852990.71774222,
          280453.9293653984,
          2566.7733396576964,
          3309872.728690163,
          359907.12956591864,
          1792984.126219836,
          489889464,
          407549296.347801,
          4258.01630287226,
          222437.3100627974,
          543674.9446449162,
          1982301.8084381483,
          544440.7287093926,
          8379641.023945086,
          181658.0207521618,
          5876831.77,
          3783357.3047558237,
          1972210.435558163,
          2581927.0127826417,
          368477.5824028595,
          22861.400030762077,
          2944.380982836464,
          301.45219873856587,
          5015790.656922614,
          14834.468299939488,
          1689411.324260368,
          1411439.72667243,
          475533.39533127926,
          2302075.845704659,
          2110511.5348506547,
          868057039.4451541,
          527877.4458848794,
          13048.778344343384,
          668729.3398551878,
          491626.0533856466,
          2382823.2475351505,
          1042588.5930568931,
          179937.60954990733,
          34972734.22771794,
          372543.29075221776,
          5139733.230756561,
          2397197.071696913,
          1044460.40826592,
          16799371.717712957,
          883278.481947966,
          233956611.71617553,
          8014534.6653027255,
          3762363.1526015773,
          295482.4522221002,
          466345706.6955131,
          11406845.196660005,
          6250455.363672286,
          20234783.80188407,
          74120864.10880375,
          628257.8090804394,
          18075.84024585787,
          5157374.472905832,
          2565.589683210186,
          214114.097632084,
          586.2680733456698,
          612962.2401226752,
          1147543.6533413634,
          1000004.867942004,
          2333078.17721,
          372832.83182518656,
          0.18642200094644812,
          42649.62486954935,
          1540072.401506474,
          309646.7753803505,
          6137535.835188436,
          3761859.6255586054,
          26403970.454561874,
          20471536.538877703,
          1407820.7525615587,
          52997.04763442776,
          107.43165885845204,
          412274.1607607134,
          559477.8319877834,
          537.3916267955733,
          0.9025434735892702,
          50148.69286040706,
          2702.5846316159873,
          385808.3625065071,
          19870.75363203007,
          526.3021131438632,
          21.239999330060932,
          221.91349337177093,
          16.671065705778975,
          272172.37846196024,
          279829.88391711557,
          1670.1536355258993,
          3899109.487572642,
          6146842.934738303,
          581352.0557144027,
          81905.30832989987,
          132.86401527557328,
          45876.36387334124,
          1973883.6000036746,
          183611.55368858355,
          858303.1918318855,
          767258.615695463,
          18317037.09011,
          5976093.000397663,
          0.25993386777891536,
          104.70143098399818,
          710750.0517988238,
          602716.5187093227,
          0.2434575486999981,
          442462.41881589155,
          118241.68231294859,
          635664.2168618077,
          80699.68827930502,
          189028.17789000086,
          604.1986100117331,
          3197426.791428846,
          16.087145556473637,
          53714.78858223577,
          2.0092583469924516,
          7888731.584117047,
          1791.4201458007867,
          30069.181381035796,
          487.92467141904064,
          39259.01139873236,
          293285.76077535754,
          38336.065071739955,
          632307.0871619838,
          6282874678.341939,
          3089930.521625793,
          1147912.866947684,
          92816309.61592026,
          2153811.0702899997,
          9003798.097594883,
          637020.4397890418,
          2.002160160179079,
          5231802.48619,
          58552.7133,
          20403.946340000024,
          3233368.4464999996,
          1001650.7435972634,
          813123.1017368722,
          1280.392030015635,
          147448389.49506888,
          323650.56843295466,
          689.6105279114274,
          364.17392513098434,
          57581.41016261559,
          1378599.8015804146,
          787620.1209004922,
          10037099.449253833,
          9226013.208086547,
          587642.3146902078,
          1572768.5558262754,
          1079075.2682856035,
          15231079.940712295,
          196608.8076099496,
          357098.24475734454,
          8817.650506675593,
          524777.8481632456,
          20959.961753481697,
          507010.6853703573,
          323302.2171968188,
          29908.265372612834,
          28530052.39466067,
          63.572426274891086,
          467.26094807800933,
          101351.08725843068,
          23843625.98016054,
          2362531.5009000003,
          16751404.25015811,
          7663990.33916946,
          13.347080604587415,
          2450415.357864883,
          26316288.436016317,
          2862353.625271113,
          3981421.461331738,
          2094400.5515326147,
          18886214.73921399,
          425587.9183683137,
          341205.90952132887,
          3045792.3026349167,
          92882.62863908178,
          121676135.26266828,
          15033.410515833582,
          35268282.46360694,
          4066.8608013627645,
          307931.1081060895,
          2455199.465088493,
          7834.75,
          123.69000000000051,
          30107.819999999992,
          611483.0299999993,
          3845.6299999999974,
          220.43999999999687,
          85065998.53,
          1370.620000000028,
          39214.870000000985,
          1943.0700000000143,
          4413073.3500000015,
          2785.2000000000116,
          0.2799999999999727,
          11.910000000000025,
          33728.52999999994,
          30198.839999989723,
          0.03000000000000025,
          14309.82,
          12.240000000000009,
          202.23000000000008,
          12268.239999999954,
          584035.8,
          785.3299999999999,
          261443.09999999986,
          1344950.0299999993,
          157666.52,
          43758373.22999999,
          96305.79000000004,
          355416.5900000002,
          527.5100000000002,
          208700.16000000015,
          6491.66,
          306123.12999999995,
          182223.76999999955,
          6916117.66,
          45060.76999999999,
          2444022.909999999,
          619.76,
          0.4700000000000001,
          25282880.703094065,
          9743749.11751829,
          4027899.76518091,
          473394.5231564564,
          66587.81319420032,
          1277798.2125174198,
          19629.95159438405,
          486829.8888494289,
          316324.98778265767,
          118162.3460076361,
          2305.4061847003395,
          2144186.388941366,
          1618620.6124649118,
          2985.2243944759502,
          53857578.78571084,
          12199744.499547917,
          11031503.271985631,
          5828648.220413013,
          430715920973.46344,
          1993462.4331000033,
          860324.820715813,
          248001.4909201045,
          214043.58850000746,
          0.08028360887843872,
          293630.9944313807,
          7130191.990724823,
          45136.53759897334,
          157346.98036600673,
          38735.849667135626,
          130508.26215054427,
          35.34577271192893,
          3164474.665890528,
          4206.4562807075445,
          92829985.45232095,
          630976.182,
          1523.1068004958452,
          3802690.0294899736,
          135346.26969699288,
          292485.3640141097,
          37431200.43503594,
          924087.6777315338,
          454316.1451645794,
          804178.8659588756,
          5082274.870556134,
          440804.64251513,
          2143700.7767058904,
          407307.18897166074,
          1378859.215067451,
          1846.1016588945638,
          6215.130627102919,
          9852040.697013011,
          2443268.0454638004,
          4952790.952378739,
          3753738.3000000007,
          113654.9379437883,
          64529122.937520295,
          1867826.7661995755,
          14835502.606554592,
          1089.9040871579705,
          328851.4654289044,
          1020259.7897752445,
          13193223.66597831,
          480200.06141387,
          455397.7112304398,
          637617.3475140118,
          529.1286696142025,
          26328.474999999984,
          39059.1634921182,
          3278376.331041806,
          217.78560000000556,
          646.3953999999944,
          330838.10183852783,
          314679.7239302182,
          860.230635,
          48240710.510463946,
          1107134.947220957,
          3719621.171648337,
          5337.87581611336,
          14192780.271481689,
          2014159.7775339184,
          19686009.790780947,
          8604601.188394934,
          989649.6888185693,
          362100.8015333233,
          18230.970883927694,
          1493428.3087997078,
          3028692.594536074,
          1686401.3566389072,
          4399987.869838465,
          951668.804940002,
          6213476.706016864,
          3315782.446508009,
          2025147.1918106333,
          518947.3376714315,
          405862643.66581744,
          109403702.93213688,
          95630.94668281471,
          5570052.649125447,
          11736.503933943139,
          1602708.3394257263,
          63344.00904919764,
          78848.84321959739,
          14980.043825538589,
          40953413.82153131,
          35995.8267023589,
          13.3216955698846,
          14750.748061421717,
          3148013.5298543293,
          239612.040059111,
          22505.515433520963,
          3312803.351165339,
          31329.77531198066,
          434599.0128793805,
          242041.34705119702,
          3315.6092944947313,
          43.20887638057013,
          36.76389,
          51671.30721178252,
          100326.89829133502,
          1600.3835997030394,
          1958.1629887709278,
          2164917.661765766,
          1138637.2558797214,
          4129429.712549724,
          11339178.557760669,
          157.51001857843656,
          5231812.165894531,
          1121344.2524572902,
          1643880.4364733023,
          43.57772411747213,
          293081.12523550354,
          2819.1745100000007,
          6854741.230163294,
          16.964804032569678,
          3971.711397010775,
          38.81858499481782,
          1987193.3926220718,
          1534.5290260028187,
          5625203.629782954,
          10950943.030913517,
          591599.6620317426,
          2119134.078925604,
          1949384.5600471348,
          869694.9730967793,
          5410561.021835231,
          83527.54381,
          19.962400000000002,
          5785229.986750252,
          7146084.519631116,
          16180.502290634047,
          1208435.2476068207,
          141812.05719705348,
          58006.13042530228,
          1233056.2839832532,
          19068812.82712528,
          17.219155116770942,
          59.098834622451264,
          8778254.282984164,
          336821.80350359296,
          2768911.4241219712,
          8653324.686802665,
          4425671.580481619,
          104349.55321525768,
          18909.11449172668,
          2033509.3488066602,
          163066.478363052,
          98035.02233401254,
          230291.74097873174,
          13044883.260411918,
          299011.4611946426,
          8916838.283505077,
          458113.4922819926,
          41307.29549999999,
          2525.8500000000004,
          1201736.9915000026,
          6937548.733779988,
          4.831690603168681e-13,
          23909.411499999984,
          1218256.1176300012,
          47884.330819999916,
          5434325.113350103,
          5553.250323540175,
          548659.0169952394,
          56937.77674864677,
          397200.9097118179,
          87.45541322920401,
          394369.6013571805,
          411676.75150191213,
          37125.02949457022,
          139623965.8590187,
          30982513.241795897,
          34145.12058554808,
          10293037.708930172,
          1797599.8674805542,
          4678531.808960791,
          94608604.67491196,
          6774159.295734445,
          2650180.095983259,
          89839.3454481987,
          27596048.324590627,
          3992928.1072127325,
          1000183.6716037488,
          2444656.6756100003,
          755815.9360209452,
          67244744.53930464,
          24302403.981337946,
          485.70128101062147,
          637173.646525993,
          3710063.0900402553,
          28.88623426061167,
          871937.2615013965,
          949978.0462061937,
          9236326.93472214,
          16823129.22811527,
          3098427.71964,
          56125.90547061299,
          738676.9037620503,
          249335,
          315207,
          19963,
          1543935,
          9958,
          1781651.7356189485,
          611685.6960234846,
          426676.4635127038,
          11113350.966989806,
          11381.35556789919,
          41833733.14300148,
          909643.6087062946,
          5699573.506065718,
          1767166.5238800012,
          305983.92458461283,
          17044464.88677974,
          9753302.046093468,
          1386462.274349481,
          267795711.72817,
          30758.851067794356,
          80206.72627726824,
          55414.49115516036,
          66135334.4206529,
          130578142.04339325,
          595561.5028421511,
          583636608.8697898,
          2525135.4021923067,
          163066.478363052,
          537.4558349643121,
          586.2680733456698,
          19142.29241406676,
          434765.20936709037,
          2143667.16133059,
          5167434.731757288,
          5999735.714188707,
          0.03399,
          2150623.0698957555,
          174250.58865613074,
          1.958355,
          11254003.797776692,
          7148741.23604378,
          230291.74097873174,
          2928.647081898232,
          6964649.667554915,
          16861118.019430093,
          5024428917.864188,
          602716.5187093227,
          22049060.36153122,
          14725012.824569635,
          8817.650506675593,
          72219.15122862316,
          18230.970883927694,
          776161.0370883247,
          8943.44288467222,
          2159626.662720514,
          1611151.7413936853,
          507010.6853703573,
          10033804.717261,
          135346.26969699288,
          6127433.5782342395,
          2.095165,
          15372546.269196944,
          12509560.837083375,
          0.003730999992992006,
          490091.94506416447,
          5836235.211714024,
          299011.4611946426,
          2812395.8429434462,
          487.92467141904064,
          5779139.290611849,
          0.08406349191523874,
          67412670.97686651,
          4828181.937376207,
          101083.16993029918,
          10452695.044833675,
          8819279.05055524,
          2785.2000000000116,
          18230708.666979834,
          582521.6402584714,
          37123.881203379635,
          1543946.91,
          16383.599155375205,
          166037039.0508346,
          92917084.1364383,
          323302.2171968188,
          0.410285,
          2386.7855431258163,
          150088802.7306789,
          1360676.0000155699,
          16817441.185334116,
          4177040.0133241396,
          293285.76077535754,
          0.24658366050277764,
          222437.3100627974,
          10.181365000000001,
          123434.16537657118,
          110291.60023864292,
          437050009055.9124,
          20959.961753481697,
          7613627.84056,
          646.3953999999944,
          0.03000000000000025,
          7.092220000000001,
          3903338.657643715,
          951668.804940002,
          3315782.446508009,
          45060.76999999999,
          38336.065071739955,
          45812.567228813445,
          21512835.73712528,
          9536102.482957363,
          642805.7280882058,
          8916838.283505077,
          1958.1629887709278,
          1312081509.8493035,
          3.849312022145056,
          0.146625,
          1427109.8963946472,
          949978.0462061937,
          1065.0370041048373,
          0.4700000000000001,
          14846602.84193949,
          346501.1729968799,
          10739125.9648403,
          445256143917.83984
         ]
        }
       ],
       "layout": {
        "coloraxis": {
         "colorbar": {
          "title": {
           "text": "flow_direction_30d"
          }
         },
         "colorscale": [
          [
           0,
           "rgb(158,1,66)"
          ],
          [
           0.1,
           "rgb(213,62,79)"
          ],
          [
           0.2,
           "rgb(244,109,67)"
          ],
          [
           0.3,
           "rgb(253,174,97)"
          ],
          [
           0.4,
           "rgb(254,224,139)"
          ],
          [
           0.5,
           "rgb(255,255,191)"
          ],
          [
           0.6,
           "rgb(230,245,152)"
          ],
          [
           0.7,
           "rgb(171,221,164)"
          ],
          [
           0.8,
           "rgb(102,194,165)"
          ],
          [
           0.9,
           "rgb(50,136,189)"
          ],
          [
           1,
           "rgb(94,79,162)"
          ]
         ]
        },
        "legend": {
         "tracegroupgap": 0
        },
        "margin": {
         "b": 25,
         "l": 25,
         "r": 25,
         "t": 50
        },
        "template": {
         "data": {
          "bar": [
           {
            "error_x": {
             "color": "#2a3f5f"
            },
            "error_y": {
             "color": "#2a3f5f"
            },
            "marker": {
             "line": {
              "color": "#E5ECF6",
              "width": 0.5
             },
             "pattern": {
              "fillmode": "overlay",
              "size": 10,
              "solidity": 0.2
             }
            },
            "type": "bar"
           }
          ],
          "barpolar": [
           {
            "marker": {
             "line": {
              "color": "#E5ECF6",
              "width": 0.5
             },
             "pattern": {
              "fillmode": "overlay",
              "size": 10,
              "solidity": 0.2
             }
            },
            "type": "barpolar"
           }
          ],
          "carpet": [
           {
            "aaxis": {
             "endlinecolor": "#2a3f5f",
             "gridcolor": "white",
             "linecolor": "white",
             "minorgridcolor": "white",
             "startlinecolor": "#2a3f5f"
            },
            "baxis": {
             "endlinecolor": "#2a3f5f",
             "gridcolor": "white",
             "linecolor": "white",
             "minorgridcolor": "white",
             "startlinecolor": "#2a3f5f"
            },
            "type": "carpet"
           }
          ],
          "choropleth": [
           {
            "colorbar": {
             "outlinewidth": 0,
             "ticks": ""
            },
            "type": "choropleth"
           }
          ],
          "contour": [
           {
            "colorbar": {
             "outlinewidth": 0,
             "ticks": ""
            },
            "colorscale": [
             [
              0,
              "#0d0887"
             ],
             [
              0.1111111111111111,
              "#46039f"
             ],
             [
              0.2222222222222222,
              "#7201a8"
             ],
             [
              0.3333333333333333,
              "#9c179e"
             ],
             [
              0.4444444444444444,
              "#bd3786"
             ],
             [
              0.5555555555555556,
              "#d8576b"
             ],
             [
              0.6666666666666666,
              "#ed7953"
             ],
             [
              0.7777777777777778,
              "#fb9f3a"
             ],
             [
              0.8888888888888888,
              "#fdca26"
             ],
             [
              1,
              "#f0f921"
             ]
            ],
            "type": "contour"
           }
          ],
          "contourcarpet": [
           {
            "colorbar": {
             "outlinewidth": 0,
             "ticks": ""
            },
            "type": "contourcarpet"
           }
          ],
          "heatmap": [
           {
            "colorbar": {
             "outlinewidth": 0,
             "ticks": ""
            },
            "colorscale": [
             [
              0,
              "#0d0887"
             ],
             [
              0.1111111111111111,
              "#46039f"
             ],
             [
              0.2222222222222222,
              "#7201a8"
             ],
             [
              0.3333333333333333,
              "#9c179e"
             ],
             [
              0.4444444444444444,
              "#bd3786"
             ],
             [
              0.5555555555555556,
              "#d8576b"
             ],
             [
              0.6666666666666666,
              "#ed7953"
             ],
             [
              0.7777777777777778,
              "#fb9f3a"
             ],
             [
              0.8888888888888888,
              "#fdca26"
             ],
             [
              1,
              "#f0f921"
             ]
            ],
            "type": "heatmap"
           }
          ],
          "heatmapgl": [
           {
            "colorbar": {
             "outlinewidth": 0,
             "ticks": ""
            },
            "colorscale": [
             [
              0,
              "#0d0887"
             ],
             [
              0.1111111111111111,
              "#46039f"
             ],
             [
              0.2222222222222222,
              "#7201a8"
             ],
             [
              0.3333333333333333,
              "#9c179e"
             ],
             [
              0.4444444444444444,
              "#bd3786"
             ],
             [
              0.5555555555555556,
              "#d8576b"
             ],
             [
              0.6666666666666666,
              "#ed7953"
             ],
             [
              0.7777777777777778,
              "#fb9f3a"
             ],
             [
              0.8888888888888888,
              "#fdca26"
             ],
             [
              1,
              "#f0f921"
             ]
            ],
            "type": "heatmapgl"
           }
          ],
          "histogram": [
           {
            "marker": {
             "pattern": {
              "fillmode": "overlay",
              "size": 10,
              "solidity": 0.2
             }
            },
            "type": "histogram"
           }
          ],
          "histogram2d": [
           {
            "colorbar": {
             "outlinewidth": 0,
             "ticks": ""
            },
            "colorscale": [
             [
              0,
              "#0d0887"
             ],
             [
              0.1111111111111111,
              "#46039f"
             ],
             [
              0.2222222222222222,
              "#7201a8"
             ],
             [
              0.3333333333333333,
              "#9c179e"
             ],
             [
              0.4444444444444444,
              "#bd3786"
             ],
             [
              0.5555555555555556,
              "#d8576b"
             ],
             [
              0.6666666666666666,
              "#ed7953"
             ],
             [
              0.7777777777777778,
              "#fb9f3a"
             ],
             [
              0.8888888888888888,
              "#fdca26"
             ],
             [
              1,
              "#f0f921"
             ]
            ],
            "type": "histogram2d"
           }
          ],
          "histogram2dcontour": [
           {
            "colorbar": {
             "outlinewidth": 0,
             "ticks": ""
            },
            "colorscale": [
             [
              0,
              "#0d0887"
             ],
             [
              0.1111111111111111,
              "#46039f"
             ],
             [
              0.2222222222222222,
              "#7201a8"
             ],
             [
              0.3333333333333333,
              "#9c179e"
             ],
             [
              0.4444444444444444,
              "#bd3786"
             ],
             [
              0.5555555555555556,
              "#d8576b"
             ],
             [
              0.6666666666666666,
              "#ed7953"
             ],
             [
              0.7777777777777778,
              "#fb9f3a"
             ],
             [
              0.8888888888888888,
              "#fdca26"
             ],
             [
              1,
              "#f0f921"
             ]
            ],
            "type": "histogram2dcontour"
           }
          ],
          "mesh3d": [
           {
            "colorbar": {
             "outlinewidth": 0,
             "ticks": ""
            },
            "type": "mesh3d"
           }
          ],
          "parcoords": [
           {
            "line": {
             "colorbar": {
              "outlinewidth": 0,
              "ticks": ""
             }
            },
            "type": "parcoords"
           }
          ],
          "pie": [
           {
            "automargin": true,
            "type": "pie"
           }
          ],
          "scatter": [
           {
            "fillpattern": {
             "fillmode": "overlay",
             "size": 10,
             "solidity": 0.2
            },
            "type": "scatter"
           }
          ],
          "scatter3d": [
           {
            "line": {
             "colorbar": {
              "outlinewidth": 0,
              "ticks": ""
             }
            },
            "marker": {
             "colorbar": {
              "outlinewidth": 0,
              "ticks": ""
             }
            },
            "type": "scatter3d"
           }
          ],
          "scattercarpet": [
           {
            "marker": {
             "colorbar": {
              "outlinewidth": 0,
              "ticks": ""
             }
            },
            "type": "scattercarpet"
           }
          ],
          "scattergeo": [
           {
            "marker": {
             "colorbar": {
              "outlinewidth": 0,
              "ticks": ""
             }
            },
            "type": "scattergeo"
           }
          ],
          "scattergl": [
           {
            "marker": {
             "colorbar": {
              "outlinewidth": 0,
              "ticks": ""
             }
            },
            "type": "scattergl"
           }
          ],
          "scattermapbox": [
           {
            "marker": {
             "colorbar": {
              "outlinewidth": 0,
              "ticks": ""
             }
            },
            "type": "scattermapbox"
           }
          ],
          "scatterpolar": [
           {
            "marker": {
             "colorbar": {
              "outlinewidth": 0,
              "ticks": ""
             }
            },
            "type": "scatterpolar"
           }
          ],
          "scatterpolargl": [
           {
            "marker": {
             "colorbar": {
              "outlinewidth": 0,
              "ticks": ""
             }
            },
            "type": "scatterpolargl"
           }
          ],
          "scatterternary": [
           {
            "marker": {
             "colorbar": {
              "outlinewidth": 0,
              "ticks": ""
             }
            },
            "type": "scatterternary"
           }
          ],
          "surface": [
           {
            "colorbar": {
             "outlinewidth": 0,
             "ticks": ""
            },
            "colorscale": [
             [
              0,
              "#0d0887"
             ],
             [
              0.1111111111111111,
              "#46039f"
             ],
             [
              0.2222222222222222,
              "#7201a8"
             ],
             [
              0.3333333333333333,
              "#9c179e"
             ],
             [
              0.4444444444444444,
              "#bd3786"
             ],
             [
              0.5555555555555556,
              "#d8576b"
             ],
             [
              0.6666666666666666,
              "#ed7953"
             ],
             [
              0.7777777777777778,
              "#fb9f3a"
             ],
             [
              0.8888888888888888,
              "#fdca26"
             ],
             [
              1,
              "#f0f921"
             ]
            ],
            "type": "surface"
           }
          ],
          "table": [
           {
            "cells": {
             "fill": {
              "color": "#EBF0F8"
             },
             "line": {
              "color": "white"
             }
            },
            "header": {
             "fill": {
              "color": "#C8D4E3"
             },
             "line": {
              "color": "white"
             }
            },
            "type": "table"
           }
          ]
         },
         "layout": {
          "annotationdefaults": {
           "arrowcolor": "#2a3f5f",
           "arrowhead": 0,
           "arrowwidth": 1
          },
          "autotypenumbers": "strict",
          "coloraxis": {
           "colorbar": {
            "outlinewidth": 0,
            "ticks": ""
           }
          },
          "colorscale": {
           "diverging": [
            [
             0,
             "#8e0152"
            ],
            [
             0.1,
             "#c51b7d"
            ],
            [
             0.2,
             "#de77ae"
            ],
            [
             0.3,
             "#f1b6da"
            ],
            [
             0.4,
             "#fde0ef"
            ],
            [
             0.5,
             "#f7f7f7"
            ],
            [
             0.6,
             "#e6f5d0"
            ],
            [
             0.7,
             "#b8e186"
            ],
            [
             0.8,
             "#7fbc41"
            ],
            [
             0.9,
             "#4d9221"
            ],
            [
             1,
             "#276419"
            ]
           ],
           "sequential": [
            [
             0,
             "#0d0887"
            ],
            [
             0.1111111111111111,
             "#46039f"
            ],
            [
             0.2222222222222222,
             "#7201a8"
            ],
            [
             0.3333333333333333,
             "#9c179e"
            ],
            [
             0.4444444444444444,
             "#bd3786"
            ],
            [
             0.5555555555555556,
             "#d8576b"
            ],
            [
             0.6666666666666666,
             "#ed7953"
            ],
            [
             0.7777777777777778,
             "#fb9f3a"
            ],
            [
             0.8888888888888888,
             "#fdca26"
            ],
            [
             1,
             "#f0f921"
            ]
           ],
           "sequentialminus": [
            [
             0,
             "#0d0887"
            ],
            [
             0.1111111111111111,
             "#46039f"
            ],
            [
             0.2222222222222222,
             "#7201a8"
            ],
            [
             0.3333333333333333,
             "#9c179e"
            ],
            [
             0.4444444444444444,
             "#bd3786"
            ],
            [
             0.5555555555555556,
             "#d8576b"
            ],
            [
             0.6666666666666666,
             "#ed7953"
            ],
            [
             0.7777777777777778,
             "#fb9f3a"
            ],
            [
             0.8888888888888888,
             "#fdca26"
            ],
            [
             1,
             "#f0f921"
            ]
           ]
          },
          "colorway": [
           "#636efa",
           "#EF553B",
           "#00cc96",
           "#ab63fa",
           "#FFA15A",
           "#19d3f3",
           "#FF6692",
           "#B6E880",
           "#FF97FF",
           "#FECB52"
          ],
          "font": {
           "color": "#2a3f5f"
          },
          "geo": {
           "bgcolor": "white",
           "lakecolor": "white",
           "landcolor": "#E5ECF6",
           "showlakes": true,
           "showland": true,
           "subunitcolor": "white"
          },
          "hoverlabel": {
           "align": "left"
          },
          "hovermode": "closest",
          "mapbox": {
           "style": "light"
          },
          "paper_bgcolor": "white",
          "plot_bgcolor": "#E5ECF6",
          "polar": {
           "angularaxis": {
            "gridcolor": "white",
            "linecolor": "white",
            "ticks": ""
           },
           "bgcolor": "#E5ECF6",
           "radialaxis": {
            "gridcolor": "white",
            "linecolor": "white",
            "ticks": ""
           }
          },
          "scene": {
           "xaxis": {
            "backgroundcolor": "#E5ECF6",
            "gridcolor": "white",
            "gridwidth": 2,
            "linecolor": "white",
            "showbackground": true,
            "ticks": "",
            "zerolinecolor": "white"
           },
           "yaxis": {
            "backgroundcolor": "#E5ECF6",
            "gridcolor": "white",
            "gridwidth": 2,
            "linecolor": "white",
            "showbackground": true,
            "ticks": "",
            "zerolinecolor": "white"
           },
           "zaxis": {
            "backgroundcolor": "#E5ECF6",
            "gridcolor": "white",
            "gridwidth": 2,
            "linecolor": "white",
            "showbackground": true,
            "ticks": "",
            "zerolinecolor": "white"
           }
          },
          "shapedefaults": {
           "line": {
            "color": "#2a3f5f"
           }
          },
          "ternary": {
           "aaxis": {
            "gridcolor": "white",
            "linecolor": "white",
            "ticks": ""
           },
           "baxis": {
            "gridcolor": "white",
            "linecolor": "white",
            "ticks": ""
           },
           "bgcolor": "#E5ECF6",
           "caxis": {
            "gridcolor": "white",
            "linecolor": "white",
            "ticks": ""
           }
          },
          "title": {
           "x": 0.05
          },
          "xaxis": {
           "automargin": true,
           "gridcolor": "white",
           "linecolor": "white",
           "ticks": "",
           "title": {
            "standoff": 15
           },
           "zerolinecolor": "white",
           "zerolinewidth": 2
          },
          "yaxis": {
           "automargin": true,
           "gridcolor": "white",
           "linecolor": "white",
           "ticks": "",
           "title": {
            "standoff": 15
           },
           "zerolinecolor": "white",
           "zerolinewidth": 2
          }
         }
        },
        "title": {
         "text": "App Net Flows Change by Chain -> App - Last 30 Days - (Apps with > $10.0M TVL Shown) - At Latest Prices<br><sup>Source: DefiLlama API | *For apps where DefiLlama didn't have flows by token, we use their total change in TVL (including token price change)</sup>"
        }
       }
      }
     },
     "metadata": {},
     "output_type": "display_data"
    }
   ],
   "source": [
    "print(\"starting chart outputs\")\n",
    "# display(summary_df)\n",
    "for i in drange:\n",
    "        fig = ''\n",
    "        if i == 0:\n",
    "                yval = 'abs_cumul_net_dollar_flow'\n",
    "                hval = 'cumul_net_dollar_flow'\n",
    "                cval = 'flow_direction'\n",
    "                saveval = 'net_app_flows'\n",
    "                saveval_app = 'net_app_flows_by_app'\n",
    "                titleval = \"App Net Flows Change by Chain -> App - Last \" + str(trailing_num_days) + \\\n",
    "                            \" Days - (Apps with > $\" + str(min_tvl/1e6) + \"M TVL Shown)\" + titleval_append\n",
    "                titleval_app = \"App Net Flows Change by App -> Chain - Last \" + str(trailing_num_days) + \\\n",
    "                            \" Days - (Apps with > $\" + str(min_tvl/1e6) + \"M TVL Shown)\" + titleval_append\n",
    "        else:\n",
    "                yval = 'abs_cumul_net_dollar_flow_' + str(i) +'d'\n",
    "                hval = 'cumul_net_dollar_flow_' + str(i) +'d'\n",
    "                cval = 'flow_direction_' + str(i) +'d'\n",
    "                saveval = 'net_app_flows_' + str(i) +'d'\n",
    "                saveval_app = 'net_app_flows_by_app_' + str(i) +'d'\n",
    "                titleval = \"App Net Flows Change by Chain -> App - Last \" + str(i) + \\\n",
    "                            \" Days - (Apps with > $\" + str(min_tvl/1e6) + \"M TVL Shown)\" + titleval_append\n",
    "                titleval_app = \"App Net Flows Change by App -> Chain - Last \" + str(i) + \\\n",
    "                                \" Days - (Apps with > $\" + str(min_tvl/1e6) + \"M TVL Shown)\" + titleval_append\n",
    "        if is_fallback_on_raw_tvl:\n",
    "                subtitle = \"<br><sup>Source: DefiLlama API | *For apps where DefiLlama didn't have flows by token, we use their total change in TVL (including token price change)</sup>\"\n",
    "        else:\n",
    "                subtitle = \"\"\n",
    "\n",
    "        fig = px.treemap(final_summary_df[final_summary_df[yval] !=0], \\\n",
    "                 path=[px.Constant(\"all\"), 'chain', 'protocol'], \\\n",
    "#                  path=[px.Constant(\"all\"), 'token', 'chain', 'protocol'], \\\n",
    "                 values=yval, color=cval\n",
    "#                 ,color_discrete_map={'-1':'red', '1':'green'})\n",
    "                ,color_continuous_scale='Spectral'\n",
    "                     , title = titleval + subtitle\n",
    "                \n",
    "                , hover_data = [hval]\n",
    "                )\n",
    "        \n",
    "        fig_app = px.treemap(final_summary_df[final_summary_df[yval] !=0], \\\n",
    "                 path=[px.Constant(\"all\"), 'protocol','chain'], \\\n",
    "#                  path=[px.Constant(\"all\"), 'token', 'chain', 'protocol'], \\\n",
    "                 values=yval, color=cval\n",
    "#                 ,color_discrete_map={'-1':'red', '1':'green'})\n",
    "                ,color_continuous_scale='Spectral'\n",
    "                     , title = titleval_app + subtitle\n",
    "                \n",
    "                , hover_data = [hval]\n",
    "                )\n",
    "\n",
    "        fig.update_traces(root_color=\"lightgrey\")\n",
    "        fig.update_layout(margin = dict(t=50, l=25, r=25, b=25))\n",
    "        fig_app.update_traces(root_color=\"lightgrey\")\n",
    "        fig_app.update_layout(margin = dict(t=50, l=25, r=25, b=25))\n",
    "\n",
    "        fig.write_image(\"img_outputs/svg/\" + saveval + \".svg\") #\n",
    "        fig.write_image(\"img_outputs/png/\" + saveval + \".png\") #\n",
    "        fig.write_html(\"img_outputs/html/\" + saveval + \".html\", include_plotlyjs='cdn')\n",
    "\n",
    "        fig_app.write_image(\"img_outputs/svg/\" + saveval_app + \".svg\") #\n",
    "        fig_app.write_image(\"img_outputs/png/\" + saveval_app + \".png\") #\n",
    "        fig_app.write_html(\"img_outputs/html/\" + saveval_app + \".html\", include_plotlyjs='cdn')\n",
    "\n",
    "        if i == 30:\n",
    "                fig.show()\n",
    "# fig.data[0].textinfo = 'label+text+value'\n",
    "# fig.update_layout(tickprefix = '$')"
   ]
  },
  {
   "cell_type": "code",
   "execution_count": 19,
   "id": "9f573693",
   "metadata": {},
   "outputs": [],
   "source": [
    "# ! jupyter nbconvert --to python total_app_net_flows_async.ipynb"
   ]
  }
 ],
 "metadata": {
  "kernelspec": {
   "display_name": "new-env",
   "language": "python",
   "name": "python3"
  },
  "language_info": {
   "codemirror_mode": {
    "name": "ipython",
    "version": 3
   },
   "file_extension": ".py",
   "mimetype": "text/x-python",
   "name": "python",
   "nbconvert_exporter": "python",
   "pygments_lexer": "ipython3",
   "version": "3.10.11"
  },
  "vscode": {
   "interpreter": {
    "hash": "7d537a1638226190f579d6fbb68604c1b09ebc740a69df557abedb49ad78e592"
   }
  }
 },
 "nbformat": 4,
 "nbformat_minor": 5
}
