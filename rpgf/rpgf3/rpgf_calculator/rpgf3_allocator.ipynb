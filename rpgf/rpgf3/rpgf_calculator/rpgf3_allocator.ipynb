{
 "cells": [
  {
   "cell_type": "code",
   "execution_count": null,
   "metadata": {},
   "outputs": [],
   "source": [
    "import pandas as pd\n",
    "import numpy as np\n",
    "import plotly.express as px\n",
    "import plotly.graph_objects as go\n",
    "import hashlib\n",
    "\n",
    "\n",
    "from core import constants\n",
    "from core.utils import *\n",
    "from core.allocator import *\n",
    "\n",
    "log = get_logger()\n",
    "\n",
    "pd.set_option(\"display.float_format\", \"{:.2f}\".format)"
   ]
  },
  {
   "cell_type": "markdown",
   "metadata": {},
   "source": [
    "## RPGF 3 Data Check and Cleanup"
   ]
  },
  {
   "cell_type": "code",
   "execution_count": null,
   "metadata": {},
   "outputs": [],
   "source": [
    "df = pd.read_csv(\"data/input/ballots_raw_final.csv\")\n",
    "# df = pd.read_csv(\"data/input/vote_export_final.csv\")\n",
    "df_project_names = pd.read_csv(\"data/input/project_names.csv\")\n",
    "df_badge_holders = pd.read_csv(\"data/input/rpgf3_badge_holders.csv\")"
   ]
  },
  {
   "cell_type": "code",
   "execution_count": null,
   "metadata": {},
   "outputs": [],
   "source": [
    "log.info(\"Check - Num Ballots: \" + str(df[\"Signature\"].count()))\n",
    "# log.info(\"Check - Num Submissions (Published): \" + str(df[\"Has published\"].sum()))\n",
    "\n",
    "# Check if voter_address is unique\n",
    "if df[\"Address\"].nunique() == df.shape[0]:\n",
    "    log.info(\"Check - Address is unique.\")\n",
    "else:\n",
    "    diff = df.shape[0] - df[\"Address\"].nunique()\n",
    "    log.info(f\"Check - Address is not unique. There are {diff} duplicates.\")\n",
    "\n",
    "# # Check if all voters have voted\n",
    "# if df[df[\"Has voted\"] == False].shape[0] > 0:\n",
    "#     not_voted = df[df[\"Has voted\"] == False].shape[0]\n",
    "#     total = df[\"Address\"].nunique()\n",
    "#     log.info(f\"Check - {not_voted} voters out of {total} have not voted.\")\n",
    "# else:\n",
    "#     log.info(\"Check - All voters have voted.\")\n",
    "\n",
    "# # Check if all voters have published\n",
    "# if df[df[\"Has published\"] == False].shape[0] > 0:\n",
    "#     not_voted = df[df[\"Has published\"] == False].shape[0]\n",
    "#     total = df[\"Address\"].nunique()\n",
    "#     log.info(f\"Check - {not_voted} voters out of {total} have not published.\")\n",
    "# else:\n",
    "#     log.info(\"Check - All voters have published.\")\n",
    "\n",
    "# Check if all address in df are in df_badge_holders\n",
    "\n",
    "voter_validity_check = (\n",
    "    df[\"Address\"]\n",
    "    .str.lower()\n",
    "    .isin(df_badge_holders[\"ETH address for voting\"].str.lower())\n",
    ")\n",
    "\n",
    "if df[voter_validity_check].shape[0] == df.shape[0]:\n",
    "    log.info(\"Check - All addresses in df are in df_badge_holders.\")\n",
    "else:\n",
    "    diff = df.shape[0] - df[voter_validity_check].shape[0]\n",
    "    log.info(f\"Check - {diff} addresses in voting are not Badge Holders.\")\n",
    "    # print those addresses not in df_badge_holders\n",
    "    display(df[~voter_validity_check])"
   ]
  },
  {
   "cell_type": "code",
   "execution_count": null,
   "metadata": {},
   "outputs": [],
   "source": [
    "# Apply the function and concatenate results\n",
    "expanded_list = [\n",
    "    expand_json(safe_json_loads(row), idx) for idx, row in df[\"Ballot\"].items()\n",
    "]\n",
    "expanded_df = pd.concat(expanded_list, ignore_index=True)\n",
    "\n",
    "result_df = expanded_df.set_index(\"original_index\").join(df.set_index(df.index))"
   ]
  },
  {
   "cell_type": "code",
   "execution_count": null,
   "metadata": {},
   "outputs": [],
   "source": [
    "# testing_address = \"0x5e349eca2dc61aBCd9dD99Ce94d04136151a09Ee\"\n",
    "# print_df = result_df[result_df[\"Address\"] == testing_address]\n",
    "# print(\"Num Projects Voted : \" + str(print_df[\"projectId\"].count()))\n",
    "# display(print_df.head(5))"
   ]
  },
  {
   "cell_type": "code",
   "execution_count": null,
   "metadata": {},
   "outputs": [],
   "source": [
    "columns = [col for col in result_df.columns if col not in [\"amount\", \"projectId\"]]\n",
    "columns += [\"amount\", \"projectId\"]  # Add the columns to the end of the list\n",
    "result_df = result_df[columns]\n",
    "\n",
    "# Update df columns names\n",
    "result_df.columns = [\n",
    "    \"voter_address\",\n",
    "    \"signature\",\n",
    "    \"ballot\",\n",
    "    \"verification_message\",\n",
    "    \"is_multisig\",\n",
    "    \"amount\",\n",
    "    \"project_id\",\n",
    "]\n",
    "\n",
    "result_df.drop(columns=[\"ballot\", \"verification_message\", \"is_multisig\"], inplace=True)\n",
    "\n",
    "result_df[\"amount\"] = result_df[\"amount\"].astype(float)"
   ]
  },
  {
   "cell_type": "code",
   "execution_count": null,
   "metadata": {},
   "outputs": [],
   "source": [
    "# # result_df.head()\n",
    "# result_df[result_df[\"voter_address\"] == testing_address].head(5)"
   ]
  },
  {
   "cell_type": "markdown",
   "metadata": {},
   "source": [
    "## Calculate Voting Results"
   ]
  },
  {
   "cell_type": "code",
   "execution_count": null,
   "metadata": {},
   "outputs": [],
   "source": [
    "allocator = ProjectAllocator(\n",
    "    total_amount=constants.TOTAL_AMOUNT,\n",
    "    min_amount=constants.MIN_AMOUNT,\n",
    "    quorum=constants.QUORUM,\n",
    ")"
   ]
  },
  {
   "cell_type": "code",
   "execution_count": null,
   "metadata": {},
   "outputs": [],
   "source": [
    "initial_allocation = allocator.calculate_initial_allocation(result_df)"
   ]
  },
  {
   "cell_type": "code",
   "execution_count": null,
   "metadata": {},
   "outputs": [],
   "source": [
    "display(initial_allocation.sample(10))"
   ]
  },
  {
   "cell_type": "code",
   "execution_count": null,
   "metadata": {},
   "outputs": [],
   "source": [
    "# group by is_eligible, show min and max votes count, min and max step amount\n",
    "display(\n",
    "    initial_allocation.groupby(\"is_eligible\").agg(\n",
    "        {\n",
    "            \"votes_count\": [\"min\", \"max\"],\n",
    "            \"step_amount\": [\"min\", \"max\"],\n",
    "            \"median_amount\": [\"min\", \"max\"],\n",
    "        }\n",
    "    )\n",
    ")"
   ]
  },
  {
   "cell_type": "code",
   "execution_count": null,
   "metadata": {},
   "outputs": [],
   "source": [
    "# Scaling the total to 30M OP by project and filter out those with < 1500 OP\n",
    "allocation_iter = initial_allocation[initial_allocation[\"is_eligible\"] == True].copy()\n",
    "allocation_iter[\"scaled_amount\"] = allocation_iter[\"median_amount\"]\n",
    "# display(allocation_iter)\n",
    "# Set a maximum number of iterations to prevent infinite loop\n",
    "max_iterations = 100\n",
    "current_iteration = 0\n",
    "\n",
    "while (\n",
    "    round(allocation_iter[\"scaled_amount\"].sum()) != constants.TOTAL_AMOUNT\n",
    "    and current_iteration < max_iterations\n",
    "):\n",
    "    allocation_iter = allocator.scale_allocations(allocation_iter, \"step_amount\")\n",
    "    current_iteration += 1\n",
    "\n",
    "    log.info(\"Check - Current iteration: \" + str(current_iteration))"
   ]
  },
  {
   "cell_type": "code",
   "execution_count": null,
   "metadata": {},
   "outputs": [],
   "source": [
    "# Check if the loop exited due to reaching max iterations\n",
    "\n",
    "final_total = allocation_iter[\"scaled_amount\"].sum()\n",
    "\n",
    "if (\n",
    "    current_iteration == max_iterations\n",
    "    and allocation_iter[\"scaled_amount\"].sum() != constants.TOTAL_AMOUNT\n",
    "):\n",
    "    log.info(\"Maximum iterations reached without meeting the total amount condition.\")\n",
    "else:\n",
    "    log.info(\n",
    "        f\"Condition met with {final_total} OP allocated through {current_iteration} iteration(s) 🎉.\"\n",
    "    )"
   ]
  },
  {
   "cell_type": "code",
   "execution_count": null,
   "metadata": {},
   "outputs": [],
   "source": [
    "# join the initial allocation with the final allocation, if scaled_amount is null then make it 0\n",
    "final_allocation = initial_allocation.merge(\n",
    "    allocation_iter[\"scaled_amount\"],\n",
    "    how=\"left\",\n",
    "    on=\"project_id\",\n",
    ").fillna({\"scaled_amount\": 0})\n",
    "\n",
    "# check if the final allocation table still contains all projects.\n",
    "if final_allocation.index.nunique() == result_df[\"project_id\"].nunique():\n",
    "    log.info(\"Check - Final allocation table has included all the projects 🎉.\")\n",
    "else:\n",
    "    log.info(\n",
    "        \"Check - Final allocation table has missing projects. Printing out the missing projects below.\"\n",
    "    )\n",
    "    log.info(\n",
    "        result_df[~result_df[\"project_id\"].isin(final_allocation.index)][\"project_id\"]\n",
    "    )\n",
    "\n",
    "# check if the final allocation table still sums to the total amount.\n",
    "if abs(final_allocation[\"scaled_amount\"].sum() - final_total) < 0.01:\n",
    "    log.info(\n",
    "        \"Check - Final allocation table sums to the right amount of OP: \"\n",
    "        + str(final_total)\n",
    "        + \" 🎉\"\n",
    "    )\n",
    "else:\n",
    "    log.info(\n",
    "        \"Check - Final allocation table does not sum to the total OP. Printing out the missing amount below.\"\n",
    "    )\n",
    "    log.info(str(final_total - final_allocation[\"scaled_amount\"].sum()) + \" OP\")"
   ]
  },
  {
   "cell_type": "code",
   "execution_count": null,
   "metadata": {},
   "outputs": [],
   "source": [
    "# join with project names on project_id from result_df and Approval Attestation ID from project_name get displayName only\n",
    "final_allocation = final_allocation.join(\n",
    "    df_project_names.set_index(\"Approval Attestation ID\")[\"displayName\"],\n",
    "    on=\"project_id\",\n",
    ")\n",
    "\n",
    "# rename columns display_name to project_name\n",
    "final_allocation.rename(columns={\"displayName\": \"project_name\"}, inplace=True)"
   ]
  },
  {
   "cell_type": "code",
   "execution_count": null,
   "metadata": {},
   "outputs": [],
   "source": [
    "# plot the final allocation in histogram where is eligible in bins of 1000\n",
    "\n",
    "fig = px.histogram(\n",
    "    final_allocation[final_allocation[\"is_eligible\"] == True],\n",
    "    x=\"scaled_amount\",\n",
    "    nbins=50,\n",
    ")\n",
    "\n",
    "fig.update_layout(\n",
    "    xaxis_title=\"Scaled Amount\",\n",
    "    yaxis_title=\"Number of Projects\",\n",
    "    title=\"Final Allocation Distribution\",\n",
    ")\n",
    "\n",
    "fig.show()"
   ]
  },
  {
   "cell_type": "code",
   "execution_count": null,
   "metadata": {},
   "outputs": [],
   "source": [
    "# plot projects that are not eligible by step amount and votes on the x-axis\n",
    "# and the median amount on the y-axis\n",
    "\n",
    "# Reset the index of the DataFrame so that 'project_id' becomes a column\n",
    "eligible_projects = final_allocation[\n",
    "    final_allocation[\"is_eligible\"] == True\n",
    "].reset_index()\n",
    "\n",
    "fig = px.scatter(\n",
    "    eligible_projects,\n",
    "    x=\"votes_count\",\n",
    "    y=\"scaled_amount\",\n",
    "    color=\"scaled_amount\",\n",
    "    hover_data=[\"project_name\"],\n",
    ")\n",
    "\n",
    "fig.update_layout(\n",
    "    xaxis_title=\"Votes Count\",\n",
    "    yaxis_title=\"Scaled Amount\",\n",
    "    title=\"Eligible Projects by Scaled Amount and Votes\",\n",
    ")\n",
    "\n",
    "fig.show()"
   ]
  },
  {
   "cell_type": "code",
   "execution_count": null,
   "metadata": {},
   "outputs": [],
   "source": [
    "# plot projects that are not eligible by step amount and votes on the x-axis\n",
    "# and the median amount on the y-axis\n",
    "\n",
    "# Reset the index of the DataFrame so that 'project_id' becomes a column\n",
    "eligible_projects = final_allocation[\n",
    "    final_allocation[\"is_eligible\"] == False\n",
    "].reset_index()\n",
    "\n",
    "fig = px.scatter(\n",
    "    eligible_projects,\n",
    "    x=\"votes_count\",\n",
    "    y=\"median_amount\",\n",
    "    color=\"step_amount\",\n",
    "    hover_data=[\"project_name\"],\n",
    ")\n",
    "\n",
    "fig.update_layout(\n",
    "    xaxis_title=\"Votes Count\",\n",
    "    yaxis_title=\"Median Amount\",\n",
    "    title=\"Ineligible Projects by Median Amount and Votes\",\n",
    ")\n",
    "\n",
    "fig.show()"
   ]
  },
  {
   "cell_type": "code",
   "execution_count": null,
   "metadata": {},
   "outputs": [],
   "source": [
    "display(\n",
    "    final_allocation.groupby(\"is_eligible\").agg(\n",
    "        {\n",
    "            \"scaled_amount\": [\"min\", \"max\"],\n",
    "            \"is_eligible\": \"count\",\n",
    "        }\n",
    "    )\n",
    ")"
   ]
  },
  {
   "cell_type": "code",
   "execution_count": null,
   "metadata": {},
   "outputs": [],
   "source": [
    "display(\n",
    "    final_allocation[final_allocation[\"is_eligible\"] == False]\n",
    "    .sort_values(by=[\"median_amount\", \"votes_count\"], ascending=False)\n",
    "    .head(10)\n",
    ")"
   ]
  },
  {
   "cell_type": "markdown",
   "metadata": {},
   "source": [
    "## Export Results"
   ]
  },
  {
   "cell_type": "code",
   "execution_count": null,
   "metadata": {},
   "outputs": [],
   "source": [
    "# export csv\n",
    "# allocation_iter.drop(columns=\"median_amount\", inplace=True)\n",
    "final_allocation.to_csv(\"data/output/rpgf3_allocation_final.csv\")\n",
    "final_allocation[final_allocation[\"is_eligible\"] == True].to_csv(\n",
    "    \"data/output/rpgf3_allocation_final_eligible_only.csv\"\n",
    ")\n",
    "\n",
    "log.info(f\"Results saved in data/output/rpgf3_allocation_final.csv.\")"
   ]
  },
  {
   "cell_type": "code",
   "execution_count": null,
   "metadata": {},
   "outputs": [],
   "source": [
    "random.seed(100)\n",
    "random_ballots = df.sample(55)\n",
    "\n",
    "# select rows in result_df where Address in random_ballots[\"Address\"]\n",
    "sampled_df = result_df[result_df[\"voter_address\"].isin(random_ballots[\"Address\"])]\n",
    "sampled_df.to_csv(\"data/output/rpgf3_sampled_ballots.csv\")"
   ]
  },
  {
   "cell_type": "markdown",
   "metadata": {},
   "source": [
    "## Visual Exploration"
   ]
  },
  {
   "cell_type": "code",
   "execution_count": null,
   "metadata": {},
   "outputs": [],
   "source": [
    "result_df.head()"
   ]
  },
  {
   "cell_type": "code",
   "execution_count": null,
   "metadata": {},
   "outputs": [],
   "source": [
    "# result_df group by voter_address and sum amount avg votes_count\n",
    "\n",
    "voter_df = result_df.groupby(\"voter_address\").agg(\n",
    "    {\n",
    "        \"amount\": \"sum\",\n",
    "        \"project_id\": \"count\",\n",
    "    }\n",
    ")\n",
    "\n",
    "voter_df = voter_df.rename(columns={\"project_id\": \"projects_in_ballot\"})\n",
    "\n",
    "voter_df.reset_index(inplace=True)"
   ]
  },
  {
   "cell_type": "code",
   "execution_count": null,
   "metadata": {},
   "outputs": [],
   "source": [
    "voter_df[voter_df[\"amount\"] == 30000000].shape[0] / voter_df.shape[0]"
   ]
  },
  {
   "cell_type": "code",
   "execution_count": null,
   "metadata": {},
   "outputs": [],
   "source": [
    "voter_df.describe()"
   ]
  },
  {
   "cell_type": "code",
   "execution_count": null,
   "metadata": {},
   "outputs": [],
   "source": [
    "# create plotly violin chart for voter_df\n",
    "fig = px.violin(\n",
    "    voter_df,\n",
    "    y=\"amount\",\n",
    "    box=True,\n",
    "    points=\"all\",\n",
    "    hover_data=[\"voter_address\"],\n",
    ")\n",
    "\n",
    "fig.update_layout(\n",
    "    yaxis_title=\"Total OP Amount Allocated\",\n",
    "    title=\"Total OP Amount Distribution\",\n",
    ")\n",
    "\n",
    "fig.show()"
   ]
  },
  {
   "cell_type": "code",
   "execution_count": null,
   "metadata": {},
   "outputs": [],
   "source": [
    "fig = px.violin(\n",
    "    voter_df,\n",
    "    y=\"projects_in_ballot\",\n",
    "    box=True,\n",
    "    points=\"all\",\n",
    "    hover_data=[\"voter_address\"],\n",
    ")\n",
    "\n",
    "fig.update_layout(\n",
    "    yaxis_title=\"Number of Projects in Ballot\",\n",
    "    title=\"Projects in Ballot Distribution\",\n",
    ")\n",
    "\n",
    "fig.show()"
   ]
  },
  {
   "cell_type": "code",
   "execution_count": null,
   "metadata": {},
   "outputs": [],
   "source": [
    "def hash_address(address):\n",
    "    return hashlib.sha256(address.encode()).hexdigest()\n",
    "\n",
    "\n",
    "result_df[\"hashed_address\"] = result_df[\"voter_address\"].apply(hash_address)\n",
    "\n",
    "# Check for uniqueness (optional)\n",
    "if result_df[\"hashed_address\"].nunique() == result_df[\"voter_address\"].nunique():\n",
    "    print(\"All hashes are unique.\")\n",
    "else:\n",
    "    print(\"There are duplicate hashes.\")\n",
    "\n",
    "\n",
    "result_df[\"vote_count\"] = 1\n",
    "# join df_project_names on project_id from result_df and Approval Attestation ID from project_name get displayName only\n",
    "result_df = result_df.join(\n",
    "    df_project_names.set_index(\"Approval Attestation ID\")[\"displayName\"],\n",
    "    on=\"project_id\",\n",
    ")\n",
    "\n",
    "result_df.drop(\"voter_address\", axis=1, inplace=True)\n",
    "result_df.to_csv(\"data/output/rpgf3_voter_project.csv\")"
   ]
  },
  {
   "cell_type": "code",
   "execution_count": null,
   "metadata": {},
   "outputs": [],
   "source": [
    "import plotly.graph_objs as go\n",
    "from plotly.subplots import make_subplots\n",
    "\n",
    "# Data\n",
    "rounds = [\"RPGF1\", \"RPGF2\", \"RPGF3\"]\n",
    "number_of_projects = [58, 195, 501]\n",
    "amount = [1000000, 10000000, 30000000]\n",
    "\n",
    "# Create figure with secondary y-axis\n",
    "fig = make_subplots(specs=[[{\"secondary_y\": True}]])\n",
    "\n",
    "# Add bar chart for Number of Projects\n",
    "fig.add_trace(\n",
    "    go.Bar(x=rounds, y=number_of_projects, name=\"Number of Projects\"),\n",
    "    secondary_y=False,\n",
    ")\n",
    "\n",
    "# Add bar chart for Amount\n",
    "# To make it appear grouped, adjust the x-axis slightly for the second bar chart\n",
    "amount_x = [round_val + \" \" for round_val in rounds]\n",
    "fig.add_trace(\n",
    "    go.Bar(x=amount_x, y=amount, name=\"OP Amount\"),\n",
    "    secondary_y=True,\n",
    ")\n",
    "\n",
    "# Update layout\n",
    "fig.update_layout(\n",
    "    title_text=\"Number of Project Recipients and Amount by RPGF Round\", barmode=\"group\"\n",
    ")\n",
    "\n",
    "# Set x-axis title\n",
    "fig.update_xaxes(title_text=\"RPGF Round\")\n",
    "\n",
    "# Set y-axes titles\n",
    "fig.update_yaxes(title_text=\"Number of Projects\", secondary_y=False)\n",
    "fig.update_yaxes(title_text=\"OP Amount\", secondary_y=True)\n",
    "\n",
    "# Show the figure\n",
    "fig.show()"
   ]
  }
 ],
 "metadata": {
  "kernelspec": {
   "display_name": "analytics-internal-nXLXwD2Z",
   "language": "python",
   "name": "python3"
  },
  "language_info": {
   "codemirror_mode": {
    "name": "ipython",
    "version": 3
   },
   "file_extension": ".py",
   "mimetype": "text/x-python",
   "name": "python",
   "nbconvert_exporter": "python",
   "pygments_lexer": "ipython3",
   "version": "3.10.9"
  }
 },
 "nbformat": 4,
 "nbformat_minor": 2
}
