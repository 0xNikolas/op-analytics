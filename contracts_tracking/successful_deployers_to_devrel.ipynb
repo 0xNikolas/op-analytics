{
 "cells": [
  {
   "cell_type": "code",
   "execution_count": 1,
   "metadata": {},
   "outputs": [],
   "source": [
    "import pandas as pd\n",
    "\n",
    "import sys\n",
    "sys.path.append(\"../helper_functions\")\n",
    "import duneapi_utils as d\n",
    "import airtable_utils as a\n",
    "import pandas_utils as p\n",
    "sys.path.pop()\n",
    "\n",
    "import dotenv\n",
    "import os\n",
    "dotenv.load_dotenv()\n",
    "\n",
    "rerun_query = 0\n",
    "\n",
    "at_base_id = os.environ[\"AIRTABLE_DEVREL_BASE_ID\"]"
   ]
  },
  {
   "cell_type": "code",
   "execution_count": 2,
   "metadata": {},
   "outputs": [
    {
     "name": "stderr",
     "output_type": "stream",
     "text": [
      "\u001b[32m2023-05-23 17:05:49.194\u001b[0m | \u001b[1mINFO    \u001b[0m | \u001b[36mduneapi_utils\u001b[0m:\u001b[36mget_dune_data\u001b[0m:\u001b[36m33\u001b[0m - \u001b[1mResults available at https://dune.com/queries/2457627\u001b[0m\n",
      "2023-05-23 17:05:50,160 INFO dune_client.base_client waiting for query execution 01H156XDJPP6JTFPBVQXP9G1TG to complete: ExecutionState.EXECUTING\n",
      "2023-05-23 17:05:55,650 INFO dune_client.base_client waiting for query execution 01H156XDJPP6JTFPBVQXP9G1TG to complete: ExecutionState.EXECUTING\n",
      "2023-05-23 17:06:01,105 INFO dune_client.base_client waiting for query execution 01H156XDJPP6JTFPBVQXP9G1TG to complete: ExecutionState.EXECUTING\n",
      "2023-05-23 17:06:06,606 INFO dune_client.base_client waiting for query execution 01H156XDJPP6JTFPBVQXP9G1TG to complete: ExecutionState.EXECUTING\n",
      "2023-05-23 17:06:12,066 INFO dune_client.base_client waiting for query execution 01H156XDJPP6JTFPBVQXP9G1TG to complete: ExecutionState.EXECUTING\n",
      "2023-05-23 17:06:17,582 INFO dune_client.base_client waiting for query execution 01H156XDJPP6JTFPBVQXP9G1TG to complete: ExecutionState.EXECUTING\n",
      "2023-05-23 17:06:23,046 INFO dune_client.base_client waiting for query execution 01H156XDJPP6JTFPBVQXP9G1TG to complete: ExecutionState.EXECUTING\n",
      "2023-05-23 17:06:28,489 INFO dune_client.base_client waiting for query execution 01H156XDJPP6JTFPBVQXP9G1TG to complete: ExecutionState.EXECUTING\n",
      "2023-05-23 17:06:33,959 INFO dune_client.base_client waiting for query execution 01H156XDJPP6JTFPBVQXP9G1TG to complete: ExecutionState.EXECUTING\n",
      "2023-05-23 17:06:39,438 INFO dune_client.base_client waiting for query execution 01H156XDJPP6JTFPBVQXP9G1TG to complete: ExecutionState.EXECUTING\n",
      "2023-05-23 17:06:44,917 INFO dune_client.base_client waiting for query execution 01H156XDJPP6JTFPBVQXP9G1TG to complete: ExecutionState.EXECUTING\n",
      "2023-05-23 17:06:50,353 INFO dune_client.base_client waiting for query execution 01H156XDJPP6JTFPBVQXP9G1TG to complete: ExecutionState.EXECUTING\n",
      "2023-05-23 17:06:55,822 INFO dune_client.base_client waiting for query execution 01H156XDJPP6JTFPBVQXP9G1TG to complete: ExecutionState.EXECUTING\n",
      "2023-05-23 17:07:01,276 INFO dune_client.base_client waiting for query execution 01H156XDJPP6JTFPBVQXP9G1TG to complete: ExecutionState.EXECUTING\n",
      "2023-05-23 17:07:06,820 INFO dune_client.base_client waiting for query execution 01H156XDJPP6JTFPBVQXP9G1TG to complete: ExecutionState.EXECUTING\n",
      "\u001b[32m2023-05-23 17:07:13.139\u001b[0m | \u001b[1mINFO    \u001b[0m | \u001b[36mduneapi_utils\u001b[0m:\u001b[36mget_dune_data\u001b[0m:\u001b[36m48\u001b[0m - \u001b[1m✨ Results saved as csv_outputs/Contract Deployments Usage Threshold - Creator List.csv, with 857 rows and 20 columns.\u001b[0m\n"
     ]
    }
   ],
   "source": [
    "if rerun_query == 0:\n",
    "    deployers = pd.read_csv('csv_outputs/Contract Deployments Usage Threshold - Creator List.csv')\n",
    "else:\n",
    "        # Dune query: https://dune.com/queries/2457627\n",
    "        deployers = d.get_dune_data(2457627, name = \"Contract Deployments Usage Threshold - Creator List\")"
   ]
  },
  {
   "cell_type": "code",
   "execution_count": 3,
   "metadata": {},
   "outputs": [],
   "source": [
    "#reformat col names\n",
    "deployers = p.csv_columns_to_formatted(deployers)\n",
    "\n",
    "datestr = p.get_datestring_from_datetime(deployers['Date'].iloc[0])\n",
    "datestr = datestr.replace('-', '_')\n",
    "\n",
    "p.mkdir_if_not_exists('uploads')\n",
    "deployers.to_csv('uploads/deployer_data_' + datestr + '.csv', index=False)"
   ]
  },
  {
   "cell_type": "code",
   "execution_count": 4,
   "metadata": {},
   "outputs": [
    {
     "name": "stdout",
     "output_type": "stream",
     "text": [
      "The base 'appQ2S9IatldkoNQw' already exists, appending new records...\n",
      "add new record\n"
     ]
    },
    {
     "ename": "TypeError",
     "evalue": "Object of type Timestamp is not JSON serializable",
     "output_type": "error",
     "traceback": [
      "\u001b[0;31m---------------------------------------------------------------------------\u001b[0m",
      "\u001b[0;31mTypeError\u001b[0m                                 Traceback (most recent call last)",
      "Cell \u001b[0;32mIn[4], line 1\u001b[0m\n\u001b[0;32m----> 1\u001b[0m a\u001b[39m.\u001b[39;49mupdate_database(at_base_id,\u001b[39m'\u001b[39;49m\u001b[39mOP Deployer Data\u001b[39;49m\u001b[39m'\u001b[39;49m, deployers)\n",
      "File \u001b[0;32m~/Documents/GitHub/op-analytics/contracts_tracking/../helper_functions/airtable_utils.py:112\u001b[0m, in \u001b[0;36mupdate_database\u001b[0;34m(at_base_id, table_name, df)\u001b[0m\n\u001b[1;32m    109\u001b[0m record \u001b[39m=\u001b[39m {\u001b[39m'\u001b[39m\u001b[39mfields\u001b[39m\u001b[39m'\u001b[39m: row\u001b[39m.\u001b[39mto_dict()}\n\u001b[1;32m    110\u001b[0m \u001b[39m# print(record)\u001b[39;00m\n\u001b[1;32m    111\u001b[0m \u001b[39m# Upsert the record to Airtable\u001b[39;00m\n\u001b[0;32m--> 112\u001b[0m upsert_record_dt_contract_creator(at, table_name, record)\n",
      "File \u001b[0;32m~/Documents/GitHub/op-analytics/contracts_tracking/../helper_functions/airtable_utils.py:87\u001b[0m, in \u001b[0;36mupsert_record_dt_contract_creator\u001b[0;34m(at, table_name, record)\u001b[0m\n\u001b[1;32m     84\u001b[0m \u001b[39mprint\u001b[39m(\u001b[39m'\u001b[39m\u001b[39madd new record\u001b[39m\u001b[39m'\u001b[39m)\n\u001b[1;32m     85\u001b[0m \u001b[39m# print(record['fields'])\u001b[39;00m\n\u001b[0;32m---> 87\u001b[0m at\u001b[39m.\u001b[39;49mcreate(table_name, record[\u001b[39m'\u001b[39;49m\u001b[39mfields\u001b[39;49m\u001b[39m'\u001b[39;49m])\n",
      "File \u001b[0;32m~/opt/anaconda3/envs/new-env/lib/python3.10/site-packages/airtable/airtable.py:174\u001b[0m, in \u001b[0;36mAirtable.create\u001b[0;34m(self, table_name, data)\u001b[0m\n\u001b[1;32m    171\u001b[0m \u001b[39mif\u001b[39;00m check_string(table_name):\n\u001b[1;32m    172\u001b[0m     payload \u001b[39m=\u001b[39m create_payload(data)\n\u001b[1;32m    173\u001b[0m     \u001b[39mreturn\u001b[39;00m \u001b[39mself\u001b[39m\u001b[39m.\u001b[39m__request(\u001b[39m'\u001b[39m\u001b[39mPOST\u001b[39m\u001b[39m'\u001b[39m, table_name,\n\u001b[0;32m--> 174\u001b[0m                           payload\u001b[39m=\u001b[39mjson\u001b[39m.\u001b[39;49mdumps(payload))\n",
      "File \u001b[0;32m~/opt/anaconda3/envs/new-env/lib/python3.10/json/__init__.py:231\u001b[0m, in \u001b[0;36mdumps\u001b[0;34m(obj, skipkeys, ensure_ascii, check_circular, allow_nan, cls, indent, separators, default, sort_keys, **kw)\u001b[0m\n\u001b[1;32m    226\u001b[0m \u001b[39m# cached encoder\u001b[39;00m\n\u001b[1;32m    227\u001b[0m \u001b[39mif\u001b[39;00m (\u001b[39mnot\u001b[39;00m skipkeys \u001b[39mand\u001b[39;00m ensure_ascii \u001b[39mand\u001b[39;00m\n\u001b[1;32m    228\u001b[0m     check_circular \u001b[39mand\u001b[39;00m allow_nan \u001b[39mand\u001b[39;00m\n\u001b[1;32m    229\u001b[0m     \u001b[39mcls\u001b[39m \u001b[39mis\u001b[39;00m \u001b[39mNone\u001b[39;00m \u001b[39mand\u001b[39;00m indent \u001b[39mis\u001b[39;00m \u001b[39mNone\u001b[39;00m \u001b[39mand\u001b[39;00m separators \u001b[39mis\u001b[39;00m \u001b[39mNone\u001b[39;00m \u001b[39mand\u001b[39;00m\n\u001b[1;32m    230\u001b[0m     default \u001b[39mis\u001b[39;00m \u001b[39mNone\u001b[39;00m \u001b[39mand\u001b[39;00m \u001b[39mnot\u001b[39;00m sort_keys \u001b[39mand\u001b[39;00m \u001b[39mnot\u001b[39;00m kw):\n\u001b[0;32m--> 231\u001b[0m     \u001b[39mreturn\u001b[39;00m _default_encoder\u001b[39m.\u001b[39;49mencode(obj)\n\u001b[1;32m    232\u001b[0m \u001b[39mif\u001b[39;00m \u001b[39mcls\u001b[39m \u001b[39mis\u001b[39;00m \u001b[39mNone\u001b[39;00m:\n\u001b[1;32m    233\u001b[0m     \u001b[39mcls\u001b[39m \u001b[39m=\u001b[39m JSONEncoder\n",
      "File \u001b[0;32m~/opt/anaconda3/envs/new-env/lib/python3.10/json/encoder.py:199\u001b[0m, in \u001b[0;36mJSONEncoder.encode\u001b[0;34m(self, o)\u001b[0m\n\u001b[1;32m    195\u001b[0m         \u001b[39mreturn\u001b[39;00m encode_basestring(o)\n\u001b[1;32m    196\u001b[0m \u001b[39m# This doesn't pass the iterator directly to ''.join() because the\u001b[39;00m\n\u001b[1;32m    197\u001b[0m \u001b[39m# exceptions aren't as detailed.  The list call should be roughly\u001b[39;00m\n\u001b[1;32m    198\u001b[0m \u001b[39m# equivalent to the PySequence_Fast that ''.join() would do.\u001b[39;00m\n\u001b[0;32m--> 199\u001b[0m chunks \u001b[39m=\u001b[39m \u001b[39mself\u001b[39;49m\u001b[39m.\u001b[39;49miterencode(o, _one_shot\u001b[39m=\u001b[39;49m\u001b[39mTrue\u001b[39;49;00m)\n\u001b[1;32m    200\u001b[0m \u001b[39mif\u001b[39;00m \u001b[39mnot\u001b[39;00m \u001b[39misinstance\u001b[39m(chunks, (\u001b[39mlist\u001b[39m, \u001b[39mtuple\u001b[39m)):\n\u001b[1;32m    201\u001b[0m     chunks \u001b[39m=\u001b[39m \u001b[39mlist\u001b[39m(chunks)\n",
      "File \u001b[0;32m~/opt/anaconda3/envs/new-env/lib/python3.10/json/encoder.py:257\u001b[0m, in \u001b[0;36mJSONEncoder.iterencode\u001b[0;34m(self, o, _one_shot)\u001b[0m\n\u001b[1;32m    252\u001b[0m \u001b[39melse\u001b[39;00m:\n\u001b[1;32m    253\u001b[0m     _iterencode \u001b[39m=\u001b[39m _make_iterencode(\n\u001b[1;32m    254\u001b[0m         markers, \u001b[39mself\u001b[39m\u001b[39m.\u001b[39mdefault, _encoder, \u001b[39mself\u001b[39m\u001b[39m.\u001b[39mindent, floatstr,\n\u001b[1;32m    255\u001b[0m         \u001b[39mself\u001b[39m\u001b[39m.\u001b[39mkey_separator, \u001b[39mself\u001b[39m\u001b[39m.\u001b[39mitem_separator, \u001b[39mself\u001b[39m\u001b[39m.\u001b[39msort_keys,\n\u001b[1;32m    256\u001b[0m         \u001b[39mself\u001b[39m\u001b[39m.\u001b[39mskipkeys, _one_shot)\n\u001b[0;32m--> 257\u001b[0m \u001b[39mreturn\u001b[39;00m _iterencode(o, \u001b[39m0\u001b[39;49m)\n",
      "File \u001b[0;32m~/opt/anaconda3/envs/new-env/lib/python3.10/json/encoder.py:179\u001b[0m, in \u001b[0;36mJSONEncoder.default\u001b[0;34m(self, o)\u001b[0m\n\u001b[1;32m    160\u001b[0m \u001b[39mdef\u001b[39;00m \u001b[39mdefault\u001b[39m(\u001b[39mself\u001b[39m, o):\n\u001b[1;32m    161\u001b[0m \u001b[39m    \u001b[39m\u001b[39m\"\"\"Implement this method in a subclass such that it returns\u001b[39;00m\n\u001b[1;32m    162\u001b[0m \u001b[39m    a serializable object for ``o``, or calls the base implementation\u001b[39;00m\n\u001b[1;32m    163\u001b[0m \u001b[39m    (to raise a ``TypeError``).\u001b[39;00m\n\u001b[0;32m   (...)\u001b[0m\n\u001b[1;32m    177\u001b[0m \n\u001b[1;32m    178\u001b[0m \u001b[39m    \"\"\"\u001b[39;00m\n\u001b[0;32m--> 179\u001b[0m     \u001b[39mraise\u001b[39;00m \u001b[39mTypeError\u001b[39;00m(\u001b[39mf\u001b[39m\u001b[39m'\u001b[39m\u001b[39mObject of type \u001b[39m\u001b[39m{\u001b[39;00mo\u001b[39m.\u001b[39m\u001b[39m__class__\u001b[39m\u001b[39m.\u001b[39m\u001b[39m__name__\u001b[39m\u001b[39m}\u001b[39;00m\u001b[39m \u001b[39m\u001b[39m'\u001b[39m\n\u001b[1;32m    180\u001b[0m                     \u001b[39mf\u001b[39m\u001b[39m'\u001b[39m\u001b[39mis not JSON serializable\u001b[39m\u001b[39m'\u001b[39m)\n",
      "\u001b[0;31mTypeError\u001b[0m: Object of type Timestamp is not JSON serializable"
     ]
    }
   ],
   "source": [
    "a.update_database(at_base_id,'OP Deployer Data', deployers)"
   ]
  }
 ],
 "metadata": {
  "kernelspec": {
   "display_name": "new-env",
   "language": "python",
   "name": "python3"
  },
  "language_info": {
   "codemirror_mode": {
    "name": "ipython",
    "version": 3
   },
   "file_extension": ".py",
   "mimetype": "text/x-python",
   "name": "python",
   "nbconvert_exporter": "python",
   "pygments_lexer": "ipython3",
   "version": "3.10.11"
  },
  "orig_nbformat": 4
 },
 "nbformat": 4,
 "nbformat_minor": 2
}
