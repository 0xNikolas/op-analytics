{
 "cells": [
  {
   "cell_type": "code",
   "execution_count": 423,
   "metadata": {},
   "outputs": [],
   "source": [
    "import pandas as pd\n",
    "from web3 import Web3\n",
    "from hexbytes import HexBytes\n",
    "import ast\n",
    "import rlp\n",
    "from rlp.sedes import Binary, big_endian_int, binary, List\n",
    "from eth_utils import to_bytes, to_hex, int_to_big_endian, decode_hex\n",
    "import sys\n",
    "import os\n",
    "import dotenv\n",
    "\n",
    "dotenv.load_dotenv()\n",
    "sys.path.append(\"../../helper_functions\")\n",
    "import clickhouse_utils as ch\n",
    "import duneapi_utils as du\n",
    "sys.path.pop()\n",
    "\n",
    "client = ch.connect_to_clickhouse_db() #Default is OPLabs DB"
   ]
  },
  {
   "cell_type": "code",
   "execution_count": 424,
   "metadata": {},
   "outputs": [
    {
     "name": "stdout",
     "output_type": "stream",
     "text": [
      "AttributeDict({'blockHash': HexBytes('0x694fb0156a5719a8ee75ebf2568e8a8d55899db9312127f0d4fe5001c06ac397'), 'blockNumber': 120731426, 'chainId': 10, 'from': '0x899e837095a0F3CC62FB05998559Df90F26A1F46', 'gas': 69534, 'gasPrice': 4307539, 'hash': HexBytes('0xcea81f2e836a37b38ba82afd37e6f66c02e348e7b89538aa232013d91edcb926'), 'input': HexBytes('0xa9059cbb0000000000000000000000007a6e883eec3dd33528115637ea01b3b64e2f58490000000000000000000000000000000000000000000000009e34ef99a7740000'), 'nonce': 206, 'r': HexBytes('0x6727a53c0972c55923242cea052dc4e1105d7b65c91c442e2741440965eac357'), 's': HexBytes('0x0a8e71aea623adb7b5562fb9a779634f3b84dad7be1e1f22caaa640db352a6ff'), 'to': '0xdC6fF44d5d932Cbd77B52E5612Ba0529DC6226F1', 'transactionIndex': 4, 'type': 0, 'v': 55, 'value': 0})\n"
     ]
    }
   ],
   "source": [
    "# Test transaction receipt\n",
    "from web3 import Web3\n",
    "op_rpc = os.getenv(\"OP_PUBLIC_RPC\")\n",
    "w3 = Web3(Web3.HTTPProvider(op_rpc))\n",
    "\n",
    "tx_test = '0xcea81f2e836a37b38ba82afd37e6f66c02e348e7b89538aa232013d91edcb926'\n",
    "tx = w3.eth.get_transaction(tx_test)\n",
    "txr = w3.eth.get_transaction_receipt(tx_test)\n",
    "# # txraw = w3.eth.get_raw_transaction(tx_test)\n",
    "print(tx)\n",
    "# print(txr)\n",
    "# # print(txraw)"
   ]
  },
  {
   "cell_type": "code",
   "execution_count": 425,
   "metadata": {},
   "outputs": [],
   "source": [
    "# may not sufficent due to missing transaction signature fields\n",
    "\n",
    "# Get L2 Txs from Clickhouse / Goldsky\n",
    "query_by_day = '''\n",
    "        SELECT 10 as chain_id, nonce, gas, max_fee_per_gas, max_priority_fee_per_gas, gas_price,\n",
    "                to_address as to, value, input, block_timestamp, block_number, hash, receipt_gas_used\n",
    "        FROM op_transactions\n",
    "        WHERE gas_price > 0\n",
    "        AND hash = '0xcea81f2e836a37b38ba82afd37e6f66c02e348e7b89538aa232013d91edcb926'\n",
    "        AND block_number = 120731426\n",
    "\n",
    "        limit 1\n",
    "\n",
    "        SETTINGS max_execution_time = 7000\n",
    "'''\n",
    "result_df = client.query_df(query_by_day)\n",
    "                            \n",
    "result_df['access_list'] = '[]'\n",
    "result_df['access_list'] = result_df['access_list'].apply(ast.literal_eval)\n",
    "result_df['r'] = '0x6727a53c0972c55923242cea052dc4e1105d7b65c91c442e2741440965eac357'\n",
    "result_df['s'] = '0x0a8e71aea623adb7b5562fb9a779634f3b84dad7be1e1f22caaa640db352a6ff'\n",
    "result_df['v'] = '55'\n"
   ]
  },
  {
   "cell_type": "code",
   "execution_count": 426,
   "metadata": {},
   "outputs": [
    {
     "data": {
      "text/html": [
       "<div>\n",
       "<style scoped>\n",
       "    .dataframe tbody tr th:only-of-type {\n",
       "        vertical-align: middle;\n",
       "    }\n",
       "\n",
       "    .dataframe tbody tr th {\n",
       "        vertical-align: top;\n",
       "    }\n",
       "\n",
       "    .dataframe thead th {\n",
       "        text-align: right;\n",
       "    }\n",
       "</style>\n",
       "<table border=\"1\" class=\"dataframe\">\n",
       "  <thead>\n",
       "    <tr style=\"text-align: right;\">\n",
       "      <th></th>\n",
       "      <th>chain_id</th>\n",
       "      <th>nonce</th>\n",
       "      <th>gas</th>\n",
       "      <th>max_fee_per_gas</th>\n",
       "      <th>max_priority_fee_per_gas</th>\n",
       "      <th>gas_price</th>\n",
       "      <th>to</th>\n",
       "      <th>value</th>\n",
       "      <th>input</th>\n",
       "      <th>block_timestamp</th>\n",
       "      <th>block_number</th>\n",
       "      <th>hash</th>\n",
       "      <th>receipt_gas_used</th>\n",
       "      <th>access_list</th>\n",
       "      <th>r</th>\n",
       "      <th>s</th>\n",
       "      <th>v</th>\n",
       "    </tr>\n",
       "  </thead>\n",
       "  <tbody>\n",
       "    <tr>\n",
       "      <th>0</th>\n",
       "      <td>10</td>\n",
       "      <td>206</td>\n",
       "      <td>69534</td>\n",
       "      <td>0</td>\n",
       "      <td>0</td>\n",
       "      <td>4307539</td>\n",
       "      <td>b'0xdc6ff44d5d932cbd77b52e5612ba0529dc6226f1'</td>\n",
       "      <td>0</td>\n",
       "      <td>0xa9059cbb0000000000000000000000007a6e883eec3d...</td>\n",
       "      <td>2024-05-30 09:33:49</td>\n",
       "      <td>120731426</td>\n",
       "      <td>b'0xcea81f2e836a37b38ba82afd37e6f66c02e348e7b8...</td>\n",
       "      <td>34408</td>\n",
       "      <td>[]</td>\n",
       "      <td>0x6727a53c0972c55923242cea052dc4e1105d7b65c91c...</td>\n",
       "      <td>0x0a8e71aea623adb7b5562fb9a779634f3b84dad7be1e...</td>\n",
       "      <td>55</td>\n",
       "    </tr>\n",
       "  </tbody>\n",
       "</table>\n",
       "</div>"
      ],
      "text/plain": [
       "   chain_id  nonce    gas  max_fee_per_gas  max_priority_fee_per_gas  \\\n",
       "0        10    206  69534                0                         0   \n",
       "\n",
       "   gas_price                                             to  value  \\\n",
       "0    4307539  b'0xdc6ff44d5d932cbd77b52e5612ba0529dc6226f1'      0   \n",
       "\n",
       "                                               input     block_timestamp  \\\n",
       "0  0xa9059cbb0000000000000000000000007a6e883eec3d... 2024-05-30 09:33:49   \n",
       "\n",
       "   block_number                                               hash  \\\n",
       "0     120731426  b'0xcea81f2e836a37b38ba82afd37e6f66c02e348e7b8...   \n",
       "\n",
       "   receipt_gas_used access_list  \\\n",
       "0             34408          []   \n",
       "\n",
       "                                                   r  \\\n",
       "0  0x6727a53c0972c55923242cea052dc4e1105d7b65c91c...   \n",
       "\n",
       "                                                   s   v  \n",
       "0  0x0a8e71aea623adb7b5562fb9a779634f3b84dad7be1e...  55  "
      ]
     },
     "execution_count": 426,
     "metadata": {},
     "output_type": "execute_result"
    }
   ],
   "source": [
    "result_df"
   ]
  },
  {
   "cell_type": "code",
   "execution_count": 427,
   "metadata": {},
   "outputs": [
    {
     "name": "stdout",
     "output_type": "stream",
     "text": [
      "b'7'\n",
      "b'7'\n"
     ]
    }
   ],
   "source": [
    "# Process \"to\" field\n",
    "\n",
    "to_field = result_df['to'][0].decode('utf-8')\n",
    "v_field = result_df['v'][0]\n",
    "\n",
    "# print(f\"to_field (original): {to_field}\")\n",
    "\n",
    "# to_bytes = bytes.fromhex(to_field[2:])\n",
    "\n",
    "# print(f\"to_bytes (result): {to_bytes}\")\n",
    "\n",
    "print( int_to_big_endian(int(v_field)) )  # Convert v to a bytes object\n",
    "print(int(v_field).to_bytes(1, byteorder='big'))"
   ]
  },
  {
   "cell_type": "code",
   "execution_count": 441,
   "metadata": {},
   "outputs": [],
   "source": [
    "def process_and_encode_transaction(row):\n",
    "    try:\n",
    "        # Process \"to\" field\n",
    "        to_field = row['to'].decode('utf-8')\n",
    "        to_field = result_df['to'][0].decode('utf-8')\n",
    "        to_bytes = bytes.fromhex(to_field[2:])\n",
    "\n",
    "        print(f\"input (before): {row['input']}\")\n",
    "        print(f\"input (after): {bytes.fromhex(row['input'][2:])}\")\n",
    "        print(f\"input length: {len(bytes.fromhex(row['input'][2:]))}\")\n",
    "        # Prepare transaction parameters\n",
    "        tx_params = {\n",
    "            'nonce': int_to_big_endian(row['nonce']),\n",
    "            'gasPrice': int_to_big_endian(row['gas_price']),\n",
    "            'gas': int_to_big_endian(row['gas']),\n",
    "            'to': to_bytes,\n",
    "            'value': int_to_big_endian(row['value']) if row['value'] != 0 else b'',  # Encode value as byte array if 0\n",
    "            'input': bytes.fromhex(row['input'][2:]),\n",
    "            'v': int_to_big_endian(int(row['v'])),  # Convert v to a bytes object\n",
    "            'r': bytes.fromhex(row['r'][2:]),\n",
    "            's': bytes.fromhex(row['s'][2:])\n",
    "        }\n",
    "\n",
    "        # Print transaction parameters for debugging\n",
    "        for key, value in tx_params.items():\n",
    "            print(f\"{key}: {value}, {type(value)}\")\n",
    "\n",
    "        # Prepare the transaction fields for RLP encoding\n",
    "        transaction = [\n",
    "            tx_params['nonce'],\n",
    "            tx_params['gasPrice'],\n",
    "            tx_params['gas'],\n",
    "            tx_params['to'],\n",
    "            tx_params['value'],\n",
    "            tx_params['input'],\n",
    "            tx_params['v'],\n",
    "            tx_params['r'],\n",
    "            tx_params['s']\n",
    "        ]\n",
    "        print(transaction)\n",
    "\n",
    "        # Encode the entire transaction\n",
    "        encoded_tx = rlp.encode(transaction)\n",
    "        encoded_tx_hex = \"0x\" + encoded_tx.hex()\n",
    "        return encoded_tx_hex, len(encoded_tx)\n",
    "\n",
    "    except (ValueError, TypeError, UnicodeDecodeError) as e:\n",
    "        print(\"Error:\", e)\n",
    "        print(\"Failed Transaction Info:\")\n",
    "        print(row)\n",
    "        return None, None"
   ]
  },
  {
   "cell_type": "code",
   "execution_count": 442,
   "metadata": {},
   "outputs": [],
   "source": [
    "correct_raw_tx_hash = '0xf8a981ce8341ba5383010f9e94dc6ff44d5d932cbd77b52e5612ba0529dc6226f180b844a9059cbb0000000000000000000000007a6e883eec3dd33528115637ea01b3b64e2f58490000000000000000000000000000000000000000000000009e34ef99a774000037a06727a53c0972c55923242cea052dc4e1105d7b65c91c442e2741440965eac357a00a8e71aea623adb7b5562fb9a779634f3b84dad7be1e1f22caaa640db352a6ff'"
   ]
  },
  {
   "cell_type": "code",
   "execution_count": 443,
   "metadata": {},
   "outputs": [
    {
     "name": "stdout",
     "output_type": "stream",
     "text": [
      "input (before): 0xa9059cbb0000000000000000000000007a6e883eec3dd33528115637ea01b3b64e2f58490000000000000000000000000000000000000000000000009e34ef99a7740000\n",
      "input (after): b'\\xa9\\x05\\x9c\\xbb\\x00\\x00\\x00\\x00\\x00\\x00\\x00\\x00\\x00\\x00\\x00\\x00zn\\x88>\\xec=\\xd35(\\x11V7\\xea\\x01\\xb3\\xb6N/XI\\x00\\x00\\x00\\x00\\x00\\x00\\x00\\x00\\x00\\x00\\x00\\x00\\x00\\x00\\x00\\x00\\x00\\x00\\x00\\x00\\x00\\x00\\x00\\x00\\x9e4\\xef\\x99\\xa7t\\x00\\x00'\n",
      "input length: 68\n",
      "nonce: b'\\xce', <class 'bytes'>\n",
      "gasPrice: b'A\\xbaS', <class 'bytes'>\n",
      "gas: b'\\x01\\x0f\\x9e', <class 'bytes'>\n",
      "to: b'\\xdco\\xf4M]\\x93,\\xbdw\\xb5.V\\x12\\xba\\x05)\\xdcb&\\xf1', <class 'bytes'>\n",
      "value: b'', <class 'bytes'>\n",
      "input: b'\\xa9\\x05\\x9c\\xbb\\x00\\x00\\x00\\x00\\x00\\x00\\x00\\x00\\x00\\x00\\x00\\x00zn\\x88>\\xec=\\xd35(\\x11V7\\xea\\x01\\xb3\\xb6N/XI\\x00\\x00\\x00\\x00\\x00\\x00\\x00\\x00\\x00\\x00\\x00\\x00\\x00\\x00\\x00\\x00\\x00\\x00\\x00\\x00\\x00\\x00\\x00\\x00\\x9e4\\xef\\x99\\xa7t\\x00\\x00', <class 'bytes'>\n",
      "v: b'7', <class 'bytes'>\n",
      "r: b\"g'\\xa5<\\tr\\xc5Y#$,\\xea\\x05-\\xc4\\xe1\\x10]{e\\xc9\\x1cD.'AD\\te\\xea\\xc3W\", <class 'bytes'>\n",
      "s: b'\\n\\x8eq\\xae\\xa6#\\xad\\xb7\\xb5V/\\xb9\\xa7ycO;\\x84\\xda\\xd7\\xbe\\x1e\\x1f\"\\xca\\xaad\\r\\xb3R\\xa6\\xff', <class 'bytes'>\n",
      "[b'\\xce', b'A\\xbaS', b'\\x01\\x0f\\x9e', b'\\xdco\\xf4M]\\x93,\\xbdw\\xb5.V\\x12\\xba\\x05)\\xdcb&\\xf1', b'', b'\\xa9\\x05\\x9c\\xbb\\x00\\x00\\x00\\x00\\x00\\x00\\x00\\x00\\x00\\x00\\x00\\x00zn\\x88>\\xec=\\xd35(\\x11V7\\xea\\x01\\xb3\\xb6N/XI\\x00\\x00\\x00\\x00\\x00\\x00\\x00\\x00\\x00\\x00\\x00\\x00\\x00\\x00\\x00\\x00\\x00\\x00\\x00\\x00\\x00\\x00\\x00\\x00\\x9e4\\xef\\x99\\xa7t\\x00\\x00', b'7', b\"g'\\xa5<\\tr\\xc5Y#$,\\xea\\x05-\\xc4\\xe1\\x10]{e\\xc9\\x1cD.'AD\\te\\xea\\xc3W\", b'\\n\\x8eq\\xae\\xa6#\\xad\\xb7\\xb5V/\\xb9\\xa7ycO;\\x84\\xda\\xd7\\xbe\\x1e\\x1f\"\\xca\\xaad\\r\\xb3R\\xa6\\xff']\n",
      "b'\\xf8\\xa9\\x81\\xce\\x83A\\xbaS\\x83\\x01\\x0f\\x9e\\x94\\xdco\\xf4M]\\x93,\\xbdw\\xb5.V\\x12\\xba\\x05)\\xdcb&\\xf1\\x80\\xb8D\\xa9\\x05\\x9c\\xbb\\x00\\x00\\x00\\x00\\x00\\x00\\x00\\x00\\x00\\x00\\x00\\x00zn\\x88>\\xec=\\xd35(\\x11V7\\xea\\x01\\xb3\\xb6N/XI\\x00\\x00\\x00\\x00\\x00\\x00\\x00\\x00\\x00\\x00\\x00\\x00\\x00\\x00\\x00\\x00\\x00\\x00\\x00\\x00\\x00\\x00\\x00\\x00\\x9e4\\xef\\x99\\xa7t\\x00\\x007\\xa0g\\'\\xa5<\\tr\\xc5Y#$,\\xea\\x05-\\xc4\\xe1\\x10]{e\\xc9\\x1cD.\\'AD\\te\\xea\\xc3W\\xa0\\n\\x8eq\\xae\\xa6#\\xad\\xb7\\xb5V/\\xb9\\xa7ycO;\\x84\\xda\\xd7\\xbe\\x1e\\x1f\"\\xca\\xaad\\r\\xb3R\\xa6\\xff'\n",
      "f8a981ce8341ba5383010f9e94dc6ff44d5d932cbd77b52e5612ba0529dc6226f180b844a9059cbb0000000000000000000000007a6e883eec3dd33528115637ea01b3b64e2f58490000000000000000000000000000000000000000000000009e34ef99a774000037a06727a53c0972c55923242cea052dc4e1105d7b65c91c442e2741440965eac357a00a8e71aea623adb7b5562fb9a779634f3b84dad7be1e1f22caaa640db352a6ff\n",
      "Encoded transaction: 0xf8a981ce8341ba5383010f9e94dc6ff44d5d932cbd77b52e5612ba0529dc6226f180b844a9059cbb0000000000000000000000007a6e883eec3dd33528115637ea01b3b64e2f58490000000000000000000000000000000000000000000000009e34ef99a774000037a06727a53c0972c55923242cea052dc4e1105d7b65c91c442e2741440965eac357a00a8e71aea623adb7b5562fb9a779634f3b84dad7be1e1f22caaa640db352a6ff\n",
      "342\n"
     ]
    }
   ],
   "source": [
    "# Assuming result_df is your DataFrame with the transaction data\n",
    "result_df[['encoded_transaction', 'len_encoded_transaction']] = result_df.apply(\n",
    "    lambda row: process_and_encode_transaction(row),\n",
    "    axis=1,\n",
    "    result_type='expand'\n",
    ")\n",
    "rawtx = result_df['encoded_transaction'][0]\n",
    "print(f\"Encoded transaction: 0x{rawtx}\")\n",
    "print(len(rawtx))\n"
   ]
  },
  {
   "cell_type": "code",
   "execution_count": 444,
   "metadata": {},
   "outputs": [
    {
     "name": "stdout",
     "output_type": "stream",
     "text": [
      "342\n",
      "344\n"
     ]
    }
   ],
   "source": [
    "rawtx = result_df['encoded_transaction'][0]\n",
    "# print(rawtx)\n",
    "print(len(rawtx))\n",
    "print(len(correct_raw_tx_hash))\n"
   ]
  }
 ],
 "metadata": {
  "kernelspec": {
   "display_name": "fastlz-env",
   "language": "python",
   "name": "python3"
  },
  "language_info": {
   "codemirror_mode": {
    "name": "ipython",
    "version": 3
   },
   "file_extension": ".py",
   "mimetype": "text/x-python",
   "name": "python",
   "nbconvert_exporter": "python",
   "pygments_lexer": "ipython3",
   "version": "3.9.19"
  }
 },
 "nbformat": 4,
 "nbformat_minor": 2
}
