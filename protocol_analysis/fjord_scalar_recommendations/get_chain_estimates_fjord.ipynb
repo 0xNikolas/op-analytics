{
 "cells": [
  {
   "cell_type": "code",
   "execution_count": 1,
   "metadata": {},
   "outputs": [],
   "source": [
    "# ! pip install pandas web3 hexbytes rlp fastlz clickhouse-connect\n",
    "# ! pip install python-dotenv"
   ]
  },
  {
   "cell_type": "markdown",
   "metadata": {},
   "source": [
    "### Readme\n",
    "FastLZ needs Python version 3.9x or lower, make sure your environment is using a later python version"
   ]
  },
  {
   "cell_type": "code",
   "execution_count": 2,
   "metadata": {},
   "outputs": [],
   "source": [
    "import pandas as pd\n",
    "from web3 import Web3\n",
    "from hexbytes import HexBytes\n",
    "import ast\n",
    "import rlp\n",
    "from rlp.sedes import Binary, big_endian_int, binary, List\n",
    "from eth_utils import to_bytes, to_hex\n",
    "import fastlz\n",
    "import sys\n",
    "import os\n",
    "import dotenv\n",
    "import time\n",
    "dotenv.load_dotenv()\n",
    "sys.path.append(\"../../helper_functions\")\n",
    "import clickhouse_utils as ch\n",
    "sys.path.pop()\n",
    "\n",
    "client = ch.connect_to_clickhouse_db() #Default is OPLabs DB"
   ]
  },
  {
   "cell_type": "code",
   "execution_count": 3,
   "metadata": {},
   "outputs": [],
   "source": [
    "# Run configs\n",
    "schemas_to_select = [\n",
    "        # 'op', \n",
    "        # 'base',\n",
    "        'mode',\n",
    "        'fraxtal',\n",
    "        'zora'\n",
    "        ]  # Add more schemas as needed\n",
    "days_of_data = 28\n",
    "\n",
    "#FastLZ Regression Metrics\n",
    "# Specs - https://specs.optimism.io/fjord/exec-engine.html?search=#fjord-l1-cost-fee-changes-fastlz-estimator\n",
    "intercept = -42_585_600\n",
    "fastlzCoef = 836_500\n",
    "minTransactionSize = 100\n",
    "scaled_by = 1e6"
   ]
  },
  {
   "cell_type": "markdown",
   "metadata": {},
   "source": [
    "### Execute"
   ]
  },
  {
   "cell_type": "code",
   "execution_count": 4,
   "metadata": {},
   "outputs": [],
   "source": [
    "# Read the CSV file\n",
    "csv_path = '../../op_chains_tracking/outputs/chain_metadata.csv'\n",
    "df = pd.read_csv(csv_path)\n",
    "\n",
    "# Filter the DataFrame based on the schemas_to_select list\n",
    "filtered_df = df[df['oplabs_db_schema'].isin(schemas_to_select)]\n",
    "\n",
    "# Select the required columns and convert to a list of dictionaries\n",
    "chain_mappings_list = filtered_df[['oplabs_db_schema', 'display_name', 'mainnet_chain_id']].rename(\n",
    "    columns={'oplabs_db_schema': 'schema_name', 'mainnet_chain_id': 'chain_id'}\n",
    ").to_dict(orient='records')\n",
    "\n",
    "# Print the resulting list of dictionaries\n",
    "# print(chain_mappings_list)"
   ]
  },
  {
   "cell_type": "code",
   "execution_count": 5,
   "metadata": {},
   "outputs": [],
   "source": [
    "# # Test transaction receipt\n",
    "# from web3 import Web3\n",
    "# op_rpc = os.getenv(\"OP_PUBLIC_RPC\")\n",
    "# w3 = Web3(Web3.HTTPProvider(op_rpc))\n",
    "\n",
    "# tx_test = '0xcea81f2e836a37b38ba82afd37e6f66c02e348e7b89538aa232013d91edcb926'\n",
    "# tx = w3.eth.get_transaction(tx_test)\n",
    "# txr = w3.eth.get_transaction_receipt(tx_test)\n",
    "# # # txraw = w3.eth.get_raw_transaction(tx_test)\n",
    "# print(tx)\n",
    "# # print(txr)\n",
    "# # # print(txraw)"
   ]
  },
  {
   "cell_type": "code",
   "execution_count": 6,
   "metadata": {},
   "outputs": [],
   "source": [
    "# may not sufficent due to missing transaction signature fields\n",
    "\n",
    "# Get L2 Txs from Clickhouse / Goldsky\n",
    "query_by_day = '''\n",
    "        SELECT @chain_id@ as chain_id, nonce, gas, max_fee_per_gas, max_priority_fee_per_gas,\n",
    "                to_address as to, value, input, block_timestamp, block_number, hash, receipt_gas_used\n",
    "        FROM @chain_db_name@_transactions\n",
    "        WHERE gas_price > 0\n",
    "        # 1 day chunk\n",
    "        AND block_timestamp < DATE_TRUNC('day',NOW()) - interval '@day_num@ days'\n",
    "        AND block_timestamp >= DATE_TRUNC('day',NOW()) - (interval '@day_num@ days') - (interval '1 day')\n",
    "\n",
    "        SETTINGS max_execution_time = 3000\n",
    "'''\n",
    "# AND hash = '0xcea81f2e836a37b38ba82afd37e6f66c02e348e7b89538aa232013d91edcb926'\n",
    "# AND block_number = 120731426\n",
    "\n",
    "# txs_df"
   ]
  },
  {
   "cell_type": "code",
   "execution_count": 7,
   "metadata": {},
   "outputs": [],
   "source": [
    "# Process transactions and RLP encode\n",
    "#https://ethereum.org/en/developers/docs/transactions/\n",
    "\n",
    "# NOTE THE RLP ENCODING IS NOT 1:1 WITH ETHERSCAN YET (but it's ~close-ish)\n",
    "def process_and_encode_transaction(row):\n",
    "    try:\n",
    "        # Check if \"to\" field is None or empty\n",
    "        to_field = row[\"to\"]\n",
    "        if to_field is None or to_field == '':\n",
    "            to_hexstr = b''\n",
    "        else:\n",
    "            try:\n",
    "                if isinstance(to_field, str):\n",
    "                    to_hexstr = to_bytes(hexstr=to_field)\n",
    "                elif isinstance(to_field, bytes):\n",
    "                    to_hexstr = to_field\n",
    "                else:\n",
    "                    raise ValueError(f\"Unexpected type for 'to' field: {type(to_field)}\")\n",
    "            except UnicodeDecodeError as e:\n",
    "                print(f\"Error decoding 'to' field: {e}\")\n",
    "                print(f\"Problematic byte sequence: {to_field[e.start:e.end]}\")\n",
    "                to_hexstr = b''  # Fallback to empty if there's an error\n",
    "\n",
    "        tx_params = {\n",
    "            'chainId': int(row['chain_id']),\n",
    "            'nonce': int(row['nonce']),\n",
    "            'maxPriorityFeePerGas': int(row['max_priority_fee_per_gas']),\n",
    "            'maxFeePerGas': int(row['max_fee_per_gas']),\n",
    "            'gas': int(row['gas']),\n",
    "            'to': to_hexstr,\n",
    "            'value': to_bytes(int(row['value'])),\n",
    "            'input': HexBytes(row['input']),\n",
    "            'accessList': row['access_list'],\n",
    "            'v': int(row['v']),\n",
    "            'r': HexBytes(row['r']),\n",
    "            's': HexBytes(row['s'])\n",
    "        }\n",
    "\n",
    "        transaction = [\n",
    "            tx_params['nonce'],\n",
    "            tx_params['to'],\n",
    "            tx_params['value'],\n",
    "            tx_params['gas'],\n",
    "            tx_params['maxFeePerGas'],\n",
    "            tx_params['input'],\n",
    "            tx_params['chainId'],\n",
    "            tx_params['v'],\n",
    "            tx_params['r'],\n",
    "            tx_params['s']\n",
    "        ]\n",
    "\n",
    "        encoded_tx = rlp.encode(transaction)\n",
    "        return Web3.to_hex(encoded_tx), len(encoded_tx)\n",
    "\n",
    "    except (ValueError, TypeError, UnicodeDecodeError) as e:\n",
    "        print(\"Error:\", e)\n",
    "        print(\"Failed Transaction Info:\")\n",
    "        print(row)\n",
    "        if 'to_hexstr' in locals():\n",
    "            print(\"to_hexstr:\", to_hexstr)\n",
    "        return None, None\n",
    "\n",
    "# Function to compress transaction data\n",
    "def compress_transaction(encoded_transaction):\n",
    "\n",
    "    hex_string = encoded_transaction[2:]\n",
    "    # Convert the hexadecimal string to bytes\n",
    "    byte_string = bytes.fromhex(hex_string)\n",
    "    compressed_data = fastlz.compress(byte_string)\n",
    "\n",
    "    return compressed_data.hex(), len(compressed_data)\n",
    "# Define a function to apply to each row of the DataFrame\n",
    "def process_and_compress_transaction(row):\n",
    "    encoded_tx = row['encoded_transaction']\n",
    "    compressed_tx, len_tx = compress_transaction(encoded_tx)\n",
    "    return compressed_tx, len_tx"
   ]
  },
  {
   "cell_type": "code",
   "execution_count": 8,
   "metadata": {},
   "outputs": [
    {
     "name": "stdout",
     "output_type": "stream",
     "text": [
      "zora : day 0\n",
      "        Query Done: Completed in 5.80 seconds\n",
      "        Encoding Done: Completed in 7.08 seconds\n"
     ]
    },
    {
     "name": "stderr",
     "output_type": "stream",
     "text": [
      "/var/folders/by/kltjc8yd0yz_7_wrtrzhrm9m0000gn/T/ipykernel_71169/3350871285.py:69: DeprecationWarning: PY_SSIZE_T_CLEAN will be required for '#' formats\n",
      "  compressed_data = fastlz.compress(byte_string)\n"
     ]
    },
    {
     "name": "stdout",
     "output_type": "stream",
     "text": [
      "        Compression Done: Completed in 7.08 seconds\n",
      "        Estimation Done: Completed in 0.87 seconds\n",
      "zora : day 1\n",
      "        Query Done: Completed in 4.62 seconds\n",
      "        Encoding Done: Completed in 7.16 seconds\n"
     ]
    },
    {
     "name": "stderr",
     "output_type": "stream",
     "text": [
      "/var/folders/by/kltjc8yd0yz_7_wrtrzhrm9m0000gn/T/ipykernel_71169/3350871285.py:69: DeprecationWarning: PY_SSIZE_T_CLEAN will be required for '#' formats\n",
      "  compressed_data = fastlz.compress(byte_string)\n"
     ]
    },
    {
     "name": "stdout",
     "output_type": "stream",
     "text": [
      "        Compression Done: Completed in 7.16 seconds\n",
      "        Estimation Done: Completed in 0.92 seconds\n",
      "zora : day 2\n",
      "        Query Done: Completed in 4.02 seconds\n",
      "        Encoding Done: Completed in 7.03 seconds\n"
     ]
    },
    {
     "name": "stderr",
     "output_type": "stream",
     "text": [
      "/var/folders/by/kltjc8yd0yz_7_wrtrzhrm9m0000gn/T/ipykernel_71169/3350871285.py:69: DeprecationWarning: PY_SSIZE_T_CLEAN will be required for '#' formats\n",
      "  compressed_data = fastlz.compress(byte_string)\n"
     ]
    },
    {
     "name": "stdout",
     "output_type": "stream",
     "text": [
      "        Compression Done: Completed in 7.03 seconds\n",
      "        Estimation Done: Completed in 0.88 seconds\n",
      "zora : day 3\n",
      "        Query Done: Completed in 2.47 seconds\n",
      "        Encoding Done: Completed in 7.12 seconds\n"
     ]
    },
    {
     "name": "stderr",
     "output_type": "stream",
     "text": [
      "/var/folders/by/kltjc8yd0yz_7_wrtrzhrm9m0000gn/T/ipykernel_71169/3350871285.py:69: DeprecationWarning: PY_SSIZE_T_CLEAN will be required for '#' formats\n",
      "  compressed_data = fastlz.compress(byte_string)\n"
     ]
    },
    {
     "name": "stdout",
     "output_type": "stream",
     "text": [
      "        Compression Done: Completed in 7.12 seconds\n",
      "        Estimation Done: Completed in 0.97 seconds\n",
      "zora : day 4\n",
      "        Query Done: Completed in 2.89 seconds\n",
      "        Encoding Done: Completed in 6.83 seconds\n"
     ]
    },
    {
     "name": "stderr",
     "output_type": "stream",
     "text": [
      "/var/folders/by/kltjc8yd0yz_7_wrtrzhrm9m0000gn/T/ipykernel_71169/3350871285.py:69: DeprecationWarning: PY_SSIZE_T_CLEAN will be required for '#' formats\n",
      "  compressed_data = fastlz.compress(byte_string)\n"
     ]
    },
    {
     "name": "stdout",
     "output_type": "stream",
     "text": [
      "        Compression Done: Completed in 6.83 seconds\n",
      "        Estimation Done: Completed in 0.88 seconds\n",
      "zora : day 5\n",
      "        Query Done: Completed in 2.37 seconds\n",
      "        Encoding Done: Completed in 8.41 seconds\n"
     ]
    },
    {
     "name": "stderr",
     "output_type": "stream",
     "text": [
      "/var/folders/by/kltjc8yd0yz_7_wrtrzhrm9m0000gn/T/ipykernel_71169/3350871285.py:69: DeprecationWarning: PY_SSIZE_T_CLEAN will be required for '#' formats\n",
      "  compressed_data = fastlz.compress(byte_string)\n"
     ]
    },
    {
     "name": "stdout",
     "output_type": "stream",
     "text": [
      "        Compression Done: Completed in 8.41 seconds\n",
      "        Estimation Done: Completed in 1.06 seconds\n",
      "zora : day 6\n",
      "        Query Done: Completed in 3.77 seconds\n",
      "        Encoding Done: Completed in 8.15 seconds\n"
     ]
    },
    {
     "name": "stderr",
     "output_type": "stream",
     "text": [
      "/var/folders/by/kltjc8yd0yz_7_wrtrzhrm9m0000gn/T/ipykernel_71169/3350871285.py:69: DeprecationWarning: PY_SSIZE_T_CLEAN will be required for '#' formats\n",
      "  compressed_data = fastlz.compress(byte_string)\n"
     ]
    },
    {
     "name": "stdout",
     "output_type": "stream",
     "text": [
      "        Compression Done: Completed in 8.15 seconds\n",
      "        Estimation Done: Completed in 0.97 seconds\n",
      "zora : day 7\n",
      "        Query Done: Completed in 2.76 seconds\n",
      "        Encoding Done: Completed in 7.66 seconds\n"
     ]
    },
    {
     "name": "stderr",
     "output_type": "stream",
     "text": [
      "/var/folders/by/kltjc8yd0yz_7_wrtrzhrm9m0000gn/T/ipykernel_71169/3350871285.py:69: DeprecationWarning: PY_SSIZE_T_CLEAN will be required for '#' formats\n",
      "  compressed_data = fastlz.compress(byte_string)\n"
     ]
    },
    {
     "name": "stdout",
     "output_type": "stream",
     "text": [
      "        Compression Done: Completed in 7.66 seconds\n",
      "        Estimation Done: Completed in 0.94 seconds\n",
      "zora : day 8\n",
      "        Query Done: Completed in 2.87 seconds\n",
      "        Encoding Done: Completed in 7.33 seconds\n"
     ]
    },
    {
     "name": "stderr",
     "output_type": "stream",
     "text": [
      "/var/folders/by/kltjc8yd0yz_7_wrtrzhrm9m0000gn/T/ipykernel_71169/3350871285.py:69: DeprecationWarning: PY_SSIZE_T_CLEAN will be required for '#' formats\n",
      "  compressed_data = fastlz.compress(byte_string)\n"
     ]
    },
    {
     "name": "stdout",
     "output_type": "stream",
     "text": [
      "        Compression Done: Completed in 7.33 seconds\n",
      "        Estimation Done: Completed in 0.90 seconds\n",
      "zora : day 9\n",
      "        Query Done: Completed in 2.47 seconds\n",
      "        Encoding Done: Completed in 5.95 seconds\n"
     ]
    },
    {
     "name": "stderr",
     "output_type": "stream",
     "text": [
      "/var/folders/by/kltjc8yd0yz_7_wrtrzhrm9m0000gn/T/ipykernel_71169/3350871285.py:69: DeprecationWarning: PY_SSIZE_T_CLEAN will be required for '#' formats\n",
      "  compressed_data = fastlz.compress(byte_string)\n"
     ]
    },
    {
     "name": "stdout",
     "output_type": "stream",
     "text": [
      "        Compression Done: Completed in 5.95 seconds\n",
      "        Estimation Done: Completed in 0.91 seconds\n",
      "zora : day 10\n",
      "        Query Done: Completed in 2.24 seconds\n",
      "        Encoding Done: Completed in 7.23 seconds\n"
     ]
    },
    {
     "name": "stderr",
     "output_type": "stream",
     "text": [
      "/var/folders/by/kltjc8yd0yz_7_wrtrzhrm9m0000gn/T/ipykernel_71169/3350871285.py:69: DeprecationWarning: PY_SSIZE_T_CLEAN will be required for '#' formats\n",
      "  compressed_data = fastlz.compress(byte_string)\n"
     ]
    },
    {
     "name": "stdout",
     "output_type": "stream",
     "text": [
      "        Compression Done: Completed in 7.23 seconds\n",
      "        Estimation Done: Completed in 0.88 seconds\n",
      "zora : day 11\n",
      "        Query Done: Completed in 2.75 seconds\n",
      "        Encoding Done: Completed in 7.33 seconds\n"
     ]
    },
    {
     "name": "stderr",
     "output_type": "stream",
     "text": [
      "/var/folders/by/kltjc8yd0yz_7_wrtrzhrm9m0000gn/T/ipykernel_71169/3350871285.py:69: DeprecationWarning: PY_SSIZE_T_CLEAN will be required for '#' formats\n",
      "  compressed_data = fastlz.compress(byte_string)\n"
     ]
    },
    {
     "name": "stdout",
     "output_type": "stream",
     "text": [
      "        Compression Done: Completed in 7.33 seconds\n",
      "        Estimation Done: Completed in 0.89 seconds\n",
      "zora : day 12\n",
      "        Query Done: Completed in 2.44 seconds\n",
      "        Encoding Done: Completed in 6.88 seconds\n"
     ]
    },
    {
     "name": "stderr",
     "output_type": "stream",
     "text": [
      "/var/folders/by/kltjc8yd0yz_7_wrtrzhrm9m0000gn/T/ipykernel_71169/3350871285.py:69: DeprecationWarning: PY_SSIZE_T_CLEAN will be required for '#' formats\n",
      "  compressed_data = fastlz.compress(byte_string)\n"
     ]
    },
    {
     "name": "stdout",
     "output_type": "stream",
     "text": [
      "        Compression Done: Completed in 6.88 seconds\n",
      "        Estimation Done: Completed in 1.13 seconds\n",
      "zora : day 13\n",
      "        Query Done: Completed in 2.31 seconds\n",
      "        Encoding Done: Completed in 6.22 seconds\n"
     ]
    },
    {
     "name": "stderr",
     "output_type": "stream",
     "text": [
      "/var/folders/by/kltjc8yd0yz_7_wrtrzhrm9m0000gn/T/ipykernel_71169/3350871285.py:69: DeprecationWarning: PY_SSIZE_T_CLEAN will be required for '#' formats\n",
      "  compressed_data = fastlz.compress(byte_string)\n"
     ]
    },
    {
     "name": "stdout",
     "output_type": "stream",
     "text": [
      "        Compression Done: Completed in 6.22 seconds\n",
      "        Estimation Done: Completed in 0.79 seconds\n",
      "zora : day 14\n",
      "        Query Done: Completed in 2.39 seconds\n",
      "        Encoding Done: Completed in 6.65 seconds\n"
     ]
    },
    {
     "name": "stderr",
     "output_type": "stream",
     "text": [
      "/var/folders/by/kltjc8yd0yz_7_wrtrzhrm9m0000gn/T/ipykernel_71169/3350871285.py:69: DeprecationWarning: PY_SSIZE_T_CLEAN will be required for '#' formats\n",
      "  compressed_data = fastlz.compress(byte_string)\n"
     ]
    },
    {
     "name": "stdout",
     "output_type": "stream",
     "text": [
      "        Compression Done: Completed in 6.65 seconds\n",
      "        Estimation Done: Completed in 0.82 seconds\n",
      "zora : day 15\n",
      "        Query Done: Completed in 6.63 seconds\n",
      "        Encoding Done: Completed in 6.28 seconds\n"
     ]
    },
    {
     "name": "stderr",
     "output_type": "stream",
     "text": [
      "/var/folders/by/kltjc8yd0yz_7_wrtrzhrm9m0000gn/T/ipykernel_71169/3350871285.py:69: DeprecationWarning: PY_SSIZE_T_CLEAN will be required for '#' formats\n",
      "  compressed_data = fastlz.compress(byte_string)\n"
     ]
    },
    {
     "name": "stdout",
     "output_type": "stream",
     "text": [
      "        Compression Done: Completed in 6.28 seconds\n",
      "        Estimation Done: Completed in 0.74 seconds\n",
      "zora : day 16\n",
      "        Query Done: Completed in 5.72 seconds\n",
      "        Encoding Done: Completed in 6.34 seconds\n"
     ]
    },
    {
     "name": "stderr",
     "output_type": "stream",
     "text": [
      "/var/folders/by/kltjc8yd0yz_7_wrtrzhrm9m0000gn/T/ipykernel_71169/3350871285.py:69: DeprecationWarning: PY_SSIZE_T_CLEAN will be required for '#' formats\n",
      "  compressed_data = fastlz.compress(byte_string)\n"
     ]
    },
    {
     "name": "stdout",
     "output_type": "stream",
     "text": [
      "        Compression Done: Completed in 6.34 seconds\n",
      "        Estimation Done: Completed in 0.80 seconds\n",
      "zora : day 17\n",
      "        Query Done: Completed in 6.14 seconds\n",
      "        Encoding Done: Completed in 5.58 seconds\n"
     ]
    },
    {
     "name": "stderr",
     "output_type": "stream",
     "text": [
      "/var/folders/by/kltjc8yd0yz_7_wrtrzhrm9m0000gn/T/ipykernel_71169/3350871285.py:69: DeprecationWarning: PY_SSIZE_T_CLEAN will be required for '#' formats\n",
      "  compressed_data = fastlz.compress(byte_string)\n"
     ]
    },
    {
     "name": "stdout",
     "output_type": "stream",
     "text": [
      "        Compression Done: Completed in 5.58 seconds\n",
      "        Estimation Done: Completed in 0.69 seconds\n",
      "zora : day 18\n",
      "        Query Done: Completed in 4.95 seconds\n",
      "        Encoding Done: Completed in 6.70 seconds\n"
     ]
    },
    {
     "name": "stderr",
     "output_type": "stream",
     "text": [
      "/var/folders/by/kltjc8yd0yz_7_wrtrzhrm9m0000gn/T/ipykernel_71169/3350871285.py:69: DeprecationWarning: PY_SSIZE_T_CLEAN will be required for '#' formats\n",
      "  compressed_data = fastlz.compress(byte_string)\n"
     ]
    },
    {
     "name": "stdout",
     "output_type": "stream",
     "text": [
      "        Compression Done: Completed in 6.70 seconds\n",
      "        Estimation Done: Completed in 0.87 seconds\n",
      "zora : day 19\n",
      "        Query Done: Completed in 5.21 seconds\n",
      "        Encoding Done: Completed in 8.31 seconds\n"
     ]
    },
    {
     "name": "stderr",
     "output_type": "stream",
     "text": [
      "/var/folders/by/kltjc8yd0yz_7_wrtrzhrm9m0000gn/T/ipykernel_71169/3350871285.py:69: DeprecationWarning: PY_SSIZE_T_CLEAN will be required for '#' formats\n",
      "  compressed_data = fastlz.compress(byte_string)\n"
     ]
    },
    {
     "name": "stdout",
     "output_type": "stream",
     "text": [
      "        Compression Done: Completed in 8.31 seconds\n",
      "        Estimation Done: Completed in 0.99 seconds\n",
      "zora : day 20\n",
      "        Query Done: Completed in 5.38 seconds\n",
      "        Encoding Done: Completed in 7.13 seconds\n"
     ]
    },
    {
     "name": "stderr",
     "output_type": "stream",
     "text": [
      "/var/folders/by/kltjc8yd0yz_7_wrtrzhrm9m0000gn/T/ipykernel_71169/3350871285.py:69: DeprecationWarning: PY_SSIZE_T_CLEAN will be required for '#' formats\n",
      "  compressed_data = fastlz.compress(byte_string)\n"
     ]
    },
    {
     "name": "stdout",
     "output_type": "stream",
     "text": [
      "        Compression Done: Completed in 7.13 seconds\n",
      "        Estimation Done: Completed in 0.95 seconds\n",
      "zora : day 21\n",
      "        Query Done: Completed in 5.02 seconds\n",
      "        Encoding Done: Completed in 7.95 seconds\n"
     ]
    },
    {
     "name": "stderr",
     "output_type": "stream",
     "text": [
      "/var/folders/by/kltjc8yd0yz_7_wrtrzhrm9m0000gn/T/ipykernel_71169/3350871285.py:69: DeprecationWarning: PY_SSIZE_T_CLEAN will be required for '#' formats\n",
      "  compressed_data = fastlz.compress(byte_string)\n"
     ]
    },
    {
     "name": "stdout",
     "output_type": "stream",
     "text": [
      "        Compression Done: Completed in 7.95 seconds\n",
      "        Estimation Done: Completed in 0.98 seconds\n",
      "zora : day 22\n",
      "        Query Done: Completed in 6.75 seconds\n",
      "        Encoding Done: Completed in 9.04 seconds\n"
     ]
    },
    {
     "name": "stderr",
     "output_type": "stream",
     "text": [
      "/var/folders/by/kltjc8yd0yz_7_wrtrzhrm9m0000gn/T/ipykernel_71169/3350871285.py:69: DeprecationWarning: PY_SSIZE_T_CLEAN will be required for '#' formats\n",
      "  compressed_data = fastlz.compress(byte_string)\n"
     ]
    },
    {
     "name": "stdout",
     "output_type": "stream",
     "text": [
      "        Compression Done: Completed in 9.04 seconds\n",
      "        Estimation Done: Completed in 1.19 seconds\n",
      "zora : day 23\n",
      "        Query Done: Completed in 4.72 seconds\n",
      "        Encoding Done: Completed in 8.59 seconds\n"
     ]
    },
    {
     "name": "stderr",
     "output_type": "stream",
     "text": [
      "/var/folders/by/kltjc8yd0yz_7_wrtrzhrm9m0000gn/T/ipykernel_71169/3350871285.py:69: DeprecationWarning: PY_SSIZE_T_CLEAN will be required for '#' formats\n",
      "  compressed_data = fastlz.compress(byte_string)\n"
     ]
    },
    {
     "name": "stdout",
     "output_type": "stream",
     "text": [
      "        Compression Done: Completed in 8.59 seconds\n",
      "        Estimation Done: Completed in 1.02 seconds\n",
      "zora : day 24\n",
      "        Query Done: Completed in 5.76 seconds\n",
      "        Encoding Done: Completed in 7.88 seconds\n"
     ]
    },
    {
     "name": "stderr",
     "output_type": "stream",
     "text": [
      "/var/folders/by/kltjc8yd0yz_7_wrtrzhrm9m0000gn/T/ipykernel_71169/3350871285.py:69: DeprecationWarning: PY_SSIZE_T_CLEAN will be required for '#' formats\n",
      "  compressed_data = fastlz.compress(byte_string)\n"
     ]
    },
    {
     "name": "stdout",
     "output_type": "stream",
     "text": [
      "        Compression Done: Completed in 7.88 seconds\n",
      "        Estimation Done: Completed in 1.02 seconds\n",
      "zora : day 25\n",
      "        Query Done: Completed in 11.79 seconds\n",
      "        Encoding Done: Completed in 7.63 seconds\n"
     ]
    },
    {
     "name": "stderr",
     "output_type": "stream",
     "text": [
      "/var/folders/by/kltjc8yd0yz_7_wrtrzhrm9m0000gn/T/ipykernel_71169/3350871285.py:69: DeprecationWarning: PY_SSIZE_T_CLEAN will be required for '#' formats\n",
      "  compressed_data = fastlz.compress(byte_string)\n"
     ]
    },
    {
     "name": "stdout",
     "output_type": "stream",
     "text": [
      "        Compression Done: Completed in 7.63 seconds\n",
      "        Estimation Done: Completed in 1.01 seconds\n",
      "zora : day 26\n",
      "        Query Done: Completed in 11.37 seconds\n",
      "        Encoding Done: Completed in 7.90 seconds\n"
     ]
    },
    {
     "name": "stderr",
     "output_type": "stream",
     "text": [
      "/var/folders/by/kltjc8yd0yz_7_wrtrzhrm9m0000gn/T/ipykernel_71169/3350871285.py:69: DeprecationWarning: PY_SSIZE_T_CLEAN will be required for '#' formats\n",
      "  compressed_data = fastlz.compress(byte_string)\n"
     ]
    },
    {
     "name": "stdout",
     "output_type": "stream",
     "text": [
      "        Compression Done: Completed in 7.90 seconds\n",
      "        Estimation Done: Completed in 1.05 seconds\n",
      "zora : day 27\n",
      "        Query Done: Completed in 9.02 seconds\n",
      "        Encoding Done: Completed in 7.40 seconds\n"
     ]
    },
    {
     "name": "stderr",
     "output_type": "stream",
     "text": [
      "/var/folders/by/kltjc8yd0yz_7_wrtrzhrm9m0000gn/T/ipykernel_71169/3350871285.py:69: DeprecationWarning: PY_SSIZE_T_CLEAN will be required for '#' formats\n",
      "  compressed_data = fastlz.compress(byte_string)\n"
     ]
    },
    {
     "name": "stdout",
     "output_type": "stream",
     "text": [
      "        Compression Done: Completed in 7.40 seconds\n",
      "        Estimation Done: Completed in 0.97 seconds\n",
      "mode : day 0\n",
      "        Query Done: Completed in 3.50 seconds\n",
      "        Encoding Done: Completed in 14.86 seconds\n"
     ]
    },
    {
     "name": "stderr",
     "output_type": "stream",
     "text": [
      "/var/folders/by/kltjc8yd0yz_7_wrtrzhrm9m0000gn/T/ipykernel_71169/3350871285.py:69: DeprecationWarning: PY_SSIZE_T_CLEAN will be required for '#' formats\n",
      "  compressed_data = fastlz.compress(byte_string)\n"
     ]
    },
    {
     "name": "stdout",
     "output_type": "stream",
     "text": [
      "        Compression Done: Completed in 14.86 seconds\n",
      "        Estimation Done: Completed in 1.90 seconds\n",
      "mode : day 1\n",
      "        Query Done: Completed in 4.84 seconds\n",
      "        Encoding Done: Completed in 14.82 seconds\n"
     ]
    },
    {
     "name": "stderr",
     "output_type": "stream",
     "text": [
      "/var/folders/by/kltjc8yd0yz_7_wrtrzhrm9m0000gn/T/ipykernel_71169/3350871285.py:69: DeprecationWarning: PY_SSIZE_T_CLEAN will be required for '#' formats\n",
      "  compressed_data = fastlz.compress(byte_string)\n"
     ]
    },
    {
     "name": "stdout",
     "output_type": "stream",
     "text": [
      "        Compression Done: Completed in 14.82 seconds\n",
      "        Estimation Done: Completed in 1.99 seconds\n",
      "mode : day 2\n",
      "        Query Done: Completed in 3.62 seconds\n",
      "        Encoding Done: Completed in 13.43 seconds\n"
     ]
    },
    {
     "name": "stderr",
     "output_type": "stream",
     "text": [
      "/var/folders/by/kltjc8yd0yz_7_wrtrzhrm9m0000gn/T/ipykernel_71169/3350871285.py:69: DeprecationWarning: PY_SSIZE_T_CLEAN will be required for '#' formats\n",
      "  compressed_data = fastlz.compress(byte_string)\n"
     ]
    },
    {
     "name": "stdout",
     "output_type": "stream",
     "text": [
      "        Compression Done: Completed in 13.43 seconds\n",
      "        Estimation Done: Completed in 1.82 seconds\n",
      "mode : day 3\n",
      "        Query Done: Completed in 3.14 seconds\n",
      "        Encoding Done: Completed in 13.96 seconds\n"
     ]
    },
    {
     "name": "stderr",
     "output_type": "stream",
     "text": [
      "/var/folders/by/kltjc8yd0yz_7_wrtrzhrm9m0000gn/T/ipykernel_71169/3350871285.py:69: DeprecationWarning: PY_SSIZE_T_CLEAN will be required for '#' formats\n",
      "  compressed_data = fastlz.compress(byte_string)\n"
     ]
    },
    {
     "name": "stdout",
     "output_type": "stream",
     "text": [
      "        Compression Done: Completed in 13.96 seconds\n",
      "        Estimation Done: Completed in 1.83 seconds\n",
      "mode : day 4\n",
      "        Query Done: Completed in 2.85 seconds\n",
      "        Encoding Done: Completed in 14.68 seconds\n"
     ]
    },
    {
     "name": "stderr",
     "output_type": "stream",
     "text": [
      "/var/folders/by/kltjc8yd0yz_7_wrtrzhrm9m0000gn/T/ipykernel_71169/3350871285.py:69: DeprecationWarning: PY_SSIZE_T_CLEAN will be required for '#' formats\n",
      "  compressed_data = fastlz.compress(byte_string)\n"
     ]
    },
    {
     "name": "stdout",
     "output_type": "stream",
     "text": [
      "        Compression Done: Completed in 14.68 seconds\n",
      "        Estimation Done: Completed in 1.91 seconds\n",
      "mode : day 5\n",
      "        Query Done: Completed in 2.70 seconds\n",
      "        Encoding Done: Completed in 15.09 seconds\n"
     ]
    },
    {
     "name": "stderr",
     "output_type": "stream",
     "text": [
      "/var/folders/by/kltjc8yd0yz_7_wrtrzhrm9m0000gn/T/ipykernel_71169/3350871285.py:69: DeprecationWarning: PY_SSIZE_T_CLEAN will be required for '#' formats\n",
      "  compressed_data = fastlz.compress(byte_string)\n"
     ]
    },
    {
     "name": "stdout",
     "output_type": "stream",
     "text": [
      "        Compression Done: Completed in 15.09 seconds\n",
      "        Estimation Done: Completed in 1.94 seconds\n",
      "mode : day 6\n",
      "        Query Done: Completed in 2.44 seconds\n",
      "        Encoding Done: Completed in 14.18 seconds\n"
     ]
    },
    {
     "name": "stderr",
     "output_type": "stream",
     "text": [
      "/var/folders/by/kltjc8yd0yz_7_wrtrzhrm9m0000gn/T/ipykernel_71169/3350871285.py:69: DeprecationWarning: PY_SSIZE_T_CLEAN will be required for '#' formats\n",
      "  compressed_data = fastlz.compress(byte_string)\n"
     ]
    },
    {
     "name": "stdout",
     "output_type": "stream",
     "text": [
      "        Compression Done: Completed in 14.18 seconds\n",
      "        Estimation Done: Completed in 1.84 seconds\n",
      "mode : day 7\n",
      "        Query Done: Completed in 2.94 seconds\n",
      "        Encoding Done: Completed in 16.75 seconds\n"
     ]
    },
    {
     "name": "stderr",
     "output_type": "stream",
     "text": [
      "/var/folders/by/kltjc8yd0yz_7_wrtrzhrm9m0000gn/T/ipykernel_71169/3350871285.py:69: DeprecationWarning: PY_SSIZE_T_CLEAN will be required for '#' formats\n",
      "  compressed_data = fastlz.compress(byte_string)\n"
     ]
    },
    {
     "name": "stdout",
     "output_type": "stream",
     "text": [
      "        Compression Done: Completed in 16.75 seconds\n",
      "        Estimation Done: Completed in 2.44 seconds\n",
      "mode : day 8\n",
      "        Query Done: Completed in 3.95 seconds\n",
      "        Encoding Done: Completed in 17.09 seconds\n"
     ]
    },
    {
     "name": "stderr",
     "output_type": "stream",
     "text": [
      "/var/folders/by/kltjc8yd0yz_7_wrtrzhrm9m0000gn/T/ipykernel_71169/3350871285.py:69: DeprecationWarning: PY_SSIZE_T_CLEAN will be required for '#' formats\n",
      "  compressed_data = fastlz.compress(byte_string)\n"
     ]
    },
    {
     "name": "stdout",
     "output_type": "stream",
     "text": [
      "        Compression Done: Completed in 17.09 seconds\n",
      "        Estimation Done: Completed in 2.35 seconds\n",
      "mode : day 9\n",
      "        Query Done: Completed in 2.49 seconds\n",
      "        Encoding Done: Completed in 17.32 seconds\n"
     ]
    },
    {
     "name": "stderr",
     "output_type": "stream",
     "text": [
      "/var/folders/by/kltjc8yd0yz_7_wrtrzhrm9m0000gn/T/ipykernel_71169/3350871285.py:69: DeprecationWarning: PY_SSIZE_T_CLEAN will be required for '#' formats\n",
      "  compressed_data = fastlz.compress(byte_string)\n"
     ]
    },
    {
     "name": "stdout",
     "output_type": "stream",
     "text": [
      "        Compression Done: Completed in 17.32 seconds\n",
      "        Estimation Done: Completed in 2.21 seconds\n",
      "mode : day 10\n",
      "        Query Done: Completed in 2.56 seconds\n",
      "        Encoding Done: Completed in 17.13 seconds\n"
     ]
    },
    {
     "name": "stderr",
     "output_type": "stream",
     "text": [
      "/var/folders/by/kltjc8yd0yz_7_wrtrzhrm9m0000gn/T/ipykernel_71169/3350871285.py:69: DeprecationWarning: PY_SSIZE_T_CLEAN will be required for '#' formats\n",
      "  compressed_data = fastlz.compress(byte_string)\n"
     ]
    },
    {
     "name": "stdout",
     "output_type": "stream",
     "text": [
      "        Compression Done: Completed in 17.13 seconds\n",
      "        Estimation Done: Completed in 2.29 seconds\n",
      "mode : day 11\n",
      "        Query Done: Completed in 2.45 seconds\n",
      "        Encoding Done: Completed in 16.77 seconds\n"
     ]
    },
    {
     "name": "stderr",
     "output_type": "stream",
     "text": [
      "/var/folders/by/kltjc8yd0yz_7_wrtrzhrm9m0000gn/T/ipykernel_71169/3350871285.py:69: DeprecationWarning: PY_SSIZE_T_CLEAN will be required for '#' formats\n",
      "  compressed_data = fastlz.compress(byte_string)\n"
     ]
    },
    {
     "name": "stdout",
     "output_type": "stream",
     "text": [
      "        Compression Done: Completed in 16.77 seconds\n",
      "        Estimation Done: Completed in 2.16 seconds\n",
      "mode : day 12\n",
      "        Query Done: Completed in 2.48 seconds\n",
      "        Encoding Done: Completed in 16.40 seconds\n"
     ]
    },
    {
     "name": "stderr",
     "output_type": "stream",
     "text": [
      "/var/folders/by/kltjc8yd0yz_7_wrtrzhrm9m0000gn/T/ipykernel_71169/3350871285.py:69: DeprecationWarning: PY_SSIZE_T_CLEAN will be required for '#' formats\n",
      "  compressed_data = fastlz.compress(byte_string)\n"
     ]
    },
    {
     "name": "stdout",
     "output_type": "stream",
     "text": [
      "        Compression Done: Completed in 16.40 seconds\n",
      "        Estimation Done: Completed in 2.09 seconds\n",
      "mode : day 13\n",
      "        Query Done: Completed in 2.54 seconds\n",
      "        Encoding Done: Completed in 17.11 seconds\n"
     ]
    },
    {
     "name": "stderr",
     "output_type": "stream",
     "text": [
      "/var/folders/by/kltjc8yd0yz_7_wrtrzhrm9m0000gn/T/ipykernel_71169/3350871285.py:69: DeprecationWarning: PY_SSIZE_T_CLEAN will be required for '#' formats\n",
      "  compressed_data = fastlz.compress(byte_string)\n"
     ]
    },
    {
     "name": "stdout",
     "output_type": "stream",
     "text": [
      "        Compression Done: Completed in 17.11 seconds\n",
      "        Estimation Done: Completed in 2.09 seconds\n",
      "mode : day 14\n",
      "        Query Done: Completed in 2.31 seconds\n",
      "        Encoding Done: Completed in 15.96 seconds\n"
     ]
    },
    {
     "name": "stderr",
     "output_type": "stream",
     "text": [
      "/var/folders/by/kltjc8yd0yz_7_wrtrzhrm9m0000gn/T/ipykernel_71169/3350871285.py:69: DeprecationWarning: PY_SSIZE_T_CLEAN will be required for '#' formats\n",
      "  compressed_data = fastlz.compress(byte_string)\n"
     ]
    },
    {
     "name": "stdout",
     "output_type": "stream",
     "text": [
      "        Compression Done: Completed in 15.96 seconds\n",
      "        Estimation Done: Completed in 2.26 seconds\n",
      "mode : day 15\n",
      "        Query Done: Completed in 2.62 seconds\n",
      "        Encoding Done: Completed in 17.53 seconds\n"
     ]
    },
    {
     "name": "stderr",
     "output_type": "stream",
     "text": [
      "/var/folders/by/kltjc8yd0yz_7_wrtrzhrm9m0000gn/T/ipykernel_71169/3350871285.py:69: DeprecationWarning: PY_SSIZE_T_CLEAN will be required for '#' formats\n",
      "  compressed_data = fastlz.compress(byte_string)\n"
     ]
    },
    {
     "name": "stdout",
     "output_type": "stream",
     "text": [
      "        Compression Done: Completed in 17.53 seconds\n",
      "        Estimation Done: Completed in 2.37 seconds\n",
      "mode : day 16\n",
      "        Query Done: Completed in 6.57 seconds\n",
      "        Encoding Done: Completed in 16.76 seconds\n"
     ]
    },
    {
     "name": "stderr",
     "output_type": "stream",
     "text": [
      "/var/folders/by/kltjc8yd0yz_7_wrtrzhrm9m0000gn/T/ipykernel_71169/3350871285.py:69: DeprecationWarning: PY_SSIZE_T_CLEAN will be required for '#' formats\n",
      "  compressed_data = fastlz.compress(byte_string)\n"
     ]
    },
    {
     "name": "stdout",
     "output_type": "stream",
     "text": [
      "        Compression Done: Completed in 16.76 seconds\n",
      "        Estimation Done: Completed in 2.03 seconds\n",
      "mode : day 17\n",
      "        Query Done: Completed in 4.75 seconds\n",
      "        Encoding Done: Completed in 17.61 seconds\n"
     ]
    },
    {
     "name": "stderr",
     "output_type": "stream",
     "text": [
      "/var/folders/by/kltjc8yd0yz_7_wrtrzhrm9m0000gn/T/ipykernel_71169/3350871285.py:69: DeprecationWarning: PY_SSIZE_T_CLEAN will be required for '#' formats\n",
      "  compressed_data = fastlz.compress(byte_string)\n"
     ]
    },
    {
     "name": "stdout",
     "output_type": "stream",
     "text": [
      "        Compression Done: Completed in 17.61 seconds\n",
      "        Estimation Done: Completed in 2.08 seconds\n",
      "mode : day 18\n",
      "        Query Done: Completed in 6.37 seconds\n",
      "        Encoding Done: Completed in 17.97 seconds\n"
     ]
    },
    {
     "name": "stderr",
     "output_type": "stream",
     "text": [
      "/var/folders/by/kltjc8yd0yz_7_wrtrzhrm9m0000gn/T/ipykernel_71169/3350871285.py:69: DeprecationWarning: PY_SSIZE_T_CLEAN will be required for '#' formats\n",
      "  compressed_data = fastlz.compress(byte_string)\n"
     ]
    },
    {
     "name": "stdout",
     "output_type": "stream",
     "text": [
      "        Compression Done: Completed in 17.97 seconds\n",
      "        Estimation Done: Completed in 2.48 seconds\n",
      "mode : day 19\n",
      "        Query Done: Completed in 5.16 seconds\n",
      "        Encoding Done: Completed in 17.58 seconds\n"
     ]
    },
    {
     "name": "stderr",
     "output_type": "stream",
     "text": [
      "/var/folders/by/kltjc8yd0yz_7_wrtrzhrm9m0000gn/T/ipykernel_71169/3350871285.py:69: DeprecationWarning: PY_SSIZE_T_CLEAN will be required for '#' formats\n",
      "  compressed_data = fastlz.compress(byte_string)\n"
     ]
    },
    {
     "name": "stdout",
     "output_type": "stream",
     "text": [
      "        Compression Done: Completed in 17.58 seconds\n",
      "        Estimation Done: Completed in 2.37 seconds\n",
      "mode : day 20\n",
      "        Query Done: Completed in 4.39 seconds\n",
      "        Encoding Done: Completed in 17.92 seconds\n"
     ]
    },
    {
     "name": "stderr",
     "output_type": "stream",
     "text": [
      "/var/folders/by/kltjc8yd0yz_7_wrtrzhrm9m0000gn/T/ipykernel_71169/3350871285.py:69: DeprecationWarning: PY_SSIZE_T_CLEAN will be required for '#' formats\n",
      "  compressed_data = fastlz.compress(byte_string)\n"
     ]
    },
    {
     "name": "stdout",
     "output_type": "stream",
     "text": [
      "        Compression Done: Completed in 17.92 seconds\n",
      "        Estimation Done: Completed in 2.25 seconds\n",
      "mode : day 21\n",
      "        Query Done: Completed in 4.61 seconds\n",
      "        Encoding Done: Completed in 18.91 seconds\n"
     ]
    },
    {
     "name": "stderr",
     "output_type": "stream",
     "text": [
      "/var/folders/by/kltjc8yd0yz_7_wrtrzhrm9m0000gn/T/ipykernel_71169/3350871285.py:69: DeprecationWarning: PY_SSIZE_T_CLEAN will be required for '#' formats\n",
      "  compressed_data = fastlz.compress(byte_string)\n"
     ]
    },
    {
     "name": "stdout",
     "output_type": "stream",
     "text": [
      "        Compression Done: Completed in 18.91 seconds\n",
      "        Estimation Done: Completed in 2.10 seconds\n",
      "mode : day 22\n",
      "        Query Done: Completed in 4.33 seconds\n",
      "        Encoding Done: Completed in 16.34 seconds\n"
     ]
    },
    {
     "name": "stderr",
     "output_type": "stream",
     "text": [
      "/var/folders/by/kltjc8yd0yz_7_wrtrzhrm9m0000gn/T/ipykernel_71169/3350871285.py:69: DeprecationWarning: PY_SSIZE_T_CLEAN will be required for '#' formats\n",
      "  compressed_data = fastlz.compress(byte_string)\n"
     ]
    },
    {
     "name": "stdout",
     "output_type": "stream",
     "text": [
      "        Compression Done: Completed in 16.34 seconds\n",
      "        Estimation Done: Completed in 2.12 seconds\n",
      "mode : day 23\n",
      "        Query Done: Completed in 4.32 seconds\n",
      "        Encoding Done: Completed in 17.21 seconds\n"
     ]
    },
    {
     "name": "stderr",
     "output_type": "stream",
     "text": [
      "/var/folders/by/kltjc8yd0yz_7_wrtrzhrm9m0000gn/T/ipykernel_71169/3350871285.py:69: DeprecationWarning: PY_SSIZE_T_CLEAN will be required for '#' formats\n",
      "  compressed_data = fastlz.compress(byte_string)\n"
     ]
    },
    {
     "name": "stdout",
     "output_type": "stream",
     "text": [
      "        Compression Done: Completed in 17.21 seconds\n",
      "        Estimation Done: Completed in 2.13 seconds\n",
      "mode : day 24\n",
      "        Query Done: Completed in 4.37 seconds\n",
      "        Encoding Done: Completed in 14.44 seconds\n"
     ]
    },
    {
     "name": "stderr",
     "output_type": "stream",
     "text": [
      "/var/folders/by/kltjc8yd0yz_7_wrtrzhrm9m0000gn/T/ipykernel_71169/3350871285.py:69: DeprecationWarning: PY_SSIZE_T_CLEAN will be required for '#' formats\n",
      "  compressed_data = fastlz.compress(byte_string)\n"
     ]
    },
    {
     "name": "stdout",
     "output_type": "stream",
     "text": [
      "        Compression Done: Completed in 14.44 seconds\n",
      "        Estimation Done: Completed in 2.12 seconds\n",
      "mode : day 25\n",
      "        Query Done: Completed in 4.16 seconds\n",
      "        Encoding Done: Completed in 11.98 seconds\n"
     ]
    },
    {
     "name": "stderr",
     "output_type": "stream",
     "text": [
      "/var/folders/by/kltjc8yd0yz_7_wrtrzhrm9m0000gn/T/ipykernel_71169/3350871285.py:69: DeprecationWarning: PY_SSIZE_T_CLEAN will be required for '#' formats\n",
      "  compressed_data = fastlz.compress(byte_string)\n"
     ]
    },
    {
     "name": "stdout",
     "output_type": "stream",
     "text": [
      "        Compression Done: Completed in 11.98 seconds\n",
      "        Estimation Done: Completed in 1.53 seconds\n",
      "mode : day 26\n",
      "        Query Done: Completed in 5.22 seconds\n",
      "        Encoding Done: Completed in 20.20 seconds\n"
     ]
    },
    {
     "name": "stderr",
     "output_type": "stream",
     "text": [
      "/var/folders/by/kltjc8yd0yz_7_wrtrzhrm9m0000gn/T/ipykernel_71169/3350871285.py:69: DeprecationWarning: PY_SSIZE_T_CLEAN will be required for '#' formats\n",
      "  compressed_data = fastlz.compress(byte_string)\n"
     ]
    },
    {
     "name": "stdout",
     "output_type": "stream",
     "text": [
      "        Compression Done: Completed in 20.20 seconds\n",
      "        Estimation Done: Completed in 2.52 seconds\n",
      "mode : day 27\n",
      "        Query Done: Completed in 5.53 seconds\n",
      "        Encoding Done: Completed in 21.20 seconds\n"
     ]
    },
    {
     "name": "stderr",
     "output_type": "stream",
     "text": [
      "/var/folders/by/kltjc8yd0yz_7_wrtrzhrm9m0000gn/T/ipykernel_71169/3350871285.py:69: DeprecationWarning: PY_SSIZE_T_CLEAN will be required for '#' formats\n",
      "  compressed_data = fastlz.compress(byte_string)\n"
     ]
    },
    {
     "name": "stdout",
     "output_type": "stream",
     "text": [
      "        Compression Done: Completed in 21.20 seconds\n",
      "        Estimation Done: Completed in 2.69 seconds\n",
      "fraxtal : day 0\n",
      "        Query Done: Completed in 0.94 seconds\n",
      "        Encoding Done: Completed in 0.25 seconds\n",
      "        Compression Done: Completed in 0.25 seconds\n",
      "        Estimation Done: Completed in 0.03 seconds\n"
     ]
    },
    {
     "name": "stderr",
     "output_type": "stream",
     "text": [
      "/var/folders/by/kltjc8yd0yz_7_wrtrzhrm9m0000gn/T/ipykernel_71169/3350871285.py:69: DeprecationWarning: PY_SSIZE_T_CLEAN will be required for '#' formats\n",
      "  compressed_data = fastlz.compress(byte_string)\n"
     ]
    },
    {
     "name": "stdout",
     "output_type": "stream",
     "text": [
      "fraxtal : day 1\n",
      "        Query Done: Completed in 0.41 seconds\n",
      "        Encoding Done: Completed in 0.23 seconds\n",
      "        Compression Done: Completed in 0.23 seconds\n",
      "        Estimation Done: Completed in 0.03 seconds\n",
      "fraxtal : day 2\n"
     ]
    },
    {
     "name": "stderr",
     "output_type": "stream",
     "text": [
      "/var/folders/by/kltjc8yd0yz_7_wrtrzhrm9m0000gn/T/ipykernel_71169/3350871285.py:69: DeprecationWarning: PY_SSIZE_T_CLEAN will be required for '#' formats\n",
      "  compressed_data = fastlz.compress(byte_string)\n"
     ]
    },
    {
     "name": "stdout",
     "output_type": "stream",
     "text": [
      "        Query Done: Completed in 0.46 seconds\n",
      "        Encoding Done: Completed in 0.26 seconds\n",
      "        Compression Done: Completed in 0.26 seconds\n",
      "        Estimation Done: Completed in 0.03 seconds\n",
      "fraxtal : day 3\n"
     ]
    },
    {
     "name": "stderr",
     "output_type": "stream",
     "text": [
      "/var/folders/by/kltjc8yd0yz_7_wrtrzhrm9m0000gn/T/ipykernel_71169/3350871285.py:69: DeprecationWarning: PY_SSIZE_T_CLEAN will be required for '#' formats\n",
      "  compressed_data = fastlz.compress(byte_string)\n"
     ]
    },
    {
     "name": "stdout",
     "output_type": "stream",
     "text": [
      "        Query Done: Completed in 0.38 seconds\n",
      "        Encoding Done: Completed in 0.23 seconds\n",
      "        Compression Done: Completed in 0.23 seconds\n",
      "        Estimation Done: Completed in 0.03 seconds\n",
      "fraxtal : day 4\n"
     ]
    },
    {
     "name": "stderr",
     "output_type": "stream",
     "text": [
      "/var/folders/by/kltjc8yd0yz_7_wrtrzhrm9m0000gn/T/ipykernel_71169/3350871285.py:69: DeprecationWarning: PY_SSIZE_T_CLEAN will be required for '#' formats\n",
      "  compressed_data = fastlz.compress(byte_string)\n"
     ]
    },
    {
     "name": "stdout",
     "output_type": "stream",
     "text": [
      "        Query Done: Completed in 0.47 seconds\n",
      "        Encoding Done: Completed in 0.26 seconds\n",
      "        Compression Done: Completed in 0.26 seconds\n",
      "        Estimation Done: Completed in 0.03 seconds\n",
      "fraxtal : day 5\n"
     ]
    },
    {
     "name": "stderr",
     "output_type": "stream",
     "text": [
      "/var/folders/by/kltjc8yd0yz_7_wrtrzhrm9m0000gn/T/ipykernel_71169/3350871285.py:69: DeprecationWarning: PY_SSIZE_T_CLEAN will be required for '#' formats\n",
      "  compressed_data = fastlz.compress(byte_string)\n"
     ]
    },
    {
     "name": "stdout",
     "output_type": "stream",
     "text": [
      "        Query Done: Completed in 0.38 seconds\n",
      "        Encoding Done: Completed in 0.25 seconds\n",
      "        Compression Done: Completed in 0.25 seconds\n",
      "        Estimation Done: Completed in 0.03 seconds\n",
      "fraxtal : day 6\n"
     ]
    },
    {
     "name": "stderr",
     "output_type": "stream",
     "text": [
      "/var/folders/by/kltjc8yd0yz_7_wrtrzhrm9m0000gn/T/ipykernel_71169/3350871285.py:69: DeprecationWarning: PY_SSIZE_T_CLEAN will be required for '#' formats\n",
      "  compressed_data = fastlz.compress(byte_string)\n"
     ]
    },
    {
     "name": "stdout",
     "output_type": "stream",
     "text": [
      "        Query Done: Completed in 0.36 seconds\n",
      "        Encoding Done: Completed in 0.19 seconds\n"
     ]
    },
    {
     "name": "stderr",
     "output_type": "stream",
     "text": [
      "/var/folders/by/kltjc8yd0yz_7_wrtrzhrm9m0000gn/T/ipykernel_71169/3350871285.py:69: DeprecationWarning: PY_SSIZE_T_CLEAN will be required for '#' formats\n",
      "  compressed_data = fastlz.compress(byte_string)\n"
     ]
    },
    {
     "name": "stdout",
     "output_type": "stream",
     "text": [
      "        Compression Done: Completed in 0.19 seconds\n",
      "        Estimation Done: Completed in 0.02 seconds\n",
      "fraxtal : day 7\n",
      "        Query Done: Completed in 0.83 seconds\n",
      "        Encoding Done: Completed in 0.17 seconds\n"
     ]
    },
    {
     "name": "stderr",
     "output_type": "stream",
     "text": [
      "/var/folders/by/kltjc8yd0yz_7_wrtrzhrm9m0000gn/T/ipykernel_71169/3350871285.py:69: DeprecationWarning: PY_SSIZE_T_CLEAN will be required for '#' formats\n",
      "  compressed_data = fastlz.compress(byte_string)\n"
     ]
    },
    {
     "name": "stdout",
     "output_type": "stream",
     "text": [
      "        Compression Done: Completed in 0.17 seconds\n",
      "        Estimation Done: Completed in 0.02 seconds\n",
      "fraxtal : day 8\n",
      "        Query Done: Completed in 0.97 seconds\n",
      "        Encoding Done: Completed in 0.59 seconds\n",
      "        Compression Done: Completed in 0.59 seconds\n",
      "        Estimation Done: Completed in 0.05 seconds\n",
      "fraxtal : day 9\n"
     ]
    },
    {
     "name": "stderr",
     "output_type": "stream",
     "text": [
      "/var/folders/by/kltjc8yd0yz_7_wrtrzhrm9m0000gn/T/ipykernel_71169/3350871285.py:69: DeprecationWarning: PY_SSIZE_T_CLEAN will be required for '#' formats\n",
      "  compressed_data = fastlz.compress(byte_string)\n"
     ]
    },
    {
     "name": "stdout",
     "output_type": "stream",
     "text": [
      "        Query Done: Completed in 1.06 seconds\n",
      "        Encoding Done: Completed in 0.40 seconds\n",
      "        Compression Done: Completed in 0.40 seconds\n",
      "        Estimation Done: Completed in 0.04 seconds\n",
      "fraxtal : day 10\n"
     ]
    },
    {
     "name": "stderr",
     "output_type": "stream",
     "text": [
      "/var/folders/by/kltjc8yd0yz_7_wrtrzhrm9m0000gn/T/ipykernel_71169/3350871285.py:69: DeprecationWarning: PY_SSIZE_T_CLEAN will be required for '#' formats\n",
      "  compressed_data = fastlz.compress(byte_string)\n"
     ]
    },
    {
     "name": "stdout",
     "output_type": "stream",
     "text": [
      "        Query Done: Completed in 0.94 seconds\n",
      "        Encoding Done: Completed in 0.32 seconds\n",
      "        Compression Done: Completed in 0.32 seconds\n",
      "        Estimation Done: Completed in 0.04 seconds\n",
      "fraxtal : day 11\n"
     ]
    },
    {
     "name": "stderr",
     "output_type": "stream",
     "text": [
      "/var/folders/by/kltjc8yd0yz_7_wrtrzhrm9m0000gn/T/ipykernel_71169/3350871285.py:69: DeprecationWarning: PY_SSIZE_T_CLEAN will be required for '#' formats\n",
      "  compressed_data = fastlz.compress(byte_string)\n"
     ]
    },
    {
     "name": "stdout",
     "output_type": "stream",
     "text": [
      "        Query Done: Completed in 1.14 seconds\n",
      "        Encoding Done: Completed in 0.35 seconds\n",
      "        Compression Done: Completed in 0.35 seconds\n",
      "        Estimation Done: Completed in 0.04 seconds\n",
      "fraxtal : day 12\n"
     ]
    },
    {
     "name": "stderr",
     "output_type": "stream",
     "text": [
      "/var/folders/by/kltjc8yd0yz_7_wrtrzhrm9m0000gn/T/ipykernel_71169/3350871285.py:69: DeprecationWarning: PY_SSIZE_T_CLEAN will be required for '#' formats\n",
      "  compressed_data = fastlz.compress(byte_string)\n"
     ]
    },
    {
     "name": "stdout",
     "output_type": "stream",
     "text": [
      "        Query Done: Completed in 1.73 seconds\n",
      "        Encoding Done: Completed in 0.69 seconds\n"
     ]
    },
    {
     "name": "stderr",
     "output_type": "stream",
     "text": [
      "/var/folders/by/kltjc8yd0yz_7_wrtrzhrm9m0000gn/T/ipykernel_71169/3350871285.py:69: DeprecationWarning: PY_SSIZE_T_CLEAN will be required for '#' formats\n",
      "  compressed_data = fastlz.compress(byte_string)\n"
     ]
    },
    {
     "name": "stdout",
     "output_type": "stream",
     "text": [
      "        Compression Done: Completed in 0.69 seconds\n",
      "        Estimation Done: Completed in 0.12 seconds\n",
      "fraxtal : day 13\n",
      "        Query Done: Completed in 1.62 seconds\n",
      "        Encoding Done: Completed in 0.79 seconds\n"
     ]
    },
    {
     "name": "stderr",
     "output_type": "stream",
     "text": [
      "/var/folders/by/kltjc8yd0yz_7_wrtrzhrm9m0000gn/T/ipykernel_71169/3350871285.py:69: DeprecationWarning: PY_SSIZE_T_CLEAN will be required for '#' formats\n",
      "  compressed_data = fastlz.compress(byte_string)\n"
     ]
    },
    {
     "name": "stdout",
     "output_type": "stream",
     "text": [
      "        Compression Done: Completed in 0.79 seconds\n",
      "        Estimation Done: Completed in 0.09 seconds\n",
      "fraxtal : day 14\n",
      "        Query Done: Completed in 1.63 seconds\n",
      "        Encoding Done: Completed in 0.80 seconds\n"
     ]
    },
    {
     "name": "stderr",
     "output_type": "stream",
     "text": [
      "/var/folders/by/kltjc8yd0yz_7_wrtrzhrm9m0000gn/T/ipykernel_71169/3350871285.py:69: DeprecationWarning: PY_SSIZE_T_CLEAN will be required for '#' formats\n",
      "  compressed_data = fastlz.compress(byte_string)\n"
     ]
    },
    {
     "name": "stdout",
     "output_type": "stream",
     "text": [
      "        Compression Done: Completed in 0.80 seconds\n",
      "        Estimation Done: Completed in 0.09 seconds\n",
      "fraxtal : day 15\n",
      "        Query Done: Completed in 1.74 seconds\n",
      "        Encoding Done: Completed in 1.00 seconds\n"
     ]
    },
    {
     "name": "stderr",
     "output_type": "stream",
     "text": [
      "/var/folders/by/kltjc8yd0yz_7_wrtrzhrm9m0000gn/T/ipykernel_71169/3350871285.py:69: DeprecationWarning: PY_SSIZE_T_CLEAN will be required for '#' formats\n",
      "  compressed_data = fastlz.compress(byte_string)\n"
     ]
    },
    {
     "name": "stdout",
     "output_type": "stream",
     "text": [
      "        Compression Done: Completed in 1.00 seconds\n",
      "        Estimation Done: Completed in 0.08 seconds\n",
      "fraxtal : day 16\n",
      "        Query Done: Completed in 1.52 seconds\n",
      "        Encoding Done: Completed in 0.57 seconds\n",
      "        Compression Done: Completed in 0.57 seconds\n"
     ]
    },
    {
     "name": "stderr",
     "output_type": "stream",
     "text": [
      "/var/folders/by/kltjc8yd0yz_7_wrtrzhrm9m0000gn/T/ipykernel_71169/3350871285.py:69: DeprecationWarning: PY_SSIZE_T_CLEAN will be required for '#' formats\n",
      "  compressed_data = fastlz.compress(byte_string)\n"
     ]
    },
    {
     "name": "stdout",
     "output_type": "stream",
     "text": [
      "        Estimation Done: Completed in 0.06 seconds\n",
      "fraxtal : day 17\n",
      "        Query Done: Completed in 1.55 seconds\n",
      "        Encoding Done: Completed in 0.85 seconds\n"
     ]
    },
    {
     "name": "stderr",
     "output_type": "stream",
     "text": [
      "/var/folders/by/kltjc8yd0yz_7_wrtrzhrm9m0000gn/T/ipykernel_71169/3350871285.py:69: DeprecationWarning: PY_SSIZE_T_CLEAN will be required for '#' formats\n",
      "  compressed_data = fastlz.compress(byte_string)\n"
     ]
    },
    {
     "name": "stdout",
     "output_type": "stream",
     "text": [
      "        Compression Done: Completed in 0.85 seconds\n",
      "        Estimation Done: Completed in 0.11 seconds\n",
      "fraxtal : day 18\n",
      "        Query Done: Completed in 1.43 seconds\n",
      "        Encoding Done: Completed in 1.12 seconds\n"
     ]
    },
    {
     "name": "stderr",
     "output_type": "stream",
     "text": [
      "/var/folders/by/kltjc8yd0yz_7_wrtrzhrm9m0000gn/T/ipykernel_71169/3350871285.py:69: DeprecationWarning: PY_SSIZE_T_CLEAN will be required for '#' formats\n",
      "  compressed_data = fastlz.compress(byte_string)\n"
     ]
    },
    {
     "name": "stdout",
     "output_type": "stream",
     "text": [
      "        Compression Done: Completed in 1.12 seconds\n",
      "        Estimation Done: Completed in 0.17 seconds\n",
      "fraxtal : day 19\n",
      "        Query Done: Completed in 1.37 seconds\n",
      "        Encoding Done: Completed in 0.68 seconds\n"
     ]
    },
    {
     "name": "stderr",
     "output_type": "stream",
     "text": [
      "/var/folders/by/kltjc8yd0yz_7_wrtrzhrm9m0000gn/T/ipykernel_71169/3350871285.py:69: DeprecationWarning: PY_SSIZE_T_CLEAN will be required for '#' formats\n",
      "  compressed_data = fastlz.compress(byte_string)\n"
     ]
    },
    {
     "name": "stdout",
     "output_type": "stream",
     "text": [
      "        Compression Done: Completed in 0.68 seconds\n",
      "        Estimation Done: Completed in 0.08 seconds\n",
      "fraxtal : day 20\n",
      "        Query Done: Completed in 1.13 seconds\n",
      "        Encoding Done: Completed in 0.23 seconds\n",
      "        Compression Done: Completed in 0.23 seconds\n",
      "        Estimation Done: Completed in 0.03 seconds\n",
      "fraxtal : day 21\n"
     ]
    },
    {
     "name": "stderr",
     "output_type": "stream",
     "text": [
      "/var/folders/by/kltjc8yd0yz_7_wrtrzhrm9m0000gn/T/ipykernel_71169/3350871285.py:69: DeprecationWarning: PY_SSIZE_T_CLEAN will be required for '#' formats\n",
      "  compressed_data = fastlz.compress(byte_string)\n"
     ]
    },
    {
     "name": "stdout",
     "output_type": "stream",
     "text": [
      "        Query Done: Completed in 0.85 seconds\n",
      "        Encoding Done: Completed in 0.16 seconds\n",
      "        Compression Done: Completed in 0.16 seconds\n"
     ]
    },
    {
     "name": "stderr",
     "output_type": "stream",
     "text": [
      "/var/folders/by/kltjc8yd0yz_7_wrtrzhrm9m0000gn/T/ipykernel_71169/3350871285.py:69: DeprecationWarning: PY_SSIZE_T_CLEAN will be required for '#' formats\n",
      "  compressed_data = fastlz.compress(byte_string)\n"
     ]
    },
    {
     "name": "stdout",
     "output_type": "stream",
     "text": [
      "        Estimation Done: Completed in 0.02 seconds\n",
      "fraxtal : day 22\n",
      "        Query Done: Completed in 0.98 seconds\n",
      "        Encoding Done: Completed in 0.18 seconds\n"
     ]
    },
    {
     "name": "stderr",
     "output_type": "stream",
     "text": [
      "/var/folders/by/kltjc8yd0yz_7_wrtrzhrm9m0000gn/T/ipykernel_71169/3350871285.py:69: DeprecationWarning: PY_SSIZE_T_CLEAN will be required for '#' formats\n",
      "  compressed_data = fastlz.compress(byte_string)\n"
     ]
    },
    {
     "name": "stdout",
     "output_type": "stream",
     "text": [
      "        Compression Done: Completed in 0.18 seconds\n",
      "        Estimation Done: Completed in 0.02 seconds\n",
      "fraxtal : day 23\n",
      "        Query Done: Completed in 0.88 seconds\n",
      "        Encoding Done: Completed in 0.17 seconds\n"
     ]
    },
    {
     "name": "stderr",
     "output_type": "stream",
     "text": [
      "/var/folders/by/kltjc8yd0yz_7_wrtrzhrm9m0000gn/T/ipykernel_71169/3350871285.py:69: DeprecationWarning: PY_SSIZE_T_CLEAN will be required for '#' formats\n",
      "  compressed_data = fastlz.compress(byte_string)\n"
     ]
    },
    {
     "name": "stdout",
     "output_type": "stream",
     "text": [
      "        Compression Done: Completed in 0.17 seconds\n",
      "        Estimation Done: Completed in 0.02 seconds\n",
      "fraxtal : day 24\n",
      "        Query Done: Completed in 0.96 seconds\n",
      "        Encoding Done: Completed in 0.16 seconds\n",
      "        Compression Done: Completed in 0.16 seconds\n"
     ]
    },
    {
     "name": "stderr",
     "output_type": "stream",
     "text": [
      "/var/folders/by/kltjc8yd0yz_7_wrtrzhrm9m0000gn/T/ipykernel_71169/3350871285.py:69: DeprecationWarning: PY_SSIZE_T_CLEAN will be required for '#' formats\n",
      "  compressed_data = fastlz.compress(byte_string)\n"
     ]
    },
    {
     "name": "stdout",
     "output_type": "stream",
     "text": [
      "        Estimation Done: Completed in 0.02 seconds\n",
      "fraxtal : day 25\n",
      "        Query Done: Completed in 1.07 seconds\n",
      "        Encoding Done: Completed in 0.19 seconds\n"
     ]
    },
    {
     "name": "stderr",
     "output_type": "stream",
     "text": [
      "/var/folders/by/kltjc8yd0yz_7_wrtrzhrm9m0000gn/T/ipykernel_71169/3350871285.py:69: DeprecationWarning: PY_SSIZE_T_CLEAN will be required for '#' formats\n",
      "  compressed_data = fastlz.compress(byte_string)\n"
     ]
    },
    {
     "name": "stdout",
     "output_type": "stream",
     "text": [
      "        Compression Done: Completed in 0.19 seconds\n",
      "        Estimation Done: Completed in 0.02 seconds\n",
      "fraxtal : day 26\n",
      "        Query Done: Completed in 1.09 seconds\n",
      "        Encoding Done: Completed in 0.22 seconds\n",
      "        Compression Done: Completed in 0.22 seconds\n",
      "        Estimation Done: Completed in 0.03 seconds\n",
      "fraxtal : day 27\n"
     ]
    },
    {
     "name": "stderr",
     "output_type": "stream",
     "text": [
      "/var/folders/by/kltjc8yd0yz_7_wrtrzhrm9m0000gn/T/ipykernel_71169/3350871285.py:69: DeprecationWarning: PY_SSIZE_T_CLEAN will be required for '#' formats\n",
      "  compressed_data = fastlz.compress(byte_string)\n"
     ]
    },
    {
     "name": "stdout",
     "output_type": "stream",
     "text": [
      "        Query Done: Completed in 1.19 seconds\n",
      "        Encoding Done: Completed in 0.21 seconds\n",
      "        Compression Done: Completed in 0.21 seconds\n",
      "        Estimation Done: Completed in 0.03 seconds\n"
     ]
    },
    {
     "name": "stderr",
     "output_type": "stream",
     "text": [
      "/var/folders/by/kltjc8yd0yz_7_wrtrzhrm9m0000gn/T/ipykernel_71169/3350871285.py:69: DeprecationWarning: PY_SSIZE_T_CLEAN will be required for '#' formats\n",
      "  compressed_data = fastlz.compress(byte_string)\n"
     ]
    }
   ],
   "source": [
    "dfs = []\n",
    "for chain in chain_mappings_list:\n",
    "        for day_num in range(0,days_of_data):\n",
    "                print(chain['schema_name'] + ' : day ' + str(day_num))\n",
    "                query_map = query_by_day\n",
    "\n",
    "                query_map = query_map.replace(\"@chain_db_name@\", chain['schema_name'])\n",
    "                query_map = query_map.replace(\"@chain_id@\", str(chain['chain_id']))\n",
    "                query_map = query_map.replace(\"@day_num@\", str(day_num))\n",
    "                \n",
    "                query_start_time = time.time()\n",
    "                result_df = client.query_df(query_map)\n",
    "                query_end_time = time.time()  # Record the start time\n",
    "                query_elapsed_time = query_end_time - query_start_time\n",
    "                print (f\"        Query Done: Completed in {query_elapsed_time:.2f} seconds\")\n",
    "                # try:\n",
    "                # Add Dummy Signature and fields\n",
    "                result_df['access_list'] = '[]'\n",
    "                result_df['access_list'] = result_df['access_list'].apply(ast.literal_eval)\n",
    "                result_df['r'] = '0x6727a53c0972c55923242cea052dc4e1105d7b65c91c442e2741440965eac357'\n",
    "                result_df['s'] = '0x0a8e71aea623adb7b5562fb9a779634f3b84dad7be1e1f22caaa640db352a6ff'\n",
    "                result_df['v'] = '55'\n",
    "\n",
    "                # Assuming `txs_df` is your DataFrame\n",
    "                result_df[['encoded_transaction', 'len_encoded_transaction']] = result_df.apply(process_and_encode_transaction, axis=1, result_type='expand')\n",
    "                enc_end_time = time.time()  # Record the start time\n",
    "                enc_elapsed_time = enc_end_time - query_end_time\n",
    "                print (f\"        Encoding Done: Completed in {enc_elapsed_time:.2f} seconds\")\n",
    "\n",
    "                # Apply compression to each transaction in the DataFrame\n",
    "                result_df[['compressed_transaction', 'compressed_transaction_length']] = result_df.apply(process_and_compress_transaction, axis=1, result_type='expand')\n",
    "                comp_end_time = time.time()\n",
    "                comp_elapsed_time = comp_end_time - enc_end_time\n",
    "                print (f\"        Compression Done: Completed in {enc_elapsed_time:.2f} seconds\")\n",
    "                \n",
    "                # Calculate estimated size for each row\n",
    "                result_df['estimatedSize_raw'] = result_df.apply(lambda row: (intercept + (row['compressed_transaction_length'] * fastlzCoef)) / scaled_by, axis=1)\n",
    "                # Calculate minimum value for 'estimatedSize' column\n",
    "                result_df['estimatedSize'] = result_df.apply(lambda row: max(minTransactionSize, row['estimatedSize_raw']), axis=1)\n",
    "                est_end_time = time.time()\n",
    "                est_elapsed_time = est_end_time - comp_end_time\n",
    "                print (f\"        Estimation Done: Completed in {est_elapsed_time:.2f} seconds\")\n",
    "\n",
    "                # Agg L2\n",
    "                # Convert block_timestamp to date (truncate to day)\n",
    "                result_df['block_date'] = pd.to_datetime(result_df['block_timestamp']).dt.date\n",
    "                grouped_df = result_df.groupby(['block_date', 'chain_id'])\n",
    "                # Define aggregation functions\n",
    "                agg_functions = {\n",
    "                        'len_encoded_transaction': ['sum', 'mean', 'count'],\n",
    "                        'estimatedSize': ['sum', 'mean']\n",
    "                }\n",
    "                # Perform aggregation\n",
    "                aggregated_df = grouped_df.agg(agg_functions).reset_index()\n",
    "                # Rename columns for clarity\n",
    "                aggregated_df.columns = ['block_date', 'chain_id', \n",
    "                                        'total_len_encoded_transaction', 'average_len_encoded_transaction', 'transaction_count',\n",
    "                                        'total_estimatedSize', 'average_estimatedSize']\n",
    "                try:      \n",
    "                        dfs.append(aggregated_df)\n",
    "                except:\n",
    "                        print('nothing to append')\n",
    "                        continue\n",
    "\n",
    "aggregated_df = pd.concat(dfs)"
   ]
  },
  {
   "cell_type": "code",
   "execution_count": 9,
   "metadata": {},
   "outputs": [],
   "source": [
    "# print(aggregated_df['encoded_transaction'][0])\n",
    "# print(len(aggregated_df['encoded_transaction'][0]))"
   ]
  },
  {
   "cell_type": "code",
   "execution_count": 10,
   "metadata": {},
   "outputs": [
    {
     "data": {
      "text/html": [
       "<div>\n",
       "<style scoped>\n",
       "    .dataframe tbody tr th:only-of-type {\n",
       "        vertical-align: middle;\n",
       "    }\n",
       "\n",
       "    .dataframe tbody tr th {\n",
       "        vertical-align: top;\n",
       "    }\n",
       "\n",
       "    .dataframe thead th {\n",
       "        text-align: right;\n",
       "    }\n",
       "</style>\n",
       "<table border=\"1\" class=\"dataframe\">\n",
       "  <thead>\n",
       "    <tr style=\"text-align: right;\">\n",
       "      <th></th>\n",
       "      <th>chain_id</th>\n",
       "      <th>average_len_encoded_transaction</th>\n",
       "      <th>average_estimatedSize</th>\n",
       "      <th>transaction_count</th>\n",
       "    </tr>\n",
       "  </thead>\n",
       "  <tbody>\n",
       "    <tr>\n",
       "      <th>0</th>\n",
       "      <td>252.0</td>\n",
       "      <td>756.572879</td>\n",
       "      <td>292.432239</td>\n",
       "      <td>5020.428571</td>\n",
       "    </tr>\n",
       "    <tr>\n",
       "      <th>1</th>\n",
       "      <td>34443.0</td>\n",
       "      <td>254.748629</td>\n",
       "      <td>133.403842</td>\n",
       "      <td>212135.142857</td>\n",
       "    </tr>\n",
       "    <tr>\n",
       "      <th>2</th>\n",
       "      <td>7777777.0</td>\n",
       "      <td>486.894308</td>\n",
       "      <td>172.515115</td>\n",
       "      <td>91863.285714</td>\n",
       "    </tr>\n",
       "  </tbody>\n",
       "</table>\n",
       "</div>"
      ],
      "text/plain": [
       "    chain_id  average_len_encoded_transaction  average_estimatedSize  \\\n",
       "0      252.0                       756.572879             292.432239   \n",
       "1    34443.0                       254.748629             133.403842   \n",
       "2  7777777.0                       486.894308             172.515115   \n",
       "\n",
       "   transaction_count  \n",
       "0        5020.428571  \n",
       "1      212135.142857  \n",
       "2       91863.285714  "
      ]
     },
     "execution_count": 10,
     "metadata": {},
     "output_type": "execute_result"
    }
   ],
   "source": [
    "agg_cols = ['average_len_encoded_transaction','average_estimatedSize','transaction_count']\n",
    "total_aggregated_df = aggregated_df[['chain_id'] + agg_cols].groupby(['chain_id']).mean([])\n",
    "total_aggregated_df =total_aggregated_df.reset_index()\n",
    "total_aggregated_df"
   ]
  },
  {
   "cell_type": "code",
   "execution_count": 11,
   "metadata": {},
   "outputs": [
    {
     "name": "stdout",
     "output_type": "stream",
     "text": [
      "DataFrame saved to: outputs/l2_output_20240606_1953.csv\n"
     ]
    }
   ],
   "source": [
    "from datetime import datetime\n",
    "# Generate current timestamp\n",
    "current_timestamp = datetime.now().strftime(\"%Y%m%d_%H%M\")\n",
    "# Define the file path\n",
    "file_path = f\"outputs/l2_output_{current_timestamp}.csv\"\n",
    "total_file_path = f\"outputs/total_l2_output_{current_timestamp}.csv\"\n",
    "# Save the DataFrame to CSV\n",
    "aggregated_df.to_csv(file_path, index=False)\n",
    "total_aggregated_df.to_csv(total_file_path, index=False)\n",
    "print(f\"DataFrame saved to: {file_path}\")"
   ]
  },
  {
   "cell_type": "code",
   "execution_count": 12,
   "metadata": {},
   "outputs": [],
   "source": [
    "# Pull aggregate L1 data"
   ]
  },
  {
   "cell_type": "code",
   "execution_count": 13,
   "metadata": {},
   "outputs": [],
   "source": [
    "# Generate L2 : L1 ratio metrics"
   ]
  }
 ],
 "metadata": {
  "kernelspec": {
   "display_name": "new-env",
   "language": "python",
   "name": "python3"
  },
  "language_info": {
   "codemirror_mode": {
    "name": "ipython",
    "version": 3
   },
   "file_extension": ".py",
   "mimetype": "text/x-python",
   "name": "python",
   "nbconvert_exporter": "python",
   "pygments_lexer": "ipython3",
   "version": "3.9.19"
  }
 },
 "nbformat": 4,
 "nbformat_minor": 2
}
