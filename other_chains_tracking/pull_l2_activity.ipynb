{
 "cells": [
  {
   "cell_type": "code",
   "execution_count": 1,
   "metadata": {},
   "outputs": [
    {
     "name": "stdout",
     "output_type": "stream",
     "text": [
      "start l2 activity\n"
     ]
    }
   ],
   "source": [
    "print('start l2 activity')\n",
    "import sys\n",
    "sys.path.append(\"../helper_functions\")\n",
    "import duneapi_utils as d\n",
    "import growthepieapi_utils as gtp\n",
    "import l2beat_utils as ltwo\n",
    "sys.path.pop()\n",
    "\n",
    "import numpy as np\n",
    "import pandas as pd"
   ]
  },
  {
   "cell_type": "code",
   "execution_count": 2,
   "metadata": {},
   "outputs": [],
   "source": [
    "# # # Usage\n",
    "gtp_api = gtp.get_growthepie_api_data()\n",
    "# # print(merged_df.sample(5))\n",
    "gtp_meta_api = gtp.get_growthepie_api_meta()"
   ]
  },
  {
   "cell_type": "code",
   "execution_count": 3,
   "metadata": {},
   "outputs": [
    {
     "name": "stderr",
     "output_type": "stream",
     "text": [
      "/Users/michaelsilberling/Documents/GitHub/op-analytics/other_chains_tracking/../helper_functions/l2beat_utils.py:160: FutureWarning: In a future version, object-dtype columns with all-bool values will not be included in reductions with bool_only=True. Explicitly cast to bool dtype instead.\n",
      "  df = pd.concat([df, pd.DataFrame(data_list)], ignore_index=True)\n"
     ]
    }
   ],
   "source": [
    "l2beat_df = ltwo.get_all_l2beat_data()\n",
    "l2beat_meta = ltwo.get_l2beat_metadata()\n",
    "l2beat_meta['chain'] = l2beat_meta['slug']\n",
    "# print(l2beat_meta.sample(5))"
   ]
  },
  {
   "cell_type": "code",
   "execution_count": 11,
   "metadata": {},
   "outputs": [
    {
     "data": {
      "text/html": [
       "<div>\n",
       "<style scoped>\n",
       "    .dataframe tbody tr th:only-of-type {\n",
       "        vertical-align: middle;\n",
       "    }\n",
       "\n",
       "    .dataframe tbody tr th {\n",
       "        vertical-align: top;\n",
       "    }\n",
       "\n",
       "    .dataframe thead th {\n",
       "        text-align: right;\n",
       "    }\n",
       "</style>\n",
       "<table border=\"1\" class=\"dataframe\">\n",
       "  <thead>\n",
       "    <tr style=\"text-align: right;\">\n",
       "      <th></th>\n",
       "      <th>layer</th>\n",
       "      <th>name</th>\n",
       "      <th>chainId</th>\n",
       "      <th>explorerUrl</th>\n",
       "      <th>category</th>\n",
       "      <th>slug</th>\n",
       "      <th>provider</th>\n",
       "      <th>is_upcoming</th>\n",
       "      <th>chain</th>\n",
       "    </tr>\n",
       "  </thead>\n",
       "  <tbody>\n",
       "    <tr>\n",
       "      <th>112</th>\n",
       "      <td>layer3</td>\n",
       "      <td>RARI Chain</td>\n",
       "      <td>None</td>\n",
       "      <td>None</td>\n",
       "      <td>None</td>\n",
       "      <td>rari</td>\n",
       "      <td>Arbitrum Orbit</td>\n",
       "      <td>False</td>\n",
       "      <td>rari</td>\n",
       "    </tr>\n",
       "    <tr>\n",
       "      <th>105</th>\n",
       "      <td>layer3</td>\n",
       "      <td>Bugless</td>\n",
       "      <td>None</td>\n",
       "      <td>None</td>\n",
       "      <td>Optimistic Rollup</td>\n",
       "      <td>bugless</td>\n",
       "      <td>Cartesi Rollups</td>\n",
       "      <td>False</td>\n",
       "      <td>bugless</td>\n",
       "    </tr>\n",
       "    <tr>\n",
       "      <th>116</th>\n",
       "      <td>layer3</td>\n",
       "      <td>zkLink Nova</td>\n",
       "      <td>None</td>\n",
       "      <td>None</td>\n",
       "      <td>Validium</td>\n",
       "      <td>zklinknova</td>\n",
       "      <td>zkLink Nexus</td>\n",
       "      <td>False</td>\n",
       "      <td>zklinknova</td>\n",
       "    </tr>\n",
       "    <tr>\n",
       "      <th>110</th>\n",
       "      <td>layer3</td>\n",
       "      <td>ORB3</td>\n",
       "      <td>None</td>\n",
       "      <td>None</td>\n",
       "      <td>Optimium</td>\n",
       "      <td>orb3</td>\n",
       "      <td>Arbitrum</td>\n",
       "      <td>False</td>\n",
       "      <td>orb3</td>\n",
       "    </tr>\n",
       "    <tr>\n",
       "      <th>108</th>\n",
       "      <td>layer3</td>\n",
       "      <td>Deri</td>\n",
       "      <td>None</td>\n",
       "      <td>None</td>\n",
       "      <td>None</td>\n",
       "      <td>deri</td>\n",
       "      <td>Arbitrum Orbit</td>\n",
       "      <td>False</td>\n",
       "      <td>deri</td>\n",
       "    </tr>\n",
       "  </tbody>\n",
       "</table>\n",
       "</div>"
      ],
      "text/plain": [
       "      layer         name chainId explorerUrl           category        slug  \\\n",
       "112  layer3   RARI Chain    None        None               None        rari   \n",
       "105  layer3      Bugless    None        None  Optimistic Rollup     bugless   \n",
       "116  layer3  zkLink Nova    None        None           Validium  zklinknova   \n",
       "110  layer3         ORB3    None        None           Optimium        orb3   \n",
       "108  layer3         Deri    None        None               None        deri   \n",
       "\n",
       "            provider is_upcoming       chain  \n",
       "112   Arbitrum Orbit       False        rari  \n",
       "105  Cartesi Rollups       False     bugless  \n",
       "116     zkLink Nexus       False  zklinknova  \n",
       "110         Arbitrum       False        orb3  \n",
       "108   Arbitrum Orbit       False        deri  "
      ]
     },
     "execution_count": 11,
     "metadata": {},
     "output_type": "execute_result"
    }
   ],
   "source": [
    "print(l2beat_meta[l2beat_meta['layer']=='layer2'].sample(5))\n",
    "print(l2beat_meta[l2beat_meta['layer']=='layer3'].sample(5))"
   ]
  },
  {
   "cell_type": "code",
   "execution_count": 5,
   "metadata": {},
   "outputs": [],
   "source": [
    "# display(l2beat_meta.sample(5))"
   ]
  },
  {
   "cell_type": "code",
   "execution_count": 6,
   "metadata": {},
   "outputs": [],
   "source": [
    "combined_l2b_df = l2beat_df.merge(l2beat_meta[['chain','layer','chainId','provider','category','is_upcoming']], on='chain',how='left')\n",
    "# combined_l2b_df.tail(5)"
   ]
  },
  {
   "cell_type": "code",
   "execution_count": 7,
   "metadata": {},
   "outputs": [],
   "source": [
    "combined_gtp_df = gtp_api.merge(gtp_meta_api[['origin_key','chain_name']], on='origin_key',how='left')\n",
    "# combined_gtp_df.sample(5)"
   ]
  },
  {
   "cell_type": "code",
   "execution_count": 8,
   "metadata": {},
   "outputs": [],
   "source": [
    "# Check Columns\n",
    "# Assuming combined_gtp_df is your DataFrame\n",
    "column_names = combined_gtp_df.columns\n",
    "\n",
    "for col in column_names:\n",
    "    if col.endswith('_usd'):\n",
    "        # Construct the new column name by replacing '_usd' with '_eth'\n",
    "        new_col_name = col.replace('_usd', '_eth')\n",
    "        \n",
    "        # Check if the new column name exists in the DataFrame\n",
    "        if new_col_name not in combined_gtp_df.columns:\n",
    "            # If it doesn't exist, create the column and fill it with nan values\n",
    "            combined_gtp_df[new_col_name] = np.nan"
   ]
  },
  {
   "cell_type": "code",
   "execution_count": 9,
   "metadata": {},
   "outputs": [],
   "source": [
    "# print(combined_gtp_df.dtypes)\n",
    "# print(l2beat_df.dtypes)\n",
    "# combined_gtp_df.sample(5)"
   ]
  },
  {
   "cell_type": "code",
   "execution_count": 10,
   "metadata": {},
   "outputs": [
    {
     "name": "stdout",
     "output_type": "stream",
     "text": [
      "table at: dune.oplabspbc.dataset_growthepie_l2_activity\n",
      "Response status code: 200\n",
      "Response content: b'{\"success\":true,\"table_name\":\"growthepie_l2_activity\"}'\n",
      "table at: dune.oplabspbc.dataset_growthepie_l2_metadata\n",
      "Response status code: 200\n",
      "Response content: b'{\"success\":true,\"table_name\":\"growthepie_l2_metadata\"}'\n",
      "table at: dune.oplabspbc.dataset_l2beat_l2_activity\n",
      "Response status code: 200\n",
      "Response content: b'{\"success\":true,\"table_name\":\"l2beat_l2_activity\"}'\n",
      "table at: dune.oplabspbc.dataset_l2beat_l2_metadata\n",
      "Response status code: 200\n",
      "Response content: b'{\"success\":true,\"table_name\":\"l2beat_l2_metadata\"}'\n"
     ]
    }
   ],
   "source": [
    "# export\n",
    "folder = 'outputs/'\n",
    "combined_gtp_df.to_csv(folder + 'growthepie_l2_activity.csv', index = False)\n",
    "gtp_meta_api.to_csv(folder + 'growthepie_l2_metadata.csv', index = False)\n",
    "combined_l2b_df.to_csv(folder + 'l2beat_l2_activity.csv', index = False)\n",
    "l2beat_meta.to_csv(folder + 'l2beat_l2_metadata.csv', index = False)\n",
    "# Post to Dune API\n",
    "d.write_dune_api_from_pandas(combined_gtp_df, 'growthepie_l2_activity',\\\n",
    "                             'L2 Usage Activity from GrowThePie')\n",
    "d.write_dune_api_from_pandas(gtp_meta_api, 'growthepie_l2_metadata',\\\n",
    "                             'L2 Metadata from GrowThePie')\n",
    "d.write_dune_api_from_pandas(combined_l2b_df, 'l2beat_l2_activity',\\\n",
    "                             'L2 Usage Activity from L2Beat')\n",
    "d.write_dune_api_from_pandas(l2beat_meta, 'l2beat_l2_metadata',\\\n",
    "                             'L2 Metadata from L2Beat')\n"
   ]
  }
 ],
 "metadata": {
  "kernelspec": {
   "display_name": "new-env",
   "language": "python",
   "name": "python3"
  },
  "language_info": {
   "codemirror_mode": {
    "name": "ipython",
    "version": 3
   },
   "file_extension": ".py",
   "mimetype": "text/x-python",
   "name": "python",
   "nbconvert_exporter": "python",
   "pygments_lexer": "ipython3",
   "version": "3.10.11"
  },
  "orig_nbformat": 4
 },
 "nbformat": 4,
 "nbformat_minor": 2
}
