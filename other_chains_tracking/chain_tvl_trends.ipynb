{
 "cells": [
  {
   "cell_type": "code",
   "execution_count": 1,
   "metadata": {},
   "outputs": [
    {
     "name": "stdout",
     "output_type": "stream",
     "text": [
      "2024-01-22 00:00:00\n"
     ]
    }
   ],
   "source": [
    "import pandas as pd\n",
    "import sys\n",
    "import numpy as np\n",
    "import json\n",
    "from datetime import datetime, timedelta\n",
    "sys.path.append(\"../helper_functions\")\n",
    "import defillama_utils as dfl\n",
    "import duneapi_utils as du\n",
    "import opstack_metadata_utils as ops\n",
    "sys.path.pop()\n",
    "\n",
    "current_utc_date = datetime.utcnow().replace(hour=0, minute=0, second=0, microsecond=0)\n",
    "print(current_utc_date)"
   ]
  },
  {
   "cell_type": "code",
   "execution_count": 2,
   "metadata": {},
   "outputs": [],
   "source": [
    "chains = [\n",
    "    #L2s\n",
    "     ['Optimism', 'L2']\n",
    "    ,['Base', 'L2']\n",
    "    ,['Arbitrum', 'L2']\n",
    "    #non-dune L2s\n",
    "    ,['ZkSync Era', 'L2']\n",
    "    ,['Polygon zkEVM', 'L2']\n",
    "    ,['Starknet', 'L2']\n",
    "    ,['Linea', 'L2']\n",
    "    ,['Mantle', 'L2']\n",
    "    ,['Scroll', 'L2']\n",
    "    ,['Boba', 'L2']\n",
    "    ,['Metis', 'L2']\n",
    "    ,['opBNB', 'L2']\n",
    "    ,['Rollux', 'L2']\n",
    "    ,['Manta', 'L2']\n",
    "    ,['Kroma','L2']\n",
    "    ,['Arbitrum%20Nova','L2']\n",
    "    #L1\n",
    "    ,['Ethereum', 'L1']\n",
    "    #Others\n",
    "    ,['Fantom', 'L1']\n",
    "    ,['Avalanche', 'L1']\n",
    "    ,['Gnosis' , 'L1']\n",
    "    ,['Celo', 'L1']\n",
    "    ,['Polygon', 'L1']\n",
    "    ,['BSC', 'L1']\n",
    "]\n",
    "\n",
    "protocols = [\n",
    "         ['aevo', 'L2',['optimism','arbitrum','ethereum']]\n",
    "        ,['dydx', 'L2',['ethereum']]\n",
    "        ,['immutablex', 'L2',['ethereum']]\n",
    "        ,['apex-protocol', 'L2',['ethereum']]\n",
    "        # ,['brine.fi', 'L2',['ethereum']] #no longer listed\n",
    "        ,['loopring', 'L2',['ethereum']]\n",
    "        ,['aztec', 'L2',['ethereum']]\n",
    "    ]"
   ]
  },
  {
   "cell_type": "code",
   "execution_count": 3,
   "metadata": {},
   "outputs": [
    {
     "name": "stdout",
     "output_type": "stream",
     "text": [
      "                    date           tvl          chain layer  \\\n",
      "4786 2024-01-22 13:38:59  3.559686e+07     Immutablex    L2   \n",
      "4787 2024-01-22 13:41:59  1.077423e+08       Loopring    L2   \n",
      "4788 2024-01-22 14:02:59  7.855720e+06          Aztec    L2   \n",
      "4789 2024-01-22 14:04:59  4.902326e+07           Aevo    L2   \n",
      "4790 2024-01-22 14:07:59  7.057174e+07  Apex-Protocol    L2   \n",
      "\n",
      "               defillama_slug    source  \n",
      "4786     protocols/immutablex  protocol  \n",
      "4787       protocols/loopring  protocol  \n",
      "4788          protocols/aztec  protocol  \n",
      "4789           protocols/aevo  protocol  \n",
      "4790  protocols/apex-protocol  protocol  \n"
     ]
    }
   ],
   "source": [
    "p_agg = []\n",
    "for p in protocols:\n",
    "    try:\n",
    "        d = dfl.get_single_tvl(p[0], p[2])\n",
    "        # print(f\"Raw content for {p}: {d}\")\n",
    "        d['chain_prot'] = p[0].title()\n",
    "        d['layer'] = p[1]\n",
    "        d['defillama_slug'] = 'protocols/' + p[0]\n",
    "        d['source'] = 'protocol'\n",
    "        # d['prot_chain'] = c\n",
    "        p_agg.append(d)\n",
    "    except json.JSONDecodeError as e:\n",
    "        print(f\"Error decoding JSON for {p}: {e}\")\n",
    "        continue  # Continue to the next iteration of the loop\n",
    "    except Exception as e:\n",
    "        print(f\"An unexpected error occurred for {p}: {e}\")\n",
    "        continue  # Continue to the next iteration of the loop\n",
    "\n",
    "df = pd.concat(p_agg)\n",
    "\n",
    "df_sum = df.groupby(['date', 'chain_prot', 'layer', 'defillama_slug', 'source']).sum(['usd_value'])\n",
    "df_sum.reset_index(inplace=True)\n",
    "\n",
    "df_sum = df_sum[['date', 'usd_value', 'chain_prot', 'layer', 'defillama_slug', 'source']]\n",
    "df_sum = df_sum.rename(columns={'chain_prot': 'chain', 'usd_value': 'tvl'})\n",
    "\n",
    "print(df_sum.tail(5))\n"
   ]
  },
  {
   "cell_type": "code",
   "execution_count": 4,
   "metadata": {},
   "outputs": [],
   "source": [
    "c_agg = []\n",
    "for c in chains:\n",
    "        d = dfl.get_historical_chain_tvl(c[0])\n",
    "        d['chain'] = c[0]\n",
    "        d['layer'] = c[1]\n",
    "        d['defillama_slug'] = c[0]\n",
    "        d['source'] = 'chain'\n",
    "        c_agg.append(d)\n",
    "\n",
    "df_ch = pd.concat(c_agg)\n",
    "df = pd.concat([df_ch,df_sum])\n",
    "# Rename\n",
    "df['chain'] = df['chain'].str.replace('%20', ' ', regex=False)\n",
    "df['chain'] = df['chain'].str.replace('-', ' ', regex=False)\n",
    "df.loc[df['chain'] == 'Optimism', 'chain'] = 'OP Mainnet'\n",
    "df.loc[df['chain'] == 'BSC', 'chain'] = 'BNB'\n",
    "df.loc[df['chain'] == 'Brine.Fi', 'chain'] = 'Brine'\n",
    "df.loc[df['chain'] == 'Immutablex', 'chain'] = 'ImmutableX'\n",
    "\n",
    "\n",
    "df = df[df['date'] <= current_utc_date ] #rm dupes at current datetime\n",
    "\n",
    "df['date'] = pd.to_datetime(df['date']) - timedelta(days=1) #map to the prior day, since dfl adds an extra day"
   ]
  },
  {
   "cell_type": "code",
   "execution_count": 5,
   "metadata": {},
   "outputs": [],
   "source": [
    "# Add Metadata\n",
    "chain_meta = pd.read_csv('../op_chains_tracking/inputs/chain_metadata.csv')\n",
    "chain_meta = chain_meta.applymap(lambda x: x.strip() if isinstance(x, str) else x)\n",
    "\n",
    "meta_cols = ['defillama_slug', 'is_op_chain','mainnet_chain_id','op_based_version']\n",
    "\n",
    "df = df.merge(chain_meta[meta_cols], on='defillama_slug', how = 'left')"
   ]
  },
  {
   "cell_type": "code",
   "execution_count": 6,
   "metadata": {},
   "outputs": [],
   "source": [
    "df = ops.generate_alignment_column(df)"
   ]
  },
  {
   "cell_type": "code",
   "execution_count": 7,
   "metadata": {},
   "outputs": [],
   "source": [
    "# #Fill \n",
    "# df = df.fillna('')"
   ]
  },
  {
   "cell_type": "code",
   "execution_count": 8,
   "metadata": {},
   "outputs": [
    {
     "name": "stdout",
     "output_type": "stream",
     "text": [
      "            date           tvl       chain layer   defillama_slug    source  \\\n",
      "19824 2023-11-03  7.124228e+06       Aztec    L2  protocols/aztec  protocol   \n",
      "13228 2021-01-09  3.766000e+05     Polygon    L1          Polygon     chain   \n",
      "12233 2021-08-03  3.264468e+08        Celo    L1             Celo     chain   \n",
      "9536  2023-10-10  4.651183e+07      Fantom    L1           Fantom     chain   \n",
      "13775 2022-07-10  1.397888e+09     Polygon    L1          Polygon     chain   \n",
      "12399 2022-01-16  7.335349e+08        Celo    L1             Celo     chain   \n",
      "1948  2023-12-01  2.185253e+09    Arbitrum    L2         Arbitrum     chain   \n",
      "9758  2021-05-31  2.102377e+08   Avalanche    L1        Avalanche     chain   \n",
      "12385 2022-01-02  7.429772e+08        Celo    L1             Celo     chain   \n",
      "2254  2023-01-20  0.000000e+00  ZkSync Era    L2       ZkSync Era     chain   \n",
      "\n",
      "      is_op_chain mainnet_chain_id op_based_version      alignment  \n",
      "19824         NaN              NaN              NaN  OP Stack Fork  \n",
      "13228         NaN              NaN              NaN  OP Stack Fork  \n",
      "12233         NaN              NaN              NaN  OP Stack Fork  \n",
      "9536          NaN              NaN              NaN  OP Stack Fork  \n",
      "13775         NaN              NaN              NaN  OP Stack Fork  \n",
      "12399         NaN              NaN              NaN  OP Stack Fork  \n",
      "1948          NaN              NaN              NaN  OP Stack Fork  \n",
      "9758          NaN              NaN              NaN  OP Stack Fork  \n",
      "12385         NaN              NaN              NaN  OP Stack Fork  \n",
      "2254          NaN              NaN              NaN  OP Stack Fork  \n"
     ]
    }
   ],
   "source": [
    "print(df.sample(10))\n",
    "# print(df[df['chain'] == 'Aevo'])\n",
    "\n",
    "# print(df['chain'].unique())"
   ]
  },
  {
   "cell_type": "code",
   "execution_count": 9,
   "metadata": {},
   "outputs": [
    {
     "name": "stdout",
     "output_type": "stream",
     "text": [
      "table at: dune.oplabspbc.dataset_dfl_chain_tvl\n",
      "Response status code: 200\n",
      "Response content: b'{\"success\":true,\"table_name\":\"dfl_chain_tvl\"}'\n"
     ]
    }
   ],
   "source": [
    "# Write to Dune\n",
    "du.write_dune_api_from_pandas(df, 'dfl_chain_tvl',\\\n",
    "                             'TVL for select chains from DefiLlama')"
   ]
  }
 ],
 "metadata": {
  "kernelspec": {
   "display_name": "new-env",
   "language": "python",
   "name": "python3"
  },
  "language_info": {
   "codemirror_mode": {
    "name": "ipython",
    "version": 3
   },
   "file_extension": ".py",
   "mimetype": "text/x-python",
   "name": "python",
   "nbconvert_exporter": "python",
   "pygments_lexer": "ipython3",
   "version": "3.10.11"
  },
  "orig_nbformat": 4
 },
 "nbformat": 4,
 "nbformat_minor": 2
}
