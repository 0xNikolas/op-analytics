{
 "cells": [
  {
   "cell_type": "code",
   "execution_count": 1,
   "metadata": {},
   "outputs": [
    {
     "name": "stdout",
     "output_type": "stream",
     "text": [
      "2023-12-12 00:00:00\n"
     ]
    }
   ],
   "source": [
    "import pandas as pd\n",
    "import sys\n",
    "import numpy as np\n",
    "from datetime import datetime, timedelta\n",
    "sys.path.append(\"../helper_functions\")\n",
    "import defillama_utils as dfl\n",
    "import duneapi_utils as du\n",
    "import opstack_metadata_utils as ops\n",
    "sys.path.pop()\n",
    "\n",
    "current_utc_date = datetime.utcnow().replace(hour=0, minute=0, second=0, microsecond=0)\n",
    "print(current_utc_date)"
   ]
  },
  {
   "cell_type": "code",
   "execution_count": 2,
   "metadata": {},
   "outputs": [],
   "source": [
    "chains = [\n",
    "    #L2s\n",
    "     ['Optimism', 'L2']\n",
    "    ,['Base', 'L2']\n",
    "    ,['Arbitrum', 'L2']\n",
    "    #non-dune L2s\n",
    "    ,['ZkSync Era', 'L2']\n",
    "    ,['Polygon zkEVM', 'L2']\n",
    "    ,['Starknet', 'L2']\n",
    "    ,['Linea', 'L2']\n",
    "    ,['Mantle', 'L2']\n",
    "    ,['Scroll', 'L2']\n",
    "    ,['Boba', 'L2']\n",
    "    ,['Metis', 'L2']\n",
    "    ,['opBNB', 'L2']\n",
    "    ,['Rollux', 'L2']\n",
    "    ,['Manta', 'L2']\n",
    "    ,['Kroma','L2']\n",
    "    ,['Arbitrum%20Nova','L2']\n",
    "    #L1\n",
    "    ,['Ethereum', 'L1']\n",
    "    #Others\n",
    "    ,['Fantom', 'L1']\n",
    "    ,['Avalanche', 'L1']\n",
    "    ,['Gnosis' , 'L1']\n",
    "    ,['Celo', 'L1']\n",
    "    ,['Polygon', 'L1']\n",
    "    ,['BSC', 'L1']\n",
    "]\n",
    "\n",
    "protocols = [\n",
    "         ['aevo', 'L2',['optimism','arbitrum','ethereum']]\n",
    "        ,['dydx', 'L2',['ethereum']]\n",
    "        ,['immutablex', 'L2',['ethereum']]\n",
    "        ,['apex-protocol', 'L2',['ethereum']]\n",
    "        ,['brine.fi', 'L2',['ethereum']]\n",
    "        ,['loopring', 'L2',['ethereum']]\n",
    "        ,['aztec', 'L2',['ethereum']]\n",
    "    ]"
   ]
  },
  {
   "cell_type": "code",
   "execution_count": 3,
   "metadata": {},
   "outputs": [
    {
     "name": "stdout",
     "output_type": "stream",
     "text": [
      "                    date           tvl          chain layer\n",
      "4678 2023-12-12 16:02:11  6.036167e+07  Apex-Protocol    L2\n",
      "4679 2023-12-12 16:02:11  5.292938e+05       Brine.Fi    L2\n",
      "4680 2023-12-12 16:02:11  3.615990e+08           Dydx    L2\n",
      "4681 2023-12-12 16:02:11  3.700159e+07     Immutablex    L2\n",
      "4682 2023-12-12 16:02:11  1.062360e+08       Loopring    L2\n"
     ]
    }
   ],
   "source": [
    "p_agg = []\n",
    "for p in protocols:\n",
    "        d = dfl.get_single_tvl(p[0],p[2])\n",
    "        d['chain_prot'] = p[0].title()\n",
    "        d['layer'] = p[1]\n",
    "        d['defillama_slug'] = 'protocols/' + p[0]\n",
    "        # d['prot_chain'] = c\n",
    "        p_agg.append(d)\n",
    "df = pd.concat(p_agg)\n",
    "\n",
    "df_sum = df.groupby(['date','chain_prot','layer']).sum(['usd_value'])\n",
    "df_sum.reset_index(inplace=True)\n",
    "\n",
    "df_sum = df_sum[['date','usd_value','chain_prot','layer']]\n",
    "df_sum = df_sum.rename(columns={'chain_prot':'chain','usd_value':'tvl'})\n",
    "\n",
    "print(df_sum.tail(5))"
   ]
  },
  {
   "cell_type": "code",
   "execution_count": 4,
   "metadata": {},
   "outputs": [],
   "source": [
    "c_agg = []\n",
    "for c in chains:\n",
    "        d = dfl.get_historical_chain_tvl(c[0])\n",
    "        d['chain'] = c[0]\n",
    "        d['layer'] = c[1]\n",
    "        d['defillama_slug'] = c[0]\n",
    "        c_agg.append(d)\n",
    "\n",
    "df_ch = pd.concat(c_agg)\n",
    "df = pd.concat([df_ch,df_sum])\n",
    "# Rename\n",
    "df['chain'] = df['chain'].str.replace('%20', ' ', regex=False)\n",
    "df['chain'] = df['chain'].str.replace('-', ' ', regex=False)\n",
    "df.loc[df['chain'] == 'Optimism', 'chain'] = 'OP Mainnet'\n",
    "df.loc[df['chain'] == 'BSC', 'chain'] = 'BNB'\n",
    "df.loc[df['chain'] == 'Brine.Fi', 'chain'] = 'Brine'\n",
    "df.loc[df['chain'] == 'Immutablex', 'chain'] = 'ImmutableX'\n",
    "\n",
    "\n",
    "df = df[df['date'] <= current_utc_date ] #rm dupes at current datetime\n",
    "\n",
    "df['date'] = pd.to_datetime(df['date']) - timedelta(days=1) #map to the prior day, since dfl adds an extra day"
   ]
  },
  {
   "cell_type": "code",
   "execution_count": 5,
   "metadata": {},
   "outputs": [],
   "source": [
    "# Add Metadata\n",
    "chain_meta = pd.read_csv('../op_chains_tracking/inputs/chain_metadata.csv')\n",
    "chain_meta = chain_meta.applymap(lambda x: x.strip() if isinstance(x, str) else x)\n",
    "\n",
    "meta_cols = ['defillama_slug', 'is_op_chain','mainnet_chain_id','op_based_version']\n",
    "\n",
    "df = df.merge(chain_meta[meta_cols], on='defillama_slug', how = 'left')"
   ]
  },
  {
   "cell_type": "code",
   "execution_count": 6,
   "metadata": {},
   "outputs": [],
   "source": [
    "df = ops.generate_alignment_column(df)"
   ]
  },
  {
   "cell_type": "code",
   "execution_count": 7,
   "metadata": {},
   "outputs": [],
   "source": [
    "# #Fill \n",
    "# df = df.fillna('')"
   ]
  },
  {
   "cell_type": "code",
   "execution_count": 8,
   "metadata": {},
   "outputs": [
    {
     "name": "stdout",
     "output_type": "stream",
     "text": [
      "            date           tvl       chain layer defillama_slug is_op_chain  \\\n",
      "18490 2023-08-25  3.772449e+07  ImmutableX    L2            NaN         NaN   \n",
      "1498  2022-11-28  9.285899e+08    Arbitrum    L2       Arbitrum         NaN   \n",
      "3914  2023-02-16  4.477289e+06        Boba    L2           Boba          no   \n",
      "17934 2023-05-29  3.541149e+08        Dydx    L2            NaN         NaN   \n",
      "1252  2022-03-27  1.790158e+09    Arbitrum    L2       Arbitrum         NaN   \n",
      "14972 2021-04-23  0.000000e+00        Dydx    L2            NaN         NaN   \n",
      "15780 2021-12-30  1.020013e+07       Aztec    L2            NaN         NaN   \n",
      "9538  2022-10-31  1.350276e+09   Avalanche    L1      Avalanche         NaN   \n",
      "9190  2021-11-17  9.588225e+09   Avalanche    L1      Avalanche         NaN   \n",
      "5062  2023-11-30  2.853587e+06       opBNB    L2          opBNB          no   \n",
      "\n",
      "      mainnet_chain_id op_based_version      alignment  \n",
      "18490              NaN              NaN     Other EVMs  \n",
      "1498               NaN              NaN     Other EVMs  \n",
      "3914               288       legacy ovm  OP Stack Fork  \n",
      "17934              NaN              NaN     Other EVMs  \n",
      "1252               NaN              NaN     Other EVMs  \n",
      "14972              NaN              NaN     Other EVMs  \n",
      "15780              NaN              NaN     Other EVMs  \n",
      "9538               NaN              NaN     Other EVMs  \n",
      "9190               NaN              NaN     Other EVMs  \n",
      "5062               204          bedrock  OP Stack Fork  \n",
      "['OP Mainnet' 'Base' 'Arbitrum' 'ZkSync Era' 'Polygon zkEVM' 'Starknet'\n",
      " 'Linea' 'Mantle' 'Scroll' 'Boba' 'Metis' 'opBNB' 'Rollux' 'Manta' 'Kroma'\n",
      " 'Arbitrum Nova' 'Ethereum' 'Fantom' 'Avalanche' 'Gnosis' 'Celo' 'Polygon'\n",
      " 'BNB' 'Loopring' 'Dydx' 'Aztec' 'ImmutableX' 'Aevo' 'Apex Protocol'\n",
      " 'Brine']\n"
     ]
    }
   ],
   "source": [
    "print(df.sample(10))\n",
    "# print(df[df['chain'] == 'Boba'].tail(10))\n",
    "\n",
    "print(df['chain'].unique())"
   ]
  },
  {
   "cell_type": "code",
   "execution_count": 9,
   "metadata": {},
   "outputs": [
    {
     "name": "stdout",
     "output_type": "stream",
     "text": [
      "table at: dune.oplabspbc.dataset_dfl_chain_tvl\n",
      "Response status code: 200\n",
      "Response content: b'{\"success\":true,\"table_name\":\"dfl_chain_tvl\"}'\n"
     ]
    }
   ],
   "source": [
    "# Write to Dune\n",
    "du.write_dune_api_from_pandas(df, 'dfl_chain_tvl',\\\n",
    "                             'TVL for select chains from DefiLlama')"
   ]
  }
 ],
 "metadata": {
  "kernelspec": {
   "display_name": "new-env",
   "language": "python",
   "name": "python3"
  },
  "language_info": {
   "codemirror_mode": {
    "name": "ipython",
    "version": 3
   },
   "file_extension": ".py",
   "mimetype": "text/x-python",
   "name": "python",
   "nbconvert_exporter": "python",
   "pygments_lexer": "ipython3",
   "version": "3.10.11"
  },
  "orig_nbformat": 4
 },
 "nbformat": 4,
 "nbformat_minor": 2
}
