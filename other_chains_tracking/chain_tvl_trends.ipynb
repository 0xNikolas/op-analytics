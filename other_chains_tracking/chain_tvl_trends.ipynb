{
 "cells": [
  {
   "cell_type": "code",
   "execution_count": null,
   "metadata": {},
   "outputs": [],
   "source": [
    "import pandas as pd\n",
    "import sys\n",
    "import numpy as np\n",
    "import json\n",
    "from datetime import datetime, timedelta\n",
    "sys.path.append(\"../helper_functions\")\n",
    "import defillama_utils as dfl\n",
    "import duneapi_utils as du\n",
    "import opstack_metadata_utils as ops\n",
    "sys.path.pop()\n",
    "\n",
    "current_utc_date = datetime.utcnow().replace(hour=0, minute=0, second=0, microsecond=0)\n",
    "print(current_utc_date)"
   ]
  },
  {
   "cell_type": "code",
   "execution_count": null,
   "metadata": {},
   "outputs": [],
   "source": [
    "# OPStack Metadata will auto pull, but we can also add curated protocols here (we handle for dupes)\n",
    "curated_chains = [\n",
    "    #L2s\n",
    "     ['Optimism', 'L2']\n",
    "    ,['Base', 'L2']\n",
    "    ,['Arbitrum', 'L2']\n",
    "    #non-dune L2s\n",
    "    ,['ZkSync Era', 'L2']\n",
    "    ,['Polygon zkEVM', 'L2']\n",
    "    ,['Starknet', 'L2']\n",
    "    ,['Linea', 'L2']\n",
    "    ,['Mantle', 'L2']\n",
    "    ,['Scroll', 'L2']\n",
    "    ,['Boba', 'L2']\n",
    "    ,['Metis', 'L2']\n",
    "    ,['opBNB', 'L2']\n",
    "    ,['Rollux', 'L2']\n",
    "    ,['Manta', 'L2']\n",
    "    ,['Kroma','L2']\n",
    "    ,['Arbitrum%20Nova','L2']\n",
    "    #L1\n",
    "    ,['Ethereum', 'L1']\n",
    "    #Others\n",
    "    ,['Fantom', 'L1']\n",
    "    ,['Avalanche', 'L1']\n",
    "    ,['Gnosis' , 'L1']\n",
    "    ,['Celo', 'L1']\n",
    "    ,['Polygon', 'L1']\n",
    "    ,['BSC', 'L1']\n",
    "]\n",
    "\n",
    "curated_protocols = [\n",
    "         ['aevo', 'L2',['optimism','arbitrum','ethereum']]\n",
    "        ,['dydx', 'L2',['ethereum']]\n",
    "        ,['immutablex', 'L2',['ethereum']]\n",
    "        ,['apex-protocol', 'L2',['ethereum']]\n",
    "        # ,['brine.fi', 'L2',['ethereum']] #no longer listed\n",
    "        ,['loopring', 'L2',['ethereum']]\n",
    "        ,['aztec', 'L2',['ethereum']]\n",
    "        ,['lyra-v2', 'L2', ['ethereum']]\n",
    "    ]"
   ]
  },
  {
   "cell_type": "code",
   "execution_count": null,
   "metadata": {},
   "outputs": [],
   "source": [
    "opstack_metadata = pd.read_csv('../op_chains_tracking/outputs/chain_metadata.csv')\n",
    "#filter to defillama chains\n",
    "opstack_metadata = opstack_metadata[~opstack_metadata['defillama_slug'].isna()]\n",
    "# opstack_chains\n",
    "opstack_metadata = opstack_metadata[['defillama_slug','chain_layer']]\n",
    "\n",
    "opstack_chains = opstack_metadata[~opstack_metadata['defillama_slug'].str.contains('protocol')]\n",
    "opstack_protocols = opstack_metadata[opstack_metadata['defillama_slug'].str.contains('protocol')]\n",
    "#clean column\n",
    "opstack_protocols['defillama_slug'] = opstack_protocols['defillama_slug'].str.replace('protocol/','')\n",
    "# Use apply to create an array with one element\n",
    "opstack_protocols['chain_list'] = opstack_protocols.apply(lambda x: ['ethereum'], axis=1) #guess, we can manually override if not"
   ]
  },
  {
   "cell_type": "code",
   "execution_count": null,
   "metadata": {},
   "outputs": [],
   "source": [
    "# Create new lists\n",
    "chains = curated_chains.copy()\n",
    "protocols = curated_protocols.copy()\n",
    "\n",
    "# Iterate through the DataFrame and append data to 'chains'\n",
    "for index, row in opstack_chains.iterrows():\n",
    "    if all(row['defillama_slug'] != item[0] for item in chains):\n",
    "        chains.append([row['defillama_slug'], row['chain_layer']])\n",
    "# Iterate through the DataFrame and append data to 'chains'\n",
    "for index, row in opstack_protocols.iterrows():\n",
    "    if all(row['defillama_slug'] != item[0] for item in protocols):\n",
    "        protocols.append([row['defillama_slug'], row['chain_layer'],row['chain_list']])"
   ]
  },
  {
   "cell_type": "code",
   "execution_count": null,
   "metadata": {},
   "outputs": [],
   "source": [
    "p_agg = []\n",
    "for p in protocols:\n",
    "    try:\n",
    "        d = dfl.get_single_tvl(p[0], p[2], print_api_str=False) #Set print_api_str=True for debugging\n",
    "        # print(f\"Raw content for {p}: {d}\")\n",
    "        d['chain_prot'] = p[0].title()\n",
    "        d['layer'] = p[1]\n",
    "        d['defillama_slug'] = 'protocols/' + p[0]\n",
    "        d['source'] = 'protocol'\n",
    "        # d['prot_chain'] = c\n",
    "        p_agg.append(d)\n",
    "    except json.JSONDecodeError as e:\n",
    "        print(f\"Error decoding JSON for {p}: {e}\")\n",
    "        continue  # Continue to the next iteration of the loop\n",
    "    except Exception as e:\n",
    "        print(f\"An unexpected error occurred for {p}: {e}\")\n",
    "        continue  # Continue to the next iteration of the loop\n",
    "\n",
    "df = pd.concat(p_agg)\n",
    "df = df.fillna(0)\n",
    "# prob use total_app_tvl since it has more history and we're not yet doing flows\n",
    "df_sum = df.groupby(['date', 'chain_prot', 'layer', 'defillama_slug', 'source','total_app_tvl']).agg({'usd_value':'sum'}).reset_index()\n",
    "# print(df_sum.columns)\n",
    "# display(df_sum)\n",
    "\n",
    "df_sum = df_sum[['date', 'total_app_tvl', 'chain_prot', 'layer', 'defillama_slug', 'source']]\n",
    "df_sum = df_sum.rename(columns={'chain_prot': 'chain', 'total_app_tvl': 'tvl'})\n",
    "\n",
    "# print(df_sum.tail(5))\n"
   ]
  },
  {
   "cell_type": "code",
   "execution_count": null,
   "metadata": {},
   "outputs": [],
   "source": [
    "c_agg = []\n",
    "for c in chains:\n",
    "        try:\n",
    "                d = dfl.get_historical_chain_tvl(c[0])\n",
    "                d['chain'] = c[0]\n",
    "                d['layer'] = c[1]\n",
    "                d['defillama_slug'] = c[0]\n",
    "                d['source'] = 'chain'\n",
    "                c_agg.append(d)\n",
    "        except Exception as e:\n",
    "                print(f\"An unexpected error occurred for {c}: {e}\")\n",
    "                continue  # Continue to the next iteration of the loop\n",
    "\n",
    "\n",
    "df_ch = pd.concat(c_agg)\n",
    "df = pd.concat([df_ch,df_sum])\n",
    "# Rename\n",
    "df['chain'] = df['chain'].str.replace('%20', ' ', regex=False)\n",
    "df['chain'] = df['chain'].str.replace('-', ' ', regex=False)\n",
    "df.loc[df['chain'] == 'Optimism', 'chain'] = 'OP Mainnet'\n",
    "df.loc[df['chain'] == 'BSC', 'chain'] = 'BNB'\n",
    "df.loc[df['chain'] == 'Brine.Fi', 'chain'] = 'Brine'\n",
    "df.loc[df['chain'] == 'Immutablex', 'chain'] = 'ImmutableX'\n",
    "\n",
    "\n",
    "df = df[df['date'] <= current_utc_date ] #rm dupes at current datetime\n",
    "\n",
    "df['date'] = pd.to_datetime(df['date']) - timedelta(days=1) #map to the prior day, since dfl adds an extra day"
   ]
  },
  {
   "cell_type": "code",
   "execution_count": null,
   "metadata": {},
   "outputs": [],
   "source": [
    "# Add Metadata\n",
    "chain_meta = pd.read_csv('../op_chains_tracking/outputs/chain_metadata.csv')\n",
    "chain_meta = chain_meta.applymap(lambda x: x.strip() if isinstance(x, str) else x)\n",
    "\n",
    "meta_cols = ['defillama_slug', 'is_op_chain','mainnet_chain_id','op_based_version']\n",
    "\n",
    "df = df.merge(chain_meta[meta_cols], on='defillama_slug', how = 'left')"
   ]
  },
  {
   "cell_type": "code",
   "execution_count": null,
   "metadata": {},
   "outputs": [],
   "source": [
    "df = ops.generate_alignment_column(df)"
   ]
  },
  {
   "cell_type": "code",
   "execution_count": null,
   "metadata": {},
   "outputs": [],
   "source": [
    "# #Fill \n",
    "# df = df.fillna('')"
   ]
  },
  {
   "cell_type": "code",
   "execution_count": null,
   "metadata": {},
   "outputs": [],
   "source": [
    "\n",
    "print(df.sample(10))\n",
    "# print(df[df['chain'] == 'Aevo'])\n",
    "\n",
    "# print(df['chain'].unique())"
   ]
  },
  {
   "cell_type": "code",
   "execution_count": null,
   "metadata": {},
   "outputs": [],
   "source": [
    "# Write to Dune\n",
    "du.write_dune_api_from_pandas(df, 'dfl_chain_tvl',\\\n",
    "                             'TVL for select chains from DefiLlama')"
   ]
  }
 ],
 "metadata": {
  "kernelspec": {
   "display_name": "new-env",
   "language": "python",
   "name": "python3"
  },
  "language_info": {
   "codemirror_mode": {
    "name": "ipython",
    "version": 3
   },
   "file_extension": ".py",
   "mimetype": "text/x-python",
   "name": "python",
   "nbconvert_exporter": "python",
   "pygments_lexer": "ipython3",
   "version": "3.10.8"
  },
  "orig_nbformat": 4
 },
 "nbformat": 4,
 "nbformat_minor": 2
}
