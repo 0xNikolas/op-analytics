{
 "cells": [
  {
   "cell_type": "code",
   "execution_count": 1,
   "metadata": {},
   "outputs": [
    {
     "name": "stdout",
     "output_type": "stream",
     "text": [
      "2024-01-27 00:00:00\n"
     ]
    }
   ],
   "source": [
    "import pandas as pd\n",
    "import sys\n",
    "import numpy as np\n",
    "import json\n",
    "from datetime import datetime, timedelta\n",
    "sys.path.append(\"../helper_functions\")\n",
    "import defillama_utils as dfl\n",
    "import duneapi_utils as du\n",
    "import opstack_metadata_utils as ops\n",
    "sys.path.pop()\n",
    "\n",
    "current_utc_date = datetime.utcnow().replace(hour=0, minute=0, second=0, microsecond=0)\n",
    "print(current_utc_date)"
   ]
  },
  {
   "cell_type": "code",
   "execution_count": 2,
   "metadata": {},
   "outputs": [],
   "source": [
    "# OPStack Metadata will auto pull, but we can also add curated protocols here (we handle for dupes)\n",
    "curated_chains = [\n",
    "    #L2s\n",
    "     ['Optimism', 'L2']\n",
    "    ,['Base', 'L2']\n",
    "    ,['Arbitrum', 'L2']\n",
    "    #non-dune L2s\n",
    "    ,['ZkSync Era', 'L2']\n",
    "    ,['Polygon zkEVM', 'L2']\n",
    "    ,['Starknet', 'L2']\n",
    "    ,['Linea', 'L2']\n",
    "    ,['Mantle', 'L2']\n",
    "    ,['Scroll', 'L2']\n",
    "    ,['Boba', 'L2']\n",
    "    ,['Metis', 'L2']\n",
    "    ,['opBNB', 'L2']\n",
    "    ,['Rollux', 'L2']\n",
    "    ,['Manta', 'L2']\n",
    "    ,['Kroma','L2']\n",
    "    ,['Arbitrum%20Nova','L2']\n",
    "    #L1\n",
    "    ,['Ethereum', 'L1']\n",
    "    #Others\n",
    "    ,['Fantom', 'L1']\n",
    "    ,['Avalanche', 'L1']\n",
    "    ,['Gnosis' , 'L1']\n",
    "    ,['Celo', 'L1']\n",
    "    ,['Polygon', 'L1']\n",
    "    ,['BSC', 'L1']\n",
    "]\n",
    "\n",
    "curated_protocols = [\n",
    "         ['aevo', 'L2',['optimism','arbitrum','ethereum']]\n",
    "        ,['dydx', 'L2',['ethereum']]\n",
    "        ,['immutablex', 'L2',['ethereum']]\n",
    "        ,['apex-protocol', 'L2',['ethereum']]\n",
    "        # ,['brine.fi', 'L2',['ethereum']] #no longer listed\n",
    "        ,['loopring', 'L2',['ethereum']]\n",
    "        ,['aztec', 'L2',['ethereum']]\n",
    "        ,['lyra-v2', 'L2', ['ethereum']]\n",
    "    ]"
   ]
  },
  {
   "cell_type": "code",
   "execution_count": 3,
   "metadata": {},
   "outputs": [
    {
     "name": "stderr",
     "output_type": "stream",
     "text": [
      "/var/folders/xb/s7wz9wjj1x9b5w92rvtsqw_80000gn/T/ipykernel_83383/1882423906.py:10: SettingWithCopyWarning: \n",
      "A value is trying to be set on a copy of a slice from a DataFrame.\n",
      "Try using .loc[row_indexer,col_indexer] = value instead\n",
      "\n",
      "See the caveats in the documentation: https://pandas.pydata.org/pandas-docs/stable/user_guide/indexing.html#returning-a-view-versus-a-copy\n",
      "  opstack_protocols['defillama_slug'] = opstack_protocols['defillama_slug'].str.replace('protocol/','')\n",
      "/var/folders/xb/s7wz9wjj1x9b5w92rvtsqw_80000gn/T/ipykernel_83383/1882423906.py:12: SettingWithCopyWarning: \n",
      "A value is trying to be set on a copy of a slice from a DataFrame.\n",
      "Try using .loc[row_indexer,col_indexer] = value instead\n",
      "\n",
      "See the caveats in the documentation: https://pandas.pydata.org/pandas-docs/stable/user_guide/indexing.html#returning-a-view-versus-a-copy\n",
      "  opstack_protocols['chain_list'] = opstack_protocols.apply(lambda x: ['ethereum'], axis=1) #guess, we can manually override if not\n"
     ]
    }
   ],
   "source": [
    "opstack_metadata = pd.read_csv('../op_chains_tracking/outputs/chain_metadata.csv')\n",
    "#filter to defillama chains\n",
    "tvl_opstack_metadata = opstack_metadata[~opstack_metadata['defillama_slug'].isna()].copy()\n",
    "# opstack_chains\n",
    "tvl_opstack_metadata = tvl_opstack_metadata[['defillama_slug','chain_layer']]\n",
    "\n",
    "opstack_chains = tvl_opstack_metadata[~tvl_opstack_metadata['defillama_slug'].str.contains('protocol')].copy()\n",
    "opstack_protocols = tvl_opstack_metadata[tvl_opstack_metadata['defillama_slug'].str.contains('protocol')].copy()\n",
    "#clean column\n",
    "opstack_protocols['defillama_slug'] = opstack_protocols['defillama_slug'].str.replace('protocol/','')\n",
    "# Use apply to create an array with one element\n",
    "opstack_protocols['chain_list'] = opstack_protocols.apply(lambda x: ['ethereum'], axis=1) #guess, we can manually override if not"
   ]
  },
  {
   "cell_type": "code",
   "execution_count": 4,
   "metadata": {},
   "outputs": [],
   "source": [
    "# Create new lists\n",
    "chains = curated_chains.copy()\n",
    "protocols = curated_protocols.copy()\n",
    "\n",
    "# Iterate through the DataFrame and append data to 'chains'\n",
    "for index, row in opstack_chains.iterrows():\n",
    "    if all(row['defillama_slug'] != item[0] for item in chains):\n",
    "        chains.append([row['defillama_slug'], row['chain_layer']])\n",
    "# Iterate through the DataFrame and append data to 'chains'\n",
    "for index, row in opstack_protocols.iterrows():\n",
    "    if all(row['defillama_slug'] != item[0] for item in protocols):\n",
    "        protocols.append([row['defillama_slug'], row['chain_layer'],row['chain_list']])"
   ]
  },
  {
   "cell_type": "code",
   "execution_count": 5,
   "metadata": {},
   "outputs": [],
   "source": [
    "p_agg = []\n",
    "for p in protocols:\n",
    "    try:\n",
    "        d = dfl.get_single_tvl(p[0], p[2], print_api_str=False) #Set print_api_str=True for debugging\n",
    "        # print(f\"Raw content for {p}: {d}\")\n",
    "        d['chain_prot'] = p[0].title()\n",
    "        d['layer'] = p[1]\n",
    "        d['defillama_slug'] = 'protocols/' + p[0]\n",
    "        d['source'] = 'protocol'\n",
    "        # d['prot_chain'] = c\n",
    "        p_agg.append(d)\n",
    "    except json.JSONDecodeError as e:\n",
    "        print(f\"Error decoding JSON for {p}: {e}\")\n",
    "        continue  # Continue to the next iteration of the loop\n",
    "    except Exception as e:\n",
    "        print(f\"An unexpected error occurred for {p}: {e}\")\n",
    "        continue  # Continue to the next iteration of the loop\n",
    "\n",
    "df = pd.concat(p_agg)\n",
    "df = df.fillna(0)\n",
    "# prob use total_app_tvl since it has more history and we're not yet doing flows\n",
    "df_sum = df.groupby(['date', 'chain_prot', 'layer', 'defillama_slug', 'source','total_app_tvl']).agg({'usd_value':'sum'}).reset_index()\n",
    "# print(df_sum.columns)\n",
    "# display(df_sum)\n",
    "\n",
    "df_sum = df_sum[['date', 'total_app_tvl', 'chain_prot', 'layer', 'defillama_slug', 'source']]\n",
    "df_sum = df_sum.rename(columns={'chain_prot': 'chain', 'total_app_tvl': 'tvl'})\n",
    "\n",
    "# print(df_sum.tail(5))\n"
   ]
  },
  {
   "cell_type": "code",
   "execution_count": 6,
   "metadata": {},
   "outputs": [
    {
     "name": "stdout",
     "output_type": "stream",
     "text": [
      "An unexpected error occurred for ['Zora', 'L2']: 'date'\n"
     ]
    }
   ],
   "source": [
    "c_agg = []\n",
    "for c in chains:\n",
    "        try:\n",
    "                d = dfl.get_historical_chain_tvl(c[0])\n",
    "                d['chain'] = c[0]\n",
    "                d['layer'] = c[1]\n",
    "                d['defillama_slug'] = c[0]\n",
    "                d['source'] = 'chain'\n",
    "                c_agg.append(d)\n",
    "        except Exception as e:\n",
    "                print(f\"An unexpected error occurred for {c}: {e}\")\n",
    "                continue  # Continue to the next iteration of the loop\n",
    "\n",
    "\n",
    "df_ch = pd.concat(c_agg)\n",
    "df = pd.concat([df_ch,df_sum])\n",
    "# Rename\n",
    "df['chain'] = df['chain'].str.replace('%20', ' ', regex=False)\n",
    "df['chain'] = df['chain'].str.replace('-', ' ', regex=False)\n",
    "df.loc[df['chain'] == 'Optimism', 'chain'] = 'OP Mainnet'\n",
    "df.loc[df['chain'] == 'BSC', 'chain'] = 'BNB'\n",
    "df.loc[df['chain'] == 'Brine.Fi', 'chain'] = 'Brine'\n",
    "df.loc[df['chain'] == 'Immutablex', 'chain'] = 'ImmutableX'\n",
    "\n",
    "\n",
    "df = df[df['date'] <= current_utc_date ] #rm dupes at current datetime\n",
    "\n",
    "df['date'] = pd.to_datetime(df['date']) - timedelta(days=1) #map to the prior day, since dfl adds an extra day"
   ]
  },
  {
   "cell_type": "code",
   "execution_count": 7,
   "metadata": {},
   "outputs": [],
   "source": [
    "# Add Metadata\n",
    "meta_cols = ['defillama_slug', 'is_op_chain','mainnet_chain_id','op_based_version']\n",
    "\n",
    "df = df.merge(opstack_metadata[meta_cols], on='defillama_slug', how = 'left')"
   ]
  },
  {
   "cell_type": "code",
   "execution_count": 8,
   "metadata": {},
   "outputs": [],
   "source": [
    "df = ops.generate_alignment_column(df)"
   ]
  },
  {
   "cell_type": "code",
   "execution_count": 9,
   "metadata": {},
   "outputs": [],
   "source": [
    "# #Fill \n",
    "# df = df.fillna('')"
   ]
  },
  {
   "cell_type": "code",
   "execution_count": 10,
   "metadata": {},
   "outputs": [
    {
     "name": "stdout",
     "output_type": "stream",
     "text": [
      "            date           tvl       chain layer        defillama_slug  \\\n",
      "4871  2022-05-14  5.554761e+07       Metis    L2                 Metis   \n",
      "3417  2023-08-08  1.032016e+07       Linea    L2                 Linea   \n",
      "16879 2021-12-15  1.025852e+09        Dydx    L2        protocols/dydx   \n",
      "15728 2024-01-26  1.231723e+04        Mode    L2                  Mode   \n",
      "17332 2022-04-07  1.142916e+08  ImmutableX    L2  protocols/immutablex   \n",
      "2129  2022-07-31  0.000000e+00  ZkSync Era    L2            ZkSync Era   \n",
      "17359 2022-04-14  1.002745e+09        Dydx    L2        protocols/dydx   \n",
      "1453  2022-06-11  9.281381e+08    Arbitrum    L2              Arbitrum   \n",
      "10    2021-07-23  5.790660e+07  OP Mainnet    L2              Optimism   \n",
      "1585  2022-10-21  9.268900e+08    Arbitrum    L2              Arbitrum   \n",
      "\n",
      "         source is_op_chain  mainnet_chain_id op_based_version      alignment  \n",
      "4871      chain         NaN            1088.0       legacy ovm  OP Stack Fork  \n",
      "3417      chain         NaN               NaN              NaN  OP Stack Fork  \n",
      "16879  protocol         NaN               NaN              NaN  OP Stack Fork  \n",
      "15728     chain         yes           34443.0          bedrock       OP Chain  \n",
      "17332  protocol         NaN               NaN              NaN  OP Stack Fork  \n",
      "2129      chain         NaN               NaN              NaN  OP Stack Fork  \n",
      "17359  protocol         NaN               NaN              NaN  OP Stack Fork  \n",
      "1453      chain         NaN               NaN              NaN  OP Stack Fork  \n",
      "10        chain         yes              10.0          bedrock       OP Chain  \n",
      "1585      chain         NaN               NaN              NaN  OP Stack Fork  \n"
     ]
    }
   ],
   "source": [
    "\n",
    "print(df.sample(10))\n",
    "# print(df[df['chain'] == 'Aevo'])\n",
    "\n",
    "# print(df['chain'].unique())"
   ]
  },
  {
   "cell_type": "code",
   "execution_count": 11,
   "metadata": {},
   "outputs": [
    {
     "name": "stdout",
     "output_type": "stream",
     "text": [
      "table at: dune.oplabspbc.dataset_dfl_chain_tvl\n",
      "Response status code: 200\n",
      "Response content: b'{\"success\":true,\"table_name\":\"dfl_chain_tvl\"}'\n"
     ]
    }
   ],
   "source": [
    "# Write to Dune\n",
    "du.write_dune_api_from_pandas(df, 'dfl_chain_tvl',\\\n",
    "                             'TVL for select chains from DefiLlama')"
   ]
  }
 ],
 "metadata": {
  "kernelspec": {
   "display_name": "new-env",
   "language": "python",
   "name": "python3"
  },
  "language_info": {
   "codemirror_mode": {
    "name": "ipython",
    "version": 3
   },
   "file_extension": ".py",
   "mimetype": "text/x-python",
   "name": "python",
   "nbconvert_exporter": "python",
   "pygments_lexer": "ipython3",
   "version": "3.10.8"
  },
  "orig_nbformat": 4
 },
 "nbformat": 4,
 "nbformat_minor": 2
}
