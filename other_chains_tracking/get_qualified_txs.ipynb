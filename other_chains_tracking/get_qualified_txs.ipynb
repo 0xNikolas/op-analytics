{
 "cells": [
  {
   "cell_type": "code",
   "execution_count": 13,
   "metadata": {
    "metadata": {}
   },
   "outputs": [
    {
     "name": "stdout",
     "output_type": "stream",
     "text": [
      "get qualified txs\n"
     ]
    }
   ],
   "source": [
    "print('get qualified txs')\n",
    "import sys\n",
    "sys.path.append(\"../helper_functions\")\n",
    "import duneapi_utils as d\n",
    "import flipside_utils as f\n",
    "import clickhouse_utils as ch\n",
    "import csv_utils as cu\n",
    "import google_bq_utils as bqu\n",
    "sys.path.pop()\n",
    "\n",
    "import time\n",
    "\n",
    "import numpy as np\n",
    "import pandas as pd\n",
    "import os\n",
    "import clickhouse_connect as cc"
   ]
  },
  {
   "cell_type": "code",
   "execution_count": 14,
   "metadata": {
    "metadata": {}
   },
   "outputs": [],
   "source": [
    "ch_client = ch.connect_to_clickhouse_db() #Default is OPLabs DB\n",
    "\n",
    "query_name = 'daily_evms_qualified_txs_counts'"
   ]
  },
  {
   "cell_type": "code",
   "execution_count": 15,
   "metadata": {},
   "outputs": [],
   "source": [
    "col_list = [\n",
    "        'dt','blockchain','name','layer','chain_id'\n",
    "        , 'num_raw_txs', 'num_success_txs','num_qualified_txs','source'\n",
    "        ]"
   ]
  },
  {
   "cell_type": "code",
   "execution_count": 16,
   "metadata": {
    "metadata": {}
   },
   "outputs": [],
   "source": [
    "trailing_days = 28\n",
    "flipside_configs = [\n",
    "        {'blockchain': 'blast', 'chain_id': 238, 'name': 'Blast', 'layer': 'L2'}\n",
    "]\n",
    "clickhouse_configs = [\n",
    "        {'blockchain': 'metal', 'chain_id': 1750,'name': 'Metal', 'layer': 'L2'},\n",
    "        {'blockchain': 'mode', 'chain_id': 34443,'name': 'Mode', 'layer': 'L2'},\n",
    "        {'blockchain': 'bob', 'chain_id': 60808,'name': 'BOB (Build on Bitcoin)', 'layer': 'L2'},\n",
    "        {'blockchain': 'fraxtal', 'chain_id': 252,'name': 'Fraxtal', 'layer': 'L2'},\n",
    "        {'blockchain': 'cyber', 'chain_id': 7560,'name': 'Cyber', 'layer': 'L2'},\n",
    "]"
   ]
  },
  {
   "cell_type": "code",
   "execution_count": 17,
   "metadata": {
    "metadata": {}
   },
   "outputs": [
    {
     "name": "stdout",
     "output_type": "stream",
     "text": [
      "     flipside runs\n",
      "flipside: blast\n"
     ]
    }
   ],
   "source": [
    "# Run Flipside\n",
    "print('     flipside runs')\n",
    "flip_dfs = []\n",
    "with open(os.path.join(\"inputs/sql/flipside_bychain.sql\"), \"r\") as file:\n",
    "                        og_query = file.read()\n",
    "\n",
    "for chain in flipside_configs:\n",
    "        print(     'flipside: ' + chain['blockchain'])\n",
    "        query = og_query\n",
    "        #Pass in Params to the query\n",
    "        query = query.replace(\"@blockchain@\", chain['blockchain'])\n",
    "        query = query.replace(\"@chain_id@\", str(chain['chain_id']))\n",
    "        query = query.replace(\"@name@\", chain['name'])\n",
    "        query = query.replace(\"@layer@\", chain['layer'])\n",
    "        query = query.replace(\"@trailing_days@\", str(trailing_days))\n",
    "        \n",
    "        df = f.query_to_df(query)\n",
    "\n",
    "        flip_dfs.append(df)\n",
    "\n",
    "flip = pd.concat(flip_dfs)\n",
    "flip['source'] = 'flipside'\n",
    "flip['dt'] = pd.to_datetime(flip['dt']).dt.tz_localize(None)\n",
    "flip = flip[col_list]\n"
   ]
  },
  {
   "cell_type": "code",
   "execution_count": 18,
   "metadata": {
    "metadata": {}
   },
   "outputs": [
    {
     "name": "stderr",
     "output_type": "stream",
     "text": [
      "\u001b[32m2024-06-16 11:53:59.845\u001b[0m | \u001b[1mINFO    \u001b[0m | \u001b[36mduneapi_utils\u001b[0m:\u001b[36mget_dune_data\u001b[0m:\u001b[36m59\u001b[0m - \u001b[1mResults available at https://dune.com/queries/3740822?trailing_days=28\u001b[0m\n"
     ]
    },
    {
     "name": "stdout",
     "output_type": "stream",
     "text": [
      "     dune runs\n"
     ]
    },
    {
     "name": "stderr",
     "output_type": "stream",
     "text": [
      "2024-06-16 11:54:02,083 INFO dune_client.api.base executing 3740822 on large cluster\n",
      "2024-06-16 11:54:02,755 INFO dune_client.api.base waiting for query execution 01J0GW2TN8A1BKSJXBGGMBFF31 to complete: ExecutionState.PENDING (queue position: 1)\n",
      "2024-06-16 11:54:04,106 INFO dune_client.api.base waiting for query execution 01J0GW2TN8A1BKSJXBGGMBFF31 to complete: ExecutionState.PENDING (queue position: 1)\n",
      "2024-06-16 11:54:05,520 INFO dune_client.api.base waiting for query execution 01J0GW2TN8A1BKSJXBGGMBFF31 to complete: ExecutionState.PENDING (queue position: 1)\n",
      "2024-06-16 11:54:06,957 INFO dune_client.api.base waiting for query execution 01J0GW2TN8A1BKSJXBGGMBFF31 to complete: ExecutionState.PENDING (queue position: 1)\n",
      "2024-06-16 11:54:08,281 INFO dune_client.api.base waiting for query execution 01J0GW2TN8A1BKSJXBGGMBFF31 to complete: ExecutionState.PENDING (queue position: 1)\n",
      "2024-06-16 11:54:09,715 INFO dune_client.api.base waiting for query execution 01J0GW2TN8A1BKSJXBGGMBFF31 to complete: ExecutionState.PENDING (queue position: 1)\n",
      "2024-06-16 11:54:11,044 INFO dune_client.api.base waiting for query execution 01J0GW2TN8A1BKSJXBGGMBFF31 to complete: ExecutionState.PENDING (queue position: 1)\n",
      "2024-06-16 11:54:12,481 INFO dune_client.api.base waiting for query execution 01J0GW2TN8A1BKSJXBGGMBFF31 to complete: ExecutionState.PENDING (queue position: 1)\n",
      "2024-06-16 11:54:13,782 INFO dune_client.api.base waiting for query execution 01J0GW2TN8A1BKSJXBGGMBFF31 to complete: ExecutionState.PENDING (queue position: 1)\n",
      "2024-06-16 11:54:15,144 INFO dune_client.api.base waiting for query execution 01J0GW2TN8A1BKSJXBGGMBFF31 to complete: ExecutionState.PENDING (queue position: 1)\n",
      "2024-06-16 11:54:16,440 INFO dune_client.api.base waiting for query execution 01J0GW2TN8A1BKSJXBGGMBFF31 to complete: ExecutionState.PENDING (queue position: 1)\n",
      "2024-06-16 11:54:17,753 INFO dune_client.api.base waiting for query execution 01J0GW2TN8A1BKSJXBGGMBFF31 to complete: ExecutionState.PENDING (queue position: 1)\n",
      "2024-06-16 11:54:19,138 INFO dune_client.api.base waiting for query execution 01J0GW2TN8A1BKSJXBGGMBFF31 to complete: ExecutionState.PENDING (queue position: 1)\n",
      "2024-06-16 11:54:20,578 INFO dune_client.api.base waiting for query execution 01J0GW2TN8A1BKSJXBGGMBFF31 to complete: ExecutionState.EXECUTING\n",
      "2024-06-16 11:54:21,884 INFO dune_client.api.base waiting for query execution 01J0GW2TN8A1BKSJXBGGMBFF31 to complete: ExecutionState.EXECUTING\n",
      "2024-06-16 11:54:23,338 INFO dune_client.api.base waiting for query execution 01J0GW2TN8A1BKSJXBGGMBFF31 to complete: ExecutionState.EXECUTING\n",
      "2024-06-16 11:54:24,623 INFO dune_client.api.base waiting for query execution 01J0GW2TN8A1BKSJXBGGMBFF31 to complete: ExecutionState.EXECUTING\n",
      "2024-06-16 11:54:25,905 INFO dune_client.api.base waiting for query execution 01J0GW2TN8A1BKSJXBGGMBFF31 to complete: ExecutionState.EXECUTING\n",
      "2024-06-16 11:54:27,200 INFO dune_client.api.base waiting for query execution 01J0GW2TN8A1BKSJXBGGMBFF31 to complete: ExecutionState.EXECUTING\n",
      "2024-06-16 11:54:28,562 INFO dune_client.api.base waiting for query execution 01J0GW2TN8A1BKSJXBGGMBFF31 to complete: ExecutionState.EXECUTING\n",
      "2024-06-16 11:54:29,890 INFO dune_client.api.base waiting for query execution 01J0GW2TN8A1BKSJXBGGMBFF31 to complete: ExecutionState.EXECUTING\n",
      "2024-06-16 11:54:31,205 INFO dune_client.api.base waiting for query execution 01J0GW2TN8A1BKSJXBGGMBFF31 to complete: ExecutionState.EXECUTING\n",
      "2024-06-16 11:54:32,555 INFO dune_client.api.base waiting for query execution 01J0GW2TN8A1BKSJXBGGMBFF31 to complete: ExecutionState.EXECUTING\n",
      "2024-06-16 11:54:33,988 INFO dune_client.api.base waiting for query execution 01J0GW2TN8A1BKSJXBGGMBFF31 to complete: ExecutionState.EXECUTING\n",
      "2024-06-16 11:54:35,333 INFO dune_client.api.base waiting for query execution 01J0GW2TN8A1BKSJXBGGMBFF31 to complete: ExecutionState.EXECUTING\n",
      "2024-06-16 11:54:36,621 INFO dune_client.api.base waiting for query execution 01J0GW2TN8A1BKSJXBGGMBFF31 to complete: ExecutionState.EXECUTING\n",
      "2024-06-16 11:54:37,952 INFO dune_client.api.base waiting for query execution 01J0GW2TN8A1BKSJXBGGMBFF31 to complete: ExecutionState.EXECUTING\n",
      "2024-06-16 11:54:39,313 INFO dune_client.api.base waiting for query execution 01J0GW2TN8A1BKSJXBGGMBFF31 to complete: ExecutionState.EXECUTING\n",
      "2024-06-16 11:54:40,656 INFO dune_client.api.base waiting for query execution 01J0GW2TN8A1BKSJXBGGMBFF31 to complete: ExecutionState.EXECUTING\n",
      "2024-06-16 11:54:42,076 INFO dune_client.api.base waiting for query execution 01J0GW2TN8A1BKSJXBGGMBFF31 to complete: ExecutionState.EXECUTING\n",
      "2024-06-16 11:54:43,509 INFO dune_client.api.base waiting for query execution 01J0GW2TN8A1BKSJXBGGMBFF31 to complete: ExecutionState.EXECUTING\n",
      "2024-06-16 11:54:44,860 INFO dune_client.api.base waiting for query execution 01J0GW2TN8A1BKSJXBGGMBFF31 to complete: ExecutionState.EXECUTING\n",
      "2024-06-16 11:54:46,276 INFO dune_client.api.base waiting for query execution 01J0GW2TN8A1BKSJXBGGMBFF31 to complete: ExecutionState.EXECUTING\n",
      "2024-06-16 11:54:47,633 INFO dune_client.api.base waiting for query execution 01J0GW2TN8A1BKSJXBGGMBFF31 to complete: ExecutionState.EXECUTING\n",
      "2024-06-16 11:54:48,981 INFO dune_client.api.base waiting for query execution 01J0GW2TN8A1BKSJXBGGMBFF31 to complete: ExecutionState.EXECUTING\n",
      "2024-06-16 11:54:50,365 INFO dune_client.api.base waiting for query execution 01J0GW2TN8A1BKSJXBGGMBFF31 to complete: ExecutionState.EXECUTING\n",
      "2024-06-16 11:54:51,746 INFO dune_client.api.base waiting for query execution 01J0GW2TN8A1BKSJXBGGMBFF31 to complete: ExecutionState.EXECUTING\n",
      "2024-06-16 11:54:53,092 INFO dune_client.api.base waiting for query execution 01J0GW2TN8A1BKSJXBGGMBFF31 to complete: ExecutionState.EXECUTING\n",
      "2024-06-16 11:54:54,424 INFO dune_client.api.base waiting for query execution 01J0GW2TN8A1BKSJXBGGMBFF31 to complete: ExecutionState.EXECUTING\n",
      "2024-06-16 11:54:55,799 INFO dune_client.api.base waiting for query execution 01J0GW2TN8A1BKSJXBGGMBFF31 to complete: ExecutionState.EXECUTING\n",
      "2024-06-16 11:54:57,233 INFO dune_client.api.base waiting for query execution 01J0GW2TN8A1BKSJXBGGMBFF31 to complete: ExecutionState.EXECUTING\n",
      "2024-06-16 11:54:58,594 INFO dune_client.api.base waiting for query execution 01J0GW2TN8A1BKSJXBGGMBFF31 to complete: ExecutionState.EXECUTING\n",
      "2024-06-16 11:54:59,995 INFO dune_client.api.base waiting for query execution 01J0GW2TN8A1BKSJXBGGMBFF31 to complete: ExecutionState.EXECUTING\n",
      "2024-06-16 11:55:01,353 INFO dune_client.api.base waiting for query execution 01J0GW2TN8A1BKSJXBGGMBFF31 to complete: ExecutionState.EXECUTING\n",
      "2024-06-16 11:55:02,710 INFO dune_client.api.base waiting for query execution 01J0GW2TN8A1BKSJXBGGMBFF31 to complete: ExecutionState.EXECUTING\n",
      "2024-06-16 11:55:04,091 INFO dune_client.api.base waiting for query execution 01J0GW2TN8A1BKSJXBGGMBFF31 to complete: ExecutionState.EXECUTING\n",
      "2024-06-16 11:55:05,526 INFO dune_client.api.base waiting for query execution 01J0GW2TN8A1BKSJXBGGMBFF31 to complete: ExecutionState.EXECUTING\n",
      "2024-06-16 11:55:06,909 INFO dune_client.api.base waiting for query execution 01J0GW2TN8A1BKSJXBGGMBFF31 to complete: ExecutionState.EXECUTING\n",
      "2024-06-16 11:55:08,237 INFO dune_client.api.base waiting for query execution 01J0GW2TN8A1BKSJXBGGMBFF31 to complete: ExecutionState.EXECUTING\n",
      "2024-06-16 11:55:09,621 INFO dune_client.api.base waiting for query execution 01J0GW2TN8A1BKSJXBGGMBFF31 to complete: ExecutionState.EXECUTING\n",
      "2024-06-16 11:55:11,061 INFO dune_client.api.base waiting for query execution 01J0GW2TN8A1BKSJXBGGMBFF31 to complete: ExecutionState.EXECUTING\n",
      "2024-06-16 11:55:12,491 INFO dune_client.api.base waiting for query execution 01J0GW2TN8A1BKSJXBGGMBFF31 to complete: ExecutionState.EXECUTING\n",
      "2024-06-16 11:55:13,830 INFO dune_client.api.base waiting for query execution 01J0GW2TN8A1BKSJXBGGMBFF31 to complete: ExecutionState.EXECUTING\n",
      "2024-06-16 11:55:15,256 INFO dune_client.api.base waiting for query execution 01J0GW2TN8A1BKSJXBGGMBFF31 to complete: ExecutionState.EXECUTING\n",
      "2024-06-16 11:55:16,626 INFO dune_client.api.base waiting for query execution 01J0GW2TN8A1BKSJXBGGMBFF31 to complete: ExecutionState.EXECUTING\n",
      "2024-06-16 11:55:18,013 INFO dune_client.api.base waiting for query execution 01J0GW2TN8A1BKSJXBGGMBFF31 to complete: ExecutionState.EXECUTING\n",
      "2024-06-16 11:55:19,434 INFO dune_client.api.base waiting for query execution 01J0GW2TN8A1BKSJXBGGMBFF31 to complete: ExecutionState.EXECUTING\n",
      "2024-06-16 11:55:20,886 INFO dune_client.api.base waiting for query execution 01J0GW2TN8A1BKSJXBGGMBFF31 to complete: ExecutionState.EXECUTING\n",
      "2024-06-16 11:55:22,324 INFO dune_client.api.base waiting for query execution 01J0GW2TN8A1BKSJXBGGMBFF31 to complete: ExecutionState.EXECUTING\n",
      "2024-06-16 11:55:23,755 INFO dune_client.api.base waiting for query execution 01J0GW2TN8A1BKSJXBGGMBFF31 to complete: ExecutionState.EXECUTING\n",
      "2024-06-16 11:55:25,071 INFO dune_client.api.base waiting for query execution 01J0GW2TN8A1BKSJXBGGMBFF31 to complete: ExecutionState.EXECUTING\n",
      "2024-06-16 11:55:26,517 INFO dune_client.api.base waiting for query execution 01J0GW2TN8A1BKSJXBGGMBFF31 to complete: ExecutionState.EXECUTING\n",
      "2024-06-16 11:55:27,891 INFO dune_client.api.base waiting for query execution 01J0GW2TN8A1BKSJXBGGMBFF31 to complete: ExecutionState.EXECUTING\n"
     ]
    }
   ],
   "source": [
    "# Run Dune\n",
    "print('     dune runs')\n",
    "days_param = d.generate_query_parameter(input=trailing_days,field_name='trailing_days',dtype='number')\n",
    "dune_df = d.get_dune_data(query_id = 3740822, #https://dune.com/queries/3740822\n",
    "    name = \"dune_evms_qualified_txs\",\n",
    "    path = \"outputs\",\n",
    "    performance=\"large\",\n",
    "    params = [days_param],\n",
    "    num_hours_to_rerun=12\n",
    ")\n",
    "dune_df['source'] = 'dune'\n",
    "dune_df['dt'] = pd.to_datetime(dune_df['dt']).dt.tz_localize(None)\n",
    "dune_df = dune_df[col_list]"
   ]
  },
  {
   "cell_type": "code",
   "execution_count": null,
   "metadata": {
    "metadata": {}
   },
   "outputs": [],
   "source": [
    "# Run Clickhouse\n",
    "print('     clickhouse runs')\n",
    "ch_dfs = []\n",
    "with open(os.path.join(\"inputs/sql/goldsky_bychain.sql\"), \"r\") as file:\n",
    "                        og_query = file.read()\n",
    "\n",
    "for chain in clickhouse_configs:\n",
    "        print(     'clickhouse: ' + chain['blockchain'])\n",
    "        query = og_query\n",
    "        #Pass in Params to the query\n",
    "        query = query.replace(\"@blockchain@\", chain['blockchain'])\n",
    "        query = query.replace(\"@chain_id@\", str(chain['chain_id']))\n",
    "        query = query.replace(\"@name@\", chain['name'])\n",
    "        query = query.replace(\"@layer@\", chain['layer'])\n",
    "        query = query.replace(\"@trailing_days@\", str(trailing_days))\n",
    "        \n",
    "        df = ch_client.query_df(query)\n",
    "\n",
    "        ch_dfs.append(df)\n",
    "\n",
    "ch = pd.concat(ch_dfs)\n",
    "ch['source'] = 'goldsky'\n",
    "ch['dt'] = pd.to_datetime(ch['dt']).dt.tz_localize(None)\n",
    "ch = ch[col_list]"
   ]
  },
  {
   "cell_type": "code",
   "execution_count": null,
   "metadata": {
    "metadata": {}
   },
   "outputs": [],
   "source": [
    "# Step 1: Filter dune_df for chains not in flip\n",
    "filtered_dune_df = dune_df[~dune_df['chain_id'].isin(flip['chain_id'])]\n",
    "# Step 2: Union flip and filtered_dune_df\n",
    "combined_flip_dune = pd.concat([flip, filtered_dune_df])\n",
    "# Step 3: Filter ch for chains not in combined_flip_dune\n",
    "filtered_ch = ch[~ch['chain_id'].isin(combined_flip_dune['chain_id'])]\n",
    "# Step 4: Union the result with filtered_ch\n",
    "final_df = pd.concat([combined_flip_dune, filtered_ch])\n",
    "# final_df\n"
   ]
  },
  {
   "cell_type": "code",
   "execution_count": null,
   "metadata": {},
   "outputs": [],
   "source": [
    "opstack_metadata = pd.read_csv('../op_chains_tracking/outputs/chain_metadata.csv')\n",
    "\n",
    "opstack_metadata['chain_id'] = opstack_metadata['mainnet_chain_id']\n",
    "\n",
    "meta_cols = ['is_op_chain','op_based_version', 'chain_id', 'alignment','chain_name', 'display_name']\n",
    "\n",
    "print(\"Columns in opstack_metadata:\", opstack_metadata.columns)\n",
    "print(\"Columns in opstack_metadata[meta_cols]:\", opstack_metadata[meta_cols].columns)\n",
    "print(\"Columns in final_df:\", final_df.columns)\n"
   ]
  },
  {
   "cell_type": "code",
   "execution_count": null,
   "metadata": {
    "metadata": {}
   },
   "outputs": [],
   "source": [
    "final_enriched_df = final_df.merge(opstack_metadata[meta_cols], on='chain_id', how = 'left')\n",
    "final_enriched_df['alignment'] = final_enriched_df['alignment'].fillna('Other EVMs')\n",
    "final_enriched_df['is_op_chain'] = final_enriched_df['is_op_chain'].fillna(False)\n",
    "final_enriched_df['display_name'] = final_enriched_df['display_name'].fillna(final_enriched_df['name'])\n",
    "\n",
    "final_enriched_df = final_enriched_df.drop(columns=['name'])"
   ]
  },
  {
   "cell_type": "code",
   "execution_count": null,
   "metadata": {
    "metadata": {}
   },
   "outputs": [],
   "source": [
    "final_enriched_df.sort_values(by=['dt','blockchain'], ascending =[False, False], inplace = True)\n",
    "\n",
    "final_enriched_df.to_csv('outputs/'+query_name+'.csv', index=False)"
   ]
  },
  {
   "cell_type": "code",
   "execution_count": null,
   "metadata": {},
   "outputs": [],
   "source": [
    "#BQ Upload\n",
    "bqu.append_and_upsert_df_to_bq_table(final_enriched_df, query_name, unique_keys = ['chain_id','dt'])"
   ]
  }
 ],
 "metadata": {
  "kernelspec": {
   "display_name": "new-env",
   "language": "python",
   "name": "python3"
  },
  "language_info": {
   "codemirror_mode": {
    "name": "ipython",
    "version": 3
   },
   "file_extension": ".py",
   "mimetype": "text/x-python",
   "name": "python",
   "nbconvert_exporter": "python",
   "pygments_lexer": "ipython3",
   "version": "3.12.3"
  }
 },
 "nbformat": 4,
 "nbformat_minor": 2
}
