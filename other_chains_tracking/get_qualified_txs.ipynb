{
 "cells": [
  {
   "cell_type": "code",
   "execution_count": 1,
   "metadata": {
    "metadata": {}
   },
   "outputs": [
    {
     "name": "stdout",
     "output_type": "stream",
     "text": [
      "get qualified txs\n"
     ]
    }
   ],
   "source": [
    "print('get qualified txs')\n",
    "import sys\n",
    "sys.path.append(\"../helper_functions\")\n",
    "import duneapi_utils as d\n",
    "import flipside_utils as f\n",
    "import clickhouse_utils as ch\n",
    "import csv_utils as cu\n",
    "import google_bq_utils as bqu\n",
    "sys.path.pop()\n",
    "\n",
    "import numpy as np\n",
    "import pandas as pd\n",
    "import os\n",
    "import clickhouse_connect as cc"
   ]
  },
  {
   "cell_type": "code",
   "execution_count": 2,
   "metadata": {
    "metadata": {}
   },
   "outputs": [],
   "source": [
    "ch_client = ch.connect_to_clickhouse_db() #Default is OPLabs DB\n",
    "\n",
    "query_name = 'daily_evms_qualified_txs_counts'"
   ]
  },
  {
   "cell_type": "code",
   "execution_count": 3,
   "metadata": {
    "metadata": {}
   },
   "outputs": [],
   "source": [
    "flipside_configs = [\n",
    "        {'blockchain': 'blast', 'name': 'Blast', 'layer': 'L2', 'trailing_days': 365}\n",
    "]\n",
    "clickhouse_configs = [\n",
    "        {'blockchain': 'metal', 'name': 'Metal', 'layer': 'L2', 'trailing_days': 365},\n",
    "        {'blockchain': 'mode', 'name': 'Mode', 'layer': 'L2', 'trailing_days': 365},\n",
    "        {'blockchain': 'bob', 'name': 'BOB (Build on Bitcoin)', 'layer': 'L2', 'trailing_days': 365},\n",
    "        {'blockchain': 'fraxtal', 'name': 'Fraxtal', 'layer': 'L2', 'trailing_days': 365},\n",
    "]"
   ]
  },
  {
   "cell_type": "code",
   "execution_count": 4,
   "metadata": {
    "metadata": {}
   },
   "outputs": [
    {
     "name": "stdout",
     "output_type": "stream",
     "text": [
      "     flipside runs\n",
      "flipside: blast\n"
     ]
    }
   ],
   "source": [
    "# Run Flipside\n",
    "print('     flipside runs')\n",
    "flip_dfs = []\n",
    "with open(os.path.join(\"inputs/sql/flipside_bychain.sql\"), \"r\") as file:\n",
    "                        og_query = file.read()\n",
    "\n",
    "for chain in flipside_configs:\n",
    "        print(     'flipside: ' + chain['blockchain'])\n",
    "        query = og_query\n",
    "        #Pass in Params to the query\n",
    "        query = query.replace(\"@blockchain@\", chain['blockchain'])\n",
    "        query = query.replace(\"@name@\", chain['name'])\n",
    "        query = query.replace(\"@layer@\", chain['layer'])\n",
    "        query = query.replace(\"@trailing_days@\", str(chain['trailing_days']))\n",
    "        \n",
    "        df = f.query_to_df(query)\n",
    "\n",
    "        flip_dfs.append(df)\n",
    "\n",
    "flip = pd.concat(flip_dfs)\n",
    "flip['source'] = 'flipside'\n",
    "flip['dt'] = pd.to_datetime(flip['dt']).dt.tz_localize(None)\n",
    "flip = flip[['dt','blockchain','name','layer','num_qualified_txs','source']]\n"
   ]
  },
  {
   "cell_type": "code",
   "execution_count": 5,
   "metadata": {
    "metadata": {}
   },
   "outputs": [
    {
     "name": "stderr",
     "output_type": "stream",
     "text": [
      "\u001b[32m2024-06-02 17:46:51.020\u001b[0m | \u001b[1mINFO    \u001b[0m | \u001b[36mduneapi_utils\u001b[0m:\u001b[36mget_dune_data\u001b[0m:\u001b[36m44\u001b[0m - \u001b[1mResults available at https://dune.com/queries/3740822\u001b[0m\n"
     ]
    },
    {
     "name": "stdout",
     "output_type": "stream",
     "text": [
      "     dune runs\n"
     ]
    },
    {
     "name": "stderr",
     "output_type": "stream",
     "text": [
      "2024-06-02 17:46:51,866 INFO dune_client.base_client executing 3740822 on large cluster\n",
      "2024-06-02 17:46:52,976 INFO dune_client.base_client waiting for query execution 01HZDEPTJZC6RJX6NF64QFBRH7 to complete: ExecutionState.PENDING (queue position: 1)\n",
      "2024-06-02 17:46:58,422 INFO dune_client.base_client waiting for query execution 01HZDEPTJZC6RJX6NF64QFBRH7 to complete: ExecutionState.PENDING (queue position: 1)\n",
      "2024-06-02 17:47:03,889 INFO dune_client.base_client waiting for query execution 01HZDEPTJZC6RJX6NF64QFBRH7 to complete: ExecutionState.EXECUTING\n",
      "2024-06-02 17:47:09,340 INFO dune_client.base_client waiting for query execution 01HZDEPTJZC6RJX6NF64QFBRH7 to complete: ExecutionState.EXECUTING\n",
      "2024-06-02 17:47:14,783 INFO dune_client.base_client waiting for query execution 01HZDEPTJZC6RJX6NF64QFBRH7 to complete: ExecutionState.EXECUTING\n",
      "2024-06-02 17:47:20,271 INFO dune_client.base_client waiting for query execution 01HZDEPTJZC6RJX6NF64QFBRH7 to complete: ExecutionState.EXECUTING\n",
      "2024-06-02 17:47:25,691 INFO dune_client.base_client waiting for query execution 01HZDEPTJZC6RJX6NF64QFBRH7 to complete: ExecutionState.EXECUTING\n",
      "2024-06-02 17:47:31,127 INFO dune_client.base_client waiting for query execution 01HZDEPTJZC6RJX6NF64QFBRH7 to complete: ExecutionState.EXECUTING\n",
      "2024-06-02 17:47:36,630 INFO dune_client.base_client waiting for query execution 01HZDEPTJZC6RJX6NF64QFBRH7 to complete: ExecutionState.EXECUTING\n",
      "2024-06-02 17:47:42,037 INFO dune_client.base_client waiting for query execution 01HZDEPTJZC6RJX6NF64QFBRH7 to complete: ExecutionState.EXECUTING\n",
      "2024-06-02 17:47:47,468 INFO dune_client.base_client waiting for query execution 01HZDEPTJZC6RJX6NF64QFBRH7 to complete: ExecutionState.EXECUTING\n",
      "2024-06-02 17:47:53,024 INFO dune_client.base_client waiting for query execution 01HZDEPTJZC6RJX6NF64QFBRH7 to complete: ExecutionState.EXECUTING\n",
      "2024-06-02 17:47:58,477 INFO dune_client.base_client waiting for query execution 01HZDEPTJZC6RJX6NF64QFBRH7 to complete: ExecutionState.EXECUTING\n",
      "2024-06-02 17:48:04,031 INFO dune_client.base_client waiting for query execution 01HZDEPTJZC6RJX6NF64QFBRH7 to complete: ExecutionState.EXECUTING\n",
      "2024-06-02 17:48:09,506 INFO dune_client.base_client waiting for query execution 01HZDEPTJZC6RJX6NF64QFBRH7 to complete: ExecutionState.EXECUTING\n",
      "2024-06-02 17:48:14,932 INFO dune_client.base_client waiting for query execution 01HZDEPTJZC6RJX6NF64QFBRH7 to complete: ExecutionState.EXECUTING\n",
      "2024-06-02 17:48:20,374 INFO dune_client.base_client waiting for query execution 01HZDEPTJZC6RJX6NF64QFBRH7 to complete: ExecutionState.EXECUTING\n",
      "2024-06-02 17:48:25,986 INFO dune_client.base_client waiting for query execution 01HZDEPTJZC6RJX6NF64QFBRH7 to complete: ExecutionState.EXECUTING\n",
      "2024-06-02 17:48:31,517 INFO dune_client.base_client waiting for query execution 01HZDEPTJZC6RJX6NF64QFBRH7 to complete: ExecutionState.EXECUTING\n",
      "2024-06-02 17:48:37,025 INFO dune_client.base_client waiting for query execution 01HZDEPTJZC6RJX6NF64QFBRH7 to complete: ExecutionState.EXECUTING\n",
      "2024-06-02 17:48:42,456 INFO dune_client.base_client waiting for query execution 01HZDEPTJZC6RJX6NF64QFBRH7 to complete: ExecutionState.EXECUTING\n",
      "2024-06-02 17:48:47,895 INFO dune_client.base_client waiting for query execution 01HZDEPTJZC6RJX6NF64QFBRH7 to complete: ExecutionState.EXECUTING\n",
      "2024-06-02 17:48:53,341 INFO dune_client.base_client waiting for query execution 01HZDEPTJZC6RJX6NF64QFBRH7 to complete: ExecutionState.EXECUTING\n",
      "2024-06-02 17:48:58,778 INFO dune_client.base_client waiting for query execution 01HZDEPTJZC6RJX6NF64QFBRH7 to complete: ExecutionState.EXECUTING\n",
      "2024-06-02 17:49:04,218 INFO dune_client.base_client waiting for query execution 01HZDEPTJZC6RJX6NF64QFBRH7 to complete: ExecutionState.EXECUTING\n",
      "2024-06-02 17:49:09,671 INFO dune_client.base_client waiting for query execution 01HZDEPTJZC6RJX6NF64QFBRH7 to complete: ExecutionState.EXECUTING\n",
      "2024-06-02 17:49:15,087 INFO dune_client.base_client waiting for query execution 01HZDEPTJZC6RJX6NF64QFBRH7 to complete: ExecutionState.EXECUTING\n",
      "2024-06-02 17:49:20,564 INFO dune_client.base_client waiting for query execution 01HZDEPTJZC6RJX6NF64QFBRH7 to complete: ExecutionState.EXECUTING\n",
      "2024-06-02 17:49:26,053 INFO dune_client.base_client waiting for query execution 01HZDEPTJZC6RJX6NF64QFBRH7 to complete: ExecutionState.EXECUTING\n",
      "2024-06-02 17:49:31,528 INFO dune_client.base_client waiting for query execution 01HZDEPTJZC6RJX6NF64QFBRH7 to complete: ExecutionState.EXECUTING\n",
      "2024-06-02 17:49:37,024 INFO dune_client.base_client waiting for query execution 01HZDEPTJZC6RJX6NF64QFBRH7 to complete: ExecutionState.EXECUTING\n",
      "2024-06-02 17:49:42,516 INFO dune_client.base_client waiting for query execution 01HZDEPTJZC6RJX6NF64QFBRH7 to complete: ExecutionState.EXECUTING\n",
      "2024-06-02 17:49:48,121 INFO dune_client.base_client waiting for query execution 01HZDEPTJZC6RJX6NF64QFBRH7 to complete: ExecutionState.EXECUTING\n",
      "2024-06-02 17:49:53,549 INFO dune_client.base_client waiting for query execution 01HZDEPTJZC6RJX6NF64QFBRH7 to complete: ExecutionState.EXECUTING\n",
      "2024-06-02 17:49:59,006 INFO dune_client.base_client waiting for query execution 01HZDEPTJZC6RJX6NF64QFBRH7 to complete: ExecutionState.EXECUTING\n",
      "2024-06-02 17:50:04,560 INFO dune_client.base_client waiting for query execution 01HZDEPTJZC6RJX6NF64QFBRH7 to complete: ExecutionState.EXECUTING\n",
      "2024-06-02 17:50:09,989 INFO dune_client.base_client waiting for query execution 01HZDEPTJZC6RJX6NF64QFBRH7 to complete: ExecutionState.EXECUTING\n",
      "2024-06-02 17:50:15,463 INFO dune_client.base_client waiting for query execution 01HZDEPTJZC6RJX6NF64QFBRH7 to complete: ExecutionState.EXECUTING\n",
      "2024-06-02 17:50:20,906 INFO dune_client.base_client waiting for query execution 01HZDEPTJZC6RJX6NF64QFBRH7 to complete: ExecutionState.EXECUTING\n",
      "2024-06-02 17:50:26,436 INFO dune_client.base_client waiting for query execution 01HZDEPTJZC6RJX6NF64QFBRH7 to complete: ExecutionState.EXECUTING\n",
      "2024-06-02 17:50:31,878 INFO dune_client.base_client waiting for query execution 01HZDEPTJZC6RJX6NF64QFBRH7 to complete: ExecutionState.EXECUTING\n",
      "2024-06-02 17:50:37,353 INFO dune_client.base_client waiting for query execution 01HZDEPTJZC6RJX6NF64QFBRH7 to complete: ExecutionState.EXECUTING\n",
      "2024-06-02 17:50:42,906 INFO dune_client.base_client waiting for query execution 01HZDEPTJZC6RJX6NF64QFBRH7 to complete: ExecutionState.EXECUTING\n",
      "2024-06-02 17:50:48,380 INFO dune_client.base_client waiting for query execution 01HZDEPTJZC6RJX6NF64QFBRH7 to complete: ExecutionState.EXECUTING\n",
      "2024-06-02 17:50:53,965 INFO dune_client.base_client waiting for query execution 01HZDEPTJZC6RJX6NF64QFBRH7 to complete: ExecutionState.EXECUTING\n",
      "2024-06-02 17:50:59,442 INFO dune_client.base_client waiting for query execution 01HZDEPTJZC6RJX6NF64QFBRH7 to complete: ExecutionState.EXECUTING\n",
      "2024-06-02 17:51:04,865 INFO dune_client.base_client waiting for query execution 01HZDEPTJZC6RJX6NF64QFBRH7 to complete: ExecutionState.EXECUTING\n",
      "2024-06-02 17:51:10,349 INFO dune_client.base_client waiting for query execution 01HZDEPTJZC6RJX6NF64QFBRH7 to complete: ExecutionState.EXECUTING\n",
      "2024-06-02 17:51:15,836 INFO dune_client.base_client waiting for query execution 01HZDEPTJZC6RJX6NF64QFBRH7 to complete: ExecutionState.EXECUTING\n",
      "2024-06-02 17:51:21,288 INFO dune_client.base_client waiting for query execution 01HZDEPTJZC6RJX6NF64QFBRH7 to complete: ExecutionState.EXECUTING\n",
      "2024-06-02 17:51:26,764 INFO dune_client.base_client waiting for query execution 01HZDEPTJZC6RJX6NF64QFBRH7 to complete: ExecutionState.EXECUTING\n",
      "2024-06-02 17:51:32,328 INFO dune_client.base_client waiting for query execution 01HZDEPTJZC6RJX6NF64QFBRH7 to complete: ExecutionState.EXECUTING\n",
      "2024-06-02 17:51:37,790 INFO dune_client.base_client waiting for query execution 01HZDEPTJZC6RJX6NF64QFBRH7 to complete: ExecutionState.EXECUTING\n",
      "2024-06-02 17:51:43,280 INFO dune_client.base_client waiting for query execution 01HZDEPTJZC6RJX6NF64QFBRH7 to complete: ExecutionState.EXECUTING\n",
      "2024-06-02 17:51:48,739 INFO dune_client.base_client waiting for query execution 01HZDEPTJZC6RJX6NF64QFBRH7 to complete: ExecutionState.EXECUTING\n",
      "2024-06-02 17:51:54,247 INFO dune_client.base_client waiting for query execution 01HZDEPTJZC6RJX6NF64QFBRH7 to complete: ExecutionState.EXECUTING\n",
      "2024-06-02 17:51:59,683 INFO dune_client.base_client waiting for query execution 01HZDEPTJZC6RJX6NF64QFBRH7 to complete: ExecutionState.EXECUTING\n",
      "2024-06-02 17:52:05,125 INFO dune_client.base_client waiting for query execution 01HZDEPTJZC6RJX6NF64QFBRH7 to complete: ExecutionState.EXECUTING\n",
      "2024-06-02 17:52:10,766 INFO dune_client.base_client waiting for query execution 01HZDEPTJZC6RJX6NF64QFBRH7 to complete: ExecutionState.EXECUTING\n",
      "2024-06-02 17:52:16,360 INFO dune_client.base_client waiting for query execution 01HZDEPTJZC6RJX6NF64QFBRH7 to complete: ExecutionState.EXECUTING\n",
      "2024-06-02 17:52:21,792 INFO dune_client.base_client waiting for query execution 01HZDEPTJZC6RJX6NF64QFBRH7 to complete: ExecutionState.EXECUTING\n",
      "2024-06-02 17:52:27,312 INFO dune_client.base_client waiting for query execution 01HZDEPTJZC6RJX6NF64QFBRH7 to complete: ExecutionState.EXECUTING\n",
      "2024-06-02 17:52:32,793 INFO dune_client.base_client waiting for query execution 01HZDEPTJZC6RJX6NF64QFBRH7 to complete: ExecutionState.EXECUTING\n",
      "2024-06-02 17:52:38,255 INFO dune_client.base_client waiting for query execution 01HZDEPTJZC6RJX6NF64QFBRH7 to complete: ExecutionState.EXECUTING\n",
      "2024-06-02 17:52:43,683 INFO dune_client.base_client waiting for query execution 01HZDEPTJZC6RJX6NF64QFBRH7 to complete: ExecutionState.EXECUTING\n",
      "2024-06-02 17:52:49,133 INFO dune_client.base_client waiting for query execution 01HZDEPTJZC6RJX6NF64QFBRH7 to complete: ExecutionState.EXECUTING\n",
      "2024-06-02 17:52:54,582 INFO dune_client.base_client waiting for query execution 01HZDEPTJZC6RJX6NF64QFBRH7 to complete: ExecutionState.EXECUTING\n",
      "2024-06-02 17:53:00,019 INFO dune_client.base_client waiting for query execution 01HZDEPTJZC6RJX6NF64QFBRH7 to complete: ExecutionState.EXECUTING\n",
      "2024-06-02 17:53:05,605 INFO dune_client.base_client waiting for query execution 01HZDEPTJZC6RJX6NF64QFBRH7 to complete: ExecutionState.EXECUTING\n",
      "2024-06-02 17:53:11,093 INFO dune_client.base_client waiting for query execution 01HZDEPTJZC6RJX6NF64QFBRH7 to complete: ExecutionState.EXECUTING\n",
      "2024-06-02 17:53:16,543 INFO dune_client.base_client waiting for query execution 01HZDEPTJZC6RJX6NF64QFBRH7 to complete: ExecutionState.EXECUTING\n",
      "2024-06-02 17:53:22,015 INFO dune_client.base_client waiting for query execution 01HZDEPTJZC6RJX6NF64QFBRH7 to complete: ExecutionState.EXECUTING\n",
      "2024-06-02 17:53:27,696 INFO dune_client.base_client waiting for query execution 01HZDEPTJZC6RJX6NF64QFBRH7 to complete: ExecutionState.EXECUTING\n",
      "2024-06-02 17:53:33,145 INFO dune_client.base_client waiting for query execution 01HZDEPTJZC6RJX6NF64QFBRH7 to complete: ExecutionState.EXECUTING\n",
      "2024-06-02 17:53:38,562 INFO dune_client.base_client waiting for query execution 01HZDEPTJZC6RJX6NF64QFBRH7 to complete: ExecutionState.EXECUTING\n",
      "2024-06-02 17:53:44,013 INFO dune_client.base_client waiting for query execution 01HZDEPTJZC6RJX6NF64QFBRH7 to complete: ExecutionState.EXECUTING\n",
      "2024-06-02 17:53:49,474 INFO dune_client.base_client waiting for query execution 01HZDEPTJZC6RJX6NF64QFBRH7 to complete: ExecutionState.EXECUTING\n",
      "2024-06-02 17:53:55,010 INFO dune_client.base_client waiting for query execution 01HZDEPTJZC6RJX6NF64QFBRH7 to complete: ExecutionState.EXECUTING\n",
      "2024-06-02 17:54:00,444 INFO dune_client.base_client waiting for query execution 01HZDEPTJZC6RJX6NF64QFBRH7 to complete: ExecutionState.EXECUTING\n",
      "2024-06-02 17:54:05,874 INFO dune_client.base_client waiting for query execution 01HZDEPTJZC6RJX6NF64QFBRH7 to complete: ExecutionState.EXECUTING\n",
      "2024-06-02 17:54:11,334 INFO dune_client.base_client waiting for query execution 01HZDEPTJZC6RJX6NF64QFBRH7 to complete: ExecutionState.EXECUTING\n",
      "2024-06-02 17:54:16,800 INFO dune_client.base_client waiting for query execution 01HZDEPTJZC6RJX6NF64QFBRH7 to complete: ExecutionState.EXECUTING\n",
      "2024-06-02 17:54:22,250 INFO dune_client.base_client waiting for query execution 01HZDEPTJZC6RJX6NF64QFBRH7 to complete: ExecutionState.EXECUTING\n",
      "2024-06-02 17:54:27,712 INFO dune_client.base_client waiting for query execution 01HZDEPTJZC6RJX6NF64QFBRH7 to complete: ExecutionState.EXECUTING\n",
      "2024-06-02 17:54:33,204 INFO dune_client.base_client waiting for query execution 01HZDEPTJZC6RJX6NF64QFBRH7 to complete: ExecutionState.EXECUTING\n",
      "2024-06-02 17:54:38,729 INFO dune_client.base_client waiting for query execution 01HZDEPTJZC6RJX6NF64QFBRH7 to complete: ExecutionState.EXECUTING\n",
      "2024-06-02 17:54:44,216 INFO dune_client.base_client waiting for query execution 01HZDEPTJZC6RJX6NF64QFBRH7 to complete: ExecutionState.EXECUTING\n",
      "2024-06-02 17:54:49,646 INFO dune_client.base_client waiting for query execution 01HZDEPTJZC6RJX6NF64QFBRH7 to complete: ExecutionState.EXECUTING\n",
      "2024-06-02 17:54:55,096 INFO dune_client.base_client waiting for query execution 01HZDEPTJZC6RJX6NF64QFBRH7 to complete: ExecutionState.EXECUTING\n",
      "2024-06-02 17:55:00,529 INFO dune_client.base_client waiting for query execution 01HZDEPTJZC6RJX6NF64QFBRH7 to complete: ExecutionState.EXECUTING\n",
      "2024-06-02 17:55:05,956 INFO dune_client.base_client waiting for query execution 01HZDEPTJZC6RJX6NF64QFBRH7 to complete: ExecutionState.EXECUTING\n",
      "2024-06-02 17:55:11,380 INFO dune_client.base_client waiting for query execution 01HZDEPTJZC6RJX6NF64QFBRH7 to complete: ExecutionState.EXECUTING\n",
      "2024-06-02 17:55:16,841 INFO dune_client.base_client waiting for query execution 01HZDEPTJZC6RJX6NF64QFBRH7 to complete: ExecutionState.EXECUTING\n",
      "2024-06-02 17:55:22,277 INFO dune_client.base_client waiting for query execution 01HZDEPTJZC6RJX6NF64QFBRH7 to complete: ExecutionState.EXECUTING\n",
      "2024-06-02 17:55:27,731 INFO dune_client.base_client waiting for query execution 01HZDEPTJZC6RJX6NF64QFBRH7 to complete: ExecutionState.EXECUTING\n",
      "2024-06-02 17:55:33,157 INFO dune_client.base_client waiting for query execution 01HZDEPTJZC6RJX6NF64QFBRH7 to complete: ExecutionState.EXECUTING\n",
      "2024-06-02 17:55:38,611 INFO dune_client.base_client waiting for query execution 01HZDEPTJZC6RJX6NF64QFBRH7 to complete: ExecutionState.EXECUTING\n",
      "2024-06-02 17:55:44,054 INFO dune_client.base_client waiting for query execution 01HZDEPTJZC6RJX6NF64QFBRH7 to complete: ExecutionState.EXECUTING\n",
      "2024-06-02 17:55:49,597 INFO dune_client.base_client waiting for query execution 01HZDEPTJZC6RJX6NF64QFBRH7 to complete: ExecutionState.EXECUTING\n",
      "2024-06-02 17:55:55,071 INFO dune_client.base_client waiting for query execution 01HZDEPTJZC6RJX6NF64QFBRH7 to complete: ExecutionState.EXECUTING\n",
      "2024-06-02 17:56:00,531 INFO dune_client.base_client waiting for query execution 01HZDEPTJZC6RJX6NF64QFBRH7 to complete: ExecutionState.EXECUTING\n",
      "2024-06-02 17:56:05,972 INFO dune_client.base_client waiting for query execution 01HZDEPTJZC6RJX6NF64QFBRH7 to complete: ExecutionState.EXECUTING\n",
      "2024-06-02 17:56:11,401 INFO dune_client.base_client waiting for query execution 01HZDEPTJZC6RJX6NF64QFBRH7 to complete: ExecutionState.EXECUTING\n",
      "\u001b[32m2024-06-02 17:56:17.680\u001b[0m | \u001b[1mINFO    \u001b[0m | \u001b[36mduneapi_utils\u001b[0m:\u001b[36mget_dune_data\u001b[0m:\u001b[36m89\u001b[0m - \u001b[1m✨ Results saved as outputs/dune_evms_qualified_txs.csv, with 4589 rows and 6 columns.\u001b[0m\n"
     ]
    }
   ],
   "source": [
    "# Run Dune\n",
    "print('     dune runs')\n",
    "dune_df = d.get_dune_data(query_id = 3740822, #https://dune.com/queries/3740822\n",
    "    name = \"dune_evms_qualified_txs\",\n",
    "    path = \"outputs\",\n",
    "    performance=\"large\"\n",
    ")\n",
    "dune_df['source'] = 'dune'\n",
    "dune_df['dt'] = pd.to_datetime(dune_df['dt']).dt.tz_localize(None)\n",
    "dune_df = dune_df[['dt','blockchain','name','layer','num_qualified_txs','source']]"
   ]
  },
  {
   "cell_type": "code",
   "execution_count": 6,
   "metadata": {
    "metadata": {}
   },
   "outputs": [
    {
     "name": "stdout",
     "output_type": "stream",
     "text": [
      "     clickhouse runs\n",
      "clickhouse: metal\n",
      "clickhouse: mode\n",
      "clickhouse: bob\n",
      "clickhouse: fraxtal\n"
     ]
    }
   ],
   "source": [
    "# Run Clickhouse\n",
    "print('     clickhouse runs')\n",
    "ch_dfs = []\n",
    "with open(os.path.join(\"inputs/sql/goldsky_bychain.sql\"), \"r\") as file:\n",
    "                        og_query = file.read()\n",
    "\n",
    "for chain in clickhouse_configs:\n",
    "        print(     'clickhouse: ' + chain['blockchain'])\n",
    "        query = og_query\n",
    "        #Pass in Params to the query\n",
    "        query = query.replace(\"@blockchain@\", chain['blockchain'])\n",
    "        query = query.replace(\"@name@\", chain['name'])\n",
    "        query = query.replace(\"@layer@\", chain['layer'])\n",
    "        query = query.replace(\"@trailing_days@\", str(chain['trailing_days']))\n",
    "        \n",
    "        df = ch_client.query_df(query)\n",
    "\n",
    "        ch_dfs.append(df)\n",
    "\n",
    "ch = pd.concat(ch_dfs)\n",
    "ch['source'] = 'goldsky'\n",
    "ch['dt'] = pd.to_datetime(ch['dt']).dt.tz_localize(None)\n",
    "ch = ch[['dt','blockchain','name','layer','num_qualified_txs','source']]"
   ]
  },
  {
   "cell_type": "code",
   "execution_count": 7,
   "metadata": {
    "metadata": {}
   },
   "outputs": [],
   "source": [
    "# Step 1: Filter dune_df for chains not in flip\n",
    "filtered_dune_df = dune_df[~dune_df['blockchain'].isin(flip['blockchain'])]\n",
    "# Step 2: Union flip and filtered_dune_df\n",
    "combined_flip_dune = pd.concat([flip, filtered_dune_df])\n",
    "# Step 3: Filter ch for chains not in combined_flip_dune\n",
    "filtered_ch = ch[~ch['blockchain'].isin(combined_flip_dune['blockchain'])]\n",
    "# Step 4: Union the result with filtered_ch\n",
    "final_df = pd.concat([combined_flip_dune, filtered_ch])\n",
    "# final_df\n"
   ]
  },
  {
   "cell_type": "code",
   "execution_count": 8,
   "metadata": {
    "metadata": {}
   },
   "outputs": [],
   "source": [
    "opstack_metadata = pd.read_csv('../op_chains_tracking/outputs/chain_metadata.csv')\n",
    "\n",
    "opstack_metadata['display_name_lower'] = opstack_metadata['display_name'].str.lower()\n",
    "final_df['display_name_lower'] = final_df['name'].str.lower()\n",
    "\n",
    "meta_cols = ['is_op_chain','mainnet_chain_id','op_based_version', 'alignment','chain_name', 'display_name','display_name_lower']\n",
    "\n",
    "final_enriched_df = final_df.merge(opstack_metadata[meta_cols], on='display_name_lower', how = 'left')\n",
    "final_enriched_df['alignment'] = final_enriched_df['alignment'].fillna('Other EVMs')\n",
    "final_enriched_df['is_op_chain'] = final_enriched_df['is_op_chain'].fillna(False)\n",
    "final_enriched_df['display_name'] = final_enriched_df['display_name'].fillna(final_enriched_df['name'])\n",
    "\n",
    "final_enriched_df = final_enriched_df.drop(columns=['name'])"
   ]
  },
  {
   "cell_type": "code",
   "execution_count": 9,
   "metadata": {
    "metadata": {}
   },
   "outputs": [],
   "source": [
    "final_enriched_df.sort_values(by=['dt','blockchain'], ascending =[False, False], inplace = True)\n",
    "\n",
    "final_enriched_df.to_csv('outputs/'+query_name+'.csv', index=False)"
   ]
  },
  {
   "cell_type": "code",
   "execution_count": 10,
   "metadata": {},
   "outputs": [
    {
     "name": "stdout",
     "output_type": "stream",
     "text": [
      "File saved to: /Users/michaelsilberling/Documents/GitHub/op-analytics/other_chains_tracking/../helper_functions/../data_warehouse_uploads/files_to_upload/daily_evms_qualified_txs_counts.csv\n"
     ]
    }
   ],
   "source": [
    "#BQ Upload\n",
    "bqu.write_df_to_bq_table(final_enriched_df, query_name)"
   ]
  }
 ],
 "metadata": {
  "kernelspec": {
   "display_name": "new-env",
   "language": "python",
   "name": "python3"
  },
  "language_info": {
   "codemirror_mode": {
    "name": "ipython",
    "version": 3
   },
   "file_extension": ".py",
   "mimetype": "text/x-python",
   "name": "python",
   "nbconvert_exporter": "python",
   "pygments_lexer": "ipython3",
   "version": "3.10.11"
  }
 },
 "nbformat": 4,
 "nbformat_minor": 2
}
