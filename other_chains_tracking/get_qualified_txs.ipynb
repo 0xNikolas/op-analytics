{
 "cells": [
  {
   "cell_type": "code",
   "execution_count": 1,
   "metadata": {
    "metadata": {}
   },
   "outputs": [
    {
     "name": "stdout",
     "output_type": "stream",
     "text": [
      "get qualified txs\n"
     ]
    }
   ],
   "source": [
    "print('get qualified txs')\n",
    "import sys\n",
    "sys.path.append(\"../helper_functions\")\n",
    "import duneapi_utils as d\n",
    "import flipside_utils as f\n",
    "import clickhouse_utils as ch\n",
    "import csv_utils as cu\n",
    "import google_bq_utils as bqu\n",
    "import opstack_metadata_utils as ops\n",
    "sys.path.pop()\n",
    "\n",
    "import time\n",
    "\n",
    "import numpy as np\n",
    "import pandas as pd\n",
    "import os\n",
    "import clickhouse_connect as cc"
   ]
  },
  {
   "cell_type": "code",
   "execution_count": 2,
   "metadata": {},
   "outputs": [],
   "source": [
    "# d = ops.get_op_stack_metadata_by_data_source('flipside')\n",
    "chain_configs = ops.generate_op_stack_chain_config_query_list()\n",
    "\n",
    "chain_ids_string = ops.gen_chain_ids_list_for_param(chain_configs['mainnet_chain_id'])\n",
    "\n",
    "# display(chain_configs)"
   ]
  },
  {
   "cell_type": "code",
   "execution_count": 3,
   "metadata": {
    "metadata": {}
   },
   "outputs": [],
   "source": [
    "ch_client = ch.connect_to_clickhouse_db() #Default is OPLabs DB\n",
    "\n",
    "query_name = 'daily_evms_qualified_txs_counts'"
   ]
  },
  {
   "cell_type": "code",
   "execution_count": 4,
   "metadata": {},
   "outputs": [],
   "source": [
    "col_list = [\n",
    "        'dt','blockchain','name','layer','chain_id'\n",
    "        , 'num_raw_txs', 'num_success_txs','num_qualified_txs','source'\n",
    "        ]"
   ]
  },
  {
   "cell_type": "code",
   "execution_count": 5,
   "metadata": {
    "metadata": {}
   },
   "outputs": [],
   "source": [
    "trailing_days = 90\n",
    "\n",
    "flipside_configs = chain_configs[chain_configs['source'] == 'flipside']\n",
    "clickhouse_configs = chain_configs[chain_configs['source'] == 'oplabs']"
   ]
  },
  {
   "cell_type": "code",
   "execution_count": 6,
   "metadata": {
    "metadata": {}
   },
   "outputs": [
    {
     "name": "stdout",
     "output_type": "stream",
     "text": [
      "     flipside runs\n",
      "     flipside: blast\n"
     ]
    }
   ],
   "source": [
    "print('     flipside runs')\n",
    "flip_dfs = []\n",
    "\n",
    "with open(os.path.join(\"inputs/sql/flipside_bychain.sql\"), \"r\") as file:\n",
    "    og_query = file.read()\n",
    "\n",
    "for index, chain in flipside_configs.iterrows():\n",
    "    print('     flipside: ' + chain['blockchain'])\n",
    "    query = og_query\n",
    "    # Pass in Params to the query\n",
    "    query = query.replace(\"@blockchain@\", chain['blockchain'])\n",
    "    query = query.replace(\"@chain_id@\", str(chain['mainnet_chain_id']))\n",
    "    query = query.replace(\"@name@\", chain['display_name'])\n",
    "    query = query.replace(\"@layer@\", chain['chain_layer'])\n",
    "    query = query.replace(\"@trailing_days@\", str(trailing_days))\n",
    "    \n",
    "    try:\n",
    "        df = f.query_to_df(query)\n",
    "        flip_dfs.append(df)\n",
    "    except Exception as e:  # Use FlipsideError if available instead of Exception\n",
    "        print(f\"Error querying Flipside for {chain['blockchain']}: {str(e)}\")\n",
    "        print(\"Skipping this chain due to API credit limitation or other issues.\")\n",
    "        continue\n",
    "\n",
    "if flip_dfs:\n",
    "    flip = pd.concat(flip_dfs)\n",
    "    flip['source'] = 'flipside'\n",
    "    flip['dt'] = pd.to_datetime(flip['dt']).dt.tz_localize(None)\n",
    "    flip = flip[col_list]\n",
    "else:\n",
    "    print(\"No data was retrieved from Flipside. The resulting DataFrame will be empty.\")\n",
    "    flip = pd.DataFrame(columns=col_list)"
   ]
  },
  {
   "cell_type": "code",
   "execution_count": 7,
   "metadata": {
    "metadata": {}
   },
   "outputs": [
    {
     "name": "stderr",
     "output_type": "stream",
     "text": [
      "\u001b[32m2024-07-11 17:13:54.941\u001b[0m | \u001b[1mINFO    \u001b[0m | \u001b[36mduneapi_utils\u001b[0m:\u001b[36mget_dune_data\u001b[0m:\u001b[36m58\u001b[0m - \u001b[1mResults available at https://dune.com/queries/3740822?trailing_days=90&list_chain_ids=10%2C8453%2C7777777%2C34443%2C1750%2C60808%2C185%2C252%2C7560%2C81457\u001b[0m\n"
     ]
    },
    {
     "name": "stdout",
     "output_type": "stream",
     "text": [
      "     dune runs\n"
     ]
    },
    {
     "name": "stderr",
     "output_type": "stream",
     "text": [
      "2024-07-11 17:13:55,997 INFO dune_client.api.base executing 3740822 on large cluster\n",
      "2024-07-11 17:13:56,569 INFO dune_client.api.base waiting for query execution 01J2HTAHTAZ12WJWDW94TYS7EP to complete: ExecutionState.PENDING (queue position: 2)\n",
      "2024-07-11 17:13:57,752 INFO dune_client.api.base waiting for query execution 01J2HTAHTAZ12WJWDW94TYS7EP to complete: ExecutionState.PENDING (queue position: 1)\n",
      "2024-07-11 17:13:58,930 INFO dune_client.api.base waiting for query execution 01J2HTAHTAZ12WJWDW94TYS7EP to complete: ExecutionState.PENDING (queue position: 1)\n",
      "2024-07-11 17:14:00,105 INFO dune_client.api.base waiting for query execution 01J2HTAHTAZ12WJWDW94TYS7EP to complete: ExecutionState.PENDING (queue position: 1)\n",
      "2024-07-11 17:14:01,274 INFO dune_client.api.base waiting for query execution 01J2HTAHTAZ12WJWDW94TYS7EP to complete: ExecutionState.PENDING (queue position: 1)\n",
      "2024-07-11 17:14:02,438 INFO dune_client.api.base waiting for query execution 01J2HTAHTAZ12WJWDW94TYS7EP to complete: ExecutionState.PENDING (queue position: 1)\n",
      "2024-07-11 17:14:03,600 INFO dune_client.api.base waiting for query execution 01J2HTAHTAZ12WJWDW94TYS7EP to complete: ExecutionState.PENDING (queue position: 1)\n",
      "2024-07-11 17:14:04,771 INFO dune_client.api.base waiting for query execution 01J2HTAHTAZ12WJWDW94TYS7EP to complete: ExecutionState.PENDING (queue position: 1)\n",
      "2024-07-11 17:14:05,946 INFO dune_client.api.base waiting for query execution 01J2HTAHTAZ12WJWDW94TYS7EP to complete: ExecutionState.PENDING (queue position: 1)\n",
      "2024-07-11 17:14:07,121 INFO dune_client.api.base waiting for query execution 01J2HTAHTAZ12WJWDW94TYS7EP to complete: ExecutionState.PENDING (queue position: 1)\n",
      "2024-07-11 17:14:08,287 INFO dune_client.api.base waiting for query execution 01J2HTAHTAZ12WJWDW94TYS7EP to complete: ExecutionState.EXECUTING\n",
      "2024-07-11 17:14:09,460 INFO dune_client.api.base waiting for query execution 01J2HTAHTAZ12WJWDW94TYS7EP to complete: ExecutionState.EXECUTING\n",
      "2024-07-11 17:14:10,631 INFO dune_client.api.base waiting for query execution 01J2HTAHTAZ12WJWDW94TYS7EP to complete: ExecutionState.EXECUTING\n",
      "2024-07-11 17:14:11,796 INFO dune_client.api.base waiting for query execution 01J2HTAHTAZ12WJWDW94TYS7EP to complete: ExecutionState.EXECUTING\n",
      "2024-07-11 17:14:12,966 INFO dune_client.api.base waiting for query execution 01J2HTAHTAZ12WJWDW94TYS7EP to complete: ExecutionState.EXECUTING\n",
      "2024-07-11 17:14:14,138 INFO dune_client.api.base waiting for query execution 01J2HTAHTAZ12WJWDW94TYS7EP to complete: ExecutionState.EXECUTING\n",
      "2024-07-11 17:14:15,311 INFO dune_client.api.base waiting for query execution 01J2HTAHTAZ12WJWDW94TYS7EP to complete: ExecutionState.EXECUTING\n",
      "2024-07-11 17:14:16,476 INFO dune_client.api.base waiting for query execution 01J2HTAHTAZ12WJWDW94TYS7EP to complete: ExecutionState.EXECUTING\n",
      "2024-07-11 17:14:17,646 INFO dune_client.api.base waiting for query execution 01J2HTAHTAZ12WJWDW94TYS7EP to complete: ExecutionState.EXECUTING\n",
      "2024-07-11 17:14:18,811 INFO dune_client.api.base waiting for query execution 01J2HTAHTAZ12WJWDW94TYS7EP to complete: ExecutionState.EXECUTING\n",
      "2024-07-11 17:14:19,983 INFO dune_client.api.base waiting for query execution 01J2HTAHTAZ12WJWDW94TYS7EP to complete: ExecutionState.EXECUTING\n",
      "2024-07-11 17:14:21,147 INFO dune_client.api.base waiting for query execution 01J2HTAHTAZ12WJWDW94TYS7EP to complete: ExecutionState.EXECUTING\n",
      "2024-07-11 17:14:22,316 INFO dune_client.api.base waiting for query execution 01J2HTAHTAZ12WJWDW94TYS7EP to complete: ExecutionState.EXECUTING\n",
      "2024-07-11 17:14:23,480 INFO dune_client.api.base waiting for query execution 01J2HTAHTAZ12WJWDW94TYS7EP to complete: ExecutionState.EXECUTING\n",
      "2024-07-11 17:14:24,650 INFO dune_client.api.base waiting for query execution 01J2HTAHTAZ12WJWDW94TYS7EP to complete: ExecutionState.EXECUTING\n",
      "2024-07-11 17:14:25,816 INFO dune_client.api.base waiting for query execution 01J2HTAHTAZ12WJWDW94TYS7EP to complete: ExecutionState.EXECUTING\n",
      "2024-07-11 17:14:26,982 INFO dune_client.api.base waiting for query execution 01J2HTAHTAZ12WJWDW94TYS7EP to complete: ExecutionState.EXECUTING\n",
      "2024-07-11 17:14:28,147 INFO dune_client.api.base waiting for query execution 01J2HTAHTAZ12WJWDW94TYS7EP to complete: ExecutionState.EXECUTING\n",
      "2024-07-11 17:14:29,322 INFO dune_client.api.base waiting for query execution 01J2HTAHTAZ12WJWDW94TYS7EP to complete: ExecutionState.EXECUTING\n",
      "2024-07-11 17:14:30,488 INFO dune_client.api.base waiting for query execution 01J2HTAHTAZ12WJWDW94TYS7EP to complete: ExecutionState.EXECUTING\n",
      "2024-07-11 17:14:31,659 INFO dune_client.api.base waiting for query execution 01J2HTAHTAZ12WJWDW94TYS7EP to complete: ExecutionState.EXECUTING\n",
      "2024-07-11 17:14:32,823 INFO dune_client.api.base waiting for query execution 01J2HTAHTAZ12WJWDW94TYS7EP to complete: ExecutionState.EXECUTING\n",
      "2024-07-11 17:14:33,985 INFO dune_client.api.base waiting for query execution 01J2HTAHTAZ12WJWDW94TYS7EP to complete: ExecutionState.EXECUTING\n",
      "2024-07-11 17:14:35,151 INFO dune_client.api.base waiting for query execution 01J2HTAHTAZ12WJWDW94TYS7EP to complete: ExecutionState.EXECUTING\n",
      "2024-07-11 17:14:36,313 INFO dune_client.api.base waiting for query execution 01J2HTAHTAZ12WJWDW94TYS7EP to complete: ExecutionState.EXECUTING\n",
      "2024-07-11 17:14:37,482 INFO dune_client.api.base waiting for query execution 01J2HTAHTAZ12WJWDW94TYS7EP to complete: ExecutionState.EXECUTING\n",
      "2024-07-11 17:14:38,648 INFO dune_client.api.base waiting for query execution 01J2HTAHTAZ12WJWDW94TYS7EP to complete: ExecutionState.EXECUTING\n",
      "2024-07-11 17:14:39,812 INFO dune_client.api.base waiting for query execution 01J2HTAHTAZ12WJWDW94TYS7EP to complete: ExecutionState.EXECUTING\n",
      "2024-07-11 17:14:40,978 INFO dune_client.api.base waiting for query execution 01J2HTAHTAZ12WJWDW94TYS7EP to complete: ExecutionState.EXECUTING\n",
      "2024-07-11 17:14:42,143 INFO dune_client.api.base waiting for query execution 01J2HTAHTAZ12WJWDW94TYS7EP to complete: ExecutionState.EXECUTING\n",
      "2024-07-11 17:14:43,307 INFO dune_client.api.base waiting for query execution 01J2HTAHTAZ12WJWDW94TYS7EP to complete: ExecutionState.EXECUTING\n",
      "2024-07-11 17:14:44,476 INFO dune_client.api.base waiting for query execution 01J2HTAHTAZ12WJWDW94TYS7EP to complete: ExecutionState.EXECUTING\n",
      "2024-07-11 17:14:45,648 INFO dune_client.api.base waiting for query execution 01J2HTAHTAZ12WJWDW94TYS7EP to complete: ExecutionState.EXECUTING\n",
      "2024-07-11 17:14:46,812 INFO dune_client.api.base waiting for query execution 01J2HTAHTAZ12WJWDW94TYS7EP to complete: ExecutionState.EXECUTING\n",
      "2024-07-11 17:14:47,984 INFO dune_client.api.base waiting for query execution 01J2HTAHTAZ12WJWDW94TYS7EP to complete: ExecutionState.EXECUTING\n",
      "2024-07-11 17:14:49,150 INFO dune_client.api.base waiting for query execution 01J2HTAHTAZ12WJWDW94TYS7EP to complete: ExecutionState.EXECUTING\n",
      "2024-07-11 17:14:50,325 INFO dune_client.api.base waiting for query execution 01J2HTAHTAZ12WJWDW94TYS7EP to complete: ExecutionState.EXECUTING\n",
      "2024-07-11 17:14:51,495 INFO dune_client.api.base waiting for query execution 01J2HTAHTAZ12WJWDW94TYS7EP to complete: ExecutionState.EXECUTING\n",
      "2024-07-11 17:14:52,663 INFO dune_client.api.base waiting for query execution 01J2HTAHTAZ12WJWDW94TYS7EP to complete: ExecutionState.EXECUTING\n",
      "2024-07-11 17:14:53,837 INFO dune_client.api.base waiting for query execution 01J2HTAHTAZ12WJWDW94TYS7EP to complete: ExecutionState.EXECUTING\n",
      "2024-07-11 17:14:55,089 INFO dune_client.api.base waiting for query execution 01J2HTAHTAZ12WJWDW94TYS7EP to complete: ExecutionState.EXECUTING\n",
      "2024-07-11 17:14:56,256 INFO dune_client.api.base waiting for query execution 01J2HTAHTAZ12WJWDW94TYS7EP to complete: ExecutionState.EXECUTING\n",
      "2024-07-11 17:14:57,424 INFO dune_client.api.base waiting for query execution 01J2HTAHTAZ12WJWDW94TYS7EP to complete: ExecutionState.EXECUTING\n",
      "2024-07-11 17:14:58,586 INFO dune_client.api.base waiting for query execution 01J2HTAHTAZ12WJWDW94TYS7EP to complete: ExecutionState.EXECUTING\n",
      "2024-07-11 17:14:59,757 INFO dune_client.api.base waiting for query execution 01J2HTAHTAZ12WJWDW94TYS7EP to complete: ExecutionState.EXECUTING\n",
      "2024-07-11 17:15:00,930 INFO dune_client.api.base waiting for query execution 01J2HTAHTAZ12WJWDW94TYS7EP to complete: ExecutionState.EXECUTING\n",
      "2024-07-11 17:15:02,100 INFO dune_client.api.base waiting for query execution 01J2HTAHTAZ12WJWDW94TYS7EP to complete: ExecutionState.EXECUTING\n",
      "2024-07-11 17:15:03,273 INFO dune_client.api.base waiting for query execution 01J2HTAHTAZ12WJWDW94TYS7EP to complete: ExecutionState.EXECUTING\n",
      "2024-07-11 17:15:04,445 INFO dune_client.api.base waiting for query execution 01J2HTAHTAZ12WJWDW94TYS7EP to complete: ExecutionState.EXECUTING\n",
      "2024-07-11 17:15:05,620 INFO dune_client.api.base waiting for query execution 01J2HTAHTAZ12WJWDW94TYS7EP to complete: ExecutionState.EXECUTING\n",
      "2024-07-11 17:15:06,785 INFO dune_client.api.base waiting for query execution 01J2HTAHTAZ12WJWDW94TYS7EP to complete: ExecutionState.EXECUTING\n",
      "2024-07-11 17:15:07,948 INFO dune_client.api.base waiting for query execution 01J2HTAHTAZ12WJWDW94TYS7EP to complete: ExecutionState.EXECUTING\n",
      "2024-07-11 17:15:09,112 INFO dune_client.api.base waiting for query execution 01J2HTAHTAZ12WJWDW94TYS7EP to complete: ExecutionState.EXECUTING\n",
      "2024-07-11 17:15:10,280 INFO dune_client.api.base waiting for query execution 01J2HTAHTAZ12WJWDW94TYS7EP to complete: ExecutionState.EXECUTING\n",
      "2024-07-11 17:15:11,451 INFO dune_client.api.base waiting for query execution 01J2HTAHTAZ12WJWDW94TYS7EP to complete: ExecutionState.EXECUTING\n",
      "2024-07-11 17:15:12,617 INFO dune_client.api.base waiting for query execution 01J2HTAHTAZ12WJWDW94TYS7EP to complete: ExecutionState.EXECUTING\n",
      "2024-07-11 17:15:13,785 INFO dune_client.api.base waiting for query execution 01J2HTAHTAZ12WJWDW94TYS7EP to complete: ExecutionState.EXECUTING\n",
      "2024-07-11 17:15:14,948 INFO dune_client.api.base waiting for query execution 01J2HTAHTAZ12WJWDW94TYS7EP to complete: ExecutionState.EXECUTING\n",
      "2024-07-11 17:15:16,110 INFO dune_client.api.base waiting for query execution 01J2HTAHTAZ12WJWDW94TYS7EP to complete: ExecutionState.EXECUTING\n",
      "2024-07-11 17:15:17,278 INFO dune_client.api.base waiting for query execution 01J2HTAHTAZ12WJWDW94TYS7EP to complete: ExecutionState.EXECUTING\n",
      "2024-07-11 17:15:18,444 INFO dune_client.api.base waiting for query execution 01J2HTAHTAZ12WJWDW94TYS7EP to complete: ExecutionState.EXECUTING\n",
      "2024-07-11 17:15:19,616 INFO dune_client.api.base waiting for query execution 01J2HTAHTAZ12WJWDW94TYS7EP to complete: ExecutionState.EXECUTING\n",
      "2024-07-11 17:15:20,779 INFO dune_client.api.base waiting for query execution 01J2HTAHTAZ12WJWDW94TYS7EP to complete: ExecutionState.EXECUTING\n",
      "2024-07-11 17:15:21,940 INFO dune_client.api.base waiting for query execution 01J2HTAHTAZ12WJWDW94TYS7EP to complete: ExecutionState.EXECUTING\n",
      "2024-07-11 17:15:23,108 INFO dune_client.api.base waiting for query execution 01J2HTAHTAZ12WJWDW94TYS7EP to complete: ExecutionState.EXECUTING\n",
      "2024-07-11 17:15:24,276 INFO dune_client.api.base waiting for query execution 01J2HTAHTAZ12WJWDW94TYS7EP to complete: ExecutionState.EXECUTING\n",
      "2024-07-11 17:15:25,448 INFO dune_client.api.base waiting for query execution 01J2HTAHTAZ12WJWDW94TYS7EP to complete: ExecutionState.EXECUTING\n",
      "2024-07-11 17:15:26,612 INFO dune_client.api.base waiting for query execution 01J2HTAHTAZ12WJWDW94TYS7EP to complete: ExecutionState.EXECUTING\n",
      "2024-07-11 17:15:27,778 INFO dune_client.api.base waiting for query execution 01J2HTAHTAZ12WJWDW94TYS7EP to complete: ExecutionState.EXECUTING\n",
      "2024-07-11 17:15:28,967 INFO dune_client.api.base waiting for query execution 01J2HTAHTAZ12WJWDW94TYS7EP to complete: ExecutionState.EXECUTING\n",
      "2024-07-11 17:15:30,134 INFO dune_client.api.base waiting for query execution 01J2HTAHTAZ12WJWDW94TYS7EP to complete: ExecutionState.EXECUTING\n",
      "2024-07-11 17:15:31,299 INFO dune_client.api.base waiting for query execution 01J2HTAHTAZ12WJWDW94TYS7EP to complete: ExecutionState.EXECUTING\n",
      "2024-07-11 17:15:32,466 INFO dune_client.api.base waiting for query execution 01J2HTAHTAZ12WJWDW94TYS7EP to complete: ExecutionState.EXECUTING\n",
      "2024-07-11 17:15:33,632 INFO dune_client.api.base waiting for query execution 01J2HTAHTAZ12WJWDW94TYS7EP to complete: ExecutionState.EXECUTING\n",
      "\u001b[32m2024-07-11 17:15:35.248\u001b[0m | \u001b[1mINFO    \u001b[0m | \u001b[36mduneapi_utils\u001b[0m:\u001b[36mget_dune_data\u001b[0m:\u001b[36m105\u001b[0m - \u001b[1m✨ Results saved as outputs/dune_evms_qualified_txs.csv, with 1183 rows and 9 columns.\u001b[0m\n"
     ]
    }
   ],
   "source": [
    "# Run Dune\n",
    "print('     dune runs')\n",
    "days_param = d.generate_query_parameter(input=trailing_days,field_name='trailing_days',dtype='number')\n",
    "chain_ids_param = d.generate_query_parameter(input=chain_ids_string,field_name='list_chain_ids',dtype='text')\n",
    "\n",
    "dune_df = d.get_dune_data(query_id = 3740822, #https://dune.com/queries/3740822\n",
    "    name = \"dune_evms_qualified_txs\",\n",
    "    path = \"outputs\",\n",
    "    performance=\"large\",\n",
    "    params = [days_param,chain_ids_param],\n",
    "    num_hours_to_rerun=0 #always rerun due to param\n",
    ")\n",
    "dune_df['source'] = 'dune'\n",
    "dune_df['dt'] = pd.to_datetime(dune_df['dt']).dt.tz_localize(None)\n",
    "dune_df = dune_df[col_list]"
   ]
  },
  {
   "cell_type": "code",
   "execution_count": 8,
   "metadata": {
    "metadata": {}
   },
   "outputs": [
    {
     "name": "stdout",
     "output_type": "stream",
     "text": [
      "     clickhouse runs\n"
     ]
    },
    {
     "ename": "TypeError",
     "evalue": "string indices must be integers, not 'str'",
     "output_type": "error",
     "traceback": [
      "\u001b[0;31m---------------------------------------------------------------------------\u001b[0m",
      "\u001b[0;31mTypeError\u001b[0m                                 Traceback (most recent call last)",
      "Cell \u001b[0;32mIn[8], line 8\u001b[0m\n\u001b[1;32m      5\u001b[0m                         og_query \u001b[38;5;241m=\u001b[39m file\u001b[38;5;241m.\u001b[39mread()\n\u001b[1;32m      7\u001b[0m \u001b[38;5;28;01mfor\u001b[39;00m chain \u001b[38;5;129;01min\u001b[39;00m clickhouse_configs:\n\u001b[0;32m----> 8\u001b[0m         \u001b[38;5;28mprint\u001b[39m(     \u001b[38;5;124m'\u001b[39m\u001b[38;5;124mclickhouse: \u001b[39m\u001b[38;5;124m'\u001b[39m \u001b[38;5;241m+\u001b[39m \u001b[43mchain\u001b[49m\u001b[43m[\u001b[49m\u001b[38;5;124;43m'\u001b[39;49m\u001b[38;5;124;43mblockchain\u001b[39;49m\u001b[38;5;124;43m'\u001b[39;49m\u001b[43m]\u001b[49m)\n\u001b[1;32m      9\u001b[0m         query \u001b[38;5;241m=\u001b[39m og_query\n\u001b[1;32m     10\u001b[0m         \u001b[38;5;66;03m#Pass in Params to the query\u001b[39;00m\n",
      "\u001b[0;31mTypeError\u001b[0m: string indices must be integers, not 'str'"
     ]
    }
   ],
   "source": [
    "# Run Clickhouse\n",
    "print('     clickhouse runs')\n",
    "ch_dfs = []\n",
    "with open(os.path.join(\"inputs/sql/goldsky_bychain.sql\"), \"r\") as file:\n",
    "                        og_query = file.read()\n",
    "\n",
    "for index, chain in clickhouse_configs.iterrows():\n",
    "        print(     'clickhouse: ' + chain['blockchain'])\n",
    "        query = og_query\n",
    "        #Pass in Params to the query\n",
    "        query = query.replace(\"@blockchain@\", chain['blockchain'])\n",
    "        if chain['blockchain'] == 'bob':\n",
    "                query = query.replace(\"chain_id, --db chain_id\", str(chain['chain_id']) + \" as chain_id,\")\n",
    "                # query = query.replace(\"@chain_id@\", str(chain['mainnet_chain_id']))\n",
    "        query = query.replace(\"@name@\", chain['display_name'])\n",
    "        query = query.replace(\"@layer@\", chain['chain_layer'])\n",
    "        query = query.replace(\"@trailing_days@\", str(trailing_days))\n",
    "        \n",
    "        df = ch_client.query_df(query)\n",
    "\n",
    "        ch_dfs.append(df)\n",
    "\n",
    "ch = pd.concat(ch_dfs)\n",
    "ch['source'] = 'goldsky'\n",
    "ch['dt'] = pd.to_datetime(ch['dt']).dt.tz_localize(None)\n",
    "ch = ch[col_list]"
   ]
  },
  {
   "cell_type": "code",
   "execution_count": null,
   "metadata": {
    "metadata": {}
   },
   "outputs": [],
   "source": [
    "# Combine dfs\n",
    "final_df = pd.concat([ch, flip, dune_df])\n",
    "\n",
    "# Remove Dupes\n",
    "final_df = final_df.drop_duplicates(subset=['chain_id','dt'], keep='first')"
   ]
  },
  {
   "cell_type": "code",
   "execution_count": null,
   "metadata": {},
   "outputs": [],
   "source": [
    "opstack_metadata = pd.read_csv('../op_chains_tracking/outputs/chain_metadata.csv')\n",
    "\n",
    "opstack_metadata['chain_id'] = opstack_metadata['mainnet_chain_id']\n",
    "\n",
    "meta_cols = ['is_op_chain','op_based_version', 'chain_id', 'alignment','chain_name', 'display_name']\n",
    "\n",
    "print(\"Columns in opstack_metadata:\", opstack_metadata.columns)\n",
    "print(\"Columns in opstack_metadata[meta_cols]:\", opstack_metadata[meta_cols].columns)\n",
    "print(\"Columns in final_df:\", final_df.columns)\n"
   ]
  },
  {
   "cell_type": "code",
   "execution_count": null,
   "metadata": {
    "metadata": {}
   },
   "outputs": [],
   "source": [
    "final_enriched_df = final_df.merge(opstack_metadata[meta_cols], on='chain_id', how = 'left')\n",
    "final_enriched_df['alignment'] = final_enriched_df['alignment'].fillna('Other EVMs')\n",
    "final_enriched_df['is_op_chain'] = final_enriched_df['is_op_chain'].fillna(False)\n",
    "final_enriched_df['display_name'] = final_enriched_df['display_name'].fillna(final_enriched_df['name'])\n",
    "\n",
    "final_enriched_df = final_enriched_df.drop(columns=['name'])"
   ]
  },
  {
   "cell_type": "code",
   "execution_count": null,
   "metadata": {
    "metadata": {}
   },
   "outputs": [],
   "source": [
    "final_enriched_df.sort_values(by=['dt','blockchain'], ascending =[False, False], inplace = True)\n",
    "\n",
    "final_enriched_df.to_csv('outputs/'+query_name+'.csv', index=False)"
   ]
  },
  {
   "cell_type": "code",
   "execution_count": null,
   "metadata": {},
   "outputs": [],
   "source": [
    "final_enriched_df['chain_id'] = final_enriched_df['chain_id'].astype(int)\n",
    "final_enriched_df['num_raw_txs'] = final_enriched_df['num_raw_txs'].astype(int)\n",
    "final_enriched_df['num_success_txs'] = final_enriched_df['num_success_txs'].astype(int)\n",
    "final_enriched_df['num_qualified_txs'] = final_enriched_df['num_qualified_txs'].astype(int)\n",
    "# final_enriched_df.dtypes"
   ]
  },
  {
   "cell_type": "code",
   "execution_count": null,
   "metadata": {},
   "outputs": [],
   "source": [
    "#BQ Upload\n",
    "bqu.append_and_upsert_df_to_bq_table(final_enriched_df, query_name, unique_keys = ['chain_id','dt'])"
   ]
  }
 ],
 "metadata": {
  "kernelspec": {
   "display_name": "new-env",
   "language": "python",
   "name": "python3"
  },
  "language_info": {
   "codemirror_mode": {
    "name": "ipython",
    "version": 3
   },
   "file_extension": ".py",
   "mimetype": "text/x-python",
   "name": "python",
   "nbconvert_exporter": "python",
   "pygments_lexer": "ipython3",
   "version": "3.12.3"
  }
 },
 "nbformat": 4,
 "nbformat_minor": 2
}
