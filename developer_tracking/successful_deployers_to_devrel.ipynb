{
 "cells": [
  {
   "cell_type": "code",
   "execution_count": 8,
   "metadata": {},
   "outputs": [],
   "source": [
    "import pandas as pd\n",
    "\n",
    "import sys\n",
    "sys.path.append(\"../helper_functions\")\n",
    "import duneapi_utils as d\n",
    "import airtable_utils as a\n",
    "import pandas_utils as p\n",
    "sys.path.pop()\n",
    "\n",
    "import dotenv\n",
    "import os\n",
    "dotenv.load_dotenv()\n",
    "\n",
    "rerun_query = 1\n",
    "\n",
    "at_base_id = os.environ[\"AIRTABLE_DEVREL_BASE_ID\"]"
   ]
  },
  {
   "cell_type": "code",
   "execution_count": 9,
   "metadata": {},
   "outputs": [
    {
     "name": "stderr",
     "output_type": "stream",
     "text": [
      "\u001b[32m2023-05-11 13:44:48.412\u001b[0m | \u001b[1mINFO    \u001b[0m | \u001b[36mduneapi_utils\u001b[0m:\u001b[36mget_dune_data\u001b[0m:\u001b[36m33\u001b[0m - \u001b[1mResults available at https://dune.com/queries/2457627\u001b[0m\n",
      "2023-05-11 13:44:50,404 INFO dune_client.base_client waiting for query execution 01H05YMRFM1FN8DTM694HN9AQA to complete: ExecutionState.EXECUTING\n",
      "2023-05-11 13:44:55,882 INFO dune_client.base_client waiting for query execution 01H05YMRFM1FN8DTM694HN9AQA to complete: ExecutionState.EXECUTING\n",
      "2023-05-11 13:45:01,373 INFO dune_client.base_client waiting for query execution 01H05YMRFM1FN8DTM694HN9AQA to complete: ExecutionState.EXECUTING\n",
      "2023-05-11 13:45:06,910 INFO dune_client.base_client waiting for query execution 01H05YMRFM1FN8DTM694HN9AQA to complete: ExecutionState.EXECUTING\n",
      "2023-05-11 13:45:12,429 INFO dune_client.base_client waiting for query execution 01H05YMRFM1FN8DTM694HN9AQA to complete: ExecutionState.EXECUTING\n",
      "2023-05-11 13:45:17,908 INFO dune_client.base_client waiting for query execution 01H05YMRFM1FN8DTM694HN9AQA to complete: ExecutionState.EXECUTING\n",
      "2023-05-11 13:45:23,410 INFO dune_client.base_client waiting for query execution 01H05YMRFM1FN8DTM694HN9AQA to complete: ExecutionState.EXECUTING\n",
      "2023-05-11 13:45:28,927 INFO dune_client.base_client waiting for query execution 01H05YMRFM1FN8DTM694HN9AQA to complete: ExecutionState.EXECUTING\n",
      "2023-05-11 13:45:34,416 INFO dune_client.base_client waiting for query execution 01H05YMRFM1FN8DTM694HN9AQA to complete: ExecutionState.EXECUTING\n",
      "2023-05-11 13:45:39,887 INFO dune_client.base_client waiting for query execution 01H05YMRFM1FN8DTM694HN9AQA to complete: ExecutionState.EXECUTING\n",
      "\u001b[32m2023-05-11 13:45:46.208\u001b[0m | \u001b[1mINFO    \u001b[0m | \u001b[36mduneapi_utils\u001b[0m:\u001b[36mget_dune_data\u001b[0m:\u001b[36m48\u001b[0m - \u001b[1m✨ Results saved as csv_outputs/Contract Deployments Usage Threshold - Creator List.csv, with 465 rows and 21 columns.\u001b[0m\n"
     ]
    }
   ],
   "source": [
    "if rerun_query == 0:\n",
    "    deployers = pd.read_csv('csv_outputs/Contract Deployments Usage Threshold - Creator List.csv')\n",
    "else:\n",
    "        # Dune query: https://dune.com/queries/2457627\n",
    "        deployers = d.get_dune_data(2457627, name = \"Contract Deployments Usage Threshold - Creator List\")"
   ]
  },
  {
   "cell_type": "code",
   "execution_count": 10,
   "metadata": {},
   "outputs": [
    {
     "ename": "KeyError",
     "evalue": "'Dt'",
     "output_type": "error",
     "traceback": [
      "\u001b[0;31m---------------------------------------------------------------------------\u001b[0m",
      "\u001b[0;31mKeyError\u001b[0m                                  Traceback (most recent call last)",
      "File \u001b[0;32m~/opt/anaconda3/envs/new-env/lib/python3.10/site-packages/pandas/core/indexes/base.py:3802\u001b[0m, in \u001b[0;36mIndex.get_loc\u001b[0;34m(self, key, method, tolerance)\u001b[0m\n\u001b[1;32m   3801\u001b[0m \u001b[39mtry\u001b[39;00m:\n\u001b[0;32m-> 3802\u001b[0m     \u001b[39mreturn\u001b[39;00m \u001b[39mself\u001b[39;49m\u001b[39m.\u001b[39;49m_engine\u001b[39m.\u001b[39;49mget_loc(casted_key)\n\u001b[1;32m   3803\u001b[0m \u001b[39mexcept\u001b[39;00m \u001b[39mKeyError\u001b[39;00m \u001b[39mas\u001b[39;00m err:\n",
      "File \u001b[0;32m~/opt/anaconda3/envs/new-env/lib/python3.10/site-packages/pandas/_libs/index.pyx:138\u001b[0m, in \u001b[0;36mpandas._libs.index.IndexEngine.get_loc\u001b[0;34m()\u001b[0m\n",
      "File \u001b[0;32m~/opt/anaconda3/envs/new-env/lib/python3.10/site-packages/pandas/_libs/index.pyx:165\u001b[0m, in \u001b[0;36mpandas._libs.index.IndexEngine.get_loc\u001b[0;34m()\u001b[0m\n",
      "File \u001b[0;32mpandas/_libs/hashtable_class_helper.pxi:5745\u001b[0m, in \u001b[0;36mpandas._libs.hashtable.PyObjectHashTable.get_item\u001b[0;34m()\u001b[0m\n",
      "File \u001b[0;32mpandas/_libs/hashtable_class_helper.pxi:5753\u001b[0m, in \u001b[0;36mpandas._libs.hashtable.PyObjectHashTable.get_item\u001b[0;34m()\u001b[0m\n",
      "\u001b[0;31mKeyError\u001b[0m: 'Dt'",
      "\nThe above exception was the direct cause of the following exception:\n",
      "\u001b[0;31mKeyError\u001b[0m                                  Traceback (most recent call last)",
      "Cell \u001b[0;32mIn[10], line 4\u001b[0m\n\u001b[1;32m      1\u001b[0m \u001b[39m#reformat col names\u001b[39;00m\n\u001b[1;32m      2\u001b[0m deployers \u001b[39m=\u001b[39m p\u001b[39m.\u001b[39mcsv_columns_to_formatted(deployers)\n\u001b[0;32m----> 4\u001b[0m datestr \u001b[39m=\u001b[39m p\u001b[39m.\u001b[39mget_datestring_from_datetime(deployers[\u001b[39m'\u001b[39;49m\u001b[39mDt\u001b[39;49m\u001b[39m'\u001b[39;49m]\u001b[39m.\u001b[39miloc[\u001b[39m0\u001b[39m])\n\u001b[1;32m      5\u001b[0m datestr \u001b[39m=\u001b[39m datestr\u001b[39m.\u001b[39mreplace(\u001b[39m'\u001b[39m\u001b[39m-\u001b[39m\u001b[39m'\u001b[39m, \u001b[39m'\u001b[39m\u001b[39m_\u001b[39m\u001b[39m'\u001b[39m)\n\u001b[1;32m      7\u001b[0m p\u001b[39m.\u001b[39mmkdir_if_not_exists(\u001b[39m'\u001b[39m\u001b[39muploads\u001b[39m\u001b[39m'\u001b[39m)\n",
      "File \u001b[0;32m~/opt/anaconda3/envs/new-env/lib/python3.10/site-packages/pandas/core/frame.py:3807\u001b[0m, in \u001b[0;36mDataFrame.__getitem__\u001b[0;34m(self, key)\u001b[0m\n\u001b[1;32m   3805\u001b[0m \u001b[39mif\u001b[39;00m \u001b[39mself\u001b[39m\u001b[39m.\u001b[39mcolumns\u001b[39m.\u001b[39mnlevels \u001b[39m>\u001b[39m \u001b[39m1\u001b[39m:\n\u001b[1;32m   3806\u001b[0m     \u001b[39mreturn\u001b[39;00m \u001b[39mself\u001b[39m\u001b[39m.\u001b[39m_getitem_multilevel(key)\n\u001b[0;32m-> 3807\u001b[0m indexer \u001b[39m=\u001b[39m \u001b[39mself\u001b[39;49m\u001b[39m.\u001b[39;49mcolumns\u001b[39m.\u001b[39;49mget_loc(key)\n\u001b[1;32m   3808\u001b[0m \u001b[39mif\u001b[39;00m is_integer(indexer):\n\u001b[1;32m   3809\u001b[0m     indexer \u001b[39m=\u001b[39m [indexer]\n",
      "File \u001b[0;32m~/opt/anaconda3/envs/new-env/lib/python3.10/site-packages/pandas/core/indexes/base.py:3804\u001b[0m, in \u001b[0;36mIndex.get_loc\u001b[0;34m(self, key, method, tolerance)\u001b[0m\n\u001b[1;32m   3802\u001b[0m     \u001b[39mreturn\u001b[39;00m \u001b[39mself\u001b[39m\u001b[39m.\u001b[39m_engine\u001b[39m.\u001b[39mget_loc(casted_key)\n\u001b[1;32m   3803\u001b[0m \u001b[39mexcept\u001b[39;00m \u001b[39mKeyError\u001b[39;00m \u001b[39mas\u001b[39;00m err:\n\u001b[0;32m-> 3804\u001b[0m     \u001b[39mraise\u001b[39;00m \u001b[39mKeyError\u001b[39;00m(key) \u001b[39mfrom\u001b[39;00m \u001b[39merr\u001b[39;00m\n\u001b[1;32m   3805\u001b[0m \u001b[39mexcept\u001b[39;00m \u001b[39mTypeError\u001b[39;00m:\n\u001b[1;32m   3806\u001b[0m     \u001b[39m# If we have a listlike key, _check_indexing_error will raise\u001b[39;00m\n\u001b[1;32m   3807\u001b[0m     \u001b[39m#  InvalidIndexError. Otherwise we fall through and re-raise\u001b[39;00m\n\u001b[1;32m   3808\u001b[0m     \u001b[39m#  the TypeError.\u001b[39;00m\n\u001b[1;32m   3809\u001b[0m     \u001b[39mself\u001b[39m\u001b[39m.\u001b[39m_check_indexing_error(key)\n",
      "\u001b[0;31mKeyError\u001b[0m: 'Dt'"
     ]
    }
   ],
   "source": [
    "#reformat col names\n",
    "deployers = p.csv_columns_to_formatted(deployers)\n",
    "\n",
    "datestr = p.get_datestring_from_datetime(deployers['Date'].iloc[0])\n",
    "datestr = datestr.replace('-', '_')\n",
    "\n",
    "p.mkdir_if_not_exists('uploads')\n",
    "deployers.to_csv('uploads/deployer_data_' + datestr + '.csv')"
   ]
  },
  {
   "cell_type": "code",
   "execution_count": null,
   "metadata": {},
   "outputs": [
    {
     "name": "stdout",
     "output_type": "stream",
     "text": [
      "The base 'appQ2S9IatldkoNQw' doesn't exist, create it in the Airtable UI.\n"
     ]
    }
   ],
   "source": [
    "a.update_database(at_base_id,'OP Deployer Data', deployers)"
   ]
  }
 ],
 "metadata": {
  "kernelspec": {
   "display_name": "new-env",
   "language": "python",
   "name": "python3"
  },
  "language_info": {
   "codemirror_mode": {
    "name": "ipython",
    "version": 3
   },
   "file_extension": ".py",
   "mimetype": "text/x-python",
   "name": "python",
   "nbconvert_exporter": "python",
   "pygments_lexer": "ipython3",
   "version": "3.10.11"
  },
  "orig_nbformat": 4
 },
 "nbformat": 4,
 "nbformat_minor": 2
}
