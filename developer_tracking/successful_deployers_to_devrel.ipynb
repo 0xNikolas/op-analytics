{
 "cells": [
  {
   "cell_type": "code",
   "execution_count": 13,
   "metadata": {},
   "outputs": [],
   "source": [
    "import pandas as pd\n",
    "\n",
    "import sys\n",
    "sys.path.append(\"../helper_functions\")\n",
    "import duneapi_utils as d\n",
    "import airtable_utils as a\n",
    "import pandas_utils as p\n",
    "sys.path.pop()\n",
    "\n",
    "import dotenv\n",
    "import os\n",
    "dotenv.load_dotenv()\n",
    "\n",
    "rerun_query = 1\n",
    "\n",
    "at_base_id = os.environ[\"AIRTABLE_DEVREL_BASE_ID\"]"
   ]
  },
  {
   "cell_type": "code",
   "execution_count": 14,
   "metadata": {},
   "outputs": [
    {
     "name": "stderr",
     "output_type": "stream",
     "text": [
      "\u001b[32m2023-05-12 14:42:27.231\u001b[0m | \u001b[1mINFO    \u001b[0m | \u001b[36mduneapi_utils\u001b[0m:\u001b[36mget_dune_data\u001b[0m:\u001b[36m33\u001b[0m - \u001b[1mResults available at https://dune.com/queries/2457627\u001b[0m\n",
      "2023-05-12 14:42:29,612 INFO dune_client.base_client waiting for query execution 01H08MB29PKH7ZQ04XGG5B39D4 to complete: ExecutionState.EXECUTING\n",
      "2023-05-12 14:42:35,074 INFO dune_client.base_client waiting for query execution 01H08MB29PKH7ZQ04XGG5B39D4 to complete: ExecutionState.EXECUTING\n",
      "2023-05-12 14:42:40,534 INFO dune_client.base_client waiting for query execution 01H08MB29PKH7ZQ04XGG5B39D4 to complete: ExecutionState.EXECUTING\n",
      "2023-05-12 14:42:46,032 INFO dune_client.base_client waiting for query execution 01H08MB29PKH7ZQ04XGG5B39D4 to complete: ExecutionState.EXECUTING\n",
      "2023-05-12 14:42:51,511 INFO dune_client.base_client waiting for query execution 01H08MB29PKH7ZQ04XGG5B39D4 to complete: ExecutionState.EXECUTING\n",
      "2023-05-12 14:42:56,984 INFO dune_client.base_client waiting for query execution 01H08MB29PKH7ZQ04XGG5B39D4 to complete: ExecutionState.EXECUTING\n",
      "2023-05-12 14:43:02,465 INFO dune_client.base_client waiting for query execution 01H08MB29PKH7ZQ04XGG5B39D4 to complete: ExecutionState.EXECUTING\n",
      "2023-05-12 14:43:07,957 INFO dune_client.base_client waiting for query execution 01H08MB29PKH7ZQ04XGG5B39D4 to complete: ExecutionState.EXECUTING\n",
      "2023-05-12 14:43:13,422 INFO dune_client.base_client waiting for query execution 01H08MB29PKH7ZQ04XGG5B39D4 to complete: ExecutionState.EXECUTING\n",
      "2023-05-12 14:43:18,895 INFO dune_client.base_client waiting for query execution 01H08MB29PKH7ZQ04XGG5B39D4 to complete: ExecutionState.EXECUTING\n",
      "2023-05-12 14:43:24,359 INFO dune_client.base_client waiting for query execution 01H08MB29PKH7ZQ04XGG5B39D4 to complete: ExecutionState.EXECUTING\n",
      "2023-05-12 14:43:29,813 INFO dune_client.base_client waiting for query execution 01H08MB29PKH7ZQ04XGG5B39D4 to complete: ExecutionState.EXECUTING\n",
      "2023-05-12 14:43:35,281 INFO dune_client.base_client waiting for query execution 01H08MB29PKH7ZQ04XGG5B39D4 to complete: ExecutionState.EXECUTING\n",
      "2023-05-12 14:43:40,747 INFO dune_client.base_client waiting for query execution 01H08MB29PKH7ZQ04XGG5B39D4 to complete: ExecutionState.EXECUTING\n",
      "2023-05-12 14:43:47,411 INFO dune_client.base_client waiting for query execution 01H08MB29PKH7ZQ04XGG5B39D4 to complete: ExecutionState.EXECUTING\n",
      "2023-05-12 14:43:52,912 INFO dune_client.base_client waiting for query execution 01H08MB29PKH7ZQ04XGG5B39D4 to complete: ExecutionState.EXECUTING\n",
      "2023-05-12 14:43:58,377 INFO dune_client.base_client waiting for query execution 01H08MB29PKH7ZQ04XGG5B39D4 to complete: ExecutionState.EXECUTING\n",
      "2023-05-12 14:44:03,859 INFO dune_client.base_client waiting for query execution 01H08MB29PKH7ZQ04XGG5B39D4 to complete: ExecutionState.EXECUTING\n",
      "2023-05-12 14:44:09,338 INFO dune_client.base_client waiting for query execution 01H08MB29PKH7ZQ04XGG5B39D4 to complete: ExecutionState.EXECUTING\n",
      "2023-05-12 14:44:14,811 INFO dune_client.base_client waiting for query execution 01H08MB29PKH7ZQ04XGG5B39D4 to complete: ExecutionState.EXECUTING\n",
      "2023-05-12 14:44:20,268 INFO dune_client.base_client waiting for query execution 01H08MB29PKH7ZQ04XGG5B39D4 to complete: ExecutionState.EXECUTING\n",
      "2023-05-12 14:44:25,737 INFO dune_client.base_client waiting for query execution 01H08MB29PKH7ZQ04XGG5B39D4 to complete: ExecutionState.EXECUTING\n",
      "2023-05-12 14:44:31,201 INFO dune_client.base_client waiting for query execution 01H08MB29PKH7ZQ04XGG5B39D4 to complete: ExecutionState.EXECUTING\n",
      "2023-05-12 14:44:36,620 INFO dune_client.base_client waiting for query execution 01H08MB29PKH7ZQ04XGG5B39D4 to complete: ExecutionState.EXECUTING\n",
      "2023-05-12 14:44:42,038 INFO dune_client.base_client waiting for query execution 01H08MB29PKH7ZQ04XGG5B39D4 to complete: ExecutionState.EXECUTING\n",
      "2023-05-12 14:44:47,505 INFO dune_client.base_client waiting for query execution 01H08MB29PKH7ZQ04XGG5B39D4 to complete: ExecutionState.EXECUTING\n",
      "2023-05-12 14:44:52,958 INFO dune_client.base_client waiting for query execution 01H08MB29PKH7ZQ04XGG5B39D4 to complete: ExecutionState.EXECUTING\n",
      "2023-05-12 14:44:58,451 INFO dune_client.base_client waiting for query execution 01H08MB29PKH7ZQ04XGG5B39D4 to complete: ExecutionState.EXECUTING\n",
      "2023-05-12 14:45:05,075 INFO dune_client.base_client waiting for query execution 01H08MB29PKH7ZQ04XGG5B39D4 to complete: ExecutionState.EXECUTING\n",
      "2023-05-12 14:45:10,531 INFO dune_client.base_client waiting for query execution 01H08MB29PKH7ZQ04XGG5B39D4 to complete: ExecutionState.EXECUTING\n",
      "2023-05-12 14:45:16,030 INFO dune_client.base_client waiting for query execution 01H08MB29PKH7ZQ04XGG5B39D4 to complete: ExecutionState.EXECUTING\n",
      "2023-05-12 14:45:21,485 INFO dune_client.base_client waiting for query execution 01H08MB29PKH7ZQ04XGG5B39D4 to complete: ExecutionState.EXECUTING\n",
      "2023-05-12 14:45:26,954 INFO dune_client.base_client waiting for query execution 01H08MB29PKH7ZQ04XGG5B39D4 to complete: ExecutionState.EXECUTING\n",
      "2023-05-12 14:45:32,423 INFO dune_client.base_client waiting for query execution 01H08MB29PKH7ZQ04XGG5B39D4 to complete: ExecutionState.EXECUTING\n",
      "2023-05-12 14:45:37,910 INFO dune_client.base_client waiting for query execution 01H08MB29PKH7ZQ04XGG5B39D4 to complete: ExecutionState.EXECUTING\n",
      "2023-05-12 14:45:43,394 INFO dune_client.base_client waiting for query execution 01H08MB29PKH7ZQ04XGG5B39D4 to complete: ExecutionState.EXECUTING\n",
      "2023-05-12 14:45:48,865 INFO dune_client.base_client waiting for query execution 01H08MB29PKH7ZQ04XGG5B39D4 to complete: ExecutionState.EXECUTING\n",
      "2023-05-12 14:45:54,352 INFO dune_client.base_client waiting for query execution 01H08MB29PKH7ZQ04XGG5B39D4 to complete: ExecutionState.EXECUTING\n",
      "2023-05-12 14:45:59,810 INFO dune_client.base_client waiting for query execution 01H08MB29PKH7ZQ04XGG5B39D4 to complete: ExecutionState.EXECUTING\n",
      "2023-05-12 14:46:05,227 INFO dune_client.base_client waiting for query execution 01H08MB29PKH7ZQ04XGG5B39D4 to complete: ExecutionState.EXECUTING\n",
      "2023-05-12 14:46:10,650 INFO dune_client.base_client waiting for query execution 01H08MB29PKH7ZQ04XGG5B39D4 to complete: ExecutionState.EXECUTING\n",
      "2023-05-12 14:46:16,123 INFO dune_client.base_client waiting for query execution 01H08MB29PKH7ZQ04XGG5B39D4 to complete: ExecutionState.EXECUTING\n",
      "2023-05-12 14:46:22,633 INFO dune_client.base_client waiting for query execution 01H08MB29PKH7ZQ04XGG5B39D4 to complete: ExecutionState.EXECUTING\n",
      "2023-05-12 14:46:28,081 INFO dune_client.base_client waiting for query execution 01H08MB29PKH7ZQ04XGG5B39D4 to complete: ExecutionState.EXECUTING\n",
      "2023-05-12 14:46:33,537 INFO dune_client.base_client waiting for query execution 01H08MB29PKH7ZQ04XGG5B39D4 to complete: ExecutionState.EXECUTING\n",
      "2023-05-12 14:46:38,991 INFO dune_client.base_client waiting for query execution 01H08MB29PKH7ZQ04XGG5B39D4 to complete: ExecutionState.EXECUTING\n",
      "2023-05-12 14:46:44,443 INFO dune_client.base_client waiting for query execution 01H08MB29PKH7ZQ04XGG5B39D4 to complete: ExecutionState.EXECUTING\n",
      "2023-05-12 14:46:49,904 INFO dune_client.base_client waiting for query execution 01H08MB29PKH7ZQ04XGG5B39D4 to complete: ExecutionState.EXECUTING\n",
      "\u001b[32m2023-05-12 14:46:56.398\u001b[0m | \u001b[1mINFO    \u001b[0m | \u001b[36mduneapi_utils\u001b[0m:\u001b[36mget_dune_data\u001b[0m:\u001b[36m48\u001b[0m - \u001b[1m✨ Results saved as csv_outputs/Contract Deployments Usage Threshold - Creator List.csv, with 829 rows and 23 columns.\u001b[0m\n"
     ]
    }
   ],
   "source": [
    "if rerun_query == 0:\n",
    "    deployers = pd.read_csv('csv_outputs/Contract Deployments Usage Threshold - Creator List.csv')\n",
    "else:\n",
    "        # Dune query: https://dune.com/queries/2457627\n",
    "        deployers = d.get_dune_data(2457627, name = \"Contract Deployments Usage Threshold - Creator List\")"
   ]
  },
  {
   "cell_type": "code",
   "execution_count": 15,
   "metadata": {},
   "outputs": [],
   "source": [
    "#reformat col names\n",
    "deployers = p.csv_columns_to_formatted(deployers)\n",
    "\n",
    "datestr = p.get_datestring_from_datetime(deployers['Date'].iloc[0])\n",
    "datestr = datestr.replace('-', '_')\n",
    "\n",
    "p.mkdir_if_not_exists('uploads')\n",
    "deployers.to_csv('uploads/deployer_data_' + datestr + '.csv', index=False)"
   ]
  },
  {
   "cell_type": "code",
   "execution_count": 16,
   "metadata": {},
   "outputs": [
    {
     "name": "stdout",
     "output_type": "stream",
     "text": [
      "The base 'appQ2S9IatldkoNQw' doesn't exist, create it in the Airtable UI.\n"
     ]
    }
   ],
   "source": [
    "a.update_database(at_base_id,'OP Deployer Data', deployers)"
   ]
  }
 ],
 "metadata": {
  "kernelspec": {
   "display_name": "new-env",
   "language": "python",
   "name": "python3"
  },
  "language_info": {
   "codemirror_mode": {
    "name": "ipython",
    "version": 3
   },
   "file_extension": ".py",
   "mimetype": "text/x-python",
   "name": "python",
   "nbconvert_exporter": "python",
   "pygments_lexer": "ipython3",
   "version": "3.10.11"
  },
  "orig_nbformat": 4
 },
 "nbformat": 4,
 "nbformat_minor": 2
}
